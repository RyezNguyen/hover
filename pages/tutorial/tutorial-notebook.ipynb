{
 "cells": [
  {
   "cell_type": "code",
   "execution_count": 1,
   "metadata": {},
   "outputs": [],
   "source": [
    "%load_ext autoreload\n",
    "%autoreload 2"
   ]
  },
  {
   "cell_type": "code",
   "execution_count": 2,
   "metadata": {},
   "outputs": [],
   "source": [
    "import sys\n",
    "sys.path.append('../../../')"
   ]
  },
  {
   "cell_type": "code",
   "execution_count": null,
   "metadata": {},
   "outputs": [],
   "source": [
    "from hover.core.dataset import SupervisableTextDataset\n",
    "import pandas as pd\n",
    "\n",
    "example_csv_path = \"https://raw.githubusercontent.com/phurwicz/hover-gallery/main/0.5.0/20_newsgroups_raw.csv\"\n",
    "raw_csv_path = \"/Users/harry/modules/hover-gallery/0.5.0/20_newsgroups_raw.csv\"\n",
    "train_csv_path = \"/Users/harry/modules/hover-gallery/0.5.0/20_newsgroups_train.csv\"\n",
    "dev_csv_path = \"/Users/harry/modules/hover-gallery/0.5.0/20_newsgroups_test.csv\"\n",
    "\n",
    "# for fast demonstration purpose, sample the data\n",
    "df_raw = pd.read_csv(raw_csv_path).sample(2000)\n",
    "df_train = pd.read_csv(train_csv_path).sample(2000)\n",
    "df_dev = pd.read_csv(dev_csv_path).sample(2000)\n",
    "\n",
    "# data is divided into 4 subsets: \"raw\" / \"train\" / \"dev\" / \"test\"\n",
    "# this example assumes no labeled data available., i.e. only \"raw\"\n",
    "df_raw[\"SUBSET\"] = \"raw\"\n",
    "df_train[\"SUBSET\"] = \"train\"\n",
    "df_dev[\"SUBSET\"] = \"dev\"\n",
    "df = pd.concat([df_raw, df_train, df_dev], axis=0)\n",
    "df[\"text\"] = df[\"text\"].apply(str)\n",
    "\n",
    "# this class stores the dataset throught the labeling process\n",
    "dataset = SupervisableTextDataset.from_pandas(df, feature_key=\"text\", label_key=\"label\")"
   ]
  },
  {
   "cell_type": "code",
   "execution_count": null,
   "metadata": {},
   "outputs": [],
   "source": [
    "import spacy\n",
    "import re\n",
    "\n",
    "# use your preferred embedding for the task\n",
    "nlp = spacy.load(\"en_core_web_md\")\n",
    "\n",
    "# raw data (str in this case) -> np.array\n",
    "def vectorizer(text):\n",
    "    clean_text = re.sub(r\"[\\s]+\", r\" \", str(text))\n",
    "    return nlp(clean_text, disable=nlp.pipe_names).vector\n",
    "\n",
    "text = dataset.dfs[\"raw\"].loc[0, \"text\"]\n",
    "vec = vectorizer(text)\n",
    "print(f\"Text: {text}\")\n",
    "print(f\"Vector shape: {vec.shape}\")"
   ]
  },
  {
   "cell_type": "code",
   "execution_count": null,
   "metadata": {},
   "outputs": [],
   "source": [
    "# any kwargs will be passed onto the corresponding reduction\n",
    "# for umap: https://umap-learn.readthedocs.io/en/latest/parameters.html\n",
    "# for ivis: https://bering-ivis.readthedocs.io/en/latest/api.html\n",
    "dataset.compute_2d_embedding(vectorizer, \"umap\")\n",
    "\n",
    "# What we did adds 'x' and 'y' columns to the DataFrames in dataset.dfs\n",
    "# One could alternatively pre-compute these columns using any approach\n",
    "dataset.dfs[\"raw\"].head(5)"
   ]
  },
  {
   "cell_type": "code",
   "execution_count": null,
   "metadata": {},
   "outputs": [],
   "source": [
    "from hover.utils.snorkel_helper import labeling_function\n",
    "from hover import module_config\n",
    "import re\n",
    "\n",
    "\n",
    "@labeling_function(targets=[\"rec.autos\"])\n",
    "def auto_keywords(row):\n",
    "    flag = re.search(\n",
    "        r\"(?i)(diesel|gasoline|automobile|vehicle|drive|driving)\", row.text\n",
    "    )\n",
    "    return \"rec.autos\" if flag else module_config.ABSTAIN_DECODED\n",
    "\n",
    "\n",
    "@labeling_function(targets=[\"rec.sport.baseball\"])\n",
    "def baseball_keywords(row):\n",
    "    flag = re.search(r\"(?i)(baseball|stadium|\\ bat\\ |\\ base\\ )\", row.text)\n",
    "    return \"rec.sport.baseball\" if flag else module_config.ABSTAIN_DECODED\n",
    "\n",
    "\n",
    "@labeling_function(targets=[\"sci.crypt\"])\n",
    "def crypt_keywords(row):\n",
    "    flag = re.search(r\"(?i)(crypt|math|encode|decode|key)\", row.text)\n",
    "    return \"sci.crypt\" if flag else module_config.ABSTAIN_DECODED\n",
    "\n",
    "\n",
    "@labeling_function(targets=[\"talk.politics.guns\"])\n",
    "def guns_keywords(row):\n",
    "    flag = re.search(r\"(?i)(gun|rifle|ammunition|violence|shoot)\", row.text)\n",
    "    return \"talk.politics.guns\" if flag else module_config.ABSTAIN_DECODED\n",
    "\n",
    "\n",
    "@labeling_function(targets=[\"misc.forsale\"])\n",
    "def forsale_keywords(row):\n",
    "    flag = re.search(r\"(?i)(sale|deal|price|discount)\", row.text)\n",
    "    return \"misc.forsale\" if flag else module_config.ABSTAIN_DECODED\n",
    "\n",
    "\n",
    "LABELING_FUNCTIONS = [\n",
    "    auto_keywords,\n",
    "    baseball_keywords,\n",
    "    crypt_keywords,\n",
    "    guns_keywords,\n",
    "    forsale_keywords,\n",
    "]"
   ]
  },
  {
   "cell_type": "code",
   "execution_count": null,
   "metadata": {},
   "outputs": [],
   "source": [
    "@labeling_function(targets=[\"misc.forsale\"])\n",
    "def forsale_keywords_alt(row):\n",
    "    flag = re.search(r\"(?i)(sale|deal|price|discount|sell)\", row.text)\n",
    "    return \"misc.forsale\" if flag else module_config.ABSTAIN_DECODED\n",
    "\n",
    "LABELING_FUNCTIONS.append(forsale_keywords_alt)"
   ]
  },
  {
   "cell_type": "code",
   "execution_count": null,
   "metadata": {},
   "outputs": [],
   "source": [
    "from hover.recipes.experimental import snorkel_crosscheck\n",
    "from bokeh.io import show, output_notebook\n",
    "\n",
    "handle = snorkel_crosscheck(dataset.copy(), LABELING_FUNCTIONS, layout_style=\"vertical\")\n",
    "\n",
    "output_notebook()\n",
    "show(handle)"
   ]
  },
  {
   "cell_type": "code",
   "execution_count": null,
   "metadata": {},
   "outputs": [],
   "source": []
  }
 ],
 "metadata": {
  "kernelspec": {
   "display_name": "Python 3 (ipykernel)",
   "language": "python",
   "name": "python3"
  },
  "language_info": {
   "codemirror_mode": {
    "name": "ipython",
    "version": 3
   },
   "file_extension": ".py",
   "mimetype": "text/x-python",
   "name": "python",
   "nbconvert_exporter": "python",
   "pygments_lexer": "ipython3",
   "version": "3.9.7"
  }
 },
 "nbformat": 4,
 "nbformat_minor": 4
}
