{
 "cells": [
  {
   "cell_type": "markdown",
   "id": "a565c7d3",
   "metadata": {},
   "source": [
    "> `SupervisableDataset` holds your data throughout the labeling process.\n",
    ">\n",
    "> :speedboat: Let's take a look at its core mechanisms.\n",
    "\n",
    "-   <details open><summary>This page addresses **single components** of `hover`</summary>\n",
    "    For illustration, we are using code snippets to pick out specific widgets so that the documentation can explain what they do.\n",
    "\n",
    "    -   Please be aware that you won't need to get the widgets by code in an actual use case.\n",
    "    -   Typical usage deals with [recipes](../../tutorial/t1-active-learning) where the individual parts have been tied together.\n",
    "\n",
    "</details>\n",
    "\n",
    "-   <details open><summary>Dependencies for {== local environments ==}</summary>\n",
    "    When you run the code locally, you may need to install additional packages.\n",
    "\n",
    "    To render `bokeh` plots in Jupyter, you need:\n",
    "```shell\n",
    "    pip install jupyter_bokeh\n",
    "```\n",
    "\n",
    "    If you are using JupyterLab older than 3.0, use this instead ([reference](https://pypi.org/project/jupyter-bokeh/)):\n",
    "```shell\n",
    "    jupyter labextension install @jupyter-widgets/jupyterlab-manager\n",
    "    jupyter labextension install @bokeh/jupyter_bokeh\n",
    "```\n",
    "\n",
    "</details>\n",
    "\n",
    "## **Data Subsets**\n",
    "\n",
    "We place unlabeled data and labeled data in different subsets: \"raw\", \"train\", \"dev\", and \"test\". Unlabeled data start from the \"raw\" subset, and can be transferred to other subsets after it gets labeled.\n",
    "\n",
    "`SupervisableDataset` uses a \"population table\", `dataset.pop_table`, to show the size of each subset:"
   ]
  },
  {
   "cell_type": "code",
   "execution_count": 1,
   "id": "5ed5fe6e",
   "metadata": {
    "execution": {
     "iopub.execute_input": "2023-10-10T01:21:49.892213Z",
     "iopub.status.busy": "2023-10-10T01:21:49.891641Z",
     "iopub.status.idle": "2023-10-10T01:21:51.582137Z",
     "shell.execute_reply": "2023-10-10T01:21:51.581432Z"
    }
   },
   "outputs": [
    {
     "data": {
      "text/html": [
       "<pre style=\"white-space:pre;overflow-x:auto;line-height:normal;font-family:Menlo,'DejaVu Sans Mono',consolas,'Courier New',monospace\"><span style=\"color: #000080; text-decoration-color: #000080\">🔵 SupervisableTextDataset: Initializing</span><span style=\"color: #808000; text-decoration-color: #808000\">...</span>\n",
       "</pre>\n"
      ],
      "text/plain": [
       "\u001b[34m🔵 SupervisableTextDataset: Initializing\u001b[0m\u001b[33m...\u001b[0m\n"
      ]
     },
     "metadata": {},
     "output_type": "display_data"
    },
    {
     "data": {
      "text/html": [
       "<pre style=\"white-space:pre;overflow-x:auto;line-height:normal;font-family:Menlo,'DejaVu Sans Mono',consolas,'Courier New',monospace\"><span style=\"color: #000080; text-decoration-color: #000080\">🔵 SupervisableTextDataset: Deduplicating</span><span style=\"color: #808000; text-decoration-color: #808000\">...</span>\n",
       "</pre>\n"
      ],
      "text/plain": [
       "\u001b[34m🔵 SupervisableTextDataset: Deduplicating\u001b[0m\u001b[33m...\u001b[0m\n"
      ]
     },
     "metadata": {},
     "output_type": "display_data"
    },
    {
     "data": {
      "text/html": [
       "<pre style=\"white-space:pre;overflow-x:auto;line-height:normal;font-family:Menlo,'DejaVu Sans Mono',consolas,'Courier New',monospace\"><span style=\"color: #000080; text-decoration-color: #000080\">🔵 SupervisableTextDataset: --subset raw rows: </span><span style=\"color: #008080; text-decoration-color: #008080; font-weight: bold\">400</span><span style=\"color: #000080; text-decoration-color: #000080\"> -&gt; </span><span style=\"color: #008080; text-decoration-color: #008080; font-weight: bold\">365</span><span style=\"color: #000080; text-decoration-color: #000080\">.</span>\n",
       "</pre>\n"
      ],
      "text/plain": [
       "\u001b[34m🔵 SupervisableTextDataset: --subset raw rows: \u001b[0m\u001b[1;36m400\u001b[0m\u001b[34m -> \u001b[0m\u001b[1;36m365\u001b[0m\u001b[34m.\u001b[0m\n"
      ]
     },
     "metadata": {},
     "output_type": "display_data"
    },
    {
     "data": {
      "text/html": [
       "<pre style=\"white-space:pre;overflow-x:auto;line-height:normal;font-family:Menlo,'DejaVu Sans Mono',consolas,'Courier New',monospace\"><span style=\"color: #000080; text-decoration-color: #000080\">🔵 SupervisableTextDataset: --subset train rows: </span><span style=\"color: #008080; text-decoration-color: #008080; font-weight: bold\">400</span><span style=\"color: #000080; text-decoration-color: #000080\"> -&gt; </span><span style=\"color: #008080; text-decoration-color: #008080; font-weight: bold\">386</span><span style=\"color: #000080; text-decoration-color: #000080\">.</span>\n",
       "</pre>\n"
      ],
      "text/plain": [
       "\u001b[34m🔵 SupervisableTextDataset: --subset train rows: \u001b[0m\u001b[1;36m400\u001b[0m\u001b[34m -> \u001b[0m\u001b[1;36m386\u001b[0m\u001b[34m.\u001b[0m\n"
      ]
     },
     "metadata": {},
     "output_type": "display_data"
    },
    {
     "data": {
      "text/html": [
       "<pre style=\"white-space:pre;overflow-x:auto;line-height:normal;font-family:Menlo,'DejaVu Sans Mono',consolas,'Courier New',monospace\"><span style=\"color: #000080; text-decoration-color: #000080\">🔵 SupervisableTextDataset: --subset dev rows: </span><span style=\"color: #008080; text-decoration-color: #008080; font-weight: bold\">100</span><span style=\"color: #000080; text-decoration-color: #000080\"> -&gt; </span><span style=\"color: #008080; text-decoration-color: #008080; font-weight: bold\">97</span><span style=\"color: #000080; text-decoration-color: #000080\">.</span>\n",
       "</pre>\n"
      ],
      "text/plain": [
       "\u001b[34m🔵 SupervisableTextDataset: --subset dev rows: \u001b[0m\u001b[1;36m100\u001b[0m\u001b[34m -> \u001b[0m\u001b[1;36m97\u001b[0m\u001b[34m.\u001b[0m\n"
      ]
     },
     "metadata": {},
     "output_type": "display_data"
    },
    {
     "data": {
      "text/html": [
       "<pre style=\"white-space:pre;overflow-x:auto;line-height:normal;font-family:Menlo,'DejaVu Sans Mono',consolas,'Courier New',monospace\"><span style=\"color: #000080; text-decoration-color: #000080\">🔵 SupervisableTextDataset: --subset test rows: </span><span style=\"color: #008080; text-decoration-color: #008080; font-weight: bold\">100</span><span style=\"color: #000080; text-decoration-color: #000080\"> -&gt; </span><span style=\"color: #008080; text-decoration-color: #008080; font-weight: bold\">100</span><span style=\"color: #000080; text-decoration-color: #000080\">.</span>\n",
       "</pre>\n"
      ],
      "text/plain": [
       "\u001b[34m🔵 SupervisableTextDataset: --subset test rows: \u001b[0m\u001b[1;36m100\u001b[0m\u001b[34m -> \u001b[0m\u001b[1;36m100\u001b[0m\u001b[34m.\u001b[0m\n"
      ]
     },
     "metadata": {},
     "output_type": "display_data"
    },
    {
     "data": {
      "text/html": [
       "<pre style=\"white-space:pre;overflow-x:auto;line-height:normal;font-family:Menlo,'DejaVu Sans Mono',consolas,'Courier New',monospace\"><span style=\"color: #008000; text-decoration-color: #008000\">🟢 SupervisableTextDataset: Set up label encoder/decoder with </span><span style=\"color: #008080; text-decoration-color: #008080; font-weight: bold\">20</span><span style=\"color: #008000; text-decoration-color: #008000\"> classes.</span>\n",
       "</pre>\n"
      ],
      "text/plain": [
       "\u001b[32m🟢 SupervisableTextDataset: Set up label encoder/decoder with \u001b[0m\u001b[1;36m20\u001b[0m\u001b[32m classes.\u001b[0m\n"
      ]
     },
     "metadata": {},
     "output_type": "display_data"
    },
    {
     "data": {
      "text/html": [
       "<pre style=\"white-space:pre;overflow-x:auto;line-height:normal;font-family:Menlo,'DejaVu Sans Mono',consolas,'Courier New',monospace\"><span style=\"color: #008000; text-decoration-color: #008000\">🟢 SupervisableTextDataset: Population updater: latest population with </span><span style=\"color: #008080; text-decoration-color: #008080; font-weight: bold\">20</span><span style=\"color: #008000; text-decoration-color: #008000\"> classes.</span>\n",
       "</pre>\n"
      ],
      "text/plain": [
       "\u001b[32m🟢 SupervisableTextDataset: Population updater: latest population with \u001b[0m\u001b[1;36m20\u001b[0m\u001b[32m classes.\u001b[0m\n"
      ]
     },
     "metadata": {},
     "output_type": "display_data"
    },
    {
     "data": {
      "text/html": [
       "<pre style=\"white-space:pre;overflow-x:auto;line-height:normal;font-family:Menlo,'DejaVu Sans Mono',consolas,'Courier New',monospace\"><span style=\"color: #000080; text-decoration-color: #000080\">🔵 SupervisableTextDataset: finished setting up bokeh elements.</span>\n",
       "</pre>\n"
      ],
      "text/plain": [
       "\u001b[34m🔵 SupervisableTextDataset: finished setting up bokeh elements.\u001b[0m\n"
      ]
     },
     "metadata": {},
     "output_type": "display_data"
    },
    {
     "data": {
      "text/html": [
       "<pre style=\"white-space:pre;overflow-x:auto;line-height:normal;font-family:Menlo,'DejaVu Sans Mono',consolas,'Courier New',monospace\"><span style=\"color: #008000; text-decoration-color: #008000\">🟢 SupervisableTextDataset: finished initialization.</span>\n",
       "</pre>\n"
      ],
      "text/plain": [
       "\u001b[32m🟢 SupervisableTextDataset: finished initialization.\u001b[0m\n"
      ]
     },
     "metadata": {},
     "output_type": "display_data"
    }
   ],
   "source": [
    "from hover.core.dataset import SupervisableTextDataset\n",
    "import pandas as pd\n",
    "\n",
    "raw_csv_path = \"https://raw.githubusercontent.com/phurwicz/hover-gallery/main/0.5.0/20_newsgroups_raw.csv\"\n",
    "train_csv_path = \"https://raw.githubusercontent.com/phurwicz/hover-gallery/main/0.5.0/20_newsgroups_train.csv\"\n",
    "\n",
    "# for fast, low-memory demonstration purpose, sample the data\n",
    "df_raw = pd.read_csv(raw_csv_path).sample(400)\n",
    "df_raw[\"SUBSET\"] = \"raw\"\n",
    "df_train = pd.read_csv(train_csv_path).sample(400)\n",
    "df_train[\"SUBSET\"] = \"train\"\n",
    "df_dev = pd.read_csv(train_csv_path).sample(100)\n",
    "df_dev[\"SUBSET\"] = \"dev\"\n",
    "df_test = pd.read_csv(train_csv_path).sample(100)\n",
    "df_test[\"SUBSET\"] = \"test\"\n",
    "\n",
    "# build overall dataframe and ensure feature type\n",
    "df = pd.concat([df_raw, df_train, df_dev, df_test])\n",
    "df[\"text\"] = df[\"text\"].astype(str)\n",
    "\n",
    "# this class stores the dataset throught the labeling process\n",
    "dataset = SupervisableTextDataset.from_pandas(df, feature_key=\"text\", label_key=\"label\")"
   ]
  },
  {
   "cell_type": "markdown",
   "id": "37012c12",
   "metadata": {},
   "source": [
    "<br>"
   ]
  },
  {
   "cell_type": "code",
   "execution_count": 2,
   "id": "cb8705d5",
   "metadata": {
    "execution": {
     "iopub.execute_input": "2023-10-10T01:21:51.585187Z",
     "iopub.status.busy": "2023-10-10T01:21:51.584895Z",
     "iopub.status.idle": "2023-10-10T01:21:51.649611Z",
     "shell.execute_reply": "2023-10-10T01:21:51.648964Z"
    }
   },
   "outputs": [
    {
     "data": {
      "text/html": [
       "<style>\n",
       "        .bk-notebook-logo {\n",
       "            display: block;\n",
       "            width: 20px;\n",
       "            height: 20px;\n",
       "            background-image: url(data:image/png;base64,iVBORw0KGgoAAAANSUhEUgAAABQAAAAUCAYAAACNiR0NAAAABHNCSVQICAgIfAhkiAAAAAlwSFlzAAALEgAACxIB0t1+/AAAABx0RVh0U29mdHdhcmUAQWRvYmUgRmlyZXdvcmtzIENTNui8sowAAAOkSURBVDiNjZRtaJVlGMd/1/08zzln5zjP1LWcU9N0NkN8m2CYjpgQYQXqSs0I84OLIC0hkEKoPtiH3gmKoiJDU7QpLgoLjLIQCpEsNJ1vqUOdO7ppbuec5+V+rj4ctwzd8IIbbi6u+8f1539dt3A78eXC7QizUF7gyV1fD1Yqg4JWz84yffhm0qkFqBogB9rM8tZdtwVsPUhWhGcFJngGeWrPzHm5oaMmkfEg1usvLFyc8jLRqDOMru7AyC8saQr7GG7f5fvDeH7Ej8CM66nIF+8yngt6HWaKh7k49Soy9nXurCi1o3qUbS3zWfrYeQDTB/Qj6kX6Ybhw4B+bOYoLKCC9H3Nu/leUTZ1JdRWkkn2ldcCamzrcf47KKXdAJllSlxAOkRgyHsGC/zRday5Qld9DyoM4/q/rUoy/CXh3jzOu3bHUVZeU+DEn8FInkPBFlu3+nW3Nw0mk6vCDiWg8CeJaxEwuHS3+z5RgY+YBR6V1Z1nxSOfoaPa4LASWxxdNp+VWTk7+4vzaou8v8PN+xo+KY2xsw6une2frhw05CTYOmQvsEhjhWjn0bmXPjpE1+kplmmkP3suftwTubK9Vq22qKmrBhpY4jvd5afdRA3wGjFAgcnTK2s4hY0/GPNIb0nErGMCRxWOOX64Z8RAC4oCXdklmEvcL8o0BfkNK4lUg9HTl+oPlQxdNo3Mg4Nv175e/1LDGzZen30MEjRUtmXSfiTVu1kK8W4txyV6BMKlbgk3lMwYCiusNy9fVfvvwMxv8Ynl6vxoByANLTWplvuj/nF9m2+PDtt1eiHPBr1oIfhCChQMBw6Aw0UulqTKZdfVvfG7VcfIqLG9bcldL/+pdWTLxLUy8Qq38heUIjh4XlzZxzQm19lLFlr8vdQ97rjZVOLf8nclzckbcD4wxXMidpX30sFd37Fv/GtwwhzhxGVAprjbg0gCAEeIgwCZyTV2Z1REEW8O4py0wsjeloKoMr6iCY6dP92H6Vw/oTyICIthibxjm/DfN9lVz8IqtqKYLUXfoKVMVQVVJOElGjrnnUt9T9wbgp8AyYKaGlqingHZU/uG2NTZSVqwHQTWkx9hxjkpWDaCg6Ckj5qebgBVbT3V3NNXMSiWSDdGV3hrtzla7J+duwPOToIg42ChPQOQjspnSlp1V+Gjdged7+8UN5CRAV7a5EdFNwCjEaBR27b3W890TE7g24NAP/mMDXRWrGoFPQI9ls/MWO2dWFAar/xcOIImbbpA3zgAAAABJRU5ErkJggg==);\n",
       "        }\n",
       "    </style>\n",
       "    <div>\n",
       "        <a href=\"https://bokeh.org\" target=\"_blank\" class=\"bk-notebook-logo\"></a>\n",
       "        <span id=\"b31e1f84-843d-4829-8db5-c1488e37f334\">Loading BokehJS ...</span>\n",
       "    </div>\n"
      ]
     },
     "metadata": {},
     "output_type": "display_data"
    },
    {
     "data": {
      "application/javascript": [
       "(function(root) {\n",
       "  function now() {\n",
       "    return new Date();\n",
       "  }\n",
       "\n",
       "  const force = true;\n",
       "\n",
       "  if (typeof root._bokeh_onload_callbacks === \"undefined\" || force === true) {\n",
       "    root._bokeh_onload_callbacks = [];\n",
       "    root._bokeh_is_loading = undefined;\n",
       "  }\n",
       "\n",
       "const JS_MIME_TYPE = 'application/javascript';\n",
       "  const HTML_MIME_TYPE = 'text/html';\n",
       "  const EXEC_MIME_TYPE = 'application/vnd.bokehjs_exec.v0+json';\n",
       "  const CLASS_NAME = 'output_bokeh rendered_html';\n",
       "\n",
       "  /**\n",
       "   * Render data to the DOM node\n",
       "   */\n",
       "  function render(props, node) {\n",
       "    const script = document.createElement(\"script\");\n",
       "    node.appendChild(script);\n",
       "  }\n",
       "\n",
       "  /**\n",
       "   * Handle when an output is cleared or removed\n",
       "   */\n",
       "  function handleClearOutput(event, handle) {\n",
       "    const cell = handle.cell;\n",
       "\n",
       "    const id = cell.output_area._bokeh_element_id;\n",
       "    const server_id = cell.output_area._bokeh_server_id;\n",
       "    // Clean up Bokeh references\n",
       "    if (id != null && id in Bokeh.index) {\n",
       "      Bokeh.index[id].model.document.clear();\n",
       "      delete Bokeh.index[id];\n",
       "    }\n",
       "\n",
       "    if (server_id !== undefined) {\n",
       "      // Clean up Bokeh references\n",
       "      const cmd_clean = \"from bokeh.io.state import curstate; print(curstate().uuid_to_server['\" + server_id + \"'].get_sessions()[0].document.roots[0]._id)\";\n",
       "      cell.notebook.kernel.execute(cmd_clean, {\n",
       "        iopub: {\n",
       "          output: function(msg) {\n",
       "            const id = msg.content.text.trim();\n",
       "            if (id in Bokeh.index) {\n",
       "              Bokeh.index[id].model.document.clear();\n",
       "              delete Bokeh.index[id];\n",
       "            }\n",
       "          }\n",
       "        }\n",
       "      });\n",
       "      // Destroy server and session\n",
       "      const cmd_destroy = \"import bokeh.io.notebook as ion; ion.destroy_server('\" + server_id + \"')\";\n",
       "      cell.notebook.kernel.execute(cmd_destroy);\n",
       "    }\n",
       "  }\n",
       "\n",
       "  /**\n",
       "   * Handle when a new output is added\n",
       "   */\n",
       "  function handleAddOutput(event, handle) {\n",
       "    const output_area = handle.output_area;\n",
       "    const output = handle.output;\n",
       "\n",
       "    // limit handleAddOutput to display_data with EXEC_MIME_TYPE content only\n",
       "    if ((output.output_type != \"display_data\") || (!Object.prototype.hasOwnProperty.call(output.data, EXEC_MIME_TYPE))) {\n",
       "      return\n",
       "    }\n",
       "\n",
       "    const toinsert = output_area.element.find(\".\" + CLASS_NAME.split(' ')[0]);\n",
       "\n",
       "    if (output.metadata[EXEC_MIME_TYPE][\"id\"] !== undefined) {\n",
       "      toinsert[toinsert.length - 1].firstChild.textContent = output.data[JS_MIME_TYPE];\n",
       "      // store reference to embed id on output_area\n",
       "      output_area._bokeh_element_id = output.metadata[EXEC_MIME_TYPE][\"id\"];\n",
       "    }\n",
       "    if (output.metadata[EXEC_MIME_TYPE][\"server_id\"] !== undefined) {\n",
       "      const bk_div = document.createElement(\"div\");\n",
       "      bk_div.innerHTML = output.data[HTML_MIME_TYPE];\n",
       "      const script_attrs = bk_div.children[0].attributes;\n",
       "      for (let i = 0; i < script_attrs.length; i++) {\n",
       "        toinsert[toinsert.length - 1].firstChild.setAttribute(script_attrs[i].name, script_attrs[i].value);\n",
       "        toinsert[toinsert.length - 1].firstChild.textContent = bk_div.children[0].textContent\n",
       "      }\n",
       "      // store reference to server id on output_area\n",
       "      output_area._bokeh_server_id = output.metadata[EXEC_MIME_TYPE][\"server_id\"];\n",
       "    }\n",
       "  }\n",
       "\n",
       "  function register_renderer(events, OutputArea) {\n",
       "\n",
       "    function append_mime(data, metadata, element) {\n",
       "      // create a DOM node to render to\n",
       "      const toinsert = this.create_output_subarea(\n",
       "        metadata,\n",
       "        CLASS_NAME,\n",
       "        EXEC_MIME_TYPE\n",
       "      );\n",
       "      this.keyboard_manager.register_events(toinsert);\n",
       "      // Render to node\n",
       "      const props = {data: data, metadata: metadata[EXEC_MIME_TYPE]};\n",
       "      render(props, toinsert[toinsert.length - 1]);\n",
       "      element.append(toinsert);\n",
       "      return toinsert\n",
       "    }\n",
       "\n",
       "    /* Handle when an output is cleared or removed */\n",
       "    events.on('clear_output.CodeCell', handleClearOutput);\n",
       "    events.on('delete.Cell', handleClearOutput);\n",
       "\n",
       "    /* Handle when a new output is added */\n",
       "    events.on('output_added.OutputArea', handleAddOutput);\n",
       "\n",
       "    /**\n",
       "     * Register the mime type and append_mime function with output_area\n",
       "     */\n",
       "    OutputArea.prototype.register_mime_type(EXEC_MIME_TYPE, append_mime, {\n",
       "      /* Is output safe? */\n",
       "      safe: true,\n",
       "      /* Index of renderer in `output_area.display_order` */\n",
       "      index: 0\n",
       "    });\n",
       "  }\n",
       "\n",
       "  // register the mime type if in Jupyter Notebook environment and previously unregistered\n",
       "  if (root.Jupyter !== undefined) {\n",
       "    const events = require('base/js/events');\n",
       "    const OutputArea = require('notebook/js/outputarea').OutputArea;\n",
       "\n",
       "    if (OutputArea.prototype.mime_types().indexOf(EXEC_MIME_TYPE) == -1) {\n",
       "      register_renderer(events, OutputArea);\n",
       "    }\n",
       "  }\n",
       "  if (typeof (root._bokeh_timeout) === \"undefined\" || force === true) {\n",
       "    root._bokeh_timeout = Date.now() + 5000;\n",
       "    root._bokeh_failed_load = false;\n",
       "  }\n",
       "\n",
       "  const NB_LOAD_WARNING = {'data': {'text/html':\n",
       "     \"<div style='background-color: #fdd'>\\n\"+\n",
       "     \"<p>\\n\"+\n",
       "     \"BokehJS does not appear to have successfully loaded. If loading BokehJS from CDN, this \\n\"+\n",
       "     \"may be due to a slow or bad network connection. Possible fixes:\\n\"+\n",
       "     \"</p>\\n\"+\n",
       "     \"<ul>\\n\"+\n",
       "     \"<li>re-rerun `output_notebook()` to attempt to load from CDN again, or</li>\\n\"+\n",
       "     \"<li>use INLINE resources instead, as so:</li>\\n\"+\n",
       "     \"</ul>\\n\"+\n",
       "     \"<code>\\n\"+\n",
       "     \"from bokeh.resources import INLINE\\n\"+\n",
       "     \"output_notebook(resources=INLINE)\\n\"+\n",
       "     \"</code>\\n\"+\n",
       "     \"</div>\"}};\n",
       "\n",
       "  function display_loaded() {\n",
       "    const el = document.getElementById(\"b31e1f84-843d-4829-8db5-c1488e37f334\");\n",
       "    if (el != null) {\n",
       "      el.textContent = \"BokehJS is loading...\";\n",
       "    }\n",
       "    if (root.Bokeh !== undefined) {\n",
       "      if (el != null) {\n",
       "        el.textContent = \"BokehJS \" + root.Bokeh.version + \" successfully loaded.\";\n",
       "      }\n",
       "    } else if (Date.now() < root._bokeh_timeout) {\n",
       "      setTimeout(display_loaded, 100)\n",
       "    }\n",
       "  }\n",
       "\n",
       "  function run_callbacks() {\n",
       "    try {\n",
       "      root._bokeh_onload_callbacks.forEach(function(callback) {\n",
       "        if (callback != null)\n",
       "          callback();\n",
       "      });\n",
       "    } finally {\n",
       "      delete root._bokeh_onload_callbacks\n",
       "    }\n",
       "    console.debug(\"Bokeh: all callbacks have finished\");\n",
       "  }\n",
       "\n",
       "  function load_libs(css_urls, js_urls, callback) {\n",
       "    if (css_urls == null) css_urls = [];\n",
       "    if (js_urls == null) js_urls = [];\n",
       "\n",
       "    root._bokeh_onload_callbacks.push(callback);\n",
       "    if (root._bokeh_is_loading > 0) {\n",
       "      console.debug(\"Bokeh: BokehJS is being loaded, scheduling callback at\", now());\n",
       "      return null;\n",
       "    }\n",
       "    if (js_urls == null || js_urls.length === 0) {\n",
       "      run_callbacks();\n",
       "      return null;\n",
       "    }\n",
       "    console.debug(\"Bokeh: BokehJS not loaded, scheduling load and callback at\", now());\n",
       "    root._bokeh_is_loading = css_urls.length + js_urls.length;\n",
       "\n",
       "    function on_load() {\n",
       "      root._bokeh_is_loading--;\n",
       "      if (root._bokeh_is_loading === 0) {\n",
       "        console.debug(\"Bokeh: all BokehJS libraries/stylesheets loaded\");\n",
       "        run_callbacks()\n",
       "      }\n",
       "    }\n",
       "\n",
       "    function on_error(url) {\n",
       "      console.error(\"failed to load \" + url);\n",
       "    }\n",
       "\n",
       "    for (let i = 0; i < css_urls.length; i++) {\n",
       "      const url = css_urls[i];\n",
       "      const element = document.createElement(\"link\");\n",
       "      element.onload = on_load;\n",
       "      element.onerror = on_error.bind(null, url);\n",
       "      element.rel = \"stylesheet\";\n",
       "      element.type = \"text/css\";\n",
       "      element.href = url;\n",
       "      console.debug(\"Bokeh: injecting link tag for BokehJS stylesheet: \", url);\n",
       "      document.body.appendChild(element);\n",
       "    }\n",
       "\n",
       "    for (let i = 0; i < js_urls.length; i++) {\n",
       "      const url = js_urls[i];\n",
       "      const element = document.createElement('script');\n",
       "      element.onload = on_load;\n",
       "      element.onerror = on_error.bind(null, url);\n",
       "      element.async = false;\n",
       "      element.src = url;\n",
       "      console.debug(\"Bokeh: injecting script tag for BokehJS library: \", url);\n",
       "      document.head.appendChild(element);\n",
       "    }\n",
       "  };\n",
       "\n",
       "  function inject_raw_css(css) {\n",
       "    const element = document.createElement(\"style\");\n",
       "    element.appendChild(document.createTextNode(css));\n",
       "    document.body.appendChild(element);\n",
       "  }\n",
       "\n",
       "  const js_urls = [\"https://cdn.bokeh.org/bokeh/release/bokeh-3.2.2.min.js\", \"https://cdn.bokeh.org/bokeh/release/bokeh-gl-3.2.2.min.js\", \"https://cdn.bokeh.org/bokeh/release/bokeh-widgets-3.2.2.min.js\", \"https://cdn.bokeh.org/bokeh/release/bokeh-tables-3.2.2.min.js\", \"https://cdn.bokeh.org/bokeh/release/bokeh-mathjax-3.2.2.min.js\"];\n",
       "  const css_urls = [];\n",
       "\n",
       "  const inline_js = [    function(Bokeh) {\n",
       "      Bokeh.set_log_level(\"info\");\n",
       "    },\n",
       "function(Bokeh) {\n",
       "    }\n",
       "  ];\n",
       "\n",
       "  function run_inline_js() {\n",
       "    if (root.Bokeh !== undefined || force === true) {\n",
       "          for (let i = 0; i < inline_js.length; i++) {\n",
       "      inline_js[i].call(root, root.Bokeh);\n",
       "    }\n",
       "if (force === true) {\n",
       "        display_loaded();\n",
       "      }} else if (Date.now() < root._bokeh_timeout) {\n",
       "      setTimeout(run_inline_js, 100);\n",
       "    } else if (!root._bokeh_failed_load) {\n",
       "      console.log(\"Bokeh: BokehJS failed to load within specified timeout.\");\n",
       "      root._bokeh_failed_load = true;\n",
       "    } else if (force !== true) {\n",
       "      const cell = $(document.getElementById(\"b31e1f84-843d-4829-8db5-c1488e37f334\")).parents('.cell').data().cell;\n",
       "      cell.output_area.append_execute_result(NB_LOAD_WARNING)\n",
       "    }\n",
       "  }\n",
       "\n",
       "  if (root._bokeh_is_loading === 0) {\n",
       "    console.debug(\"Bokeh: BokehJS loaded, going straight to plotting\");\n",
       "    run_inline_js();\n",
       "  } else {\n",
       "    load_libs(css_urls, js_urls, function() {\n",
       "      console.debug(\"Bokeh: BokehJS plotting callback run at\", now());\n",
       "      run_inline_js();\n",
       "    });\n",
       "  }\n",
       "}(window));"
      ],
      "application/vnd.bokehjs_load.v0+json": "(function(root) {\n  function now() {\n    return new Date();\n  }\n\n  const force = true;\n\n  if (typeof root._bokeh_onload_callbacks === \"undefined\" || force === true) {\n    root._bokeh_onload_callbacks = [];\n    root._bokeh_is_loading = undefined;\n  }\n\n\n  if (typeof (root._bokeh_timeout) === \"undefined\" || force === true) {\n    root._bokeh_timeout = Date.now() + 5000;\n    root._bokeh_failed_load = false;\n  }\n\n  const NB_LOAD_WARNING = {'data': {'text/html':\n     \"<div style='background-color: #fdd'>\\n\"+\n     \"<p>\\n\"+\n     \"BokehJS does not appear to have successfully loaded. If loading BokehJS from CDN, this \\n\"+\n     \"may be due to a slow or bad network connection. Possible fixes:\\n\"+\n     \"</p>\\n\"+\n     \"<ul>\\n\"+\n     \"<li>re-rerun `output_notebook()` to attempt to load from CDN again, or</li>\\n\"+\n     \"<li>use INLINE resources instead, as so:</li>\\n\"+\n     \"</ul>\\n\"+\n     \"<code>\\n\"+\n     \"from bokeh.resources import INLINE\\n\"+\n     \"output_notebook(resources=INLINE)\\n\"+\n     \"</code>\\n\"+\n     \"</div>\"}};\n\n  function display_loaded() {\n    const el = document.getElementById(\"b31e1f84-843d-4829-8db5-c1488e37f334\");\n    if (el != null) {\n      el.textContent = \"BokehJS is loading...\";\n    }\n    if (root.Bokeh !== undefined) {\n      if (el != null) {\n        el.textContent = \"BokehJS \" + root.Bokeh.version + \" successfully loaded.\";\n      }\n    } else if (Date.now() < root._bokeh_timeout) {\n      setTimeout(display_loaded, 100)\n    }\n  }\n\n  function run_callbacks() {\n    try {\n      root._bokeh_onload_callbacks.forEach(function(callback) {\n        if (callback != null)\n          callback();\n      });\n    } finally {\n      delete root._bokeh_onload_callbacks\n    }\n    console.debug(\"Bokeh: all callbacks have finished\");\n  }\n\n  function load_libs(css_urls, js_urls, callback) {\n    if (css_urls == null) css_urls = [];\n    if (js_urls == null) js_urls = [];\n\n    root._bokeh_onload_callbacks.push(callback);\n    if (root._bokeh_is_loading > 0) {\n      console.debug(\"Bokeh: BokehJS is being loaded, scheduling callback at\", now());\n      return null;\n    }\n    if (js_urls == null || js_urls.length === 0) {\n      run_callbacks();\n      return null;\n    }\n    console.debug(\"Bokeh: BokehJS not loaded, scheduling load and callback at\", now());\n    root._bokeh_is_loading = css_urls.length + js_urls.length;\n\n    function on_load() {\n      root._bokeh_is_loading--;\n      if (root._bokeh_is_loading === 0) {\n        console.debug(\"Bokeh: all BokehJS libraries/stylesheets loaded\");\n        run_callbacks()\n      }\n    }\n\n    function on_error(url) {\n      console.error(\"failed to load \" + url);\n    }\n\n    for (let i = 0; i < css_urls.length; i++) {\n      const url = css_urls[i];\n      const element = document.createElement(\"link\");\n      element.onload = on_load;\n      element.onerror = on_error.bind(null, url);\n      element.rel = \"stylesheet\";\n      element.type = \"text/css\";\n      element.href = url;\n      console.debug(\"Bokeh: injecting link tag for BokehJS stylesheet: \", url);\n      document.body.appendChild(element);\n    }\n\n    for (let i = 0; i < js_urls.length; i++) {\n      const url = js_urls[i];\n      const element = document.createElement('script');\n      element.onload = on_load;\n      element.onerror = on_error.bind(null, url);\n      element.async = false;\n      element.src = url;\n      console.debug(\"Bokeh: injecting script tag for BokehJS library: \", url);\n      document.head.appendChild(element);\n    }\n  };\n\n  function inject_raw_css(css) {\n    const element = document.createElement(\"style\");\n    element.appendChild(document.createTextNode(css));\n    document.body.appendChild(element);\n  }\n\n  const js_urls = [\"https://cdn.bokeh.org/bokeh/release/bokeh-3.2.2.min.js\", \"https://cdn.bokeh.org/bokeh/release/bokeh-gl-3.2.2.min.js\", \"https://cdn.bokeh.org/bokeh/release/bokeh-widgets-3.2.2.min.js\", \"https://cdn.bokeh.org/bokeh/release/bokeh-tables-3.2.2.min.js\", \"https://cdn.bokeh.org/bokeh/release/bokeh-mathjax-3.2.2.min.js\"];\n  const css_urls = [];\n\n  const inline_js = [    function(Bokeh) {\n      Bokeh.set_log_level(\"info\");\n    },\nfunction(Bokeh) {\n    }\n  ];\n\n  function run_inline_js() {\n    if (root.Bokeh !== undefined || force === true) {\n          for (let i = 0; i < inline_js.length; i++) {\n      inline_js[i].call(root, root.Bokeh);\n    }\nif (force === true) {\n        display_loaded();\n      }} else if (Date.now() < root._bokeh_timeout) {\n      setTimeout(run_inline_js, 100);\n    } else if (!root._bokeh_failed_load) {\n      console.log(\"Bokeh: BokehJS failed to load within specified timeout.\");\n      root._bokeh_failed_load = true;\n    } else if (force !== true) {\n      const cell = $(document.getElementById(\"b31e1f84-843d-4829-8db5-c1488e37f334\")).parents('.cell').data().cell;\n      cell.output_area.append_execute_result(NB_LOAD_WARNING)\n    }\n  }\n\n  if (root._bokeh_is_loading === 0) {\n    console.debug(\"Bokeh: BokehJS loaded, going straight to plotting\");\n    run_inline_js();\n  } else {\n    load_libs(css_urls, js_urls, function() {\n      console.debug(\"Bokeh: BokehJS plotting callback run at\", now());\n      run_inline_js();\n    });\n  }\n}(window));"
     },
     "metadata": {},
     "output_type": "display_data"
    },
    {
     "data": {
      "text/html": [
       "\n",
       "  <div id=\"f96aa1e6-1cd9-454a-b90e-5a5d21f997ee\" data-root-id=\"p1032\" style=\"display: contents;\"></div>\n"
      ]
     },
     "metadata": {},
     "output_type": "display_data"
    },
    {
     "data": {
      "application/javascript": [
       "(function(root) {\n",
       "  function embed_document(root) {\n",
       "  const docs_json = {\"5c9d73fe-2a00-4341-8a22-e49f69368197\":{\"version\":\"3.2.2\",\"title\":\"Bokeh Application\",\"roots\":[{\"type\":\"object\",\"name\":\"DataTable\",\"id\":\"p1032\",\"attributes\":{\"source\":{\"type\":\"object\",\"name\":\"ColumnDataSource\",\"id\":\"p1010\",\"attributes\":{\"selected\":{\"type\":\"object\",\"name\":\"Selection\",\"id\":\"p1011\",\"attributes\":{\"indices\":[],\"line_indices\":[]}},\"selection_policy\":{\"type\":\"object\",\"name\":\"UnionRenderers\",\"id\":\"p1012\"},\"data\":{\"type\":\"map\",\"entries\":[[\"color\",[\"#dcdcdc\",\"#3c3285\",\"#4353c2\",\"#4673eb\",\"#4291fe\",\"#2fb1f3\",\"#1ccdd7\",\"#19e3b8\",\"#32f197\",\"#61fc6c\",\"#8efe48\",\"#b1f836\",\"#cfea34\",\"#ead339\",\"#f9ba38\",\"#fe9b2d\",\"#f9771e\",\"#ec520e\",\"#d93806\",\"#c02302\",\"#a01101\"]],[\"label\",[\"ABSTAIN\",\"alt.atheism\",\"comp.graphics\",\"comp.os.ms-windows.misc\",\"comp.sys.ibm.pc.hardware\",\"comp.sys.mac.hardware\",\"comp.windows.x\",\"misc.forsale\",\"rec.autos\",\"rec.motorcycles\",\"rec.sport.baseball\",\"rec.sport.hockey\",\"sci.crypt\",\"sci.electronics\",\"sci.med\",\"sci.space\",\"soc.religion.christian\",\"talk.politics.guns\",\"talk.politics.mideast\",\"talk.politics.misc\",\"talk.religion.misc\"]],[\"count_raw\",[365,0,0,0,0,0,0,0,0,0,0,0,0,0,0,0,0,0,0,0,0]],[\"count_train\",[0,20,25,23,27,28,16,30,13,17,13,15,15,20,27,15,16,19,19,12,16]],[\"count_dev\",[0,4,0,4,5,4,13,10,4,0,0,4,5,5,6,7,1,4,10,5,6]],[\"count_test\",[0,6,7,5,5,6,5,5,4,5,12,2,2,4,5,5,3,8,2,6,3]]]}}},\"view\":{\"type\":\"object\",\"name\":\"CDSView\",\"id\":\"p1036\",\"attributes\":{\"filter\":{\"type\":\"object\",\"name\":\"AllIndices\",\"id\":\"p1037\"}}},\"columns\":[{\"type\":\"object\",\"name\":\"TableColumn\",\"id\":\"p1013\",\"attributes\":{\"field\":\"label\",\"title\":\"label\",\"formatter\":{\"type\":\"object\",\"name\":\"StringFormatter\",\"id\":\"p1014\"},\"editor\":{\"type\":\"object\",\"name\":\"StringEditor\",\"id\":\"p1015\"}}},{\"type\":\"object\",\"name\":\"TableColumn\",\"id\":\"p1016\",\"attributes\":{\"field\":\"count_raw\",\"title\":\"raw\",\"formatter\":{\"type\":\"object\",\"name\":\"StringFormatter\",\"id\":\"p1017\"},\"editor\":{\"type\":\"object\",\"name\":\"StringEditor\",\"id\":\"p1018\"}}},{\"type\":\"object\",\"name\":\"TableColumn\",\"id\":\"p1019\",\"attributes\":{\"field\":\"count_train\",\"title\":\"train\",\"formatter\":{\"type\":\"object\",\"name\":\"StringFormatter\",\"id\":\"p1020\"},\"editor\":{\"type\":\"object\",\"name\":\"StringEditor\",\"id\":\"p1021\"}}},{\"type\":\"object\",\"name\":\"TableColumn\",\"id\":\"p1022\",\"attributes\":{\"field\":\"count_dev\",\"title\":\"dev\",\"formatter\":{\"type\":\"object\",\"name\":\"StringFormatter\",\"id\":\"p1023\"},\"editor\":{\"type\":\"object\",\"name\":\"StringEditor\",\"id\":\"p1024\"}}},{\"type\":\"object\",\"name\":\"TableColumn\",\"id\":\"p1025\",\"attributes\":{\"field\":\"count_test\",\"title\":\"test\",\"formatter\":{\"type\":\"object\",\"name\":\"StringFormatter\",\"id\":\"p1026\"},\"editor\":{\"type\":\"object\",\"name\":\"StringEditor\",\"id\":\"p1027\"}}},{\"type\":\"object\",\"name\":\"TableColumn\",\"id\":\"p1029\",\"attributes\":{\"field\":\"color\",\"title\":\"color\",\"formatter\":{\"type\":\"object\",\"name\":\"HTMLTemplateFormatter\",\"id\":\"p1028\",\"attributes\":{\"template\":\"\\n<p style=\\\"color:<%= value %>;\\\">\\n    <%= \\\"&#9608;&#9608;&#9608;\\\" %>\\n</p>\\n\"}},\"editor\":{\"type\":\"object\",\"name\":\"StringEditor\",\"id\":\"p1031\"}}}]}}]}};\n",
       "  const render_items = [{\"docid\":\"5c9d73fe-2a00-4341-8a22-e49f69368197\",\"roots\":{\"p1032\":\"f96aa1e6-1cd9-454a-b90e-5a5d21f997ee\"},\"root_ids\":[\"p1032\"]}];\n",
       "  root.Bokeh.embed.embed_items_notebook(docs_json, render_items);\n",
       "  }\n",
       "  if (root.Bokeh !== undefined) {\n",
       "    embed_document(root);\n",
       "  } else {\n",
       "    let attempts = 0;\n",
       "    const timer = setInterval(function(root) {\n",
       "      if (root.Bokeh !== undefined) {\n",
       "        clearInterval(timer);\n",
       "        embed_document(root);\n",
       "      } else {\n",
       "        attempts++;\n",
       "        if (attempts > 100) {\n",
       "          clearInterval(timer);\n",
       "          console.log(\"Bokeh: ERROR: Unable to run BokehJS code because BokehJS library is missing\");\n",
       "        }\n",
       "      }\n",
       "    }, 10, root)\n",
       "  }\n",
       "})(window);"
      ],
      "application/vnd.bokehjs_exec.v0+json": ""
     },
     "metadata": {
      "application/vnd.bokehjs_exec.v0+json": {
       "id": "p1032"
      }
     },
     "output_type": "display_data"
    }
   ],
   "source": [
    "from bokeh.io import show, output_notebook\n",
    "\n",
    "output_notebook()\n",
    "\n",
    "# normally your would skip notebook_url or use Jupyter address\n",
    "notebook_url = 'localhost:8888'\n",
    "\n",
    "show(dataset.pop_table, notebook_url=notebook_url)"
   ]
  },
  {
   "cell_type": "markdown",
   "id": "9083ed9d",
   "metadata": {},
   "source": [
    "<br>\n",
    "\n",
    "### **Transfer Data Between Subsets**\n",
    "\n",
    "`COMMIT` and `DEDUP` are the mechanisms that `hover` uses to transfer data between subsets.\n",
    "\n",
    "-   `COMMIT` copies selected points (to be discussed later) to a destination subset\n",
    "    -   labeled-raw-only: `COMMIT` automatically detects which points are in the raw set with a valid label. Other points will not get copied.\n",
    "    -   keep-last: you can commit the same point to the same subset multiple times and the last copy will be kept. This can be useful for revising labels before `DEDUP`.\n",
    "-   `DEDUP` removes duplicates (identified by feature value) across subsets\n",
    "    -   priority rule: test > dev > train > raw, i.e. test set data always gets kept during deduplication\n",
    "\n",
    "-   <details open><summary>FAQ</summary>\n",
    "    <details open><summary>Why does COMMIT only work on the raw subset?</summary>\n",
    "        Most selections will happen through plots, where different subsets are on top of each other. This means selections can contain both unlabeled and labeled points.\n",
    "\n",
    "        Way too often we find ourselves trying to view both the labeled and the unlabeled, but only moving the unlabeled \"raw\" points. So it's handy that COMMIT picks those points only.\n",
    "    </details>\n",
    "\n",
    "</details>\n",
    "\n",
    "These mechanisms correspond to buttons in `hover`'s annotation interface, which you have encountered in the quickstart:"
   ]
  },
  {
   "cell_type": "code",
   "execution_count": 3,
   "id": "144fc704",
   "metadata": {
    "execution": {
     "iopub.execute_input": "2023-10-10T01:21:51.652599Z",
     "iopub.status.busy": "2023-10-10T01:21:51.652357Z",
     "iopub.status.idle": "2023-10-10T01:21:51.675335Z",
     "shell.execute_reply": "2023-10-10T01:21:51.674728Z"
    }
   },
   "outputs": [
    {
     "name": "stderr",
     "output_type": "stream",
     "text": [
      "WARNING:bokeh.embed.util:\n",
      "You are generating standalone HTML/JS output, but trying to use real Python\n",
      "callbacks (i.e. with on_change or on_event). This combination cannot work.\n",
      "\n",
      "Only JavaScript callbacks may be used with standalone output. For more\n",
      "information on JavaScript callbacks with Bokeh, see:\n",
      "\n",
      "    https://docs.bokeh.org/en/latest/docs/user_guide/interaction/callbacks.html\n",
      "\n",
      "Alternatively, to use real Python callbacks, a Bokeh server application may\n",
      "be used. For more information on building and running Bokeh applications, see:\n",
      "\n",
      "    https://docs.bokeh.org/en/latest/docs/user_guide/server.html\n",
      "\n"
     ]
    },
    {
     "data": {
      "text/html": [
       "\n",
       "  <div id=\"a1b1a42c-4029-41b3-93b0-4152e6ef84ad\" data-root-id=\"p1056\" style=\"display: contents;\"></div>\n"
      ]
     },
     "metadata": {},
     "output_type": "display_data"
    },
    {
     "data": {
      "application/javascript": [
       "(function(root) {\n",
       "  function embed_document(root) {\n",
       "  const docs_json = {\"37e3da00-0eb7-402c-86e2-1bc5830cbfec\":{\"version\":\"3.2.2\",\"title\":\"Bokeh Application\",\"roots\":[{\"type\":\"object\",\"name\":\"Column\",\"id\":\"p1056\",\"attributes\":{\"children\":[{\"type\":\"object\",\"name\":\"Row\",\"id\":\"p1055\",\"attributes\":{\"children\":[{\"type\":\"object\",\"name\":\"Dropdown\",\"id\":\"p1002\",\"attributes\":{\"button_type\":\"warning\",\"subscribed_events\":{\"type\":\"set\",\"entries\":[\"button_click\",\"menu_item_click\"]},\"label\":\"Commit\",\"menu\":[\"train\",\"dev\",\"test\"]}},{\"type\":\"object\",\"name\":\"Button\",\"id\":\"p1003\",\"attributes\":{\"button_type\":\"warning\",\"subscribed_events\":{\"type\":\"set\",\"entries\":[\"button_click\"]},\"label\":\"Dedup\"}}]}},{\"type\":\"object\",\"name\":\"DataTable\",\"id\":\"p1032\",\"attributes\":{\"source\":{\"type\":\"object\",\"name\":\"ColumnDataSource\",\"id\":\"p1010\",\"attributes\":{\"selected\":{\"type\":\"object\",\"name\":\"Selection\",\"id\":\"p1011\",\"attributes\":{\"indices\":[],\"line_indices\":[]}},\"selection_policy\":{\"type\":\"object\",\"name\":\"UnionRenderers\",\"id\":\"p1012\"},\"data\":{\"type\":\"map\",\"entries\":[[\"color\",[\"#dcdcdc\",\"#3c3285\",\"#4353c2\",\"#4673eb\",\"#4291fe\",\"#2fb1f3\",\"#1ccdd7\",\"#19e3b8\",\"#32f197\",\"#61fc6c\",\"#8efe48\",\"#b1f836\",\"#cfea34\",\"#ead339\",\"#f9ba38\",\"#fe9b2d\",\"#f9771e\",\"#ec520e\",\"#d93806\",\"#c02302\",\"#a01101\"]],[\"label\",[\"ABSTAIN\",\"alt.atheism\",\"comp.graphics\",\"comp.os.ms-windows.misc\",\"comp.sys.ibm.pc.hardware\",\"comp.sys.mac.hardware\",\"comp.windows.x\",\"misc.forsale\",\"rec.autos\",\"rec.motorcycles\",\"rec.sport.baseball\",\"rec.sport.hockey\",\"sci.crypt\",\"sci.electronics\",\"sci.med\",\"sci.space\",\"soc.religion.christian\",\"talk.politics.guns\",\"talk.politics.mideast\",\"talk.politics.misc\",\"talk.religion.misc\"]],[\"count_raw\",[365,0,0,0,0,0,0,0,0,0,0,0,0,0,0,0,0,0,0,0,0]],[\"count_train\",[0,20,25,23,27,28,16,30,13,17,13,15,15,20,27,15,16,19,19,12,16]],[\"count_dev\",[0,4,0,4,5,4,13,10,4,0,0,4,5,5,6,7,1,4,10,5,6]],[\"count_test\",[0,6,7,5,5,6,5,5,4,5,12,2,2,4,5,5,3,8,2,6,3]]]}}},\"view\":{\"type\":\"object\",\"name\":\"CDSView\",\"id\":\"p1036\",\"attributes\":{\"filter\":{\"type\":\"object\",\"name\":\"AllIndices\",\"id\":\"p1037\"}}},\"columns\":[{\"type\":\"object\",\"name\":\"TableColumn\",\"id\":\"p1013\",\"attributes\":{\"field\":\"label\",\"title\":\"label\",\"formatter\":{\"type\":\"object\",\"name\":\"StringFormatter\",\"id\":\"p1014\"},\"editor\":{\"type\":\"object\",\"name\":\"StringEditor\",\"id\":\"p1015\"}}},{\"type\":\"object\",\"name\":\"TableColumn\",\"id\":\"p1016\",\"attributes\":{\"field\":\"count_raw\",\"title\":\"raw\",\"formatter\":{\"type\":\"object\",\"name\":\"StringFormatter\",\"id\":\"p1017\"},\"editor\":{\"type\":\"object\",\"name\":\"StringEditor\",\"id\":\"p1018\"}}},{\"type\":\"object\",\"name\":\"TableColumn\",\"id\":\"p1019\",\"attributes\":{\"field\":\"count_train\",\"title\":\"train\",\"formatter\":{\"type\":\"object\",\"name\":\"StringFormatter\",\"id\":\"p1020\"},\"editor\":{\"type\":\"object\",\"name\":\"StringEditor\",\"id\":\"p1021\"}}},{\"type\":\"object\",\"name\":\"TableColumn\",\"id\":\"p1022\",\"attributes\":{\"field\":\"count_dev\",\"title\":\"dev\",\"formatter\":{\"type\":\"object\",\"name\":\"StringFormatter\",\"id\":\"p1023\"},\"editor\":{\"type\":\"object\",\"name\":\"StringEditor\",\"id\":\"p1024\"}}},{\"type\":\"object\",\"name\":\"TableColumn\",\"id\":\"p1025\",\"attributes\":{\"field\":\"count_test\",\"title\":\"test\",\"formatter\":{\"type\":\"object\",\"name\":\"StringFormatter\",\"id\":\"p1026\"},\"editor\":{\"type\":\"object\",\"name\":\"StringEditor\",\"id\":\"p1027\"}}},{\"type\":\"object\",\"name\":\"TableColumn\",\"id\":\"p1029\",\"attributes\":{\"field\":\"color\",\"title\":\"color\",\"formatter\":{\"type\":\"object\",\"name\":\"HTMLTemplateFormatter\",\"id\":\"p1028\",\"attributes\":{\"template\":\"\\n<p style=\\\"color:<%= value %>;\\\">\\n    <%= \\\"&#9608;&#9608;&#9608;\\\" %>\\n</p>\\n\"}},\"editor\":{\"type\":\"object\",\"name\":\"StringEditor\",\"id\":\"p1031\"}}}]}}]}}]}};\n",
       "  const render_items = [{\"docid\":\"37e3da00-0eb7-402c-86e2-1bc5830cbfec\",\"roots\":{\"p1056\":\"a1b1a42c-4029-41b3-93b0-4152e6ef84ad\"},\"root_ids\":[\"p1056\"]}];\n",
       "  root.Bokeh.embed.embed_items_notebook(docs_json, render_items);\n",
       "  }\n",
       "  if (root.Bokeh !== undefined) {\n",
       "    embed_document(root);\n",
       "  } else {\n",
       "    let attempts = 0;\n",
       "    const timer = setInterval(function(root) {\n",
       "      if (root.Bokeh !== undefined) {\n",
       "        clearInterval(timer);\n",
       "        embed_document(root);\n",
       "      } else {\n",
       "        attempts++;\n",
       "        if (attempts > 100) {\n",
       "          clearInterval(timer);\n",
       "          console.log(\"Bokeh: ERROR: Unable to run BokehJS code because BokehJS library is missing\");\n",
       "        }\n",
       "      }\n",
       "    }, 10, root)\n",
       "  }\n",
       "})(window);"
      ],
      "application/vnd.bokehjs_exec.v0+json": ""
     },
     "metadata": {
      "application/vnd.bokehjs_exec.v0+json": {
       "id": "p1056"
      }
     },
     "output_type": "display_data"
    }
   ],
   "source": [
    "from bokeh.layouts import row, column\n",
    "\n",
    "show(column(\n",
    "    row(\n",
    "        dataset.data_committer,\n",
    "        dataset.dedup_trigger,\n",
    "    ),\n",
    "    dataset.pop_table,\n",
    "), notebook_url=notebook_url)"
   ]
  },
  {
   "cell_type": "markdown",
   "id": "180528e0",
   "metadata": {},
   "source": [
    "<br>\n",
    "\n",
    "Of course, so far we have nothing to move, because there's no data selected. We shall now discuss selections.\n",
    "\n",
    "## **Selection**\n",
    "\n",
    "`hover` labels data points in bulk, which requires selecting groups of homogeneous data, i.e. semantically similar or going to have the same label. Being able to skim through what you selected gives you confidence about homogeneity.\n",
    "\n",
    "Normally, selection happens through a plot (`explorer`), as we have seen in the quickstart. For the purpose here, we will \"cheat\" and assign the selection programmatically:"
   ]
  },
  {
   "cell_type": "code",
   "execution_count": 4,
   "id": "1eaa6f06",
   "metadata": {
    "execution": {
     "iopub.execute_input": "2023-10-10T01:21:51.678556Z",
     "iopub.status.busy": "2023-10-10T01:21:51.678113Z",
     "iopub.status.idle": "2023-10-10T01:21:51.697232Z",
     "shell.execute_reply": "2023-10-10T01:21:51.696631Z"
    }
   },
   "outputs": [
    {
     "data": {
      "text/html": [
       "<pre style=\"white-space:pre;overflow-x:auto;line-height:normal;font-family:Menlo,'DejaVu Sans Mono',consolas,'Courier New',monospace\"><span style=\"color: #008000; text-decoration-color: #008000\">🟢 SupervisableTextDataset: Selection table: latest selection with </span><span style=\"color: #008080; text-decoration-color: #008080; font-weight: bold\">10</span><span style=\"color: #008000; text-decoration-color: #008000\"> entries.</span>\n",
       "</pre>\n"
      ],
      "text/plain": [
       "\u001b[32m🟢 SupervisableTextDataset: Selection table: latest selection with \u001b[0m\u001b[1;36m10\u001b[0m\u001b[32m entries.\u001b[0m\n"
      ]
     },
     "metadata": {},
     "output_type": "display_data"
    },
    {
     "data": {
      "text/html": [
       "\n",
       "  <div id=\"c495584c-ac1d-4ca0-a238-0de2fcbd387a\" data-root-id=\"p1049\" style=\"display: contents;\"></div>\n"
      ]
     },
     "metadata": {},
     "output_type": "display_data"
    },
    {
     "data": {
      "application/javascript": [
       "(function(root) {\n",
       "  function embed_document(root) {\n",
       "  const docs_json = {\"c0126ead-fcb6-47b9-aa51-a7290aaa2b87\":{\"version\":\"3.2.2\",\"title\":\"Bokeh Application\",\"roots\":[{\"type\":\"object\",\"name\":\"DataTable\",\"id\":\"p1049\",\"attributes\":{\"source\":{\"type\":\"object\",\"name\":\"ColumnDataSource\",\"id\":\"p1038\",\"attributes\":{\"selected\":{\"type\":\"object\",\"name\":\"Selection\",\"id\":\"p1039\",\"attributes\":{\"indices\":[],\"line_indices\":[]}},\"selection_policy\":{\"type\":\"object\",\"name\":\"UnionRenderers\",\"id\":\"p1040\"},\"data\":{\"type\":\"map\",\"entries\":[[\"text\",[\"Hey all...I got an equation editor, and since it didn't automagically appear in my \\\"object\\\" dialog box (i.e. insert-->object-->equation), I decided to manually place it there.  So I went into win.ini (is there another way to do this?), the [embedding] section, and added   equation=equation,equation,<path\\\\filename>,picture.  didn't work. quit windows, go back.  AHA: mistake. Correct it.  It looks fine. start windows...doesn't work.  play with it for a while, at one point having two entries to see if one works and th'other don't, and finally I get it to work.  The only thing I can see that's different now is that it's now the first item on the list, and it used to be the last.  But now I end up with *three* \\\"equation\\\" entried, and *all* of them working. (and only one entry in win.ini).  so does any netian know what's wrong? or rather, how to correct this? (i.e. make \\\"equation\\\"appear but once?).  Also, all the entries in the [embedding] appear as above. It's obvious that <path\\\\filename> is the executable, or whatever, and \\\"picture\\\" has something to do withthe way it appears (picture/description?)  but what are the others? i.e., in  soundrec=sound,sound, whate's the difference between the 1st \\\"sound\\\" and the 2nd?   and what is \\\"soundrec\\\"?? (I don't think it's the name of the executable, as other entries (e.g. MSWorksChart=...) aren't)  thanks, i.a. Mickey\",\"Hi Folks not exactly certain if this is the best place to ask, but I am searching for a summer internship in engineering.  I will be graduating in early  May with a B.S. in aerospace engineering and then pursuing my Masters this Fall .Does anyone know of anything that is available, I am in the process of applyi ng to some of the larger companies (ie. MacDac, Martin Marietta, Lockheed.  If a nyone knows of anything I would appreciate it if you could mail it to me.  Thanks in advance\",\"We have a LAN where we are doing development on product for multiple platforms.  For the moment we are only working on MAC and DOS/Windows. The department has    always used sneaker net to transport files to the MAC, since it requires a       filter to strip out the <LF> characters.                                          Until recently no one concidered using any version control to mediate, and as    a result, the 5 programmers spent a great deal of time merging files together    at the end of each week so that a new system could be build. We are now trying   to streamline this process, but are hampered by the lack of software that will   allow us to share files across PC and MAC platforms.                              I understand that PVCS used to do this, but that they no longer support the MAC  product (anyone know why ??  Polytron ?).                                         I have seen people ask about development in multiple platforms, so I assume that ours is not a new problem.  Who has had to deal with it ?  What solutions have   you come up with?                                                                 thanks in advance for any and all suggestions via posting or EMAIL. If there are enough EMAIL responses then I will post a synopsis of the knowledge.              -Charles Emmons                                                                  \",\"-- My boss is interested in a new 300 series Mercedes Benz wagon. Does anyone have any testimonial evidence and/or strong opinions on this car (or line)?  Particularly, I would like to hear about power (manual t. only) reliability, feel, and any unusually good or bad features of the line.  She currently drives a VW Passat, and is being plagued by its electrical problems.  The dealer claims there is nothing wrong, even though the doors have a habit of locking and unlocking them- selves while you are driving down the road.  The automatic shoulder restraints also like to move back and forth as you move along. She does not have the new, larger engine and is quite dissatisfied with its lack of power.  The MB wagon would have to have more power and no peculiar problems such as the Passat's electrical system.  She is also considering a Saab 9000 (add some letters).  Any comparisons between the 9000 line and the Mercedes would be helpful.  Price is not an impediment.  -------------------------------------------------------------------------- Jeremy J. Corry                    | Churchill claimed the traditions   jcorry@erasure_sl.cc.emory.edu     | of the navy are rum, mutiny, and                           __       | sodomy.                           \\\\/                                                   My opinions are my own, but I probably got them from someone else. \",\"Also remember that most people map the sanguine/choleric/melencholic/phlegmatic division onto the extraversion and neuroticism dimensions (Like Eysenck) and that the MBTI does not deal with neuroticism (Costa & McCrae).\",\"SSRT ROLLOUT                  Speech Delivered by Col. Simon P. Worden,                      The Deputy for Technology, SDIO                                                        Mcdonnell Douglas - Huntington Beach                               April 3,1993       Most of you, as am I, are \\\"children of the 1960's.\\\"  We grew up in an age of miracles -- Inter-Continental Ballistic Missiles, nuclear energy, computers, flights to the moon.  But these were miracles of our parent's doing.  For a decade and more the pundits have told us - \\\"you've lost it!\\\"  The \\\"me\\\" generation is only living on the accomplishments of the past.       You and I have even begun to believe the pessimists.  We listen in awe as the past generation tells of its triumphs.  Living history they are.  We are privileged to hear those who did it tell of it.  A few weeks ago some of this very team listened in awe as General Bernie Schriever told of his team's work - and yes struggle - to build this nation's Intercontinental Ballistic Missile.       What stories can we tell?  Blurry-eyed telescopes?  Thousand dollar toilet seats?  Even our space launch vehicles hearken only of that past great time.  They are and seem destined to remain Gen. Schriever's ICBMs.  I find it hard to swell with pride that the best new space-lifter idea is to refurbish old Minuteman and Poseidon ballistic missiles.       Well - The pessimists are wrong.  The legacy is continuing.  This event is proof.  To our technological parents: We've listened to your stories.  We've caught your enthusiasm and can-do spirit.  And we've learned from your achievements - and your mistakes.  Let me honor one of you who was part of that history and the impetus behind this history - Max Hunter.  You are one of the greatest engineers of the firts great age of space exploration.  Your insight and discipline built the Thor ICBM - later incorporated into today's most successful launch vehicle - The Delta.       You told us in the 60's that a new form of launch vehicle - a single stage reusable rocket - can and should be built.  You advocated this idea tirelessly.  It was elegantly simple, as are all great breakthroughs.  You showed us how to build it.  You convinced us it could be done.  You are working by our side to weld its components into place.  Most important - you reminded us of a prime engineering principle - undoubtably one you learned from the generation before you - the generation that built transcontinental aviation in the 1920's and 30's - build a little and test a little and Max, you passed all of this on  to people like Pat Ladner who started this program for the SDI.       Douglas Aircraft didn't start with a DC-10.  They didn't even start with a DC-3.  Our grandfathers built a little, tested a little - even sold a little and made a little money - before they moved on to the next step.  They didn't take a decade or more before putting the first \\\"rubber on the road.\\\"  Max Hunter - you didn't take ten years to build Thor, and by God we're not going to take ten years to show that low cost, single stage, reusable aerospace transportation is real.       We ended the cold war in a few short years.  It took the  same team here today but a few years to show through the Strategic Defense Initiative that the cold war must end.  We - you and us - launched a series of satellites - The Delta experiments - in about a year apiece.  This, more than anything else signaled our commitment to end the impasse between ourselves and the Soviet Union.  Those who made the decisions on both sides have underscored the importance of our work in bringing about a new international relationship.       But it is the same team which is now  putting in place the framework for an aerospace expansion that is our legacy for the next generation.  We will make space access routine and affordable.       We built this magnificent flying machine in two years.  This summer a true rocket ship will take off and land on earth for the first time.  Then we can and surely will build in the next three years a reusable sub-orbital rocket.  It will allow us to use space rapidly, affordably, and efficiently as no other nation can.  And yes - we'll make a little money off it too!       Then - and only then - we'll spend another three years to build a fully reusable single stage to orbit system.  The DC-3 of space will be a reality!  We may even be able to use some of the rocket propulsion breakthroughs of our former cold war adversaries.  What a wonderful irony if this SDI product and Russian efforts to counter SDI merge to power mankind's next step to the stars!       To be sure, we must guard against the temptations to leap to the final answer.  Robert Goddard's first rockets weren't Saturn V's!  If we succumb  to the temptation to ask  for just a few extra dollars and a few more years to jump immediately to a full orbital system - we will fail.  Max Hunter and his colleagues showed the way.  Three years and a cloud of dust - in our case rocket exhausts.  There is no short-cut.  If we expect to reshape the world again - we must do it one brick at a time.  Minds on tasks at hand!\",\") ) )>The official and legal term for rape is \\\"the crime of forcing a FEMALE  )>to submit to sexual intercourse.\\\" ) )Please, supply me with some references.  I was not aware that all states )had the word \\\"FEMALE\\\" in the rape statutes.  I am sure others are surprised )as well.  I know thats how it works in practice (nice-n-fair, NOT!!), but )was unaware that it was in the statutes as applying to FEMALES only, )uniformly throughout the U.S.  I agree mostly with Chris.  It is (unfortunately, IMO) true that the *FBI* figures for rape based on the 'uniform crime report' report only female rapes. However, some states (such as Illinois) are not tabluated because they refuse to comply with this sexist definition!\",\" Definitely, J.R. \\\"Bob\\\" Dobbs, numero uno, top dog, not one can touch, not one can knock Bob out of the box. Bob kills me mon! Everyday!  But close El Segundo (el subliminal) is the infamous Paul (birthname Saul) the Evangeline who became famous as a result of his numerous trampoline act  tours of the eastern Mediterranean.\",\"Us easterners who have newspapers with editors unsympathetic to playoff pools, often don't get summaries from west coast games since they finish too late at night for the morning edition.  I (and I'm sure others too) would greatly appreciate it if scoring summaries of west coast playoff games could be posted to this group right away. basically, all we need are goal scorers and assists, don't bother with times, penalties, shots etc...  this would make a lot of pool-obsessed people very happy.  I guess with the Senators out golfing now, the  local papers have lost interest.  ;-)  thanks.  kd. \",\"If the set is direct line powered, try checking the [likely to be there] hybrid regulator module down stream from the 170 volt supply.  Several sets I've looked at use a 135 volt regulator.  The regulators have a tendency to short out, making the safety circuits shut down the EHT supply section.  Try putting the set on a Variac or adjustable transformer and lower the AC input voltage to the set to about 90 volts.  If the set operates nromally, then you know you've got a shorted regulator.  There are myriad other areas for problems, but I've seen the one above several times.  Also, if the set uses one, the trippler module may be shot; that's fairly common.  \"]],[\"SUBSET\",[\"raw\",\"raw\",\"raw\",\"raw\",\"raw\",\"raw\",\"raw\",\"raw\",\"raw\",\"raw\"]],[\"label\",[\"ABSTAIN\",\"ABSTAIN\",\"ABSTAIN\",\"ABSTAIN\",\"ABSTAIN\",\"ABSTAIN\",\"ABSTAIN\",\"ABSTAIN\",\"ABSTAIN\",\"ABSTAIN\"]]]}}},\"view\":{\"type\":\"object\",\"name\":\"CDSView\",\"id\":\"p1053\",\"attributes\":{\"filter\":{\"type\":\"object\",\"name\":\"AllIndices\",\"id\":\"p1054\"}}},\"columns\":[{\"type\":\"object\",\"name\":\"TableColumn\",\"id\":\"p1043\",\"attributes\":{\"field\":\"text\",\"title\":\"text\",\"formatter\":{\"type\":\"object\",\"name\":\"HTMLTemplateFormatter\",\"id\":\"p1042\",\"attributes\":{\"template\":\"<span href=\\\"#\\\" data-toggle=\\\"tooltip\\\" title=\\\"<%= value %>\\\"><%= value %></span>\"}},\"editor\":{\"type\":\"object\",\"name\":\"CellEditor\",\"id\":\"p1041\"}}},{\"type\":\"object\",\"name\":\"TableColumn\",\"id\":\"p1046\",\"attributes\":{\"field\":\"label\",\"title\":\"label\",\"formatter\":{\"type\":\"object\",\"name\":\"StringFormatter\",\"id\":\"p1047\"},\"editor\":{\"type\":\"object\",\"name\":\"StringEditor\",\"id\":\"p1048\"}}}],\"editable\":true,\"selectable\":\"checkbox\"}}]}};\n",
       "  const render_items = [{\"docid\":\"c0126ead-fcb6-47b9-aa51-a7290aaa2b87\",\"roots\":{\"p1049\":\"c495584c-ac1d-4ca0-a238-0de2fcbd387a\"},\"root_ids\":[\"p1049\"]}];\n",
       "  root.Bokeh.embed.embed_items_notebook(docs_json, render_items);\n",
       "  }\n",
       "  if (root.Bokeh !== undefined) {\n",
       "    embed_document(root);\n",
       "  } else {\n",
       "    let attempts = 0;\n",
       "    const timer = setInterval(function(root) {\n",
       "      if (root.Bokeh !== undefined) {\n",
       "        clearInterval(timer);\n",
       "        embed_document(root);\n",
       "      } else {\n",
       "        attempts++;\n",
       "        if (attempts > 100) {\n",
       "          clearInterval(timer);\n",
       "          console.log(\"Bokeh: ERROR: Unable to run BokehJS code because BokehJS library is missing\");\n",
       "        }\n",
       "      }\n",
       "    }, 10, root)\n",
       "  }\n",
       "})(window);"
      ],
      "application/vnd.bokehjs_exec.v0+json": ""
     },
     "metadata": {
      "application/vnd.bokehjs_exec.v0+json": {
       "id": "p1049"
      }
     },
     "output_type": "display_data"
    }
   ],
   "source": [
    "dataset._callback_update_selection(dataset.dfs[\"raw\"][:10])\n",
    "\n",
    "show(dataset.sel_table, notebook_url=notebook_url)"
   ]
  },
  {
   "cell_type": "markdown",
   "id": "33ab1736",
   "metadata": {},
   "source": [
    "<br>\n",
    "\n",
    "### **Edit Data Within a Selection**\n",
    "\n",
    "Often the points selected are not perfectly homogeneous, i.e. some outliers belong to a different label from the selected group overall. It would be helpful to `EVICT` them, and `SupervisableDataset` has a button for it.\n",
    "\n",
    "Sometimes you may also wish to edit data values on the fly.  In hover this is called `PATCH`, and there also is a button for it.\n",
    "\n",
    "-   by default, labels can be edited but feature values cannot.\n",
    "\n",
    "Let's plot the forementioned buttons along with the selection table. Toggle any number of rows in the table, then click the button to `EVICT` or `PATCH` those rows:"
   ]
  },
  {
   "cell_type": "code",
   "execution_count": 5,
   "id": "02536137",
   "metadata": {
    "execution": {
     "iopub.execute_input": "2023-10-10T01:21:51.700048Z",
     "iopub.status.busy": "2023-10-10T01:21:51.699820Z",
     "iopub.status.idle": "2023-10-10T01:21:51.720922Z",
     "shell.execute_reply": "2023-10-10T01:21:51.720271Z"
    }
   },
   "outputs": [
    {
     "name": "stderr",
     "output_type": "stream",
     "text": [
      "WARNING:bokeh.embed.util:\n",
      "You are generating standalone HTML/JS output, but trying to use real Python\n",
      "callbacks (i.e. with on_change or on_event). This combination cannot work.\n",
      "\n",
      "Only JavaScript callbacks may be used with standalone output. For more\n",
      "information on JavaScript callbacks with Bokeh, see:\n",
      "\n",
      "    https://docs.bokeh.org/en/latest/docs/user_guide/interaction/callbacks.html\n",
      "\n",
      "Alternatively, to use real Python callbacks, a Bokeh server application may\n",
      "be used. For more information on building and running Bokeh applications, see:\n",
      "\n",
      "    https://docs.bokeh.org/en/latest/docs/user_guide/server.html\n",
      "\n"
     ]
    },
    {
     "data": {
      "text/html": [
       "\n",
       "  <div id=\"c062c8d0-ecf5-4bc4-8f8b-26fdfbe89945\" data-root-id=\"p1058\" style=\"display: contents;\"></div>\n"
      ]
     },
     "metadata": {},
     "output_type": "display_data"
    },
    {
     "data": {
      "application/javascript": [
       "(function(root) {\n",
       "  function embed_document(root) {\n",
       "  const docs_json = {\"2f825e98-57a2-49a9-ba1a-68d735bef6ef\":{\"version\":\"3.2.2\",\"title\":\"Bokeh Application\",\"roots\":[{\"type\":\"object\",\"name\":\"Column\",\"id\":\"p1058\",\"attributes\":{\"children\":[{\"type\":\"object\",\"name\":\"Row\",\"id\":\"p1057\",\"attributes\":{\"children\":[{\"type\":\"object\",\"name\":\"Button\",\"id\":\"p1006\",\"attributes\":{\"button_type\":\"primary\",\"label\":\"Evict Rows from Selection\"}},{\"type\":\"object\",\"name\":\"Button\",\"id\":\"p1005\",\"attributes\":{\"button_type\":\"warning\",\"subscribed_events\":{\"type\":\"set\",\"entries\":[\"button_click\"]},\"label\":\"Update Row Values\"}}]}},{\"type\":\"object\",\"name\":\"DataTable\",\"id\":\"p1049\",\"attributes\":{\"source\":{\"type\":\"object\",\"name\":\"ColumnDataSource\",\"id\":\"p1038\",\"attributes\":{\"selected\":{\"type\":\"object\",\"name\":\"Selection\",\"id\":\"p1039\",\"attributes\":{\"indices\":[],\"line_indices\":[]}},\"selection_policy\":{\"type\":\"object\",\"name\":\"UnionRenderers\",\"id\":\"p1040\"},\"data\":{\"type\":\"map\",\"entries\":[[\"text\",[\"Hey all...I got an equation editor, and since it didn't automagically appear in my \\\"object\\\" dialog box (i.e. insert-->object-->equation), I decided to manually place it there.  So I went into win.ini (is there another way to do this?), the [embedding] section, and added   equation=equation,equation,<path\\\\filename>,picture.  didn't work. quit windows, go back.  AHA: mistake. Correct it.  It looks fine. start windows...doesn't work.  play with it for a while, at one point having two entries to see if one works and th'other don't, and finally I get it to work.  The only thing I can see that's different now is that it's now the first item on the list, and it used to be the last.  But now I end up with *three* \\\"equation\\\" entried, and *all* of them working. (and only one entry in win.ini).  so does any netian know what's wrong? or rather, how to correct this? (i.e. make \\\"equation\\\"appear but once?).  Also, all the entries in the [embedding] appear as above. It's obvious that <path\\\\filename> is the executable, or whatever, and \\\"picture\\\" has something to do withthe way it appears (picture/description?)  but what are the others? i.e., in  soundrec=sound,sound, whate's the difference between the 1st \\\"sound\\\" and the 2nd?   and what is \\\"soundrec\\\"?? (I don't think it's the name of the executable, as other entries (e.g. MSWorksChart=...) aren't)  thanks, i.a. Mickey\",\"Hi Folks not exactly certain if this is the best place to ask, but I am searching for a summer internship in engineering.  I will be graduating in early  May with a B.S. in aerospace engineering and then pursuing my Masters this Fall .Does anyone know of anything that is available, I am in the process of applyi ng to some of the larger companies (ie. MacDac, Martin Marietta, Lockheed.  If a nyone knows of anything I would appreciate it if you could mail it to me.  Thanks in advance\",\"We have a LAN where we are doing development on product for multiple platforms.  For the moment we are only working on MAC and DOS/Windows. The department has    always used sneaker net to transport files to the MAC, since it requires a       filter to strip out the <LF> characters.                                          Until recently no one concidered using any version control to mediate, and as    a result, the 5 programmers spent a great deal of time merging files together    at the end of each week so that a new system could be build. We are now trying   to streamline this process, but are hampered by the lack of software that will   allow us to share files across PC and MAC platforms.                              I understand that PVCS used to do this, but that they no longer support the MAC  product (anyone know why ??  Polytron ?).                                         I have seen people ask about development in multiple platforms, so I assume that ours is not a new problem.  Who has had to deal with it ?  What solutions have   you come up with?                                                                 thanks in advance for any and all suggestions via posting or EMAIL. If there are enough EMAIL responses then I will post a synopsis of the knowledge.              -Charles Emmons                                                                  \",\"-- My boss is interested in a new 300 series Mercedes Benz wagon. Does anyone have any testimonial evidence and/or strong opinions on this car (or line)?  Particularly, I would like to hear about power (manual t. only) reliability, feel, and any unusually good or bad features of the line.  She currently drives a VW Passat, and is being plagued by its electrical problems.  The dealer claims there is nothing wrong, even though the doors have a habit of locking and unlocking them- selves while you are driving down the road.  The automatic shoulder restraints also like to move back and forth as you move along. She does not have the new, larger engine and is quite dissatisfied with its lack of power.  The MB wagon would have to have more power and no peculiar problems such as the Passat's electrical system.  She is also considering a Saab 9000 (add some letters).  Any comparisons between the 9000 line and the Mercedes would be helpful.  Price is not an impediment.  -------------------------------------------------------------------------- Jeremy J. Corry                    | Churchill claimed the traditions   jcorry@erasure_sl.cc.emory.edu     | of the navy are rum, mutiny, and                           __       | sodomy.                           \\\\/                                                   My opinions are my own, but I probably got them from someone else. \",\"Also remember that most people map the sanguine/choleric/melencholic/phlegmatic division onto the extraversion and neuroticism dimensions (Like Eysenck) and that the MBTI does not deal with neuroticism (Costa & McCrae).\",\"SSRT ROLLOUT                  Speech Delivered by Col. Simon P. Worden,                      The Deputy for Technology, SDIO                                                        Mcdonnell Douglas - Huntington Beach                               April 3,1993       Most of you, as am I, are \\\"children of the 1960's.\\\"  We grew up in an age of miracles -- Inter-Continental Ballistic Missiles, nuclear energy, computers, flights to the moon.  But these were miracles of our parent's doing.  For a decade and more the pundits have told us - \\\"you've lost it!\\\"  The \\\"me\\\" generation is only living on the accomplishments of the past.       You and I have even begun to believe the pessimists.  We listen in awe as the past generation tells of its triumphs.  Living history they are.  We are privileged to hear those who did it tell of it.  A few weeks ago some of this very team listened in awe as General Bernie Schriever told of his team's work - and yes struggle - to build this nation's Intercontinental Ballistic Missile.       What stories can we tell?  Blurry-eyed telescopes?  Thousand dollar toilet seats?  Even our space launch vehicles hearken only of that past great time.  They are and seem destined to remain Gen. Schriever's ICBMs.  I find it hard to swell with pride that the best new space-lifter idea is to refurbish old Minuteman and Poseidon ballistic missiles.       Well - The pessimists are wrong.  The legacy is continuing.  This event is proof.  To our technological parents: We've listened to your stories.  We've caught your enthusiasm and can-do spirit.  And we've learned from your achievements - and your mistakes.  Let me honor one of you who was part of that history and the impetus behind this history - Max Hunter.  You are one of the greatest engineers of the firts great age of space exploration.  Your insight and discipline built the Thor ICBM - later incorporated into today's most successful launch vehicle - The Delta.       You told us in the 60's that a new form of launch vehicle - a single stage reusable rocket - can and should be built.  You advocated this idea tirelessly.  It was elegantly simple, as are all great breakthroughs.  You showed us how to build it.  You convinced us it could be done.  You are working by our side to weld its components into place.  Most important - you reminded us of a prime engineering principle - undoubtably one you learned from the generation before you - the generation that built transcontinental aviation in the 1920's and 30's - build a little and test a little and Max, you passed all of this on  to people like Pat Ladner who started this program for the SDI.       Douglas Aircraft didn't start with a DC-10.  They didn't even start with a DC-3.  Our grandfathers built a little, tested a little - even sold a little and made a little money - before they moved on to the next step.  They didn't take a decade or more before putting the first \\\"rubber on the road.\\\"  Max Hunter - you didn't take ten years to build Thor, and by God we're not going to take ten years to show that low cost, single stage, reusable aerospace transportation is real.       We ended the cold war in a few short years.  It took the  same team here today but a few years to show through the Strategic Defense Initiative that the cold war must end.  We - you and us - launched a series of satellites - The Delta experiments - in about a year apiece.  This, more than anything else signaled our commitment to end the impasse between ourselves and the Soviet Union.  Those who made the decisions on both sides have underscored the importance of our work in bringing about a new international relationship.       But it is the same team which is now  putting in place the framework for an aerospace expansion that is our legacy for the next generation.  We will make space access routine and affordable.       We built this magnificent flying machine in two years.  This summer a true rocket ship will take off and land on earth for the first time.  Then we can and surely will build in the next three years a reusable sub-orbital rocket.  It will allow us to use space rapidly, affordably, and efficiently as no other nation can.  And yes - we'll make a little money off it too!       Then - and only then - we'll spend another three years to build a fully reusable single stage to orbit system.  The DC-3 of space will be a reality!  We may even be able to use some of the rocket propulsion breakthroughs of our former cold war adversaries.  What a wonderful irony if this SDI product and Russian efforts to counter SDI merge to power mankind's next step to the stars!       To be sure, we must guard against the temptations to leap to the final answer.  Robert Goddard's first rockets weren't Saturn V's!  If we succumb  to the temptation to ask  for just a few extra dollars and a few more years to jump immediately to a full orbital system - we will fail.  Max Hunter and his colleagues showed the way.  Three years and a cloud of dust - in our case rocket exhausts.  There is no short-cut.  If we expect to reshape the world again - we must do it one brick at a time.  Minds on tasks at hand!\",\") ) )>The official and legal term for rape is \\\"the crime of forcing a FEMALE  )>to submit to sexual intercourse.\\\" ) )Please, supply me with some references.  I was not aware that all states )had the word \\\"FEMALE\\\" in the rape statutes.  I am sure others are surprised )as well.  I know thats how it works in practice (nice-n-fair, NOT!!), but )was unaware that it was in the statutes as applying to FEMALES only, )uniformly throughout the U.S.  I agree mostly with Chris.  It is (unfortunately, IMO) true that the *FBI* figures for rape based on the 'uniform crime report' report only female rapes. However, some states (such as Illinois) are not tabluated because they refuse to comply with this sexist definition!\",\" Definitely, J.R. \\\"Bob\\\" Dobbs, numero uno, top dog, not one can touch, not one can knock Bob out of the box. Bob kills me mon! Everyday!  But close El Segundo (el subliminal) is the infamous Paul (birthname Saul) the Evangeline who became famous as a result of his numerous trampoline act  tours of the eastern Mediterranean.\",\"Us easterners who have newspapers with editors unsympathetic to playoff pools, often don't get summaries from west coast games since they finish too late at night for the morning edition.  I (and I'm sure others too) would greatly appreciate it if scoring summaries of west coast playoff games could be posted to this group right away. basically, all we need are goal scorers and assists, don't bother with times, penalties, shots etc...  this would make a lot of pool-obsessed people very happy.  I guess with the Senators out golfing now, the  local papers have lost interest.  ;-)  thanks.  kd. \",\"If the set is direct line powered, try checking the [likely to be there] hybrid regulator module down stream from the 170 volt supply.  Several sets I've looked at use a 135 volt regulator.  The regulators have a tendency to short out, making the safety circuits shut down the EHT supply section.  Try putting the set on a Variac or adjustable transformer and lower the AC input voltage to the set to about 90 volts.  If the set operates nromally, then you know you've got a shorted regulator.  There are myriad other areas for problems, but I've seen the one above several times.  Also, if the set uses one, the trippler module may be shot; that's fairly common.  \"]],[\"SUBSET\",[\"raw\",\"raw\",\"raw\",\"raw\",\"raw\",\"raw\",\"raw\",\"raw\",\"raw\",\"raw\"]],[\"label\",[\"ABSTAIN\",\"ABSTAIN\",\"ABSTAIN\",\"ABSTAIN\",\"ABSTAIN\",\"ABSTAIN\",\"ABSTAIN\",\"ABSTAIN\",\"ABSTAIN\",\"ABSTAIN\"]]]}}},\"view\":{\"type\":\"object\",\"name\":\"CDSView\",\"id\":\"p1053\",\"attributes\":{\"filter\":{\"type\":\"object\",\"name\":\"AllIndices\",\"id\":\"p1054\"}}},\"columns\":[{\"type\":\"object\",\"name\":\"TableColumn\",\"id\":\"p1043\",\"attributes\":{\"field\":\"text\",\"title\":\"text\",\"formatter\":{\"type\":\"object\",\"name\":\"HTMLTemplateFormatter\",\"id\":\"p1042\",\"attributes\":{\"template\":\"<span href=\\\"#\\\" data-toggle=\\\"tooltip\\\" title=\\\"<%= value %>\\\"><%= value %></span>\"}},\"editor\":{\"type\":\"object\",\"name\":\"CellEditor\",\"id\":\"p1041\"}}},{\"type\":\"object\",\"name\":\"TableColumn\",\"id\":\"p1046\",\"attributes\":{\"field\":\"label\",\"title\":\"label\",\"formatter\":{\"type\":\"object\",\"name\":\"StringFormatter\",\"id\":\"p1047\"},\"editor\":{\"type\":\"object\",\"name\":\"StringEditor\",\"id\":\"p1048\"}}}],\"editable\":true,\"selectable\":\"checkbox\"}}]}}]}};\n",
       "  const render_items = [{\"docid\":\"2f825e98-57a2-49a9-ba1a-68d735bef6ef\",\"roots\":{\"p1058\":\"c062c8d0-ecf5-4bc4-8f8b-26fdfbe89945\"},\"root_ids\":[\"p1058\"]}];\n",
       "  root.Bokeh.embed.embed_items_notebook(docs_json, render_items);\n",
       "  }\n",
       "  if (root.Bokeh !== undefined) {\n",
       "    embed_document(root);\n",
       "  } else {\n",
       "    let attempts = 0;\n",
       "    const timer = setInterval(function(root) {\n",
       "      if (root.Bokeh !== undefined) {\n",
       "        clearInterval(timer);\n",
       "        embed_document(root);\n",
       "      } else {\n",
       "        attempts++;\n",
       "        if (attempts > 100) {\n",
       "          clearInterval(timer);\n",
       "          console.log(\"Bokeh: ERROR: Unable to run BokehJS code because BokehJS library is missing\");\n",
       "        }\n",
       "      }\n",
       "    }, 10, root)\n",
       "  }\n",
       "})(window);"
      ],
      "application/vnd.bokehjs_exec.v0+json": ""
     },
     "metadata": {
      "application/vnd.bokehjs_exec.v0+json": {
       "id": "p1058"
      }
     },
     "output_type": "display_data"
    }
   ],
   "source": [
    "show(column(\n",
    "    row(\n",
    "        dataset.selection_evictor,\n",
    "        dataset.selection_patcher,\n",
    "    ),\n",
    "    dataset.sel_table,\n",
    "), notebook_url=notebook_url)"
   ]
  },
  {
   "cell_type": "markdown",
   "id": "48ea00d1",
   "metadata": {},
   "source": [
    "<br>"
   ]
  }
 ],
 "metadata": {
  "language_info": {
   "codemirror_mode": {
    "name": "ipython",
    "version": 3
   },
   "file_extension": ".py",
   "mimetype": "text/x-python",
   "name": "python",
   "nbconvert_exporter": "python",
   "pygments_lexer": "ipython3",
   "version": "3.9.18"
  }
 },
 "nbformat": 4,
 "nbformat_minor": 5
}
