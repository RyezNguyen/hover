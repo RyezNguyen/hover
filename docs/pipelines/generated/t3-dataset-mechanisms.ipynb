{
 "cells": [
  {
   "cell_type": "markdown",
   "id": "c3e9341b",
   "metadata": {},
   "source": [
    "> `SupervisableDataset` holds your data throughout the labeling process.\n",
    ">\n",
    "> :speedboat: Let's take a look at its core mechanisms.\n",
    "\n",
    "-   <details open><summary>This page addresses **single components** of `hover`</summary>\n",
    "    We are using code snippets to pick out parts of the annotation interface, so that the documentation can explain what they do.\n",
    "\n",
    "    -   Please be aware that this is NOT how one would typically use `hover`.\n",
    "    -   Typical usage deals with [recipes](../../tutorial/t1-active-learning) where the individual parts have been tied together.\n",
    "\n",
    "</details>\n",
    "\n",
    "-   <details open><summary>Dependencies for {== local environments ==}</summary>\n",
    "    When you run the code locally, you may need to install additional packages.\n",
    "\n",
    "    To render `bokeh` plots in Jupyter, you need:\n",
    "```shell\n",
    "    pip install jupyter_bokeh\n",
    "```\n",
    "\n",
    "    If you are using JupyterLab older than 3.0, use this instead ([reference](https://pypi.org/project/jupyter-bokeh/)):\n",
    "```shell\n",
    "    jupyter labextension install @jupyter-widgets/jupyterlab-manager\n",
    "    jupyter labextension install @bokeh/jupyter_bokeh\n",
    "```\n",
    "\n",
    "</details>\n",
    "\n",
    "## **Data Subsets**\n",
    "\n",
    "We place unlabeled data and labeled data in different subsets: \"raw\", \"train\", \"dev\", and \"test\". Unlabeled data start from the \"raw\" subset, and can be transferred to other subsets after it gets labeled.\n",
    "\n",
    "`SupervisableDataset` uses a \"population table\", `dataset.pop_table`, to show the size of each subset:"
   ]
  },
  {
   "cell_type": "code",
   "execution_count": 1,
   "id": "96ff62c0",
   "metadata": {
    "execution": {
     "iopub.execute_input": "2023-04-18T01:39:13.568933Z",
     "iopub.status.busy": "2023-04-18T01:39:13.568665Z",
     "iopub.status.idle": "2023-04-18T01:39:15.259807Z",
     "shell.execute_reply": "2023-04-18T01:39:15.258744Z"
    }
   },
   "outputs": [
    {
     "data": {
      "text/html": [
       "<pre style=\"white-space:pre;overflow-x:auto;line-height:normal;font-family:Menlo,'DejaVu Sans Mono',consolas,'Courier New',monospace\"><span style=\"color: #000080; text-decoration-color: #000080\">🔵 SupervisableTextDataset: Initializing</span><span style=\"color: #808000; text-decoration-color: #808000\">...</span>\n",
       "</pre>\n"
      ],
      "text/plain": [
       "\u001b[34m🔵 SupervisableTextDataset: Initializing\u001b[0m\u001b[33m...\u001b[0m\n"
      ]
     },
     "metadata": {},
     "output_type": "display_data"
    },
    {
     "data": {
      "text/html": [
       "<pre style=\"white-space:pre;overflow-x:auto;line-height:normal;font-family:Menlo,'DejaVu Sans Mono',consolas,'Courier New',monospace\"><span style=\"color: #000080; text-decoration-color: #000080\">🔵 SupervisableTextDataset: Deduplicating</span><span style=\"color: #808000; text-decoration-color: #808000\">...</span>\n",
       "</pre>\n"
      ],
      "text/plain": [
       "\u001b[34m🔵 SupervisableTextDataset: Deduplicating\u001b[0m\u001b[33m...\u001b[0m\n"
      ]
     },
     "metadata": {},
     "output_type": "display_data"
    },
    {
     "data": {
      "text/html": [
       "<pre style=\"white-space:pre;overflow-x:auto;line-height:normal;font-family:Menlo,'DejaVu Sans Mono',consolas,'Courier New',monospace\"><span style=\"color: #000080; text-decoration-color: #000080\">🔵 SupervisableTextDataset: --subset raw rows: </span><span style=\"color: #008080; text-decoration-color: #008080; font-weight: bold\">400</span><span style=\"color: #000080; text-decoration-color: #000080\"> -&gt; </span><span style=\"color: #008080; text-decoration-color: #008080; font-weight: bold\">377</span><span style=\"color: #000080; text-decoration-color: #000080\">.</span>\n",
       "</pre>\n"
      ],
      "text/plain": [
       "\u001b[34m🔵 SupervisableTextDataset: --subset raw rows: \u001b[0m\u001b[1;36m400\u001b[0m\u001b[34m -> \u001b[0m\u001b[1;36m377\u001b[0m\u001b[34m.\u001b[0m\n"
      ]
     },
     "metadata": {},
     "output_type": "display_data"
    },
    {
     "data": {
      "text/html": [
       "<pre style=\"white-space:pre;overflow-x:auto;line-height:normal;font-family:Menlo,'DejaVu Sans Mono',consolas,'Courier New',monospace\"><span style=\"color: #000080; text-decoration-color: #000080\">🔵 SupervisableTextDataset: --subset train rows: </span><span style=\"color: #008080; text-decoration-color: #008080; font-weight: bold\">400</span><span style=\"color: #000080; text-decoration-color: #000080\"> -&gt; </span><span style=\"color: #008080; text-decoration-color: #008080; font-weight: bold\">384</span><span style=\"color: #000080; text-decoration-color: #000080\">.</span>\n",
       "</pre>\n"
      ],
      "text/plain": [
       "\u001b[34m🔵 SupervisableTextDataset: --subset train rows: \u001b[0m\u001b[1;36m400\u001b[0m\u001b[34m -> \u001b[0m\u001b[1;36m384\u001b[0m\u001b[34m.\u001b[0m\n"
      ]
     },
     "metadata": {},
     "output_type": "display_data"
    },
    {
     "data": {
      "text/html": [
       "<pre style=\"white-space:pre;overflow-x:auto;line-height:normal;font-family:Menlo,'DejaVu Sans Mono',consolas,'Courier New',monospace\"><span style=\"color: #000080; text-decoration-color: #000080\">🔵 SupervisableTextDataset: --subset dev rows: </span><span style=\"color: #008080; text-decoration-color: #008080; font-weight: bold\">100</span><span style=\"color: #000080; text-decoration-color: #000080\"> -&gt; </span><span style=\"color: #008080; text-decoration-color: #008080; font-weight: bold\">93</span><span style=\"color: #000080; text-decoration-color: #000080\">.</span>\n",
       "</pre>\n"
      ],
      "text/plain": [
       "\u001b[34m🔵 SupervisableTextDataset: --subset dev rows: \u001b[0m\u001b[1;36m100\u001b[0m\u001b[34m -> \u001b[0m\u001b[1;36m93\u001b[0m\u001b[34m.\u001b[0m\n"
      ]
     },
     "metadata": {},
     "output_type": "display_data"
    },
    {
     "data": {
      "text/html": [
       "<pre style=\"white-space:pre;overflow-x:auto;line-height:normal;font-family:Menlo,'DejaVu Sans Mono',consolas,'Courier New',monospace\"><span style=\"color: #000080; text-decoration-color: #000080\">🔵 SupervisableTextDataset: --subset test rows: </span><span style=\"color: #008080; text-decoration-color: #008080; font-weight: bold\">100</span><span style=\"color: #000080; text-decoration-color: #000080\"> -&gt; </span><span style=\"color: #008080; text-decoration-color: #008080; font-weight: bold\">99</span><span style=\"color: #000080; text-decoration-color: #000080\">.</span>\n",
       "</pre>\n"
      ],
      "text/plain": [
       "\u001b[34m🔵 SupervisableTextDataset: --subset test rows: \u001b[0m\u001b[1;36m100\u001b[0m\u001b[34m -> \u001b[0m\u001b[1;36m99\u001b[0m\u001b[34m.\u001b[0m\n"
      ]
     },
     "metadata": {},
     "output_type": "display_data"
    },
    {
     "data": {
      "text/html": [
       "<pre style=\"white-space:pre;overflow-x:auto;line-height:normal;font-family:Menlo,'DejaVu Sans Mono',consolas,'Courier New',monospace\"><span style=\"color: #008000; text-decoration-color: #008000\">🟢 SupervisableTextDataset: Set up label encoder/decoder with </span><span style=\"color: #008080; text-decoration-color: #008080; font-weight: bold\">20</span><span style=\"color: #008000; text-decoration-color: #008000\"> classes.</span>\n",
       "</pre>\n"
      ],
      "text/plain": [
       "\u001b[32m🟢 SupervisableTextDataset: Set up label encoder/decoder with \u001b[0m\u001b[1;36m20\u001b[0m\u001b[32m classes.\u001b[0m\n"
      ]
     },
     "metadata": {},
     "output_type": "display_data"
    },
    {
     "data": {
      "text/html": [
       "<pre style=\"white-space:pre;overflow-x:auto;line-height:normal;font-family:Menlo,'DejaVu Sans Mono',consolas,'Courier New',monospace\"><span style=\"color: #008000; text-decoration-color: #008000\">🟢 SupervisableTextDataset: Population updater: latest population with </span><span style=\"color: #008080; text-decoration-color: #008080; font-weight: bold\">20</span><span style=\"color: #008000; text-decoration-color: #008000\"> classes.</span>\n",
       "</pre>\n"
      ],
      "text/plain": [
       "\u001b[32m🟢 SupervisableTextDataset: Population updater: latest population with \u001b[0m\u001b[1;36m20\u001b[0m\u001b[32m classes.\u001b[0m\n"
      ]
     },
     "metadata": {},
     "output_type": "display_data"
    },
    {
     "data": {
      "text/html": [
       "<pre style=\"white-space:pre;overflow-x:auto;line-height:normal;font-family:Menlo,'DejaVu Sans Mono',consolas,'Courier New',monospace\"><span style=\"color: #008000; text-decoration-color: #008000\">🟢 SupervisableTextDataset: SupervisableTextDataset: finished initialization.</span>\n",
       "</pre>\n"
      ],
      "text/plain": [
       "\u001b[32m🟢 SupervisableTextDataset: SupervisableTextDataset: finished initialization.\u001b[0m\n"
      ]
     },
     "metadata": {},
     "output_type": "display_data"
    }
   ],
   "source": [
    "from hover.core.dataset import SupervisableTextDataset\n",
    "import pandas as pd\n",
    "\n",
    "raw_csv_path = \"https://raw.githubusercontent.com/phurwicz/hover-gallery/main/0.5.0/20_newsgroups_raw.csv\"\n",
    "train_csv_path = \"https://raw.githubusercontent.com/phurwicz/hover-gallery/main/0.5.0/20_newsgroups_train.csv\"\n",
    "\n",
    "# for fast, low-memory demonstration purpose, sample the data\n",
    "df_raw = pd.read_csv(raw_csv_path).sample(400)\n",
    "df_raw[\"SUBSET\"] = \"raw\"\n",
    "df_train = pd.read_csv(train_csv_path).sample(400)\n",
    "df_train[\"SUBSET\"] = \"train\"\n",
    "df_dev = pd.read_csv(train_csv_path).sample(100)\n",
    "df_dev[\"SUBSET\"] = \"dev\"\n",
    "df_test = pd.read_csv(train_csv_path).sample(100)\n",
    "df_test[\"SUBSET\"] = \"test\"\n",
    "\n",
    "# build overall dataframe and ensure feature type\n",
    "df = pd.concat([df_raw, df_train, df_dev, df_test])\n",
    "df[\"text\"] = df[\"text\"].astype(str)\n",
    "\n",
    "# this class stores the dataset throught the labeling process\n",
    "dataset = SupervisableTextDataset.from_pandas(df, feature_key=\"text\", label_key=\"label\")"
   ]
  },
  {
   "cell_type": "markdown",
   "id": "a6b9efa7",
   "metadata": {},
   "source": [
    "<br>"
   ]
  },
  {
   "cell_type": "code",
   "execution_count": 2,
   "id": "a05048be",
   "metadata": {
    "execution": {
     "iopub.execute_input": "2023-04-18T01:39:15.264703Z",
     "iopub.status.busy": "2023-04-18T01:39:15.264099Z",
     "iopub.status.idle": "2023-04-18T01:39:15.372092Z",
     "shell.execute_reply": "2023-04-18T01:39:15.371145Z"
    }
   },
   "outputs": [
    {
     "data": {
      "text/html": [
       "<style>\n",
       "        .bk-notebook-logo {\n",
       "            display: block;\n",
       "            width: 20px;\n",
       "            height: 20px;\n",
       "            background-image: url(data:image/png;base64,iVBORw0KGgoAAAANSUhEUgAAABQAAAAUCAYAAACNiR0NAAAABHNCSVQICAgIfAhkiAAAAAlwSFlzAAALEgAACxIB0t1+/AAAABx0RVh0U29mdHdhcmUAQWRvYmUgRmlyZXdvcmtzIENTNui8sowAAAOkSURBVDiNjZRtaJVlGMd/1/08zzln5zjP1LWcU9N0NkN8m2CYjpgQYQXqSs0I84OLIC0hkEKoPtiH3gmKoiJDU7QpLgoLjLIQCpEsNJ1vqUOdO7ppbuec5+V+rj4ctwzd8IIbbi6u+8f1539dt3A78eXC7QizUF7gyV1fD1Yqg4JWz84yffhm0qkFqBogB9rM8tZdtwVsPUhWhGcFJngGeWrPzHm5oaMmkfEg1usvLFyc8jLRqDOMru7AyC8saQr7GG7f5fvDeH7Ej8CM66nIF+8yngt6HWaKh7k49Soy9nXurCi1o3qUbS3zWfrYeQDTB/Qj6kX6Ybhw4B+bOYoLKCC9H3Nu/leUTZ1JdRWkkn2ldcCamzrcf47KKXdAJllSlxAOkRgyHsGC/zRday5Qld9DyoM4/q/rUoy/CXh3jzOu3bHUVZeU+DEn8FInkPBFlu3+nW3Nw0mk6vCDiWg8CeJaxEwuHS3+z5RgY+YBR6V1Z1nxSOfoaPa4LASWxxdNp+VWTk7+4vzaou8v8PN+xo+KY2xsw6une2frhw05CTYOmQvsEhjhWjn0bmXPjpE1+kplmmkP3suftwTubK9Vq22qKmrBhpY4jvd5afdRA3wGjFAgcnTK2s4hY0/GPNIb0nErGMCRxWOOX64Z8RAC4oCXdklmEvcL8o0BfkNK4lUg9HTl+oPlQxdNo3Mg4Nv175e/1LDGzZen30MEjRUtmXSfiTVu1kK8W4txyV6BMKlbgk3lMwYCiusNy9fVfvvwMxv8Ynl6vxoByANLTWplvuj/nF9m2+PDtt1eiHPBr1oIfhCChQMBw6Aw0UulqTKZdfVvfG7VcfIqLG9bcldL/+pdWTLxLUy8Qq38heUIjh4XlzZxzQm19lLFlr8vdQ97rjZVOLf8nclzckbcD4wxXMidpX30sFd37Fv/GtwwhzhxGVAprjbg0gCAEeIgwCZyTV2Z1REEW8O4py0wsjeloKoMr6iCY6dP92H6Vw/oTyICIthibxjm/DfN9lVz8IqtqKYLUXfoKVMVQVVJOElGjrnnUt9T9wbgp8AyYKaGlqingHZU/uG2NTZSVqwHQTWkx9hxjkpWDaCg6Ckj5qebgBVbT3V3NNXMSiWSDdGV3hrtzla7J+duwPOToIg42ChPQOQjspnSlp1V+Gjdged7+8UN5CRAV7a5EdFNwCjEaBR27b3W890TE7g24NAP/mMDXRWrGoFPQI9ls/MWO2dWFAar/xcOIImbbpA3zgAAAABJRU5ErkJggg==);\n",
       "        }\n",
       "    </style>\n",
       "    <div>\n",
       "        <a href=\"https://bokeh.org\" target=\"_blank\" class=\"bk-notebook-logo\"></a>\n",
       "        <span id=\"p1055\">Loading BokehJS ...</span>\n",
       "    </div>\n"
      ]
     },
     "metadata": {},
     "output_type": "display_data"
    },
    {
     "data": {
      "application/javascript": [
       "(function(root) {\n",
       "  function now() {\n",
       "    return new Date();\n",
       "  }\n",
       "\n",
       "  const force = true;\n",
       "\n",
       "  if (typeof root._bokeh_onload_callbacks === \"undefined\" || force === true) {\n",
       "    root._bokeh_onload_callbacks = [];\n",
       "    root._bokeh_is_loading = undefined;\n",
       "  }\n",
       "\n",
       "const JS_MIME_TYPE = 'application/javascript';\n",
       "  const HTML_MIME_TYPE = 'text/html';\n",
       "  const EXEC_MIME_TYPE = 'application/vnd.bokehjs_exec.v0+json';\n",
       "  const CLASS_NAME = 'output_bokeh rendered_html';\n",
       "\n",
       "  /**\n",
       "   * Render data to the DOM node\n",
       "   */\n",
       "  function render(props, node) {\n",
       "    const script = document.createElement(\"script\");\n",
       "    node.appendChild(script);\n",
       "  }\n",
       "\n",
       "  /**\n",
       "   * Handle when an output is cleared or removed\n",
       "   */\n",
       "  function handleClearOutput(event, handle) {\n",
       "    const cell = handle.cell;\n",
       "\n",
       "    const id = cell.output_area._bokeh_element_id;\n",
       "    const server_id = cell.output_area._bokeh_server_id;\n",
       "    // Clean up Bokeh references\n",
       "    if (id != null && id in Bokeh.index) {\n",
       "      Bokeh.index[id].model.document.clear();\n",
       "      delete Bokeh.index[id];\n",
       "    }\n",
       "\n",
       "    if (server_id !== undefined) {\n",
       "      // Clean up Bokeh references\n",
       "      const cmd_clean = \"from bokeh.io.state import curstate; print(curstate().uuid_to_server['\" + server_id + \"'].get_sessions()[0].document.roots[0]._id)\";\n",
       "      cell.notebook.kernel.execute(cmd_clean, {\n",
       "        iopub: {\n",
       "          output: function(msg) {\n",
       "            const id = msg.content.text.trim();\n",
       "            if (id in Bokeh.index) {\n",
       "              Bokeh.index[id].model.document.clear();\n",
       "              delete Bokeh.index[id];\n",
       "            }\n",
       "          }\n",
       "        }\n",
       "      });\n",
       "      // Destroy server and session\n",
       "      const cmd_destroy = \"import bokeh.io.notebook as ion; ion.destroy_server('\" + server_id + \"')\";\n",
       "      cell.notebook.kernel.execute(cmd_destroy);\n",
       "    }\n",
       "  }\n",
       "\n",
       "  /**\n",
       "   * Handle when a new output is added\n",
       "   */\n",
       "  function handleAddOutput(event, handle) {\n",
       "    const output_area = handle.output_area;\n",
       "    const output = handle.output;\n",
       "\n",
       "    // limit handleAddOutput to display_data with EXEC_MIME_TYPE content only\n",
       "    if ((output.output_type != \"display_data\") || (!Object.prototype.hasOwnProperty.call(output.data, EXEC_MIME_TYPE))) {\n",
       "      return\n",
       "    }\n",
       "\n",
       "    const toinsert = output_area.element.find(\".\" + CLASS_NAME.split(' ')[0]);\n",
       "\n",
       "    if (output.metadata[EXEC_MIME_TYPE][\"id\"] !== undefined) {\n",
       "      toinsert[toinsert.length - 1].firstChild.textContent = output.data[JS_MIME_TYPE];\n",
       "      // store reference to embed id on output_area\n",
       "      output_area._bokeh_element_id = output.metadata[EXEC_MIME_TYPE][\"id\"];\n",
       "    }\n",
       "    if (output.metadata[EXEC_MIME_TYPE][\"server_id\"] !== undefined) {\n",
       "      const bk_div = document.createElement(\"div\");\n",
       "      bk_div.innerHTML = output.data[HTML_MIME_TYPE];\n",
       "      const script_attrs = bk_div.children[0].attributes;\n",
       "      for (let i = 0; i < script_attrs.length; i++) {\n",
       "        toinsert[toinsert.length - 1].firstChild.setAttribute(script_attrs[i].name, script_attrs[i].value);\n",
       "        toinsert[toinsert.length - 1].firstChild.textContent = bk_div.children[0].textContent\n",
       "      }\n",
       "      // store reference to server id on output_area\n",
       "      output_area._bokeh_server_id = output.metadata[EXEC_MIME_TYPE][\"server_id\"];\n",
       "    }\n",
       "  }\n",
       "\n",
       "  function register_renderer(events, OutputArea) {\n",
       "\n",
       "    function append_mime(data, metadata, element) {\n",
       "      // create a DOM node to render to\n",
       "      const toinsert = this.create_output_subarea(\n",
       "        metadata,\n",
       "        CLASS_NAME,\n",
       "        EXEC_MIME_TYPE\n",
       "      );\n",
       "      this.keyboard_manager.register_events(toinsert);\n",
       "      // Render to node\n",
       "      const props = {data: data, metadata: metadata[EXEC_MIME_TYPE]};\n",
       "      render(props, toinsert[toinsert.length - 1]);\n",
       "      element.append(toinsert);\n",
       "      return toinsert\n",
       "    }\n",
       "\n",
       "    /* Handle when an output is cleared or removed */\n",
       "    events.on('clear_output.CodeCell', handleClearOutput);\n",
       "    events.on('delete.Cell', handleClearOutput);\n",
       "\n",
       "    /* Handle when a new output is added */\n",
       "    events.on('output_added.OutputArea', handleAddOutput);\n",
       "\n",
       "    /**\n",
       "     * Register the mime type and append_mime function with output_area\n",
       "     */\n",
       "    OutputArea.prototype.register_mime_type(EXEC_MIME_TYPE, append_mime, {\n",
       "      /* Is output safe? */\n",
       "      safe: true,\n",
       "      /* Index of renderer in `output_area.display_order` */\n",
       "      index: 0\n",
       "    });\n",
       "  }\n",
       "\n",
       "  // register the mime type if in Jupyter Notebook environment and previously unregistered\n",
       "  if (root.Jupyter !== undefined) {\n",
       "    const events = require('base/js/events');\n",
       "    const OutputArea = require('notebook/js/outputarea').OutputArea;\n",
       "\n",
       "    if (OutputArea.prototype.mime_types().indexOf(EXEC_MIME_TYPE) == -1) {\n",
       "      register_renderer(events, OutputArea);\n",
       "    }\n",
       "  }\n",
       "  if (typeof (root._bokeh_timeout) === \"undefined\" || force === true) {\n",
       "    root._bokeh_timeout = Date.now() + 5000;\n",
       "    root._bokeh_failed_load = false;\n",
       "  }\n",
       "\n",
       "  const NB_LOAD_WARNING = {'data': {'text/html':\n",
       "     \"<div style='background-color: #fdd'>\\n\"+\n",
       "     \"<p>\\n\"+\n",
       "     \"BokehJS does not appear to have successfully loaded. If loading BokehJS from CDN, this \\n\"+\n",
       "     \"may be due to a slow or bad network connection. Possible fixes:\\n\"+\n",
       "     \"</p>\\n\"+\n",
       "     \"<ul>\\n\"+\n",
       "     \"<li>re-rerun `output_notebook()` to attempt to load from CDN again, or</li>\\n\"+\n",
       "     \"<li>use INLINE resources instead, as so:</li>\\n\"+\n",
       "     \"</ul>\\n\"+\n",
       "     \"<code>\\n\"+\n",
       "     \"from bokeh.resources import INLINE\\n\"+\n",
       "     \"output_notebook(resources=INLINE)\\n\"+\n",
       "     \"</code>\\n\"+\n",
       "     \"</div>\"}};\n",
       "\n",
       "  function display_loaded() {\n",
       "    const el = document.getElementById(\"p1055\");\n",
       "    if (el != null) {\n",
       "      el.textContent = \"BokehJS is loading...\";\n",
       "    }\n",
       "    if (root.Bokeh !== undefined) {\n",
       "      if (el != null) {\n",
       "        el.textContent = \"BokehJS \" + root.Bokeh.version + \" successfully loaded.\";\n",
       "      }\n",
       "    } else if (Date.now() < root._bokeh_timeout) {\n",
       "      setTimeout(display_loaded, 100)\n",
       "    }\n",
       "  }\n",
       "\n",
       "  function run_callbacks() {\n",
       "    try {\n",
       "      root._bokeh_onload_callbacks.forEach(function(callback) {\n",
       "        if (callback != null)\n",
       "          callback();\n",
       "      });\n",
       "    } finally {\n",
       "      delete root._bokeh_onload_callbacks\n",
       "    }\n",
       "    console.debug(\"Bokeh: all callbacks have finished\");\n",
       "  }\n",
       "\n",
       "  function load_libs(css_urls, js_urls, callback) {\n",
       "    if (css_urls == null) css_urls = [];\n",
       "    if (js_urls == null) js_urls = [];\n",
       "\n",
       "    root._bokeh_onload_callbacks.push(callback);\n",
       "    if (root._bokeh_is_loading > 0) {\n",
       "      console.debug(\"Bokeh: BokehJS is being loaded, scheduling callback at\", now());\n",
       "      return null;\n",
       "    }\n",
       "    if (js_urls == null || js_urls.length === 0) {\n",
       "      run_callbacks();\n",
       "      return null;\n",
       "    }\n",
       "    console.debug(\"Bokeh: BokehJS not loaded, scheduling load and callback at\", now());\n",
       "    root._bokeh_is_loading = css_urls.length + js_urls.length;\n",
       "\n",
       "    function on_load() {\n",
       "      root._bokeh_is_loading--;\n",
       "      if (root._bokeh_is_loading === 0) {\n",
       "        console.debug(\"Bokeh: all BokehJS libraries/stylesheets loaded\");\n",
       "        run_callbacks()\n",
       "      }\n",
       "    }\n",
       "\n",
       "    function on_error(url) {\n",
       "      console.error(\"failed to load \" + url);\n",
       "    }\n",
       "\n",
       "    for (let i = 0; i < css_urls.length; i++) {\n",
       "      const url = css_urls[i];\n",
       "      const element = document.createElement(\"link\");\n",
       "      element.onload = on_load;\n",
       "      element.onerror = on_error.bind(null, url);\n",
       "      element.rel = \"stylesheet\";\n",
       "      element.type = \"text/css\";\n",
       "      element.href = url;\n",
       "      console.debug(\"Bokeh: injecting link tag for BokehJS stylesheet: \", url);\n",
       "      document.body.appendChild(element);\n",
       "    }\n",
       "\n",
       "    for (let i = 0; i < js_urls.length; i++) {\n",
       "      const url = js_urls[i];\n",
       "      const element = document.createElement('script');\n",
       "      element.onload = on_load;\n",
       "      element.onerror = on_error.bind(null, url);\n",
       "      element.async = false;\n",
       "      element.src = url;\n",
       "      console.debug(\"Bokeh: injecting script tag for BokehJS library: \", url);\n",
       "      document.head.appendChild(element);\n",
       "    }\n",
       "  };\n",
       "\n",
       "  function inject_raw_css(css) {\n",
       "    const element = document.createElement(\"style\");\n",
       "    element.appendChild(document.createTextNode(css));\n",
       "    document.body.appendChild(element);\n",
       "  }\n",
       "\n",
       "  const js_urls = [\"https://cdn.bokeh.org/bokeh/release/bokeh-3.1.0.min.js\", \"https://cdn.bokeh.org/bokeh/release/bokeh-gl-3.1.0.min.js\", \"https://cdn.bokeh.org/bokeh/release/bokeh-widgets-3.1.0.min.js\", \"https://cdn.bokeh.org/bokeh/release/bokeh-tables-3.1.0.min.js\", \"https://cdn.bokeh.org/bokeh/release/bokeh-mathjax-3.1.0.min.js\"];\n",
       "  const css_urls = [];\n",
       "\n",
       "  const inline_js = [    function(Bokeh) {\n",
       "      Bokeh.set_log_level(\"info\");\n",
       "    },\n",
       "function(Bokeh) {\n",
       "    }\n",
       "  ];\n",
       "\n",
       "  function run_inline_js() {\n",
       "    if (root.Bokeh !== undefined || force === true) {\n",
       "          for (let i = 0; i < inline_js.length; i++) {\n",
       "      inline_js[i].call(root, root.Bokeh);\n",
       "    }\n",
       "if (force === true) {\n",
       "        display_loaded();\n",
       "      }} else if (Date.now() < root._bokeh_timeout) {\n",
       "      setTimeout(run_inline_js, 100);\n",
       "    } else if (!root._bokeh_failed_load) {\n",
       "      console.log(\"Bokeh: BokehJS failed to load within specified timeout.\");\n",
       "      root._bokeh_failed_load = true;\n",
       "    } else if (force !== true) {\n",
       "      const cell = $(document.getElementById(\"p1055\")).parents('.cell').data().cell;\n",
       "      cell.output_area.append_execute_result(NB_LOAD_WARNING)\n",
       "    }\n",
       "  }\n",
       "\n",
       "  if (root._bokeh_is_loading === 0) {\n",
       "    console.debug(\"Bokeh: BokehJS loaded, going straight to plotting\");\n",
       "    run_inline_js();\n",
       "  } else {\n",
       "    load_libs(css_urls, js_urls, function() {\n",
       "      console.debug(\"Bokeh: BokehJS plotting callback run at\", now());\n",
       "      run_inline_js();\n",
       "    });\n",
       "  }\n",
       "}(window));"
      ],
      "application/vnd.bokehjs_load.v0+json": "(function(root) {\n  function now() {\n    return new Date();\n  }\n\n  const force = true;\n\n  if (typeof root._bokeh_onload_callbacks === \"undefined\" || force === true) {\n    root._bokeh_onload_callbacks = [];\n    root._bokeh_is_loading = undefined;\n  }\n\n\n  if (typeof (root._bokeh_timeout) === \"undefined\" || force === true) {\n    root._bokeh_timeout = Date.now() + 5000;\n    root._bokeh_failed_load = false;\n  }\n\n  const NB_LOAD_WARNING = {'data': {'text/html':\n     \"<div style='background-color: #fdd'>\\n\"+\n     \"<p>\\n\"+\n     \"BokehJS does not appear to have successfully loaded. If loading BokehJS from CDN, this \\n\"+\n     \"may be due to a slow or bad network connection. Possible fixes:\\n\"+\n     \"</p>\\n\"+\n     \"<ul>\\n\"+\n     \"<li>re-rerun `output_notebook()` to attempt to load from CDN again, or</li>\\n\"+\n     \"<li>use INLINE resources instead, as so:</li>\\n\"+\n     \"</ul>\\n\"+\n     \"<code>\\n\"+\n     \"from bokeh.resources import INLINE\\n\"+\n     \"output_notebook(resources=INLINE)\\n\"+\n     \"</code>\\n\"+\n     \"</div>\"}};\n\n  function display_loaded() {\n    const el = document.getElementById(\"p1055\");\n    if (el != null) {\n      el.textContent = \"BokehJS is loading...\";\n    }\n    if (root.Bokeh !== undefined) {\n      if (el != null) {\n        el.textContent = \"BokehJS \" + root.Bokeh.version + \" successfully loaded.\";\n      }\n    } else if (Date.now() < root._bokeh_timeout) {\n      setTimeout(display_loaded, 100)\n    }\n  }\n\n  function run_callbacks() {\n    try {\n      root._bokeh_onload_callbacks.forEach(function(callback) {\n        if (callback != null)\n          callback();\n      });\n    } finally {\n      delete root._bokeh_onload_callbacks\n    }\n    console.debug(\"Bokeh: all callbacks have finished\");\n  }\n\n  function load_libs(css_urls, js_urls, callback) {\n    if (css_urls == null) css_urls = [];\n    if (js_urls == null) js_urls = [];\n\n    root._bokeh_onload_callbacks.push(callback);\n    if (root._bokeh_is_loading > 0) {\n      console.debug(\"Bokeh: BokehJS is being loaded, scheduling callback at\", now());\n      return null;\n    }\n    if (js_urls == null || js_urls.length === 0) {\n      run_callbacks();\n      return null;\n    }\n    console.debug(\"Bokeh: BokehJS not loaded, scheduling load and callback at\", now());\n    root._bokeh_is_loading = css_urls.length + js_urls.length;\n\n    function on_load() {\n      root._bokeh_is_loading--;\n      if (root._bokeh_is_loading === 0) {\n        console.debug(\"Bokeh: all BokehJS libraries/stylesheets loaded\");\n        run_callbacks()\n      }\n    }\n\n    function on_error(url) {\n      console.error(\"failed to load \" + url);\n    }\n\n    for (let i = 0; i < css_urls.length; i++) {\n      const url = css_urls[i];\n      const element = document.createElement(\"link\");\n      element.onload = on_load;\n      element.onerror = on_error.bind(null, url);\n      element.rel = \"stylesheet\";\n      element.type = \"text/css\";\n      element.href = url;\n      console.debug(\"Bokeh: injecting link tag for BokehJS stylesheet: \", url);\n      document.body.appendChild(element);\n    }\n\n    for (let i = 0; i < js_urls.length; i++) {\n      const url = js_urls[i];\n      const element = document.createElement('script');\n      element.onload = on_load;\n      element.onerror = on_error.bind(null, url);\n      element.async = false;\n      element.src = url;\n      console.debug(\"Bokeh: injecting script tag for BokehJS library: \", url);\n      document.head.appendChild(element);\n    }\n  };\n\n  function inject_raw_css(css) {\n    const element = document.createElement(\"style\");\n    element.appendChild(document.createTextNode(css));\n    document.body.appendChild(element);\n  }\n\n  const js_urls = [\"https://cdn.bokeh.org/bokeh/release/bokeh-3.1.0.min.js\", \"https://cdn.bokeh.org/bokeh/release/bokeh-gl-3.1.0.min.js\", \"https://cdn.bokeh.org/bokeh/release/bokeh-widgets-3.1.0.min.js\", \"https://cdn.bokeh.org/bokeh/release/bokeh-tables-3.1.0.min.js\", \"https://cdn.bokeh.org/bokeh/release/bokeh-mathjax-3.1.0.min.js\"];\n  const css_urls = [];\n\n  const inline_js = [    function(Bokeh) {\n      Bokeh.set_log_level(\"info\");\n    },\nfunction(Bokeh) {\n    }\n  ];\n\n  function run_inline_js() {\n    if (root.Bokeh !== undefined || force === true) {\n          for (let i = 0; i < inline_js.length; i++) {\n      inline_js[i].call(root, root.Bokeh);\n    }\nif (force === true) {\n        display_loaded();\n      }} else if (Date.now() < root._bokeh_timeout) {\n      setTimeout(run_inline_js, 100);\n    } else if (!root._bokeh_failed_load) {\n      console.log(\"Bokeh: BokehJS failed to load within specified timeout.\");\n      root._bokeh_failed_load = true;\n    } else if (force !== true) {\n      const cell = $(document.getElementById(\"p1055\")).parents('.cell').data().cell;\n      cell.output_area.append_execute_result(NB_LOAD_WARNING)\n    }\n  }\n\n  if (root._bokeh_is_loading === 0) {\n    console.debug(\"Bokeh: BokehJS loaded, going straight to plotting\");\n    run_inline_js();\n  } else {\n    load_libs(css_urls, js_urls, function() {\n      console.debug(\"Bokeh: BokehJS plotting callback run at\", now());\n      run_inline_js();\n    });\n  }\n}(window));"
     },
     "metadata": {},
     "output_type": "display_data"
    },
    {
     "data": {
      "text/html": [
       "\n",
       "  <div id=\"ff10bfe8-9990-4f42-a4c8-8c8954347c09\" data-root-id=\"p1032\" style=\"display: contents;\"></div>\n"
      ]
     },
     "metadata": {},
     "output_type": "display_data"
    },
    {
     "data": {
      "application/javascript": [
       "(function(root) {\n",
       "  function embed_document(root) {\n",
       "  const docs_json = {\"95bda7ee-ca6a-4453-bbdd-bf7da46a82b4\":{\"version\":\"3.1.0\",\"title\":\"Bokeh Application\",\"defs\":[],\"roots\":[{\"type\":\"object\",\"name\":\"DataTable\",\"id\":\"p1032\",\"attributes\":{\"source\":{\"type\":\"object\",\"name\":\"ColumnDataSource\",\"id\":\"p1010\",\"attributes\":{\"selected\":{\"type\":\"object\",\"name\":\"Selection\",\"id\":\"p1011\",\"attributes\":{\"indices\":[],\"line_indices\":[]}},\"selection_policy\":{\"type\":\"object\",\"name\":\"UnionRenderers\",\"id\":\"p1012\"},\"data\":{\"type\":\"map\",\"entries\":[[\"color\",[\"#dcdcdc\",\"#3c358b\",\"#4456c7\",\"#4675ed\",\"#4193fe\",\"#2fb1f3\",\"#1bcfd4\",\"#1ae4b6\",\"#35f394\",\"#61fc6c\",\"#8efe48\",\"#b3f835\",\"#d1e834\",\"#ead339\",\"#f9ba38\",\"#fe9b2d\",\"#f8741c\",\"#ec520e\",\"#d93806\",\"#c02302\",\"#a01101\"]],[\"label\",[\"ABSTAIN\",\"alt.atheism\",\"comp.graphics\",\"comp.os.ms-windows.misc\",\"comp.sys.ibm.pc.hardware\",\"comp.sys.mac.hardware\",\"comp.windows.x\",\"misc.forsale\",\"rec.autos\",\"rec.motorcycles\",\"rec.sport.baseball\",\"rec.sport.hockey\",\"sci.crypt\",\"sci.electronics\",\"sci.med\",\"sci.space\",\"soc.religion.christian\",\"talk.politics.guns\",\"talk.politics.mideast\",\"talk.politics.misc\",\"talk.religion.misc\"]],[\"count_raw\",[377,0,0,0,0,0,0,0,0,0,0,0,0,0,0,0,0,0,0,0,0]],[\"count_train\",[0,17,23,14,25,21,28,23,21,16,15,16,19,18,22,26,23,18,19,11,9]],[\"count_dev\",[0,1,8,6,4,3,7,5,2,2,3,6,6,8,3,3,3,4,8,7,4]],[\"count_test\",[0,5,8,6,2,10,4,2,5,5,4,8,4,3,5,4,6,6,5,4,3]]]}}},\"view\":{\"type\":\"object\",\"name\":\"CDSView\",\"id\":\"p1036\",\"attributes\":{\"filter\":{\"type\":\"object\",\"name\":\"AllIndices\",\"id\":\"p1037\"}}},\"columns\":[{\"type\":\"object\",\"name\":\"TableColumn\",\"id\":\"p1013\",\"attributes\":{\"field\":\"label\",\"title\":\"label\",\"formatter\":{\"type\":\"object\",\"name\":\"StringFormatter\",\"id\":\"p1015\"},\"editor\":{\"type\":\"object\",\"name\":\"StringEditor\",\"id\":\"p1014\"}}},{\"type\":\"object\",\"name\":\"TableColumn\",\"id\":\"p1016\",\"attributes\":{\"field\":\"count_raw\",\"title\":\"raw\",\"formatter\":{\"type\":\"object\",\"name\":\"StringFormatter\",\"id\":\"p1018\"},\"editor\":{\"type\":\"object\",\"name\":\"StringEditor\",\"id\":\"p1017\"}}},{\"type\":\"object\",\"name\":\"TableColumn\",\"id\":\"p1019\",\"attributes\":{\"field\":\"count_train\",\"title\":\"train\",\"formatter\":{\"type\":\"object\",\"name\":\"StringFormatter\",\"id\":\"p1021\"},\"editor\":{\"type\":\"object\",\"name\":\"StringEditor\",\"id\":\"p1020\"}}},{\"type\":\"object\",\"name\":\"TableColumn\",\"id\":\"p1022\",\"attributes\":{\"field\":\"count_dev\",\"title\":\"dev\",\"formatter\":{\"type\":\"object\",\"name\":\"StringFormatter\",\"id\":\"p1024\"},\"editor\":{\"type\":\"object\",\"name\":\"StringEditor\",\"id\":\"p1023\"}}},{\"type\":\"object\",\"name\":\"TableColumn\",\"id\":\"p1025\",\"attributes\":{\"field\":\"count_test\",\"title\":\"test\",\"formatter\":{\"type\":\"object\",\"name\":\"StringFormatter\",\"id\":\"p1027\"},\"editor\":{\"type\":\"object\",\"name\":\"StringEditor\",\"id\":\"p1026\"}}},{\"type\":\"object\",\"name\":\"TableColumn\",\"id\":\"p1029\",\"attributes\":{\"field\":\"color\",\"title\":\"color\",\"formatter\":{\"type\":\"object\",\"name\":\"HTMLTemplateFormatter\",\"id\":\"p1028\",\"attributes\":{\"template\":\"\\n<p style=\\\"color:<%= value %>;\\\">\\n    <%= \\\"&#9608;&#9608;&#9608;\\\" %>\\n</p>\\n\"}},\"editor\":{\"type\":\"object\",\"name\":\"StringEditor\",\"id\":\"p1031\"}}}]}}],\"callbacks\":{\"type\":\"map\"}}};\n",
       "  const render_items = [{\"docid\":\"95bda7ee-ca6a-4453-bbdd-bf7da46a82b4\",\"roots\":{\"p1032\":\"ff10bfe8-9990-4f42-a4c8-8c8954347c09\"},\"root_ids\":[\"p1032\"]}];\n",
       "  root.Bokeh.embed.embed_items_notebook(docs_json, render_items);\n",
       "  }\n",
       "  if (root.Bokeh !== undefined) {\n",
       "    embed_document(root);\n",
       "  } else {\n",
       "    let attempts = 0;\n",
       "    const timer = setInterval(function(root) {\n",
       "      if (root.Bokeh !== undefined) {\n",
       "        clearInterval(timer);\n",
       "        embed_document(root);\n",
       "      } else {\n",
       "        attempts++;\n",
       "        if (attempts > 100) {\n",
       "          clearInterval(timer);\n",
       "          console.log(\"Bokeh: ERROR: Unable to run BokehJS code because BokehJS library is missing\");\n",
       "        }\n",
       "      }\n",
       "    }, 10, root)\n",
       "  }\n",
       "})(window);"
      ],
      "application/vnd.bokehjs_exec.v0+json": ""
     },
     "metadata": {
      "application/vnd.bokehjs_exec.v0+json": {
       "id": "p1032"
      }
     },
     "output_type": "display_data"
    }
   ],
   "source": [
    "from bokeh.io import show, output_notebook\n",
    "\n",
    "output_notebook()\n",
    "\n",
    "# normally your would skip notebook_url or use Jupyter address\n",
    "notebook_url = 'localhost:8888'\n",
    "\n",
    "show(dataset.pop_table, notebook_url=notebook_url)"
   ]
  },
  {
   "cell_type": "markdown",
   "id": "a5e31572",
   "metadata": {},
   "source": [
    "<br>\n",
    "\n",
    "### **Transfer Data Between Subsets**\n",
    "\n",
    "`COMMIT` and `DEDUP` are the mechanisms that `hover` uses to transfer data between subsets.\n",
    "\n",
    "-   `COMMIT` copies selected points (to be discussed later) to a destination subset\n",
    "    -   labeled-raw-only: `COMMIT` automatically detects which points are in the raw set with a valid label. Other points will not get copied.\n",
    "    -   keep-last: you can commit the same point to the same subset multiple times and the last copy will be kept. This can be useful for revising labels before `DEDUP`.\n",
    "-   `DEDUP` removes duplicates (identified by feature value) across subsets\n",
    "    -   priority rule: test > dev > train > raw, i.e. test set data always gets kept during deduplication\n",
    "\n",
    "-   <details open><summary>FAQ</summary>\n",
    "    <details open><summary>Why does COMMIT only work on the raw subset?</summary>\n",
    "        Most selections will happen through plots, where different subsets are on top of each other. This means selections can contain both unlabeled and labeled points.\n",
    "\n",
    "        Way too often we find ourselves trying to view both the labeled and the unlabeled, but only moving the unlabeled \"raw\" points. So it's handy that COMMIT picks those points only.\n",
    "    </details>\n",
    "\n",
    "</details>\n",
    "\n",
    "These mechanisms correspond to buttons in `hover`'s annotation interface, which you have encountered in the quickstart:"
   ]
  },
  {
   "cell_type": "code",
   "execution_count": 3,
   "id": "4b1611ff",
   "metadata": {
    "execution": {
     "iopub.execute_input": "2023-04-18T01:39:15.376793Z",
     "iopub.status.busy": "2023-04-18T01:39:15.375848Z",
     "iopub.status.idle": "2023-04-18T01:39:15.456693Z",
     "shell.execute_reply": "2023-04-18T01:39:15.454890Z"
    }
   },
   "outputs": [
    {
     "name": "stderr",
     "output_type": "stream",
     "text": [
      "WARNING:bokeh.embed.util:\n",
      "You are generating standalone HTML/JS output, but trying to use real Python\n",
      "callbacks (i.e. with on_change or on_event). This combination cannot work.\n",
      "\n",
      "Only JavaScript callbacks may be used with standalone output. For more\n",
      "information on JavaScript callbacks with Bokeh, see:\n",
      "\n",
      "    https://docs.bokeh.org/en/latest/docs/user_guide/interaction/callbacks.html\n",
      "\n",
      "Alternatively, to use real Python callbacks, a Bokeh server application may\n",
      "be used. For more information on building and running Bokeh applications, see:\n",
      "\n",
      "    https://docs.bokeh.org/en/latest/docs/user_guide/server.html\n",
      "\n"
     ]
    },
    {
     "data": {
      "text/html": [
       "\n",
       "  <div id=\"ffa276ac-06e7-4ada-8787-4335fb5df2e7\" data-root-id=\"p1153\" style=\"display: contents;\"></div>\n"
      ]
     },
     "metadata": {},
     "output_type": "display_data"
    },
    {
     "data": {
      "application/javascript": [
       "(function(root) {\n",
       "  function embed_document(root) {\n",
       "  const docs_json = {\"fa09d923-41f7-4ac2-ba3a-7d1bf2046488\":{\"version\":\"3.1.0\",\"title\":\"Bokeh Application\",\"defs\":[],\"roots\":[{\"type\":\"object\",\"name\":\"Column\",\"id\":\"p1153\",\"attributes\":{\"children\":[{\"type\":\"object\",\"name\":\"Row\",\"id\":\"p1152\",\"attributes\":{\"children\":[{\"type\":\"object\",\"name\":\"Dropdown\",\"id\":\"p1002\",\"attributes\":{\"button_type\":\"warning\",\"subscribed_events\":{\"type\":\"set\",\"entries\":[\"menu_item_click\",\"button_click\"]},\"label\":\"Commit\",\"menu\":[\"train\",\"dev\",\"test\"]}},{\"type\":\"object\",\"name\":\"Button\",\"id\":\"p1003\",\"attributes\":{\"button_type\":\"warning\",\"subscribed_events\":{\"type\":\"set\",\"entries\":[\"button_click\"]},\"label\":\"Dedup\"}}]}},{\"type\":\"object\",\"name\":\"DataTable\",\"id\":\"p1032\",\"attributes\":{\"source\":{\"type\":\"object\",\"name\":\"ColumnDataSource\",\"id\":\"p1010\",\"attributes\":{\"selected\":{\"type\":\"object\",\"name\":\"Selection\",\"id\":\"p1011\",\"attributes\":{\"indices\":[],\"line_indices\":[]}},\"selection_policy\":{\"type\":\"object\",\"name\":\"UnionRenderers\",\"id\":\"p1012\"},\"data\":{\"type\":\"map\",\"entries\":[[\"color\",[\"#dcdcdc\",\"#3c358b\",\"#4456c7\",\"#4675ed\",\"#4193fe\",\"#2fb1f3\",\"#1bcfd4\",\"#1ae4b6\",\"#35f394\",\"#61fc6c\",\"#8efe48\",\"#b3f835\",\"#d1e834\",\"#ead339\",\"#f9ba38\",\"#fe9b2d\",\"#f8741c\",\"#ec520e\",\"#d93806\",\"#c02302\",\"#a01101\"]],[\"label\",[\"ABSTAIN\",\"alt.atheism\",\"comp.graphics\",\"comp.os.ms-windows.misc\",\"comp.sys.ibm.pc.hardware\",\"comp.sys.mac.hardware\",\"comp.windows.x\",\"misc.forsale\",\"rec.autos\",\"rec.motorcycles\",\"rec.sport.baseball\",\"rec.sport.hockey\",\"sci.crypt\",\"sci.electronics\",\"sci.med\",\"sci.space\",\"soc.religion.christian\",\"talk.politics.guns\",\"talk.politics.mideast\",\"talk.politics.misc\",\"talk.religion.misc\"]],[\"count_raw\",[377,0,0,0,0,0,0,0,0,0,0,0,0,0,0,0,0,0,0,0,0]],[\"count_train\",[0,17,23,14,25,21,28,23,21,16,15,16,19,18,22,26,23,18,19,11,9]],[\"count_dev\",[0,1,8,6,4,3,7,5,2,2,3,6,6,8,3,3,3,4,8,7,4]],[\"count_test\",[0,5,8,6,2,10,4,2,5,5,4,8,4,3,5,4,6,6,5,4,3]]]}}},\"view\":{\"type\":\"object\",\"name\":\"CDSView\",\"id\":\"p1036\",\"attributes\":{\"filter\":{\"type\":\"object\",\"name\":\"AllIndices\",\"id\":\"p1037\"}}},\"columns\":[{\"type\":\"object\",\"name\":\"TableColumn\",\"id\":\"p1013\",\"attributes\":{\"field\":\"label\",\"title\":\"label\",\"formatter\":{\"type\":\"object\",\"name\":\"StringFormatter\",\"id\":\"p1015\"},\"editor\":{\"type\":\"object\",\"name\":\"StringEditor\",\"id\":\"p1014\"}}},{\"type\":\"object\",\"name\":\"TableColumn\",\"id\":\"p1016\",\"attributes\":{\"field\":\"count_raw\",\"title\":\"raw\",\"formatter\":{\"type\":\"object\",\"name\":\"StringFormatter\",\"id\":\"p1018\"},\"editor\":{\"type\":\"object\",\"name\":\"StringEditor\",\"id\":\"p1017\"}}},{\"type\":\"object\",\"name\":\"TableColumn\",\"id\":\"p1019\",\"attributes\":{\"field\":\"count_train\",\"title\":\"train\",\"formatter\":{\"type\":\"object\",\"name\":\"StringFormatter\",\"id\":\"p1021\"},\"editor\":{\"type\":\"object\",\"name\":\"StringEditor\",\"id\":\"p1020\"}}},{\"type\":\"object\",\"name\":\"TableColumn\",\"id\":\"p1022\",\"attributes\":{\"field\":\"count_dev\",\"title\":\"dev\",\"formatter\":{\"type\":\"object\",\"name\":\"StringFormatter\",\"id\":\"p1024\"},\"editor\":{\"type\":\"object\",\"name\":\"StringEditor\",\"id\":\"p1023\"}}},{\"type\":\"object\",\"name\":\"TableColumn\",\"id\":\"p1025\",\"attributes\":{\"field\":\"count_test\",\"title\":\"test\",\"formatter\":{\"type\":\"object\",\"name\":\"StringFormatter\",\"id\":\"p1027\"},\"editor\":{\"type\":\"object\",\"name\":\"StringEditor\",\"id\":\"p1026\"}}},{\"type\":\"object\",\"name\":\"TableColumn\",\"id\":\"p1029\",\"attributes\":{\"field\":\"color\",\"title\":\"color\",\"formatter\":{\"type\":\"object\",\"name\":\"HTMLTemplateFormatter\",\"id\":\"p1028\",\"attributes\":{\"template\":\"\\n<p style=\\\"color:<%= value %>;\\\">\\n    <%= \\\"&#9608;&#9608;&#9608;\\\" %>\\n</p>\\n\"}},\"editor\":{\"type\":\"object\",\"name\":\"StringEditor\",\"id\":\"p1031\"}}}]}}]}}],\"callbacks\":{\"type\":\"map\"}}};\n",
       "  const render_items = [{\"docid\":\"fa09d923-41f7-4ac2-ba3a-7d1bf2046488\",\"roots\":{\"p1153\":\"ffa276ac-06e7-4ada-8787-4335fb5df2e7\"},\"root_ids\":[\"p1153\"]}];\n",
       "  root.Bokeh.embed.embed_items_notebook(docs_json, render_items);\n",
       "  }\n",
       "  if (root.Bokeh !== undefined) {\n",
       "    embed_document(root);\n",
       "  } else {\n",
       "    let attempts = 0;\n",
       "    const timer = setInterval(function(root) {\n",
       "      if (root.Bokeh !== undefined) {\n",
       "        clearInterval(timer);\n",
       "        embed_document(root);\n",
       "      } else {\n",
       "        attempts++;\n",
       "        if (attempts > 100) {\n",
       "          clearInterval(timer);\n",
       "          console.log(\"Bokeh: ERROR: Unable to run BokehJS code because BokehJS library is missing\");\n",
       "        }\n",
       "      }\n",
       "    }, 10, root)\n",
       "  }\n",
       "})(window);"
      ],
      "application/vnd.bokehjs_exec.v0+json": ""
     },
     "metadata": {
      "application/vnd.bokehjs_exec.v0+json": {
       "id": "p1153"
      }
     },
     "output_type": "display_data"
    }
   ],
   "source": [
    "from bokeh.layouts import row, column\n",
    "\n",
    "show(column(\n",
    "    row(\n",
    "        dataset.data_committer,\n",
    "        dataset.dedup_trigger,\n",
    "    ),\n",
    "    dataset.pop_table,\n",
    "), notebook_url=notebook_url)"
   ]
  },
  {
   "cell_type": "markdown",
   "id": "89c1a2a7",
   "metadata": {},
   "source": [
    "<br>\n",
    "\n",
    "Of course, so far we have nothing to move, because there's no data selected. We shall now discuss selections.\n",
    "\n",
    "## **Selection**\n",
    "\n",
    "`hover` labels data points in bulk, which requires selecting groups of homogeneous data, i.e. semantically similar or going to have the same label. Being able to skim through what you selected gives you confidence about homogeneity.\n",
    "\n",
    "Normally, selection happens through a plot (`explorer`), as we have seen in the quickstart. For the purpose here, we will \"cheat\" and assign the selection programmatically:"
   ]
  },
  {
   "cell_type": "code",
   "execution_count": 4,
   "id": "1a8c2555",
   "metadata": {
    "execution": {
     "iopub.execute_input": "2023-04-18T01:39:15.463317Z",
     "iopub.status.busy": "2023-04-18T01:39:15.462295Z",
     "iopub.status.idle": "2023-04-18T01:39:15.533837Z",
     "shell.execute_reply": "2023-04-18T01:39:15.532359Z"
    }
   },
   "outputs": [
    {
     "data": {
      "text/html": [
       "<pre style=\"white-space:pre;overflow-x:auto;line-height:normal;font-family:Menlo,'DejaVu Sans Mono',consolas,'Courier New',monospace\"><span style=\"color: #008000; text-decoration-color: #008000\">🟢 SupervisableTextDataset: Selection table: latest selection with </span><span style=\"color: #008080; text-decoration-color: #008080; font-weight: bold\">11</span><span style=\"color: #008000; text-decoration-color: #008000\"> entries.</span>\n",
       "</pre>\n"
      ],
      "text/plain": [
       "\u001b[32m🟢 SupervisableTextDataset: Selection table: latest selection with \u001b[0m\u001b[1;36m11\u001b[0m\u001b[32m entries.\u001b[0m\n"
      ]
     },
     "metadata": {},
     "output_type": "display_data"
    },
    {
     "data": {
      "text/html": [
       "\n",
       "  <div id=\"3d763e37-af03-4cfa-9bde-fd1c5693c800\" data-root-id=\"p1049\" style=\"display: contents;\"></div>\n"
      ]
     },
     "metadata": {},
     "output_type": "display_data"
    },
    {
     "data": {
      "application/javascript": [
       "(function(root) {\n",
       "  function embed_document(root) {\n",
       "  const docs_json = {\"504efd19-689d-4f29-81d8-0e2fbe2e3621\":{\"version\":\"3.1.0\",\"title\":\"Bokeh Application\",\"defs\":[],\"roots\":[{\"type\":\"object\",\"name\":\"DataTable\",\"id\":\"p1049\",\"attributes\":{\"source\":{\"type\":\"object\",\"name\":\"ColumnDataSource\",\"id\":\"p1038\",\"attributes\":{\"selected\":{\"type\":\"object\",\"name\":\"Selection\",\"id\":\"p1039\",\"attributes\":{\"indices\":[],\"line_indices\":[]}},\"selection_policy\":{\"type\":\"object\",\"name\":\"UnionRenderers\",\"id\":\"p1040\"},\"data\":{\"type\":\"map\",\"entries\":[[\"text\",[\"Has anyone taken a look at the new ViewSonic 17? They claim 1280x1024 at 76Hz. How does it compare with the T560i in terms of price, and quality of display? \",\"I recently found the file xgolf on a German ftp site (reseq.regent.e-technik.tu-muenchen.de) but unfortunately the shar file was incomplete and the author's email address given in the readme file (markh@saturn.ee.du.edu) does not work.  Can anyone assist by giving the location of a full version of this (or any other golf game for X) game, or a way of contacting the author?  Please reply by email if you can help  Ade\",\"Hooray ! I always suspected that I was human too :-)  It is the desire to be like Christ that often causes christians to be very critical of themselves and other christians. We are supposed to grow, mature, endeavour to be Christ-like but we are far far far from perfect. Build up the body of Christ, don't tear it down, and that includes yourself. Jesus loves me just the way I am today, tomorrow and always (thank God ! :-).\",\"\\\"Computer Friends\\\" nubus card - good for doing graphics overlays on your videos etc. $275 with apple 8 bit vid card, $225 without. Wont sell vid card separately. UPS (U pay shipping). cheers Mike. \",\"  ai598@cleveland.Freenet.Edu (Mike Sturdevant) writes...  ^^^^  Hmm, sounds like a useful trick -- it'd keep the local cagers at least a crutch-length off my tail-light, which is more than they give me now.  But do I have to break a leg to use it?   (When I broke my ankle dirt-biking, I ended up strapping the crutches to the back of the bike & riding to the lab.  It was my right ankle, but the bike was a GT380 and started easily by hand.)\",\"I don't know much and in fact, have asked questions here myself. My doctor told me that Paxil is a \\\"cleaner\\\" SRI in that it produces fewer side effects. As to a comparison between Zoloft and Prozac, I'm not able to remember what he said about the differences between those two drugs. Sorry \",\"Well, I've now been working on this DAMNED stepper controller board  since 9pm.  It's now 6am... I'm pissed off.  Period.  Alright, I can  drive the steppers through the 3479P's; no problem (that's with the  6-wire steppers, 2 to +, and the other 4 are the phase lines).  Problem  1:  I've got some 4 wire steppers.  I put the darkest line to + and the  other 3 to the 3479P... worked, kinda.  Tried it with a printer stepper  (moves the head back and forth, 4 wires), didn't work too well.  It  would  shift back and forth (use something like a 4017 instead?)  Also I've  been  trying to get a bunch of NPN's to work with it... NO LUCK... tried  PNP's,  still NO LUCK!!!  I don't know if I'm cursed on this or what, but I feel  my brain slowly frying with the thought of STEPPER ... ARGGG!!!          I don't know what's wrong with the transistor hook-up (to-220  pkg  type), also tryed the 2n2222-pkg type... no luck.                           I'm going to try getting some z's, and I hope  you  can help me with this problem.    If someone can please help me with this soon, it would be greatly    appreciated...                   Thanks.         _________________________________________________   Inspiration  |   ___                             |   comes to     |  \\\\   o  baden@sys6626.bison.mb.ca |   those who    | (  ^  ) baden@inqmind.bison.mb.ca |   seek the     |   /-\\\\      =] Baden de Bari [=    |   unknown.     |                                   |   ------------------------------------------------- \",\" ^^^^^^^^^^             Well, Dale, I'd say offhand \\\"Keel-hauling\\\" would work pretty well...we haven't had a good \\\"keel-hauling\\\" in a long time... (Sorry, it came up in a conversation yesterday and, well, I just love that phrase...)  Or maybe just ask for folks to flood the guys mailbox with the FAQ for net-etiquitte...sort of poetic justice for all the junk mail he was trying to generate anyway...  Tom T\",\"  While I agree with most of Jon says (I deleted those parts, of course), I  have serious reservations about this advice.  Maintaining a `just  friends' level of relationship is much easier said than done.  People  usually end up getting hurt.  This is especially likely to happen when  they start off with feelings of attraction.    When people feel attracted those feelings can cloud their judgement.   I've had the experience of going quickly from believing that I shouldn't  date non-Christians to believing that dating this man would be okay to  believing that premarital sex is fine when people really love each  other.  When the relationship ended my beliefs immediately returned to  their original state.    This is an especially extreme case because I was young and away from home  and fellowship.  I don't think it would work exactly this way for most  people.  However, it's important not to underestimate the power of  feelings of attraction.  \",\" (not that logic has anything to do with it, but...) I can see the liability of putting stickers on the car while it was moving, or something, but it's the BDI that chooses to start and then drive the car in a known unsafe condition that would (seem to be) liable. Furthermore, they would have had the last chance to avoid an unsafe situation, which is an additional factor in attributing \\\"blame\\\".  Anyway, stickers on the window are less effective... no one has any problem taking a blade to a window to remove a stubborn sticker, but it's a different story with that that nice paint job on the door....   *jeff*\",\"Archive-name: rec-autos/part1  [most recent changes, 15 March 1993: addition of alt.autos.karting -- rpw]                 === Welcome to Rec.Autos.* ===  This article is sent out automatically each month, and contains a general description of the purpose of each of the automotive newsgroups, and some suggested guidelines for discussions.  The keywords `Monthly Posting' will always appear to make killing this article easy for users of newsreaders with kill facilities.  This article is posted to all autos groups, but followups are directed only to rec.autos.  If you don't understand what this means, ask your system administrator for help, or at least for copies of the newuser documentation.  Failing that, please subscribe to the newsgroup news.announce.newusers and read the documentation provided there.  Introduction to the Rec.Autos newsgroup hierarchy:  rec.autos.tech  is intended for technical discussions of automobiles, their design, construction, diagnosis, and service.  Other discussions are largely inappropriate, especially For Sale ads.  rec.autos.sport  is intended for discussion of legal, organized competition involving automobiles.  Technical discussions are appropriate insofar as they apply to competition vehicles.  Discussion from either of two viewpoints, spectator and participant, is encouraged.  Arguments about sports cars are largely inappropriate, as are most other discussions.  For Sale ads are inappropriate unless they are for competition vehicles and/or equipment. Discussions of illegal events are marginal; one should probably avoid advocating breaking the law.  (remember, the FBI reads Usenet!)  rec.autos.driving  is intended for discussions related to the driving of automobiles. Also, if you must discuss 55 vs. 65, or radar detectors, or <insert your pet driving peeve> boneheads, do it here.  rec.autos.vw  is intended for discussion of issues related to the use and ownership of automobiles manufactured by Volkswagen (this includes VWs, Audis, Seats, etc.)  It was created on the grounds that the info-vw mailing list was very successful.  It should not be presumed from the existence of this group that it is appropriate to create many groups to cover many different marques; groups specific to individual marques should only be created on demonstration of sufficient interest, via some avenue such as a mailing list.  rec.audio.car  is not properly part of the rec.autos.* hierarchy.  it is, however, the correct place for discussion of automotive audio equipment, and so is mentioned here.  rec.autos.antique  is intended for the discussion of older cars (usually more than 25 years old, although this is not a hard-and-fast rule.)  alt.hotrod  is not part of the hierarchy, but also of potential interest to the rec.autos reader.  it is gatewayed to the moderated hotrod mailing list, and is for serious discussion of modifying and developing performance vehicles.  alt.autos.rod-n-custom  also not part of the `official' hierarchy; devoted to that peculiar American hobby of customizing older cars.  alt.autos.karting  for the discussion of the popular motorsport and hobby, karting.  rec.autos  is intended to capture discussion on all other automotive topics.   Crossposting:  Crossposting occurs when more than one newsgroup name is included on the Newsgroups: line in the article header; such articles will appear in all of the newsgroups listed.  Crossposting is one of the most misunderstood and misused facilities on Usenet.  You should only post to a group because you feel an article is appropriate; you should NEVER crosspost just to reach a particular audience.  This distinction is subtle, but important.  Radar Detector articles, for example, are more-or-less appropriate in rec.autos.  They are almost never appropriate in sci.electronics or rec.ham-radio, and the fact that you might want to reach the audience in sci.electronics or rec.ham-radio is NOT adequate justification for posting to either group.  Crossposting between any or all of the rec.autos.* groups is usually inappropriate; if you find yourself doing so, consider whether or not it is truly advisable, before sending your article.  Consider setting Followup-To: to point to only one newsgroup if you feel you must crosspost.  Crossposting between rec.autos.* and misc.consumers is chancy at best; in particular flame wars over the speed limit in the US and/or the use of radar detectors should NEVER be crossposted between any of these groups.  Most readers of sci.electronics and rec.radio.* couldn't care less about the police radar and radar detector arguments that go on endlessly in rec.autos.  It is an excellent idea to check the Newsgroups: and Followup-to:  lines of articles before posting a followup.  In particular, be wary of posting to misc.test, rec.arts.startrek.*, or talk.bizarre, or any combination of these three.  The life you save may be your own.  Distribution:  There is a field in the header of any news article which allows you to (partially) control where the article goes; it is called the Distribution field.  It may be very useful for many reasons; it should also serve as a reminder that news is a very large and widespread system.  The distribution of rec.autos.* is fairly extensive.  As of this writing,  the Automotive newsgroups are known to reach most of Europe, Australia, New Zealand, and some locations in Japan.  With this in mind, I offer the following hints about use of the Distribution: field in your article headers, and on article content.  1) Please take care not to send for-sale ads about clapped out Ford Mavericks in New Jersey to France or California; i doubt that anyone in either place will care, except for my girlfriend, who for some strange reason likes Mavericks (but only 4-door Mavericks, at that.)  2) When posting technical questions, please include the market for which your car was manufactured.  For example, there are a number of differences between a European-market Ford Escort and a US-market Escort.  Likewise, all 1750cc and early 2000cc Alfa Romeos reached the US with Spica Fuel injection; European market cars usually got carbs (often Webers).  These differences can be important to your readers; make your situation clear. Failure to do so can lead to pointless flame wars and a significant spread of misinformation.  3) Be careful about your capacities and specifications when posting; in the US we get a mix of Metric and English system values, whereas Europe is almost entirely on the Metric system.  A future edition of this monthly posting will contain a list of commonly-used abbreviations that may not be known in some places that rec.autos reaches; this cuts both ways so let us not be parochial about it.  4) Use the Distribution: field to limit where your article goes, when possible.  Within North America, the values na (north america), can (canada), and usa may be used.  in addition, the two-letter state abbreviations of the US are supported in some cases; e.g. if i wanted to send an article only to New York and New Jersey, i could put \\\"ny,nj\\\" in a Distribution field.  note that multiple, comma-separated values are legal.  these distribution fields vary widely, however, so you should check with your local sysadmin to find out what is likely to be supported in your area.  The Dangers of Overgeneralization:  To amplify a warning from the distribution section of this article: Be wary of making foolish assumptions about all cars, tires, etc.  What is true for a 1973 Buick with a 455cid engine may be quite utterly wrong for a 1976 Honda with a 1200cc engine.  Headlight laws in Sweden are decidedly different from those in Idaho.  The Need for Adequate Specification:  When you ask a question, please give a reasonable amount of information; e.g., if you have a question about your Honda, please specify year, model, engine size, etc.  Otherwise, most answers to your question may be quite useless.   Concerning Lemons:  At one time or another, every auto manufacturer has manufactured a lemon or two; even Honda admits to this.  Please don't waste everyone's time by announcing to the world that your `brand x' automobile is terrible, so all `brand x' automobiles are terrible, so no one should ever buy a car from the `brand x' company.  Such articles are worse than useless, because they cause substantial wasted bandwidth while carrying little or no useful information.   Concerning Flames:  As much as we might wish it, a flame-free newsgroup is something that most likely will never occur.  Here are some guidelines for flames and how to deal with them (a list of flame-prone topics follows in the next section of this posting):  If you post something truly obnoxious and inflammatory, don't imagine for a minute that including the words `No Flames' will work.  It won't, and you'll get exactly what you deserve.  If you're going to flame, you're more likely to get away with it if you can cite a fact or maybe a well-known reference.  No one is likely to believe bald, unsupported assertions.  Be careful about who you choose to insult.  Consider not insulting anyone.   Asking the Question:  It is a bad idea to post a question and end it with a phrase like `Please send email, I don't read this group'.  It is a much better idea to end the question with `Please send email, if there is sufficient interest I'll summarize the results in a later posting.  I may miss posted responses to this request'.  Answering the Question:  If someone wants to hop up their Yugo, don't tell them to get a Mustang. Either be silent, or give them useful advice.  If someone wants advice on defending a speeding ticket, don't tell them to obey the law next time -- it's offensive, presumes guilt which is not proven, and doesn't directly address the original question.  In general, don't post in order to see your words in print, and don't post in order to enjoy feeling smug and self-righteous.   Stale and/or Inflammatory Topics:  Certain topics are considered stale by `old timers'; while discussion of them is certainly ok, and new, factual information is welcome, ravings about them are extremely tiresome, and may get the person who posts them ignored altogether.  Some topics are naturally inflammatory; it is difficult if not impossible to have meaningful discussion of them.  Some of these topics include the following:  1)  the 55mph speed limit in the US: Pro and Con  2)  discussions about the morality and legality of the sale and usage of     radar detectors.  3)  discussions over which radar detector is best.  4)  discussions over what is a sports car (this is one reason why     rec.autos.sport is not a `sports car' group -- everyone would argue     about what constitutes a `sports car'.)  5)  disputes over whether or not US Federal law protects the driver's     right to own and operate a radar detector  6)  `Buy American' discussions  7)  `clever' bumper stickers and personalized license plates  8)  <insert nationality here> cars are terrible  9)  What kind of car did Maxwell Smart drive?       [when I have a complete, accurate answer it will be added to the           commonly-asked questions article which is also posted monthly.           Until then, please don't waste bandwidth on this topic. -- rpw]    Please direct comments and suggestions about this article to:       welty@cabot.balltown.cma.com\"]],[\"SUBSET\",[\"raw\",\"raw\",\"raw\",\"raw\",\"raw\",\"raw\",\"raw\",\"raw\",\"raw\",\"raw\",\"raw\"]],[\"label\",[\"ABSTAIN\",\"ABSTAIN\",\"ABSTAIN\",\"ABSTAIN\",\"ABSTAIN\",\"ABSTAIN\",\"ABSTAIN\",\"ABSTAIN\",\"ABSTAIN\",\"ABSTAIN\",\"ABSTAIN\"]]]}}},\"view\":{\"type\":\"object\",\"name\":\"CDSView\",\"id\":\"p1053\",\"attributes\":{\"filter\":{\"type\":\"object\",\"name\":\"AllIndices\",\"id\":\"p1054\"}}},\"columns\":[{\"type\":\"object\",\"name\":\"TableColumn\",\"id\":\"p1043\",\"attributes\":{\"field\":\"text\",\"title\":\"text\",\"formatter\":{\"type\":\"object\",\"name\":\"HTMLTemplateFormatter\",\"id\":\"p1042\",\"attributes\":{\"template\":\"<span href=\\\"#\\\" data-toggle=\\\"tooltip\\\" title=\\\"<%= value %>\\\"><%= value %></span>\"}},\"editor\":{\"type\":\"object\",\"name\":\"CellEditor\",\"id\":\"p1041\"}}},{\"type\":\"object\",\"name\":\"TableColumn\",\"id\":\"p1046\",\"attributes\":{\"field\":\"label\",\"title\":\"label\",\"formatter\":{\"type\":\"object\",\"name\":\"StringFormatter\",\"id\":\"p1048\"},\"editor\":{\"type\":\"object\",\"name\":\"StringEditor\",\"id\":\"p1047\"}}}],\"editable\":true,\"selectable\":\"checkbox\"}}],\"callbacks\":{\"type\":\"map\"}}};\n",
       "  const render_items = [{\"docid\":\"504efd19-689d-4f29-81d8-0e2fbe2e3621\",\"roots\":{\"p1049\":\"3d763e37-af03-4cfa-9bde-fd1c5693c800\"},\"root_ids\":[\"p1049\"]}];\n",
       "  root.Bokeh.embed.embed_items_notebook(docs_json, render_items);\n",
       "  }\n",
       "  if (root.Bokeh !== undefined) {\n",
       "    embed_document(root);\n",
       "  } else {\n",
       "    let attempts = 0;\n",
       "    const timer = setInterval(function(root) {\n",
       "      if (root.Bokeh !== undefined) {\n",
       "        clearInterval(timer);\n",
       "        embed_document(root);\n",
       "      } else {\n",
       "        attempts++;\n",
       "        if (attempts > 100) {\n",
       "          clearInterval(timer);\n",
       "          console.log(\"Bokeh: ERROR: Unable to run BokehJS code because BokehJS library is missing\");\n",
       "        }\n",
       "      }\n",
       "    }, 10, root)\n",
       "  }\n",
       "})(window);"
      ],
      "application/vnd.bokehjs_exec.v0+json": ""
     },
     "metadata": {
      "application/vnd.bokehjs_exec.v0+json": {
       "id": "p1049"
      }
     },
     "output_type": "display_data"
    }
   ],
   "source": [
    "dataset._callback_update_selection(dataset.dfs[\"raw\"].loc[:10])\n",
    "\n",
    "show(dataset.sel_table, notebook_url=notebook_url)"
   ]
  },
  {
   "cell_type": "markdown",
   "id": "b974befc",
   "metadata": {},
   "source": [
    "<br>\n",
    "\n",
    "### **Edit Data Within a Selection**\n",
    "\n",
    "Often the points selected are not perfectly homogeneous, i.e. some outliers belong to a different label from the selected group overall. It would be helpful to `EVICT` them, and `SupervisableDataset` has a button for it.\n",
    "\n",
    "Sometimes you may also wish to edit data values on the fly.  In hover this is called `PATCH`, and there also is a button for it.\n",
    "\n",
    "-   by default, labels can be edited but feature values cannot.\n",
    "\n",
    "Let's plot the forementioned buttons along with the selection table. Toggle any number of rows in the table, then click the button to `EVICT` or `PATCH` those rows:"
   ]
  },
  {
   "cell_type": "code",
   "execution_count": 5,
   "id": "3f07cfea",
   "metadata": {
    "execution": {
     "iopub.execute_input": "2023-04-18T01:39:15.538532Z",
     "iopub.status.busy": "2023-04-18T01:39:15.537878Z",
     "iopub.status.idle": "2023-04-18T01:39:15.590606Z",
     "shell.execute_reply": "2023-04-18T01:39:15.589584Z"
    }
   },
   "outputs": [
    {
     "name": "stderr",
     "output_type": "stream",
     "text": [
      "WARNING:bokeh.embed.util:\n",
      "You are generating standalone HTML/JS output, but trying to use real Python\n",
      "callbacks (i.e. with on_change or on_event). This combination cannot work.\n",
      "\n",
      "Only JavaScript callbacks may be used with standalone output. For more\n",
      "information on JavaScript callbacks with Bokeh, see:\n",
      "\n",
      "    https://docs.bokeh.org/en/latest/docs/user_guide/interaction/callbacks.html\n",
      "\n",
      "Alternatively, to use real Python callbacks, a Bokeh server application may\n",
      "be used. For more information on building and running Bokeh applications, see:\n",
      "\n",
      "    https://docs.bokeh.org/en/latest/docs/user_guide/server.html\n",
      "\n"
     ]
    },
    {
     "data": {
      "text/html": [
       "\n",
       "  <div id=\"be349361-aace-4079-8dfb-614613c9bc68\" data-root-id=\"p1342\" style=\"display: contents;\"></div>\n"
      ]
     },
     "metadata": {},
     "output_type": "display_data"
    },
    {
     "data": {
      "application/javascript": [
       "(function(root) {\n",
       "  function embed_document(root) {\n",
       "  const docs_json = {\"0e5db7f7-1e3a-4b75-818a-b070b4188a9e\":{\"version\":\"3.1.0\",\"title\":\"Bokeh Application\",\"defs\":[],\"roots\":[{\"type\":\"object\",\"name\":\"Column\",\"id\":\"p1342\",\"attributes\":{\"children\":[{\"type\":\"object\",\"name\":\"Row\",\"id\":\"p1341\",\"attributes\":{\"children\":[{\"type\":\"object\",\"name\":\"Button\",\"id\":\"p1006\",\"attributes\":{\"button_type\":\"primary\",\"label\":\"Evict Rows from Selection\"}},{\"type\":\"object\",\"name\":\"Button\",\"id\":\"p1005\",\"attributes\":{\"button_type\":\"warning\",\"subscribed_events\":{\"type\":\"set\",\"entries\":[\"button_click\"]},\"label\":\"Update Row Values\"}}]}},{\"type\":\"object\",\"name\":\"DataTable\",\"id\":\"p1049\",\"attributes\":{\"source\":{\"type\":\"object\",\"name\":\"ColumnDataSource\",\"id\":\"p1038\",\"attributes\":{\"selected\":{\"type\":\"object\",\"name\":\"Selection\",\"id\":\"p1039\",\"attributes\":{\"indices\":[],\"line_indices\":[]}},\"selection_policy\":{\"type\":\"object\",\"name\":\"UnionRenderers\",\"id\":\"p1040\"},\"data\":{\"type\":\"map\",\"entries\":[[\"text\",[\"Has anyone taken a look at the new ViewSonic 17? They claim 1280x1024 at 76Hz. How does it compare with the T560i in terms of price, and quality of display? \",\"I recently found the file xgolf on a German ftp site (reseq.regent.e-technik.tu-muenchen.de) but unfortunately the shar file was incomplete and the author's email address given in the readme file (markh@saturn.ee.du.edu) does not work.  Can anyone assist by giving the location of a full version of this (or any other golf game for X) game, or a way of contacting the author?  Please reply by email if you can help  Ade\",\"Hooray ! I always suspected that I was human too :-)  It is the desire to be like Christ that often causes christians to be very critical of themselves and other christians. We are supposed to grow, mature, endeavour to be Christ-like but we are far far far from perfect. Build up the body of Christ, don't tear it down, and that includes yourself. Jesus loves me just the way I am today, tomorrow and always (thank God ! :-).\",\"\\\"Computer Friends\\\" nubus card - good for doing graphics overlays on your videos etc. $275 with apple 8 bit vid card, $225 without. Wont sell vid card separately. UPS (U pay shipping). cheers Mike. \",\"  ai598@cleveland.Freenet.Edu (Mike Sturdevant) writes...  ^^^^  Hmm, sounds like a useful trick -- it'd keep the local cagers at least a crutch-length off my tail-light, which is more than they give me now.  But do I have to break a leg to use it?   (When I broke my ankle dirt-biking, I ended up strapping the crutches to the back of the bike & riding to the lab.  It was my right ankle, but the bike was a GT380 and started easily by hand.)\",\"I don't know much and in fact, have asked questions here myself. My doctor told me that Paxil is a \\\"cleaner\\\" SRI in that it produces fewer side effects. As to a comparison between Zoloft and Prozac, I'm not able to remember what he said about the differences between those two drugs. Sorry \",\"Well, I've now been working on this DAMNED stepper controller board  since 9pm.  It's now 6am... I'm pissed off.  Period.  Alright, I can  drive the steppers through the 3479P's; no problem (that's with the  6-wire steppers, 2 to +, and the other 4 are the phase lines).  Problem  1:  I've got some 4 wire steppers.  I put the darkest line to + and the  other 3 to the 3479P... worked, kinda.  Tried it with a printer stepper  (moves the head back and forth, 4 wires), didn't work too well.  It  would  shift back and forth (use something like a 4017 instead?)  Also I've  been  trying to get a bunch of NPN's to work with it... NO LUCK... tried  PNP's,  still NO LUCK!!!  I don't know if I'm cursed on this or what, but I feel  my brain slowly frying with the thought of STEPPER ... ARGGG!!!          I don't know what's wrong with the transistor hook-up (to-220  pkg  type), also tryed the 2n2222-pkg type... no luck.                           I'm going to try getting some z's, and I hope  you  can help me with this problem.    If someone can please help me with this soon, it would be greatly    appreciated...                   Thanks.         _________________________________________________   Inspiration  |   ___                             |   comes to     |  \\\\   o  baden@sys6626.bison.mb.ca |   those who    | (  ^  ) baden@inqmind.bison.mb.ca |   seek the     |   /-\\\\      =] Baden de Bari [=    |   unknown.     |                                   |   ------------------------------------------------- \",\" ^^^^^^^^^^             Well, Dale, I'd say offhand \\\"Keel-hauling\\\" would work pretty well...we haven't had a good \\\"keel-hauling\\\" in a long time... (Sorry, it came up in a conversation yesterday and, well, I just love that phrase...)  Or maybe just ask for folks to flood the guys mailbox with the FAQ for net-etiquitte...sort of poetic justice for all the junk mail he was trying to generate anyway...  Tom T\",\"  While I agree with most of Jon says (I deleted those parts, of course), I  have serious reservations about this advice.  Maintaining a `just  friends' level of relationship is much easier said than done.  People  usually end up getting hurt.  This is especially likely to happen when  they start off with feelings of attraction.    When people feel attracted those feelings can cloud their judgement.   I've had the experience of going quickly from believing that I shouldn't  date non-Christians to believing that dating this man would be okay to  believing that premarital sex is fine when people really love each  other.  When the relationship ended my beliefs immediately returned to  their original state.    This is an especially extreme case because I was young and away from home  and fellowship.  I don't think it would work exactly this way for most  people.  However, it's important not to underestimate the power of  feelings of attraction.  \",\" (not that logic has anything to do with it, but...) I can see the liability of putting stickers on the car while it was moving, or something, but it's the BDI that chooses to start and then drive the car in a known unsafe condition that would (seem to be) liable. Furthermore, they would have had the last chance to avoid an unsafe situation, which is an additional factor in attributing \\\"blame\\\".  Anyway, stickers on the window are less effective... no one has any problem taking a blade to a window to remove a stubborn sticker, but it's a different story with that that nice paint job on the door....   *jeff*\",\"Archive-name: rec-autos/part1  [most recent changes, 15 March 1993: addition of alt.autos.karting -- rpw]                 === Welcome to Rec.Autos.* ===  This article is sent out automatically each month, and contains a general description of the purpose of each of the automotive newsgroups, and some suggested guidelines for discussions.  The keywords `Monthly Posting' will always appear to make killing this article easy for users of newsreaders with kill facilities.  This article is posted to all autos groups, but followups are directed only to rec.autos.  If you don't understand what this means, ask your system administrator for help, or at least for copies of the newuser documentation.  Failing that, please subscribe to the newsgroup news.announce.newusers and read the documentation provided there.  Introduction to the Rec.Autos newsgroup hierarchy:  rec.autos.tech  is intended for technical discussions of automobiles, their design, construction, diagnosis, and service.  Other discussions are largely inappropriate, especially For Sale ads.  rec.autos.sport  is intended for discussion of legal, organized competition involving automobiles.  Technical discussions are appropriate insofar as they apply to competition vehicles.  Discussion from either of two viewpoints, spectator and participant, is encouraged.  Arguments about sports cars are largely inappropriate, as are most other discussions.  For Sale ads are inappropriate unless they are for competition vehicles and/or equipment. Discussions of illegal events are marginal; one should probably avoid advocating breaking the law.  (remember, the FBI reads Usenet!)  rec.autos.driving  is intended for discussions related to the driving of automobiles. Also, if you must discuss 55 vs. 65, or radar detectors, or <insert your pet driving peeve> boneheads, do it here.  rec.autos.vw  is intended for discussion of issues related to the use and ownership of automobiles manufactured by Volkswagen (this includes VWs, Audis, Seats, etc.)  It was created on the grounds that the info-vw mailing list was very successful.  It should not be presumed from the existence of this group that it is appropriate to create many groups to cover many different marques; groups specific to individual marques should only be created on demonstration of sufficient interest, via some avenue such as a mailing list.  rec.audio.car  is not properly part of the rec.autos.* hierarchy.  it is, however, the correct place for discussion of automotive audio equipment, and so is mentioned here.  rec.autos.antique  is intended for the discussion of older cars (usually more than 25 years old, although this is not a hard-and-fast rule.)  alt.hotrod  is not part of the hierarchy, but also of potential interest to the rec.autos reader.  it is gatewayed to the moderated hotrod mailing list, and is for serious discussion of modifying and developing performance vehicles.  alt.autos.rod-n-custom  also not part of the `official' hierarchy; devoted to that peculiar American hobby of customizing older cars.  alt.autos.karting  for the discussion of the popular motorsport and hobby, karting.  rec.autos  is intended to capture discussion on all other automotive topics.   Crossposting:  Crossposting occurs when more than one newsgroup name is included on the Newsgroups: line in the article header; such articles will appear in all of the newsgroups listed.  Crossposting is one of the most misunderstood and misused facilities on Usenet.  You should only post to a group because you feel an article is appropriate; you should NEVER crosspost just to reach a particular audience.  This distinction is subtle, but important.  Radar Detector articles, for example, are more-or-less appropriate in rec.autos.  They are almost never appropriate in sci.electronics or rec.ham-radio, and the fact that you might want to reach the audience in sci.electronics or rec.ham-radio is NOT adequate justification for posting to either group.  Crossposting between any or all of the rec.autos.* groups is usually inappropriate; if you find yourself doing so, consider whether or not it is truly advisable, before sending your article.  Consider setting Followup-To: to point to only one newsgroup if you feel you must crosspost.  Crossposting between rec.autos.* and misc.consumers is chancy at best; in particular flame wars over the speed limit in the US and/or the use of radar detectors should NEVER be crossposted between any of these groups.  Most readers of sci.electronics and rec.radio.* couldn't care less about the police radar and radar detector arguments that go on endlessly in rec.autos.  It is an excellent idea to check the Newsgroups: and Followup-to:  lines of articles before posting a followup.  In particular, be wary of posting to misc.test, rec.arts.startrek.*, or talk.bizarre, or any combination of these three.  The life you save may be your own.  Distribution:  There is a field in the header of any news article which allows you to (partially) control where the article goes; it is called the Distribution field.  It may be very useful for many reasons; it should also serve as a reminder that news is a very large and widespread system.  The distribution of rec.autos.* is fairly extensive.  As of this writing,  the Automotive newsgroups are known to reach most of Europe, Australia, New Zealand, and some locations in Japan.  With this in mind, I offer the following hints about use of the Distribution: field in your article headers, and on article content.  1) Please take care not to send for-sale ads about clapped out Ford Mavericks in New Jersey to France or California; i doubt that anyone in either place will care, except for my girlfriend, who for some strange reason likes Mavericks (but only 4-door Mavericks, at that.)  2) When posting technical questions, please include the market for which your car was manufactured.  For example, there are a number of differences between a European-market Ford Escort and a US-market Escort.  Likewise, all 1750cc and early 2000cc Alfa Romeos reached the US with Spica Fuel injection; European market cars usually got carbs (often Webers).  These differences can be important to your readers; make your situation clear. Failure to do so can lead to pointless flame wars and a significant spread of misinformation.  3) Be careful about your capacities and specifications when posting; in the US we get a mix of Metric and English system values, whereas Europe is almost entirely on the Metric system.  A future edition of this monthly posting will contain a list of commonly-used abbreviations that may not be known in some places that rec.autos reaches; this cuts both ways so let us not be parochial about it.  4) Use the Distribution: field to limit where your article goes, when possible.  Within North America, the values na (north america), can (canada), and usa may be used.  in addition, the two-letter state abbreviations of the US are supported in some cases; e.g. if i wanted to send an article only to New York and New Jersey, i could put \\\"ny,nj\\\" in a Distribution field.  note that multiple, comma-separated values are legal.  these distribution fields vary widely, however, so you should check with your local sysadmin to find out what is likely to be supported in your area.  The Dangers of Overgeneralization:  To amplify a warning from the distribution section of this article: Be wary of making foolish assumptions about all cars, tires, etc.  What is true for a 1973 Buick with a 455cid engine may be quite utterly wrong for a 1976 Honda with a 1200cc engine.  Headlight laws in Sweden are decidedly different from those in Idaho.  The Need for Adequate Specification:  When you ask a question, please give a reasonable amount of information; e.g., if you have a question about your Honda, please specify year, model, engine size, etc.  Otherwise, most answers to your question may be quite useless.   Concerning Lemons:  At one time or another, every auto manufacturer has manufactured a lemon or two; even Honda admits to this.  Please don't waste everyone's time by announcing to the world that your `brand x' automobile is terrible, so all `brand x' automobiles are terrible, so no one should ever buy a car from the `brand x' company.  Such articles are worse than useless, because they cause substantial wasted bandwidth while carrying little or no useful information.   Concerning Flames:  As much as we might wish it, a flame-free newsgroup is something that most likely will never occur.  Here are some guidelines for flames and how to deal with them (a list of flame-prone topics follows in the next section of this posting):  If you post something truly obnoxious and inflammatory, don't imagine for a minute that including the words `No Flames' will work.  It won't, and you'll get exactly what you deserve.  If you're going to flame, you're more likely to get away with it if you can cite a fact or maybe a well-known reference.  No one is likely to believe bald, unsupported assertions.  Be careful about who you choose to insult.  Consider not insulting anyone.   Asking the Question:  It is a bad idea to post a question and end it with a phrase like `Please send email, I don't read this group'.  It is a much better idea to end the question with `Please send email, if there is sufficient interest I'll summarize the results in a later posting.  I may miss posted responses to this request'.  Answering the Question:  If someone wants to hop up their Yugo, don't tell them to get a Mustang. Either be silent, or give them useful advice.  If someone wants advice on defending a speeding ticket, don't tell them to obey the law next time -- it's offensive, presumes guilt which is not proven, and doesn't directly address the original question.  In general, don't post in order to see your words in print, and don't post in order to enjoy feeling smug and self-righteous.   Stale and/or Inflammatory Topics:  Certain topics are considered stale by `old timers'; while discussion of them is certainly ok, and new, factual information is welcome, ravings about them are extremely tiresome, and may get the person who posts them ignored altogether.  Some topics are naturally inflammatory; it is difficult if not impossible to have meaningful discussion of them.  Some of these topics include the following:  1)  the 55mph speed limit in the US: Pro and Con  2)  discussions about the morality and legality of the sale and usage of     radar detectors.  3)  discussions over which radar detector is best.  4)  discussions over what is a sports car (this is one reason why     rec.autos.sport is not a `sports car' group -- everyone would argue     about what constitutes a `sports car'.)  5)  disputes over whether or not US Federal law protects the driver's     right to own and operate a radar detector  6)  `Buy American' discussions  7)  `clever' bumper stickers and personalized license plates  8)  <insert nationality here> cars are terrible  9)  What kind of car did Maxwell Smart drive?       [when I have a complete, accurate answer it will be added to the           commonly-asked questions article which is also posted monthly.           Until then, please don't waste bandwidth on this topic. -- rpw]    Please direct comments and suggestions about this article to:       welty@cabot.balltown.cma.com\"]],[\"SUBSET\",[\"raw\",\"raw\",\"raw\",\"raw\",\"raw\",\"raw\",\"raw\",\"raw\",\"raw\",\"raw\",\"raw\"]],[\"label\",[\"ABSTAIN\",\"ABSTAIN\",\"ABSTAIN\",\"ABSTAIN\",\"ABSTAIN\",\"ABSTAIN\",\"ABSTAIN\",\"ABSTAIN\",\"ABSTAIN\",\"ABSTAIN\",\"ABSTAIN\"]]]}}},\"view\":{\"type\":\"object\",\"name\":\"CDSView\",\"id\":\"p1053\",\"attributes\":{\"filter\":{\"type\":\"object\",\"name\":\"AllIndices\",\"id\":\"p1054\"}}},\"columns\":[{\"type\":\"object\",\"name\":\"TableColumn\",\"id\":\"p1043\",\"attributes\":{\"field\":\"text\",\"title\":\"text\",\"formatter\":{\"type\":\"object\",\"name\":\"HTMLTemplateFormatter\",\"id\":\"p1042\",\"attributes\":{\"template\":\"<span href=\\\"#\\\" data-toggle=\\\"tooltip\\\" title=\\\"<%= value %>\\\"><%= value %></span>\"}},\"editor\":{\"type\":\"object\",\"name\":\"CellEditor\",\"id\":\"p1041\"}}},{\"type\":\"object\",\"name\":\"TableColumn\",\"id\":\"p1046\",\"attributes\":{\"field\":\"label\",\"title\":\"label\",\"formatter\":{\"type\":\"object\",\"name\":\"StringFormatter\",\"id\":\"p1048\"},\"editor\":{\"type\":\"object\",\"name\":\"StringEditor\",\"id\":\"p1047\"}}}],\"editable\":true,\"selectable\":\"checkbox\"}}]}}],\"callbacks\":{\"type\":\"map\"}}};\n",
       "  const render_items = [{\"docid\":\"0e5db7f7-1e3a-4b75-818a-b070b4188a9e\",\"roots\":{\"p1342\":\"be349361-aace-4079-8dfb-614613c9bc68\"},\"root_ids\":[\"p1342\"]}];\n",
       "  root.Bokeh.embed.embed_items_notebook(docs_json, render_items);\n",
       "  }\n",
       "  if (root.Bokeh !== undefined) {\n",
       "    embed_document(root);\n",
       "  } else {\n",
       "    let attempts = 0;\n",
       "    const timer = setInterval(function(root) {\n",
       "      if (root.Bokeh !== undefined) {\n",
       "        clearInterval(timer);\n",
       "        embed_document(root);\n",
       "      } else {\n",
       "        attempts++;\n",
       "        if (attempts > 100) {\n",
       "          clearInterval(timer);\n",
       "          console.log(\"Bokeh: ERROR: Unable to run BokehJS code because BokehJS library is missing\");\n",
       "        }\n",
       "      }\n",
       "    }, 10, root)\n",
       "  }\n",
       "})(window);"
      ],
      "application/vnd.bokehjs_exec.v0+json": ""
     },
     "metadata": {
      "application/vnd.bokehjs_exec.v0+json": {
       "id": "p1342"
      }
     },
     "output_type": "display_data"
    }
   ],
   "source": [
    "show(column(\n",
    "    row(\n",
    "        dataset.selection_evictor,\n",
    "        dataset.selection_patcher,\n",
    "    ),\n",
    "    dataset.sel_table,\n",
    "), notebook_url=notebook_url)"
   ]
  },
  {
   "cell_type": "markdown",
   "id": "e0b49db1",
   "metadata": {},
   "source": [
    "<br>"
   ]
  }
 ],
 "metadata": {
  "language_info": {
   "codemirror_mode": {
    "name": "ipython",
    "version": 3
   },
   "file_extension": ".py",
   "mimetype": "text/x-python",
   "name": "python",
   "nbconvert_exporter": "python",
   "pygments_lexer": "ipython3",
   "version": "3.8.16"
  }
 },
 "nbformat": 4,
 "nbformat_minor": 5
}
