{
 "cells": [
  {
   "cell_type": "markdown",
   "id": "83c6f36c",
   "metadata": {},
   "source": [
    "> `SupervisableDataset` holds your data throughout the labeling process.\n",
    ">\n",
    "> :speedboat: Let's take a look at its core mechanisms.\n",
    "\n",
    "-   <details open><summary>This page addresses **single components** of `hover`</summary>\n",
    "    For illustration, we are using code snippets to pick out specific widgets so that the documentation can explain what they do.\n",
    "\n",
    "    -   Please be aware that you won't need to get the widgets by code in an actual use case.\n",
    "    -   Typical usage deals with [recipes](../../tutorial/t1-active-learning) where the individual parts have been tied together.\n",
    "\n",
    "</details>\n",
    "\n",
    "-   <details open><summary>Dependencies for {== local environments ==}</summary>\n",
    "    When you run the code locally, you may need to install additional packages.\n",
    "\n",
    "    To render `bokeh` plots in Jupyter, you need:\n",
    "```shell\n",
    "    pip install jupyter_bokeh\n",
    "```\n",
    "\n",
    "    If you are using JupyterLab older than 3.0, use this instead ([reference](https://pypi.org/project/jupyter-bokeh/)):\n",
    "```shell\n",
    "    jupyter labextension install @jupyter-widgets/jupyterlab-manager\n",
    "    jupyter labextension install @bokeh/jupyter_bokeh\n",
    "```\n",
    "\n",
    "</details>\n",
    "\n",
    "## **Data Subsets**\n",
    "\n",
    "We place unlabeled data and labeled data in different subsets: \"raw\", \"train\", \"dev\", and \"test\". Unlabeled data start from the \"raw\" subset, and can be transferred to other subsets after it gets labeled.\n",
    "\n",
    "`SupervisableDataset` uses a \"population table\", `dataset.pop_table`, to show the size of each subset:"
   ]
  },
  {
   "cell_type": "code",
   "execution_count": 1,
   "id": "79f36538",
   "metadata": {
    "execution": {
     "iopub.execute_input": "2023-08-15T01:19:27.854312Z",
     "iopub.status.busy": "2023-08-15T01:19:27.854054Z",
     "iopub.status.idle": "2023-08-15T01:19:29.697490Z",
     "shell.execute_reply": "2023-08-15T01:19:29.696751Z"
    }
   },
   "outputs": [
    {
     "data": {
      "text/html": [
       "<pre style=\"white-space:pre;overflow-x:auto;line-height:normal;font-family:Menlo,'DejaVu Sans Mono',consolas,'Courier New',monospace\"><span style=\"color: #000080; text-decoration-color: #000080\">🔵 SupervisableTextDataset: Initializing</span><span style=\"color: #808000; text-decoration-color: #808000\">...</span>\n",
       "</pre>\n"
      ],
      "text/plain": [
       "\u001b[34m🔵 SupervisableTextDataset: Initializing\u001b[0m\u001b[33m...\u001b[0m\n"
      ]
     },
     "metadata": {},
     "output_type": "display_data"
    },
    {
     "data": {
      "text/html": [
       "<pre style=\"white-space:pre;overflow-x:auto;line-height:normal;font-family:Menlo,'DejaVu Sans Mono',consolas,'Courier New',monospace\"><span style=\"color: #000080; text-decoration-color: #000080\">🔵 SupervisableTextDataset: Deduplicating</span><span style=\"color: #808000; text-decoration-color: #808000\">...</span>\n",
       "</pre>\n"
      ],
      "text/plain": [
       "\u001b[34m🔵 SupervisableTextDataset: Deduplicating\u001b[0m\u001b[33m...\u001b[0m\n"
      ]
     },
     "metadata": {},
     "output_type": "display_data"
    },
    {
     "data": {
      "text/html": [
       "<pre style=\"white-space:pre;overflow-x:auto;line-height:normal;font-family:Menlo,'DejaVu Sans Mono',consolas,'Courier New',monospace\"><span style=\"color: #000080; text-decoration-color: #000080\">🔵 SupervisableTextDataset: --subset raw rows: </span><span style=\"color: #008080; text-decoration-color: #008080; font-weight: bold\">400</span><span style=\"color: #000080; text-decoration-color: #000080\"> -&gt; </span><span style=\"color: #008080; text-decoration-color: #008080; font-weight: bold\">373</span><span style=\"color: #000080; text-decoration-color: #000080\">.</span>\n",
       "</pre>\n"
      ],
      "text/plain": [
       "\u001b[34m🔵 SupervisableTextDataset: --subset raw rows: \u001b[0m\u001b[1;36m400\u001b[0m\u001b[34m -> \u001b[0m\u001b[1;36m373\u001b[0m\u001b[34m.\u001b[0m\n"
      ]
     },
     "metadata": {},
     "output_type": "display_data"
    },
    {
     "data": {
      "text/html": [
       "<pre style=\"white-space:pre;overflow-x:auto;line-height:normal;font-family:Menlo,'DejaVu Sans Mono',consolas,'Courier New',monospace\"><span style=\"color: #000080; text-decoration-color: #000080\">🔵 SupervisableTextDataset: --subset train rows: </span><span style=\"color: #008080; text-decoration-color: #008080; font-weight: bold\">400</span><span style=\"color: #000080; text-decoration-color: #000080\"> -&gt; </span><span style=\"color: #008080; text-decoration-color: #008080; font-weight: bold\">382</span><span style=\"color: #000080; text-decoration-color: #000080\">.</span>\n",
       "</pre>\n"
      ],
      "text/plain": [
       "\u001b[34m🔵 SupervisableTextDataset: --subset train rows: \u001b[0m\u001b[1;36m400\u001b[0m\u001b[34m -> \u001b[0m\u001b[1;36m382\u001b[0m\u001b[34m.\u001b[0m\n"
      ]
     },
     "metadata": {},
     "output_type": "display_data"
    },
    {
     "data": {
      "text/html": [
       "<pre style=\"white-space:pre;overflow-x:auto;line-height:normal;font-family:Menlo,'DejaVu Sans Mono',consolas,'Courier New',monospace\"><span style=\"color: #000080; text-decoration-color: #000080\">🔵 SupervisableTextDataset: --subset dev rows: </span><span style=\"color: #008080; text-decoration-color: #008080; font-weight: bold\">100</span><span style=\"color: #000080; text-decoration-color: #000080\"> -&gt; </span><span style=\"color: #008080; text-decoration-color: #008080; font-weight: bold\">95</span><span style=\"color: #000080; text-decoration-color: #000080\">.</span>\n",
       "</pre>\n"
      ],
      "text/plain": [
       "\u001b[34m🔵 SupervisableTextDataset: --subset dev rows: \u001b[0m\u001b[1;36m100\u001b[0m\u001b[34m -> \u001b[0m\u001b[1;36m95\u001b[0m\u001b[34m.\u001b[0m\n"
      ]
     },
     "metadata": {},
     "output_type": "display_data"
    },
    {
     "data": {
      "text/html": [
       "<pre style=\"white-space:pre;overflow-x:auto;line-height:normal;font-family:Menlo,'DejaVu Sans Mono',consolas,'Courier New',monospace\"><span style=\"color: #000080; text-decoration-color: #000080\">🔵 SupervisableTextDataset: --subset test rows: </span><span style=\"color: #008080; text-decoration-color: #008080; font-weight: bold\">100</span><span style=\"color: #000080; text-decoration-color: #000080\"> -&gt; </span><span style=\"color: #008080; text-decoration-color: #008080; font-weight: bold\">98</span><span style=\"color: #000080; text-decoration-color: #000080\">.</span>\n",
       "</pre>\n"
      ],
      "text/plain": [
       "\u001b[34m🔵 SupervisableTextDataset: --subset test rows: \u001b[0m\u001b[1;36m100\u001b[0m\u001b[34m -> \u001b[0m\u001b[1;36m98\u001b[0m\u001b[34m.\u001b[0m\n"
      ]
     },
     "metadata": {},
     "output_type": "display_data"
    },
    {
     "data": {
      "text/html": [
       "<pre style=\"white-space:pre;overflow-x:auto;line-height:normal;font-family:Menlo,'DejaVu Sans Mono',consolas,'Courier New',monospace\"><span style=\"color: #008000; text-decoration-color: #008000\">🟢 SupervisableTextDataset: Set up label encoder/decoder with </span><span style=\"color: #008080; text-decoration-color: #008080; font-weight: bold\">20</span><span style=\"color: #008000; text-decoration-color: #008000\"> classes.</span>\n",
       "</pre>\n"
      ],
      "text/plain": [
       "\u001b[32m🟢 SupervisableTextDataset: Set up label encoder/decoder with \u001b[0m\u001b[1;36m20\u001b[0m\u001b[32m classes.\u001b[0m\n"
      ]
     },
     "metadata": {},
     "output_type": "display_data"
    },
    {
     "data": {
      "text/html": [
       "<pre style=\"white-space:pre;overflow-x:auto;line-height:normal;font-family:Menlo,'DejaVu Sans Mono',consolas,'Courier New',monospace\"><span style=\"color: #008000; text-decoration-color: #008000\">🟢 SupervisableTextDataset: Population updater: latest population with </span><span style=\"color: #008080; text-decoration-color: #008080; font-weight: bold\">20</span><span style=\"color: #008000; text-decoration-color: #008000\"> classes.</span>\n",
       "</pre>\n"
      ],
      "text/plain": [
       "\u001b[32m🟢 SupervisableTextDataset: Population updater: latest population with \u001b[0m\u001b[1;36m20\u001b[0m\u001b[32m classes.\u001b[0m\n"
      ]
     },
     "metadata": {},
     "output_type": "display_data"
    },
    {
     "data": {
      "text/html": [
       "<pre style=\"white-space:pre;overflow-x:auto;line-height:normal;font-family:Menlo,'DejaVu Sans Mono',consolas,'Courier New',monospace\"><span style=\"color: #000080; text-decoration-color: #000080\">🔵 SupervisableTextDataset: finished setting up bokeh elements.</span>\n",
       "</pre>\n"
      ],
      "text/plain": [
       "\u001b[34m🔵 SupervisableTextDataset: finished setting up bokeh elements.\u001b[0m\n"
      ]
     },
     "metadata": {},
     "output_type": "display_data"
    },
    {
     "data": {
      "text/html": [
       "<pre style=\"white-space:pre;overflow-x:auto;line-height:normal;font-family:Menlo,'DejaVu Sans Mono',consolas,'Courier New',monospace\"><span style=\"color: #008000; text-decoration-color: #008000\">🟢 SupervisableTextDataset: finished initialization.</span>\n",
       "</pre>\n"
      ],
      "text/plain": [
       "\u001b[32m🟢 SupervisableTextDataset: finished initialization.\u001b[0m\n"
      ]
     },
     "metadata": {},
     "output_type": "display_data"
    }
   ],
   "source": [
    "from hover.core.dataset import SupervisableTextDataset\n",
    "import pandas as pd\n",
    "\n",
    "raw_csv_path = \"https://raw.githubusercontent.com/phurwicz/hover-gallery/main/0.5.0/20_newsgroups_raw.csv\"\n",
    "train_csv_path = \"https://raw.githubusercontent.com/phurwicz/hover-gallery/main/0.5.0/20_newsgroups_train.csv\"\n",
    "\n",
    "# for fast, low-memory demonstration purpose, sample the data\n",
    "df_raw = pd.read_csv(raw_csv_path).sample(400)\n",
    "df_raw[\"SUBSET\"] = \"raw\"\n",
    "df_train = pd.read_csv(train_csv_path).sample(400)\n",
    "df_train[\"SUBSET\"] = \"train\"\n",
    "df_dev = pd.read_csv(train_csv_path).sample(100)\n",
    "df_dev[\"SUBSET\"] = \"dev\"\n",
    "df_test = pd.read_csv(train_csv_path).sample(100)\n",
    "df_test[\"SUBSET\"] = \"test\"\n",
    "\n",
    "# build overall dataframe and ensure feature type\n",
    "df = pd.concat([df_raw, df_train, df_dev, df_test])\n",
    "df[\"text\"] = df[\"text\"].astype(str)\n",
    "\n",
    "# this class stores the dataset throught the labeling process\n",
    "dataset = SupervisableTextDataset.from_pandas(df, feature_key=\"text\", label_key=\"label\")"
   ]
  },
  {
   "cell_type": "markdown",
   "id": "038c9dbd",
   "metadata": {},
   "source": [
    "<br>"
   ]
  },
  {
   "cell_type": "code",
   "execution_count": 2,
   "id": "ae50e3bb",
   "metadata": {
    "execution": {
     "iopub.execute_input": "2023-08-15T01:19:29.701234Z",
     "iopub.status.busy": "2023-08-15T01:19:29.700782Z",
     "iopub.status.idle": "2023-08-15T01:19:29.762258Z",
     "shell.execute_reply": "2023-08-15T01:19:29.761533Z"
    }
   },
   "outputs": [
    {
     "data": {
      "text/html": [
       "<style>\n",
       "        .bk-notebook-logo {\n",
       "            display: block;\n",
       "            width: 20px;\n",
       "            height: 20px;\n",
       "            background-image: url(data:image/png;base64,iVBORw0KGgoAAAANSUhEUgAAABQAAAAUCAYAAACNiR0NAAAABHNCSVQICAgIfAhkiAAAAAlwSFlzAAALEgAACxIB0t1+/AAAABx0RVh0U29mdHdhcmUAQWRvYmUgRmlyZXdvcmtzIENTNui8sowAAAOkSURBVDiNjZRtaJVlGMd/1/08zzln5zjP1LWcU9N0NkN8m2CYjpgQYQXqSs0I84OLIC0hkEKoPtiH3gmKoiJDU7QpLgoLjLIQCpEsNJ1vqUOdO7ppbuec5+V+rj4ctwzd8IIbbi6u+8f1539dt3A78eXC7QizUF7gyV1fD1Yqg4JWz84yffhm0qkFqBogB9rM8tZdtwVsPUhWhGcFJngGeWrPzHm5oaMmkfEg1usvLFyc8jLRqDOMru7AyC8saQr7GG7f5fvDeH7Ej8CM66nIF+8yngt6HWaKh7k49Soy9nXurCi1o3qUbS3zWfrYeQDTB/Qj6kX6Ybhw4B+bOYoLKCC9H3Nu/leUTZ1JdRWkkn2ldcCamzrcf47KKXdAJllSlxAOkRgyHsGC/zRday5Qld9DyoM4/q/rUoy/CXh3jzOu3bHUVZeU+DEn8FInkPBFlu3+nW3Nw0mk6vCDiWg8CeJaxEwuHS3+z5RgY+YBR6V1Z1nxSOfoaPa4LASWxxdNp+VWTk7+4vzaou8v8PN+xo+KY2xsw6une2frhw05CTYOmQvsEhjhWjn0bmXPjpE1+kplmmkP3suftwTubK9Vq22qKmrBhpY4jvd5afdRA3wGjFAgcnTK2s4hY0/GPNIb0nErGMCRxWOOX64Z8RAC4oCXdklmEvcL8o0BfkNK4lUg9HTl+oPlQxdNo3Mg4Nv175e/1LDGzZen30MEjRUtmXSfiTVu1kK8W4txyV6BMKlbgk3lMwYCiusNy9fVfvvwMxv8Ynl6vxoByANLTWplvuj/nF9m2+PDtt1eiHPBr1oIfhCChQMBw6Aw0UulqTKZdfVvfG7VcfIqLG9bcldL/+pdWTLxLUy8Qq38heUIjh4XlzZxzQm19lLFlr8vdQ97rjZVOLf8nclzckbcD4wxXMidpX30sFd37Fv/GtwwhzhxGVAprjbg0gCAEeIgwCZyTV2Z1REEW8O4py0wsjeloKoMr6iCY6dP92H6Vw/oTyICIthibxjm/DfN9lVz8IqtqKYLUXfoKVMVQVVJOElGjrnnUt9T9wbgp8AyYKaGlqingHZU/uG2NTZSVqwHQTWkx9hxjkpWDaCg6Ckj5qebgBVbT3V3NNXMSiWSDdGV3hrtzla7J+duwPOToIg42ChPQOQjspnSlp1V+Gjdged7+8UN5CRAV7a5EdFNwCjEaBR27b3W890TE7g24NAP/mMDXRWrGoFPQI9ls/MWO2dWFAar/xcOIImbbpA3zgAAAABJRU5ErkJggg==);\n",
       "        }\n",
       "    </style>\n",
       "    <div>\n",
       "        <a href=\"https://bokeh.org\" target=\"_blank\" class=\"bk-notebook-logo\"></a>\n",
       "        <span id=\"ae7ab819-e7af-4c2f-9ff2-14c03b25e65e\">Loading BokehJS ...</span>\n",
       "    </div>\n"
      ]
     },
     "metadata": {},
     "output_type": "display_data"
    },
    {
     "data": {
      "application/javascript": [
       "(function(root) {\n",
       "  function now() {\n",
       "    return new Date();\n",
       "  }\n",
       "\n",
       "  const force = true;\n",
       "\n",
       "  if (typeof root._bokeh_onload_callbacks === \"undefined\" || force === true) {\n",
       "    root._bokeh_onload_callbacks = [];\n",
       "    root._bokeh_is_loading = undefined;\n",
       "  }\n",
       "\n",
       "const JS_MIME_TYPE = 'application/javascript';\n",
       "  const HTML_MIME_TYPE = 'text/html';\n",
       "  const EXEC_MIME_TYPE = 'application/vnd.bokehjs_exec.v0+json';\n",
       "  const CLASS_NAME = 'output_bokeh rendered_html';\n",
       "\n",
       "  /**\n",
       "   * Render data to the DOM node\n",
       "   */\n",
       "  function render(props, node) {\n",
       "    const script = document.createElement(\"script\");\n",
       "    node.appendChild(script);\n",
       "  }\n",
       "\n",
       "  /**\n",
       "   * Handle when an output is cleared or removed\n",
       "   */\n",
       "  function handleClearOutput(event, handle) {\n",
       "    const cell = handle.cell;\n",
       "\n",
       "    const id = cell.output_area._bokeh_element_id;\n",
       "    const server_id = cell.output_area._bokeh_server_id;\n",
       "    // Clean up Bokeh references\n",
       "    if (id != null && id in Bokeh.index) {\n",
       "      Bokeh.index[id].model.document.clear();\n",
       "      delete Bokeh.index[id];\n",
       "    }\n",
       "\n",
       "    if (server_id !== undefined) {\n",
       "      // Clean up Bokeh references\n",
       "      const cmd_clean = \"from bokeh.io.state import curstate; print(curstate().uuid_to_server['\" + server_id + \"'].get_sessions()[0].document.roots[0]._id)\";\n",
       "      cell.notebook.kernel.execute(cmd_clean, {\n",
       "        iopub: {\n",
       "          output: function(msg) {\n",
       "            const id = msg.content.text.trim();\n",
       "            if (id in Bokeh.index) {\n",
       "              Bokeh.index[id].model.document.clear();\n",
       "              delete Bokeh.index[id];\n",
       "            }\n",
       "          }\n",
       "        }\n",
       "      });\n",
       "      // Destroy server and session\n",
       "      const cmd_destroy = \"import bokeh.io.notebook as ion; ion.destroy_server('\" + server_id + \"')\";\n",
       "      cell.notebook.kernel.execute(cmd_destroy);\n",
       "    }\n",
       "  }\n",
       "\n",
       "  /**\n",
       "   * Handle when a new output is added\n",
       "   */\n",
       "  function handleAddOutput(event, handle) {\n",
       "    const output_area = handle.output_area;\n",
       "    const output = handle.output;\n",
       "\n",
       "    // limit handleAddOutput to display_data with EXEC_MIME_TYPE content only\n",
       "    if ((output.output_type != \"display_data\") || (!Object.prototype.hasOwnProperty.call(output.data, EXEC_MIME_TYPE))) {\n",
       "      return\n",
       "    }\n",
       "\n",
       "    const toinsert = output_area.element.find(\".\" + CLASS_NAME.split(' ')[0]);\n",
       "\n",
       "    if (output.metadata[EXEC_MIME_TYPE][\"id\"] !== undefined) {\n",
       "      toinsert[toinsert.length - 1].firstChild.textContent = output.data[JS_MIME_TYPE];\n",
       "      // store reference to embed id on output_area\n",
       "      output_area._bokeh_element_id = output.metadata[EXEC_MIME_TYPE][\"id\"];\n",
       "    }\n",
       "    if (output.metadata[EXEC_MIME_TYPE][\"server_id\"] !== undefined) {\n",
       "      const bk_div = document.createElement(\"div\");\n",
       "      bk_div.innerHTML = output.data[HTML_MIME_TYPE];\n",
       "      const script_attrs = bk_div.children[0].attributes;\n",
       "      for (let i = 0; i < script_attrs.length; i++) {\n",
       "        toinsert[toinsert.length - 1].firstChild.setAttribute(script_attrs[i].name, script_attrs[i].value);\n",
       "        toinsert[toinsert.length - 1].firstChild.textContent = bk_div.children[0].textContent\n",
       "      }\n",
       "      // store reference to server id on output_area\n",
       "      output_area._bokeh_server_id = output.metadata[EXEC_MIME_TYPE][\"server_id\"];\n",
       "    }\n",
       "  }\n",
       "\n",
       "  function register_renderer(events, OutputArea) {\n",
       "\n",
       "    function append_mime(data, metadata, element) {\n",
       "      // create a DOM node to render to\n",
       "      const toinsert = this.create_output_subarea(\n",
       "        metadata,\n",
       "        CLASS_NAME,\n",
       "        EXEC_MIME_TYPE\n",
       "      );\n",
       "      this.keyboard_manager.register_events(toinsert);\n",
       "      // Render to node\n",
       "      const props = {data: data, metadata: metadata[EXEC_MIME_TYPE]};\n",
       "      render(props, toinsert[toinsert.length - 1]);\n",
       "      element.append(toinsert);\n",
       "      return toinsert\n",
       "    }\n",
       "\n",
       "    /* Handle when an output is cleared or removed */\n",
       "    events.on('clear_output.CodeCell', handleClearOutput);\n",
       "    events.on('delete.Cell', handleClearOutput);\n",
       "\n",
       "    /* Handle when a new output is added */\n",
       "    events.on('output_added.OutputArea', handleAddOutput);\n",
       "\n",
       "    /**\n",
       "     * Register the mime type and append_mime function with output_area\n",
       "     */\n",
       "    OutputArea.prototype.register_mime_type(EXEC_MIME_TYPE, append_mime, {\n",
       "      /* Is output safe? */\n",
       "      safe: true,\n",
       "      /* Index of renderer in `output_area.display_order` */\n",
       "      index: 0\n",
       "    });\n",
       "  }\n",
       "\n",
       "  // register the mime type if in Jupyter Notebook environment and previously unregistered\n",
       "  if (root.Jupyter !== undefined) {\n",
       "    const events = require('base/js/events');\n",
       "    const OutputArea = require('notebook/js/outputarea').OutputArea;\n",
       "\n",
       "    if (OutputArea.prototype.mime_types().indexOf(EXEC_MIME_TYPE) == -1) {\n",
       "      register_renderer(events, OutputArea);\n",
       "    }\n",
       "  }\n",
       "  if (typeof (root._bokeh_timeout) === \"undefined\" || force === true) {\n",
       "    root._bokeh_timeout = Date.now() + 5000;\n",
       "    root._bokeh_failed_load = false;\n",
       "  }\n",
       "\n",
       "  const NB_LOAD_WARNING = {'data': {'text/html':\n",
       "     \"<div style='background-color: #fdd'>\\n\"+\n",
       "     \"<p>\\n\"+\n",
       "     \"BokehJS does not appear to have successfully loaded. If loading BokehJS from CDN, this \\n\"+\n",
       "     \"may be due to a slow or bad network connection. Possible fixes:\\n\"+\n",
       "     \"</p>\\n\"+\n",
       "     \"<ul>\\n\"+\n",
       "     \"<li>re-rerun `output_notebook()` to attempt to load from CDN again, or</li>\\n\"+\n",
       "     \"<li>use INLINE resources instead, as so:</li>\\n\"+\n",
       "     \"</ul>\\n\"+\n",
       "     \"<code>\\n\"+\n",
       "     \"from bokeh.resources import INLINE\\n\"+\n",
       "     \"output_notebook(resources=INLINE)\\n\"+\n",
       "     \"</code>\\n\"+\n",
       "     \"</div>\"}};\n",
       "\n",
       "  function display_loaded() {\n",
       "    const el = document.getElementById(\"ae7ab819-e7af-4c2f-9ff2-14c03b25e65e\");\n",
       "    if (el != null) {\n",
       "      el.textContent = \"BokehJS is loading...\";\n",
       "    }\n",
       "    if (root.Bokeh !== undefined) {\n",
       "      if (el != null) {\n",
       "        el.textContent = \"BokehJS \" + root.Bokeh.version + \" successfully loaded.\";\n",
       "      }\n",
       "    } else if (Date.now() < root._bokeh_timeout) {\n",
       "      setTimeout(display_loaded, 100)\n",
       "    }\n",
       "  }\n",
       "\n",
       "  function run_callbacks() {\n",
       "    try {\n",
       "      root._bokeh_onload_callbacks.forEach(function(callback) {\n",
       "        if (callback != null)\n",
       "          callback();\n",
       "      });\n",
       "    } finally {\n",
       "      delete root._bokeh_onload_callbacks\n",
       "    }\n",
       "    console.debug(\"Bokeh: all callbacks have finished\");\n",
       "  }\n",
       "\n",
       "  function load_libs(css_urls, js_urls, callback) {\n",
       "    if (css_urls == null) css_urls = [];\n",
       "    if (js_urls == null) js_urls = [];\n",
       "\n",
       "    root._bokeh_onload_callbacks.push(callback);\n",
       "    if (root._bokeh_is_loading > 0) {\n",
       "      console.debug(\"Bokeh: BokehJS is being loaded, scheduling callback at\", now());\n",
       "      return null;\n",
       "    }\n",
       "    if (js_urls == null || js_urls.length === 0) {\n",
       "      run_callbacks();\n",
       "      return null;\n",
       "    }\n",
       "    console.debug(\"Bokeh: BokehJS not loaded, scheduling load and callback at\", now());\n",
       "    root._bokeh_is_loading = css_urls.length + js_urls.length;\n",
       "\n",
       "    function on_load() {\n",
       "      root._bokeh_is_loading--;\n",
       "      if (root._bokeh_is_loading === 0) {\n",
       "        console.debug(\"Bokeh: all BokehJS libraries/stylesheets loaded\");\n",
       "        run_callbacks()\n",
       "      }\n",
       "    }\n",
       "\n",
       "    function on_error(url) {\n",
       "      console.error(\"failed to load \" + url);\n",
       "    }\n",
       "\n",
       "    for (let i = 0; i < css_urls.length; i++) {\n",
       "      const url = css_urls[i];\n",
       "      const element = document.createElement(\"link\");\n",
       "      element.onload = on_load;\n",
       "      element.onerror = on_error.bind(null, url);\n",
       "      element.rel = \"stylesheet\";\n",
       "      element.type = \"text/css\";\n",
       "      element.href = url;\n",
       "      console.debug(\"Bokeh: injecting link tag for BokehJS stylesheet: \", url);\n",
       "      document.body.appendChild(element);\n",
       "    }\n",
       "\n",
       "    for (let i = 0; i < js_urls.length; i++) {\n",
       "      const url = js_urls[i];\n",
       "      const element = document.createElement('script');\n",
       "      element.onload = on_load;\n",
       "      element.onerror = on_error.bind(null, url);\n",
       "      element.async = false;\n",
       "      element.src = url;\n",
       "      console.debug(\"Bokeh: injecting script tag for BokehJS library: \", url);\n",
       "      document.head.appendChild(element);\n",
       "    }\n",
       "  };\n",
       "\n",
       "  function inject_raw_css(css) {\n",
       "    const element = document.createElement(\"style\");\n",
       "    element.appendChild(document.createTextNode(css));\n",
       "    document.body.appendChild(element);\n",
       "  }\n",
       "\n",
       "  const js_urls = [\"https://cdn.bokeh.org/bokeh/release/bokeh-3.2.2.min.js\", \"https://cdn.bokeh.org/bokeh/release/bokeh-gl-3.2.2.min.js\", \"https://cdn.bokeh.org/bokeh/release/bokeh-widgets-3.2.2.min.js\", \"https://cdn.bokeh.org/bokeh/release/bokeh-tables-3.2.2.min.js\", \"https://cdn.bokeh.org/bokeh/release/bokeh-mathjax-3.2.2.min.js\"];\n",
       "  const css_urls = [];\n",
       "\n",
       "  const inline_js = [    function(Bokeh) {\n",
       "      Bokeh.set_log_level(\"info\");\n",
       "    },\n",
       "function(Bokeh) {\n",
       "    }\n",
       "  ];\n",
       "\n",
       "  function run_inline_js() {\n",
       "    if (root.Bokeh !== undefined || force === true) {\n",
       "          for (let i = 0; i < inline_js.length; i++) {\n",
       "      inline_js[i].call(root, root.Bokeh);\n",
       "    }\n",
       "if (force === true) {\n",
       "        display_loaded();\n",
       "      }} else if (Date.now() < root._bokeh_timeout) {\n",
       "      setTimeout(run_inline_js, 100);\n",
       "    } else if (!root._bokeh_failed_load) {\n",
       "      console.log(\"Bokeh: BokehJS failed to load within specified timeout.\");\n",
       "      root._bokeh_failed_load = true;\n",
       "    } else if (force !== true) {\n",
       "      const cell = $(document.getElementById(\"ae7ab819-e7af-4c2f-9ff2-14c03b25e65e\")).parents('.cell').data().cell;\n",
       "      cell.output_area.append_execute_result(NB_LOAD_WARNING)\n",
       "    }\n",
       "  }\n",
       "\n",
       "  if (root._bokeh_is_loading === 0) {\n",
       "    console.debug(\"Bokeh: BokehJS loaded, going straight to plotting\");\n",
       "    run_inline_js();\n",
       "  } else {\n",
       "    load_libs(css_urls, js_urls, function() {\n",
       "      console.debug(\"Bokeh: BokehJS plotting callback run at\", now());\n",
       "      run_inline_js();\n",
       "    });\n",
       "  }\n",
       "}(window));"
      ],
      "application/vnd.bokehjs_load.v0+json": "(function(root) {\n  function now() {\n    return new Date();\n  }\n\n  const force = true;\n\n  if (typeof root._bokeh_onload_callbacks === \"undefined\" || force === true) {\n    root._bokeh_onload_callbacks = [];\n    root._bokeh_is_loading = undefined;\n  }\n\n\n  if (typeof (root._bokeh_timeout) === \"undefined\" || force === true) {\n    root._bokeh_timeout = Date.now() + 5000;\n    root._bokeh_failed_load = false;\n  }\n\n  const NB_LOAD_WARNING = {'data': {'text/html':\n     \"<div style='background-color: #fdd'>\\n\"+\n     \"<p>\\n\"+\n     \"BokehJS does not appear to have successfully loaded. If loading BokehJS from CDN, this \\n\"+\n     \"may be due to a slow or bad network connection. Possible fixes:\\n\"+\n     \"</p>\\n\"+\n     \"<ul>\\n\"+\n     \"<li>re-rerun `output_notebook()` to attempt to load from CDN again, or</li>\\n\"+\n     \"<li>use INLINE resources instead, as so:</li>\\n\"+\n     \"</ul>\\n\"+\n     \"<code>\\n\"+\n     \"from bokeh.resources import INLINE\\n\"+\n     \"output_notebook(resources=INLINE)\\n\"+\n     \"</code>\\n\"+\n     \"</div>\"}};\n\n  function display_loaded() {\n    const el = document.getElementById(\"ae7ab819-e7af-4c2f-9ff2-14c03b25e65e\");\n    if (el != null) {\n      el.textContent = \"BokehJS is loading...\";\n    }\n    if (root.Bokeh !== undefined) {\n      if (el != null) {\n        el.textContent = \"BokehJS \" + root.Bokeh.version + \" successfully loaded.\";\n      }\n    } else if (Date.now() < root._bokeh_timeout) {\n      setTimeout(display_loaded, 100)\n    }\n  }\n\n  function run_callbacks() {\n    try {\n      root._bokeh_onload_callbacks.forEach(function(callback) {\n        if (callback != null)\n          callback();\n      });\n    } finally {\n      delete root._bokeh_onload_callbacks\n    }\n    console.debug(\"Bokeh: all callbacks have finished\");\n  }\n\n  function load_libs(css_urls, js_urls, callback) {\n    if (css_urls == null) css_urls = [];\n    if (js_urls == null) js_urls = [];\n\n    root._bokeh_onload_callbacks.push(callback);\n    if (root._bokeh_is_loading > 0) {\n      console.debug(\"Bokeh: BokehJS is being loaded, scheduling callback at\", now());\n      return null;\n    }\n    if (js_urls == null || js_urls.length === 0) {\n      run_callbacks();\n      return null;\n    }\n    console.debug(\"Bokeh: BokehJS not loaded, scheduling load and callback at\", now());\n    root._bokeh_is_loading = css_urls.length + js_urls.length;\n\n    function on_load() {\n      root._bokeh_is_loading--;\n      if (root._bokeh_is_loading === 0) {\n        console.debug(\"Bokeh: all BokehJS libraries/stylesheets loaded\");\n        run_callbacks()\n      }\n    }\n\n    function on_error(url) {\n      console.error(\"failed to load \" + url);\n    }\n\n    for (let i = 0; i < css_urls.length; i++) {\n      const url = css_urls[i];\n      const element = document.createElement(\"link\");\n      element.onload = on_load;\n      element.onerror = on_error.bind(null, url);\n      element.rel = \"stylesheet\";\n      element.type = \"text/css\";\n      element.href = url;\n      console.debug(\"Bokeh: injecting link tag for BokehJS stylesheet: \", url);\n      document.body.appendChild(element);\n    }\n\n    for (let i = 0; i < js_urls.length; i++) {\n      const url = js_urls[i];\n      const element = document.createElement('script');\n      element.onload = on_load;\n      element.onerror = on_error.bind(null, url);\n      element.async = false;\n      element.src = url;\n      console.debug(\"Bokeh: injecting script tag for BokehJS library: \", url);\n      document.head.appendChild(element);\n    }\n  };\n\n  function inject_raw_css(css) {\n    const element = document.createElement(\"style\");\n    element.appendChild(document.createTextNode(css));\n    document.body.appendChild(element);\n  }\n\n  const js_urls = [\"https://cdn.bokeh.org/bokeh/release/bokeh-3.2.2.min.js\", \"https://cdn.bokeh.org/bokeh/release/bokeh-gl-3.2.2.min.js\", \"https://cdn.bokeh.org/bokeh/release/bokeh-widgets-3.2.2.min.js\", \"https://cdn.bokeh.org/bokeh/release/bokeh-tables-3.2.2.min.js\", \"https://cdn.bokeh.org/bokeh/release/bokeh-mathjax-3.2.2.min.js\"];\n  const css_urls = [];\n\n  const inline_js = [    function(Bokeh) {\n      Bokeh.set_log_level(\"info\");\n    },\nfunction(Bokeh) {\n    }\n  ];\n\n  function run_inline_js() {\n    if (root.Bokeh !== undefined || force === true) {\n          for (let i = 0; i < inline_js.length; i++) {\n      inline_js[i].call(root, root.Bokeh);\n    }\nif (force === true) {\n        display_loaded();\n      }} else if (Date.now() < root._bokeh_timeout) {\n      setTimeout(run_inline_js, 100);\n    } else if (!root._bokeh_failed_load) {\n      console.log(\"Bokeh: BokehJS failed to load within specified timeout.\");\n      root._bokeh_failed_load = true;\n    } else if (force !== true) {\n      const cell = $(document.getElementById(\"ae7ab819-e7af-4c2f-9ff2-14c03b25e65e\")).parents('.cell').data().cell;\n      cell.output_area.append_execute_result(NB_LOAD_WARNING)\n    }\n  }\n\n  if (root._bokeh_is_loading === 0) {\n    console.debug(\"Bokeh: BokehJS loaded, going straight to plotting\");\n    run_inline_js();\n  } else {\n    load_libs(css_urls, js_urls, function() {\n      console.debug(\"Bokeh: BokehJS plotting callback run at\", now());\n      run_inline_js();\n    });\n  }\n}(window));"
     },
     "metadata": {},
     "output_type": "display_data"
    },
    {
     "data": {
      "text/html": [
       "\n",
       "  <div id=\"b6e7b9cf-d99f-45fc-9fbe-7d9871d85b97\" data-root-id=\"p1032\" style=\"display: contents;\"></div>\n"
      ]
     },
     "metadata": {},
     "output_type": "display_data"
    },
    {
     "data": {
      "application/javascript": [
       "(function(root) {\n",
       "  function embed_document(root) {\n",
       "  const docs_json = {\"aff538e3-bfb6-4e9e-af18-d1dc52f3883d\":{\"version\":\"3.2.2\",\"title\":\"Bokeh Application\",\"roots\":[{\"type\":\"object\",\"name\":\"DataTable\",\"id\":\"p1032\",\"attributes\":{\"source\":{\"type\":\"object\",\"name\":\"ColumnDataSource\",\"id\":\"p1010\",\"attributes\":{\"selected\":{\"type\":\"object\",\"name\":\"Selection\",\"id\":\"p1011\",\"attributes\":{\"indices\":[],\"line_indices\":[]}},\"selection_policy\":{\"type\":\"object\",\"name\":\"UnionRenderers\",\"id\":\"p1012\"},\"data\":{\"type\":\"map\",\"entries\":[[\"color\",[\"#dcdcdc\",\"#3c3285\",\"#4353c2\",\"#4673eb\",\"#4291fe\",\"#2fb1f3\",\"#1ccdd7\",\"#19e3b8\",\"#32f197\",\"#61fc6c\",\"#8efe48\",\"#b1f836\",\"#cfea34\",\"#ead339\",\"#f9ba38\",\"#fe9b2d\",\"#f9771e\",\"#ec520e\",\"#d93806\",\"#c02302\",\"#a01101\"]],[\"label\",[\"ABSTAIN\",\"alt.atheism\",\"comp.graphics\",\"comp.os.ms-windows.misc\",\"comp.sys.ibm.pc.hardware\",\"comp.sys.mac.hardware\",\"comp.windows.x\",\"misc.forsale\",\"rec.autos\",\"rec.motorcycles\",\"rec.sport.baseball\",\"rec.sport.hockey\",\"sci.crypt\",\"sci.electronics\",\"sci.med\",\"sci.space\",\"soc.religion.christian\",\"talk.politics.guns\",\"talk.politics.mideast\",\"talk.politics.misc\",\"talk.religion.misc\"]],[\"count_raw\",[373,0,0,0,0,0,0,0,0,0,0,0,0,0,0,0,0,0,0,0,0]],[\"count_train\",[0,25,20,15,17,19,19,19,16,24,16,19,23,20,24,25,22,17,14,12,16]],[\"count_dev\",[0,3,6,6,5,4,4,8,5,2,6,4,4,1,5,4,8,5,9,1,5]],[\"count_test\",[0,6,6,6,6,8,5,2,4,7,6,8,4,6,5,2,6,5,2,3,1]]]}}},\"view\":{\"type\":\"object\",\"name\":\"CDSView\",\"id\":\"p1036\",\"attributes\":{\"filter\":{\"type\":\"object\",\"name\":\"AllIndices\",\"id\":\"p1037\"}}},\"columns\":[{\"type\":\"object\",\"name\":\"TableColumn\",\"id\":\"p1013\",\"attributes\":{\"field\":\"label\",\"title\":\"label\",\"formatter\":{\"type\":\"object\",\"name\":\"StringFormatter\",\"id\":\"p1014\"},\"editor\":{\"type\":\"object\",\"name\":\"StringEditor\",\"id\":\"p1015\"}}},{\"type\":\"object\",\"name\":\"TableColumn\",\"id\":\"p1016\",\"attributes\":{\"field\":\"count_raw\",\"title\":\"raw\",\"formatter\":{\"type\":\"object\",\"name\":\"StringFormatter\",\"id\":\"p1017\"},\"editor\":{\"type\":\"object\",\"name\":\"StringEditor\",\"id\":\"p1018\"}}},{\"type\":\"object\",\"name\":\"TableColumn\",\"id\":\"p1019\",\"attributes\":{\"field\":\"count_train\",\"title\":\"train\",\"formatter\":{\"type\":\"object\",\"name\":\"StringFormatter\",\"id\":\"p1020\"},\"editor\":{\"type\":\"object\",\"name\":\"StringEditor\",\"id\":\"p1021\"}}},{\"type\":\"object\",\"name\":\"TableColumn\",\"id\":\"p1022\",\"attributes\":{\"field\":\"count_dev\",\"title\":\"dev\",\"formatter\":{\"type\":\"object\",\"name\":\"StringFormatter\",\"id\":\"p1023\"},\"editor\":{\"type\":\"object\",\"name\":\"StringEditor\",\"id\":\"p1024\"}}},{\"type\":\"object\",\"name\":\"TableColumn\",\"id\":\"p1025\",\"attributes\":{\"field\":\"count_test\",\"title\":\"test\",\"formatter\":{\"type\":\"object\",\"name\":\"StringFormatter\",\"id\":\"p1026\"},\"editor\":{\"type\":\"object\",\"name\":\"StringEditor\",\"id\":\"p1027\"}}},{\"type\":\"object\",\"name\":\"TableColumn\",\"id\":\"p1029\",\"attributes\":{\"field\":\"color\",\"title\":\"color\",\"formatter\":{\"type\":\"object\",\"name\":\"HTMLTemplateFormatter\",\"id\":\"p1028\",\"attributes\":{\"template\":\"\\n<p style=\\\"color:<%= value %>;\\\">\\n    <%= \\\"&#9608;&#9608;&#9608;\\\" %>\\n</p>\\n\"}},\"editor\":{\"type\":\"object\",\"name\":\"StringEditor\",\"id\":\"p1031\"}}}]}}]}};\n",
       "  const render_items = [{\"docid\":\"aff538e3-bfb6-4e9e-af18-d1dc52f3883d\",\"roots\":{\"p1032\":\"b6e7b9cf-d99f-45fc-9fbe-7d9871d85b97\"},\"root_ids\":[\"p1032\"]}];\n",
       "  root.Bokeh.embed.embed_items_notebook(docs_json, render_items);\n",
       "  }\n",
       "  if (root.Bokeh !== undefined) {\n",
       "    embed_document(root);\n",
       "  } else {\n",
       "    let attempts = 0;\n",
       "    const timer = setInterval(function(root) {\n",
       "      if (root.Bokeh !== undefined) {\n",
       "        clearInterval(timer);\n",
       "        embed_document(root);\n",
       "      } else {\n",
       "        attempts++;\n",
       "        if (attempts > 100) {\n",
       "          clearInterval(timer);\n",
       "          console.log(\"Bokeh: ERROR: Unable to run BokehJS code because BokehJS library is missing\");\n",
       "        }\n",
       "      }\n",
       "    }, 10, root)\n",
       "  }\n",
       "})(window);"
      ],
      "application/vnd.bokehjs_exec.v0+json": ""
     },
     "metadata": {
      "application/vnd.bokehjs_exec.v0+json": {
       "id": "p1032"
      }
     },
     "output_type": "display_data"
    }
   ],
   "source": [
    "from bokeh.io import show, output_notebook\n",
    "\n",
    "output_notebook()\n",
    "\n",
    "# normally your would skip notebook_url or use Jupyter address\n",
    "notebook_url = 'localhost:8888'\n",
    "\n",
    "show(dataset.pop_table, notebook_url=notebook_url)"
   ]
  },
  {
   "cell_type": "markdown",
   "id": "cd9052ce",
   "metadata": {},
   "source": [
    "<br>\n",
    "\n",
    "### **Transfer Data Between Subsets**\n",
    "\n",
    "`COMMIT` and `DEDUP` are the mechanisms that `hover` uses to transfer data between subsets.\n",
    "\n",
    "-   `COMMIT` copies selected points (to be discussed later) to a destination subset\n",
    "    -   labeled-raw-only: `COMMIT` automatically detects which points are in the raw set with a valid label. Other points will not get copied.\n",
    "    -   keep-last: you can commit the same point to the same subset multiple times and the last copy will be kept. This can be useful for revising labels before `DEDUP`.\n",
    "-   `DEDUP` removes duplicates (identified by feature value) across subsets\n",
    "    -   priority rule: test > dev > train > raw, i.e. test set data always gets kept during deduplication\n",
    "\n",
    "-   <details open><summary>FAQ</summary>\n",
    "    <details open><summary>Why does COMMIT only work on the raw subset?</summary>\n",
    "        Most selections will happen through plots, where different subsets are on top of each other. This means selections can contain both unlabeled and labeled points.\n",
    "\n",
    "        Way too often we find ourselves trying to view both the labeled and the unlabeled, but only moving the unlabeled \"raw\" points. So it's handy that COMMIT picks those points only.\n",
    "    </details>\n",
    "\n",
    "</details>\n",
    "\n",
    "These mechanisms correspond to buttons in `hover`'s annotation interface, which you have encountered in the quickstart:"
   ]
  },
  {
   "cell_type": "code",
   "execution_count": 3,
   "id": "49e3a2cd",
   "metadata": {
    "execution": {
     "iopub.execute_input": "2023-08-15T01:19:29.766314Z",
     "iopub.status.busy": "2023-08-15T01:19:29.765927Z",
     "iopub.status.idle": "2023-08-15T01:19:29.787374Z",
     "shell.execute_reply": "2023-08-15T01:19:29.786668Z"
    }
   },
   "outputs": [
    {
     "name": "stderr",
     "output_type": "stream",
     "text": [
      "WARNING:bokeh.embed.util:\n",
      "You are generating standalone HTML/JS output, but trying to use real Python\n",
      "callbacks (i.e. with on_change or on_event). This combination cannot work.\n",
      "\n",
      "Only JavaScript callbacks may be used with standalone output. For more\n",
      "information on JavaScript callbacks with Bokeh, see:\n",
      "\n",
      "    https://docs.bokeh.org/en/latest/docs/user_guide/interaction/callbacks.html\n",
      "\n",
      "Alternatively, to use real Python callbacks, a Bokeh server application may\n",
      "be used. For more information on building and running Bokeh applications, see:\n",
      "\n",
      "    https://docs.bokeh.org/en/latest/docs/user_guide/server.html\n",
      "\n"
     ]
    },
    {
     "data": {
      "text/html": [
       "\n",
       "  <div id=\"a5c4920e-e81e-46f9-b005-0555d8f89283\" data-root-id=\"p1056\" style=\"display: contents;\"></div>\n"
      ]
     },
     "metadata": {},
     "output_type": "display_data"
    },
    {
     "data": {
      "application/javascript": [
       "(function(root) {\n",
       "  function embed_document(root) {\n",
       "  const docs_json = {\"87bf8db1-d5bc-43ba-a2d2-b1ee0dcdf00b\":{\"version\":\"3.2.2\",\"title\":\"Bokeh Application\",\"roots\":[{\"type\":\"object\",\"name\":\"Column\",\"id\":\"p1056\",\"attributes\":{\"children\":[{\"type\":\"object\",\"name\":\"Row\",\"id\":\"p1055\",\"attributes\":{\"children\":[{\"type\":\"object\",\"name\":\"Dropdown\",\"id\":\"p1002\",\"attributes\":{\"button_type\":\"warning\",\"subscribed_events\":{\"type\":\"set\",\"entries\":[\"menu_item_click\",\"button_click\"]},\"label\":\"Commit\",\"menu\":[\"train\",\"dev\",\"test\"]}},{\"type\":\"object\",\"name\":\"Button\",\"id\":\"p1003\",\"attributes\":{\"button_type\":\"warning\",\"subscribed_events\":{\"type\":\"set\",\"entries\":[\"button_click\"]},\"label\":\"Dedup\"}}]}},{\"type\":\"object\",\"name\":\"DataTable\",\"id\":\"p1032\",\"attributes\":{\"source\":{\"type\":\"object\",\"name\":\"ColumnDataSource\",\"id\":\"p1010\",\"attributes\":{\"selected\":{\"type\":\"object\",\"name\":\"Selection\",\"id\":\"p1011\",\"attributes\":{\"indices\":[],\"line_indices\":[]}},\"selection_policy\":{\"type\":\"object\",\"name\":\"UnionRenderers\",\"id\":\"p1012\"},\"data\":{\"type\":\"map\",\"entries\":[[\"color\",[\"#dcdcdc\",\"#3c3285\",\"#4353c2\",\"#4673eb\",\"#4291fe\",\"#2fb1f3\",\"#1ccdd7\",\"#19e3b8\",\"#32f197\",\"#61fc6c\",\"#8efe48\",\"#b1f836\",\"#cfea34\",\"#ead339\",\"#f9ba38\",\"#fe9b2d\",\"#f9771e\",\"#ec520e\",\"#d93806\",\"#c02302\",\"#a01101\"]],[\"label\",[\"ABSTAIN\",\"alt.atheism\",\"comp.graphics\",\"comp.os.ms-windows.misc\",\"comp.sys.ibm.pc.hardware\",\"comp.sys.mac.hardware\",\"comp.windows.x\",\"misc.forsale\",\"rec.autos\",\"rec.motorcycles\",\"rec.sport.baseball\",\"rec.sport.hockey\",\"sci.crypt\",\"sci.electronics\",\"sci.med\",\"sci.space\",\"soc.religion.christian\",\"talk.politics.guns\",\"talk.politics.mideast\",\"talk.politics.misc\",\"talk.religion.misc\"]],[\"count_raw\",[373,0,0,0,0,0,0,0,0,0,0,0,0,0,0,0,0,0,0,0,0]],[\"count_train\",[0,25,20,15,17,19,19,19,16,24,16,19,23,20,24,25,22,17,14,12,16]],[\"count_dev\",[0,3,6,6,5,4,4,8,5,2,6,4,4,1,5,4,8,5,9,1,5]],[\"count_test\",[0,6,6,6,6,8,5,2,4,7,6,8,4,6,5,2,6,5,2,3,1]]]}}},\"view\":{\"type\":\"object\",\"name\":\"CDSView\",\"id\":\"p1036\",\"attributes\":{\"filter\":{\"type\":\"object\",\"name\":\"AllIndices\",\"id\":\"p1037\"}}},\"columns\":[{\"type\":\"object\",\"name\":\"TableColumn\",\"id\":\"p1013\",\"attributes\":{\"field\":\"label\",\"title\":\"label\",\"formatter\":{\"type\":\"object\",\"name\":\"StringFormatter\",\"id\":\"p1014\"},\"editor\":{\"type\":\"object\",\"name\":\"StringEditor\",\"id\":\"p1015\"}}},{\"type\":\"object\",\"name\":\"TableColumn\",\"id\":\"p1016\",\"attributes\":{\"field\":\"count_raw\",\"title\":\"raw\",\"formatter\":{\"type\":\"object\",\"name\":\"StringFormatter\",\"id\":\"p1017\"},\"editor\":{\"type\":\"object\",\"name\":\"StringEditor\",\"id\":\"p1018\"}}},{\"type\":\"object\",\"name\":\"TableColumn\",\"id\":\"p1019\",\"attributes\":{\"field\":\"count_train\",\"title\":\"train\",\"formatter\":{\"type\":\"object\",\"name\":\"StringFormatter\",\"id\":\"p1020\"},\"editor\":{\"type\":\"object\",\"name\":\"StringEditor\",\"id\":\"p1021\"}}},{\"type\":\"object\",\"name\":\"TableColumn\",\"id\":\"p1022\",\"attributes\":{\"field\":\"count_dev\",\"title\":\"dev\",\"formatter\":{\"type\":\"object\",\"name\":\"StringFormatter\",\"id\":\"p1023\"},\"editor\":{\"type\":\"object\",\"name\":\"StringEditor\",\"id\":\"p1024\"}}},{\"type\":\"object\",\"name\":\"TableColumn\",\"id\":\"p1025\",\"attributes\":{\"field\":\"count_test\",\"title\":\"test\",\"formatter\":{\"type\":\"object\",\"name\":\"StringFormatter\",\"id\":\"p1026\"},\"editor\":{\"type\":\"object\",\"name\":\"StringEditor\",\"id\":\"p1027\"}}},{\"type\":\"object\",\"name\":\"TableColumn\",\"id\":\"p1029\",\"attributes\":{\"field\":\"color\",\"title\":\"color\",\"formatter\":{\"type\":\"object\",\"name\":\"HTMLTemplateFormatter\",\"id\":\"p1028\",\"attributes\":{\"template\":\"\\n<p style=\\\"color:<%= value %>;\\\">\\n    <%= \\\"&#9608;&#9608;&#9608;\\\" %>\\n</p>\\n\"}},\"editor\":{\"type\":\"object\",\"name\":\"StringEditor\",\"id\":\"p1031\"}}}]}}]}}]}};\n",
       "  const render_items = [{\"docid\":\"87bf8db1-d5bc-43ba-a2d2-b1ee0dcdf00b\",\"roots\":{\"p1056\":\"a5c4920e-e81e-46f9-b005-0555d8f89283\"},\"root_ids\":[\"p1056\"]}];\n",
       "  root.Bokeh.embed.embed_items_notebook(docs_json, render_items);\n",
       "  }\n",
       "  if (root.Bokeh !== undefined) {\n",
       "    embed_document(root);\n",
       "  } else {\n",
       "    let attempts = 0;\n",
       "    const timer = setInterval(function(root) {\n",
       "      if (root.Bokeh !== undefined) {\n",
       "        clearInterval(timer);\n",
       "        embed_document(root);\n",
       "      } else {\n",
       "        attempts++;\n",
       "        if (attempts > 100) {\n",
       "          clearInterval(timer);\n",
       "          console.log(\"Bokeh: ERROR: Unable to run BokehJS code because BokehJS library is missing\");\n",
       "        }\n",
       "      }\n",
       "    }, 10, root)\n",
       "  }\n",
       "})(window);"
      ],
      "application/vnd.bokehjs_exec.v0+json": ""
     },
     "metadata": {
      "application/vnd.bokehjs_exec.v0+json": {
       "id": "p1056"
      }
     },
     "output_type": "display_data"
    }
   ],
   "source": [
    "from bokeh.layouts import row, column\n",
    "\n",
    "show(column(\n",
    "    row(\n",
    "        dataset.data_committer,\n",
    "        dataset.dedup_trigger,\n",
    "    ),\n",
    "    dataset.pop_table,\n",
    "), notebook_url=notebook_url)"
   ]
  },
  {
   "cell_type": "markdown",
   "id": "44b996f2",
   "metadata": {},
   "source": [
    "<br>\n",
    "\n",
    "Of course, so far we have nothing to move, because there's no data selected. We shall now discuss selections.\n",
    "\n",
    "## **Selection**\n",
    "\n",
    "`hover` labels data points in bulk, which requires selecting groups of homogeneous data, i.e. semantically similar or going to have the same label. Being able to skim through what you selected gives you confidence about homogeneity.\n",
    "\n",
    "Normally, selection happens through a plot (`explorer`), as we have seen in the quickstart. For the purpose here, we will \"cheat\" and assign the selection programmatically:"
   ]
  },
  {
   "cell_type": "code",
   "execution_count": 4,
   "id": "89fe1882",
   "metadata": {
    "execution": {
     "iopub.execute_input": "2023-08-15T01:19:29.792056Z",
     "iopub.status.busy": "2023-08-15T01:19:29.791600Z",
     "iopub.status.idle": "2023-08-15T01:19:29.808343Z",
     "shell.execute_reply": "2023-08-15T01:19:29.807640Z"
    }
   },
   "outputs": [
    {
     "data": {
      "text/html": [
       "<pre style=\"white-space:pre;overflow-x:auto;line-height:normal;font-family:Menlo,'DejaVu Sans Mono',consolas,'Courier New',monospace\"><span style=\"color: #008000; text-decoration-color: #008000\">🟢 SupervisableTextDataset: Selection table: latest selection with </span><span style=\"color: #008080; text-decoration-color: #008080; font-weight: bold\">10</span><span style=\"color: #008000; text-decoration-color: #008000\"> entries.</span>\n",
       "</pre>\n"
      ],
      "text/plain": [
       "\u001b[32m🟢 SupervisableTextDataset: Selection table: latest selection with \u001b[0m\u001b[1;36m10\u001b[0m\u001b[32m entries.\u001b[0m\n"
      ]
     },
     "metadata": {},
     "output_type": "display_data"
    },
    {
     "data": {
      "text/html": [
       "\n",
       "  <div id=\"e49bdd9b-ed51-45e3-944d-75e4e733b5e0\" data-root-id=\"p1049\" style=\"display: contents;\"></div>\n"
      ]
     },
     "metadata": {},
     "output_type": "display_data"
    },
    {
     "data": {
      "application/javascript": [
       "(function(root) {\n",
       "  function embed_document(root) {\n",
       "  const docs_json = {\"53f37626-9b04-49e8-b579-289ddc6a1aa2\":{\"version\":\"3.2.2\",\"title\":\"Bokeh Application\",\"roots\":[{\"type\":\"object\",\"name\":\"DataTable\",\"id\":\"p1049\",\"attributes\":{\"source\":{\"type\":\"object\",\"name\":\"ColumnDataSource\",\"id\":\"p1038\",\"attributes\":{\"selected\":{\"type\":\"object\",\"name\":\"Selection\",\"id\":\"p1039\",\"attributes\":{\"indices\":[],\"line_indices\":[]}},\"selection_policy\":{\"type\":\"object\",\"name\":\"UnionRenderers\",\"id\":\"p1040\"},\"data\":{\"type\":\"map\",\"entries\":[[\"text\",[\"  The book is called \\\"27 basic fundamental beliefs\\\" or something very close to  that.  the number *IS* 27, not 30.  I have a copy at home (i'm away at  school.)\",\" Not in Indiana:  they showed a tape-delay of Chicago v Boston, because WGN had the rainout of the cubs.  So WGN showed reruns of Hitchcock. No hockey (at least in this part of the state).  Go Aeros!\",\"  It has been done already!  In the UK the Atari ST box was shipped with 360K disks in the first few years and then later 720K disks. In order to make life less complicated, many freebie disks on mags were double formatted like this. Side 0 of the disk had 360K on it and could be read  by any ST. It also had a flip-side program. This would swap the sides around so that side 1 became side 0.  -- \",\"  The roar at Michigan and Trumbull should be loader than ever this year.  With Mike Illitch at the head and Ernie Harwell back at the booth, the tiger bats will bang this summer.  Already they have scored 20 runs in two games and with Fielder, Tettleton, and Deer I think they can win the division.  No pitching! Bull!  Gully, Moore, Wells, and Krueger make up a decent staff that will keep the team into many games.  Then there is Henneman to close it out.  Watch out Boston, Toronto, and Baltimore - the Motor City Kittys are back. \",\" Why?  Either the numerator or the denominator could fluctuate.  The dollar value of a gun would (of course)  go up if supply were restricted.  The weight of a gun might  go down significantly as technology improved.   I don't  think you have a basis to assert this.  \",\"* Attention voters: * * I had a problem with my mailbox on the first day of voting. * Please check the Vote Acknowlegement (ACK) at the end of this CFV. * If your name/address is not there, please send your vote again. * (Actually, check even if you voted after the first day)   Introduction:   This is the third (and final) Call For Votes (CFV) for the creation  of four OS/2 newsgroups and the renaming of one:  (a)  create comp.os.os2.programmer.porting     (unmoderated)  (b)  renaming of comp.os.os2.programmer to       comp.os.os2.programmer.misc               (unmoderated)  (c)  comp.os.os2.setup                         (unmoderated)  (d)  comp.os.os2.multimedia                    (unmoderated)  (e)  comp.os.os2.bugs                          (unmoderated)   This is the second attempt at creating comp.os.os2.programmer.porting  and comp.os.os2.setup, and renaming comp.os.os2.programmer to  comp.os.os2.programmer.misc.  The first attempt failed in the summer  of 1992 (the voting deadline was August 31, 1992).  The voting rules  state that another attempt for creating newsgroups can be started  after a six month waiting period (in this case, it is March 1, 1993).  This is the first attempt at creating comp.os.os2.multimedia and  comp.os.os2.bugs.   This document contains:  *  the background showing the need for these proposals  *  the proposed charters for these proposals  *  voting instructions  *  a voting ballot  *  some example ballots  *  the voting rules  *  the voting schedule  *  the Mass Acknowledgement   Background:   The creation of two, free, 32-bit compilers for OS/2 2.x (gcc/2  and emx/gcc; read comp.os.os2.programmer for details) has spurred  a continuing deluge of software ported from UNIX platforms, such  as emacs, less, awk, grep, sed, xscheme, ispell, flex, yacc, and  much more.  Borland has released its C/C++ compiler for OS/2 2.x,  allowing for easier porting of DOS and Windows software.   Much of the PC hardware and drivers were written for DOS, and  later, Windows.  As more people are discovering OS/2 2.x, the  number of people asking questions about OS/2's compatibility  with their hardware increases, as does the questions on the  availability of drivers for their hardware, installation  procedures, etc.   Multimedia is becoming popular.  OS/2 2.0 supports Windows  Multimedia Extensions using Win-OS/2 3.0.  Furthermore, IBM is  including direct multimedia support in OS/2 starting with version  2.1 (in addition to using Win-OS/2 3.1).   Any non-trivial software will have bugs -- OS/2 is not exempt,  especially since IBM is constantly adding new features to OS/2.  So far, IBM has issued system patches and corrective service disks  (e.g.  the Service Pak) for free (free from BBSs and ftp sites, or  for free plus a small media charge for diskettes -- read  comp.os.os2.misc for details).   Proposed Charters:   (a)  create comp.os.os2.programmer.porting (unmoderated)    It will provide a forum for developers of ported software so   as to coordinate efforts, avoid duplication of effort, and   spur additional development.  The group will also cover   topics such as porting from other platforms (such as DOS,   Windows, UNIX, etc), toolkits which aid in program   portability (including porting tools such as Mirrors), and   so forth.   (b)  rename: comp.os.os2.programmer.misc (unmoderated)    To keep the structure of the OS/2 newsgroup heirarchy   orthogonal, comp.os.os2.programmer should be renamed to   comp.os.os2.programmer.misc.    comp.os.os2.programmer.misc will still be the newsgroup   for OS/2 programmers to discuss programming issues and   technical aspects of OS/2 in an unmoderated setting.   (c)  create comp.os.os2.setup (unmoderated)    It will be devoted to OS/2 system setup topics, including the   availability of device drivers, compatibility information,   installation procedures, system requirements, and overall   performance optimization.   (d)  create comp.os.os2.multimedia (unmoderated)    It will provide a forum for discussion of multi-media issues.   (e)  create comp.os.os2.bugs (unmoderated)    It will provide a forum for OS/2 system bug reports, bug   diagnosis and work arounds, the availability of system   patches and corrective service disks, and so forth.    [Note that discussion of bugs in applications belong in other   newsgroups, and discussion of bugs in OS/2 betas belong in   comp.os.os2.beta]   How to Vote:   To cast your vote, fill out the ballot below and e-mail it to me.  Many newsreaders will allow e-mail to be sent by replying to this  post.  Be sure to send only the ballot, and edit out the rest of  this post.   1)  Type in your vote for each proposal:       If you favor the charter as proposed, put a \\\"yes\\\" after its name.      If you oppose the charter as proposed, put a \\\"no\\\" after its name.      To abstain, leave a blank after its name.   2)  Type in your last name (i.e. your family name), a comma, and      your first name (i.e. your personal name).   3)  Cut out the ballot,  Please do not delete any lines of the      ballot.   4)  E-mail your ballot to mlevis@lonestar.utsa.edu before 11:59:59 pm      (Central Time), April 24, 1993.   Ballot:  ----------------cut here----------------cut here----------------cut here----          (a) comp.os.os2.programmer.porting:         (b)    comp.os.os2.programmer.misc:         (c)              comp.os.os2.setup:         (d)         comp.os.os2.multimedia:         (e)               comp.os.os2.bugs:          (f)       voter's last, first name:          e-mail ballot to mlevis@lonestar.utsa.edu by April 24  ----cut here----------------cut here----------------cut here----------------   Example Ballot #1:   (a) comp.os.os2.programmer.porting: yes  (b)    comp.os.os2.programmer.misc: yes  (c)              comp.os.os2.setup: no  (d)         comp.os.os2.multimedia:  (e)               comp.os.os2.bugs: no   (f)       voter's last, first name: Smith, John   In this example, John Smith favors comp.os.os2.programmer.porting  to be created, and comp.os.os2.programmer to be renamed to  comp.os.os2.programmer.misc.  He also opposes the creation of  comp.os.os2.setup and comp.os.os2.bugs.  He does not have a view  on the creation of comp.os.os2.multimedia.    Example Ballot #2:   (a) comp.os.os2.programmer.porting: yes  (b)    comp.os.os2.programmer.misc: yes  (c)              comp.os.os2.setup: yes  (d)         comp.os.os2.multimedia: yes  (e)               comp.os.os2.bugs: yes   (f)       voter's last, first name: Doe, Jane   In this example, Jane Doe favors the creation or rename of all  the proposals.   Voting Rules:   * One vote per person.  If you vote more than once, only the most    recent vote will be counted.   * Votes must be mailed to me by the person voting.  Proxy voting,    forwarding, posting votes to a newsgroup, etc. will not be counted.   * Do not ask how the votes are going.  The status of the votings    will be revealed only after the poll closes.   * I will acknowledge votes by Mass Acknowledgement (ACK).  I will    post the ACK twice (see Schedule below).   * If you need help for using your editor, using e-mail, how    voting works in general, etc. then ask an expert at your site.    Also see the ``How To Create a New Newsgroup'' article which is    posted to news.answers on a regular basis.   * If you need any clarifications on voting procedures for this    CFV, send me e-mail at mlevis@ringer.cs.utsa.edu.   * When the voting period is over (see Schedule below), a proposal    passes if both of the following formulas are true:    1)  the number of YES votes exceeds the number of NO votes        by at least 100 (i.e. YES >= NO + 100, or YES - NO >= 100).    2)  the number of YES votes exceeds at least twice the        number of NO votes (i.e. YES >= 2 * NO, or YES - NO >= NO).    In other words, a proposal passes if:        YES - NO >= max (100, NO)    where max() returns the highest number given to it.   Schedule:   The voting period started on March 29 when the first CFV was posted  by David Lawrence (the news.announce.newgroups moderator).   This third CFV is a repeat of the first CFV, but it also has the  Mass Acknowledgement (ACK) of names and e-mail addresses of those who  have already voted -- re-send your vote if it is not there.  If you  have not voted yet, vote now!   The voting period will end at 11:59:59 pm (Central Time), on  April 24, 1993.  Votes received after that time will not count.  The voting results and tally will be posted shortly after that  date.   Mass Acknowledgement:   Here is the list of people who have already sent in their ballots  as of 12:01 am (Central Time) on April 15, 1993:                            bdubbs@cs.tamu.edu Aiyagari, Sanjay          ska1@crux3.cit.cornell.edu Alcorn, Justin            alcorn@alpha.ces.cwru.edu Arien, Peter              LAAAA43%BLEKUL11.BITNET@FRMOP11.CNUSC.FR Asselin, Andre            assela@rpi.edu Aurand, Tom               tom@longs.lance.colostate.edu Baechler, Cedric          cbaechle@iiic.ethz.ch Bartlett, Warren          bart@pdn.paradyne.com Bates, John               johnb@up.edu Beadles, J.               jeff@neon.rain.com Beal, Kenneth             kbeal@amber.ssd.csd.harris.com Bedersdorfer, Jochen      beders@dfki.uni-sb.de Bell, Douglas             dab6@SCL.CWRU.Edu Benningfield, Robert      concert.net!aurs01!aurw7a!benningf Biegel, Bryan             biegel@tigris.stanford.edu Blackman, Ed              EBB7683@VENUS.TAMU.EDU Bodnar, John              jbodnar@ccwf.cc.utexas.edu Boisvert, Wesley          wesb@dermit.isis.org boneham, kevin            boneham@suntan.eng.usf.edu Boresch, Stefan           boresch@tammy.harvard.edu Boschma, Wilfried         v911071@si.hhs.nl Botha, David              BOTH-DD@mella.ee.up.ac.za Bowe, Nathaniel           woody@vnet.IBM.COM Bowers, Neil              neilb@borris.eece.unm.edu Braun,David               roland@roll.choate.edu Bronner, Geoffrey         geoffb@coos.dartmouth.edu Brors, Dieter             db@ix.de Brown, Bill               brown@chinchilla.ir.ucf.edu Cambria, Michael          cambria@smaug.enet.dec.com Carlson, Bill             woc8r@poplar.cs.virginia.edu Champion, Evan            evanc@carbon.isis.org Chandonia, John           chandoni@husc.harvard.edu Chen, Ted                 tedc@cs.ubc.ca Chua, Hak                 c164-ez@po.berkeley.edu Ciesielski, Boleslaw      bolek@viewlogic.com Clement, Bruce            frey@alfheim.actrix.gen.nz Clemente, Marc F.         mfclemente@ucdavis.edu Cline, Ernest             cline@usceast.cs.scarolina.edu Cocking , Simon           simonc@monu6.cc.monash.edu.au Compton, Curtis           compton@plains.NoDak.edu Costello, Robert          rcc9885@ultb.isc.rit.edu Coulman, Randy            coulman@skdad.usask.ca Cox, Anthony              AECOX@waikato.ac.nz Cox, Robert               rcox@qvack.EE.McGill.CA Culliton, Tom             culliton@srg.af.mil daigle, Joe               daigle@apollo.hp.com DeCarlo, John             jdecarlo@mitre.org Dippold, Ron              rdippold@qualcomm.com Donaldson, Ian            icd@ecr.mu.oz.au Drye, Stephen             scdrye@undergrad.math.uwaterloo.ca Duffy, Patrick            duffy@theory.chem.ubc.ca Dusitsin, Krid            dusitsin@ee.umr.edu Erzberger, Martin         erzberg@ifi.unizh.ch Feldtmann, Marten         marten@feki.toppoint.de Feustel, Edward           efeustel@ida.org filippini,luigi           luigi@berlioz.crs4.it Fischer, Stefan           fischer@tammy.harvard.edu Fleuren, Rik              rik@sci.kun.nl Francis, Tim              francis@vnet.IBM.COM Francois Menard           menaf00@dmi.usherb.ca Franks, Derek             franks@hercules.cs.uregina.ca Franzki, Wolfgang         wfranzki@hlrserv.hlrz.kfa-juelich.de Friedrich, Jochen         jofried@fzi.de Friis, Torben             tfriis@imada.ou.dk G\\\"unther, Stefan          stefan@med-informatik.uni-hildesheim.de Galarza, Edward           LENBC@CUNYVM.CUNY.EDU Gammon, Robert            rgammon@rgam.sc.ti.com Gartler, Hermann          herm@owlnet.rice.edu Garzik, Jeff              gtd543a@prism.gatech.edu Gershman, Mark            gershman@bach.udel.edu Giller, David R.          rafetmad@cheshire.oxy.edu Gnassi, John              jgnassi@hstbme.mit.edu Goyal, Mohit              goyal@utdallas.edu Green, Anthony            green@roboco.uucp Grupenhoff, Mike          kashmir@wam.umd.edu Guo, Youren               yguo@sparc0a.cs.uiuc.edu Hacker;Jonathan           hacker@cco.caltech.edu Haggerty, Michael         mrhagger@Athena.MIT.EDU Hargrave, BJ              fattire@vnet.IBM.COM Hartman, Shane            shane@spr.com Hartzman, Les             hartzman@kilroy.Jpl.Nasa.Gov Hassa, George             hassag@rpi.edu Hed, Nevo                 nyh@wpi.WPI.EDU Heederik, Robbert         heederik@fwi.uva.nl Hellerhoff, Torsten       Torsten_Hellerhoff@ac2.maus.de Hendel, Bernd             BHENDEL@estec.estec.esa.nl Henriksen, Gerald         rn.1035@rose.com Henry, Andrew             A.H.Henry@gdr.bath.ac.uk Herbison, B.J.            herbison@lassie.ucx.lkg.dec.com Herron, Kenneth           kherron@ms.uky.edu Hilmer, Andrew            hilmera@mist.CS.ORST.EDU Hoang, Long               lhoang@orion.oac.uci.edu Hodge, Bob                HODGE@iccgcc.cs.hh.ab.com Hodges, Matthew           modester@iastate.edu Hollebone, Bruce          lermer@theory.chem.ubc.ca holsman, Ian              IHolsman@cmutual.com.au Hopkins, John             john@uhs1.uhs.uga.edu Hoppenbrouwers, Jeroen    hoppie@kub.nl Howard, Robert            robert.howard@matd.gatech.edu Huang, Ping               pshuang@Athena.MIT.EDU Jackson, Dave             D.Jackson@axion.bt.co.uk Jensen, Colin             ljensen@netcom.com Kassarjian, Steven        kassarji@spot.Colorado.EDU Kiehl, Horst              kiehl@ibt013.ibt.kfa-juelich.de Kitchin, Bruce            kitchin@lf.hp.com Kone, Bob                 bkone@rflab.ee.ubc.ca Kovarski, Mark            kovarski@zooid.guild.org Kretzer, Myke             tanith@csd4.csd.uwm.edu Lacy, Stephen             sl31+@andrew.cmu.edu lai, william              lai@seas.gwu.edu Landy, Brian              landy@cco.caltech.edu lau, frankie              lau@tammy.harvard.edu Lau, Stephen              lau@ai.sri.com Lawton, Gef               glawton@cs.uah.edu Le Glasse, Franck         Franck.Leglasse@irisa.fr Lebius, Henning           lebius@utkux1.utk.edu lee, james                jelee@ucdavis.edu Lehtonen, Jari            jarlehto@utu.fi Leitner, Thomas           tom@finwds01.tu-graz.ac.at Lempriere, Mike           mikel@networx.com Lentin, Kevin             kevinl@bruce.cs.monash.edu.au Leung, Johnnie            k7z092@rick.cs.ubc.ca Lim, Pean                 plim@claircom.com Lin, Steven               slin@cisco.com Lindholm, George          lindholm@ucs.ubc.ca Liukkonen, Juha           jliukkon@cc.helsinki.fi Logan, Stan               logan@lexmark.com Lu, Kevin                 kevinlu@yoyo.cc.monash.edu.au Martin, Johannes          jmartin@mogli.zdv.uni-mainz.de Mashao, Daniel            djm@lems.Brown.EDU Maturo, Larry             larry@titan.tsd.arlut.utexas.edu Maxwell, Scott            scott.maxwell@channel1.com Mayer, Gunther H.         gmayer@physik.uni-kl.de Maynard, Jay              jmaynard@nyx.cs.du.edu McCarthy, Christopher     mccarthy@gollum.ttd.teradyne.com Mcgehrin, Matthew         matthew@dabeef@des.edu McGing, John              jmcging@access.digex.com McGuire, Ed               emcguire@intellection.com McMillan, Andrew          Andrew.McMillan@folly.welly.gen.nz meyer, jeff               moriarty@tc.fluke.COM Miller, Richard           rick@crick.ssctr.bcm.tmc.edu Mittelstaedt, Olaf H.-P.  mittelst@felix.rz.fh-ulm.de moorcroft, marc           smarry@zooid.guild.org Morrison, John Paul       jmorriso@ee.ubc.ca Mosher, David             dmosher@nyx.cs.du.edu Mouawad, Naji.            nmouawad@math.uwaterloo.ca Mullins, Don              mullins@magnum.convex.com Nadler, Cliff             cnadler@vnet.IBM.COM Nareid, Helge             Helge.Nareid@due.unit.no Narinian, Vartan          v.narinian@ic.ac.uk Norton, Charles M.        cmn@ftp.com o'neel, bruce             oneel@aplcenmp.apl.jhu.edu O'Rourke, Sean            sorourke@lonestar.utsa.edu Oldham, C. R.             cro@socrates.ed.asu.edu Olson, Eric               ejo@kaja.gi.alaska.edu Oussoren, Ronald          roussor@cs.vu.nl owens, bill               owens@cookiemonster.cc.buffalo.edu Parks, Dwayne             dcp@engr.uark.edu Parry, Tom                parry@yoyo.cc.monash.edu.au Pebly, Bob                pebly@vnet.IBM.COM Perdue, Alicia            arperd00@mik.uky.edu Petro, Herbert            hmpetro@mosaic.uncc.edu Pietilainen, Pekka        ppi@eero.oulu.fi Poole, David              dpoole@hydrogen.oscs.montana.edu Powell, Stephen           stevep@kralizec.zeta.org.au Prescod, Paul             papresco@undergrad.math.uwaterloo.ca Provensal, jerome         uunet.UU.NET!iac!jerome Quinn, Michael            quinn@phoenix.Princeton.EDU Rao, Venkat               rao@cactus.org Reisert, Jim              reisert@mast.enet.dec.com Reynolds, Robert          easyrob@cs.utexas.edu Robertson, James          ROBERTSON@PHYSC3.BYU.EDU Roelofs, Greg             roe2@midway.uchicago.edu Rosenvold, Johan Kristian jkr@ifi.uio.no Ruppel, Markus            m.ruppel@imperial.ac.uk Ryan, Sean                FSSPR@acad3.alaska.edu Salomon, Larry            os2man@Panix.Com Schimke, Nathan           schimken@cs.rpi.edu Schipper, Haijo           haijo@cs.rug.nl Seymour, Jim              qintar@agora.rain.com Shankar, Gess             gess@knex.via.mind.ORG Shaw, Jeremy              jeremy@plxsun.plx.com Sierwald, Joern           Sierwald@tu-harburg.dbp.de SIPPLES, TIMOTHY          sip1@midway.uchicago.edu Skogstad, Oddbjorn        odskog@siri.unit.no Smith, Donald             djs6015@ultb.isc.rit.edu Smith, Eliot              esmith@psych.purdue.edu Sneath, Tim               psyhtjs@mips.ccc.nottingham.ac.uk Sorensen, Tom             gt0040a@prism.gatech.edu Sriram, N                 swknasri@nuscc.nus.sg Steele, Alan              steele@nrcphy1.phy.nrc.ca Steinkopf, Dirk           dirk@km21.zfe.siemens.de Stirling, Ian T.          ian@vnet.IBM.COM Strazdus, Stephen         sstrazdu@sedona.intel.com streeter, carl            cstreete@nyx.cs.du.edu Sum, Eva                  eesum00@mik.uky.edu Sum, Joey                 jpsum00@mik.uky.edu Suttor, Jeff              jsuttor@netcom.com Swallow, Doug             doug@montage.oau.org Sward, David              sward+@cmu.edu Thomas, Stephen           swt@therson.affinity.mn.org Thompson, Michael         tommy@msc.cornell.edu Tiffany, Bernard          lbt@umich.edu torremans, engelbert      etorrem%hvlpa@att.att.com Tremain, Jim              JIM@BIOLOGY.watstar.uwaterloo.ca Tsen, Maoee               tsen0001@student.tc.umn.edu van der Lek, Petja        P.vanderLek@research.ptt.nl Van Iwaarden, Ronald      rvaniwaa@copper.Denver.Colorado.EDU van Woerkom, Marc E.E.    Marc_Van-Woerkom@ac3.maus.de Veeraraghavan, Venkatesh  venky@owlnet.rice.edu Veldhuyzen, Eric          v912182@si.hhs.nl Vigor, Kevin              kevin@wicat.COM Villumsen, Ole            ovillumsen@daimi.aau.dk Wald, David               wald@theory.lcs.mit.edu Wallace, Jack             grey@vnet.IBM.COM Wantosch, Rainer          RAINER@sasowa.han.de Watson, Brett             watson@s1.elec.uq.oz.au Weber-Fahr, Christoph     weber@rhrk.uni-kl.de Weeks, Larry              dev@ecn.purdue.edu Werner, John              werner@SOE.Berkeley.Edu West, Mike                west@esd.dl.nec.com weyrich, orville          uunet.uu.net!weyrich!orville White, Andrew             apwhite@csugrad.cs.vt.edu Wiersema, Brian           brianw@umd5.umd.edu Wimmer, Carsten           Carsten_Wimmer@train.fido.de Wittenauer, Allen         Allen_Wittenauer@crispy.carb.il.us Woodbury, Gregory         ggw@wolves.Durham.NC.US Worthington, Stephen      stephen@actrix.gen.nz Wright, Gregory           gregory@bcstec.ca.boeing.com Wyble, Richard            transfer.stratus.com!schunix!rwyble YOUNG, DAVID M.           dyoung@netcom.com Zabbal, Christian         kris@binkley.cs.mcgill.ca zawodny, jeremy           jzawodn@andy.bgsu.edu Zou, Nan                  nan@matt.ksu.ksu.edu\",\"    If I am not mistaken, the Jewish family names Cohen, Kahn, etc. are considered to be legitimate indicators of descent from Aaron. The family names Levi, Levene, etc. are considered to be legitimate indicators of descent from Levi. The main legal issue is the purification of the priesthood, which is supposed to involve finding the ashes of of the red heifer last used for this purpose 2000 years ago. _______________________________________________________________________________\",\" Suggest McQuires #1 plastic polish.  It will help somewhat but nothing  will remove deep scratches without making it worse than it already is. McQuires will do something for fine or light stuff.  Also suggest calling your local plastic shop.  In Calif. \\\"TAP PLASTIC\\\" is a chain that carries most of what is needed for repair and sometimes replacement of plastic bits.  Telephone in the Bay area is 415-962-8430. I'm not sure how amenable they are to shipping.  I have found that they have several excellent products for cleaning, and removing crap from windscreens and face shields.  Also they have one called \\\"lift-it\\\" which works real well in removing sticky stuffs such as adhessives from plastic wihtout scratching same.  Luck,\",\" Probably within 50 years, it will be possible to disassemble and re-assemble our bodies at the molecular level.  Not only will flawless cosmetic surgery be possible, but flawless cosmetic PSYCHOSURGERY.  What will it be like to store all the prices of shelf-priced bar-coded goods in your head, and catch all the errors they make in the store's favor at SAFEWAY?  What will it be like to mentally edit and spell- check your responses to the questions posed by a phone caller selling VACATION TIME-SHARE OPTIONS?  Indeed, we are today a nation at risk!  The threat is not from bad genes, but bad memes!  Memes are the basic units of culture, as opposed to genes which are the units of genetics.  We stand on the brink of new meme-amplification technologies!  Harmful memes which formerly were restricted in their destructive power will run rampant over the countryside, laying waste to the real benefits that future technology has to offer.  For example, Jeremy Rifkin has been busy trying to whip up emotions against the new genetically engineered tomatoes under development at CALGENE.  This guy is inventing harmful memes, a virtual memetic Typhoid Mary.\",\" Is there another book.  I have this one and don't find it helpfull in  learning Spice.  It would make a good reference book but I found it lacking for learning Spice.  Are there any others?  Craig \"]],[\"SUBSET\",[\"raw\",\"raw\",\"raw\",\"raw\",\"raw\",\"raw\",\"raw\",\"raw\",\"raw\",\"raw\"]],[\"label\",[\"ABSTAIN\",\"ABSTAIN\",\"ABSTAIN\",\"ABSTAIN\",\"ABSTAIN\",\"ABSTAIN\",\"ABSTAIN\",\"ABSTAIN\",\"ABSTAIN\",\"ABSTAIN\"]]]}}},\"view\":{\"type\":\"object\",\"name\":\"CDSView\",\"id\":\"p1053\",\"attributes\":{\"filter\":{\"type\":\"object\",\"name\":\"AllIndices\",\"id\":\"p1054\"}}},\"columns\":[{\"type\":\"object\",\"name\":\"TableColumn\",\"id\":\"p1043\",\"attributes\":{\"field\":\"text\",\"title\":\"text\",\"formatter\":{\"type\":\"object\",\"name\":\"HTMLTemplateFormatter\",\"id\":\"p1042\",\"attributes\":{\"template\":\"<span href=\\\"#\\\" data-toggle=\\\"tooltip\\\" title=\\\"<%= value %>\\\"><%= value %></span>\"}},\"editor\":{\"type\":\"object\",\"name\":\"CellEditor\",\"id\":\"p1041\"}}},{\"type\":\"object\",\"name\":\"TableColumn\",\"id\":\"p1046\",\"attributes\":{\"field\":\"label\",\"title\":\"label\",\"formatter\":{\"type\":\"object\",\"name\":\"StringFormatter\",\"id\":\"p1047\"},\"editor\":{\"type\":\"object\",\"name\":\"StringEditor\",\"id\":\"p1048\"}}}],\"editable\":true,\"selectable\":\"checkbox\"}}]}};\n",
       "  const render_items = [{\"docid\":\"53f37626-9b04-49e8-b579-289ddc6a1aa2\",\"roots\":{\"p1049\":\"e49bdd9b-ed51-45e3-944d-75e4e733b5e0\"},\"root_ids\":[\"p1049\"]}];\n",
       "  root.Bokeh.embed.embed_items_notebook(docs_json, render_items);\n",
       "  }\n",
       "  if (root.Bokeh !== undefined) {\n",
       "    embed_document(root);\n",
       "  } else {\n",
       "    let attempts = 0;\n",
       "    const timer = setInterval(function(root) {\n",
       "      if (root.Bokeh !== undefined) {\n",
       "        clearInterval(timer);\n",
       "        embed_document(root);\n",
       "      } else {\n",
       "        attempts++;\n",
       "        if (attempts > 100) {\n",
       "          clearInterval(timer);\n",
       "          console.log(\"Bokeh: ERROR: Unable to run BokehJS code because BokehJS library is missing\");\n",
       "        }\n",
       "      }\n",
       "    }, 10, root)\n",
       "  }\n",
       "})(window);"
      ],
      "application/vnd.bokehjs_exec.v0+json": ""
     },
     "metadata": {
      "application/vnd.bokehjs_exec.v0+json": {
       "id": "p1049"
      }
     },
     "output_type": "display_data"
    }
   ],
   "source": [
    "dataset._callback_update_selection(dataset.dfs[\"raw\"][:10])\n",
    "\n",
    "show(dataset.sel_table, notebook_url=notebook_url)"
   ]
  },
  {
   "cell_type": "markdown",
   "id": "b3ebb612",
   "metadata": {},
   "source": [
    "<br>\n",
    "\n",
    "### **Edit Data Within a Selection**\n",
    "\n",
    "Often the points selected are not perfectly homogeneous, i.e. some outliers belong to a different label from the selected group overall. It would be helpful to `EVICT` them, and `SupervisableDataset` has a button for it.\n",
    "\n",
    "Sometimes you may also wish to edit data values on the fly.  In hover this is called `PATCH`, and there also is a button for it.\n",
    "\n",
    "-   by default, labels can be edited but feature values cannot.\n",
    "\n",
    "Let's plot the forementioned buttons along with the selection table. Toggle any number of rows in the table, then click the button to `EVICT` or `PATCH` those rows:"
   ]
  },
  {
   "cell_type": "code",
   "execution_count": 5,
   "id": "0b35341e",
   "metadata": {
    "execution": {
     "iopub.execute_input": "2023-08-15T01:19:29.813154Z",
     "iopub.status.busy": "2023-08-15T01:19:29.812599Z",
     "iopub.status.idle": "2023-08-15T01:19:29.831435Z",
     "shell.execute_reply": "2023-08-15T01:19:29.830855Z"
    }
   },
   "outputs": [
    {
     "name": "stderr",
     "output_type": "stream",
     "text": [
      "WARNING:bokeh.embed.util:\n",
      "You are generating standalone HTML/JS output, but trying to use real Python\n",
      "callbacks (i.e. with on_change or on_event). This combination cannot work.\n",
      "\n",
      "Only JavaScript callbacks may be used with standalone output. For more\n",
      "information on JavaScript callbacks with Bokeh, see:\n",
      "\n",
      "    https://docs.bokeh.org/en/latest/docs/user_guide/interaction/callbacks.html\n",
      "\n",
      "Alternatively, to use real Python callbacks, a Bokeh server application may\n",
      "be used. For more information on building and running Bokeh applications, see:\n",
      "\n",
      "    https://docs.bokeh.org/en/latest/docs/user_guide/server.html\n",
      "\n"
     ]
    },
    {
     "data": {
      "text/html": [
       "\n",
       "  <div id=\"ac42356e-63d1-4f65-9716-010c19164512\" data-root-id=\"p1058\" style=\"display: contents;\"></div>\n"
      ]
     },
     "metadata": {},
     "output_type": "display_data"
    },
    {
     "data": {
      "application/javascript": [
       "(function(root) {\n",
       "  function embed_document(root) {\n",
       "  const docs_json = {\"42ee048f-3385-444d-9d01-4c7a2c0c5057\":{\"version\":\"3.2.2\",\"title\":\"Bokeh Application\",\"roots\":[{\"type\":\"object\",\"name\":\"Column\",\"id\":\"p1058\",\"attributes\":{\"children\":[{\"type\":\"object\",\"name\":\"Row\",\"id\":\"p1057\",\"attributes\":{\"children\":[{\"type\":\"object\",\"name\":\"Button\",\"id\":\"p1006\",\"attributes\":{\"button_type\":\"primary\",\"label\":\"Evict Rows from Selection\"}},{\"type\":\"object\",\"name\":\"Button\",\"id\":\"p1005\",\"attributes\":{\"button_type\":\"warning\",\"subscribed_events\":{\"type\":\"set\",\"entries\":[\"button_click\"]},\"label\":\"Update Row Values\"}}]}},{\"type\":\"object\",\"name\":\"DataTable\",\"id\":\"p1049\",\"attributes\":{\"source\":{\"type\":\"object\",\"name\":\"ColumnDataSource\",\"id\":\"p1038\",\"attributes\":{\"selected\":{\"type\":\"object\",\"name\":\"Selection\",\"id\":\"p1039\",\"attributes\":{\"indices\":[],\"line_indices\":[]}},\"selection_policy\":{\"type\":\"object\",\"name\":\"UnionRenderers\",\"id\":\"p1040\"},\"data\":{\"type\":\"map\",\"entries\":[[\"text\",[\"  The book is called \\\"27 basic fundamental beliefs\\\" or something very close to  that.  the number *IS* 27, not 30.  I have a copy at home (i'm away at  school.)\",\" Not in Indiana:  they showed a tape-delay of Chicago v Boston, because WGN had the rainout of the cubs.  So WGN showed reruns of Hitchcock. No hockey (at least in this part of the state).  Go Aeros!\",\"  It has been done already!  In the UK the Atari ST box was shipped with 360K disks in the first few years and then later 720K disks. In order to make life less complicated, many freebie disks on mags were double formatted like this. Side 0 of the disk had 360K on it and could be read  by any ST. It also had a flip-side program. This would swap the sides around so that side 1 became side 0.  -- \",\"  The roar at Michigan and Trumbull should be loader than ever this year.  With Mike Illitch at the head and Ernie Harwell back at the booth, the tiger bats will bang this summer.  Already they have scored 20 runs in two games and with Fielder, Tettleton, and Deer I think they can win the division.  No pitching! Bull!  Gully, Moore, Wells, and Krueger make up a decent staff that will keep the team into many games.  Then there is Henneman to close it out.  Watch out Boston, Toronto, and Baltimore - the Motor City Kittys are back. \",\" Why?  Either the numerator or the denominator could fluctuate.  The dollar value of a gun would (of course)  go up if supply were restricted.  The weight of a gun might  go down significantly as technology improved.   I don't  think you have a basis to assert this.  \",\"* Attention voters: * * I had a problem with my mailbox on the first day of voting. * Please check the Vote Acknowlegement (ACK) at the end of this CFV. * If your name/address is not there, please send your vote again. * (Actually, check even if you voted after the first day)   Introduction:   This is the third (and final) Call For Votes (CFV) for the creation  of four OS/2 newsgroups and the renaming of one:  (a)  create comp.os.os2.programmer.porting     (unmoderated)  (b)  renaming of comp.os.os2.programmer to       comp.os.os2.programmer.misc               (unmoderated)  (c)  comp.os.os2.setup                         (unmoderated)  (d)  comp.os.os2.multimedia                    (unmoderated)  (e)  comp.os.os2.bugs                          (unmoderated)   This is the second attempt at creating comp.os.os2.programmer.porting  and comp.os.os2.setup, and renaming comp.os.os2.programmer to  comp.os.os2.programmer.misc.  The first attempt failed in the summer  of 1992 (the voting deadline was August 31, 1992).  The voting rules  state that another attempt for creating newsgroups can be started  after a six month waiting period (in this case, it is March 1, 1993).  This is the first attempt at creating comp.os.os2.multimedia and  comp.os.os2.bugs.   This document contains:  *  the background showing the need for these proposals  *  the proposed charters for these proposals  *  voting instructions  *  a voting ballot  *  some example ballots  *  the voting rules  *  the voting schedule  *  the Mass Acknowledgement   Background:   The creation of two, free, 32-bit compilers for OS/2 2.x (gcc/2  and emx/gcc; read comp.os.os2.programmer for details) has spurred  a continuing deluge of software ported from UNIX platforms, such  as emacs, less, awk, grep, sed, xscheme, ispell, flex, yacc, and  much more.  Borland has released its C/C++ compiler for OS/2 2.x,  allowing for easier porting of DOS and Windows software.   Much of the PC hardware and drivers were written for DOS, and  later, Windows.  As more people are discovering OS/2 2.x, the  number of people asking questions about OS/2's compatibility  with their hardware increases, as does the questions on the  availability of drivers for their hardware, installation  procedures, etc.   Multimedia is becoming popular.  OS/2 2.0 supports Windows  Multimedia Extensions using Win-OS/2 3.0.  Furthermore, IBM is  including direct multimedia support in OS/2 starting with version  2.1 (in addition to using Win-OS/2 3.1).   Any non-trivial software will have bugs -- OS/2 is not exempt,  especially since IBM is constantly adding new features to OS/2.  So far, IBM has issued system patches and corrective service disks  (e.g.  the Service Pak) for free (free from BBSs and ftp sites, or  for free plus a small media charge for diskettes -- read  comp.os.os2.misc for details).   Proposed Charters:   (a)  create comp.os.os2.programmer.porting (unmoderated)    It will provide a forum for developers of ported software so   as to coordinate efforts, avoid duplication of effort, and   spur additional development.  The group will also cover   topics such as porting from other platforms (such as DOS,   Windows, UNIX, etc), toolkits which aid in program   portability (including porting tools such as Mirrors), and   so forth.   (b)  rename: comp.os.os2.programmer.misc (unmoderated)    To keep the structure of the OS/2 newsgroup heirarchy   orthogonal, comp.os.os2.programmer should be renamed to   comp.os.os2.programmer.misc.    comp.os.os2.programmer.misc will still be the newsgroup   for OS/2 programmers to discuss programming issues and   technical aspects of OS/2 in an unmoderated setting.   (c)  create comp.os.os2.setup (unmoderated)    It will be devoted to OS/2 system setup topics, including the   availability of device drivers, compatibility information,   installation procedures, system requirements, and overall   performance optimization.   (d)  create comp.os.os2.multimedia (unmoderated)    It will provide a forum for discussion of multi-media issues.   (e)  create comp.os.os2.bugs (unmoderated)    It will provide a forum for OS/2 system bug reports, bug   diagnosis and work arounds, the availability of system   patches and corrective service disks, and so forth.    [Note that discussion of bugs in applications belong in other   newsgroups, and discussion of bugs in OS/2 betas belong in   comp.os.os2.beta]   How to Vote:   To cast your vote, fill out the ballot below and e-mail it to me.  Many newsreaders will allow e-mail to be sent by replying to this  post.  Be sure to send only the ballot, and edit out the rest of  this post.   1)  Type in your vote for each proposal:       If you favor the charter as proposed, put a \\\"yes\\\" after its name.      If you oppose the charter as proposed, put a \\\"no\\\" after its name.      To abstain, leave a blank after its name.   2)  Type in your last name (i.e. your family name), a comma, and      your first name (i.e. your personal name).   3)  Cut out the ballot,  Please do not delete any lines of the      ballot.   4)  E-mail your ballot to mlevis@lonestar.utsa.edu before 11:59:59 pm      (Central Time), April 24, 1993.   Ballot:  ----------------cut here----------------cut here----------------cut here----          (a) comp.os.os2.programmer.porting:         (b)    comp.os.os2.programmer.misc:         (c)              comp.os.os2.setup:         (d)         comp.os.os2.multimedia:         (e)               comp.os.os2.bugs:          (f)       voter's last, first name:          e-mail ballot to mlevis@lonestar.utsa.edu by April 24  ----cut here----------------cut here----------------cut here----------------   Example Ballot #1:   (a) comp.os.os2.programmer.porting: yes  (b)    comp.os.os2.programmer.misc: yes  (c)              comp.os.os2.setup: no  (d)         comp.os.os2.multimedia:  (e)               comp.os.os2.bugs: no   (f)       voter's last, first name: Smith, John   In this example, John Smith favors comp.os.os2.programmer.porting  to be created, and comp.os.os2.programmer to be renamed to  comp.os.os2.programmer.misc.  He also opposes the creation of  comp.os.os2.setup and comp.os.os2.bugs.  He does not have a view  on the creation of comp.os.os2.multimedia.    Example Ballot #2:   (a) comp.os.os2.programmer.porting: yes  (b)    comp.os.os2.programmer.misc: yes  (c)              comp.os.os2.setup: yes  (d)         comp.os.os2.multimedia: yes  (e)               comp.os.os2.bugs: yes   (f)       voter's last, first name: Doe, Jane   In this example, Jane Doe favors the creation or rename of all  the proposals.   Voting Rules:   * One vote per person.  If you vote more than once, only the most    recent vote will be counted.   * Votes must be mailed to me by the person voting.  Proxy voting,    forwarding, posting votes to a newsgroup, etc. will not be counted.   * Do not ask how the votes are going.  The status of the votings    will be revealed only after the poll closes.   * I will acknowledge votes by Mass Acknowledgement (ACK).  I will    post the ACK twice (see Schedule below).   * If you need help for using your editor, using e-mail, how    voting works in general, etc. then ask an expert at your site.    Also see the ``How To Create a New Newsgroup'' article which is    posted to news.answers on a regular basis.   * If you need any clarifications on voting procedures for this    CFV, send me e-mail at mlevis@ringer.cs.utsa.edu.   * When the voting period is over (see Schedule below), a proposal    passes if both of the following formulas are true:    1)  the number of YES votes exceeds the number of NO votes        by at least 100 (i.e. YES >= NO + 100, or YES - NO >= 100).    2)  the number of YES votes exceeds at least twice the        number of NO votes (i.e. YES >= 2 * NO, or YES - NO >= NO).    In other words, a proposal passes if:        YES - NO >= max (100, NO)    where max() returns the highest number given to it.   Schedule:   The voting period started on March 29 when the first CFV was posted  by David Lawrence (the news.announce.newgroups moderator).   This third CFV is a repeat of the first CFV, but it also has the  Mass Acknowledgement (ACK) of names and e-mail addresses of those who  have already voted -- re-send your vote if it is not there.  If you  have not voted yet, vote now!   The voting period will end at 11:59:59 pm (Central Time), on  April 24, 1993.  Votes received after that time will not count.  The voting results and tally will be posted shortly after that  date.   Mass Acknowledgement:   Here is the list of people who have already sent in their ballots  as of 12:01 am (Central Time) on April 15, 1993:                            bdubbs@cs.tamu.edu Aiyagari, Sanjay          ska1@crux3.cit.cornell.edu Alcorn, Justin            alcorn@alpha.ces.cwru.edu Arien, Peter              LAAAA43%BLEKUL11.BITNET@FRMOP11.CNUSC.FR Asselin, Andre            assela@rpi.edu Aurand, Tom               tom@longs.lance.colostate.edu Baechler, Cedric          cbaechle@iiic.ethz.ch Bartlett, Warren          bart@pdn.paradyne.com Bates, John               johnb@up.edu Beadles, J.               jeff@neon.rain.com Beal, Kenneth             kbeal@amber.ssd.csd.harris.com Bedersdorfer, Jochen      beders@dfki.uni-sb.de Bell, Douglas             dab6@SCL.CWRU.Edu Benningfield, Robert      concert.net!aurs01!aurw7a!benningf Biegel, Bryan             biegel@tigris.stanford.edu Blackman, Ed              EBB7683@VENUS.TAMU.EDU Bodnar, John              jbodnar@ccwf.cc.utexas.edu Boisvert, Wesley          wesb@dermit.isis.org boneham, kevin            boneham@suntan.eng.usf.edu Boresch, Stefan           boresch@tammy.harvard.edu Boschma, Wilfried         v911071@si.hhs.nl Botha, David              BOTH-DD@mella.ee.up.ac.za Bowe, Nathaniel           woody@vnet.IBM.COM Bowers, Neil              neilb@borris.eece.unm.edu Braun,David               roland@roll.choate.edu Bronner, Geoffrey         geoffb@coos.dartmouth.edu Brors, Dieter             db@ix.de Brown, Bill               brown@chinchilla.ir.ucf.edu Cambria, Michael          cambria@smaug.enet.dec.com Carlson, Bill             woc8r@poplar.cs.virginia.edu Champion, Evan            evanc@carbon.isis.org Chandonia, John           chandoni@husc.harvard.edu Chen, Ted                 tedc@cs.ubc.ca Chua, Hak                 c164-ez@po.berkeley.edu Ciesielski, Boleslaw      bolek@viewlogic.com Clement, Bruce            frey@alfheim.actrix.gen.nz Clemente, Marc F.         mfclemente@ucdavis.edu Cline, Ernest             cline@usceast.cs.scarolina.edu Cocking , Simon           simonc@monu6.cc.monash.edu.au Compton, Curtis           compton@plains.NoDak.edu Costello, Robert          rcc9885@ultb.isc.rit.edu Coulman, Randy            coulman@skdad.usask.ca Cox, Anthony              AECOX@waikato.ac.nz Cox, Robert               rcox@qvack.EE.McGill.CA Culliton, Tom             culliton@srg.af.mil daigle, Joe               daigle@apollo.hp.com DeCarlo, John             jdecarlo@mitre.org Dippold, Ron              rdippold@qualcomm.com Donaldson, Ian            icd@ecr.mu.oz.au Drye, Stephen             scdrye@undergrad.math.uwaterloo.ca Duffy, Patrick            duffy@theory.chem.ubc.ca Dusitsin, Krid            dusitsin@ee.umr.edu Erzberger, Martin         erzberg@ifi.unizh.ch Feldtmann, Marten         marten@feki.toppoint.de Feustel, Edward           efeustel@ida.org filippini,luigi           luigi@berlioz.crs4.it Fischer, Stefan           fischer@tammy.harvard.edu Fleuren, Rik              rik@sci.kun.nl Francis, Tim              francis@vnet.IBM.COM Francois Menard           menaf00@dmi.usherb.ca Franks, Derek             franks@hercules.cs.uregina.ca Franzki, Wolfgang         wfranzki@hlrserv.hlrz.kfa-juelich.de Friedrich, Jochen         jofried@fzi.de Friis, Torben             tfriis@imada.ou.dk G\\\"unther, Stefan          stefan@med-informatik.uni-hildesheim.de Galarza, Edward           LENBC@CUNYVM.CUNY.EDU Gammon, Robert            rgammon@rgam.sc.ti.com Gartler, Hermann          herm@owlnet.rice.edu Garzik, Jeff              gtd543a@prism.gatech.edu Gershman, Mark            gershman@bach.udel.edu Giller, David R.          rafetmad@cheshire.oxy.edu Gnassi, John              jgnassi@hstbme.mit.edu Goyal, Mohit              goyal@utdallas.edu Green, Anthony            green@roboco.uucp Grupenhoff, Mike          kashmir@wam.umd.edu Guo, Youren               yguo@sparc0a.cs.uiuc.edu Hacker;Jonathan           hacker@cco.caltech.edu Haggerty, Michael         mrhagger@Athena.MIT.EDU Hargrave, BJ              fattire@vnet.IBM.COM Hartman, Shane            shane@spr.com Hartzman, Les             hartzman@kilroy.Jpl.Nasa.Gov Hassa, George             hassag@rpi.edu Hed, Nevo                 nyh@wpi.WPI.EDU Heederik, Robbert         heederik@fwi.uva.nl Hellerhoff, Torsten       Torsten_Hellerhoff@ac2.maus.de Hendel, Bernd             BHENDEL@estec.estec.esa.nl Henriksen, Gerald         rn.1035@rose.com Henry, Andrew             A.H.Henry@gdr.bath.ac.uk Herbison, B.J.            herbison@lassie.ucx.lkg.dec.com Herron, Kenneth           kherron@ms.uky.edu Hilmer, Andrew            hilmera@mist.CS.ORST.EDU Hoang, Long               lhoang@orion.oac.uci.edu Hodge, Bob                HODGE@iccgcc.cs.hh.ab.com Hodges, Matthew           modester@iastate.edu Hollebone, Bruce          lermer@theory.chem.ubc.ca holsman, Ian              IHolsman@cmutual.com.au Hopkins, John             john@uhs1.uhs.uga.edu Hoppenbrouwers, Jeroen    hoppie@kub.nl Howard, Robert            robert.howard@matd.gatech.edu Huang, Ping               pshuang@Athena.MIT.EDU Jackson, Dave             D.Jackson@axion.bt.co.uk Jensen, Colin             ljensen@netcom.com Kassarjian, Steven        kassarji@spot.Colorado.EDU Kiehl, Horst              kiehl@ibt013.ibt.kfa-juelich.de Kitchin, Bruce            kitchin@lf.hp.com Kone, Bob                 bkone@rflab.ee.ubc.ca Kovarski, Mark            kovarski@zooid.guild.org Kretzer, Myke             tanith@csd4.csd.uwm.edu Lacy, Stephen             sl31+@andrew.cmu.edu lai, william              lai@seas.gwu.edu Landy, Brian              landy@cco.caltech.edu lau, frankie              lau@tammy.harvard.edu Lau, Stephen              lau@ai.sri.com Lawton, Gef               glawton@cs.uah.edu Le Glasse, Franck         Franck.Leglasse@irisa.fr Lebius, Henning           lebius@utkux1.utk.edu lee, james                jelee@ucdavis.edu Lehtonen, Jari            jarlehto@utu.fi Leitner, Thomas           tom@finwds01.tu-graz.ac.at Lempriere, Mike           mikel@networx.com Lentin, Kevin             kevinl@bruce.cs.monash.edu.au Leung, Johnnie            k7z092@rick.cs.ubc.ca Lim, Pean                 plim@claircom.com Lin, Steven               slin@cisco.com Lindholm, George          lindholm@ucs.ubc.ca Liukkonen, Juha           jliukkon@cc.helsinki.fi Logan, Stan               logan@lexmark.com Lu, Kevin                 kevinlu@yoyo.cc.monash.edu.au Martin, Johannes          jmartin@mogli.zdv.uni-mainz.de Mashao, Daniel            djm@lems.Brown.EDU Maturo, Larry             larry@titan.tsd.arlut.utexas.edu Maxwell, Scott            scott.maxwell@channel1.com Mayer, Gunther H.         gmayer@physik.uni-kl.de Maynard, Jay              jmaynard@nyx.cs.du.edu McCarthy, Christopher     mccarthy@gollum.ttd.teradyne.com Mcgehrin, Matthew         matthew@dabeef@des.edu McGing, John              jmcging@access.digex.com McGuire, Ed               emcguire@intellection.com McMillan, Andrew          Andrew.McMillan@folly.welly.gen.nz meyer, jeff               moriarty@tc.fluke.COM Miller, Richard           rick@crick.ssctr.bcm.tmc.edu Mittelstaedt, Olaf H.-P.  mittelst@felix.rz.fh-ulm.de moorcroft, marc           smarry@zooid.guild.org Morrison, John Paul       jmorriso@ee.ubc.ca Mosher, David             dmosher@nyx.cs.du.edu Mouawad, Naji.            nmouawad@math.uwaterloo.ca Mullins, Don              mullins@magnum.convex.com Nadler, Cliff             cnadler@vnet.IBM.COM Nareid, Helge             Helge.Nareid@due.unit.no Narinian, Vartan          v.narinian@ic.ac.uk Norton, Charles M.        cmn@ftp.com o'neel, bruce             oneel@aplcenmp.apl.jhu.edu O'Rourke, Sean            sorourke@lonestar.utsa.edu Oldham, C. R.             cro@socrates.ed.asu.edu Olson, Eric               ejo@kaja.gi.alaska.edu Oussoren, Ronald          roussor@cs.vu.nl owens, bill               owens@cookiemonster.cc.buffalo.edu Parks, Dwayne             dcp@engr.uark.edu Parry, Tom                parry@yoyo.cc.monash.edu.au Pebly, Bob                pebly@vnet.IBM.COM Perdue, Alicia            arperd00@mik.uky.edu Petro, Herbert            hmpetro@mosaic.uncc.edu Pietilainen, Pekka        ppi@eero.oulu.fi Poole, David              dpoole@hydrogen.oscs.montana.edu Powell, Stephen           stevep@kralizec.zeta.org.au Prescod, Paul             papresco@undergrad.math.uwaterloo.ca Provensal, jerome         uunet.UU.NET!iac!jerome Quinn, Michael            quinn@phoenix.Princeton.EDU Rao, Venkat               rao@cactus.org Reisert, Jim              reisert@mast.enet.dec.com Reynolds, Robert          easyrob@cs.utexas.edu Robertson, James          ROBERTSON@PHYSC3.BYU.EDU Roelofs, Greg             roe2@midway.uchicago.edu Rosenvold, Johan Kristian jkr@ifi.uio.no Ruppel, Markus            m.ruppel@imperial.ac.uk Ryan, Sean                FSSPR@acad3.alaska.edu Salomon, Larry            os2man@Panix.Com Schimke, Nathan           schimken@cs.rpi.edu Schipper, Haijo           haijo@cs.rug.nl Seymour, Jim              qintar@agora.rain.com Shankar, Gess             gess@knex.via.mind.ORG Shaw, Jeremy              jeremy@plxsun.plx.com Sierwald, Joern           Sierwald@tu-harburg.dbp.de SIPPLES, TIMOTHY          sip1@midway.uchicago.edu Skogstad, Oddbjorn        odskog@siri.unit.no Smith, Donald             djs6015@ultb.isc.rit.edu Smith, Eliot              esmith@psych.purdue.edu Sneath, Tim               psyhtjs@mips.ccc.nottingham.ac.uk Sorensen, Tom             gt0040a@prism.gatech.edu Sriram, N                 swknasri@nuscc.nus.sg Steele, Alan              steele@nrcphy1.phy.nrc.ca Steinkopf, Dirk           dirk@km21.zfe.siemens.de Stirling, Ian T.          ian@vnet.IBM.COM Strazdus, Stephen         sstrazdu@sedona.intel.com streeter, carl            cstreete@nyx.cs.du.edu Sum, Eva                  eesum00@mik.uky.edu Sum, Joey                 jpsum00@mik.uky.edu Suttor, Jeff              jsuttor@netcom.com Swallow, Doug             doug@montage.oau.org Sward, David              sward+@cmu.edu Thomas, Stephen           swt@therson.affinity.mn.org Thompson, Michael         tommy@msc.cornell.edu Tiffany, Bernard          lbt@umich.edu torremans, engelbert      etorrem%hvlpa@att.att.com Tremain, Jim              JIM@BIOLOGY.watstar.uwaterloo.ca Tsen, Maoee               tsen0001@student.tc.umn.edu van der Lek, Petja        P.vanderLek@research.ptt.nl Van Iwaarden, Ronald      rvaniwaa@copper.Denver.Colorado.EDU van Woerkom, Marc E.E.    Marc_Van-Woerkom@ac3.maus.de Veeraraghavan, Venkatesh  venky@owlnet.rice.edu Veldhuyzen, Eric          v912182@si.hhs.nl Vigor, Kevin              kevin@wicat.COM Villumsen, Ole            ovillumsen@daimi.aau.dk Wald, David               wald@theory.lcs.mit.edu Wallace, Jack             grey@vnet.IBM.COM Wantosch, Rainer          RAINER@sasowa.han.de Watson, Brett             watson@s1.elec.uq.oz.au Weber-Fahr, Christoph     weber@rhrk.uni-kl.de Weeks, Larry              dev@ecn.purdue.edu Werner, John              werner@SOE.Berkeley.Edu West, Mike                west@esd.dl.nec.com weyrich, orville          uunet.uu.net!weyrich!orville White, Andrew             apwhite@csugrad.cs.vt.edu Wiersema, Brian           brianw@umd5.umd.edu Wimmer, Carsten           Carsten_Wimmer@train.fido.de Wittenauer, Allen         Allen_Wittenauer@crispy.carb.il.us Woodbury, Gregory         ggw@wolves.Durham.NC.US Worthington, Stephen      stephen@actrix.gen.nz Wright, Gregory           gregory@bcstec.ca.boeing.com Wyble, Richard            transfer.stratus.com!schunix!rwyble YOUNG, DAVID M.           dyoung@netcom.com Zabbal, Christian         kris@binkley.cs.mcgill.ca zawodny, jeremy           jzawodn@andy.bgsu.edu Zou, Nan                  nan@matt.ksu.ksu.edu\",\"    If I am not mistaken, the Jewish family names Cohen, Kahn, etc. are considered to be legitimate indicators of descent from Aaron. The family names Levi, Levene, etc. are considered to be legitimate indicators of descent from Levi. The main legal issue is the purification of the priesthood, which is supposed to involve finding the ashes of of the red heifer last used for this purpose 2000 years ago. _______________________________________________________________________________\",\" Suggest McQuires #1 plastic polish.  It will help somewhat but nothing  will remove deep scratches without making it worse than it already is. McQuires will do something for fine or light stuff.  Also suggest calling your local plastic shop.  In Calif. \\\"TAP PLASTIC\\\" is a chain that carries most of what is needed for repair and sometimes replacement of plastic bits.  Telephone in the Bay area is 415-962-8430. I'm not sure how amenable they are to shipping.  I have found that they have several excellent products for cleaning, and removing crap from windscreens and face shields.  Also they have one called \\\"lift-it\\\" which works real well in removing sticky stuffs such as adhessives from plastic wihtout scratching same.  Luck,\",\" Probably within 50 years, it will be possible to disassemble and re-assemble our bodies at the molecular level.  Not only will flawless cosmetic surgery be possible, but flawless cosmetic PSYCHOSURGERY.  What will it be like to store all the prices of shelf-priced bar-coded goods in your head, and catch all the errors they make in the store's favor at SAFEWAY?  What will it be like to mentally edit and spell- check your responses to the questions posed by a phone caller selling VACATION TIME-SHARE OPTIONS?  Indeed, we are today a nation at risk!  The threat is not from bad genes, but bad memes!  Memes are the basic units of culture, as opposed to genes which are the units of genetics.  We stand on the brink of new meme-amplification technologies!  Harmful memes which formerly were restricted in their destructive power will run rampant over the countryside, laying waste to the real benefits that future technology has to offer.  For example, Jeremy Rifkin has been busy trying to whip up emotions against the new genetically engineered tomatoes under development at CALGENE.  This guy is inventing harmful memes, a virtual memetic Typhoid Mary.\",\" Is there another book.  I have this one and don't find it helpfull in  learning Spice.  It would make a good reference book but I found it lacking for learning Spice.  Are there any others?  Craig \"]],[\"SUBSET\",[\"raw\",\"raw\",\"raw\",\"raw\",\"raw\",\"raw\",\"raw\",\"raw\",\"raw\",\"raw\"]],[\"label\",[\"ABSTAIN\",\"ABSTAIN\",\"ABSTAIN\",\"ABSTAIN\",\"ABSTAIN\",\"ABSTAIN\",\"ABSTAIN\",\"ABSTAIN\",\"ABSTAIN\",\"ABSTAIN\"]]]}}},\"view\":{\"type\":\"object\",\"name\":\"CDSView\",\"id\":\"p1053\",\"attributes\":{\"filter\":{\"type\":\"object\",\"name\":\"AllIndices\",\"id\":\"p1054\"}}},\"columns\":[{\"type\":\"object\",\"name\":\"TableColumn\",\"id\":\"p1043\",\"attributes\":{\"field\":\"text\",\"title\":\"text\",\"formatter\":{\"type\":\"object\",\"name\":\"HTMLTemplateFormatter\",\"id\":\"p1042\",\"attributes\":{\"template\":\"<span href=\\\"#\\\" data-toggle=\\\"tooltip\\\" title=\\\"<%= value %>\\\"><%= value %></span>\"}},\"editor\":{\"type\":\"object\",\"name\":\"CellEditor\",\"id\":\"p1041\"}}},{\"type\":\"object\",\"name\":\"TableColumn\",\"id\":\"p1046\",\"attributes\":{\"field\":\"label\",\"title\":\"label\",\"formatter\":{\"type\":\"object\",\"name\":\"StringFormatter\",\"id\":\"p1047\"},\"editor\":{\"type\":\"object\",\"name\":\"StringEditor\",\"id\":\"p1048\"}}}],\"editable\":true,\"selectable\":\"checkbox\"}}]}}]}};\n",
       "  const render_items = [{\"docid\":\"42ee048f-3385-444d-9d01-4c7a2c0c5057\",\"roots\":{\"p1058\":\"ac42356e-63d1-4f65-9716-010c19164512\"},\"root_ids\":[\"p1058\"]}];\n",
       "  root.Bokeh.embed.embed_items_notebook(docs_json, render_items);\n",
       "  }\n",
       "  if (root.Bokeh !== undefined) {\n",
       "    embed_document(root);\n",
       "  } else {\n",
       "    let attempts = 0;\n",
       "    const timer = setInterval(function(root) {\n",
       "      if (root.Bokeh !== undefined) {\n",
       "        clearInterval(timer);\n",
       "        embed_document(root);\n",
       "      } else {\n",
       "        attempts++;\n",
       "        if (attempts > 100) {\n",
       "          clearInterval(timer);\n",
       "          console.log(\"Bokeh: ERROR: Unable to run BokehJS code because BokehJS library is missing\");\n",
       "        }\n",
       "      }\n",
       "    }, 10, root)\n",
       "  }\n",
       "})(window);"
      ],
      "application/vnd.bokehjs_exec.v0+json": ""
     },
     "metadata": {
      "application/vnd.bokehjs_exec.v0+json": {
       "id": "p1058"
      }
     },
     "output_type": "display_data"
    }
   ],
   "source": [
    "show(column(\n",
    "    row(\n",
    "        dataset.selection_evictor,\n",
    "        dataset.selection_patcher,\n",
    "    ),\n",
    "    dataset.sel_table,\n",
    "), notebook_url=notebook_url)"
   ]
  },
  {
   "cell_type": "markdown",
   "id": "e36572d2",
   "metadata": {},
   "source": [
    "<br>"
   ]
  }
 ],
 "metadata": {
  "language_info": {
   "codemirror_mode": {
    "name": "ipython",
    "version": 3
   },
   "file_extension": ".py",
   "mimetype": "text/x-python",
   "name": "python",
   "nbconvert_exporter": "python",
   "pygments_lexer": "ipython3",
   "version": "3.9.17"
  }
 },
 "nbformat": 4,
 "nbformat_minor": 5
}
