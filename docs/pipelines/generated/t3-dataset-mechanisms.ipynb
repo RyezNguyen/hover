{
 "cells": [
  {
   "cell_type": "markdown",
   "id": "9495a8b3",
   "metadata": {},
   "source": [
    "> `SupervisableDataset` holds your data throughout the labeling process.\n",
    ">\n",
    "> :speedboat: Let's take a look at its core mechanisms.\n",
    "\n",
    "-   <details open><summary>This page addresses **single components** of `hover`</summary>\n",
    "    For illustration, we are using code snippets to pick out specific widgets so that the documentation can explain what they do.\n",
    "\n",
    "    -   Please be aware that you won't need to get the widgets by code in an actual use case.\n",
    "    -   Typical usage deals with [recipes](../../tutorial/t1-active-learning) where the individual parts have been tied together.\n",
    "\n",
    "</details>\n",
    "\n",
    "-   <details open><summary>Dependencies for {== local environments ==}</summary>\n",
    "    When you run the code locally, you may need to install additional packages.\n",
    "\n",
    "    To render `bokeh` plots in Jupyter, you need:\n",
    "```shell\n",
    "    pip install jupyter_bokeh\n",
    "```\n",
    "\n",
    "    If you are using JupyterLab older than 3.0, use this instead ([reference](https://pypi.org/project/jupyter-bokeh/)):\n",
    "```shell\n",
    "    jupyter labextension install @jupyter-widgets/jupyterlab-manager\n",
    "    jupyter labextension install @bokeh/jupyter_bokeh\n",
    "```\n",
    "\n",
    "</details>\n",
    "\n",
    "## **Data Subsets**\n",
    "\n",
    "We place unlabeled data and labeled data in different subsets: \"raw\", \"train\", \"dev\", and \"test\". Unlabeled data start from the \"raw\" subset, and can be transferred to other subsets after it gets labeled.\n",
    "\n",
    "`SupervisableDataset` uses a \"population table\", `dataset.pop_table`, to show the size of each subset:"
   ]
  },
  {
   "cell_type": "code",
   "execution_count": 1,
   "id": "d88936bc",
   "metadata": {
    "execution": {
     "iopub.execute_input": "2023-11-14T01:23:01.620062Z",
     "iopub.status.busy": "2023-11-14T01:23:01.619838Z",
     "iopub.status.idle": "2023-11-14T01:23:03.274363Z",
     "shell.execute_reply": "2023-11-14T01:23:03.273694Z"
    }
   },
   "outputs": [
    {
     "data": {
      "text/html": [
       "<pre style=\"white-space:pre;overflow-x:auto;line-height:normal;font-family:Menlo,'DejaVu Sans Mono',consolas,'Courier New',monospace\"><span style=\"color: #000080; text-decoration-color: #000080\">🔵 SupervisableTextDataset: Initializing</span><span style=\"color: #808000; text-decoration-color: #808000\">...</span>\n",
       "</pre>\n"
      ],
      "text/plain": [
       "\u001b[34m🔵 SupervisableTextDataset: Initializing\u001b[0m\u001b[33m...\u001b[0m\n"
      ]
     },
     "metadata": {},
     "output_type": "display_data"
    },
    {
     "data": {
      "text/html": [
       "<pre style=\"white-space:pre;overflow-x:auto;line-height:normal;font-family:Menlo,'DejaVu Sans Mono',consolas,'Courier New',monospace\"><span style=\"color: #000080; text-decoration-color: #000080\">🔵 SupervisableTextDataset: Deduplicating</span><span style=\"color: #808000; text-decoration-color: #808000\">...</span>\n",
       "</pre>\n"
      ],
      "text/plain": [
       "\u001b[34m🔵 SupervisableTextDataset: Deduplicating\u001b[0m\u001b[33m...\u001b[0m\n"
      ]
     },
     "metadata": {},
     "output_type": "display_data"
    },
    {
     "data": {
      "text/html": [
       "<pre style=\"white-space:pre;overflow-x:auto;line-height:normal;font-family:Menlo,'DejaVu Sans Mono',consolas,'Courier New',monospace\"><span style=\"color: #000080; text-decoration-color: #000080\">🔵 SupervisableTextDataset: --subset raw rows: </span><span style=\"color: #008080; text-decoration-color: #008080; font-weight: bold\">400</span><span style=\"color: #000080; text-decoration-color: #000080\"> -&gt; </span><span style=\"color: #008080; text-decoration-color: #008080; font-weight: bold\">368</span><span style=\"color: #000080; text-decoration-color: #000080\">.</span>\n",
       "</pre>\n"
      ],
      "text/plain": [
       "\u001b[34m🔵 SupervisableTextDataset: --subset raw rows: \u001b[0m\u001b[1;36m400\u001b[0m\u001b[34m -> \u001b[0m\u001b[1;36m368\u001b[0m\u001b[34m.\u001b[0m\n"
      ]
     },
     "metadata": {},
     "output_type": "display_data"
    },
    {
     "data": {
      "text/html": [
       "<pre style=\"white-space:pre;overflow-x:auto;line-height:normal;font-family:Menlo,'DejaVu Sans Mono',consolas,'Courier New',monospace\"><span style=\"color: #000080; text-decoration-color: #000080\">🔵 SupervisableTextDataset: --subset train rows: </span><span style=\"color: #008080; text-decoration-color: #008080; font-weight: bold\">400</span><span style=\"color: #000080; text-decoration-color: #000080\"> -&gt; </span><span style=\"color: #008080; text-decoration-color: #008080; font-weight: bold\">384</span><span style=\"color: #000080; text-decoration-color: #000080\">.</span>\n",
       "</pre>\n"
      ],
      "text/plain": [
       "\u001b[34m🔵 SupervisableTextDataset: --subset train rows: \u001b[0m\u001b[1;36m400\u001b[0m\u001b[34m -> \u001b[0m\u001b[1;36m384\u001b[0m\u001b[34m.\u001b[0m\n"
      ]
     },
     "metadata": {},
     "output_type": "display_data"
    },
    {
     "data": {
      "text/html": [
       "<pre style=\"white-space:pre;overflow-x:auto;line-height:normal;font-family:Menlo,'DejaVu Sans Mono',consolas,'Courier New',monospace\"><span style=\"color: #000080; text-decoration-color: #000080\">🔵 SupervisableTextDataset: --subset dev rows: </span><span style=\"color: #008080; text-decoration-color: #008080; font-weight: bold\">100</span><span style=\"color: #000080; text-decoration-color: #000080\"> -&gt; </span><span style=\"color: #008080; text-decoration-color: #008080; font-weight: bold\">93</span><span style=\"color: #000080; text-decoration-color: #000080\">.</span>\n",
       "</pre>\n"
      ],
      "text/plain": [
       "\u001b[34m🔵 SupervisableTextDataset: --subset dev rows: \u001b[0m\u001b[1;36m100\u001b[0m\u001b[34m -> \u001b[0m\u001b[1;36m93\u001b[0m\u001b[34m.\u001b[0m\n"
      ]
     },
     "metadata": {},
     "output_type": "display_data"
    },
    {
     "data": {
      "text/html": [
       "<pre style=\"white-space:pre;overflow-x:auto;line-height:normal;font-family:Menlo,'DejaVu Sans Mono',consolas,'Courier New',monospace\"><span style=\"color: #000080; text-decoration-color: #000080\">🔵 SupervisableTextDataset: --subset test rows: </span><span style=\"color: #008080; text-decoration-color: #008080; font-weight: bold\">100</span><span style=\"color: #000080; text-decoration-color: #000080\"> -&gt; </span><span style=\"color: #008080; text-decoration-color: #008080; font-weight: bold\">99</span><span style=\"color: #000080; text-decoration-color: #000080\">.</span>\n",
       "</pre>\n"
      ],
      "text/plain": [
       "\u001b[34m🔵 SupervisableTextDataset: --subset test rows: \u001b[0m\u001b[1;36m100\u001b[0m\u001b[34m -> \u001b[0m\u001b[1;36m99\u001b[0m\u001b[34m.\u001b[0m\n"
      ]
     },
     "metadata": {},
     "output_type": "display_data"
    },
    {
     "data": {
      "text/html": [
       "<pre style=\"white-space:pre;overflow-x:auto;line-height:normal;font-family:Menlo,'DejaVu Sans Mono',consolas,'Courier New',monospace\"><span style=\"color: #008000; text-decoration-color: #008000\">🟢 SupervisableTextDataset: Set up label encoder/decoder with </span><span style=\"color: #008080; text-decoration-color: #008080; font-weight: bold\">20</span><span style=\"color: #008000; text-decoration-color: #008000\"> classes.</span>\n",
       "</pre>\n"
      ],
      "text/plain": [
       "\u001b[32m🟢 SupervisableTextDataset: Set up label encoder/decoder with \u001b[0m\u001b[1;36m20\u001b[0m\u001b[32m classes.\u001b[0m\n"
      ]
     },
     "metadata": {},
     "output_type": "display_data"
    },
    {
     "data": {
      "text/html": [
       "<pre style=\"white-space:pre;overflow-x:auto;line-height:normal;font-family:Menlo,'DejaVu Sans Mono',consolas,'Courier New',monospace\"><span style=\"color: #008000; text-decoration-color: #008000\">🟢 SupervisableTextDataset: Population updater: latest population with </span><span style=\"color: #008080; text-decoration-color: #008080; font-weight: bold\">20</span><span style=\"color: #008000; text-decoration-color: #008000\"> classes.</span>\n",
       "</pre>\n"
      ],
      "text/plain": [
       "\u001b[32m🟢 SupervisableTextDataset: Population updater: latest population with \u001b[0m\u001b[1;36m20\u001b[0m\u001b[32m classes.\u001b[0m\n"
      ]
     },
     "metadata": {},
     "output_type": "display_data"
    },
    {
     "data": {
      "text/html": [
       "<pre style=\"white-space:pre;overflow-x:auto;line-height:normal;font-family:Menlo,'DejaVu Sans Mono',consolas,'Courier New',monospace\"><span style=\"color: #000080; text-decoration-color: #000080\">🔵 SupervisableTextDataset: finished setting up bokeh elements.</span>\n",
       "</pre>\n"
      ],
      "text/plain": [
       "\u001b[34m🔵 SupervisableTextDataset: finished setting up bokeh elements.\u001b[0m\n"
      ]
     },
     "metadata": {},
     "output_type": "display_data"
    },
    {
     "data": {
      "text/html": [
       "<pre style=\"white-space:pre;overflow-x:auto;line-height:normal;font-family:Menlo,'DejaVu Sans Mono',consolas,'Courier New',monospace\"><span style=\"color: #008000; text-decoration-color: #008000\">🟢 SupervisableTextDataset: finished initialization.</span>\n",
       "</pre>\n"
      ],
      "text/plain": [
       "\u001b[32m🟢 SupervisableTextDataset: finished initialization.\u001b[0m\n"
      ]
     },
     "metadata": {},
     "output_type": "display_data"
    }
   ],
   "source": [
    "from hover.core.dataset import SupervisableTextDataset\n",
    "import pandas as pd\n",
    "\n",
    "raw_csv_path = \"https://raw.githubusercontent.com/phurwicz/hover-gallery/main/0.5.0/20_newsgroups_raw.csv\"\n",
    "train_csv_path = \"https://raw.githubusercontent.com/phurwicz/hover-gallery/main/0.5.0/20_newsgroups_train.csv\"\n",
    "\n",
    "# for fast, low-memory demonstration purpose, sample the data\n",
    "df_raw = pd.read_csv(raw_csv_path).sample(400)\n",
    "df_raw[\"SUBSET\"] = \"raw\"\n",
    "df_train = pd.read_csv(train_csv_path).sample(400)\n",
    "df_train[\"SUBSET\"] = \"train\"\n",
    "df_dev = pd.read_csv(train_csv_path).sample(100)\n",
    "df_dev[\"SUBSET\"] = \"dev\"\n",
    "df_test = pd.read_csv(train_csv_path).sample(100)\n",
    "df_test[\"SUBSET\"] = \"test\"\n",
    "\n",
    "# build overall dataframe and ensure feature type\n",
    "df = pd.concat([df_raw, df_train, df_dev, df_test])\n",
    "df[\"text\"] = df[\"text\"].astype(str)\n",
    "\n",
    "# this class stores the dataset throught the labeling process\n",
    "dataset = SupervisableTextDataset.from_pandas(df, feature_key=\"text\", label_key=\"label\")"
   ]
  },
  {
   "cell_type": "markdown",
   "id": "5ccce2d0",
   "metadata": {},
   "source": [
    "<br>"
   ]
  },
  {
   "cell_type": "code",
   "execution_count": 2,
   "id": "68086abb",
   "metadata": {
    "execution": {
     "iopub.execute_input": "2023-11-14T01:23:03.277129Z",
     "iopub.status.busy": "2023-11-14T01:23:03.276691Z",
     "iopub.status.idle": "2023-11-14T01:23:03.328159Z",
     "shell.execute_reply": "2023-11-14T01:23:03.327604Z"
    }
   },
   "outputs": [
    {
     "data": {
      "text/html": [
       "    <style>\n",
       "        .bk-notebook-logo {\n",
       "            display: block;\n",
       "            width: 20px;\n",
       "            height: 20px;\n",
       "            background-image: url(data:image/png;base64,iVBORw0KGgoAAAANSUhEUgAAABQAAAAUCAYAAACNiR0NAAAABHNCSVQICAgIfAhkiAAAAAlwSFlzAAALEgAACxIB0t1+/AAAABx0RVh0U29mdHdhcmUAQWRvYmUgRmlyZXdvcmtzIENTNui8sowAAAOkSURBVDiNjZRtaJVlGMd/1/08zzln5zjP1LWcU9N0NkN8m2CYjpgQYQXqSs0I84OLIC0hkEKoPtiH3gmKoiJDU7QpLgoLjLIQCpEsNJ1vqUOdO7ppbuec5+V+rj4ctwzd8IIbbi6u+8f1539dt3A78eXC7QizUF7gyV1fD1Yqg4JWz84yffhm0qkFqBogB9rM8tZdtwVsPUhWhGcFJngGeWrPzHm5oaMmkfEg1usvLFyc8jLRqDOMru7AyC8saQr7GG7f5fvDeH7Ej8CM66nIF+8yngt6HWaKh7k49Soy9nXurCi1o3qUbS3zWfrYeQDTB/Qj6kX6Ybhw4B+bOYoLKCC9H3Nu/leUTZ1JdRWkkn2ldcCamzrcf47KKXdAJllSlxAOkRgyHsGC/zRday5Qld9DyoM4/q/rUoy/CXh3jzOu3bHUVZeU+DEn8FInkPBFlu3+nW3Nw0mk6vCDiWg8CeJaxEwuHS3+z5RgY+YBR6V1Z1nxSOfoaPa4LASWxxdNp+VWTk7+4vzaou8v8PN+xo+KY2xsw6une2frhw05CTYOmQvsEhjhWjn0bmXPjpE1+kplmmkP3suftwTubK9Vq22qKmrBhpY4jvd5afdRA3wGjFAgcnTK2s4hY0/GPNIb0nErGMCRxWOOX64Z8RAC4oCXdklmEvcL8o0BfkNK4lUg9HTl+oPlQxdNo3Mg4Nv175e/1LDGzZen30MEjRUtmXSfiTVu1kK8W4txyV6BMKlbgk3lMwYCiusNy9fVfvvwMxv8Ynl6vxoByANLTWplvuj/nF9m2+PDtt1eiHPBr1oIfhCChQMBw6Aw0UulqTKZdfVvfG7VcfIqLG9bcldL/+pdWTLxLUy8Qq38heUIjh4XlzZxzQm19lLFlr8vdQ97rjZVOLf8nclzckbcD4wxXMidpX30sFd37Fv/GtwwhzhxGVAprjbg0gCAEeIgwCZyTV2Z1REEW8O4py0wsjeloKoMr6iCY6dP92H6Vw/oTyICIthibxjm/DfN9lVz8IqtqKYLUXfoKVMVQVVJOElGjrnnUt9T9wbgp8AyYKaGlqingHZU/uG2NTZSVqwHQTWkx9hxjkpWDaCg6Ckj5qebgBVbT3V3NNXMSiWSDdGV3hrtzla7J+duwPOToIg42ChPQOQjspnSlp1V+Gjdged7+8UN5CRAV7a5EdFNwCjEaBR27b3W890TE7g24NAP/mMDXRWrGoFPQI9ls/MWO2dWFAar/xcOIImbbpA3zgAAAABJRU5ErkJggg==);\n",
       "        }\n",
       "    </style>\n",
       "    <div>\n",
       "        <a href=\"https://bokeh.org\" target=\"_blank\" class=\"bk-notebook-logo\"></a>\n",
       "        <span id=\"c768ff2d-cf66-4a34-8a19-869d10105cba\">Loading BokehJS ...</span>\n",
       "    </div>\n"
      ]
     },
     "metadata": {},
     "output_type": "display_data"
    },
    {
     "data": {
      "application/javascript": [
       "(function(root) {\n",
       "  function now() {\n",
       "    return new Date();\n",
       "  }\n",
       "\n",
       "  const force = true;\n",
       "\n",
       "  if (typeof root._bokeh_onload_callbacks === \"undefined\" || force === true) {\n",
       "    root._bokeh_onload_callbacks = [];\n",
       "    root._bokeh_is_loading = undefined;\n",
       "  }\n",
       "\n",
       "const JS_MIME_TYPE = 'application/javascript';\n",
       "  const HTML_MIME_TYPE = 'text/html';\n",
       "  const EXEC_MIME_TYPE = 'application/vnd.bokehjs_exec.v0+json';\n",
       "  const CLASS_NAME = 'output_bokeh rendered_html';\n",
       "\n",
       "  /**\n",
       "   * Render data to the DOM node\n",
       "   */\n",
       "  function render(props, node) {\n",
       "    const script = document.createElement(\"script\");\n",
       "    node.appendChild(script);\n",
       "  }\n",
       "\n",
       "  /**\n",
       "   * Handle when an output is cleared or removed\n",
       "   */\n",
       "  function handleClearOutput(event, handle) {\n",
       "    function drop(id) {\n",
       "      const view = Bokeh.index.get_by_id(id)\n",
       "      if (view != null) {\n",
       "        view.model.document.clear()\n",
       "        Bokeh.index.delete(view)\n",
       "      }\n",
       "    }\n",
       "\n",
       "    const cell = handle.cell;\n",
       "\n",
       "    const id = cell.output_area._bokeh_element_id;\n",
       "    const server_id = cell.output_area._bokeh_server_id;\n",
       "\n",
       "    // Clean up Bokeh references\n",
       "    if (id != null) {\n",
       "      drop(id)\n",
       "    }\n",
       "\n",
       "    if (server_id !== undefined) {\n",
       "      // Clean up Bokeh references\n",
       "      const cmd_clean = \"from bokeh.io.state import curstate; print(curstate().uuid_to_server['\" + server_id + \"'].get_sessions()[0].document.roots[0]._id)\";\n",
       "      cell.notebook.kernel.execute(cmd_clean, {\n",
       "        iopub: {\n",
       "          output: function(msg) {\n",
       "            const id = msg.content.text.trim()\n",
       "            drop(id)\n",
       "          }\n",
       "        }\n",
       "      });\n",
       "      // Destroy server and session\n",
       "      const cmd_destroy = \"import bokeh.io.notebook as ion; ion.destroy_server('\" + server_id + \"')\";\n",
       "      cell.notebook.kernel.execute(cmd_destroy);\n",
       "    }\n",
       "  }\n",
       "\n",
       "  /**\n",
       "   * Handle when a new output is added\n",
       "   */\n",
       "  function handleAddOutput(event, handle) {\n",
       "    const output_area = handle.output_area;\n",
       "    const output = handle.output;\n",
       "\n",
       "    // limit handleAddOutput to display_data with EXEC_MIME_TYPE content only\n",
       "    if ((output.output_type != \"display_data\") || (!Object.prototype.hasOwnProperty.call(output.data, EXEC_MIME_TYPE))) {\n",
       "      return\n",
       "    }\n",
       "\n",
       "    const toinsert = output_area.element.find(\".\" + CLASS_NAME.split(' ')[0]);\n",
       "\n",
       "    if (output.metadata[EXEC_MIME_TYPE][\"id\"] !== undefined) {\n",
       "      toinsert[toinsert.length - 1].firstChild.textContent = output.data[JS_MIME_TYPE];\n",
       "      // store reference to embed id on output_area\n",
       "      output_area._bokeh_element_id = output.metadata[EXEC_MIME_TYPE][\"id\"];\n",
       "    }\n",
       "    if (output.metadata[EXEC_MIME_TYPE][\"server_id\"] !== undefined) {\n",
       "      const bk_div = document.createElement(\"div\");\n",
       "      bk_div.innerHTML = output.data[HTML_MIME_TYPE];\n",
       "      const script_attrs = bk_div.children[0].attributes;\n",
       "      for (let i = 0; i < script_attrs.length; i++) {\n",
       "        toinsert[toinsert.length - 1].firstChild.setAttribute(script_attrs[i].name, script_attrs[i].value);\n",
       "        toinsert[toinsert.length - 1].firstChild.textContent = bk_div.children[0].textContent\n",
       "      }\n",
       "      // store reference to server id on output_area\n",
       "      output_area._bokeh_server_id = output.metadata[EXEC_MIME_TYPE][\"server_id\"];\n",
       "    }\n",
       "  }\n",
       "\n",
       "  function register_renderer(events, OutputArea) {\n",
       "\n",
       "    function append_mime(data, metadata, element) {\n",
       "      // create a DOM node to render to\n",
       "      const toinsert = this.create_output_subarea(\n",
       "        metadata,\n",
       "        CLASS_NAME,\n",
       "        EXEC_MIME_TYPE\n",
       "      );\n",
       "      this.keyboard_manager.register_events(toinsert);\n",
       "      // Render to node\n",
       "      const props = {data: data, metadata: metadata[EXEC_MIME_TYPE]};\n",
       "      render(props, toinsert[toinsert.length - 1]);\n",
       "      element.append(toinsert);\n",
       "      return toinsert\n",
       "    }\n",
       "\n",
       "    /* Handle when an output is cleared or removed */\n",
       "    events.on('clear_output.CodeCell', handleClearOutput);\n",
       "    events.on('delete.Cell', handleClearOutput);\n",
       "\n",
       "    /* Handle when a new output is added */\n",
       "    events.on('output_added.OutputArea', handleAddOutput);\n",
       "\n",
       "    /**\n",
       "     * Register the mime type and append_mime function with output_area\n",
       "     */\n",
       "    OutputArea.prototype.register_mime_type(EXEC_MIME_TYPE, append_mime, {\n",
       "      /* Is output safe? */\n",
       "      safe: true,\n",
       "      /* Index of renderer in `output_area.display_order` */\n",
       "      index: 0\n",
       "    });\n",
       "  }\n",
       "\n",
       "  // register the mime type if in Jupyter Notebook environment and previously unregistered\n",
       "  if (root.Jupyter !== undefined) {\n",
       "    const events = require('base/js/events');\n",
       "    const OutputArea = require('notebook/js/outputarea').OutputArea;\n",
       "\n",
       "    if (OutputArea.prototype.mime_types().indexOf(EXEC_MIME_TYPE) == -1) {\n",
       "      register_renderer(events, OutputArea);\n",
       "    }\n",
       "  }\n",
       "  if (typeof (root._bokeh_timeout) === \"undefined\" || force === true) {\n",
       "    root._bokeh_timeout = Date.now() + 5000;\n",
       "    root._bokeh_failed_load = false;\n",
       "  }\n",
       "\n",
       "  const NB_LOAD_WARNING = {'data': {'text/html':\n",
       "     \"<div style='background-color: #fdd'>\\n\"+\n",
       "     \"<p>\\n\"+\n",
       "     \"BokehJS does not appear to have successfully loaded. If loading BokehJS from CDN, this \\n\"+\n",
       "     \"may be due to a slow or bad network connection. Possible fixes:\\n\"+\n",
       "     \"</p>\\n\"+\n",
       "     \"<ul>\\n\"+\n",
       "     \"<li>re-rerun `output_notebook()` to attempt to load from CDN again, or</li>\\n\"+\n",
       "     \"<li>use INLINE resources instead, as so:</li>\\n\"+\n",
       "     \"</ul>\\n\"+\n",
       "     \"<code>\\n\"+\n",
       "     \"from bokeh.resources import INLINE\\n\"+\n",
       "     \"output_notebook(resources=INLINE)\\n\"+\n",
       "     \"</code>\\n\"+\n",
       "     \"</div>\"}};\n",
       "\n",
       "  function display_loaded() {\n",
       "    const el = document.getElementById(\"c768ff2d-cf66-4a34-8a19-869d10105cba\");\n",
       "    if (el != null) {\n",
       "      el.textContent = \"BokehJS is loading...\";\n",
       "    }\n",
       "    if (root.Bokeh !== undefined) {\n",
       "      if (el != null) {\n",
       "        el.textContent = \"BokehJS \" + root.Bokeh.version + \" successfully loaded.\";\n",
       "      }\n",
       "    } else if (Date.now() < root._bokeh_timeout) {\n",
       "      setTimeout(display_loaded, 100)\n",
       "    }\n",
       "  }\n",
       "\n",
       "  function run_callbacks() {\n",
       "    try {\n",
       "      root._bokeh_onload_callbacks.forEach(function(callback) {\n",
       "        if (callback != null)\n",
       "          callback();\n",
       "      });\n",
       "    } finally {\n",
       "      delete root._bokeh_onload_callbacks\n",
       "    }\n",
       "    console.debug(\"Bokeh: all callbacks have finished\");\n",
       "  }\n",
       "\n",
       "  function load_libs(css_urls, js_urls, callback) {\n",
       "    if (css_urls == null) css_urls = [];\n",
       "    if (js_urls == null) js_urls = [];\n",
       "\n",
       "    root._bokeh_onload_callbacks.push(callback);\n",
       "    if (root._bokeh_is_loading > 0) {\n",
       "      console.debug(\"Bokeh: BokehJS is being loaded, scheduling callback at\", now());\n",
       "      return null;\n",
       "    }\n",
       "    if (js_urls == null || js_urls.length === 0) {\n",
       "      run_callbacks();\n",
       "      return null;\n",
       "    }\n",
       "    console.debug(\"Bokeh: BokehJS not loaded, scheduling load and callback at\", now());\n",
       "    root._bokeh_is_loading = css_urls.length + js_urls.length;\n",
       "\n",
       "    function on_load() {\n",
       "      root._bokeh_is_loading--;\n",
       "      if (root._bokeh_is_loading === 0) {\n",
       "        console.debug(\"Bokeh: all BokehJS libraries/stylesheets loaded\");\n",
       "        run_callbacks()\n",
       "      }\n",
       "    }\n",
       "\n",
       "    function on_error(url) {\n",
       "      console.error(\"failed to load \" + url);\n",
       "    }\n",
       "\n",
       "    for (let i = 0; i < css_urls.length; i++) {\n",
       "      const url = css_urls[i];\n",
       "      const element = document.createElement(\"link\");\n",
       "      element.onload = on_load;\n",
       "      element.onerror = on_error.bind(null, url);\n",
       "      element.rel = \"stylesheet\";\n",
       "      element.type = \"text/css\";\n",
       "      element.href = url;\n",
       "      console.debug(\"Bokeh: injecting link tag for BokehJS stylesheet: \", url);\n",
       "      document.body.appendChild(element);\n",
       "    }\n",
       "\n",
       "    for (let i = 0; i < js_urls.length; i++) {\n",
       "      const url = js_urls[i];\n",
       "      const element = document.createElement('script');\n",
       "      element.onload = on_load;\n",
       "      element.onerror = on_error.bind(null, url);\n",
       "      element.async = false;\n",
       "      element.src = url;\n",
       "      console.debug(\"Bokeh: injecting script tag for BokehJS library: \", url);\n",
       "      document.head.appendChild(element);\n",
       "    }\n",
       "  };\n",
       "\n",
       "  function inject_raw_css(css) {\n",
       "    const element = document.createElement(\"style\");\n",
       "    element.appendChild(document.createTextNode(css));\n",
       "    document.body.appendChild(element);\n",
       "  }\n",
       "\n",
       "  const js_urls = [\"https://cdn.bokeh.org/bokeh/release/bokeh-3.3.1.min.js\", \"https://cdn.bokeh.org/bokeh/release/bokeh-gl-3.3.1.min.js\", \"https://cdn.bokeh.org/bokeh/release/bokeh-widgets-3.3.1.min.js\", \"https://cdn.bokeh.org/bokeh/release/bokeh-tables-3.3.1.min.js\", \"https://cdn.bokeh.org/bokeh/release/bokeh-mathjax-3.3.1.min.js\"];\n",
       "  const css_urls = [];\n",
       "\n",
       "  const inline_js = [    function(Bokeh) {\n",
       "      Bokeh.set_log_level(\"info\");\n",
       "    },\n",
       "function(Bokeh) {\n",
       "    }\n",
       "  ];\n",
       "\n",
       "  function run_inline_js() {\n",
       "    if (root.Bokeh !== undefined || force === true) {\n",
       "          for (let i = 0; i < inline_js.length; i++) {\n",
       "      inline_js[i].call(root, root.Bokeh);\n",
       "    }\n",
       "if (force === true) {\n",
       "        display_loaded();\n",
       "      }} else if (Date.now() < root._bokeh_timeout) {\n",
       "      setTimeout(run_inline_js, 100);\n",
       "    } else if (!root._bokeh_failed_load) {\n",
       "      console.log(\"Bokeh: BokehJS failed to load within specified timeout.\");\n",
       "      root._bokeh_failed_load = true;\n",
       "    } else if (force !== true) {\n",
       "      const cell = $(document.getElementById(\"c768ff2d-cf66-4a34-8a19-869d10105cba\")).parents('.cell').data().cell;\n",
       "      cell.output_area.append_execute_result(NB_LOAD_WARNING)\n",
       "    }\n",
       "  }\n",
       "\n",
       "  if (root._bokeh_is_loading === 0) {\n",
       "    console.debug(\"Bokeh: BokehJS loaded, going straight to plotting\");\n",
       "    run_inline_js();\n",
       "  } else {\n",
       "    load_libs(css_urls, js_urls, function() {\n",
       "      console.debug(\"Bokeh: BokehJS plotting callback run at\", now());\n",
       "      run_inline_js();\n",
       "    });\n",
       "  }\n",
       "}(window));"
      ],
      "application/vnd.bokehjs_load.v0+json": "(function(root) {\n  function now() {\n    return new Date();\n  }\n\n  const force = true;\n\n  if (typeof root._bokeh_onload_callbacks === \"undefined\" || force === true) {\n    root._bokeh_onload_callbacks = [];\n    root._bokeh_is_loading = undefined;\n  }\n\n\n  if (typeof (root._bokeh_timeout) === \"undefined\" || force === true) {\n    root._bokeh_timeout = Date.now() + 5000;\n    root._bokeh_failed_load = false;\n  }\n\n  const NB_LOAD_WARNING = {'data': {'text/html':\n     \"<div style='background-color: #fdd'>\\n\"+\n     \"<p>\\n\"+\n     \"BokehJS does not appear to have successfully loaded. If loading BokehJS from CDN, this \\n\"+\n     \"may be due to a slow or bad network connection. Possible fixes:\\n\"+\n     \"</p>\\n\"+\n     \"<ul>\\n\"+\n     \"<li>re-rerun `output_notebook()` to attempt to load from CDN again, or</li>\\n\"+\n     \"<li>use INLINE resources instead, as so:</li>\\n\"+\n     \"</ul>\\n\"+\n     \"<code>\\n\"+\n     \"from bokeh.resources import INLINE\\n\"+\n     \"output_notebook(resources=INLINE)\\n\"+\n     \"</code>\\n\"+\n     \"</div>\"}};\n\n  function display_loaded() {\n    const el = document.getElementById(\"c768ff2d-cf66-4a34-8a19-869d10105cba\");\n    if (el != null) {\n      el.textContent = \"BokehJS is loading...\";\n    }\n    if (root.Bokeh !== undefined) {\n      if (el != null) {\n        el.textContent = \"BokehJS \" + root.Bokeh.version + \" successfully loaded.\";\n      }\n    } else if (Date.now() < root._bokeh_timeout) {\n      setTimeout(display_loaded, 100)\n    }\n  }\n\n  function run_callbacks() {\n    try {\n      root._bokeh_onload_callbacks.forEach(function(callback) {\n        if (callback != null)\n          callback();\n      });\n    } finally {\n      delete root._bokeh_onload_callbacks\n    }\n    console.debug(\"Bokeh: all callbacks have finished\");\n  }\n\n  function load_libs(css_urls, js_urls, callback) {\n    if (css_urls == null) css_urls = [];\n    if (js_urls == null) js_urls = [];\n\n    root._bokeh_onload_callbacks.push(callback);\n    if (root._bokeh_is_loading > 0) {\n      console.debug(\"Bokeh: BokehJS is being loaded, scheduling callback at\", now());\n      return null;\n    }\n    if (js_urls == null || js_urls.length === 0) {\n      run_callbacks();\n      return null;\n    }\n    console.debug(\"Bokeh: BokehJS not loaded, scheduling load and callback at\", now());\n    root._bokeh_is_loading = css_urls.length + js_urls.length;\n\n    function on_load() {\n      root._bokeh_is_loading--;\n      if (root._bokeh_is_loading === 0) {\n        console.debug(\"Bokeh: all BokehJS libraries/stylesheets loaded\");\n        run_callbacks()\n      }\n    }\n\n    function on_error(url) {\n      console.error(\"failed to load \" + url);\n    }\n\n    for (let i = 0; i < css_urls.length; i++) {\n      const url = css_urls[i];\n      const element = document.createElement(\"link\");\n      element.onload = on_load;\n      element.onerror = on_error.bind(null, url);\n      element.rel = \"stylesheet\";\n      element.type = \"text/css\";\n      element.href = url;\n      console.debug(\"Bokeh: injecting link tag for BokehJS stylesheet: \", url);\n      document.body.appendChild(element);\n    }\n\n    for (let i = 0; i < js_urls.length; i++) {\n      const url = js_urls[i];\n      const element = document.createElement('script');\n      element.onload = on_load;\n      element.onerror = on_error.bind(null, url);\n      element.async = false;\n      element.src = url;\n      console.debug(\"Bokeh: injecting script tag for BokehJS library: \", url);\n      document.head.appendChild(element);\n    }\n  };\n\n  function inject_raw_css(css) {\n    const element = document.createElement(\"style\");\n    element.appendChild(document.createTextNode(css));\n    document.body.appendChild(element);\n  }\n\n  const js_urls = [\"https://cdn.bokeh.org/bokeh/release/bokeh-3.3.1.min.js\", \"https://cdn.bokeh.org/bokeh/release/bokeh-gl-3.3.1.min.js\", \"https://cdn.bokeh.org/bokeh/release/bokeh-widgets-3.3.1.min.js\", \"https://cdn.bokeh.org/bokeh/release/bokeh-tables-3.3.1.min.js\", \"https://cdn.bokeh.org/bokeh/release/bokeh-mathjax-3.3.1.min.js\"];\n  const css_urls = [];\n\n  const inline_js = [    function(Bokeh) {\n      Bokeh.set_log_level(\"info\");\n    },\nfunction(Bokeh) {\n    }\n  ];\n\n  function run_inline_js() {\n    if (root.Bokeh !== undefined || force === true) {\n          for (let i = 0; i < inline_js.length; i++) {\n      inline_js[i].call(root, root.Bokeh);\n    }\nif (force === true) {\n        display_loaded();\n      }} else if (Date.now() < root._bokeh_timeout) {\n      setTimeout(run_inline_js, 100);\n    } else if (!root._bokeh_failed_load) {\n      console.log(\"Bokeh: BokehJS failed to load within specified timeout.\");\n      root._bokeh_failed_load = true;\n    } else if (force !== true) {\n      const cell = $(document.getElementById(\"c768ff2d-cf66-4a34-8a19-869d10105cba\")).parents('.cell').data().cell;\n      cell.output_area.append_execute_result(NB_LOAD_WARNING)\n    }\n  }\n\n  if (root._bokeh_is_loading === 0) {\n    console.debug(\"Bokeh: BokehJS loaded, going straight to plotting\");\n    run_inline_js();\n  } else {\n    load_libs(css_urls, js_urls, function() {\n      console.debug(\"Bokeh: BokehJS plotting callback run at\", now());\n      run_inline_js();\n    });\n  }\n}(window));"
     },
     "metadata": {},
     "output_type": "display_data"
    },
    {
     "data": {
      "text/html": [
       "\n",
       "  <div id=\"fe3ce0d1-2038-41cc-bc09-22e32fb450fb\" data-root-id=\"p1032\" style=\"display: contents;\"></div>\n"
      ]
     },
     "metadata": {},
     "output_type": "display_data"
    },
    {
     "data": {
      "application/javascript": [
       "(function(root) {\n",
       "  function embed_document(root) {\n",
       "  const docs_json = {\"c768cafc-74ad-4977-96a4-dc0764d70d9d\":{\"version\":\"3.3.1\",\"title\":\"Bokeh Application\",\"roots\":[{\"type\":\"object\",\"name\":\"DataTable\",\"id\":\"p1032\",\"attributes\":{\"source\":{\"type\":\"object\",\"name\":\"ColumnDataSource\",\"id\":\"p1010\",\"attributes\":{\"selected\":{\"type\":\"object\",\"name\":\"Selection\",\"id\":\"p1011\",\"attributes\":{\"indices\":[],\"line_indices\":[]}},\"selection_policy\":{\"type\":\"object\",\"name\":\"UnionRenderers\",\"id\":\"p1012\"},\"data\":{\"type\":\"map\",\"entries\":[[\"color\",[\"#dcdcdc\",\"#3c3285\",\"#4353c2\",\"#4673eb\",\"#4291fe\",\"#2fb1f3\",\"#1ccdd7\",\"#19e3b8\",\"#32f197\",\"#61fc6c\",\"#8efe48\",\"#b1f836\",\"#cfea34\",\"#ead339\",\"#f9ba38\",\"#fe9b2d\",\"#f9771e\",\"#ec520e\",\"#d93806\",\"#c02302\",\"#a01101\"]],[\"label\",[\"ABSTAIN\",\"alt.atheism\",\"comp.graphics\",\"comp.os.ms-windows.misc\",\"comp.sys.ibm.pc.hardware\",\"comp.sys.mac.hardware\",\"comp.windows.x\",\"misc.forsale\",\"rec.autos\",\"rec.motorcycles\",\"rec.sport.baseball\",\"rec.sport.hockey\",\"sci.crypt\",\"sci.electronics\",\"sci.med\",\"sci.space\",\"soc.religion.christian\",\"talk.politics.guns\",\"talk.politics.mideast\",\"talk.politics.misc\",\"talk.religion.misc\"]],[\"count_raw\",[368,0,0,0,0,0,0,0,0,0,0,0,0,0,0,0,0,0,0,0,0]],[\"count_train\",[0,11,18,15,28,13,22,23,18,15,22,29,26,12,22,24,27,18,14,13,14]],[\"count_dev\",[0,4,6,7,4,2,3,3,5,10,4,11,3,7,4,2,3,5,4,5,1]],[\"count_test\",[0,3,7,13,4,0,6,5,6,3,6,3,4,6,8,5,2,8,5,1,4]]]}}},\"view\":{\"type\":\"object\",\"name\":\"CDSView\",\"id\":\"p1036\",\"attributes\":{\"filter\":{\"type\":\"object\",\"name\":\"AllIndices\",\"id\":\"p1037\"}}},\"columns\":[{\"type\":\"object\",\"name\":\"TableColumn\",\"id\":\"p1013\",\"attributes\":{\"field\":\"label\",\"title\":\"label\",\"formatter\":{\"type\":\"object\",\"name\":\"StringFormatter\",\"id\":\"p1014\"},\"editor\":{\"type\":\"object\",\"name\":\"StringEditor\",\"id\":\"p1015\"}}},{\"type\":\"object\",\"name\":\"TableColumn\",\"id\":\"p1016\",\"attributes\":{\"field\":\"count_raw\",\"title\":\"raw\",\"formatter\":{\"type\":\"object\",\"name\":\"StringFormatter\",\"id\":\"p1017\"},\"editor\":{\"type\":\"object\",\"name\":\"StringEditor\",\"id\":\"p1018\"}}},{\"type\":\"object\",\"name\":\"TableColumn\",\"id\":\"p1019\",\"attributes\":{\"field\":\"count_train\",\"title\":\"train\",\"formatter\":{\"type\":\"object\",\"name\":\"StringFormatter\",\"id\":\"p1020\"},\"editor\":{\"type\":\"object\",\"name\":\"StringEditor\",\"id\":\"p1021\"}}},{\"type\":\"object\",\"name\":\"TableColumn\",\"id\":\"p1022\",\"attributes\":{\"field\":\"count_dev\",\"title\":\"dev\",\"formatter\":{\"type\":\"object\",\"name\":\"StringFormatter\",\"id\":\"p1023\"},\"editor\":{\"type\":\"object\",\"name\":\"StringEditor\",\"id\":\"p1024\"}}},{\"type\":\"object\",\"name\":\"TableColumn\",\"id\":\"p1025\",\"attributes\":{\"field\":\"count_test\",\"title\":\"test\",\"formatter\":{\"type\":\"object\",\"name\":\"StringFormatter\",\"id\":\"p1026\"},\"editor\":{\"type\":\"object\",\"name\":\"StringEditor\",\"id\":\"p1027\"}}},{\"type\":\"object\",\"name\":\"TableColumn\",\"id\":\"p1029\",\"attributes\":{\"field\":\"color\",\"title\":\"color\",\"formatter\":{\"type\":\"object\",\"name\":\"HTMLTemplateFormatter\",\"id\":\"p1028\",\"attributes\":{\"template\":\"\\n<p style=\\\"color:<%= value %>;\\\">\\n    <%= \\\"&#9608;&#9608;&#9608;\\\" %>\\n</p>\\n\"}},\"editor\":{\"type\":\"object\",\"name\":\"StringEditor\",\"id\":\"p1031\"}}}]}}]}};\n",
       "  const render_items = [{\"docid\":\"c768cafc-74ad-4977-96a4-dc0764d70d9d\",\"roots\":{\"p1032\":\"fe3ce0d1-2038-41cc-bc09-22e32fb450fb\"},\"root_ids\":[\"p1032\"]}];\n",
       "  root.Bokeh.embed.embed_items_notebook(docs_json, render_items);\n",
       "  }\n",
       "  if (root.Bokeh !== undefined) {\n",
       "    embed_document(root);\n",
       "  } else {\n",
       "    let attempts = 0;\n",
       "    const timer = setInterval(function(root) {\n",
       "      if (root.Bokeh !== undefined) {\n",
       "        clearInterval(timer);\n",
       "        embed_document(root);\n",
       "      } else {\n",
       "        attempts++;\n",
       "        if (attempts > 100) {\n",
       "          clearInterval(timer);\n",
       "          console.log(\"Bokeh: ERROR: Unable to run BokehJS code because BokehJS library is missing\");\n",
       "        }\n",
       "      }\n",
       "    }, 10, root)\n",
       "  }\n",
       "})(window);"
      ],
      "application/vnd.bokehjs_exec.v0+json": ""
     },
     "metadata": {
      "application/vnd.bokehjs_exec.v0+json": {
       "id": "p1032"
      }
     },
     "output_type": "display_data"
    }
   ],
   "source": [
    "from bokeh.io import show, output_notebook\n",
    "\n",
    "output_notebook()\n",
    "\n",
    "# normally your would skip notebook_url or use Jupyter address\n",
    "notebook_url = 'localhost:8888'\n",
    "\n",
    "show(dataset.pop_table, notebook_url=notebook_url)"
   ]
  },
  {
   "cell_type": "markdown",
   "id": "6ed897fe",
   "metadata": {},
   "source": [
    "<br>\n",
    "\n",
    "### **Transfer Data Between Subsets**\n",
    "\n",
    "`COMMIT` and `DEDUP` are the mechanisms that `hover` uses to transfer data between subsets.\n",
    "\n",
    "-   `COMMIT` copies selected points (to be discussed later) to a destination subset\n",
    "    -   labeled-raw-only: `COMMIT` automatically detects which points are in the raw set with a valid label. Other points will not get copied.\n",
    "    -   keep-last: you can commit the same point to the same subset multiple times and the last copy will be kept. This can be useful for revising labels before `DEDUP`.\n",
    "-   `DEDUP` removes duplicates (identified by feature value) across subsets\n",
    "    -   priority rule: test > dev > train > raw, i.e. test set data always gets kept during deduplication\n",
    "\n",
    "-   <details open><summary>FAQ</summary>\n",
    "    <details open><summary>Why does COMMIT only work on the raw subset?</summary>\n",
    "        Most selections will happen through plots, where different subsets are on top of each other. This means selections can contain both unlabeled and labeled points.\n",
    "\n",
    "        Way too often we find ourselves trying to view both the labeled and the unlabeled, but only moving the unlabeled \"raw\" points. So it's handy that COMMIT picks those points only.\n",
    "    </details>\n",
    "\n",
    "</details>\n",
    "\n",
    "These mechanisms correspond to buttons in `hover`'s annotation interface, which you have encountered in the quickstart:"
   ]
  },
  {
   "cell_type": "code",
   "execution_count": 3,
   "id": "848b8823",
   "metadata": {
    "execution": {
     "iopub.execute_input": "2023-11-14T01:23:03.330753Z",
     "iopub.status.busy": "2023-11-14T01:23:03.330552Z",
     "iopub.status.idle": "2023-11-14T01:23:03.348950Z",
     "shell.execute_reply": "2023-11-14T01:23:03.348378Z"
    }
   },
   "outputs": [
    {
     "name": "stderr",
     "output_type": "stream",
     "text": [
      "WARNING:bokeh.embed.util:\n",
      "You are generating standalone HTML/JS output, but trying to use real Python\n",
      "callbacks (i.e. with on_change or on_event). This combination cannot work.\n",
      "\n",
      "Only JavaScript callbacks may be used with standalone output. For more\n",
      "information on JavaScript callbacks with Bokeh, see:\n",
      "\n",
      "    https://docs.bokeh.org/en/latest/docs/user_guide/interaction/callbacks.html\n",
      "\n",
      "Alternatively, to use real Python callbacks, a Bokeh server application may\n",
      "be used. For more information on building and running Bokeh applications, see:\n",
      "\n",
      "    https://docs.bokeh.org/en/latest/docs/user_guide/server.html\n",
      "\n"
     ]
    },
    {
     "data": {
      "text/html": [
       "\n",
       "  <div id=\"c593ea88-fe5a-4e51-ab72-ea8c80e641df\" data-root-id=\"p1056\" style=\"display: contents;\"></div>\n"
      ]
     },
     "metadata": {},
     "output_type": "display_data"
    },
    {
     "data": {
      "application/javascript": [
       "(function(root) {\n",
       "  function embed_document(root) {\n",
       "  const docs_json = {\"c102111a-51f9-46e6-8c4c-9717955dec8b\":{\"version\":\"3.3.1\",\"title\":\"Bokeh Application\",\"roots\":[{\"type\":\"object\",\"name\":\"Column\",\"id\":\"p1056\",\"attributes\":{\"children\":[{\"type\":\"object\",\"name\":\"Row\",\"id\":\"p1055\",\"attributes\":{\"children\":[{\"type\":\"object\",\"name\":\"Dropdown\",\"id\":\"p1002\",\"attributes\":{\"button_type\":\"warning\",\"subscribed_events\":{\"type\":\"set\",\"entries\":[\"menu_item_click\",\"button_click\"]},\"label\":\"Commit\",\"menu\":[\"train\",\"dev\",\"test\"]}},{\"type\":\"object\",\"name\":\"Button\",\"id\":\"p1003\",\"attributes\":{\"button_type\":\"warning\",\"subscribed_events\":{\"type\":\"set\",\"entries\":[\"button_click\"]},\"label\":\"Dedup\"}}]}},{\"type\":\"object\",\"name\":\"DataTable\",\"id\":\"p1032\",\"attributes\":{\"source\":{\"type\":\"object\",\"name\":\"ColumnDataSource\",\"id\":\"p1010\",\"attributes\":{\"selected\":{\"type\":\"object\",\"name\":\"Selection\",\"id\":\"p1011\",\"attributes\":{\"indices\":[],\"line_indices\":[]}},\"selection_policy\":{\"type\":\"object\",\"name\":\"UnionRenderers\",\"id\":\"p1012\"},\"data\":{\"type\":\"map\",\"entries\":[[\"color\",[\"#dcdcdc\",\"#3c3285\",\"#4353c2\",\"#4673eb\",\"#4291fe\",\"#2fb1f3\",\"#1ccdd7\",\"#19e3b8\",\"#32f197\",\"#61fc6c\",\"#8efe48\",\"#b1f836\",\"#cfea34\",\"#ead339\",\"#f9ba38\",\"#fe9b2d\",\"#f9771e\",\"#ec520e\",\"#d93806\",\"#c02302\",\"#a01101\"]],[\"label\",[\"ABSTAIN\",\"alt.atheism\",\"comp.graphics\",\"comp.os.ms-windows.misc\",\"comp.sys.ibm.pc.hardware\",\"comp.sys.mac.hardware\",\"comp.windows.x\",\"misc.forsale\",\"rec.autos\",\"rec.motorcycles\",\"rec.sport.baseball\",\"rec.sport.hockey\",\"sci.crypt\",\"sci.electronics\",\"sci.med\",\"sci.space\",\"soc.religion.christian\",\"talk.politics.guns\",\"talk.politics.mideast\",\"talk.politics.misc\",\"talk.religion.misc\"]],[\"count_raw\",[368,0,0,0,0,0,0,0,0,0,0,0,0,0,0,0,0,0,0,0,0]],[\"count_train\",[0,11,18,15,28,13,22,23,18,15,22,29,26,12,22,24,27,18,14,13,14]],[\"count_dev\",[0,4,6,7,4,2,3,3,5,10,4,11,3,7,4,2,3,5,4,5,1]],[\"count_test\",[0,3,7,13,4,0,6,5,6,3,6,3,4,6,8,5,2,8,5,1,4]]]}}},\"view\":{\"type\":\"object\",\"name\":\"CDSView\",\"id\":\"p1036\",\"attributes\":{\"filter\":{\"type\":\"object\",\"name\":\"AllIndices\",\"id\":\"p1037\"}}},\"columns\":[{\"type\":\"object\",\"name\":\"TableColumn\",\"id\":\"p1013\",\"attributes\":{\"field\":\"label\",\"title\":\"label\",\"formatter\":{\"type\":\"object\",\"name\":\"StringFormatter\",\"id\":\"p1014\"},\"editor\":{\"type\":\"object\",\"name\":\"StringEditor\",\"id\":\"p1015\"}}},{\"type\":\"object\",\"name\":\"TableColumn\",\"id\":\"p1016\",\"attributes\":{\"field\":\"count_raw\",\"title\":\"raw\",\"formatter\":{\"type\":\"object\",\"name\":\"StringFormatter\",\"id\":\"p1017\"},\"editor\":{\"type\":\"object\",\"name\":\"StringEditor\",\"id\":\"p1018\"}}},{\"type\":\"object\",\"name\":\"TableColumn\",\"id\":\"p1019\",\"attributes\":{\"field\":\"count_train\",\"title\":\"train\",\"formatter\":{\"type\":\"object\",\"name\":\"StringFormatter\",\"id\":\"p1020\"},\"editor\":{\"type\":\"object\",\"name\":\"StringEditor\",\"id\":\"p1021\"}}},{\"type\":\"object\",\"name\":\"TableColumn\",\"id\":\"p1022\",\"attributes\":{\"field\":\"count_dev\",\"title\":\"dev\",\"formatter\":{\"type\":\"object\",\"name\":\"StringFormatter\",\"id\":\"p1023\"},\"editor\":{\"type\":\"object\",\"name\":\"StringEditor\",\"id\":\"p1024\"}}},{\"type\":\"object\",\"name\":\"TableColumn\",\"id\":\"p1025\",\"attributes\":{\"field\":\"count_test\",\"title\":\"test\",\"formatter\":{\"type\":\"object\",\"name\":\"StringFormatter\",\"id\":\"p1026\"},\"editor\":{\"type\":\"object\",\"name\":\"StringEditor\",\"id\":\"p1027\"}}},{\"type\":\"object\",\"name\":\"TableColumn\",\"id\":\"p1029\",\"attributes\":{\"field\":\"color\",\"title\":\"color\",\"formatter\":{\"type\":\"object\",\"name\":\"HTMLTemplateFormatter\",\"id\":\"p1028\",\"attributes\":{\"template\":\"\\n<p style=\\\"color:<%= value %>;\\\">\\n    <%= \\\"&#9608;&#9608;&#9608;\\\" %>\\n</p>\\n\"}},\"editor\":{\"type\":\"object\",\"name\":\"StringEditor\",\"id\":\"p1031\"}}}]}}]}}]}};\n",
       "  const render_items = [{\"docid\":\"c102111a-51f9-46e6-8c4c-9717955dec8b\",\"roots\":{\"p1056\":\"c593ea88-fe5a-4e51-ab72-ea8c80e641df\"},\"root_ids\":[\"p1056\"]}];\n",
       "  root.Bokeh.embed.embed_items_notebook(docs_json, render_items);\n",
       "  }\n",
       "  if (root.Bokeh !== undefined) {\n",
       "    embed_document(root);\n",
       "  } else {\n",
       "    let attempts = 0;\n",
       "    const timer = setInterval(function(root) {\n",
       "      if (root.Bokeh !== undefined) {\n",
       "        clearInterval(timer);\n",
       "        embed_document(root);\n",
       "      } else {\n",
       "        attempts++;\n",
       "        if (attempts > 100) {\n",
       "          clearInterval(timer);\n",
       "          console.log(\"Bokeh: ERROR: Unable to run BokehJS code because BokehJS library is missing\");\n",
       "        }\n",
       "      }\n",
       "    }, 10, root)\n",
       "  }\n",
       "})(window);"
      ],
      "application/vnd.bokehjs_exec.v0+json": ""
     },
     "metadata": {
      "application/vnd.bokehjs_exec.v0+json": {
       "id": "p1056"
      }
     },
     "output_type": "display_data"
    }
   ],
   "source": [
    "from bokeh.layouts import row, column\n",
    "\n",
    "show(column(\n",
    "    row(\n",
    "        dataset.data_committer,\n",
    "        dataset.dedup_trigger,\n",
    "    ),\n",
    "    dataset.pop_table,\n",
    "), notebook_url=notebook_url)"
   ]
  },
  {
   "cell_type": "markdown",
   "id": "4bde5e95",
   "metadata": {},
   "source": [
    "<br>\n",
    "\n",
    "Of course, so far we have nothing to move, because there's no data selected. We shall now discuss selections.\n",
    "\n",
    "## **Selection**\n",
    "\n",
    "`hover` labels data points in bulk, which requires selecting groups of homogeneous data, i.e. semantically similar or going to have the same label. Being able to skim through what you selected gives you confidence about homogeneity.\n",
    "\n",
    "Normally, selection happens through a plot (`explorer`), as we have seen in the quickstart. For the purpose here, we will \"cheat\" and assign the selection programmatically:"
   ]
  },
  {
   "cell_type": "code",
   "execution_count": 4,
   "id": "b481ab06",
   "metadata": {
    "execution": {
     "iopub.execute_input": "2023-11-14T01:23:03.351589Z",
     "iopub.status.busy": "2023-11-14T01:23:03.351225Z",
     "iopub.status.idle": "2023-11-14T01:23:03.364905Z",
     "shell.execute_reply": "2023-11-14T01:23:03.364270Z"
    }
   },
   "outputs": [
    {
     "data": {
      "text/html": [
       "<pre style=\"white-space:pre;overflow-x:auto;line-height:normal;font-family:Menlo,'DejaVu Sans Mono',consolas,'Courier New',monospace\"><span style=\"color: #008000; text-decoration-color: #008000\">🟢 SupervisableTextDataset: Selection table: latest selection with </span><span style=\"color: #008080; text-decoration-color: #008080; font-weight: bold\">10</span><span style=\"color: #008000; text-decoration-color: #008000\"> entries.</span>\n",
       "</pre>\n"
      ],
      "text/plain": [
       "\u001b[32m🟢 SupervisableTextDataset: Selection table: latest selection with \u001b[0m\u001b[1;36m10\u001b[0m\u001b[32m entries.\u001b[0m\n"
      ]
     },
     "metadata": {},
     "output_type": "display_data"
    },
    {
     "data": {
      "text/html": [
       "\n",
       "  <div id=\"d9180537-b829-4480-8f52-25cef9c0275f\" data-root-id=\"p1049\" style=\"display: contents;\"></div>\n"
      ]
     },
     "metadata": {},
     "output_type": "display_data"
    },
    {
     "data": {
      "application/javascript": [
       "(function(root) {\n",
       "  function embed_document(root) {\n",
       "  const docs_json = {\"374b2fb3-9e11-4529-aff3-473b5f5cc77c\":{\"version\":\"3.3.1\",\"title\":\"Bokeh Application\",\"roots\":[{\"type\":\"object\",\"name\":\"DataTable\",\"id\":\"p1049\",\"attributes\":{\"source\":{\"type\":\"object\",\"name\":\"ColumnDataSource\",\"id\":\"p1038\",\"attributes\":{\"selected\":{\"type\":\"object\",\"name\":\"Selection\",\"id\":\"p1039\",\"attributes\":{\"indices\":[],\"line_indices\":[]}},\"selection_policy\":{\"type\":\"object\",\"name\":\"UnionRenderers\",\"id\":\"p1040\"},\"data\":{\"type\":\"map\",\"entries\":[[\"text\",[\" (a) To use for sensitive but not strategically important traffic, (b) if the system was cheap.  For example, I don't own a cordless phone.  With Clipper, I would.  If the  local men in blue really want to listen to me talk to my friends or order  pizza, I'm no worse off than I am now, and I don't have to worry about local kids or nosy neighbors.  That is to say, Clipper \\\"raises the bar\\\" on insecure channels.  It doesn't  make them secure, by any means, but a wall, even if the FBI can get a master  key by court order, is still better than a \\\"keep off the grass\\\" sign.   So, where can I buy a DES-encrypted cellular phone?  How much does it cost? Personally, Cylink stuff is out of my budget for personal use :)...   The Second and Fourth Amendments do come to mind.   \",\"# # Unfortunately, homosexuals don't believe in this concept of freedom. # # They believe that they have a right to FORCE people to hire them, # # rent to them, and do business with them, regardless of the feelings # # or beliefs of the other person. #  # <ha ha ha#, oh, Clayton, you're so good, so consistent, so predictable, # yup, that's right, they, these homosexual people want to FORCE you to # ignore what's none of your fucking business.  IE. <I will explain slowly# # their sexual orientation should be irrelevant, as irrelevant as their # gender, skin colour, religious affiliation, attitude to hand-gun ownership, # etc.  They want to FORCE you to hire the best person for the job, rent the # accomodation to the person who will look after it, do business with whoever # will make you money..  Yet, when a law was proposed for Virginia that extended this  philosophy to cigarette smokers (so that people who smoked away from the work couldn't be discriminated against by employers), the liberal Gov. Wilder vetoed it.  Which shows that liberals don't give a damn about \\\"best person for the job,\\\" it's just a power play.\",\"Could someone post the Flyers record with and without Eric Lindros in the lineup   I have a guy that is trying to compare the Quebec/Flyers trade to the   Dallas/Minnesota trade in the NFL(Hershel Walker)  I just need the stat to back up my point that Eric will be one of the next  great players  thanks\",\"  Can You report CRT and other register state in this mode ?  Thank's.\",\"The FLYERS team that can beat any team on any night showed up at the Spectrum Sunday night, and dominated the Maple Leafs thoroughly en route to a 4-0 shutout. Tommy Soderstrom will get credit for the shutout, but he barely broke a sweat until the third period as the FLYERS defense kept the Leafs from mounting any serious attack.  Injuries:  Pelle Eklund is day-to-day with a bruised thigh.  Roster Moves:  Jason Bowen was added to the lineup for his first NHL game. Jason was the FLYERS second pick in the first round (15th overall) of the 1992 entry draft. 19 years old, 6'4\\\", 210 lbs. In 62 games with the tri-city Americans he had 10 goals, 12 assists and 219 PIM. He plays left wing and defense, he played defense in this game although Bobby Taylor said that Bill Dineen was planning to use him up front as well.  Andre Faust was returned to Hershey. He actually left after the second period of the Kings game, flew to Albany, got the game tying goal in a Bears OT win, and played again for Hershey Sunday night.  Lines:  Fedyk-Lindros-Recchi Beranek-Brind'Amour-Dineen Lomakin-Butsayev-Conroy Acton-Brown  Galley-McGill Yushkevich-Cronin Carkner-Hawgood Bowen  Tommy Soderstrom in goal.  Acton replaced Lomakin in the 3rd period.  Game Summary:  If the FLYERS played like this every night, they'd be in the playoffs this year. The FLYERS hit everything that moved. They created scoring chance after scoring chance. They snuffed out everything that the Leafs tried to do.  Jason Bowen made a good play on his first NHL shift that almost created a goal. He had the puck in the top of the left offensive circle all alone, but instead of taking the shot he found Brind'Amour crashing the net on the other side. A perfect pass and a good shot across Daren Puppa's body should have been a goal, but Puppa made a great save reading the play.  Garry Galley gave the Maple Leafs 7th ranked power play the first chance when he hooked Doug Gilmour at 4:25. The FLYERS lowly 21st ranked penalty killing unit was almost flawless the entire game, and set the tone on this kill. The Maple Leafs got almost nothing but long unscreened shots, and the defense swept away every rebound.  After the power play, the FLYERS got a goal on an ugly play. Rod Brind'Amour gave the puck to Greg Hawgood at the right point, and he sent a drive at the net. Puppa made the save and kicked the rebound right into the feet of Josef Beranek and Bob Rouse, who were wrestling in the slot. Beranek was able to get his stick on the puck and push it out to Dineen who was skating into the slot from the right circle, and he lifted a backhander over Puppa for a 1-0 FLYERS lead at 8:10.  The FLYERS kept the pressure on, and Puppa was the only Leaf keeping the FLYERS from building on their lead for a while. Eventually things settled down and defense prevailed. Each team got an occasional scoring chance, but the goalies were strong. Bowen started giving some Lindros-like checks in his own corners. Then Lindros, who was looking to avenge a hit Foligno gave him, thought he had a chance to even the score. He had Foligno lined up at center ice, leaned into him, and rode him into the center ice boards. The only problem was that Foligno was a little far from the boards, and Mike \\\"Mister\\\" McGeough felt that it warranted a boarding call at 15:38  The Leafs couldn't get anything going on the power play as the FLYERS were very aggressive (for a change) on the kill.  With time running out in the period, Recchi carried through the neutral zone and handed to Lindros as they approached the Leaf's blue line. They were in a crowd with Wendell Clark and Jamie Macoun, Lindros tried a backhand pass to Recchi through the feet of Macoun that connected to Recchi, but then Clark checked Recchi off the puck. Macoun then tried to clear, but it was weak and went right to McGill who had manned the point. He drove it from just inside the blue line. Macoun got his stick on it and deflected it past his own goalie at 19:55.1. Shots were 13-8 FLYERS in the period.  The FLYERS finally got their first chance on the power play when Dave Andreychuk tripped up Rod Brind'Amour in his offensive zone. During the power play, the FLYERS got cheated a little when the puck popped up into the air and Eric gloved it down, but McGeough thought it hit his stick above his head. We could see from our seats at the other end of the ice that it only hit his glove and the replay confirmed, but the faceoff went to the other end. As time was running out in the advantage, Lindros found Galley with a pass across the goal mouth but Puppa made the save. The rebound kicked back to the right corner where Recchi picked it up, passed it out to Eric crashing through the right circle, and Eric one-timed past Puppa at 7:55. With the assist, Recchi moves past Bobby Clarke's 74-75 season, the second best one season total for a FLYER at 117.  Eric moves up to 4th all time in FLYERS rookie scoring with 67 points.  Mike Eastwood took down Al Conroy at 8:30 to give the FLYERS another chance on the power play. Not much pressure before Garry Galley ended the power play with a slash at 9:19. Not much happened on the 4 on 4, although the Leafs had most of the possession. The FLYERS smothered the Leafs short power play. Tempers flared a little at 13:14. Bowen and Pearson got roughing minors, Keith Acton got a bloody face. Dave McLlwain then took a dive and got Greg Hawgood a hooking minor at 13:46 to set up a 4 on 3. The replay showed that Hawgood's stick stopped making contact with McLlwain long before he spun around and fell. Again the FLYERS smothered the Leafs power play, led by Dimitri Yushkevich. Bowen made a thundering hit when he came out of the box on Pearson. Berehowski tried to perplex everybody with his sloooowball. He had the puck at the point, and just trickled a pass down the slot. He made all the FLYERS look silly as nobody could get a stick on it, and it got to Gilmour at the side of the net, but Soderstrom stoned him.  The FLYERS picked things up offensively after the kill was over, but didn't get anything home. Shots were 13-10 FLYERS.  The FLYERS were content with the 3 goal lead in the third period, and they decided that if Tommy wanted a shutout, he was going to have to work for it a little.  The FLYERS got most of the scoring chances in the first 7 or so minutes of the period, but couldn't get past Puppa. Then the Leafs got tired of Lindros making road kill out of them, and tempers flared. 2 each for Doug Gilmour and Lindros  (unsportsmanlike conduct) and 2 each for Glenn Anderson and McGill (roughing) all at 7:02. Terry Carkner then took a kneeing penalty at 7:51 on Gilmour.  Again the FLYERS smothered the Leafs power play.  At about the 12 minute mark, Dave Andreychuk got a shot away from his left circle that got through Soderstrom. The puck was rolling on it's side, and as luck would have it it turned away from the net instead of turning towards it (think of how a rolling quarter inevitably starts to lean one way or the other). Seconds later Rod Brind'Amour tripped up Gilmour at 12:24 to give the Leafs another chance on the power play. On the advantage, after Soderstrom stoned Andreychuk while lying down, Andreychuk got the rebound through Soderstrom, but from behind the net and it went straight through and was swept away by one of his defensemen. They kept the pressure on, but Soderstrom was equal and preserved the shutout.  Recchi cross checked Ken Baumgartner to get tempers hot and start a brawl at 16:01. No punches thrown, Recchi got the initial minor, Krushelnyski Baumgartner and Lindros each got roughing minors. At 17:02 Rouse and Beranek expressed their mutual dislike for each other and got 2 each for slashing to set up another 4 on 4. Mike Eastwood shoved down Ryan McGill in the FLYERS zone as they were battling for the puck, and while McGill was down he ran his stick across McGill's face. The FLYERS were not happy with that at all. 5-8 Al Conroy paired up with 6-1 Berehowski, and started throwing punches. Upward. Well, Al held his own, much to the delight of the crowd. Each got a couple punches in before going down in a head, and Al got a standing O! Penalties: Eastwood 5 (cross check) + game, Clark, Carkner 10 each. Berehowski and Conroy 5 each (fighting) at 17:49.  So a major penalty for the rest of the game for the FLYERS. The had no interest in stting on the lead. Hawgood, Galley and Brind'Amour played catch until Hawgood found Dineen all alone in the left circle, he controlled the puck and blasted it past Puppa at 18:39.  That was all the fireworks, Tommy Soderstrom would not face another shot. Puppa did, but kept the FLYERS off the board. 4-0 FLYERS, shots were 9-8 FLYERS in the 3rd. Probably the strongest game I've seen from the FLYERS since the All Star break. Shutout number 4 for Soderstrom, all since 1/10. Tied for 2nd most in the NHL, but he's played fewer games than Belfour (6) or the goalie I can't remember that he's tied with.  Next up it's the Winnipeg Selannes Tuesday night in Winnipeg. The FLYERS cannot be eliminated if they win, but a loss coupled with an Islander win that night in Washington would be the official end.  FLYERS up to 71 points on the season in 78 games. Last year they had 75 points in 80 games (5 under .500), so they need at least 8 points in their last 6 games to improve on that only by percentage points (5 under in 84 is better than 5 under in 80).  Tragic number holds at 3 points with 6 games left. The tragic number for 5th is 5 points, I watched the Rangers blow a 4-2 third period lead at home to lose 5-4 before I finished this up. Why 5 points instead of 4? Well, the FLYERS will win the tie-breaker if they catch them, whereas the Islanders win tie breakers against the FLYERS and so need only a tie. The Rangers could crumble down the stretch as they play the Devils, the Pens twice, the FLYERS, and finish up with 2 games against the Caps. So I guess 5th place could be the goal for the team to focus on.  FLYERS team record watch:  Eric Lindros:  38 goals, 29 assists, 67 points  (rookie records) club record goals:   club record points: Eric Lindros 38 1992-93  Dave Poulin 76 1983-84 Brian Propp 34 1979-80  Brian Propp 75 1979-80 Ron Flockhart 33 1981-82  Ron Flockhart 72 1981-82 Dave Poulin 31 1983-84  Eric Lindros 67 1992-93 Bill Barber 30 1972-73  Pelle Eklund 66 1985-86  Mark Recchi:  51 goals, 66 assists, 117 points.  club record goals:   club record points: Reggie Leach 61 1975-76  Bobby Clarke 119 1975-76 Tim Kerr 58 1985-86,86-87 Mark Recchi 117 1992-93 Tim Kerr 54 1983-84,84-85 Bobby Clarke 116 1974-75 Mark Recchi 51 1992-93  Bill Barber 112 1975-76 Rick Macliesh 50 1972-73  Bobby Clarke 104 1972-73 Bill Barber 50 1975-76  Rick Macliesh 100 1972-73 Reggie Leach 50 1979-80  FLYERS career years:  Player  Points Best Prior Season Mark Recchi 117 113 (90-91 Penguins) Rod Brind'Amour 79 77 (91-92 FLYERS) Garry Galley 58 38 (84-85 Kings) Brent Fedyk 58 35 (90-91 Red Wings)  That's all for now...\",\"         The Republicans are, in general, fighting any tax increase. There is also worry that a VAT would be far too easy to increase incrementally.         (BTW, what is different between Canada's tax and most of Europe's that makes it \\\"visible?\\\")          This would require a constitutional amendment, and Congress enjoys raising taxes too much to restrict themselves like that. (Besides, with the 2/3 majority necessary to pull that off you'd  have a difficult time \\\"forcing\\\" anything like that.)          Primarily because it's a practical impossibility to \\\"freeze\\\" tax rates.         However, this is something that bothers me.  We're always talking about \\\"consumer confidence\\\" and \\\"consumer spending\\\" as gauges for the economy.  If they really are important, wouldn't shifting taxes to consumption provide a disincentive to spend money? \",\"  To keep from flooding s.c.u, I e-mailed it.  However, I agree that it's quite the sneaky trick.  No more than I would expect, however. -- \",\"Hi, I bought a while ago a Cache Card w/ FPU from Techworks. It was 219$. I think that was the cheapest I ever saw.\",\"Hi,  I just inherited an NCR 1204 external floppy.  This thing has every port known to man on the back. The question is: Does anyone know how to connect this thing to a PC. What hardware is needed? Software?  TIA, Alex\",\"Just as the title suggest, is it okay to do that? I havne't got DOS6 yet, but I heart DoubleSpace is less tight than stacker 3.0. What are disadvantage/advantages by doing that?  Any comments will be appreciated.\"]],[\"SUBSET\",[\"raw\",\"raw\",\"raw\",\"raw\",\"raw\",\"raw\",\"raw\",\"raw\",\"raw\",\"raw\"]],[\"label\",[\"ABSTAIN\",\"ABSTAIN\",\"ABSTAIN\",\"ABSTAIN\",\"ABSTAIN\",\"ABSTAIN\",\"ABSTAIN\",\"ABSTAIN\",\"ABSTAIN\",\"ABSTAIN\"]]]}}},\"view\":{\"type\":\"object\",\"name\":\"CDSView\",\"id\":\"p1053\",\"attributes\":{\"filter\":{\"type\":\"object\",\"name\":\"AllIndices\",\"id\":\"p1054\"}}},\"columns\":[{\"type\":\"object\",\"name\":\"TableColumn\",\"id\":\"p1043\",\"attributes\":{\"field\":\"text\",\"title\":\"text\",\"formatter\":{\"type\":\"object\",\"name\":\"HTMLTemplateFormatter\",\"id\":\"p1042\",\"attributes\":{\"template\":\"<span href=\\\"#\\\" data-toggle=\\\"tooltip\\\" title=\\\"<%= value %>\\\"><%= value %></span>\"}},\"editor\":{\"type\":\"object\",\"name\":\"CellEditor\",\"id\":\"p1041\"}}},{\"type\":\"object\",\"name\":\"TableColumn\",\"id\":\"p1046\",\"attributes\":{\"field\":\"label\",\"title\":\"label\",\"formatter\":{\"type\":\"object\",\"name\":\"StringFormatter\",\"id\":\"p1047\"},\"editor\":{\"type\":\"object\",\"name\":\"StringEditor\",\"id\":\"p1048\"}}}],\"editable\":true,\"selectable\":\"checkbox\"}}]}};\n",
       "  const render_items = [{\"docid\":\"374b2fb3-9e11-4529-aff3-473b5f5cc77c\",\"roots\":{\"p1049\":\"d9180537-b829-4480-8f52-25cef9c0275f\"},\"root_ids\":[\"p1049\"]}];\n",
       "  root.Bokeh.embed.embed_items_notebook(docs_json, render_items);\n",
       "  }\n",
       "  if (root.Bokeh !== undefined) {\n",
       "    embed_document(root);\n",
       "  } else {\n",
       "    let attempts = 0;\n",
       "    const timer = setInterval(function(root) {\n",
       "      if (root.Bokeh !== undefined) {\n",
       "        clearInterval(timer);\n",
       "        embed_document(root);\n",
       "      } else {\n",
       "        attempts++;\n",
       "        if (attempts > 100) {\n",
       "          clearInterval(timer);\n",
       "          console.log(\"Bokeh: ERROR: Unable to run BokehJS code because BokehJS library is missing\");\n",
       "        }\n",
       "      }\n",
       "    }, 10, root)\n",
       "  }\n",
       "})(window);"
      ],
      "application/vnd.bokehjs_exec.v0+json": ""
     },
     "metadata": {
      "application/vnd.bokehjs_exec.v0+json": {
       "id": "p1049"
      }
     },
     "output_type": "display_data"
    }
   ],
   "source": [
    "dataset._callback_update_selection(dataset.dfs[\"raw\"][:10])\n",
    "\n",
    "show(dataset.sel_table, notebook_url=notebook_url)"
   ]
  },
  {
   "cell_type": "markdown",
   "id": "ccfc7d2b",
   "metadata": {},
   "source": [
    "<br>\n",
    "\n",
    "### **Edit Data Within a Selection**\n",
    "\n",
    "Often the points selected are not perfectly homogeneous, i.e. some outliers belong to a different label from the selected group overall. It would be helpful to `EVICT` them, and `SupervisableDataset` has a button for it.\n",
    "\n",
    "Sometimes you may also wish to edit data values on the fly.  In hover this is called `PATCH`, and there also is a button for it.\n",
    "\n",
    "-   by default, labels can be edited but feature values cannot.\n",
    "\n",
    "Let's plot the forementioned buttons along with the selection table. Toggle any number of rows in the table, then click the button to `EVICT` or `PATCH` those rows:"
   ]
  },
  {
   "cell_type": "code",
   "execution_count": 5,
   "id": "43805ba1",
   "metadata": {
    "execution": {
     "iopub.execute_input": "2023-11-14T01:23:03.367388Z",
     "iopub.status.busy": "2023-11-14T01:23:03.367029Z",
     "iopub.status.idle": "2023-11-14T01:23:03.382551Z",
     "shell.execute_reply": "2023-11-14T01:23:03.381997Z"
    }
   },
   "outputs": [
    {
     "name": "stderr",
     "output_type": "stream",
     "text": [
      "WARNING:bokeh.embed.util:\n",
      "You are generating standalone HTML/JS output, but trying to use real Python\n",
      "callbacks (i.e. with on_change or on_event). This combination cannot work.\n",
      "\n",
      "Only JavaScript callbacks may be used with standalone output. For more\n",
      "information on JavaScript callbacks with Bokeh, see:\n",
      "\n",
      "    https://docs.bokeh.org/en/latest/docs/user_guide/interaction/callbacks.html\n",
      "\n",
      "Alternatively, to use real Python callbacks, a Bokeh server application may\n",
      "be used. For more information on building and running Bokeh applications, see:\n",
      "\n",
      "    https://docs.bokeh.org/en/latest/docs/user_guide/server.html\n",
      "\n"
     ]
    },
    {
     "data": {
      "text/html": [
       "\n",
       "  <div id=\"f3a21529-4704-48bd-adb3-376ba70fb504\" data-root-id=\"p1058\" style=\"display: contents;\"></div>\n"
      ]
     },
     "metadata": {},
     "output_type": "display_data"
    },
    {
     "data": {
      "application/javascript": [
       "(function(root) {\n",
       "  function embed_document(root) {\n",
       "  const docs_json = {\"68836292-5738-46d6-89a0-c67f7f5a2c21\":{\"version\":\"3.3.1\",\"title\":\"Bokeh Application\",\"roots\":[{\"type\":\"object\",\"name\":\"Column\",\"id\":\"p1058\",\"attributes\":{\"children\":[{\"type\":\"object\",\"name\":\"Row\",\"id\":\"p1057\",\"attributes\":{\"children\":[{\"type\":\"object\",\"name\":\"Button\",\"id\":\"p1006\",\"attributes\":{\"button_type\":\"primary\",\"label\":\"Evict Rows from Selection\"}},{\"type\":\"object\",\"name\":\"Button\",\"id\":\"p1005\",\"attributes\":{\"button_type\":\"warning\",\"subscribed_events\":{\"type\":\"set\",\"entries\":[\"button_click\"]},\"label\":\"Update Row Values\"}}]}},{\"type\":\"object\",\"name\":\"DataTable\",\"id\":\"p1049\",\"attributes\":{\"source\":{\"type\":\"object\",\"name\":\"ColumnDataSource\",\"id\":\"p1038\",\"attributes\":{\"selected\":{\"type\":\"object\",\"name\":\"Selection\",\"id\":\"p1039\",\"attributes\":{\"indices\":[],\"line_indices\":[]}},\"selection_policy\":{\"type\":\"object\",\"name\":\"UnionRenderers\",\"id\":\"p1040\"},\"data\":{\"type\":\"map\",\"entries\":[[\"text\",[\" (a) To use for sensitive but not strategically important traffic, (b) if the system was cheap.  For example, I don't own a cordless phone.  With Clipper, I would.  If the  local men in blue really want to listen to me talk to my friends or order  pizza, I'm no worse off than I am now, and I don't have to worry about local kids or nosy neighbors.  That is to say, Clipper \\\"raises the bar\\\" on insecure channels.  It doesn't  make them secure, by any means, but a wall, even if the FBI can get a master  key by court order, is still better than a \\\"keep off the grass\\\" sign.   So, where can I buy a DES-encrypted cellular phone?  How much does it cost? Personally, Cylink stuff is out of my budget for personal use :)...   The Second and Fourth Amendments do come to mind.   \",\"# # Unfortunately, homosexuals don't believe in this concept of freedom. # # They believe that they have a right to FORCE people to hire them, # # rent to them, and do business with them, regardless of the feelings # # or beliefs of the other person. #  # <ha ha ha#, oh, Clayton, you're so good, so consistent, so predictable, # yup, that's right, they, these homosexual people want to FORCE you to # ignore what's none of your fucking business.  IE. <I will explain slowly# # their sexual orientation should be irrelevant, as irrelevant as their # gender, skin colour, religious affiliation, attitude to hand-gun ownership, # etc.  They want to FORCE you to hire the best person for the job, rent the # accomodation to the person who will look after it, do business with whoever # will make you money..  Yet, when a law was proposed for Virginia that extended this  philosophy to cigarette smokers (so that people who smoked away from the work couldn't be discriminated against by employers), the liberal Gov. Wilder vetoed it.  Which shows that liberals don't give a damn about \\\"best person for the job,\\\" it's just a power play.\",\"Could someone post the Flyers record with and without Eric Lindros in the lineup   I have a guy that is trying to compare the Quebec/Flyers trade to the   Dallas/Minnesota trade in the NFL(Hershel Walker)  I just need the stat to back up my point that Eric will be one of the next  great players  thanks\",\"  Can You report CRT and other register state in this mode ?  Thank's.\",\"The FLYERS team that can beat any team on any night showed up at the Spectrum Sunday night, and dominated the Maple Leafs thoroughly en route to a 4-0 shutout. Tommy Soderstrom will get credit for the shutout, but he barely broke a sweat until the third period as the FLYERS defense kept the Leafs from mounting any serious attack.  Injuries:  Pelle Eklund is day-to-day with a bruised thigh.  Roster Moves:  Jason Bowen was added to the lineup for his first NHL game. Jason was the FLYERS second pick in the first round (15th overall) of the 1992 entry draft. 19 years old, 6'4\\\", 210 lbs. In 62 games with the tri-city Americans he had 10 goals, 12 assists and 219 PIM. He plays left wing and defense, he played defense in this game although Bobby Taylor said that Bill Dineen was planning to use him up front as well.  Andre Faust was returned to Hershey. He actually left after the second period of the Kings game, flew to Albany, got the game tying goal in a Bears OT win, and played again for Hershey Sunday night.  Lines:  Fedyk-Lindros-Recchi Beranek-Brind'Amour-Dineen Lomakin-Butsayev-Conroy Acton-Brown  Galley-McGill Yushkevich-Cronin Carkner-Hawgood Bowen  Tommy Soderstrom in goal.  Acton replaced Lomakin in the 3rd period.  Game Summary:  If the FLYERS played like this every night, they'd be in the playoffs this year. The FLYERS hit everything that moved. They created scoring chance after scoring chance. They snuffed out everything that the Leafs tried to do.  Jason Bowen made a good play on his first NHL shift that almost created a goal. He had the puck in the top of the left offensive circle all alone, but instead of taking the shot he found Brind'Amour crashing the net on the other side. A perfect pass and a good shot across Daren Puppa's body should have been a goal, but Puppa made a great save reading the play.  Garry Galley gave the Maple Leafs 7th ranked power play the first chance when he hooked Doug Gilmour at 4:25. The FLYERS lowly 21st ranked penalty killing unit was almost flawless the entire game, and set the tone on this kill. The Maple Leafs got almost nothing but long unscreened shots, and the defense swept away every rebound.  After the power play, the FLYERS got a goal on an ugly play. Rod Brind'Amour gave the puck to Greg Hawgood at the right point, and he sent a drive at the net. Puppa made the save and kicked the rebound right into the feet of Josef Beranek and Bob Rouse, who were wrestling in the slot. Beranek was able to get his stick on the puck and push it out to Dineen who was skating into the slot from the right circle, and he lifted a backhander over Puppa for a 1-0 FLYERS lead at 8:10.  The FLYERS kept the pressure on, and Puppa was the only Leaf keeping the FLYERS from building on their lead for a while. Eventually things settled down and defense prevailed. Each team got an occasional scoring chance, but the goalies were strong. Bowen started giving some Lindros-like checks in his own corners. Then Lindros, who was looking to avenge a hit Foligno gave him, thought he had a chance to even the score. He had Foligno lined up at center ice, leaned into him, and rode him into the center ice boards. The only problem was that Foligno was a little far from the boards, and Mike \\\"Mister\\\" McGeough felt that it warranted a boarding call at 15:38  The Leafs couldn't get anything going on the power play as the FLYERS were very aggressive (for a change) on the kill.  With time running out in the period, Recchi carried through the neutral zone and handed to Lindros as they approached the Leaf's blue line. They were in a crowd with Wendell Clark and Jamie Macoun, Lindros tried a backhand pass to Recchi through the feet of Macoun that connected to Recchi, but then Clark checked Recchi off the puck. Macoun then tried to clear, but it was weak and went right to McGill who had manned the point. He drove it from just inside the blue line. Macoun got his stick on it and deflected it past his own goalie at 19:55.1. Shots were 13-8 FLYERS in the period.  The FLYERS finally got their first chance on the power play when Dave Andreychuk tripped up Rod Brind'Amour in his offensive zone. During the power play, the FLYERS got cheated a little when the puck popped up into the air and Eric gloved it down, but McGeough thought it hit his stick above his head. We could see from our seats at the other end of the ice that it only hit his glove and the replay confirmed, but the faceoff went to the other end. As time was running out in the advantage, Lindros found Galley with a pass across the goal mouth but Puppa made the save. The rebound kicked back to the right corner where Recchi picked it up, passed it out to Eric crashing through the right circle, and Eric one-timed past Puppa at 7:55. With the assist, Recchi moves past Bobby Clarke's 74-75 season, the second best one season total for a FLYER at 117.  Eric moves up to 4th all time in FLYERS rookie scoring with 67 points.  Mike Eastwood took down Al Conroy at 8:30 to give the FLYERS another chance on the power play. Not much pressure before Garry Galley ended the power play with a slash at 9:19. Not much happened on the 4 on 4, although the Leafs had most of the possession. The FLYERS smothered the Leafs short power play. Tempers flared a little at 13:14. Bowen and Pearson got roughing minors, Keith Acton got a bloody face. Dave McLlwain then took a dive and got Greg Hawgood a hooking minor at 13:46 to set up a 4 on 3. The replay showed that Hawgood's stick stopped making contact with McLlwain long before he spun around and fell. Again the FLYERS smothered the Leafs power play, led by Dimitri Yushkevich. Bowen made a thundering hit when he came out of the box on Pearson. Berehowski tried to perplex everybody with his sloooowball. He had the puck at the point, and just trickled a pass down the slot. He made all the FLYERS look silly as nobody could get a stick on it, and it got to Gilmour at the side of the net, but Soderstrom stoned him.  The FLYERS picked things up offensively after the kill was over, but didn't get anything home. Shots were 13-10 FLYERS.  The FLYERS were content with the 3 goal lead in the third period, and they decided that if Tommy wanted a shutout, he was going to have to work for it a little.  The FLYERS got most of the scoring chances in the first 7 or so minutes of the period, but couldn't get past Puppa. Then the Leafs got tired of Lindros making road kill out of them, and tempers flared. 2 each for Doug Gilmour and Lindros  (unsportsmanlike conduct) and 2 each for Glenn Anderson and McGill (roughing) all at 7:02. Terry Carkner then took a kneeing penalty at 7:51 on Gilmour.  Again the FLYERS smothered the Leafs power play.  At about the 12 minute mark, Dave Andreychuk got a shot away from his left circle that got through Soderstrom. The puck was rolling on it's side, and as luck would have it it turned away from the net instead of turning towards it (think of how a rolling quarter inevitably starts to lean one way or the other). Seconds later Rod Brind'Amour tripped up Gilmour at 12:24 to give the Leafs another chance on the power play. On the advantage, after Soderstrom stoned Andreychuk while lying down, Andreychuk got the rebound through Soderstrom, but from behind the net and it went straight through and was swept away by one of his defensemen. They kept the pressure on, but Soderstrom was equal and preserved the shutout.  Recchi cross checked Ken Baumgartner to get tempers hot and start a brawl at 16:01. No punches thrown, Recchi got the initial minor, Krushelnyski Baumgartner and Lindros each got roughing minors. At 17:02 Rouse and Beranek expressed their mutual dislike for each other and got 2 each for slashing to set up another 4 on 4. Mike Eastwood shoved down Ryan McGill in the FLYERS zone as they were battling for the puck, and while McGill was down he ran his stick across McGill's face. The FLYERS were not happy with that at all. 5-8 Al Conroy paired up with 6-1 Berehowski, and started throwing punches. Upward. Well, Al held his own, much to the delight of the crowd. Each got a couple punches in before going down in a head, and Al got a standing O! Penalties: Eastwood 5 (cross check) + game, Clark, Carkner 10 each. Berehowski and Conroy 5 each (fighting) at 17:49.  So a major penalty for the rest of the game for the FLYERS. The had no interest in stting on the lead. Hawgood, Galley and Brind'Amour played catch until Hawgood found Dineen all alone in the left circle, he controlled the puck and blasted it past Puppa at 18:39.  That was all the fireworks, Tommy Soderstrom would not face another shot. Puppa did, but kept the FLYERS off the board. 4-0 FLYERS, shots were 9-8 FLYERS in the 3rd. Probably the strongest game I've seen from the FLYERS since the All Star break. Shutout number 4 for Soderstrom, all since 1/10. Tied for 2nd most in the NHL, but he's played fewer games than Belfour (6) or the goalie I can't remember that he's tied with.  Next up it's the Winnipeg Selannes Tuesday night in Winnipeg. The FLYERS cannot be eliminated if they win, but a loss coupled with an Islander win that night in Washington would be the official end.  FLYERS up to 71 points on the season in 78 games. Last year they had 75 points in 80 games (5 under .500), so they need at least 8 points in their last 6 games to improve on that only by percentage points (5 under in 84 is better than 5 under in 80).  Tragic number holds at 3 points with 6 games left. The tragic number for 5th is 5 points, I watched the Rangers blow a 4-2 third period lead at home to lose 5-4 before I finished this up. Why 5 points instead of 4? Well, the FLYERS will win the tie-breaker if they catch them, whereas the Islanders win tie breakers against the FLYERS and so need only a tie. The Rangers could crumble down the stretch as they play the Devils, the Pens twice, the FLYERS, and finish up with 2 games against the Caps. So I guess 5th place could be the goal for the team to focus on.  FLYERS team record watch:  Eric Lindros:  38 goals, 29 assists, 67 points  (rookie records) club record goals:   club record points: Eric Lindros 38 1992-93  Dave Poulin 76 1983-84 Brian Propp 34 1979-80  Brian Propp 75 1979-80 Ron Flockhart 33 1981-82  Ron Flockhart 72 1981-82 Dave Poulin 31 1983-84  Eric Lindros 67 1992-93 Bill Barber 30 1972-73  Pelle Eklund 66 1985-86  Mark Recchi:  51 goals, 66 assists, 117 points.  club record goals:   club record points: Reggie Leach 61 1975-76  Bobby Clarke 119 1975-76 Tim Kerr 58 1985-86,86-87 Mark Recchi 117 1992-93 Tim Kerr 54 1983-84,84-85 Bobby Clarke 116 1974-75 Mark Recchi 51 1992-93  Bill Barber 112 1975-76 Rick Macliesh 50 1972-73  Bobby Clarke 104 1972-73 Bill Barber 50 1975-76  Rick Macliesh 100 1972-73 Reggie Leach 50 1979-80  FLYERS career years:  Player  Points Best Prior Season Mark Recchi 117 113 (90-91 Penguins) Rod Brind'Amour 79 77 (91-92 FLYERS) Garry Galley 58 38 (84-85 Kings) Brent Fedyk 58 35 (90-91 Red Wings)  That's all for now...\",\"         The Republicans are, in general, fighting any tax increase. There is also worry that a VAT would be far too easy to increase incrementally.         (BTW, what is different between Canada's tax and most of Europe's that makes it \\\"visible?\\\")          This would require a constitutional amendment, and Congress enjoys raising taxes too much to restrict themselves like that. (Besides, with the 2/3 majority necessary to pull that off you'd  have a difficult time \\\"forcing\\\" anything like that.)          Primarily because it's a practical impossibility to \\\"freeze\\\" tax rates.         However, this is something that bothers me.  We're always talking about \\\"consumer confidence\\\" and \\\"consumer spending\\\" as gauges for the economy.  If they really are important, wouldn't shifting taxes to consumption provide a disincentive to spend money? \",\"  To keep from flooding s.c.u, I e-mailed it.  However, I agree that it's quite the sneaky trick.  No more than I would expect, however. -- \",\"Hi, I bought a while ago a Cache Card w/ FPU from Techworks. It was 219$. I think that was the cheapest I ever saw.\",\"Hi,  I just inherited an NCR 1204 external floppy.  This thing has every port known to man on the back. The question is: Does anyone know how to connect this thing to a PC. What hardware is needed? Software?  TIA, Alex\",\"Just as the title suggest, is it okay to do that? I havne't got DOS6 yet, but I heart DoubleSpace is less tight than stacker 3.0. What are disadvantage/advantages by doing that?  Any comments will be appreciated.\"]],[\"SUBSET\",[\"raw\",\"raw\",\"raw\",\"raw\",\"raw\",\"raw\",\"raw\",\"raw\",\"raw\",\"raw\"]],[\"label\",[\"ABSTAIN\",\"ABSTAIN\",\"ABSTAIN\",\"ABSTAIN\",\"ABSTAIN\",\"ABSTAIN\",\"ABSTAIN\",\"ABSTAIN\",\"ABSTAIN\",\"ABSTAIN\"]]]}}},\"view\":{\"type\":\"object\",\"name\":\"CDSView\",\"id\":\"p1053\",\"attributes\":{\"filter\":{\"type\":\"object\",\"name\":\"AllIndices\",\"id\":\"p1054\"}}},\"columns\":[{\"type\":\"object\",\"name\":\"TableColumn\",\"id\":\"p1043\",\"attributes\":{\"field\":\"text\",\"title\":\"text\",\"formatter\":{\"type\":\"object\",\"name\":\"HTMLTemplateFormatter\",\"id\":\"p1042\",\"attributes\":{\"template\":\"<span href=\\\"#\\\" data-toggle=\\\"tooltip\\\" title=\\\"<%= value %>\\\"><%= value %></span>\"}},\"editor\":{\"type\":\"object\",\"name\":\"CellEditor\",\"id\":\"p1041\"}}},{\"type\":\"object\",\"name\":\"TableColumn\",\"id\":\"p1046\",\"attributes\":{\"field\":\"label\",\"title\":\"label\",\"formatter\":{\"type\":\"object\",\"name\":\"StringFormatter\",\"id\":\"p1047\"},\"editor\":{\"type\":\"object\",\"name\":\"StringEditor\",\"id\":\"p1048\"}}}],\"editable\":true,\"selectable\":\"checkbox\"}}]}}]}};\n",
       "  const render_items = [{\"docid\":\"68836292-5738-46d6-89a0-c67f7f5a2c21\",\"roots\":{\"p1058\":\"f3a21529-4704-48bd-adb3-376ba70fb504\"},\"root_ids\":[\"p1058\"]}];\n",
       "  root.Bokeh.embed.embed_items_notebook(docs_json, render_items);\n",
       "  }\n",
       "  if (root.Bokeh !== undefined) {\n",
       "    embed_document(root);\n",
       "  } else {\n",
       "    let attempts = 0;\n",
       "    const timer = setInterval(function(root) {\n",
       "      if (root.Bokeh !== undefined) {\n",
       "        clearInterval(timer);\n",
       "        embed_document(root);\n",
       "      } else {\n",
       "        attempts++;\n",
       "        if (attempts > 100) {\n",
       "          clearInterval(timer);\n",
       "          console.log(\"Bokeh: ERROR: Unable to run BokehJS code because BokehJS library is missing\");\n",
       "        }\n",
       "      }\n",
       "    }, 10, root)\n",
       "  }\n",
       "})(window);"
      ],
      "application/vnd.bokehjs_exec.v0+json": ""
     },
     "metadata": {
      "application/vnd.bokehjs_exec.v0+json": {
       "id": "p1058"
      }
     },
     "output_type": "display_data"
    }
   ],
   "source": [
    "show(column(\n",
    "    row(\n",
    "        dataset.selection_evictor,\n",
    "        dataset.selection_patcher,\n",
    "    ),\n",
    "    dataset.sel_table,\n",
    "), notebook_url=notebook_url)"
   ]
  },
  {
   "cell_type": "markdown",
   "id": "e2b256e6",
   "metadata": {},
   "source": [
    "<br>"
   ]
  }
 ],
 "metadata": {
  "language_info": {
   "codemirror_mode": {
    "name": "ipython",
    "version": 3
   },
   "file_extension": ".py",
   "mimetype": "text/x-python",
   "name": "python",
   "nbconvert_exporter": "python",
   "pygments_lexer": "ipython3",
   "version": "3.9.18"
  }
 },
 "nbformat": 4,
 "nbformat_minor": 5
}
