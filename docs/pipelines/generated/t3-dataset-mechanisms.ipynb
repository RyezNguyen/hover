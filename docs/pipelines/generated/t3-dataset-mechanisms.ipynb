{
 "cells": [
  {
   "cell_type": "markdown",
   "id": "9344e9a5",
   "metadata": {},
   "source": [
    "> `SupervisableDataset` holds your data throughout the labeling process.\n",
    ">\n",
    "> :speedboat: Let's take a look at its core mechanisms.\n",
    "\n",
    "-   <details open><summary>This page addresses **single components** of `hover`</summary>\n",
    "    For illustration, we are using code snippets to pick out specific widgets so that the documentation can explain what they do.\n",
    "\n",
    "    -   Please be aware that you won't need to get the widgets by code in an actual use case.\n",
    "    -   Typical usage deals with [recipes](../../tutorial/t1-active-learning) where the individual parts have been tied together.\n",
    "\n",
    "</details>\n",
    "\n",
    "-   <details open><summary>Dependencies for {== local environments ==}</summary>\n",
    "    When you run the code locally, you may need to install additional packages.\n",
    "\n",
    "    To render `bokeh` plots in Jupyter, you need:\n",
    "```shell\n",
    "    pip install jupyter_bokeh\n",
    "```\n",
    "\n",
    "    If you are using JupyterLab older than 3.0, use this instead ([reference](https://pypi.org/project/jupyter-bokeh/)):\n",
    "```shell\n",
    "    jupyter labextension install @jupyter-widgets/jupyterlab-manager\n",
    "    jupyter labextension install @bokeh/jupyter_bokeh\n",
    "```\n",
    "\n",
    "</details>\n",
    "\n",
    "## **Data Subsets**\n",
    "\n",
    "We place unlabeled data and labeled data in different subsets: \"raw\", \"train\", \"dev\", and \"test\". Unlabeled data start from the \"raw\" subset, and can be transferred to other subsets after it gets labeled.\n",
    "\n",
    "`SupervisableDataset` uses a \"population table\", `dataset.pop_table`, to show the size of each subset:"
   ]
  },
  {
   "cell_type": "code",
   "execution_count": 1,
   "id": "5f704584",
   "metadata": {
    "execution": {
     "iopub.execute_input": "2023-10-24T01:22:33.062070Z",
     "iopub.status.busy": "2023-10-24T01:22:33.061592Z",
     "iopub.status.idle": "2023-10-24T01:22:34.858673Z",
     "shell.execute_reply": "2023-10-24T01:22:34.857720Z"
    }
   },
   "outputs": [
    {
     "data": {
      "text/html": [
       "<pre style=\"white-space:pre;overflow-x:auto;line-height:normal;font-family:Menlo,'DejaVu Sans Mono',consolas,'Courier New',monospace\"><span style=\"color: #000080; text-decoration-color: #000080\">🔵 SupervisableTextDataset: Initializing</span><span style=\"color: #808000; text-decoration-color: #808000\">...</span>\n",
       "</pre>\n"
      ],
      "text/plain": [
       "\u001b[34m🔵 SupervisableTextDataset: Initializing\u001b[0m\u001b[33m...\u001b[0m\n"
      ]
     },
     "metadata": {},
     "output_type": "display_data"
    },
    {
     "data": {
      "text/html": [
       "<pre style=\"white-space:pre;overflow-x:auto;line-height:normal;font-family:Menlo,'DejaVu Sans Mono',consolas,'Courier New',monospace\"><span style=\"color: #000080; text-decoration-color: #000080\">🔵 SupervisableTextDataset: Deduplicating</span><span style=\"color: #808000; text-decoration-color: #808000\">...</span>\n",
       "</pre>\n"
      ],
      "text/plain": [
       "\u001b[34m🔵 SupervisableTextDataset: Deduplicating\u001b[0m\u001b[33m...\u001b[0m\n"
      ]
     },
     "metadata": {},
     "output_type": "display_data"
    },
    {
     "data": {
      "text/html": [
       "<pre style=\"white-space:pre;overflow-x:auto;line-height:normal;font-family:Menlo,'DejaVu Sans Mono',consolas,'Courier New',monospace\"><span style=\"color: #000080; text-decoration-color: #000080\">🔵 SupervisableTextDataset: --subset raw rows: </span><span style=\"color: #008080; text-decoration-color: #008080; font-weight: bold\">400</span><span style=\"color: #000080; text-decoration-color: #000080\"> -&gt; </span><span style=\"color: #008080; text-decoration-color: #008080; font-weight: bold\">373</span><span style=\"color: #000080; text-decoration-color: #000080\">.</span>\n",
       "</pre>\n"
      ],
      "text/plain": [
       "\u001b[34m🔵 SupervisableTextDataset: --subset raw rows: \u001b[0m\u001b[1;36m400\u001b[0m\u001b[34m -> \u001b[0m\u001b[1;36m373\u001b[0m\u001b[34m.\u001b[0m\n"
      ]
     },
     "metadata": {},
     "output_type": "display_data"
    },
    {
     "data": {
      "text/html": [
       "<pre style=\"white-space:pre;overflow-x:auto;line-height:normal;font-family:Menlo,'DejaVu Sans Mono',consolas,'Courier New',monospace\"><span style=\"color: #000080; text-decoration-color: #000080\">🔵 SupervisableTextDataset: --subset train rows: </span><span style=\"color: #008080; text-decoration-color: #008080; font-weight: bold\">400</span><span style=\"color: #000080; text-decoration-color: #000080\"> -&gt; </span><span style=\"color: #008080; text-decoration-color: #008080; font-weight: bold\">389</span><span style=\"color: #000080; text-decoration-color: #000080\">.</span>\n",
       "</pre>\n"
      ],
      "text/plain": [
       "\u001b[34m🔵 SupervisableTextDataset: --subset train rows: \u001b[0m\u001b[1;36m400\u001b[0m\u001b[34m -> \u001b[0m\u001b[1;36m389\u001b[0m\u001b[34m.\u001b[0m\n"
      ]
     },
     "metadata": {},
     "output_type": "display_data"
    },
    {
     "data": {
      "text/html": [
       "<pre style=\"white-space:pre;overflow-x:auto;line-height:normal;font-family:Menlo,'DejaVu Sans Mono',consolas,'Courier New',monospace\"><span style=\"color: #000080; text-decoration-color: #000080\">🔵 SupervisableTextDataset: --subset dev rows: </span><span style=\"color: #008080; text-decoration-color: #008080; font-weight: bold\">100</span><span style=\"color: #000080; text-decoration-color: #000080\"> -&gt; </span><span style=\"color: #008080; text-decoration-color: #008080; font-weight: bold\">98</span><span style=\"color: #000080; text-decoration-color: #000080\">.</span>\n",
       "</pre>\n"
      ],
      "text/plain": [
       "\u001b[34m🔵 SupervisableTextDataset: --subset dev rows: \u001b[0m\u001b[1;36m100\u001b[0m\u001b[34m -> \u001b[0m\u001b[1;36m98\u001b[0m\u001b[34m.\u001b[0m\n"
      ]
     },
     "metadata": {},
     "output_type": "display_data"
    },
    {
     "data": {
      "text/html": [
       "<pre style=\"white-space:pre;overflow-x:auto;line-height:normal;font-family:Menlo,'DejaVu Sans Mono',consolas,'Courier New',monospace\"><span style=\"color: #000080; text-decoration-color: #000080\">🔵 SupervisableTextDataset: --subset test rows: </span><span style=\"color: #008080; text-decoration-color: #008080; font-weight: bold\">100</span><span style=\"color: #000080; text-decoration-color: #000080\"> -&gt; </span><span style=\"color: #008080; text-decoration-color: #008080; font-weight: bold\">99</span><span style=\"color: #000080; text-decoration-color: #000080\">.</span>\n",
       "</pre>\n"
      ],
      "text/plain": [
       "\u001b[34m🔵 SupervisableTextDataset: --subset test rows: \u001b[0m\u001b[1;36m100\u001b[0m\u001b[34m -> \u001b[0m\u001b[1;36m99\u001b[0m\u001b[34m.\u001b[0m\n"
      ]
     },
     "metadata": {},
     "output_type": "display_data"
    },
    {
     "data": {
      "text/html": [
       "<pre style=\"white-space:pre;overflow-x:auto;line-height:normal;font-family:Menlo,'DejaVu Sans Mono',consolas,'Courier New',monospace\"><span style=\"color: #008000; text-decoration-color: #008000\">🟢 SupervisableTextDataset: Set up label encoder/decoder with </span><span style=\"color: #008080; text-decoration-color: #008080; font-weight: bold\">20</span><span style=\"color: #008000; text-decoration-color: #008000\"> classes.</span>\n",
       "</pre>\n"
      ],
      "text/plain": [
       "\u001b[32m🟢 SupervisableTextDataset: Set up label encoder/decoder with \u001b[0m\u001b[1;36m20\u001b[0m\u001b[32m classes.\u001b[0m\n"
      ]
     },
     "metadata": {},
     "output_type": "display_data"
    },
    {
     "data": {
      "text/html": [
       "<pre style=\"white-space:pre;overflow-x:auto;line-height:normal;font-family:Menlo,'DejaVu Sans Mono',consolas,'Courier New',monospace\"><span style=\"color: #008000; text-decoration-color: #008000\">🟢 SupervisableTextDataset: Population updater: latest population with </span><span style=\"color: #008080; text-decoration-color: #008080; font-weight: bold\">20</span><span style=\"color: #008000; text-decoration-color: #008000\"> classes.</span>\n",
       "</pre>\n"
      ],
      "text/plain": [
       "\u001b[32m🟢 SupervisableTextDataset: Population updater: latest population with \u001b[0m\u001b[1;36m20\u001b[0m\u001b[32m classes.\u001b[0m\n"
      ]
     },
     "metadata": {},
     "output_type": "display_data"
    },
    {
     "data": {
      "text/html": [
       "<pre style=\"white-space:pre;overflow-x:auto;line-height:normal;font-family:Menlo,'DejaVu Sans Mono',consolas,'Courier New',monospace\"><span style=\"color: #000080; text-decoration-color: #000080\">🔵 SupervisableTextDataset: finished setting up bokeh elements.</span>\n",
       "</pre>\n"
      ],
      "text/plain": [
       "\u001b[34m🔵 SupervisableTextDataset: finished setting up bokeh elements.\u001b[0m\n"
      ]
     },
     "metadata": {},
     "output_type": "display_data"
    },
    {
     "data": {
      "text/html": [
       "<pre style=\"white-space:pre;overflow-x:auto;line-height:normal;font-family:Menlo,'DejaVu Sans Mono',consolas,'Courier New',monospace\"><span style=\"color: #008000; text-decoration-color: #008000\">🟢 SupervisableTextDataset: finished initialization.</span>\n",
       "</pre>\n"
      ],
      "text/plain": [
       "\u001b[32m🟢 SupervisableTextDataset: finished initialization.\u001b[0m\n"
      ]
     },
     "metadata": {},
     "output_type": "display_data"
    }
   ],
   "source": [
    "from hover.core.dataset import SupervisableTextDataset\n",
    "import pandas as pd\n",
    "\n",
    "raw_csv_path = \"https://raw.githubusercontent.com/phurwicz/hover-gallery/main/0.5.0/20_newsgroups_raw.csv\"\n",
    "train_csv_path = \"https://raw.githubusercontent.com/phurwicz/hover-gallery/main/0.5.0/20_newsgroups_train.csv\"\n",
    "\n",
    "# for fast, low-memory demonstration purpose, sample the data\n",
    "df_raw = pd.read_csv(raw_csv_path).sample(400)\n",
    "df_raw[\"SUBSET\"] = \"raw\"\n",
    "df_train = pd.read_csv(train_csv_path).sample(400)\n",
    "df_train[\"SUBSET\"] = \"train\"\n",
    "df_dev = pd.read_csv(train_csv_path).sample(100)\n",
    "df_dev[\"SUBSET\"] = \"dev\"\n",
    "df_test = pd.read_csv(train_csv_path).sample(100)\n",
    "df_test[\"SUBSET\"] = \"test\"\n",
    "\n",
    "# build overall dataframe and ensure feature type\n",
    "df = pd.concat([df_raw, df_train, df_dev, df_test])\n",
    "df[\"text\"] = df[\"text\"].astype(str)\n",
    "\n",
    "# this class stores the dataset throught the labeling process\n",
    "dataset = SupervisableTextDataset.from_pandas(df, feature_key=\"text\", label_key=\"label\")"
   ]
  },
  {
   "cell_type": "markdown",
   "id": "f2f064b1",
   "metadata": {},
   "source": [
    "<br>"
   ]
  },
  {
   "cell_type": "code",
   "execution_count": 2,
   "id": "aa78d448",
   "metadata": {
    "execution": {
     "iopub.execute_input": "2023-10-24T01:22:34.862447Z",
     "iopub.status.busy": "2023-10-24T01:22:34.861713Z",
     "iopub.status.idle": "2023-10-24T01:22:34.925044Z",
     "shell.execute_reply": "2023-10-24T01:22:34.924327Z"
    }
   },
   "outputs": [
    {
     "data": {
      "text/html": [
       "<style>\n",
       "        .bk-notebook-logo {\n",
       "            display: block;\n",
       "            width: 20px;\n",
       "            height: 20px;\n",
       "            background-image: url(data:image/png;base64,iVBORw0KGgoAAAANSUhEUgAAABQAAAAUCAYAAACNiR0NAAAABHNCSVQICAgIfAhkiAAAAAlwSFlzAAALEgAACxIB0t1+/AAAABx0RVh0U29mdHdhcmUAQWRvYmUgRmlyZXdvcmtzIENTNui8sowAAAOkSURBVDiNjZRtaJVlGMd/1/08zzln5zjP1LWcU9N0NkN8m2CYjpgQYQXqSs0I84OLIC0hkEKoPtiH3gmKoiJDU7QpLgoLjLIQCpEsNJ1vqUOdO7ppbuec5+V+rj4ctwzd8IIbbi6u+8f1539dt3A78eXC7QizUF7gyV1fD1Yqg4JWz84yffhm0qkFqBogB9rM8tZdtwVsPUhWhGcFJngGeWrPzHm5oaMmkfEg1usvLFyc8jLRqDOMru7AyC8saQr7GG7f5fvDeH7Ej8CM66nIF+8yngt6HWaKh7k49Soy9nXurCi1o3qUbS3zWfrYeQDTB/Qj6kX6Ybhw4B+bOYoLKCC9H3Nu/leUTZ1JdRWkkn2ldcCamzrcf47KKXdAJllSlxAOkRgyHsGC/zRday5Qld9DyoM4/q/rUoy/CXh3jzOu3bHUVZeU+DEn8FInkPBFlu3+nW3Nw0mk6vCDiWg8CeJaxEwuHS3+z5RgY+YBR6V1Z1nxSOfoaPa4LASWxxdNp+VWTk7+4vzaou8v8PN+xo+KY2xsw6une2frhw05CTYOmQvsEhjhWjn0bmXPjpE1+kplmmkP3suftwTubK9Vq22qKmrBhpY4jvd5afdRA3wGjFAgcnTK2s4hY0/GPNIb0nErGMCRxWOOX64Z8RAC4oCXdklmEvcL8o0BfkNK4lUg9HTl+oPlQxdNo3Mg4Nv175e/1LDGzZen30MEjRUtmXSfiTVu1kK8W4txyV6BMKlbgk3lMwYCiusNy9fVfvvwMxv8Ynl6vxoByANLTWplvuj/nF9m2+PDtt1eiHPBr1oIfhCChQMBw6Aw0UulqTKZdfVvfG7VcfIqLG9bcldL/+pdWTLxLUy8Qq38heUIjh4XlzZxzQm19lLFlr8vdQ97rjZVOLf8nclzckbcD4wxXMidpX30sFd37Fv/GtwwhzhxGVAprjbg0gCAEeIgwCZyTV2Z1REEW8O4py0wsjeloKoMr6iCY6dP92H6Vw/oTyICIthibxjm/DfN9lVz8IqtqKYLUXfoKVMVQVVJOElGjrnnUt9T9wbgp8AyYKaGlqingHZU/uG2NTZSVqwHQTWkx9hxjkpWDaCg6Ckj5qebgBVbT3V3NNXMSiWSDdGV3hrtzla7J+duwPOToIg42ChPQOQjspnSlp1V+Gjdged7+8UN5CRAV7a5EdFNwCjEaBR27b3W890TE7g24NAP/mMDXRWrGoFPQI9ls/MWO2dWFAar/xcOIImbbpA3zgAAAABJRU5ErkJggg==);\n",
       "        }\n",
       "    </style>\n",
       "    <div>\n",
       "        <a href=\"https://bokeh.org\" target=\"_blank\" class=\"bk-notebook-logo\"></a>\n",
       "        <span id=\"ec4ddd25-c8c0-473a-9489-54b8d420b16d\">Loading BokehJS ...</span>\n",
       "    </div>\n"
      ]
     },
     "metadata": {},
     "output_type": "display_data"
    },
    {
     "data": {
      "application/javascript": [
       "(function(root) {\n",
       "  function now() {\n",
       "    return new Date();\n",
       "  }\n",
       "\n",
       "  const force = true;\n",
       "\n",
       "  if (typeof root._bokeh_onload_callbacks === \"undefined\" || force === true) {\n",
       "    root._bokeh_onload_callbacks = [];\n",
       "    root._bokeh_is_loading = undefined;\n",
       "  }\n",
       "\n",
       "const JS_MIME_TYPE = 'application/javascript';\n",
       "  const HTML_MIME_TYPE = 'text/html';\n",
       "  const EXEC_MIME_TYPE = 'application/vnd.bokehjs_exec.v0+json';\n",
       "  const CLASS_NAME = 'output_bokeh rendered_html';\n",
       "\n",
       "  /**\n",
       "   * Render data to the DOM node\n",
       "   */\n",
       "  function render(props, node) {\n",
       "    const script = document.createElement(\"script\");\n",
       "    node.appendChild(script);\n",
       "  }\n",
       "\n",
       "  /**\n",
       "   * Handle when an output is cleared or removed\n",
       "   */\n",
       "  function handleClearOutput(event, handle) {\n",
       "    function drop(id) {\n",
       "      const view = Bokeh.index.get_by_id(id)\n",
       "      if (view != null) {\n",
       "        view.model.document.clear()\n",
       "        Bokeh.index.delete(view)\n",
       "      }\n",
       "    }\n",
       "\n",
       "    const cell = handle.cell;\n",
       "\n",
       "    const id = cell.output_area._bokeh_element_id;\n",
       "    const server_id = cell.output_area._bokeh_server_id;\n",
       "\n",
       "    // Clean up Bokeh references\n",
       "    if (id != null) {\n",
       "      drop(id)\n",
       "    }\n",
       "\n",
       "    if (server_id !== undefined) {\n",
       "      // Clean up Bokeh references\n",
       "      const cmd_clean = \"from bokeh.io.state import curstate; print(curstate().uuid_to_server['\" + server_id + \"'].get_sessions()[0].document.roots[0]._id)\";\n",
       "      cell.notebook.kernel.execute(cmd_clean, {\n",
       "        iopub: {\n",
       "          output: function(msg) {\n",
       "            const id = msg.content.text.trim()\n",
       "            drop(id)\n",
       "          }\n",
       "        }\n",
       "      });\n",
       "      // Destroy server and session\n",
       "      const cmd_destroy = \"import bokeh.io.notebook as ion; ion.destroy_server('\" + server_id + \"')\";\n",
       "      cell.notebook.kernel.execute(cmd_destroy);\n",
       "    }\n",
       "  }\n",
       "\n",
       "  /**\n",
       "   * Handle when a new output is added\n",
       "   */\n",
       "  function handleAddOutput(event, handle) {\n",
       "    const output_area = handle.output_area;\n",
       "    const output = handle.output;\n",
       "\n",
       "    // limit handleAddOutput to display_data with EXEC_MIME_TYPE content only\n",
       "    if ((output.output_type != \"display_data\") || (!Object.prototype.hasOwnProperty.call(output.data, EXEC_MIME_TYPE))) {\n",
       "      return\n",
       "    }\n",
       "\n",
       "    const toinsert = output_area.element.find(\".\" + CLASS_NAME.split(' ')[0]);\n",
       "\n",
       "    if (output.metadata[EXEC_MIME_TYPE][\"id\"] !== undefined) {\n",
       "      toinsert[toinsert.length - 1].firstChild.textContent = output.data[JS_MIME_TYPE];\n",
       "      // store reference to embed id on output_area\n",
       "      output_area._bokeh_element_id = output.metadata[EXEC_MIME_TYPE][\"id\"];\n",
       "    }\n",
       "    if (output.metadata[EXEC_MIME_TYPE][\"server_id\"] !== undefined) {\n",
       "      const bk_div = document.createElement(\"div\");\n",
       "      bk_div.innerHTML = output.data[HTML_MIME_TYPE];\n",
       "      const script_attrs = bk_div.children[0].attributes;\n",
       "      for (let i = 0; i < script_attrs.length; i++) {\n",
       "        toinsert[toinsert.length - 1].firstChild.setAttribute(script_attrs[i].name, script_attrs[i].value);\n",
       "        toinsert[toinsert.length - 1].firstChild.textContent = bk_div.children[0].textContent\n",
       "      }\n",
       "      // store reference to server id on output_area\n",
       "      output_area._bokeh_server_id = output.metadata[EXEC_MIME_TYPE][\"server_id\"];\n",
       "    }\n",
       "  }\n",
       "\n",
       "  function register_renderer(events, OutputArea) {\n",
       "\n",
       "    function append_mime(data, metadata, element) {\n",
       "      // create a DOM node to render to\n",
       "      const toinsert = this.create_output_subarea(\n",
       "        metadata,\n",
       "        CLASS_NAME,\n",
       "        EXEC_MIME_TYPE\n",
       "      );\n",
       "      this.keyboard_manager.register_events(toinsert);\n",
       "      // Render to node\n",
       "      const props = {data: data, metadata: metadata[EXEC_MIME_TYPE]};\n",
       "      render(props, toinsert[toinsert.length - 1]);\n",
       "      element.append(toinsert);\n",
       "      return toinsert\n",
       "    }\n",
       "\n",
       "    /* Handle when an output is cleared or removed */\n",
       "    events.on('clear_output.CodeCell', handleClearOutput);\n",
       "    events.on('delete.Cell', handleClearOutput);\n",
       "\n",
       "    /* Handle when a new output is added */\n",
       "    events.on('output_added.OutputArea', handleAddOutput);\n",
       "\n",
       "    /**\n",
       "     * Register the mime type and append_mime function with output_area\n",
       "     */\n",
       "    OutputArea.prototype.register_mime_type(EXEC_MIME_TYPE, append_mime, {\n",
       "      /* Is output safe? */\n",
       "      safe: true,\n",
       "      /* Index of renderer in `output_area.display_order` */\n",
       "      index: 0\n",
       "    });\n",
       "  }\n",
       "\n",
       "  // register the mime type if in Jupyter Notebook environment and previously unregistered\n",
       "  if (root.Jupyter !== undefined) {\n",
       "    const events = require('base/js/events');\n",
       "    const OutputArea = require('notebook/js/outputarea').OutputArea;\n",
       "\n",
       "    if (OutputArea.prototype.mime_types().indexOf(EXEC_MIME_TYPE) == -1) {\n",
       "      register_renderer(events, OutputArea);\n",
       "    }\n",
       "  }\n",
       "  if (typeof (root._bokeh_timeout) === \"undefined\" || force === true) {\n",
       "    root._bokeh_timeout = Date.now() + 5000;\n",
       "    root._bokeh_failed_load = false;\n",
       "  }\n",
       "\n",
       "  const NB_LOAD_WARNING = {'data': {'text/html':\n",
       "     \"<div style='background-color: #fdd'>\\n\"+\n",
       "     \"<p>\\n\"+\n",
       "     \"BokehJS does not appear to have successfully loaded. If loading BokehJS from CDN, this \\n\"+\n",
       "     \"may be due to a slow or bad network connection. Possible fixes:\\n\"+\n",
       "     \"</p>\\n\"+\n",
       "     \"<ul>\\n\"+\n",
       "     \"<li>re-rerun `output_notebook()` to attempt to load from CDN again, or</li>\\n\"+\n",
       "     \"<li>use INLINE resources instead, as so:</li>\\n\"+\n",
       "     \"</ul>\\n\"+\n",
       "     \"<code>\\n\"+\n",
       "     \"from bokeh.resources import INLINE\\n\"+\n",
       "     \"output_notebook(resources=INLINE)\\n\"+\n",
       "     \"</code>\\n\"+\n",
       "     \"</div>\"}};\n",
       "\n",
       "  function display_loaded() {\n",
       "    const el = document.getElementById(\"ec4ddd25-c8c0-473a-9489-54b8d420b16d\");\n",
       "    if (el != null) {\n",
       "      el.textContent = \"BokehJS is loading...\";\n",
       "    }\n",
       "    if (root.Bokeh !== undefined) {\n",
       "      if (el != null) {\n",
       "        el.textContent = \"BokehJS \" + root.Bokeh.version + \" successfully loaded.\";\n",
       "      }\n",
       "    } else if (Date.now() < root._bokeh_timeout) {\n",
       "      setTimeout(display_loaded, 100)\n",
       "    }\n",
       "  }\n",
       "\n",
       "  function run_callbacks() {\n",
       "    try {\n",
       "      root._bokeh_onload_callbacks.forEach(function(callback) {\n",
       "        if (callback != null)\n",
       "          callback();\n",
       "      });\n",
       "    } finally {\n",
       "      delete root._bokeh_onload_callbacks\n",
       "    }\n",
       "    console.debug(\"Bokeh: all callbacks have finished\");\n",
       "  }\n",
       "\n",
       "  function load_libs(css_urls, js_urls, callback) {\n",
       "    if (css_urls == null) css_urls = [];\n",
       "    if (js_urls == null) js_urls = [];\n",
       "\n",
       "    root._bokeh_onload_callbacks.push(callback);\n",
       "    if (root._bokeh_is_loading > 0) {\n",
       "      console.debug(\"Bokeh: BokehJS is being loaded, scheduling callback at\", now());\n",
       "      return null;\n",
       "    }\n",
       "    if (js_urls == null || js_urls.length === 0) {\n",
       "      run_callbacks();\n",
       "      return null;\n",
       "    }\n",
       "    console.debug(\"Bokeh: BokehJS not loaded, scheduling load and callback at\", now());\n",
       "    root._bokeh_is_loading = css_urls.length + js_urls.length;\n",
       "\n",
       "    function on_load() {\n",
       "      root._bokeh_is_loading--;\n",
       "      if (root._bokeh_is_loading === 0) {\n",
       "        console.debug(\"Bokeh: all BokehJS libraries/stylesheets loaded\");\n",
       "        run_callbacks()\n",
       "      }\n",
       "    }\n",
       "\n",
       "    function on_error(url) {\n",
       "      console.error(\"failed to load \" + url);\n",
       "    }\n",
       "\n",
       "    for (let i = 0; i < css_urls.length; i++) {\n",
       "      const url = css_urls[i];\n",
       "      const element = document.createElement(\"link\");\n",
       "      element.onload = on_load;\n",
       "      element.onerror = on_error.bind(null, url);\n",
       "      element.rel = \"stylesheet\";\n",
       "      element.type = \"text/css\";\n",
       "      element.href = url;\n",
       "      console.debug(\"Bokeh: injecting link tag for BokehJS stylesheet: \", url);\n",
       "      document.body.appendChild(element);\n",
       "    }\n",
       "\n",
       "    for (let i = 0; i < js_urls.length; i++) {\n",
       "      const url = js_urls[i];\n",
       "      const element = document.createElement('script');\n",
       "      element.onload = on_load;\n",
       "      element.onerror = on_error.bind(null, url);\n",
       "      element.async = false;\n",
       "      element.src = url;\n",
       "      console.debug(\"Bokeh: injecting script tag for BokehJS library: \", url);\n",
       "      document.head.appendChild(element);\n",
       "    }\n",
       "  };\n",
       "\n",
       "  function inject_raw_css(css) {\n",
       "    const element = document.createElement(\"style\");\n",
       "    element.appendChild(document.createTextNode(css));\n",
       "    document.body.appendChild(element);\n",
       "  }\n",
       "\n",
       "  const js_urls = [\"https://cdn.bokeh.org/bokeh/release/bokeh-3.3.0.min.js\", \"https://cdn.bokeh.org/bokeh/release/bokeh-gl-3.3.0.min.js\", \"https://cdn.bokeh.org/bokeh/release/bokeh-widgets-3.3.0.min.js\", \"https://cdn.bokeh.org/bokeh/release/bokeh-tables-3.3.0.min.js\", \"https://cdn.bokeh.org/bokeh/release/bokeh-mathjax-3.3.0.min.js\"];\n",
       "  const css_urls = [];\n",
       "\n",
       "  const inline_js = [    function(Bokeh) {\n",
       "      Bokeh.set_log_level(\"info\");\n",
       "    },\n",
       "function(Bokeh) {\n",
       "    }\n",
       "  ];\n",
       "\n",
       "  function run_inline_js() {\n",
       "    if (root.Bokeh !== undefined || force === true) {\n",
       "          for (let i = 0; i < inline_js.length; i++) {\n",
       "      inline_js[i].call(root, root.Bokeh);\n",
       "    }\n",
       "if (force === true) {\n",
       "        display_loaded();\n",
       "      }} else if (Date.now() < root._bokeh_timeout) {\n",
       "      setTimeout(run_inline_js, 100);\n",
       "    } else if (!root._bokeh_failed_load) {\n",
       "      console.log(\"Bokeh: BokehJS failed to load within specified timeout.\");\n",
       "      root._bokeh_failed_load = true;\n",
       "    } else if (force !== true) {\n",
       "      const cell = $(document.getElementById(\"ec4ddd25-c8c0-473a-9489-54b8d420b16d\")).parents('.cell').data().cell;\n",
       "      cell.output_area.append_execute_result(NB_LOAD_WARNING)\n",
       "    }\n",
       "  }\n",
       "\n",
       "  if (root._bokeh_is_loading === 0) {\n",
       "    console.debug(\"Bokeh: BokehJS loaded, going straight to plotting\");\n",
       "    run_inline_js();\n",
       "  } else {\n",
       "    load_libs(css_urls, js_urls, function() {\n",
       "      console.debug(\"Bokeh: BokehJS plotting callback run at\", now());\n",
       "      run_inline_js();\n",
       "    });\n",
       "  }\n",
       "}(window));"
      ],
      "application/vnd.bokehjs_load.v0+json": "(function(root) {\n  function now() {\n    return new Date();\n  }\n\n  const force = true;\n\n  if (typeof root._bokeh_onload_callbacks === \"undefined\" || force === true) {\n    root._bokeh_onload_callbacks = [];\n    root._bokeh_is_loading = undefined;\n  }\n\n\n  if (typeof (root._bokeh_timeout) === \"undefined\" || force === true) {\n    root._bokeh_timeout = Date.now() + 5000;\n    root._bokeh_failed_load = false;\n  }\n\n  const NB_LOAD_WARNING = {'data': {'text/html':\n     \"<div style='background-color: #fdd'>\\n\"+\n     \"<p>\\n\"+\n     \"BokehJS does not appear to have successfully loaded. If loading BokehJS from CDN, this \\n\"+\n     \"may be due to a slow or bad network connection. Possible fixes:\\n\"+\n     \"</p>\\n\"+\n     \"<ul>\\n\"+\n     \"<li>re-rerun `output_notebook()` to attempt to load from CDN again, or</li>\\n\"+\n     \"<li>use INLINE resources instead, as so:</li>\\n\"+\n     \"</ul>\\n\"+\n     \"<code>\\n\"+\n     \"from bokeh.resources import INLINE\\n\"+\n     \"output_notebook(resources=INLINE)\\n\"+\n     \"</code>\\n\"+\n     \"</div>\"}};\n\n  function display_loaded() {\n    const el = document.getElementById(\"ec4ddd25-c8c0-473a-9489-54b8d420b16d\");\n    if (el != null) {\n      el.textContent = \"BokehJS is loading...\";\n    }\n    if (root.Bokeh !== undefined) {\n      if (el != null) {\n        el.textContent = \"BokehJS \" + root.Bokeh.version + \" successfully loaded.\";\n      }\n    } else if (Date.now() < root._bokeh_timeout) {\n      setTimeout(display_loaded, 100)\n    }\n  }\n\n  function run_callbacks() {\n    try {\n      root._bokeh_onload_callbacks.forEach(function(callback) {\n        if (callback != null)\n          callback();\n      });\n    } finally {\n      delete root._bokeh_onload_callbacks\n    }\n    console.debug(\"Bokeh: all callbacks have finished\");\n  }\n\n  function load_libs(css_urls, js_urls, callback) {\n    if (css_urls == null) css_urls = [];\n    if (js_urls == null) js_urls = [];\n\n    root._bokeh_onload_callbacks.push(callback);\n    if (root._bokeh_is_loading > 0) {\n      console.debug(\"Bokeh: BokehJS is being loaded, scheduling callback at\", now());\n      return null;\n    }\n    if (js_urls == null || js_urls.length === 0) {\n      run_callbacks();\n      return null;\n    }\n    console.debug(\"Bokeh: BokehJS not loaded, scheduling load and callback at\", now());\n    root._bokeh_is_loading = css_urls.length + js_urls.length;\n\n    function on_load() {\n      root._bokeh_is_loading--;\n      if (root._bokeh_is_loading === 0) {\n        console.debug(\"Bokeh: all BokehJS libraries/stylesheets loaded\");\n        run_callbacks()\n      }\n    }\n\n    function on_error(url) {\n      console.error(\"failed to load \" + url);\n    }\n\n    for (let i = 0; i < css_urls.length; i++) {\n      const url = css_urls[i];\n      const element = document.createElement(\"link\");\n      element.onload = on_load;\n      element.onerror = on_error.bind(null, url);\n      element.rel = \"stylesheet\";\n      element.type = \"text/css\";\n      element.href = url;\n      console.debug(\"Bokeh: injecting link tag for BokehJS stylesheet: \", url);\n      document.body.appendChild(element);\n    }\n\n    for (let i = 0; i < js_urls.length; i++) {\n      const url = js_urls[i];\n      const element = document.createElement('script');\n      element.onload = on_load;\n      element.onerror = on_error.bind(null, url);\n      element.async = false;\n      element.src = url;\n      console.debug(\"Bokeh: injecting script tag for BokehJS library: \", url);\n      document.head.appendChild(element);\n    }\n  };\n\n  function inject_raw_css(css) {\n    const element = document.createElement(\"style\");\n    element.appendChild(document.createTextNode(css));\n    document.body.appendChild(element);\n  }\n\n  const js_urls = [\"https://cdn.bokeh.org/bokeh/release/bokeh-3.3.0.min.js\", \"https://cdn.bokeh.org/bokeh/release/bokeh-gl-3.3.0.min.js\", \"https://cdn.bokeh.org/bokeh/release/bokeh-widgets-3.3.0.min.js\", \"https://cdn.bokeh.org/bokeh/release/bokeh-tables-3.3.0.min.js\", \"https://cdn.bokeh.org/bokeh/release/bokeh-mathjax-3.3.0.min.js\"];\n  const css_urls = [];\n\n  const inline_js = [    function(Bokeh) {\n      Bokeh.set_log_level(\"info\");\n    },\nfunction(Bokeh) {\n    }\n  ];\n\n  function run_inline_js() {\n    if (root.Bokeh !== undefined || force === true) {\n          for (let i = 0; i < inline_js.length; i++) {\n      inline_js[i].call(root, root.Bokeh);\n    }\nif (force === true) {\n        display_loaded();\n      }} else if (Date.now() < root._bokeh_timeout) {\n      setTimeout(run_inline_js, 100);\n    } else if (!root._bokeh_failed_load) {\n      console.log(\"Bokeh: BokehJS failed to load within specified timeout.\");\n      root._bokeh_failed_load = true;\n    } else if (force !== true) {\n      const cell = $(document.getElementById(\"ec4ddd25-c8c0-473a-9489-54b8d420b16d\")).parents('.cell').data().cell;\n      cell.output_area.append_execute_result(NB_LOAD_WARNING)\n    }\n  }\n\n  if (root._bokeh_is_loading === 0) {\n    console.debug(\"Bokeh: BokehJS loaded, going straight to plotting\");\n    run_inline_js();\n  } else {\n    load_libs(css_urls, js_urls, function() {\n      console.debug(\"Bokeh: BokehJS plotting callback run at\", now());\n      run_inline_js();\n    });\n  }\n}(window));"
     },
     "metadata": {},
     "output_type": "display_data"
    },
    {
     "data": {
      "text/html": [
       "\n",
       "  <div id=\"ee549f57-29fe-4198-92a5-df9261ef804c\" data-root-id=\"p1032\" style=\"display: contents;\"></div>\n"
      ]
     },
     "metadata": {},
     "output_type": "display_data"
    },
    {
     "data": {
      "application/javascript": [
       "(function(root) {\n",
       "  function embed_document(root) {\n",
       "  const docs_json = {\"ae963499-8399-4312-8380-56d33a0aa05c\":{\"version\":\"3.3.0\",\"title\":\"Bokeh Application\",\"roots\":[{\"type\":\"object\",\"name\":\"DataTable\",\"id\":\"p1032\",\"attributes\":{\"source\":{\"type\":\"object\",\"name\":\"ColumnDataSource\",\"id\":\"p1010\",\"attributes\":{\"selected\":{\"type\":\"object\",\"name\":\"Selection\",\"id\":\"p1011\",\"attributes\":{\"indices\":[],\"line_indices\":[]}},\"selection_policy\":{\"type\":\"object\",\"name\":\"UnionRenderers\",\"id\":\"p1012\"},\"data\":{\"type\":\"map\",\"entries\":[[\"color\",[\"#dcdcdc\",\"#3c3285\",\"#4353c2\",\"#4673eb\",\"#4291fe\",\"#2fb1f3\",\"#1ccdd7\",\"#19e3b8\",\"#32f197\",\"#61fc6c\",\"#8efe48\",\"#b1f836\",\"#cfea34\",\"#ead339\",\"#f9ba38\",\"#fe9b2d\",\"#f9771e\",\"#ec520e\",\"#d93806\",\"#c02302\",\"#a01101\"]],[\"label\",[\"ABSTAIN\",\"alt.atheism\",\"comp.graphics\",\"comp.os.ms-windows.misc\",\"comp.sys.ibm.pc.hardware\",\"comp.sys.mac.hardware\",\"comp.windows.x\",\"misc.forsale\",\"rec.autos\",\"rec.motorcycles\",\"rec.sport.baseball\",\"rec.sport.hockey\",\"sci.crypt\",\"sci.electronics\",\"sci.med\",\"sci.space\",\"soc.religion.christian\",\"talk.politics.guns\",\"talk.politics.mideast\",\"talk.politics.misc\",\"talk.religion.misc\"]],[\"count_raw\",[373,0,0,0,0,0,0,0,0,0,0,0,0,0,0,0,0,0,0,0,0]],[\"count_train\",[0,14,22,19,17,16,24,21,19,14,28,19,20,24,21,19,18,12,27,22,13]],[\"count_dev\",[0,5,4,6,4,8,2,7,8,2,3,5,3,6,7,5,8,4,4,1,6]],[\"count_test\",[0,6,4,3,6,7,4,5,5,6,4,3,6,4,6,8,6,3,6,4,3]]]}}},\"view\":{\"type\":\"object\",\"name\":\"CDSView\",\"id\":\"p1036\",\"attributes\":{\"filter\":{\"type\":\"object\",\"name\":\"AllIndices\",\"id\":\"p1037\"}}},\"columns\":[{\"type\":\"object\",\"name\":\"TableColumn\",\"id\":\"p1013\",\"attributes\":{\"field\":\"label\",\"title\":\"label\",\"formatter\":{\"type\":\"object\",\"name\":\"StringFormatter\",\"id\":\"p1014\"},\"editor\":{\"type\":\"object\",\"name\":\"StringEditor\",\"id\":\"p1015\"}}},{\"type\":\"object\",\"name\":\"TableColumn\",\"id\":\"p1016\",\"attributes\":{\"field\":\"count_raw\",\"title\":\"raw\",\"formatter\":{\"type\":\"object\",\"name\":\"StringFormatter\",\"id\":\"p1017\"},\"editor\":{\"type\":\"object\",\"name\":\"StringEditor\",\"id\":\"p1018\"}}},{\"type\":\"object\",\"name\":\"TableColumn\",\"id\":\"p1019\",\"attributes\":{\"field\":\"count_train\",\"title\":\"train\",\"formatter\":{\"type\":\"object\",\"name\":\"StringFormatter\",\"id\":\"p1020\"},\"editor\":{\"type\":\"object\",\"name\":\"StringEditor\",\"id\":\"p1021\"}}},{\"type\":\"object\",\"name\":\"TableColumn\",\"id\":\"p1022\",\"attributes\":{\"field\":\"count_dev\",\"title\":\"dev\",\"formatter\":{\"type\":\"object\",\"name\":\"StringFormatter\",\"id\":\"p1023\"},\"editor\":{\"type\":\"object\",\"name\":\"StringEditor\",\"id\":\"p1024\"}}},{\"type\":\"object\",\"name\":\"TableColumn\",\"id\":\"p1025\",\"attributes\":{\"field\":\"count_test\",\"title\":\"test\",\"formatter\":{\"type\":\"object\",\"name\":\"StringFormatter\",\"id\":\"p1026\"},\"editor\":{\"type\":\"object\",\"name\":\"StringEditor\",\"id\":\"p1027\"}}},{\"type\":\"object\",\"name\":\"TableColumn\",\"id\":\"p1029\",\"attributes\":{\"field\":\"color\",\"title\":\"color\",\"formatter\":{\"type\":\"object\",\"name\":\"HTMLTemplateFormatter\",\"id\":\"p1028\",\"attributes\":{\"template\":\"\\n<p style=\\\"color:<%= value %>;\\\">\\n    <%= \\\"&#9608;&#9608;&#9608;\\\" %>\\n</p>\\n\"}},\"editor\":{\"type\":\"object\",\"name\":\"StringEditor\",\"id\":\"p1031\"}}}]}}]}};\n",
       "  const render_items = [{\"docid\":\"ae963499-8399-4312-8380-56d33a0aa05c\",\"roots\":{\"p1032\":\"ee549f57-29fe-4198-92a5-df9261ef804c\"},\"root_ids\":[\"p1032\"]}];\n",
       "  root.Bokeh.embed.embed_items_notebook(docs_json, render_items);\n",
       "  }\n",
       "  if (root.Bokeh !== undefined) {\n",
       "    embed_document(root);\n",
       "  } else {\n",
       "    let attempts = 0;\n",
       "    const timer = setInterval(function(root) {\n",
       "      if (root.Bokeh !== undefined) {\n",
       "        clearInterval(timer);\n",
       "        embed_document(root);\n",
       "      } else {\n",
       "        attempts++;\n",
       "        if (attempts > 100) {\n",
       "          clearInterval(timer);\n",
       "          console.log(\"Bokeh: ERROR: Unable to run BokehJS code because BokehJS library is missing\");\n",
       "        }\n",
       "      }\n",
       "    }, 10, root)\n",
       "  }\n",
       "})(window);"
      ],
      "application/vnd.bokehjs_exec.v0+json": ""
     },
     "metadata": {
      "application/vnd.bokehjs_exec.v0+json": {
       "id": "p1032"
      }
     },
     "output_type": "display_data"
    }
   ],
   "source": [
    "from bokeh.io import show, output_notebook\n",
    "\n",
    "output_notebook()\n",
    "\n",
    "# normally your would skip notebook_url or use Jupyter address\n",
    "notebook_url = 'localhost:8888'\n",
    "\n",
    "show(dataset.pop_table, notebook_url=notebook_url)"
   ]
  },
  {
   "cell_type": "markdown",
   "id": "8639ac28",
   "metadata": {},
   "source": [
    "<br>\n",
    "\n",
    "### **Transfer Data Between Subsets**\n",
    "\n",
    "`COMMIT` and `DEDUP` are the mechanisms that `hover` uses to transfer data between subsets.\n",
    "\n",
    "-   `COMMIT` copies selected points (to be discussed later) to a destination subset\n",
    "    -   labeled-raw-only: `COMMIT` automatically detects which points are in the raw set with a valid label. Other points will not get copied.\n",
    "    -   keep-last: you can commit the same point to the same subset multiple times and the last copy will be kept. This can be useful for revising labels before `DEDUP`.\n",
    "-   `DEDUP` removes duplicates (identified by feature value) across subsets\n",
    "    -   priority rule: test > dev > train > raw, i.e. test set data always gets kept during deduplication\n",
    "\n",
    "-   <details open><summary>FAQ</summary>\n",
    "    <details open><summary>Why does COMMIT only work on the raw subset?</summary>\n",
    "        Most selections will happen through plots, where different subsets are on top of each other. This means selections can contain both unlabeled and labeled points.\n",
    "\n",
    "        Way too often we find ourselves trying to view both the labeled and the unlabeled, but only moving the unlabeled \"raw\" points. So it's handy that COMMIT picks those points only.\n",
    "    </details>\n",
    "\n",
    "</details>\n",
    "\n",
    "These mechanisms correspond to buttons in `hover`'s annotation interface, which you have encountered in the quickstart:"
   ]
  },
  {
   "cell_type": "code",
   "execution_count": 3,
   "id": "22e6790e",
   "metadata": {
    "execution": {
     "iopub.execute_input": "2023-10-24T01:22:34.928373Z",
     "iopub.status.busy": "2023-10-24T01:22:34.927877Z",
     "iopub.status.idle": "2023-10-24T01:22:34.952985Z",
     "shell.execute_reply": "2023-10-24T01:22:34.952192Z"
    }
   },
   "outputs": [
    {
     "name": "stderr",
     "output_type": "stream",
     "text": [
      "WARNING:bokeh.embed.util:\n",
      "You are generating standalone HTML/JS output, but trying to use real Python\n",
      "callbacks (i.e. with on_change or on_event). This combination cannot work.\n",
      "\n",
      "Only JavaScript callbacks may be used with standalone output. For more\n",
      "information on JavaScript callbacks with Bokeh, see:\n",
      "\n",
      "    https://docs.bokeh.org/en/latest/docs/user_guide/interaction/callbacks.html\n",
      "\n",
      "Alternatively, to use real Python callbacks, a Bokeh server application may\n",
      "be used. For more information on building and running Bokeh applications, see:\n",
      "\n",
      "    https://docs.bokeh.org/en/latest/docs/user_guide/server.html\n",
      "\n"
     ]
    },
    {
     "data": {
      "text/html": [
       "\n",
       "  <div id=\"cfe36492-b1d7-48e7-a0f5-46fe5c786bea\" data-root-id=\"p1056\" style=\"display: contents;\"></div>\n"
      ]
     },
     "metadata": {},
     "output_type": "display_data"
    },
    {
     "data": {
      "application/javascript": [
       "(function(root) {\n",
       "  function embed_document(root) {\n",
       "  const docs_json = {\"ec4d6713-4dd5-4279-ae94-3f7d552790e6\":{\"version\":\"3.3.0\",\"title\":\"Bokeh Application\",\"roots\":[{\"type\":\"object\",\"name\":\"Column\",\"id\":\"p1056\",\"attributes\":{\"children\":[{\"type\":\"object\",\"name\":\"Row\",\"id\":\"p1055\",\"attributes\":{\"children\":[{\"type\":\"object\",\"name\":\"Dropdown\",\"id\":\"p1002\",\"attributes\":{\"button_type\":\"warning\",\"subscribed_events\":{\"type\":\"set\",\"entries\":[\"menu_item_click\",\"button_click\"]},\"label\":\"Commit\",\"menu\":[\"train\",\"dev\",\"test\"]}},{\"type\":\"object\",\"name\":\"Button\",\"id\":\"p1003\",\"attributes\":{\"button_type\":\"warning\",\"subscribed_events\":{\"type\":\"set\",\"entries\":[\"button_click\"]},\"label\":\"Dedup\"}}]}},{\"type\":\"object\",\"name\":\"DataTable\",\"id\":\"p1032\",\"attributes\":{\"source\":{\"type\":\"object\",\"name\":\"ColumnDataSource\",\"id\":\"p1010\",\"attributes\":{\"selected\":{\"type\":\"object\",\"name\":\"Selection\",\"id\":\"p1011\",\"attributes\":{\"indices\":[],\"line_indices\":[]}},\"selection_policy\":{\"type\":\"object\",\"name\":\"UnionRenderers\",\"id\":\"p1012\"},\"data\":{\"type\":\"map\",\"entries\":[[\"color\",[\"#dcdcdc\",\"#3c3285\",\"#4353c2\",\"#4673eb\",\"#4291fe\",\"#2fb1f3\",\"#1ccdd7\",\"#19e3b8\",\"#32f197\",\"#61fc6c\",\"#8efe48\",\"#b1f836\",\"#cfea34\",\"#ead339\",\"#f9ba38\",\"#fe9b2d\",\"#f9771e\",\"#ec520e\",\"#d93806\",\"#c02302\",\"#a01101\"]],[\"label\",[\"ABSTAIN\",\"alt.atheism\",\"comp.graphics\",\"comp.os.ms-windows.misc\",\"comp.sys.ibm.pc.hardware\",\"comp.sys.mac.hardware\",\"comp.windows.x\",\"misc.forsale\",\"rec.autos\",\"rec.motorcycles\",\"rec.sport.baseball\",\"rec.sport.hockey\",\"sci.crypt\",\"sci.electronics\",\"sci.med\",\"sci.space\",\"soc.religion.christian\",\"talk.politics.guns\",\"talk.politics.mideast\",\"talk.politics.misc\",\"talk.religion.misc\"]],[\"count_raw\",[373,0,0,0,0,0,0,0,0,0,0,0,0,0,0,0,0,0,0,0,0]],[\"count_train\",[0,14,22,19,17,16,24,21,19,14,28,19,20,24,21,19,18,12,27,22,13]],[\"count_dev\",[0,5,4,6,4,8,2,7,8,2,3,5,3,6,7,5,8,4,4,1,6]],[\"count_test\",[0,6,4,3,6,7,4,5,5,6,4,3,6,4,6,8,6,3,6,4,3]]]}}},\"view\":{\"type\":\"object\",\"name\":\"CDSView\",\"id\":\"p1036\",\"attributes\":{\"filter\":{\"type\":\"object\",\"name\":\"AllIndices\",\"id\":\"p1037\"}}},\"columns\":[{\"type\":\"object\",\"name\":\"TableColumn\",\"id\":\"p1013\",\"attributes\":{\"field\":\"label\",\"title\":\"label\",\"formatter\":{\"type\":\"object\",\"name\":\"StringFormatter\",\"id\":\"p1014\"},\"editor\":{\"type\":\"object\",\"name\":\"StringEditor\",\"id\":\"p1015\"}}},{\"type\":\"object\",\"name\":\"TableColumn\",\"id\":\"p1016\",\"attributes\":{\"field\":\"count_raw\",\"title\":\"raw\",\"formatter\":{\"type\":\"object\",\"name\":\"StringFormatter\",\"id\":\"p1017\"},\"editor\":{\"type\":\"object\",\"name\":\"StringEditor\",\"id\":\"p1018\"}}},{\"type\":\"object\",\"name\":\"TableColumn\",\"id\":\"p1019\",\"attributes\":{\"field\":\"count_train\",\"title\":\"train\",\"formatter\":{\"type\":\"object\",\"name\":\"StringFormatter\",\"id\":\"p1020\"},\"editor\":{\"type\":\"object\",\"name\":\"StringEditor\",\"id\":\"p1021\"}}},{\"type\":\"object\",\"name\":\"TableColumn\",\"id\":\"p1022\",\"attributes\":{\"field\":\"count_dev\",\"title\":\"dev\",\"formatter\":{\"type\":\"object\",\"name\":\"StringFormatter\",\"id\":\"p1023\"},\"editor\":{\"type\":\"object\",\"name\":\"StringEditor\",\"id\":\"p1024\"}}},{\"type\":\"object\",\"name\":\"TableColumn\",\"id\":\"p1025\",\"attributes\":{\"field\":\"count_test\",\"title\":\"test\",\"formatter\":{\"type\":\"object\",\"name\":\"StringFormatter\",\"id\":\"p1026\"},\"editor\":{\"type\":\"object\",\"name\":\"StringEditor\",\"id\":\"p1027\"}}},{\"type\":\"object\",\"name\":\"TableColumn\",\"id\":\"p1029\",\"attributes\":{\"field\":\"color\",\"title\":\"color\",\"formatter\":{\"type\":\"object\",\"name\":\"HTMLTemplateFormatter\",\"id\":\"p1028\",\"attributes\":{\"template\":\"\\n<p style=\\\"color:<%= value %>;\\\">\\n    <%= \\\"&#9608;&#9608;&#9608;\\\" %>\\n</p>\\n\"}},\"editor\":{\"type\":\"object\",\"name\":\"StringEditor\",\"id\":\"p1031\"}}}]}}]}}]}};\n",
       "  const render_items = [{\"docid\":\"ec4d6713-4dd5-4279-ae94-3f7d552790e6\",\"roots\":{\"p1056\":\"cfe36492-b1d7-48e7-a0f5-46fe5c786bea\"},\"root_ids\":[\"p1056\"]}];\n",
       "  root.Bokeh.embed.embed_items_notebook(docs_json, render_items);\n",
       "  }\n",
       "  if (root.Bokeh !== undefined) {\n",
       "    embed_document(root);\n",
       "  } else {\n",
       "    let attempts = 0;\n",
       "    const timer = setInterval(function(root) {\n",
       "      if (root.Bokeh !== undefined) {\n",
       "        clearInterval(timer);\n",
       "        embed_document(root);\n",
       "      } else {\n",
       "        attempts++;\n",
       "        if (attempts > 100) {\n",
       "          clearInterval(timer);\n",
       "          console.log(\"Bokeh: ERROR: Unable to run BokehJS code because BokehJS library is missing\");\n",
       "        }\n",
       "      }\n",
       "    }, 10, root)\n",
       "  }\n",
       "})(window);"
      ],
      "application/vnd.bokehjs_exec.v0+json": ""
     },
     "metadata": {
      "application/vnd.bokehjs_exec.v0+json": {
       "id": "p1056"
      }
     },
     "output_type": "display_data"
    }
   ],
   "source": [
    "from bokeh.layouts import row, column\n",
    "\n",
    "show(column(\n",
    "    row(\n",
    "        dataset.data_committer,\n",
    "        dataset.dedup_trigger,\n",
    "    ),\n",
    "    dataset.pop_table,\n",
    "), notebook_url=notebook_url)"
   ]
  },
  {
   "cell_type": "markdown",
   "id": "01437112",
   "metadata": {},
   "source": [
    "<br>\n",
    "\n",
    "Of course, so far we have nothing to move, because there's no data selected. We shall now discuss selections.\n",
    "\n",
    "## **Selection**\n",
    "\n",
    "`hover` labels data points in bulk, which requires selecting groups of homogeneous data, i.e. semantically similar or going to have the same label. Being able to skim through what you selected gives you confidence about homogeneity.\n",
    "\n",
    "Normally, selection happens through a plot (`explorer`), as we have seen in the quickstart. For the purpose here, we will \"cheat\" and assign the selection programmatically:"
   ]
  },
  {
   "cell_type": "code",
   "execution_count": 4,
   "id": "d8564e20",
   "metadata": {
    "execution": {
     "iopub.execute_input": "2023-10-24T01:22:34.957225Z",
     "iopub.status.busy": "2023-10-24T01:22:34.956578Z",
     "iopub.status.idle": "2023-10-24T01:22:34.977804Z",
     "shell.execute_reply": "2023-10-24T01:22:34.977218Z"
    }
   },
   "outputs": [
    {
     "data": {
      "text/html": [
       "<pre style=\"white-space:pre;overflow-x:auto;line-height:normal;font-family:Menlo,'DejaVu Sans Mono',consolas,'Courier New',monospace\"><span style=\"color: #008000; text-decoration-color: #008000\">🟢 SupervisableTextDataset: Selection table: latest selection with </span><span style=\"color: #008080; text-decoration-color: #008080; font-weight: bold\">10</span><span style=\"color: #008000; text-decoration-color: #008000\"> entries.</span>\n",
       "</pre>\n"
      ],
      "text/plain": [
       "\u001b[32m🟢 SupervisableTextDataset: Selection table: latest selection with \u001b[0m\u001b[1;36m10\u001b[0m\u001b[32m entries.\u001b[0m\n"
      ]
     },
     "metadata": {},
     "output_type": "display_data"
    },
    {
     "data": {
      "text/html": [
       "\n",
       "  <div id=\"ef99378e-2eac-4714-a59f-4fb31b7c926f\" data-root-id=\"p1049\" style=\"display: contents;\"></div>\n"
      ]
     },
     "metadata": {},
     "output_type": "display_data"
    },
    {
     "data": {
      "application/javascript": [
       "(function(root) {\n",
       "  function embed_document(root) {\n",
       "  const docs_json = {\"8c2d2e0f-4a37-4512-8a2c-d1ec1d8bdaf1\":{\"version\":\"3.3.0\",\"title\":\"Bokeh Application\",\"roots\":[{\"type\":\"object\",\"name\":\"DataTable\",\"id\":\"p1049\",\"attributes\":{\"source\":{\"type\":\"object\",\"name\":\"ColumnDataSource\",\"id\":\"p1038\",\"attributes\":{\"selected\":{\"type\":\"object\",\"name\":\"Selection\",\"id\":\"p1039\",\"attributes\":{\"indices\":[],\"line_indices\":[]}},\"selection_policy\":{\"type\":\"object\",\"name\":\"UnionRenderers\",\"id\":\"p1040\"},\"data\":{\"type\":\"map\",\"entries\":[[\"text\",[\"Seagate 1.2GB SCSI hard Drive Brand NEW with full factory warranty. 5-1/4\\\" FH, 15ms access time, 150,000 MTBF Only $1100+s/h.\",\"  >   > Hi, everybody:  >     I guess my subject has said it all.  It is getting boring  > looking at those same old bmp files that came with Windows.  So,  > I am wondering if there is any body has some beautiful bmp file  > I can share.  Or maybe somebody can tell me some ftp site for  > some bmp files, like some scenery files, some animals files,  > etc....  I used to have some, unfortunately i delete them all.     I downloaded the CompuServe GIF of the month.  A raytraced image of a golf ball next to a hole.  Very nice, 640x480x256 bitmap, easily converted to a Windows BMP.  If anyone wants, I could upload a copy on Cica...   Eric\",\" #In article <93109.231733ISSCCK@BYUVM.BITNET> \\\"Casper C. Knies\\\" <ISSCCK@BYUVM#.B #>As a Latter-day Saint, I found John's statement *not at all* ludicrous... #> #>Please allow me to explain myself.  In 1838, the governor of Missouri, #>governor Boggs, issued his so-called \\\"Mormon extermination order.\\\"  The #>only crime (\\\"illegal activity\\\") the Latter-day Saints had committed, was #>their religious affiliation, their anti-slave stance (Missouri still #>allowed slave practices), and their growing numbers/influence in Missouri. #> #>I guess the Mormons \\\"got what they deserved,\\\" because they refused to bow #>to the will of (corrupt and evil) secular authorities. This \\\"disobedience\\\" #>brought upon them persecution, murder, and finally forced expulsion from #>their lands and settlements... # #It is significant to remember that these secular positions were held by #\\\"average\\\" people, and that at the time, almost all Americans were pretty #homogeonously Christian. It was largely the mainstream Christian's disgust #at such practices as polygamy which resulted in their irrational hatred.  True, but that is exactly the \\\"problem\\\": the Mormon extermination order was issued not just by a Christian, it was ALLOWED under the Constitution of the United States, which was instituted precisely to prevent incidents like this \\\"order\\\" from occurring in the first place...  As I indicated in an earlier posting, your \\\"irrational hatred\\\" is clearly evidenced by individuals like Robert Weiss (who could have been Gov. Boggs' Lieutenant; he would have fitted right in, drewling et al), and seems a modern-day occurrence, based on results (slander, persecution, misrepresentation, lies, denying Mormons representation in their own user group, etc. etc.  In intent and purpose, what really has changed?  #The situation is not entirely different today.  Many irrational feelings #and beliefs are justified through religion.  I don't think most of them #are started because of religion, but religion certainly helps justify and #perpetuate prejudices and practices by providing a neat justification #which discourages critical thought.  True, as evidenced by numerous examples, as I am sure you're aware.  #>In any regard, Mormon history alone indicates that secular authorities (and #>I don't even discuss how Uthan's were suckered into allowing part of their #>lands in becoming nerve-gas and atomic bomb testing grounds...) is far from #>being trusted or righteous.  Have things really changed for the better?  I #>may be a born cynic, but I have NO reason whatsoever that such has been the #>case. In the early 1980s, I believe, the late President Kimball (lds church #>leader) strongly protested federal attempts to locate the MX-\\\"Peace Keeper\\\" #>missile maze from being built in Utah (yet another \\\"inspired\\\" decision from #secular authorities).  Fortunately, his opposition was influential enough #for the feds to back off. # #Do you mean that the \\\"secular authorities\\\" are some continuous group of #people with the common and uninterrupted goal of harrassing/eradicating the #Mormons?  Do you honestly believe that the main reason for using Utah for #nuclear testing etc.. was to \\\"get them thar Mormons\\\"?  And what about the #majority of Uthan's who aren't Mormons?  You seem to be searching for enemy  ^^^^^^^^ (Correction: the majority of Utahn's ARE Mormon (60-70% I believe, up to a  100% in many cities and settlements throughout the Western states.)  #conspiracies.  It is paranoid to believe that everything that affects you #badly must have been done primarily for that purpose.  What I mean is that secular authorities are to be watched, as we believe that Satan has been given some power and dominion over the earth to divert truth, judgment, and justice.  In addition, we believe that the adversary has power to influence the unjust and idolatrous (greed for money would be a good example) in order to bring about persecution, war, oppression, and evil combinations.  As an intelligent being, don't you suppose that the destroyer would yield his influence foremost on those with political power?  As far as Utah is concerned, what I pointed out were some horrible examples of environmental nightmares imposed upon by secular authorities, which have brought death, disease, (i.e. the \\\"downwinders\\\") and environmental contami- nation.  I am hardly \\\"paranoid,\\\" I am just not \\\"expecting\\\" too much from a secular government that may not share our values and faith, and which indeed (as Gov. Boggs et al.) may be out to harm and destroy us.  As a matter of fact, prophecies in my church indicate that in future years, (global) persecution against Mormons will so increase in intensity and scope, that (paraphrasing) \\\"all those who wish to escape persecution and murder must flee to Zion.\\\"  Zion (the \\\"pure in heart\\\") will be re-established in those days, and it AIN'T our current secular authorities who will rule over it...  #>...  David Koresh did NOT pose a great #>threat to the federal authorities or the security of this nation, and with #>John, I too wonder who or what's next... # #I personally feel that we should try to stop anyone who is a threat to the #life of even one person.  Sure, he did not pose a threat to the security of #this nation.  But he did pose a threat to the lives of his followers.  That #much is definite.  Hmmm.  \\\"definite\\\" by whom?  --Until such has been established beyond reason- able doubt, this alleged \\\"threat\\\" may have been less than the \\\"threat\\\" imposed upon him and his followers by the BATF and FBI...  #>Who killed who?  What constitutional right did the ATF officers have to #>invade upon private land and to force themselves into the compound? #>What REALLY caused the \\\"murder\\\" of the little children?  Could it be that #>the ATF/FBI presence has any bearing upon the events?  How would you #>interpret the Mt. Masada events?  --Blame the Jews?  (What the heck did #>the Romans do there anyway?  What business did the ATF/FBI has in Waco, #>Texas???)  The Branch Davidians NEVER posed any threat to society. # #This is like asking who REALLY caused the deaths of the Israeli Olympic #team in 1976?  In that case, the police botched the job as well.  But to #lay a heavier burden on them than the terrorists would be a terrible #mistake.  I think the same sort of reasoning applies in this case. #Certainly, if David Koresh chose any peaceful option, the ATF and FBI #would have complied.  The responsibility is more his than the authorities.  Come now, at issue is in how much the authorities escalated an otherwise peaceful stand-off: \\\"let's get it over with, and \\\"force\\\" David Koresh to come out???\\\"  --By gassing them???  Were they naive, or what?  They played right into the hands of an apocalyptic-thinking individual (he had prepared his people for this eventuality for years), and not *one* firetruck or plan was in place to deal with this scenario???  I feel that the authorities had \\\"some\\\" responsibility to protect their own citizens, even if they were religious zealots, and guilty of ... not paying a $200 gun license??? (Has the BATF become an extension of the local tax-collectors?)  #>David Koresh, no doubt, will be described as the \\\"evil\\\" guy (by the #>executioners), while the actions of all those \\\"valiant and brave\\\" officers # #Characterizing the ATF/FBI as executioners is inaccurate and unfair.  In #order to be an executioner, the least one must have done is have the intent #to kill.  Que?? --Intrusion into private property with semi's, loaded with life ammunition, isn't that implicit \\\"intent (or at least \\\"prepared\\\") to kill\\\"? I ask you, would the BATF warrant stand up in a civil court of justice? I do not mind if criminals (such as dangerous drug lords) are brought to justice, but escalating events to the point of allowing to, if not compli- city with, the destruction of a people?  #-- #*Isaac Kuo (isaackuo@math.berkeley.edu)                   *        _____ #*\\\"How lucky you English are to find the toilet so amusing.* ______//_o_\\\\\\\\__ #* For us, it is a mundane and functional item.  For you,  *(==(/___________ #* the basis of an entire culture!\\\" Manfred von Richtofen  * \\\\==\\\\/         \\\\ \",\" As a general rule, no relay will cleanly switch audio if you try to tranfer the circuit with the contacts.  The noise you hear is due to the momentary opening and closing of the path.  The noiseless way of transfering audio is to ground the circuit.  In high impedance audio circuits a resistive \\\"T\\\" is constructed close to characteristic impedance of the circuit.  Grounding the imputs (connected to the T) transfers the audio.  In low impedance circuits transformers are usually used, and the inputs are shorted out or grounded.  Secondaries are paralleled at the characteristic impedance.  Sometimes if it is necessary to actually switch audio, a second contact is used to momentarily short the circuit output for the duration of the switching time.  Telephone relays are handy, because contacts can be adjusted to \\\"Make before break and Vica Versa\\\" but I haven't seen any of these for years.  Nowadys switching is done electronically with OP amps, etc.  A novel circuit I used to build was a primitive \\\"optical isolator\\\".. It consists of a resistive photocell and a lamp, all packaged in a tube.  When the lamp is off the cell is high resistance.  Turn the lamp on and the resistance lowers passing the audio.  Once again this device in a \\\"T\\\" switches the audio.  Varying the lamp resistance give a remote volume control.  Use 2 variable resisters and you have a mixer!  Lots of luck! --  73, Tom ================================================================================ Tom Wagner, Audio Visual Technician.  Malaspina College Nanaimo British Columbia (604)753-3245, Loc 2230  Fax:755-8742  Callsign:VE7GDA Weapon:.45 Kentucky Rifle Snail mail to:  Site Q4, C2.   RR#4, Nanaimo, British Columbia, Canada, V9R 5X9  \",\"Dear Netters:  A new religious newsgroup \\\"soc.religion.islam.ahmadiyya\\\" was pro- posed  on  Oct  16,  1992. The discussion about this new proposed newsgroup went on in various related groups.  The  proposal,  was supposed to enter a vote during the last week of November 92. Due to a false Call For Votes, by some opponent, the voting had to be canceled.  I  quote  here  a  statement  from  the  moderator  of new.announce.newgroups:   \\\"The current Call For Votes (CFV) for an Ahmadiyya newsgroup  is being canceled. A new call for votes will be issued within  a few weeks, possibly with a new impartial vote  taker.  Discus-  sion on the proposal is still open until the new vote is called...\\\"                                 -- by Lawrence, Nov 20, 1992.   A lot of confusion arose among the netter as  to  whom  to  vote. Therefore  it was decided to give a cool down period, so that all confusions are over. It has been over 4 months  of  that  instant and now we are again attempting to create this newsgroup. A fresh RFD is hereby being issued. Please! take part in  the  discussion under the same  title heading  and in  \\\"news.groups\\\"  or at least cross-post it to \\\"news.groups\\\".   ****************************************************************                  REQUEST  FOR  DISCUSSION  ****************************************************************    NAME OF PROPOSED NEWSGROUP:  ==========================       soc.religion.islam.ahmadiyya   CHARTER:  =======       A religious newsgroup, which would mainly  discuss  the  be- liefs,  teachings,  philosophy  and ideologies of all major reli- gions of the world as  they  exist  to  foster  better  religious knowledge  and  understanding among followers of all religions as they share common basis. This newsgroup will be devoted to  build a  peaceful  mutual  understanding  of  the  Ahmadiyya  branch of Islam, its peacefull beliefs, ideology and philosophy and how  it is  different  from  other  branches  of Islam in fostering world peace and developing better understanding among religious people. It may also be used to post important religious events within the World Wide Ahmadiyya Islamic Community in general.   PURPOSE OF THE GROUP:  ====================       The following are some of the main purposes this group will      achieve:       i)   To discuss the common beliefs of all major religions as           they relate to Ahmadiyya Muslim Community.       ii)  To discuss the doctrines, origin and teachings  of this           puissant spiritual force on earth.       iii) To examine Islamic teachings and beliefs in general  in           light  of the Quran  and established Islamic traditions           of 15 centuries from Ahmadiyya perspective.       iv)  To discuss the similarities  between Ahmadi Muslims and           people of other Religions  of the world and discuss how           religious tolerance  and respect to other's  faiths can           be brought about to  eliminate inter-religion rivalries           and hatred among people of religions.        v)   To discuss the origin and teachings of all religions in           general and Islamic and Ahmadiyya Muslims in particular           to foster better understanding among Ahmadi Muslims and           other religious people.       vi)  To discuss current world problems and solution to these           problems as offered by religion.       vii) To exchange important news and views about the Ahmadiyya           Muslim Community and other Religions.       viii)To add diversity in the religious newsgroups present           on Usenet.       ix)  To discuss why  religious persecution is on the rise  in           the world  and find  solutions to remedy the ever deter-           iorating  situation  in the  world in general and in the            Islamic world in particular.       x)   To discuss the contributions of founders of  all  reli-           gions and their  people for humanity, society and world            peace in general and by the International Ahmadiyya Mus           -lim Community in particular.   TYPE:  ====  The group will be MODERATED for orderly and free religious dialo- gue.   The moderation will NOT prevent disagreement or dissent to beliefs, but will mainly be used  to  prevent  derogatory/squalid use  of  dialect  and irrelevant issues. The moderators have been decided through personal e-mail and through a  general  consensus among  the proponants by discussion in news.groups. The following moderators have been proposed and agreed upon:  Moderator:     Nabeel A. Rana  (rana@rintintin.colorado.edu)   Co-Moderator:  Dr. Tahir Ijaz  (ijaz@ccu.umanitoba.ca)    A BRIEF DESCRIPTION ABOUT AHMADIYYA/ISLAM: =========================================           The Ahmadiyya Movement in Islam, an international organi- sation, was founder in 1989 in Qadian, India. The founder of this sect, Hazrat Mirza Ghulam Ahmad (1835-1908), proclaimed to be the Promised Reformer of this age as foretold in almost all the major religions of the world today (Islam, Christianity, Judiasm,  Hin- duism).  He  claimed  to  be  the  long awaited second comming of Jesus Christ (metaphorically), the Muslim Mahdi, and the Promised Messiah.  He  claimed that the prophecies contained in almost all the great religions of the world about the advent of a  messenger from God have been fulfilled.          The claims Hazrat Ahmad raised storms  of  hostility  and extreme  oposition from many priestlike people of Muslims, Chris- tians, Jews and Hindus of that age. Such opposition is often wit- nessed  in  the history of divine reformers. Even today this sect is being persecuted specially in  some  of  the  Muslim  regimes. Dispite  the  opposition  and persecution, this sect has won many adherents in 130 countries. It has over 10 million followers, who come from a diverse ethnic and cultural background.          The sect is devoted to world peace and in bringing  about a better understanding of religion, and the founders of all reli- gions. Its mission is to unite mankind into one Universal  broth- erhood  and  develop  a  better  understanding  of  faith. Ahmadi Muslims have always been opposed to all kind of violence and spe- cially religious intollerance and fundamentalism.          Among its many philanthropic activities, the sect has es- tablished  a network of hundreds of schools, hospitals, and clin- ics in many third world countries. These institutions are staffed by  volunteer  professional  and are fully financed by the sect's internal resources.          The Ahmadiyya mission is to bring about a universal moral reform,  establish  peace and justice, and to unite mankind under one universal religion.   NEWSGROUP CREATION:  ==================\",\"# So the Blue PRess suggests that we bankrupt HCI by requesting information # and the concern by list members is that HCI will claim everyone that calls # as a new member.  I think they will. I also think they will claim a new # MANDATE to ban all firearms from the solar system wheter we call and ask for # information or not! #  # On the other hand, with due respect to the Editor of the Blue PRess, just # becaue Mike makes damned good presses, dies, powder scales, and got tired of # Lee's atacks DOES NOT MEAN THAT EVERY DILLON FAN FOLLOWS WHAT MIKE CALLS FOR # LIKE HE WAS KARESH AND WE WERE TRANSDILLIDIANS!  #  # Our local State Assemblyman has called for a complete ban on all non-bolt # action military rifles and all assault weapons, a 7 day wait for purchase # permits { it currently takes 10 to 14 working days here in NC } and one # permit/year. The flood of calls he got was 7 for and 3 against. Guess who # called supporting his move? Guess what ILA is doing? Right? #  # CHL #    \",\"Has anyone connected a high-res, fixed frequency monitor to their PC? I have a mitubishi monitor that does 1024x768 at 60hz, but won't do any other resolutions.  All the video cards designed for this sort of thing are very expensive (>$400).  Has anyone done it with an SVGA card (I know it can be done, it's just a question of getting the card at the right resolution and frequency)?  I'd like to use a mono (hercules) monitor as my dos/command line monitor, and switch to the mitsu for Windows or X-windows (under Linux or 3BSD).  Any suggestions would be greatly appreciated.  E-mail, please.  Thanks, \",\"I want to achieve an overall throughput rate of around 5 megabytes / sec for very large data transfers.  (Around 5 MB.)  I have a Quadra 950.  I have a NuBus network card that can pump data in to mac memory at 8.5 MB/s.          (using block-mode transfers) I have a high-speed disk array (no asynchronous PB calls) that can          achieve 6.8 MB/s.  Let's say all transfers go from disk to buffer to network card.  It is not enough to first transfer all the data from the disk to buffer, then transfer all the data from the buffer to card.  (6.8 MB/s then 8.5 MB/s result in an overall 3.8 MB/s.  Too slow!)  So I tried the following scheme: For an n-megabyte transfer,   Step 1:                                Load the 1st MB from disk to buffer. Step 2: Asynch send 1st MB out card,   Load the 2nd MB from disk to buffer. Step 3: Asynch send 2nd MB out card,   Load the 3rd MB from disk to buffer.         ... Step n: Asynch send the n-1 MB out card, Load the nth MB from disk to buffer. Step n+1: Send the nth MB out card.  Even though the code apparently does execute the card transfer asynchronously, and the card does not use the Mac cpu at all,  (It is using the buffer, tho') each of the steps 2 through n take as long as if the two transfers were executed one after another.  So there is no improvement in the rate.  Why?  Is the mac RAM dual-port?  (So the NuBus card and the disk driver can both access data at the same time.) Is the problem that the two devices, card and disk driver, both have to use the same bus to mac RAM?  Is there anything I can do?\",\"Have anybody succeded in converting a atari monomchrome monitor into a mono VGA monitor. If so please let me know exactly how you did and what graphics card you used.   /Thanx\",\"Hell, the Orioles' Opening Day game could easily be the largest in history if we had a stadium with 80,000 seats. But unfortunely the Yards (a definitely excellent ballpark) only holds like 45,000 with 275 SRO spots. Ticket sales for the entire year is moving fast. Bleacher seats are almost gone for every game this year. It's a extremely likelyhood that the O's could sell out every game this year (especially if we lead the division for most of the year like '89).   On another front, the sale of the Orioles to anyone is likely to be forced upon Eli Jacobs who is major debt apparently. Maybe we can get an owner willing to spend on a proven rightfielder free agent in the winter.  Fernando has made the O's as the fifth starter. The O's pitching staff looks pretty good. Sutcliffe, Mussina, McDonald, Rhodes, and Fernando.  Baltimore is my pick for the victors in a very competitive AL East. __________________________________________________________________________ ~~~~~~~~~~~~~~~~~~~~~~~~~~~~~~~~~~~~~~~~~~~~~~~~~~~~~~~~~~~~~~~~~~~~~~~~~~  Second to last day of the season - Gregg (The True Wild Thing) Olson uncorks a wild pitch allowing the Blue Jays to tie. Blue Jays win in the 11th and ends the Baby Birds' miracle season of '89. \"]],[\"SUBSET\",[\"raw\",\"raw\",\"raw\",\"raw\",\"raw\",\"raw\",\"raw\",\"raw\",\"raw\",\"raw\"]],[\"label\",[\"ABSTAIN\",\"ABSTAIN\",\"ABSTAIN\",\"ABSTAIN\",\"ABSTAIN\",\"ABSTAIN\",\"ABSTAIN\",\"ABSTAIN\",\"ABSTAIN\",\"ABSTAIN\"]]]}}},\"view\":{\"type\":\"object\",\"name\":\"CDSView\",\"id\":\"p1053\",\"attributes\":{\"filter\":{\"type\":\"object\",\"name\":\"AllIndices\",\"id\":\"p1054\"}}},\"columns\":[{\"type\":\"object\",\"name\":\"TableColumn\",\"id\":\"p1043\",\"attributes\":{\"field\":\"text\",\"title\":\"text\",\"formatter\":{\"type\":\"object\",\"name\":\"HTMLTemplateFormatter\",\"id\":\"p1042\",\"attributes\":{\"template\":\"<span href=\\\"#\\\" data-toggle=\\\"tooltip\\\" title=\\\"<%= value %>\\\"><%= value %></span>\"}},\"editor\":{\"type\":\"object\",\"name\":\"CellEditor\",\"id\":\"p1041\"}}},{\"type\":\"object\",\"name\":\"TableColumn\",\"id\":\"p1046\",\"attributes\":{\"field\":\"label\",\"title\":\"label\",\"formatter\":{\"type\":\"object\",\"name\":\"StringFormatter\",\"id\":\"p1047\"},\"editor\":{\"type\":\"object\",\"name\":\"StringEditor\",\"id\":\"p1048\"}}}],\"editable\":true,\"selectable\":\"checkbox\"}}]}};\n",
       "  const render_items = [{\"docid\":\"8c2d2e0f-4a37-4512-8a2c-d1ec1d8bdaf1\",\"roots\":{\"p1049\":\"ef99378e-2eac-4714-a59f-4fb31b7c926f\"},\"root_ids\":[\"p1049\"]}];\n",
       "  root.Bokeh.embed.embed_items_notebook(docs_json, render_items);\n",
       "  }\n",
       "  if (root.Bokeh !== undefined) {\n",
       "    embed_document(root);\n",
       "  } else {\n",
       "    let attempts = 0;\n",
       "    const timer = setInterval(function(root) {\n",
       "      if (root.Bokeh !== undefined) {\n",
       "        clearInterval(timer);\n",
       "        embed_document(root);\n",
       "      } else {\n",
       "        attempts++;\n",
       "        if (attempts > 100) {\n",
       "          clearInterval(timer);\n",
       "          console.log(\"Bokeh: ERROR: Unable to run BokehJS code because BokehJS library is missing\");\n",
       "        }\n",
       "      }\n",
       "    }, 10, root)\n",
       "  }\n",
       "})(window);"
      ],
      "application/vnd.bokehjs_exec.v0+json": ""
     },
     "metadata": {
      "application/vnd.bokehjs_exec.v0+json": {
       "id": "p1049"
      }
     },
     "output_type": "display_data"
    }
   ],
   "source": [
    "dataset._callback_update_selection(dataset.dfs[\"raw\"][:10])\n",
    "\n",
    "show(dataset.sel_table, notebook_url=notebook_url)"
   ]
  },
  {
   "cell_type": "markdown",
   "id": "9c2ba146",
   "metadata": {},
   "source": [
    "<br>\n",
    "\n",
    "### **Edit Data Within a Selection**\n",
    "\n",
    "Often the points selected are not perfectly homogeneous, i.e. some outliers belong to a different label from the selected group overall. It would be helpful to `EVICT` them, and `SupervisableDataset` has a button for it.\n",
    "\n",
    "Sometimes you may also wish to edit data values on the fly.  In hover this is called `PATCH`, and there also is a button for it.\n",
    "\n",
    "-   by default, labels can be edited but feature values cannot.\n",
    "\n",
    "Let's plot the forementioned buttons along with the selection table. Toggle any number of rows in the table, then click the button to `EVICT` or `PATCH` those rows:"
   ]
  },
  {
   "cell_type": "code",
   "execution_count": 5,
   "id": "2b4d4130",
   "metadata": {
    "execution": {
     "iopub.execute_input": "2023-10-24T01:22:34.980862Z",
     "iopub.status.busy": "2023-10-24T01:22:34.980576Z",
     "iopub.status.idle": "2023-10-24T01:22:34.999870Z",
     "shell.execute_reply": "2023-10-24T01:22:34.999202Z"
    }
   },
   "outputs": [
    {
     "name": "stderr",
     "output_type": "stream",
     "text": [
      "WARNING:bokeh.embed.util:\n",
      "You are generating standalone HTML/JS output, but trying to use real Python\n",
      "callbacks (i.e. with on_change or on_event). This combination cannot work.\n",
      "\n",
      "Only JavaScript callbacks may be used with standalone output. For more\n",
      "information on JavaScript callbacks with Bokeh, see:\n",
      "\n",
      "    https://docs.bokeh.org/en/latest/docs/user_guide/interaction/callbacks.html\n",
      "\n",
      "Alternatively, to use real Python callbacks, a Bokeh server application may\n",
      "be used. For more information on building and running Bokeh applications, see:\n",
      "\n",
      "    https://docs.bokeh.org/en/latest/docs/user_guide/server.html\n",
      "\n"
     ]
    },
    {
     "data": {
      "text/html": [
       "\n",
       "  <div id=\"cf2f7651-8974-4f69-bad3-d782c151357e\" data-root-id=\"p1058\" style=\"display: contents;\"></div>\n"
      ]
     },
     "metadata": {},
     "output_type": "display_data"
    },
    {
     "data": {
      "application/javascript": [
       "(function(root) {\n",
       "  function embed_document(root) {\n",
       "  const docs_json = {\"b64ba879-654a-4dd3-b066-b11d82e399cb\":{\"version\":\"3.3.0\",\"title\":\"Bokeh Application\",\"roots\":[{\"type\":\"object\",\"name\":\"Column\",\"id\":\"p1058\",\"attributes\":{\"children\":[{\"type\":\"object\",\"name\":\"Row\",\"id\":\"p1057\",\"attributes\":{\"children\":[{\"type\":\"object\",\"name\":\"Button\",\"id\":\"p1006\",\"attributes\":{\"button_type\":\"primary\",\"label\":\"Evict Rows from Selection\"}},{\"type\":\"object\",\"name\":\"Button\",\"id\":\"p1005\",\"attributes\":{\"button_type\":\"warning\",\"subscribed_events\":{\"type\":\"set\",\"entries\":[\"button_click\"]},\"label\":\"Update Row Values\"}}]}},{\"type\":\"object\",\"name\":\"DataTable\",\"id\":\"p1049\",\"attributes\":{\"source\":{\"type\":\"object\",\"name\":\"ColumnDataSource\",\"id\":\"p1038\",\"attributes\":{\"selected\":{\"type\":\"object\",\"name\":\"Selection\",\"id\":\"p1039\",\"attributes\":{\"indices\":[],\"line_indices\":[]}},\"selection_policy\":{\"type\":\"object\",\"name\":\"UnionRenderers\",\"id\":\"p1040\"},\"data\":{\"type\":\"map\",\"entries\":[[\"text\",[\"Seagate 1.2GB SCSI hard Drive Brand NEW with full factory warranty. 5-1/4\\\" FH, 15ms access time, 150,000 MTBF Only $1100+s/h.\",\"  >   > Hi, everybody:  >     I guess my subject has said it all.  It is getting boring  > looking at those same old bmp files that came with Windows.  So,  > I am wondering if there is any body has some beautiful bmp file  > I can share.  Or maybe somebody can tell me some ftp site for  > some bmp files, like some scenery files, some animals files,  > etc....  I used to have some, unfortunately i delete them all.     I downloaded the CompuServe GIF of the month.  A raytraced image of a golf ball next to a hole.  Very nice, 640x480x256 bitmap, easily converted to a Windows BMP.  If anyone wants, I could upload a copy on Cica...   Eric\",\" #In article <93109.231733ISSCCK@BYUVM.BITNET> \\\"Casper C. Knies\\\" <ISSCCK@BYUVM#.B #>As a Latter-day Saint, I found John's statement *not at all* ludicrous... #> #>Please allow me to explain myself.  In 1838, the governor of Missouri, #>governor Boggs, issued his so-called \\\"Mormon extermination order.\\\"  The #>only crime (\\\"illegal activity\\\") the Latter-day Saints had committed, was #>their religious affiliation, their anti-slave stance (Missouri still #>allowed slave practices), and their growing numbers/influence in Missouri. #> #>I guess the Mormons \\\"got what they deserved,\\\" because they refused to bow #>to the will of (corrupt and evil) secular authorities. This \\\"disobedience\\\" #>brought upon them persecution, murder, and finally forced expulsion from #>their lands and settlements... # #It is significant to remember that these secular positions were held by #\\\"average\\\" people, and that at the time, almost all Americans were pretty #homogeonously Christian. It was largely the mainstream Christian's disgust #at such practices as polygamy which resulted in their irrational hatred.  True, but that is exactly the \\\"problem\\\": the Mormon extermination order was issued not just by a Christian, it was ALLOWED under the Constitution of the United States, which was instituted precisely to prevent incidents like this \\\"order\\\" from occurring in the first place...  As I indicated in an earlier posting, your \\\"irrational hatred\\\" is clearly evidenced by individuals like Robert Weiss (who could have been Gov. Boggs' Lieutenant; he would have fitted right in, drewling et al), and seems a modern-day occurrence, based on results (slander, persecution, misrepresentation, lies, denying Mormons representation in their own user group, etc. etc.  In intent and purpose, what really has changed?  #The situation is not entirely different today.  Many irrational feelings #and beliefs are justified through religion.  I don't think most of them #are started because of religion, but religion certainly helps justify and #perpetuate prejudices and practices by providing a neat justification #which discourages critical thought.  True, as evidenced by numerous examples, as I am sure you're aware.  #>In any regard, Mormon history alone indicates that secular authorities (and #>I don't even discuss how Uthan's were suckered into allowing part of their #>lands in becoming nerve-gas and atomic bomb testing grounds...) is far from #>being trusted or righteous.  Have things really changed for the better?  I #>may be a born cynic, but I have NO reason whatsoever that such has been the #>case. In the early 1980s, I believe, the late President Kimball (lds church #>leader) strongly protested federal attempts to locate the MX-\\\"Peace Keeper\\\" #>missile maze from being built in Utah (yet another \\\"inspired\\\" decision from #secular authorities).  Fortunately, his opposition was influential enough #for the feds to back off. # #Do you mean that the \\\"secular authorities\\\" are some continuous group of #people with the common and uninterrupted goal of harrassing/eradicating the #Mormons?  Do you honestly believe that the main reason for using Utah for #nuclear testing etc.. was to \\\"get them thar Mormons\\\"?  And what about the #majority of Uthan's who aren't Mormons?  You seem to be searching for enemy  ^^^^^^^^ (Correction: the majority of Utahn's ARE Mormon (60-70% I believe, up to a  100% in many cities and settlements throughout the Western states.)  #conspiracies.  It is paranoid to believe that everything that affects you #badly must have been done primarily for that purpose.  What I mean is that secular authorities are to be watched, as we believe that Satan has been given some power and dominion over the earth to divert truth, judgment, and justice.  In addition, we believe that the adversary has power to influence the unjust and idolatrous (greed for money would be a good example) in order to bring about persecution, war, oppression, and evil combinations.  As an intelligent being, don't you suppose that the destroyer would yield his influence foremost on those with political power?  As far as Utah is concerned, what I pointed out were some horrible examples of environmental nightmares imposed upon by secular authorities, which have brought death, disease, (i.e. the \\\"downwinders\\\") and environmental contami- nation.  I am hardly \\\"paranoid,\\\" I am just not \\\"expecting\\\" too much from a secular government that may not share our values and faith, and which indeed (as Gov. Boggs et al.) may be out to harm and destroy us.  As a matter of fact, prophecies in my church indicate that in future years, (global) persecution against Mormons will so increase in intensity and scope, that (paraphrasing) \\\"all those who wish to escape persecution and murder must flee to Zion.\\\"  Zion (the \\\"pure in heart\\\") will be re-established in those days, and it AIN'T our current secular authorities who will rule over it...  #>...  David Koresh did NOT pose a great #>threat to the federal authorities or the security of this nation, and with #>John, I too wonder who or what's next... # #I personally feel that we should try to stop anyone who is a threat to the #life of even one person.  Sure, he did not pose a threat to the security of #this nation.  But he did pose a threat to the lives of his followers.  That #much is definite.  Hmmm.  \\\"definite\\\" by whom?  --Until such has been established beyond reason- able doubt, this alleged \\\"threat\\\" may have been less than the \\\"threat\\\" imposed upon him and his followers by the BATF and FBI...  #>Who killed who?  What constitutional right did the ATF officers have to #>invade upon private land and to force themselves into the compound? #>What REALLY caused the \\\"murder\\\" of the little children?  Could it be that #>the ATF/FBI presence has any bearing upon the events?  How would you #>interpret the Mt. Masada events?  --Blame the Jews?  (What the heck did #>the Romans do there anyway?  What business did the ATF/FBI has in Waco, #>Texas???)  The Branch Davidians NEVER posed any threat to society. # #This is like asking who REALLY caused the deaths of the Israeli Olympic #team in 1976?  In that case, the police botched the job as well.  But to #lay a heavier burden on them than the terrorists would be a terrible #mistake.  I think the same sort of reasoning applies in this case. #Certainly, if David Koresh chose any peaceful option, the ATF and FBI #would have complied.  The responsibility is more his than the authorities.  Come now, at issue is in how much the authorities escalated an otherwise peaceful stand-off: \\\"let's get it over with, and \\\"force\\\" David Koresh to come out???\\\"  --By gassing them???  Were they naive, or what?  They played right into the hands of an apocalyptic-thinking individual (he had prepared his people for this eventuality for years), and not *one* firetruck or plan was in place to deal with this scenario???  I feel that the authorities had \\\"some\\\" responsibility to protect their own citizens, even if they were religious zealots, and guilty of ... not paying a $200 gun license??? (Has the BATF become an extension of the local tax-collectors?)  #>David Koresh, no doubt, will be described as the \\\"evil\\\" guy (by the #>executioners), while the actions of all those \\\"valiant and brave\\\" officers # #Characterizing the ATF/FBI as executioners is inaccurate and unfair.  In #order to be an executioner, the least one must have done is have the intent #to kill.  Que?? --Intrusion into private property with semi's, loaded with life ammunition, isn't that implicit \\\"intent (or at least \\\"prepared\\\") to kill\\\"? I ask you, would the BATF warrant stand up in a civil court of justice? I do not mind if criminals (such as dangerous drug lords) are brought to justice, but escalating events to the point of allowing to, if not compli- city with, the destruction of a people?  #-- #*Isaac Kuo (isaackuo@math.berkeley.edu)                   *        _____ #*\\\"How lucky you English are to find the toilet so amusing.* ______//_o_\\\\\\\\__ #* For us, it is a mundane and functional item.  For you,  *(==(/___________ #* the basis of an entire culture!\\\" Manfred von Richtofen  * \\\\==\\\\/         \\\\ \",\" As a general rule, no relay will cleanly switch audio if you try to tranfer the circuit with the contacts.  The noise you hear is due to the momentary opening and closing of the path.  The noiseless way of transfering audio is to ground the circuit.  In high impedance audio circuits a resistive \\\"T\\\" is constructed close to characteristic impedance of the circuit.  Grounding the imputs (connected to the T) transfers the audio.  In low impedance circuits transformers are usually used, and the inputs are shorted out or grounded.  Secondaries are paralleled at the characteristic impedance.  Sometimes if it is necessary to actually switch audio, a second contact is used to momentarily short the circuit output for the duration of the switching time.  Telephone relays are handy, because contacts can be adjusted to \\\"Make before break and Vica Versa\\\" but I haven't seen any of these for years.  Nowadys switching is done electronically with OP amps, etc.  A novel circuit I used to build was a primitive \\\"optical isolator\\\".. It consists of a resistive photocell and a lamp, all packaged in a tube.  When the lamp is off the cell is high resistance.  Turn the lamp on and the resistance lowers passing the audio.  Once again this device in a \\\"T\\\" switches the audio.  Varying the lamp resistance give a remote volume control.  Use 2 variable resisters and you have a mixer!  Lots of luck! --  73, Tom ================================================================================ Tom Wagner, Audio Visual Technician.  Malaspina College Nanaimo British Columbia (604)753-3245, Loc 2230  Fax:755-8742  Callsign:VE7GDA Weapon:.45 Kentucky Rifle Snail mail to:  Site Q4, C2.   RR#4, Nanaimo, British Columbia, Canada, V9R 5X9  \",\"Dear Netters:  A new religious newsgroup \\\"soc.religion.islam.ahmadiyya\\\" was pro- posed  on  Oct  16,  1992. The discussion about this new proposed newsgroup went on in various related groups.  The  proposal,  was supposed to enter a vote during the last week of November 92. Due to a false Call For Votes, by some opponent, the voting had to be canceled.  I  quote  here  a  statement  from  the  moderator  of new.announce.newgroups:   \\\"The current Call For Votes (CFV) for an Ahmadiyya newsgroup  is being canceled. A new call for votes will be issued within  a few weeks, possibly with a new impartial vote  taker.  Discus-  sion on the proposal is still open until the new vote is called...\\\"                                 -- by Lawrence, Nov 20, 1992.   A lot of confusion arose among the netter as  to  whom  to  vote. Therefore  it was decided to give a cool down period, so that all confusions are over. It has been over 4 months  of  that  instant and now we are again attempting to create this newsgroup. A fresh RFD is hereby being issued. Please! take part in  the  discussion under the same  title heading  and in  \\\"news.groups\\\"  or at least cross-post it to \\\"news.groups\\\".   ****************************************************************                  REQUEST  FOR  DISCUSSION  ****************************************************************    NAME OF PROPOSED NEWSGROUP:  ==========================       soc.religion.islam.ahmadiyya   CHARTER:  =======       A religious newsgroup, which would mainly  discuss  the  be- liefs,  teachings,  philosophy  and ideologies of all major reli- gions of the world as  they  exist  to  foster  better  religious knowledge  and  understanding among followers of all religions as they share common basis. This newsgroup will be devoted to  build a  peaceful  mutual  understanding  of  the  Ahmadiyya  branch of Islam, its peacefull beliefs, ideology and philosophy and how  it is  different  from  other  branches  of Islam in fostering world peace and developing better understanding among religious people. It may also be used to post important religious events within the World Wide Ahmadiyya Islamic Community in general.   PURPOSE OF THE GROUP:  ====================       The following are some of the main purposes this group will      achieve:       i)   To discuss the common beliefs of all major religions as           they relate to Ahmadiyya Muslim Community.       ii)  To discuss the doctrines, origin and teachings  of this           puissant spiritual force on earth.       iii) To examine Islamic teachings and beliefs in general  in           light  of the Quran  and established Islamic traditions           of 15 centuries from Ahmadiyya perspective.       iv)  To discuss the similarities  between Ahmadi Muslims and           people of other Religions  of the world and discuss how           religious tolerance  and respect to other's  faiths can           be brought about to  eliminate inter-religion rivalries           and hatred among people of religions.        v)   To discuss the origin and teachings of all religions in           general and Islamic and Ahmadiyya Muslims in particular           to foster better understanding among Ahmadi Muslims and           other religious people.       vi)  To discuss current world problems and solution to these           problems as offered by religion.       vii) To exchange important news and views about the Ahmadiyya           Muslim Community and other Religions.       viii)To add diversity in the religious newsgroups present           on Usenet.       ix)  To discuss why  religious persecution is on the rise  in           the world  and find  solutions to remedy the ever deter-           iorating  situation  in the  world in general and in the            Islamic world in particular.       x)   To discuss the contributions of founders of  all  reli-           gions and their  people for humanity, society and world            peace in general and by the International Ahmadiyya Mus           -lim Community in particular.   TYPE:  ====  The group will be MODERATED for orderly and free religious dialo- gue.   The moderation will NOT prevent disagreement or dissent to beliefs, but will mainly be used  to  prevent  derogatory/squalid use  of  dialect  and irrelevant issues. The moderators have been decided through personal e-mail and through a  general  consensus among  the proponants by discussion in news.groups. The following moderators have been proposed and agreed upon:  Moderator:     Nabeel A. Rana  (rana@rintintin.colorado.edu)   Co-Moderator:  Dr. Tahir Ijaz  (ijaz@ccu.umanitoba.ca)    A BRIEF DESCRIPTION ABOUT AHMADIYYA/ISLAM: =========================================           The Ahmadiyya Movement in Islam, an international organi- sation, was founder in 1989 in Qadian, India. The founder of this sect, Hazrat Mirza Ghulam Ahmad (1835-1908), proclaimed to be the Promised Reformer of this age as foretold in almost all the major religions of the world today (Islam, Christianity, Judiasm,  Hin- duism).  He  claimed  to  be  the  long awaited second comming of Jesus Christ (metaphorically), the Muslim Mahdi, and the Promised Messiah.  He  claimed that the prophecies contained in almost all the great religions of the world about the advent of a  messenger from God have been fulfilled.          The claims Hazrat Ahmad raised storms  of  hostility  and extreme  oposition from many priestlike people of Muslims, Chris- tians, Jews and Hindus of that age. Such opposition is often wit- nessed  in  the history of divine reformers. Even today this sect is being persecuted specially in  some  of  the  Muslim  regimes. Dispite  the  opposition  and persecution, this sect has won many adherents in 130 countries. It has over 10 million followers, who come from a diverse ethnic and cultural background.          The sect is devoted to world peace and in bringing  about a better understanding of religion, and the founders of all reli- gions. Its mission is to unite mankind into one Universal  broth- erhood  and  develop  a  better  understanding  of  faith. Ahmadi Muslims have always been opposed to all kind of violence and spe- cially religious intollerance and fundamentalism.          Among its many philanthropic activities, the sect has es- tablished  a network of hundreds of schools, hospitals, and clin- ics in many third world countries. These institutions are staffed by  volunteer  professional  and are fully financed by the sect's internal resources.          The Ahmadiyya mission is to bring about a universal moral reform,  establish  peace and justice, and to unite mankind under one universal religion.   NEWSGROUP CREATION:  ==================\",\"# So the Blue PRess suggests that we bankrupt HCI by requesting information # and the concern by list members is that HCI will claim everyone that calls # as a new member.  I think they will. I also think they will claim a new # MANDATE to ban all firearms from the solar system wheter we call and ask for # information or not! #  # On the other hand, with due respect to the Editor of the Blue PRess, just # becaue Mike makes damned good presses, dies, powder scales, and got tired of # Lee's atacks DOES NOT MEAN THAT EVERY DILLON FAN FOLLOWS WHAT MIKE CALLS FOR # LIKE HE WAS KARESH AND WE WERE TRANSDILLIDIANS!  #  # Our local State Assemblyman has called for a complete ban on all non-bolt # action military rifles and all assault weapons, a 7 day wait for purchase # permits { it currently takes 10 to 14 working days here in NC } and one # permit/year. The flood of calls he got was 7 for and 3 against. Guess who # called supporting his move? Guess what ILA is doing? Right? #  # CHL #    \",\"Has anyone connected a high-res, fixed frequency monitor to their PC? I have a mitubishi monitor that does 1024x768 at 60hz, but won't do any other resolutions.  All the video cards designed for this sort of thing are very expensive (>$400).  Has anyone done it with an SVGA card (I know it can be done, it's just a question of getting the card at the right resolution and frequency)?  I'd like to use a mono (hercules) monitor as my dos/command line monitor, and switch to the mitsu for Windows or X-windows (under Linux or 3BSD).  Any suggestions would be greatly appreciated.  E-mail, please.  Thanks, \",\"I want to achieve an overall throughput rate of around 5 megabytes / sec for very large data transfers.  (Around 5 MB.)  I have a Quadra 950.  I have a NuBus network card that can pump data in to mac memory at 8.5 MB/s.          (using block-mode transfers) I have a high-speed disk array (no asynchronous PB calls) that can          achieve 6.8 MB/s.  Let's say all transfers go from disk to buffer to network card.  It is not enough to first transfer all the data from the disk to buffer, then transfer all the data from the buffer to card.  (6.8 MB/s then 8.5 MB/s result in an overall 3.8 MB/s.  Too slow!)  So I tried the following scheme: For an n-megabyte transfer,   Step 1:                                Load the 1st MB from disk to buffer. Step 2: Asynch send 1st MB out card,   Load the 2nd MB from disk to buffer. Step 3: Asynch send 2nd MB out card,   Load the 3rd MB from disk to buffer.         ... Step n: Asynch send the n-1 MB out card, Load the nth MB from disk to buffer. Step n+1: Send the nth MB out card.  Even though the code apparently does execute the card transfer asynchronously, and the card does not use the Mac cpu at all,  (It is using the buffer, tho') each of the steps 2 through n take as long as if the two transfers were executed one after another.  So there is no improvement in the rate.  Why?  Is the mac RAM dual-port?  (So the NuBus card and the disk driver can both access data at the same time.) Is the problem that the two devices, card and disk driver, both have to use the same bus to mac RAM?  Is there anything I can do?\",\"Have anybody succeded in converting a atari monomchrome monitor into a mono VGA monitor. If so please let me know exactly how you did and what graphics card you used.   /Thanx\",\"Hell, the Orioles' Opening Day game could easily be the largest in history if we had a stadium with 80,000 seats. But unfortunely the Yards (a definitely excellent ballpark) only holds like 45,000 with 275 SRO spots. Ticket sales for the entire year is moving fast. Bleacher seats are almost gone for every game this year. It's a extremely likelyhood that the O's could sell out every game this year (especially if we lead the division for most of the year like '89).   On another front, the sale of the Orioles to anyone is likely to be forced upon Eli Jacobs who is major debt apparently. Maybe we can get an owner willing to spend on a proven rightfielder free agent in the winter.  Fernando has made the O's as the fifth starter. The O's pitching staff looks pretty good. Sutcliffe, Mussina, McDonald, Rhodes, and Fernando.  Baltimore is my pick for the victors in a very competitive AL East. __________________________________________________________________________ ~~~~~~~~~~~~~~~~~~~~~~~~~~~~~~~~~~~~~~~~~~~~~~~~~~~~~~~~~~~~~~~~~~~~~~~~~~  Second to last day of the season - Gregg (The True Wild Thing) Olson uncorks a wild pitch allowing the Blue Jays to tie. Blue Jays win in the 11th and ends the Baby Birds' miracle season of '89. \"]],[\"SUBSET\",[\"raw\",\"raw\",\"raw\",\"raw\",\"raw\",\"raw\",\"raw\",\"raw\",\"raw\",\"raw\"]],[\"label\",[\"ABSTAIN\",\"ABSTAIN\",\"ABSTAIN\",\"ABSTAIN\",\"ABSTAIN\",\"ABSTAIN\",\"ABSTAIN\",\"ABSTAIN\",\"ABSTAIN\",\"ABSTAIN\"]]]}}},\"view\":{\"type\":\"object\",\"name\":\"CDSView\",\"id\":\"p1053\",\"attributes\":{\"filter\":{\"type\":\"object\",\"name\":\"AllIndices\",\"id\":\"p1054\"}}},\"columns\":[{\"type\":\"object\",\"name\":\"TableColumn\",\"id\":\"p1043\",\"attributes\":{\"field\":\"text\",\"title\":\"text\",\"formatter\":{\"type\":\"object\",\"name\":\"HTMLTemplateFormatter\",\"id\":\"p1042\",\"attributes\":{\"template\":\"<span href=\\\"#\\\" data-toggle=\\\"tooltip\\\" title=\\\"<%= value %>\\\"><%= value %></span>\"}},\"editor\":{\"type\":\"object\",\"name\":\"CellEditor\",\"id\":\"p1041\"}}},{\"type\":\"object\",\"name\":\"TableColumn\",\"id\":\"p1046\",\"attributes\":{\"field\":\"label\",\"title\":\"label\",\"formatter\":{\"type\":\"object\",\"name\":\"StringFormatter\",\"id\":\"p1047\"},\"editor\":{\"type\":\"object\",\"name\":\"StringEditor\",\"id\":\"p1048\"}}}],\"editable\":true,\"selectable\":\"checkbox\"}}]}}]}};\n",
       "  const render_items = [{\"docid\":\"b64ba879-654a-4dd3-b066-b11d82e399cb\",\"roots\":{\"p1058\":\"cf2f7651-8974-4f69-bad3-d782c151357e\"},\"root_ids\":[\"p1058\"]}];\n",
       "  root.Bokeh.embed.embed_items_notebook(docs_json, render_items);\n",
       "  }\n",
       "  if (root.Bokeh !== undefined) {\n",
       "    embed_document(root);\n",
       "  } else {\n",
       "    let attempts = 0;\n",
       "    const timer = setInterval(function(root) {\n",
       "      if (root.Bokeh !== undefined) {\n",
       "        clearInterval(timer);\n",
       "        embed_document(root);\n",
       "      } else {\n",
       "        attempts++;\n",
       "        if (attempts > 100) {\n",
       "          clearInterval(timer);\n",
       "          console.log(\"Bokeh: ERROR: Unable to run BokehJS code because BokehJS library is missing\");\n",
       "        }\n",
       "      }\n",
       "    }, 10, root)\n",
       "  }\n",
       "})(window);"
      ],
      "application/vnd.bokehjs_exec.v0+json": ""
     },
     "metadata": {
      "application/vnd.bokehjs_exec.v0+json": {
       "id": "p1058"
      }
     },
     "output_type": "display_data"
    }
   ],
   "source": [
    "show(column(\n",
    "    row(\n",
    "        dataset.selection_evictor,\n",
    "        dataset.selection_patcher,\n",
    "    ),\n",
    "    dataset.sel_table,\n",
    "), notebook_url=notebook_url)"
   ]
  },
  {
   "cell_type": "markdown",
   "id": "03ce7bf3",
   "metadata": {},
   "source": [
    "<br>"
   ]
  }
 ],
 "metadata": {
  "language_info": {
   "codemirror_mode": {
    "name": "ipython",
    "version": 3
   },
   "file_extension": ".py",
   "mimetype": "text/x-python",
   "name": "python",
   "nbconvert_exporter": "python",
   "pygments_lexer": "ipython3",
   "version": "3.9.18"
  }
 },
 "nbformat": 4,
 "nbformat_minor": 5
}
