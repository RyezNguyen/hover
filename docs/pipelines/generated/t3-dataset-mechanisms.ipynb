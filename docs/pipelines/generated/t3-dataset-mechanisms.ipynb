{
 "cells": [
  {
   "cell_type": "markdown",
   "id": "8f84319d",
   "metadata": {},
   "source": [
    "> `SupervisableDataset` holds your data throughout the labeling process.\n",
    ">\n",
    "> :speedboat: Let's take a look at its core mechanisms.\n",
    "\n",
    "-   <details open><summary>This page addresses **single components** of `hover`</summary>\n",
    "    We are using code snippets to pick out parts of the annotation interface, so that the documentation can explain what they do.\n",
    "\n",
    "    -   Please be aware that this is NOT how one would typically use `hover`.\n",
    "    -   Typical usage deals with [recipes](../../tutorial/t1-active-learning) where the individual parts have been tied together.\n",
    "\n",
    "</details>\n",
    "\n",
    "-   <details open><summary>Dependencies for {== local environments ==}</summary>\n",
    "    When you run the code locally, you may need to install additional packages.\n",
    "\n",
    "    To render `bokeh` plots in Jupyter, you need:\n",
    "```shell\n",
    "    pip install jupyter_bokeh\n",
    "```\n",
    "\n",
    "    If you are using JupyterLab older than 3.0, use this instead ([reference](https://pypi.org/project/jupyter-bokeh/)):\n",
    "```shell\n",
    "    jupyter labextension install @jupyter-widgets/jupyterlab-manager\n",
    "    jupyter labextension install @bokeh/jupyter_bokeh\n",
    "```\n",
    "\n",
    "</details>\n",
    "\n",
    "## **Data Subsets**\n",
    "\n",
    "We place unlabeled data and labeled data in different subsets: \"raw\", \"train\", \"dev\", and \"test\". Unlabeled data start from the \"raw\" subset, and can be transferred to other subsets after it gets labeled.\n",
    "\n",
    "`SupervisableDataset` uses a \"population table\", `dataset.pop_table`, to show the size of each subset:"
   ]
  },
  {
   "cell_type": "code",
   "execution_count": 1,
   "id": "08be3d70",
   "metadata": {
    "execution": {
     "iopub.execute_input": "2022-09-27T02:41:39.786185Z",
     "iopub.status.busy": "2022-09-27T02:41:39.785530Z",
     "iopub.status.idle": "2022-09-27T02:41:41.129606Z",
     "shell.execute_reply": "2022-09-27T02:41:41.128991Z"
    }
   },
   "outputs": [
    {
     "data": {
      "text/html": [
       "<pre style=\"white-space:pre;overflow-x:auto;line-height:normal;font-family:Menlo,'DejaVu Sans Mono',consolas,'Courier New',monospace\"><span style=\"color: #000080; text-decoration-color: #000080\">🔵 SupervisableTextDataset: Initializing</span><span style=\"color: #808000; text-decoration-color: #808000\">...</span>\n",
       "</pre>\n"
      ],
      "text/plain": [
       "\u001b[34m🔵 SupervisableTextDataset: Initializing\u001b[0m\u001b[33m...\u001b[0m\n"
      ]
     },
     "metadata": {},
     "output_type": "display_data"
    },
    {
     "data": {
      "text/html": [
       "<pre style=\"white-space:pre;overflow-x:auto;line-height:normal;font-family:Menlo,'DejaVu Sans Mono',consolas,'Courier New',monospace\"><span style=\"color: #000080; text-decoration-color: #000080\">🔵 SupervisableTextDataset: Deduplicating</span><span style=\"color: #808000; text-decoration-color: #808000\">...</span>\n",
       "</pre>\n"
      ],
      "text/plain": [
       "\u001b[34m🔵 SupervisableTextDataset: Deduplicating\u001b[0m\u001b[33m...\u001b[0m\n"
      ]
     },
     "metadata": {},
     "output_type": "display_data"
    },
    {
     "data": {
      "text/html": [
       "<pre style=\"white-space:pre;overflow-x:auto;line-height:normal;font-family:Menlo,'DejaVu Sans Mono',consolas,'Courier New',monospace\"><span style=\"color: #000080; text-decoration-color: #000080\">🔵 SupervisableTextDataset: --subset raw rows: </span><span style=\"color: #008080; text-decoration-color: #008080; font-weight: bold\">400</span><span style=\"color: #000080; text-decoration-color: #000080\"> -&gt; </span><span style=\"color: #008080; text-decoration-color: #008080; font-weight: bold\">372</span><span style=\"color: #000080; text-decoration-color: #000080\">.</span>\n",
       "</pre>\n"
      ],
      "text/plain": [
       "\u001b[34m🔵 SupervisableTextDataset: --subset raw rows: \u001b[0m\u001b[1;36m400\u001b[0m\u001b[34m -> \u001b[0m\u001b[1;36m372\u001b[0m\u001b[34m.\u001b[0m\n"
      ]
     },
     "metadata": {},
     "output_type": "display_data"
    },
    {
     "data": {
      "text/html": [
       "<pre style=\"white-space:pre;overflow-x:auto;line-height:normal;font-family:Menlo,'DejaVu Sans Mono',consolas,'Courier New',monospace\"><span style=\"color: #000080; text-decoration-color: #000080\">🔵 SupervisableTextDataset: --subset train rows: </span><span style=\"color: #008080; text-decoration-color: #008080; font-weight: bold\">400</span><span style=\"color: #000080; text-decoration-color: #000080\"> -&gt; </span><span style=\"color: #008080; text-decoration-color: #008080; font-weight: bold\">383</span><span style=\"color: #000080; text-decoration-color: #000080\">.</span>\n",
       "</pre>\n"
      ],
      "text/plain": [
       "\u001b[34m🔵 SupervisableTextDataset: --subset train rows: \u001b[0m\u001b[1;36m400\u001b[0m\u001b[34m -> \u001b[0m\u001b[1;36m383\u001b[0m\u001b[34m.\u001b[0m\n"
      ]
     },
     "metadata": {},
     "output_type": "display_data"
    },
    {
     "data": {
      "text/html": [
       "<pre style=\"white-space:pre;overflow-x:auto;line-height:normal;font-family:Menlo,'DejaVu Sans Mono',consolas,'Courier New',monospace\"><span style=\"color: #000080; text-decoration-color: #000080\">🔵 SupervisableTextDataset: --subset dev rows: </span><span style=\"color: #008080; text-decoration-color: #008080; font-weight: bold\">100</span><span style=\"color: #000080; text-decoration-color: #000080\"> -&gt; </span><span style=\"color: #008080; text-decoration-color: #008080; font-weight: bold\">95</span><span style=\"color: #000080; text-decoration-color: #000080\">.</span>\n",
       "</pre>\n"
      ],
      "text/plain": [
       "\u001b[34m🔵 SupervisableTextDataset: --subset dev rows: \u001b[0m\u001b[1;36m100\u001b[0m\u001b[34m -> \u001b[0m\u001b[1;36m95\u001b[0m\u001b[34m.\u001b[0m\n"
      ]
     },
     "metadata": {},
     "output_type": "display_data"
    },
    {
     "data": {
      "text/html": [
       "<pre style=\"white-space:pre;overflow-x:auto;line-height:normal;font-family:Menlo,'DejaVu Sans Mono',consolas,'Courier New',monospace\"><span style=\"color: #000080; text-decoration-color: #000080\">🔵 SupervisableTextDataset: --subset test rows: </span><span style=\"color: #008080; text-decoration-color: #008080; font-weight: bold\">100</span><span style=\"color: #000080; text-decoration-color: #000080\"> -&gt; </span><span style=\"color: #008080; text-decoration-color: #008080; font-weight: bold\">99</span><span style=\"color: #000080; text-decoration-color: #000080\">.</span>\n",
       "</pre>\n"
      ],
      "text/plain": [
       "\u001b[34m🔵 SupervisableTextDataset: --subset test rows: \u001b[0m\u001b[1;36m100\u001b[0m\u001b[34m -> \u001b[0m\u001b[1;36m99\u001b[0m\u001b[34m.\u001b[0m\n"
      ]
     },
     "metadata": {},
     "output_type": "display_data"
    },
    {
     "data": {
      "text/html": [
       "<pre style=\"white-space:pre;overflow-x:auto;line-height:normal;font-family:Menlo,'DejaVu Sans Mono',consolas,'Courier New',monospace\"><span style=\"color: #008000; text-decoration-color: #008000\">🟢 SupervisableTextDataset: Set up label encoder/decoder with </span><span style=\"color: #008080; text-decoration-color: #008080; font-weight: bold\">20</span><span style=\"color: #008000; text-decoration-color: #008000\"> classes.</span>\n",
       "</pre>\n"
      ],
      "text/plain": [
       "\u001b[32m🟢 SupervisableTextDataset: Set up label encoder/decoder with \u001b[0m\u001b[1;36m20\u001b[0m\u001b[32m classes.\u001b[0m\n"
      ]
     },
     "metadata": {},
     "output_type": "display_data"
    },
    {
     "data": {
      "text/html": [
       "<pre style=\"white-space:pre;overflow-x:auto;line-height:normal;font-family:Menlo,'DejaVu Sans Mono',consolas,'Courier New',monospace\"><span style=\"color: #008000; text-decoration-color: #008000\">🟢 SupervisableTextDataset: Population updater: latest population with </span><span style=\"color: #008080; text-decoration-color: #008080; font-weight: bold\">20</span><span style=\"color: #008000; text-decoration-color: #008000\"> classes.</span>\n",
       "</pre>\n"
      ],
      "text/plain": [
       "\u001b[32m🟢 SupervisableTextDataset: Population updater: latest population with \u001b[0m\u001b[1;36m20\u001b[0m\u001b[32m classes.\u001b[0m\n"
      ]
     },
     "metadata": {},
     "output_type": "display_data"
    },
    {
     "data": {
      "text/html": [
       "<pre style=\"white-space:pre;overflow-x:auto;line-height:normal;font-family:Menlo,'DejaVu Sans Mono',consolas,'Courier New',monospace\"><span style=\"color: #008000; text-decoration-color: #008000\">🟢 SupervisableTextDataset: SupervisableTextDataset: finished initialization.</span>\n",
       "</pre>\n"
      ],
      "text/plain": [
       "\u001b[32m🟢 SupervisableTextDataset: SupervisableTextDataset: finished initialization.\u001b[0m\n"
      ]
     },
     "metadata": {},
     "output_type": "display_data"
    }
   ],
   "source": [
    "from hover.core.dataset import SupervisableTextDataset\n",
    "import pandas as pd\n",
    "\n",
    "raw_csv_path = \"https://raw.githubusercontent.com/phurwicz/hover-gallery/main/0.5.0/20_newsgroups_raw.csv\"\n",
    "train_csv_path = \"https://raw.githubusercontent.com/phurwicz/hover-gallery/main/0.5.0/20_newsgroups_train.csv\"\n",
    "\n",
    "# for fast, low-memory demonstration purpose, sample the data\n",
    "df_raw = pd.read_csv(raw_csv_path).sample(400)\n",
    "df_raw[\"SUBSET\"] = \"raw\"\n",
    "df_train = pd.read_csv(train_csv_path).sample(400)\n",
    "df_train[\"SUBSET\"] = \"train\"\n",
    "df_dev = pd.read_csv(train_csv_path).sample(100)\n",
    "df_dev[\"SUBSET\"] = \"dev\"\n",
    "df_test = pd.read_csv(train_csv_path).sample(100)\n",
    "df_test[\"SUBSET\"] = \"test\"\n",
    "\n",
    "# build overall dataframe and ensure feature type\n",
    "df = pd.concat([df_raw, df_train, df_dev, df_test])\n",
    "df[\"text\"] = df[\"text\"].astype(str)\n",
    "\n",
    "# this class stores the dataset throught the labeling process\n",
    "dataset = SupervisableTextDataset.from_pandas(df, feature_key=\"text\", label_key=\"label\")"
   ]
  },
  {
   "cell_type": "markdown",
   "id": "52835f8b",
   "metadata": {},
   "source": [
    "<br>"
   ]
  },
  {
   "cell_type": "code",
   "execution_count": 2,
   "id": "7c3acd52",
   "metadata": {
    "execution": {
     "iopub.execute_input": "2022-09-27T02:41:41.133749Z",
     "iopub.status.busy": "2022-09-27T02:41:41.133164Z",
     "iopub.status.idle": "2022-09-27T02:41:41.179962Z",
     "shell.execute_reply": "2022-09-27T02:41:41.179367Z"
    }
   },
   "outputs": [
    {
     "data": {
      "text/html": [
       "<div class=\"bk-root\">\n",
       "        <a href=\"https://bokeh.org\" target=\"_blank\" class=\"bk-logo bk-logo-small bk-logo-notebook\"></a>\n",
       "        <span id=\"1029\">Loading BokehJS ...</span>\n",
       "    </div>\n"
      ]
     },
     "metadata": {},
     "output_type": "display_data"
    },
    {
     "data": {
      "application/javascript": [
       "(function(root) {\n",
       "  function now() {\n",
       "    return new Date();\n",
       "  }\n",
       "\n",
       "  const force = true;\n",
       "\n",
       "  if (typeof root._bokeh_onload_callbacks === \"undefined\" || force === true) {\n",
       "    root._bokeh_onload_callbacks = [];\n",
       "    root._bokeh_is_loading = undefined;\n",
       "  }\n",
       "\n",
       "const JS_MIME_TYPE = 'application/javascript';\n",
       "  const HTML_MIME_TYPE = 'text/html';\n",
       "  const EXEC_MIME_TYPE = 'application/vnd.bokehjs_exec.v0+json';\n",
       "  const CLASS_NAME = 'output_bokeh rendered_html';\n",
       "\n",
       "  /**\n",
       "   * Render data to the DOM node\n",
       "   */\n",
       "  function render(props, node) {\n",
       "    const script = document.createElement(\"script\");\n",
       "    node.appendChild(script);\n",
       "  }\n",
       "\n",
       "  /**\n",
       "   * Handle when an output is cleared or removed\n",
       "   */\n",
       "  function handleClearOutput(event, handle) {\n",
       "    const cell = handle.cell;\n",
       "\n",
       "    const id = cell.output_area._bokeh_element_id;\n",
       "    const server_id = cell.output_area._bokeh_server_id;\n",
       "    // Clean up Bokeh references\n",
       "    if (id != null && id in Bokeh.index) {\n",
       "      Bokeh.index[id].model.document.clear();\n",
       "      delete Bokeh.index[id];\n",
       "    }\n",
       "\n",
       "    if (server_id !== undefined) {\n",
       "      // Clean up Bokeh references\n",
       "      const cmd_clean = \"from bokeh.io.state import curstate; print(curstate().uuid_to_server['\" + server_id + \"'].get_sessions()[0].document.roots[0]._id)\";\n",
       "      cell.notebook.kernel.execute(cmd_clean, {\n",
       "        iopub: {\n",
       "          output: function(msg) {\n",
       "            const id = msg.content.text.trim();\n",
       "            if (id in Bokeh.index) {\n",
       "              Bokeh.index[id].model.document.clear();\n",
       "              delete Bokeh.index[id];\n",
       "            }\n",
       "          }\n",
       "        }\n",
       "      });\n",
       "      // Destroy server and session\n",
       "      const cmd_destroy = \"import bokeh.io.notebook as ion; ion.destroy_server('\" + server_id + \"')\";\n",
       "      cell.notebook.kernel.execute(cmd_destroy);\n",
       "    }\n",
       "  }\n",
       "\n",
       "  /**\n",
       "   * Handle when a new output is added\n",
       "   */\n",
       "  function handleAddOutput(event, handle) {\n",
       "    const output_area = handle.output_area;\n",
       "    const output = handle.output;\n",
       "\n",
       "    // limit handleAddOutput to display_data with EXEC_MIME_TYPE content only\n",
       "    if ((output.output_type != \"display_data\") || (!Object.prototype.hasOwnProperty.call(output.data, EXEC_MIME_TYPE))) {\n",
       "      return\n",
       "    }\n",
       "\n",
       "    const toinsert = output_area.element.find(\".\" + CLASS_NAME.split(' ')[0]);\n",
       "\n",
       "    if (output.metadata[EXEC_MIME_TYPE][\"id\"] !== undefined) {\n",
       "      toinsert[toinsert.length - 1].firstChild.textContent = output.data[JS_MIME_TYPE];\n",
       "      // store reference to embed id on output_area\n",
       "      output_area._bokeh_element_id = output.metadata[EXEC_MIME_TYPE][\"id\"];\n",
       "    }\n",
       "    if (output.metadata[EXEC_MIME_TYPE][\"server_id\"] !== undefined) {\n",
       "      const bk_div = document.createElement(\"div\");\n",
       "      bk_div.innerHTML = output.data[HTML_MIME_TYPE];\n",
       "      const script_attrs = bk_div.children[0].attributes;\n",
       "      for (let i = 0; i < script_attrs.length; i++) {\n",
       "        toinsert[toinsert.length - 1].firstChild.setAttribute(script_attrs[i].name, script_attrs[i].value);\n",
       "        toinsert[toinsert.length - 1].firstChild.textContent = bk_div.children[0].textContent\n",
       "      }\n",
       "      // store reference to server id on output_area\n",
       "      output_area._bokeh_server_id = output.metadata[EXEC_MIME_TYPE][\"server_id\"];\n",
       "    }\n",
       "  }\n",
       "\n",
       "  function register_renderer(events, OutputArea) {\n",
       "\n",
       "    function append_mime(data, metadata, element) {\n",
       "      // create a DOM node to render to\n",
       "      const toinsert = this.create_output_subarea(\n",
       "        metadata,\n",
       "        CLASS_NAME,\n",
       "        EXEC_MIME_TYPE\n",
       "      );\n",
       "      this.keyboard_manager.register_events(toinsert);\n",
       "      // Render to node\n",
       "      const props = {data: data, metadata: metadata[EXEC_MIME_TYPE]};\n",
       "      render(props, toinsert[toinsert.length - 1]);\n",
       "      element.append(toinsert);\n",
       "      return toinsert\n",
       "    }\n",
       "\n",
       "    /* Handle when an output is cleared or removed */\n",
       "    events.on('clear_output.CodeCell', handleClearOutput);\n",
       "    events.on('delete.Cell', handleClearOutput);\n",
       "\n",
       "    /* Handle when a new output is added */\n",
       "    events.on('output_added.OutputArea', handleAddOutput);\n",
       "\n",
       "    /**\n",
       "     * Register the mime type and append_mime function with output_area\n",
       "     */\n",
       "    OutputArea.prototype.register_mime_type(EXEC_MIME_TYPE, append_mime, {\n",
       "      /* Is output safe? */\n",
       "      safe: true,\n",
       "      /* Index of renderer in `output_area.display_order` */\n",
       "      index: 0\n",
       "    });\n",
       "  }\n",
       "\n",
       "  // register the mime type if in Jupyter Notebook environment and previously unregistered\n",
       "  if (root.Jupyter !== undefined) {\n",
       "    const events = require('base/js/events');\n",
       "    const OutputArea = require('notebook/js/outputarea').OutputArea;\n",
       "\n",
       "    if (OutputArea.prototype.mime_types().indexOf(EXEC_MIME_TYPE) == -1) {\n",
       "      register_renderer(events, OutputArea);\n",
       "    }\n",
       "  }\n",
       "  if (typeof (root._bokeh_timeout) === \"undefined\" || force === true) {\n",
       "    root._bokeh_timeout = Date.now() + 5000;\n",
       "    root._bokeh_failed_load = false;\n",
       "  }\n",
       "\n",
       "  const NB_LOAD_WARNING = {'data': {'text/html':\n",
       "     \"<div style='background-color: #fdd'>\\n\"+\n",
       "     \"<p>\\n\"+\n",
       "     \"BokehJS does not appear to have successfully loaded. If loading BokehJS from CDN, this \\n\"+\n",
       "     \"may be due to a slow or bad network connection. Possible fixes:\\n\"+\n",
       "     \"</p>\\n\"+\n",
       "     \"<ul>\\n\"+\n",
       "     \"<li>re-rerun `output_notebook()` to attempt to load from CDN again, or</li>\\n\"+\n",
       "     \"<li>use INLINE resources instead, as so:</li>\\n\"+\n",
       "     \"</ul>\\n\"+\n",
       "     \"<code>\\n\"+\n",
       "     \"from bokeh.resources import INLINE\\n\"+\n",
       "     \"output_notebook(resources=INLINE)\\n\"+\n",
       "     \"</code>\\n\"+\n",
       "     \"</div>\"}};\n",
       "\n",
       "  function display_loaded() {\n",
       "    const el = document.getElementById(\"1029\");\n",
       "    if (el != null) {\n",
       "      el.textContent = \"BokehJS is loading...\";\n",
       "    }\n",
       "    if (root.Bokeh !== undefined) {\n",
       "      if (el != null) {\n",
       "        el.textContent = \"BokehJS \" + root.Bokeh.version + \" successfully loaded.\";\n",
       "      }\n",
       "    } else if (Date.now() < root._bokeh_timeout) {\n",
       "      setTimeout(display_loaded, 100)\n",
       "    }\n",
       "  }\n",
       "\n",
       "  function run_callbacks() {\n",
       "    try {\n",
       "      root._bokeh_onload_callbacks.forEach(function(callback) {\n",
       "        if (callback != null)\n",
       "          callback();\n",
       "      });\n",
       "    } finally {\n",
       "      delete root._bokeh_onload_callbacks\n",
       "    }\n",
       "    console.debug(\"Bokeh: all callbacks have finished\");\n",
       "  }\n",
       "\n",
       "  function load_libs(css_urls, js_urls, callback) {\n",
       "    if (css_urls == null) css_urls = [];\n",
       "    if (js_urls == null) js_urls = [];\n",
       "\n",
       "    root._bokeh_onload_callbacks.push(callback);\n",
       "    if (root._bokeh_is_loading > 0) {\n",
       "      console.debug(\"Bokeh: BokehJS is being loaded, scheduling callback at\", now());\n",
       "      return null;\n",
       "    }\n",
       "    if (js_urls == null || js_urls.length === 0) {\n",
       "      run_callbacks();\n",
       "      return null;\n",
       "    }\n",
       "    console.debug(\"Bokeh: BokehJS not loaded, scheduling load and callback at\", now());\n",
       "    root._bokeh_is_loading = css_urls.length + js_urls.length;\n",
       "\n",
       "    function on_load() {\n",
       "      root._bokeh_is_loading--;\n",
       "      if (root._bokeh_is_loading === 0) {\n",
       "        console.debug(\"Bokeh: all BokehJS libraries/stylesheets loaded\");\n",
       "        run_callbacks()\n",
       "      }\n",
       "    }\n",
       "\n",
       "    function on_error(url) {\n",
       "      console.error(\"failed to load \" + url);\n",
       "    }\n",
       "\n",
       "    for (let i = 0; i < css_urls.length; i++) {\n",
       "      const url = css_urls[i];\n",
       "      const element = document.createElement(\"link\");\n",
       "      element.onload = on_load;\n",
       "      element.onerror = on_error.bind(null, url);\n",
       "      element.rel = \"stylesheet\";\n",
       "      element.type = \"text/css\";\n",
       "      element.href = url;\n",
       "      console.debug(\"Bokeh: injecting link tag for BokehJS stylesheet: \", url);\n",
       "      document.body.appendChild(element);\n",
       "    }\n",
       "\n",
       "    for (let i = 0; i < js_urls.length; i++) {\n",
       "      const url = js_urls[i];\n",
       "      const element = document.createElement('script');\n",
       "      element.onload = on_load;\n",
       "      element.onerror = on_error.bind(null, url);\n",
       "      element.async = false;\n",
       "      element.src = url;\n",
       "      console.debug(\"Bokeh: injecting script tag for BokehJS library: \", url);\n",
       "      document.head.appendChild(element);\n",
       "    }\n",
       "  };\n",
       "\n",
       "  function inject_raw_css(css) {\n",
       "    const element = document.createElement(\"style\");\n",
       "    element.appendChild(document.createTextNode(css));\n",
       "    document.body.appendChild(element);\n",
       "  }\n",
       "\n",
       "  const js_urls = [\"https://cdn.bokeh.org/bokeh/release/bokeh-2.4.3.min.js\", \"https://cdn.bokeh.org/bokeh/release/bokeh-gl-2.4.3.min.js\", \"https://cdn.bokeh.org/bokeh/release/bokeh-widgets-2.4.3.min.js\", \"https://cdn.bokeh.org/bokeh/release/bokeh-tables-2.4.3.min.js\", \"https://cdn.bokeh.org/bokeh/release/bokeh-mathjax-2.4.3.min.js\"];\n",
       "  const css_urls = [];\n",
       "\n",
       "  const inline_js = [    function(Bokeh) {\n",
       "      Bokeh.set_log_level(\"info\");\n",
       "    },\n",
       "function(Bokeh) {\n",
       "    }\n",
       "  ];\n",
       "\n",
       "  function run_inline_js() {\n",
       "    if (root.Bokeh !== undefined || force === true) {\n",
       "          for (let i = 0; i < inline_js.length; i++) {\n",
       "      inline_js[i].call(root, root.Bokeh);\n",
       "    }\n",
       "if (force === true) {\n",
       "        display_loaded();\n",
       "      }} else if (Date.now() < root._bokeh_timeout) {\n",
       "      setTimeout(run_inline_js, 100);\n",
       "    } else if (!root._bokeh_failed_load) {\n",
       "      console.log(\"Bokeh: BokehJS failed to load within specified timeout.\");\n",
       "      root._bokeh_failed_load = true;\n",
       "    } else if (force !== true) {\n",
       "      const cell = $(document.getElementById(\"1029\")).parents('.cell').data().cell;\n",
       "      cell.output_area.append_execute_result(NB_LOAD_WARNING)\n",
       "    }\n",
       "  }\n",
       "\n",
       "  if (root._bokeh_is_loading === 0) {\n",
       "    console.debug(\"Bokeh: BokehJS loaded, going straight to plotting\");\n",
       "    run_inline_js();\n",
       "  } else {\n",
       "    load_libs(css_urls, js_urls, function() {\n",
       "      console.debug(\"Bokeh: BokehJS plotting callback run at\", now());\n",
       "      run_inline_js();\n",
       "    });\n",
       "  }\n",
       "}(window));"
      ],
      "application/vnd.bokehjs_load.v0+json": "(function(root) {\n  function now() {\n    return new Date();\n  }\n\n  const force = true;\n\n  if (typeof root._bokeh_onload_callbacks === \"undefined\" || force === true) {\n    root._bokeh_onload_callbacks = [];\n    root._bokeh_is_loading = undefined;\n  }\n\n\n  if (typeof (root._bokeh_timeout) === \"undefined\" || force === true) {\n    root._bokeh_timeout = Date.now() + 5000;\n    root._bokeh_failed_load = false;\n  }\n\n  const NB_LOAD_WARNING = {'data': {'text/html':\n     \"<div style='background-color: #fdd'>\\n\"+\n     \"<p>\\n\"+\n     \"BokehJS does not appear to have successfully loaded. If loading BokehJS from CDN, this \\n\"+\n     \"may be due to a slow or bad network connection. Possible fixes:\\n\"+\n     \"</p>\\n\"+\n     \"<ul>\\n\"+\n     \"<li>re-rerun `output_notebook()` to attempt to load from CDN again, or</li>\\n\"+\n     \"<li>use INLINE resources instead, as so:</li>\\n\"+\n     \"</ul>\\n\"+\n     \"<code>\\n\"+\n     \"from bokeh.resources import INLINE\\n\"+\n     \"output_notebook(resources=INLINE)\\n\"+\n     \"</code>\\n\"+\n     \"</div>\"}};\n\n  function display_loaded() {\n    const el = document.getElementById(\"1029\");\n    if (el != null) {\n      el.textContent = \"BokehJS is loading...\";\n    }\n    if (root.Bokeh !== undefined) {\n      if (el != null) {\n        el.textContent = \"BokehJS \" + root.Bokeh.version + \" successfully loaded.\";\n      }\n    } else if (Date.now() < root._bokeh_timeout) {\n      setTimeout(display_loaded, 100)\n    }\n  }\n\n  function run_callbacks() {\n    try {\n      root._bokeh_onload_callbacks.forEach(function(callback) {\n        if (callback != null)\n          callback();\n      });\n    } finally {\n      delete root._bokeh_onload_callbacks\n    }\n    console.debug(\"Bokeh: all callbacks have finished\");\n  }\n\n  function load_libs(css_urls, js_urls, callback) {\n    if (css_urls == null) css_urls = [];\n    if (js_urls == null) js_urls = [];\n\n    root._bokeh_onload_callbacks.push(callback);\n    if (root._bokeh_is_loading > 0) {\n      console.debug(\"Bokeh: BokehJS is being loaded, scheduling callback at\", now());\n      return null;\n    }\n    if (js_urls == null || js_urls.length === 0) {\n      run_callbacks();\n      return null;\n    }\n    console.debug(\"Bokeh: BokehJS not loaded, scheduling load and callback at\", now());\n    root._bokeh_is_loading = css_urls.length + js_urls.length;\n\n    function on_load() {\n      root._bokeh_is_loading--;\n      if (root._bokeh_is_loading === 0) {\n        console.debug(\"Bokeh: all BokehJS libraries/stylesheets loaded\");\n        run_callbacks()\n      }\n    }\n\n    function on_error(url) {\n      console.error(\"failed to load \" + url);\n    }\n\n    for (let i = 0; i < css_urls.length; i++) {\n      const url = css_urls[i];\n      const element = document.createElement(\"link\");\n      element.onload = on_load;\n      element.onerror = on_error.bind(null, url);\n      element.rel = \"stylesheet\";\n      element.type = \"text/css\";\n      element.href = url;\n      console.debug(\"Bokeh: injecting link tag for BokehJS stylesheet: \", url);\n      document.body.appendChild(element);\n    }\n\n    for (let i = 0; i < js_urls.length; i++) {\n      const url = js_urls[i];\n      const element = document.createElement('script');\n      element.onload = on_load;\n      element.onerror = on_error.bind(null, url);\n      element.async = false;\n      element.src = url;\n      console.debug(\"Bokeh: injecting script tag for BokehJS library: \", url);\n      document.head.appendChild(element);\n    }\n  };\n\n  function inject_raw_css(css) {\n    const element = document.createElement(\"style\");\n    element.appendChild(document.createTextNode(css));\n    document.body.appendChild(element);\n  }\n\n  const js_urls = [\"https://cdn.bokeh.org/bokeh/release/bokeh-2.4.3.min.js\", \"https://cdn.bokeh.org/bokeh/release/bokeh-gl-2.4.3.min.js\", \"https://cdn.bokeh.org/bokeh/release/bokeh-widgets-2.4.3.min.js\", \"https://cdn.bokeh.org/bokeh/release/bokeh-tables-2.4.3.min.js\", \"https://cdn.bokeh.org/bokeh/release/bokeh-mathjax-2.4.3.min.js\"];\n  const css_urls = [];\n\n  const inline_js = [    function(Bokeh) {\n      Bokeh.set_log_level(\"info\");\n    },\nfunction(Bokeh) {\n    }\n  ];\n\n  function run_inline_js() {\n    if (root.Bokeh !== undefined || force === true) {\n          for (let i = 0; i < inline_js.length; i++) {\n      inline_js[i].call(root, root.Bokeh);\n    }\nif (force === true) {\n        display_loaded();\n      }} else if (Date.now() < root._bokeh_timeout) {\n      setTimeout(run_inline_js, 100);\n    } else if (!root._bokeh_failed_load) {\n      console.log(\"Bokeh: BokehJS failed to load within specified timeout.\");\n      root._bokeh_failed_load = true;\n    } else if (force !== true) {\n      const cell = $(document.getElementById(\"1029\")).parents('.cell').data().cell;\n      cell.output_area.append_execute_result(NB_LOAD_WARNING)\n    }\n  }\n\n  if (root._bokeh_is_loading === 0) {\n    console.debug(\"Bokeh: BokehJS loaded, going straight to plotting\");\n    run_inline_js();\n  } else {\n    load_libs(css_urls, js_urls, function() {\n      console.debug(\"Bokeh: BokehJS plotting callback run at\", now());\n      run_inline_js();\n    });\n  }\n}(window));"
     },
     "metadata": {},
     "output_type": "display_data"
    },
    {
     "data": {
      "text/html": [
       "\n",
       "  <div class=\"bk-root\" id=\"412b2cc4-b201-433c-a9dc-059aa1c46ebe\" data-root-id=\"1018\"></div>\n"
      ]
     },
     "metadata": {},
     "output_type": "display_data"
    },
    {
     "data": {
      "application/javascript": [
       "(function(root) {\n",
       "  function embed_document(root) {\n",
       "  const docs_json = {\"f52e76c1-f60e-46c3-bc1c-e3001e916bf4\":{\"defs\":[],\"roots\":{\"references\":[{\"attributes\":{\"columns\":[{\"id\":\"1010\"},{\"id\":\"1011\"},{\"id\":\"1012\"},{\"id\":\"1013\"},{\"id\":\"1014\"},{\"id\":\"1016\"}],\"height_policy\":\"fit\",\"source\":{\"id\":\"1009\"},\"view\":{\"id\":\"1020\"},\"width_policy\":\"fit\"},\"id\":\"1018\",\"type\":\"DataTable\"},{\"attributes\":{\"editor\":{\"id\":\"1039\"},\"field\":\"count_test\",\"formatter\":{\"id\":\"1038\"},\"title\":\"test\"},\"id\":\"1014\",\"type\":\"TableColumn\"},{\"attributes\":{\"source\":{\"id\":\"1009\"}},\"id\":\"1020\",\"type\":\"CDSView\"},{\"attributes\":{},\"id\":\"1030\",\"type\":\"StringFormatter\"},{\"attributes\":{\"template\":\"\\n<p style=\\\"color:<%= value %>;\\\">\\n    <%= \\\"&#9608;&#9608;&#9608;\\\" %>\\n</p>\\n\"},\"id\":\"1015\",\"type\":\"HTMLTemplateFormatter\"},{\"attributes\":{},\"id\":\"1032\",\"type\":\"StringFormatter\"},{\"attributes\":{},\"id\":\"1036\",\"type\":\"StringFormatter\"},{\"attributes\":{},\"id\":\"1037\",\"type\":\"StringEditor\"},{\"attributes\":{\"editor\":{\"id\":\"1037\"},\"field\":\"count_dev\",\"formatter\":{\"id\":\"1036\"},\"title\":\"dev\"},\"id\":\"1013\",\"type\":\"TableColumn\"},{\"attributes\":{},\"id\":\"1038\",\"type\":\"StringFormatter\"},{\"attributes\":{},\"id\":\"1033\",\"type\":\"StringEditor\"},{\"attributes\":{},\"id\":\"1039\",\"type\":\"StringEditor\"},{\"attributes\":{},\"id\":\"1040\",\"type\":\"StringEditor\"},{\"attributes\":{},\"id\":\"1034\",\"type\":\"StringFormatter\"},{\"attributes\":{\"editor\":{\"id\":\"1035\"},\"field\":\"count_train\",\"formatter\":{\"id\":\"1034\"},\"title\":\"train\"},\"id\":\"1012\",\"type\":\"TableColumn\"},{\"attributes\":{},\"id\":\"1041\",\"type\":\"UnionRenderers\"},{\"attributes\":{},\"id\":\"1035\",\"type\":\"StringEditor\"},{\"attributes\":{},\"id\":\"1042\",\"type\":\"Selection\"},{\"attributes\":{\"data\":{\"color\":[\"#dcdcdc\",\"#1f77b4\",\"#aec7e8\",\"#ff7f0e\",\"#ffbb78\",\"#2ca02c\",\"#98df8a\",\"#d62728\",\"#ff9896\",\"#9467bd\",\"#c5b0d5\",\"#8c564b\",\"#c49c94\",\"#e377c2\",\"#f7b6d2\",\"#7f7f7f\",\"#c7c7c7\",\"#bcbd22\",\"#dbdb8d\",\"#17becf\",\"#9edae5\"],\"count_dev\":[0,2,5,4,4,1,6,7,3,3,6,3,4,9,5,5,7,9,4,4,4],\"count_raw\":[372,0,0,0,0,0,0,0,0,0,0,0,0,0,0,0,0,0,0,0,0],\"count_test\":[0,5,3,5,5,5,9,7,4,5,3,5,4,5,7,5,3,4,9,3,3],\"count_train\":[0,15,28,13,24,18,19,18,19,21,20,11,14,22,18,21,22,23,29,15,13],\"label\":[\"ABSTAIN\",\"alt.atheism\",\"comp.graphics\",\"comp.os.ms-windows.misc\",\"comp.sys.ibm.pc.hardware\",\"comp.sys.mac.hardware\",\"comp.windows.x\",\"misc.forsale\",\"rec.autos\",\"rec.motorcycles\",\"rec.sport.baseball\",\"rec.sport.hockey\",\"sci.crypt\",\"sci.electronics\",\"sci.med\",\"sci.space\",\"soc.religion.christian\",\"talk.politics.guns\",\"talk.politics.mideast\",\"talk.politics.misc\",\"talk.religion.misc\"]},\"selected\":{\"id\":\"1042\"},\"selection_policy\":{\"id\":\"1041\"}},\"id\":\"1009\",\"type\":\"ColumnDataSource\"},{\"attributes\":{\"editor\":{\"id\":\"1031\"},\"field\":\"label\",\"formatter\":{\"id\":\"1030\"},\"title\":\"label\"},\"id\":\"1010\",\"type\":\"TableColumn\"},{\"attributes\":{\"editor\":{\"id\":\"1033\"},\"field\":\"count_raw\",\"formatter\":{\"id\":\"1032\"},\"title\":\"raw\"},\"id\":\"1011\",\"type\":\"TableColumn\"},{\"attributes\":{},\"id\":\"1031\",\"type\":\"StringEditor\"},{\"attributes\":{\"editor\":{\"id\":\"1040\"},\"field\":\"color\",\"formatter\":{\"id\":\"1015\"},\"title\":\"color\"},\"id\":\"1016\",\"type\":\"TableColumn\"}],\"root_ids\":[\"1018\"]},\"title\":\"Bokeh Application\",\"version\":\"2.4.3\"}};\n",
       "  const render_items = [{\"docid\":\"f52e76c1-f60e-46c3-bc1c-e3001e916bf4\",\"root_ids\":[\"1018\"],\"roots\":{\"1018\":\"412b2cc4-b201-433c-a9dc-059aa1c46ebe\"}}];\n",
       "  root.Bokeh.embed.embed_items_notebook(docs_json, render_items);\n",
       "  }\n",
       "  if (root.Bokeh !== undefined) {\n",
       "    embed_document(root);\n",
       "  } else {\n",
       "    let attempts = 0;\n",
       "    const timer = setInterval(function(root) {\n",
       "      if (root.Bokeh !== undefined) {\n",
       "        clearInterval(timer);\n",
       "        embed_document(root);\n",
       "      } else {\n",
       "        attempts++;\n",
       "        if (attempts > 100) {\n",
       "          clearInterval(timer);\n",
       "          console.log(\"Bokeh: ERROR: Unable to run BokehJS code because BokehJS library is missing\");\n",
       "        }\n",
       "      }\n",
       "    }, 10, root)\n",
       "  }\n",
       "})(window);"
      ],
      "application/vnd.bokehjs_exec.v0+json": ""
     },
     "metadata": {
      "application/vnd.bokehjs_exec.v0+json": {
       "id": "1018"
      }
     },
     "output_type": "display_data"
    }
   ],
   "source": [
    "from bokeh.io import show, output_notebook\n",
    "\n",
    "output_notebook()\n",
    "\n",
    "# normally your would skip notebook_url or use Jupyter address\n",
    "notebook_url = 'localhost:8888'\n",
    "\n",
    "show(dataset.pop_table, notebook_url=notebook_url)"
   ]
  },
  {
   "cell_type": "markdown",
   "id": "148f8cfd",
   "metadata": {},
   "source": [
    "<br>\n",
    "\n",
    "### **Transfer Data Between Subsets**\n",
    "\n",
    "`COMMIT` and `DEDUP` are the mechanisms that `hover` uses to transfer data between subsets.\n",
    "\n",
    "-   `COMMIT` copies selected points (to be discussed later) to a destination subset\n",
    "    -   labeled-raw-only: `COMMIT` automatically detects which points are in the raw set with a valid label. Other points will not get copied.\n",
    "    -   keep-last: you can commit the same point to the same subset multiple times and the last copy will be kept. This can be useful for revising labels before `DEDUP`.\n",
    "-   `DEDUP` removes duplicates (identified by feature value) across subsets\n",
    "    -   priority rule: test > dev > train > raw, i.e. test set data always gets kept during deduplication\n",
    "\n",
    "-   <details open><summary>FAQ</summary>\n",
    "    <details open><summary>Why does COMMIT only work on the raw subset?</summary>\n",
    "        Most selections will happen through plots, where different subsets are on top of each other. This means selections can contain both unlabeled and labeled points.\n",
    "\n",
    "        Way too often we find ourselves trying to view both the labeled and the unlabeled, but only moving the unlabeled \"raw\" points. So it's handy that COMMIT picks those points only.\n",
    "    </details>\n",
    "\n",
    "</details>\n",
    "\n",
    "These mechanisms correspond to buttons in `hover`'s annotation interface, which you have encountered in the quickstart:"
   ]
  },
  {
   "cell_type": "code",
   "execution_count": 3,
   "id": "408545c6",
   "metadata": {
    "execution": {
     "iopub.execute_input": "2022-09-27T02:41:41.183105Z",
     "iopub.status.busy": "2022-09-27T02:41:41.182862Z",
     "iopub.status.idle": "2022-09-27T02:41:41.209741Z",
     "shell.execute_reply": "2022-09-27T02:41:41.209149Z"
    }
   },
   "outputs": [
    {
     "name": "stderr",
     "output_type": "stream",
     "text": [
      "WARNING:bokeh.embed.util:\n",
      "You are generating standalone HTML/JS output, but trying to use real Python\n",
      "callbacks (i.e. with on_change or on_event). This combination cannot work.\n",
      "\n",
      "Only JavaScript callbacks may be used with standalone output. For more\n",
      "information on JavaScript callbacks with Bokeh, see:\n",
      "\n",
      "    https://docs.bokeh.org/en/latest/docs/user_guide/interaction/callbacks.html\n",
      "\n",
      "Alternatively, to use real Python callbacks, a Bokeh server application may\n",
      "be used. For more information on building and running Bokeh applications, see:\n",
      "\n",
      "    https://docs.bokeh.org/en/latest/docs/user_guide/server.html\n",
      "\n"
     ]
    },
    {
     "data": {
      "text/html": [
       "\n",
       "  <div class=\"bk-root\" id=\"88b3dbfd-ed6c-4060-ab22-248ff5f505cf\" data-root-id=\"1109\"></div>\n"
      ]
     },
     "metadata": {},
     "output_type": "display_data"
    },
    {
     "data": {
      "application/javascript": [
       "(function(root) {\n",
       "  function embed_document(root) {\n",
       "  const docs_json = {\"da23c8a9-3549-4fcf-84e6-b27a54778d01\":{\"defs\":[],\"roots\":{\"references\":[{\"attributes\":{\"children\":[{\"id\":\"1108\"},{\"id\":\"1018\"}]},\"id\":\"1109\",\"type\":\"Column\"},{\"attributes\":{\"editor\":{\"id\":\"1039\"},\"field\":\"count_test\",\"formatter\":{\"id\":\"1038\"},\"title\":\"test\"},\"id\":\"1014\",\"type\":\"TableColumn\"},{\"attributes\":{\"source\":{\"id\":\"1009\"}},\"id\":\"1020\",\"type\":\"CDSView\"},{\"attributes\":{},\"id\":\"1030\",\"type\":\"StringFormatter\"},{\"attributes\":{\"template\":\"\\n<p style=\\\"color:<%= value %>;\\\">\\n    <%= \\\"&#9608;&#9608;&#9608;\\\" %>\\n</p>\\n\"},\"id\":\"1015\",\"type\":\"HTMLTemplateFormatter\"},{\"attributes\":{},\"id\":\"1032\",\"type\":\"StringFormatter\"},{\"attributes\":{},\"id\":\"1036\",\"type\":\"StringFormatter\"},{\"attributes\":{\"button_type\":\"warning\",\"height_policy\":\"fit\",\"icon\":null,\"label\":\"Commit\",\"menu\":[\"train\",\"dev\",\"test\"],\"subscribed_events\":[\"button_click\",\"menu_item_click\"],\"width_policy\":\"min\"},\"id\":\"1002\",\"type\":\"Dropdown\"},{\"attributes\":{},\"id\":\"1037\",\"type\":\"StringEditor\"},{\"attributes\":{\"editor\":{\"id\":\"1037\"},\"field\":\"count_dev\",\"formatter\":{\"id\":\"1036\"},\"title\":\"dev\"},\"id\":\"1013\",\"type\":\"TableColumn\"},{\"attributes\":{},\"id\":\"1038\",\"type\":\"StringFormatter\"},{\"attributes\":{\"button_type\":\"warning\",\"height_policy\":\"fit\",\"icon\":null,\"label\":\"Dedup\",\"subscribed_events\":[\"button_click\"],\"width_policy\":\"min\"},\"id\":\"1003\",\"type\":\"Button\"},{\"attributes\":{},\"id\":\"1033\",\"type\":\"StringEditor\"},{\"attributes\":{},\"id\":\"1039\",\"type\":\"StringEditor\"},{\"attributes\":{},\"id\":\"1040\",\"type\":\"StringEditor\"},{\"attributes\":{},\"id\":\"1034\",\"type\":\"StringFormatter\"},{\"attributes\":{\"editor\":{\"id\":\"1035\"},\"field\":\"count_train\",\"formatter\":{\"id\":\"1034\"},\"title\":\"train\"},\"id\":\"1012\",\"type\":\"TableColumn\"},{\"attributes\":{},\"id\":\"1041\",\"type\":\"UnionRenderers\"},{\"attributes\":{},\"id\":\"1035\",\"type\":\"StringEditor\"},{\"attributes\":{},\"id\":\"1042\",\"type\":\"Selection\"},{\"attributes\":{\"data\":{\"color\":[\"#dcdcdc\",\"#1f77b4\",\"#aec7e8\",\"#ff7f0e\",\"#ffbb78\",\"#2ca02c\",\"#98df8a\",\"#d62728\",\"#ff9896\",\"#9467bd\",\"#c5b0d5\",\"#8c564b\",\"#c49c94\",\"#e377c2\",\"#f7b6d2\",\"#7f7f7f\",\"#c7c7c7\",\"#bcbd22\",\"#dbdb8d\",\"#17becf\",\"#9edae5\"],\"count_dev\":[0,2,5,4,4,1,6,7,3,3,6,3,4,9,5,5,7,9,4,4,4],\"count_raw\":[372,0,0,0,0,0,0,0,0,0,0,0,0,0,0,0,0,0,0,0,0],\"count_test\":[0,5,3,5,5,5,9,7,4,5,3,5,4,5,7,5,3,4,9,3,3],\"count_train\":[0,15,28,13,24,18,19,18,19,21,20,11,14,22,18,21,22,23,29,15,13],\"label\":[\"ABSTAIN\",\"alt.atheism\",\"comp.graphics\",\"comp.os.ms-windows.misc\",\"comp.sys.ibm.pc.hardware\",\"comp.sys.mac.hardware\",\"comp.windows.x\",\"misc.forsale\",\"rec.autos\",\"rec.motorcycles\",\"rec.sport.baseball\",\"rec.sport.hockey\",\"sci.crypt\",\"sci.electronics\",\"sci.med\",\"sci.space\",\"soc.religion.christian\",\"talk.politics.guns\",\"talk.politics.mideast\",\"talk.politics.misc\",\"talk.religion.misc\"]},\"selected\":{\"id\":\"1042\"},\"selection_policy\":{\"id\":\"1041\"}},\"id\":\"1009\",\"type\":\"ColumnDataSource\"},{\"attributes\":{\"children\":[{\"id\":\"1002\"},{\"id\":\"1003\"}]},\"id\":\"1108\",\"type\":\"Row\"},{\"attributes\":{\"columns\":[{\"id\":\"1010\"},{\"id\":\"1011\"},{\"id\":\"1012\"},{\"id\":\"1013\"},{\"id\":\"1014\"},{\"id\":\"1016\"}],\"height_policy\":\"fit\",\"source\":{\"id\":\"1009\"},\"view\":{\"id\":\"1020\"},\"width_policy\":\"fit\"},\"id\":\"1018\",\"type\":\"DataTable\"},{\"attributes\":{\"editor\":{\"id\":\"1031\"},\"field\":\"label\",\"formatter\":{\"id\":\"1030\"},\"title\":\"label\"},\"id\":\"1010\",\"type\":\"TableColumn\"},{\"attributes\":{\"editor\":{\"id\":\"1033\"},\"field\":\"count_raw\",\"formatter\":{\"id\":\"1032\"},\"title\":\"raw\"},\"id\":\"1011\",\"type\":\"TableColumn\"},{\"attributes\":{},\"id\":\"1031\",\"type\":\"StringEditor\"},{\"attributes\":{\"editor\":{\"id\":\"1040\"},\"field\":\"color\",\"formatter\":{\"id\":\"1015\"},\"title\":\"color\"},\"id\":\"1016\",\"type\":\"TableColumn\"}],\"root_ids\":[\"1109\"]},\"title\":\"Bokeh Application\",\"version\":\"2.4.3\"}};\n",
       "  const render_items = [{\"docid\":\"da23c8a9-3549-4fcf-84e6-b27a54778d01\",\"root_ids\":[\"1109\"],\"roots\":{\"1109\":\"88b3dbfd-ed6c-4060-ab22-248ff5f505cf\"}}];\n",
       "  root.Bokeh.embed.embed_items_notebook(docs_json, render_items);\n",
       "  }\n",
       "  if (root.Bokeh !== undefined) {\n",
       "    embed_document(root);\n",
       "  } else {\n",
       "    let attempts = 0;\n",
       "    const timer = setInterval(function(root) {\n",
       "      if (root.Bokeh !== undefined) {\n",
       "        clearInterval(timer);\n",
       "        embed_document(root);\n",
       "      } else {\n",
       "        attempts++;\n",
       "        if (attempts > 100) {\n",
       "          clearInterval(timer);\n",
       "          console.log(\"Bokeh: ERROR: Unable to run BokehJS code because BokehJS library is missing\");\n",
       "        }\n",
       "      }\n",
       "    }, 10, root)\n",
       "  }\n",
       "})(window);"
      ],
      "application/vnd.bokehjs_exec.v0+json": ""
     },
     "metadata": {
      "application/vnd.bokehjs_exec.v0+json": {
       "id": "1109"
      }
     },
     "output_type": "display_data"
    }
   ],
   "source": [
    "from bokeh.layouts import row, column\n",
    "\n",
    "show(column(\n",
    "    row(\n",
    "        dataset.data_committer,\n",
    "        dataset.dedup_trigger,\n",
    "    ),\n",
    "    dataset.pop_table,\n",
    "), notebook_url=notebook_url)"
   ]
  },
  {
   "cell_type": "markdown",
   "id": "7f2791e4",
   "metadata": {},
   "source": [
    "<br>\n",
    "\n",
    "Of course, so far we have nothing to move, because there's no data selected. We shall now discuss selections.\n",
    "\n",
    "## **Selection**\n",
    "\n",
    "`hover` labels data points in bulk, which requires selecting groups of homogeneous data, i.e. semantically similar or going to have the same label. Being able to skim through what you selected gives you confidence about homogeneity.\n",
    "\n",
    "Normally, selection happens through a plot (`explorer`), as we have seen in the quickstart. For the purpose here, we will \"cheat\" and assign the selection programmatically:"
   ]
  },
  {
   "cell_type": "code",
   "execution_count": 4,
   "id": "0e6359ef",
   "metadata": {
    "execution": {
     "iopub.execute_input": "2022-09-27T02:41:41.213077Z",
     "iopub.status.busy": "2022-09-27T02:41:41.212733Z",
     "iopub.status.idle": "2022-09-27T02:41:41.235818Z",
     "shell.execute_reply": "2022-09-27T02:41:41.235228Z"
    }
   },
   "outputs": [
    {
     "data": {
      "text/html": [
       "<pre style=\"white-space:pre;overflow-x:auto;line-height:normal;font-family:Menlo,'DejaVu Sans Mono',consolas,'Courier New',monospace\"><span style=\"color: #008000; text-decoration-color: #008000\">🟢 SupervisableTextDataset: Selection table: latest selection with </span><span style=\"color: #008080; text-decoration-color: #008080; font-weight: bold\">11</span><span style=\"color: #008000; text-decoration-color: #008000\"> entries.</span>\n",
       "</pre>\n"
      ],
      "text/plain": [
       "\u001b[32m🟢 SupervisableTextDataset: Selection table: latest selection with \u001b[0m\u001b[1;36m11\u001b[0m\u001b[32m entries.\u001b[0m\n"
      ]
     },
     "metadata": {},
     "output_type": "display_data"
    },
    {
     "data": {
      "text/html": [
       "\n",
       "  <div class=\"bk-root\" id=\"a837bbde-a13c-4f71-8535-6efb2fb9a79e\" data-root-id=\"1026\"></div>\n"
      ]
     },
     "metadata": {},
     "output_type": "display_data"
    },
    {
     "data": {
      "application/javascript": [
       "(function(root) {\n",
       "  function embed_document(root) {\n",
       "  const docs_json = {\"a46e2d72-b464-4c87-bfd9-2fcd8e9e79dc\":{\"defs\":[],\"roots\":{\"references\":[{\"attributes\":{\"columns\":[{\"id\":\"1023\"},{\"id\":\"1025\"}],\"editable\":true,\"height_policy\":\"fit\",\"selectable\":\"checkbox\",\"source\":{\"id\":\"1021\"},\"view\":{\"id\":\"1028\"},\"width_policy\":\"fit\"},\"id\":\"1026\",\"type\":\"DataTable\"},{\"attributes\":{\"data\":{\"SUBSET\":[\"raw\",\"raw\",\"raw\",\"raw\",\"raw\",\"raw\",\"raw\",\"raw\",\"raw\",\"raw\",\"raw\"],\"label\":[\"ABSTAIN\",\"ABSTAIN\",\"ABSTAIN\",\"ABSTAIN\",\"ABSTAIN\",\"ABSTAIN\",\"ABSTAIN\",\"ABSTAIN\",\"ABSTAIN\",\"ABSTAIN\",\"ABSTAIN\"],\"text\":[\"These utilities all include complete printed manuals and registration cards. I need to get rid of some excess. They're the latest versions. I've priced these programs at less than half the list price and significantly less than the cheapest mail-order price around.   * PC TOOLS FOR DOS 8.0, best-selling utilities collections, includes DOS shell, antivirus program, backup program, disk defragger, memory optimizer, remote communications link, data protection and recovery utilities, appointment book, address book, and more, list $179, sale $80.   * NORTON BACKUP FOR DOS 2.2, supports DOS 6, tape backup systems, and LANS, twice as fast as backup in DOS 6, highly automated and customizable, list $149, sale $65.   * QAPLUS 4.7, top-rated DOS based systems diagnostics program, more comprehensive than anything included in DOS, Windows, or utilities collections, invaluable for determining sources of problems with RAM, video, drives, ports, keyboard, motherboard, joystick, mouse, speaker, and so on, list $159, sale $70.   If you're interested in any of these programs, please phone me at 215-885-7446 (Philadelphia), and I'll save the package for you.\",\"I recently had to move and forgot to update my address to the Orthodox mailing list. Can anyone e-mail me the address for changes and what exactly I have to put in caps, etc? (please send the original subscription address also). Thanks ahead of time! -Ed.\",\" All I know is that the Megadrives worked perfectly on both my Mac Plus and my Powerbook 140.  It was for this reason I assumed the problem had something to do with the Quadra.  Even with the Quadra, they mostly worked OK.  The problem occurred when I ejected a cartridge from a drive: it would start popping up dialog boxes saying \\\"This cartridge must be formatted with Jasmine Driveware\\\" even though there was no cartridge in the drive.\",\" Allen, sometimes I think you're OK.  And sometimes you tend to rashly leap into making statement without thinking them out.   Wanna guess which today?  You'd need to launch HLVs to send up large amounts of stuff.  Do you know  of a private Titan pad?   \",\"  Oh no!  Someone is provided useful information AND mentioned that they made money in the field.  Don't they know that usenet is reserved for uninformed speculation by people trying to sell their personal stuff (from houses to dead pcs) at a huge markup/trying to unload stuff they bought from their company at just under retail, and other \\\"non-commercial\\\" activities.   The net is not \\\"supposed\\\" to be a dumping ground for free ads, but reserving it for tripe doesn't seem to be a significant improvement.   So?  Either they target it well enough to pay for it, in other words, they manage to send it to people who want the stuff (in which case it is junk only for the \\\"rest\\\" and the transaction costs are borne appropriately in this case) or they go bankrupt.  Seems fair to me.   You could hold your breath.  You could kill offending messages as they come onto your machine and refuse to send them any further, but not until you turn blue.  -andy\",\":  : >A stupid question, but what will CView run on and where can I get it? I : >am still in need of a GIF viewer for Linux. (Without X-Windows.) : >Thanks! : >  :  : Ho boy. There is no way in HELL you are going to be able to view GIFs or do : any other graphics in Linux without X windows!  I love Linux because it is : so easy to learn..  You want text?  Okay.   Use Linux. You want text AND : graphics?  Use Linux with X windows.  Simple.  Painless.  REQUIRED to have : X Windows if you want graphics!  This includes fancy word processors like : doc, image viewers like xv, etc. : Ummm, I beg to differ. A kind soul sent me a program called DPG-VIEW that will do exactly what I want, view GIF images under Linux without X-Windows. And, it does support all the way up to 1024x768. The biggest complaint I have is it is painfully SLOW. It takes about 1 minute to display an image. I am use to CSHOW under DOS which takes a split second. Any idea why it is so slow under Linux? Anybody have anything better? Plus, anybody have the docs to DPG-View? Thanks!   \",\"Hi Xperts,  this is a repost (no one responded to my desperate yell 8-( I can't believe there is no XView wizards any more 8-)...  I'm using sliders in my XView apps, usually with editable numeric field. But I seem to have no control over the length of this field. In some apps it appears long enough to keep several characters, in some - it cannot keep even the maximum value set by  PANEL_MAX_VALUE!   As I understand, PANEL_VALUE_DISPLAY_LENGTH, which controls number of characters to be displayed in text items, doesn't work in the case of slider, despite the fact that <panel.h> contains the following bit:   /* Panel_multiline_text_item, Panel_numeric_text_item,   * Panel_slider_item and Panel_text_item attributes   */  PANEL_NOTIFY_LEVEL = PANEL_ATTR(ATTR_ENUM,    152),  PANEL_VALUE_DISPLAY_LENGTH = PANEL_ATTR(ATTR_INT,   182),  which gives a hint that this attribute can be used for sliders. But 1) setting this attribute gives nothing, and 2) xv_get'ting this attribute gives warning: Bad attribute, and returns value 0.  Strange thing is that DEC's port of XView gives plenty of space in a text fields, but not Sun's Xview...  Can someone share his experience in managing sliders in XView with me, and clear this problem?   Any help is very much appreciated.  Yuri\",\"         As a data point from Tennessee, a friend of mine and a police officer essentially recommends that if you can, fade away.  Even if you were perfectly justified you're likely in for a great deal of  hassle.  (A side note, carrying a gun concealed is a misdemeanor.)          It's one of those \\\"by State\\\" things, pretty much.  \",\"     I've had very good results from the SSM2016 from PMI (part of Analogue Devices). They have also now introduced the SSM2017 which looks good on paper, but which I haven't tried yet.  Christopher\",\"    I suppose a foul ball machine (like Brett Butler) is pretty valuable,    but I'd rather watch (and root for) the lower OBP guys who can    actually hit the ball.  And I'd rather watch (and root for) a team that scores lots of runs and wins games.  Of course, I'm rooting for the Rockies and Andres anyway.  But that's for irrational hometown reaons.  I also root for Frank Thomas. :)\",\" I've found this works pretty well on noisy laminated power transformer cores and windings (the 60Hz kind). Likewise, if anybody has tried this on a flyback I'd like to hear about it.  I would suspect it would not be as effective as it was on power transformers as the material wouldn't damp as well--something I suspect would be critical at the frequencies involved (in other words, you want absorption rather than prevention which would be real difficult at 15 KHz).  --  --------------------------------------------------------------------        Dave Medin   Phone: (205) 730-3169 (w)     SSD--Networking    (205) 837-1174 (h)     Intergraph Corp.        M/S GD3004   Internet: dtmedin@catbyte.b30.ingr.com   Huntsville, AL 35894  UUCP:  ...uunet!ingr!b30!catbyte!dtmedin     ******* Everywhere You Look (at least around my office) *******\"]},\"selected\":{\"id\":\"1201\"},\"selection_policy\":{\"id\":\"1231\"}},\"id\":\"1021\",\"type\":\"ColumnDataSource\"},{\"attributes\":{\"editor\":{\"id\":\"1022\"},\"field\":\"text\",\"formatter\":{\"id\":\"1228\"},\"title\":\"text\"},\"id\":\"1023\",\"type\":\"TableColumn\"},{\"attributes\":{\"indices\":[]},\"id\":\"1201\",\"type\":\"Selection\"},{\"attributes\":{},\"id\":\"1022\",\"type\":\"CellEditor\"},{\"attributes\":{\"editor\":{\"id\":\"1230\"},\"field\":\"label\",\"formatter\":{\"id\":\"1229\"},\"title\":\"label\"},\"id\":\"1025\",\"type\":\"TableColumn\"},{\"attributes\":{\"source\":{\"id\":\"1021\"}},\"id\":\"1028\",\"type\":\"CDSView\"},{\"attributes\":{},\"id\":\"1231\",\"type\":\"UnionRenderers\"},{\"attributes\":{},\"id\":\"1230\",\"type\":\"StringEditor\"},{\"attributes\":{},\"id\":\"1228\",\"type\":\"StringFormatter\"},{\"attributes\":{},\"id\":\"1229\",\"type\":\"StringFormatter\"}],\"root_ids\":[\"1026\"]},\"title\":\"Bokeh Application\",\"version\":\"2.4.3\"}};\n",
       "  const render_items = [{\"docid\":\"a46e2d72-b464-4c87-bfd9-2fcd8e9e79dc\",\"root_ids\":[\"1026\"],\"roots\":{\"1026\":\"a837bbde-a13c-4f71-8535-6efb2fb9a79e\"}}];\n",
       "  root.Bokeh.embed.embed_items_notebook(docs_json, render_items);\n",
       "  }\n",
       "  if (root.Bokeh !== undefined) {\n",
       "    embed_document(root);\n",
       "  } else {\n",
       "    let attempts = 0;\n",
       "    const timer = setInterval(function(root) {\n",
       "      if (root.Bokeh !== undefined) {\n",
       "        clearInterval(timer);\n",
       "        embed_document(root);\n",
       "      } else {\n",
       "        attempts++;\n",
       "        if (attempts > 100) {\n",
       "          clearInterval(timer);\n",
       "          console.log(\"Bokeh: ERROR: Unable to run BokehJS code because BokehJS library is missing\");\n",
       "        }\n",
       "      }\n",
       "    }, 10, root)\n",
       "  }\n",
       "})(window);"
      ],
      "application/vnd.bokehjs_exec.v0+json": ""
     },
     "metadata": {
      "application/vnd.bokehjs_exec.v0+json": {
       "id": "1026"
      }
     },
     "output_type": "display_data"
    }
   ],
   "source": [
    "dataset._callback_update_selection(dataset.dfs[\"raw\"].loc[:10])\n",
    "\n",
    "show(dataset.sel_table, notebook_url=notebook_url)"
   ]
  },
  {
   "cell_type": "markdown",
   "id": "1d4dc7f2",
   "metadata": {},
   "source": [
    "<br>\n",
    "\n",
    "### **Edit Data Within a Selection**\n",
    "\n",
    "Often the points selected are not perfectly homogeneous, i.e. some outliers belong to a different label from the selected group overall. It would be helpful to `EVICT` them, and `SupervisableDataset` has a button for it.\n",
    "\n",
    "Sometimes you may also wish to edit data values on the fly.  In hover this is called `PATCH`, and there also is a button for it.\n",
    "\n",
    "-   by default, labels can be edited but feature values cannot.\n",
    "\n",
    "Let's plot the forementioned buttons along with the selection table. Toggle any number of rows in the table, then click the button to `EVICT` or `PATCH` those rows:"
   ]
  },
  {
   "cell_type": "code",
   "execution_count": 5,
   "id": "2ba162d1",
   "metadata": {
    "execution": {
     "iopub.execute_input": "2022-09-27T02:41:41.239023Z",
     "iopub.status.busy": "2022-09-27T02:41:41.238431Z",
     "iopub.status.idle": "2022-09-27T02:41:41.261936Z",
     "shell.execute_reply": "2022-09-27T02:41:41.261357Z"
    }
   },
   "outputs": [
    {
     "name": "stderr",
     "output_type": "stream",
     "text": [
      "WARNING:bokeh.embed.util:\n",
      "You are generating standalone HTML/JS output, but trying to use real Python\n",
      "callbacks (i.e. with on_change or on_event). This combination cannot work.\n",
      "\n",
      "Only JavaScript callbacks may be used with standalone output. For more\n",
      "information on JavaScript callbacks with Bokeh, see:\n",
      "\n",
      "    https://docs.bokeh.org/en/latest/docs/user_guide/interaction/callbacks.html\n",
      "\n",
      "Alternatively, to use real Python callbacks, a Bokeh server application may\n",
      "be used. For more information on building and running Bokeh applications, see:\n",
      "\n",
      "    https://docs.bokeh.org/en/latest/docs/user_guide/server.html\n",
      "\n"
     ]
    },
    {
     "data": {
      "text/html": [
       "\n",
       "  <div class=\"bk-root\" id=\"d6a3b378-0def-43ea-a1a0-0a107b684c3d\" data-root-id=\"1259\"></div>\n"
      ]
     },
     "metadata": {},
     "output_type": "display_data"
    },
    {
     "data": {
      "application/javascript": [
       "(function(root) {\n",
       "  function embed_document(root) {\n",
       "  const docs_json = {\"6c58c9f4-d05f-42ac-9bd5-550a20f38753\":{\"defs\":[],\"roots\":{\"references\":[{\"attributes\":{\"children\":[{\"id\":\"1258\"},{\"id\":\"1026\"}]},\"id\":\"1259\",\"type\":\"Column\"},{\"attributes\":{\"data\":{\"SUBSET\":[\"raw\",\"raw\",\"raw\",\"raw\",\"raw\",\"raw\",\"raw\",\"raw\",\"raw\",\"raw\",\"raw\"],\"label\":[\"ABSTAIN\",\"ABSTAIN\",\"ABSTAIN\",\"ABSTAIN\",\"ABSTAIN\",\"ABSTAIN\",\"ABSTAIN\",\"ABSTAIN\",\"ABSTAIN\",\"ABSTAIN\",\"ABSTAIN\"],\"text\":[\"These utilities all include complete printed manuals and registration cards. I need to get rid of some excess. They're the latest versions. I've priced these programs at less than half the list price and significantly less than the cheapest mail-order price around.   * PC TOOLS FOR DOS 8.0, best-selling utilities collections, includes DOS shell, antivirus program, backup program, disk defragger, memory optimizer, remote communications link, data protection and recovery utilities, appointment book, address book, and more, list $179, sale $80.   * NORTON BACKUP FOR DOS 2.2, supports DOS 6, tape backup systems, and LANS, twice as fast as backup in DOS 6, highly automated and customizable, list $149, sale $65.   * QAPLUS 4.7, top-rated DOS based systems diagnostics program, more comprehensive than anything included in DOS, Windows, or utilities collections, invaluable for determining sources of problems with RAM, video, drives, ports, keyboard, motherboard, joystick, mouse, speaker, and so on, list $159, sale $70.   If you're interested in any of these programs, please phone me at 215-885-7446 (Philadelphia), and I'll save the package for you.\",\"I recently had to move and forgot to update my address to the Orthodox mailing list. Can anyone e-mail me the address for changes and what exactly I have to put in caps, etc? (please send the original subscription address also). Thanks ahead of time! -Ed.\",\" All I know is that the Megadrives worked perfectly on both my Mac Plus and my Powerbook 140.  It was for this reason I assumed the problem had something to do with the Quadra.  Even with the Quadra, they mostly worked OK.  The problem occurred when I ejected a cartridge from a drive: it would start popping up dialog boxes saying \\\"This cartridge must be formatted with Jasmine Driveware\\\" even though there was no cartridge in the drive.\",\" Allen, sometimes I think you're OK.  And sometimes you tend to rashly leap into making statement without thinking them out.   Wanna guess which today?  You'd need to launch HLVs to send up large amounts of stuff.  Do you know  of a private Titan pad?   \",\"  Oh no!  Someone is provided useful information AND mentioned that they made money in the field.  Don't they know that usenet is reserved for uninformed speculation by people trying to sell their personal stuff (from houses to dead pcs) at a huge markup/trying to unload stuff they bought from their company at just under retail, and other \\\"non-commercial\\\" activities.   The net is not \\\"supposed\\\" to be a dumping ground for free ads, but reserving it for tripe doesn't seem to be a significant improvement.   So?  Either they target it well enough to pay for it, in other words, they manage to send it to people who want the stuff (in which case it is junk only for the \\\"rest\\\" and the transaction costs are borne appropriately in this case) or they go bankrupt.  Seems fair to me.   You could hold your breath.  You could kill offending messages as they come onto your machine and refuse to send them any further, but not until you turn blue.  -andy\",\":  : >A stupid question, but what will CView run on and where can I get it? I : >am still in need of a GIF viewer for Linux. (Without X-Windows.) : >Thanks! : >  :  : Ho boy. There is no way in HELL you are going to be able to view GIFs or do : any other graphics in Linux without X windows!  I love Linux because it is : so easy to learn..  You want text?  Okay.   Use Linux. You want text AND : graphics?  Use Linux with X windows.  Simple.  Painless.  REQUIRED to have : X Windows if you want graphics!  This includes fancy word processors like : doc, image viewers like xv, etc. : Ummm, I beg to differ. A kind soul sent me a program called DPG-VIEW that will do exactly what I want, view GIF images under Linux without X-Windows. And, it does support all the way up to 1024x768. The biggest complaint I have is it is painfully SLOW. It takes about 1 minute to display an image. I am use to CSHOW under DOS which takes a split second. Any idea why it is so slow under Linux? Anybody have anything better? Plus, anybody have the docs to DPG-View? Thanks!   \",\"Hi Xperts,  this is a repost (no one responded to my desperate yell 8-( I can't believe there is no XView wizards any more 8-)...  I'm using sliders in my XView apps, usually with editable numeric field. But I seem to have no control over the length of this field. In some apps it appears long enough to keep several characters, in some - it cannot keep even the maximum value set by  PANEL_MAX_VALUE!   As I understand, PANEL_VALUE_DISPLAY_LENGTH, which controls number of characters to be displayed in text items, doesn't work in the case of slider, despite the fact that <panel.h> contains the following bit:   /* Panel_multiline_text_item, Panel_numeric_text_item,   * Panel_slider_item and Panel_text_item attributes   */  PANEL_NOTIFY_LEVEL = PANEL_ATTR(ATTR_ENUM,    152),  PANEL_VALUE_DISPLAY_LENGTH = PANEL_ATTR(ATTR_INT,   182),  which gives a hint that this attribute can be used for sliders. But 1) setting this attribute gives nothing, and 2) xv_get'ting this attribute gives warning: Bad attribute, and returns value 0.  Strange thing is that DEC's port of XView gives plenty of space in a text fields, but not Sun's Xview...  Can someone share his experience in managing sliders in XView with me, and clear this problem?   Any help is very much appreciated.  Yuri\",\"         As a data point from Tennessee, a friend of mine and a police officer essentially recommends that if you can, fade away.  Even if you were perfectly justified you're likely in for a great deal of  hassle.  (A side note, carrying a gun concealed is a misdemeanor.)          It's one of those \\\"by State\\\" things, pretty much.  \",\"     I've had very good results from the SSM2016 from PMI (part of Analogue Devices). They have also now introduced the SSM2017 which looks good on paper, but which I haven't tried yet.  Christopher\",\"    I suppose a foul ball machine (like Brett Butler) is pretty valuable,    but I'd rather watch (and root for) the lower OBP guys who can    actually hit the ball.  And I'd rather watch (and root for) a team that scores lots of runs and wins games.  Of course, I'm rooting for the Rockies and Andres anyway.  But that's for irrational hometown reaons.  I also root for Frank Thomas. :)\",\" I've found this works pretty well on noisy laminated power transformer cores and windings (the 60Hz kind). Likewise, if anybody has tried this on a flyback I'd like to hear about it.  I would suspect it would not be as effective as it was on power transformers as the material wouldn't damp as well--something I suspect would be critical at the frequencies involved (in other words, you want absorption rather than prevention which would be real difficult at 15 KHz).  --  --------------------------------------------------------------------        Dave Medin   Phone: (205) 730-3169 (w)     SSD--Networking    (205) 837-1174 (h)     Intergraph Corp.        M/S GD3004   Internet: dtmedin@catbyte.b30.ingr.com   Huntsville, AL 35894  UUCP:  ...uunet!ingr!b30!catbyte!dtmedin     ******* Everywhere You Look (at least around my office) *******\"]},\"selected\":{\"id\":\"1201\"},\"selection_policy\":{\"id\":\"1231\"}},\"id\":\"1021\",\"type\":\"ColumnDataSource\"},{\"attributes\":{\"editor\":{\"id\":\"1022\"},\"field\":\"text\",\"formatter\":{\"id\":\"1228\"},\"title\":\"text\"},\"id\":\"1023\",\"type\":\"TableColumn\"},{\"attributes\":{\"indices\":[]},\"id\":\"1201\",\"type\":\"Selection\"},{\"attributes\":{},\"id\":\"1022\",\"type\":\"CellEditor\"},{\"attributes\":{\"button_type\":\"primary\",\"height_policy\":\"fit\",\"icon\":null,\"label\":\"Evict Rows from Selection\",\"width_policy\":\"min\"},\"id\":\"1006\",\"type\":\"Button\"},{\"attributes\":{\"editor\":{\"id\":\"1230\"},\"field\":\"label\",\"formatter\":{\"id\":\"1229\"},\"title\":\"label\"},\"id\":\"1025\",\"type\":\"TableColumn\"},{\"attributes\":{\"source\":{\"id\":\"1021\"}},\"id\":\"1028\",\"type\":\"CDSView\"},{\"attributes\":{\"children\":[{\"id\":\"1006\"},{\"id\":\"1005\"}]},\"id\":\"1258\",\"type\":\"Row\"},{\"attributes\":{},\"id\":\"1230\",\"type\":\"StringEditor\"},{\"attributes\":{},\"id\":\"1231\",\"type\":\"UnionRenderers\"},{\"attributes\":{\"button_type\":\"warning\",\"height_policy\":\"fit\",\"icon\":null,\"label\":\"Update Row Values\",\"subscribed_events\":[\"button_click\"],\"width_policy\":\"min\"},\"id\":\"1005\",\"type\":\"Button\"},{\"attributes\":{},\"id\":\"1228\",\"type\":\"StringFormatter\"},{\"attributes\":{},\"id\":\"1229\",\"type\":\"StringFormatter\"},{\"attributes\":{\"columns\":[{\"id\":\"1023\"},{\"id\":\"1025\"}],\"editable\":true,\"height_policy\":\"fit\",\"selectable\":\"checkbox\",\"source\":{\"id\":\"1021\"},\"view\":{\"id\":\"1028\"},\"width_policy\":\"fit\"},\"id\":\"1026\",\"type\":\"DataTable\"}],\"root_ids\":[\"1259\"]},\"title\":\"Bokeh Application\",\"version\":\"2.4.3\"}};\n",
       "  const render_items = [{\"docid\":\"6c58c9f4-d05f-42ac-9bd5-550a20f38753\",\"root_ids\":[\"1259\"],\"roots\":{\"1259\":\"d6a3b378-0def-43ea-a1a0-0a107b684c3d\"}}];\n",
       "  root.Bokeh.embed.embed_items_notebook(docs_json, render_items);\n",
       "  }\n",
       "  if (root.Bokeh !== undefined) {\n",
       "    embed_document(root);\n",
       "  } else {\n",
       "    let attempts = 0;\n",
       "    const timer = setInterval(function(root) {\n",
       "      if (root.Bokeh !== undefined) {\n",
       "        clearInterval(timer);\n",
       "        embed_document(root);\n",
       "      } else {\n",
       "        attempts++;\n",
       "        if (attempts > 100) {\n",
       "          clearInterval(timer);\n",
       "          console.log(\"Bokeh: ERROR: Unable to run BokehJS code because BokehJS library is missing\");\n",
       "        }\n",
       "      }\n",
       "    }, 10, root)\n",
       "  }\n",
       "})(window);"
      ],
      "application/vnd.bokehjs_exec.v0+json": ""
     },
     "metadata": {
      "application/vnd.bokehjs_exec.v0+json": {
       "id": "1259"
      }
     },
     "output_type": "display_data"
    }
   ],
   "source": [
    "show(column(\n",
    "    row(\n",
    "        dataset.selection_evictor,\n",
    "        dataset.selection_patcher,\n",
    "    ),\n",
    "    dataset.sel_table,\n",
    "), notebook_url=notebook_url)"
   ]
  },
  {
   "cell_type": "markdown",
   "id": "fec5c001",
   "metadata": {},
   "source": [
    "<br>"
   ]
  }
 ],
 "metadata": {
  "language_info": {
   "codemirror_mode": {
    "name": "ipython",
    "version": 3
   },
   "file_extension": ".py",
   "mimetype": "text/x-python",
   "name": "python",
   "nbconvert_exporter": "python",
   "pygments_lexer": "ipython3",
   "version": "3.8.14"
  }
 },
 "nbformat": 4,
 "nbformat_minor": 5
}
