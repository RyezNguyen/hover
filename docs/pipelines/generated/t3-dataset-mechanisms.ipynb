{
 "cells": [
  {
   "cell_type": "markdown",
   "id": "9441135e",
   "metadata": {},
   "source": [
    "> `SupervisableDataset` holds your data throughout the labeling process.\n",
    ">\n",
    "> :speedboat: Let's take a look at its core mechanisms.\n",
    "\n",
    "-   <details open><summary>This page addresses **single components** of `hover`</summary>\n",
    "    For illustration, we are using code snippets to pick out specific widgets so that the documentation can explain what they do.\n",
    "\n",
    "    -   Please be aware that you won't need to get the widgets by code in an actual use case.\n",
    "    -   Typical usage deals with [recipes](../../tutorial/t1-active-learning) where the individual parts have been tied together.\n",
    "\n",
    "</details>\n",
    "\n",
    "-   <details open><summary>Dependencies for {== local environments ==}</summary>\n",
    "    When you run the code locally, you may need to install additional packages.\n",
    "\n",
    "    To render `bokeh` plots in Jupyter, you need:\n",
    "```shell\n",
    "    pip install jupyter_bokeh\n",
    "```\n",
    "\n",
    "    If you are using JupyterLab older than 3.0, use this instead ([reference](https://pypi.org/project/jupyter-bokeh/)):\n",
    "```shell\n",
    "    jupyter labextension install @jupyter-widgets/jupyterlab-manager\n",
    "    jupyter labextension install @bokeh/jupyter_bokeh\n",
    "```\n",
    "\n",
    "</details>\n",
    "\n",
    "## **Data Subsets**\n",
    "\n",
    "We place unlabeled data and labeled data in different subsets: \"raw\", \"train\", \"dev\", and \"test\". Unlabeled data start from the \"raw\" subset, and can be transferred to other subsets after it gets labeled.\n",
    "\n",
    "`SupervisableDataset` uses a \"population table\", `dataset.pop_table`, to show the size of each subset:"
   ]
  },
  {
   "cell_type": "code",
   "execution_count": 1,
   "id": "9a342ccb",
   "metadata": {
    "execution": {
     "iopub.execute_input": "2024-03-19T01:24:10.317518Z",
     "iopub.status.busy": "2024-03-19T01:24:10.317314Z",
     "iopub.status.idle": "2024-03-19T01:24:11.706295Z",
     "shell.execute_reply": "2024-03-19T01:24:11.705639Z"
    }
   },
   "outputs": [
    {
     "data": {
      "text/html": [
       "<pre style=\"white-space:pre;overflow-x:auto;line-height:normal;font-family:Menlo,'DejaVu Sans Mono',consolas,'Courier New',monospace\"><span style=\"color: #000080; text-decoration-color: #000080\">🔵 SupervisableTextDataset: Initializing</span><span style=\"color: #808000; text-decoration-color: #808000\">...</span>\n",
       "</pre>\n"
      ],
      "text/plain": [
       "\u001b[34m🔵 SupervisableTextDataset: Initializing\u001b[0m\u001b[33m...\u001b[0m\n"
      ]
     },
     "metadata": {},
     "output_type": "display_data"
    },
    {
     "data": {
      "text/html": [
       "<pre style=\"white-space:pre;overflow-x:auto;line-height:normal;font-family:Menlo,'DejaVu Sans Mono',consolas,'Courier New',monospace\"><span style=\"color: #000080; text-decoration-color: #000080\">🔵 SupervisableTextDataset: Deduplicating</span><span style=\"color: #808000; text-decoration-color: #808000\">...</span>\n",
       "</pre>\n"
      ],
      "text/plain": [
       "\u001b[34m🔵 SupervisableTextDataset: Deduplicating\u001b[0m\u001b[33m...\u001b[0m\n"
      ]
     },
     "metadata": {},
     "output_type": "display_data"
    },
    {
     "data": {
      "text/html": [
       "<pre style=\"white-space:pre;overflow-x:auto;line-height:normal;font-family:Menlo,'DejaVu Sans Mono',consolas,'Courier New',monospace\"><span style=\"color: #000080; text-decoration-color: #000080\">🔵 SupervisableTextDataset: --subset raw rows: </span><span style=\"color: #008080; text-decoration-color: #008080; font-weight: bold\">400</span><span style=\"color: #000080; text-decoration-color: #000080\"> -&gt; </span><span style=\"color: #008080; text-decoration-color: #008080; font-weight: bold\">373</span><span style=\"color: #000080; text-decoration-color: #000080\">.</span>\n",
       "</pre>\n"
      ],
      "text/plain": [
       "\u001b[34m🔵 SupervisableTextDataset: --subset raw rows: \u001b[0m\u001b[1;36m400\u001b[0m\u001b[34m -> \u001b[0m\u001b[1;36m373\u001b[0m\u001b[34m.\u001b[0m\n"
      ]
     },
     "metadata": {},
     "output_type": "display_data"
    },
    {
     "data": {
      "text/html": [
       "<pre style=\"white-space:pre;overflow-x:auto;line-height:normal;font-family:Menlo,'DejaVu Sans Mono',consolas,'Courier New',monospace\"><span style=\"color: #000080; text-decoration-color: #000080\">🔵 SupervisableTextDataset: --subset train rows: </span><span style=\"color: #008080; text-decoration-color: #008080; font-weight: bold\">400</span><span style=\"color: #000080; text-decoration-color: #000080\"> -&gt; </span><span style=\"color: #008080; text-decoration-color: #008080; font-weight: bold\">390</span><span style=\"color: #000080; text-decoration-color: #000080\">.</span>\n",
       "</pre>\n"
      ],
      "text/plain": [
       "\u001b[34m🔵 SupervisableTextDataset: --subset train rows: \u001b[0m\u001b[1;36m400\u001b[0m\u001b[34m -> \u001b[0m\u001b[1;36m390\u001b[0m\u001b[34m.\u001b[0m\n"
      ]
     },
     "metadata": {},
     "output_type": "display_data"
    },
    {
     "data": {
      "text/html": [
       "<pre style=\"white-space:pre;overflow-x:auto;line-height:normal;font-family:Menlo,'DejaVu Sans Mono',consolas,'Courier New',monospace\"><span style=\"color: #000080; text-decoration-color: #000080\">🔵 SupervisableTextDataset: --subset dev rows: </span><span style=\"color: #008080; text-decoration-color: #008080; font-weight: bold\">100</span><span style=\"color: #000080; text-decoration-color: #000080\"> -&gt; </span><span style=\"color: #008080; text-decoration-color: #008080; font-weight: bold\">99</span><span style=\"color: #000080; text-decoration-color: #000080\">.</span>\n",
       "</pre>\n"
      ],
      "text/plain": [
       "\u001b[34m🔵 SupervisableTextDataset: --subset dev rows: \u001b[0m\u001b[1;36m100\u001b[0m\u001b[34m -> \u001b[0m\u001b[1;36m99\u001b[0m\u001b[34m.\u001b[0m\n"
      ]
     },
     "metadata": {},
     "output_type": "display_data"
    },
    {
     "data": {
      "text/html": [
       "<pre style=\"white-space:pre;overflow-x:auto;line-height:normal;font-family:Menlo,'DejaVu Sans Mono',consolas,'Courier New',monospace\"><span style=\"color: #000080; text-decoration-color: #000080\">🔵 SupervisableTextDataset: --subset test rows: </span><span style=\"color: #008080; text-decoration-color: #008080; font-weight: bold\">100</span><span style=\"color: #000080; text-decoration-color: #000080\"> -&gt; </span><span style=\"color: #008080; text-decoration-color: #008080; font-weight: bold\">100</span><span style=\"color: #000080; text-decoration-color: #000080\">.</span>\n",
       "</pre>\n"
      ],
      "text/plain": [
       "\u001b[34m🔵 SupervisableTextDataset: --subset test rows: \u001b[0m\u001b[1;36m100\u001b[0m\u001b[34m -> \u001b[0m\u001b[1;36m100\u001b[0m\u001b[34m.\u001b[0m\n"
      ]
     },
     "metadata": {},
     "output_type": "display_data"
    },
    {
     "data": {
      "text/html": [
       "<pre style=\"white-space:pre;overflow-x:auto;line-height:normal;font-family:Menlo,'DejaVu Sans Mono',consolas,'Courier New',monospace\"><span style=\"color: #008000; text-decoration-color: #008000\">🟢 SupervisableTextDataset: Set up label encoder/decoder with </span><span style=\"color: #008080; text-decoration-color: #008080; font-weight: bold\">20</span><span style=\"color: #008000; text-decoration-color: #008000\"> classes.</span>\n",
       "</pre>\n"
      ],
      "text/plain": [
       "\u001b[32m🟢 SupervisableTextDataset: Set up label encoder/decoder with \u001b[0m\u001b[1;36m20\u001b[0m\u001b[32m classes.\u001b[0m\n"
      ]
     },
     "metadata": {},
     "output_type": "display_data"
    },
    {
     "data": {
      "text/html": [
       "<pre style=\"white-space:pre;overflow-x:auto;line-height:normal;font-family:Menlo,'DejaVu Sans Mono',consolas,'Courier New',monospace\"><span style=\"color: #008000; text-decoration-color: #008000\">🟢 SupervisableTextDataset: Population updater: latest population with </span><span style=\"color: #008080; text-decoration-color: #008080; font-weight: bold\">20</span><span style=\"color: #008000; text-decoration-color: #008000\"> classes.</span>\n",
       "</pre>\n"
      ],
      "text/plain": [
       "\u001b[32m🟢 SupervisableTextDataset: Population updater: latest population with \u001b[0m\u001b[1;36m20\u001b[0m\u001b[32m classes.\u001b[0m\n"
      ]
     },
     "metadata": {},
     "output_type": "display_data"
    },
    {
     "data": {
      "text/html": [
       "<pre style=\"white-space:pre;overflow-x:auto;line-height:normal;font-family:Menlo,'DejaVu Sans Mono',consolas,'Courier New',monospace\"><span style=\"color: #000080; text-decoration-color: #000080\">🔵 SupervisableTextDataset: finished setting up bokeh elements.</span>\n",
       "</pre>\n"
      ],
      "text/plain": [
       "\u001b[34m🔵 SupervisableTextDataset: finished setting up bokeh elements.\u001b[0m\n"
      ]
     },
     "metadata": {},
     "output_type": "display_data"
    },
    {
     "data": {
      "text/html": [
       "<pre style=\"white-space:pre;overflow-x:auto;line-height:normal;font-family:Menlo,'DejaVu Sans Mono',consolas,'Courier New',monospace\"><span style=\"color: #008000; text-decoration-color: #008000\">🟢 SupervisableTextDataset: finished initialization.</span>\n",
       "</pre>\n"
      ],
      "text/plain": [
       "\u001b[32m🟢 SupervisableTextDataset: finished initialization.\u001b[0m\n"
      ]
     },
     "metadata": {},
     "output_type": "display_data"
    }
   ],
   "source": [
    "from hover.core.dataset import SupervisableTextDataset\n",
    "import pandas as pd\n",
    "\n",
    "raw_csv_path = \"https://raw.githubusercontent.com/phurwicz/hover-gallery/main/0.5.0/20_newsgroups_raw.csv\"\n",
    "train_csv_path = \"https://raw.githubusercontent.com/phurwicz/hover-gallery/main/0.5.0/20_newsgroups_train.csv\"\n",
    "\n",
    "# for fast, low-memory demonstration purpose, sample the data\n",
    "df_raw = pd.read_csv(raw_csv_path).sample(400)\n",
    "df_raw[\"SUBSET\"] = \"raw\"\n",
    "df_train = pd.read_csv(train_csv_path).sample(400)\n",
    "df_train[\"SUBSET\"] = \"train\"\n",
    "df_dev = pd.read_csv(train_csv_path).sample(100)\n",
    "df_dev[\"SUBSET\"] = \"dev\"\n",
    "df_test = pd.read_csv(train_csv_path).sample(100)\n",
    "df_test[\"SUBSET\"] = \"test\"\n",
    "\n",
    "# build overall dataframe and ensure feature type\n",
    "df = pd.concat([df_raw, df_train, df_dev, df_test])\n",
    "df[\"text\"] = df[\"text\"].astype(str)\n",
    "\n",
    "# this class stores the dataset throught the labeling process\n",
    "dataset = SupervisableTextDataset.from_pandas(df, feature_key=\"text\", label_key=\"label\")"
   ]
  },
  {
   "cell_type": "markdown",
   "id": "2fe1f1f0",
   "metadata": {},
   "source": [
    "<br>"
   ]
  },
  {
   "cell_type": "code",
   "execution_count": 2,
   "id": "09169997",
   "metadata": {
    "execution": {
     "iopub.execute_input": "2024-03-19T01:24:11.708887Z",
     "iopub.status.busy": "2024-03-19T01:24:11.708649Z",
     "iopub.status.idle": "2024-03-19T01:24:11.763939Z",
     "shell.execute_reply": "2024-03-19T01:24:11.763336Z"
    }
   },
   "outputs": [
    {
     "data": {
      "text/html": [
       "    <style>\n",
       "        .bk-notebook-logo {\n",
       "            display: block;\n",
       "            width: 20px;\n",
       "            height: 20px;\n",
       "            background-image: url(data:image/png;base64,iVBORw0KGgoAAAANSUhEUgAAABQAAAAUCAYAAACNiR0NAAAABHNCSVQICAgIfAhkiAAAAAlwSFlzAAALEgAACxIB0t1+/AAAABx0RVh0U29mdHdhcmUAQWRvYmUgRmlyZXdvcmtzIENTNui8sowAAAOkSURBVDiNjZRtaJVlGMd/1/08zzln5zjP1LWcU9N0NkN8m2CYjpgQYQXqSs0I84OLIC0hkEKoPtiH3gmKoiJDU7QpLgoLjLIQCpEsNJ1vqUOdO7ppbuec5+V+rj4ctwzd8IIbbi6u+8f1539dt3A78eXC7QizUF7gyV1fD1Yqg4JWz84yffhm0qkFqBogB9rM8tZdtwVsPUhWhGcFJngGeWrPzHm5oaMmkfEg1usvLFyc8jLRqDOMru7AyC8saQr7GG7f5fvDeH7Ej8CM66nIF+8yngt6HWaKh7k49Soy9nXurCi1o3qUbS3zWfrYeQDTB/Qj6kX6Ybhw4B+bOYoLKCC9H3Nu/leUTZ1JdRWkkn2ldcCamzrcf47KKXdAJllSlxAOkRgyHsGC/zRday5Qld9DyoM4/q/rUoy/CXh3jzOu3bHUVZeU+DEn8FInkPBFlu3+nW3Nw0mk6vCDiWg8CeJaxEwuHS3+z5RgY+YBR6V1Z1nxSOfoaPa4LASWxxdNp+VWTk7+4vzaou8v8PN+xo+KY2xsw6une2frhw05CTYOmQvsEhjhWjn0bmXPjpE1+kplmmkP3suftwTubK9Vq22qKmrBhpY4jvd5afdRA3wGjFAgcnTK2s4hY0/GPNIb0nErGMCRxWOOX64Z8RAC4oCXdklmEvcL8o0BfkNK4lUg9HTl+oPlQxdNo3Mg4Nv175e/1LDGzZen30MEjRUtmXSfiTVu1kK8W4txyV6BMKlbgk3lMwYCiusNy9fVfvvwMxv8Ynl6vxoByANLTWplvuj/nF9m2+PDtt1eiHPBr1oIfhCChQMBw6Aw0UulqTKZdfVvfG7VcfIqLG9bcldL/+pdWTLxLUy8Qq38heUIjh4XlzZxzQm19lLFlr8vdQ97rjZVOLf8nclzckbcD4wxXMidpX30sFd37Fv/GtwwhzhxGVAprjbg0gCAEeIgwCZyTV2Z1REEW8O4py0wsjeloKoMr6iCY6dP92H6Vw/oTyICIthibxjm/DfN9lVz8IqtqKYLUXfoKVMVQVVJOElGjrnnUt9T9wbgp8AyYKaGlqingHZU/uG2NTZSVqwHQTWkx9hxjkpWDaCg6Ckj5qebgBVbT3V3NNXMSiWSDdGV3hrtzla7J+duwPOToIg42ChPQOQjspnSlp1V+Gjdged7+8UN5CRAV7a5EdFNwCjEaBR27b3W890TE7g24NAP/mMDXRWrGoFPQI9ls/MWO2dWFAar/xcOIImbbpA3zgAAAABJRU5ErkJggg==);\n",
       "        }\n",
       "    </style>\n",
       "    <div>\n",
       "        <a href=\"https://bokeh.org\" target=\"_blank\" class=\"bk-notebook-logo\"></a>\n",
       "        <span id=\"bb051288-7526-4f47-b0ce-645780a011ac\">Loading BokehJS ...</span>\n",
       "    </div>\n"
      ]
     },
     "metadata": {},
     "output_type": "display_data"
    },
    {
     "data": {
      "application/javascript": [
       "'use strict';\n",
       "(function(root) {\n",
       "  function now() {\n",
       "    return new Date();\n",
       "  }\n",
       "\n",
       "  const force = true;\n",
       "\n",
       "  if (typeof root._bokeh_onload_callbacks === \"undefined\" || force === true) {\n",
       "    root._bokeh_onload_callbacks = [];\n",
       "    root._bokeh_is_loading = undefined;\n",
       "  }\n",
       "\n",
       "const JS_MIME_TYPE = 'application/javascript';\n",
       "  const HTML_MIME_TYPE = 'text/html';\n",
       "  const EXEC_MIME_TYPE = 'application/vnd.bokehjs_exec.v0+json';\n",
       "  const CLASS_NAME = 'output_bokeh rendered_html';\n",
       "\n",
       "  /**\n",
       "   * Render data to the DOM node\n",
       "   */\n",
       "  function render(props, node) {\n",
       "    const script = document.createElement(\"script\");\n",
       "    node.appendChild(script);\n",
       "  }\n",
       "\n",
       "  /**\n",
       "   * Handle when an output is cleared or removed\n",
       "   */\n",
       "  function handleClearOutput(event, handle) {\n",
       "    function drop(id) {\n",
       "      const view = Bokeh.index.get_by_id(id)\n",
       "      if (view != null) {\n",
       "        view.model.document.clear()\n",
       "        Bokeh.index.delete(view)\n",
       "      }\n",
       "    }\n",
       "\n",
       "    const cell = handle.cell;\n",
       "\n",
       "    const id = cell.output_area._bokeh_element_id;\n",
       "    const server_id = cell.output_area._bokeh_server_id;\n",
       "\n",
       "    // Clean up Bokeh references\n",
       "    if (id != null) {\n",
       "      drop(id)\n",
       "    }\n",
       "\n",
       "    if (server_id !== undefined) {\n",
       "      // Clean up Bokeh references\n",
       "      const cmd_clean = \"from bokeh.io.state import curstate; print(curstate().uuid_to_server['\" + server_id + \"'].get_sessions()[0].document.roots[0]._id)\";\n",
       "      cell.notebook.kernel.execute(cmd_clean, {\n",
       "        iopub: {\n",
       "          output: function(msg) {\n",
       "            const id = msg.content.text.trim()\n",
       "            drop(id)\n",
       "          }\n",
       "        }\n",
       "      });\n",
       "      // Destroy server and session\n",
       "      const cmd_destroy = \"import bokeh.io.notebook as ion; ion.destroy_server('\" + server_id + \"')\";\n",
       "      cell.notebook.kernel.execute(cmd_destroy);\n",
       "    }\n",
       "  }\n",
       "\n",
       "  /**\n",
       "   * Handle when a new output is added\n",
       "   */\n",
       "  function handleAddOutput(event, handle) {\n",
       "    const output_area = handle.output_area;\n",
       "    const output = handle.output;\n",
       "\n",
       "    // limit handleAddOutput to display_data with EXEC_MIME_TYPE content only\n",
       "    if ((output.output_type != \"display_data\") || (!Object.prototype.hasOwnProperty.call(output.data, EXEC_MIME_TYPE))) {\n",
       "      return\n",
       "    }\n",
       "\n",
       "    const toinsert = output_area.element.find(\".\" + CLASS_NAME.split(' ')[0]);\n",
       "\n",
       "    if (output.metadata[EXEC_MIME_TYPE][\"id\"] !== undefined) {\n",
       "      toinsert[toinsert.length - 1].firstChild.textContent = output.data[JS_MIME_TYPE];\n",
       "      // store reference to embed id on output_area\n",
       "      output_area._bokeh_element_id = output.metadata[EXEC_MIME_TYPE][\"id\"];\n",
       "    }\n",
       "    if (output.metadata[EXEC_MIME_TYPE][\"server_id\"] !== undefined) {\n",
       "      const bk_div = document.createElement(\"div\");\n",
       "      bk_div.innerHTML = output.data[HTML_MIME_TYPE];\n",
       "      const script_attrs = bk_div.children[0].attributes;\n",
       "      for (let i = 0; i < script_attrs.length; i++) {\n",
       "        toinsert[toinsert.length - 1].firstChild.setAttribute(script_attrs[i].name, script_attrs[i].value);\n",
       "        toinsert[toinsert.length - 1].firstChild.textContent = bk_div.children[0].textContent\n",
       "      }\n",
       "      // store reference to server id on output_area\n",
       "      output_area._bokeh_server_id = output.metadata[EXEC_MIME_TYPE][\"server_id\"];\n",
       "    }\n",
       "  }\n",
       "\n",
       "  function register_renderer(events, OutputArea) {\n",
       "\n",
       "    function append_mime(data, metadata, element) {\n",
       "      // create a DOM node to render to\n",
       "      const toinsert = this.create_output_subarea(\n",
       "        metadata,\n",
       "        CLASS_NAME,\n",
       "        EXEC_MIME_TYPE\n",
       "      );\n",
       "      this.keyboard_manager.register_events(toinsert);\n",
       "      // Render to node\n",
       "      const props = {data: data, metadata: metadata[EXEC_MIME_TYPE]};\n",
       "      render(props, toinsert[toinsert.length - 1]);\n",
       "      element.append(toinsert);\n",
       "      return toinsert\n",
       "    }\n",
       "\n",
       "    /* Handle when an output is cleared or removed */\n",
       "    events.on('clear_output.CodeCell', handleClearOutput);\n",
       "    events.on('delete.Cell', handleClearOutput);\n",
       "\n",
       "    /* Handle when a new output is added */\n",
       "    events.on('output_added.OutputArea', handleAddOutput);\n",
       "\n",
       "    /**\n",
       "     * Register the mime type and append_mime function with output_area\n",
       "     */\n",
       "    OutputArea.prototype.register_mime_type(EXEC_MIME_TYPE, append_mime, {\n",
       "      /* Is output safe? */\n",
       "      safe: true,\n",
       "      /* Index of renderer in `output_area.display_order` */\n",
       "      index: 0\n",
       "    });\n",
       "  }\n",
       "\n",
       "  // register the mime type if in Jupyter Notebook environment and previously unregistered\n",
       "  if (root.Jupyter !== undefined) {\n",
       "    const events = require('base/js/events');\n",
       "    const OutputArea = require('notebook/js/outputarea').OutputArea;\n",
       "\n",
       "    if (OutputArea.prototype.mime_types().indexOf(EXEC_MIME_TYPE) == -1) {\n",
       "      register_renderer(events, OutputArea);\n",
       "    }\n",
       "  }\n",
       "  if (typeof (root._bokeh_timeout) === \"undefined\" || force === true) {\n",
       "    root._bokeh_timeout = Date.now() + 5000;\n",
       "    root._bokeh_failed_load = false;\n",
       "  }\n",
       "\n",
       "  const NB_LOAD_WARNING = {'data': {'text/html':\n",
       "     \"<div style='background-color: #fdd'>\\n\"+\n",
       "     \"<p>\\n\"+\n",
       "     \"BokehJS does not appear to have successfully loaded. If loading BokehJS from CDN, this \\n\"+\n",
       "     \"may be due to a slow or bad network connection. Possible fixes:\\n\"+\n",
       "     \"</p>\\n\"+\n",
       "     \"<ul>\\n\"+\n",
       "     \"<li>re-rerun `output_notebook()` to attempt to load from CDN again, or</li>\\n\"+\n",
       "     \"<li>use INLINE resources instead, as so:</li>\\n\"+\n",
       "     \"</ul>\\n\"+\n",
       "     \"<code>\\n\"+\n",
       "     \"from bokeh.resources import INLINE\\n\"+\n",
       "     \"output_notebook(resources=INLINE)\\n\"+\n",
       "     \"</code>\\n\"+\n",
       "     \"</div>\"}};\n",
       "\n",
       "  function display_loaded(error = null) {\n",
       "    const el = document.getElementById(\"bb051288-7526-4f47-b0ce-645780a011ac\");\n",
       "    if (el != null) {\n",
       "      const html = (() => {\n",
       "        if (typeof root.Bokeh === \"undefined\") {\n",
       "          if (error == null) {\n",
       "            return \"BokehJS is loading ...\";\n",
       "          } else {\n",
       "            return \"BokehJS failed to load.\";\n",
       "          }\n",
       "        } else {\n",
       "          const prefix = `BokehJS ${root.Bokeh.version}`;\n",
       "          if (error == null) {\n",
       "            return `${prefix} successfully loaded.`;\n",
       "          } else {\n",
       "            return `${prefix} <b>encountered errors</b> while loading and may not function as expected.`;\n",
       "          }\n",
       "        }\n",
       "      })();\n",
       "      el.innerHTML = html;\n",
       "\n",
       "      if (error != null) {\n",
       "        const wrapper = document.createElement(\"div\");\n",
       "        wrapper.style.overflow = \"auto\";\n",
       "        wrapper.style.height = \"5em\";\n",
       "        wrapper.style.resize = \"vertical\";\n",
       "        const content = document.createElement(\"div\");\n",
       "        content.style.fontFamily = \"monospace\";\n",
       "        content.style.whiteSpace = \"pre-wrap\";\n",
       "        content.style.backgroundColor = \"rgb(255, 221, 221)\";\n",
       "        content.textContent = error.stack ?? error.toString();\n",
       "        wrapper.append(content);\n",
       "        el.append(wrapper);\n",
       "      }\n",
       "    } else if (Date.now() < root._bokeh_timeout) {\n",
       "      setTimeout(() => display_loaded(error), 100);\n",
       "    }\n",
       "  }\n",
       "\n",
       "  function run_callbacks() {\n",
       "    try {\n",
       "      root._bokeh_onload_callbacks.forEach(function(callback) {\n",
       "        if (callback != null)\n",
       "          callback();\n",
       "      });\n",
       "    } finally {\n",
       "      delete root._bokeh_onload_callbacks\n",
       "    }\n",
       "    console.debug(\"Bokeh: all callbacks have finished\");\n",
       "  }\n",
       "\n",
       "  function load_libs(css_urls, js_urls, callback) {\n",
       "    if (css_urls == null) css_urls = [];\n",
       "    if (js_urls == null) js_urls = [];\n",
       "\n",
       "    root._bokeh_onload_callbacks.push(callback);\n",
       "    if (root._bokeh_is_loading > 0) {\n",
       "      console.debug(\"Bokeh: BokehJS is being loaded, scheduling callback at\", now());\n",
       "      return null;\n",
       "    }\n",
       "    if (js_urls == null || js_urls.length === 0) {\n",
       "      run_callbacks();\n",
       "      return null;\n",
       "    }\n",
       "    console.debug(\"Bokeh: BokehJS not loaded, scheduling load and callback at\", now());\n",
       "    root._bokeh_is_loading = css_urls.length + js_urls.length;\n",
       "\n",
       "    function on_load() {\n",
       "      root._bokeh_is_loading--;\n",
       "      if (root._bokeh_is_loading === 0) {\n",
       "        console.debug(\"Bokeh: all BokehJS libraries/stylesheets loaded\");\n",
       "        run_callbacks()\n",
       "      }\n",
       "    }\n",
       "\n",
       "    function on_error(url) {\n",
       "      console.error(\"failed to load \" + url);\n",
       "    }\n",
       "\n",
       "    for (let i = 0; i < css_urls.length; i++) {\n",
       "      const url = css_urls[i];\n",
       "      const element = document.createElement(\"link\");\n",
       "      element.onload = on_load;\n",
       "      element.onerror = on_error.bind(null, url);\n",
       "      element.rel = \"stylesheet\";\n",
       "      element.type = \"text/css\";\n",
       "      element.href = url;\n",
       "      console.debug(\"Bokeh: injecting link tag for BokehJS stylesheet: \", url);\n",
       "      document.body.appendChild(element);\n",
       "    }\n",
       "\n",
       "    for (let i = 0; i < js_urls.length; i++) {\n",
       "      const url = js_urls[i];\n",
       "      const element = document.createElement('script');\n",
       "      element.onload = on_load;\n",
       "      element.onerror = on_error.bind(null, url);\n",
       "      element.async = false;\n",
       "      element.src = url;\n",
       "      console.debug(\"Bokeh: injecting script tag for BokehJS library: \", url);\n",
       "      document.head.appendChild(element);\n",
       "    }\n",
       "  };\n",
       "\n",
       "  function inject_raw_css(css) {\n",
       "    const element = document.createElement(\"style\");\n",
       "    element.appendChild(document.createTextNode(css));\n",
       "    document.body.appendChild(element);\n",
       "  }\n",
       "\n",
       "  const js_urls = [\"https://cdn.bokeh.org/bokeh/release/bokeh-3.4.0.min.js\", \"https://cdn.bokeh.org/bokeh/release/bokeh-gl-3.4.0.min.js\", \"https://cdn.bokeh.org/bokeh/release/bokeh-widgets-3.4.0.min.js\", \"https://cdn.bokeh.org/bokeh/release/bokeh-tables-3.4.0.min.js\", \"https://cdn.bokeh.org/bokeh/release/bokeh-mathjax-3.4.0.min.js\"];\n",
       "  const css_urls = [];\n",
       "\n",
       "  const inline_js = [    function(Bokeh) {\n",
       "      Bokeh.set_log_level(\"info\");\n",
       "    },\n",
       "function(Bokeh) {\n",
       "    }\n",
       "  ];\n",
       "\n",
       "  function run_inline_js() {\n",
       "    if (root.Bokeh !== undefined || force === true) {\n",
       "      try {\n",
       "            for (let i = 0; i < inline_js.length; i++) {\n",
       "      inline_js[i].call(root, root.Bokeh);\n",
       "    }\n",
       "\n",
       "      } catch (error) {display_loaded(error);throw error;\n",
       "      }if (force === true) {\n",
       "        display_loaded();\n",
       "      }} else if (Date.now() < root._bokeh_timeout) {\n",
       "      setTimeout(run_inline_js, 100);\n",
       "    } else if (!root._bokeh_failed_load) {\n",
       "      console.log(\"Bokeh: BokehJS failed to load within specified timeout.\");\n",
       "      root._bokeh_failed_load = true;\n",
       "    } else if (force !== true) {\n",
       "      const cell = $(document.getElementById(\"bb051288-7526-4f47-b0ce-645780a011ac\")).parents('.cell').data().cell;\n",
       "      cell.output_area.append_execute_result(NB_LOAD_WARNING)\n",
       "    }\n",
       "  }\n",
       "\n",
       "  if (root._bokeh_is_loading === 0) {\n",
       "    console.debug(\"Bokeh: BokehJS loaded, going straight to plotting\");\n",
       "    run_inline_js();\n",
       "  } else {\n",
       "    load_libs(css_urls, js_urls, function() {\n",
       "      console.debug(\"Bokeh: BokehJS plotting callback run at\", now());\n",
       "      run_inline_js();\n",
       "    });\n",
       "  }\n",
       "}(window));"
      ],
      "application/vnd.bokehjs_load.v0+json": "'use strict';\n(function(root) {\n  function now() {\n    return new Date();\n  }\n\n  const force = true;\n\n  if (typeof root._bokeh_onload_callbacks === \"undefined\" || force === true) {\n    root._bokeh_onload_callbacks = [];\n    root._bokeh_is_loading = undefined;\n  }\n\n\n  if (typeof (root._bokeh_timeout) === \"undefined\" || force === true) {\n    root._bokeh_timeout = Date.now() + 5000;\n    root._bokeh_failed_load = false;\n  }\n\n  const NB_LOAD_WARNING = {'data': {'text/html':\n     \"<div style='background-color: #fdd'>\\n\"+\n     \"<p>\\n\"+\n     \"BokehJS does not appear to have successfully loaded. If loading BokehJS from CDN, this \\n\"+\n     \"may be due to a slow or bad network connection. Possible fixes:\\n\"+\n     \"</p>\\n\"+\n     \"<ul>\\n\"+\n     \"<li>re-rerun `output_notebook()` to attempt to load from CDN again, or</li>\\n\"+\n     \"<li>use INLINE resources instead, as so:</li>\\n\"+\n     \"</ul>\\n\"+\n     \"<code>\\n\"+\n     \"from bokeh.resources import INLINE\\n\"+\n     \"output_notebook(resources=INLINE)\\n\"+\n     \"</code>\\n\"+\n     \"</div>\"}};\n\n  function display_loaded(error = null) {\n    const el = document.getElementById(\"bb051288-7526-4f47-b0ce-645780a011ac\");\n    if (el != null) {\n      const html = (() => {\n        if (typeof root.Bokeh === \"undefined\") {\n          if (error == null) {\n            return \"BokehJS is loading ...\";\n          } else {\n            return \"BokehJS failed to load.\";\n          }\n        } else {\n          const prefix = `BokehJS ${root.Bokeh.version}`;\n          if (error == null) {\n            return `${prefix} successfully loaded.`;\n          } else {\n            return `${prefix} <b>encountered errors</b> while loading and may not function as expected.`;\n          }\n        }\n      })();\n      el.innerHTML = html;\n\n      if (error != null) {\n        const wrapper = document.createElement(\"div\");\n        wrapper.style.overflow = \"auto\";\n        wrapper.style.height = \"5em\";\n        wrapper.style.resize = \"vertical\";\n        const content = document.createElement(\"div\");\n        content.style.fontFamily = \"monospace\";\n        content.style.whiteSpace = \"pre-wrap\";\n        content.style.backgroundColor = \"rgb(255, 221, 221)\";\n        content.textContent = error.stack ?? error.toString();\n        wrapper.append(content);\n        el.append(wrapper);\n      }\n    } else if (Date.now() < root._bokeh_timeout) {\n      setTimeout(() => display_loaded(error), 100);\n    }\n  }\n\n  function run_callbacks() {\n    try {\n      root._bokeh_onload_callbacks.forEach(function(callback) {\n        if (callback != null)\n          callback();\n      });\n    } finally {\n      delete root._bokeh_onload_callbacks\n    }\n    console.debug(\"Bokeh: all callbacks have finished\");\n  }\n\n  function load_libs(css_urls, js_urls, callback) {\n    if (css_urls == null) css_urls = [];\n    if (js_urls == null) js_urls = [];\n\n    root._bokeh_onload_callbacks.push(callback);\n    if (root._bokeh_is_loading > 0) {\n      console.debug(\"Bokeh: BokehJS is being loaded, scheduling callback at\", now());\n      return null;\n    }\n    if (js_urls == null || js_urls.length === 0) {\n      run_callbacks();\n      return null;\n    }\n    console.debug(\"Bokeh: BokehJS not loaded, scheduling load and callback at\", now());\n    root._bokeh_is_loading = css_urls.length + js_urls.length;\n\n    function on_load() {\n      root._bokeh_is_loading--;\n      if (root._bokeh_is_loading === 0) {\n        console.debug(\"Bokeh: all BokehJS libraries/stylesheets loaded\");\n        run_callbacks()\n      }\n    }\n\n    function on_error(url) {\n      console.error(\"failed to load \" + url);\n    }\n\n    for (let i = 0; i < css_urls.length; i++) {\n      const url = css_urls[i];\n      const element = document.createElement(\"link\");\n      element.onload = on_load;\n      element.onerror = on_error.bind(null, url);\n      element.rel = \"stylesheet\";\n      element.type = \"text/css\";\n      element.href = url;\n      console.debug(\"Bokeh: injecting link tag for BokehJS stylesheet: \", url);\n      document.body.appendChild(element);\n    }\n\n    for (let i = 0; i < js_urls.length; i++) {\n      const url = js_urls[i];\n      const element = document.createElement('script');\n      element.onload = on_load;\n      element.onerror = on_error.bind(null, url);\n      element.async = false;\n      element.src = url;\n      console.debug(\"Bokeh: injecting script tag for BokehJS library: \", url);\n      document.head.appendChild(element);\n    }\n  };\n\n  function inject_raw_css(css) {\n    const element = document.createElement(\"style\");\n    element.appendChild(document.createTextNode(css));\n    document.body.appendChild(element);\n  }\n\n  const js_urls = [\"https://cdn.bokeh.org/bokeh/release/bokeh-3.4.0.min.js\", \"https://cdn.bokeh.org/bokeh/release/bokeh-gl-3.4.0.min.js\", \"https://cdn.bokeh.org/bokeh/release/bokeh-widgets-3.4.0.min.js\", \"https://cdn.bokeh.org/bokeh/release/bokeh-tables-3.4.0.min.js\", \"https://cdn.bokeh.org/bokeh/release/bokeh-mathjax-3.4.0.min.js\"];\n  const css_urls = [];\n\n  const inline_js = [    function(Bokeh) {\n      Bokeh.set_log_level(\"info\");\n    },\nfunction(Bokeh) {\n    }\n  ];\n\n  function run_inline_js() {\n    if (root.Bokeh !== undefined || force === true) {\n      try {\n            for (let i = 0; i < inline_js.length; i++) {\n      inline_js[i].call(root, root.Bokeh);\n    }\n\n      } catch (error) {display_loaded(error);throw error;\n      }if (force === true) {\n        display_loaded();\n      }} else if (Date.now() < root._bokeh_timeout) {\n      setTimeout(run_inline_js, 100);\n    } else if (!root._bokeh_failed_load) {\n      console.log(\"Bokeh: BokehJS failed to load within specified timeout.\");\n      root._bokeh_failed_load = true;\n    } else if (force !== true) {\n      const cell = $(document.getElementById(\"bb051288-7526-4f47-b0ce-645780a011ac\")).parents('.cell').data().cell;\n      cell.output_area.append_execute_result(NB_LOAD_WARNING)\n    }\n  }\n\n  if (root._bokeh_is_loading === 0) {\n    console.debug(\"Bokeh: BokehJS loaded, going straight to plotting\");\n    run_inline_js();\n  } else {\n    load_libs(css_urls, js_urls, function() {\n      console.debug(\"Bokeh: BokehJS plotting callback run at\", now());\n      run_inline_js();\n    });\n  }\n}(window));"
     },
     "metadata": {},
     "output_type": "display_data"
    },
    {
     "data": {
      "text/html": [
       "\n",
       "  <div id=\"b85f4c23-e998-443b-8cbd-920188aec5fd\" data-root-id=\"p1032\" style=\"display: contents;\"></div>\n"
      ]
     },
     "metadata": {},
     "output_type": "display_data"
    },
    {
     "data": {
      "application/javascript": [
       "(function(root) {\n",
       "  function embed_document(root) {\n",
       "  const docs_json = {\"7aae4790-01d5-4c55-936b-0fdf657af3e8\":{\"version\":\"3.4.0\",\"title\":\"Bokeh Application\",\"roots\":[{\"type\":\"object\",\"name\":\"DataTable\",\"id\":\"p1032\",\"attributes\":{\"source\":{\"type\":\"object\",\"name\":\"ColumnDataSource\",\"id\":\"p1010\",\"attributes\":{\"selected\":{\"type\":\"object\",\"name\":\"Selection\",\"id\":\"p1011\",\"attributes\":{\"indices\":[],\"line_indices\":[]}},\"selection_policy\":{\"type\":\"object\",\"name\":\"UnionRenderers\",\"id\":\"p1012\"},\"data\":{\"type\":\"map\",\"entries\":[[\"color\",[\"#dcdcdc\",\"#3c3285\",\"#4353c2\",\"#4673eb\",\"#4291fe\",\"#2fb1f3\",\"#1ccdd7\",\"#19e3b8\",\"#32f197\",\"#61fc6c\",\"#8efe48\",\"#b1f836\",\"#cfea34\",\"#ead339\",\"#f9ba38\",\"#fe9b2d\",\"#f9771e\",\"#ec520e\",\"#d93806\",\"#c02302\",\"#a01101\"]],[\"label\",[\"ABSTAIN\",\"alt.atheism\",\"comp.graphics\",\"comp.os.ms-windows.misc\",\"comp.sys.ibm.pc.hardware\",\"comp.sys.mac.hardware\",\"comp.windows.x\",\"misc.forsale\",\"rec.autos\",\"rec.motorcycles\",\"rec.sport.baseball\",\"rec.sport.hockey\",\"sci.crypt\",\"sci.electronics\",\"sci.med\",\"sci.space\",\"soc.religion.christian\",\"talk.politics.guns\",\"talk.politics.mideast\",\"talk.politics.misc\",\"talk.religion.misc\"]],[\"count_raw\",[373,0,0,0,0,0,0,0,0,0,0,0,0,0,0,0,0,0,0,0,0]],[\"count_train\",[0,15,19,14,27,19,20,17,19,31,24,15,22,21,19,17,23,22,22,11,13]],[\"count_dev\",[0,6,2,10,6,2,3,1,5,4,8,5,10,6,8,4,4,7,3,2,3]],[\"count_test\",[0,3,6,6,1,2,4,7,5,3,11,5,6,7,1,6,11,2,7,4,3]]]}}},\"view\":{\"type\":\"object\",\"name\":\"CDSView\",\"id\":\"p1036\",\"attributes\":{\"filter\":{\"type\":\"object\",\"name\":\"AllIndices\",\"id\":\"p1037\"}}},\"columns\":[{\"type\":\"object\",\"name\":\"TableColumn\",\"id\":\"p1013\",\"attributes\":{\"field\":\"label\",\"title\":\"label\",\"formatter\":{\"type\":\"object\",\"name\":\"StringFormatter\",\"id\":\"p1014\"},\"editor\":{\"type\":\"object\",\"name\":\"StringEditor\",\"id\":\"p1015\"}}},{\"type\":\"object\",\"name\":\"TableColumn\",\"id\":\"p1016\",\"attributes\":{\"field\":\"count_raw\",\"title\":\"raw\",\"formatter\":{\"type\":\"object\",\"name\":\"StringFormatter\",\"id\":\"p1017\"},\"editor\":{\"type\":\"object\",\"name\":\"StringEditor\",\"id\":\"p1018\"}}},{\"type\":\"object\",\"name\":\"TableColumn\",\"id\":\"p1019\",\"attributes\":{\"field\":\"count_train\",\"title\":\"train\",\"formatter\":{\"type\":\"object\",\"name\":\"StringFormatter\",\"id\":\"p1020\"},\"editor\":{\"type\":\"object\",\"name\":\"StringEditor\",\"id\":\"p1021\"}}},{\"type\":\"object\",\"name\":\"TableColumn\",\"id\":\"p1022\",\"attributes\":{\"field\":\"count_dev\",\"title\":\"dev\",\"formatter\":{\"type\":\"object\",\"name\":\"StringFormatter\",\"id\":\"p1023\"},\"editor\":{\"type\":\"object\",\"name\":\"StringEditor\",\"id\":\"p1024\"}}},{\"type\":\"object\",\"name\":\"TableColumn\",\"id\":\"p1025\",\"attributes\":{\"field\":\"count_test\",\"title\":\"test\",\"formatter\":{\"type\":\"object\",\"name\":\"StringFormatter\",\"id\":\"p1026\"},\"editor\":{\"type\":\"object\",\"name\":\"StringEditor\",\"id\":\"p1027\"}}},{\"type\":\"object\",\"name\":\"TableColumn\",\"id\":\"p1029\",\"attributes\":{\"field\":\"color\",\"title\":\"color\",\"formatter\":{\"type\":\"object\",\"name\":\"HTMLTemplateFormatter\",\"id\":\"p1028\",\"attributes\":{\"template\":\"\\n<p style=\\\"color:<%= value %>;\\\">\\n    <%= \\\"&#9608;&#9608;&#9608;\\\" %>\\n</p>\\n\"}},\"editor\":{\"type\":\"object\",\"name\":\"StringEditor\",\"id\":\"p1031\"}}}]}}]}};\n",
       "  const render_items = [{\"docid\":\"7aae4790-01d5-4c55-936b-0fdf657af3e8\",\"roots\":{\"p1032\":\"b85f4c23-e998-443b-8cbd-920188aec5fd\"},\"root_ids\":[\"p1032\"]}];\n",
       "  void root.Bokeh.embed.embed_items_notebook(docs_json, render_items);\n",
       "  }\n",
       "  if (root.Bokeh !== undefined) {\n",
       "    embed_document(root);\n",
       "  } else {\n",
       "    let attempts = 0;\n",
       "    const timer = setInterval(function(root) {\n",
       "      if (root.Bokeh !== undefined) {\n",
       "        clearInterval(timer);\n",
       "        embed_document(root);\n",
       "      } else {\n",
       "        attempts++;\n",
       "        if (attempts > 100) {\n",
       "          clearInterval(timer);\n",
       "          console.log(\"Bokeh: ERROR: Unable to run BokehJS code because BokehJS library is missing\");\n",
       "        }\n",
       "      }\n",
       "    }, 10, root)\n",
       "  }\n",
       "})(window);"
      ],
      "application/vnd.bokehjs_exec.v0+json": ""
     },
     "metadata": {
      "application/vnd.bokehjs_exec.v0+json": {
       "id": "p1032"
      }
     },
     "output_type": "display_data"
    }
   ],
   "source": [
    "from bokeh.io import show, output_notebook\n",
    "\n",
    "output_notebook()\n",
    "\n",
    "# normally your would skip notebook_url or use Jupyter address\n",
    "notebook_url = 'localhost:8888'\n",
    "\n",
    "show(dataset.pop_table, notebook_url=notebook_url)"
   ]
  },
  {
   "cell_type": "markdown",
   "id": "0e56c5a1",
   "metadata": {},
   "source": [
    "<br>\n",
    "\n",
    "### **Transfer Data Between Subsets**\n",
    "\n",
    "`COMMIT` and `DEDUP` are the mechanisms that `hover` uses to transfer data between subsets.\n",
    "\n",
    "-   `COMMIT` copies selected points (to be discussed later) to a destination subset\n",
    "    -   labeled-raw-only: `COMMIT` automatically detects which points are in the raw set with a valid label. Other points will not get copied.\n",
    "    -   keep-last: you can commit the same point to the same subset multiple times and the last copy will be kept. This can be useful for revising labels before `DEDUP`.\n",
    "-   `DEDUP` removes duplicates (identified by feature value) across subsets\n",
    "    -   priority rule: test > dev > train > raw, i.e. test set data always gets kept during deduplication\n",
    "\n",
    "-   <details open><summary>FAQ</summary>\n",
    "    <details open><summary>Why does COMMIT only work on the raw subset?</summary>\n",
    "        Most selections will happen through plots, where different subsets are on top of each other. This means selections can contain both unlabeled and labeled points.\n",
    "\n",
    "        Way too often we find ourselves trying to view both the labeled and the unlabeled, but only moving the unlabeled \"raw\" points. So it's handy that COMMIT picks those points only.\n",
    "    </details>\n",
    "\n",
    "</details>\n",
    "\n",
    "These mechanisms correspond to buttons in `hover`'s annotation interface, which you have encountered in the quickstart:"
   ]
  },
  {
   "cell_type": "code",
   "execution_count": 3,
   "id": "a86fe363",
   "metadata": {
    "execution": {
     "iopub.execute_input": "2024-03-19T01:24:11.766435Z",
     "iopub.status.busy": "2024-03-19T01:24:11.766084Z",
     "iopub.status.idle": "2024-03-19T01:24:11.789168Z",
     "shell.execute_reply": "2024-03-19T01:24:11.788532Z"
    }
   },
   "outputs": [
    {
     "name": "stderr",
     "output_type": "stream",
     "text": [
      "WARNING:bokeh.embed.util:\n",
      "You are generating standalone HTML/JS output, but trying to use real Python\n",
      "callbacks (i.e. with on_change or on_event). This combination cannot work.\n",
      "\n",
      "Only JavaScript callbacks may be used with standalone output. For more\n",
      "information on JavaScript callbacks with Bokeh, see:\n",
      "\n",
      "    https://docs.bokeh.org/en/latest/docs/user_guide/interaction/js_callbacks.html\n",
      "\n",
      "Alternatively, to use real Python callbacks, a Bokeh server application may\n",
      "be used. For more information on building and running Bokeh applications, see:\n",
      "\n",
      "    https://docs.bokeh.org/en/latest/docs/user_guide/server.html\n",
      "\n"
     ]
    },
    {
     "data": {
      "text/html": [
       "\n",
       "  <div id=\"a6d648cc-66ee-4458-abd5-6ac23c5d309a\" data-root-id=\"p1056\" style=\"display: contents;\"></div>\n"
      ]
     },
     "metadata": {},
     "output_type": "display_data"
    },
    {
     "data": {
      "application/javascript": [
       "(function(root) {\n",
       "  function embed_document(root) {\n",
       "  const docs_json = {\"b61737b3-c2be-4ed0-8dae-775f23db40ed\":{\"version\":\"3.4.0\",\"title\":\"Bokeh Application\",\"roots\":[{\"type\":\"object\",\"name\":\"Column\",\"id\":\"p1056\",\"attributes\":{\"children\":[{\"type\":\"object\",\"name\":\"Row\",\"id\":\"p1055\",\"attributes\":{\"children\":[{\"type\":\"object\",\"name\":\"Dropdown\",\"id\":\"p1002\",\"attributes\":{\"button_type\":\"warning\",\"subscribed_events\":{\"type\":\"set\",\"entries\":[\"button_click\",\"menu_item_click\"]},\"label\":\"Commit\",\"menu\":[\"train\",\"dev\",\"test\"]}},{\"type\":\"object\",\"name\":\"Button\",\"id\":\"p1003\",\"attributes\":{\"button_type\":\"warning\",\"subscribed_events\":{\"type\":\"set\",\"entries\":[\"button_click\"]},\"label\":\"Dedup\"}}]}},{\"type\":\"object\",\"name\":\"DataTable\",\"id\":\"p1032\",\"attributes\":{\"source\":{\"type\":\"object\",\"name\":\"ColumnDataSource\",\"id\":\"p1010\",\"attributes\":{\"selected\":{\"type\":\"object\",\"name\":\"Selection\",\"id\":\"p1011\",\"attributes\":{\"indices\":[],\"line_indices\":[]}},\"selection_policy\":{\"type\":\"object\",\"name\":\"UnionRenderers\",\"id\":\"p1012\"},\"data\":{\"type\":\"map\",\"entries\":[[\"color\",[\"#dcdcdc\",\"#3c3285\",\"#4353c2\",\"#4673eb\",\"#4291fe\",\"#2fb1f3\",\"#1ccdd7\",\"#19e3b8\",\"#32f197\",\"#61fc6c\",\"#8efe48\",\"#b1f836\",\"#cfea34\",\"#ead339\",\"#f9ba38\",\"#fe9b2d\",\"#f9771e\",\"#ec520e\",\"#d93806\",\"#c02302\",\"#a01101\"]],[\"label\",[\"ABSTAIN\",\"alt.atheism\",\"comp.graphics\",\"comp.os.ms-windows.misc\",\"comp.sys.ibm.pc.hardware\",\"comp.sys.mac.hardware\",\"comp.windows.x\",\"misc.forsale\",\"rec.autos\",\"rec.motorcycles\",\"rec.sport.baseball\",\"rec.sport.hockey\",\"sci.crypt\",\"sci.electronics\",\"sci.med\",\"sci.space\",\"soc.religion.christian\",\"talk.politics.guns\",\"talk.politics.mideast\",\"talk.politics.misc\",\"talk.religion.misc\"]],[\"count_raw\",[373,0,0,0,0,0,0,0,0,0,0,0,0,0,0,0,0,0,0,0,0]],[\"count_train\",[0,15,19,14,27,19,20,17,19,31,24,15,22,21,19,17,23,22,22,11,13]],[\"count_dev\",[0,6,2,10,6,2,3,1,5,4,8,5,10,6,8,4,4,7,3,2,3]],[\"count_test\",[0,3,6,6,1,2,4,7,5,3,11,5,6,7,1,6,11,2,7,4,3]]]}}},\"view\":{\"type\":\"object\",\"name\":\"CDSView\",\"id\":\"p1036\",\"attributes\":{\"filter\":{\"type\":\"object\",\"name\":\"AllIndices\",\"id\":\"p1037\"}}},\"columns\":[{\"type\":\"object\",\"name\":\"TableColumn\",\"id\":\"p1013\",\"attributes\":{\"field\":\"label\",\"title\":\"label\",\"formatter\":{\"type\":\"object\",\"name\":\"StringFormatter\",\"id\":\"p1014\"},\"editor\":{\"type\":\"object\",\"name\":\"StringEditor\",\"id\":\"p1015\"}}},{\"type\":\"object\",\"name\":\"TableColumn\",\"id\":\"p1016\",\"attributes\":{\"field\":\"count_raw\",\"title\":\"raw\",\"formatter\":{\"type\":\"object\",\"name\":\"StringFormatter\",\"id\":\"p1017\"},\"editor\":{\"type\":\"object\",\"name\":\"StringEditor\",\"id\":\"p1018\"}}},{\"type\":\"object\",\"name\":\"TableColumn\",\"id\":\"p1019\",\"attributes\":{\"field\":\"count_train\",\"title\":\"train\",\"formatter\":{\"type\":\"object\",\"name\":\"StringFormatter\",\"id\":\"p1020\"},\"editor\":{\"type\":\"object\",\"name\":\"StringEditor\",\"id\":\"p1021\"}}},{\"type\":\"object\",\"name\":\"TableColumn\",\"id\":\"p1022\",\"attributes\":{\"field\":\"count_dev\",\"title\":\"dev\",\"formatter\":{\"type\":\"object\",\"name\":\"StringFormatter\",\"id\":\"p1023\"},\"editor\":{\"type\":\"object\",\"name\":\"StringEditor\",\"id\":\"p1024\"}}},{\"type\":\"object\",\"name\":\"TableColumn\",\"id\":\"p1025\",\"attributes\":{\"field\":\"count_test\",\"title\":\"test\",\"formatter\":{\"type\":\"object\",\"name\":\"StringFormatter\",\"id\":\"p1026\"},\"editor\":{\"type\":\"object\",\"name\":\"StringEditor\",\"id\":\"p1027\"}}},{\"type\":\"object\",\"name\":\"TableColumn\",\"id\":\"p1029\",\"attributes\":{\"field\":\"color\",\"title\":\"color\",\"formatter\":{\"type\":\"object\",\"name\":\"HTMLTemplateFormatter\",\"id\":\"p1028\",\"attributes\":{\"template\":\"\\n<p style=\\\"color:<%= value %>;\\\">\\n    <%= \\\"&#9608;&#9608;&#9608;\\\" %>\\n</p>\\n\"}},\"editor\":{\"type\":\"object\",\"name\":\"StringEditor\",\"id\":\"p1031\"}}}]}}]}}]}};\n",
       "  const render_items = [{\"docid\":\"b61737b3-c2be-4ed0-8dae-775f23db40ed\",\"roots\":{\"p1056\":\"a6d648cc-66ee-4458-abd5-6ac23c5d309a\"},\"root_ids\":[\"p1056\"]}];\n",
       "  void root.Bokeh.embed.embed_items_notebook(docs_json, render_items);\n",
       "  }\n",
       "  if (root.Bokeh !== undefined) {\n",
       "    embed_document(root);\n",
       "  } else {\n",
       "    let attempts = 0;\n",
       "    const timer = setInterval(function(root) {\n",
       "      if (root.Bokeh !== undefined) {\n",
       "        clearInterval(timer);\n",
       "        embed_document(root);\n",
       "      } else {\n",
       "        attempts++;\n",
       "        if (attempts > 100) {\n",
       "          clearInterval(timer);\n",
       "          console.log(\"Bokeh: ERROR: Unable to run BokehJS code because BokehJS library is missing\");\n",
       "        }\n",
       "      }\n",
       "    }, 10, root)\n",
       "  }\n",
       "})(window);"
      ],
      "application/vnd.bokehjs_exec.v0+json": ""
     },
     "metadata": {
      "application/vnd.bokehjs_exec.v0+json": {
       "id": "p1056"
      }
     },
     "output_type": "display_data"
    }
   ],
   "source": [
    "from bokeh.layouts import row, column\n",
    "\n",
    "show(column(\n",
    "    row(\n",
    "        dataset.data_committer,\n",
    "        dataset.dedup_trigger,\n",
    "    ),\n",
    "    dataset.pop_table,\n",
    "), notebook_url=notebook_url)"
   ]
  },
  {
   "cell_type": "markdown",
   "id": "612d258b",
   "metadata": {},
   "source": [
    "<br>\n",
    "\n",
    "Of course, so far we have nothing to move, because there's no data selected. We shall now discuss selections.\n",
    "\n",
    "## **Selection**\n",
    "\n",
    "`hover` labels data points in bulk, which requires selecting groups of homogeneous data, i.e. semantically similar or going to have the same label. Being able to skim through what you selected gives you confidence about homogeneity.\n",
    "\n",
    "Normally, selection happens through a plot (`explorer`), as we have seen in the quickstart. For the purpose here, we will \"cheat\" and assign the selection programmatically:"
   ]
  },
  {
   "cell_type": "code",
   "execution_count": 4,
   "id": "192aef78",
   "metadata": {
    "execution": {
     "iopub.execute_input": "2024-03-19T01:24:11.791717Z",
     "iopub.status.busy": "2024-03-19T01:24:11.791329Z",
     "iopub.status.idle": "2024-03-19T01:24:11.807262Z",
     "shell.execute_reply": "2024-03-19T01:24:11.806715Z"
    }
   },
   "outputs": [
    {
     "data": {
      "text/html": [
       "<pre style=\"white-space:pre;overflow-x:auto;line-height:normal;font-family:Menlo,'DejaVu Sans Mono',consolas,'Courier New',monospace\"><span style=\"color: #008000; text-decoration-color: #008000\">🟢 SupervisableTextDataset: Selection table: latest selection with </span><span style=\"color: #008080; text-decoration-color: #008080; font-weight: bold\">10</span><span style=\"color: #008000; text-decoration-color: #008000\"> entries.</span>\n",
       "</pre>\n"
      ],
      "text/plain": [
       "\u001b[32m🟢 SupervisableTextDataset: Selection table: latest selection with \u001b[0m\u001b[1;36m10\u001b[0m\u001b[32m entries.\u001b[0m\n"
      ]
     },
     "metadata": {},
     "output_type": "display_data"
    },
    {
     "data": {
      "text/html": [
       "\n",
       "  <div id=\"b752a3dd-abca-4746-a86c-7012bab84e15\" data-root-id=\"p1049\" style=\"display: contents;\"></div>\n"
      ]
     },
     "metadata": {},
     "output_type": "display_data"
    },
    {
     "data": {
      "application/javascript": [
       "(function(root) {\n",
       "  function embed_document(root) {\n",
       "  const docs_json = {\"7ed4ca01-2869-40b7-bc0d-eb7bcdd71243\":{\"version\":\"3.4.0\",\"title\":\"Bokeh Application\",\"roots\":[{\"type\":\"object\",\"name\":\"DataTable\",\"id\":\"p1049\",\"attributes\":{\"source\":{\"type\":\"object\",\"name\":\"ColumnDataSource\",\"id\":\"p1038\",\"attributes\":{\"selected\":{\"type\":\"object\",\"name\":\"Selection\",\"id\":\"p1039\",\"attributes\":{\"indices\":[],\"line_indices\":[]}},\"selection_policy\":{\"type\":\"object\",\"name\":\"UnionRenderers\",\"id\":\"p1040\"},\"data\":{\"type\":\"map\",\"entries\":[[\"text\",[\"Is anybody out there willing to discuss with me careers in the Army that deal with space?  After I graduate, I will have a commitment to serve in the Army,  and I would like to spend it in a space-related field.  I saw a post a long time ago about the Air Force Space Command which made a fleeting reference to its Army counter-part.  Any more info on that would be appreciated.  I'm  looking for things like: do I branch Intelligence, or Signal, or other?  To whom do I voice my interest in space?  What qualifications are necessary? Etc, etc.  BTW, my major is computer science engineering.  Please reply to ktj@reef.cis.ufl.edu\",\"Hi,  I am about to write an application in X/Motif that will require the embedding of a pseudo tty. So, before I re-invent the wheel, has anyone written/gotten a motif widget that does the job ? Otherwise, I would appreciate any pointers to make such a beast.  My environment is X11R4/Motif 1.1 and X11R5/Motif 1.2 (if this helps).   Thanks in advance. \",\"  perhaps you can quote just a bit of her argument?\",\" John,   While I will not take the time to rebut you point by point, I will suggest three current works which I think will be helpful in your quest to answer this question.  John Dominic Crossan (Professor of Religion at De Paul Univ)- _The Cross That Spoke_ Harper and Row Pub. 1988, Also his latest work  _The Historical Jesus - The Life of A Mediterranean Jewish Peasant_ Harper and Row Pub. 1991,  Also two works of Burton Mack (Professor of New Testament at the Claremont Graduate School) _A Myth of Innocence_ Fortress Press 1988, And his latest book _The Lost Gospel: The Book of Q and Christian Origins_ Harper and Row, 1992.  You might start with Mack's book on Q and then  examine the others afterward.  However I think that once you do that you will see that your \\\"evidence\\\" is not as sturdy as you'd like.  Most of the tired arguements you stated, assume eyewitness accounts, such is not the case. But Anyway look at Mack and Crossan and then get back to us.\",\"The biggest reason why the cost of medical care is so EXTREMELY high and increasing is that NATURAL methods of treatment and even diagnosis are still being SYSTEMATICALLY IGNORED and SUPPRESSED by the MONEY-GRUBBING and POWER- MONGERING \\\"medical\\\" establishment.      Some examples of very low cost NATURAL ANTI-cancer Remedies are listed in the following article:                             NATURAL ANTI-CANCER REMEDIES                                  A 3RD OPINION                           ( Some of these Remedies also work against AIDS. )             DISCLAIMER: This list was compiled from unorthodox sources            that have shown themselves to be reliable.  The compiler of            this list is NOT a doctor of any kind, but is exercising his            First Amendment Constitutional RIGHT of FREE SPEECH on the            subjects of his choice.              ( MOST of these Remedies can be found in ANY Grocery Store.             MOST of the rest of them can be found in ANY Health Food            Store.  What is important is HOW they are used, and what            else is EXCLUDED DURING their use. )             (1) THE 7-DAY FAST.                 1st day: Eat as much fresh fruit as you want, one kind            at a time, preferably grapes.                 2nd day: Eat all the vegetables you want, at least half            raw, including GARLIC; also, whole kernel corn to help scrape            clean the intestinal linings.                 3rd day: Drink all the fresh fruit and vegetable juice            you want.  Preferably start with 16 to 32 ounces of prune            juice WITH PULP, followed by a gallon of pure (NOT from            concentrate) apple juice, then grape juice.  (Stay close to            your home bathroom.)                 4th day: Eat all the UN-salted nuts (NO peanuts) and            dried fruit you want, preferably raisins and almonds (ALMONDS            CONTAIN LAETRILE.).                 5th day: ONE GALLON OF LEMONADE.  Squeeze the juice from            two lemons into a gallon of water (preferably distilled), and            add 2 to 4 tablespoons of locally-made honey, (NO sugar).             Drink one glass per hour.           [EVERYone, including healthy people, should do this one day            every week, preceded by a large glass of prune juice WITH            PULP.]                 6th day: Same as 5th day.                 7th day: Same as 6th day.                 All 7 days, eat ONLY the foods listed above for each            day, along with your usual vitamin and mineral supplements,            plus as much DISTILLED WATER as you want.             (2) THE GRAPE DIET.                 Eat 2 to 3 ounces of fresh grapes every 2 hours, 8 AM to            8 PM, every day for six days.  Eat NOTHING else during the            six days, but drink as much DISTILLED WATER as you want.                   (3) APPLE CIDER VINEGAR.                Mix a teaspoon of pure apple cider vinegar (NOT apple            cider \\\"flavored\\\" vinegar.  Regular vinegar is HARMFUL.) in a            glass of water (preferably distilled) and drink all of it.             Do this 3 or 4 times per day, for 3 weeks; then stop for a            week.  Repeat if desired.  Do this along with a normal            healthy diet of natural foods.  This remedy is especially            effective against those types of cancer that resemble a            FUNGUS, as well as against other kinds of fungus infections.                     (4) THE SEA-SALT & SODA BATH.  [Please keep an OPEN MIND.]                Fill a bathtub with moderately warm water so the level            comes up almost to the overflow drain when you get in.             Immerse yourself in it for a minute, and then completely            dissolve in the bath water 1 pound of SUN-evaporated SEA-salt            (regular salt won't work.) and 1 pound of fresh baking-soda.                 Soak in this bath for 10 to 20 minutes, while exercising            your fingers, toes, and limbs, turning sideways and onto your            stomach, dunking your head, sitting up and laying back down,            chomping your teeth together, etc..                 Among other things, the SEA-salt & Soda Bath neutralizes            the accumulated effects of X-rays, etc., as described in the            book \\\"Born To Be Magnetic, Vol. 2\\\", by Frances Nixon, 1973.                 PRECAUTIONS: Only the ONE person using each bath should            prepare it and drain it.           For at least 30 minutes after taking the bath, stay away            from, and even out of sight of, other people.  (Your greatly            expanded Aura energy-field during that time could disrupt            other people's fields.)  Two hours after the bath, eat at            least 8 ounces of yogurt containing ACTIVE Yogurt Cultures.             (The bath may kill FRIENDLY bacteria also.)  Better yet, take            a 2-Billion-bacteria \\\"Acidophilus\\\" capsule, which is also an            EXCELLENT DAILY REMEDY AGAINST THE EFFECTS OF \\\"A.I.D.S.\\\"            (because it kills all kinds of harmful bacteria in the            digestive tract, taking a big load off the remaining immune            system).  [Because this external bath can kill IN-ternal            bacteria, it may also be a CURE for \\\"Lyme disease\\\".]           Do NOT take this bath within a few hundred miles of a thunder            storm, within 3 days of a full moon, nor during \\\"Major\\\" or            \\\"Minor Periods\\\" as listed in the \\\"Solunar Tables\\\" published            bimonthly in \\\"Field & Stream\\\" Magazine, (because of the            measurable disruptive ambient environmental energy-fields            present at those times).           Do NOT take this bath more than four times per year.                    (5) MISCELLANEOUS NATURAL ANTI-CANCER REMEDIES:                         For skin cancer, apply STABILIZED Aloe Vera Jel to the                 affected skin twice daily, and take 2 to 4 tablespoons                 per day of STABILIZED Aloe Vera Juice internally, for                 about 2 months.                          D.M.S.O. (Dimethyl Sulfoxide) causes cancer cells to                 perform NORMAL cell functions.                  ALMONDS (UN-blanched, UN-roasted) CONTAIN LAETRILE.                  To help prevent cancer, eat several almonds every day.                  To help cure cancer, eat several OUNCES of almonds per                 day.                [NEVER take large concentrated doses of Laetrile orally.                  IT WILL KILL YOU!  Take it INTRAVENOUSLY ONLY.  (Cancer                 cells contain a certain enzyme which converts Laetrile                 into cyanide, which then kills the cell.  This enzyme is                 ALSO present in the digestive system.)]                  ANTI-OXIDANTS are FREE-RADICAL SCAVENGERS, and include                 Vitamin E, Selenium (200 mcg. per day is safe for most                 people.), Chromium (up to 100 mcg. per day), Vitamin A                 (25,000 IU per day is safe for most people.), Superoxide                 Dismutase (up to 4,000,000 Units per day), Vitamin C (up                 to 3000 mg. per day), and BHT (Butylated Hydroxy-                toluene), [1 to 4 capsules of BHT every night at bedtime                 will also MAKE ONE IMMUNE AGAINST HERPES (BOTH types),                 suppress herpes symptoms if one already has herpes,                 prevent spreading herpes to other people, but will not                 cure herpes.  BHT MIGHT ALSO DO THESE THINGS AGAINST                 \\\"A.I.D.S.\\\", which is really a form of cancer similar to                 leukemia.]  (See the book \\\"Life Extension\\\", by Durk                 Pearson and Sandy Shaw.)                  HYDROGEN-PEROXIDE.  Dilute twelve(12) drops of 3%                 hydrogen-peroxide in a glass of pure water (preferably                 DISTILLED) and drink it.  Do this once or twice per day,                 hours before or after eating or drinking anything else.                  Apply 3% hydrogen-peroxide directly to skin cancers                 several times per day.                Use hydrogen-peroxide ONLY if you are taking a good                 daily dose of some of the various anti-oxidants                 described above.                  VITAMIN & MINERAL SUPPLEMENTS are more effective, and                 much less expensive, when COMBINED together in MEGA                 doses into SINGLE tablets made from NATURAL sources.                  Cancer cells can NOT live in a strong (100,000 Maxwell)                 NORTH MAGNETIC FIELD, especially if it is pulsating on                 and off.  [A strong south magnetic field is an                 aphrodisiac.]  In my opinion, ALL types of ionizing-                radiation treatments for cancer should be REPLACED with                 daily 30-minute doses of pulsating 100,000-Maxwell NORTH                 magnetic fields.                  Properly made and operated RADIONICS/PSIONICS MACHINES                 can both diagnose and cure all forms of cancer, as well                 as most other medical problems.  Some Radionics/Psionics                 Machines can even take cross-sectional X-ray-like photos                 of cancer tumors, etc., with-OUT X-rays!                  INTERFERON tablets.                 TAHEEBO TEA, (Lapacho).                             HOMEOPATHY can cure cancer, and many other medical                 problems (even drug addiction!).                  50 mg. per day of CHELATED ZINC can help prevent or cure                 prostate trouble.                  This list is NOT exhaustive.              The above NATURAL Remedies can CURE both diagnosed AND UN-           DIAGNOSED cancers, as well as PREVENT them, and also prevent            and cure many other medical problems including heart-           diseases.  They are NOT too simple and inexpensive to work            effectively.             Besides acting on a person biologically and chemically, these            remedies, especially The 7-Day Fast and The Grape Diet, send            a strong message to one's subconscious mind, PROGRAMMING it            to CURE the cancer.             In my opinion, if a person finds out that s/he has cancer,            then s/he should promptly try at least the first 4 remedies            described above, in sequence (starting with The 7-Day Fast),            BEFORE resorting to the UN-natural and expensive mutilations            and agonies [POISON, BURN, and MUTILATE!] of orthodox cancer            treatment [organi$ed-CRIME!].                                  DISCLAIMER: This list was compiled from unorthodox sources            that have shown themselves to be reliable.  The compiler of            this list is NOT a doctor of any kind, but is exercising his            First Amendment Constitutional RIGHT of FREE SPEECH on the            subjects of his choice.              FOR MORE INFORMATION, contact Cancer Control Society, 2043 N.            Berendo St., Los Angeles, CA  90027, and/or other organiza-           tions listed in the \\\"Alternative Medicine\\\" and \\\"Holistic            Medicine\\\" portions of the \\\"Health and Medical Organizations\\\"            Section (Section 8) of the latest edition of the \\\"Encyclope-           dia of Associations\\\" reference book in your local public or            university library.                   UN-altered REPRODUCTION and DISSEMINATION of this            IMPORTANT Information is ENCOURAGED.  \",\"  It always amazes me how quick people are to blame whatever administration is current for things they couldn't possibly have initiated.  This chip had to take *years* to develop, yet already we're claiming that the Clinton administration sneaked it in on us. Bullshit.  The *Bush* administration and the career Gestapo were responsible for this horror, and the careerists presented it to the new presidency as a fait accompli.  That doesn't excuse Clinton and Gore from criticism for being so stupid as to go for it, but let's lay the body at the proper door to start with.\",\" The Apollo fire was harsh, A Saturn V explosion would have been hurtful but The Soviets winning would have been crushing. That could have been *the* technological turning point for the US turning us from Today's \\\"We can do anything, we're *the* Super Power\\\" to a much more reserved attitude like the Soviet Program today.  Kennedy was gone by 68\\\\69, the war was still on is the east, I think the program would have stalled badly and the goal of the moon by 70 would have been dead with Nasa trying to figure were they went wrong.    I speulate that: +The Saturn program would have been pushed into the 70s with cost over runs that would just be too evil.  Nixon still wins. +The Shuttle was never proposed and Skylab never built. +By 73 the program stalled yet again under the fuel crisis. +A string of small launches mark the mid seventies. +By 76 the goal of a US man on the moon is dead and the US space program drifts till the present day. \",\"I finally got a 24 bit viewer for my POVRAY generated .TGA files.  It was written in C by Sean Malloy and he kindly sent me a copy.  He wrote it for the same purpose, to view .TGA files using his SpeedStar 24.  It ONLY works with the SpeedStar 24 and I cannot send copies since it is not my program.  I believe the author may release a version at a future time when the program is more developed.   He may or may not comment on this, as he pleases.  Thanks to all who were helpful.  Regards,\",\"        Mr. Parsli, I have to take exception at this.  There are verifiable, previous *examples* of levels of U.S. governments abusing gun-control restrictions.  I don't think it is paranoid to worry that what has been abused in the recent past might be abused in thye future.  After so many times of getting burned any sane person will stop putting his hand on the stove.          I'd love to.  But as long as the politicians grab power to sell pork back to their constituents, there's not a lot I can do.           It's silly to suggest that if there's anything we can't trust the government to do, and therefore the government should be allowed to do it, then we should change governments.  Down that road lies total government power.   I've never been a fan of totalitarianism.          This is very likely.          The North American Continent is not Europe, no matter how many people would like it to be.  Drugs are very illegal and they're here.  For years Canada has crowed about its gun control.  If it is necessary to control guns over the whole continent, then Canada should have always had comparable rates to the U.S., yet they still don't. Unless you can tell me why the Canadian border is so much more magical than the Mexican border (which is shorter and far more heavily patrolled) then I really can't accept that argument.          No, there are approximately 31,000 deaths due to guns in the U.S., two-thirds of which are suicides.  (Unfortunately I don't have suicide rates for Norway.)  However, this makes the per-gun death rate about half the per-car death rate.         The problem's been humans since before we had stone axes.  The fct of the matter is simply this:  If nobody ever assaulted anybody, whether there is a weapon of any sort around would be totally irrelevent.        Yet weapons are *built*.  I'd suggest, then, that the murderous impulse in humanity pre-dates weapons.        Anyway, the Bosnians et al. have been making an excellent attempt to kill each other for half a thousand years.  Taking away their guns, even if we could, would neither halt the killing nor reduce the brutality.           In the U.S., approximately 60% of murders are commited with firearms. (50% with handguns, 10% with non-handguns.)  The reason I say that guns, per  se, are not the problem, is that our non-gun rate exceeds most of Europe's countries *entire* violent crime rate.  I don't really think we've got more knives or fists.           In any case, I think examples of gun control *applied* to the U.S. have been abkect failures, just like drug prohibition and other forms of prohibition.  Until you deal with *why* people are doing what they are doing, you won't solve your problem.  And if the problem is  violent crime, you shouldn't concentrate on the tools instead.  The *vast* majority of guns is never, ever misused.  (On the order of 99.5% over the entire lifetime of the gun).  This says to me that you can't make the argument that the gun itself causes the misuse.          The situation is not \\\"good\\\" in that people fear for their lives. But recall the scenes of the store-owners during the last riots, protecting their shops with guns.  Would it have been better they, too, lost their livelihoods?          The problem of poverty and rage in Los Angeles, no it isn't. However, if that problem becomes a violent action, then yes, it can be appropriate.  Whether or not some person has been hurt by their condition won't make me less dead if they burn down my house with me in it.         You have to examine which problem you're referring to.  If you're discussing someone violently assaulting you, then it is a perfectly legitimate response to make them stop.  (Hopefully simply letting them know you're prepared to shoot them would be enough, as it was with the above-mentioned store-owners.)          45% of Households have some form of firearm, usually a long gun. That accounts for a level of access for at least 100 million Americans. Firearm ownership is most likely among educated, well-off whites, the group *least* likely to be involved in violent crime.         You may take that for what it's worth. \",\":P :P>My favorite reply to the \\\"you are being too literal-minded\\\" complaint is :P>that if the bible is really inspired by God and if it is really THAT :P>important to him, then he would make damn certain all the translators and :P>scribes and people interpreting and copying it were getting it right, :P>literally.  If not, then why should I put ANY merit at all in something :P>that has been corrupted over and over and over by man even if it was :P>originally inspired by God? :P :PThe \\\"corrupted over and over\\\" theory is pretty weak.  Comparison of the :Pcurrent hebrew text with old versions and translations shows that the text :Phas in fact changed very little over a space of some two millennia.  This :Pshouldn't be all that suprising; people who believe in a text in this manner :Pare likely to makes some pains to make good copies.\"]],[\"SUBSET\",[\"raw\",\"raw\",\"raw\",\"raw\",\"raw\",\"raw\",\"raw\",\"raw\",\"raw\",\"raw\"]],[\"label\",[\"ABSTAIN\",\"ABSTAIN\",\"ABSTAIN\",\"ABSTAIN\",\"ABSTAIN\",\"ABSTAIN\",\"ABSTAIN\",\"ABSTAIN\",\"ABSTAIN\",\"ABSTAIN\"]]]}}},\"view\":{\"type\":\"object\",\"name\":\"CDSView\",\"id\":\"p1053\",\"attributes\":{\"filter\":{\"type\":\"object\",\"name\":\"AllIndices\",\"id\":\"p1054\"}}},\"columns\":[{\"type\":\"object\",\"name\":\"TableColumn\",\"id\":\"p1043\",\"attributes\":{\"field\":\"text\",\"title\":\"text\",\"formatter\":{\"type\":\"object\",\"name\":\"HTMLTemplateFormatter\",\"id\":\"p1042\",\"attributes\":{\"template\":\"<span href=\\\"#\\\" data-toggle=\\\"tooltip\\\" title=\\\"<%= value %>\\\"><%= value %></span>\"}},\"editor\":{\"type\":\"object\",\"name\":\"CellEditor\",\"id\":\"p1041\"}}},{\"type\":\"object\",\"name\":\"TableColumn\",\"id\":\"p1046\",\"attributes\":{\"field\":\"label\",\"title\":\"label\",\"formatter\":{\"type\":\"object\",\"name\":\"StringFormatter\",\"id\":\"p1047\"},\"editor\":{\"type\":\"object\",\"name\":\"StringEditor\",\"id\":\"p1048\"}}}],\"editable\":true,\"selectable\":\"checkbox\"}}]}};\n",
       "  const render_items = [{\"docid\":\"7ed4ca01-2869-40b7-bc0d-eb7bcdd71243\",\"roots\":{\"p1049\":\"b752a3dd-abca-4746-a86c-7012bab84e15\"},\"root_ids\":[\"p1049\"]}];\n",
       "  void root.Bokeh.embed.embed_items_notebook(docs_json, render_items);\n",
       "  }\n",
       "  if (root.Bokeh !== undefined) {\n",
       "    embed_document(root);\n",
       "  } else {\n",
       "    let attempts = 0;\n",
       "    const timer = setInterval(function(root) {\n",
       "      if (root.Bokeh !== undefined) {\n",
       "        clearInterval(timer);\n",
       "        embed_document(root);\n",
       "      } else {\n",
       "        attempts++;\n",
       "        if (attempts > 100) {\n",
       "          clearInterval(timer);\n",
       "          console.log(\"Bokeh: ERROR: Unable to run BokehJS code because BokehJS library is missing\");\n",
       "        }\n",
       "      }\n",
       "    }, 10, root)\n",
       "  }\n",
       "})(window);"
      ],
      "application/vnd.bokehjs_exec.v0+json": ""
     },
     "metadata": {
      "application/vnd.bokehjs_exec.v0+json": {
       "id": "p1049"
      }
     },
     "output_type": "display_data"
    }
   ],
   "source": [
    "dataset._callback_update_selection(dataset.dfs[\"raw\"][:10])\n",
    "\n",
    "show(dataset.sel_table, notebook_url=notebook_url)"
   ]
  },
  {
   "cell_type": "markdown",
   "id": "0802c2e1",
   "metadata": {},
   "source": [
    "<br>\n",
    "\n",
    "### **Edit Data Within a Selection**\n",
    "\n",
    "Often the points selected are not perfectly homogeneous, i.e. some outliers belong to a different label from the selected group overall. It would be helpful to `EVICT` them, and `SupervisableDataset` has a button for it.\n",
    "\n",
    "Sometimes you may also wish to edit data values on the fly.  In hover this is called `PATCH`, and there also is a button for it.\n",
    "\n",
    "-   by default, labels can be edited but feature values cannot.\n",
    "\n",
    "Let's plot the forementioned buttons along with the selection table. Toggle any number of rows in the table, then click the button to `EVICT` or `PATCH` those rows:"
   ]
  },
  {
   "cell_type": "code",
   "execution_count": 5,
   "id": "a0789b37",
   "metadata": {
    "execution": {
     "iopub.execute_input": "2024-03-19T01:24:11.809768Z",
     "iopub.status.busy": "2024-03-19T01:24:11.809412Z",
     "iopub.status.idle": "2024-03-19T01:24:11.827982Z",
     "shell.execute_reply": "2024-03-19T01:24:11.827446Z"
    }
   },
   "outputs": [
    {
     "name": "stderr",
     "output_type": "stream",
     "text": [
      "WARNING:bokeh.embed.util:\n",
      "You are generating standalone HTML/JS output, but trying to use real Python\n",
      "callbacks (i.e. with on_change or on_event). This combination cannot work.\n",
      "\n",
      "Only JavaScript callbacks may be used with standalone output. For more\n",
      "information on JavaScript callbacks with Bokeh, see:\n",
      "\n",
      "    https://docs.bokeh.org/en/latest/docs/user_guide/interaction/js_callbacks.html\n",
      "\n",
      "Alternatively, to use real Python callbacks, a Bokeh server application may\n",
      "be used. For more information on building and running Bokeh applications, see:\n",
      "\n",
      "    https://docs.bokeh.org/en/latest/docs/user_guide/server.html\n",
      "\n"
     ]
    },
    {
     "data": {
      "text/html": [
       "\n",
       "  <div id=\"d975954d-e37f-4e6c-8046-f3bf80db5464\" data-root-id=\"p1058\" style=\"display: contents;\"></div>\n"
      ]
     },
     "metadata": {},
     "output_type": "display_data"
    },
    {
     "data": {
      "application/javascript": [
       "(function(root) {\n",
       "  function embed_document(root) {\n",
       "  const docs_json = {\"83ba9b53-fdc2-4ef1-82c3-0090b1a62fdc\":{\"version\":\"3.4.0\",\"title\":\"Bokeh Application\",\"roots\":[{\"type\":\"object\",\"name\":\"Column\",\"id\":\"p1058\",\"attributes\":{\"children\":[{\"type\":\"object\",\"name\":\"Row\",\"id\":\"p1057\",\"attributes\":{\"children\":[{\"type\":\"object\",\"name\":\"Button\",\"id\":\"p1006\",\"attributes\":{\"button_type\":\"primary\",\"label\":\"Evict Rows from Selection\"}},{\"type\":\"object\",\"name\":\"Button\",\"id\":\"p1005\",\"attributes\":{\"button_type\":\"warning\",\"subscribed_events\":{\"type\":\"set\",\"entries\":[\"button_click\"]},\"label\":\"Update Row Values\"}}]}},{\"type\":\"object\",\"name\":\"DataTable\",\"id\":\"p1049\",\"attributes\":{\"source\":{\"type\":\"object\",\"name\":\"ColumnDataSource\",\"id\":\"p1038\",\"attributes\":{\"selected\":{\"type\":\"object\",\"name\":\"Selection\",\"id\":\"p1039\",\"attributes\":{\"indices\":[],\"line_indices\":[]}},\"selection_policy\":{\"type\":\"object\",\"name\":\"UnionRenderers\",\"id\":\"p1040\"},\"data\":{\"type\":\"map\",\"entries\":[[\"text\",[\"Is anybody out there willing to discuss with me careers in the Army that deal with space?  After I graduate, I will have a commitment to serve in the Army,  and I would like to spend it in a space-related field.  I saw a post a long time ago about the Air Force Space Command which made a fleeting reference to its Army counter-part.  Any more info on that would be appreciated.  I'm  looking for things like: do I branch Intelligence, or Signal, or other?  To whom do I voice my interest in space?  What qualifications are necessary? Etc, etc.  BTW, my major is computer science engineering.  Please reply to ktj@reef.cis.ufl.edu\",\"Hi,  I am about to write an application in X/Motif that will require the embedding of a pseudo tty. So, before I re-invent the wheel, has anyone written/gotten a motif widget that does the job ? Otherwise, I would appreciate any pointers to make such a beast.  My environment is X11R4/Motif 1.1 and X11R5/Motif 1.2 (if this helps).   Thanks in advance. \",\"  perhaps you can quote just a bit of her argument?\",\" John,   While I will not take the time to rebut you point by point, I will suggest three current works which I think will be helpful in your quest to answer this question.  John Dominic Crossan (Professor of Religion at De Paul Univ)- _The Cross That Spoke_ Harper and Row Pub. 1988, Also his latest work  _The Historical Jesus - The Life of A Mediterranean Jewish Peasant_ Harper and Row Pub. 1991,  Also two works of Burton Mack (Professor of New Testament at the Claremont Graduate School) _A Myth of Innocence_ Fortress Press 1988, And his latest book _The Lost Gospel: The Book of Q and Christian Origins_ Harper and Row, 1992.  You might start with Mack's book on Q and then  examine the others afterward.  However I think that once you do that you will see that your \\\"evidence\\\" is not as sturdy as you'd like.  Most of the tired arguements you stated, assume eyewitness accounts, such is not the case. But Anyway look at Mack and Crossan and then get back to us.\",\"The biggest reason why the cost of medical care is so EXTREMELY high and increasing is that NATURAL methods of treatment and even diagnosis are still being SYSTEMATICALLY IGNORED and SUPPRESSED by the MONEY-GRUBBING and POWER- MONGERING \\\"medical\\\" establishment.      Some examples of very low cost NATURAL ANTI-cancer Remedies are listed in the following article:                             NATURAL ANTI-CANCER REMEDIES                                  A 3RD OPINION                           ( Some of these Remedies also work against AIDS. )             DISCLAIMER: This list was compiled from unorthodox sources            that have shown themselves to be reliable.  The compiler of            this list is NOT a doctor of any kind, but is exercising his            First Amendment Constitutional RIGHT of FREE SPEECH on the            subjects of his choice.              ( MOST of these Remedies can be found in ANY Grocery Store.             MOST of the rest of them can be found in ANY Health Food            Store.  What is important is HOW they are used, and what            else is EXCLUDED DURING their use. )             (1) THE 7-DAY FAST.                 1st day: Eat as much fresh fruit as you want, one kind            at a time, preferably grapes.                 2nd day: Eat all the vegetables you want, at least half            raw, including GARLIC; also, whole kernel corn to help scrape            clean the intestinal linings.                 3rd day: Drink all the fresh fruit and vegetable juice            you want.  Preferably start with 16 to 32 ounces of prune            juice WITH PULP, followed by a gallon of pure (NOT from            concentrate) apple juice, then grape juice.  (Stay close to            your home bathroom.)                 4th day: Eat all the UN-salted nuts (NO peanuts) and            dried fruit you want, preferably raisins and almonds (ALMONDS            CONTAIN LAETRILE.).                 5th day: ONE GALLON OF LEMONADE.  Squeeze the juice from            two lemons into a gallon of water (preferably distilled), and            add 2 to 4 tablespoons of locally-made honey, (NO sugar).             Drink one glass per hour.           [EVERYone, including healthy people, should do this one day            every week, preceded by a large glass of prune juice WITH            PULP.]                 6th day: Same as 5th day.                 7th day: Same as 6th day.                 All 7 days, eat ONLY the foods listed above for each            day, along with your usual vitamin and mineral supplements,            plus as much DISTILLED WATER as you want.             (2) THE GRAPE DIET.                 Eat 2 to 3 ounces of fresh grapes every 2 hours, 8 AM to            8 PM, every day for six days.  Eat NOTHING else during the            six days, but drink as much DISTILLED WATER as you want.                   (3) APPLE CIDER VINEGAR.                Mix a teaspoon of pure apple cider vinegar (NOT apple            cider \\\"flavored\\\" vinegar.  Regular vinegar is HARMFUL.) in a            glass of water (preferably distilled) and drink all of it.             Do this 3 or 4 times per day, for 3 weeks; then stop for a            week.  Repeat if desired.  Do this along with a normal            healthy diet of natural foods.  This remedy is especially            effective against those types of cancer that resemble a            FUNGUS, as well as against other kinds of fungus infections.                     (4) THE SEA-SALT & SODA BATH.  [Please keep an OPEN MIND.]                Fill a bathtub with moderately warm water so the level            comes up almost to the overflow drain when you get in.             Immerse yourself in it for a minute, and then completely            dissolve in the bath water 1 pound of SUN-evaporated SEA-salt            (regular salt won't work.) and 1 pound of fresh baking-soda.                 Soak in this bath for 10 to 20 minutes, while exercising            your fingers, toes, and limbs, turning sideways and onto your            stomach, dunking your head, sitting up and laying back down,            chomping your teeth together, etc..                 Among other things, the SEA-salt & Soda Bath neutralizes            the accumulated effects of X-rays, etc., as described in the            book \\\"Born To Be Magnetic, Vol. 2\\\", by Frances Nixon, 1973.                 PRECAUTIONS: Only the ONE person using each bath should            prepare it and drain it.           For at least 30 minutes after taking the bath, stay away            from, and even out of sight of, other people.  (Your greatly            expanded Aura energy-field during that time could disrupt            other people's fields.)  Two hours after the bath, eat at            least 8 ounces of yogurt containing ACTIVE Yogurt Cultures.             (The bath may kill FRIENDLY bacteria also.)  Better yet, take            a 2-Billion-bacteria \\\"Acidophilus\\\" capsule, which is also an            EXCELLENT DAILY REMEDY AGAINST THE EFFECTS OF \\\"A.I.D.S.\\\"            (because it kills all kinds of harmful bacteria in the            digestive tract, taking a big load off the remaining immune            system).  [Because this external bath can kill IN-ternal            bacteria, it may also be a CURE for \\\"Lyme disease\\\".]           Do NOT take this bath within a few hundred miles of a thunder            storm, within 3 days of a full moon, nor during \\\"Major\\\" or            \\\"Minor Periods\\\" as listed in the \\\"Solunar Tables\\\" published            bimonthly in \\\"Field & Stream\\\" Magazine, (because of the            measurable disruptive ambient environmental energy-fields            present at those times).           Do NOT take this bath more than four times per year.                    (5) MISCELLANEOUS NATURAL ANTI-CANCER REMEDIES:                         For skin cancer, apply STABILIZED Aloe Vera Jel to the                 affected skin twice daily, and take 2 to 4 tablespoons                 per day of STABILIZED Aloe Vera Juice internally, for                 about 2 months.                          D.M.S.O. (Dimethyl Sulfoxide) causes cancer cells to                 perform NORMAL cell functions.                  ALMONDS (UN-blanched, UN-roasted) CONTAIN LAETRILE.                  To help prevent cancer, eat several almonds every day.                  To help cure cancer, eat several OUNCES of almonds per                 day.                [NEVER take large concentrated doses of Laetrile orally.                  IT WILL KILL YOU!  Take it INTRAVENOUSLY ONLY.  (Cancer                 cells contain a certain enzyme which converts Laetrile                 into cyanide, which then kills the cell.  This enzyme is                 ALSO present in the digestive system.)]                  ANTI-OXIDANTS are FREE-RADICAL SCAVENGERS, and include                 Vitamin E, Selenium (200 mcg. per day is safe for most                 people.), Chromium (up to 100 mcg. per day), Vitamin A                 (25,000 IU per day is safe for most people.), Superoxide                 Dismutase (up to 4,000,000 Units per day), Vitamin C (up                 to 3000 mg. per day), and BHT (Butylated Hydroxy-                toluene), [1 to 4 capsules of BHT every night at bedtime                 will also MAKE ONE IMMUNE AGAINST HERPES (BOTH types),                 suppress herpes symptoms if one already has herpes,                 prevent spreading herpes to other people, but will not                 cure herpes.  BHT MIGHT ALSO DO THESE THINGS AGAINST                 \\\"A.I.D.S.\\\", which is really a form of cancer similar to                 leukemia.]  (See the book \\\"Life Extension\\\", by Durk                 Pearson and Sandy Shaw.)                  HYDROGEN-PEROXIDE.  Dilute twelve(12) drops of 3%                 hydrogen-peroxide in a glass of pure water (preferably                 DISTILLED) and drink it.  Do this once or twice per day,                 hours before or after eating or drinking anything else.                  Apply 3% hydrogen-peroxide directly to skin cancers                 several times per day.                Use hydrogen-peroxide ONLY if you are taking a good                 daily dose of some of the various anti-oxidants                 described above.                  VITAMIN & MINERAL SUPPLEMENTS are more effective, and                 much less expensive, when COMBINED together in MEGA                 doses into SINGLE tablets made from NATURAL sources.                  Cancer cells can NOT live in a strong (100,000 Maxwell)                 NORTH MAGNETIC FIELD, especially if it is pulsating on                 and off.  [A strong south magnetic field is an                 aphrodisiac.]  In my opinion, ALL types of ionizing-                radiation treatments for cancer should be REPLACED with                 daily 30-minute doses of pulsating 100,000-Maxwell NORTH                 magnetic fields.                  Properly made and operated RADIONICS/PSIONICS MACHINES                 can both diagnose and cure all forms of cancer, as well                 as most other medical problems.  Some Radionics/Psionics                 Machines can even take cross-sectional X-ray-like photos                 of cancer tumors, etc., with-OUT X-rays!                  INTERFERON tablets.                 TAHEEBO TEA, (Lapacho).                             HOMEOPATHY can cure cancer, and many other medical                 problems (even drug addiction!).                  50 mg. per day of CHELATED ZINC can help prevent or cure                 prostate trouble.                  This list is NOT exhaustive.              The above NATURAL Remedies can CURE both diagnosed AND UN-           DIAGNOSED cancers, as well as PREVENT them, and also prevent            and cure many other medical problems including heart-           diseases.  They are NOT too simple and inexpensive to work            effectively.             Besides acting on a person biologically and chemically, these            remedies, especially The 7-Day Fast and The Grape Diet, send            a strong message to one's subconscious mind, PROGRAMMING it            to CURE the cancer.             In my opinion, if a person finds out that s/he has cancer,            then s/he should promptly try at least the first 4 remedies            described above, in sequence (starting with The 7-Day Fast),            BEFORE resorting to the UN-natural and expensive mutilations            and agonies [POISON, BURN, and MUTILATE!] of orthodox cancer            treatment [organi$ed-CRIME!].                                  DISCLAIMER: This list was compiled from unorthodox sources            that have shown themselves to be reliable.  The compiler of            this list is NOT a doctor of any kind, but is exercising his            First Amendment Constitutional RIGHT of FREE SPEECH on the            subjects of his choice.              FOR MORE INFORMATION, contact Cancer Control Society, 2043 N.            Berendo St., Los Angeles, CA  90027, and/or other organiza-           tions listed in the \\\"Alternative Medicine\\\" and \\\"Holistic            Medicine\\\" portions of the \\\"Health and Medical Organizations\\\"            Section (Section 8) of the latest edition of the \\\"Encyclope-           dia of Associations\\\" reference book in your local public or            university library.                   UN-altered REPRODUCTION and DISSEMINATION of this            IMPORTANT Information is ENCOURAGED.  \",\"  It always amazes me how quick people are to blame whatever administration is current for things they couldn't possibly have initiated.  This chip had to take *years* to develop, yet already we're claiming that the Clinton administration sneaked it in on us. Bullshit.  The *Bush* administration and the career Gestapo were responsible for this horror, and the careerists presented it to the new presidency as a fait accompli.  That doesn't excuse Clinton and Gore from criticism for being so stupid as to go for it, but let's lay the body at the proper door to start with.\",\" The Apollo fire was harsh, A Saturn V explosion would have been hurtful but The Soviets winning would have been crushing. That could have been *the* technological turning point for the US turning us from Today's \\\"We can do anything, we're *the* Super Power\\\" to a much more reserved attitude like the Soviet Program today.  Kennedy was gone by 68\\\\69, the war was still on is the east, I think the program would have stalled badly and the goal of the moon by 70 would have been dead with Nasa trying to figure were they went wrong.    I speulate that: +The Saturn program would have been pushed into the 70s with cost over runs that would just be too evil.  Nixon still wins. +The Shuttle was never proposed and Skylab never built. +By 73 the program stalled yet again under the fuel crisis. +A string of small launches mark the mid seventies. +By 76 the goal of a US man on the moon is dead and the US space program drifts till the present day. \",\"I finally got a 24 bit viewer for my POVRAY generated .TGA files.  It was written in C by Sean Malloy and he kindly sent me a copy.  He wrote it for the same purpose, to view .TGA files using his SpeedStar 24.  It ONLY works with the SpeedStar 24 and I cannot send copies since it is not my program.  I believe the author may release a version at a future time when the program is more developed.   He may or may not comment on this, as he pleases.  Thanks to all who were helpful.  Regards,\",\"        Mr. Parsli, I have to take exception at this.  There are verifiable, previous *examples* of levels of U.S. governments abusing gun-control restrictions.  I don't think it is paranoid to worry that what has been abused in the recent past might be abused in thye future.  After so many times of getting burned any sane person will stop putting his hand on the stove.          I'd love to.  But as long as the politicians grab power to sell pork back to their constituents, there's not a lot I can do.           It's silly to suggest that if there's anything we can't trust the government to do, and therefore the government should be allowed to do it, then we should change governments.  Down that road lies total government power.   I've never been a fan of totalitarianism.          This is very likely.          The North American Continent is not Europe, no matter how many people would like it to be.  Drugs are very illegal and they're here.  For years Canada has crowed about its gun control.  If it is necessary to control guns over the whole continent, then Canada should have always had comparable rates to the U.S., yet they still don't. Unless you can tell me why the Canadian border is so much more magical than the Mexican border (which is shorter and far more heavily patrolled) then I really can't accept that argument.          No, there are approximately 31,000 deaths due to guns in the U.S., two-thirds of which are suicides.  (Unfortunately I don't have suicide rates for Norway.)  However, this makes the per-gun death rate about half the per-car death rate.         The problem's been humans since before we had stone axes.  The fct of the matter is simply this:  If nobody ever assaulted anybody, whether there is a weapon of any sort around would be totally irrelevent.        Yet weapons are *built*.  I'd suggest, then, that the murderous impulse in humanity pre-dates weapons.        Anyway, the Bosnians et al. have been making an excellent attempt to kill each other for half a thousand years.  Taking away their guns, even if we could, would neither halt the killing nor reduce the brutality.           In the U.S., approximately 60% of murders are commited with firearms. (50% with handguns, 10% with non-handguns.)  The reason I say that guns, per  se, are not the problem, is that our non-gun rate exceeds most of Europe's countries *entire* violent crime rate.  I don't really think we've got more knives or fists.           In any case, I think examples of gun control *applied* to the U.S. have been abkect failures, just like drug prohibition and other forms of prohibition.  Until you deal with *why* people are doing what they are doing, you won't solve your problem.  And if the problem is  violent crime, you shouldn't concentrate on the tools instead.  The *vast* majority of guns is never, ever misused.  (On the order of 99.5% over the entire lifetime of the gun).  This says to me that you can't make the argument that the gun itself causes the misuse.          The situation is not \\\"good\\\" in that people fear for their lives. But recall the scenes of the store-owners during the last riots, protecting their shops with guns.  Would it have been better they, too, lost their livelihoods?          The problem of poverty and rage in Los Angeles, no it isn't. However, if that problem becomes a violent action, then yes, it can be appropriate.  Whether or not some person has been hurt by their condition won't make me less dead if they burn down my house with me in it.         You have to examine which problem you're referring to.  If you're discussing someone violently assaulting you, then it is a perfectly legitimate response to make them stop.  (Hopefully simply letting them know you're prepared to shoot them would be enough, as it was with the above-mentioned store-owners.)          45% of Households have some form of firearm, usually a long gun. That accounts for a level of access for at least 100 million Americans. Firearm ownership is most likely among educated, well-off whites, the group *least* likely to be involved in violent crime.         You may take that for what it's worth. \",\":P :P>My favorite reply to the \\\"you are being too literal-minded\\\" complaint is :P>that if the bible is really inspired by God and if it is really THAT :P>important to him, then he would make damn certain all the translators and :P>scribes and people interpreting and copying it were getting it right, :P>literally.  If not, then why should I put ANY merit at all in something :P>that has been corrupted over and over and over by man even if it was :P>originally inspired by God? :P :PThe \\\"corrupted over and over\\\" theory is pretty weak.  Comparison of the :Pcurrent hebrew text with old versions and translations shows that the text :Phas in fact changed very little over a space of some two millennia.  This :Pshouldn't be all that suprising; people who believe in a text in this manner :Pare likely to makes some pains to make good copies.\"]],[\"SUBSET\",[\"raw\",\"raw\",\"raw\",\"raw\",\"raw\",\"raw\",\"raw\",\"raw\",\"raw\",\"raw\"]],[\"label\",[\"ABSTAIN\",\"ABSTAIN\",\"ABSTAIN\",\"ABSTAIN\",\"ABSTAIN\",\"ABSTAIN\",\"ABSTAIN\",\"ABSTAIN\",\"ABSTAIN\",\"ABSTAIN\"]]]}}},\"view\":{\"type\":\"object\",\"name\":\"CDSView\",\"id\":\"p1053\",\"attributes\":{\"filter\":{\"type\":\"object\",\"name\":\"AllIndices\",\"id\":\"p1054\"}}},\"columns\":[{\"type\":\"object\",\"name\":\"TableColumn\",\"id\":\"p1043\",\"attributes\":{\"field\":\"text\",\"title\":\"text\",\"formatter\":{\"type\":\"object\",\"name\":\"HTMLTemplateFormatter\",\"id\":\"p1042\",\"attributes\":{\"template\":\"<span href=\\\"#\\\" data-toggle=\\\"tooltip\\\" title=\\\"<%= value %>\\\"><%= value %></span>\"}},\"editor\":{\"type\":\"object\",\"name\":\"CellEditor\",\"id\":\"p1041\"}}},{\"type\":\"object\",\"name\":\"TableColumn\",\"id\":\"p1046\",\"attributes\":{\"field\":\"label\",\"title\":\"label\",\"formatter\":{\"type\":\"object\",\"name\":\"StringFormatter\",\"id\":\"p1047\"},\"editor\":{\"type\":\"object\",\"name\":\"StringEditor\",\"id\":\"p1048\"}}}],\"editable\":true,\"selectable\":\"checkbox\"}}]}}]}};\n",
       "  const render_items = [{\"docid\":\"83ba9b53-fdc2-4ef1-82c3-0090b1a62fdc\",\"roots\":{\"p1058\":\"d975954d-e37f-4e6c-8046-f3bf80db5464\"},\"root_ids\":[\"p1058\"]}];\n",
       "  void root.Bokeh.embed.embed_items_notebook(docs_json, render_items);\n",
       "  }\n",
       "  if (root.Bokeh !== undefined) {\n",
       "    embed_document(root);\n",
       "  } else {\n",
       "    let attempts = 0;\n",
       "    const timer = setInterval(function(root) {\n",
       "      if (root.Bokeh !== undefined) {\n",
       "        clearInterval(timer);\n",
       "        embed_document(root);\n",
       "      } else {\n",
       "        attempts++;\n",
       "        if (attempts > 100) {\n",
       "          clearInterval(timer);\n",
       "          console.log(\"Bokeh: ERROR: Unable to run BokehJS code because BokehJS library is missing\");\n",
       "        }\n",
       "      }\n",
       "    }, 10, root)\n",
       "  }\n",
       "})(window);"
      ],
      "application/vnd.bokehjs_exec.v0+json": ""
     },
     "metadata": {
      "application/vnd.bokehjs_exec.v0+json": {
       "id": "p1058"
      }
     },
     "output_type": "display_data"
    }
   ],
   "source": [
    "show(column(\n",
    "    row(\n",
    "        dataset.selection_evictor,\n",
    "        dataset.selection_patcher,\n",
    "    ),\n",
    "    dataset.sel_table,\n",
    "), notebook_url=notebook_url)"
   ]
  },
  {
   "cell_type": "markdown",
   "id": "9081e18d",
   "metadata": {},
   "source": [
    "<br>"
   ]
  }
 ],
 "metadata": {
  "language_info": {
   "codemirror_mode": {
    "name": "ipython",
    "version": 3
   },
   "file_extension": ".py",
   "mimetype": "text/x-python",
   "name": "python",
   "nbconvert_exporter": "python",
   "pygments_lexer": "ipython3",
   "version": "3.9.18"
  }
 },
 "nbformat": 4,
 "nbformat_minor": 5
}
