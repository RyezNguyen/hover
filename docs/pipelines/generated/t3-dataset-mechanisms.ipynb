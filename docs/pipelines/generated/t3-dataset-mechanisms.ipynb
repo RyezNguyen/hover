{
 "cells": [
  {
   "cell_type": "markdown",
   "id": "1632b2b6",
   "metadata": {},
   "source": [
    "> `SupervisableDataset` holds your data throughout the labeling process.\n",
    ">\n",
    "> :speedboat: Let's take a look at its core mechanisms.\n",
    "\n",
    "-   <details open><summary>This page addresses **single components** of `hover`</summary>\n",
    "    For illustration, we are using code snippets to pick out specific widgets so that the documentation can explain what they do.\n",
    "\n",
    "    -   Please be aware that you won't need to get the widgets by code in an actual use case.\n",
    "    -   Typical usage deals with [recipes](../../tutorial/t1-active-learning) where the individual parts have been tied together.\n",
    "\n",
    "</details>\n",
    "\n",
    "-   <details open><summary>Dependencies for {== local environments ==}</summary>\n",
    "    When you run the code locally, you may need to install additional packages.\n",
    "\n",
    "    To render `bokeh` plots in Jupyter, you need:\n",
    "```shell\n",
    "    pip install jupyter_bokeh\n",
    "```\n",
    "\n",
    "    If you are using JupyterLab older than 3.0, use this instead ([reference](https://pypi.org/project/jupyter-bokeh/)):\n",
    "```shell\n",
    "    jupyter labextension install @jupyter-widgets/jupyterlab-manager\n",
    "    jupyter labextension install @bokeh/jupyter_bokeh\n",
    "```\n",
    "\n",
    "</details>\n",
    "\n",
    "## **Data Subsets**\n",
    "\n",
    "We place unlabeled data and labeled data in different subsets: \"raw\", \"train\", \"dev\", and \"test\". Unlabeled data start from the \"raw\" subset, and can be transferred to other subsets after it gets labeled.\n",
    "\n",
    "`SupervisableDataset` uses a \"population table\", `dataset.pop_table`, to show the size of each subset:"
   ]
  },
  {
   "cell_type": "code",
   "execution_count": 1,
   "id": "5c81de22",
   "metadata": {
    "execution": {
     "iopub.execute_input": "2023-05-09T01:40:55.961479Z",
     "iopub.status.busy": "2023-05-09T01:40:55.961037Z",
     "iopub.status.idle": "2023-05-09T01:40:57.665100Z",
     "shell.execute_reply": "2023-05-09T01:40:57.664434Z"
    }
   },
   "outputs": [
    {
     "data": {
      "text/html": [
       "<pre style=\"white-space:pre;overflow-x:auto;line-height:normal;font-family:Menlo,'DejaVu Sans Mono',consolas,'Courier New',monospace\"><span style=\"color: #000080; text-decoration-color: #000080\">🔵 SupervisableTextDataset: Initializing</span><span style=\"color: #808000; text-decoration-color: #808000\">...</span>\n",
       "</pre>\n"
      ],
      "text/plain": [
       "\u001b[34m🔵 SupervisableTextDataset: Initializing\u001b[0m\u001b[33m...\u001b[0m\n"
      ]
     },
     "metadata": {},
     "output_type": "display_data"
    },
    {
     "data": {
      "text/html": [
       "<pre style=\"white-space:pre;overflow-x:auto;line-height:normal;font-family:Menlo,'DejaVu Sans Mono',consolas,'Courier New',monospace\"><span style=\"color: #000080; text-decoration-color: #000080\">🔵 SupervisableTextDataset: Deduplicating</span><span style=\"color: #808000; text-decoration-color: #808000\">...</span>\n",
       "</pre>\n"
      ],
      "text/plain": [
       "\u001b[34m🔵 SupervisableTextDataset: Deduplicating\u001b[0m\u001b[33m...\u001b[0m\n"
      ]
     },
     "metadata": {},
     "output_type": "display_data"
    },
    {
     "data": {
      "text/html": [
       "<pre style=\"white-space:pre;overflow-x:auto;line-height:normal;font-family:Menlo,'DejaVu Sans Mono',consolas,'Courier New',monospace\"><span style=\"color: #000080; text-decoration-color: #000080\">🔵 SupervisableTextDataset: --subset raw rows: </span><span style=\"color: #008080; text-decoration-color: #008080; font-weight: bold\">400</span><span style=\"color: #000080; text-decoration-color: #000080\"> -&gt; </span><span style=\"color: #008080; text-decoration-color: #008080; font-weight: bold\">370</span><span style=\"color: #000080; text-decoration-color: #000080\">.</span>\n",
       "</pre>\n"
      ],
      "text/plain": [
       "\u001b[34m🔵 SupervisableTextDataset: --subset raw rows: \u001b[0m\u001b[1;36m400\u001b[0m\u001b[34m -> \u001b[0m\u001b[1;36m370\u001b[0m\u001b[34m.\u001b[0m\n"
      ]
     },
     "metadata": {},
     "output_type": "display_data"
    },
    {
     "data": {
      "text/html": [
       "<pre style=\"white-space:pre;overflow-x:auto;line-height:normal;font-family:Menlo,'DejaVu Sans Mono',consolas,'Courier New',monospace\"><span style=\"color: #000080; text-decoration-color: #000080\">🔵 SupervisableTextDataset: --subset train rows: </span><span style=\"color: #008080; text-decoration-color: #008080; font-weight: bold\">400</span><span style=\"color: #000080; text-decoration-color: #000080\"> -&gt; </span><span style=\"color: #008080; text-decoration-color: #008080; font-weight: bold\">378</span><span style=\"color: #000080; text-decoration-color: #000080\">.</span>\n",
       "</pre>\n"
      ],
      "text/plain": [
       "\u001b[34m🔵 SupervisableTextDataset: --subset train rows: \u001b[0m\u001b[1;36m400\u001b[0m\u001b[34m -> \u001b[0m\u001b[1;36m378\u001b[0m\u001b[34m.\u001b[0m\n"
      ]
     },
     "metadata": {},
     "output_type": "display_data"
    },
    {
     "data": {
      "text/html": [
       "<pre style=\"white-space:pre;overflow-x:auto;line-height:normal;font-family:Menlo,'DejaVu Sans Mono',consolas,'Courier New',monospace\"><span style=\"color: #000080; text-decoration-color: #000080\">🔵 SupervisableTextDataset: --subset dev rows: </span><span style=\"color: #008080; text-decoration-color: #008080; font-weight: bold\">100</span><span style=\"color: #000080; text-decoration-color: #000080\"> -&gt; </span><span style=\"color: #008080; text-decoration-color: #008080; font-weight: bold\">95</span><span style=\"color: #000080; text-decoration-color: #000080\">.</span>\n",
       "</pre>\n"
      ],
      "text/plain": [
       "\u001b[34m🔵 SupervisableTextDataset: --subset dev rows: \u001b[0m\u001b[1;36m100\u001b[0m\u001b[34m -> \u001b[0m\u001b[1;36m95\u001b[0m\u001b[34m.\u001b[0m\n"
      ]
     },
     "metadata": {},
     "output_type": "display_data"
    },
    {
     "data": {
      "text/html": [
       "<pre style=\"white-space:pre;overflow-x:auto;line-height:normal;font-family:Menlo,'DejaVu Sans Mono',consolas,'Courier New',monospace\"><span style=\"color: #000080; text-decoration-color: #000080\">🔵 SupervisableTextDataset: --subset test rows: </span><span style=\"color: #008080; text-decoration-color: #008080; font-weight: bold\">100</span><span style=\"color: #000080; text-decoration-color: #000080\"> -&gt; </span><span style=\"color: #008080; text-decoration-color: #008080; font-weight: bold\">100</span><span style=\"color: #000080; text-decoration-color: #000080\">.</span>\n",
       "</pre>\n"
      ],
      "text/plain": [
       "\u001b[34m🔵 SupervisableTextDataset: --subset test rows: \u001b[0m\u001b[1;36m100\u001b[0m\u001b[34m -> \u001b[0m\u001b[1;36m100\u001b[0m\u001b[34m.\u001b[0m\n"
      ]
     },
     "metadata": {},
     "output_type": "display_data"
    },
    {
     "data": {
      "text/html": [
       "<pre style=\"white-space:pre;overflow-x:auto;line-height:normal;font-family:Menlo,'DejaVu Sans Mono',consolas,'Courier New',monospace\"><span style=\"color: #008000; text-decoration-color: #008000\">🟢 SupervisableTextDataset: Set up label encoder/decoder with </span><span style=\"color: #008080; text-decoration-color: #008080; font-weight: bold\">20</span><span style=\"color: #008000; text-decoration-color: #008000\"> classes.</span>\n",
       "</pre>\n"
      ],
      "text/plain": [
       "\u001b[32m🟢 SupervisableTextDataset: Set up label encoder/decoder with \u001b[0m\u001b[1;36m20\u001b[0m\u001b[32m classes.\u001b[0m\n"
      ]
     },
     "metadata": {},
     "output_type": "display_data"
    },
    {
     "data": {
      "text/html": [
       "<pre style=\"white-space:pre;overflow-x:auto;line-height:normal;font-family:Menlo,'DejaVu Sans Mono',consolas,'Courier New',monospace\"><span style=\"color: #008000; text-decoration-color: #008000\">🟢 SupervisableTextDataset: Population updater: latest population with </span><span style=\"color: #008080; text-decoration-color: #008080; font-weight: bold\">20</span><span style=\"color: #008000; text-decoration-color: #008000\"> classes.</span>\n",
       "</pre>\n"
      ],
      "text/plain": [
       "\u001b[32m🟢 SupervisableTextDataset: Population updater: latest population with \u001b[0m\u001b[1;36m20\u001b[0m\u001b[32m classes.\u001b[0m\n"
      ]
     },
     "metadata": {},
     "output_type": "display_data"
    },
    {
     "data": {
      "text/html": [
       "<pre style=\"white-space:pre;overflow-x:auto;line-height:normal;font-family:Menlo,'DejaVu Sans Mono',consolas,'Courier New',monospace\"><span style=\"color: #000080; text-decoration-color: #000080\">🔵 SupervisableTextDataset: finished setting up bokeh elements.</span>\n",
       "</pre>\n"
      ],
      "text/plain": [
       "\u001b[34m🔵 SupervisableTextDataset: finished setting up bokeh elements.\u001b[0m\n"
      ]
     },
     "metadata": {},
     "output_type": "display_data"
    },
    {
     "data": {
      "text/html": [
       "<pre style=\"white-space:pre;overflow-x:auto;line-height:normal;font-family:Menlo,'DejaVu Sans Mono',consolas,'Courier New',monospace\"><span style=\"color: #008000; text-decoration-color: #008000\">🟢 SupervisableTextDataset: finished initialization.</span>\n",
       "</pre>\n"
      ],
      "text/plain": [
       "\u001b[32m🟢 SupervisableTextDataset: finished initialization.\u001b[0m\n"
      ]
     },
     "metadata": {},
     "output_type": "display_data"
    }
   ],
   "source": [
    "from hover.core.dataset import SupervisableTextDataset\n",
    "import pandas as pd\n",
    "\n",
    "raw_csv_path = \"https://raw.githubusercontent.com/phurwicz/hover-gallery/main/0.5.0/20_newsgroups_raw.csv\"\n",
    "train_csv_path = \"https://raw.githubusercontent.com/phurwicz/hover-gallery/main/0.5.0/20_newsgroups_train.csv\"\n",
    "\n",
    "# for fast, low-memory demonstration purpose, sample the data\n",
    "df_raw = pd.read_csv(raw_csv_path).sample(400)\n",
    "df_raw[\"SUBSET\"] = \"raw\"\n",
    "df_train = pd.read_csv(train_csv_path).sample(400)\n",
    "df_train[\"SUBSET\"] = \"train\"\n",
    "df_dev = pd.read_csv(train_csv_path).sample(100)\n",
    "df_dev[\"SUBSET\"] = \"dev\"\n",
    "df_test = pd.read_csv(train_csv_path).sample(100)\n",
    "df_test[\"SUBSET\"] = \"test\"\n",
    "\n",
    "# build overall dataframe and ensure feature type\n",
    "df = pd.concat([df_raw, df_train, df_dev, df_test])\n",
    "df[\"text\"] = df[\"text\"].astype(str)\n",
    "\n",
    "# this class stores the dataset throught the labeling process\n",
    "dataset = SupervisableTextDataset.from_pandas(df, feature_key=\"text\", label_key=\"label\")"
   ]
  },
  {
   "cell_type": "markdown",
   "id": "e4a0982b",
   "metadata": {},
   "source": [
    "<br>"
   ]
  },
  {
   "cell_type": "code",
   "execution_count": 2,
   "id": "2a18372f",
   "metadata": {
    "execution": {
     "iopub.execute_input": "2023-05-09T01:40:57.668722Z",
     "iopub.status.busy": "2023-05-09T01:40:57.668076Z",
     "iopub.status.idle": "2023-05-09T01:40:57.753588Z",
     "shell.execute_reply": "2023-05-09T01:40:57.752851Z"
    }
   },
   "outputs": [
    {
     "data": {
      "text/html": [
       "<style>\n",
       "        .bk-notebook-logo {\n",
       "            display: block;\n",
       "            width: 20px;\n",
       "            height: 20px;\n",
       "            background-image: url(data:image/png;base64,iVBORw0KGgoAAAANSUhEUgAAABQAAAAUCAYAAACNiR0NAAAABHNCSVQICAgIfAhkiAAAAAlwSFlzAAALEgAACxIB0t1+/AAAABx0RVh0U29mdHdhcmUAQWRvYmUgRmlyZXdvcmtzIENTNui8sowAAAOkSURBVDiNjZRtaJVlGMd/1/08zzln5zjP1LWcU9N0NkN8m2CYjpgQYQXqSs0I84OLIC0hkEKoPtiH3gmKoiJDU7QpLgoLjLIQCpEsNJ1vqUOdO7ppbuec5+V+rj4ctwzd8IIbbi6u+8f1539dt3A78eXC7QizUF7gyV1fD1Yqg4JWz84yffhm0qkFqBogB9rM8tZdtwVsPUhWhGcFJngGeWrPzHm5oaMmkfEg1usvLFyc8jLRqDOMru7AyC8saQr7GG7f5fvDeH7Ej8CM66nIF+8yngt6HWaKh7k49Soy9nXurCi1o3qUbS3zWfrYeQDTB/Qj6kX6Ybhw4B+bOYoLKCC9H3Nu/leUTZ1JdRWkkn2ldcCamzrcf47KKXdAJllSlxAOkRgyHsGC/zRday5Qld9DyoM4/q/rUoy/CXh3jzOu3bHUVZeU+DEn8FInkPBFlu3+nW3Nw0mk6vCDiWg8CeJaxEwuHS3+z5RgY+YBR6V1Z1nxSOfoaPa4LASWxxdNp+VWTk7+4vzaou8v8PN+xo+KY2xsw6une2frhw05CTYOmQvsEhjhWjn0bmXPjpE1+kplmmkP3suftwTubK9Vq22qKmrBhpY4jvd5afdRA3wGjFAgcnTK2s4hY0/GPNIb0nErGMCRxWOOX64Z8RAC4oCXdklmEvcL8o0BfkNK4lUg9HTl+oPlQxdNo3Mg4Nv175e/1LDGzZen30MEjRUtmXSfiTVu1kK8W4txyV6BMKlbgk3lMwYCiusNy9fVfvvwMxv8Ynl6vxoByANLTWplvuj/nF9m2+PDtt1eiHPBr1oIfhCChQMBw6Aw0UulqTKZdfVvfG7VcfIqLG9bcldL/+pdWTLxLUy8Qq38heUIjh4XlzZxzQm19lLFlr8vdQ97rjZVOLf8nclzckbcD4wxXMidpX30sFd37Fv/GtwwhzhxGVAprjbg0gCAEeIgwCZyTV2Z1REEW8O4py0wsjeloKoMr6iCY6dP92H6Vw/oTyICIthibxjm/DfN9lVz8IqtqKYLUXfoKVMVQVVJOElGjrnnUt9T9wbgp8AyYKaGlqingHZU/uG2NTZSVqwHQTWkx9hxjkpWDaCg6Ckj5qebgBVbT3V3NNXMSiWSDdGV3hrtzla7J+duwPOToIg42ChPQOQjspnSlp1V+Gjdged7+8UN5CRAV7a5EdFNwCjEaBR27b3W890TE7g24NAP/mMDXRWrGoFPQI9ls/MWO2dWFAar/xcOIImbbpA3zgAAAABJRU5ErkJggg==);\n",
       "        }\n",
       "    </style>\n",
       "    <div>\n",
       "        <a href=\"https://bokeh.org\" target=\"_blank\" class=\"bk-notebook-logo\"></a>\n",
       "        <span id=\"edc1b1c9-6f01-4739-a245-1506cc620a6c\">Loading BokehJS ...</span>\n",
       "    </div>\n"
      ]
     },
     "metadata": {},
     "output_type": "display_data"
    },
    {
     "data": {
      "application/javascript": [
       "(function(root) {\n",
       "  function now() {\n",
       "    return new Date();\n",
       "  }\n",
       "\n",
       "  const force = true;\n",
       "\n",
       "  if (typeof root._bokeh_onload_callbacks === \"undefined\" || force === true) {\n",
       "    root._bokeh_onload_callbacks = [];\n",
       "    root._bokeh_is_loading = undefined;\n",
       "  }\n",
       "\n",
       "const JS_MIME_TYPE = 'application/javascript';\n",
       "  const HTML_MIME_TYPE = 'text/html';\n",
       "  const EXEC_MIME_TYPE = 'application/vnd.bokehjs_exec.v0+json';\n",
       "  const CLASS_NAME = 'output_bokeh rendered_html';\n",
       "\n",
       "  /**\n",
       "   * Render data to the DOM node\n",
       "   */\n",
       "  function render(props, node) {\n",
       "    const script = document.createElement(\"script\");\n",
       "    node.appendChild(script);\n",
       "  }\n",
       "\n",
       "  /**\n",
       "   * Handle when an output is cleared or removed\n",
       "   */\n",
       "  function handleClearOutput(event, handle) {\n",
       "    const cell = handle.cell;\n",
       "\n",
       "    const id = cell.output_area._bokeh_element_id;\n",
       "    const server_id = cell.output_area._bokeh_server_id;\n",
       "    // Clean up Bokeh references\n",
       "    if (id != null && id in Bokeh.index) {\n",
       "      Bokeh.index[id].model.document.clear();\n",
       "      delete Bokeh.index[id];\n",
       "    }\n",
       "\n",
       "    if (server_id !== undefined) {\n",
       "      // Clean up Bokeh references\n",
       "      const cmd_clean = \"from bokeh.io.state import curstate; print(curstate().uuid_to_server['\" + server_id + \"'].get_sessions()[0].document.roots[0]._id)\";\n",
       "      cell.notebook.kernel.execute(cmd_clean, {\n",
       "        iopub: {\n",
       "          output: function(msg) {\n",
       "            const id = msg.content.text.trim();\n",
       "            if (id in Bokeh.index) {\n",
       "              Bokeh.index[id].model.document.clear();\n",
       "              delete Bokeh.index[id];\n",
       "            }\n",
       "          }\n",
       "        }\n",
       "      });\n",
       "      // Destroy server and session\n",
       "      const cmd_destroy = \"import bokeh.io.notebook as ion; ion.destroy_server('\" + server_id + \"')\";\n",
       "      cell.notebook.kernel.execute(cmd_destroy);\n",
       "    }\n",
       "  }\n",
       "\n",
       "  /**\n",
       "   * Handle when a new output is added\n",
       "   */\n",
       "  function handleAddOutput(event, handle) {\n",
       "    const output_area = handle.output_area;\n",
       "    const output = handle.output;\n",
       "\n",
       "    // limit handleAddOutput to display_data with EXEC_MIME_TYPE content only\n",
       "    if ((output.output_type != \"display_data\") || (!Object.prototype.hasOwnProperty.call(output.data, EXEC_MIME_TYPE))) {\n",
       "      return\n",
       "    }\n",
       "\n",
       "    const toinsert = output_area.element.find(\".\" + CLASS_NAME.split(' ')[0]);\n",
       "\n",
       "    if (output.metadata[EXEC_MIME_TYPE][\"id\"] !== undefined) {\n",
       "      toinsert[toinsert.length - 1].firstChild.textContent = output.data[JS_MIME_TYPE];\n",
       "      // store reference to embed id on output_area\n",
       "      output_area._bokeh_element_id = output.metadata[EXEC_MIME_TYPE][\"id\"];\n",
       "    }\n",
       "    if (output.metadata[EXEC_MIME_TYPE][\"server_id\"] !== undefined) {\n",
       "      const bk_div = document.createElement(\"div\");\n",
       "      bk_div.innerHTML = output.data[HTML_MIME_TYPE];\n",
       "      const script_attrs = bk_div.children[0].attributes;\n",
       "      for (let i = 0; i < script_attrs.length; i++) {\n",
       "        toinsert[toinsert.length - 1].firstChild.setAttribute(script_attrs[i].name, script_attrs[i].value);\n",
       "        toinsert[toinsert.length - 1].firstChild.textContent = bk_div.children[0].textContent\n",
       "      }\n",
       "      // store reference to server id on output_area\n",
       "      output_area._bokeh_server_id = output.metadata[EXEC_MIME_TYPE][\"server_id\"];\n",
       "    }\n",
       "  }\n",
       "\n",
       "  function register_renderer(events, OutputArea) {\n",
       "\n",
       "    function append_mime(data, metadata, element) {\n",
       "      // create a DOM node to render to\n",
       "      const toinsert = this.create_output_subarea(\n",
       "        metadata,\n",
       "        CLASS_NAME,\n",
       "        EXEC_MIME_TYPE\n",
       "      );\n",
       "      this.keyboard_manager.register_events(toinsert);\n",
       "      // Render to node\n",
       "      const props = {data: data, metadata: metadata[EXEC_MIME_TYPE]};\n",
       "      render(props, toinsert[toinsert.length - 1]);\n",
       "      element.append(toinsert);\n",
       "      return toinsert\n",
       "    }\n",
       "\n",
       "    /* Handle when an output is cleared or removed */\n",
       "    events.on('clear_output.CodeCell', handleClearOutput);\n",
       "    events.on('delete.Cell', handleClearOutput);\n",
       "\n",
       "    /* Handle when a new output is added */\n",
       "    events.on('output_added.OutputArea', handleAddOutput);\n",
       "\n",
       "    /**\n",
       "     * Register the mime type and append_mime function with output_area\n",
       "     */\n",
       "    OutputArea.prototype.register_mime_type(EXEC_MIME_TYPE, append_mime, {\n",
       "      /* Is output safe? */\n",
       "      safe: true,\n",
       "      /* Index of renderer in `output_area.display_order` */\n",
       "      index: 0\n",
       "    });\n",
       "  }\n",
       "\n",
       "  // register the mime type if in Jupyter Notebook environment and previously unregistered\n",
       "  if (root.Jupyter !== undefined) {\n",
       "    const events = require('base/js/events');\n",
       "    const OutputArea = require('notebook/js/outputarea').OutputArea;\n",
       "\n",
       "    if (OutputArea.prototype.mime_types().indexOf(EXEC_MIME_TYPE) == -1) {\n",
       "      register_renderer(events, OutputArea);\n",
       "    }\n",
       "  }\n",
       "  if (typeof (root._bokeh_timeout) === \"undefined\" || force === true) {\n",
       "    root._bokeh_timeout = Date.now() + 5000;\n",
       "    root._bokeh_failed_load = false;\n",
       "  }\n",
       "\n",
       "  const NB_LOAD_WARNING = {'data': {'text/html':\n",
       "     \"<div style='background-color: #fdd'>\\n\"+\n",
       "     \"<p>\\n\"+\n",
       "     \"BokehJS does not appear to have successfully loaded. If loading BokehJS from CDN, this \\n\"+\n",
       "     \"may be due to a slow or bad network connection. Possible fixes:\\n\"+\n",
       "     \"</p>\\n\"+\n",
       "     \"<ul>\\n\"+\n",
       "     \"<li>re-rerun `output_notebook()` to attempt to load from CDN again, or</li>\\n\"+\n",
       "     \"<li>use INLINE resources instead, as so:</li>\\n\"+\n",
       "     \"</ul>\\n\"+\n",
       "     \"<code>\\n\"+\n",
       "     \"from bokeh.resources import INLINE\\n\"+\n",
       "     \"output_notebook(resources=INLINE)\\n\"+\n",
       "     \"</code>\\n\"+\n",
       "     \"</div>\"}};\n",
       "\n",
       "  function display_loaded() {\n",
       "    const el = document.getElementById(\"edc1b1c9-6f01-4739-a245-1506cc620a6c\");\n",
       "    if (el != null) {\n",
       "      el.textContent = \"BokehJS is loading...\";\n",
       "    }\n",
       "    if (root.Bokeh !== undefined) {\n",
       "      if (el != null) {\n",
       "        el.textContent = \"BokehJS \" + root.Bokeh.version + \" successfully loaded.\";\n",
       "      }\n",
       "    } else if (Date.now() < root._bokeh_timeout) {\n",
       "      setTimeout(display_loaded, 100)\n",
       "    }\n",
       "  }\n",
       "\n",
       "  function run_callbacks() {\n",
       "    try {\n",
       "      root._bokeh_onload_callbacks.forEach(function(callback) {\n",
       "        if (callback != null)\n",
       "          callback();\n",
       "      });\n",
       "    } finally {\n",
       "      delete root._bokeh_onload_callbacks\n",
       "    }\n",
       "    console.debug(\"Bokeh: all callbacks have finished\");\n",
       "  }\n",
       "\n",
       "  function load_libs(css_urls, js_urls, callback) {\n",
       "    if (css_urls == null) css_urls = [];\n",
       "    if (js_urls == null) js_urls = [];\n",
       "\n",
       "    root._bokeh_onload_callbacks.push(callback);\n",
       "    if (root._bokeh_is_loading > 0) {\n",
       "      console.debug(\"Bokeh: BokehJS is being loaded, scheduling callback at\", now());\n",
       "      return null;\n",
       "    }\n",
       "    if (js_urls == null || js_urls.length === 0) {\n",
       "      run_callbacks();\n",
       "      return null;\n",
       "    }\n",
       "    console.debug(\"Bokeh: BokehJS not loaded, scheduling load and callback at\", now());\n",
       "    root._bokeh_is_loading = css_urls.length + js_urls.length;\n",
       "\n",
       "    function on_load() {\n",
       "      root._bokeh_is_loading--;\n",
       "      if (root._bokeh_is_loading === 0) {\n",
       "        console.debug(\"Bokeh: all BokehJS libraries/stylesheets loaded\");\n",
       "        run_callbacks()\n",
       "      }\n",
       "    }\n",
       "\n",
       "    function on_error(url) {\n",
       "      console.error(\"failed to load \" + url);\n",
       "    }\n",
       "\n",
       "    for (let i = 0; i < css_urls.length; i++) {\n",
       "      const url = css_urls[i];\n",
       "      const element = document.createElement(\"link\");\n",
       "      element.onload = on_load;\n",
       "      element.onerror = on_error.bind(null, url);\n",
       "      element.rel = \"stylesheet\";\n",
       "      element.type = \"text/css\";\n",
       "      element.href = url;\n",
       "      console.debug(\"Bokeh: injecting link tag for BokehJS stylesheet: \", url);\n",
       "      document.body.appendChild(element);\n",
       "    }\n",
       "\n",
       "    for (let i = 0; i < js_urls.length; i++) {\n",
       "      const url = js_urls[i];\n",
       "      const element = document.createElement('script');\n",
       "      element.onload = on_load;\n",
       "      element.onerror = on_error.bind(null, url);\n",
       "      element.async = false;\n",
       "      element.src = url;\n",
       "      console.debug(\"Bokeh: injecting script tag for BokehJS library: \", url);\n",
       "      document.head.appendChild(element);\n",
       "    }\n",
       "  };\n",
       "\n",
       "  function inject_raw_css(css) {\n",
       "    const element = document.createElement(\"style\");\n",
       "    element.appendChild(document.createTextNode(css));\n",
       "    document.body.appendChild(element);\n",
       "  }\n",
       "\n",
       "  const js_urls = [\"https://cdn.bokeh.org/bokeh/release/bokeh-3.1.1.min.js\", \"https://cdn.bokeh.org/bokeh/release/bokeh-gl-3.1.1.min.js\", \"https://cdn.bokeh.org/bokeh/release/bokeh-widgets-3.1.1.min.js\", \"https://cdn.bokeh.org/bokeh/release/bokeh-tables-3.1.1.min.js\", \"https://cdn.bokeh.org/bokeh/release/bokeh-mathjax-3.1.1.min.js\"];\n",
       "  const css_urls = [];\n",
       "\n",
       "  const inline_js = [    function(Bokeh) {\n",
       "      Bokeh.set_log_level(\"info\");\n",
       "    },\n",
       "function(Bokeh) {\n",
       "    }\n",
       "  ];\n",
       "\n",
       "  function run_inline_js() {\n",
       "    if (root.Bokeh !== undefined || force === true) {\n",
       "          for (let i = 0; i < inline_js.length; i++) {\n",
       "      inline_js[i].call(root, root.Bokeh);\n",
       "    }\n",
       "if (force === true) {\n",
       "        display_loaded();\n",
       "      }} else if (Date.now() < root._bokeh_timeout) {\n",
       "      setTimeout(run_inline_js, 100);\n",
       "    } else if (!root._bokeh_failed_load) {\n",
       "      console.log(\"Bokeh: BokehJS failed to load within specified timeout.\");\n",
       "      root._bokeh_failed_load = true;\n",
       "    } else if (force !== true) {\n",
       "      const cell = $(document.getElementById(\"edc1b1c9-6f01-4739-a245-1506cc620a6c\")).parents('.cell').data().cell;\n",
       "      cell.output_area.append_execute_result(NB_LOAD_WARNING)\n",
       "    }\n",
       "  }\n",
       "\n",
       "  if (root._bokeh_is_loading === 0) {\n",
       "    console.debug(\"Bokeh: BokehJS loaded, going straight to plotting\");\n",
       "    run_inline_js();\n",
       "  } else {\n",
       "    load_libs(css_urls, js_urls, function() {\n",
       "      console.debug(\"Bokeh: BokehJS plotting callback run at\", now());\n",
       "      run_inline_js();\n",
       "    });\n",
       "  }\n",
       "}(window));"
      ],
      "application/vnd.bokehjs_load.v0+json": "(function(root) {\n  function now() {\n    return new Date();\n  }\n\n  const force = true;\n\n  if (typeof root._bokeh_onload_callbacks === \"undefined\" || force === true) {\n    root._bokeh_onload_callbacks = [];\n    root._bokeh_is_loading = undefined;\n  }\n\n\n  if (typeof (root._bokeh_timeout) === \"undefined\" || force === true) {\n    root._bokeh_timeout = Date.now() + 5000;\n    root._bokeh_failed_load = false;\n  }\n\n  const NB_LOAD_WARNING = {'data': {'text/html':\n     \"<div style='background-color: #fdd'>\\n\"+\n     \"<p>\\n\"+\n     \"BokehJS does not appear to have successfully loaded. If loading BokehJS from CDN, this \\n\"+\n     \"may be due to a slow or bad network connection. Possible fixes:\\n\"+\n     \"</p>\\n\"+\n     \"<ul>\\n\"+\n     \"<li>re-rerun `output_notebook()` to attempt to load from CDN again, or</li>\\n\"+\n     \"<li>use INLINE resources instead, as so:</li>\\n\"+\n     \"</ul>\\n\"+\n     \"<code>\\n\"+\n     \"from bokeh.resources import INLINE\\n\"+\n     \"output_notebook(resources=INLINE)\\n\"+\n     \"</code>\\n\"+\n     \"</div>\"}};\n\n  function display_loaded() {\n    const el = document.getElementById(\"edc1b1c9-6f01-4739-a245-1506cc620a6c\");\n    if (el != null) {\n      el.textContent = \"BokehJS is loading...\";\n    }\n    if (root.Bokeh !== undefined) {\n      if (el != null) {\n        el.textContent = \"BokehJS \" + root.Bokeh.version + \" successfully loaded.\";\n      }\n    } else if (Date.now() < root._bokeh_timeout) {\n      setTimeout(display_loaded, 100)\n    }\n  }\n\n  function run_callbacks() {\n    try {\n      root._bokeh_onload_callbacks.forEach(function(callback) {\n        if (callback != null)\n          callback();\n      });\n    } finally {\n      delete root._bokeh_onload_callbacks\n    }\n    console.debug(\"Bokeh: all callbacks have finished\");\n  }\n\n  function load_libs(css_urls, js_urls, callback) {\n    if (css_urls == null) css_urls = [];\n    if (js_urls == null) js_urls = [];\n\n    root._bokeh_onload_callbacks.push(callback);\n    if (root._bokeh_is_loading > 0) {\n      console.debug(\"Bokeh: BokehJS is being loaded, scheduling callback at\", now());\n      return null;\n    }\n    if (js_urls == null || js_urls.length === 0) {\n      run_callbacks();\n      return null;\n    }\n    console.debug(\"Bokeh: BokehJS not loaded, scheduling load and callback at\", now());\n    root._bokeh_is_loading = css_urls.length + js_urls.length;\n\n    function on_load() {\n      root._bokeh_is_loading--;\n      if (root._bokeh_is_loading === 0) {\n        console.debug(\"Bokeh: all BokehJS libraries/stylesheets loaded\");\n        run_callbacks()\n      }\n    }\n\n    function on_error(url) {\n      console.error(\"failed to load \" + url);\n    }\n\n    for (let i = 0; i < css_urls.length; i++) {\n      const url = css_urls[i];\n      const element = document.createElement(\"link\");\n      element.onload = on_load;\n      element.onerror = on_error.bind(null, url);\n      element.rel = \"stylesheet\";\n      element.type = \"text/css\";\n      element.href = url;\n      console.debug(\"Bokeh: injecting link tag for BokehJS stylesheet: \", url);\n      document.body.appendChild(element);\n    }\n\n    for (let i = 0; i < js_urls.length; i++) {\n      const url = js_urls[i];\n      const element = document.createElement('script');\n      element.onload = on_load;\n      element.onerror = on_error.bind(null, url);\n      element.async = false;\n      element.src = url;\n      console.debug(\"Bokeh: injecting script tag for BokehJS library: \", url);\n      document.head.appendChild(element);\n    }\n  };\n\n  function inject_raw_css(css) {\n    const element = document.createElement(\"style\");\n    element.appendChild(document.createTextNode(css));\n    document.body.appendChild(element);\n  }\n\n  const js_urls = [\"https://cdn.bokeh.org/bokeh/release/bokeh-3.1.1.min.js\", \"https://cdn.bokeh.org/bokeh/release/bokeh-gl-3.1.1.min.js\", \"https://cdn.bokeh.org/bokeh/release/bokeh-widgets-3.1.1.min.js\", \"https://cdn.bokeh.org/bokeh/release/bokeh-tables-3.1.1.min.js\", \"https://cdn.bokeh.org/bokeh/release/bokeh-mathjax-3.1.1.min.js\"];\n  const css_urls = [];\n\n  const inline_js = [    function(Bokeh) {\n      Bokeh.set_log_level(\"info\");\n    },\nfunction(Bokeh) {\n    }\n  ];\n\n  function run_inline_js() {\n    if (root.Bokeh !== undefined || force === true) {\n          for (let i = 0; i < inline_js.length; i++) {\n      inline_js[i].call(root, root.Bokeh);\n    }\nif (force === true) {\n        display_loaded();\n      }} else if (Date.now() < root._bokeh_timeout) {\n      setTimeout(run_inline_js, 100);\n    } else if (!root._bokeh_failed_load) {\n      console.log(\"Bokeh: BokehJS failed to load within specified timeout.\");\n      root._bokeh_failed_load = true;\n    } else if (force !== true) {\n      const cell = $(document.getElementById(\"edc1b1c9-6f01-4739-a245-1506cc620a6c\")).parents('.cell').data().cell;\n      cell.output_area.append_execute_result(NB_LOAD_WARNING)\n    }\n  }\n\n  if (root._bokeh_is_loading === 0) {\n    console.debug(\"Bokeh: BokehJS loaded, going straight to plotting\");\n    run_inline_js();\n  } else {\n    load_libs(css_urls, js_urls, function() {\n      console.debug(\"Bokeh: BokehJS plotting callback run at\", now());\n      run_inline_js();\n    });\n  }\n}(window));"
     },
     "metadata": {},
     "output_type": "display_data"
    },
    {
     "data": {
      "text/html": [
       "\n",
       "  <div id=\"fb4b5e1b-d8de-4d09-88cf-a83fe0c9a5a3\" data-root-id=\"p1032\" style=\"display: contents;\"></div>\n"
      ]
     },
     "metadata": {},
     "output_type": "display_data"
    },
    {
     "data": {
      "application/javascript": [
       "(function(root) {\n",
       "  function embed_document(root) {\n",
       "  const docs_json = {\"54e94bb6-a231-4e83-9400-490ff962d141\":{\"version\":\"3.1.1\",\"title\":\"Bokeh Application\",\"defs\":[],\"roots\":[{\"type\":\"object\",\"name\":\"DataTable\",\"id\":\"p1032\",\"attributes\":{\"source\":{\"type\":\"object\",\"name\":\"ColumnDataSource\",\"id\":\"p1010\",\"attributes\":{\"selected\":{\"type\":\"object\",\"name\":\"Selection\",\"id\":\"p1012\",\"attributes\":{\"indices\":[],\"line_indices\":[]}},\"selection_policy\":{\"type\":\"object\",\"name\":\"UnionRenderers\",\"id\":\"p1011\"},\"data\":{\"type\":\"map\",\"entries\":[[\"color\",[\"#dcdcdc\",\"#3c3285\",\"#4353c2\",\"#4673eb\",\"#4291fe\",\"#2fb1f3\",\"#1ccdd7\",\"#19e3b8\",\"#32f197\",\"#61fc6c\",\"#8efe48\",\"#b1f836\",\"#cfea34\",\"#ead339\",\"#f9ba38\",\"#fe9b2d\",\"#f9771e\",\"#ec520e\",\"#d93806\",\"#c02302\",\"#a01101\"]],[\"label\",[\"ABSTAIN\",\"alt.atheism\",\"comp.graphics\",\"comp.os.ms-windows.misc\",\"comp.sys.ibm.pc.hardware\",\"comp.sys.mac.hardware\",\"comp.windows.x\",\"misc.forsale\",\"rec.autos\",\"rec.motorcycles\",\"rec.sport.baseball\",\"rec.sport.hockey\",\"sci.crypt\",\"sci.electronics\",\"sci.med\",\"sci.space\",\"soc.religion.christian\",\"talk.politics.guns\",\"talk.politics.mideast\",\"talk.politics.misc\",\"talk.religion.misc\"]],[\"count_raw\",[370,0,0,0,0,0,0,0,0,0,0,0,0,0,0,0,0,0,0,0,0]],[\"count_train\",[0,10,15,20,21,20,20,21,23,22,24,12,15,26,25,24,25,19,18,12,6]],[\"count_dev\",[0,7,4,6,5,7,3,6,1,5,3,3,7,5,4,13,7,4,1,2,2]],[\"count_test\",[0,6,4,6,5,5,5,1,5,8,8,6,4,5,7,4,3,9,6,2,1]]]}}},\"view\":{\"type\":\"object\",\"name\":\"CDSView\",\"id\":\"p1036\",\"attributes\":{\"filter\":{\"type\":\"object\",\"name\":\"AllIndices\",\"id\":\"p1037\"}}},\"columns\":[{\"type\":\"object\",\"name\":\"TableColumn\",\"id\":\"p1013\",\"attributes\":{\"field\":\"label\",\"title\":\"label\",\"formatter\":{\"type\":\"object\",\"name\":\"StringFormatter\",\"id\":\"p1015\"},\"editor\":{\"type\":\"object\",\"name\":\"StringEditor\",\"id\":\"p1014\"}}},{\"type\":\"object\",\"name\":\"TableColumn\",\"id\":\"p1016\",\"attributes\":{\"field\":\"count_raw\",\"title\":\"raw\",\"formatter\":{\"type\":\"object\",\"name\":\"StringFormatter\",\"id\":\"p1018\"},\"editor\":{\"type\":\"object\",\"name\":\"StringEditor\",\"id\":\"p1017\"}}},{\"type\":\"object\",\"name\":\"TableColumn\",\"id\":\"p1019\",\"attributes\":{\"field\":\"count_train\",\"title\":\"train\",\"formatter\":{\"type\":\"object\",\"name\":\"StringFormatter\",\"id\":\"p1021\"},\"editor\":{\"type\":\"object\",\"name\":\"StringEditor\",\"id\":\"p1020\"}}},{\"type\":\"object\",\"name\":\"TableColumn\",\"id\":\"p1022\",\"attributes\":{\"field\":\"count_dev\",\"title\":\"dev\",\"formatter\":{\"type\":\"object\",\"name\":\"StringFormatter\",\"id\":\"p1024\"},\"editor\":{\"type\":\"object\",\"name\":\"StringEditor\",\"id\":\"p1023\"}}},{\"type\":\"object\",\"name\":\"TableColumn\",\"id\":\"p1025\",\"attributes\":{\"field\":\"count_test\",\"title\":\"test\",\"formatter\":{\"type\":\"object\",\"name\":\"StringFormatter\",\"id\":\"p1027\"},\"editor\":{\"type\":\"object\",\"name\":\"StringEditor\",\"id\":\"p1026\"}}},{\"type\":\"object\",\"name\":\"TableColumn\",\"id\":\"p1029\",\"attributes\":{\"field\":\"color\",\"title\":\"color\",\"formatter\":{\"type\":\"object\",\"name\":\"HTMLTemplateFormatter\",\"id\":\"p1028\",\"attributes\":{\"template\":\"\\n<p style=\\\"color:<%= value %>;\\\">\\n    <%= \\\"&#9608;&#9608;&#9608;\\\" %>\\n</p>\\n\"}},\"editor\":{\"type\":\"object\",\"name\":\"StringEditor\",\"id\":\"p1031\"}}}]}}],\"callbacks\":{\"type\":\"map\"}}};\n",
       "  const render_items = [{\"docid\":\"54e94bb6-a231-4e83-9400-490ff962d141\",\"roots\":{\"p1032\":\"fb4b5e1b-d8de-4d09-88cf-a83fe0c9a5a3\"},\"root_ids\":[\"p1032\"]}];\n",
       "  root.Bokeh.embed.embed_items_notebook(docs_json, render_items);\n",
       "  }\n",
       "  if (root.Bokeh !== undefined) {\n",
       "    embed_document(root);\n",
       "  } else {\n",
       "    let attempts = 0;\n",
       "    const timer = setInterval(function(root) {\n",
       "      if (root.Bokeh !== undefined) {\n",
       "        clearInterval(timer);\n",
       "        embed_document(root);\n",
       "      } else {\n",
       "        attempts++;\n",
       "        if (attempts > 100) {\n",
       "          clearInterval(timer);\n",
       "          console.log(\"Bokeh: ERROR: Unable to run BokehJS code because BokehJS library is missing\");\n",
       "        }\n",
       "      }\n",
       "    }, 10, root)\n",
       "  }\n",
       "})(window);"
      ],
      "application/vnd.bokehjs_exec.v0+json": ""
     },
     "metadata": {
      "application/vnd.bokehjs_exec.v0+json": {
       "id": "p1032"
      }
     },
     "output_type": "display_data"
    }
   ],
   "source": [
    "from bokeh.io import show, output_notebook\n",
    "\n",
    "output_notebook()\n",
    "\n",
    "# normally your would skip notebook_url or use Jupyter address\n",
    "notebook_url = 'localhost:8888'\n",
    "\n",
    "show(dataset.pop_table, notebook_url=notebook_url)"
   ]
  },
  {
   "cell_type": "markdown",
   "id": "2d48003b",
   "metadata": {},
   "source": [
    "<br>\n",
    "\n",
    "### **Transfer Data Between Subsets**\n",
    "\n",
    "`COMMIT` and `DEDUP` are the mechanisms that `hover` uses to transfer data between subsets.\n",
    "\n",
    "-   `COMMIT` copies selected points (to be discussed later) to a destination subset\n",
    "    -   labeled-raw-only: `COMMIT` automatically detects which points are in the raw set with a valid label. Other points will not get copied.\n",
    "    -   keep-last: you can commit the same point to the same subset multiple times and the last copy will be kept. This can be useful for revising labels before `DEDUP`.\n",
    "-   `DEDUP` removes duplicates (identified by feature value) across subsets\n",
    "    -   priority rule: test > dev > train > raw, i.e. test set data always gets kept during deduplication\n",
    "\n",
    "-   <details open><summary>FAQ</summary>\n",
    "    <details open><summary>Why does COMMIT only work on the raw subset?</summary>\n",
    "        Most selections will happen through plots, where different subsets are on top of each other. This means selections can contain both unlabeled and labeled points.\n",
    "\n",
    "        Way too often we find ourselves trying to view both the labeled and the unlabeled, but only moving the unlabeled \"raw\" points. So it's handy that COMMIT picks those points only.\n",
    "    </details>\n",
    "\n",
    "</details>\n",
    "\n",
    "These mechanisms correspond to buttons in `hover`'s annotation interface, which you have encountered in the quickstart:"
   ]
  },
  {
   "cell_type": "code",
   "execution_count": 3,
   "id": "f591313d",
   "metadata": {
    "execution": {
     "iopub.execute_input": "2023-05-09T01:40:57.757252Z",
     "iopub.status.busy": "2023-05-09T01:40:57.756733Z",
     "iopub.status.idle": "2023-05-09T01:40:57.803566Z",
     "shell.execute_reply": "2023-05-09T01:40:57.802852Z"
    }
   },
   "outputs": [
    {
     "name": "stderr",
     "output_type": "stream",
     "text": [
      "WARNING:bokeh.embed.util:\n",
      "You are generating standalone HTML/JS output, but trying to use real Python\n",
      "callbacks (i.e. with on_change or on_event). This combination cannot work.\n",
      "\n",
      "Only JavaScript callbacks may be used with standalone output. For more\n",
      "information on JavaScript callbacks with Bokeh, see:\n",
      "\n",
      "    https://docs.bokeh.org/en/latest/docs/user_guide/interaction/callbacks.html\n",
      "\n",
      "Alternatively, to use real Python callbacks, a Bokeh server application may\n",
      "be used. For more information on building and running Bokeh applications, see:\n",
      "\n",
      "    https://docs.bokeh.org/en/latest/docs/user_guide/server.html\n",
      "\n"
     ]
    },
    {
     "data": {
      "text/html": [
       "\n",
       "  <div id=\"bfa502b6-7954-476b-84ca-d62db6510dc5\" data-root-id=\"p1152\" style=\"display: contents;\"></div>\n"
      ]
     },
     "metadata": {},
     "output_type": "display_data"
    },
    {
     "data": {
      "application/javascript": [
       "(function(root) {\n",
       "  function embed_document(root) {\n",
       "  const docs_json = {\"6077be97-ee03-449b-8532-904267233b13\":{\"version\":\"3.1.1\",\"title\":\"Bokeh Application\",\"defs\":[],\"roots\":[{\"type\":\"object\",\"name\":\"Column\",\"id\":\"p1152\",\"attributes\":{\"children\":[{\"type\":\"object\",\"name\":\"Row\",\"id\":\"p1151\",\"attributes\":{\"children\":[{\"type\":\"object\",\"name\":\"Dropdown\",\"id\":\"p1002\",\"attributes\":{\"button_type\":\"warning\",\"subscribed_events\":{\"type\":\"set\",\"entries\":[\"menu_item_click\",\"button_click\"]},\"label\":\"Commit\",\"menu\":[\"train\",\"dev\",\"test\"]}},{\"type\":\"object\",\"name\":\"Button\",\"id\":\"p1003\",\"attributes\":{\"button_type\":\"warning\",\"subscribed_events\":{\"type\":\"set\",\"entries\":[\"button_click\"]},\"label\":\"Dedup\"}}]}},{\"type\":\"object\",\"name\":\"DataTable\",\"id\":\"p1032\",\"attributes\":{\"source\":{\"type\":\"object\",\"name\":\"ColumnDataSource\",\"id\":\"p1010\",\"attributes\":{\"selected\":{\"type\":\"object\",\"name\":\"Selection\",\"id\":\"p1012\",\"attributes\":{\"indices\":[],\"line_indices\":[]}},\"selection_policy\":{\"type\":\"object\",\"name\":\"UnionRenderers\",\"id\":\"p1011\"},\"data\":{\"type\":\"map\",\"entries\":[[\"color\",[\"#dcdcdc\",\"#3c3285\",\"#4353c2\",\"#4673eb\",\"#4291fe\",\"#2fb1f3\",\"#1ccdd7\",\"#19e3b8\",\"#32f197\",\"#61fc6c\",\"#8efe48\",\"#b1f836\",\"#cfea34\",\"#ead339\",\"#f9ba38\",\"#fe9b2d\",\"#f9771e\",\"#ec520e\",\"#d93806\",\"#c02302\",\"#a01101\"]],[\"label\",[\"ABSTAIN\",\"alt.atheism\",\"comp.graphics\",\"comp.os.ms-windows.misc\",\"comp.sys.ibm.pc.hardware\",\"comp.sys.mac.hardware\",\"comp.windows.x\",\"misc.forsale\",\"rec.autos\",\"rec.motorcycles\",\"rec.sport.baseball\",\"rec.sport.hockey\",\"sci.crypt\",\"sci.electronics\",\"sci.med\",\"sci.space\",\"soc.religion.christian\",\"talk.politics.guns\",\"talk.politics.mideast\",\"talk.politics.misc\",\"talk.religion.misc\"]],[\"count_raw\",[370,0,0,0,0,0,0,0,0,0,0,0,0,0,0,0,0,0,0,0,0]],[\"count_train\",[0,10,15,20,21,20,20,21,23,22,24,12,15,26,25,24,25,19,18,12,6]],[\"count_dev\",[0,7,4,6,5,7,3,6,1,5,3,3,7,5,4,13,7,4,1,2,2]],[\"count_test\",[0,6,4,6,5,5,5,1,5,8,8,6,4,5,7,4,3,9,6,2,1]]]}}},\"view\":{\"type\":\"object\",\"name\":\"CDSView\",\"id\":\"p1036\",\"attributes\":{\"filter\":{\"type\":\"object\",\"name\":\"AllIndices\",\"id\":\"p1037\"}}},\"columns\":[{\"type\":\"object\",\"name\":\"TableColumn\",\"id\":\"p1013\",\"attributes\":{\"field\":\"label\",\"title\":\"label\",\"formatter\":{\"type\":\"object\",\"name\":\"StringFormatter\",\"id\":\"p1015\"},\"editor\":{\"type\":\"object\",\"name\":\"StringEditor\",\"id\":\"p1014\"}}},{\"type\":\"object\",\"name\":\"TableColumn\",\"id\":\"p1016\",\"attributes\":{\"field\":\"count_raw\",\"title\":\"raw\",\"formatter\":{\"type\":\"object\",\"name\":\"StringFormatter\",\"id\":\"p1018\"},\"editor\":{\"type\":\"object\",\"name\":\"StringEditor\",\"id\":\"p1017\"}}},{\"type\":\"object\",\"name\":\"TableColumn\",\"id\":\"p1019\",\"attributes\":{\"field\":\"count_train\",\"title\":\"train\",\"formatter\":{\"type\":\"object\",\"name\":\"StringFormatter\",\"id\":\"p1021\"},\"editor\":{\"type\":\"object\",\"name\":\"StringEditor\",\"id\":\"p1020\"}}},{\"type\":\"object\",\"name\":\"TableColumn\",\"id\":\"p1022\",\"attributes\":{\"field\":\"count_dev\",\"title\":\"dev\",\"formatter\":{\"type\":\"object\",\"name\":\"StringFormatter\",\"id\":\"p1024\"},\"editor\":{\"type\":\"object\",\"name\":\"StringEditor\",\"id\":\"p1023\"}}},{\"type\":\"object\",\"name\":\"TableColumn\",\"id\":\"p1025\",\"attributes\":{\"field\":\"count_test\",\"title\":\"test\",\"formatter\":{\"type\":\"object\",\"name\":\"StringFormatter\",\"id\":\"p1027\"},\"editor\":{\"type\":\"object\",\"name\":\"StringEditor\",\"id\":\"p1026\"}}},{\"type\":\"object\",\"name\":\"TableColumn\",\"id\":\"p1029\",\"attributes\":{\"field\":\"color\",\"title\":\"color\",\"formatter\":{\"type\":\"object\",\"name\":\"HTMLTemplateFormatter\",\"id\":\"p1028\",\"attributes\":{\"template\":\"\\n<p style=\\\"color:<%= value %>;\\\">\\n    <%= \\\"&#9608;&#9608;&#9608;\\\" %>\\n</p>\\n\"}},\"editor\":{\"type\":\"object\",\"name\":\"StringEditor\",\"id\":\"p1031\"}}}]}}]}}],\"callbacks\":{\"type\":\"map\"}}};\n",
       "  const render_items = [{\"docid\":\"6077be97-ee03-449b-8532-904267233b13\",\"roots\":{\"p1152\":\"bfa502b6-7954-476b-84ca-d62db6510dc5\"},\"root_ids\":[\"p1152\"]}];\n",
       "  root.Bokeh.embed.embed_items_notebook(docs_json, render_items);\n",
       "  }\n",
       "  if (root.Bokeh !== undefined) {\n",
       "    embed_document(root);\n",
       "  } else {\n",
       "    let attempts = 0;\n",
       "    const timer = setInterval(function(root) {\n",
       "      if (root.Bokeh !== undefined) {\n",
       "        clearInterval(timer);\n",
       "        embed_document(root);\n",
       "      } else {\n",
       "        attempts++;\n",
       "        if (attempts > 100) {\n",
       "          clearInterval(timer);\n",
       "          console.log(\"Bokeh: ERROR: Unable to run BokehJS code because BokehJS library is missing\");\n",
       "        }\n",
       "      }\n",
       "    }, 10, root)\n",
       "  }\n",
       "})(window);"
      ],
      "application/vnd.bokehjs_exec.v0+json": ""
     },
     "metadata": {
      "application/vnd.bokehjs_exec.v0+json": {
       "id": "p1152"
      }
     },
     "output_type": "display_data"
    }
   ],
   "source": [
    "from bokeh.layouts import row, column\n",
    "\n",
    "show(column(\n",
    "    row(\n",
    "        dataset.data_committer,\n",
    "        dataset.dedup_trigger,\n",
    "    ),\n",
    "    dataset.pop_table,\n",
    "), notebook_url=notebook_url)"
   ]
  },
  {
   "cell_type": "markdown",
   "id": "742ee3a5",
   "metadata": {},
   "source": [
    "<br>\n",
    "\n",
    "Of course, so far we have nothing to move, because there's no data selected. We shall now discuss selections.\n",
    "\n",
    "## **Selection**\n",
    "\n",
    "`hover` labels data points in bulk, which requires selecting groups of homogeneous data, i.e. semantically similar or going to have the same label. Being able to skim through what you selected gives you confidence about homogeneity.\n",
    "\n",
    "Normally, selection happens through a plot (`explorer`), as we have seen in the quickstart. For the purpose here, we will \"cheat\" and assign the selection programmatically:"
   ]
  },
  {
   "cell_type": "code",
   "execution_count": 4,
   "id": "33927c44",
   "metadata": {
    "execution": {
     "iopub.execute_input": "2023-05-09T01:40:57.806982Z",
     "iopub.status.busy": "2023-05-09T01:40:57.806535Z",
     "iopub.status.idle": "2023-05-09T01:40:57.841930Z",
     "shell.execute_reply": "2023-05-09T01:40:57.841277Z"
    }
   },
   "outputs": [
    {
     "data": {
      "text/html": [
       "<pre style=\"white-space:pre;overflow-x:auto;line-height:normal;font-family:Menlo,'DejaVu Sans Mono',consolas,'Courier New',monospace\"><span style=\"color: #008000; text-decoration-color: #008000\">🟢 SupervisableTextDataset: Selection table: latest selection with </span><span style=\"color: #008080; text-decoration-color: #008080; font-weight: bold\">10</span><span style=\"color: #008000; text-decoration-color: #008000\"> entries.</span>\n",
       "</pre>\n"
      ],
      "text/plain": [
       "\u001b[32m🟢 SupervisableTextDataset: Selection table: latest selection with \u001b[0m\u001b[1;36m10\u001b[0m\u001b[32m entries.\u001b[0m\n"
      ]
     },
     "metadata": {},
     "output_type": "display_data"
    },
    {
     "data": {
      "text/html": [
       "\n",
       "  <div id=\"a533b37b-e604-4391-bea8-c2b097b1b91b\" data-root-id=\"p1049\" style=\"display: contents;\"></div>\n"
      ]
     },
     "metadata": {},
     "output_type": "display_data"
    },
    {
     "data": {
      "application/javascript": [
       "(function(root) {\n",
       "  function embed_document(root) {\n",
       "  const docs_json = {\"47fd33bb-3d09-4ad6-9594-89d7aff93195\":{\"version\":\"3.1.1\",\"title\":\"Bokeh Application\",\"defs\":[],\"roots\":[{\"type\":\"object\",\"name\":\"DataTable\",\"id\":\"p1049\",\"attributes\":{\"source\":{\"type\":\"object\",\"name\":\"ColumnDataSource\",\"id\":\"p1038\",\"attributes\":{\"selected\":{\"type\":\"object\",\"name\":\"Selection\",\"id\":\"p1040\",\"attributes\":{\"indices\":[],\"line_indices\":[]}},\"selection_policy\":{\"type\":\"object\",\"name\":\"UnionRenderers\",\"id\":\"p1039\"},\"data\":{\"type\":\"map\",\"entries\":[[\"text\",[\"From article <1qvgu5INN2np@lynx.unm.edu>, by osinski@chtm.eece.unm.edu (Marek Osinski):   Thessaloniki is called Thessaloniki by its inhabitants for the last 2300 years. The city was never called Solun by its inhabitants. Instabul was called Konstantinoupolis from 320 AD until about the 1920s. That's about 1600 years. There many people alive today who were born in a city called Konstantinoupolis. How many people do you know that were born in a city  called Solun.\",\"   | You certainly do not see OTC preparations advertised as such.  | The only such ridiculous concoctions are nostrums for premenstrual  | syndrome, ostensibly to treat headache and \\\"bloating\\\" simultaneously.  | They're worthless.    | That's not the idea, and no, they don't work.   I *believe* there is a known synergism between certain analgesics and caffiene.  For treating pain, not inflammation.   Now that I am an ibuprofen convert I haven't taken it for some time, but excedrin really works! (grin)  Nathan     | --   | Steve Dyer  | dyer@ursa-major.spdcc.com aka {ima,harvard,rayssd,linus,m2c}!spdcc!dyer\",\"About this QUADRA 700, 800 clock acceleration: has anyone heard of anything like it for the QUADRA 950?  Please reply e-mail, I don't get to the news very often.  Thanks!!\",\"A delightful message, interesting, and so kindly written.  Thanks.\",\" All they said on the radio that he developed stiffness in the shoulder after throwing a curveball that didn't loosen.  Because of the cold night in Denver they decided to remove him from the game rather than let him pitch.  He is expected to pitch his next turn in the rotation (expected to be April 20, at Shea vs the Giants).\",\" I tried to do so, but people told me that even if I used DISPKT, the packets would still be incompatible. Is this true ?  \",\"I am looking for a company that can make custom keys.  For instance we need a key that says HELP, MAIN MENU, etc which we are going to use instead of F1,F2, F3 etc... Can anyone point me to a company that does this.  Also  do you have to have a special keyboard, or can I just pop off the old keys and pop in the new ones...\",\": This may be the dumbest question of the year, but is there a : way to 'piggyback' or expand a 6-slot motherboard (all 16-bit) : to get the usual 8?  My case has slots for 8, and I'd like to : get a scanner, but with all my other cards I'm already max'd out! : I'm hoping that a simple solution exists, e.g. an adapter that turns  I'm not sure if this will work, but how about using one of those 'T' expanders used in the low-profile cases.  They allow 3-5 slots staggered on either side of the card.  You can install it in the last slot, and then (probably)  have 2 or 3 sideways slots.  This is actually how it is done in the low profile cases - a standard motherboard, the 'T' connector in one slot,  and the expansion cards plugged into the 'T'.  I guess you could do this at  each end of the slots (1 & 8) to add even more.    The 'T' connectors are simply tracks with slots on them - no electronics on it.  The only downside - your case won't close, but for a homebrew system, that may not be a problem.  Don't know about performance, though.  I'll leave that discussion to the  engineers.\",\"Did it ever accrue to you to just call INTEL'S 800 number and ask?\",\"Archive-name: ripem/faq Last-update: 31 Mar 93 22:00:00 -0500  ABOUT THIS POSTING ------------------ This is a listing of likely questions and information about RIPEM, a program for public key mail encryption.  It (this FAQ, not RIPEM) was written and will be maintained by Marc VanHeyningen <mvanheyn@cs.indiana.edu>.  It will be posted to a variety of newsgroups on a monthly basis; follow-up discussion specific to RIPEM is redirected to the group alt.security.ripem.  WHAT'S NEW ---------- I am now running a World Wide Web archive of RIPEM information.  It does not contain much of anything that isn't available elsewhere, but it has convenient pointers to the most current version of this FAQ and some other stuff.  The URL is \\\"http://cs.indiana.edu/ripem/dir.html\\\".  This month's version has a fair amount of new pointers to information on patents and stuff like that.  I've also reordered a few things to have a more sensible ordering.  I hope I don't have to edit this again soon. :-)  DISCLAIMER ---------- Nothing in this FAQ should be considered legal advice, or anything other than one layperson's opinion.  If you want real legal advice, talk to a real lawyer, preferably one with experience in patent law, export regulations, or whatever area of law is in question.  LIST OF QUESTIONS ----------------- 1)  What is RIPEM? 2)  How can I get RIPEM? 3)  Will RIPEM run on my machine? 4)  Will RIPEM work with my mailer? 5)  What is RSA? 6)  What is DES? 7)  What is a fingerprint, like MD5? 8)  What is PEM? 9)  What's this about distributing and authenticating keys? 10)  Isn't it a bad idea to use patented algorithms in standards like PEM? 11)  What about RSADSI/PKP? 12)  Why do all RIPEM public keys look very similar? 13)  What is PGP? 14)  What about RPEM? 15)  What is MIME? 16)  What is TIS/PEM? 17)  I have this simple way to defeat the security of RIPEM...  QUESTIONS AND ANSWERS ---------------------  1)  What is RIPEM?   RIPEM is a (not yet complete, but useful) implementation of Privacy  Enhanced Mail (PEM).  RIPEM allows your electronic mail to have the  four security facilities provided by PEM: disclosure protection  (optional), originator authenticity, message integrity measures, and  non-repudiation of origin (always).  (See: \\\"What is PEM?\\\")   RIPEM was written primarily by Mark Riordan <mrr@scss3.cl.msu.edu>.  Most of the code is in the public domain, except for the RSA routines,  which are a library called RSAREF licensed from RSA Data Security Inc.   The current version of RIPEM is 1.0.5; the current version of the  Macintosh port of RIPEM is 0.7.  2)  How can I get RIPEM?   RIPEM uses the library of cryptographic routines RSAREF, which is  considered munitions and thus is export-restricted from distribution  to persons who are not citizens or permanent residents in the U.S or  Canada without an export license.  No such license has been obtained  (nor would one likely be granted unless the RSA key exchange were  shortened to 512 bits and the symmetric cipher changed to something  weaker than DES.  There are some suggestions that this situation may  change now that Clinton is in office.)  The author requests in the  README file that this law not be violated:   #Please do not export the cryptographic code in this distribution  #outside of the USA or Canada.  This is a personal request from me,  #the author of RIPEM, and a condition of your use of RIPEM.   Note that RSAREF is not in the public domain, and a license for it is  included with the distribution.  You should read it before using  RIPEM.   RIPEM is available via anonymous FTP to citizens and permanent  residents in the U.S. from rsa.com; cd to rsaref/ and read the README  file for info.  Note that the non-RSAREF portion of RIPEM is not a  product of RSA Data Security, Incorporated; they merely are helping  distribute it.   RIPEM, as well as some other crypt stuff, has its \\\"home site\\\" on  ripem.msu.edu, which is open to non-anonymous FTP for users in the  U.S. and Canada who are citizens or permanent residents.  To find out  how to obtain access, FTP there, cd to pub/crypt/, and read the file  GETTING_ACCESS.  For convenience, binaries for many architectures are  available here in addition to the full source tree.  3)  Will RIPEM run on my machine?   Probably.  It has already been ported to MS-DOS and most flavors of  Unix (SunOS, NeXT, Linux, AIX, ULTRIX, Solaris, etc.)  Ports to  Macintosh include a standard UNIX-style port and a rather nice  Mac-like port written by Raymond Lau, author of StuffIt.  More ports  are expected, and help of users is invited.  4)  Will RIPEM work with my mailer?   Probably.  How easy and clean the effective interface is will depend  on the sophistication and modularity of the mailer, though.  The users  guide, included with the distribution, discusses ways to use RIPEM  with many popular mailers, including Berkeley, mush, Elm, and MH.  Code is also included in elisp to allow easy use of RIPEM inside GNU  Emacs.   If you make a new interface for RIPEM or create an improvement on one  in the distribution which you believe is convenient to use, secure,  and may be useful to others, feel free to post it to alt.security.ripem.  5)  What is RSA?   RSA is a crypto system which is asymmetric, or public-key.  This means  that there are two different, related keys: one to encrypt and one to  decrypt.  Because one cannot (reasonably) be derived from the other,  you may publish your encryption, or public, key widely and keep your  decryption, or private, key to yourself.  Anyone can use your public  key to encrypt a message, but only you hold the private key needed to  decrypt it.  Note that the \\\"message\\\" sent with RSA is normally just  the DES key to the real plaintext. (See \\\"What is DES?\\\")   Note that the above only provides for disclosure protection.  For  originator authenticity, message integrity, and non-repudiation of  origin services to be implemented, the fingerprint of the message  (See \\\"What is a fingerprint, like MD5?\\\") is encrypted with the  sender's private key.  The recipient, or a dispute-resolving  authority, can use the sender's public key to decrypt it and confirm  that the message must have come from the sender and was not altered.   RSA was named for the three men (Rivest, Shamir and Adleman) who  invented it.  To find out lots more about RSA and modern cryptography  in general, ftp to rsa.com and look in pub/faq/.  Some information  also may be in sci.crypt.  6)  What is DES?   DES is the Data Encryption Standard, a widely used symmetric, or  secret-key, crypto system.  Unlike RSA, DES uses the same key to  encrypt and decrypt messages.  However, DES is much faster than RSA.   RIPEM uses both DES and RSA; it generates a random key and encrypts  your mail with DES using that key.  It then encrypts that key with the  recipient's public RSA key and includes the result in the letter,  allowing the recipient to recover the DES key.   DES is sometimes considered weak because it is somewhat old and uses a  key length considered too short by modern standards.  However, it  should be reasonably safe against an opponent smaller than a large  corporation or government agency.  It is not likely that the PEM  standard will incorporate support for other symmetric ciphers in the  near future, because there is a strong feeling that PEM should be  stable so it can become utilized widely without early problems with  interoperability.  7)  What is a fingerprint, like MD5?   MD5 is a message digest algorithm produced by RSA Data Security Inc.  It provides a 128-bit fingerprint, or cryptographically secure hash,  of the plaintext.  It is cryptographically secure because it is not  possible (in a reasonable amount of computation) to produce a  different plaintext which produces the same fingerprint.  Thus,  instead of signing the entire message with the sender's private key,  only the MD5 of the message needs to be signed for authentication.   MD5s can also be exchanged directly for authentication; for example,  RIPEM public keys include an MD5 of the public key in the file, so  parties wishing to confirm their keys are authentic via a separate  channel merely need exchange MD5s of keys and verify their accuracy.   MD5 is sometimes used for other purposes; for example, it is often  used to map an input of arbitrary length to 128 bits of data, as a  passphrase interpreter or cookie generator.   MD5 is described in its entirety (including an implementation in C) in  RFC 1321.   There have been some recent suggestions that MD5 may not be as strong  a hash as was originally believed; presumably some other hash  function will be used if this is accepted as true.  8)  What is PEM?   PEM is Privacy Enhanced Mail, a standard for allowing transfer of  encrypted electronic mail generated over a long period of time by a  working group of experts.  It is described in RFCs 1421-1424; these  documents have been approved and obsolete the old RFCs 1113-1115.   RIPEM is not really a complete implementation of PEM, because PEM  specifies certificates for authenticating keys, which RIPEM does not  handle at this time.  Their addition is planned.  9)  What's this about distributing and authenticating keys?   For a remote user to be able to send secure mail to you, she must know  your public key.  For you to be able to confirm that the message  received came from her, you must know her public key.  It is important  that this information be accurate; if a \\\"bad guy\\\" convinces her that  his key is in fact yours, she will send messages which he can read.   RIPEM allows for three methods of key management: a central server,  the distributed finger servers, and a flat file.  All three are  described in the RIPEM users guide which is part of the distribution.  None of them provide perfect security.  The PEM standard calls for  key management by certificates; the addition of this feature to RIPEM  is planned, but chicken-egg issues still exist.  10)  Isn't it a bad idea to use patented algorithms in standards like PEM?   This issue has been considered in the standards process.  RFC 1310,  the specification for Internet standards, has a discussion (section  6) on what specifications for nondiscriminatory availability must be  met for a patented method to be included in a standard.  RFC 1421  addresses this issue with regard to the patents covering public-key  cryptography.   This does not, of course, mean that all questions are settled or that  everyone is in agreement.  An interesting exchange on the use of  patented algorithms in standards with regard to public-key  cryptography is in the League for Programming Freedom archive  (available via FTP: ftp.uu.net:/doc/lpf) in the files bidzos.letter  and bidzos.response.  (Amusingly, the LPF files on ftp.uu.net are  compressed with a patented algorithm.)  11)  What about RSADSI/PKP?   RSA Data Security, Inc. (RSADSI) is a California-based company  specializing in cryptographic technologies.  Public Key Partners is a  firm which holds exclusive sub-licensing rights of the following U.S.  patents and all of their corresponding foreign patents:        Cryptographic Apparatus and Method       (\\\"Diffie-Hellman\\\")............................... No. 4,200,770        Public Key Cryptographic Apparatus       and Method (\\\"Hellman-Merkle\\\").................... No. 4,218,582        Cryptographic Communications System and       Method (\\\"RSA\\\")................................... No. 4,405,829        Exponential Cryptographic Apparatus       and Method (\\\"Hellman-Pohlig\\\").................... No. 4,424,414   PKP claims these four patents cover all known methods of public key  cryptography.  The two businesses are rather closely related (for  example, the same person, Jim Bidzos, is president of both of them.)  PKP has licensed this technology to a considerable number of  companies (IBM, DEC, Motorola, AT&T, Lotus...) for use in their  products.  PKP has also threatened and filed lawsuits defending their  patents.   RIPEM was originally created with no connection to RSADSI other than  its use of the RSAREF library, and for no reason other than its  author's desire to see widespread use of public-key cryptography.  However, after the ball started rolling, people at RSADSI got  interested.  RSADSI decided to carry RIPEM on its FTP site, and some  people there started making their own RIPEM keys and contributing  code.  RIPEM even won the \\\"Best Application Built on RSAREF in 1992\\\"  award.  12)  Why do all RIPEM public keys look very similar?   RIPEM public keys begin with a PKCS (Public-Key Cryptography  Standards) identifier describing various characteristics about the  key, so the first bunch of characters in your key may be the same as  those of lots of other people's keys.  This does not mean your keys  are similar, but only that they are the same class of key, were  generated with the same program, are of the same length, etc.  13)  What is PGP?   PGP is another cryptographic mail program called Pretty Good Privacy.  PGP has been around longer than RIPEM, and works somewhat differently.  PGP is not compatible with RIPEM in any way, though PGP does also use RSA.   A few major differences between PGP and RIPEM:   - PGP has more key management features, particularly for users without    a direct network connection.   - RIPEM conforms to the PEM RFCs and thus has a greater probability    of working with other PEM software.  PGP makes no attempt to be    compatible with anything other than itself.   - RIPEM uses RSAREF, a library of RSA routines from RSADSI which    comes with a license allowing noncommercial use.  PGP uses its own    implementation of RSA.  PKP claims that it is a violation of its    patents to \\\"make, use or sell\\\" PGP in the U.S. or Canada without    either a license or written permission.  (See: \\\"DISCLAIMER\\\")    (See: \\\"What about RSADSI/PKP?\\\")  Phil Zimmermann, the author of    PGP, stopped distributing it after being threatened with legal    action; he believed that a licensing scheme could be arranged, but    it hasn't happened and there seems little prospect of it happening    in the future.  He acknowledges in the PGP User's Guide:     #In fact, if you live in the USA, and you are not a Federal agency,     #you shouldn't actually run PGP on your computer, because Public    #Key Partners wants to forbid you from running my software.  PGP is    #contraband.   - Both PGP and RIPEM are export-restricted, and cannot be sent outside    the U.S. and Canada without an export license.  However, PGP    already exists on many ftp sites in Europe and other places.   Whether you use PGP or RIPEM or whatever, the documentation to PGP is  recommended reading to anyone interested in such issues.  Unfortunately, it's not distributed separately from the program,  which can be difficult to find in the U.S. on FTP sites due to  liability concerns.  14)  What about RPEM?   RPEM stands for Rabin Privacy Enhanced Mail.  It was similar to RIPEM,  but used a public-key cipher invented by Rabin (which is not RSA) in  an attempt to avoid the patents on public-key systems.  It was  written by Mark Riordan, who later wrote RIPEM.   Its distribution was halted when, contrary to the beliefs of many  (including Rabin), PKP claimed that their patents were broad enough  to cover the cipher employed.  This claim is not universally  accepted, but was not challenged for pragmatic reasons.   RPEM is not really used anymore.  It is not compatible with RIPEM or PGP.  15)  What is MIME?   MIME stands for Multipurpose Internet Mail Extensions, and is  described in RFC 1341.  You can find out about it in the newsgroup  comp.mail.mime; a FAQ exists on it.  How PEM should interact with  MIME is not yet entirely clear; some people use the stopgap solution  of having a MIME type application/x-ripem in order to send RIPEM  messages as MIME ones.  I hope some standards will emerge.  Draft  Internet documents exist on the matter.  16)  What is TIS/PEM?   Trusted Information Systems is working on a version of Privacy  Enhanced Mail for general availability.  Last I heard, it was  rumored to be integrated into an existing mail user agent (MH)  rather than a stand-alone system, and in beta test.  I don't know  much more than that.  17)  I have this simple way to defeat the security of RIPEM...\"]],[\"SUBSET\",[\"raw\",\"raw\",\"raw\",\"raw\",\"raw\",\"raw\",\"raw\",\"raw\",\"raw\",\"raw\"]],[\"label\",[\"ABSTAIN\",\"ABSTAIN\",\"ABSTAIN\",\"ABSTAIN\",\"ABSTAIN\",\"ABSTAIN\",\"ABSTAIN\",\"ABSTAIN\",\"ABSTAIN\",\"ABSTAIN\"]]]}}},\"view\":{\"type\":\"object\",\"name\":\"CDSView\",\"id\":\"p1053\",\"attributes\":{\"filter\":{\"type\":\"object\",\"name\":\"AllIndices\",\"id\":\"p1054\"}}},\"columns\":[{\"type\":\"object\",\"name\":\"TableColumn\",\"id\":\"p1043\",\"attributes\":{\"field\":\"text\",\"title\":\"text\",\"formatter\":{\"type\":\"object\",\"name\":\"HTMLTemplateFormatter\",\"id\":\"p1042\",\"attributes\":{\"template\":\"<span href=\\\"#\\\" data-toggle=\\\"tooltip\\\" title=\\\"<%= value %>\\\"><%= value %></span>\"}},\"editor\":{\"type\":\"object\",\"name\":\"CellEditor\",\"id\":\"p1041\"}}},{\"type\":\"object\",\"name\":\"TableColumn\",\"id\":\"p1046\",\"attributes\":{\"field\":\"label\",\"title\":\"label\",\"formatter\":{\"type\":\"object\",\"name\":\"StringFormatter\",\"id\":\"p1048\"},\"editor\":{\"type\":\"object\",\"name\":\"StringEditor\",\"id\":\"p1047\"}}}],\"editable\":true,\"selectable\":\"checkbox\"}}],\"callbacks\":{\"type\":\"map\"}}};\n",
       "  const render_items = [{\"docid\":\"47fd33bb-3d09-4ad6-9594-89d7aff93195\",\"roots\":{\"p1049\":\"a533b37b-e604-4391-bea8-c2b097b1b91b\"},\"root_ids\":[\"p1049\"]}];\n",
       "  root.Bokeh.embed.embed_items_notebook(docs_json, render_items);\n",
       "  }\n",
       "  if (root.Bokeh !== undefined) {\n",
       "    embed_document(root);\n",
       "  } else {\n",
       "    let attempts = 0;\n",
       "    const timer = setInterval(function(root) {\n",
       "      if (root.Bokeh !== undefined) {\n",
       "        clearInterval(timer);\n",
       "        embed_document(root);\n",
       "      } else {\n",
       "        attempts++;\n",
       "        if (attempts > 100) {\n",
       "          clearInterval(timer);\n",
       "          console.log(\"Bokeh: ERROR: Unable to run BokehJS code because BokehJS library is missing\");\n",
       "        }\n",
       "      }\n",
       "    }, 10, root)\n",
       "  }\n",
       "})(window);"
      ],
      "application/vnd.bokehjs_exec.v0+json": ""
     },
     "metadata": {
      "application/vnd.bokehjs_exec.v0+json": {
       "id": "p1049"
      }
     },
     "output_type": "display_data"
    }
   ],
   "source": [
    "dataset._callback_update_selection(dataset.dfs[\"raw\"][:10])\n",
    "\n",
    "show(dataset.sel_table, notebook_url=notebook_url)"
   ]
  },
  {
   "cell_type": "markdown",
   "id": "cee6a96c",
   "metadata": {},
   "source": [
    "<br>\n",
    "\n",
    "### **Edit Data Within a Selection**\n",
    "\n",
    "Often the points selected are not perfectly homogeneous, i.e. some outliers belong to a different label from the selected group overall. It would be helpful to `EVICT` them, and `SupervisableDataset` has a button for it.\n",
    "\n",
    "Sometimes you may also wish to edit data values on the fly.  In hover this is called `PATCH`, and there also is a button for it.\n",
    "\n",
    "-   by default, labels can be edited but feature values cannot.\n",
    "\n",
    "Let's plot the forementioned buttons along with the selection table. Toggle any number of rows in the table, then click the button to `EVICT` or `PATCH` those rows:"
   ]
  },
  {
   "cell_type": "code",
   "execution_count": 5,
   "id": "a845ba9d",
   "metadata": {
    "execution": {
     "iopub.execute_input": "2023-05-09T01:40:57.845505Z",
     "iopub.status.busy": "2023-05-09T01:40:57.845008Z",
     "iopub.status.idle": "2023-05-09T01:40:57.886154Z",
     "shell.execute_reply": "2023-05-09T01:40:57.885478Z"
    }
   },
   "outputs": [
    {
     "name": "stderr",
     "output_type": "stream",
     "text": [
      "WARNING:bokeh.embed.util:\n",
      "You are generating standalone HTML/JS output, but trying to use real Python\n",
      "callbacks (i.e. with on_change or on_event). This combination cannot work.\n",
      "\n",
      "Only JavaScript callbacks may be used with standalone output. For more\n",
      "information on JavaScript callbacks with Bokeh, see:\n",
      "\n",
      "    https://docs.bokeh.org/en/latest/docs/user_guide/interaction/callbacks.html\n",
      "\n",
      "Alternatively, to use real Python callbacks, a Bokeh server application may\n",
      "be used. For more information on building and running Bokeh applications, see:\n",
      "\n",
      "    https://docs.bokeh.org/en/latest/docs/user_guide/server.html\n",
      "\n"
     ]
    },
    {
     "data": {
      "text/html": [
       "\n",
       "  <div id=\"d8ca5361-4e1f-477b-82fc-ae4c9ffaf509\" data-root-id=\"p1341\" style=\"display: contents;\"></div>\n"
      ]
     },
     "metadata": {},
     "output_type": "display_data"
    },
    {
     "data": {
      "application/javascript": [
       "(function(root) {\n",
       "  function embed_document(root) {\n",
       "  const docs_json = {\"bf87bb6c-880a-456a-9767-1a732079837f\":{\"version\":\"3.1.1\",\"title\":\"Bokeh Application\",\"defs\":[],\"roots\":[{\"type\":\"object\",\"name\":\"Column\",\"id\":\"p1341\",\"attributes\":{\"children\":[{\"type\":\"object\",\"name\":\"Row\",\"id\":\"p1340\",\"attributes\":{\"children\":[{\"type\":\"object\",\"name\":\"Button\",\"id\":\"p1006\",\"attributes\":{\"button_type\":\"primary\",\"label\":\"Evict Rows from Selection\"}},{\"type\":\"object\",\"name\":\"Button\",\"id\":\"p1005\",\"attributes\":{\"button_type\":\"warning\",\"subscribed_events\":{\"type\":\"set\",\"entries\":[\"button_click\"]},\"label\":\"Update Row Values\"}}]}},{\"type\":\"object\",\"name\":\"DataTable\",\"id\":\"p1049\",\"attributes\":{\"source\":{\"type\":\"object\",\"name\":\"ColumnDataSource\",\"id\":\"p1038\",\"attributes\":{\"selected\":{\"type\":\"object\",\"name\":\"Selection\",\"id\":\"p1040\",\"attributes\":{\"indices\":[],\"line_indices\":[]}},\"selection_policy\":{\"type\":\"object\",\"name\":\"UnionRenderers\",\"id\":\"p1039\"},\"data\":{\"type\":\"map\",\"entries\":[[\"text\",[\"From article <1qvgu5INN2np@lynx.unm.edu>, by osinski@chtm.eece.unm.edu (Marek Osinski):   Thessaloniki is called Thessaloniki by its inhabitants for the last 2300 years. The city was never called Solun by its inhabitants. Instabul was called Konstantinoupolis from 320 AD until about the 1920s. That's about 1600 years. There many people alive today who were born in a city called Konstantinoupolis. How many people do you know that were born in a city  called Solun.\",\"   | You certainly do not see OTC preparations advertised as such.  | The only such ridiculous concoctions are nostrums for premenstrual  | syndrome, ostensibly to treat headache and \\\"bloating\\\" simultaneously.  | They're worthless.    | That's not the idea, and no, they don't work.   I *believe* there is a known synergism between certain analgesics and caffiene.  For treating pain, not inflammation.   Now that I am an ibuprofen convert I haven't taken it for some time, but excedrin really works! (grin)  Nathan     | --   | Steve Dyer  | dyer@ursa-major.spdcc.com aka {ima,harvard,rayssd,linus,m2c}!spdcc!dyer\",\"About this QUADRA 700, 800 clock acceleration: has anyone heard of anything like it for the QUADRA 950?  Please reply e-mail, I don't get to the news very often.  Thanks!!\",\"A delightful message, interesting, and so kindly written.  Thanks.\",\" All they said on the radio that he developed stiffness in the shoulder after throwing a curveball that didn't loosen.  Because of the cold night in Denver they decided to remove him from the game rather than let him pitch.  He is expected to pitch his next turn in the rotation (expected to be April 20, at Shea vs the Giants).\",\" I tried to do so, but people told me that even if I used DISPKT, the packets would still be incompatible. Is this true ?  \",\"I am looking for a company that can make custom keys.  For instance we need a key that says HELP, MAIN MENU, etc which we are going to use instead of F1,F2, F3 etc... Can anyone point me to a company that does this.  Also  do you have to have a special keyboard, or can I just pop off the old keys and pop in the new ones...\",\": This may be the dumbest question of the year, but is there a : way to 'piggyback' or expand a 6-slot motherboard (all 16-bit) : to get the usual 8?  My case has slots for 8, and I'd like to : get a scanner, but with all my other cards I'm already max'd out! : I'm hoping that a simple solution exists, e.g. an adapter that turns  I'm not sure if this will work, but how about using one of those 'T' expanders used in the low-profile cases.  They allow 3-5 slots staggered on either side of the card.  You can install it in the last slot, and then (probably)  have 2 or 3 sideways slots.  This is actually how it is done in the low profile cases - a standard motherboard, the 'T' connector in one slot,  and the expansion cards plugged into the 'T'.  I guess you could do this at  each end of the slots (1 & 8) to add even more.    The 'T' connectors are simply tracks with slots on them - no electronics on it.  The only downside - your case won't close, but for a homebrew system, that may not be a problem.  Don't know about performance, though.  I'll leave that discussion to the  engineers.\",\"Did it ever accrue to you to just call INTEL'S 800 number and ask?\",\"Archive-name: ripem/faq Last-update: 31 Mar 93 22:00:00 -0500  ABOUT THIS POSTING ------------------ This is a listing of likely questions and information about RIPEM, a program for public key mail encryption.  It (this FAQ, not RIPEM) was written and will be maintained by Marc VanHeyningen <mvanheyn@cs.indiana.edu>.  It will be posted to a variety of newsgroups on a monthly basis; follow-up discussion specific to RIPEM is redirected to the group alt.security.ripem.  WHAT'S NEW ---------- I am now running a World Wide Web archive of RIPEM information.  It does not contain much of anything that isn't available elsewhere, but it has convenient pointers to the most current version of this FAQ and some other stuff.  The URL is \\\"http://cs.indiana.edu/ripem/dir.html\\\".  This month's version has a fair amount of new pointers to information on patents and stuff like that.  I've also reordered a few things to have a more sensible ordering.  I hope I don't have to edit this again soon. :-)  DISCLAIMER ---------- Nothing in this FAQ should be considered legal advice, or anything other than one layperson's opinion.  If you want real legal advice, talk to a real lawyer, preferably one with experience in patent law, export regulations, or whatever area of law is in question.  LIST OF QUESTIONS ----------------- 1)  What is RIPEM? 2)  How can I get RIPEM? 3)  Will RIPEM run on my machine? 4)  Will RIPEM work with my mailer? 5)  What is RSA? 6)  What is DES? 7)  What is a fingerprint, like MD5? 8)  What is PEM? 9)  What's this about distributing and authenticating keys? 10)  Isn't it a bad idea to use patented algorithms in standards like PEM? 11)  What about RSADSI/PKP? 12)  Why do all RIPEM public keys look very similar? 13)  What is PGP? 14)  What about RPEM? 15)  What is MIME? 16)  What is TIS/PEM? 17)  I have this simple way to defeat the security of RIPEM...  QUESTIONS AND ANSWERS ---------------------  1)  What is RIPEM?   RIPEM is a (not yet complete, but useful) implementation of Privacy  Enhanced Mail (PEM).  RIPEM allows your electronic mail to have the  four security facilities provided by PEM: disclosure protection  (optional), originator authenticity, message integrity measures, and  non-repudiation of origin (always).  (See: \\\"What is PEM?\\\")   RIPEM was written primarily by Mark Riordan <mrr@scss3.cl.msu.edu>.  Most of the code is in the public domain, except for the RSA routines,  which are a library called RSAREF licensed from RSA Data Security Inc.   The current version of RIPEM is 1.0.5; the current version of the  Macintosh port of RIPEM is 0.7.  2)  How can I get RIPEM?   RIPEM uses the library of cryptographic routines RSAREF, which is  considered munitions and thus is export-restricted from distribution  to persons who are not citizens or permanent residents in the U.S or  Canada without an export license.  No such license has been obtained  (nor would one likely be granted unless the RSA key exchange were  shortened to 512 bits and the symmetric cipher changed to something  weaker than DES.  There are some suggestions that this situation may  change now that Clinton is in office.)  The author requests in the  README file that this law not be violated:   #Please do not export the cryptographic code in this distribution  #outside of the USA or Canada.  This is a personal request from me,  #the author of RIPEM, and a condition of your use of RIPEM.   Note that RSAREF is not in the public domain, and a license for it is  included with the distribution.  You should read it before using  RIPEM.   RIPEM is available via anonymous FTP to citizens and permanent  residents in the U.S. from rsa.com; cd to rsaref/ and read the README  file for info.  Note that the non-RSAREF portion of RIPEM is not a  product of RSA Data Security, Incorporated; they merely are helping  distribute it.   RIPEM, as well as some other crypt stuff, has its \\\"home site\\\" on  ripem.msu.edu, which is open to non-anonymous FTP for users in the  U.S. and Canada who are citizens or permanent residents.  To find out  how to obtain access, FTP there, cd to pub/crypt/, and read the file  GETTING_ACCESS.  For convenience, binaries for many architectures are  available here in addition to the full source tree.  3)  Will RIPEM run on my machine?   Probably.  It has already been ported to MS-DOS and most flavors of  Unix (SunOS, NeXT, Linux, AIX, ULTRIX, Solaris, etc.)  Ports to  Macintosh include a standard UNIX-style port and a rather nice  Mac-like port written by Raymond Lau, author of StuffIt.  More ports  are expected, and help of users is invited.  4)  Will RIPEM work with my mailer?   Probably.  How easy and clean the effective interface is will depend  on the sophistication and modularity of the mailer, though.  The users  guide, included with the distribution, discusses ways to use RIPEM  with many popular mailers, including Berkeley, mush, Elm, and MH.  Code is also included in elisp to allow easy use of RIPEM inside GNU  Emacs.   If you make a new interface for RIPEM or create an improvement on one  in the distribution which you believe is convenient to use, secure,  and may be useful to others, feel free to post it to alt.security.ripem.  5)  What is RSA?   RSA is a crypto system which is asymmetric, or public-key.  This means  that there are two different, related keys: one to encrypt and one to  decrypt.  Because one cannot (reasonably) be derived from the other,  you may publish your encryption, or public, key widely and keep your  decryption, or private, key to yourself.  Anyone can use your public  key to encrypt a message, but only you hold the private key needed to  decrypt it.  Note that the \\\"message\\\" sent with RSA is normally just  the DES key to the real plaintext. (See \\\"What is DES?\\\")   Note that the above only provides for disclosure protection.  For  originator authenticity, message integrity, and non-repudiation of  origin services to be implemented, the fingerprint of the message  (See \\\"What is a fingerprint, like MD5?\\\") is encrypted with the  sender's private key.  The recipient, or a dispute-resolving  authority, can use the sender's public key to decrypt it and confirm  that the message must have come from the sender and was not altered.   RSA was named for the three men (Rivest, Shamir and Adleman) who  invented it.  To find out lots more about RSA and modern cryptography  in general, ftp to rsa.com and look in pub/faq/.  Some information  also may be in sci.crypt.  6)  What is DES?   DES is the Data Encryption Standard, a widely used symmetric, or  secret-key, crypto system.  Unlike RSA, DES uses the same key to  encrypt and decrypt messages.  However, DES is much faster than RSA.   RIPEM uses both DES and RSA; it generates a random key and encrypts  your mail with DES using that key.  It then encrypts that key with the  recipient's public RSA key and includes the result in the letter,  allowing the recipient to recover the DES key.   DES is sometimes considered weak because it is somewhat old and uses a  key length considered too short by modern standards.  However, it  should be reasonably safe against an opponent smaller than a large  corporation or government agency.  It is not likely that the PEM  standard will incorporate support for other symmetric ciphers in the  near future, because there is a strong feeling that PEM should be  stable so it can become utilized widely without early problems with  interoperability.  7)  What is a fingerprint, like MD5?   MD5 is a message digest algorithm produced by RSA Data Security Inc.  It provides a 128-bit fingerprint, or cryptographically secure hash,  of the plaintext.  It is cryptographically secure because it is not  possible (in a reasonable amount of computation) to produce a  different plaintext which produces the same fingerprint.  Thus,  instead of signing the entire message with the sender's private key,  only the MD5 of the message needs to be signed for authentication.   MD5s can also be exchanged directly for authentication; for example,  RIPEM public keys include an MD5 of the public key in the file, so  parties wishing to confirm their keys are authentic via a separate  channel merely need exchange MD5s of keys and verify their accuracy.   MD5 is sometimes used for other purposes; for example, it is often  used to map an input of arbitrary length to 128 bits of data, as a  passphrase interpreter or cookie generator.   MD5 is described in its entirety (including an implementation in C) in  RFC 1321.   There have been some recent suggestions that MD5 may not be as strong  a hash as was originally believed; presumably some other hash  function will be used if this is accepted as true.  8)  What is PEM?   PEM is Privacy Enhanced Mail, a standard for allowing transfer of  encrypted electronic mail generated over a long period of time by a  working group of experts.  It is described in RFCs 1421-1424; these  documents have been approved and obsolete the old RFCs 1113-1115.   RIPEM is not really a complete implementation of PEM, because PEM  specifies certificates for authenticating keys, which RIPEM does not  handle at this time.  Their addition is planned.  9)  What's this about distributing and authenticating keys?   For a remote user to be able to send secure mail to you, she must know  your public key.  For you to be able to confirm that the message  received came from her, you must know her public key.  It is important  that this information be accurate; if a \\\"bad guy\\\" convinces her that  his key is in fact yours, she will send messages which he can read.   RIPEM allows for three methods of key management: a central server,  the distributed finger servers, and a flat file.  All three are  described in the RIPEM users guide which is part of the distribution.  None of them provide perfect security.  The PEM standard calls for  key management by certificates; the addition of this feature to RIPEM  is planned, but chicken-egg issues still exist.  10)  Isn't it a bad idea to use patented algorithms in standards like PEM?   This issue has been considered in the standards process.  RFC 1310,  the specification for Internet standards, has a discussion (section  6) on what specifications for nondiscriminatory availability must be  met for a patented method to be included in a standard.  RFC 1421  addresses this issue with regard to the patents covering public-key  cryptography.   This does not, of course, mean that all questions are settled or that  everyone is in agreement.  An interesting exchange on the use of  patented algorithms in standards with regard to public-key  cryptography is in the League for Programming Freedom archive  (available via FTP: ftp.uu.net:/doc/lpf) in the files bidzos.letter  and bidzos.response.  (Amusingly, the LPF files on ftp.uu.net are  compressed with a patented algorithm.)  11)  What about RSADSI/PKP?   RSA Data Security, Inc. (RSADSI) is a California-based company  specializing in cryptographic technologies.  Public Key Partners is a  firm which holds exclusive sub-licensing rights of the following U.S.  patents and all of their corresponding foreign patents:        Cryptographic Apparatus and Method       (\\\"Diffie-Hellman\\\")............................... No. 4,200,770        Public Key Cryptographic Apparatus       and Method (\\\"Hellman-Merkle\\\").................... No. 4,218,582        Cryptographic Communications System and       Method (\\\"RSA\\\")................................... No. 4,405,829        Exponential Cryptographic Apparatus       and Method (\\\"Hellman-Pohlig\\\").................... No. 4,424,414   PKP claims these four patents cover all known methods of public key  cryptography.  The two businesses are rather closely related (for  example, the same person, Jim Bidzos, is president of both of them.)  PKP has licensed this technology to a considerable number of  companies (IBM, DEC, Motorola, AT&T, Lotus...) for use in their  products.  PKP has also threatened and filed lawsuits defending their  patents.   RIPEM was originally created with no connection to RSADSI other than  its use of the RSAREF library, and for no reason other than its  author's desire to see widespread use of public-key cryptography.  However, after the ball started rolling, people at RSADSI got  interested.  RSADSI decided to carry RIPEM on its FTP site, and some  people there started making their own RIPEM keys and contributing  code.  RIPEM even won the \\\"Best Application Built on RSAREF in 1992\\\"  award.  12)  Why do all RIPEM public keys look very similar?   RIPEM public keys begin with a PKCS (Public-Key Cryptography  Standards) identifier describing various characteristics about the  key, so the first bunch of characters in your key may be the same as  those of lots of other people's keys.  This does not mean your keys  are similar, but only that they are the same class of key, were  generated with the same program, are of the same length, etc.  13)  What is PGP?   PGP is another cryptographic mail program called Pretty Good Privacy.  PGP has been around longer than RIPEM, and works somewhat differently.  PGP is not compatible with RIPEM in any way, though PGP does also use RSA.   A few major differences between PGP and RIPEM:   - PGP has more key management features, particularly for users without    a direct network connection.   - RIPEM conforms to the PEM RFCs and thus has a greater probability    of working with other PEM software.  PGP makes no attempt to be    compatible with anything other than itself.   - RIPEM uses RSAREF, a library of RSA routines from RSADSI which    comes with a license allowing noncommercial use.  PGP uses its own    implementation of RSA.  PKP claims that it is a violation of its    patents to \\\"make, use or sell\\\" PGP in the U.S. or Canada without    either a license or written permission.  (See: \\\"DISCLAIMER\\\")    (See: \\\"What about RSADSI/PKP?\\\")  Phil Zimmermann, the author of    PGP, stopped distributing it after being threatened with legal    action; he believed that a licensing scheme could be arranged, but    it hasn't happened and there seems little prospect of it happening    in the future.  He acknowledges in the PGP User's Guide:     #In fact, if you live in the USA, and you are not a Federal agency,     #you shouldn't actually run PGP on your computer, because Public    #Key Partners wants to forbid you from running my software.  PGP is    #contraband.   - Both PGP and RIPEM are export-restricted, and cannot be sent outside    the U.S. and Canada without an export license.  However, PGP    already exists on many ftp sites in Europe and other places.   Whether you use PGP or RIPEM or whatever, the documentation to PGP is  recommended reading to anyone interested in such issues.  Unfortunately, it's not distributed separately from the program,  which can be difficult to find in the U.S. on FTP sites due to  liability concerns.  14)  What about RPEM?   RPEM stands for Rabin Privacy Enhanced Mail.  It was similar to RIPEM,  but used a public-key cipher invented by Rabin (which is not RSA) in  an attempt to avoid the patents on public-key systems.  It was  written by Mark Riordan, who later wrote RIPEM.   Its distribution was halted when, contrary to the beliefs of many  (including Rabin), PKP claimed that their patents were broad enough  to cover the cipher employed.  This claim is not universally  accepted, but was not challenged for pragmatic reasons.   RPEM is not really used anymore.  It is not compatible with RIPEM or PGP.  15)  What is MIME?   MIME stands for Multipurpose Internet Mail Extensions, and is  described in RFC 1341.  You can find out about it in the newsgroup  comp.mail.mime; a FAQ exists on it.  How PEM should interact with  MIME is not yet entirely clear; some people use the stopgap solution  of having a MIME type application/x-ripem in order to send RIPEM  messages as MIME ones.  I hope some standards will emerge.  Draft  Internet documents exist on the matter.  16)  What is TIS/PEM?   Trusted Information Systems is working on a version of Privacy  Enhanced Mail for general availability.  Last I heard, it was  rumored to be integrated into an existing mail user agent (MH)  rather than a stand-alone system, and in beta test.  I don't know  much more than that.  17)  I have this simple way to defeat the security of RIPEM...\"]],[\"SUBSET\",[\"raw\",\"raw\",\"raw\",\"raw\",\"raw\",\"raw\",\"raw\",\"raw\",\"raw\",\"raw\"]],[\"label\",[\"ABSTAIN\",\"ABSTAIN\",\"ABSTAIN\",\"ABSTAIN\",\"ABSTAIN\",\"ABSTAIN\",\"ABSTAIN\",\"ABSTAIN\",\"ABSTAIN\",\"ABSTAIN\"]]]}}},\"view\":{\"type\":\"object\",\"name\":\"CDSView\",\"id\":\"p1053\",\"attributes\":{\"filter\":{\"type\":\"object\",\"name\":\"AllIndices\",\"id\":\"p1054\"}}},\"columns\":[{\"type\":\"object\",\"name\":\"TableColumn\",\"id\":\"p1043\",\"attributes\":{\"field\":\"text\",\"title\":\"text\",\"formatter\":{\"type\":\"object\",\"name\":\"HTMLTemplateFormatter\",\"id\":\"p1042\",\"attributes\":{\"template\":\"<span href=\\\"#\\\" data-toggle=\\\"tooltip\\\" title=\\\"<%= value %>\\\"><%= value %></span>\"}},\"editor\":{\"type\":\"object\",\"name\":\"CellEditor\",\"id\":\"p1041\"}}},{\"type\":\"object\",\"name\":\"TableColumn\",\"id\":\"p1046\",\"attributes\":{\"field\":\"label\",\"title\":\"label\",\"formatter\":{\"type\":\"object\",\"name\":\"StringFormatter\",\"id\":\"p1048\"},\"editor\":{\"type\":\"object\",\"name\":\"StringEditor\",\"id\":\"p1047\"}}}],\"editable\":true,\"selectable\":\"checkbox\"}}]}}],\"callbacks\":{\"type\":\"map\"}}};\n",
       "  const render_items = [{\"docid\":\"bf87bb6c-880a-456a-9767-1a732079837f\",\"roots\":{\"p1341\":\"d8ca5361-4e1f-477b-82fc-ae4c9ffaf509\"},\"root_ids\":[\"p1341\"]}];\n",
       "  root.Bokeh.embed.embed_items_notebook(docs_json, render_items);\n",
       "  }\n",
       "  if (root.Bokeh !== undefined) {\n",
       "    embed_document(root);\n",
       "  } else {\n",
       "    let attempts = 0;\n",
       "    const timer = setInterval(function(root) {\n",
       "      if (root.Bokeh !== undefined) {\n",
       "        clearInterval(timer);\n",
       "        embed_document(root);\n",
       "      } else {\n",
       "        attempts++;\n",
       "        if (attempts > 100) {\n",
       "          clearInterval(timer);\n",
       "          console.log(\"Bokeh: ERROR: Unable to run BokehJS code because BokehJS library is missing\");\n",
       "        }\n",
       "      }\n",
       "    }, 10, root)\n",
       "  }\n",
       "})(window);"
      ],
      "application/vnd.bokehjs_exec.v0+json": ""
     },
     "metadata": {
      "application/vnd.bokehjs_exec.v0+json": {
       "id": "p1341"
      }
     },
     "output_type": "display_data"
    }
   ],
   "source": [
    "show(column(\n",
    "    row(\n",
    "        dataset.selection_evictor,\n",
    "        dataset.selection_patcher,\n",
    "    ),\n",
    "    dataset.sel_table,\n",
    "), notebook_url=notebook_url)"
   ]
  },
  {
   "cell_type": "markdown",
   "id": "37a630e4",
   "metadata": {},
   "source": [
    "<br>"
   ]
  }
 ],
 "metadata": {
  "language_info": {
   "codemirror_mode": {
    "name": "ipython",
    "version": 3
   },
   "file_extension": ".py",
   "mimetype": "text/x-python",
   "name": "python",
   "nbconvert_exporter": "python",
   "pygments_lexer": "ipython3",
   "version": "3.9.16"
  }
 },
 "nbformat": 4,
 "nbformat_minor": 5
}
