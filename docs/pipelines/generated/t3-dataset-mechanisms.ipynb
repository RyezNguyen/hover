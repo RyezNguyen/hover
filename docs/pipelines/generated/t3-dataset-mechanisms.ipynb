{
 "cells": [
  {
   "cell_type": "markdown",
   "id": "ef3367fa",
   "metadata": {},
   "source": [
    "> `SupervisableDataset` holds your data throughout the labeling process.\n",
    ">\n",
    "> :speedboat: Let's take a look at its core mechanisms.\n",
    "\n",
    "-   <details open><summary>This page addresses **single components** of `hover`</summary>\n",
    "    For illustration, we are using code snippets to pick out specific widgets so that the documentation can explain what they do.\n",
    "\n",
    "    -   Please be aware that you won't need to get the widgets by code in an actual use case.\n",
    "    -   Typical usage deals with [recipes](../../tutorial/t1-active-learning) where the individual parts have been tied together.\n",
    "\n",
    "</details>\n",
    "\n",
    "-   <details open><summary>Dependencies for {== local environments ==}</summary>\n",
    "    When you run the code locally, you may need to install additional packages.\n",
    "\n",
    "    To render `bokeh` plots in Jupyter, you need:\n",
    "```shell\n",
    "    pip install jupyter_bokeh\n",
    "```\n",
    "\n",
    "    If you are using JupyterLab older than 3.0, use this instead ([reference](https://pypi.org/project/jupyter-bokeh/)):\n",
    "```shell\n",
    "    jupyter labextension install @jupyter-widgets/jupyterlab-manager\n",
    "    jupyter labextension install @bokeh/jupyter_bokeh\n",
    "```\n",
    "\n",
    "</details>\n",
    "\n",
    "## **Data Subsets**\n",
    "\n",
    "We place unlabeled data and labeled data in different subsets: \"raw\", \"train\", \"dev\", and \"test\". Unlabeled data start from the \"raw\" subset, and can be transferred to other subsets after it gets labeled.\n",
    "\n",
    "`SupervisableDataset` uses a \"population table\", `dataset.pop_table`, to show the size of each subset:"
   ]
  },
  {
   "cell_type": "code",
   "execution_count": 1,
   "id": "0f40251e",
   "metadata": {
    "execution": {
     "iopub.execute_input": "2024-02-13T01:20:57.399387Z",
     "iopub.status.busy": "2024-02-13T01:20:57.399182Z",
     "iopub.status.idle": "2024-02-13T01:20:58.810928Z",
     "shell.execute_reply": "2024-02-13T01:20:58.810396Z"
    }
   },
   "outputs": [
    {
     "data": {
      "text/html": [
       "<pre style=\"white-space:pre;overflow-x:auto;line-height:normal;font-family:Menlo,'DejaVu Sans Mono',consolas,'Courier New',monospace\"><span style=\"color: #000080; text-decoration-color: #000080\">🔵 SupervisableTextDataset: Initializing</span><span style=\"color: #808000; text-decoration-color: #808000\">...</span>\n",
       "</pre>\n"
      ],
      "text/plain": [
       "\u001b[34m🔵 SupervisableTextDataset: Initializing\u001b[0m\u001b[33m...\u001b[0m\n"
      ]
     },
     "metadata": {},
     "output_type": "display_data"
    },
    {
     "data": {
      "text/html": [
       "<pre style=\"white-space:pre;overflow-x:auto;line-height:normal;font-family:Menlo,'DejaVu Sans Mono',consolas,'Courier New',monospace\"><span style=\"color: #000080; text-decoration-color: #000080\">🔵 SupervisableTextDataset: Deduplicating</span><span style=\"color: #808000; text-decoration-color: #808000\">...</span>\n",
       "</pre>\n"
      ],
      "text/plain": [
       "\u001b[34m🔵 SupervisableTextDataset: Deduplicating\u001b[0m\u001b[33m...\u001b[0m\n"
      ]
     },
     "metadata": {},
     "output_type": "display_data"
    },
    {
     "data": {
      "text/html": [
       "<pre style=\"white-space:pre;overflow-x:auto;line-height:normal;font-family:Menlo,'DejaVu Sans Mono',consolas,'Courier New',monospace\"><span style=\"color: #000080; text-decoration-color: #000080\">🔵 SupervisableTextDataset: --subset raw rows: </span><span style=\"color: #008080; text-decoration-color: #008080; font-weight: bold\">400</span><span style=\"color: #000080; text-decoration-color: #000080\"> -&gt; </span><span style=\"color: #008080; text-decoration-color: #008080; font-weight: bold\">376</span><span style=\"color: #000080; text-decoration-color: #000080\">.</span>\n",
       "</pre>\n"
      ],
      "text/plain": [
       "\u001b[34m🔵 SupervisableTextDataset: --subset raw rows: \u001b[0m\u001b[1;36m400\u001b[0m\u001b[34m -> \u001b[0m\u001b[1;36m376\u001b[0m\u001b[34m.\u001b[0m\n"
      ]
     },
     "metadata": {},
     "output_type": "display_data"
    },
    {
     "data": {
      "text/html": [
       "<pre style=\"white-space:pre;overflow-x:auto;line-height:normal;font-family:Menlo,'DejaVu Sans Mono',consolas,'Courier New',monospace\"><span style=\"color: #000080; text-decoration-color: #000080\">🔵 SupervisableTextDataset: --subset train rows: </span><span style=\"color: #008080; text-decoration-color: #008080; font-weight: bold\">400</span><span style=\"color: #000080; text-decoration-color: #000080\"> -&gt; </span><span style=\"color: #008080; text-decoration-color: #008080; font-weight: bold\">379</span><span style=\"color: #000080; text-decoration-color: #000080\">.</span>\n",
       "</pre>\n"
      ],
      "text/plain": [
       "\u001b[34m🔵 SupervisableTextDataset: --subset train rows: \u001b[0m\u001b[1;36m400\u001b[0m\u001b[34m -> \u001b[0m\u001b[1;36m379\u001b[0m\u001b[34m.\u001b[0m\n"
      ]
     },
     "metadata": {},
     "output_type": "display_data"
    },
    {
     "data": {
      "text/html": [
       "<pre style=\"white-space:pre;overflow-x:auto;line-height:normal;font-family:Menlo,'DejaVu Sans Mono',consolas,'Courier New',monospace\"><span style=\"color: #000080; text-decoration-color: #000080\">🔵 SupervisableTextDataset: --subset dev rows: </span><span style=\"color: #008080; text-decoration-color: #008080; font-weight: bold\">100</span><span style=\"color: #000080; text-decoration-color: #000080\"> -&gt; </span><span style=\"color: #008080; text-decoration-color: #008080; font-weight: bold\">97</span><span style=\"color: #000080; text-decoration-color: #000080\">.</span>\n",
       "</pre>\n"
      ],
      "text/plain": [
       "\u001b[34m🔵 SupervisableTextDataset: --subset dev rows: \u001b[0m\u001b[1;36m100\u001b[0m\u001b[34m -> \u001b[0m\u001b[1;36m97\u001b[0m\u001b[34m.\u001b[0m\n"
      ]
     },
     "metadata": {},
     "output_type": "display_data"
    },
    {
     "data": {
      "text/html": [
       "<pre style=\"white-space:pre;overflow-x:auto;line-height:normal;font-family:Menlo,'DejaVu Sans Mono',consolas,'Courier New',monospace\"><span style=\"color: #000080; text-decoration-color: #000080\">🔵 SupervisableTextDataset: --subset test rows: </span><span style=\"color: #008080; text-decoration-color: #008080; font-weight: bold\">100</span><span style=\"color: #000080; text-decoration-color: #000080\"> -&gt; </span><span style=\"color: #008080; text-decoration-color: #008080; font-weight: bold\">98</span><span style=\"color: #000080; text-decoration-color: #000080\">.</span>\n",
       "</pre>\n"
      ],
      "text/plain": [
       "\u001b[34m🔵 SupervisableTextDataset: --subset test rows: \u001b[0m\u001b[1;36m100\u001b[0m\u001b[34m -> \u001b[0m\u001b[1;36m98\u001b[0m\u001b[34m.\u001b[0m\n"
      ]
     },
     "metadata": {},
     "output_type": "display_data"
    },
    {
     "data": {
      "text/html": [
       "<pre style=\"white-space:pre;overflow-x:auto;line-height:normal;font-family:Menlo,'DejaVu Sans Mono',consolas,'Courier New',monospace\"><span style=\"color: #008000; text-decoration-color: #008000\">🟢 SupervisableTextDataset: Set up label encoder/decoder with </span><span style=\"color: #008080; text-decoration-color: #008080; font-weight: bold\">20</span><span style=\"color: #008000; text-decoration-color: #008000\"> classes.</span>\n",
       "</pre>\n"
      ],
      "text/plain": [
       "\u001b[32m🟢 SupervisableTextDataset: Set up label encoder/decoder with \u001b[0m\u001b[1;36m20\u001b[0m\u001b[32m classes.\u001b[0m\n"
      ]
     },
     "metadata": {},
     "output_type": "display_data"
    },
    {
     "data": {
      "text/html": [
       "<pre style=\"white-space:pre;overflow-x:auto;line-height:normal;font-family:Menlo,'DejaVu Sans Mono',consolas,'Courier New',monospace\"><span style=\"color: #008000; text-decoration-color: #008000\">🟢 SupervisableTextDataset: Population updater: latest population with </span><span style=\"color: #008080; text-decoration-color: #008080; font-weight: bold\">20</span><span style=\"color: #008000; text-decoration-color: #008000\"> classes.</span>\n",
       "</pre>\n"
      ],
      "text/plain": [
       "\u001b[32m🟢 SupervisableTextDataset: Population updater: latest population with \u001b[0m\u001b[1;36m20\u001b[0m\u001b[32m classes.\u001b[0m\n"
      ]
     },
     "metadata": {},
     "output_type": "display_data"
    },
    {
     "data": {
      "text/html": [
       "<pre style=\"white-space:pre;overflow-x:auto;line-height:normal;font-family:Menlo,'DejaVu Sans Mono',consolas,'Courier New',monospace\"><span style=\"color: #000080; text-decoration-color: #000080\">🔵 SupervisableTextDataset: finished setting up bokeh elements.</span>\n",
       "</pre>\n"
      ],
      "text/plain": [
       "\u001b[34m🔵 SupervisableTextDataset: finished setting up bokeh elements.\u001b[0m\n"
      ]
     },
     "metadata": {},
     "output_type": "display_data"
    },
    {
     "data": {
      "text/html": [
       "<pre style=\"white-space:pre;overflow-x:auto;line-height:normal;font-family:Menlo,'DejaVu Sans Mono',consolas,'Courier New',monospace\"><span style=\"color: #008000; text-decoration-color: #008000\">🟢 SupervisableTextDataset: finished initialization.</span>\n",
       "</pre>\n"
      ],
      "text/plain": [
       "\u001b[32m🟢 SupervisableTextDataset: finished initialization.\u001b[0m\n"
      ]
     },
     "metadata": {},
     "output_type": "display_data"
    }
   ],
   "source": [
    "from hover.core.dataset import SupervisableTextDataset\n",
    "import pandas as pd\n",
    "\n",
    "raw_csv_path = \"https://raw.githubusercontent.com/phurwicz/hover-gallery/main/0.5.0/20_newsgroups_raw.csv\"\n",
    "train_csv_path = \"https://raw.githubusercontent.com/phurwicz/hover-gallery/main/0.5.0/20_newsgroups_train.csv\"\n",
    "\n",
    "# for fast, low-memory demonstration purpose, sample the data\n",
    "df_raw = pd.read_csv(raw_csv_path).sample(400)\n",
    "df_raw[\"SUBSET\"] = \"raw\"\n",
    "df_train = pd.read_csv(train_csv_path).sample(400)\n",
    "df_train[\"SUBSET\"] = \"train\"\n",
    "df_dev = pd.read_csv(train_csv_path).sample(100)\n",
    "df_dev[\"SUBSET\"] = \"dev\"\n",
    "df_test = pd.read_csv(train_csv_path).sample(100)\n",
    "df_test[\"SUBSET\"] = \"test\"\n",
    "\n",
    "# build overall dataframe and ensure feature type\n",
    "df = pd.concat([df_raw, df_train, df_dev, df_test])\n",
    "df[\"text\"] = df[\"text\"].astype(str)\n",
    "\n",
    "# this class stores the dataset throught the labeling process\n",
    "dataset = SupervisableTextDataset.from_pandas(df, feature_key=\"text\", label_key=\"label\")"
   ]
  },
  {
   "cell_type": "markdown",
   "id": "2dd09aab",
   "metadata": {},
   "source": [
    "<br>"
   ]
  },
  {
   "cell_type": "code",
   "execution_count": 2,
   "id": "7d4b4f2f",
   "metadata": {
    "execution": {
     "iopub.execute_input": "2024-02-13T01:20:58.813928Z",
     "iopub.status.busy": "2024-02-13T01:20:58.813377Z",
     "iopub.status.idle": "2024-02-13T01:20:58.864020Z",
     "shell.execute_reply": "2024-02-13T01:20:58.863408Z"
    }
   },
   "outputs": [
    {
     "data": {
      "text/html": [
       "    <style>\n",
       "        .bk-notebook-logo {\n",
       "            display: block;\n",
       "            width: 20px;\n",
       "            height: 20px;\n",
       "            background-image: url(data:image/png;base64,iVBORw0KGgoAAAANSUhEUgAAABQAAAAUCAYAAACNiR0NAAAABHNCSVQICAgIfAhkiAAAAAlwSFlzAAALEgAACxIB0t1+/AAAABx0RVh0U29mdHdhcmUAQWRvYmUgRmlyZXdvcmtzIENTNui8sowAAAOkSURBVDiNjZRtaJVlGMd/1/08zzln5zjP1LWcU9N0NkN8m2CYjpgQYQXqSs0I84OLIC0hkEKoPtiH3gmKoiJDU7QpLgoLjLIQCpEsNJ1vqUOdO7ppbuec5+V+rj4ctwzd8IIbbi6u+8f1539dt3A78eXC7QizUF7gyV1fD1Yqg4JWz84yffhm0qkFqBogB9rM8tZdtwVsPUhWhGcFJngGeWrPzHm5oaMmkfEg1usvLFyc8jLRqDOMru7AyC8saQr7GG7f5fvDeH7Ej8CM66nIF+8yngt6HWaKh7k49Soy9nXurCi1o3qUbS3zWfrYeQDTB/Qj6kX6Ybhw4B+bOYoLKCC9H3Nu/leUTZ1JdRWkkn2ldcCamzrcf47KKXdAJllSlxAOkRgyHsGC/zRday5Qld9DyoM4/q/rUoy/CXh3jzOu3bHUVZeU+DEn8FInkPBFlu3+nW3Nw0mk6vCDiWg8CeJaxEwuHS3+z5RgY+YBR6V1Z1nxSOfoaPa4LASWxxdNp+VWTk7+4vzaou8v8PN+xo+KY2xsw6une2frhw05CTYOmQvsEhjhWjn0bmXPjpE1+kplmmkP3suftwTubK9Vq22qKmrBhpY4jvd5afdRA3wGjFAgcnTK2s4hY0/GPNIb0nErGMCRxWOOX64Z8RAC4oCXdklmEvcL8o0BfkNK4lUg9HTl+oPlQxdNo3Mg4Nv175e/1LDGzZen30MEjRUtmXSfiTVu1kK8W4txyV6BMKlbgk3lMwYCiusNy9fVfvvwMxv8Ynl6vxoByANLTWplvuj/nF9m2+PDtt1eiHPBr1oIfhCChQMBw6Aw0UulqTKZdfVvfG7VcfIqLG9bcldL/+pdWTLxLUy8Qq38heUIjh4XlzZxzQm19lLFlr8vdQ97rjZVOLf8nclzckbcD4wxXMidpX30sFd37Fv/GtwwhzhxGVAprjbg0gCAEeIgwCZyTV2Z1REEW8O4py0wsjeloKoMr6iCY6dP92H6Vw/oTyICIthibxjm/DfN9lVz8IqtqKYLUXfoKVMVQVVJOElGjrnnUt9T9wbgp8AyYKaGlqingHZU/uG2NTZSVqwHQTWkx9hxjkpWDaCg6Ckj5qebgBVbT3V3NNXMSiWSDdGV3hrtzla7J+duwPOToIg42ChPQOQjspnSlp1V+Gjdged7+8UN5CRAV7a5EdFNwCjEaBR27b3W890TE7g24NAP/mMDXRWrGoFPQI9ls/MWO2dWFAar/xcOIImbbpA3zgAAAABJRU5ErkJggg==);\n",
       "        }\n",
       "    </style>\n",
       "    <div>\n",
       "        <a href=\"https://bokeh.org\" target=\"_blank\" class=\"bk-notebook-logo\"></a>\n",
       "        <span id=\"c5417e1e-46c0-4022-b783-31d8d67aebf0\">Loading BokehJS ...</span>\n",
       "    </div>\n"
      ]
     },
     "metadata": {},
     "output_type": "display_data"
    },
    {
     "data": {
      "application/javascript": [
       "(function(root) {\n",
       "  function now() {\n",
       "    return new Date();\n",
       "  }\n",
       "\n",
       "  const force = true;\n",
       "\n",
       "  if (typeof root._bokeh_onload_callbacks === \"undefined\" || force === true) {\n",
       "    root._bokeh_onload_callbacks = [];\n",
       "    root._bokeh_is_loading = undefined;\n",
       "  }\n",
       "\n",
       "const JS_MIME_TYPE = 'application/javascript';\n",
       "  const HTML_MIME_TYPE = 'text/html';\n",
       "  const EXEC_MIME_TYPE = 'application/vnd.bokehjs_exec.v0+json';\n",
       "  const CLASS_NAME = 'output_bokeh rendered_html';\n",
       "\n",
       "  /**\n",
       "   * Render data to the DOM node\n",
       "   */\n",
       "  function render(props, node) {\n",
       "    const script = document.createElement(\"script\");\n",
       "    node.appendChild(script);\n",
       "  }\n",
       "\n",
       "  /**\n",
       "   * Handle when an output is cleared or removed\n",
       "   */\n",
       "  function handleClearOutput(event, handle) {\n",
       "    function drop(id) {\n",
       "      const view = Bokeh.index.get_by_id(id)\n",
       "      if (view != null) {\n",
       "        view.model.document.clear()\n",
       "        Bokeh.index.delete(view)\n",
       "      }\n",
       "    }\n",
       "\n",
       "    const cell = handle.cell;\n",
       "\n",
       "    const id = cell.output_area._bokeh_element_id;\n",
       "    const server_id = cell.output_area._bokeh_server_id;\n",
       "\n",
       "    // Clean up Bokeh references\n",
       "    if (id != null) {\n",
       "      drop(id)\n",
       "    }\n",
       "\n",
       "    if (server_id !== undefined) {\n",
       "      // Clean up Bokeh references\n",
       "      const cmd_clean = \"from bokeh.io.state import curstate; print(curstate().uuid_to_server['\" + server_id + \"'].get_sessions()[0].document.roots[0]._id)\";\n",
       "      cell.notebook.kernel.execute(cmd_clean, {\n",
       "        iopub: {\n",
       "          output: function(msg) {\n",
       "            const id = msg.content.text.trim()\n",
       "            drop(id)\n",
       "          }\n",
       "        }\n",
       "      });\n",
       "      // Destroy server and session\n",
       "      const cmd_destroy = \"import bokeh.io.notebook as ion; ion.destroy_server('\" + server_id + \"')\";\n",
       "      cell.notebook.kernel.execute(cmd_destroy);\n",
       "    }\n",
       "  }\n",
       "\n",
       "  /**\n",
       "   * Handle when a new output is added\n",
       "   */\n",
       "  function handleAddOutput(event, handle) {\n",
       "    const output_area = handle.output_area;\n",
       "    const output = handle.output;\n",
       "\n",
       "    // limit handleAddOutput to display_data with EXEC_MIME_TYPE content only\n",
       "    if ((output.output_type != \"display_data\") || (!Object.prototype.hasOwnProperty.call(output.data, EXEC_MIME_TYPE))) {\n",
       "      return\n",
       "    }\n",
       "\n",
       "    const toinsert = output_area.element.find(\".\" + CLASS_NAME.split(' ')[0]);\n",
       "\n",
       "    if (output.metadata[EXEC_MIME_TYPE][\"id\"] !== undefined) {\n",
       "      toinsert[toinsert.length - 1].firstChild.textContent = output.data[JS_MIME_TYPE];\n",
       "      // store reference to embed id on output_area\n",
       "      output_area._bokeh_element_id = output.metadata[EXEC_MIME_TYPE][\"id\"];\n",
       "    }\n",
       "    if (output.metadata[EXEC_MIME_TYPE][\"server_id\"] !== undefined) {\n",
       "      const bk_div = document.createElement(\"div\");\n",
       "      bk_div.innerHTML = output.data[HTML_MIME_TYPE];\n",
       "      const script_attrs = bk_div.children[0].attributes;\n",
       "      for (let i = 0; i < script_attrs.length; i++) {\n",
       "        toinsert[toinsert.length - 1].firstChild.setAttribute(script_attrs[i].name, script_attrs[i].value);\n",
       "        toinsert[toinsert.length - 1].firstChild.textContent = bk_div.children[0].textContent\n",
       "      }\n",
       "      // store reference to server id on output_area\n",
       "      output_area._bokeh_server_id = output.metadata[EXEC_MIME_TYPE][\"server_id\"];\n",
       "    }\n",
       "  }\n",
       "\n",
       "  function register_renderer(events, OutputArea) {\n",
       "\n",
       "    function append_mime(data, metadata, element) {\n",
       "      // create a DOM node to render to\n",
       "      const toinsert = this.create_output_subarea(\n",
       "        metadata,\n",
       "        CLASS_NAME,\n",
       "        EXEC_MIME_TYPE\n",
       "      );\n",
       "      this.keyboard_manager.register_events(toinsert);\n",
       "      // Render to node\n",
       "      const props = {data: data, metadata: metadata[EXEC_MIME_TYPE]};\n",
       "      render(props, toinsert[toinsert.length - 1]);\n",
       "      element.append(toinsert);\n",
       "      return toinsert\n",
       "    }\n",
       "\n",
       "    /* Handle when an output is cleared or removed */\n",
       "    events.on('clear_output.CodeCell', handleClearOutput);\n",
       "    events.on('delete.Cell', handleClearOutput);\n",
       "\n",
       "    /* Handle when a new output is added */\n",
       "    events.on('output_added.OutputArea', handleAddOutput);\n",
       "\n",
       "    /**\n",
       "     * Register the mime type and append_mime function with output_area\n",
       "     */\n",
       "    OutputArea.prototype.register_mime_type(EXEC_MIME_TYPE, append_mime, {\n",
       "      /* Is output safe? */\n",
       "      safe: true,\n",
       "      /* Index of renderer in `output_area.display_order` */\n",
       "      index: 0\n",
       "    });\n",
       "  }\n",
       "\n",
       "  // register the mime type if in Jupyter Notebook environment and previously unregistered\n",
       "  if (root.Jupyter !== undefined) {\n",
       "    const events = require('base/js/events');\n",
       "    const OutputArea = require('notebook/js/outputarea').OutputArea;\n",
       "\n",
       "    if (OutputArea.prototype.mime_types().indexOf(EXEC_MIME_TYPE) == -1) {\n",
       "      register_renderer(events, OutputArea);\n",
       "    }\n",
       "  }\n",
       "  if (typeof (root._bokeh_timeout) === \"undefined\" || force === true) {\n",
       "    root._bokeh_timeout = Date.now() + 5000;\n",
       "    root._bokeh_failed_load = false;\n",
       "  }\n",
       "\n",
       "  const NB_LOAD_WARNING = {'data': {'text/html':\n",
       "     \"<div style='background-color: #fdd'>\\n\"+\n",
       "     \"<p>\\n\"+\n",
       "     \"BokehJS does not appear to have successfully loaded. If loading BokehJS from CDN, this \\n\"+\n",
       "     \"may be due to a slow or bad network connection. Possible fixes:\\n\"+\n",
       "     \"</p>\\n\"+\n",
       "     \"<ul>\\n\"+\n",
       "     \"<li>re-rerun `output_notebook()` to attempt to load from CDN again, or</li>\\n\"+\n",
       "     \"<li>use INLINE resources instead, as so:</li>\\n\"+\n",
       "     \"</ul>\\n\"+\n",
       "     \"<code>\\n\"+\n",
       "     \"from bokeh.resources import INLINE\\n\"+\n",
       "     \"output_notebook(resources=INLINE)\\n\"+\n",
       "     \"</code>\\n\"+\n",
       "     \"</div>\"}};\n",
       "\n",
       "  function display_loaded() {\n",
       "    const el = document.getElementById(\"c5417e1e-46c0-4022-b783-31d8d67aebf0\");\n",
       "    if (el != null) {\n",
       "      el.textContent = \"BokehJS is loading...\";\n",
       "    }\n",
       "    if (root.Bokeh !== undefined) {\n",
       "      if (el != null) {\n",
       "        el.textContent = \"BokehJS \" + root.Bokeh.version + \" successfully loaded.\";\n",
       "      }\n",
       "    } else if (Date.now() < root._bokeh_timeout) {\n",
       "      setTimeout(display_loaded, 100)\n",
       "    }\n",
       "  }\n",
       "\n",
       "  function run_callbacks() {\n",
       "    try {\n",
       "      root._bokeh_onload_callbacks.forEach(function(callback) {\n",
       "        if (callback != null)\n",
       "          callback();\n",
       "      });\n",
       "    } finally {\n",
       "      delete root._bokeh_onload_callbacks\n",
       "    }\n",
       "    console.debug(\"Bokeh: all callbacks have finished\");\n",
       "  }\n",
       "\n",
       "  function load_libs(css_urls, js_urls, callback) {\n",
       "    if (css_urls == null) css_urls = [];\n",
       "    if (js_urls == null) js_urls = [];\n",
       "\n",
       "    root._bokeh_onload_callbacks.push(callback);\n",
       "    if (root._bokeh_is_loading > 0) {\n",
       "      console.debug(\"Bokeh: BokehJS is being loaded, scheduling callback at\", now());\n",
       "      return null;\n",
       "    }\n",
       "    if (js_urls == null || js_urls.length === 0) {\n",
       "      run_callbacks();\n",
       "      return null;\n",
       "    }\n",
       "    console.debug(\"Bokeh: BokehJS not loaded, scheduling load and callback at\", now());\n",
       "    root._bokeh_is_loading = css_urls.length + js_urls.length;\n",
       "\n",
       "    function on_load() {\n",
       "      root._bokeh_is_loading--;\n",
       "      if (root._bokeh_is_loading === 0) {\n",
       "        console.debug(\"Bokeh: all BokehJS libraries/stylesheets loaded\");\n",
       "        run_callbacks()\n",
       "      }\n",
       "    }\n",
       "\n",
       "    function on_error(url) {\n",
       "      console.error(\"failed to load \" + url);\n",
       "    }\n",
       "\n",
       "    for (let i = 0; i < css_urls.length; i++) {\n",
       "      const url = css_urls[i];\n",
       "      const element = document.createElement(\"link\");\n",
       "      element.onload = on_load;\n",
       "      element.onerror = on_error.bind(null, url);\n",
       "      element.rel = \"stylesheet\";\n",
       "      element.type = \"text/css\";\n",
       "      element.href = url;\n",
       "      console.debug(\"Bokeh: injecting link tag for BokehJS stylesheet: \", url);\n",
       "      document.body.appendChild(element);\n",
       "    }\n",
       "\n",
       "    for (let i = 0; i < js_urls.length; i++) {\n",
       "      const url = js_urls[i];\n",
       "      const element = document.createElement('script');\n",
       "      element.onload = on_load;\n",
       "      element.onerror = on_error.bind(null, url);\n",
       "      element.async = false;\n",
       "      element.src = url;\n",
       "      console.debug(\"Bokeh: injecting script tag for BokehJS library: \", url);\n",
       "      document.head.appendChild(element);\n",
       "    }\n",
       "  };\n",
       "\n",
       "  function inject_raw_css(css) {\n",
       "    const element = document.createElement(\"style\");\n",
       "    element.appendChild(document.createTextNode(css));\n",
       "    document.body.appendChild(element);\n",
       "  }\n",
       "\n",
       "  const js_urls = [\"https://cdn.bokeh.org/bokeh/release/bokeh-3.3.4.min.js\", \"https://cdn.bokeh.org/bokeh/release/bokeh-gl-3.3.4.min.js\", \"https://cdn.bokeh.org/bokeh/release/bokeh-widgets-3.3.4.min.js\", \"https://cdn.bokeh.org/bokeh/release/bokeh-tables-3.3.4.min.js\", \"https://cdn.bokeh.org/bokeh/release/bokeh-mathjax-3.3.4.min.js\"];\n",
       "  const css_urls = [];\n",
       "\n",
       "  const inline_js = [    function(Bokeh) {\n",
       "      Bokeh.set_log_level(\"info\");\n",
       "    },\n",
       "function(Bokeh) {\n",
       "    }\n",
       "  ];\n",
       "\n",
       "  function run_inline_js() {\n",
       "    if (root.Bokeh !== undefined || force === true) {\n",
       "          for (let i = 0; i < inline_js.length; i++) {\n",
       "      inline_js[i].call(root, root.Bokeh);\n",
       "    }\n",
       "if (force === true) {\n",
       "        display_loaded();\n",
       "      }} else if (Date.now() < root._bokeh_timeout) {\n",
       "      setTimeout(run_inline_js, 100);\n",
       "    } else if (!root._bokeh_failed_load) {\n",
       "      console.log(\"Bokeh: BokehJS failed to load within specified timeout.\");\n",
       "      root._bokeh_failed_load = true;\n",
       "    } else if (force !== true) {\n",
       "      const cell = $(document.getElementById(\"c5417e1e-46c0-4022-b783-31d8d67aebf0\")).parents('.cell').data().cell;\n",
       "      cell.output_area.append_execute_result(NB_LOAD_WARNING)\n",
       "    }\n",
       "  }\n",
       "\n",
       "  if (root._bokeh_is_loading === 0) {\n",
       "    console.debug(\"Bokeh: BokehJS loaded, going straight to plotting\");\n",
       "    run_inline_js();\n",
       "  } else {\n",
       "    load_libs(css_urls, js_urls, function() {\n",
       "      console.debug(\"Bokeh: BokehJS plotting callback run at\", now());\n",
       "      run_inline_js();\n",
       "    });\n",
       "  }\n",
       "}(window));"
      ],
      "application/vnd.bokehjs_load.v0+json": "(function(root) {\n  function now() {\n    return new Date();\n  }\n\n  const force = true;\n\n  if (typeof root._bokeh_onload_callbacks === \"undefined\" || force === true) {\n    root._bokeh_onload_callbacks = [];\n    root._bokeh_is_loading = undefined;\n  }\n\n\n  if (typeof (root._bokeh_timeout) === \"undefined\" || force === true) {\n    root._bokeh_timeout = Date.now() + 5000;\n    root._bokeh_failed_load = false;\n  }\n\n  const NB_LOAD_WARNING = {'data': {'text/html':\n     \"<div style='background-color: #fdd'>\\n\"+\n     \"<p>\\n\"+\n     \"BokehJS does not appear to have successfully loaded. If loading BokehJS from CDN, this \\n\"+\n     \"may be due to a slow or bad network connection. Possible fixes:\\n\"+\n     \"</p>\\n\"+\n     \"<ul>\\n\"+\n     \"<li>re-rerun `output_notebook()` to attempt to load from CDN again, or</li>\\n\"+\n     \"<li>use INLINE resources instead, as so:</li>\\n\"+\n     \"</ul>\\n\"+\n     \"<code>\\n\"+\n     \"from bokeh.resources import INLINE\\n\"+\n     \"output_notebook(resources=INLINE)\\n\"+\n     \"</code>\\n\"+\n     \"</div>\"}};\n\n  function display_loaded() {\n    const el = document.getElementById(\"c5417e1e-46c0-4022-b783-31d8d67aebf0\");\n    if (el != null) {\n      el.textContent = \"BokehJS is loading...\";\n    }\n    if (root.Bokeh !== undefined) {\n      if (el != null) {\n        el.textContent = \"BokehJS \" + root.Bokeh.version + \" successfully loaded.\";\n      }\n    } else if (Date.now() < root._bokeh_timeout) {\n      setTimeout(display_loaded, 100)\n    }\n  }\n\n  function run_callbacks() {\n    try {\n      root._bokeh_onload_callbacks.forEach(function(callback) {\n        if (callback != null)\n          callback();\n      });\n    } finally {\n      delete root._bokeh_onload_callbacks\n    }\n    console.debug(\"Bokeh: all callbacks have finished\");\n  }\n\n  function load_libs(css_urls, js_urls, callback) {\n    if (css_urls == null) css_urls = [];\n    if (js_urls == null) js_urls = [];\n\n    root._bokeh_onload_callbacks.push(callback);\n    if (root._bokeh_is_loading > 0) {\n      console.debug(\"Bokeh: BokehJS is being loaded, scheduling callback at\", now());\n      return null;\n    }\n    if (js_urls == null || js_urls.length === 0) {\n      run_callbacks();\n      return null;\n    }\n    console.debug(\"Bokeh: BokehJS not loaded, scheduling load and callback at\", now());\n    root._bokeh_is_loading = css_urls.length + js_urls.length;\n\n    function on_load() {\n      root._bokeh_is_loading--;\n      if (root._bokeh_is_loading === 0) {\n        console.debug(\"Bokeh: all BokehJS libraries/stylesheets loaded\");\n        run_callbacks()\n      }\n    }\n\n    function on_error(url) {\n      console.error(\"failed to load \" + url);\n    }\n\n    for (let i = 0; i < css_urls.length; i++) {\n      const url = css_urls[i];\n      const element = document.createElement(\"link\");\n      element.onload = on_load;\n      element.onerror = on_error.bind(null, url);\n      element.rel = \"stylesheet\";\n      element.type = \"text/css\";\n      element.href = url;\n      console.debug(\"Bokeh: injecting link tag for BokehJS stylesheet: \", url);\n      document.body.appendChild(element);\n    }\n\n    for (let i = 0; i < js_urls.length; i++) {\n      const url = js_urls[i];\n      const element = document.createElement('script');\n      element.onload = on_load;\n      element.onerror = on_error.bind(null, url);\n      element.async = false;\n      element.src = url;\n      console.debug(\"Bokeh: injecting script tag for BokehJS library: \", url);\n      document.head.appendChild(element);\n    }\n  };\n\n  function inject_raw_css(css) {\n    const element = document.createElement(\"style\");\n    element.appendChild(document.createTextNode(css));\n    document.body.appendChild(element);\n  }\n\n  const js_urls = [\"https://cdn.bokeh.org/bokeh/release/bokeh-3.3.4.min.js\", \"https://cdn.bokeh.org/bokeh/release/bokeh-gl-3.3.4.min.js\", \"https://cdn.bokeh.org/bokeh/release/bokeh-widgets-3.3.4.min.js\", \"https://cdn.bokeh.org/bokeh/release/bokeh-tables-3.3.4.min.js\", \"https://cdn.bokeh.org/bokeh/release/bokeh-mathjax-3.3.4.min.js\"];\n  const css_urls = [];\n\n  const inline_js = [    function(Bokeh) {\n      Bokeh.set_log_level(\"info\");\n    },\nfunction(Bokeh) {\n    }\n  ];\n\n  function run_inline_js() {\n    if (root.Bokeh !== undefined || force === true) {\n          for (let i = 0; i < inline_js.length; i++) {\n      inline_js[i].call(root, root.Bokeh);\n    }\nif (force === true) {\n        display_loaded();\n      }} else if (Date.now() < root._bokeh_timeout) {\n      setTimeout(run_inline_js, 100);\n    } else if (!root._bokeh_failed_load) {\n      console.log(\"Bokeh: BokehJS failed to load within specified timeout.\");\n      root._bokeh_failed_load = true;\n    } else if (force !== true) {\n      const cell = $(document.getElementById(\"c5417e1e-46c0-4022-b783-31d8d67aebf0\")).parents('.cell').data().cell;\n      cell.output_area.append_execute_result(NB_LOAD_WARNING)\n    }\n  }\n\n  if (root._bokeh_is_loading === 0) {\n    console.debug(\"Bokeh: BokehJS loaded, going straight to plotting\");\n    run_inline_js();\n  } else {\n    load_libs(css_urls, js_urls, function() {\n      console.debug(\"Bokeh: BokehJS plotting callback run at\", now());\n      run_inline_js();\n    });\n  }\n}(window));"
     },
     "metadata": {},
     "output_type": "display_data"
    },
    {
     "data": {
      "text/html": [
       "\n",
       "  <div id=\"e2878f10-e8ee-447e-9035-b5e339929c65\" data-root-id=\"p1032\" style=\"display: contents;\"></div>\n"
      ]
     },
     "metadata": {},
     "output_type": "display_data"
    },
    {
     "data": {
      "application/javascript": [
       "(function(root) {\n",
       "  function embed_document(root) {\n",
       "  const docs_json = {\"f9606e1e-4ea7-4990-b5b6-24e068ae4029\":{\"version\":\"3.3.4\",\"title\":\"Bokeh Application\",\"roots\":[{\"type\":\"object\",\"name\":\"DataTable\",\"id\":\"p1032\",\"attributes\":{\"source\":{\"type\":\"object\",\"name\":\"ColumnDataSource\",\"id\":\"p1010\",\"attributes\":{\"selected\":{\"type\":\"object\",\"name\":\"Selection\",\"id\":\"p1011\",\"attributes\":{\"indices\":[],\"line_indices\":[]}},\"selection_policy\":{\"type\":\"object\",\"name\":\"UnionRenderers\",\"id\":\"p1012\"},\"data\":{\"type\":\"map\",\"entries\":[[\"color\",[\"#dcdcdc\",\"#3c3285\",\"#4353c2\",\"#4673eb\",\"#4291fe\",\"#2fb1f3\",\"#1ccdd7\",\"#19e3b8\",\"#32f197\",\"#61fc6c\",\"#8efe48\",\"#b1f836\",\"#cfea34\",\"#ead339\",\"#f9ba38\",\"#fe9b2d\",\"#f9771e\",\"#ec520e\",\"#d93806\",\"#c02302\",\"#a01101\"]],[\"label\",[\"ABSTAIN\",\"alt.atheism\",\"comp.graphics\",\"comp.os.ms-windows.misc\",\"comp.sys.ibm.pc.hardware\",\"comp.sys.mac.hardware\",\"comp.windows.x\",\"misc.forsale\",\"rec.autos\",\"rec.motorcycles\",\"rec.sport.baseball\",\"rec.sport.hockey\",\"sci.crypt\",\"sci.electronics\",\"sci.med\",\"sci.space\",\"soc.religion.christian\",\"talk.politics.guns\",\"talk.politics.mideast\",\"talk.politics.misc\",\"talk.religion.misc\"]],[\"count_raw\",[376,0,0,0,0,0,0,0,0,0,0,0,0,0,0,0,0,0,0,0,0]],[\"count_train\",[0,19,21,18,26,22,20,18,23,20,22,21,16,26,20,12,14,12,23,11,15]],[\"count_dev\",[0,4,5,6,2,5,2,5,6,7,5,6,9,6,6,6,5,3,3,4,2]],[\"count_test\",[0,0,4,2,4,2,10,7,3,9,5,5,7,9,5,9,6,3,2,3,3]]]}}},\"view\":{\"type\":\"object\",\"name\":\"CDSView\",\"id\":\"p1036\",\"attributes\":{\"filter\":{\"type\":\"object\",\"name\":\"AllIndices\",\"id\":\"p1037\"}}},\"columns\":[{\"type\":\"object\",\"name\":\"TableColumn\",\"id\":\"p1013\",\"attributes\":{\"field\":\"label\",\"title\":\"label\",\"formatter\":{\"type\":\"object\",\"name\":\"StringFormatter\",\"id\":\"p1014\"},\"editor\":{\"type\":\"object\",\"name\":\"StringEditor\",\"id\":\"p1015\"}}},{\"type\":\"object\",\"name\":\"TableColumn\",\"id\":\"p1016\",\"attributes\":{\"field\":\"count_raw\",\"title\":\"raw\",\"formatter\":{\"type\":\"object\",\"name\":\"StringFormatter\",\"id\":\"p1017\"},\"editor\":{\"type\":\"object\",\"name\":\"StringEditor\",\"id\":\"p1018\"}}},{\"type\":\"object\",\"name\":\"TableColumn\",\"id\":\"p1019\",\"attributes\":{\"field\":\"count_train\",\"title\":\"train\",\"formatter\":{\"type\":\"object\",\"name\":\"StringFormatter\",\"id\":\"p1020\"},\"editor\":{\"type\":\"object\",\"name\":\"StringEditor\",\"id\":\"p1021\"}}},{\"type\":\"object\",\"name\":\"TableColumn\",\"id\":\"p1022\",\"attributes\":{\"field\":\"count_dev\",\"title\":\"dev\",\"formatter\":{\"type\":\"object\",\"name\":\"StringFormatter\",\"id\":\"p1023\"},\"editor\":{\"type\":\"object\",\"name\":\"StringEditor\",\"id\":\"p1024\"}}},{\"type\":\"object\",\"name\":\"TableColumn\",\"id\":\"p1025\",\"attributes\":{\"field\":\"count_test\",\"title\":\"test\",\"formatter\":{\"type\":\"object\",\"name\":\"StringFormatter\",\"id\":\"p1026\"},\"editor\":{\"type\":\"object\",\"name\":\"StringEditor\",\"id\":\"p1027\"}}},{\"type\":\"object\",\"name\":\"TableColumn\",\"id\":\"p1029\",\"attributes\":{\"field\":\"color\",\"title\":\"color\",\"formatter\":{\"type\":\"object\",\"name\":\"HTMLTemplateFormatter\",\"id\":\"p1028\",\"attributes\":{\"template\":\"\\n<p style=\\\"color:<%= value %>;\\\">\\n    <%= \\\"&#9608;&#9608;&#9608;\\\" %>\\n</p>\\n\"}},\"editor\":{\"type\":\"object\",\"name\":\"StringEditor\",\"id\":\"p1031\"}}}]}}]}};\n",
       "  const render_items = [{\"docid\":\"f9606e1e-4ea7-4990-b5b6-24e068ae4029\",\"roots\":{\"p1032\":\"e2878f10-e8ee-447e-9035-b5e339929c65\"},\"root_ids\":[\"p1032\"]}];\n",
       "  root.Bokeh.embed.embed_items_notebook(docs_json, render_items);\n",
       "  }\n",
       "  if (root.Bokeh !== undefined) {\n",
       "    embed_document(root);\n",
       "  } else {\n",
       "    let attempts = 0;\n",
       "    const timer = setInterval(function(root) {\n",
       "      if (root.Bokeh !== undefined) {\n",
       "        clearInterval(timer);\n",
       "        embed_document(root);\n",
       "      } else {\n",
       "        attempts++;\n",
       "        if (attempts > 100) {\n",
       "          clearInterval(timer);\n",
       "          console.log(\"Bokeh: ERROR: Unable to run BokehJS code because BokehJS library is missing\");\n",
       "        }\n",
       "      }\n",
       "    }, 10, root)\n",
       "  }\n",
       "})(window);"
      ],
      "application/vnd.bokehjs_exec.v0+json": ""
     },
     "metadata": {
      "application/vnd.bokehjs_exec.v0+json": {
       "id": "p1032"
      }
     },
     "output_type": "display_data"
    }
   ],
   "source": [
    "from bokeh.io import show, output_notebook\n",
    "\n",
    "output_notebook()\n",
    "\n",
    "# normally your would skip notebook_url or use Jupyter address\n",
    "notebook_url = 'localhost:8888'\n",
    "\n",
    "show(dataset.pop_table, notebook_url=notebook_url)"
   ]
  },
  {
   "cell_type": "markdown",
   "id": "aca9762c",
   "metadata": {},
   "source": [
    "<br>\n",
    "\n",
    "### **Transfer Data Between Subsets**\n",
    "\n",
    "`COMMIT` and `DEDUP` are the mechanisms that `hover` uses to transfer data between subsets.\n",
    "\n",
    "-   `COMMIT` copies selected points (to be discussed later) to a destination subset\n",
    "    -   labeled-raw-only: `COMMIT` automatically detects which points are in the raw set with a valid label. Other points will not get copied.\n",
    "    -   keep-last: you can commit the same point to the same subset multiple times and the last copy will be kept. This can be useful for revising labels before `DEDUP`.\n",
    "-   `DEDUP` removes duplicates (identified by feature value) across subsets\n",
    "    -   priority rule: test > dev > train > raw, i.e. test set data always gets kept during deduplication\n",
    "\n",
    "-   <details open><summary>FAQ</summary>\n",
    "    <details open><summary>Why does COMMIT only work on the raw subset?</summary>\n",
    "        Most selections will happen through plots, where different subsets are on top of each other. This means selections can contain both unlabeled and labeled points.\n",
    "\n",
    "        Way too often we find ourselves trying to view both the labeled and the unlabeled, but only moving the unlabeled \"raw\" points. So it's handy that COMMIT picks those points only.\n",
    "    </details>\n",
    "\n",
    "</details>\n",
    "\n",
    "These mechanisms correspond to buttons in `hover`'s annotation interface, which you have encountered in the quickstart:"
   ]
  },
  {
   "cell_type": "code",
   "execution_count": 3,
   "id": "6bf6359d",
   "metadata": {
    "execution": {
     "iopub.execute_input": "2024-02-13T01:20:58.866651Z",
     "iopub.status.busy": "2024-02-13T01:20:58.866252Z",
     "iopub.status.idle": "2024-02-13T01:20:58.883632Z",
     "shell.execute_reply": "2024-02-13T01:20:58.883010Z"
    }
   },
   "outputs": [
    {
     "name": "stderr",
     "output_type": "stream",
     "text": [
      "WARNING:bokeh.embed.util:\n",
      "You are generating standalone HTML/JS output, but trying to use real Python\n",
      "callbacks (i.e. with on_change or on_event). This combination cannot work.\n",
      "\n",
      "Only JavaScript callbacks may be used with standalone output. For more\n",
      "information on JavaScript callbacks with Bokeh, see:\n",
      "\n",
      "    https://docs.bokeh.org/en/latest/docs/user_guide/interaction/callbacks.html\n",
      "\n",
      "Alternatively, to use real Python callbacks, a Bokeh server application may\n",
      "be used. For more information on building and running Bokeh applications, see:\n",
      "\n",
      "    https://docs.bokeh.org/en/latest/docs/user_guide/server.html\n",
      "\n"
     ]
    },
    {
     "data": {
      "text/html": [
       "\n",
       "  <div id=\"cf74aea7-abc8-4915-be33-d1aa37f3eb33\" data-root-id=\"p1056\" style=\"display: contents;\"></div>\n"
      ]
     },
     "metadata": {},
     "output_type": "display_data"
    },
    {
     "data": {
      "application/javascript": [
       "(function(root) {\n",
       "  function embed_document(root) {\n",
       "  const docs_json = {\"12763682-3798-4c97-94c4-ee67e1a974eb\":{\"version\":\"3.3.4\",\"title\":\"Bokeh Application\",\"roots\":[{\"type\":\"object\",\"name\":\"Column\",\"id\":\"p1056\",\"attributes\":{\"children\":[{\"type\":\"object\",\"name\":\"Row\",\"id\":\"p1055\",\"attributes\":{\"children\":[{\"type\":\"object\",\"name\":\"Dropdown\",\"id\":\"p1002\",\"attributes\":{\"button_type\":\"warning\",\"subscribed_events\":{\"type\":\"set\",\"entries\":[\"button_click\",\"menu_item_click\"]},\"label\":\"Commit\",\"menu\":[\"train\",\"dev\",\"test\"]}},{\"type\":\"object\",\"name\":\"Button\",\"id\":\"p1003\",\"attributes\":{\"button_type\":\"warning\",\"subscribed_events\":{\"type\":\"set\",\"entries\":[\"button_click\"]},\"label\":\"Dedup\"}}]}},{\"type\":\"object\",\"name\":\"DataTable\",\"id\":\"p1032\",\"attributes\":{\"source\":{\"type\":\"object\",\"name\":\"ColumnDataSource\",\"id\":\"p1010\",\"attributes\":{\"selected\":{\"type\":\"object\",\"name\":\"Selection\",\"id\":\"p1011\",\"attributes\":{\"indices\":[],\"line_indices\":[]}},\"selection_policy\":{\"type\":\"object\",\"name\":\"UnionRenderers\",\"id\":\"p1012\"},\"data\":{\"type\":\"map\",\"entries\":[[\"color\",[\"#dcdcdc\",\"#3c3285\",\"#4353c2\",\"#4673eb\",\"#4291fe\",\"#2fb1f3\",\"#1ccdd7\",\"#19e3b8\",\"#32f197\",\"#61fc6c\",\"#8efe48\",\"#b1f836\",\"#cfea34\",\"#ead339\",\"#f9ba38\",\"#fe9b2d\",\"#f9771e\",\"#ec520e\",\"#d93806\",\"#c02302\",\"#a01101\"]],[\"label\",[\"ABSTAIN\",\"alt.atheism\",\"comp.graphics\",\"comp.os.ms-windows.misc\",\"comp.sys.ibm.pc.hardware\",\"comp.sys.mac.hardware\",\"comp.windows.x\",\"misc.forsale\",\"rec.autos\",\"rec.motorcycles\",\"rec.sport.baseball\",\"rec.sport.hockey\",\"sci.crypt\",\"sci.electronics\",\"sci.med\",\"sci.space\",\"soc.religion.christian\",\"talk.politics.guns\",\"talk.politics.mideast\",\"talk.politics.misc\",\"talk.religion.misc\"]],[\"count_raw\",[376,0,0,0,0,0,0,0,0,0,0,0,0,0,0,0,0,0,0,0,0]],[\"count_train\",[0,19,21,18,26,22,20,18,23,20,22,21,16,26,20,12,14,12,23,11,15]],[\"count_dev\",[0,4,5,6,2,5,2,5,6,7,5,6,9,6,6,6,5,3,3,4,2]],[\"count_test\",[0,0,4,2,4,2,10,7,3,9,5,5,7,9,5,9,6,3,2,3,3]]]}}},\"view\":{\"type\":\"object\",\"name\":\"CDSView\",\"id\":\"p1036\",\"attributes\":{\"filter\":{\"type\":\"object\",\"name\":\"AllIndices\",\"id\":\"p1037\"}}},\"columns\":[{\"type\":\"object\",\"name\":\"TableColumn\",\"id\":\"p1013\",\"attributes\":{\"field\":\"label\",\"title\":\"label\",\"formatter\":{\"type\":\"object\",\"name\":\"StringFormatter\",\"id\":\"p1014\"},\"editor\":{\"type\":\"object\",\"name\":\"StringEditor\",\"id\":\"p1015\"}}},{\"type\":\"object\",\"name\":\"TableColumn\",\"id\":\"p1016\",\"attributes\":{\"field\":\"count_raw\",\"title\":\"raw\",\"formatter\":{\"type\":\"object\",\"name\":\"StringFormatter\",\"id\":\"p1017\"},\"editor\":{\"type\":\"object\",\"name\":\"StringEditor\",\"id\":\"p1018\"}}},{\"type\":\"object\",\"name\":\"TableColumn\",\"id\":\"p1019\",\"attributes\":{\"field\":\"count_train\",\"title\":\"train\",\"formatter\":{\"type\":\"object\",\"name\":\"StringFormatter\",\"id\":\"p1020\"},\"editor\":{\"type\":\"object\",\"name\":\"StringEditor\",\"id\":\"p1021\"}}},{\"type\":\"object\",\"name\":\"TableColumn\",\"id\":\"p1022\",\"attributes\":{\"field\":\"count_dev\",\"title\":\"dev\",\"formatter\":{\"type\":\"object\",\"name\":\"StringFormatter\",\"id\":\"p1023\"},\"editor\":{\"type\":\"object\",\"name\":\"StringEditor\",\"id\":\"p1024\"}}},{\"type\":\"object\",\"name\":\"TableColumn\",\"id\":\"p1025\",\"attributes\":{\"field\":\"count_test\",\"title\":\"test\",\"formatter\":{\"type\":\"object\",\"name\":\"StringFormatter\",\"id\":\"p1026\"},\"editor\":{\"type\":\"object\",\"name\":\"StringEditor\",\"id\":\"p1027\"}}},{\"type\":\"object\",\"name\":\"TableColumn\",\"id\":\"p1029\",\"attributes\":{\"field\":\"color\",\"title\":\"color\",\"formatter\":{\"type\":\"object\",\"name\":\"HTMLTemplateFormatter\",\"id\":\"p1028\",\"attributes\":{\"template\":\"\\n<p style=\\\"color:<%= value %>;\\\">\\n    <%= \\\"&#9608;&#9608;&#9608;\\\" %>\\n</p>\\n\"}},\"editor\":{\"type\":\"object\",\"name\":\"StringEditor\",\"id\":\"p1031\"}}}]}}]}}]}};\n",
       "  const render_items = [{\"docid\":\"12763682-3798-4c97-94c4-ee67e1a974eb\",\"roots\":{\"p1056\":\"cf74aea7-abc8-4915-be33-d1aa37f3eb33\"},\"root_ids\":[\"p1056\"]}];\n",
       "  root.Bokeh.embed.embed_items_notebook(docs_json, render_items);\n",
       "  }\n",
       "  if (root.Bokeh !== undefined) {\n",
       "    embed_document(root);\n",
       "  } else {\n",
       "    let attempts = 0;\n",
       "    const timer = setInterval(function(root) {\n",
       "      if (root.Bokeh !== undefined) {\n",
       "        clearInterval(timer);\n",
       "        embed_document(root);\n",
       "      } else {\n",
       "        attempts++;\n",
       "        if (attempts > 100) {\n",
       "          clearInterval(timer);\n",
       "          console.log(\"Bokeh: ERROR: Unable to run BokehJS code because BokehJS library is missing\");\n",
       "        }\n",
       "      }\n",
       "    }, 10, root)\n",
       "  }\n",
       "})(window);"
      ],
      "application/vnd.bokehjs_exec.v0+json": ""
     },
     "metadata": {
      "application/vnd.bokehjs_exec.v0+json": {
       "id": "p1056"
      }
     },
     "output_type": "display_data"
    }
   ],
   "source": [
    "from bokeh.layouts import row, column\n",
    "\n",
    "show(column(\n",
    "    row(\n",
    "        dataset.data_committer,\n",
    "        dataset.dedup_trigger,\n",
    "    ),\n",
    "    dataset.pop_table,\n",
    "), notebook_url=notebook_url)"
   ]
  },
  {
   "cell_type": "markdown",
   "id": "20415570",
   "metadata": {},
   "source": [
    "<br>\n",
    "\n",
    "Of course, so far we have nothing to move, because there's no data selected. We shall now discuss selections.\n",
    "\n",
    "## **Selection**\n",
    "\n",
    "`hover` labels data points in bulk, which requires selecting groups of homogeneous data, i.e. semantically similar or going to have the same label. Being able to skim through what you selected gives you confidence about homogeneity.\n",
    "\n",
    "Normally, selection happens through a plot (`explorer`), as we have seen in the quickstart. For the purpose here, we will \"cheat\" and assign the selection programmatically:"
   ]
  },
  {
   "cell_type": "code",
   "execution_count": 4,
   "id": "c76a2a34",
   "metadata": {
    "execution": {
     "iopub.execute_input": "2024-02-13T01:20:58.886125Z",
     "iopub.status.busy": "2024-02-13T01:20:58.885765Z",
     "iopub.status.idle": "2024-02-13T01:20:58.898925Z",
     "shell.execute_reply": "2024-02-13T01:20:58.898330Z"
    }
   },
   "outputs": [
    {
     "data": {
      "text/html": [
       "<pre style=\"white-space:pre;overflow-x:auto;line-height:normal;font-family:Menlo,'DejaVu Sans Mono',consolas,'Courier New',monospace\"><span style=\"color: #008000; text-decoration-color: #008000\">🟢 SupervisableTextDataset: Selection table: latest selection with </span><span style=\"color: #008080; text-decoration-color: #008080; font-weight: bold\">10</span><span style=\"color: #008000; text-decoration-color: #008000\"> entries.</span>\n",
       "</pre>\n"
      ],
      "text/plain": [
       "\u001b[32m🟢 SupervisableTextDataset: Selection table: latest selection with \u001b[0m\u001b[1;36m10\u001b[0m\u001b[32m entries.\u001b[0m\n"
      ]
     },
     "metadata": {},
     "output_type": "display_data"
    },
    {
     "data": {
      "text/html": [
       "\n",
       "  <div id=\"cb06230e-f0bb-4d77-b70e-516a85c1cf94\" data-root-id=\"p1049\" style=\"display: contents;\"></div>\n"
      ]
     },
     "metadata": {},
     "output_type": "display_data"
    },
    {
     "data": {
      "application/javascript": [
       "(function(root) {\n",
       "  function embed_document(root) {\n",
       "  const docs_json = {\"26cee93b-83de-4d8a-970d-bdbbc41029bb\":{\"version\":\"3.3.4\",\"title\":\"Bokeh Application\",\"roots\":[{\"type\":\"object\",\"name\":\"DataTable\",\"id\":\"p1049\",\"attributes\":{\"source\":{\"type\":\"object\",\"name\":\"ColumnDataSource\",\"id\":\"p1038\",\"attributes\":{\"selected\":{\"type\":\"object\",\"name\":\"Selection\",\"id\":\"p1039\",\"attributes\":{\"indices\":[],\"line_indices\":[]}},\"selection_policy\":{\"type\":\"object\",\"name\":\"UnionRenderers\",\"id\":\"p1040\"},\"data\":{\"type\":\"map\",\"entries\":[[\"text\",[\"  If not for the lack of extraneously capitalized words, I'd swear that McElwaine had changed his name and moved to Cal Poly.  I also find the choice of newsgroups 'interesting'.  Perhaps someone should tell this guy that 'sci.astro' doesn't stand for 'astrology'?  It's truly frightening that posts like this are originating at what are ostensibly centers of higher learning in this country.  Small wonder that the rest of the world thinks we're all nuts and that we have the problems that we do.  [In case you haven't gotten it yet, David, I don't think this was quite appropriate for a posting to 'sci' groups.]  --  \\\"Insisting on perfect safety is for people who don't have the balls to live  in the real world.\\\"   -- Mary Shafer, NASA Ames Dryden\",\" No, there is something called the \\\"Delany Amendment\\\" which makes carcinogenic food additives illegal in any amount.  This was passed by Congress in the 1950's, before stuff like mass spectrometry became available, which increased detectable levels of substances by a couple orders of magnitude.  This is why things like cyclamates and Red #2 were banned.  They are very weakly carcinogenic in huge quantities in rats, so under the Act they are banned.  This also applies to natural carcinogens.  Some of you might remember a time back in the 1960's when root beer suddenly stopped tasting so good, and never tasted so good again.  That was the time when safrole was banned. This is the active flavoring ingredient in sassafras leaves.  If it were possible to market a root beer good like the old days, someone would do it, in order to make money.  The fact that no one does it indicates that enforcement is still in effect.\",\"  Could you expand on this? I have a feeling you're right, but I don't quite understand.\",\" That's a very weak argument--due the lack (with regard to critical events) of independent supporting texts.  As for the dating of the oldest extant texts of the NT....  How would you feel about the US Civil War in a couple of thousand years if the only extant text was written about *now*?  Now adjust for a largely illiterate population, and one in which every copy of a manuscript is done by hand....   --Hal \",\" Yes.  (I am adamantly an environmentalist.  I will not use styrofoam table service. Please keep that in mind as you read this post - I do not wish to attack environmentalism)  A half truth is at least as dangerous as a complete lie.  A complete lie will rarely be readily accepted, while a half truth (the lie subtly hidden) is more powerfully offered by one who masquerades as an angel of light.  Satan has (for some people) loosened the grip on treating the earth as something other than God's intricate handiwork, something other than that on which the health of future generations is based.  It is being treated with respect.  You think he's going to happily leave it at that?  No.  When one error is rejected, it is his style to push people to the opposite error.  Therefore the earth is not God's intricate handiwork, not because it is rubbish, but because it is God.  Mother earth is the one you are to primarily love and serve.  I see two facets of a response to it:  1: Care for the environment.  Treat it with proper respect, both because it is    God's intricate handiwork and the health of future generation, and because    showing the facet of one who is disregardful of such things does not    constitute what the Apostle Paul called \\\"becoming all things to all men so    that by all possible means I might save some.\\\"     Don't say \\\"Forget the environment, I've got important things to spend my time    on.\\\" - putting your foot in your mouth in this manner will destroy your    credibility in expressing the things that _are_ more important.  2: Show that it is not the ultimate entity, that it is creature and not    creator.  Show that its beauty and glory points to a greater beauty and    glory.  Show that it is not the ultimate tapestry, but one of many cords    woven in the infinite tapestry.\",\" The VW \\\"Thing\\\" Kubelwagen lookalike is still manufactured in Mexico and  possibly South America.  Good luck importing one--  They probably don't meet  US safety and pollution requirements.  There are mechanics and junkyards  which specialize in VW; they might be helpful for finding a \\\"Thing\\\" unless  the WWII re-enacters have grabbed them all.  The WWII Kubelwagen was the German equivalent of the Jeep, but was not 4- wheel drive.  One is on display at the Patton Museum at Fort Knox, Kentucky,  also the rare \\\"Schwimwagen\\\" (sp?) amphibious version, in full-scale dioramas. Highly recommended!  --\",\" I had the same problem with my 512 a long time ago.  Resoldering the joints on the motherboard (all of them) fixed it.  Turns out that continuous heating and cooling caused annular (ring-shaped) cracks to develop in the solder, effectively cutting the video circuitry off.  If you're not a solder-jockey you might want to have someone else do it -- I took mine to an electrical engineer buddy -- but it was a 20-minute job, tops.  -Kelley- --  ----------------------------------------------------------------- Thomas Kelley Boylan, PowerPC, IBM Austin, kelleyb@austin.ibm.com\",\"I just installed a DX2-66 CPU in a clone motherboard, and tried mounting a CPU  cooler on the chip.  After about 1/2 hour, the weight of the cooler was enough  to dislodge the CPU from its mount.  It ended up bending a few pins on the CPU, but luckily the power was not on yet.  I ended up pressing the CPU deeply into its socket and then putting the CPU cooler back on.  So far so good.  Have others had this problem?  How do you ensure that the weight of the CPU fan and heatsink do not eventually work the CPU out of its socket when mounting the motherboard in a vertical case? \",\"I have two Motif Widgets. I would like to control one of them via the keyboard and the other with the mouse. I set the keyboard focus on the first widget, but as soon as I click the mouse on the second one, I lose the keyboard focus on the first one.   Could some kind soul show me how to do this?  Thanks\",\"Archive-name: space/astronaut Last-modified: $Date: 93/04/01 14:39:02 $  HOW TO BECOME AN ASTRONAUT      First the short form, authored by Henry Spencer, then an official NASA     announcement.      Q. How do I become an astronaut?      A. We will assume you mean a NASA astronaut, since it's probably     impossible for a non-Russian to get into the cosmonaut corps (paying     passengers are not professional cosmonauts), and the other nations have     so few astronauts (and fly even fewer) that you're better off hoping to     win a lottery. Becoming a shuttle pilot requires lots of fast-jet     experience, which means a military flying career; forget that unless you     want to do it anyway. So you want to become a shuttle \\\"mission     specialist\\\".      If you aren't a US citizen, become one; that is a must.  After that,     the crucial thing to remember is that the demand for such jobs vastly     exceeds the supply.  NASA's problem is not finding qualified people,     but thinning the lineup down to manageable length. It is not enough     to be qualified; you must avoid being *dis*qualified for any reason,     many of them in principle quite irrelevant to the job.      Get a Ph.D.  Specialize in something that involves getting your hands     dirty with equipment, not just paper and pencil.  Forget computer     programming entirely; it will be done from the ground for the fore-     seeable future.  Degree(s) in one field plus work experience in     another seems to be a frequent winner.      Be in good physical condition, with good eyesight. (DO NOT get a     radial keratomy or similar hack to improve your vision; nobody knows     what sudden pressure changes would do to RKed eyes, and long-term     effects are poorly understood.  For that matter, avoid any other     significant medical unknowns.)  If you can pass a jet-pilot physical,     you should be okay; if you can't, your chances are poor.      Practise public speaking, and be conservative and conformist in     appearance and actions; you've got a tough selling job ahead, trying     to convince a cautious, conservative selection committee that you     are better than hundreds of other applicants.  (And, also, that you     will be a credit to NASA after you are hired:  public relations is     a significant part of the job, and NASA's image is very prim and     proper.)  The image you want is squeaky-clean workaholic yuppie.     Remember also that you will need a security clearance at some point,     and Security considers everybody guilty until proven innocent.     Keep your nose clean.      Get a pilot's license and make flying your number one hobby;     experienced pilots are known to be favored even for non-pilot jobs.      Work for NASA; of 45 astronauts selected between 1984 and 1988,     43 were military or NASA employees, and the remaining two were     a NASA consultant and Mae Jemison (the first black female astronaut).     If you apply from outside NASA and miss, but they offer you a job     at NASA, ***TAKE IT***; sometimes in the past this has meant \\\"you     do look interesting but we want to know you a bit better first\\\".      Think space:  they want highly motivated people, so lose no chance     to demonstrate motivation.      Keep trying.  Many astronauts didn't make it the first time.         NASA     National Aeronautics and Space Administration     Lyndon B. Johnson Space Center     Houston, Texas      Announcement for Mission Specialist and Pilot Astronaut Candidates     ==================================================================      Astronaut Candidate Program     ---------------------------      The National Aeronautics and Space Administration (NASA) has a need for     Pilot Astronaut Candidates and Mission Specialist Astronaut Candidates     to support the Space Shuttle Program. NASA is now accepting on a     continuous basis and plans to select astronaut candidates as needed.      Persons from both the civilian sector and the military services will be     considered.      All positions are located at the Lyndon B. Johnson Space Center in     Houston, Texas, and will involved a 1-year training and evaluation     program.      Space Shuttle Program Description     ---------------------------------      The numerous successful flights of the Space Shuttle have demonstrated     that operation and experimental investigations in space are becoming     routine. The Space Shuttle Orbiter is launched into, and maneuvers in     the Earth orbit performing missions lastling up to 30 days. It then     returns to earth and is ready for another flight with payloads and     flight crew.      The Orbiter performs a variety of orbital missions including deployment     and retrieval of satellites, service of existing satellites, operation     of specialized laboratories (astronomy, earth sciences, materials     processing, manufacturing), and other operations. These missions will     eventually include the development and servicing of a permanent space     station. The Orbiter also provides a staging capability for using higher     orbits than can be achieved by the Orbiter itself. Users of the Space     Shuttle's capabilities are both domestic and foreign and include     government agencies and private industries.      The crew normally consists of five people - the commander, the pilot,     and three mission specialists. On occasion additional crew members are     assigned. The commander, pilot, and mission specialists are NASA     astronauts.      Pilot Astronaut      Pilot astronauts server as both Space Shuttle commanders and pilots.     During flight the commander has onboard responsibility for the vehicle,     crew, mission success and safety in flight. The pilot assists the     commander in controlling and operating the vehicle. In addition, the     pilot may assist in the deployment and retrieval of satellites utilizing     the remote manipulator system, in extra-vehicular activities, and other     payload operations.      Mission Specialist Astronaut      Mission specialist astronauts, working with the commander and pilot,     have overall responsibility for the coordination of Shuttle operations     in the areas of crew activity planning, consumables usage, and     experiment and payload operations. Mission specialists are required to     have a detailed knowledge of Shuttle systems, as well as detailed     knowledge of the operational characteristics, mission requirements and     objectives, and supporting systems and equipment for each of the     experiments to be conducted on their assigned missions. Mission     specialists will perform extra-vehicular activities, payload handling     using the remote manipulator system, and perform or assist in specific     experimental operations.      Astronaut Candidate Program     ===========================      Basic Qualification Requirements     --------------------------------      Applicants MUST meet the following minimum requirements prior to     submitting an application.      Mission Specialist Astronaut Candidate:      1. Bachelor's degree from an accredited institution in engineering,     biological science, physical science or mathematics. Degree must be     followed by at least three years of related progressively responsible,     professional experience. An advanced degree is desirable and may be     substituted for part or all of the experience requirement (master's     degree = 1 year, doctoral degree = 3 years). Quality of academic     preparation is important.      2. Ability to pass a NASA class II space physical, which is similar to a     civilian or military class II flight physical and includes the following     specific standards:    Distant visual acuity:        20/150 or better uncorrected,        correctable to 20/20, each eye.    Blood pressure:        140/90 measured in sitting position.      3. Height between 58.5 and 76 inches.      Pilot Astronaut Candidate:      1. Bachelor's degree from an accredited institution in engineering,     biological science, physical science or mathematics. Degree must be     followed by at least three years of related progressively responsible,     professional experience. An advanced degree is desirable. Quality of     academic preparation is important.      2. At least 1000 hours pilot-in-command time in jet aircraft. Flight     test experience highly desirable.      3. Ability to pass a NASA Class I space physical which is similar to a     military or civilian Class I flight physical and includes the following     specific standards:    Distant visual acuity:        20/50 or better uncorrected        correctable to 20/20, each eye.    Blood pressure:        140/90 measured in sitting position.      4. Height between 64 and 76 inches.      Citizenship Requirements      Applications for the Astronaut Candidate Program must be citizens of     the United States.      Note on Academic Requirements      Applicants for the Astronaut Candidate Program must meet the basic     education requirements for NASA engineering and scientific positions --     specifically: successful completion of standard professional curriculum     in an accredited college or university leading to at least a bachelor's     degree with major study in an appropriate field of engineering,     biological science, physical science, or mathematics.        The following degree fields, while related to engineering and the     sciences, are not considered qualifying:       - Degrees in technology (Engineering Technology, Aviation Technology,  Medical Technology, etc.)       - Degrees in Psychology (except for Clinical Psychology, Physiological  Psychology, or Experimental Psychology which are qualifying).       - Degrees in Nursing.       - Degrees in social sciences (Geography, Anthropology, Archaeology, etc.)       - Degrees in Aviation, Aviation Management or similar fields.      Application Procedures     ----------------------      Civilian      The application package may be obtained by writing to:   NASA Johnson Space Center  Astronaut Selection Office  ATTN: AHX  Houston, TX 77058      Civilian applications will be accepted on a continuous basis. When NASA     decides to select additional astronaut candidates, consideration will be     given only to those applications on hand on the date of decision is     made. Applications received after that date will be retained and     considered for the next selection. Applicants will be notified annually     of the opportunity to update their applications and to indicate     continued interest in being considered for the program. Those applicants     who do not update their applications annually will be dropped from     consideration, and their applications will not be retained. After the     preliminary screening of applications, additional information may be     requested for some applicants, and person listed on the application as     supervisors and references may be contacted.      Active Duty Military      Active duty military personnel must submit applications to their     respective military service and not directly to NASA. Application     procedures will be disseminated by each service.      Selection     ---------      Personal interviews and thorough medical evaluations will be required     for both civilian and military applicants under final consideration.     Once final selections have been made, all applicants who were considered     will be notified of the outcome of the process.      Selection rosters established through this process may be used for the     selection of additional candidates during a one year period following     their establishment.      General Program Requirements      Selected applicants will be designated Astronaut Candidates and will be     assigned to the Astronaut Office at the Johnson Space Center, Houston,     Texas. The astronaut candidates will undergo a 1 year training and     evaluation period during which time they will be assigned technical or     scientific responsibilities allowing them to contribute substantially to     ongoing programs. They will also participate in the basic astronaut     training program which is designed to develop the knowledge and skills     required for formal mission training upon selection for a flight. Pilot     astronaut candidates will maintain proficiency in NASA aircraft during     their candidate period.      Applicants should be aware that selection as an astronaut candidate does     not insure selection as an astronaut. Final selection as an astronaut     will depend on satisfactory completion of the 1 year training and     evaluation period. Civilian candidates who successfully complete the     training and evaluation and are selected as astronauts will become     permanent Federal employees and will be expected to remain with NASA for     a period of at least five years. Civilian candidates who are not     selected as astronauts may be placed in other positions within NASA     depending upon Agency requirements and manpower constraints at that     time. Successful military candidates will be detailed to NASA for a     specified tour of duty.      NASA has an affirmative action program goal of having qualified     minorities and women among those qualified as astronaut candidates.     Therefore, qualified minorities and women are encouraged to apply.      Pay and Benefits     ----------------      Civilians      Salaries for civilian astronaut candidates are based on the Federal     Governments General Schedule pay scales for grades GS-11 through GS-14,     and are set in accordance with each individuals academic achievements     and experience.      Other benefits include vacation and sick leave, a retirement plan, and     participation in group health and life insurance plans.      Military      Selected military personnel will be detailed to the Johnson Space Center     but will remain in an active duty status for pay, benefits, leave, and     other similar military matters. \"]],[\"SUBSET\",[\"raw\",\"raw\",\"raw\",\"raw\",\"raw\",\"raw\",\"raw\",\"raw\",\"raw\",\"raw\"]],[\"label\",[\"ABSTAIN\",\"ABSTAIN\",\"ABSTAIN\",\"ABSTAIN\",\"ABSTAIN\",\"ABSTAIN\",\"ABSTAIN\",\"ABSTAIN\",\"ABSTAIN\",\"ABSTAIN\"]]]}}},\"view\":{\"type\":\"object\",\"name\":\"CDSView\",\"id\":\"p1053\",\"attributes\":{\"filter\":{\"type\":\"object\",\"name\":\"AllIndices\",\"id\":\"p1054\"}}},\"columns\":[{\"type\":\"object\",\"name\":\"TableColumn\",\"id\":\"p1043\",\"attributes\":{\"field\":\"text\",\"title\":\"text\",\"formatter\":{\"type\":\"object\",\"name\":\"HTMLTemplateFormatter\",\"id\":\"p1042\",\"attributes\":{\"template\":\"<span href=\\\"#\\\" data-toggle=\\\"tooltip\\\" title=\\\"<%= value %>\\\"><%= value %></span>\"}},\"editor\":{\"type\":\"object\",\"name\":\"CellEditor\",\"id\":\"p1041\"}}},{\"type\":\"object\",\"name\":\"TableColumn\",\"id\":\"p1046\",\"attributes\":{\"field\":\"label\",\"title\":\"label\",\"formatter\":{\"type\":\"object\",\"name\":\"StringFormatter\",\"id\":\"p1047\"},\"editor\":{\"type\":\"object\",\"name\":\"StringEditor\",\"id\":\"p1048\"}}}],\"editable\":true,\"selectable\":\"checkbox\"}}]}};\n",
       "  const render_items = [{\"docid\":\"26cee93b-83de-4d8a-970d-bdbbc41029bb\",\"roots\":{\"p1049\":\"cb06230e-f0bb-4d77-b70e-516a85c1cf94\"},\"root_ids\":[\"p1049\"]}];\n",
       "  root.Bokeh.embed.embed_items_notebook(docs_json, render_items);\n",
       "  }\n",
       "  if (root.Bokeh !== undefined) {\n",
       "    embed_document(root);\n",
       "  } else {\n",
       "    let attempts = 0;\n",
       "    const timer = setInterval(function(root) {\n",
       "      if (root.Bokeh !== undefined) {\n",
       "        clearInterval(timer);\n",
       "        embed_document(root);\n",
       "      } else {\n",
       "        attempts++;\n",
       "        if (attempts > 100) {\n",
       "          clearInterval(timer);\n",
       "          console.log(\"Bokeh: ERROR: Unable to run BokehJS code because BokehJS library is missing\");\n",
       "        }\n",
       "      }\n",
       "    }, 10, root)\n",
       "  }\n",
       "})(window);"
      ],
      "application/vnd.bokehjs_exec.v0+json": ""
     },
     "metadata": {
      "application/vnd.bokehjs_exec.v0+json": {
       "id": "p1049"
      }
     },
     "output_type": "display_data"
    }
   ],
   "source": [
    "dataset._callback_update_selection(dataset.dfs[\"raw\"][:10])\n",
    "\n",
    "show(dataset.sel_table, notebook_url=notebook_url)"
   ]
  },
  {
   "cell_type": "markdown",
   "id": "c0c8b99c",
   "metadata": {},
   "source": [
    "<br>\n",
    "\n",
    "### **Edit Data Within a Selection**\n",
    "\n",
    "Often the points selected are not perfectly homogeneous, i.e. some outliers belong to a different label from the selected group overall. It would be helpful to `EVICT` them, and `SupervisableDataset` has a button for it.\n",
    "\n",
    "Sometimes you may also wish to edit data values on the fly.  In hover this is called `PATCH`, and there also is a button for it.\n",
    "\n",
    "-   by default, labels can be edited but feature values cannot.\n",
    "\n",
    "Let's plot the forementioned buttons along with the selection table. Toggle any number of rows in the table, then click the button to `EVICT` or `PATCH` those rows:"
   ]
  },
  {
   "cell_type": "code",
   "execution_count": 5,
   "id": "0281fbee",
   "metadata": {
    "execution": {
     "iopub.execute_input": "2024-02-13T01:20:58.901521Z",
     "iopub.status.busy": "2024-02-13T01:20:58.901015Z",
     "iopub.status.idle": "2024-02-13T01:20:58.916265Z",
     "shell.execute_reply": "2024-02-13T01:20:58.915651Z"
    }
   },
   "outputs": [
    {
     "name": "stderr",
     "output_type": "stream",
     "text": [
      "WARNING:bokeh.embed.util:\n",
      "You are generating standalone HTML/JS output, but trying to use real Python\n",
      "callbacks (i.e. with on_change or on_event). This combination cannot work.\n",
      "\n",
      "Only JavaScript callbacks may be used with standalone output. For more\n",
      "information on JavaScript callbacks with Bokeh, see:\n",
      "\n",
      "    https://docs.bokeh.org/en/latest/docs/user_guide/interaction/callbacks.html\n",
      "\n",
      "Alternatively, to use real Python callbacks, a Bokeh server application may\n",
      "be used. For more information on building and running Bokeh applications, see:\n",
      "\n",
      "    https://docs.bokeh.org/en/latest/docs/user_guide/server.html\n",
      "\n"
     ]
    },
    {
     "data": {
      "text/html": [
       "\n",
       "  <div id=\"c359c558-fe21-4240-8326-e8b84324af06\" data-root-id=\"p1058\" style=\"display: contents;\"></div>\n"
      ]
     },
     "metadata": {},
     "output_type": "display_data"
    },
    {
     "data": {
      "application/javascript": [
       "(function(root) {\n",
       "  function embed_document(root) {\n",
       "  const docs_json = {\"721f5efd-dd72-4b2c-a2fe-52ba7c6bae04\":{\"version\":\"3.3.4\",\"title\":\"Bokeh Application\",\"roots\":[{\"type\":\"object\",\"name\":\"Column\",\"id\":\"p1058\",\"attributes\":{\"children\":[{\"type\":\"object\",\"name\":\"Row\",\"id\":\"p1057\",\"attributes\":{\"children\":[{\"type\":\"object\",\"name\":\"Button\",\"id\":\"p1006\",\"attributes\":{\"button_type\":\"primary\",\"label\":\"Evict Rows from Selection\"}},{\"type\":\"object\",\"name\":\"Button\",\"id\":\"p1005\",\"attributes\":{\"button_type\":\"warning\",\"subscribed_events\":{\"type\":\"set\",\"entries\":[\"button_click\"]},\"label\":\"Update Row Values\"}}]}},{\"type\":\"object\",\"name\":\"DataTable\",\"id\":\"p1049\",\"attributes\":{\"source\":{\"type\":\"object\",\"name\":\"ColumnDataSource\",\"id\":\"p1038\",\"attributes\":{\"selected\":{\"type\":\"object\",\"name\":\"Selection\",\"id\":\"p1039\",\"attributes\":{\"indices\":[],\"line_indices\":[]}},\"selection_policy\":{\"type\":\"object\",\"name\":\"UnionRenderers\",\"id\":\"p1040\"},\"data\":{\"type\":\"map\",\"entries\":[[\"text\",[\"  If not for the lack of extraneously capitalized words, I'd swear that McElwaine had changed his name and moved to Cal Poly.  I also find the choice of newsgroups 'interesting'.  Perhaps someone should tell this guy that 'sci.astro' doesn't stand for 'astrology'?  It's truly frightening that posts like this are originating at what are ostensibly centers of higher learning in this country.  Small wonder that the rest of the world thinks we're all nuts and that we have the problems that we do.  [In case you haven't gotten it yet, David, I don't think this was quite appropriate for a posting to 'sci' groups.]  --  \\\"Insisting on perfect safety is for people who don't have the balls to live  in the real world.\\\"   -- Mary Shafer, NASA Ames Dryden\",\" No, there is something called the \\\"Delany Amendment\\\" which makes carcinogenic food additives illegal in any amount.  This was passed by Congress in the 1950's, before stuff like mass spectrometry became available, which increased detectable levels of substances by a couple orders of magnitude.  This is why things like cyclamates and Red #2 were banned.  They are very weakly carcinogenic in huge quantities in rats, so under the Act they are banned.  This also applies to natural carcinogens.  Some of you might remember a time back in the 1960's when root beer suddenly stopped tasting so good, and never tasted so good again.  That was the time when safrole was banned. This is the active flavoring ingredient in sassafras leaves.  If it were possible to market a root beer good like the old days, someone would do it, in order to make money.  The fact that no one does it indicates that enforcement is still in effect.\",\"  Could you expand on this? I have a feeling you're right, but I don't quite understand.\",\" That's a very weak argument--due the lack (with regard to critical events) of independent supporting texts.  As for the dating of the oldest extant texts of the NT....  How would you feel about the US Civil War in a couple of thousand years if the only extant text was written about *now*?  Now adjust for a largely illiterate population, and one in which every copy of a manuscript is done by hand....   --Hal \",\" Yes.  (I am adamantly an environmentalist.  I will not use styrofoam table service. Please keep that in mind as you read this post - I do not wish to attack environmentalism)  A half truth is at least as dangerous as a complete lie.  A complete lie will rarely be readily accepted, while a half truth (the lie subtly hidden) is more powerfully offered by one who masquerades as an angel of light.  Satan has (for some people) loosened the grip on treating the earth as something other than God's intricate handiwork, something other than that on which the health of future generations is based.  It is being treated with respect.  You think he's going to happily leave it at that?  No.  When one error is rejected, it is his style to push people to the opposite error.  Therefore the earth is not God's intricate handiwork, not because it is rubbish, but because it is God.  Mother earth is the one you are to primarily love and serve.  I see two facets of a response to it:  1: Care for the environment.  Treat it with proper respect, both because it is    God's intricate handiwork and the health of future generation, and because    showing the facet of one who is disregardful of such things does not    constitute what the Apostle Paul called \\\"becoming all things to all men so    that by all possible means I might save some.\\\"     Don't say \\\"Forget the environment, I've got important things to spend my time    on.\\\" - putting your foot in your mouth in this manner will destroy your    credibility in expressing the things that _are_ more important.  2: Show that it is not the ultimate entity, that it is creature and not    creator.  Show that its beauty and glory points to a greater beauty and    glory.  Show that it is not the ultimate tapestry, but one of many cords    woven in the infinite tapestry.\",\" The VW \\\"Thing\\\" Kubelwagen lookalike is still manufactured in Mexico and  possibly South America.  Good luck importing one--  They probably don't meet  US safety and pollution requirements.  There are mechanics and junkyards  which specialize in VW; they might be helpful for finding a \\\"Thing\\\" unless  the WWII re-enacters have grabbed them all.  The WWII Kubelwagen was the German equivalent of the Jeep, but was not 4- wheel drive.  One is on display at the Patton Museum at Fort Knox, Kentucky,  also the rare \\\"Schwimwagen\\\" (sp?) amphibious version, in full-scale dioramas. Highly recommended!  --\",\" I had the same problem with my 512 a long time ago.  Resoldering the joints on the motherboard (all of them) fixed it.  Turns out that continuous heating and cooling caused annular (ring-shaped) cracks to develop in the solder, effectively cutting the video circuitry off.  If you're not a solder-jockey you might want to have someone else do it -- I took mine to an electrical engineer buddy -- but it was a 20-minute job, tops.  -Kelley- --  ----------------------------------------------------------------- Thomas Kelley Boylan, PowerPC, IBM Austin, kelleyb@austin.ibm.com\",\"I just installed a DX2-66 CPU in a clone motherboard, and tried mounting a CPU  cooler on the chip.  After about 1/2 hour, the weight of the cooler was enough  to dislodge the CPU from its mount.  It ended up bending a few pins on the CPU, but luckily the power was not on yet.  I ended up pressing the CPU deeply into its socket and then putting the CPU cooler back on.  So far so good.  Have others had this problem?  How do you ensure that the weight of the CPU fan and heatsink do not eventually work the CPU out of its socket when mounting the motherboard in a vertical case? \",\"I have two Motif Widgets. I would like to control one of them via the keyboard and the other with the mouse. I set the keyboard focus on the first widget, but as soon as I click the mouse on the second one, I lose the keyboard focus on the first one.   Could some kind soul show me how to do this?  Thanks\",\"Archive-name: space/astronaut Last-modified: $Date: 93/04/01 14:39:02 $  HOW TO BECOME AN ASTRONAUT      First the short form, authored by Henry Spencer, then an official NASA     announcement.      Q. How do I become an astronaut?      A. We will assume you mean a NASA astronaut, since it's probably     impossible for a non-Russian to get into the cosmonaut corps (paying     passengers are not professional cosmonauts), and the other nations have     so few astronauts (and fly even fewer) that you're better off hoping to     win a lottery. Becoming a shuttle pilot requires lots of fast-jet     experience, which means a military flying career; forget that unless you     want to do it anyway. So you want to become a shuttle \\\"mission     specialist\\\".      If you aren't a US citizen, become one; that is a must.  After that,     the crucial thing to remember is that the demand for such jobs vastly     exceeds the supply.  NASA's problem is not finding qualified people,     but thinning the lineup down to manageable length. It is not enough     to be qualified; you must avoid being *dis*qualified for any reason,     many of them in principle quite irrelevant to the job.      Get a Ph.D.  Specialize in something that involves getting your hands     dirty with equipment, not just paper and pencil.  Forget computer     programming entirely; it will be done from the ground for the fore-     seeable future.  Degree(s) in one field plus work experience in     another seems to be a frequent winner.      Be in good physical condition, with good eyesight. (DO NOT get a     radial keratomy or similar hack to improve your vision; nobody knows     what sudden pressure changes would do to RKed eyes, and long-term     effects are poorly understood.  For that matter, avoid any other     significant medical unknowns.)  If you can pass a jet-pilot physical,     you should be okay; if you can't, your chances are poor.      Practise public speaking, and be conservative and conformist in     appearance and actions; you've got a tough selling job ahead, trying     to convince a cautious, conservative selection committee that you     are better than hundreds of other applicants.  (And, also, that you     will be a credit to NASA after you are hired:  public relations is     a significant part of the job, and NASA's image is very prim and     proper.)  The image you want is squeaky-clean workaholic yuppie.     Remember also that you will need a security clearance at some point,     and Security considers everybody guilty until proven innocent.     Keep your nose clean.      Get a pilot's license and make flying your number one hobby;     experienced pilots are known to be favored even for non-pilot jobs.      Work for NASA; of 45 astronauts selected between 1984 and 1988,     43 were military or NASA employees, and the remaining two were     a NASA consultant and Mae Jemison (the first black female astronaut).     If you apply from outside NASA and miss, but they offer you a job     at NASA, ***TAKE IT***; sometimes in the past this has meant \\\"you     do look interesting but we want to know you a bit better first\\\".      Think space:  they want highly motivated people, so lose no chance     to demonstrate motivation.      Keep trying.  Many astronauts didn't make it the first time.         NASA     National Aeronautics and Space Administration     Lyndon B. Johnson Space Center     Houston, Texas      Announcement for Mission Specialist and Pilot Astronaut Candidates     ==================================================================      Astronaut Candidate Program     ---------------------------      The National Aeronautics and Space Administration (NASA) has a need for     Pilot Astronaut Candidates and Mission Specialist Astronaut Candidates     to support the Space Shuttle Program. NASA is now accepting on a     continuous basis and plans to select astronaut candidates as needed.      Persons from both the civilian sector and the military services will be     considered.      All positions are located at the Lyndon B. Johnson Space Center in     Houston, Texas, and will involved a 1-year training and evaluation     program.      Space Shuttle Program Description     ---------------------------------      The numerous successful flights of the Space Shuttle have demonstrated     that operation and experimental investigations in space are becoming     routine. The Space Shuttle Orbiter is launched into, and maneuvers in     the Earth orbit performing missions lastling up to 30 days. It then     returns to earth and is ready for another flight with payloads and     flight crew.      The Orbiter performs a variety of orbital missions including deployment     and retrieval of satellites, service of existing satellites, operation     of specialized laboratories (astronomy, earth sciences, materials     processing, manufacturing), and other operations. These missions will     eventually include the development and servicing of a permanent space     station. The Orbiter also provides a staging capability for using higher     orbits than can be achieved by the Orbiter itself. Users of the Space     Shuttle's capabilities are both domestic and foreign and include     government agencies and private industries.      The crew normally consists of five people - the commander, the pilot,     and three mission specialists. On occasion additional crew members are     assigned. The commander, pilot, and mission specialists are NASA     astronauts.      Pilot Astronaut      Pilot astronauts server as both Space Shuttle commanders and pilots.     During flight the commander has onboard responsibility for the vehicle,     crew, mission success and safety in flight. The pilot assists the     commander in controlling and operating the vehicle. In addition, the     pilot may assist in the deployment and retrieval of satellites utilizing     the remote manipulator system, in extra-vehicular activities, and other     payload operations.      Mission Specialist Astronaut      Mission specialist astronauts, working with the commander and pilot,     have overall responsibility for the coordination of Shuttle operations     in the areas of crew activity planning, consumables usage, and     experiment and payload operations. Mission specialists are required to     have a detailed knowledge of Shuttle systems, as well as detailed     knowledge of the operational characteristics, mission requirements and     objectives, and supporting systems and equipment for each of the     experiments to be conducted on their assigned missions. Mission     specialists will perform extra-vehicular activities, payload handling     using the remote manipulator system, and perform or assist in specific     experimental operations.      Astronaut Candidate Program     ===========================      Basic Qualification Requirements     --------------------------------      Applicants MUST meet the following minimum requirements prior to     submitting an application.      Mission Specialist Astronaut Candidate:      1. Bachelor's degree from an accredited institution in engineering,     biological science, physical science or mathematics. Degree must be     followed by at least three years of related progressively responsible,     professional experience. An advanced degree is desirable and may be     substituted for part or all of the experience requirement (master's     degree = 1 year, doctoral degree = 3 years). Quality of academic     preparation is important.      2. Ability to pass a NASA class II space physical, which is similar to a     civilian or military class II flight physical and includes the following     specific standards:    Distant visual acuity:        20/150 or better uncorrected,        correctable to 20/20, each eye.    Blood pressure:        140/90 measured in sitting position.      3. Height between 58.5 and 76 inches.      Pilot Astronaut Candidate:      1. Bachelor's degree from an accredited institution in engineering,     biological science, physical science or mathematics. Degree must be     followed by at least three years of related progressively responsible,     professional experience. An advanced degree is desirable. Quality of     academic preparation is important.      2. At least 1000 hours pilot-in-command time in jet aircraft. Flight     test experience highly desirable.      3. Ability to pass a NASA Class I space physical which is similar to a     military or civilian Class I flight physical and includes the following     specific standards:    Distant visual acuity:        20/50 or better uncorrected        correctable to 20/20, each eye.    Blood pressure:        140/90 measured in sitting position.      4. Height between 64 and 76 inches.      Citizenship Requirements      Applications for the Astronaut Candidate Program must be citizens of     the United States.      Note on Academic Requirements      Applicants for the Astronaut Candidate Program must meet the basic     education requirements for NASA engineering and scientific positions --     specifically: successful completion of standard professional curriculum     in an accredited college or university leading to at least a bachelor's     degree with major study in an appropriate field of engineering,     biological science, physical science, or mathematics.        The following degree fields, while related to engineering and the     sciences, are not considered qualifying:       - Degrees in technology (Engineering Technology, Aviation Technology,  Medical Technology, etc.)       - Degrees in Psychology (except for Clinical Psychology, Physiological  Psychology, or Experimental Psychology which are qualifying).       - Degrees in Nursing.       - Degrees in social sciences (Geography, Anthropology, Archaeology, etc.)       - Degrees in Aviation, Aviation Management or similar fields.      Application Procedures     ----------------------      Civilian      The application package may be obtained by writing to:   NASA Johnson Space Center  Astronaut Selection Office  ATTN: AHX  Houston, TX 77058      Civilian applications will be accepted on a continuous basis. When NASA     decides to select additional astronaut candidates, consideration will be     given only to those applications on hand on the date of decision is     made. Applications received after that date will be retained and     considered for the next selection. Applicants will be notified annually     of the opportunity to update their applications and to indicate     continued interest in being considered for the program. Those applicants     who do not update their applications annually will be dropped from     consideration, and their applications will not be retained. After the     preliminary screening of applications, additional information may be     requested for some applicants, and person listed on the application as     supervisors and references may be contacted.      Active Duty Military      Active duty military personnel must submit applications to their     respective military service and not directly to NASA. Application     procedures will be disseminated by each service.      Selection     ---------      Personal interviews and thorough medical evaluations will be required     for both civilian and military applicants under final consideration.     Once final selections have been made, all applicants who were considered     will be notified of the outcome of the process.      Selection rosters established through this process may be used for the     selection of additional candidates during a one year period following     their establishment.      General Program Requirements      Selected applicants will be designated Astronaut Candidates and will be     assigned to the Astronaut Office at the Johnson Space Center, Houston,     Texas. The astronaut candidates will undergo a 1 year training and     evaluation period during which time they will be assigned technical or     scientific responsibilities allowing them to contribute substantially to     ongoing programs. They will also participate in the basic astronaut     training program which is designed to develop the knowledge and skills     required for formal mission training upon selection for a flight. Pilot     astronaut candidates will maintain proficiency in NASA aircraft during     their candidate period.      Applicants should be aware that selection as an astronaut candidate does     not insure selection as an astronaut. Final selection as an astronaut     will depend on satisfactory completion of the 1 year training and     evaluation period. Civilian candidates who successfully complete the     training and evaluation and are selected as astronauts will become     permanent Federal employees and will be expected to remain with NASA for     a period of at least five years. Civilian candidates who are not     selected as astronauts may be placed in other positions within NASA     depending upon Agency requirements and manpower constraints at that     time. Successful military candidates will be detailed to NASA for a     specified tour of duty.      NASA has an affirmative action program goal of having qualified     minorities and women among those qualified as astronaut candidates.     Therefore, qualified minorities and women are encouraged to apply.      Pay and Benefits     ----------------      Civilians      Salaries for civilian astronaut candidates are based on the Federal     Governments General Schedule pay scales for grades GS-11 through GS-14,     and are set in accordance with each individuals academic achievements     and experience.      Other benefits include vacation and sick leave, a retirement plan, and     participation in group health and life insurance plans.      Military      Selected military personnel will be detailed to the Johnson Space Center     but will remain in an active duty status for pay, benefits, leave, and     other similar military matters. \"]],[\"SUBSET\",[\"raw\",\"raw\",\"raw\",\"raw\",\"raw\",\"raw\",\"raw\",\"raw\",\"raw\",\"raw\"]],[\"label\",[\"ABSTAIN\",\"ABSTAIN\",\"ABSTAIN\",\"ABSTAIN\",\"ABSTAIN\",\"ABSTAIN\",\"ABSTAIN\",\"ABSTAIN\",\"ABSTAIN\",\"ABSTAIN\"]]]}}},\"view\":{\"type\":\"object\",\"name\":\"CDSView\",\"id\":\"p1053\",\"attributes\":{\"filter\":{\"type\":\"object\",\"name\":\"AllIndices\",\"id\":\"p1054\"}}},\"columns\":[{\"type\":\"object\",\"name\":\"TableColumn\",\"id\":\"p1043\",\"attributes\":{\"field\":\"text\",\"title\":\"text\",\"formatter\":{\"type\":\"object\",\"name\":\"HTMLTemplateFormatter\",\"id\":\"p1042\",\"attributes\":{\"template\":\"<span href=\\\"#\\\" data-toggle=\\\"tooltip\\\" title=\\\"<%= value %>\\\"><%= value %></span>\"}},\"editor\":{\"type\":\"object\",\"name\":\"CellEditor\",\"id\":\"p1041\"}}},{\"type\":\"object\",\"name\":\"TableColumn\",\"id\":\"p1046\",\"attributes\":{\"field\":\"label\",\"title\":\"label\",\"formatter\":{\"type\":\"object\",\"name\":\"StringFormatter\",\"id\":\"p1047\"},\"editor\":{\"type\":\"object\",\"name\":\"StringEditor\",\"id\":\"p1048\"}}}],\"editable\":true,\"selectable\":\"checkbox\"}}]}}]}};\n",
       "  const render_items = [{\"docid\":\"721f5efd-dd72-4b2c-a2fe-52ba7c6bae04\",\"roots\":{\"p1058\":\"c359c558-fe21-4240-8326-e8b84324af06\"},\"root_ids\":[\"p1058\"]}];\n",
       "  root.Bokeh.embed.embed_items_notebook(docs_json, render_items);\n",
       "  }\n",
       "  if (root.Bokeh !== undefined) {\n",
       "    embed_document(root);\n",
       "  } else {\n",
       "    let attempts = 0;\n",
       "    const timer = setInterval(function(root) {\n",
       "      if (root.Bokeh !== undefined) {\n",
       "        clearInterval(timer);\n",
       "        embed_document(root);\n",
       "      } else {\n",
       "        attempts++;\n",
       "        if (attempts > 100) {\n",
       "          clearInterval(timer);\n",
       "          console.log(\"Bokeh: ERROR: Unable to run BokehJS code because BokehJS library is missing\");\n",
       "        }\n",
       "      }\n",
       "    }, 10, root)\n",
       "  }\n",
       "})(window);"
      ],
      "application/vnd.bokehjs_exec.v0+json": ""
     },
     "metadata": {
      "application/vnd.bokehjs_exec.v0+json": {
       "id": "p1058"
      }
     },
     "output_type": "display_data"
    }
   ],
   "source": [
    "show(column(\n",
    "    row(\n",
    "        dataset.selection_evictor,\n",
    "        dataset.selection_patcher,\n",
    "    ),\n",
    "    dataset.sel_table,\n",
    "), notebook_url=notebook_url)"
   ]
  },
  {
   "cell_type": "markdown",
   "id": "a0ecc135",
   "metadata": {},
   "source": [
    "<br>"
   ]
  }
 ],
 "metadata": {
  "language_info": {
   "codemirror_mode": {
    "name": "ipython",
    "version": 3
   },
   "file_extension": ".py",
   "mimetype": "text/x-python",
   "name": "python",
   "nbconvert_exporter": "python",
   "pygments_lexer": "ipython3",
   "version": "3.9.18"
  }
 },
 "nbformat": 4,
 "nbformat_minor": 5
}
