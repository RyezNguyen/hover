{
 "cells": [
  {
   "cell_type": "markdown",
   "id": "7677a51a",
   "metadata": {},
   "source": [
    "> `SupervisableDataset` holds your data throughout the labeling process.\n",
    ">\n",
    "> :speedboat: Let's take a look at its core mechanisms.\n",
    "\n",
    "-   <details open><summary>This page addresses **single components** of `hover`</summary>\n",
    "    For illustration, we are using code snippets to pick out specific widgets so that the documentation can explain what they do.\n",
    "\n",
    "    -   Please be aware that you won't need to get the widgets by code in an actual use case.\n",
    "    -   Typical usage deals with [recipes](../../tutorial/t1-active-learning) where the individual parts have been tied together.\n",
    "\n",
    "</details>\n",
    "\n",
    "-   <details open><summary>Dependencies for {== local environments ==}</summary>\n",
    "    When you run the code locally, you may need to install additional packages.\n",
    "\n",
    "    To render `bokeh` plots in Jupyter, you need:\n",
    "```shell\n",
    "    pip install jupyter_bokeh\n",
    "```\n",
    "\n",
    "    If you are using JupyterLab older than 3.0, use this instead ([reference](https://pypi.org/project/jupyter-bokeh/)):\n",
    "```shell\n",
    "    jupyter labextension install @jupyter-widgets/jupyterlab-manager\n",
    "    jupyter labextension install @bokeh/jupyter_bokeh\n",
    "```\n",
    "\n",
    "</details>\n",
    "\n",
    "## **Data Subsets**\n",
    "\n",
    "We place unlabeled data and labeled data in different subsets: \"raw\", \"train\", \"dev\", and \"test\". Unlabeled data start from the \"raw\" subset, and can be transferred to other subsets after it gets labeled.\n",
    "\n",
    "`SupervisableDataset` uses a \"population table\", `dataset.pop_table`, to show the size of each subset:"
   ]
  },
  {
   "cell_type": "code",
   "execution_count": 1,
   "id": "ac38486e",
   "metadata": {
    "execution": {
     "iopub.execute_input": "2023-10-17T01:22:50.461192Z",
     "iopub.status.busy": "2023-10-17T01:22:50.460668Z",
     "iopub.status.idle": "2023-10-17T01:22:52.105745Z",
     "shell.execute_reply": "2023-10-17T01:22:52.105019Z"
    }
   },
   "outputs": [
    {
     "data": {
      "text/html": [
       "<pre style=\"white-space:pre;overflow-x:auto;line-height:normal;font-family:Menlo,'DejaVu Sans Mono',consolas,'Courier New',monospace\"><span style=\"color: #000080; text-decoration-color: #000080\">🔵 SupervisableTextDataset: Initializing</span><span style=\"color: #808000; text-decoration-color: #808000\">...</span>\n",
       "</pre>\n"
      ],
      "text/plain": [
       "\u001b[34m🔵 SupervisableTextDataset: Initializing\u001b[0m\u001b[33m...\u001b[0m\n"
      ]
     },
     "metadata": {},
     "output_type": "display_data"
    },
    {
     "data": {
      "text/html": [
       "<pre style=\"white-space:pre;overflow-x:auto;line-height:normal;font-family:Menlo,'DejaVu Sans Mono',consolas,'Courier New',monospace\"><span style=\"color: #000080; text-decoration-color: #000080\">🔵 SupervisableTextDataset: Deduplicating</span><span style=\"color: #808000; text-decoration-color: #808000\">...</span>\n",
       "</pre>\n"
      ],
      "text/plain": [
       "\u001b[34m🔵 SupervisableTextDataset: Deduplicating\u001b[0m\u001b[33m...\u001b[0m\n"
      ]
     },
     "metadata": {},
     "output_type": "display_data"
    },
    {
     "data": {
      "text/html": [
       "<pre style=\"white-space:pre;overflow-x:auto;line-height:normal;font-family:Menlo,'DejaVu Sans Mono',consolas,'Courier New',monospace\"><span style=\"color: #000080; text-decoration-color: #000080\">🔵 SupervisableTextDataset: --subset raw rows: </span><span style=\"color: #008080; text-decoration-color: #008080; font-weight: bold\">400</span><span style=\"color: #000080; text-decoration-color: #000080\"> -&gt; </span><span style=\"color: #008080; text-decoration-color: #008080; font-weight: bold\">372</span><span style=\"color: #000080; text-decoration-color: #000080\">.</span>\n",
       "</pre>\n"
      ],
      "text/plain": [
       "\u001b[34m🔵 SupervisableTextDataset: --subset raw rows: \u001b[0m\u001b[1;36m400\u001b[0m\u001b[34m -> \u001b[0m\u001b[1;36m372\u001b[0m\u001b[34m.\u001b[0m\n"
      ]
     },
     "metadata": {},
     "output_type": "display_data"
    },
    {
     "data": {
      "text/html": [
       "<pre style=\"white-space:pre;overflow-x:auto;line-height:normal;font-family:Menlo,'DejaVu Sans Mono',consolas,'Courier New',monospace\"><span style=\"color: #000080; text-decoration-color: #000080\">🔵 SupervisableTextDataset: --subset train rows: </span><span style=\"color: #008080; text-decoration-color: #008080; font-weight: bold\">400</span><span style=\"color: #000080; text-decoration-color: #000080\"> -&gt; </span><span style=\"color: #008080; text-decoration-color: #008080; font-weight: bold\">376</span><span style=\"color: #000080; text-decoration-color: #000080\">.</span>\n",
       "</pre>\n"
      ],
      "text/plain": [
       "\u001b[34m🔵 SupervisableTextDataset: --subset train rows: \u001b[0m\u001b[1;36m400\u001b[0m\u001b[34m -> \u001b[0m\u001b[1;36m376\u001b[0m\u001b[34m.\u001b[0m\n"
      ]
     },
     "metadata": {},
     "output_type": "display_data"
    },
    {
     "data": {
      "text/html": [
       "<pre style=\"white-space:pre;overflow-x:auto;line-height:normal;font-family:Menlo,'DejaVu Sans Mono',consolas,'Courier New',monospace\"><span style=\"color: #000080; text-decoration-color: #000080\">🔵 SupervisableTextDataset: --subset dev rows: </span><span style=\"color: #008080; text-decoration-color: #008080; font-weight: bold\">100</span><span style=\"color: #000080; text-decoration-color: #000080\"> -&gt; </span><span style=\"color: #008080; text-decoration-color: #008080; font-weight: bold\">99</span><span style=\"color: #000080; text-decoration-color: #000080\">.</span>\n",
       "</pre>\n"
      ],
      "text/plain": [
       "\u001b[34m🔵 SupervisableTextDataset: --subset dev rows: \u001b[0m\u001b[1;36m100\u001b[0m\u001b[34m -> \u001b[0m\u001b[1;36m99\u001b[0m\u001b[34m.\u001b[0m\n"
      ]
     },
     "metadata": {},
     "output_type": "display_data"
    },
    {
     "data": {
      "text/html": [
       "<pre style=\"white-space:pre;overflow-x:auto;line-height:normal;font-family:Menlo,'DejaVu Sans Mono',consolas,'Courier New',monospace\"><span style=\"color: #000080; text-decoration-color: #000080\">🔵 SupervisableTextDataset: --subset test rows: </span><span style=\"color: #008080; text-decoration-color: #008080; font-weight: bold\">100</span><span style=\"color: #000080; text-decoration-color: #000080\"> -&gt; </span><span style=\"color: #008080; text-decoration-color: #008080; font-weight: bold\">100</span><span style=\"color: #000080; text-decoration-color: #000080\">.</span>\n",
       "</pre>\n"
      ],
      "text/plain": [
       "\u001b[34m🔵 SupervisableTextDataset: --subset test rows: \u001b[0m\u001b[1;36m100\u001b[0m\u001b[34m -> \u001b[0m\u001b[1;36m100\u001b[0m\u001b[34m.\u001b[0m\n"
      ]
     },
     "metadata": {},
     "output_type": "display_data"
    },
    {
     "data": {
      "text/html": [
       "<pre style=\"white-space:pre;overflow-x:auto;line-height:normal;font-family:Menlo,'DejaVu Sans Mono',consolas,'Courier New',monospace\"><span style=\"color: #008000; text-decoration-color: #008000\">🟢 SupervisableTextDataset: Set up label encoder/decoder with </span><span style=\"color: #008080; text-decoration-color: #008080; font-weight: bold\">20</span><span style=\"color: #008000; text-decoration-color: #008000\"> classes.</span>\n",
       "</pre>\n"
      ],
      "text/plain": [
       "\u001b[32m🟢 SupervisableTextDataset: Set up label encoder/decoder with \u001b[0m\u001b[1;36m20\u001b[0m\u001b[32m classes.\u001b[0m\n"
      ]
     },
     "metadata": {},
     "output_type": "display_data"
    },
    {
     "data": {
      "text/html": [
       "<pre style=\"white-space:pre;overflow-x:auto;line-height:normal;font-family:Menlo,'DejaVu Sans Mono',consolas,'Courier New',monospace\"><span style=\"color: #008000; text-decoration-color: #008000\">🟢 SupervisableTextDataset: Population updater: latest population with </span><span style=\"color: #008080; text-decoration-color: #008080; font-weight: bold\">20</span><span style=\"color: #008000; text-decoration-color: #008000\"> classes.</span>\n",
       "</pre>\n"
      ],
      "text/plain": [
       "\u001b[32m🟢 SupervisableTextDataset: Population updater: latest population with \u001b[0m\u001b[1;36m20\u001b[0m\u001b[32m classes.\u001b[0m\n"
      ]
     },
     "metadata": {},
     "output_type": "display_data"
    },
    {
     "data": {
      "text/html": [
       "<pre style=\"white-space:pre;overflow-x:auto;line-height:normal;font-family:Menlo,'DejaVu Sans Mono',consolas,'Courier New',monospace\"><span style=\"color: #000080; text-decoration-color: #000080\">🔵 SupervisableTextDataset: finished setting up bokeh elements.</span>\n",
       "</pre>\n"
      ],
      "text/plain": [
       "\u001b[34m🔵 SupervisableTextDataset: finished setting up bokeh elements.\u001b[0m\n"
      ]
     },
     "metadata": {},
     "output_type": "display_data"
    },
    {
     "data": {
      "text/html": [
       "<pre style=\"white-space:pre;overflow-x:auto;line-height:normal;font-family:Menlo,'DejaVu Sans Mono',consolas,'Courier New',monospace\"><span style=\"color: #008000; text-decoration-color: #008000\">🟢 SupervisableTextDataset: finished initialization.</span>\n",
       "</pre>\n"
      ],
      "text/plain": [
       "\u001b[32m🟢 SupervisableTextDataset: finished initialization.\u001b[0m\n"
      ]
     },
     "metadata": {},
     "output_type": "display_data"
    }
   ],
   "source": [
    "from hover.core.dataset import SupervisableTextDataset\n",
    "import pandas as pd\n",
    "\n",
    "raw_csv_path = \"https://raw.githubusercontent.com/phurwicz/hover-gallery/main/0.5.0/20_newsgroups_raw.csv\"\n",
    "train_csv_path = \"https://raw.githubusercontent.com/phurwicz/hover-gallery/main/0.5.0/20_newsgroups_train.csv\"\n",
    "\n",
    "# for fast, low-memory demonstration purpose, sample the data\n",
    "df_raw = pd.read_csv(raw_csv_path).sample(400)\n",
    "df_raw[\"SUBSET\"] = \"raw\"\n",
    "df_train = pd.read_csv(train_csv_path).sample(400)\n",
    "df_train[\"SUBSET\"] = \"train\"\n",
    "df_dev = pd.read_csv(train_csv_path).sample(100)\n",
    "df_dev[\"SUBSET\"] = \"dev\"\n",
    "df_test = pd.read_csv(train_csv_path).sample(100)\n",
    "df_test[\"SUBSET\"] = \"test\"\n",
    "\n",
    "# build overall dataframe and ensure feature type\n",
    "df = pd.concat([df_raw, df_train, df_dev, df_test])\n",
    "df[\"text\"] = df[\"text\"].astype(str)\n",
    "\n",
    "# this class stores the dataset throught the labeling process\n",
    "dataset = SupervisableTextDataset.from_pandas(df, feature_key=\"text\", label_key=\"label\")"
   ]
  },
  {
   "cell_type": "markdown",
   "id": "4b38ab76",
   "metadata": {},
   "source": [
    "<br>"
   ]
  },
  {
   "cell_type": "code",
   "execution_count": 2,
   "id": "bc44cc2c",
   "metadata": {
    "execution": {
     "iopub.execute_input": "2023-10-17T01:22:52.109228Z",
     "iopub.status.busy": "2023-10-17T01:22:52.108549Z",
     "iopub.status.idle": "2023-10-17T01:22:52.177491Z",
     "shell.execute_reply": "2023-10-17T01:22:52.176804Z"
    }
   },
   "outputs": [
    {
     "data": {
      "text/html": [
       "<style>\n",
       "        .bk-notebook-logo {\n",
       "            display: block;\n",
       "            width: 20px;\n",
       "            height: 20px;\n",
       "            background-image: url(data:image/png;base64,iVBORw0KGgoAAAANSUhEUgAAABQAAAAUCAYAAACNiR0NAAAABHNCSVQICAgIfAhkiAAAAAlwSFlzAAALEgAACxIB0t1+/AAAABx0RVh0U29mdHdhcmUAQWRvYmUgRmlyZXdvcmtzIENTNui8sowAAAOkSURBVDiNjZRtaJVlGMd/1/08zzln5zjP1LWcU9N0NkN8m2CYjpgQYQXqSs0I84OLIC0hkEKoPtiH3gmKoiJDU7QpLgoLjLIQCpEsNJ1vqUOdO7ppbuec5+V+rj4ctwzd8IIbbi6u+8f1539dt3A78eXC7QizUF7gyV1fD1Yqg4JWz84yffhm0qkFqBogB9rM8tZdtwVsPUhWhGcFJngGeWrPzHm5oaMmkfEg1usvLFyc8jLRqDOMru7AyC8saQr7GG7f5fvDeH7Ej8CM66nIF+8yngt6HWaKh7k49Soy9nXurCi1o3qUbS3zWfrYeQDTB/Qj6kX6Ybhw4B+bOYoLKCC9H3Nu/leUTZ1JdRWkkn2ldcCamzrcf47KKXdAJllSlxAOkRgyHsGC/zRday5Qld9DyoM4/q/rUoy/CXh3jzOu3bHUVZeU+DEn8FInkPBFlu3+nW3Nw0mk6vCDiWg8CeJaxEwuHS3+z5RgY+YBR6V1Z1nxSOfoaPa4LASWxxdNp+VWTk7+4vzaou8v8PN+xo+KY2xsw6une2frhw05CTYOmQvsEhjhWjn0bmXPjpE1+kplmmkP3suftwTubK9Vq22qKmrBhpY4jvd5afdRA3wGjFAgcnTK2s4hY0/GPNIb0nErGMCRxWOOX64Z8RAC4oCXdklmEvcL8o0BfkNK4lUg9HTl+oPlQxdNo3Mg4Nv175e/1LDGzZen30MEjRUtmXSfiTVu1kK8W4txyV6BMKlbgk3lMwYCiusNy9fVfvvwMxv8Ynl6vxoByANLTWplvuj/nF9m2+PDtt1eiHPBr1oIfhCChQMBw6Aw0UulqTKZdfVvfG7VcfIqLG9bcldL/+pdWTLxLUy8Qq38heUIjh4XlzZxzQm19lLFlr8vdQ97rjZVOLf8nclzckbcD4wxXMidpX30sFd37Fv/GtwwhzhxGVAprjbg0gCAEeIgwCZyTV2Z1REEW8O4py0wsjeloKoMr6iCY6dP92H6Vw/oTyICIthibxjm/DfN9lVz8IqtqKYLUXfoKVMVQVVJOElGjrnnUt9T9wbgp8AyYKaGlqingHZU/uG2NTZSVqwHQTWkx9hxjkpWDaCg6Ckj5qebgBVbT3V3NNXMSiWSDdGV3hrtzla7J+duwPOToIg42ChPQOQjspnSlp1V+Gjdged7+8UN5CRAV7a5EdFNwCjEaBR27b3W890TE7g24NAP/mMDXRWrGoFPQI9ls/MWO2dWFAar/xcOIImbbpA3zgAAAABJRU5ErkJggg==);\n",
       "        }\n",
       "    </style>\n",
       "    <div>\n",
       "        <a href=\"https://bokeh.org\" target=\"_blank\" class=\"bk-notebook-logo\"></a>\n",
       "        <span id=\"c60ae7cd-fcfd-43d8-b422-38b51fcba663\">Loading BokehJS ...</span>\n",
       "    </div>\n"
      ]
     },
     "metadata": {},
     "output_type": "display_data"
    },
    {
     "data": {
      "application/javascript": [
       "(function(root) {\n",
       "  function now() {\n",
       "    return new Date();\n",
       "  }\n",
       "\n",
       "  const force = true;\n",
       "\n",
       "  if (typeof root._bokeh_onload_callbacks === \"undefined\" || force === true) {\n",
       "    root._bokeh_onload_callbacks = [];\n",
       "    root._bokeh_is_loading = undefined;\n",
       "  }\n",
       "\n",
       "const JS_MIME_TYPE = 'application/javascript';\n",
       "  const HTML_MIME_TYPE = 'text/html';\n",
       "  const EXEC_MIME_TYPE = 'application/vnd.bokehjs_exec.v0+json';\n",
       "  const CLASS_NAME = 'output_bokeh rendered_html';\n",
       "\n",
       "  /**\n",
       "   * Render data to the DOM node\n",
       "   */\n",
       "  function render(props, node) {\n",
       "    const script = document.createElement(\"script\");\n",
       "    node.appendChild(script);\n",
       "  }\n",
       "\n",
       "  /**\n",
       "   * Handle when an output is cleared or removed\n",
       "   */\n",
       "  function handleClearOutput(event, handle) {\n",
       "    function drop(id) {\n",
       "      const view = Bokeh.index.get_by_id(id)\n",
       "      if (view != null) {\n",
       "        view.model.document.clear()\n",
       "        Bokeh.index.delete(view)\n",
       "      }\n",
       "    }\n",
       "\n",
       "    const cell = handle.cell;\n",
       "\n",
       "    const id = cell.output_area._bokeh_element_id;\n",
       "    const server_id = cell.output_area._bokeh_server_id;\n",
       "\n",
       "    // Clean up Bokeh references\n",
       "    if (id != null) {\n",
       "      drop(id)\n",
       "    }\n",
       "\n",
       "    if (server_id !== undefined) {\n",
       "      // Clean up Bokeh references\n",
       "      const cmd_clean = \"from bokeh.io.state import curstate; print(curstate().uuid_to_server['\" + server_id + \"'].get_sessions()[0].document.roots[0]._id)\";\n",
       "      cell.notebook.kernel.execute(cmd_clean, {\n",
       "        iopub: {\n",
       "          output: function(msg) {\n",
       "            const id = msg.content.text.trim()\n",
       "            drop(id)\n",
       "          }\n",
       "        }\n",
       "      });\n",
       "      // Destroy server and session\n",
       "      const cmd_destroy = \"import bokeh.io.notebook as ion; ion.destroy_server('\" + server_id + \"')\";\n",
       "      cell.notebook.kernel.execute(cmd_destroy);\n",
       "    }\n",
       "  }\n",
       "\n",
       "  /**\n",
       "   * Handle when a new output is added\n",
       "   */\n",
       "  function handleAddOutput(event, handle) {\n",
       "    const output_area = handle.output_area;\n",
       "    const output = handle.output;\n",
       "\n",
       "    // limit handleAddOutput to display_data with EXEC_MIME_TYPE content only\n",
       "    if ((output.output_type != \"display_data\") || (!Object.prototype.hasOwnProperty.call(output.data, EXEC_MIME_TYPE))) {\n",
       "      return\n",
       "    }\n",
       "\n",
       "    const toinsert = output_area.element.find(\".\" + CLASS_NAME.split(' ')[0]);\n",
       "\n",
       "    if (output.metadata[EXEC_MIME_TYPE][\"id\"] !== undefined) {\n",
       "      toinsert[toinsert.length - 1].firstChild.textContent = output.data[JS_MIME_TYPE];\n",
       "      // store reference to embed id on output_area\n",
       "      output_area._bokeh_element_id = output.metadata[EXEC_MIME_TYPE][\"id\"];\n",
       "    }\n",
       "    if (output.metadata[EXEC_MIME_TYPE][\"server_id\"] !== undefined) {\n",
       "      const bk_div = document.createElement(\"div\");\n",
       "      bk_div.innerHTML = output.data[HTML_MIME_TYPE];\n",
       "      const script_attrs = bk_div.children[0].attributes;\n",
       "      for (let i = 0; i < script_attrs.length; i++) {\n",
       "        toinsert[toinsert.length - 1].firstChild.setAttribute(script_attrs[i].name, script_attrs[i].value);\n",
       "        toinsert[toinsert.length - 1].firstChild.textContent = bk_div.children[0].textContent\n",
       "      }\n",
       "      // store reference to server id on output_area\n",
       "      output_area._bokeh_server_id = output.metadata[EXEC_MIME_TYPE][\"server_id\"];\n",
       "    }\n",
       "  }\n",
       "\n",
       "  function register_renderer(events, OutputArea) {\n",
       "\n",
       "    function append_mime(data, metadata, element) {\n",
       "      // create a DOM node to render to\n",
       "      const toinsert = this.create_output_subarea(\n",
       "        metadata,\n",
       "        CLASS_NAME,\n",
       "        EXEC_MIME_TYPE\n",
       "      );\n",
       "      this.keyboard_manager.register_events(toinsert);\n",
       "      // Render to node\n",
       "      const props = {data: data, metadata: metadata[EXEC_MIME_TYPE]};\n",
       "      render(props, toinsert[toinsert.length - 1]);\n",
       "      element.append(toinsert);\n",
       "      return toinsert\n",
       "    }\n",
       "\n",
       "    /* Handle when an output is cleared or removed */\n",
       "    events.on('clear_output.CodeCell', handleClearOutput);\n",
       "    events.on('delete.Cell', handleClearOutput);\n",
       "\n",
       "    /* Handle when a new output is added */\n",
       "    events.on('output_added.OutputArea', handleAddOutput);\n",
       "\n",
       "    /**\n",
       "     * Register the mime type and append_mime function with output_area\n",
       "     */\n",
       "    OutputArea.prototype.register_mime_type(EXEC_MIME_TYPE, append_mime, {\n",
       "      /* Is output safe? */\n",
       "      safe: true,\n",
       "      /* Index of renderer in `output_area.display_order` */\n",
       "      index: 0\n",
       "    });\n",
       "  }\n",
       "\n",
       "  // register the mime type if in Jupyter Notebook environment and previously unregistered\n",
       "  if (root.Jupyter !== undefined) {\n",
       "    const events = require('base/js/events');\n",
       "    const OutputArea = require('notebook/js/outputarea').OutputArea;\n",
       "\n",
       "    if (OutputArea.prototype.mime_types().indexOf(EXEC_MIME_TYPE) == -1) {\n",
       "      register_renderer(events, OutputArea);\n",
       "    }\n",
       "  }\n",
       "  if (typeof (root._bokeh_timeout) === \"undefined\" || force === true) {\n",
       "    root._bokeh_timeout = Date.now() + 5000;\n",
       "    root._bokeh_failed_load = false;\n",
       "  }\n",
       "\n",
       "  const NB_LOAD_WARNING = {'data': {'text/html':\n",
       "     \"<div style='background-color: #fdd'>\\n\"+\n",
       "     \"<p>\\n\"+\n",
       "     \"BokehJS does not appear to have successfully loaded. If loading BokehJS from CDN, this \\n\"+\n",
       "     \"may be due to a slow or bad network connection. Possible fixes:\\n\"+\n",
       "     \"</p>\\n\"+\n",
       "     \"<ul>\\n\"+\n",
       "     \"<li>re-rerun `output_notebook()` to attempt to load from CDN again, or</li>\\n\"+\n",
       "     \"<li>use INLINE resources instead, as so:</li>\\n\"+\n",
       "     \"</ul>\\n\"+\n",
       "     \"<code>\\n\"+\n",
       "     \"from bokeh.resources import INLINE\\n\"+\n",
       "     \"output_notebook(resources=INLINE)\\n\"+\n",
       "     \"</code>\\n\"+\n",
       "     \"</div>\"}};\n",
       "\n",
       "  function display_loaded() {\n",
       "    const el = document.getElementById(\"c60ae7cd-fcfd-43d8-b422-38b51fcba663\");\n",
       "    if (el != null) {\n",
       "      el.textContent = \"BokehJS is loading...\";\n",
       "    }\n",
       "    if (root.Bokeh !== undefined) {\n",
       "      if (el != null) {\n",
       "        el.textContent = \"BokehJS \" + root.Bokeh.version + \" successfully loaded.\";\n",
       "      }\n",
       "    } else if (Date.now() < root._bokeh_timeout) {\n",
       "      setTimeout(display_loaded, 100)\n",
       "    }\n",
       "  }\n",
       "\n",
       "  function run_callbacks() {\n",
       "    try {\n",
       "      root._bokeh_onload_callbacks.forEach(function(callback) {\n",
       "        if (callback != null)\n",
       "          callback();\n",
       "      });\n",
       "    } finally {\n",
       "      delete root._bokeh_onload_callbacks\n",
       "    }\n",
       "    console.debug(\"Bokeh: all callbacks have finished\");\n",
       "  }\n",
       "\n",
       "  function load_libs(css_urls, js_urls, callback) {\n",
       "    if (css_urls == null) css_urls = [];\n",
       "    if (js_urls == null) js_urls = [];\n",
       "\n",
       "    root._bokeh_onload_callbacks.push(callback);\n",
       "    if (root._bokeh_is_loading > 0) {\n",
       "      console.debug(\"Bokeh: BokehJS is being loaded, scheduling callback at\", now());\n",
       "      return null;\n",
       "    }\n",
       "    if (js_urls == null || js_urls.length === 0) {\n",
       "      run_callbacks();\n",
       "      return null;\n",
       "    }\n",
       "    console.debug(\"Bokeh: BokehJS not loaded, scheduling load and callback at\", now());\n",
       "    root._bokeh_is_loading = css_urls.length + js_urls.length;\n",
       "\n",
       "    function on_load() {\n",
       "      root._bokeh_is_loading--;\n",
       "      if (root._bokeh_is_loading === 0) {\n",
       "        console.debug(\"Bokeh: all BokehJS libraries/stylesheets loaded\");\n",
       "        run_callbacks()\n",
       "      }\n",
       "    }\n",
       "\n",
       "    function on_error(url) {\n",
       "      console.error(\"failed to load \" + url);\n",
       "    }\n",
       "\n",
       "    for (let i = 0; i < css_urls.length; i++) {\n",
       "      const url = css_urls[i];\n",
       "      const element = document.createElement(\"link\");\n",
       "      element.onload = on_load;\n",
       "      element.onerror = on_error.bind(null, url);\n",
       "      element.rel = \"stylesheet\";\n",
       "      element.type = \"text/css\";\n",
       "      element.href = url;\n",
       "      console.debug(\"Bokeh: injecting link tag for BokehJS stylesheet: \", url);\n",
       "      document.body.appendChild(element);\n",
       "    }\n",
       "\n",
       "    for (let i = 0; i < js_urls.length; i++) {\n",
       "      const url = js_urls[i];\n",
       "      const element = document.createElement('script');\n",
       "      element.onload = on_load;\n",
       "      element.onerror = on_error.bind(null, url);\n",
       "      element.async = false;\n",
       "      element.src = url;\n",
       "      console.debug(\"Bokeh: injecting script tag for BokehJS library: \", url);\n",
       "      document.head.appendChild(element);\n",
       "    }\n",
       "  };\n",
       "\n",
       "  function inject_raw_css(css) {\n",
       "    const element = document.createElement(\"style\");\n",
       "    element.appendChild(document.createTextNode(css));\n",
       "    document.body.appendChild(element);\n",
       "  }\n",
       "\n",
       "  const js_urls = [\"https://cdn.bokeh.org/bokeh/release/bokeh-3.3.0.min.js\", \"https://cdn.bokeh.org/bokeh/release/bokeh-gl-3.3.0.min.js\", \"https://cdn.bokeh.org/bokeh/release/bokeh-widgets-3.3.0.min.js\", \"https://cdn.bokeh.org/bokeh/release/bokeh-tables-3.3.0.min.js\", \"https://cdn.bokeh.org/bokeh/release/bokeh-mathjax-3.3.0.min.js\"];\n",
       "  const css_urls = [];\n",
       "\n",
       "  const inline_js = [    function(Bokeh) {\n",
       "      Bokeh.set_log_level(\"info\");\n",
       "    },\n",
       "function(Bokeh) {\n",
       "    }\n",
       "  ];\n",
       "\n",
       "  function run_inline_js() {\n",
       "    if (root.Bokeh !== undefined || force === true) {\n",
       "          for (let i = 0; i < inline_js.length; i++) {\n",
       "      inline_js[i].call(root, root.Bokeh);\n",
       "    }\n",
       "if (force === true) {\n",
       "        display_loaded();\n",
       "      }} else if (Date.now() < root._bokeh_timeout) {\n",
       "      setTimeout(run_inline_js, 100);\n",
       "    } else if (!root._bokeh_failed_load) {\n",
       "      console.log(\"Bokeh: BokehJS failed to load within specified timeout.\");\n",
       "      root._bokeh_failed_load = true;\n",
       "    } else if (force !== true) {\n",
       "      const cell = $(document.getElementById(\"c60ae7cd-fcfd-43d8-b422-38b51fcba663\")).parents('.cell').data().cell;\n",
       "      cell.output_area.append_execute_result(NB_LOAD_WARNING)\n",
       "    }\n",
       "  }\n",
       "\n",
       "  if (root._bokeh_is_loading === 0) {\n",
       "    console.debug(\"Bokeh: BokehJS loaded, going straight to plotting\");\n",
       "    run_inline_js();\n",
       "  } else {\n",
       "    load_libs(css_urls, js_urls, function() {\n",
       "      console.debug(\"Bokeh: BokehJS plotting callback run at\", now());\n",
       "      run_inline_js();\n",
       "    });\n",
       "  }\n",
       "}(window));"
      ],
      "application/vnd.bokehjs_load.v0+json": "(function(root) {\n  function now() {\n    return new Date();\n  }\n\n  const force = true;\n\n  if (typeof root._bokeh_onload_callbacks === \"undefined\" || force === true) {\n    root._bokeh_onload_callbacks = [];\n    root._bokeh_is_loading = undefined;\n  }\n\n\n  if (typeof (root._bokeh_timeout) === \"undefined\" || force === true) {\n    root._bokeh_timeout = Date.now() + 5000;\n    root._bokeh_failed_load = false;\n  }\n\n  const NB_LOAD_WARNING = {'data': {'text/html':\n     \"<div style='background-color: #fdd'>\\n\"+\n     \"<p>\\n\"+\n     \"BokehJS does not appear to have successfully loaded. If loading BokehJS from CDN, this \\n\"+\n     \"may be due to a slow or bad network connection. Possible fixes:\\n\"+\n     \"</p>\\n\"+\n     \"<ul>\\n\"+\n     \"<li>re-rerun `output_notebook()` to attempt to load from CDN again, or</li>\\n\"+\n     \"<li>use INLINE resources instead, as so:</li>\\n\"+\n     \"</ul>\\n\"+\n     \"<code>\\n\"+\n     \"from bokeh.resources import INLINE\\n\"+\n     \"output_notebook(resources=INLINE)\\n\"+\n     \"</code>\\n\"+\n     \"</div>\"}};\n\n  function display_loaded() {\n    const el = document.getElementById(\"c60ae7cd-fcfd-43d8-b422-38b51fcba663\");\n    if (el != null) {\n      el.textContent = \"BokehJS is loading...\";\n    }\n    if (root.Bokeh !== undefined) {\n      if (el != null) {\n        el.textContent = \"BokehJS \" + root.Bokeh.version + \" successfully loaded.\";\n      }\n    } else if (Date.now() < root._bokeh_timeout) {\n      setTimeout(display_loaded, 100)\n    }\n  }\n\n  function run_callbacks() {\n    try {\n      root._bokeh_onload_callbacks.forEach(function(callback) {\n        if (callback != null)\n          callback();\n      });\n    } finally {\n      delete root._bokeh_onload_callbacks\n    }\n    console.debug(\"Bokeh: all callbacks have finished\");\n  }\n\n  function load_libs(css_urls, js_urls, callback) {\n    if (css_urls == null) css_urls = [];\n    if (js_urls == null) js_urls = [];\n\n    root._bokeh_onload_callbacks.push(callback);\n    if (root._bokeh_is_loading > 0) {\n      console.debug(\"Bokeh: BokehJS is being loaded, scheduling callback at\", now());\n      return null;\n    }\n    if (js_urls == null || js_urls.length === 0) {\n      run_callbacks();\n      return null;\n    }\n    console.debug(\"Bokeh: BokehJS not loaded, scheduling load and callback at\", now());\n    root._bokeh_is_loading = css_urls.length + js_urls.length;\n\n    function on_load() {\n      root._bokeh_is_loading--;\n      if (root._bokeh_is_loading === 0) {\n        console.debug(\"Bokeh: all BokehJS libraries/stylesheets loaded\");\n        run_callbacks()\n      }\n    }\n\n    function on_error(url) {\n      console.error(\"failed to load \" + url);\n    }\n\n    for (let i = 0; i < css_urls.length; i++) {\n      const url = css_urls[i];\n      const element = document.createElement(\"link\");\n      element.onload = on_load;\n      element.onerror = on_error.bind(null, url);\n      element.rel = \"stylesheet\";\n      element.type = \"text/css\";\n      element.href = url;\n      console.debug(\"Bokeh: injecting link tag for BokehJS stylesheet: \", url);\n      document.body.appendChild(element);\n    }\n\n    for (let i = 0; i < js_urls.length; i++) {\n      const url = js_urls[i];\n      const element = document.createElement('script');\n      element.onload = on_load;\n      element.onerror = on_error.bind(null, url);\n      element.async = false;\n      element.src = url;\n      console.debug(\"Bokeh: injecting script tag for BokehJS library: \", url);\n      document.head.appendChild(element);\n    }\n  };\n\n  function inject_raw_css(css) {\n    const element = document.createElement(\"style\");\n    element.appendChild(document.createTextNode(css));\n    document.body.appendChild(element);\n  }\n\n  const js_urls = [\"https://cdn.bokeh.org/bokeh/release/bokeh-3.3.0.min.js\", \"https://cdn.bokeh.org/bokeh/release/bokeh-gl-3.3.0.min.js\", \"https://cdn.bokeh.org/bokeh/release/bokeh-widgets-3.3.0.min.js\", \"https://cdn.bokeh.org/bokeh/release/bokeh-tables-3.3.0.min.js\", \"https://cdn.bokeh.org/bokeh/release/bokeh-mathjax-3.3.0.min.js\"];\n  const css_urls = [];\n\n  const inline_js = [    function(Bokeh) {\n      Bokeh.set_log_level(\"info\");\n    },\nfunction(Bokeh) {\n    }\n  ];\n\n  function run_inline_js() {\n    if (root.Bokeh !== undefined || force === true) {\n          for (let i = 0; i < inline_js.length; i++) {\n      inline_js[i].call(root, root.Bokeh);\n    }\nif (force === true) {\n        display_loaded();\n      }} else if (Date.now() < root._bokeh_timeout) {\n      setTimeout(run_inline_js, 100);\n    } else if (!root._bokeh_failed_load) {\n      console.log(\"Bokeh: BokehJS failed to load within specified timeout.\");\n      root._bokeh_failed_load = true;\n    } else if (force !== true) {\n      const cell = $(document.getElementById(\"c60ae7cd-fcfd-43d8-b422-38b51fcba663\")).parents('.cell').data().cell;\n      cell.output_area.append_execute_result(NB_LOAD_WARNING)\n    }\n  }\n\n  if (root._bokeh_is_loading === 0) {\n    console.debug(\"Bokeh: BokehJS loaded, going straight to plotting\");\n    run_inline_js();\n  } else {\n    load_libs(css_urls, js_urls, function() {\n      console.debug(\"Bokeh: BokehJS plotting callback run at\", now());\n      run_inline_js();\n    });\n  }\n}(window));"
     },
     "metadata": {},
     "output_type": "display_data"
    },
    {
     "data": {
      "text/html": [
       "\n",
       "  <div id=\"fb622e6e-53e2-4afa-aca9-eb6cbe9ee955\" data-root-id=\"p1032\" style=\"display: contents;\"></div>\n"
      ]
     },
     "metadata": {},
     "output_type": "display_data"
    },
    {
     "data": {
      "application/javascript": [
       "(function(root) {\n",
       "  function embed_document(root) {\n",
       "  const docs_json = {\"e8ce30d4-9b47-4083-a902-fcb2adddd9a1\":{\"version\":\"3.3.0\",\"title\":\"Bokeh Application\",\"roots\":[{\"type\":\"object\",\"name\":\"DataTable\",\"id\":\"p1032\",\"attributes\":{\"source\":{\"type\":\"object\",\"name\":\"ColumnDataSource\",\"id\":\"p1010\",\"attributes\":{\"selected\":{\"type\":\"object\",\"name\":\"Selection\",\"id\":\"p1011\",\"attributes\":{\"indices\":[],\"line_indices\":[]}},\"selection_policy\":{\"type\":\"object\",\"name\":\"UnionRenderers\",\"id\":\"p1012\"},\"data\":{\"type\":\"map\",\"entries\":[[\"color\",[\"#dcdcdc\",\"#3c3285\",\"#4353c2\",\"#4673eb\",\"#4291fe\",\"#2fb1f3\",\"#1ccdd7\",\"#19e3b8\",\"#32f197\",\"#61fc6c\",\"#8efe48\",\"#b1f836\",\"#cfea34\",\"#ead339\",\"#f9ba38\",\"#fe9b2d\",\"#f9771e\",\"#ec520e\",\"#d93806\",\"#c02302\",\"#a01101\"]],[\"label\",[\"ABSTAIN\",\"alt.atheism\",\"comp.graphics\",\"comp.os.ms-windows.misc\",\"comp.sys.ibm.pc.hardware\",\"comp.sys.mac.hardware\",\"comp.windows.x\",\"misc.forsale\",\"rec.autos\",\"rec.motorcycles\",\"rec.sport.baseball\",\"rec.sport.hockey\",\"sci.crypt\",\"sci.electronics\",\"sci.med\",\"sci.space\",\"soc.religion.christian\",\"talk.politics.guns\",\"talk.politics.mideast\",\"talk.politics.misc\",\"talk.religion.misc\"]],[\"count_raw\",[372,0,0,0,0,0,0,0,0,0,0,0,0,0,0,0,0,0,0,0,0]],[\"count_train\",[0,15,19,17,18,23,18,14,24,24,20,15,17,21,25,16,16,22,17,22,13]],[\"count_dev\",[0,3,5,6,8,3,5,9,9,6,3,4,6,1,2,6,5,7,5,3,3]],[\"count_test\",[0,5,5,4,7,4,10,2,5,6,5,8,6,2,5,5,4,4,4,5,4]]]}}},\"view\":{\"type\":\"object\",\"name\":\"CDSView\",\"id\":\"p1036\",\"attributes\":{\"filter\":{\"type\":\"object\",\"name\":\"AllIndices\",\"id\":\"p1037\"}}},\"columns\":[{\"type\":\"object\",\"name\":\"TableColumn\",\"id\":\"p1013\",\"attributes\":{\"field\":\"label\",\"title\":\"label\",\"formatter\":{\"type\":\"object\",\"name\":\"StringFormatter\",\"id\":\"p1014\"},\"editor\":{\"type\":\"object\",\"name\":\"StringEditor\",\"id\":\"p1015\"}}},{\"type\":\"object\",\"name\":\"TableColumn\",\"id\":\"p1016\",\"attributes\":{\"field\":\"count_raw\",\"title\":\"raw\",\"formatter\":{\"type\":\"object\",\"name\":\"StringFormatter\",\"id\":\"p1017\"},\"editor\":{\"type\":\"object\",\"name\":\"StringEditor\",\"id\":\"p1018\"}}},{\"type\":\"object\",\"name\":\"TableColumn\",\"id\":\"p1019\",\"attributes\":{\"field\":\"count_train\",\"title\":\"train\",\"formatter\":{\"type\":\"object\",\"name\":\"StringFormatter\",\"id\":\"p1020\"},\"editor\":{\"type\":\"object\",\"name\":\"StringEditor\",\"id\":\"p1021\"}}},{\"type\":\"object\",\"name\":\"TableColumn\",\"id\":\"p1022\",\"attributes\":{\"field\":\"count_dev\",\"title\":\"dev\",\"formatter\":{\"type\":\"object\",\"name\":\"StringFormatter\",\"id\":\"p1023\"},\"editor\":{\"type\":\"object\",\"name\":\"StringEditor\",\"id\":\"p1024\"}}},{\"type\":\"object\",\"name\":\"TableColumn\",\"id\":\"p1025\",\"attributes\":{\"field\":\"count_test\",\"title\":\"test\",\"formatter\":{\"type\":\"object\",\"name\":\"StringFormatter\",\"id\":\"p1026\"},\"editor\":{\"type\":\"object\",\"name\":\"StringEditor\",\"id\":\"p1027\"}}},{\"type\":\"object\",\"name\":\"TableColumn\",\"id\":\"p1029\",\"attributes\":{\"field\":\"color\",\"title\":\"color\",\"formatter\":{\"type\":\"object\",\"name\":\"HTMLTemplateFormatter\",\"id\":\"p1028\",\"attributes\":{\"template\":\"\\n<p style=\\\"color:<%= value %>;\\\">\\n    <%= \\\"&#9608;&#9608;&#9608;\\\" %>\\n</p>\\n\"}},\"editor\":{\"type\":\"object\",\"name\":\"StringEditor\",\"id\":\"p1031\"}}}]}}]}};\n",
       "  const render_items = [{\"docid\":\"e8ce30d4-9b47-4083-a902-fcb2adddd9a1\",\"roots\":{\"p1032\":\"fb622e6e-53e2-4afa-aca9-eb6cbe9ee955\"},\"root_ids\":[\"p1032\"]}];\n",
       "  root.Bokeh.embed.embed_items_notebook(docs_json, render_items);\n",
       "  }\n",
       "  if (root.Bokeh !== undefined) {\n",
       "    embed_document(root);\n",
       "  } else {\n",
       "    let attempts = 0;\n",
       "    const timer = setInterval(function(root) {\n",
       "      if (root.Bokeh !== undefined) {\n",
       "        clearInterval(timer);\n",
       "        embed_document(root);\n",
       "      } else {\n",
       "        attempts++;\n",
       "        if (attempts > 100) {\n",
       "          clearInterval(timer);\n",
       "          console.log(\"Bokeh: ERROR: Unable to run BokehJS code because BokehJS library is missing\");\n",
       "        }\n",
       "      }\n",
       "    }, 10, root)\n",
       "  }\n",
       "})(window);"
      ],
      "application/vnd.bokehjs_exec.v0+json": ""
     },
     "metadata": {
      "application/vnd.bokehjs_exec.v0+json": {
       "id": "p1032"
      }
     },
     "output_type": "display_data"
    }
   ],
   "source": [
    "from bokeh.io import show, output_notebook\n",
    "\n",
    "output_notebook()\n",
    "\n",
    "# normally your would skip notebook_url or use Jupyter address\n",
    "notebook_url = 'localhost:8888'\n",
    "\n",
    "show(dataset.pop_table, notebook_url=notebook_url)"
   ]
  },
  {
   "cell_type": "markdown",
   "id": "d9fe87f7",
   "metadata": {},
   "source": [
    "<br>\n",
    "\n",
    "### **Transfer Data Between Subsets**\n",
    "\n",
    "`COMMIT` and `DEDUP` are the mechanisms that `hover` uses to transfer data between subsets.\n",
    "\n",
    "-   `COMMIT` copies selected points (to be discussed later) to a destination subset\n",
    "    -   labeled-raw-only: `COMMIT` automatically detects which points are in the raw set with a valid label. Other points will not get copied.\n",
    "    -   keep-last: you can commit the same point to the same subset multiple times and the last copy will be kept. This can be useful for revising labels before `DEDUP`.\n",
    "-   `DEDUP` removes duplicates (identified by feature value) across subsets\n",
    "    -   priority rule: test > dev > train > raw, i.e. test set data always gets kept during deduplication\n",
    "\n",
    "-   <details open><summary>FAQ</summary>\n",
    "    <details open><summary>Why does COMMIT only work on the raw subset?</summary>\n",
    "        Most selections will happen through plots, where different subsets are on top of each other. This means selections can contain both unlabeled and labeled points.\n",
    "\n",
    "        Way too often we find ourselves trying to view both the labeled and the unlabeled, but only moving the unlabeled \"raw\" points. So it's handy that COMMIT picks those points only.\n",
    "    </details>\n",
    "\n",
    "</details>\n",
    "\n",
    "These mechanisms correspond to buttons in `hover`'s annotation interface, which you have encountered in the quickstart:"
   ]
  },
  {
   "cell_type": "code",
   "execution_count": 3,
   "id": "a4c34452",
   "metadata": {
    "execution": {
     "iopub.execute_input": "2023-10-17T01:22:52.180865Z",
     "iopub.status.busy": "2023-10-17T01:22:52.180367Z",
     "iopub.status.idle": "2023-10-17T01:22:52.203982Z",
     "shell.execute_reply": "2023-10-17T01:22:52.203361Z"
    }
   },
   "outputs": [
    {
     "name": "stderr",
     "output_type": "stream",
     "text": [
      "WARNING:bokeh.embed.util:\n",
      "You are generating standalone HTML/JS output, but trying to use real Python\n",
      "callbacks (i.e. with on_change or on_event). This combination cannot work.\n",
      "\n",
      "Only JavaScript callbacks may be used with standalone output. For more\n",
      "information on JavaScript callbacks with Bokeh, see:\n",
      "\n",
      "    https://docs.bokeh.org/en/latest/docs/user_guide/interaction/callbacks.html\n",
      "\n",
      "Alternatively, to use real Python callbacks, a Bokeh server application may\n",
      "be used. For more information on building and running Bokeh applications, see:\n",
      "\n",
      "    https://docs.bokeh.org/en/latest/docs/user_guide/server.html\n",
      "\n"
     ]
    },
    {
     "data": {
      "text/html": [
       "\n",
       "  <div id=\"b9f0e359-790a-48b5-b956-b220d6e79b4a\" data-root-id=\"p1056\" style=\"display: contents;\"></div>\n"
      ]
     },
     "metadata": {},
     "output_type": "display_data"
    },
    {
     "data": {
      "application/javascript": [
       "(function(root) {\n",
       "  function embed_document(root) {\n",
       "  const docs_json = {\"42eaf47a-4daf-4369-bd45-3564b9e84dea\":{\"version\":\"3.3.0\",\"title\":\"Bokeh Application\",\"roots\":[{\"type\":\"object\",\"name\":\"Column\",\"id\":\"p1056\",\"attributes\":{\"children\":[{\"type\":\"object\",\"name\":\"Row\",\"id\":\"p1055\",\"attributes\":{\"children\":[{\"type\":\"object\",\"name\":\"Dropdown\",\"id\":\"p1002\",\"attributes\":{\"button_type\":\"warning\",\"subscribed_events\":{\"type\":\"set\",\"entries\":[\"button_click\",\"menu_item_click\"]},\"label\":\"Commit\",\"menu\":[\"train\",\"dev\",\"test\"]}},{\"type\":\"object\",\"name\":\"Button\",\"id\":\"p1003\",\"attributes\":{\"button_type\":\"warning\",\"subscribed_events\":{\"type\":\"set\",\"entries\":[\"button_click\"]},\"label\":\"Dedup\"}}]}},{\"type\":\"object\",\"name\":\"DataTable\",\"id\":\"p1032\",\"attributes\":{\"source\":{\"type\":\"object\",\"name\":\"ColumnDataSource\",\"id\":\"p1010\",\"attributes\":{\"selected\":{\"type\":\"object\",\"name\":\"Selection\",\"id\":\"p1011\",\"attributes\":{\"indices\":[],\"line_indices\":[]}},\"selection_policy\":{\"type\":\"object\",\"name\":\"UnionRenderers\",\"id\":\"p1012\"},\"data\":{\"type\":\"map\",\"entries\":[[\"color\",[\"#dcdcdc\",\"#3c3285\",\"#4353c2\",\"#4673eb\",\"#4291fe\",\"#2fb1f3\",\"#1ccdd7\",\"#19e3b8\",\"#32f197\",\"#61fc6c\",\"#8efe48\",\"#b1f836\",\"#cfea34\",\"#ead339\",\"#f9ba38\",\"#fe9b2d\",\"#f9771e\",\"#ec520e\",\"#d93806\",\"#c02302\",\"#a01101\"]],[\"label\",[\"ABSTAIN\",\"alt.atheism\",\"comp.graphics\",\"comp.os.ms-windows.misc\",\"comp.sys.ibm.pc.hardware\",\"comp.sys.mac.hardware\",\"comp.windows.x\",\"misc.forsale\",\"rec.autos\",\"rec.motorcycles\",\"rec.sport.baseball\",\"rec.sport.hockey\",\"sci.crypt\",\"sci.electronics\",\"sci.med\",\"sci.space\",\"soc.religion.christian\",\"talk.politics.guns\",\"talk.politics.mideast\",\"talk.politics.misc\",\"talk.religion.misc\"]],[\"count_raw\",[372,0,0,0,0,0,0,0,0,0,0,0,0,0,0,0,0,0,0,0,0]],[\"count_train\",[0,15,19,17,18,23,18,14,24,24,20,15,17,21,25,16,16,22,17,22,13]],[\"count_dev\",[0,3,5,6,8,3,5,9,9,6,3,4,6,1,2,6,5,7,5,3,3]],[\"count_test\",[0,5,5,4,7,4,10,2,5,6,5,8,6,2,5,5,4,4,4,5,4]]]}}},\"view\":{\"type\":\"object\",\"name\":\"CDSView\",\"id\":\"p1036\",\"attributes\":{\"filter\":{\"type\":\"object\",\"name\":\"AllIndices\",\"id\":\"p1037\"}}},\"columns\":[{\"type\":\"object\",\"name\":\"TableColumn\",\"id\":\"p1013\",\"attributes\":{\"field\":\"label\",\"title\":\"label\",\"formatter\":{\"type\":\"object\",\"name\":\"StringFormatter\",\"id\":\"p1014\"},\"editor\":{\"type\":\"object\",\"name\":\"StringEditor\",\"id\":\"p1015\"}}},{\"type\":\"object\",\"name\":\"TableColumn\",\"id\":\"p1016\",\"attributes\":{\"field\":\"count_raw\",\"title\":\"raw\",\"formatter\":{\"type\":\"object\",\"name\":\"StringFormatter\",\"id\":\"p1017\"},\"editor\":{\"type\":\"object\",\"name\":\"StringEditor\",\"id\":\"p1018\"}}},{\"type\":\"object\",\"name\":\"TableColumn\",\"id\":\"p1019\",\"attributes\":{\"field\":\"count_train\",\"title\":\"train\",\"formatter\":{\"type\":\"object\",\"name\":\"StringFormatter\",\"id\":\"p1020\"},\"editor\":{\"type\":\"object\",\"name\":\"StringEditor\",\"id\":\"p1021\"}}},{\"type\":\"object\",\"name\":\"TableColumn\",\"id\":\"p1022\",\"attributes\":{\"field\":\"count_dev\",\"title\":\"dev\",\"formatter\":{\"type\":\"object\",\"name\":\"StringFormatter\",\"id\":\"p1023\"},\"editor\":{\"type\":\"object\",\"name\":\"StringEditor\",\"id\":\"p1024\"}}},{\"type\":\"object\",\"name\":\"TableColumn\",\"id\":\"p1025\",\"attributes\":{\"field\":\"count_test\",\"title\":\"test\",\"formatter\":{\"type\":\"object\",\"name\":\"StringFormatter\",\"id\":\"p1026\"},\"editor\":{\"type\":\"object\",\"name\":\"StringEditor\",\"id\":\"p1027\"}}},{\"type\":\"object\",\"name\":\"TableColumn\",\"id\":\"p1029\",\"attributes\":{\"field\":\"color\",\"title\":\"color\",\"formatter\":{\"type\":\"object\",\"name\":\"HTMLTemplateFormatter\",\"id\":\"p1028\",\"attributes\":{\"template\":\"\\n<p style=\\\"color:<%= value %>;\\\">\\n    <%= \\\"&#9608;&#9608;&#9608;\\\" %>\\n</p>\\n\"}},\"editor\":{\"type\":\"object\",\"name\":\"StringEditor\",\"id\":\"p1031\"}}}]}}]}}]}};\n",
       "  const render_items = [{\"docid\":\"42eaf47a-4daf-4369-bd45-3564b9e84dea\",\"roots\":{\"p1056\":\"b9f0e359-790a-48b5-b956-b220d6e79b4a\"},\"root_ids\":[\"p1056\"]}];\n",
       "  root.Bokeh.embed.embed_items_notebook(docs_json, render_items);\n",
       "  }\n",
       "  if (root.Bokeh !== undefined) {\n",
       "    embed_document(root);\n",
       "  } else {\n",
       "    let attempts = 0;\n",
       "    const timer = setInterval(function(root) {\n",
       "      if (root.Bokeh !== undefined) {\n",
       "        clearInterval(timer);\n",
       "        embed_document(root);\n",
       "      } else {\n",
       "        attempts++;\n",
       "        if (attempts > 100) {\n",
       "          clearInterval(timer);\n",
       "          console.log(\"Bokeh: ERROR: Unable to run BokehJS code because BokehJS library is missing\");\n",
       "        }\n",
       "      }\n",
       "    }, 10, root)\n",
       "  }\n",
       "})(window);"
      ],
      "application/vnd.bokehjs_exec.v0+json": ""
     },
     "metadata": {
      "application/vnd.bokehjs_exec.v0+json": {
       "id": "p1056"
      }
     },
     "output_type": "display_data"
    }
   ],
   "source": [
    "from bokeh.layouts import row, column\n",
    "\n",
    "show(column(\n",
    "    row(\n",
    "        dataset.data_committer,\n",
    "        dataset.dedup_trigger,\n",
    "    ),\n",
    "    dataset.pop_table,\n",
    "), notebook_url=notebook_url)"
   ]
  },
  {
   "cell_type": "markdown",
   "id": "745ade20",
   "metadata": {},
   "source": [
    "<br>\n",
    "\n",
    "Of course, so far we have nothing to move, because there's no data selected. We shall now discuss selections.\n",
    "\n",
    "## **Selection**\n",
    "\n",
    "`hover` labels data points in bulk, which requires selecting groups of homogeneous data, i.e. semantically similar or going to have the same label. Being able to skim through what you selected gives you confidence about homogeneity.\n",
    "\n",
    "Normally, selection happens through a plot (`explorer`), as we have seen in the quickstart. For the purpose here, we will \"cheat\" and assign the selection programmatically:"
   ]
  },
  {
   "cell_type": "code",
   "execution_count": 4,
   "id": "a34f9602",
   "metadata": {
    "execution": {
     "iopub.execute_input": "2023-10-17T01:22:52.207213Z",
     "iopub.status.busy": "2023-10-17T01:22:52.206755Z",
     "iopub.status.idle": "2023-10-17T01:22:52.223121Z",
     "shell.execute_reply": "2023-10-17T01:22:52.222413Z"
    }
   },
   "outputs": [
    {
     "data": {
      "text/html": [
       "<pre style=\"white-space:pre;overflow-x:auto;line-height:normal;font-family:Menlo,'DejaVu Sans Mono',consolas,'Courier New',monospace\"><span style=\"color: #008000; text-decoration-color: #008000\">🟢 SupervisableTextDataset: Selection table: latest selection with </span><span style=\"color: #008080; text-decoration-color: #008080; font-weight: bold\">10</span><span style=\"color: #008000; text-decoration-color: #008000\"> entries.</span>\n",
       "</pre>\n"
      ],
      "text/plain": [
       "\u001b[32m🟢 SupervisableTextDataset: Selection table: latest selection with \u001b[0m\u001b[1;36m10\u001b[0m\u001b[32m entries.\u001b[0m\n"
      ]
     },
     "metadata": {},
     "output_type": "display_data"
    },
    {
     "data": {
      "text/html": [
       "\n",
       "  <div id=\"bd4eed3c-48b2-47b0-bbd6-c4a8b1f2cdc5\" data-root-id=\"p1049\" style=\"display: contents;\"></div>\n"
      ]
     },
     "metadata": {},
     "output_type": "display_data"
    },
    {
     "data": {
      "application/javascript": [
       "(function(root) {\n",
       "  function embed_document(root) {\n",
       "  const docs_json = {\"c26e6cd9-6d4d-4568-af16-fea77727ad56\":{\"version\":\"3.3.0\",\"title\":\"Bokeh Application\",\"roots\":[{\"type\":\"object\",\"name\":\"DataTable\",\"id\":\"p1049\",\"attributes\":{\"source\":{\"type\":\"object\",\"name\":\"ColumnDataSource\",\"id\":\"p1038\",\"attributes\":{\"selected\":{\"type\":\"object\",\"name\":\"Selection\",\"id\":\"p1039\",\"attributes\":{\"indices\":[],\"line_indices\":[]}},\"selection_policy\":{\"type\":\"object\",\"name\":\"UnionRenderers\",\"id\":\"p1040\"},\"data\":{\"type\":\"map\",\"entries\":[[\"text\",[\" Concurrent has a product called RealTimeX (tm) that is a set of real-time extensions to the X Window System.  RealTimeX is currently supported on the Concurrent Series 7000 and Series 8000 with the GA5000 graphics accelerator.  If you need/want more info, let me know.    - sam black  ------------------------------------------------------------------------------- Once you remove the absurdity from human existence, there isn't much left.        __________       /  _______/__      /__/______/  / black@westford.ccur.com    Concurrent /_________/  Computer Corporation\",\"From: Center for Policy Research <cpr> Subject: Poem by Erich Fried    Poem by German-Jewish poet Erich Fried (Holocaust survivor)  Ein Jude an die zionistischen Kaempfer - 1988      von Erich Fried  Was wollt ihr eigentlich ?  Wollt ihr wirklich die uebertreffen die euch niedergetreten haben vor einem Menschenalter in euer eigenes Blut und in euren eigenen Kot ?    *  Wollt ihr die alten Foltern jetzt an andere weitergeben mit allen blutigen dreckigen Einzelheiten mit allem brutalen Genuss die Folterknechte wie unsere Vaeter sie damals erlitten haben ?         *  Wollt jetzt wirklich ihr die neue Gestapo sein die neue Wehrmacht die neue SA and SS und aus den Palaestinensern die neuen Juden machen ?        *  Aber dann will auch ich weil ich damals vor fuenfzig Jahren selbst als ein Judenkind gepeinigt wurde von euren Peinigern ein neuer Jude sein mit diesen neuen Juden zu denen ihr die Palaestinenser macht         *  Und ich will sie zurueckfuehren helfen als freie Menschen in ihr eigenes Land Palaestina aus dem ihr sie vertrieben habt oder in dem ihr sie quaelt ihr Hakenkreuzlehrlinge ihr Narren und Wechselbaelge der Weltgeschichte denen der Davidstern auf euren Fahnen sich immer schneller verwandelt in das verfluchte Zeichen mit den vier Fuessen das ihr nun nicht sehen wollt aber dessen Weg ihr heut geht ! \",\" Fine.  Libertarians and anarchists are not alone in being uncomfortable with the use of state sponsored coercion.  The notion that coercion can be virtually eliminated in a society (or more properly that once it is eliminated on the part of the state it is no longer worth serious  consideration) is a view that is peculiar to libertarians and anarchists.    For example, does \\\"non-initiated force\\\" (coercion) include tax collection? Does it include the minimal level of regulation of commerce envisioned by Adam Smith?  Since coercion can be exercised by actors other than the state, how is the state to deal with it?  Exclusively through after the fact arbitration/legal compulsion?     Well, I must admit that the picture of libertarians as Amway participants is somewhat more reassuring than the idea of them trying to govern a  complex, conflictual, industrial society.  I'd venture to point out,  however, that if libertarians couldn't convince at least 85% of a group  of \\\"seminar participants\\\" to \\\"embrace\\\" their philosophy, their  propaganda skills need to be honed.    Frankly, however, it is no great trick to create a government for a  society in which (almost) everyone is assumed to agree about what is a proper government policy.  Once that is assumed, all sorts of annoying formalities can be dispensed with, elections, police, etc.  And as Mr. Marx said, the state will just wither away.    On the way there, however, would you like to explain how eliminating  virtually all policies that restrain private coercion in the  current society will help us to live happier lives? Or is it like socialism; just some short-term pain that we'll have to bear until  everyone has had the benefit of \\\"re-education\\\" through regular  \\\"seminar\\\" training?  jsh \",\" This can be caused by two one of two things.  The first and easiest to fix is interference from something around the monitor, such as another monitor or other electrical device.  Try moving the system to another location to fix that problem.  Second, because of the scan rate of the monitor, it tends to synchronize with room lights and can cause the interference you are seeing.  Try turning off all lights in the room(s) around the system and see if that helps.  If not, try moving the system somewhere else.  A third solution would be to get a 14\\\" Apple Color Display - It should not have the same problem the 12\\\" Color is more suceptible to.  You can try calling Apple's new support number (in the U.S.) at 1-800-SOS-APPLE. This number is for ANYONE who has questions regarding Macintosh setup and compatibility and just went into effect for this extended support on Monday, April 5, 1993.  Good luck -\",\"I'm posting this for a friend:    I have an immediate need for a polygon-based hidden-line removal     program.  I can deal with any input/output format, but I need to be able     to do perspective views in any orientation and range.    Is there a public-domain hidden-line program around?  It seems like     there should be, but I have not been able to locate one.\",\"Hi,   I have a problem, I hope some of the 'gurus' can help me solve.   Background of the problem:  I have a rectangular mesh in the uv domain, i.e  the mesh is a   mapping of a 3d Bezier patch into 2d. The area in this domain  which is inside a trimming loop had to be rendered. The trimming  loop is a set of 2d Bezier curve segments.  For the sake of notation: the mesh is made up of cells.   My problem is this :  The trimming area has to be split up into individual smaller  cells bounded by the trimming curve segments. If a cell  is wholly inside the area...then it is output as a whole ,  else it is trivially rejected.    Does any body know how thiss can be done, or is there any algo.   somewhere for doing this.   Any help would be appreciated.   Thanks,   Ani.\",\"I am interested in uncovering statistics on Boston Red Sox players from March 1992 - present.  I want to look at changes in batting average, hits, multi-hit games, runs, stolen bases, and on base % during every game.  Where can I find this information?  Do any sports magazines log this info or do I have to go directly to the ball club? Thanks for the info.  Kip \",\"%I say buy out Henderson's contract and let him go bag groceries.  Next  %season, you'll be able to sign him for nothing.  That goes for any bitching %ball player.\",\"  The fourth edition is out, too.  But it's probably also not very high on UCB's \\\"gotta have that\\\" list. \",\"          All right.  Not saying I know any more than the average salesguy, I'll give  your question a shot.   The key issue that I bought my BJ-200 on was ink drying speed.  You really  have to try awful hard to get the BJ-200 ink to smear.  The HP DeskJets need  10-15 seconds to completely dry.  In both cases, however, do not get your  pages wet.  Unlike laser printers, the material on your pages is INK, not  toner.  But that should go without saying.  My PC has very little memory (only 2Meg RAM), so the BJ-200 takes a little  while to print ----- but every application I use takes a while to run.  Once  the computer is solely printing, it purs like a kitten and puts pages out  every 15-30 seconds, depending on how detailed your graphics are.    The BJ-200 can do Windows soft fonts.  I'm assuming that the DeskJet can, or  HP wouldn't sell many......  Size is another factor.  The BJ-200 is much smaller, but the HP is built  like a tank.  I bet the BJ-200 would get damaged first.  Finally, the print quality.  I LOVE the BJ-200's resolution.  It looks like  a good laser quality print.  The HP's I've used.....they look like ink.  Not  as impressive.  \"]],[\"SUBSET\",[\"raw\",\"raw\",\"raw\",\"raw\",\"raw\",\"raw\",\"raw\",\"raw\",\"raw\",\"raw\"]],[\"label\",[\"ABSTAIN\",\"ABSTAIN\",\"ABSTAIN\",\"ABSTAIN\",\"ABSTAIN\",\"ABSTAIN\",\"ABSTAIN\",\"ABSTAIN\",\"ABSTAIN\",\"ABSTAIN\"]]]}}},\"view\":{\"type\":\"object\",\"name\":\"CDSView\",\"id\":\"p1053\",\"attributes\":{\"filter\":{\"type\":\"object\",\"name\":\"AllIndices\",\"id\":\"p1054\"}}},\"columns\":[{\"type\":\"object\",\"name\":\"TableColumn\",\"id\":\"p1043\",\"attributes\":{\"field\":\"text\",\"title\":\"text\",\"formatter\":{\"type\":\"object\",\"name\":\"HTMLTemplateFormatter\",\"id\":\"p1042\",\"attributes\":{\"template\":\"<span href=\\\"#\\\" data-toggle=\\\"tooltip\\\" title=\\\"<%= value %>\\\"><%= value %></span>\"}},\"editor\":{\"type\":\"object\",\"name\":\"CellEditor\",\"id\":\"p1041\"}}},{\"type\":\"object\",\"name\":\"TableColumn\",\"id\":\"p1046\",\"attributes\":{\"field\":\"label\",\"title\":\"label\",\"formatter\":{\"type\":\"object\",\"name\":\"StringFormatter\",\"id\":\"p1047\"},\"editor\":{\"type\":\"object\",\"name\":\"StringEditor\",\"id\":\"p1048\"}}}],\"editable\":true,\"selectable\":\"checkbox\"}}]}};\n",
       "  const render_items = [{\"docid\":\"c26e6cd9-6d4d-4568-af16-fea77727ad56\",\"roots\":{\"p1049\":\"bd4eed3c-48b2-47b0-bbd6-c4a8b1f2cdc5\"},\"root_ids\":[\"p1049\"]}];\n",
       "  root.Bokeh.embed.embed_items_notebook(docs_json, render_items);\n",
       "  }\n",
       "  if (root.Bokeh !== undefined) {\n",
       "    embed_document(root);\n",
       "  } else {\n",
       "    let attempts = 0;\n",
       "    const timer = setInterval(function(root) {\n",
       "      if (root.Bokeh !== undefined) {\n",
       "        clearInterval(timer);\n",
       "        embed_document(root);\n",
       "      } else {\n",
       "        attempts++;\n",
       "        if (attempts > 100) {\n",
       "          clearInterval(timer);\n",
       "          console.log(\"Bokeh: ERROR: Unable to run BokehJS code because BokehJS library is missing\");\n",
       "        }\n",
       "      }\n",
       "    }, 10, root)\n",
       "  }\n",
       "})(window);"
      ],
      "application/vnd.bokehjs_exec.v0+json": ""
     },
     "metadata": {
      "application/vnd.bokehjs_exec.v0+json": {
       "id": "p1049"
      }
     },
     "output_type": "display_data"
    }
   ],
   "source": [
    "dataset._callback_update_selection(dataset.dfs[\"raw\"][:10])\n",
    "\n",
    "show(dataset.sel_table, notebook_url=notebook_url)"
   ]
  },
  {
   "cell_type": "markdown",
   "id": "e910c92c",
   "metadata": {},
   "source": [
    "<br>\n",
    "\n",
    "### **Edit Data Within a Selection**\n",
    "\n",
    "Often the points selected are not perfectly homogeneous, i.e. some outliers belong to a different label from the selected group overall. It would be helpful to `EVICT` them, and `SupervisableDataset` has a button for it.\n",
    "\n",
    "Sometimes you may also wish to edit data values on the fly.  In hover this is called `PATCH`, and there also is a button for it.\n",
    "\n",
    "-   by default, labels can be edited but feature values cannot.\n",
    "\n",
    "Let's plot the forementioned buttons along with the selection table. Toggle any number of rows in the table, then click the button to `EVICT` or `PATCH` those rows:"
   ]
  },
  {
   "cell_type": "code",
   "execution_count": 5,
   "id": "d0073f32",
   "metadata": {
    "execution": {
     "iopub.execute_input": "2023-10-17T01:22:52.227285Z",
     "iopub.status.busy": "2023-10-17T01:22:52.226974Z",
     "iopub.status.idle": "2023-10-17T01:22:52.248145Z",
     "shell.execute_reply": "2023-10-17T01:22:52.247500Z"
    }
   },
   "outputs": [
    {
     "name": "stderr",
     "output_type": "stream",
     "text": [
      "WARNING:bokeh.embed.util:\n",
      "You are generating standalone HTML/JS output, but trying to use real Python\n",
      "callbacks (i.e. with on_change or on_event). This combination cannot work.\n",
      "\n",
      "Only JavaScript callbacks may be used with standalone output. For more\n",
      "information on JavaScript callbacks with Bokeh, see:\n",
      "\n",
      "    https://docs.bokeh.org/en/latest/docs/user_guide/interaction/callbacks.html\n",
      "\n",
      "Alternatively, to use real Python callbacks, a Bokeh server application may\n",
      "be used. For more information on building and running Bokeh applications, see:\n",
      "\n",
      "    https://docs.bokeh.org/en/latest/docs/user_guide/server.html\n",
      "\n"
     ]
    },
    {
     "data": {
      "text/html": [
       "\n",
       "  <div id=\"cb8c4a7b-fb6b-4ba9-a9fe-9d9798b73426\" data-root-id=\"p1058\" style=\"display: contents;\"></div>\n"
      ]
     },
     "metadata": {},
     "output_type": "display_data"
    },
    {
     "data": {
      "application/javascript": [
       "(function(root) {\n",
       "  function embed_document(root) {\n",
       "  const docs_json = {\"da32f57b-e907-4a9f-9cd8-0e03078388cc\":{\"version\":\"3.3.0\",\"title\":\"Bokeh Application\",\"roots\":[{\"type\":\"object\",\"name\":\"Column\",\"id\":\"p1058\",\"attributes\":{\"children\":[{\"type\":\"object\",\"name\":\"Row\",\"id\":\"p1057\",\"attributes\":{\"children\":[{\"type\":\"object\",\"name\":\"Button\",\"id\":\"p1006\",\"attributes\":{\"button_type\":\"primary\",\"label\":\"Evict Rows from Selection\"}},{\"type\":\"object\",\"name\":\"Button\",\"id\":\"p1005\",\"attributes\":{\"button_type\":\"warning\",\"subscribed_events\":{\"type\":\"set\",\"entries\":[\"button_click\"]},\"label\":\"Update Row Values\"}}]}},{\"type\":\"object\",\"name\":\"DataTable\",\"id\":\"p1049\",\"attributes\":{\"source\":{\"type\":\"object\",\"name\":\"ColumnDataSource\",\"id\":\"p1038\",\"attributes\":{\"selected\":{\"type\":\"object\",\"name\":\"Selection\",\"id\":\"p1039\",\"attributes\":{\"indices\":[],\"line_indices\":[]}},\"selection_policy\":{\"type\":\"object\",\"name\":\"UnionRenderers\",\"id\":\"p1040\"},\"data\":{\"type\":\"map\",\"entries\":[[\"text\",[\" Concurrent has a product called RealTimeX (tm) that is a set of real-time extensions to the X Window System.  RealTimeX is currently supported on the Concurrent Series 7000 and Series 8000 with the GA5000 graphics accelerator.  If you need/want more info, let me know.    - sam black  ------------------------------------------------------------------------------- Once you remove the absurdity from human existence, there isn't much left.        __________       /  _______/__      /__/______/  / black@westford.ccur.com    Concurrent /_________/  Computer Corporation\",\"From: Center for Policy Research <cpr> Subject: Poem by Erich Fried    Poem by German-Jewish poet Erich Fried (Holocaust survivor)  Ein Jude an die zionistischen Kaempfer - 1988      von Erich Fried  Was wollt ihr eigentlich ?  Wollt ihr wirklich die uebertreffen die euch niedergetreten haben vor einem Menschenalter in euer eigenes Blut und in euren eigenen Kot ?    *  Wollt ihr die alten Foltern jetzt an andere weitergeben mit allen blutigen dreckigen Einzelheiten mit allem brutalen Genuss die Folterknechte wie unsere Vaeter sie damals erlitten haben ?         *  Wollt jetzt wirklich ihr die neue Gestapo sein die neue Wehrmacht die neue SA and SS und aus den Palaestinensern die neuen Juden machen ?        *  Aber dann will auch ich weil ich damals vor fuenfzig Jahren selbst als ein Judenkind gepeinigt wurde von euren Peinigern ein neuer Jude sein mit diesen neuen Juden zu denen ihr die Palaestinenser macht         *  Und ich will sie zurueckfuehren helfen als freie Menschen in ihr eigenes Land Palaestina aus dem ihr sie vertrieben habt oder in dem ihr sie quaelt ihr Hakenkreuzlehrlinge ihr Narren und Wechselbaelge der Weltgeschichte denen der Davidstern auf euren Fahnen sich immer schneller verwandelt in das verfluchte Zeichen mit den vier Fuessen das ihr nun nicht sehen wollt aber dessen Weg ihr heut geht ! \",\" Fine.  Libertarians and anarchists are not alone in being uncomfortable with the use of state sponsored coercion.  The notion that coercion can be virtually eliminated in a society (or more properly that once it is eliminated on the part of the state it is no longer worth serious  consideration) is a view that is peculiar to libertarians and anarchists.    For example, does \\\"non-initiated force\\\" (coercion) include tax collection? Does it include the minimal level of regulation of commerce envisioned by Adam Smith?  Since coercion can be exercised by actors other than the state, how is the state to deal with it?  Exclusively through after the fact arbitration/legal compulsion?     Well, I must admit that the picture of libertarians as Amway participants is somewhat more reassuring than the idea of them trying to govern a  complex, conflictual, industrial society.  I'd venture to point out,  however, that if libertarians couldn't convince at least 85% of a group  of \\\"seminar participants\\\" to \\\"embrace\\\" their philosophy, their  propaganda skills need to be honed.    Frankly, however, it is no great trick to create a government for a  society in which (almost) everyone is assumed to agree about what is a proper government policy.  Once that is assumed, all sorts of annoying formalities can be dispensed with, elections, police, etc.  And as Mr. Marx said, the state will just wither away.    On the way there, however, would you like to explain how eliminating  virtually all policies that restrain private coercion in the  current society will help us to live happier lives? Or is it like socialism; just some short-term pain that we'll have to bear until  everyone has had the benefit of \\\"re-education\\\" through regular  \\\"seminar\\\" training?  jsh \",\" This can be caused by two one of two things.  The first and easiest to fix is interference from something around the monitor, such as another monitor or other electrical device.  Try moving the system to another location to fix that problem.  Second, because of the scan rate of the monitor, it tends to synchronize with room lights and can cause the interference you are seeing.  Try turning off all lights in the room(s) around the system and see if that helps.  If not, try moving the system somewhere else.  A third solution would be to get a 14\\\" Apple Color Display - It should not have the same problem the 12\\\" Color is more suceptible to.  You can try calling Apple's new support number (in the U.S.) at 1-800-SOS-APPLE. This number is for ANYONE who has questions regarding Macintosh setup and compatibility and just went into effect for this extended support on Monday, April 5, 1993.  Good luck -\",\"I'm posting this for a friend:    I have an immediate need for a polygon-based hidden-line removal     program.  I can deal with any input/output format, but I need to be able     to do perspective views in any orientation and range.    Is there a public-domain hidden-line program around?  It seems like     there should be, but I have not been able to locate one.\",\"Hi,   I have a problem, I hope some of the 'gurus' can help me solve.   Background of the problem:  I have a rectangular mesh in the uv domain, i.e  the mesh is a   mapping of a 3d Bezier patch into 2d. The area in this domain  which is inside a trimming loop had to be rendered. The trimming  loop is a set of 2d Bezier curve segments.  For the sake of notation: the mesh is made up of cells.   My problem is this :  The trimming area has to be split up into individual smaller  cells bounded by the trimming curve segments. If a cell  is wholly inside the area...then it is output as a whole ,  else it is trivially rejected.    Does any body know how thiss can be done, or is there any algo.   somewhere for doing this.   Any help would be appreciated.   Thanks,   Ani.\",\"I am interested in uncovering statistics on Boston Red Sox players from March 1992 - present.  I want to look at changes in batting average, hits, multi-hit games, runs, stolen bases, and on base % during every game.  Where can I find this information?  Do any sports magazines log this info or do I have to go directly to the ball club? Thanks for the info.  Kip \",\"%I say buy out Henderson's contract and let him go bag groceries.  Next  %season, you'll be able to sign him for nothing.  That goes for any bitching %ball player.\",\"  The fourth edition is out, too.  But it's probably also not very high on UCB's \\\"gotta have that\\\" list. \",\"          All right.  Not saying I know any more than the average salesguy, I'll give  your question a shot.   The key issue that I bought my BJ-200 on was ink drying speed.  You really  have to try awful hard to get the BJ-200 ink to smear.  The HP DeskJets need  10-15 seconds to completely dry.  In both cases, however, do not get your  pages wet.  Unlike laser printers, the material on your pages is INK, not  toner.  But that should go without saying.  My PC has very little memory (only 2Meg RAM), so the BJ-200 takes a little  while to print ----- but every application I use takes a while to run.  Once  the computer is solely printing, it purs like a kitten and puts pages out  every 15-30 seconds, depending on how detailed your graphics are.    The BJ-200 can do Windows soft fonts.  I'm assuming that the DeskJet can, or  HP wouldn't sell many......  Size is another factor.  The BJ-200 is much smaller, but the HP is built  like a tank.  I bet the BJ-200 would get damaged first.  Finally, the print quality.  I LOVE the BJ-200's resolution.  It looks like  a good laser quality print.  The HP's I've used.....they look like ink.  Not  as impressive.  \"]],[\"SUBSET\",[\"raw\",\"raw\",\"raw\",\"raw\",\"raw\",\"raw\",\"raw\",\"raw\",\"raw\",\"raw\"]],[\"label\",[\"ABSTAIN\",\"ABSTAIN\",\"ABSTAIN\",\"ABSTAIN\",\"ABSTAIN\",\"ABSTAIN\",\"ABSTAIN\",\"ABSTAIN\",\"ABSTAIN\",\"ABSTAIN\"]]]}}},\"view\":{\"type\":\"object\",\"name\":\"CDSView\",\"id\":\"p1053\",\"attributes\":{\"filter\":{\"type\":\"object\",\"name\":\"AllIndices\",\"id\":\"p1054\"}}},\"columns\":[{\"type\":\"object\",\"name\":\"TableColumn\",\"id\":\"p1043\",\"attributes\":{\"field\":\"text\",\"title\":\"text\",\"formatter\":{\"type\":\"object\",\"name\":\"HTMLTemplateFormatter\",\"id\":\"p1042\",\"attributes\":{\"template\":\"<span href=\\\"#\\\" data-toggle=\\\"tooltip\\\" title=\\\"<%= value %>\\\"><%= value %></span>\"}},\"editor\":{\"type\":\"object\",\"name\":\"CellEditor\",\"id\":\"p1041\"}}},{\"type\":\"object\",\"name\":\"TableColumn\",\"id\":\"p1046\",\"attributes\":{\"field\":\"label\",\"title\":\"label\",\"formatter\":{\"type\":\"object\",\"name\":\"StringFormatter\",\"id\":\"p1047\"},\"editor\":{\"type\":\"object\",\"name\":\"StringEditor\",\"id\":\"p1048\"}}}],\"editable\":true,\"selectable\":\"checkbox\"}}]}}]}};\n",
       "  const render_items = [{\"docid\":\"da32f57b-e907-4a9f-9cd8-0e03078388cc\",\"roots\":{\"p1058\":\"cb8c4a7b-fb6b-4ba9-a9fe-9d9798b73426\"},\"root_ids\":[\"p1058\"]}];\n",
       "  root.Bokeh.embed.embed_items_notebook(docs_json, render_items);\n",
       "  }\n",
       "  if (root.Bokeh !== undefined) {\n",
       "    embed_document(root);\n",
       "  } else {\n",
       "    let attempts = 0;\n",
       "    const timer = setInterval(function(root) {\n",
       "      if (root.Bokeh !== undefined) {\n",
       "        clearInterval(timer);\n",
       "        embed_document(root);\n",
       "      } else {\n",
       "        attempts++;\n",
       "        if (attempts > 100) {\n",
       "          clearInterval(timer);\n",
       "          console.log(\"Bokeh: ERROR: Unable to run BokehJS code because BokehJS library is missing\");\n",
       "        }\n",
       "      }\n",
       "    }, 10, root)\n",
       "  }\n",
       "})(window);"
      ],
      "application/vnd.bokehjs_exec.v0+json": ""
     },
     "metadata": {
      "application/vnd.bokehjs_exec.v0+json": {
       "id": "p1058"
      }
     },
     "output_type": "display_data"
    }
   ],
   "source": [
    "show(column(\n",
    "    row(\n",
    "        dataset.selection_evictor,\n",
    "        dataset.selection_patcher,\n",
    "    ),\n",
    "    dataset.sel_table,\n",
    "), notebook_url=notebook_url)"
   ]
  },
  {
   "cell_type": "markdown",
   "id": "914fcb74",
   "metadata": {},
   "source": [
    "<br>"
   ]
  }
 ],
 "metadata": {
  "language_info": {
   "codemirror_mode": {
    "name": "ipython",
    "version": 3
   },
   "file_extension": ".py",
   "mimetype": "text/x-python",
   "name": "python",
   "nbconvert_exporter": "python",
   "pygments_lexer": "ipython3",
   "version": "3.9.18"
  }
 },
 "nbformat": 4,
 "nbformat_minor": 5
}
