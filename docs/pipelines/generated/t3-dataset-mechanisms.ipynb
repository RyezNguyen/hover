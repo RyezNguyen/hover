{
 "cells": [
  {
   "cell_type": "markdown",
   "id": "7553d255",
   "metadata": {},
   "source": [
    "> `SupervisableDataset` holds your data throughout the labeling process.\n",
    ">\n",
    "> :speedboat: Let's take a look at its core mechanisms.\n",
    "\n",
    "-   <details open><summary>This page addresses **single components** of `hover`</summary>\n",
    "    We are using code snippets to pick out parts of the annotation interface, so that the documentation can explain what they do.\n",
    "\n",
    "    -   Please be aware that this is NOT how one would typically use `hover`.\n",
    "    -   Typical usage deals with [recipes](../../tutorial/t1-active-learning) where the individual parts have been tied together.\n",
    "\n",
    "</details>\n",
    "\n",
    "-   <details open><summary>Dependencies for {== local environments ==}</summary>\n",
    "    When you run the code locally, you may need to install additional packages.\n",
    "\n",
    "    To render `bokeh` plots in Jupyter, you need:\n",
    "```shell\n",
    "    pip install jupyter_bokeh\n",
    "```\n",
    "\n",
    "    If you are using JupyterLab older than 3.0, use this instead ([reference](https://pypi.org/project/jupyter-bokeh/)):\n",
    "```shell\n",
    "    jupyter labextension install @jupyter-widgets/jupyterlab-manager\n",
    "    jupyter labextension install @bokeh/jupyter_bokeh\n",
    "```\n",
    "\n",
    "</details>\n",
    "\n",
    "## **Data Subsets**\n",
    "\n",
    "We place unlabeled data and labeled data in different subsets: \"raw\", \"train\", \"dev\", and \"test\". Unlabeled data start from the \"raw\" subset, and can be transferred to other subsets after it gets labeled.\n",
    "\n",
    "`SupervisableDataset` uses a \"population table\", `dataset.pop_table`, to show the size of each subset:"
   ]
  },
  {
   "cell_type": "code",
   "execution_count": 1,
   "id": "a6cf19ac",
   "metadata": {
    "execution": {
     "iopub.execute_input": "2022-09-06T02:51:47.304789Z",
     "iopub.status.busy": "2022-09-06T02:51:47.304451Z",
     "iopub.status.idle": "2022-09-06T02:51:48.840774Z",
     "shell.execute_reply": "2022-09-06T02:51:48.839827Z"
    }
   },
   "outputs": [
    {
     "data": {
      "text/html": [
       "<pre style=\"white-space:pre;overflow-x:auto;line-height:normal;font-family:Menlo,'DejaVu Sans Mono',consolas,'Courier New',monospace\"><span style=\"color: #000080; text-decoration-color: #000080\">🔵 SupervisableTextDataset: Initializing</span><span style=\"color: #808000; text-decoration-color: #808000\">...</span>\n",
       "</pre>\n"
      ],
      "text/plain": [
       "\u001b[34m🔵 SupervisableTextDataset: Initializing\u001b[0m\u001b[33m...\u001b[0m\n"
      ]
     },
     "metadata": {},
     "output_type": "display_data"
    },
    {
     "data": {
      "text/html": [
       "<pre style=\"white-space:pre;overflow-x:auto;line-height:normal;font-family:Menlo,'DejaVu Sans Mono',consolas,'Courier New',monospace\"><span style=\"color: #000080; text-decoration-color: #000080\">🔵 SupervisableTextDataset: Deduplicating</span><span style=\"color: #808000; text-decoration-color: #808000\">...</span>\n",
       "</pre>\n"
      ],
      "text/plain": [
       "\u001b[34m🔵 SupervisableTextDataset: Deduplicating\u001b[0m\u001b[33m...\u001b[0m\n"
      ]
     },
     "metadata": {},
     "output_type": "display_data"
    },
    {
     "data": {
      "text/html": [
       "<pre style=\"white-space:pre;overflow-x:auto;line-height:normal;font-family:Menlo,'DejaVu Sans Mono',consolas,'Courier New',monospace\"><span style=\"color: #000080; text-decoration-color: #000080\">🔵 SupervisableTextDataset: --subset raw rows: </span><span style=\"color: #008080; text-decoration-color: #008080; font-weight: bold\">400</span><span style=\"color: #000080; text-decoration-color: #000080\"> -&gt; </span><span style=\"color: #008080; text-decoration-color: #008080; font-weight: bold\">371</span><span style=\"color: #000080; text-decoration-color: #000080\">.</span>\n",
       "</pre>\n"
      ],
      "text/plain": [
       "\u001b[34m🔵 SupervisableTextDataset: --subset raw rows: \u001b[0m\u001b[1;36m400\u001b[0m\u001b[34m -> \u001b[0m\u001b[1;36m371\u001b[0m\u001b[34m.\u001b[0m\n"
      ]
     },
     "metadata": {},
     "output_type": "display_data"
    },
    {
     "data": {
      "text/html": [
       "<pre style=\"white-space:pre;overflow-x:auto;line-height:normal;font-family:Menlo,'DejaVu Sans Mono',consolas,'Courier New',monospace\"><span style=\"color: #000080; text-decoration-color: #000080\">🔵 SupervisableTextDataset: --subset train rows: </span><span style=\"color: #008080; text-decoration-color: #008080; font-weight: bold\">400</span><span style=\"color: #000080; text-decoration-color: #000080\"> -&gt; </span><span style=\"color: #008080; text-decoration-color: #008080; font-weight: bold\">383</span><span style=\"color: #000080; text-decoration-color: #000080\">.</span>\n",
       "</pre>\n"
      ],
      "text/plain": [
       "\u001b[34m🔵 SupervisableTextDataset: --subset train rows: \u001b[0m\u001b[1;36m400\u001b[0m\u001b[34m -> \u001b[0m\u001b[1;36m383\u001b[0m\u001b[34m.\u001b[0m\n"
      ]
     },
     "metadata": {},
     "output_type": "display_data"
    },
    {
     "data": {
      "text/html": [
       "<pre style=\"white-space:pre;overflow-x:auto;line-height:normal;font-family:Menlo,'DejaVu Sans Mono',consolas,'Courier New',monospace\"><span style=\"color: #000080; text-decoration-color: #000080\">🔵 SupervisableTextDataset: --subset dev rows: </span><span style=\"color: #008080; text-decoration-color: #008080; font-weight: bold\">100</span><span style=\"color: #000080; text-decoration-color: #000080\"> -&gt; </span><span style=\"color: #008080; text-decoration-color: #008080; font-weight: bold\">97</span><span style=\"color: #000080; text-decoration-color: #000080\">.</span>\n",
       "</pre>\n"
      ],
      "text/plain": [
       "\u001b[34m🔵 SupervisableTextDataset: --subset dev rows: \u001b[0m\u001b[1;36m100\u001b[0m\u001b[34m -> \u001b[0m\u001b[1;36m97\u001b[0m\u001b[34m.\u001b[0m\n"
      ]
     },
     "metadata": {},
     "output_type": "display_data"
    },
    {
     "data": {
      "text/html": [
       "<pre style=\"white-space:pre;overflow-x:auto;line-height:normal;font-family:Menlo,'DejaVu Sans Mono',consolas,'Courier New',monospace\"><span style=\"color: #000080; text-decoration-color: #000080\">🔵 SupervisableTextDataset: --subset test rows: </span><span style=\"color: #008080; text-decoration-color: #008080; font-weight: bold\">100</span><span style=\"color: #000080; text-decoration-color: #000080\"> -&gt; </span><span style=\"color: #008080; text-decoration-color: #008080; font-weight: bold\">98</span><span style=\"color: #000080; text-decoration-color: #000080\">.</span>\n",
       "</pre>\n"
      ],
      "text/plain": [
       "\u001b[34m🔵 SupervisableTextDataset: --subset test rows: \u001b[0m\u001b[1;36m100\u001b[0m\u001b[34m -> \u001b[0m\u001b[1;36m98\u001b[0m\u001b[34m.\u001b[0m\n"
      ]
     },
     "metadata": {},
     "output_type": "display_data"
    },
    {
     "data": {
      "text/html": [
       "<pre style=\"white-space:pre;overflow-x:auto;line-height:normal;font-family:Menlo,'DejaVu Sans Mono',consolas,'Courier New',monospace\"><span style=\"color: #008000; text-decoration-color: #008000\">🟢 SupervisableTextDataset: Set up label encoder/decoder with </span><span style=\"color: #008080; text-decoration-color: #008080; font-weight: bold\">20</span><span style=\"color: #008000; text-decoration-color: #008000\"> classes.</span>\n",
       "</pre>\n"
      ],
      "text/plain": [
       "\u001b[32m🟢 SupervisableTextDataset: Set up label encoder/decoder with \u001b[0m\u001b[1;36m20\u001b[0m\u001b[32m classes.\u001b[0m\n"
      ]
     },
     "metadata": {},
     "output_type": "display_data"
    },
    {
     "data": {
      "text/html": [
       "<pre style=\"white-space:pre;overflow-x:auto;line-height:normal;font-family:Menlo,'DejaVu Sans Mono',consolas,'Courier New',monospace\"><span style=\"color: #008000; text-decoration-color: #008000\">🟢 SupervisableTextDataset: Population updater: latest population with </span><span style=\"color: #008080; text-decoration-color: #008080; font-weight: bold\">20</span><span style=\"color: #008000; text-decoration-color: #008000\"> classes.</span>\n",
       "</pre>\n"
      ],
      "text/plain": [
       "\u001b[32m🟢 SupervisableTextDataset: Population updater: latest population with \u001b[0m\u001b[1;36m20\u001b[0m\u001b[32m classes.\u001b[0m\n"
      ]
     },
     "metadata": {},
     "output_type": "display_data"
    },
    {
     "data": {
      "text/html": [
       "<pre style=\"white-space:pre;overflow-x:auto;line-height:normal;font-family:Menlo,'DejaVu Sans Mono',consolas,'Courier New',monospace\"><span style=\"color: #008000; text-decoration-color: #008000\">🟢 SupervisableTextDataset: SupervisableTextDataset: finished initialization.</span>\n",
       "</pre>\n"
      ],
      "text/plain": [
       "\u001b[32m🟢 SupervisableTextDataset: SupervisableTextDataset: finished initialization.\u001b[0m\n"
      ]
     },
     "metadata": {},
     "output_type": "display_data"
    }
   ],
   "source": [
    "from hover.core.dataset import SupervisableTextDataset\n",
    "import pandas as pd\n",
    "\n",
    "raw_csv_path = \"https://raw.githubusercontent.com/phurwicz/hover-gallery/main/0.5.0/20_newsgroups_raw.csv\"\n",
    "train_csv_path = \"https://raw.githubusercontent.com/phurwicz/hover-gallery/main/0.5.0/20_newsgroups_train.csv\"\n",
    "\n",
    "# for fast, low-memory demonstration purpose, sample the data\n",
    "df_raw = pd.read_csv(raw_csv_path).sample(400)\n",
    "df_raw[\"SUBSET\"] = \"raw\"\n",
    "df_train = pd.read_csv(train_csv_path).sample(400)\n",
    "df_train[\"SUBSET\"] = \"train\"\n",
    "df_dev = pd.read_csv(train_csv_path).sample(100)\n",
    "df_dev[\"SUBSET\"] = \"dev\"\n",
    "df_test = pd.read_csv(train_csv_path).sample(100)\n",
    "df_test[\"SUBSET\"] = \"test\"\n",
    "\n",
    "# build overall dataframe and ensure feature type\n",
    "df = pd.concat([df_raw, df_train, df_dev, df_test])\n",
    "df[\"text\"] = df[\"text\"].astype(str)\n",
    "\n",
    "# this class stores the dataset throught the labeling process\n",
    "dataset = SupervisableTextDataset.from_pandas(df, feature_key=\"text\", label_key=\"label\")"
   ]
  },
  {
   "cell_type": "markdown",
   "id": "b0a6a69f",
   "metadata": {},
   "source": [
    "<br>"
   ]
  },
  {
   "cell_type": "code",
   "execution_count": 2,
   "id": "85d6db66",
   "metadata": {
    "execution": {
     "iopub.execute_input": "2022-09-06T02:51:48.847501Z",
     "iopub.status.busy": "2022-09-06T02:51:48.846963Z",
     "iopub.status.idle": "2022-09-06T02:51:48.900612Z",
     "shell.execute_reply": "2022-09-06T02:51:48.899620Z"
    }
   },
   "outputs": [
    {
     "data": {
      "text/html": [
       "<div class=\"bk-root\">\n",
       "        <a href=\"https://bokeh.org\" target=\"_blank\" class=\"bk-logo bk-logo-small bk-logo-notebook\"></a>\n",
       "        <span id=\"1029\">Loading BokehJS ...</span>\n",
       "    </div>\n"
      ]
     },
     "metadata": {},
     "output_type": "display_data"
    },
    {
     "data": {
      "application/javascript": [
       "(function(root) {\n",
       "  function now() {\n",
       "    return new Date();\n",
       "  }\n",
       "\n",
       "  const force = true;\n",
       "\n",
       "  if (typeof root._bokeh_onload_callbacks === \"undefined\" || force === true) {\n",
       "    root._bokeh_onload_callbacks = [];\n",
       "    root._bokeh_is_loading = undefined;\n",
       "  }\n",
       "\n",
       "const JS_MIME_TYPE = 'application/javascript';\n",
       "  const HTML_MIME_TYPE = 'text/html';\n",
       "  const EXEC_MIME_TYPE = 'application/vnd.bokehjs_exec.v0+json';\n",
       "  const CLASS_NAME = 'output_bokeh rendered_html';\n",
       "\n",
       "  /**\n",
       "   * Render data to the DOM node\n",
       "   */\n",
       "  function render(props, node) {\n",
       "    const script = document.createElement(\"script\");\n",
       "    node.appendChild(script);\n",
       "  }\n",
       "\n",
       "  /**\n",
       "   * Handle when an output is cleared or removed\n",
       "   */\n",
       "  function handleClearOutput(event, handle) {\n",
       "    const cell = handle.cell;\n",
       "\n",
       "    const id = cell.output_area._bokeh_element_id;\n",
       "    const server_id = cell.output_area._bokeh_server_id;\n",
       "    // Clean up Bokeh references\n",
       "    if (id != null && id in Bokeh.index) {\n",
       "      Bokeh.index[id].model.document.clear();\n",
       "      delete Bokeh.index[id];\n",
       "    }\n",
       "\n",
       "    if (server_id !== undefined) {\n",
       "      // Clean up Bokeh references\n",
       "      const cmd_clean = \"from bokeh.io.state import curstate; print(curstate().uuid_to_server['\" + server_id + \"'].get_sessions()[0].document.roots[0]._id)\";\n",
       "      cell.notebook.kernel.execute(cmd_clean, {\n",
       "        iopub: {\n",
       "          output: function(msg) {\n",
       "            const id = msg.content.text.trim();\n",
       "            if (id in Bokeh.index) {\n",
       "              Bokeh.index[id].model.document.clear();\n",
       "              delete Bokeh.index[id];\n",
       "            }\n",
       "          }\n",
       "        }\n",
       "      });\n",
       "      // Destroy server and session\n",
       "      const cmd_destroy = \"import bokeh.io.notebook as ion; ion.destroy_server('\" + server_id + \"')\";\n",
       "      cell.notebook.kernel.execute(cmd_destroy);\n",
       "    }\n",
       "  }\n",
       "\n",
       "  /**\n",
       "   * Handle when a new output is added\n",
       "   */\n",
       "  function handleAddOutput(event, handle) {\n",
       "    const output_area = handle.output_area;\n",
       "    const output = handle.output;\n",
       "\n",
       "    // limit handleAddOutput to display_data with EXEC_MIME_TYPE content only\n",
       "    if ((output.output_type != \"display_data\") || (!Object.prototype.hasOwnProperty.call(output.data, EXEC_MIME_TYPE))) {\n",
       "      return\n",
       "    }\n",
       "\n",
       "    const toinsert = output_area.element.find(\".\" + CLASS_NAME.split(' ')[0]);\n",
       "\n",
       "    if (output.metadata[EXEC_MIME_TYPE][\"id\"] !== undefined) {\n",
       "      toinsert[toinsert.length - 1].firstChild.textContent = output.data[JS_MIME_TYPE];\n",
       "      // store reference to embed id on output_area\n",
       "      output_area._bokeh_element_id = output.metadata[EXEC_MIME_TYPE][\"id\"];\n",
       "    }\n",
       "    if (output.metadata[EXEC_MIME_TYPE][\"server_id\"] !== undefined) {\n",
       "      const bk_div = document.createElement(\"div\");\n",
       "      bk_div.innerHTML = output.data[HTML_MIME_TYPE];\n",
       "      const script_attrs = bk_div.children[0].attributes;\n",
       "      for (let i = 0; i < script_attrs.length; i++) {\n",
       "        toinsert[toinsert.length - 1].firstChild.setAttribute(script_attrs[i].name, script_attrs[i].value);\n",
       "        toinsert[toinsert.length - 1].firstChild.textContent = bk_div.children[0].textContent\n",
       "      }\n",
       "      // store reference to server id on output_area\n",
       "      output_area._bokeh_server_id = output.metadata[EXEC_MIME_TYPE][\"server_id\"];\n",
       "    }\n",
       "  }\n",
       "\n",
       "  function register_renderer(events, OutputArea) {\n",
       "\n",
       "    function append_mime(data, metadata, element) {\n",
       "      // create a DOM node to render to\n",
       "      const toinsert = this.create_output_subarea(\n",
       "        metadata,\n",
       "        CLASS_NAME,\n",
       "        EXEC_MIME_TYPE\n",
       "      );\n",
       "      this.keyboard_manager.register_events(toinsert);\n",
       "      // Render to node\n",
       "      const props = {data: data, metadata: metadata[EXEC_MIME_TYPE]};\n",
       "      render(props, toinsert[toinsert.length - 1]);\n",
       "      element.append(toinsert);\n",
       "      return toinsert\n",
       "    }\n",
       "\n",
       "    /* Handle when an output is cleared or removed */\n",
       "    events.on('clear_output.CodeCell', handleClearOutput);\n",
       "    events.on('delete.Cell', handleClearOutput);\n",
       "\n",
       "    /* Handle when a new output is added */\n",
       "    events.on('output_added.OutputArea', handleAddOutput);\n",
       "\n",
       "    /**\n",
       "     * Register the mime type and append_mime function with output_area\n",
       "     */\n",
       "    OutputArea.prototype.register_mime_type(EXEC_MIME_TYPE, append_mime, {\n",
       "      /* Is output safe? */\n",
       "      safe: true,\n",
       "      /* Index of renderer in `output_area.display_order` */\n",
       "      index: 0\n",
       "    });\n",
       "  }\n",
       "\n",
       "  // register the mime type if in Jupyter Notebook environment and previously unregistered\n",
       "  if (root.Jupyter !== undefined) {\n",
       "    const events = require('base/js/events');\n",
       "    const OutputArea = require('notebook/js/outputarea').OutputArea;\n",
       "\n",
       "    if (OutputArea.prototype.mime_types().indexOf(EXEC_MIME_TYPE) == -1) {\n",
       "      register_renderer(events, OutputArea);\n",
       "    }\n",
       "  }\n",
       "  if (typeof (root._bokeh_timeout) === \"undefined\" || force === true) {\n",
       "    root._bokeh_timeout = Date.now() + 5000;\n",
       "    root._bokeh_failed_load = false;\n",
       "  }\n",
       "\n",
       "  const NB_LOAD_WARNING = {'data': {'text/html':\n",
       "     \"<div style='background-color: #fdd'>\\n\"+\n",
       "     \"<p>\\n\"+\n",
       "     \"BokehJS does not appear to have successfully loaded. If loading BokehJS from CDN, this \\n\"+\n",
       "     \"may be due to a slow or bad network connection. Possible fixes:\\n\"+\n",
       "     \"</p>\\n\"+\n",
       "     \"<ul>\\n\"+\n",
       "     \"<li>re-rerun `output_notebook()` to attempt to load from CDN again, or</li>\\n\"+\n",
       "     \"<li>use INLINE resources instead, as so:</li>\\n\"+\n",
       "     \"</ul>\\n\"+\n",
       "     \"<code>\\n\"+\n",
       "     \"from bokeh.resources import INLINE\\n\"+\n",
       "     \"output_notebook(resources=INLINE)\\n\"+\n",
       "     \"</code>\\n\"+\n",
       "     \"</div>\"}};\n",
       "\n",
       "  function display_loaded() {\n",
       "    const el = document.getElementById(\"1029\");\n",
       "    if (el != null) {\n",
       "      el.textContent = \"BokehJS is loading...\";\n",
       "    }\n",
       "    if (root.Bokeh !== undefined) {\n",
       "      if (el != null) {\n",
       "        el.textContent = \"BokehJS \" + root.Bokeh.version + \" successfully loaded.\";\n",
       "      }\n",
       "    } else if (Date.now() < root._bokeh_timeout) {\n",
       "      setTimeout(display_loaded, 100)\n",
       "    }\n",
       "  }\n",
       "\n",
       "  function run_callbacks() {\n",
       "    try {\n",
       "      root._bokeh_onload_callbacks.forEach(function(callback) {\n",
       "        if (callback != null)\n",
       "          callback();\n",
       "      });\n",
       "    } finally {\n",
       "      delete root._bokeh_onload_callbacks\n",
       "    }\n",
       "    console.debug(\"Bokeh: all callbacks have finished\");\n",
       "  }\n",
       "\n",
       "  function load_libs(css_urls, js_urls, callback) {\n",
       "    if (css_urls == null) css_urls = [];\n",
       "    if (js_urls == null) js_urls = [];\n",
       "\n",
       "    root._bokeh_onload_callbacks.push(callback);\n",
       "    if (root._bokeh_is_loading > 0) {\n",
       "      console.debug(\"Bokeh: BokehJS is being loaded, scheduling callback at\", now());\n",
       "      return null;\n",
       "    }\n",
       "    if (js_urls == null || js_urls.length === 0) {\n",
       "      run_callbacks();\n",
       "      return null;\n",
       "    }\n",
       "    console.debug(\"Bokeh: BokehJS not loaded, scheduling load and callback at\", now());\n",
       "    root._bokeh_is_loading = css_urls.length + js_urls.length;\n",
       "\n",
       "    function on_load() {\n",
       "      root._bokeh_is_loading--;\n",
       "      if (root._bokeh_is_loading === 0) {\n",
       "        console.debug(\"Bokeh: all BokehJS libraries/stylesheets loaded\");\n",
       "        run_callbacks()\n",
       "      }\n",
       "    }\n",
       "\n",
       "    function on_error(url) {\n",
       "      console.error(\"failed to load \" + url);\n",
       "    }\n",
       "\n",
       "    for (let i = 0; i < css_urls.length; i++) {\n",
       "      const url = css_urls[i];\n",
       "      const element = document.createElement(\"link\");\n",
       "      element.onload = on_load;\n",
       "      element.onerror = on_error.bind(null, url);\n",
       "      element.rel = \"stylesheet\";\n",
       "      element.type = \"text/css\";\n",
       "      element.href = url;\n",
       "      console.debug(\"Bokeh: injecting link tag for BokehJS stylesheet: \", url);\n",
       "      document.body.appendChild(element);\n",
       "    }\n",
       "\n",
       "    for (let i = 0; i < js_urls.length; i++) {\n",
       "      const url = js_urls[i];\n",
       "      const element = document.createElement('script');\n",
       "      element.onload = on_load;\n",
       "      element.onerror = on_error.bind(null, url);\n",
       "      element.async = false;\n",
       "      element.src = url;\n",
       "      console.debug(\"Bokeh: injecting script tag for BokehJS library: \", url);\n",
       "      document.head.appendChild(element);\n",
       "    }\n",
       "  };\n",
       "\n",
       "  function inject_raw_css(css) {\n",
       "    const element = document.createElement(\"style\");\n",
       "    element.appendChild(document.createTextNode(css));\n",
       "    document.body.appendChild(element);\n",
       "  }\n",
       "\n",
       "  const js_urls = [\"https://cdn.bokeh.org/bokeh/release/bokeh-2.4.3.min.js\", \"https://cdn.bokeh.org/bokeh/release/bokeh-gl-2.4.3.min.js\", \"https://cdn.bokeh.org/bokeh/release/bokeh-widgets-2.4.3.min.js\", \"https://cdn.bokeh.org/bokeh/release/bokeh-tables-2.4.3.min.js\", \"https://cdn.bokeh.org/bokeh/release/bokeh-mathjax-2.4.3.min.js\"];\n",
       "  const css_urls = [];\n",
       "\n",
       "  const inline_js = [    function(Bokeh) {\n",
       "      Bokeh.set_log_level(\"info\");\n",
       "    },\n",
       "function(Bokeh) {\n",
       "    }\n",
       "  ];\n",
       "\n",
       "  function run_inline_js() {\n",
       "    if (root.Bokeh !== undefined || force === true) {\n",
       "          for (let i = 0; i < inline_js.length; i++) {\n",
       "      inline_js[i].call(root, root.Bokeh);\n",
       "    }\n",
       "if (force === true) {\n",
       "        display_loaded();\n",
       "      }} else if (Date.now() < root._bokeh_timeout) {\n",
       "      setTimeout(run_inline_js, 100);\n",
       "    } else if (!root._bokeh_failed_load) {\n",
       "      console.log(\"Bokeh: BokehJS failed to load within specified timeout.\");\n",
       "      root._bokeh_failed_load = true;\n",
       "    } else if (force !== true) {\n",
       "      const cell = $(document.getElementById(\"1029\")).parents('.cell').data().cell;\n",
       "      cell.output_area.append_execute_result(NB_LOAD_WARNING)\n",
       "    }\n",
       "  }\n",
       "\n",
       "  if (root._bokeh_is_loading === 0) {\n",
       "    console.debug(\"Bokeh: BokehJS loaded, going straight to plotting\");\n",
       "    run_inline_js();\n",
       "  } else {\n",
       "    load_libs(css_urls, js_urls, function() {\n",
       "      console.debug(\"Bokeh: BokehJS plotting callback run at\", now());\n",
       "      run_inline_js();\n",
       "    });\n",
       "  }\n",
       "}(window));"
      ],
      "application/vnd.bokehjs_load.v0+json": "(function(root) {\n  function now() {\n    return new Date();\n  }\n\n  const force = true;\n\n  if (typeof root._bokeh_onload_callbacks === \"undefined\" || force === true) {\n    root._bokeh_onload_callbacks = [];\n    root._bokeh_is_loading = undefined;\n  }\n\n\n  if (typeof (root._bokeh_timeout) === \"undefined\" || force === true) {\n    root._bokeh_timeout = Date.now() + 5000;\n    root._bokeh_failed_load = false;\n  }\n\n  const NB_LOAD_WARNING = {'data': {'text/html':\n     \"<div style='background-color: #fdd'>\\n\"+\n     \"<p>\\n\"+\n     \"BokehJS does not appear to have successfully loaded. If loading BokehJS from CDN, this \\n\"+\n     \"may be due to a slow or bad network connection. Possible fixes:\\n\"+\n     \"</p>\\n\"+\n     \"<ul>\\n\"+\n     \"<li>re-rerun `output_notebook()` to attempt to load from CDN again, or</li>\\n\"+\n     \"<li>use INLINE resources instead, as so:</li>\\n\"+\n     \"</ul>\\n\"+\n     \"<code>\\n\"+\n     \"from bokeh.resources import INLINE\\n\"+\n     \"output_notebook(resources=INLINE)\\n\"+\n     \"</code>\\n\"+\n     \"</div>\"}};\n\n  function display_loaded() {\n    const el = document.getElementById(\"1029\");\n    if (el != null) {\n      el.textContent = \"BokehJS is loading...\";\n    }\n    if (root.Bokeh !== undefined) {\n      if (el != null) {\n        el.textContent = \"BokehJS \" + root.Bokeh.version + \" successfully loaded.\";\n      }\n    } else if (Date.now() < root._bokeh_timeout) {\n      setTimeout(display_loaded, 100)\n    }\n  }\n\n  function run_callbacks() {\n    try {\n      root._bokeh_onload_callbacks.forEach(function(callback) {\n        if (callback != null)\n          callback();\n      });\n    } finally {\n      delete root._bokeh_onload_callbacks\n    }\n    console.debug(\"Bokeh: all callbacks have finished\");\n  }\n\n  function load_libs(css_urls, js_urls, callback) {\n    if (css_urls == null) css_urls = [];\n    if (js_urls == null) js_urls = [];\n\n    root._bokeh_onload_callbacks.push(callback);\n    if (root._bokeh_is_loading > 0) {\n      console.debug(\"Bokeh: BokehJS is being loaded, scheduling callback at\", now());\n      return null;\n    }\n    if (js_urls == null || js_urls.length === 0) {\n      run_callbacks();\n      return null;\n    }\n    console.debug(\"Bokeh: BokehJS not loaded, scheduling load and callback at\", now());\n    root._bokeh_is_loading = css_urls.length + js_urls.length;\n\n    function on_load() {\n      root._bokeh_is_loading--;\n      if (root._bokeh_is_loading === 0) {\n        console.debug(\"Bokeh: all BokehJS libraries/stylesheets loaded\");\n        run_callbacks()\n      }\n    }\n\n    function on_error(url) {\n      console.error(\"failed to load \" + url);\n    }\n\n    for (let i = 0; i < css_urls.length; i++) {\n      const url = css_urls[i];\n      const element = document.createElement(\"link\");\n      element.onload = on_load;\n      element.onerror = on_error.bind(null, url);\n      element.rel = \"stylesheet\";\n      element.type = \"text/css\";\n      element.href = url;\n      console.debug(\"Bokeh: injecting link tag for BokehJS stylesheet: \", url);\n      document.body.appendChild(element);\n    }\n\n    for (let i = 0; i < js_urls.length; i++) {\n      const url = js_urls[i];\n      const element = document.createElement('script');\n      element.onload = on_load;\n      element.onerror = on_error.bind(null, url);\n      element.async = false;\n      element.src = url;\n      console.debug(\"Bokeh: injecting script tag for BokehJS library: \", url);\n      document.head.appendChild(element);\n    }\n  };\n\n  function inject_raw_css(css) {\n    const element = document.createElement(\"style\");\n    element.appendChild(document.createTextNode(css));\n    document.body.appendChild(element);\n  }\n\n  const js_urls = [\"https://cdn.bokeh.org/bokeh/release/bokeh-2.4.3.min.js\", \"https://cdn.bokeh.org/bokeh/release/bokeh-gl-2.4.3.min.js\", \"https://cdn.bokeh.org/bokeh/release/bokeh-widgets-2.4.3.min.js\", \"https://cdn.bokeh.org/bokeh/release/bokeh-tables-2.4.3.min.js\", \"https://cdn.bokeh.org/bokeh/release/bokeh-mathjax-2.4.3.min.js\"];\n  const css_urls = [];\n\n  const inline_js = [    function(Bokeh) {\n      Bokeh.set_log_level(\"info\");\n    },\nfunction(Bokeh) {\n    }\n  ];\n\n  function run_inline_js() {\n    if (root.Bokeh !== undefined || force === true) {\n          for (let i = 0; i < inline_js.length; i++) {\n      inline_js[i].call(root, root.Bokeh);\n    }\nif (force === true) {\n        display_loaded();\n      }} else if (Date.now() < root._bokeh_timeout) {\n      setTimeout(run_inline_js, 100);\n    } else if (!root._bokeh_failed_load) {\n      console.log(\"Bokeh: BokehJS failed to load within specified timeout.\");\n      root._bokeh_failed_load = true;\n    } else if (force !== true) {\n      const cell = $(document.getElementById(\"1029\")).parents('.cell').data().cell;\n      cell.output_area.append_execute_result(NB_LOAD_WARNING)\n    }\n  }\n\n  if (root._bokeh_is_loading === 0) {\n    console.debug(\"Bokeh: BokehJS loaded, going straight to plotting\");\n    run_inline_js();\n  } else {\n    load_libs(css_urls, js_urls, function() {\n      console.debug(\"Bokeh: BokehJS plotting callback run at\", now());\n      run_inline_js();\n    });\n  }\n}(window));"
     },
     "metadata": {},
     "output_type": "display_data"
    },
    {
     "data": {
      "text/html": [
       "\n",
       "  <div class=\"bk-root\" id=\"1126ba5b-196d-4f0b-bc7a-f37b028ae8b1\" data-root-id=\"1018\"></div>\n"
      ]
     },
     "metadata": {},
     "output_type": "display_data"
    },
    {
     "data": {
      "application/javascript": [
       "(function(root) {\n",
       "  function embed_document(root) {\n",
       "  const docs_json = {\"d653167a-91fb-4385-9e1f-192491d1ccfe\":{\"defs\":[],\"roots\":{\"references\":[{\"attributes\":{\"columns\":[{\"id\":\"1010\"},{\"id\":\"1011\"},{\"id\":\"1012\"},{\"id\":\"1013\"},{\"id\":\"1014\"},{\"id\":\"1016\"}],\"height_policy\":\"fit\",\"source\":{\"id\":\"1009\"},\"view\":{\"id\":\"1020\"},\"width_policy\":\"fit\"},\"id\":\"1018\",\"type\":\"DataTable\"},{\"attributes\":{},\"id\":\"1038\",\"type\":\"StringFormatter\"},{\"attributes\":{},\"id\":\"1033\",\"type\":\"StringEditor\"},{\"attributes\":{\"editor\":{\"id\":\"1037\"},\"field\":\"count_dev\",\"formatter\":{\"id\":\"1036\"},\"title\":\"dev\"},\"id\":\"1013\",\"type\":\"TableColumn\"},{\"attributes\":{},\"id\":\"1039\",\"type\":\"StringEditor\"},{\"attributes\":{},\"id\":\"1040\",\"type\":\"StringEditor\"},{\"attributes\":{},\"id\":\"1034\",\"type\":\"StringFormatter\"},{\"attributes\":{\"editor\":{\"id\":\"1033\"},\"field\":\"count_raw\",\"formatter\":{\"id\":\"1032\"},\"title\":\"raw\"},\"id\":\"1011\",\"type\":\"TableColumn\"},{\"attributes\":{},\"id\":\"1041\",\"type\":\"UnionRenderers\"},{\"attributes\":{},\"id\":\"1035\",\"type\":\"StringEditor\"},{\"attributes\":{},\"id\":\"1042\",\"type\":\"Selection\"},{\"attributes\":{\"data\":{\"color\":[\"#dcdcdc\",\"#1f77b4\",\"#aec7e8\",\"#ff7f0e\",\"#ffbb78\",\"#2ca02c\",\"#98df8a\",\"#d62728\",\"#ff9896\",\"#9467bd\",\"#c5b0d5\",\"#8c564b\",\"#c49c94\",\"#e377c2\",\"#f7b6d2\",\"#7f7f7f\",\"#c7c7c7\",\"#bcbd22\",\"#dbdb8d\",\"#17becf\",\"#9edae5\"],\"count_dev\":[0,3,5,3,2,3,6,7,7,9,4,3,3,9,2,7,6,5,4,8,1],\"count_raw\":[371,0,0,0,0,0,0,0,0,0,0,0,0,0,0,0,0,0,0,0,0],\"count_test\":[0,3,4,7,6,5,2,6,5,6,2,5,6,6,6,5,7,7,2,6,2],\"count_train\":[0,16,19,13,22,20,21,30,25,14,15,23,25,15,25,25,21,13,23,7,11],\"label\":[\"ABSTAIN\",\"alt.atheism\",\"comp.graphics\",\"comp.os.ms-windows.misc\",\"comp.sys.ibm.pc.hardware\",\"comp.sys.mac.hardware\",\"comp.windows.x\",\"misc.forsale\",\"rec.autos\",\"rec.motorcycles\",\"rec.sport.baseball\",\"rec.sport.hockey\",\"sci.crypt\",\"sci.electronics\",\"sci.med\",\"sci.space\",\"soc.religion.christian\",\"talk.politics.guns\",\"talk.politics.mideast\",\"talk.politics.misc\",\"talk.religion.misc\"]},\"selected\":{\"id\":\"1042\"},\"selection_policy\":{\"id\":\"1041\"}},\"id\":\"1009\",\"type\":\"ColumnDataSource\"},{\"attributes\":{\"source\":{\"id\":\"1009\"}},\"id\":\"1020\",\"type\":\"CDSView\"},{\"attributes\":{\"editor\":{\"id\":\"1039\"},\"field\":\"count_test\",\"formatter\":{\"id\":\"1038\"},\"title\":\"test\"},\"id\":\"1014\",\"type\":\"TableColumn\"},{\"attributes\":{},\"id\":\"1031\",\"type\":\"StringEditor\"},{\"attributes\":{\"editor\":{\"id\":\"1040\"},\"field\":\"color\",\"formatter\":{\"id\":\"1015\"},\"title\":\"color\"},\"id\":\"1016\",\"type\":\"TableColumn\"},{\"attributes\":{\"editor\":{\"id\":\"1031\"},\"field\":\"label\",\"formatter\":{\"id\":\"1030\"},\"title\":\"label\"},\"id\":\"1010\",\"type\":\"TableColumn\"},{\"attributes\":{\"template\":\"\\n<p style=\\\"color:<%= value %>;\\\">\\n    <%= \\\"&#9608;&#9608;&#9608;\\\" %>\\n</p>\\n\"},\"id\":\"1015\",\"type\":\"HTMLTemplateFormatter\"},{\"attributes\":{\"editor\":{\"id\":\"1035\"},\"field\":\"count_train\",\"formatter\":{\"id\":\"1034\"},\"title\":\"train\"},\"id\":\"1012\",\"type\":\"TableColumn\"},{\"attributes\":{},\"id\":\"1030\",\"type\":\"StringFormatter\"},{\"attributes\":{},\"id\":\"1036\",\"type\":\"StringFormatter\"},{\"attributes\":{},\"id\":\"1032\",\"type\":\"StringFormatter\"},{\"attributes\":{},\"id\":\"1037\",\"type\":\"StringEditor\"}],\"root_ids\":[\"1018\"]},\"title\":\"Bokeh Application\",\"version\":\"2.4.3\"}};\n",
       "  const render_items = [{\"docid\":\"d653167a-91fb-4385-9e1f-192491d1ccfe\",\"root_ids\":[\"1018\"],\"roots\":{\"1018\":\"1126ba5b-196d-4f0b-bc7a-f37b028ae8b1\"}}];\n",
       "  root.Bokeh.embed.embed_items_notebook(docs_json, render_items);\n",
       "  }\n",
       "  if (root.Bokeh !== undefined) {\n",
       "    embed_document(root);\n",
       "  } else {\n",
       "    let attempts = 0;\n",
       "    const timer = setInterval(function(root) {\n",
       "      if (root.Bokeh !== undefined) {\n",
       "        clearInterval(timer);\n",
       "        embed_document(root);\n",
       "      } else {\n",
       "        attempts++;\n",
       "        if (attempts > 100) {\n",
       "          clearInterval(timer);\n",
       "          console.log(\"Bokeh: ERROR: Unable to run BokehJS code because BokehJS library is missing\");\n",
       "        }\n",
       "      }\n",
       "    }, 10, root)\n",
       "  }\n",
       "})(window);"
      ],
      "application/vnd.bokehjs_exec.v0+json": ""
     },
     "metadata": {
      "application/vnd.bokehjs_exec.v0+json": {
       "id": "1018"
      }
     },
     "output_type": "display_data"
    }
   ],
   "source": [
    "from bokeh.io import show, output_notebook\n",
    "\n",
    "output_notebook()\n",
    "\n",
    "# normally your would skip notebook_url or use Jupyter address\n",
    "notebook_url = 'localhost:8888'\n",
    "\n",
    "show(dataset.pop_table, notebook_url=notebook_url)"
   ]
  },
  {
   "cell_type": "markdown",
   "id": "39ebb25b",
   "metadata": {},
   "source": [
    "<br>\n",
    "\n",
    "### **Transfer Data Between Subsets**\n",
    "\n",
    "`COMMIT` and `DEDUP` are the mechanisms that `hover` uses to transfer data between subsets.\n",
    "\n",
    "-   `COMMIT` copies selected points (to be discussed later) to a destination subset\n",
    "    -   labeled-raw-only: `COMMIT` automatically detects which points are in the raw set with a valid label. Other points will not get copied.\n",
    "    -   keep-last: you can commit the same point to the same subset multiple times and the last copy will be kept. This can be useful for revising labels before `DEDUP`.\n",
    "-   `DEDUP` removes duplicates (identified by feature value) across subsets\n",
    "    -   priority rule: test > dev > train > raw, i.e. test set data always gets kept during deduplication\n",
    "\n",
    "-   <details open><summary>FAQ</summary>\n",
    "    <details open><summary>Why does COMMIT only work on the raw subset?</summary>\n",
    "        Most selections will happen through plots, where different subsets are on top of each other. This means selections can contain both unlabeled and labeled points.\n",
    "\n",
    "        Way too often we find ourselves trying to view both the labeled and the unlabeled, but only moving the unlabeled \"raw\" points. So it's handy that COMMIT picks those points only.\n",
    "    </details>\n",
    "\n",
    "</details>\n",
    "\n",
    "These mechanisms correspond to buttons in `hover`'s annotation interface, which you have encountered in the quickstart:"
   ]
  },
  {
   "cell_type": "code",
   "execution_count": 3,
   "id": "186713d0",
   "metadata": {
    "execution": {
     "iopub.execute_input": "2022-09-06T02:51:48.905842Z",
     "iopub.status.busy": "2022-09-06T02:51:48.905543Z",
     "iopub.status.idle": "2022-09-06T02:51:48.941800Z",
     "shell.execute_reply": "2022-09-06T02:51:48.940791Z"
    }
   },
   "outputs": [
    {
     "name": "stderr",
     "output_type": "stream",
     "text": [
      "WARNING:bokeh.embed.util:\n",
      "You are generating standalone HTML/JS output, but trying to use real Python\n",
      "callbacks (i.e. with on_change or on_event). This combination cannot work.\n",
      "\n",
      "Only JavaScript callbacks may be used with standalone output. For more\n",
      "information on JavaScript callbacks with Bokeh, see:\n",
      "\n",
      "    https://docs.bokeh.org/en/latest/docs/user_guide/interaction/callbacks.html\n",
      "\n",
      "Alternatively, to use real Python callbacks, a Bokeh server application may\n",
      "be used. For more information on building and running Bokeh applications, see:\n",
      "\n",
      "    https://docs.bokeh.org/en/latest/docs/user_guide/server.html\n",
      "\n"
     ]
    },
    {
     "data": {
      "text/html": [
       "\n",
       "  <div class=\"bk-root\" id=\"919bc6fe-1cfb-49e3-a6dd-14bc14c677c0\" data-root-id=\"1109\"></div>\n"
      ]
     },
     "metadata": {},
     "output_type": "display_data"
    },
    {
     "data": {
      "application/javascript": [
       "(function(root) {\n",
       "  function embed_document(root) {\n",
       "  const docs_json = {\"6a6b528a-f3c2-43ab-b391-379d6bcce9d5\":{\"defs\":[],\"roots\":{\"references\":[{\"attributes\":{\"children\":[{\"id\":\"1108\"},{\"id\":\"1018\"}]},\"id\":\"1109\",\"type\":\"Column\"},{\"attributes\":{},\"id\":\"1037\",\"type\":\"StringEditor\"},{\"attributes\":{},\"id\":\"1038\",\"type\":\"StringFormatter\"},{\"attributes\":{\"columns\":[{\"id\":\"1010\"},{\"id\":\"1011\"},{\"id\":\"1012\"},{\"id\":\"1013\"},{\"id\":\"1014\"},{\"id\":\"1016\"}],\"height_policy\":\"fit\",\"source\":{\"id\":\"1009\"},\"view\":{\"id\":\"1020\"},\"width_policy\":\"fit\"},\"id\":\"1018\",\"type\":\"DataTable\"},{\"attributes\":{},\"id\":\"1033\",\"type\":\"StringEditor\"},{\"attributes\":{\"editor\":{\"id\":\"1037\"},\"field\":\"count_dev\",\"formatter\":{\"id\":\"1036\"},\"title\":\"dev\"},\"id\":\"1013\",\"type\":\"TableColumn\"},{\"attributes\":{},\"id\":\"1039\",\"type\":\"StringEditor\"},{\"attributes\":{\"children\":[{\"id\":\"1002\"},{\"id\":\"1003\"}]},\"id\":\"1108\",\"type\":\"Row\"},{\"attributes\":{},\"id\":\"1040\",\"type\":\"StringEditor\"},{\"attributes\":{},\"id\":\"1034\",\"type\":\"StringFormatter\"},{\"attributes\":{\"editor\":{\"id\":\"1033\"},\"field\":\"count_raw\",\"formatter\":{\"id\":\"1032\"},\"title\":\"raw\"},\"id\":\"1011\",\"type\":\"TableColumn\"},{\"attributes\":{},\"id\":\"1041\",\"type\":\"UnionRenderers\"},{\"attributes\":{},\"id\":\"1035\",\"type\":\"StringEditor\"},{\"attributes\":{},\"id\":\"1042\",\"type\":\"Selection\"},{\"attributes\":{\"data\":{\"color\":[\"#dcdcdc\",\"#1f77b4\",\"#aec7e8\",\"#ff7f0e\",\"#ffbb78\",\"#2ca02c\",\"#98df8a\",\"#d62728\",\"#ff9896\",\"#9467bd\",\"#c5b0d5\",\"#8c564b\",\"#c49c94\",\"#e377c2\",\"#f7b6d2\",\"#7f7f7f\",\"#c7c7c7\",\"#bcbd22\",\"#dbdb8d\",\"#17becf\",\"#9edae5\"],\"count_dev\":[0,3,5,3,2,3,6,7,7,9,4,3,3,9,2,7,6,5,4,8,1],\"count_raw\":[371,0,0,0,0,0,0,0,0,0,0,0,0,0,0,0,0,0,0,0,0],\"count_test\":[0,3,4,7,6,5,2,6,5,6,2,5,6,6,6,5,7,7,2,6,2],\"count_train\":[0,16,19,13,22,20,21,30,25,14,15,23,25,15,25,25,21,13,23,7,11],\"label\":[\"ABSTAIN\",\"alt.atheism\",\"comp.graphics\",\"comp.os.ms-windows.misc\",\"comp.sys.ibm.pc.hardware\",\"comp.sys.mac.hardware\",\"comp.windows.x\",\"misc.forsale\",\"rec.autos\",\"rec.motorcycles\",\"rec.sport.baseball\",\"rec.sport.hockey\",\"sci.crypt\",\"sci.electronics\",\"sci.med\",\"sci.space\",\"soc.religion.christian\",\"talk.politics.guns\",\"talk.politics.mideast\",\"talk.politics.misc\",\"talk.religion.misc\"]},\"selected\":{\"id\":\"1042\"},\"selection_policy\":{\"id\":\"1041\"}},\"id\":\"1009\",\"type\":\"ColumnDataSource\"},{\"attributes\":{\"editor\":{\"id\":\"1039\"},\"field\":\"count_test\",\"formatter\":{\"id\":\"1038\"},\"title\":\"test\"},\"id\":\"1014\",\"type\":\"TableColumn\"},{\"attributes\":{},\"id\":\"1031\",\"type\":\"StringEditor\"},{\"attributes\":{\"button_type\":\"warning\",\"height_policy\":\"fit\",\"icon\":null,\"label\":\"Commit\",\"menu\":[\"train\",\"dev\",\"test\"],\"subscribed_events\":[\"button_click\",\"menu_item_click\"],\"width_policy\":\"min\"},\"id\":\"1002\",\"type\":\"Dropdown\"},{\"attributes\":{\"editor\":{\"id\":\"1040\"},\"field\":\"color\",\"formatter\":{\"id\":\"1015\"},\"title\":\"color\"},\"id\":\"1016\",\"type\":\"TableColumn\"},{\"attributes\":{\"editor\":{\"id\":\"1031\"},\"field\":\"label\",\"formatter\":{\"id\":\"1030\"},\"title\":\"label\"},\"id\":\"1010\",\"type\":\"TableColumn\"},{\"attributes\":{\"template\":\"\\n<p style=\\\"color:<%= value %>;\\\">\\n    <%= \\\"&#9608;&#9608;&#9608;\\\" %>\\n</p>\\n\"},\"id\":\"1015\",\"type\":\"HTMLTemplateFormatter\"},{\"attributes\":{\"editor\":{\"id\":\"1035\"},\"field\":\"count_train\",\"formatter\":{\"id\":\"1034\"},\"title\":\"train\"},\"id\":\"1012\",\"type\":\"TableColumn\"},{\"attributes\":{},\"id\":\"1030\",\"type\":\"StringFormatter\"},{\"attributes\":{},\"id\":\"1036\",\"type\":\"StringFormatter\"},{\"attributes\":{},\"id\":\"1032\",\"type\":\"StringFormatter\"},{\"attributes\":{\"button_type\":\"warning\",\"height_policy\":\"fit\",\"icon\":null,\"label\":\"Dedup\",\"subscribed_events\":[\"button_click\"],\"width_policy\":\"min\"},\"id\":\"1003\",\"type\":\"Button\"},{\"attributes\":{\"source\":{\"id\":\"1009\"}},\"id\":\"1020\",\"type\":\"CDSView\"}],\"root_ids\":[\"1109\"]},\"title\":\"Bokeh Application\",\"version\":\"2.4.3\"}};\n",
       "  const render_items = [{\"docid\":\"6a6b528a-f3c2-43ab-b391-379d6bcce9d5\",\"root_ids\":[\"1109\"],\"roots\":{\"1109\":\"919bc6fe-1cfb-49e3-a6dd-14bc14c677c0\"}}];\n",
       "  root.Bokeh.embed.embed_items_notebook(docs_json, render_items);\n",
       "  }\n",
       "  if (root.Bokeh !== undefined) {\n",
       "    embed_document(root);\n",
       "  } else {\n",
       "    let attempts = 0;\n",
       "    const timer = setInterval(function(root) {\n",
       "      if (root.Bokeh !== undefined) {\n",
       "        clearInterval(timer);\n",
       "        embed_document(root);\n",
       "      } else {\n",
       "        attempts++;\n",
       "        if (attempts > 100) {\n",
       "          clearInterval(timer);\n",
       "          console.log(\"Bokeh: ERROR: Unable to run BokehJS code because BokehJS library is missing\");\n",
       "        }\n",
       "      }\n",
       "    }, 10, root)\n",
       "  }\n",
       "})(window);"
      ],
      "application/vnd.bokehjs_exec.v0+json": ""
     },
     "metadata": {
      "application/vnd.bokehjs_exec.v0+json": {
       "id": "1109"
      }
     },
     "output_type": "display_data"
    }
   ],
   "source": [
    "from bokeh.layouts import row, column\n",
    "\n",
    "show(column(\n",
    "    row(\n",
    "        dataset.data_committer,\n",
    "        dataset.dedup_trigger,\n",
    "    ),\n",
    "    dataset.pop_table,\n",
    "), notebook_url=notebook_url)"
   ]
  },
  {
   "cell_type": "markdown",
   "id": "56d80be4",
   "metadata": {},
   "source": [
    "<br>\n",
    "\n",
    "Of course, so far we have nothing to move, because there's no data selected. We shall now discuss selections.\n",
    "\n",
    "## **Selection**\n",
    "\n",
    "`hover` labels data points in bulk, which requires selecting groups of homogeneous data, i.e. semantically similar or going to have the same label. Being able to skim through what you selected gives you confidence about homogeneity.\n",
    "\n",
    "Normally, selection happens through a plot (`explorer`), as we have seen in the quickstart. For the purpose here, we will \"cheat\" and assign the selection programmatically:"
   ]
  },
  {
   "cell_type": "code",
   "execution_count": 4,
   "id": "78445afb",
   "metadata": {
    "execution": {
     "iopub.execute_input": "2022-09-06T02:51:48.946189Z",
     "iopub.status.busy": "2022-09-06T02:51:48.945850Z",
     "iopub.status.idle": "2022-09-06T02:51:48.973629Z",
     "shell.execute_reply": "2022-09-06T02:51:48.972261Z"
    }
   },
   "outputs": [
    {
     "data": {
      "text/html": [
       "<pre style=\"white-space:pre;overflow-x:auto;line-height:normal;font-family:Menlo,'DejaVu Sans Mono',consolas,'Courier New',monospace\"><span style=\"color: #008000; text-decoration-color: #008000\">🟢 SupervisableTextDataset: Selection table: latest selection with </span><span style=\"color: #008080; text-decoration-color: #008080; font-weight: bold\">11</span><span style=\"color: #008000; text-decoration-color: #008000\"> entries.</span>\n",
       "</pre>\n"
      ],
      "text/plain": [
       "\u001b[32m🟢 SupervisableTextDataset: Selection table: latest selection with \u001b[0m\u001b[1;36m11\u001b[0m\u001b[32m entries.\u001b[0m\n"
      ]
     },
     "metadata": {},
     "output_type": "display_data"
    },
    {
     "data": {
      "text/html": [
       "\n",
       "  <div class=\"bk-root\" id=\"e13265c8-f4f2-4213-903d-151f829e9be7\" data-root-id=\"1026\"></div>\n"
      ]
     },
     "metadata": {},
     "output_type": "display_data"
    },
    {
     "data": {
      "application/javascript": [
       "(function(root) {\n",
       "  function embed_document(root) {\n",
       "  const docs_json = {\"9d52a4a5-4691-452a-841a-34cf0a260b56\":{\"defs\":[],\"roots\":{\"references\":[{\"attributes\":{\"columns\":[{\"id\":\"1023\"},{\"id\":\"1025\"}],\"editable\":true,\"height_policy\":\"fit\",\"selectable\":\"checkbox\",\"source\":{\"id\":\"1021\"},\"view\":{\"id\":\"1028\"},\"width_policy\":\"fit\"},\"id\":\"1026\",\"type\":\"DataTable\"},{\"attributes\":{\"source\":{\"id\":\"1021\"}},\"id\":\"1028\",\"type\":\"CDSView\"},{\"attributes\":{},\"id\":\"1231\",\"type\":\"UnionRenderers\"},{\"attributes\":{\"indices\":[]},\"id\":\"1201\",\"type\":\"Selection\"},{\"attributes\":{},\"id\":\"1022\",\"type\":\"CellEditor\"},{\"attributes\":{\"editor\":{\"id\":\"1230\"},\"field\":\"label\",\"formatter\":{\"id\":\"1229\"},\"title\":\"label\"},\"id\":\"1025\",\"type\":\"TableColumn\"},{\"attributes\":{\"editor\":{\"id\":\"1022\"},\"field\":\"text\",\"formatter\":{\"id\":\"1228\"},\"title\":\"text\"},\"id\":\"1023\",\"type\":\"TableColumn\"},{\"attributes\":{},\"id\":\"1229\",\"type\":\"StringFormatter\"},{\"attributes\":{},\"id\":\"1230\",\"type\":\"StringEditor\"},{\"attributes\":{},\"id\":\"1228\",\"type\":\"StringFormatter\"},{\"attributes\":{\"data\":{\"SUBSET\":[\"raw\",\"raw\",\"raw\",\"raw\",\"raw\",\"raw\",\"raw\",\"raw\",\"raw\",\"raw\",\"raw\"],\"label\":[\"ABSTAIN\",\"ABSTAIN\",\"ABSTAIN\",\"ABSTAIN\",\"ABSTAIN\",\"ABSTAIN\",\"ABSTAIN\",\"ABSTAIN\",\"ABSTAIN\",\"ABSTAIN\",\"ABSTAIN\"],\"text\":[\"Can someone tell me in 25 words or less how to compile posix message catalogs so that I can use them with catgets, catopen, etc. I know what the format for the catalogs is, but don't know how to compile them.  Please reply to chas@blackwhite.com  Thanks in advance,  chas\",\" Yes.   Please describe these \\\"number of ways\\\" in detail.  Then explain the any contradictions that may arise.   Define \\\"difficult\\\".   Explain the laws in America stating that you have to drive on the right- hand side of the road.   So if every member of the species was homosexual, this wouldn't be destructive to the survival of the species?   The whole \\\"theory\\\" needs to be reexamined...\",\"Some time ago I sent the following message:    Every once in a while I design an orbital space colony.  I'm gearing up to    do another one.  I'd some info from you. If you were to move    onto a space colony to live permanently, how big would the colony have    to be for you to view a permanent move as desirable?  Specifically,     How many people do you want to share the colony with?       What physical dimensions does the living are need to have?        Assume 1g living (the colony will rotate).  Assume that you can leave    from time to time for vacations and business trips.  If you're young    enough, assume that you'll raise your children there.  I didn't get a lot of responses, and they were all over the block. Thanx muchly to all those who responded, it is good food for thought.     Here's the (edited) responses I got:      How many people do you want to share the colony with?   100     What physical dimensions does the living are need to have?    Cylinder 200m diameter x 1 km long  Rui Sousa ruca@saber-si.pt  =============================================================================   100,000 - 250,000   100 square kms surface, divided into city, towns, villages and countryside.  Must have lakes, rivers amd mountains.  =============================================================================  1000.  1000 people really isn't that large a number; everyone will know everyone else within the space of a year, and will probably be sick of everyone else within another year.   Hm.  I am not all that great at figuring it out.  But I would maximize the percentage of colony-space that is accessible to humans.  Esecially if there were to be children, since they will figure out how to go everywhere anyways. And everyone, especially me, likes to \\\"go exploring\\\"...I would want to be able to go for a walk and see something different each time...  =============================================================================  For population, I think I would want a substantial town -- big enough to have strangers in it.  This helps get away from the small-town \\\"everybody knows everything\\\" syndrome, which some people like but I don't.  Call it several thousand people.  For physical dimensions, a somewhat similar criterion:  big enough to contain surprises, at least until you spent considerable time getting to know it.  As a more specific rule of thumb, big enough for there to be places at least an hour away on foot.  Call that 5km, which means a 10km circumference if we're talking a sphere.                                           Henry Spencer at U of Toronto Zoology                                           henry@zoo.toronto.edu   utzoo!henry  ============================================================================= My desires, for permanent move to a space colony, assuming easy communication and travel:  Size:  About a small-town size, say 9 sq. km.  'Course, bigger is better :-) Population:  about 100/sq km or less.  So, ~1000 for 9sqkm.  Less is better for elbow room, more for interest and sanity, so say max 3000, min 300.  -Tommy Mac ------------------------------------------------------------------------- Tom McWilliams | 517-355-2178 (work) \\\\\\\\     Inhale to the Chief! 18084tm@ibm.cl.msu.edu  | 336-9591 (hm)\\\\\\\\  Zonker Harris in 1996!\",\" Um.  How many games have the Orioles won?   He is, or will be.   No, currently there's no room for him in the rotation.  Key is having a Most Impressive April.  Abbott is pitching well.  Perez is back. Wickman has pitched his way into the rotation, and is holding his spot with an outstanding performance his last time out.  And Kamieniecki isn't doing too poorly himself.  If the Yankees find themselves in need of a starter, Militello will get another chance.  Until then, he'll have to wait in line.\",\"Why did I get sucked into this?   Assuming you're serious, I guess you'd be surprised to hear that us GUYS don't think so. I would guess that a tiny fraction of 1% of the folks reading your post agree with it. I kind of doubt that even you agree with it.  I'm not going to go through your points one at a time, because,  after all, not many of them have anything at all to do with baseball.  I'm only replying to this because you brought up Pam Postema, the AAA umpire who sued (is suing?) baseball on the grounds of sex discrimination because she wasn't promoted to the majors.   I've never seen her ump a game. I have no first hand experience with her ability as an umpire.  But I have seen her on talk shows. And her point seems to be that she can call balls and strikes as well as any of the umpires and she knows the rulebook better than most. It seems to me that she is missing the point and if that's how she sees the role of umpires in the game, well I wouldn't promote her either.  The umpires primary role has nothing to do with calling baserunners safe or out; hell, Joe Lundy could do that. Their primary function is to maintain order in the game, keep the game moving, and keep the players from trying to kill each other.   Umpires have to be extremely tough people. That disqualifies most of us, both men and women. And if Ms. Postema thinks that she deserves to be a major league umpire because of her command of the rulebook, then I think that disqualifies her as well. Umpires need to command the game; command of the rulebook is secondary.   \",\" What can you expect from a buffoon who said that the Pens should have drafted Kirk Muller instead of Mario Lemieux?    Perhaps once upon a time Don Cherry had some insight into the game of hockey, but he's really degenerated into a parody of himself.\",\" Also in pure speculation:  Parity errors in memory or previously known conditions that were waivered.    \\\"Yes that is an error, but we already knew about it\\\"  Any problem where they decided a backup would handle it.  Any problem in an area that was not criticality 1,2,3..., that is, any    problem in a system they decided they could do without.  I'd be curious as to what the real meaning of the quote is.\",\"   First of all, without wanting to sound nagging and bossy, yes it is a trivial answer and that's perfectly fine ( otherwise how is one supposed to move up to the complicated and challenging questions, we net readers so much enjoy :) ?), and the massive crossposting of your article was not  justified... Please refer to appropriate newsgroups next time (by the way c.o.msw.misc is OK :) ). Now as far as your problem is concerned: try playing around with the settings in the 'Fonts...\\\" dialog box under the window control menu (that little square at the top left corner of the window..).   \",\"  The umps saw the weekend boxscores, too.  They knew the pitchers needed some help or they would be watching the sunrise. :)\",\" A brilliant algorithm.  *NOT*  Seriously - it's correct, up to a sign change.  The flaw is obvious, and will therefore not be shown.  sorry about that.   \",\": Anyone familiar with this video card? What chipset does the winjet use - S3? : As I am in the market for a VLG video card, what is the best chipset among : S3, Cirrus Logic and Tseng Lab (ATI is out of the question - too expensive) ?  : Thanks.   WinJet is not a video card -- it's _printer_ accelerator manufactured  by LaserMaster (Eden Prairie, MN).   -- Willy\"]},\"selected\":{\"id\":\"1201\"},\"selection_policy\":{\"id\":\"1231\"}},\"id\":\"1021\",\"type\":\"ColumnDataSource\"}],\"root_ids\":[\"1026\"]},\"title\":\"Bokeh Application\",\"version\":\"2.4.3\"}};\n",
       "  const render_items = [{\"docid\":\"9d52a4a5-4691-452a-841a-34cf0a260b56\",\"root_ids\":[\"1026\"],\"roots\":{\"1026\":\"e13265c8-f4f2-4213-903d-151f829e9be7\"}}];\n",
       "  root.Bokeh.embed.embed_items_notebook(docs_json, render_items);\n",
       "  }\n",
       "  if (root.Bokeh !== undefined) {\n",
       "    embed_document(root);\n",
       "  } else {\n",
       "    let attempts = 0;\n",
       "    const timer = setInterval(function(root) {\n",
       "      if (root.Bokeh !== undefined) {\n",
       "        clearInterval(timer);\n",
       "        embed_document(root);\n",
       "      } else {\n",
       "        attempts++;\n",
       "        if (attempts > 100) {\n",
       "          clearInterval(timer);\n",
       "          console.log(\"Bokeh: ERROR: Unable to run BokehJS code because BokehJS library is missing\");\n",
       "        }\n",
       "      }\n",
       "    }, 10, root)\n",
       "  }\n",
       "})(window);"
      ],
      "application/vnd.bokehjs_exec.v0+json": ""
     },
     "metadata": {
      "application/vnd.bokehjs_exec.v0+json": {
       "id": "1026"
      }
     },
     "output_type": "display_data"
    }
   ],
   "source": [
    "dataset._callback_update_selection(dataset.dfs[\"raw\"].loc[:10])\n",
    "\n",
    "show(dataset.sel_table, notebook_url=notebook_url)"
   ]
  },
  {
   "cell_type": "markdown",
   "id": "9e54bc9e",
   "metadata": {},
   "source": [
    "<br>\n",
    "\n",
    "### **Edit Data Within a Selection**\n",
    "\n",
    "Often the points selected are not perfectly homogeneous, i.e. some outliers belong to a different label from the selected group overall. It would be helpful to `EVICT` them, and `SupervisableDataset` has a button for it.\n",
    "\n",
    "Sometimes you may also wish to edit data values on the fly.  In hover this is called `PATCH`, and there also is a button for it.\n",
    "\n",
    "-   by default, labels can be edited but feature values cannot.\n",
    "\n",
    "Let's plot the forementioned buttons along with the selection table. Toggle any number of rows in the table, then click the button to `EVICT` or `PATCH` those rows:"
   ]
  },
  {
   "cell_type": "code",
   "execution_count": 5,
   "id": "6aebb7b9",
   "metadata": {
    "execution": {
     "iopub.execute_input": "2022-09-06T02:51:48.993248Z",
     "iopub.status.busy": "2022-09-06T02:51:48.992519Z",
     "iopub.status.idle": "2022-09-06T02:51:49.021494Z",
     "shell.execute_reply": "2022-09-06T02:51:49.020522Z"
    }
   },
   "outputs": [
    {
     "name": "stderr",
     "output_type": "stream",
     "text": [
      "WARNING:bokeh.embed.util:\n",
      "You are generating standalone HTML/JS output, but trying to use real Python\n",
      "callbacks (i.e. with on_change or on_event). This combination cannot work.\n",
      "\n",
      "Only JavaScript callbacks may be used with standalone output. For more\n",
      "information on JavaScript callbacks with Bokeh, see:\n",
      "\n",
      "    https://docs.bokeh.org/en/latest/docs/user_guide/interaction/callbacks.html\n",
      "\n",
      "Alternatively, to use real Python callbacks, a Bokeh server application may\n",
      "be used. For more information on building and running Bokeh applications, see:\n",
      "\n",
      "    https://docs.bokeh.org/en/latest/docs/user_guide/server.html\n",
      "\n"
     ]
    },
    {
     "data": {
      "text/html": [
       "\n",
       "  <div class=\"bk-root\" id=\"a7e23051-4df3-41f8-b637-e1eab2281a84\" data-root-id=\"1259\"></div>\n"
      ]
     },
     "metadata": {},
     "output_type": "display_data"
    },
    {
     "data": {
      "application/javascript": [
       "(function(root) {\n",
       "  function embed_document(root) {\n",
       "  const docs_json = {\"839b42cb-3987-4931-9fbd-b7a786216cdf\":{\"defs\":[],\"roots\":{\"references\":[{\"attributes\":{\"children\":[{\"id\":\"1258\"},{\"id\":\"1026\"}]},\"id\":\"1259\",\"type\":\"Column\"},{\"attributes\":{\"source\":{\"id\":\"1021\"}},\"id\":\"1028\",\"type\":\"CDSView\"},{\"attributes\":{},\"id\":\"1231\",\"type\":\"UnionRenderers\"},{\"attributes\":{\"indices\":[]},\"id\":\"1201\",\"type\":\"Selection\"},{\"attributes\":{\"children\":[{\"id\":\"1006\"},{\"id\":\"1005\"}]},\"id\":\"1258\",\"type\":\"Row\"},{\"attributes\":{\"columns\":[{\"id\":\"1023\"},{\"id\":\"1025\"}],\"editable\":true,\"height_policy\":\"fit\",\"selectable\":\"checkbox\",\"source\":{\"id\":\"1021\"},\"view\":{\"id\":\"1028\"},\"width_policy\":\"fit\"},\"id\":\"1026\",\"type\":\"DataTable\"},{\"attributes\":{},\"id\":\"1022\",\"type\":\"CellEditor\"},{\"attributes\":{\"editor\":{\"id\":\"1230\"},\"field\":\"label\",\"formatter\":{\"id\":\"1229\"},\"title\":\"label\"},\"id\":\"1025\",\"type\":\"TableColumn\"},{\"attributes\":{\"editor\":{\"id\":\"1022\"},\"field\":\"text\",\"formatter\":{\"id\":\"1228\"},\"title\":\"text\"},\"id\":\"1023\",\"type\":\"TableColumn\"},{\"attributes\":{\"button_type\":\"warning\",\"height_policy\":\"fit\",\"icon\":null,\"label\":\"Update Row Values\",\"subscribed_events\":[\"button_click\"],\"width_policy\":\"min\"},\"id\":\"1005\",\"type\":\"Button\"},{\"attributes\":{},\"id\":\"1229\",\"type\":\"StringFormatter\"},{\"attributes\":{},\"id\":\"1230\",\"type\":\"StringEditor\"},{\"attributes\":{\"button_type\":\"primary\",\"height_policy\":\"fit\",\"icon\":null,\"label\":\"Evict Rows from Selection\",\"width_policy\":\"min\"},\"id\":\"1006\",\"type\":\"Button\"},{\"attributes\":{},\"id\":\"1228\",\"type\":\"StringFormatter\"},{\"attributes\":{\"data\":{\"SUBSET\":[\"raw\",\"raw\",\"raw\",\"raw\",\"raw\",\"raw\",\"raw\",\"raw\",\"raw\",\"raw\",\"raw\"],\"label\":[\"ABSTAIN\",\"ABSTAIN\",\"ABSTAIN\",\"ABSTAIN\",\"ABSTAIN\",\"ABSTAIN\",\"ABSTAIN\",\"ABSTAIN\",\"ABSTAIN\",\"ABSTAIN\",\"ABSTAIN\"],\"text\":[\"Can someone tell me in 25 words or less how to compile posix message catalogs so that I can use them with catgets, catopen, etc. I know what the format for the catalogs is, but don't know how to compile them.  Please reply to chas@blackwhite.com  Thanks in advance,  chas\",\" Yes.   Please describe these \\\"number of ways\\\" in detail.  Then explain the any contradictions that may arise.   Define \\\"difficult\\\".   Explain the laws in America stating that you have to drive on the right- hand side of the road.   So if every member of the species was homosexual, this wouldn't be destructive to the survival of the species?   The whole \\\"theory\\\" needs to be reexamined...\",\"Some time ago I sent the following message:    Every once in a while I design an orbital space colony.  I'm gearing up to    do another one.  I'd some info from you. If you were to move    onto a space colony to live permanently, how big would the colony have    to be for you to view a permanent move as desirable?  Specifically,     How many people do you want to share the colony with?       What physical dimensions does the living are need to have?        Assume 1g living (the colony will rotate).  Assume that you can leave    from time to time for vacations and business trips.  If you're young    enough, assume that you'll raise your children there.  I didn't get a lot of responses, and they were all over the block. Thanx muchly to all those who responded, it is good food for thought.     Here's the (edited) responses I got:      How many people do you want to share the colony with?   100     What physical dimensions does the living are need to have?    Cylinder 200m diameter x 1 km long  Rui Sousa ruca@saber-si.pt  =============================================================================   100,000 - 250,000   100 square kms surface, divided into city, towns, villages and countryside.  Must have lakes, rivers amd mountains.  =============================================================================  1000.  1000 people really isn't that large a number; everyone will know everyone else within the space of a year, and will probably be sick of everyone else within another year.   Hm.  I am not all that great at figuring it out.  But I would maximize the percentage of colony-space that is accessible to humans.  Esecially if there were to be children, since they will figure out how to go everywhere anyways. And everyone, especially me, likes to \\\"go exploring\\\"...I would want to be able to go for a walk and see something different each time...  =============================================================================  For population, I think I would want a substantial town -- big enough to have strangers in it.  This helps get away from the small-town \\\"everybody knows everything\\\" syndrome, which some people like but I don't.  Call it several thousand people.  For physical dimensions, a somewhat similar criterion:  big enough to contain surprises, at least until you spent considerable time getting to know it.  As a more specific rule of thumb, big enough for there to be places at least an hour away on foot.  Call that 5km, which means a 10km circumference if we're talking a sphere.                                           Henry Spencer at U of Toronto Zoology                                           henry@zoo.toronto.edu   utzoo!henry  ============================================================================= My desires, for permanent move to a space colony, assuming easy communication and travel:  Size:  About a small-town size, say 9 sq. km.  'Course, bigger is better :-) Population:  about 100/sq km or less.  So, ~1000 for 9sqkm.  Less is better for elbow room, more for interest and sanity, so say max 3000, min 300.  -Tommy Mac ------------------------------------------------------------------------- Tom McWilliams | 517-355-2178 (work) \\\\\\\\     Inhale to the Chief! 18084tm@ibm.cl.msu.edu  | 336-9591 (hm)\\\\\\\\  Zonker Harris in 1996!\",\" Um.  How many games have the Orioles won?   He is, or will be.   No, currently there's no room for him in the rotation.  Key is having a Most Impressive April.  Abbott is pitching well.  Perez is back. Wickman has pitched his way into the rotation, and is holding his spot with an outstanding performance his last time out.  And Kamieniecki isn't doing too poorly himself.  If the Yankees find themselves in need of a starter, Militello will get another chance.  Until then, he'll have to wait in line.\",\"Why did I get sucked into this?   Assuming you're serious, I guess you'd be surprised to hear that us GUYS don't think so. I would guess that a tiny fraction of 1% of the folks reading your post agree with it. I kind of doubt that even you agree with it.  I'm not going to go through your points one at a time, because,  after all, not many of them have anything at all to do with baseball.  I'm only replying to this because you brought up Pam Postema, the AAA umpire who sued (is suing?) baseball on the grounds of sex discrimination because she wasn't promoted to the majors.   I've never seen her ump a game. I have no first hand experience with her ability as an umpire.  But I have seen her on talk shows. And her point seems to be that she can call balls and strikes as well as any of the umpires and she knows the rulebook better than most. It seems to me that she is missing the point and if that's how she sees the role of umpires in the game, well I wouldn't promote her either.  The umpires primary role has nothing to do with calling baserunners safe or out; hell, Joe Lundy could do that. Their primary function is to maintain order in the game, keep the game moving, and keep the players from trying to kill each other.   Umpires have to be extremely tough people. That disqualifies most of us, both men and women. And if Ms. Postema thinks that she deserves to be a major league umpire because of her command of the rulebook, then I think that disqualifies her as well. Umpires need to command the game; command of the rulebook is secondary.   \",\" What can you expect from a buffoon who said that the Pens should have drafted Kirk Muller instead of Mario Lemieux?    Perhaps once upon a time Don Cherry had some insight into the game of hockey, but he's really degenerated into a parody of himself.\",\" Also in pure speculation:  Parity errors in memory or previously known conditions that were waivered.    \\\"Yes that is an error, but we already knew about it\\\"  Any problem where they decided a backup would handle it.  Any problem in an area that was not criticality 1,2,3..., that is, any    problem in a system they decided they could do without.  I'd be curious as to what the real meaning of the quote is.\",\"   First of all, without wanting to sound nagging and bossy, yes it is a trivial answer and that's perfectly fine ( otherwise how is one supposed to move up to the complicated and challenging questions, we net readers so much enjoy :) ?), and the massive crossposting of your article was not  justified... Please refer to appropriate newsgroups next time (by the way c.o.msw.misc is OK :) ). Now as far as your problem is concerned: try playing around with the settings in the 'Fonts...\\\" dialog box under the window control menu (that little square at the top left corner of the window..).   \",\"  The umps saw the weekend boxscores, too.  They knew the pitchers needed some help or they would be watching the sunrise. :)\",\" A brilliant algorithm.  *NOT*  Seriously - it's correct, up to a sign change.  The flaw is obvious, and will therefore not be shown.  sorry about that.   \",\": Anyone familiar with this video card? What chipset does the winjet use - S3? : As I am in the market for a VLG video card, what is the best chipset among : S3, Cirrus Logic and Tseng Lab (ATI is out of the question - too expensive) ?  : Thanks.   WinJet is not a video card -- it's _printer_ accelerator manufactured  by LaserMaster (Eden Prairie, MN).   -- Willy\"]},\"selected\":{\"id\":\"1201\"},\"selection_policy\":{\"id\":\"1231\"}},\"id\":\"1021\",\"type\":\"ColumnDataSource\"}],\"root_ids\":[\"1259\"]},\"title\":\"Bokeh Application\",\"version\":\"2.4.3\"}};\n",
       "  const render_items = [{\"docid\":\"839b42cb-3987-4931-9fbd-b7a786216cdf\",\"root_ids\":[\"1259\"],\"roots\":{\"1259\":\"a7e23051-4df3-41f8-b637-e1eab2281a84\"}}];\n",
       "  root.Bokeh.embed.embed_items_notebook(docs_json, render_items);\n",
       "  }\n",
       "  if (root.Bokeh !== undefined) {\n",
       "    embed_document(root);\n",
       "  } else {\n",
       "    let attempts = 0;\n",
       "    const timer = setInterval(function(root) {\n",
       "      if (root.Bokeh !== undefined) {\n",
       "        clearInterval(timer);\n",
       "        embed_document(root);\n",
       "      } else {\n",
       "        attempts++;\n",
       "        if (attempts > 100) {\n",
       "          clearInterval(timer);\n",
       "          console.log(\"Bokeh: ERROR: Unable to run BokehJS code because BokehJS library is missing\");\n",
       "        }\n",
       "      }\n",
       "    }, 10, root)\n",
       "  }\n",
       "})(window);"
      ],
      "application/vnd.bokehjs_exec.v0+json": ""
     },
     "metadata": {
      "application/vnd.bokehjs_exec.v0+json": {
       "id": "1259"
      }
     },
     "output_type": "display_data"
    }
   ],
   "source": [
    "show(column(\n",
    "    row(\n",
    "        dataset.selection_evictor,\n",
    "        dataset.selection_patcher,\n",
    "    ),\n",
    "    dataset.sel_table,\n",
    "), notebook_url=notebook_url)"
   ]
  },
  {
   "cell_type": "markdown",
   "id": "8b110396",
   "metadata": {},
   "source": [
    "<br>"
   ]
  }
 ],
 "metadata": {
  "language_info": {
   "codemirror_mode": {
    "name": "ipython",
    "version": 3
   },
   "file_extension": ".py",
   "mimetype": "text/x-python",
   "name": "python",
   "nbconvert_exporter": "python",
   "pygments_lexer": "ipython3",
   "version": "3.8.13"
  }
 },
 "nbformat": 4,
 "nbformat_minor": 5
}
