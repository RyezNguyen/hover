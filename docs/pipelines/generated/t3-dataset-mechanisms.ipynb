{
 "cells": [
  {
   "cell_type": "markdown",
   "id": "4566a064",
   "metadata": {},
   "source": [
    "> `SupervisableDataset` holds your data throughout the labeling process.\n",
    ">\n",
    "> :speedboat: Let's take a look at its core mechanisms.\n",
    "\n",
    "-   <details open><summary>This page addresses **single components** of `hover`</summary>\n",
    "    For illustration, we are using code snippets to pick out specific widgets so that the documentation can explain what they do.\n",
    "\n",
    "    -   Please be aware that you won't need to get the widgets by code in an actual use case.\n",
    "    -   Typical usage deals with [recipes](../../tutorial/t1-active-learning) where the individual parts have been tied together.\n",
    "\n",
    "</details>\n",
    "\n",
    "-   <details open><summary>Dependencies for {== local environments ==}</summary>\n",
    "    When you run the code locally, you may need to install additional packages.\n",
    "\n",
    "    To render `bokeh` plots in Jupyter, you need:\n",
    "```shell\n",
    "    pip install jupyter_bokeh\n",
    "```\n",
    "\n",
    "    If you are using JupyterLab older than 3.0, use this instead ([reference](https://pypi.org/project/jupyter-bokeh/)):\n",
    "```shell\n",
    "    jupyter labextension install @jupyter-widgets/jupyterlab-manager\n",
    "    jupyter labextension install @bokeh/jupyter_bokeh\n",
    "```\n",
    "\n",
    "</details>\n",
    "\n",
    "## **Data Subsets**\n",
    "\n",
    "We place unlabeled data and labeled data in different subsets: \"raw\", \"train\", \"dev\", and \"test\". Unlabeled data start from the \"raw\" subset, and can be transferred to other subsets after it gets labeled.\n",
    "\n",
    "`SupervisableDataset` uses a \"population table\", `dataset.pop_table`, to show the size of each subset:"
   ]
  },
  {
   "cell_type": "code",
   "execution_count": 1,
   "id": "74ffd4ee",
   "metadata": {
    "execution": {
     "iopub.execute_input": "2023-12-12T01:26:02.309094Z",
     "iopub.status.busy": "2023-12-12T01:26:02.308883Z",
     "iopub.status.idle": "2023-12-12T01:26:03.827428Z",
     "shell.execute_reply": "2023-12-12T01:26:03.826883Z"
    }
   },
   "outputs": [
    {
     "data": {
      "text/html": [
       "<pre style=\"white-space:pre;overflow-x:auto;line-height:normal;font-family:Menlo,'DejaVu Sans Mono',consolas,'Courier New',monospace\"><span style=\"color: #000080; text-decoration-color: #000080\">🔵 SupervisableTextDataset: Initializing</span><span style=\"color: #808000; text-decoration-color: #808000\">...</span>\n",
       "</pre>\n"
      ],
      "text/plain": [
       "\u001b[34m🔵 SupervisableTextDataset: Initializing\u001b[0m\u001b[33m...\u001b[0m\n"
      ]
     },
     "metadata": {},
     "output_type": "display_data"
    },
    {
     "data": {
      "text/html": [
       "<pre style=\"white-space:pre;overflow-x:auto;line-height:normal;font-family:Menlo,'DejaVu Sans Mono',consolas,'Courier New',monospace\"><span style=\"color: #000080; text-decoration-color: #000080\">🔵 SupervisableTextDataset: Deduplicating</span><span style=\"color: #808000; text-decoration-color: #808000\">...</span>\n",
       "</pre>\n"
      ],
      "text/plain": [
       "\u001b[34m🔵 SupervisableTextDataset: Deduplicating\u001b[0m\u001b[33m...\u001b[0m\n"
      ]
     },
     "metadata": {},
     "output_type": "display_data"
    },
    {
     "data": {
      "text/html": [
       "<pre style=\"white-space:pre;overflow-x:auto;line-height:normal;font-family:Menlo,'DejaVu Sans Mono',consolas,'Courier New',monospace\"><span style=\"color: #000080; text-decoration-color: #000080\">🔵 SupervisableTextDataset: --subset raw rows: </span><span style=\"color: #008080; text-decoration-color: #008080; font-weight: bold\">400</span><span style=\"color: #000080; text-decoration-color: #000080\"> -&gt; </span><span style=\"color: #008080; text-decoration-color: #008080; font-weight: bold\">367</span><span style=\"color: #000080; text-decoration-color: #000080\">.</span>\n",
       "</pre>\n"
      ],
      "text/plain": [
       "\u001b[34m🔵 SupervisableTextDataset: --subset raw rows: \u001b[0m\u001b[1;36m400\u001b[0m\u001b[34m -> \u001b[0m\u001b[1;36m367\u001b[0m\u001b[34m.\u001b[0m\n"
      ]
     },
     "metadata": {},
     "output_type": "display_data"
    },
    {
     "data": {
      "text/html": [
       "<pre style=\"white-space:pre;overflow-x:auto;line-height:normal;font-family:Menlo,'DejaVu Sans Mono',consolas,'Courier New',monospace\"><span style=\"color: #000080; text-decoration-color: #000080\">🔵 SupervisableTextDataset: --subset train rows: </span><span style=\"color: #008080; text-decoration-color: #008080; font-weight: bold\">400</span><span style=\"color: #000080; text-decoration-color: #000080\"> -&gt; </span><span style=\"color: #008080; text-decoration-color: #008080; font-weight: bold\">380</span><span style=\"color: #000080; text-decoration-color: #000080\">.</span>\n",
       "</pre>\n"
      ],
      "text/plain": [
       "\u001b[34m🔵 SupervisableTextDataset: --subset train rows: \u001b[0m\u001b[1;36m400\u001b[0m\u001b[34m -> \u001b[0m\u001b[1;36m380\u001b[0m\u001b[34m.\u001b[0m\n"
      ]
     },
     "metadata": {},
     "output_type": "display_data"
    },
    {
     "data": {
      "text/html": [
       "<pre style=\"white-space:pre;overflow-x:auto;line-height:normal;font-family:Menlo,'DejaVu Sans Mono',consolas,'Courier New',monospace\"><span style=\"color: #000080; text-decoration-color: #000080\">🔵 SupervisableTextDataset: --subset dev rows: </span><span style=\"color: #008080; text-decoration-color: #008080; font-weight: bold\">100</span><span style=\"color: #000080; text-decoration-color: #000080\"> -&gt; </span><span style=\"color: #008080; text-decoration-color: #008080; font-weight: bold\">99</span><span style=\"color: #000080; text-decoration-color: #000080\">.</span>\n",
       "</pre>\n"
      ],
      "text/plain": [
       "\u001b[34m🔵 SupervisableTextDataset: --subset dev rows: \u001b[0m\u001b[1;36m100\u001b[0m\u001b[34m -> \u001b[0m\u001b[1;36m99\u001b[0m\u001b[34m.\u001b[0m\n"
      ]
     },
     "metadata": {},
     "output_type": "display_data"
    },
    {
     "data": {
      "text/html": [
       "<pre style=\"white-space:pre;overflow-x:auto;line-height:normal;font-family:Menlo,'DejaVu Sans Mono',consolas,'Courier New',monospace\"><span style=\"color: #000080; text-decoration-color: #000080\">🔵 SupervisableTextDataset: --subset test rows: </span><span style=\"color: #008080; text-decoration-color: #008080; font-weight: bold\">100</span><span style=\"color: #000080; text-decoration-color: #000080\"> -&gt; </span><span style=\"color: #008080; text-decoration-color: #008080; font-weight: bold\">96</span><span style=\"color: #000080; text-decoration-color: #000080\">.</span>\n",
       "</pre>\n"
      ],
      "text/plain": [
       "\u001b[34m🔵 SupervisableTextDataset: --subset test rows: \u001b[0m\u001b[1;36m100\u001b[0m\u001b[34m -> \u001b[0m\u001b[1;36m96\u001b[0m\u001b[34m.\u001b[0m\n"
      ]
     },
     "metadata": {},
     "output_type": "display_data"
    },
    {
     "data": {
      "text/html": [
       "<pre style=\"white-space:pre;overflow-x:auto;line-height:normal;font-family:Menlo,'DejaVu Sans Mono',consolas,'Courier New',monospace\"><span style=\"color: #008000; text-decoration-color: #008000\">🟢 SupervisableTextDataset: Set up label encoder/decoder with </span><span style=\"color: #008080; text-decoration-color: #008080; font-weight: bold\">20</span><span style=\"color: #008000; text-decoration-color: #008000\"> classes.</span>\n",
       "</pre>\n"
      ],
      "text/plain": [
       "\u001b[32m🟢 SupervisableTextDataset: Set up label encoder/decoder with \u001b[0m\u001b[1;36m20\u001b[0m\u001b[32m classes.\u001b[0m\n"
      ]
     },
     "metadata": {},
     "output_type": "display_data"
    },
    {
     "data": {
      "text/html": [
       "<pre style=\"white-space:pre;overflow-x:auto;line-height:normal;font-family:Menlo,'DejaVu Sans Mono',consolas,'Courier New',monospace\"><span style=\"color: #008000; text-decoration-color: #008000\">🟢 SupervisableTextDataset: Population updater: latest population with </span><span style=\"color: #008080; text-decoration-color: #008080; font-weight: bold\">20</span><span style=\"color: #008000; text-decoration-color: #008000\"> classes.</span>\n",
       "</pre>\n"
      ],
      "text/plain": [
       "\u001b[32m🟢 SupervisableTextDataset: Population updater: latest population with \u001b[0m\u001b[1;36m20\u001b[0m\u001b[32m classes.\u001b[0m\n"
      ]
     },
     "metadata": {},
     "output_type": "display_data"
    },
    {
     "data": {
      "text/html": [
       "<pre style=\"white-space:pre;overflow-x:auto;line-height:normal;font-family:Menlo,'DejaVu Sans Mono',consolas,'Courier New',monospace\"><span style=\"color: #000080; text-decoration-color: #000080\">🔵 SupervisableTextDataset: finished setting up bokeh elements.</span>\n",
       "</pre>\n"
      ],
      "text/plain": [
       "\u001b[34m🔵 SupervisableTextDataset: finished setting up bokeh elements.\u001b[0m\n"
      ]
     },
     "metadata": {},
     "output_type": "display_data"
    },
    {
     "data": {
      "text/html": [
       "<pre style=\"white-space:pre;overflow-x:auto;line-height:normal;font-family:Menlo,'DejaVu Sans Mono',consolas,'Courier New',monospace\"><span style=\"color: #008000; text-decoration-color: #008000\">🟢 SupervisableTextDataset: finished initialization.</span>\n",
       "</pre>\n"
      ],
      "text/plain": [
       "\u001b[32m🟢 SupervisableTextDataset: finished initialization.\u001b[0m\n"
      ]
     },
     "metadata": {},
     "output_type": "display_data"
    }
   ],
   "source": [
    "from hover.core.dataset import SupervisableTextDataset\n",
    "import pandas as pd\n",
    "\n",
    "raw_csv_path = \"https://raw.githubusercontent.com/phurwicz/hover-gallery/main/0.5.0/20_newsgroups_raw.csv\"\n",
    "train_csv_path = \"https://raw.githubusercontent.com/phurwicz/hover-gallery/main/0.5.0/20_newsgroups_train.csv\"\n",
    "\n",
    "# for fast, low-memory demonstration purpose, sample the data\n",
    "df_raw = pd.read_csv(raw_csv_path).sample(400)\n",
    "df_raw[\"SUBSET\"] = \"raw\"\n",
    "df_train = pd.read_csv(train_csv_path).sample(400)\n",
    "df_train[\"SUBSET\"] = \"train\"\n",
    "df_dev = pd.read_csv(train_csv_path).sample(100)\n",
    "df_dev[\"SUBSET\"] = \"dev\"\n",
    "df_test = pd.read_csv(train_csv_path).sample(100)\n",
    "df_test[\"SUBSET\"] = \"test\"\n",
    "\n",
    "# build overall dataframe and ensure feature type\n",
    "df = pd.concat([df_raw, df_train, df_dev, df_test])\n",
    "df[\"text\"] = df[\"text\"].astype(str)\n",
    "\n",
    "# this class stores the dataset throught the labeling process\n",
    "dataset = SupervisableTextDataset.from_pandas(df, feature_key=\"text\", label_key=\"label\")"
   ]
  },
  {
   "cell_type": "markdown",
   "id": "02024ee8",
   "metadata": {},
   "source": [
    "<br>"
   ]
  },
  {
   "cell_type": "code",
   "execution_count": 2,
   "id": "41d0a415",
   "metadata": {
    "execution": {
     "iopub.execute_input": "2023-12-12T01:26:03.830151Z",
     "iopub.status.busy": "2023-12-12T01:26:03.829922Z",
     "iopub.status.idle": "2023-12-12T01:26:03.879498Z",
     "shell.execute_reply": "2023-12-12T01:26:03.878865Z"
    }
   },
   "outputs": [
    {
     "data": {
      "text/html": [
       "    <style>\n",
       "        .bk-notebook-logo {\n",
       "            display: block;\n",
       "            width: 20px;\n",
       "            height: 20px;\n",
       "            background-image: url(data:image/png;base64,iVBORw0KGgoAAAANSUhEUgAAABQAAAAUCAYAAACNiR0NAAAABHNCSVQICAgIfAhkiAAAAAlwSFlzAAALEgAACxIB0t1+/AAAABx0RVh0U29mdHdhcmUAQWRvYmUgRmlyZXdvcmtzIENTNui8sowAAAOkSURBVDiNjZRtaJVlGMd/1/08zzln5zjP1LWcU9N0NkN8m2CYjpgQYQXqSs0I84OLIC0hkEKoPtiH3gmKoiJDU7QpLgoLjLIQCpEsNJ1vqUOdO7ppbuec5+V+rj4ctwzd8IIbbi6u+8f1539dt3A78eXC7QizUF7gyV1fD1Yqg4JWz84yffhm0qkFqBogB9rM8tZdtwVsPUhWhGcFJngGeWrPzHm5oaMmkfEg1usvLFyc8jLRqDOMru7AyC8saQr7GG7f5fvDeH7Ej8CM66nIF+8yngt6HWaKh7k49Soy9nXurCi1o3qUbS3zWfrYeQDTB/Qj6kX6Ybhw4B+bOYoLKCC9H3Nu/leUTZ1JdRWkkn2ldcCamzrcf47KKXdAJllSlxAOkRgyHsGC/zRday5Qld9DyoM4/q/rUoy/CXh3jzOu3bHUVZeU+DEn8FInkPBFlu3+nW3Nw0mk6vCDiWg8CeJaxEwuHS3+z5RgY+YBR6V1Z1nxSOfoaPa4LASWxxdNp+VWTk7+4vzaou8v8PN+xo+KY2xsw6une2frhw05CTYOmQvsEhjhWjn0bmXPjpE1+kplmmkP3suftwTubK9Vq22qKmrBhpY4jvd5afdRA3wGjFAgcnTK2s4hY0/GPNIb0nErGMCRxWOOX64Z8RAC4oCXdklmEvcL8o0BfkNK4lUg9HTl+oPlQxdNo3Mg4Nv175e/1LDGzZen30MEjRUtmXSfiTVu1kK8W4txyV6BMKlbgk3lMwYCiusNy9fVfvvwMxv8Ynl6vxoByANLTWplvuj/nF9m2+PDtt1eiHPBr1oIfhCChQMBw6Aw0UulqTKZdfVvfG7VcfIqLG9bcldL/+pdWTLxLUy8Qq38heUIjh4XlzZxzQm19lLFlr8vdQ97rjZVOLf8nclzckbcD4wxXMidpX30sFd37Fv/GtwwhzhxGVAprjbg0gCAEeIgwCZyTV2Z1REEW8O4py0wsjeloKoMr6iCY6dP92H6Vw/oTyICIthibxjm/DfN9lVz8IqtqKYLUXfoKVMVQVVJOElGjrnnUt9T9wbgp8AyYKaGlqingHZU/uG2NTZSVqwHQTWkx9hxjkpWDaCg6Ckj5qebgBVbT3V3NNXMSiWSDdGV3hrtzla7J+duwPOToIg42ChPQOQjspnSlp1V+Gjdged7+8UN5CRAV7a5EdFNwCjEaBR27b3W890TE7g24NAP/mMDXRWrGoFPQI9ls/MWO2dWFAar/xcOIImbbpA3zgAAAABJRU5ErkJggg==);\n",
       "        }\n",
       "    </style>\n",
       "    <div>\n",
       "        <a href=\"https://bokeh.org\" target=\"_blank\" class=\"bk-notebook-logo\"></a>\n",
       "        <span id=\"b35973f0-521d-479b-9dd2-0bc089c97f1f\">Loading BokehJS ...</span>\n",
       "    </div>\n"
      ]
     },
     "metadata": {},
     "output_type": "display_data"
    },
    {
     "data": {
      "application/javascript": [
       "(function(root) {\n",
       "  function now() {\n",
       "    return new Date();\n",
       "  }\n",
       "\n",
       "  const force = true;\n",
       "\n",
       "  if (typeof root._bokeh_onload_callbacks === \"undefined\" || force === true) {\n",
       "    root._bokeh_onload_callbacks = [];\n",
       "    root._bokeh_is_loading = undefined;\n",
       "  }\n",
       "\n",
       "const JS_MIME_TYPE = 'application/javascript';\n",
       "  const HTML_MIME_TYPE = 'text/html';\n",
       "  const EXEC_MIME_TYPE = 'application/vnd.bokehjs_exec.v0+json';\n",
       "  const CLASS_NAME = 'output_bokeh rendered_html';\n",
       "\n",
       "  /**\n",
       "   * Render data to the DOM node\n",
       "   */\n",
       "  function render(props, node) {\n",
       "    const script = document.createElement(\"script\");\n",
       "    node.appendChild(script);\n",
       "  }\n",
       "\n",
       "  /**\n",
       "   * Handle when an output is cleared or removed\n",
       "   */\n",
       "  function handleClearOutput(event, handle) {\n",
       "    function drop(id) {\n",
       "      const view = Bokeh.index.get_by_id(id)\n",
       "      if (view != null) {\n",
       "        view.model.document.clear()\n",
       "        Bokeh.index.delete(view)\n",
       "      }\n",
       "    }\n",
       "\n",
       "    const cell = handle.cell;\n",
       "\n",
       "    const id = cell.output_area._bokeh_element_id;\n",
       "    const server_id = cell.output_area._bokeh_server_id;\n",
       "\n",
       "    // Clean up Bokeh references\n",
       "    if (id != null) {\n",
       "      drop(id)\n",
       "    }\n",
       "\n",
       "    if (server_id !== undefined) {\n",
       "      // Clean up Bokeh references\n",
       "      const cmd_clean = \"from bokeh.io.state import curstate; print(curstate().uuid_to_server['\" + server_id + \"'].get_sessions()[0].document.roots[0]._id)\";\n",
       "      cell.notebook.kernel.execute(cmd_clean, {\n",
       "        iopub: {\n",
       "          output: function(msg) {\n",
       "            const id = msg.content.text.trim()\n",
       "            drop(id)\n",
       "          }\n",
       "        }\n",
       "      });\n",
       "      // Destroy server and session\n",
       "      const cmd_destroy = \"import bokeh.io.notebook as ion; ion.destroy_server('\" + server_id + \"')\";\n",
       "      cell.notebook.kernel.execute(cmd_destroy);\n",
       "    }\n",
       "  }\n",
       "\n",
       "  /**\n",
       "   * Handle when a new output is added\n",
       "   */\n",
       "  function handleAddOutput(event, handle) {\n",
       "    const output_area = handle.output_area;\n",
       "    const output = handle.output;\n",
       "\n",
       "    // limit handleAddOutput to display_data with EXEC_MIME_TYPE content only\n",
       "    if ((output.output_type != \"display_data\") || (!Object.prototype.hasOwnProperty.call(output.data, EXEC_MIME_TYPE))) {\n",
       "      return\n",
       "    }\n",
       "\n",
       "    const toinsert = output_area.element.find(\".\" + CLASS_NAME.split(' ')[0]);\n",
       "\n",
       "    if (output.metadata[EXEC_MIME_TYPE][\"id\"] !== undefined) {\n",
       "      toinsert[toinsert.length - 1].firstChild.textContent = output.data[JS_MIME_TYPE];\n",
       "      // store reference to embed id on output_area\n",
       "      output_area._bokeh_element_id = output.metadata[EXEC_MIME_TYPE][\"id\"];\n",
       "    }\n",
       "    if (output.metadata[EXEC_MIME_TYPE][\"server_id\"] !== undefined) {\n",
       "      const bk_div = document.createElement(\"div\");\n",
       "      bk_div.innerHTML = output.data[HTML_MIME_TYPE];\n",
       "      const script_attrs = bk_div.children[0].attributes;\n",
       "      for (let i = 0; i < script_attrs.length; i++) {\n",
       "        toinsert[toinsert.length - 1].firstChild.setAttribute(script_attrs[i].name, script_attrs[i].value);\n",
       "        toinsert[toinsert.length - 1].firstChild.textContent = bk_div.children[0].textContent\n",
       "      }\n",
       "      // store reference to server id on output_area\n",
       "      output_area._bokeh_server_id = output.metadata[EXEC_MIME_TYPE][\"server_id\"];\n",
       "    }\n",
       "  }\n",
       "\n",
       "  function register_renderer(events, OutputArea) {\n",
       "\n",
       "    function append_mime(data, metadata, element) {\n",
       "      // create a DOM node to render to\n",
       "      const toinsert = this.create_output_subarea(\n",
       "        metadata,\n",
       "        CLASS_NAME,\n",
       "        EXEC_MIME_TYPE\n",
       "      );\n",
       "      this.keyboard_manager.register_events(toinsert);\n",
       "      // Render to node\n",
       "      const props = {data: data, metadata: metadata[EXEC_MIME_TYPE]};\n",
       "      render(props, toinsert[toinsert.length - 1]);\n",
       "      element.append(toinsert);\n",
       "      return toinsert\n",
       "    }\n",
       "\n",
       "    /* Handle when an output is cleared or removed */\n",
       "    events.on('clear_output.CodeCell', handleClearOutput);\n",
       "    events.on('delete.Cell', handleClearOutput);\n",
       "\n",
       "    /* Handle when a new output is added */\n",
       "    events.on('output_added.OutputArea', handleAddOutput);\n",
       "\n",
       "    /**\n",
       "     * Register the mime type and append_mime function with output_area\n",
       "     */\n",
       "    OutputArea.prototype.register_mime_type(EXEC_MIME_TYPE, append_mime, {\n",
       "      /* Is output safe? */\n",
       "      safe: true,\n",
       "      /* Index of renderer in `output_area.display_order` */\n",
       "      index: 0\n",
       "    });\n",
       "  }\n",
       "\n",
       "  // register the mime type if in Jupyter Notebook environment and previously unregistered\n",
       "  if (root.Jupyter !== undefined) {\n",
       "    const events = require('base/js/events');\n",
       "    const OutputArea = require('notebook/js/outputarea').OutputArea;\n",
       "\n",
       "    if (OutputArea.prototype.mime_types().indexOf(EXEC_MIME_TYPE) == -1) {\n",
       "      register_renderer(events, OutputArea);\n",
       "    }\n",
       "  }\n",
       "  if (typeof (root._bokeh_timeout) === \"undefined\" || force === true) {\n",
       "    root._bokeh_timeout = Date.now() + 5000;\n",
       "    root._bokeh_failed_load = false;\n",
       "  }\n",
       "\n",
       "  const NB_LOAD_WARNING = {'data': {'text/html':\n",
       "     \"<div style='background-color: #fdd'>\\n\"+\n",
       "     \"<p>\\n\"+\n",
       "     \"BokehJS does not appear to have successfully loaded. If loading BokehJS from CDN, this \\n\"+\n",
       "     \"may be due to a slow or bad network connection. Possible fixes:\\n\"+\n",
       "     \"</p>\\n\"+\n",
       "     \"<ul>\\n\"+\n",
       "     \"<li>re-rerun `output_notebook()` to attempt to load from CDN again, or</li>\\n\"+\n",
       "     \"<li>use INLINE resources instead, as so:</li>\\n\"+\n",
       "     \"</ul>\\n\"+\n",
       "     \"<code>\\n\"+\n",
       "     \"from bokeh.resources import INLINE\\n\"+\n",
       "     \"output_notebook(resources=INLINE)\\n\"+\n",
       "     \"</code>\\n\"+\n",
       "     \"</div>\"}};\n",
       "\n",
       "  function display_loaded() {\n",
       "    const el = document.getElementById(\"b35973f0-521d-479b-9dd2-0bc089c97f1f\");\n",
       "    if (el != null) {\n",
       "      el.textContent = \"BokehJS is loading...\";\n",
       "    }\n",
       "    if (root.Bokeh !== undefined) {\n",
       "      if (el != null) {\n",
       "        el.textContent = \"BokehJS \" + root.Bokeh.version + \" successfully loaded.\";\n",
       "      }\n",
       "    } else if (Date.now() < root._bokeh_timeout) {\n",
       "      setTimeout(display_loaded, 100)\n",
       "    }\n",
       "  }\n",
       "\n",
       "  function run_callbacks() {\n",
       "    try {\n",
       "      root._bokeh_onload_callbacks.forEach(function(callback) {\n",
       "        if (callback != null)\n",
       "          callback();\n",
       "      });\n",
       "    } finally {\n",
       "      delete root._bokeh_onload_callbacks\n",
       "    }\n",
       "    console.debug(\"Bokeh: all callbacks have finished\");\n",
       "  }\n",
       "\n",
       "  function load_libs(css_urls, js_urls, callback) {\n",
       "    if (css_urls == null) css_urls = [];\n",
       "    if (js_urls == null) js_urls = [];\n",
       "\n",
       "    root._bokeh_onload_callbacks.push(callback);\n",
       "    if (root._bokeh_is_loading > 0) {\n",
       "      console.debug(\"Bokeh: BokehJS is being loaded, scheduling callback at\", now());\n",
       "      return null;\n",
       "    }\n",
       "    if (js_urls == null || js_urls.length === 0) {\n",
       "      run_callbacks();\n",
       "      return null;\n",
       "    }\n",
       "    console.debug(\"Bokeh: BokehJS not loaded, scheduling load and callback at\", now());\n",
       "    root._bokeh_is_loading = css_urls.length + js_urls.length;\n",
       "\n",
       "    function on_load() {\n",
       "      root._bokeh_is_loading--;\n",
       "      if (root._bokeh_is_loading === 0) {\n",
       "        console.debug(\"Bokeh: all BokehJS libraries/stylesheets loaded\");\n",
       "        run_callbacks()\n",
       "      }\n",
       "    }\n",
       "\n",
       "    function on_error(url) {\n",
       "      console.error(\"failed to load \" + url);\n",
       "    }\n",
       "\n",
       "    for (let i = 0; i < css_urls.length; i++) {\n",
       "      const url = css_urls[i];\n",
       "      const element = document.createElement(\"link\");\n",
       "      element.onload = on_load;\n",
       "      element.onerror = on_error.bind(null, url);\n",
       "      element.rel = \"stylesheet\";\n",
       "      element.type = \"text/css\";\n",
       "      element.href = url;\n",
       "      console.debug(\"Bokeh: injecting link tag for BokehJS stylesheet: \", url);\n",
       "      document.body.appendChild(element);\n",
       "    }\n",
       "\n",
       "    for (let i = 0; i < js_urls.length; i++) {\n",
       "      const url = js_urls[i];\n",
       "      const element = document.createElement('script');\n",
       "      element.onload = on_load;\n",
       "      element.onerror = on_error.bind(null, url);\n",
       "      element.async = false;\n",
       "      element.src = url;\n",
       "      console.debug(\"Bokeh: injecting script tag for BokehJS library: \", url);\n",
       "      document.head.appendChild(element);\n",
       "    }\n",
       "  };\n",
       "\n",
       "  function inject_raw_css(css) {\n",
       "    const element = document.createElement(\"style\");\n",
       "    element.appendChild(document.createTextNode(css));\n",
       "    document.body.appendChild(element);\n",
       "  }\n",
       "\n",
       "  const js_urls = [\"https://cdn.bokeh.org/bokeh/release/bokeh-3.3.2.min.js\", \"https://cdn.bokeh.org/bokeh/release/bokeh-gl-3.3.2.min.js\", \"https://cdn.bokeh.org/bokeh/release/bokeh-widgets-3.3.2.min.js\", \"https://cdn.bokeh.org/bokeh/release/bokeh-tables-3.3.2.min.js\", \"https://cdn.bokeh.org/bokeh/release/bokeh-mathjax-3.3.2.min.js\"];\n",
       "  const css_urls = [];\n",
       "\n",
       "  const inline_js = [    function(Bokeh) {\n",
       "      Bokeh.set_log_level(\"info\");\n",
       "    },\n",
       "function(Bokeh) {\n",
       "    }\n",
       "  ];\n",
       "\n",
       "  function run_inline_js() {\n",
       "    if (root.Bokeh !== undefined || force === true) {\n",
       "          for (let i = 0; i < inline_js.length; i++) {\n",
       "      inline_js[i].call(root, root.Bokeh);\n",
       "    }\n",
       "if (force === true) {\n",
       "        display_loaded();\n",
       "      }} else if (Date.now() < root._bokeh_timeout) {\n",
       "      setTimeout(run_inline_js, 100);\n",
       "    } else if (!root._bokeh_failed_load) {\n",
       "      console.log(\"Bokeh: BokehJS failed to load within specified timeout.\");\n",
       "      root._bokeh_failed_load = true;\n",
       "    } else if (force !== true) {\n",
       "      const cell = $(document.getElementById(\"b35973f0-521d-479b-9dd2-0bc089c97f1f\")).parents('.cell').data().cell;\n",
       "      cell.output_area.append_execute_result(NB_LOAD_WARNING)\n",
       "    }\n",
       "  }\n",
       "\n",
       "  if (root._bokeh_is_loading === 0) {\n",
       "    console.debug(\"Bokeh: BokehJS loaded, going straight to plotting\");\n",
       "    run_inline_js();\n",
       "  } else {\n",
       "    load_libs(css_urls, js_urls, function() {\n",
       "      console.debug(\"Bokeh: BokehJS plotting callback run at\", now());\n",
       "      run_inline_js();\n",
       "    });\n",
       "  }\n",
       "}(window));"
      ],
      "application/vnd.bokehjs_load.v0+json": "(function(root) {\n  function now() {\n    return new Date();\n  }\n\n  const force = true;\n\n  if (typeof root._bokeh_onload_callbacks === \"undefined\" || force === true) {\n    root._bokeh_onload_callbacks = [];\n    root._bokeh_is_loading = undefined;\n  }\n\n\n  if (typeof (root._bokeh_timeout) === \"undefined\" || force === true) {\n    root._bokeh_timeout = Date.now() + 5000;\n    root._bokeh_failed_load = false;\n  }\n\n  const NB_LOAD_WARNING = {'data': {'text/html':\n     \"<div style='background-color: #fdd'>\\n\"+\n     \"<p>\\n\"+\n     \"BokehJS does not appear to have successfully loaded. If loading BokehJS from CDN, this \\n\"+\n     \"may be due to a slow or bad network connection. Possible fixes:\\n\"+\n     \"</p>\\n\"+\n     \"<ul>\\n\"+\n     \"<li>re-rerun `output_notebook()` to attempt to load from CDN again, or</li>\\n\"+\n     \"<li>use INLINE resources instead, as so:</li>\\n\"+\n     \"</ul>\\n\"+\n     \"<code>\\n\"+\n     \"from bokeh.resources import INLINE\\n\"+\n     \"output_notebook(resources=INLINE)\\n\"+\n     \"</code>\\n\"+\n     \"</div>\"}};\n\n  function display_loaded() {\n    const el = document.getElementById(\"b35973f0-521d-479b-9dd2-0bc089c97f1f\");\n    if (el != null) {\n      el.textContent = \"BokehJS is loading...\";\n    }\n    if (root.Bokeh !== undefined) {\n      if (el != null) {\n        el.textContent = \"BokehJS \" + root.Bokeh.version + \" successfully loaded.\";\n      }\n    } else if (Date.now() < root._bokeh_timeout) {\n      setTimeout(display_loaded, 100)\n    }\n  }\n\n  function run_callbacks() {\n    try {\n      root._bokeh_onload_callbacks.forEach(function(callback) {\n        if (callback != null)\n          callback();\n      });\n    } finally {\n      delete root._bokeh_onload_callbacks\n    }\n    console.debug(\"Bokeh: all callbacks have finished\");\n  }\n\n  function load_libs(css_urls, js_urls, callback) {\n    if (css_urls == null) css_urls = [];\n    if (js_urls == null) js_urls = [];\n\n    root._bokeh_onload_callbacks.push(callback);\n    if (root._bokeh_is_loading > 0) {\n      console.debug(\"Bokeh: BokehJS is being loaded, scheduling callback at\", now());\n      return null;\n    }\n    if (js_urls == null || js_urls.length === 0) {\n      run_callbacks();\n      return null;\n    }\n    console.debug(\"Bokeh: BokehJS not loaded, scheduling load and callback at\", now());\n    root._bokeh_is_loading = css_urls.length + js_urls.length;\n\n    function on_load() {\n      root._bokeh_is_loading--;\n      if (root._bokeh_is_loading === 0) {\n        console.debug(\"Bokeh: all BokehJS libraries/stylesheets loaded\");\n        run_callbacks()\n      }\n    }\n\n    function on_error(url) {\n      console.error(\"failed to load \" + url);\n    }\n\n    for (let i = 0; i < css_urls.length; i++) {\n      const url = css_urls[i];\n      const element = document.createElement(\"link\");\n      element.onload = on_load;\n      element.onerror = on_error.bind(null, url);\n      element.rel = \"stylesheet\";\n      element.type = \"text/css\";\n      element.href = url;\n      console.debug(\"Bokeh: injecting link tag for BokehJS stylesheet: \", url);\n      document.body.appendChild(element);\n    }\n\n    for (let i = 0; i < js_urls.length; i++) {\n      const url = js_urls[i];\n      const element = document.createElement('script');\n      element.onload = on_load;\n      element.onerror = on_error.bind(null, url);\n      element.async = false;\n      element.src = url;\n      console.debug(\"Bokeh: injecting script tag for BokehJS library: \", url);\n      document.head.appendChild(element);\n    }\n  };\n\n  function inject_raw_css(css) {\n    const element = document.createElement(\"style\");\n    element.appendChild(document.createTextNode(css));\n    document.body.appendChild(element);\n  }\n\n  const js_urls = [\"https://cdn.bokeh.org/bokeh/release/bokeh-3.3.2.min.js\", \"https://cdn.bokeh.org/bokeh/release/bokeh-gl-3.3.2.min.js\", \"https://cdn.bokeh.org/bokeh/release/bokeh-widgets-3.3.2.min.js\", \"https://cdn.bokeh.org/bokeh/release/bokeh-tables-3.3.2.min.js\", \"https://cdn.bokeh.org/bokeh/release/bokeh-mathjax-3.3.2.min.js\"];\n  const css_urls = [];\n\n  const inline_js = [    function(Bokeh) {\n      Bokeh.set_log_level(\"info\");\n    },\nfunction(Bokeh) {\n    }\n  ];\n\n  function run_inline_js() {\n    if (root.Bokeh !== undefined || force === true) {\n          for (let i = 0; i < inline_js.length; i++) {\n      inline_js[i].call(root, root.Bokeh);\n    }\nif (force === true) {\n        display_loaded();\n      }} else if (Date.now() < root._bokeh_timeout) {\n      setTimeout(run_inline_js, 100);\n    } else if (!root._bokeh_failed_load) {\n      console.log(\"Bokeh: BokehJS failed to load within specified timeout.\");\n      root._bokeh_failed_load = true;\n    } else if (force !== true) {\n      const cell = $(document.getElementById(\"b35973f0-521d-479b-9dd2-0bc089c97f1f\")).parents('.cell').data().cell;\n      cell.output_area.append_execute_result(NB_LOAD_WARNING)\n    }\n  }\n\n  if (root._bokeh_is_loading === 0) {\n    console.debug(\"Bokeh: BokehJS loaded, going straight to plotting\");\n    run_inline_js();\n  } else {\n    load_libs(css_urls, js_urls, function() {\n      console.debug(\"Bokeh: BokehJS plotting callback run at\", now());\n      run_inline_js();\n    });\n  }\n}(window));"
     },
     "metadata": {},
     "output_type": "display_data"
    },
    {
     "data": {
      "text/html": [
       "\n",
       "  <div id=\"d946d87a-deb7-4ac6-984e-38fa641734bc\" data-root-id=\"p1032\" style=\"display: contents;\"></div>\n"
      ]
     },
     "metadata": {},
     "output_type": "display_data"
    },
    {
     "data": {
      "application/javascript": [
       "(function(root) {\n",
       "  function embed_document(root) {\n",
       "  const docs_json = {\"0b4bb07e-c561-4638-8c00-b61cce141b14\":{\"version\":\"3.3.2\",\"title\":\"Bokeh Application\",\"roots\":[{\"type\":\"object\",\"name\":\"DataTable\",\"id\":\"p1032\",\"attributes\":{\"source\":{\"type\":\"object\",\"name\":\"ColumnDataSource\",\"id\":\"p1010\",\"attributes\":{\"selected\":{\"type\":\"object\",\"name\":\"Selection\",\"id\":\"p1011\",\"attributes\":{\"indices\":[],\"line_indices\":[]}},\"selection_policy\":{\"type\":\"object\",\"name\":\"UnionRenderers\",\"id\":\"p1012\"},\"data\":{\"type\":\"map\",\"entries\":[[\"color\",[\"#dcdcdc\",\"#3c3285\",\"#4353c2\",\"#4673eb\",\"#4291fe\",\"#2fb1f3\",\"#1ccdd7\",\"#19e3b8\",\"#32f197\",\"#61fc6c\",\"#8efe48\",\"#b1f836\",\"#cfea34\",\"#ead339\",\"#f9ba38\",\"#fe9b2d\",\"#f9771e\",\"#ec520e\",\"#d93806\",\"#c02302\",\"#a01101\"]],[\"label\",[\"ABSTAIN\",\"alt.atheism\",\"comp.graphics\",\"comp.os.ms-windows.misc\",\"comp.sys.ibm.pc.hardware\",\"comp.sys.mac.hardware\",\"comp.windows.x\",\"misc.forsale\",\"rec.autos\",\"rec.motorcycles\",\"rec.sport.baseball\",\"rec.sport.hockey\",\"sci.crypt\",\"sci.electronics\",\"sci.med\",\"sci.space\",\"soc.religion.christian\",\"talk.politics.guns\",\"talk.politics.mideast\",\"talk.politics.misc\",\"talk.religion.misc\"]],[\"count_raw\",[367,0,0,0,0,0,0,0,0,0,0,0,0,0,0,0,0,0,0,0,0]],[\"count_train\",[0,17,20,20,26,18,22,28,17,10,12,22,15,10,21,26,25,14,20,18,19]],[\"count_dev\",[0,8,4,3,7,3,7,3,4,4,3,4,7,7,6,6,6,3,7,5,2]],[\"count_test\",[0,2,5,6,3,2,2,3,3,8,7,4,9,4,3,6,8,5,6,4,6]]]}}},\"view\":{\"type\":\"object\",\"name\":\"CDSView\",\"id\":\"p1036\",\"attributes\":{\"filter\":{\"type\":\"object\",\"name\":\"AllIndices\",\"id\":\"p1037\"}}},\"columns\":[{\"type\":\"object\",\"name\":\"TableColumn\",\"id\":\"p1013\",\"attributes\":{\"field\":\"label\",\"title\":\"label\",\"formatter\":{\"type\":\"object\",\"name\":\"StringFormatter\",\"id\":\"p1014\"},\"editor\":{\"type\":\"object\",\"name\":\"StringEditor\",\"id\":\"p1015\"}}},{\"type\":\"object\",\"name\":\"TableColumn\",\"id\":\"p1016\",\"attributes\":{\"field\":\"count_raw\",\"title\":\"raw\",\"formatter\":{\"type\":\"object\",\"name\":\"StringFormatter\",\"id\":\"p1017\"},\"editor\":{\"type\":\"object\",\"name\":\"StringEditor\",\"id\":\"p1018\"}}},{\"type\":\"object\",\"name\":\"TableColumn\",\"id\":\"p1019\",\"attributes\":{\"field\":\"count_train\",\"title\":\"train\",\"formatter\":{\"type\":\"object\",\"name\":\"StringFormatter\",\"id\":\"p1020\"},\"editor\":{\"type\":\"object\",\"name\":\"StringEditor\",\"id\":\"p1021\"}}},{\"type\":\"object\",\"name\":\"TableColumn\",\"id\":\"p1022\",\"attributes\":{\"field\":\"count_dev\",\"title\":\"dev\",\"formatter\":{\"type\":\"object\",\"name\":\"StringFormatter\",\"id\":\"p1023\"},\"editor\":{\"type\":\"object\",\"name\":\"StringEditor\",\"id\":\"p1024\"}}},{\"type\":\"object\",\"name\":\"TableColumn\",\"id\":\"p1025\",\"attributes\":{\"field\":\"count_test\",\"title\":\"test\",\"formatter\":{\"type\":\"object\",\"name\":\"StringFormatter\",\"id\":\"p1026\"},\"editor\":{\"type\":\"object\",\"name\":\"StringEditor\",\"id\":\"p1027\"}}},{\"type\":\"object\",\"name\":\"TableColumn\",\"id\":\"p1029\",\"attributes\":{\"field\":\"color\",\"title\":\"color\",\"formatter\":{\"type\":\"object\",\"name\":\"HTMLTemplateFormatter\",\"id\":\"p1028\",\"attributes\":{\"template\":\"\\n<p style=\\\"color:<%= value %>;\\\">\\n    <%= \\\"&#9608;&#9608;&#9608;\\\" %>\\n</p>\\n\"}},\"editor\":{\"type\":\"object\",\"name\":\"StringEditor\",\"id\":\"p1031\"}}}]}}]}};\n",
       "  const render_items = [{\"docid\":\"0b4bb07e-c561-4638-8c00-b61cce141b14\",\"roots\":{\"p1032\":\"d946d87a-deb7-4ac6-984e-38fa641734bc\"},\"root_ids\":[\"p1032\"]}];\n",
       "  root.Bokeh.embed.embed_items_notebook(docs_json, render_items);\n",
       "  }\n",
       "  if (root.Bokeh !== undefined) {\n",
       "    embed_document(root);\n",
       "  } else {\n",
       "    let attempts = 0;\n",
       "    const timer = setInterval(function(root) {\n",
       "      if (root.Bokeh !== undefined) {\n",
       "        clearInterval(timer);\n",
       "        embed_document(root);\n",
       "      } else {\n",
       "        attempts++;\n",
       "        if (attempts > 100) {\n",
       "          clearInterval(timer);\n",
       "          console.log(\"Bokeh: ERROR: Unable to run BokehJS code because BokehJS library is missing\");\n",
       "        }\n",
       "      }\n",
       "    }, 10, root)\n",
       "  }\n",
       "})(window);"
      ],
      "application/vnd.bokehjs_exec.v0+json": ""
     },
     "metadata": {
      "application/vnd.bokehjs_exec.v0+json": {
       "id": "p1032"
      }
     },
     "output_type": "display_data"
    }
   ],
   "source": [
    "from bokeh.io import show, output_notebook\n",
    "\n",
    "output_notebook()\n",
    "\n",
    "# normally your would skip notebook_url or use Jupyter address\n",
    "notebook_url = 'localhost:8888'\n",
    "\n",
    "show(dataset.pop_table, notebook_url=notebook_url)"
   ]
  },
  {
   "cell_type": "markdown",
   "id": "5c37cb33",
   "metadata": {},
   "source": [
    "<br>\n",
    "\n",
    "### **Transfer Data Between Subsets**\n",
    "\n",
    "`COMMIT` and `DEDUP` are the mechanisms that `hover` uses to transfer data between subsets.\n",
    "\n",
    "-   `COMMIT` copies selected points (to be discussed later) to a destination subset\n",
    "    -   labeled-raw-only: `COMMIT` automatically detects which points are in the raw set with a valid label. Other points will not get copied.\n",
    "    -   keep-last: you can commit the same point to the same subset multiple times and the last copy will be kept. This can be useful for revising labels before `DEDUP`.\n",
    "-   `DEDUP` removes duplicates (identified by feature value) across subsets\n",
    "    -   priority rule: test > dev > train > raw, i.e. test set data always gets kept during deduplication\n",
    "\n",
    "-   <details open><summary>FAQ</summary>\n",
    "    <details open><summary>Why does COMMIT only work on the raw subset?</summary>\n",
    "        Most selections will happen through plots, where different subsets are on top of each other. This means selections can contain both unlabeled and labeled points.\n",
    "\n",
    "        Way too often we find ourselves trying to view both the labeled and the unlabeled, but only moving the unlabeled \"raw\" points. So it's handy that COMMIT picks those points only.\n",
    "    </details>\n",
    "\n",
    "</details>\n",
    "\n",
    "These mechanisms correspond to buttons in `hover`'s annotation interface, which you have encountered in the quickstart:"
   ]
  },
  {
   "cell_type": "code",
   "execution_count": 3,
   "id": "97b9182d",
   "metadata": {
    "execution": {
     "iopub.execute_input": "2023-12-12T01:26:03.882053Z",
     "iopub.status.busy": "2023-12-12T01:26:03.881638Z",
     "iopub.status.idle": "2023-12-12T01:26:03.898686Z",
     "shell.execute_reply": "2023-12-12T01:26:03.898175Z"
    }
   },
   "outputs": [
    {
     "name": "stderr",
     "output_type": "stream",
     "text": [
      "WARNING:bokeh.embed.util:\n",
      "You are generating standalone HTML/JS output, but trying to use real Python\n",
      "callbacks (i.e. with on_change or on_event). This combination cannot work.\n",
      "\n",
      "Only JavaScript callbacks may be used with standalone output. For more\n",
      "information on JavaScript callbacks with Bokeh, see:\n",
      "\n",
      "    https://docs.bokeh.org/en/latest/docs/user_guide/interaction/callbacks.html\n",
      "\n",
      "Alternatively, to use real Python callbacks, a Bokeh server application may\n",
      "be used. For more information on building and running Bokeh applications, see:\n",
      "\n",
      "    https://docs.bokeh.org/en/latest/docs/user_guide/server.html\n",
      "\n"
     ]
    },
    {
     "data": {
      "text/html": [
       "\n",
       "  <div id=\"e71fe9bc-8dca-4ec0-b4e2-4103eb7a87a0\" data-root-id=\"p1056\" style=\"display: contents;\"></div>\n"
      ]
     },
     "metadata": {},
     "output_type": "display_data"
    },
    {
     "data": {
      "application/javascript": [
       "(function(root) {\n",
       "  function embed_document(root) {\n",
       "  const docs_json = {\"a561a553-7a36-4eab-8869-5406cc22a6a0\":{\"version\":\"3.3.2\",\"title\":\"Bokeh Application\",\"roots\":[{\"type\":\"object\",\"name\":\"Column\",\"id\":\"p1056\",\"attributes\":{\"children\":[{\"type\":\"object\",\"name\":\"Row\",\"id\":\"p1055\",\"attributes\":{\"children\":[{\"type\":\"object\",\"name\":\"Dropdown\",\"id\":\"p1002\",\"attributes\":{\"button_type\":\"warning\",\"subscribed_events\":{\"type\":\"set\",\"entries\":[\"menu_item_click\",\"button_click\"]},\"label\":\"Commit\",\"menu\":[\"train\",\"dev\",\"test\"]}},{\"type\":\"object\",\"name\":\"Button\",\"id\":\"p1003\",\"attributes\":{\"button_type\":\"warning\",\"subscribed_events\":{\"type\":\"set\",\"entries\":[\"button_click\"]},\"label\":\"Dedup\"}}]}},{\"type\":\"object\",\"name\":\"DataTable\",\"id\":\"p1032\",\"attributes\":{\"source\":{\"type\":\"object\",\"name\":\"ColumnDataSource\",\"id\":\"p1010\",\"attributes\":{\"selected\":{\"type\":\"object\",\"name\":\"Selection\",\"id\":\"p1011\",\"attributes\":{\"indices\":[],\"line_indices\":[]}},\"selection_policy\":{\"type\":\"object\",\"name\":\"UnionRenderers\",\"id\":\"p1012\"},\"data\":{\"type\":\"map\",\"entries\":[[\"color\",[\"#dcdcdc\",\"#3c3285\",\"#4353c2\",\"#4673eb\",\"#4291fe\",\"#2fb1f3\",\"#1ccdd7\",\"#19e3b8\",\"#32f197\",\"#61fc6c\",\"#8efe48\",\"#b1f836\",\"#cfea34\",\"#ead339\",\"#f9ba38\",\"#fe9b2d\",\"#f9771e\",\"#ec520e\",\"#d93806\",\"#c02302\",\"#a01101\"]],[\"label\",[\"ABSTAIN\",\"alt.atheism\",\"comp.graphics\",\"comp.os.ms-windows.misc\",\"comp.sys.ibm.pc.hardware\",\"comp.sys.mac.hardware\",\"comp.windows.x\",\"misc.forsale\",\"rec.autos\",\"rec.motorcycles\",\"rec.sport.baseball\",\"rec.sport.hockey\",\"sci.crypt\",\"sci.electronics\",\"sci.med\",\"sci.space\",\"soc.religion.christian\",\"talk.politics.guns\",\"talk.politics.mideast\",\"talk.politics.misc\",\"talk.religion.misc\"]],[\"count_raw\",[367,0,0,0,0,0,0,0,0,0,0,0,0,0,0,0,0,0,0,0,0]],[\"count_train\",[0,17,20,20,26,18,22,28,17,10,12,22,15,10,21,26,25,14,20,18,19]],[\"count_dev\",[0,8,4,3,7,3,7,3,4,4,3,4,7,7,6,6,6,3,7,5,2]],[\"count_test\",[0,2,5,6,3,2,2,3,3,8,7,4,9,4,3,6,8,5,6,4,6]]]}}},\"view\":{\"type\":\"object\",\"name\":\"CDSView\",\"id\":\"p1036\",\"attributes\":{\"filter\":{\"type\":\"object\",\"name\":\"AllIndices\",\"id\":\"p1037\"}}},\"columns\":[{\"type\":\"object\",\"name\":\"TableColumn\",\"id\":\"p1013\",\"attributes\":{\"field\":\"label\",\"title\":\"label\",\"formatter\":{\"type\":\"object\",\"name\":\"StringFormatter\",\"id\":\"p1014\"},\"editor\":{\"type\":\"object\",\"name\":\"StringEditor\",\"id\":\"p1015\"}}},{\"type\":\"object\",\"name\":\"TableColumn\",\"id\":\"p1016\",\"attributes\":{\"field\":\"count_raw\",\"title\":\"raw\",\"formatter\":{\"type\":\"object\",\"name\":\"StringFormatter\",\"id\":\"p1017\"},\"editor\":{\"type\":\"object\",\"name\":\"StringEditor\",\"id\":\"p1018\"}}},{\"type\":\"object\",\"name\":\"TableColumn\",\"id\":\"p1019\",\"attributes\":{\"field\":\"count_train\",\"title\":\"train\",\"formatter\":{\"type\":\"object\",\"name\":\"StringFormatter\",\"id\":\"p1020\"},\"editor\":{\"type\":\"object\",\"name\":\"StringEditor\",\"id\":\"p1021\"}}},{\"type\":\"object\",\"name\":\"TableColumn\",\"id\":\"p1022\",\"attributes\":{\"field\":\"count_dev\",\"title\":\"dev\",\"formatter\":{\"type\":\"object\",\"name\":\"StringFormatter\",\"id\":\"p1023\"},\"editor\":{\"type\":\"object\",\"name\":\"StringEditor\",\"id\":\"p1024\"}}},{\"type\":\"object\",\"name\":\"TableColumn\",\"id\":\"p1025\",\"attributes\":{\"field\":\"count_test\",\"title\":\"test\",\"formatter\":{\"type\":\"object\",\"name\":\"StringFormatter\",\"id\":\"p1026\"},\"editor\":{\"type\":\"object\",\"name\":\"StringEditor\",\"id\":\"p1027\"}}},{\"type\":\"object\",\"name\":\"TableColumn\",\"id\":\"p1029\",\"attributes\":{\"field\":\"color\",\"title\":\"color\",\"formatter\":{\"type\":\"object\",\"name\":\"HTMLTemplateFormatter\",\"id\":\"p1028\",\"attributes\":{\"template\":\"\\n<p style=\\\"color:<%= value %>;\\\">\\n    <%= \\\"&#9608;&#9608;&#9608;\\\" %>\\n</p>\\n\"}},\"editor\":{\"type\":\"object\",\"name\":\"StringEditor\",\"id\":\"p1031\"}}}]}}]}}]}};\n",
       "  const render_items = [{\"docid\":\"a561a553-7a36-4eab-8869-5406cc22a6a0\",\"roots\":{\"p1056\":\"e71fe9bc-8dca-4ec0-b4e2-4103eb7a87a0\"},\"root_ids\":[\"p1056\"]}];\n",
       "  root.Bokeh.embed.embed_items_notebook(docs_json, render_items);\n",
       "  }\n",
       "  if (root.Bokeh !== undefined) {\n",
       "    embed_document(root);\n",
       "  } else {\n",
       "    let attempts = 0;\n",
       "    const timer = setInterval(function(root) {\n",
       "      if (root.Bokeh !== undefined) {\n",
       "        clearInterval(timer);\n",
       "        embed_document(root);\n",
       "      } else {\n",
       "        attempts++;\n",
       "        if (attempts > 100) {\n",
       "          clearInterval(timer);\n",
       "          console.log(\"Bokeh: ERROR: Unable to run BokehJS code because BokehJS library is missing\");\n",
       "        }\n",
       "      }\n",
       "    }, 10, root)\n",
       "  }\n",
       "})(window);"
      ],
      "application/vnd.bokehjs_exec.v0+json": ""
     },
     "metadata": {
      "application/vnd.bokehjs_exec.v0+json": {
       "id": "p1056"
      }
     },
     "output_type": "display_data"
    }
   ],
   "source": [
    "from bokeh.layouts import row, column\n",
    "\n",
    "show(column(\n",
    "    row(\n",
    "        dataset.data_committer,\n",
    "        dataset.dedup_trigger,\n",
    "    ),\n",
    "    dataset.pop_table,\n",
    "), notebook_url=notebook_url)"
   ]
  },
  {
   "cell_type": "markdown",
   "id": "cd162dc4",
   "metadata": {},
   "source": [
    "<br>\n",
    "\n",
    "Of course, so far we have nothing to move, because there's no data selected. We shall now discuss selections.\n",
    "\n",
    "## **Selection**\n",
    "\n",
    "`hover` labels data points in bulk, which requires selecting groups of homogeneous data, i.e. semantically similar or going to have the same label. Being able to skim through what you selected gives you confidence about homogeneity.\n",
    "\n",
    "Normally, selection happens through a plot (`explorer`), as we have seen in the quickstart. For the purpose here, we will \"cheat\" and assign the selection programmatically:"
   ]
  },
  {
   "cell_type": "code",
   "execution_count": 4,
   "id": "fa2429c7",
   "metadata": {
    "execution": {
     "iopub.execute_input": "2023-12-12T01:26:03.901154Z",
     "iopub.status.busy": "2023-12-12T01:26:03.900781Z",
     "iopub.status.idle": "2023-12-12T01:26:03.914227Z",
     "shell.execute_reply": "2023-12-12T01:26:03.913564Z"
    }
   },
   "outputs": [
    {
     "data": {
      "text/html": [
       "<pre style=\"white-space:pre;overflow-x:auto;line-height:normal;font-family:Menlo,'DejaVu Sans Mono',consolas,'Courier New',monospace\"><span style=\"color: #008000; text-decoration-color: #008000\">🟢 SupervisableTextDataset: Selection table: latest selection with </span><span style=\"color: #008080; text-decoration-color: #008080; font-weight: bold\">10</span><span style=\"color: #008000; text-decoration-color: #008000\"> entries.</span>\n",
       "</pre>\n"
      ],
      "text/plain": [
       "\u001b[32m🟢 SupervisableTextDataset: Selection table: latest selection with \u001b[0m\u001b[1;36m10\u001b[0m\u001b[32m entries.\u001b[0m\n"
      ]
     },
     "metadata": {},
     "output_type": "display_data"
    },
    {
     "data": {
      "text/html": [
       "\n",
       "  <div id=\"c425e94a-3b08-4562-9160-8c28dd603556\" data-root-id=\"p1049\" style=\"display: contents;\"></div>\n"
      ]
     },
     "metadata": {},
     "output_type": "display_data"
    },
    {
     "data": {
      "application/javascript": [
       "(function(root) {\n",
       "  function embed_document(root) {\n",
       "  const docs_json = {\"f0037a87-2b7c-40f8-9f48-3410e3160934\":{\"version\":\"3.3.2\",\"title\":\"Bokeh Application\",\"roots\":[{\"type\":\"object\",\"name\":\"DataTable\",\"id\":\"p1049\",\"attributes\":{\"source\":{\"type\":\"object\",\"name\":\"ColumnDataSource\",\"id\":\"p1038\",\"attributes\":{\"selected\":{\"type\":\"object\",\"name\":\"Selection\",\"id\":\"p1039\",\"attributes\":{\"indices\":[],\"line_indices\":[]}},\"selection_policy\":{\"type\":\"object\",\"name\":\"UnionRenderers\",\"id\":\"p1040\"},\"data\":{\"type\":\"map\",\"entries\":[[\"text\",[\"   They are working ok, but your definitions in QVTNET.INI and QVTHOST.RC are incorrect (see below).   No, I don't think so. You are using QVTNET and NOVELL concurrently, aren't you? They use different packet types, so QVTNET (TCP/IP) and NOVELL (IPX/SPX) should be able to coexist just fine. PKTMUX is required if you are using different TCP/IP-Packages concurrently.   There is the first problem: You didn't specify hostnames, just IP-Addresses. Your file should look like this:  137.112.5.2        <Name of your Nameserver> 137.112.199.50     <Name of your Router>   Here you should only specify your hostname, without the domain part.   Instead, use router=<Name of your Router>, as specified in your QVTHOST.RC I know the release notes for 3.31 say that IP addresses should work also, but  apparently they don't.   Here, too, you should use the hostname of the nameserver instead of the IP address.  It worked fine for me that way, although I could not specify more than one nameserver. The relnotes say it should be possible to specify up to three nameservers, separated by commas, but it didn't work.  Hope it helps, Richard \",\"re: majority of users not readding from floppy. Well, how about those of us who have 1400-picture CD-ROMS and would like to use CVIEW because it is fast and it works well, but can't because the moron lacked the foresight to create the temp file in the program's path, not the current didrectory?  \",\"Recently the following problem has arrisen.  The first time I turn on my   computer when windows starts (from my autoexec) after the win31 title screen   the computer reboots on its own.  Usually the second time (after reboot) or   from the DOS prompt everything works fine.   s far as I remember I have not changed my config.sys or autoxec.bat or   win.ini.  I can't remember whether this problem occured before I   optimized/defragmented my disk and created a larger swap file (Thank you   MathCAD 4 :(  )  System 386sx, 4MB, stacker 2.0, win31, DOS 5  --- ---------------------------------------------------------------------\",\"My BBB Autoline arbitration experience is over.   The outcome was decidedly mixed.  I won the battle but  lost the war.  The arbitrator found that the car was  defective, but decided to offer a repurchase well below  market value :(.  At the time of the hearing, average  retail on my truck in the NADA book was $21,025, but  the decision was for  $17,665.  I wrote a letter to the  Council of Better Business Bureaus pointing out the  fact that if you have an automobile that does not  depreciate rapidly, the manufacturer has no incentive  to deal with you.  There is no way that the  manufacturer can loose because they can turn around and  sell the vehicle at a profit if the consumer is awarded  a repurchase.  The attitude of Chevrolet's  representative at the hearing tends to support this  point of view;  he was totally unprepared and did not  seem to take the proceeding very seriously.  I decided to take the repurchase, even though I am  getting totally screwed on the price.  I will not have  to deal with continuing repairs or selling a lemon  myself, and I have no case for a civil suit based on  the Idaho lemon law.  I am planning to send a letter to  my elected representatives telling them how utterly  ridiculous the Idaho lemon law is.  The law allows for  a \\\"use deduction\\\" equal to the IRS mileage allowance.   As if Chevrolet were buying my gas and paying  for my insurance.  Summary of the case:  In May 1992 I bought a new 3/4 ton HD Chevrolet pickup.  Between May 1992 and December 1992  this vehicle required repair after repair.  Systems  that required attention included the transmission,  heater fan, paint, suspension, and motor.  The main  problem was the five speed manual transmission.  They  could not install a non-defective transmission in at  least four attempts.  So, in summary, it is possible to get a repurchase, but  you are going to get screwed on the price, unless you  paid too much in the first place, or if your car  happens to be a model that depreciates rapidly.\",\" John 12:24-26: \\\"Most assuredly, I say to you, unless a grain of wheat falls onto the ground and dies, it remains alone; but if it dies, it produces much grain.   \\\"He who loves his life will lose it, and he who hates his life in this world will keep it for eternal life.   \\\"If anyone serves Me, let him follow Me; and where I am, there My servant will be also.  If anyone serves Me, him My Father will honor.\\\"  Why would I want an eternal life if I hate this one?  If we were created by a deity, why would that deity not wish us to enjoy what he has given us?  Why would I want to live forever?  The challenge in my life is that I will die, and that I must give my life the meaning I wish it to have before that happens.  My time is here and will someday pass; I will be content to live on in the memories of my friends, and once they too are dead, then I will no longer have any reason to exist.  In short: even if your deity *does* exist, that doesn't automatically mean that I would worship it.  I am content to live my own life, and fend for myself, so when I die, I can be proud of the fact that no matter where I end up, it will be because of *my* actions and *my* choices.  If your god decides to toss me into a flaming pit for this, then so be it.  I would much rather just cease to exist.  But if your god wants my respect and my obedience, then it had better earn these; and if it does, then they will be very strong and true.   Jesus wasn't the only one who rose from the dead -- I think it was Osiris who did the same, as well as a few characters from Greek or Norse legend, if memory serves.  But still: WHY would I want to rise from the dead?  Why do *you* want to?   If your god wants to win my devotion, then it knows what it can do -- provide some way for me to believe without having to resort to blind faith that could be applied equally well to any religion.   That's precisely it.  I neither see nor know Zeus either, nor Odin. Shall I offer them the same devotion I offer Jesus?   You've got to understand my point-of-view: I see Christians spouting Bible verse all the time as if it were some sort of magic spell that will level all opposition.  Truth is, it's not.  Robert has never demonstrated that he actually understands what the verses imply; he just rattles them off day by day.  Some brazenly fly in the face of common sense and reality, and I point these out where I can.  But even more than that, even when Christians *do* try to explain the verses in their own words, they do so from a Christian point of view, which is that every human being would want to be a Christian if only he or she understood the Christian message properly, and then all strife and suffering on the earth would end.  Here's the problem with that: substitute \\\"Moslem\\\" or \\\"Buddhist\\\" or \\\"Satanist\\\" instead of \\\"Christian\\\", and it means the same thing.  Christanity is a very nice belief set around a very nice book.  But if you want to make me believe that it has any bearing on the REAL WORLD, you've got some convincing to do.   And in my opinion, you're bumbling about blindly making up entities where there aren't any, and depriving yourself of a true understanding and enjoyment of your life.  As long as you keep your beliefs to yourself, I'll keep my beliefs to myself -- but as soon as you start waving them around, expect me to toss in my opinions, too.\",\" Pierre, For purposes of the tie breaker, you only count the first three games in each city. Therefore, Quebec cannot possibly be ahead of Montreal 4-3, and there's probably only one game that counts remaining between Boston and Quebec, which means Boston has probably already won.\",\"Mark Wilson responding to C.D. Tavares:   MW>|So the laws exist, and the penalties are as you say, but nobody is ever MW>|prosecuted under these laws.  They are \\\"traded away\\\" for easy pleas.  MW>Having such gun laws on the books is still better than nothing. MW>What would the DA have traded away in order to get the guilty plea if the MW>gun law had not been in effect.  Our liberty?  Right...don't even think about enforcing the law and imposing the prescribed penalty....let's hose the citizens instead. ---  . OLX 2.2 . Madness takes its toll - please have exact change                             \",\"  You know, everybody scoffed at that guy they hung up on a cross too. He claimed also to be the son of God; and it took almost two thousand  years to forget what he preached.   Love thy neighbor as thyself.   Anybody else wonder if those two guys setting the fires were 'agent  provacateurs.'  \",\"   And in Russia, capitalists were persecuted for trading goods on the black market. And in the US, capitalist minded types are imprisoned and killed for things such as selling drugs, guns, pornography, and other victimless activities.  It doesn't matter whether you are socialist or capitalist, power and control are central to government. Since citizens can't be trusted to run their own affairs, the government must watch them.  (for their own good of course. I mean, with strong cryptography, citizens might <gasp!> start to hide things from the IRS, sell drugs/guns/pornography, and that cannot be allowed!) \",\" Perish the thought...but you know, you may be right, at least as far as MAJOR LEAGUE professional sports teams go.  They all seem to be becoming BIG MONEY games, much more so than at any previous time.  To think that if I am ever able to move back home several years from now, all that may be there is an AHL team, at best...SIGH.\"]],[\"SUBSET\",[\"raw\",\"raw\",\"raw\",\"raw\",\"raw\",\"raw\",\"raw\",\"raw\",\"raw\",\"raw\"]],[\"label\",[\"ABSTAIN\",\"ABSTAIN\",\"ABSTAIN\",\"ABSTAIN\",\"ABSTAIN\",\"ABSTAIN\",\"ABSTAIN\",\"ABSTAIN\",\"ABSTAIN\",\"ABSTAIN\"]]]}}},\"view\":{\"type\":\"object\",\"name\":\"CDSView\",\"id\":\"p1053\",\"attributes\":{\"filter\":{\"type\":\"object\",\"name\":\"AllIndices\",\"id\":\"p1054\"}}},\"columns\":[{\"type\":\"object\",\"name\":\"TableColumn\",\"id\":\"p1043\",\"attributes\":{\"field\":\"text\",\"title\":\"text\",\"formatter\":{\"type\":\"object\",\"name\":\"HTMLTemplateFormatter\",\"id\":\"p1042\",\"attributes\":{\"template\":\"<span href=\\\"#\\\" data-toggle=\\\"tooltip\\\" title=\\\"<%= value %>\\\"><%= value %></span>\"}},\"editor\":{\"type\":\"object\",\"name\":\"CellEditor\",\"id\":\"p1041\"}}},{\"type\":\"object\",\"name\":\"TableColumn\",\"id\":\"p1046\",\"attributes\":{\"field\":\"label\",\"title\":\"label\",\"formatter\":{\"type\":\"object\",\"name\":\"StringFormatter\",\"id\":\"p1047\"},\"editor\":{\"type\":\"object\",\"name\":\"StringEditor\",\"id\":\"p1048\"}}}],\"editable\":true,\"selectable\":\"checkbox\"}}]}};\n",
       "  const render_items = [{\"docid\":\"f0037a87-2b7c-40f8-9f48-3410e3160934\",\"roots\":{\"p1049\":\"c425e94a-3b08-4562-9160-8c28dd603556\"},\"root_ids\":[\"p1049\"]}];\n",
       "  root.Bokeh.embed.embed_items_notebook(docs_json, render_items);\n",
       "  }\n",
       "  if (root.Bokeh !== undefined) {\n",
       "    embed_document(root);\n",
       "  } else {\n",
       "    let attempts = 0;\n",
       "    const timer = setInterval(function(root) {\n",
       "      if (root.Bokeh !== undefined) {\n",
       "        clearInterval(timer);\n",
       "        embed_document(root);\n",
       "      } else {\n",
       "        attempts++;\n",
       "        if (attempts > 100) {\n",
       "          clearInterval(timer);\n",
       "          console.log(\"Bokeh: ERROR: Unable to run BokehJS code because BokehJS library is missing\");\n",
       "        }\n",
       "      }\n",
       "    }, 10, root)\n",
       "  }\n",
       "})(window);"
      ],
      "application/vnd.bokehjs_exec.v0+json": ""
     },
     "metadata": {
      "application/vnd.bokehjs_exec.v0+json": {
       "id": "p1049"
      }
     },
     "output_type": "display_data"
    }
   ],
   "source": [
    "dataset._callback_update_selection(dataset.dfs[\"raw\"][:10])\n",
    "\n",
    "show(dataset.sel_table, notebook_url=notebook_url)"
   ]
  },
  {
   "cell_type": "markdown",
   "id": "adeb584d",
   "metadata": {},
   "source": [
    "<br>\n",
    "\n",
    "### **Edit Data Within a Selection**\n",
    "\n",
    "Often the points selected are not perfectly homogeneous, i.e. some outliers belong to a different label from the selected group overall. It would be helpful to `EVICT` them, and `SupervisableDataset` has a button for it.\n",
    "\n",
    "Sometimes you may also wish to edit data values on the fly.  In hover this is called `PATCH`, and there also is a button for it.\n",
    "\n",
    "-   by default, labels can be edited but feature values cannot.\n",
    "\n",
    "Let's plot the forementioned buttons along with the selection table. Toggle any number of rows in the table, then click the button to `EVICT` or `PATCH` those rows:"
   ]
  },
  {
   "cell_type": "code",
   "execution_count": 5,
   "id": "ee810968",
   "metadata": {
    "execution": {
     "iopub.execute_input": "2023-12-12T01:26:03.916762Z",
     "iopub.status.busy": "2023-12-12T01:26:03.916527Z",
     "iopub.status.idle": "2023-12-12T01:26:03.932253Z",
     "shell.execute_reply": "2023-12-12T01:26:03.931610Z"
    }
   },
   "outputs": [
    {
     "name": "stderr",
     "output_type": "stream",
     "text": [
      "WARNING:bokeh.embed.util:\n",
      "You are generating standalone HTML/JS output, but trying to use real Python\n",
      "callbacks (i.e. with on_change or on_event). This combination cannot work.\n",
      "\n",
      "Only JavaScript callbacks may be used with standalone output. For more\n",
      "information on JavaScript callbacks with Bokeh, see:\n",
      "\n",
      "    https://docs.bokeh.org/en/latest/docs/user_guide/interaction/callbacks.html\n",
      "\n",
      "Alternatively, to use real Python callbacks, a Bokeh server application may\n",
      "be used. For more information on building and running Bokeh applications, see:\n",
      "\n",
      "    https://docs.bokeh.org/en/latest/docs/user_guide/server.html\n",
      "\n"
     ]
    },
    {
     "data": {
      "text/html": [
       "\n",
       "  <div id=\"e740cb39-4a9c-4559-af7d-976e0f18861e\" data-root-id=\"p1058\" style=\"display: contents;\"></div>\n"
      ]
     },
     "metadata": {},
     "output_type": "display_data"
    },
    {
     "data": {
      "application/javascript": [
       "(function(root) {\n",
       "  function embed_document(root) {\n",
       "  const docs_json = {\"0c459e9a-1483-4c89-bda2-4bf096f55167\":{\"version\":\"3.3.2\",\"title\":\"Bokeh Application\",\"roots\":[{\"type\":\"object\",\"name\":\"Column\",\"id\":\"p1058\",\"attributes\":{\"children\":[{\"type\":\"object\",\"name\":\"Row\",\"id\":\"p1057\",\"attributes\":{\"children\":[{\"type\":\"object\",\"name\":\"Button\",\"id\":\"p1006\",\"attributes\":{\"button_type\":\"primary\",\"label\":\"Evict Rows from Selection\"}},{\"type\":\"object\",\"name\":\"Button\",\"id\":\"p1005\",\"attributes\":{\"button_type\":\"warning\",\"subscribed_events\":{\"type\":\"set\",\"entries\":[\"button_click\"]},\"label\":\"Update Row Values\"}}]}},{\"type\":\"object\",\"name\":\"DataTable\",\"id\":\"p1049\",\"attributes\":{\"source\":{\"type\":\"object\",\"name\":\"ColumnDataSource\",\"id\":\"p1038\",\"attributes\":{\"selected\":{\"type\":\"object\",\"name\":\"Selection\",\"id\":\"p1039\",\"attributes\":{\"indices\":[],\"line_indices\":[]}},\"selection_policy\":{\"type\":\"object\",\"name\":\"UnionRenderers\",\"id\":\"p1040\"},\"data\":{\"type\":\"map\",\"entries\":[[\"text\",[\"   They are working ok, but your definitions in QVTNET.INI and QVTHOST.RC are incorrect (see below).   No, I don't think so. You are using QVTNET and NOVELL concurrently, aren't you? They use different packet types, so QVTNET (TCP/IP) and NOVELL (IPX/SPX) should be able to coexist just fine. PKTMUX is required if you are using different TCP/IP-Packages concurrently.   There is the first problem: You didn't specify hostnames, just IP-Addresses. Your file should look like this:  137.112.5.2        <Name of your Nameserver> 137.112.199.50     <Name of your Router>   Here you should only specify your hostname, without the domain part.   Instead, use router=<Name of your Router>, as specified in your QVTHOST.RC I know the release notes for 3.31 say that IP addresses should work also, but  apparently they don't.   Here, too, you should use the hostname of the nameserver instead of the IP address.  It worked fine for me that way, although I could not specify more than one nameserver. The relnotes say it should be possible to specify up to three nameservers, separated by commas, but it didn't work.  Hope it helps, Richard \",\"re: majority of users not readding from floppy. Well, how about those of us who have 1400-picture CD-ROMS and would like to use CVIEW because it is fast and it works well, but can't because the moron lacked the foresight to create the temp file in the program's path, not the current didrectory?  \",\"Recently the following problem has arrisen.  The first time I turn on my   computer when windows starts (from my autoexec) after the win31 title screen   the computer reboots on its own.  Usually the second time (after reboot) or   from the DOS prompt everything works fine.   s far as I remember I have not changed my config.sys or autoxec.bat or   win.ini.  I can't remember whether this problem occured before I   optimized/defragmented my disk and created a larger swap file (Thank you   MathCAD 4 :(  )  System 386sx, 4MB, stacker 2.0, win31, DOS 5  --- ---------------------------------------------------------------------\",\"My BBB Autoline arbitration experience is over.   The outcome was decidedly mixed.  I won the battle but  lost the war.  The arbitrator found that the car was  defective, but decided to offer a repurchase well below  market value :(.  At the time of the hearing, average  retail on my truck in the NADA book was $21,025, but  the decision was for  $17,665.  I wrote a letter to the  Council of Better Business Bureaus pointing out the  fact that if you have an automobile that does not  depreciate rapidly, the manufacturer has no incentive  to deal with you.  There is no way that the  manufacturer can loose because they can turn around and  sell the vehicle at a profit if the consumer is awarded  a repurchase.  The attitude of Chevrolet's  representative at the hearing tends to support this  point of view;  he was totally unprepared and did not  seem to take the proceeding very seriously.  I decided to take the repurchase, even though I am  getting totally screwed on the price.  I will not have  to deal with continuing repairs or selling a lemon  myself, and I have no case for a civil suit based on  the Idaho lemon law.  I am planning to send a letter to  my elected representatives telling them how utterly  ridiculous the Idaho lemon law is.  The law allows for  a \\\"use deduction\\\" equal to the IRS mileage allowance.   As if Chevrolet were buying my gas and paying  for my insurance.  Summary of the case:  In May 1992 I bought a new 3/4 ton HD Chevrolet pickup.  Between May 1992 and December 1992  this vehicle required repair after repair.  Systems  that required attention included the transmission,  heater fan, paint, suspension, and motor.  The main  problem was the five speed manual transmission.  They  could not install a non-defective transmission in at  least four attempts.  So, in summary, it is possible to get a repurchase, but  you are going to get screwed on the price, unless you  paid too much in the first place, or if your car  happens to be a model that depreciates rapidly.\",\" John 12:24-26: \\\"Most assuredly, I say to you, unless a grain of wheat falls onto the ground and dies, it remains alone; but if it dies, it produces much grain.   \\\"He who loves his life will lose it, and he who hates his life in this world will keep it for eternal life.   \\\"If anyone serves Me, let him follow Me; and where I am, there My servant will be also.  If anyone serves Me, him My Father will honor.\\\"  Why would I want an eternal life if I hate this one?  If we were created by a deity, why would that deity not wish us to enjoy what he has given us?  Why would I want to live forever?  The challenge in my life is that I will die, and that I must give my life the meaning I wish it to have before that happens.  My time is here and will someday pass; I will be content to live on in the memories of my friends, and once they too are dead, then I will no longer have any reason to exist.  In short: even if your deity *does* exist, that doesn't automatically mean that I would worship it.  I am content to live my own life, and fend for myself, so when I die, I can be proud of the fact that no matter where I end up, it will be because of *my* actions and *my* choices.  If your god decides to toss me into a flaming pit for this, then so be it.  I would much rather just cease to exist.  But if your god wants my respect and my obedience, then it had better earn these; and if it does, then they will be very strong and true.   Jesus wasn't the only one who rose from the dead -- I think it was Osiris who did the same, as well as a few characters from Greek or Norse legend, if memory serves.  But still: WHY would I want to rise from the dead?  Why do *you* want to?   If your god wants to win my devotion, then it knows what it can do -- provide some way for me to believe without having to resort to blind faith that could be applied equally well to any religion.   That's precisely it.  I neither see nor know Zeus either, nor Odin. Shall I offer them the same devotion I offer Jesus?   You've got to understand my point-of-view: I see Christians spouting Bible verse all the time as if it were some sort of magic spell that will level all opposition.  Truth is, it's not.  Robert has never demonstrated that he actually understands what the verses imply; he just rattles them off day by day.  Some brazenly fly in the face of common sense and reality, and I point these out where I can.  But even more than that, even when Christians *do* try to explain the verses in their own words, they do so from a Christian point of view, which is that every human being would want to be a Christian if only he or she understood the Christian message properly, and then all strife and suffering on the earth would end.  Here's the problem with that: substitute \\\"Moslem\\\" or \\\"Buddhist\\\" or \\\"Satanist\\\" instead of \\\"Christian\\\", and it means the same thing.  Christanity is a very nice belief set around a very nice book.  But if you want to make me believe that it has any bearing on the REAL WORLD, you've got some convincing to do.   And in my opinion, you're bumbling about blindly making up entities where there aren't any, and depriving yourself of a true understanding and enjoyment of your life.  As long as you keep your beliefs to yourself, I'll keep my beliefs to myself -- but as soon as you start waving them around, expect me to toss in my opinions, too.\",\" Pierre, For purposes of the tie breaker, you only count the first three games in each city. Therefore, Quebec cannot possibly be ahead of Montreal 4-3, and there's probably only one game that counts remaining between Boston and Quebec, which means Boston has probably already won.\",\"Mark Wilson responding to C.D. Tavares:   MW>|So the laws exist, and the penalties are as you say, but nobody is ever MW>|prosecuted under these laws.  They are \\\"traded away\\\" for easy pleas.  MW>Having such gun laws on the books is still better than nothing. MW>What would the DA have traded away in order to get the guilty plea if the MW>gun law had not been in effect.  Our liberty?  Right...don't even think about enforcing the law and imposing the prescribed penalty....let's hose the citizens instead. ---  . OLX 2.2 . Madness takes its toll - please have exact change                             \",\"  You know, everybody scoffed at that guy they hung up on a cross too. He claimed also to be the son of God; and it took almost two thousand  years to forget what he preached.   Love thy neighbor as thyself.   Anybody else wonder if those two guys setting the fires were 'agent  provacateurs.'  \",\"   And in Russia, capitalists were persecuted for trading goods on the black market. And in the US, capitalist minded types are imprisoned and killed for things such as selling drugs, guns, pornography, and other victimless activities.  It doesn't matter whether you are socialist or capitalist, power and control are central to government. Since citizens can't be trusted to run their own affairs, the government must watch them.  (for their own good of course. I mean, with strong cryptography, citizens might <gasp!> start to hide things from the IRS, sell drugs/guns/pornography, and that cannot be allowed!) \",\" Perish the thought...but you know, you may be right, at least as far as MAJOR LEAGUE professional sports teams go.  They all seem to be becoming BIG MONEY games, much more so than at any previous time.  To think that if I am ever able to move back home several years from now, all that may be there is an AHL team, at best...SIGH.\"]],[\"SUBSET\",[\"raw\",\"raw\",\"raw\",\"raw\",\"raw\",\"raw\",\"raw\",\"raw\",\"raw\",\"raw\"]],[\"label\",[\"ABSTAIN\",\"ABSTAIN\",\"ABSTAIN\",\"ABSTAIN\",\"ABSTAIN\",\"ABSTAIN\",\"ABSTAIN\",\"ABSTAIN\",\"ABSTAIN\",\"ABSTAIN\"]]]}}},\"view\":{\"type\":\"object\",\"name\":\"CDSView\",\"id\":\"p1053\",\"attributes\":{\"filter\":{\"type\":\"object\",\"name\":\"AllIndices\",\"id\":\"p1054\"}}},\"columns\":[{\"type\":\"object\",\"name\":\"TableColumn\",\"id\":\"p1043\",\"attributes\":{\"field\":\"text\",\"title\":\"text\",\"formatter\":{\"type\":\"object\",\"name\":\"HTMLTemplateFormatter\",\"id\":\"p1042\",\"attributes\":{\"template\":\"<span href=\\\"#\\\" data-toggle=\\\"tooltip\\\" title=\\\"<%= value %>\\\"><%= value %></span>\"}},\"editor\":{\"type\":\"object\",\"name\":\"CellEditor\",\"id\":\"p1041\"}}},{\"type\":\"object\",\"name\":\"TableColumn\",\"id\":\"p1046\",\"attributes\":{\"field\":\"label\",\"title\":\"label\",\"formatter\":{\"type\":\"object\",\"name\":\"StringFormatter\",\"id\":\"p1047\"},\"editor\":{\"type\":\"object\",\"name\":\"StringEditor\",\"id\":\"p1048\"}}}],\"editable\":true,\"selectable\":\"checkbox\"}}]}}]}};\n",
       "  const render_items = [{\"docid\":\"0c459e9a-1483-4c89-bda2-4bf096f55167\",\"roots\":{\"p1058\":\"e740cb39-4a9c-4559-af7d-976e0f18861e\"},\"root_ids\":[\"p1058\"]}];\n",
       "  root.Bokeh.embed.embed_items_notebook(docs_json, render_items);\n",
       "  }\n",
       "  if (root.Bokeh !== undefined) {\n",
       "    embed_document(root);\n",
       "  } else {\n",
       "    let attempts = 0;\n",
       "    const timer = setInterval(function(root) {\n",
       "      if (root.Bokeh !== undefined) {\n",
       "        clearInterval(timer);\n",
       "        embed_document(root);\n",
       "      } else {\n",
       "        attempts++;\n",
       "        if (attempts > 100) {\n",
       "          clearInterval(timer);\n",
       "          console.log(\"Bokeh: ERROR: Unable to run BokehJS code because BokehJS library is missing\");\n",
       "        }\n",
       "      }\n",
       "    }, 10, root)\n",
       "  }\n",
       "})(window);"
      ],
      "application/vnd.bokehjs_exec.v0+json": ""
     },
     "metadata": {
      "application/vnd.bokehjs_exec.v0+json": {
       "id": "p1058"
      }
     },
     "output_type": "display_data"
    }
   ],
   "source": [
    "show(column(\n",
    "    row(\n",
    "        dataset.selection_evictor,\n",
    "        dataset.selection_patcher,\n",
    "    ),\n",
    "    dataset.sel_table,\n",
    "), notebook_url=notebook_url)"
   ]
  },
  {
   "cell_type": "markdown",
   "id": "9842141a",
   "metadata": {},
   "source": [
    "<br>"
   ]
  }
 ],
 "metadata": {
  "language_info": {
   "codemirror_mode": {
    "name": "ipython",
    "version": 3
   },
   "file_extension": ".py",
   "mimetype": "text/x-python",
   "name": "python",
   "nbconvert_exporter": "python",
   "pygments_lexer": "ipython3",
   "version": "3.9.18"
  }
 },
 "nbformat": 4,
 "nbformat_minor": 5
}
