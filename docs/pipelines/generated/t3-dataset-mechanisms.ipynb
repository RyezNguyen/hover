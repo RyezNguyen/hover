{
 "cells": [
  {
   "cell_type": "markdown",
   "id": "0f9d8f64",
   "metadata": {},
   "source": [
    "> `SupervisableDataset` holds your data throughout the labeling process.\n",
    ">\n",
    "> :speedboat: Let's take a look at its core mechanisms.\n",
    "\n",
    "-   <details open><summary>This page addresses **single components** of `hover`</summary>\n",
    "    For illustration, we are using code snippets to pick out specific widgets so that the documentation can explain what they do.\n",
    "\n",
    "    -   Please be aware that you won't need to get the widgets by code in an actual use case.\n",
    "    -   Typical usage deals with [recipes](../../tutorial/t1-active-learning) where the individual parts have been tied together.\n",
    "\n",
    "</details>\n",
    "\n",
    "-   <details open><summary>Dependencies for {== local environments ==}</summary>\n",
    "    When you run the code locally, you may need to install additional packages.\n",
    "\n",
    "    To render `bokeh` plots in Jupyter, you need:\n",
    "```shell\n",
    "    pip install jupyter_bokeh\n",
    "```\n",
    "\n",
    "    If you are using JupyterLab older than 3.0, use this instead ([reference](https://pypi.org/project/jupyter-bokeh/)):\n",
    "```shell\n",
    "    jupyter labextension install @jupyter-widgets/jupyterlab-manager\n",
    "    jupyter labextension install @bokeh/jupyter_bokeh\n",
    "```\n",
    "\n",
    "</details>\n",
    "\n",
    "## **Data Subsets**\n",
    "\n",
    "We place unlabeled data and labeled data in different subsets: \"raw\", \"train\", \"dev\", and \"test\". Unlabeled data start from the \"raw\" subset, and can be transferred to other subsets after it gets labeled.\n",
    "\n",
    "`SupervisableDataset` uses a \"population table\", `dataset.pop_table`, to show the size of each subset:"
   ]
  },
  {
   "cell_type": "code",
   "execution_count": 1,
   "id": "ddc77008",
   "metadata": {
    "execution": {
     "iopub.execute_input": "2023-07-11T01:55:44.014112Z",
     "iopub.status.busy": "2023-07-11T01:55:44.013868Z",
     "iopub.status.idle": "2023-07-11T01:55:45.763940Z",
     "shell.execute_reply": "2023-07-11T01:55:45.763315Z"
    }
   },
   "outputs": [
    {
     "data": {
      "text/html": [
       "<pre style=\"white-space:pre;overflow-x:auto;line-height:normal;font-family:Menlo,'DejaVu Sans Mono',consolas,'Courier New',monospace\"><span style=\"color: #000080; text-decoration-color: #000080\">🔵 SupervisableTextDataset: Initializing</span><span style=\"color: #808000; text-decoration-color: #808000\">...</span>\n",
       "</pre>\n"
      ],
      "text/plain": [
       "\u001b[34m🔵 SupervisableTextDataset: Initializing\u001b[0m\u001b[33m...\u001b[0m\n"
      ]
     },
     "metadata": {},
     "output_type": "display_data"
    },
    {
     "data": {
      "text/html": [
       "<pre style=\"white-space:pre;overflow-x:auto;line-height:normal;font-family:Menlo,'DejaVu Sans Mono',consolas,'Courier New',monospace\"><span style=\"color: #000080; text-decoration-color: #000080\">🔵 SupervisableTextDataset: Deduplicating</span><span style=\"color: #808000; text-decoration-color: #808000\">...</span>\n",
       "</pre>\n"
      ],
      "text/plain": [
       "\u001b[34m🔵 SupervisableTextDataset: Deduplicating\u001b[0m\u001b[33m...\u001b[0m\n"
      ]
     },
     "metadata": {},
     "output_type": "display_data"
    },
    {
     "data": {
      "text/html": [
       "<pre style=\"white-space:pre;overflow-x:auto;line-height:normal;font-family:Menlo,'DejaVu Sans Mono',consolas,'Courier New',monospace\"><span style=\"color: #000080; text-decoration-color: #000080\">🔵 SupervisableTextDataset: --subset raw rows: </span><span style=\"color: #008080; text-decoration-color: #008080; font-weight: bold\">400</span><span style=\"color: #000080; text-decoration-color: #000080\"> -&gt; </span><span style=\"color: #008080; text-decoration-color: #008080; font-weight: bold\">375</span><span style=\"color: #000080; text-decoration-color: #000080\">.</span>\n",
       "</pre>\n"
      ],
      "text/plain": [
       "\u001b[34m🔵 SupervisableTextDataset: --subset raw rows: \u001b[0m\u001b[1;36m400\u001b[0m\u001b[34m -> \u001b[0m\u001b[1;36m375\u001b[0m\u001b[34m.\u001b[0m\n"
      ]
     },
     "metadata": {},
     "output_type": "display_data"
    },
    {
     "data": {
      "text/html": [
       "<pre style=\"white-space:pre;overflow-x:auto;line-height:normal;font-family:Menlo,'DejaVu Sans Mono',consolas,'Courier New',monospace\"><span style=\"color: #000080; text-decoration-color: #000080\">🔵 SupervisableTextDataset: --subset train rows: </span><span style=\"color: #008080; text-decoration-color: #008080; font-weight: bold\">400</span><span style=\"color: #000080; text-decoration-color: #000080\"> -&gt; </span><span style=\"color: #008080; text-decoration-color: #008080; font-weight: bold\">384</span><span style=\"color: #000080; text-decoration-color: #000080\">.</span>\n",
       "</pre>\n"
      ],
      "text/plain": [
       "\u001b[34m🔵 SupervisableTextDataset: --subset train rows: \u001b[0m\u001b[1;36m400\u001b[0m\u001b[34m -> \u001b[0m\u001b[1;36m384\u001b[0m\u001b[34m.\u001b[0m\n"
      ]
     },
     "metadata": {},
     "output_type": "display_data"
    },
    {
     "data": {
      "text/html": [
       "<pre style=\"white-space:pre;overflow-x:auto;line-height:normal;font-family:Menlo,'DejaVu Sans Mono',consolas,'Courier New',monospace\"><span style=\"color: #000080; text-decoration-color: #000080\">🔵 SupervisableTextDataset: --subset dev rows: </span><span style=\"color: #008080; text-decoration-color: #008080; font-weight: bold\">100</span><span style=\"color: #000080; text-decoration-color: #000080\"> -&gt; </span><span style=\"color: #008080; text-decoration-color: #008080; font-weight: bold\">96</span><span style=\"color: #000080; text-decoration-color: #000080\">.</span>\n",
       "</pre>\n"
      ],
      "text/plain": [
       "\u001b[34m🔵 SupervisableTextDataset: --subset dev rows: \u001b[0m\u001b[1;36m100\u001b[0m\u001b[34m -> \u001b[0m\u001b[1;36m96\u001b[0m\u001b[34m.\u001b[0m\n"
      ]
     },
     "metadata": {},
     "output_type": "display_data"
    },
    {
     "data": {
      "text/html": [
       "<pre style=\"white-space:pre;overflow-x:auto;line-height:normal;font-family:Menlo,'DejaVu Sans Mono',consolas,'Courier New',monospace\"><span style=\"color: #000080; text-decoration-color: #000080\">🔵 SupervisableTextDataset: --subset test rows: </span><span style=\"color: #008080; text-decoration-color: #008080; font-weight: bold\">100</span><span style=\"color: #000080; text-decoration-color: #000080\"> -&gt; </span><span style=\"color: #008080; text-decoration-color: #008080; font-weight: bold\">99</span><span style=\"color: #000080; text-decoration-color: #000080\">.</span>\n",
       "</pre>\n"
      ],
      "text/plain": [
       "\u001b[34m🔵 SupervisableTextDataset: --subset test rows: \u001b[0m\u001b[1;36m100\u001b[0m\u001b[34m -> \u001b[0m\u001b[1;36m99\u001b[0m\u001b[34m.\u001b[0m\n"
      ]
     },
     "metadata": {},
     "output_type": "display_data"
    },
    {
     "data": {
      "text/html": [
       "<pre style=\"white-space:pre;overflow-x:auto;line-height:normal;font-family:Menlo,'DejaVu Sans Mono',consolas,'Courier New',monospace\"><span style=\"color: #008000; text-decoration-color: #008000\">🟢 SupervisableTextDataset: Set up label encoder/decoder with </span><span style=\"color: #008080; text-decoration-color: #008080; font-weight: bold\">20</span><span style=\"color: #008000; text-decoration-color: #008000\"> classes.</span>\n",
       "</pre>\n"
      ],
      "text/plain": [
       "\u001b[32m🟢 SupervisableTextDataset: Set up label encoder/decoder with \u001b[0m\u001b[1;36m20\u001b[0m\u001b[32m classes.\u001b[0m\n"
      ]
     },
     "metadata": {},
     "output_type": "display_data"
    },
    {
     "data": {
      "text/html": [
       "<pre style=\"white-space:pre;overflow-x:auto;line-height:normal;font-family:Menlo,'DejaVu Sans Mono',consolas,'Courier New',monospace\"><span style=\"color: #008000; text-decoration-color: #008000\">🟢 SupervisableTextDataset: Population updater: latest population with </span><span style=\"color: #008080; text-decoration-color: #008080; font-weight: bold\">20</span><span style=\"color: #008000; text-decoration-color: #008000\"> classes.</span>\n",
       "</pre>\n"
      ],
      "text/plain": [
       "\u001b[32m🟢 SupervisableTextDataset: Population updater: latest population with \u001b[0m\u001b[1;36m20\u001b[0m\u001b[32m classes.\u001b[0m\n"
      ]
     },
     "metadata": {},
     "output_type": "display_data"
    },
    {
     "data": {
      "text/html": [
       "<pre style=\"white-space:pre;overflow-x:auto;line-height:normal;font-family:Menlo,'DejaVu Sans Mono',consolas,'Courier New',monospace\"><span style=\"color: #000080; text-decoration-color: #000080\">🔵 SupervisableTextDataset: finished setting up bokeh elements.</span>\n",
       "</pre>\n"
      ],
      "text/plain": [
       "\u001b[34m🔵 SupervisableTextDataset: finished setting up bokeh elements.\u001b[0m\n"
      ]
     },
     "metadata": {},
     "output_type": "display_data"
    },
    {
     "data": {
      "text/html": [
       "<pre style=\"white-space:pre;overflow-x:auto;line-height:normal;font-family:Menlo,'DejaVu Sans Mono',consolas,'Courier New',monospace\"><span style=\"color: #008000; text-decoration-color: #008000\">🟢 SupervisableTextDataset: finished initialization.</span>\n",
       "</pre>\n"
      ],
      "text/plain": [
       "\u001b[32m🟢 SupervisableTextDataset: finished initialization.\u001b[0m\n"
      ]
     },
     "metadata": {},
     "output_type": "display_data"
    }
   ],
   "source": [
    "from hover.core.dataset import SupervisableTextDataset\n",
    "import pandas as pd\n",
    "\n",
    "raw_csv_path = \"https://raw.githubusercontent.com/phurwicz/hover-gallery/main/0.5.0/20_newsgroups_raw.csv\"\n",
    "train_csv_path = \"https://raw.githubusercontent.com/phurwicz/hover-gallery/main/0.5.0/20_newsgroups_train.csv\"\n",
    "\n",
    "# for fast, low-memory demonstration purpose, sample the data\n",
    "df_raw = pd.read_csv(raw_csv_path).sample(400)\n",
    "df_raw[\"SUBSET\"] = \"raw\"\n",
    "df_train = pd.read_csv(train_csv_path).sample(400)\n",
    "df_train[\"SUBSET\"] = \"train\"\n",
    "df_dev = pd.read_csv(train_csv_path).sample(100)\n",
    "df_dev[\"SUBSET\"] = \"dev\"\n",
    "df_test = pd.read_csv(train_csv_path).sample(100)\n",
    "df_test[\"SUBSET\"] = \"test\"\n",
    "\n",
    "# build overall dataframe and ensure feature type\n",
    "df = pd.concat([df_raw, df_train, df_dev, df_test])\n",
    "df[\"text\"] = df[\"text\"].astype(str)\n",
    "\n",
    "# this class stores the dataset throught the labeling process\n",
    "dataset = SupervisableTextDataset.from_pandas(df, feature_key=\"text\", label_key=\"label\")"
   ]
  },
  {
   "cell_type": "markdown",
   "id": "80ef79b3",
   "metadata": {},
   "source": [
    "<br>"
   ]
  },
  {
   "cell_type": "code",
   "execution_count": 2,
   "id": "8076d0de",
   "metadata": {
    "execution": {
     "iopub.execute_input": "2023-07-11T01:55:45.767304Z",
     "iopub.status.busy": "2023-07-11T01:55:45.766650Z",
     "iopub.status.idle": "2023-07-11T01:55:45.833551Z",
     "shell.execute_reply": "2023-07-11T01:55:45.832895Z"
    }
   },
   "outputs": [
    {
     "data": {
      "text/html": [
       "<style>\n",
       "        .bk-notebook-logo {\n",
       "            display: block;\n",
       "            width: 20px;\n",
       "            height: 20px;\n",
       "            background-image: url(data:image/png;base64,iVBORw0KGgoAAAANSUhEUgAAABQAAAAUCAYAAACNiR0NAAAABHNCSVQICAgIfAhkiAAAAAlwSFlzAAALEgAACxIB0t1+/AAAABx0RVh0U29mdHdhcmUAQWRvYmUgRmlyZXdvcmtzIENTNui8sowAAAOkSURBVDiNjZRtaJVlGMd/1/08zzln5zjP1LWcU9N0NkN8m2CYjpgQYQXqSs0I84OLIC0hkEKoPtiH3gmKoiJDU7QpLgoLjLIQCpEsNJ1vqUOdO7ppbuec5+V+rj4ctwzd8IIbbi6u+8f1539dt3A78eXC7QizUF7gyV1fD1Yqg4JWz84yffhm0qkFqBogB9rM8tZdtwVsPUhWhGcFJngGeWrPzHm5oaMmkfEg1usvLFyc8jLRqDOMru7AyC8saQr7GG7f5fvDeH7Ej8CM66nIF+8yngt6HWaKh7k49Soy9nXurCi1o3qUbS3zWfrYeQDTB/Qj6kX6Ybhw4B+bOYoLKCC9H3Nu/leUTZ1JdRWkkn2ldcCamzrcf47KKXdAJllSlxAOkRgyHsGC/zRday5Qld9DyoM4/q/rUoy/CXh3jzOu3bHUVZeU+DEn8FInkPBFlu3+nW3Nw0mk6vCDiWg8CeJaxEwuHS3+z5RgY+YBR6V1Z1nxSOfoaPa4LASWxxdNp+VWTk7+4vzaou8v8PN+xo+KY2xsw6une2frhw05CTYOmQvsEhjhWjn0bmXPjpE1+kplmmkP3suftwTubK9Vq22qKmrBhpY4jvd5afdRA3wGjFAgcnTK2s4hY0/GPNIb0nErGMCRxWOOX64Z8RAC4oCXdklmEvcL8o0BfkNK4lUg9HTl+oPlQxdNo3Mg4Nv175e/1LDGzZen30MEjRUtmXSfiTVu1kK8W4txyV6BMKlbgk3lMwYCiusNy9fVfvvwMxv8Ynl6vxoByANLTWplvuj/nF9m2+PDtt1eiHPBr1oIfhCChQMBw6Aw0UulqTKZdfVvfG7VcfIqLG9bcldL/+pdWTLxLUy8Qq38heUIjh4XlzZxzQm19lLFlr8vdQ97rjZVOLf8nclzckbcD4wxXMidpX30sFd37Fv/GtwwhzhxGVAprjbg0gCAEeIgwCZyTV2Z1REEW8O4py0wsjeloKoMr6iCY6dP92H6Vw/oTyICIthibxjm/DfN9lVz8IqtqKYLUXfoKVMVQVVJOElGjrnnUt9T9wbgp8AyYKaGlqingHZU/uG2NTZSVqwHQTWkx9hxjkpWDaCg6Ckj5qebgBVbT3V3NNXMSiWSDdGV3hrtzla7J+duwPOToIg42ChPQOQjspnSlp1V+Gjdged7+8UN5CRAV7a5EdFNwCjEaBR27b3W890TE7g24NAP/mMDXRWrGoFPQI9ls/MWO2dWFAar/xcOIImbbpA3zgAAAABJRU5ErkJggg==);\n",
       "        }\n",
       "    </style>\n",
       "    <div>\n",
       "        <a href=\"https://bokeh.org\" target=\"_blank\" class=\"bk-notebook-logo\"></a>\n",
       "        <span id=\"ccb679b1-a687-4379-961e-cbf99a0d5908\">Loading BokehJS ...</span>\n",
       "    </div>\n"
      ]
     },
     "metadata": {},
     "output_type": "display_data"
    },
    {
     "data": {
      "application/javascript": [
       "(function(root) {\n",
       "  function now() {\n",
       "    return new Date();\n",
       "  }\n",
       "\n",
       "  const force = true;\n",
       "\n",
       "  if (typeof root._bokeh_onload_callbacks === \"undefined\" || force === true) {\n",
       "    root._bokeh_onload_callbacks = [];\n",
       "    root._bokeh_is_loading = undefined;\n",
       "  }\n",
       "\n",
       "const JS_MIME_TYPE = 'application/javascript';\n",
       "  const HTML_MIME_TYPE = 'text/html';\n",
       "  const EXEC_MIME_TYPE = 'application/vnd.bokehjs_exec.v0+json';\n",
       "  const CLASS_NAME = 'output_bokeh rendered_html';\n",
       "\n",
       "  /**\n",
       "   * Render data to the DOM node\n",
       "   */\n",
       "  function render(props, node) {\n",
       "    const script = document.createElement(\"script\");\n",
       "    node.appendChild(script);\n",
       "  }\n",
       "\n",
       "  /**\n",
       "   * Handle when an output is cleared or removed\n",
       "   */\n",
       "  function handleClearOutput(event, handle) {\n",
       "    const cell = handle.cell;\n",
       "\n",
       "    const id = cell.output_area._bokeh_element_id;\n",
       "    const server_id = cell.output_area._bokeh_server_id;\n",
       "    // Clean up Bokeh references\n",
       "    if (id != null && id in Bokeh.index) {\n",
       "      Bokeh.index[id].model.document.clear();\n",
       "      delete Bokeh.index[id];\n",
       "    }\n",
       "\n",
       "    if (server_id !== undefined) {\n",
       "      // Clean up Bokeh references\n",
       "      const cmd_clean = \"from bokeh.io.state import curstate; print(curstate().uuid_to_server['\" + server_id + \"'].get_sessions()[0].document.roots[0]._id)\";\n",
       "      cell.notebook.kernel.execute(cmd_clean, {\n",
       "        iopub: {\n",
       "          output: function(msg) {\n",
       "            const id = msg.content.text.trim();\n",
       "            if (id in Bokeh.index) {\n",
       "              Bokeh.index[id].model.document.clear();\n",
       "              delete Bokeh.index[id];\n",
       "            }\n",
       "          }\n",
       "        }\n",
       "      });\n",
       "      // Destroy server and session\n",
       "      const cmd_destroy = \"import bokeh.io.notebook as ion; ion.destroy_server('\" + server_id + \"')\";\n",
       "      cell.notebook.kernel.execute(cmd_destroy);\n",
       "    }\n",
       "  }\n",
       "\n",
       "  /**\n",
       "   * Handle when a new output is added\n",
       "   */\n",
       "  function handleAddOutput(event, handle) {\n",
       "    const output_area = handle.output_area;\n",
       "    const output = handle.output;\n",
       "\n",
       "    // limit handleAddOutput to display_data with EXEC_MIME_TYPE content only\n",
       "    if ((output.output_type != \"display_data\") || (!Object.prototype.hasOwnProperty.call(output.data, EXEC_MIME_TYPE))) {\n",
       "      return\n",
       "    }\n",
       "\n",
       "    const toinsert = output_area.element.find(\".\" + CLASS_NAME.split(' ')[0]);\n",
       "\n",
       "    if (output.metadata[EXEC_MIME_TYPE][\"id\"] !== undefined) {\n",
       "      toinsert[toinsert.length - 1].firstChild.textContent = output.data[JS_MIME_TYPE];\n",
       "      // store reference to embed id on output_area\n",
       "      output_area._bokeh_element_id = output.metadata[EXEC_MIME_TYPE][\"id\"];\n",
       "    }\n",
       "    if (output.metadata[EXEC_MIME_TYPE][\"server_id\"] !== undefined) {\n",
       "      const bk_div = document.createElement(\"div\");\n",
       "      bk_div.innerHTML = output.data[HTML_MIME_TYPE];\n",
       "      const script_attrs = bk_div.children[0].attributes;\n",
       "      for (let i = 0; i < script_attrs.length; i++) {\n",
       "        toinsert[toinsert.length - 1].firstChild.setAttribute(script_attrs[i].name, script_attrs[i].value);\n",
       "        toinsert[toinsert.length - 1].firstChild.textContent = bk_div.children[0].textContent\n",
       "      }\n",
       "      // store reference to server id on output_area\n",
       "      output_area._bokeh_server_id = output.metadata[EXEC_MIME_TYPE][\"server_id\"];\n",
       "    }\n",
       "  }\n",
       "\n",
       "  function register_renderer(events, OutputArea) {\n",
       "\n",
       "    function append_mime(data, metadata, element) {\n",
       "      // create a DOM node to render to\n",
       "      const toinsert = this.create_output_subarea(\n",
       "        metadata,\n",
       "        CLASS_NAME,\n",
       "        EXEC_MIME_TYPE\n",
       "      );\n",
       "      this.keyboard_manager.register_events(toinsert);\n",
       "      // Render to node\n",
       "      const props = {data: data, metadata: metadata[EXEC_MIME_TYPE]};\n",
       "      render(props, toinsert[toinsert.length - 1]);\n",
       "      element.append(toinsert);\n",
       "      return toinsert\n",
       "    }\n",
       "\n",
       "    /* Handle when an output is cleared or removed */\n",
       "    events.on('clear_output.CodeCell', handleClearOutput);\n",
       "    events.on('delete.Cell', handleClearOutput);\n",
       "\n",
       "    /* Handle when a new output is added */\n",
       "    events.on('output_added.OutputArea', handleAddOutput);\n",
       "\n",
       "    /**\n",
       "     * Register the mime type and append_mime function with output_area\n",
       "     */\n",
       "    OutputArea.prototype.register_mime_type(EXEC_MIME_TYPE, append_mime, {\n",
       "      /* Is output safe? */\n",
       "      safe: true,\n",
       "      /* Index of renderer in `output_area.display_order` */\n",
       "      index: 0\n",
       "    });\n",
       "  }\n",
       "\n",
       "  // register the mime type if in Jupyter Notebook environment and previously unregistered\n",
       "  if (root.Jupyter !== undefined) {\n",
       "    const events = require('base/js/events');\n",
       "    const OutputArea = require('notebook/js/outputarea').OutputArea;\n",
       "\n",
       "    if (OutputArea.prototype.mime_types().indexOf(EXEC_MIME_TYPE) == -1) {\n",
       "      register_renderer(events, OutputArea);\n",
       "    }\n",
       "  }\n",
       "  if (typeof (root._bokeh_timeout) === \"undefined\" || force === true) {\n",
       "    root._bokeh_timeout = Date.now() + 5000;\n",
       "    root._bokeh_failed_load = false;\n",
       "  }\n",
       "\n",
       "  const NB_LOAD_WARNING = {'data': {'text/html':\n",
       "     \"<div style='background-color: #fdd'>\\n\"+\n",
       "     \"<p>\\n\"+\n",
       "     \"BokehJS does not appear to have successfully loaded. If loading BokehJS from CDN, this \\n\"+\n",
       "     \"may be due to a slow or bad network connection. Possible fixes:\\n\"+\n",
       "     \"</p>\\n\"+\n",
       "     \"<ul>\\n\"+\n",
       "     \"<li>re-rerun `output_notebook()` to attempt to load from CDN again, or</li>\\n\"+\n",
       "     \"<li>use INLINE resources instead, as so:</li>\\n\"+\n",
       "     \"</ul>\\n\"+\n",
       "     \"<code>\\n\"+\n",
       "     \"from bokeh.resources import INLINE\\n\"+\n",
       "     \"output_notebook(resources=INLINE)\\n\"+\n",
       "     \"</code>\\n\"+\n",
       "     \"</div>\"}};\n",
       "\n",
       "  function display_loaded() {\n",
       "    const el = document.getElementById(\"ccb679b1-a687-4379-961e-cbf99a0d5908\");\n",
       "    if (el != null) {\n",
       "      el.textContent = \"BokehJS is loading...\";\n",
       "    }\n",
       "    if (root.Bokeh !== undefined) {\n",
       "      if (el != null) {\n",
       "        el.textContent = \"BokehJS \" + root.Bokeh.version + \" successfully loaded.\";\n",
       "      }\n",
       "    } else if (Date.now() < root._bokeh_timeout) {\n",
       "      setTimeout(display_loaded, 100)\n",
       "    }\n",
       "  }\n",
       "\n",
       "  function run_callbacks() {\n",
       "    try {\n",
       "      root._bokeh_onload_callbacks.forEach(function(callback) {\n",
       "        if (callback != null)\n",
       "          callback();\n",
       "      });\n",
       "    } finally {\n",
       "      delete root._bokeh_onload_callbacks\n",
       "    }\n",
       "    console.debug(\"Bokeh: all callbacks have finished\");\n",
       "  }\n",
       "\n",
       "  function load_libs(css_urls, js_urls, callback) {\n",
       "    if (css_urls == null) css_urls = [];\n",
       "    if (js_urls == null) js_urls = [];\n",
       "\n",
       "    root._bokeh_onload_callbacks.push(callback);\n",
       "    if (root._bokeh_is_loading > 0) {\n",
       "      console.debug(\"Bokeh: BokehJS is being loaded, scheduling callback at\", now());\n",
       "      return null;\n",
       "    }\n",
       "    if (js_urls == null || js_urls.length === 0) {\n",
       "      run_callbacks();\n",
       "      return null;\n",
       "    }\n",
       "    console.debug(\"Bokeh: BokehJS not loaded, scheduling load and callback at\", now());\n",
       "    root._bokeh_is_loading = css_urls.length + js_urls.length;\n",
       "\n",
       "    function on_load() {\n",
       "      root._bokeh_is_loading--;\n",
       "      if (root._bokeh_is_loading === 0) {\n",
       "        console.debug(\"Bokeh: all BokehJS libraries/stylesheets loaded\");\n",
       "        run_callbacks()\n",
       "      }\n",
       "    }\n",
       "\n",
       "    function on_error(url) {\n",
       "      console.error(\"failed to load \" + url);\n",
       "    }\n",
       "\n",
       "    for (let i = 0; i < css_urls.length; i++) {\n",
       "      const url = css_urls[i];\n",
       "      const element = document.createElement(\"link\");\n",
       "      element.onload = on_load;\n",
       "      element.onerror = on_error.bind(null, url);\n",
       "      element.rel = \"stylesheet\";\n",
       "      element.type = \"text/css\";\n",
       "      element.href = url;\n",
       "      console.debug(\"Bokeh: injecting link tag for BokehJS stylesheet: \", url);\n",
       "      document.body.appendChild(element);\n",
       "    }\n",
       "\n",
       "    for (let i = 0; i < js_urls.length; i++) {\n",
       "      const url = js_urls[i];\n",
       "      const element = document.createElement('script');\n",
       "      element.onload = on_load;\n",
       "      element.onerror = on_error.bind(null, url);\n",
       "      element.async = false;\n",
       "      element.src = url;\n",
       "      console.debug(\"Bokeh: injecting script tag for BokehJS library: \", url);\n",
       "      document.head.appendChild(element);\n",
       "    }\n",
       "  };\n",
       "\n",
       "  function inject_raw_css(css) {\n",
       "    const element = document.createElement(\"style\");\n",
       "    element.appendChild(document.createTextNode(css));\n",
       "    document.body.appendChild(element);\n",
       "  }\n",
       "\n",
       "  const js_urls = [\"https://cdn.bokeh.org/bokeh/release/bokeh-3.2.0.min.js\", \"https://cdn.bokeh.org/bokeh/release/bokeh-gl-3.2.0.min.js\", \"https://cdn.bokeh.org/bokeh/release/bokeh-widgets-3.2.0.min.js\", \"https://cdn.bokeh.org/bokeh/release/bokeh-tables-3.2.0.min.js\", \"https://cdn.bokeh.org/bokeh/release/bokeh-mathjax-3.2.0.min.js\"];\n",
       "  const css_urls = [];\n",
       "\n",
       "  const inline_js = [    function(Bokeh) {\n",
       "      Bokeh.set_log_level(\"info\");\n",
       "    },\n",
       "function(Bokeh) {\n",
       "    }\n",
       "  ];\n",
       "\n",
       "  function run_inline_js() {\n",
       "    if (root.Bokeh !== undefined || force === true) {\n",
       "          for (let i = 0; i < inline_js.length; i++) {\n",
       "      inline_js[i].call(root, root.Bokeh);\n",
       "    }\n",
       "if (force === true) {\n",
       "        display_loaded();\n",
       "      }} else if (Date.now() < root._bokeh_timeout) {\n",
       "      setTimeout(run_inline_js, 100);\n",
       "    } else if (!root._bokeh_failed_load) {\n",
       "      console.log(\"Bokeh: BokehJS failed to load within specified timeout.\");\n",
       "      root._bokeh_failed_load = true;\n",
       "    } else if (force !== true) {\n",
       "      const cell = $(document.getElementById(\"ccb679b1-a687-4379-961e-cbf99a0d5908\")).parents('.cell').data().cell;\n",
       "      cell.output_area.append_execute_result(NB_LOAD_WARNING)\n",
       "    }\n",
       "  }\n",
       "\n",
       "  if (root._bokeh_is_loading === 0) {\n",
       "    console.debug(\"Bokeh: BokehJS loaded, going straight to plotting\");\n",
       "    run_inline_js();\n",
       "  } else {\n",
       "    load_libs(css_urls, js_urls, function() {\n",
       "      console.debug(\"Bokeh: BokehJS plotting callback run at\", now());\n",
       "      run_inline_js();\n",
       "    });\n",
       "  }\n",
       "}(window));"
      ],
      "application/vnd.bokehjs_load.v0+json": "(function(root) {\n  function now() {\n    return new Date();\n  }\n\n  const force = true;\n\n  if (typeof root._bokeh_onload_callbacks === \"undefined\" || force === true) {\n    root._bokeh_onload_callbacks = [];\n    root._bokeh_is_loading = undefined;\n  }\n\n\n  if (typeof (root._bokeh_timeout) === \"undefined\" || force === true) {\n    root._bokeh_timeout = Date.now() + 5000;\n    root._bokeh_failed_load = false;\n  }\n\n  const NB_LOAD_WARNING = {'data': {'text/html':\n     \"<div style='background-color: #fdd'>\\n\"+\n     \"<p>\\n\"+\n     \"BokehJS does not appear to have successfully loaded. If loading BokehJS from CDN, this \\n\"+\n     \"may be due to a slow or bad network connection. Possible fixes:\\n\"+\n     \"</p>\\n\"+\n     \"<ul>\\n\"+\n     \"<li>re-rerun `output_notebook()` to attempt to load from CDN again, or</li>\\n\"+\n     \"<li>use INLINE resources instead, as so:</li>\\n\"+\n     \"</ul>\\n\"+\n     \"<code>\\n\"+\n     \"from bokeh.resources import INLINE\\n\"+\n     \"output_notebook(resources=INLINE)\\n\"+\n     \"</code>\\n\"+\n     \"</div>\"}};\n\n  function display_loaded() {\n    const el = document.getElementById(\"ccb679b1-a687-4379-961e-cbf99a0d5908\");\n    if (el != null) {\n      el.textContent = \"BokehJS is loading...\";\n    }\n    if (root.Bokeh !== undefined) {\n      if (el != null) {\n        el.textContent = \"BokehJS \" + root.Bokeh.version + \" successfully loaded.\";\n      }\n    } else if (Date.now() < root._bokeh_timeout) {\n      setTimeout(display_loaded, 100)\n    }\n  }\n\n  function run_callbacks() {\n    try {\n      root._bokeh_onload_callbacks.forEach(function(callback) {\n        if (callback != null)\n          callback();\n      });\n    } finally {\n      delete root._bokeh_onload_callbacks\n    }\n    console.debug(\"Bokeh: all callbacks have finished\");\n  }\n\n  function load_libs(css_urls, js_urls, callback) {\n    if (css_urls == null) css_urls = [];\n    if (js_urls == null) js_urls = [];\n\n    root._bokeh_onload_callbacks.push(callback);\n    if (root._bokeh_is_loading > 0) {\n      console.debug(\"Bokeh: BokehJS is being loaded, scheduling callback at\", now());\n      return null;\n    }\n    if (js_urls == null || js_urls.length === 0) {\n      run_callbacks();\n      return null;\n    }\n    console.debug(\"Bokeh: BokehJS not loaded, scheduling load and callback at\", now());\n    root._bokeh_is_loading = css_urls.length + js_urls.length;\n\n    function on_load() {\n      root._bokeh_is_loading--;\n      if (root._bokeh_is_loading === 0) {\n        console.debug(\"Bokeh: all BokehJS libraries/stylesheets loaded\");\n        run_callbacks()\n      }\n    }\n\n    function on_error(url) {\n      console.error(\"failed to load \" + url);\n    }\n\n    for (let i = 0; i < css_urls.length; i++) {\n      const url = css_urls[i];\n      const element = document.createElement(\"link\");\n      element.onload = on_load;\n      element.onerror = on_error.bind(null, url);\n      element.rel = \"stylesheet\";\n      element.type = \"text/css\";\n      element.href = url;\n      console.debug(\"Bokeh: injecting link tag for BokehJS stylesheet: \", url);\n      document.body.appendChild(element);\n    }\n\n    for (let i = 0; i < js_urls.length; i++) {\n      const url = js_urls[i];\n      const element = document.createElement('script');\n      element.onload = on_load;\n      element.onerror = on_error.bind(null, url);\n      element.async = false;\n      element.src = url;\n      console.debug(\"Bokeh: injecting script tag for BokehJS library: \", url);\n      document.head.appendChild(element);\n    }\n  };\n\n  function inject_raw_css(css) {\n    const element = document.createElement(\"style\");\n    element.appendChild(document.createTextNode(css));\n    document.body.appendChild(element);\n  }\n\n  const js_urls = [\"https://cdn.bokeh.org/bokeh/release/bokeh-3.2.0.min.js\", \"https://cdn.bokeh.org/bokeh/release/bokeh-gl-3.2.0.min.js\", \"https://cdn.bokeh.org/bokeh/release/bokeh-widgets-3.2.0.min.js\", \"https://cdn.bokeh.org/bokeh/release/bokeh-tables-3.2.0.min.js\", \"https://cdn.bokeh.org/bokeh/release/bokeh-mathjax-3.2.0.min.js\"];\n  const css_urls = [];\n\n  const inline_js = [    function(Bokeh) {\n      Bokeh.set_log_level(\"info\");\n    },\nfunction(Bokeh) {\n    }\n  ];\n\n  function run_inline_js() {\n    if (root.Bokeh !== undefined || force === true) {\n          for (let i = 0; i < inline_js.length; i++) {\n      inline_js[i].call(root, root.Bokeh);\n    }\nif (force === true) {\n        display_loaded();\n      }} else if (Date.now() < root._bokeh_timeout) {\n      setTimeout(run_inline_js, 100);\n    } else if (!root._bokeh_failed_load) {\n      console.log(\"Bokeh: BokehJS failed to load within specified timeout.\");\n      root._bokeh_failed_load = true;\n    } else if (force !== true) {\n      const cell = $(document.getElementById(\"ccb679b1-a687-4379-961e-cbf99a0d5908\")).parents('.cell').data().cell;\n      cell.output_area.append_execute_result(NB_LOAD_WARNING)\n    }\n  }\n\n  if (root._bokeh_is_loading === 0) {\n    console.debug(\"Bokeh: BokehJS loaded, going straight to plotting\");\n    run_inline_js();\n  } else {\n    load_libs(css_urls, js_urls, function() {\n      console.debug(\"Bokeh: BokehJS plotting callback run at\", now());\n      run_inline_js();\n    });\n  }\n}(window));"
     },
     "metadata": {},
     "output_type": "display_data"
    },
    {
     "data": {
      "text/html": [
       "\n",
       "  <div id=\"dbb42aa7-a209-4b3e-9d33-380bd57d116b\" data-root-id=\"p1032\" style=\"display: contents;\"></div>\n"
      ]
     },
     "metadata": {},
     "output_type": "display_data"
    },
    {
     "data": {
      "application/javascript": [
       "(function(root) {\n",
       "  function embed_document(root) {\n",
       "  const docs_json = {\"32419731-78bc-43e7-a3b9-025b28137079\":{\"version\":\"3.2.0\",\"title\":\"Bokeh Application\",\"roots\":[{\"type\":\"object\",\"name\":\"DataTable\",\"id\":\"p1032\",\"attributes\":{\"source\":{\"type\":\"object\",\"name\":\"ColumnDataSource\",\"id\":\"p1010\",\"attributes\":{\"selected\":{\"type\":\"object\",\"name\":\"Selection\",\"id\":\"p1011\",\"attributes\":{\"indices\":[],\"line_indices\":[]}},\"selection_policy\":{\"type\":\"object\",\"name\":\"UnionRenderers\",\"id\":\"p1012\"},\"data\":{\"type\":\"map\",\"entries\":[[\"color\",[\"#dcdcdc\",\"#3c3285\",\"#4353c2\",\"#4673eb\",\"#4291fe\",\"#2fb1f3\",\"#1ccdd7\",\"#19e3b8\",\"#32f197\",\"#61fc6c\",\"#8efe48\",\"#b1f836\",\"#cfea34\",\"#ead339\",\"#f9ba38\",\"#fe9b2d\",\"#f9771e\",\"#ec520e\",\"#d93806\",\"#c02302\",\"#a01101\"]],[\"label\",[\"ABSTAIN\",\"alt.atheism\",\"comp.graphics\",\"comp.os.ms-windows.misc\",\"comp.sys.ibm.pc.hardware\",\"comp.sys.mac.hardware\",\"comp.windows.x\",\"misc.forsale\",\"rec.autos\",\"rec.motorcycles\",\"rec.sport.baseball\",\"rec.sport.hockey\",\"sci.crypt\",\"sci.electronics\",\"sci.med\",\"sci.space\",\"soc.religion.christian\",\"talk.politics.guns\",\"talk.politics.mideast\",\"talk.politics.misc\",\"talk.religion.misc\"]],[\"count_raw\",[375,0,0,0,0,0,0,0,0,0,0,0,0,0,0,0,0,0,0,0,0]],[\"count_train\",[0,11,12,31,22,12,23,15,24,21,16,27,21,23,32,16,18,17,19,13,11]],[\"count_dev\",[0,5,6,9,5,3,7,2,3,7,2,1,10,1,2,5,5,11,4,6,2]],[\"count_test\",[0,5,3,6,7,5,5,5,5,3,4,2,5,7,7,6,3,8,4,5,4]]]}}},\"view\":{\"type\":\"object\",\"name\":\"CDSView\",\"id\":\"p1036\",\"attributes\":{\"filter\":{\"type\":\"object\",\"name\":\"AllIndices\",\"id\":\"p1037\"}}},\"columns\":[{\"type\":\"object\",\"name\":\"TableColumn\",\"id\":\"p1013\",\"attributes\":{\"field\":\"label\",\"title\":\"label\",\"formatter\":{\"type\":\"object\",\"name\":\"StringFormatter\",\"id\":\"p1014\"},\"editor\":{\"type\":\"object\",\"name\":\"StringEditor\",\"id\":\"p1015\"}}},{\"type\":\"object\",\"name\":\"TableColumn\",\"id\":\"p1016\",\"attributes\":{\"field\":\"count_raw\",\"title\":\"raw\",\"formatter\":{\"type\":\"object\",\"name\":\"StringFormatter\",\"id\":\"p1017\"},\"editor\":{\"type\":\"object\",\"name\":\"StringEditor\",\"id\":\"p1018\"}}},{\"type\":\"object\",\"name\":\"TableColumn\",\"id\":\"p1019\",\"attributes\":{\"field\":\"count_train\",\"title\":\"train\",\"formatter\":{\"type\":\"object\",\"name\":\"StringFormatter\",\"id\":\"p1020\"},\"editor\":{\"type\":\"object\",\"name\":\"StringEditor\",\"id\":\"p1021\"}}},{\"type\":\"object\",\"name\":\"TableColumn\",\"id\":\"p1022\",\"attributes\":{\"field\":\"count_dev\",\"title\":\"dev\",\"formatter\":{\"type\":\"object\",\"name\":\"StringFormatter\",\"id\":\"p1023\"},\"editor\":{\"type\":\"object\",\"name\":\"StringEditor\",\"id\":\"p1024\"}}},{\"type\":\"object\",\"name\":\"TableColumn\",\"id\":\"p1025\",\"attributes\":{\"field\":\"count_test\",\"title\":\"test\",\"formatter\":{\"type\":\"object\",\"name\":\"StringFormatter\",\"id\":\"p1026\"},\"editor\":{\"type\":\"object\",\"name\":\"StringEditor\",\"id\":\"p1027\"}}},{\"type\":\"object\",\"name\":\"TableColumn\",\"id\":\"p1029\",\"attributes\":{\"field\":\"color\",\"title\":\"color\",\"formatter\":{\"type\":\"object\",\"name\":\"HTMLTemplateFormatter\",\"id\":\"p1028\",\"attributes\":{\"template\":\"\\n<p style=\\\"color:<%= value %>;\\\">\\n    <%= \\\"&#9608;&#9608;&#9608;\\\" %>\\n</p>\\n\"}},\"editor\":{\"type\":\"object\",\"name\":\"StringEditor\",\"id\":\"p1031\"}}}]}}]}};\n",
       "  const render_items = [{\"docid\":\"32419731-78bc-43e7-a3b9-025b28137079\",\"roots\":{\"p1032\":\"dbb42aa7-a209-4b3e-9d33-380bd57d116b\"},\"root_ids\":[\"p1032\"]}];\n",
       "  root.Bokeh.embed.embed_items_notebook(docs_json, render_items);\n",
       "  }\n",
       "  if (root.Bokeh !== undefined) {\n",
       "    embed_document(root);\n",
       "  } else {\n",
       "    let attempts = 0;\n",
       "    const timer = setInterval(function(root) {\n",
       "      if (root.Bokeh !== undefined) {\n",
       "        clearInterval(timer);\n",
       "        embed_document(root);\n",
       "      } else {\n",
       "        attempts++;\n",
       "        if (attempts > 100) {\n",
       "          clearInterval(timer);\n",
       "          console.log(\"Bokeh: ERROR: Unable to run BokehJS code because BokehJS library is missing\");\n",
       "        }\n",
       "      }\n",
       "    }, 10, root)\n",
       "  }\n",
       "})(window);"
      ],
      "application/vnd.bokehjs_exec.v0+json": ""
     },
     "metadata": {
      "application/vnd.bokehjs_exec.v0+json": {
       "id": "p1032"
      }
     },
     "output_type": "display_data"
    }
   ],
   "source": [
    "from bokeh.io import show, output_notebook\n",
    "\n",
    "output_notebook()\n",
    "\n",
    "# normally your would skip notebook_url or use Jupyter address\n",
    "notebook_url = 'localhost:8888'\n",
    "\n",
    "show(dataset.pop_table, notebook_url=notebook_url)"
   ]
  },
  {
   "cell_type": "markdown",
   "id": "2c25a74b",
   "metadata": {},
   "source": [
    "<br>\n",
    "\n",
    "### **Transfer Data Between Subsets**\n",
    "\n",
    "`COMMIT` and `DEDUP` are the mechanisms that `hover` uses to transfer data between subsets.\n",
    "\n",
    "-   `COMMIT` copies selected points (to be discussed later) to a destination subset\n",
    "    -   labeled-raw-only: `COMMIT` automatically detects which points are in the raw set with a valid label. Other points will not get copied.\n",
    "    -   keep-last: you can commit the same point to the same subset multiple times and the last copy will be kept. This can be useful for revising labels before `DEDUP`.\n",
    "-   `DEDUP` removes duplicates (identified by feature value) across subsets\n",
    "    -   priority rule: test > dev > train > raw, i.e. test set data always gets kept during deduplication\n",
    "\n",
    "-   <details open><summary>FAQ</summary>\n",
    "    <details open><summary>Why does COMMIT only work on the raw subset?</summary>\n",
    "        Most selections will happen through plots, where different subsets are on top of each other. This means selections can contain both unlabeled and labeled points.\n",
    "\n",
    "        Way too often we find ourselves trying to view both the labeled and the unlabeled, but only moving the unlabeled \"raw\" points. So it's handy that COMMIT picks those points only.\n",
    "    </details>\n",
    "\n",
    "</details>\n",
    "\n",
    "These mechanisms correspond to buttons in `hover`'s annotation interface, which you have encountered in the quickstart:"
   ]
  },
  {
   "cell_type": "code",
   "execution_count": 3,
   "id": "77435811",
   "metadata": {
    "execution": {
     "iopub.execute_input": "2023-07-11T01:55:45.836679Z",
     "iopub.status.busy": "2023-07-11T01:55:45.836207Z",
     "iopub.status.idle": "2023-07-11T01:55:45.857532Z",
     "shell.execute_reply": "2023-07-11T01:55:45.856827Z"
    }
   },
   "outputs": [
    {
     "name": "stderr",
     "output_type": "stream",
     "text": [
      "WARNING:bokeh.embed.util:\n",
      "You are generating standalone HTML/JS output, but trying to use real Python\n",
      "callbacks (i.e. with on_change or on_event). This combination cannot work.\n",
      "\n",
      "Only JavaScript callbacks may be used with standalone output. For more\n",
      "information on JavaScript callbacks with Bokeh, see:\n",
      "\n",
      "    https://docs.bokeh.org/en/latest/docs/user_guide/interaction/callbacks.html\n",
      "\n",
      "Alternatively, to use real Python callbacks, a Bokeh server application may\n",
      "be used. For more information on building and running Bokeh applications, see:\n",
      "\n",
      "    https://docs.bokeh.org/en/latest/docs/user_guide/server.html\n",
      "\n"
     ]
    },
    {
     "data": {
      "text/html": [
       "\n",
       "  <div id=\"b9e3ba0f-8e87-4a2a-aa31-88c5aafdc7a1\" data-root-id=\"p1056\" style=\"display: contents;\"></div>\n"
      ]
     },
     "metadata": {},
     "output_type": "display_data"
    },
    {
     "data": {
      "application/javascript": [
       "(function(root) {\n",
       "  function embed_document(root) {\n",
       "  const docs_json = {\"335bfc86-a557-4342-8581-b8bbfdc7a85a\":{\"version\":\"3.2.0\",\"title\":\"Bokeh Application\",\"roots\":[{\"type\":\"object\",\"name\":\"Column\",\"id\":\"p1056\",\"attributes\":{\"children\":[{\"type\":\"object\",\"name\":\"Row\",\"id\":\"p1055\",\"attributes\":{\"children\":[{\"type\":\"object\",\"name\":\"Dropdown\",\"id\":\"p1002\",\"attributes\":{\"button_type\":\"warning\",\"subscribed_events\":{\"type\":\"set\",\"entries\":[\"button_click\",\"menu_item_click\"]},\"label\":\"Commit\",\"menu\":[\"train\",\"dev\",\"test\"]}},{\"type\":\"object\",\"name\":\"Button\",\"id\":\"p1003\",\"attributes\":{\"button_type\":\"warning\",\"subscribed_events\":{\"type\":\"set\",\"entries\":[\"button_click\"]},\"label\":\"Dedup\"}}]}},{\"type\":\"object\",\"name\":\"DataTable\",\"id\":\"p1032\",\"attributes\":{\"source\":{\"type\":\"object\",\"name\":\"ColumnDataSource\",\"id\":\"p1010\",\"attributes\":{\"selected\":{\"type\":\"object\",\"name\":\"Selection\",\"id\":\"p1011\",\"attributes\":{\"indices\":[],\"line_indices\":[]}},\"selection_policy\":{\"type\":\"object\",\"name\":\"UnionRenderers\",\"id\":\"p1012\"},\"data\":{\"type\":\"map\",\"entries\":[[\"color\",[\"#dcdcdc\",\"#3c3285\",\"#4353c2\",\"#4673eb\",\"#4291fe\",\"#2fb1f3\",\"#1ccdd7\",\"#19e3b8\",\"#32f197\",\"#61fc6c\",\"#8efe48\",\"#b1f836\",\"#cfea34\",\"#ead339\",\"#f9ba38\",\"#fe9b2d\",\"#f9771e\",\"#ec520e\",\"#d93806\",\"#c02302\",\"#a01101\"]],[\"label\",[\"ABSTAIN\",\"alt.atheism\",\"comp.graphics\",\"comp.os.ms-windows.misc\",\"comp.sys.ibm.pc.hardware\",\"comp.sys.mac.hardware\",\"comp.windows.x\",\"misc.forsale\",\"rec.autos\",\"rec.motorcycles\",\"rec.sport.baseball\",\"rec.sport.hockey\",\"sci.crypt\",\"sci.electronics\",\"sci.med\",\"sci.space\",\"soc.religion.christian\",\"talk.politics.guns\",\"talk.politics.mideast\",\"talk.politics.misc\",\"talk.religion.misc\"]],[\"count_raw\",[375,0,0,0,0,0,0,0,0,0,0,0,0,0,0,0,0,0,0,0,0]],[\"count_train\",[0,11,12,31,22,12,23,15,24,21,16,27,21,23,32,16,18,17,19,13,11]],[\"count_dev\",[0,5,6,9,5,3,7,2,3,7,2,1,10,1,2,5,5,11,4,6,2]],[\"count_test\",[0,5,3,6,7,5,5,5,5,3,4,2,5,7,7,6,3,8,4,5,4]]]}}},\"view\":{\"type\":\"object\",\"name\":\"CDSView\",\"id\":\"p1036\",\"attributes\":{\"filter\":{\"type\":\"object\",\"name\":\"AllIndices\",\"id\":\"p1037\"}}},\"columns\":[{\"type\":\"object\",\"name\":\"TableColumn\",\"id\":\"p1013\",\"attributes\":{\"field\":\"label\",\"title\":\"label\",\"formatter\":{\"type\":\"object\",\"name\":\"StringFormatter\",\"id\":\"p1014\"},\"editor\":{\"type\":\"object\",\"name\":\"StringEditor\",\"id\":\"p1015\"}}},{\"type\":\"object\",\"name\":\"TableColumn\",\"id\":\"p1016\",\"attributes\":{\"field\":\"count_raw\",\"title\":\"raw\",\"formatter\":{\"type\":\"object\",\"name\":\"StringFormatter\",\"id\":\"p1017\"},\"editor\":{\"type\":\"object\",\"name\":\"StringEditor\",\"id\":\"p1018\"}}},{\"type\":\"object\",\"name\":\"TableColumn\",\"id\":\"p1019\",\"attributes\":{\"field\":\"count_train\",\"title\":\"train\",\"formatter\":{\"type\":\"object\",\"name\":\"StringFormatter\",\"id\":\"p1020\"},\"editor\":{\"type\":\"object\",\"name\":\"StringEditor\",\"id\":\"p1021\"}}},{\"type\":\"object\",\"name\":\"TableColumn\",\"id\":\"p1022\",\"attributes\":{\"field\":\"count_dev\",\"title\":\"dev\",\"formatter\":{\"type\":\"object\",\"name\":\"StringFormatter\",\"id\":\"p1023\"},\"editor\":{\"type\":\"object\",\"name\":\"StringEditor\",\"id\":\"p1024\"}}},{\"type\":\"object\",\"name\":\"TableColumn\",\"id\":\"p1025\",\"attributes\":{\"field\":\"count_test\",\"title\":\"test\",\"formatter\":{\"type\":\"object\",\"name\":\"StringFormatter\",\"id\":\"p1026\"},\"editor\":{\"type\":\"object\",\"name\":\"StringEditor\",\"id\":\"p1027\"}}},{\"type\":\"object\",\"name\":\"TableColumn\",\"id\":\"p1029\",\"attributes\":{\"field\":\"color\",\"title\":\"color\",\"formatter\":{\"type\":\"object\",\"name\":\"HTMLTemplateFormatter\",\"id\":\"p1028\",\"attributes\":{\"template\":\"\\n<p style=\\\"color:<%= value %>;\\\">\\n    <%= \\\"&#9608;&#9608;&#9608;\\\" %>\\n</p>\\n\"}},\"editor\":{\"type\":\"object\",\"name\":\"StringEditor\",\"id\":\"p1031\"}}}]}}]}}]}};\n",
       "  const render_items = [{\"docid\":\"335bfc86-a557-4342-8581-b8bbfdc7a85a\",\"roots\":{\"p1056\":\"b9e3ba0f-8e87-4a2a-aa31-88c5aafdc7a1\"},\"root_ids\":[\"p1056\"]}];\n",
       "  root.Bokeh.embed.embed_items_notebook(docs_json, render_items);\n",
       "  }\n",
       "  if (root.Bokeh !== undefined) {\n",
       "    embed_document(root);\n",
       "  } else {\n",
       "    let attempts = 0;\n",
       "    const timer = setInterval(function(root) {\n",
       "      if (root.Bokeh !== undefined) {\n",
       "        clearInterval(timer);\n",
       "        embed_document(root);\n",
       "      } else {\n",
       "        attempts++;\n",
       "        if (attempts > 100) {\n",
       "          clearInterval(timer);\n",
       "          console.log(\"Bokeh: ERROR: Unable to run BokehJS code because BokehJS library is missing\");\n",
       "        }\n",
       "      }\n",
       "    }, 10, root)\n",
       "  }\n",
       "})(window);"
      ],
      "application/vnd.bokehjs_exec.v0+json": ""
     },
     "metadata": {
      "application/vnd.bokehjs_exec.v0+json": {
       "id": "p1056"
      }
     },
     "output_type": "display_data"
    }
   ],
   "source": [
    "from bokeh.layouts import row, column\n",
    "\n",
    "show(column(\n",
    "    row(\n",
    "        dataset.data_committer,\n",
    "        dataset.dedup_trigger,\n",
    "    ),\n",
    "    dataset.pop_table,\n",
    "), notebook_url=notebook_url)"
   ]
  },
  {
   "cell_type": "markdown",
   "id": "8f1db494",
   "metadata": {},
   "source": [
    "<br>\n",
    "\n",
    "Of course, so far we have nothing to move, because there's no data selected. We shall now discuss selections.\n",
    "\n",
    "## **Selection**\n",
    "\n",
    "`hover` labels data points in bulk, which requires selecting groups of homogeneous data, i.e. semantically similar or going to have the same label. Being able to skim through what you selected gives you confidence about homogeneity.\n",
    "\n",
    "Normally, selection happens through a plot (`explorer`), as we have seen in the quickstart. For the purpose here, we will \"cheat\" and assign the selection programmatically:"
   ]
  },
  {
   "cell_type": "code",
   "execution_count": 4,
   "id": "d216cb4e",
   "metadata": {
    "execution": {
     "iopub.execute_input": "2023-07-11T01:55:45.861034Z",
     "iopub.status.busy": "2023-07-11T01:55:45.860645Z",
     "iopub.status.idle": "2023-07-11T01:55:45.878645Z",
     "shell.execute_reply": "2023-07-11T01:55:45.877903Z"
    }
   },
   "outputs": [
    {
     "data": {
      "text/html": [
       "<pre style=\"white-space:pre;overflow-x:auto;line-height:normal;font-family:Menlo,'DejaVu Sans Mono',consolas,'Courier New',monospace\"><span style=\"color: #008000; text-decoration-color: #008000\">🟢 SupervisableTextDataset: Selection table: latest selection with </span><span style=\"color: #008080; text-decoration-color: #008080; font-weight: bold\">10</span><span style=\"color: #008000; text-decoration-color: #008000\"> entries.</span>\n",
       "</pre>\n"
      ],
      "text/plain": [
       "\u001b[32m🟢 SupervisableTextDataset: Selection table: latest selection with \u001b[0m\u001b[1;36m10\u001b[0m\u001b[32m entries.\u001b[0m\n"
      ]
     },
     "metadata": {},
     "output_type": "display_data"
    },
    {
     "data": {
      "text/html": [
       "\n",
       "  <div id=\"f36993a3-e3ba-4eaf-83ba-8ae69a2d69e7\" data-root-id=\"p1049\" style=\"display: contents;\"></div>\n"
      ]
     },
     "metadata": {},
     "output_type": "display_data"
    },
    {
     "data": {
      "application/javascript": [
       "(function(root) {\n",
       "  function embed_document(root) {\n",
       "  const docs_json = {\"e3b82da0-e558-48bc-b7a0-b09c7d83c0f2\":{\"version\":\"3.2.0\",\"title\":\"Bokeh Application\",\"roots\":[{\"type\":\"object\",\"name\":\"DataTable\",\"id\":\"p1049\",\"attributes\":{\"source\":{\"type\":\"object\",\"name\":\"ColumnDataSource\",\"id\":\"p1038\",\"attributes\":{\"selected\":{\"type\":\"object\",\"name\":\"Selection\",\"id\":\"p1039\",\"attributes\":{\"indices\":[],\"line_indices\":[]}},\"selection_policy\":{\"type\":\"object\",\"name\":\"UnionRenderers\",\"id\":\"p1040\"},\"data\":{\"type\":\"map\",\"entries\":[[\"text\",[\"I hope this is the correct newsgroup for this.  What is the scoop on Methanol and its future as an alternative fuel for vehicles ?  How does it compare to ethanol ?  There was some news about health risks involved.  Anybody know about that.  How does the US Clean Air act impact the use of Methanol by the year 1995 ?  I think its Methyl Tertiary butyl ether which the future industries will use as a substitute for conventional fuels.  There is company Methanex which produces 12% of the world's supply of Methanol. Does anybody know about it ?  Please reply by e-mail as I do not read these newsgroups.  Thanks in advance.\",\"  In that case why do they chase ST1100s & Goldwings?  Tony \",\"If the heading is true, Mr. Frank should be ashamed of himself.  Nothing makes me gag more than people who don't respect the rights of others to voice their opinions.  My idol Lenny Bruce once commented about \\\"that asshole Time Magazine\\\" when they advocated censorship of his material.  Time actually sided with the cops' and their arresting of Bruce at his shows, whereby he routinely would say \\\"cocksucker\\\", then the cops would rush the stage to arrest him.  My, how the times haven't changed...  I can't help but think of how Lenny would be received in today's politically correct arena.  Heck, I even support the right of neo nazis to speak their opinions and march down the streets.  And before Mr. Frank or anyone else makes any wisecracks about anti-Semitism...I'm Jewish, a longtime member of AIPAC and the JNF, and have contributed over $1000 apiece to these fine groups.  I'm a regular contributor to every pro-Israel group I can find, but I still support the right of people like Arf to speak up and vomit his propaganda.  I want to know just WHO these people are !!!  I'm basing all this on the assumption that Mr. Frank did indeed write to some sysadmin requesting Mr. Teel to be admonished.  If this is not the case, I hereby retract these nasties directed toward him.  If not, I stand against Mr. Frank and his trashing of the First Amendment.\",\"I understand how israel captured the teritory and feels that it is its right to annex it. I can't fully understand why it has to deal with palestinians much the same way jews were treated before the holocaust (the Final Solution) by Hitler. What I totally don't get is why the U.S. has to subsidize the existance of such a thorough abuser of human rights.     Just wondering \",\"Accounts of Anti-Armenian Human Right Violations in Azerbaijan #010                  Prelude to Current Events in Nagorno-Karabakh          +-------------------------------------------------------+         |                                                       |         | On the way the driver says, \\\"In fact there aren't any |         | Armenians left. 'They burned them all, beat them all, |         | and stabbed them.\\\"                                    |         |       |         +-------------------------------------------------------+  DEPOSITION OF VANYA BAGRATOVICH BAZIAN     Born 1940    Foreman    Baku Spetsmontazh Administration (UMSMR-1)     Resident at Building 36/7, Apartment 9    Block 14    Sumgait [Azerbaijan]   During the first days of the events, the 27th and the 28th [of February], I was away on a business trip. On the 10th I had got my crew, done the paper- work, and left for the Zhdanov District. That's in Azerbaijan, near the Nagorno Karabagh region.  After the 14th, rumors started to the effect that in Karabagh, specifically in Stepanakert, an uprising had taken place. They said \\\"uprising\\\" in Azerbaijani, but I don't think it was really an uprising, just a  demonstration. After that the unrest started. Several Armenians living in the  Zhdanov District were injured. How were they injured? They were beaten, even  women; it was said that they were at the demonstrations, but they live here,  and went from here to Karabagh to demonstrate. After that I felt uneasy. There were some conversations about Armenians among the local population: the Armenians had done this, the Armenians had done that. Right there at the site. I was attacked a couple of times by kids. Well true, the guys from my crew  wouldn't let them come at me with cables and knives. After that I felt really  bad. I didn't know where to go. I up and called home. And my children tell me, \\\"There's unrest everywhere, be careful.\\\" Well I had a project going on. I told the Second Secretary of the District Party Committee what had been going on  and said I wanted to take my crew off the site. They wouldn't allow it, they  said, \\\"Nothing's going to happen to you, we've entrusted the matter to the  police, we've warned everyone in the district, nothing will happen to you.\\\"  Well, in fact they did especially detail us a policeman to look after me, he  knows all the local people and would protect me if something happened. This man didn't leave me alone for five minutes: he was at work the whole time and  afterward he spent the night with us, too.  I sense some disquiet and call home; my wife also tells me, \\\"The situation is very tense, be careful.\\\"  We finished the job at the site, and I left for Sumgait first thing on the morning of the 29th. When we left the guys warned me, they told me that I shouldn't tell anyone on the way that I was an Armenian. I took someone else's business travel documents, in the name of Zardali, and hid my own. I hid it  and my passport in my socks. We set out for Baku. Our guys were on the bus,  they sat behind, and I sat up front. In Baku they had come to me and said that they had to collect all of our travel documents just in case. As it turns out  they knew what was happening in Sumgait.  I arrive at the bus station and there they tell me that the city of Sumgait is closed, there is no way to get there. That the city is closed off and the  buses aren't running. Buses normally leave Baku for Sumgait almost every two minutes. And suddenly--no buses. Well, we tried to get there via private drivers. One man, an Azerbaijani, said, \\\"Let's go find some other way to get there.\\\" They found a light transport vehicle and arranged for the driver to take us to Sumgait.  He took us there. But the others had said, \\\"I wouldn't go if you gave me a thousand rubles.\\\" \\\"Why?\\\" \\\"Because they're burning the city and killing the Armenians. There isn't an Armenian left.\\\" Well I got hold of myself so I could still stand up. So we squared it away, the four of us got in the car, and we  set off for Sumgait. On the way the driver says, \\\"In fact there aren't any Armenians left. 'They burned them all, beat them all, and stabbed them.\\\" Well  I was silent. The whole way--20-odd miles--I was silent. The driver asks me,  \\\"How old are you, old man?\\\" He wants to know: if I'm being that quiet, not  saying anything, maybe it means I'm an Armenian. \\\"How old are you?\\\" he asks  me. I say, \\\"I'm 47.\\\" \\\"I'm 47 too, but I call you 'old man'.\\\" I say, \\\"It  depends on God, each person's life in this world is different.\\\" I look much older than my years, that's why he called me old man. Well after that he was silent, too.  We're approaching the city, I look and see tanks all around, and a cordon. Before we get to the Kavkaz store the driver starts to wave his hand. Well, he was waving his hand, we all start waving our hands. I'm sitting there with them, I start waving my hand, too. I realized that this was a sign that meant there were no Armenians with us.  I look at the city--there is a crowd of people walking down the middle of the  street, you know, and there's no traffic. Well probably I was scared. They stopped our car. People were standing on the sidewalks. They have armature  shafts, and stones . . . And they stopped us . . .  Along the way the driver tells us how they know who's an Armenian and who's  not. The Armenians usually . . . For example, I'm an Armenian, but I speak  their language very well. Well Armenians usually pronounce the Azeri word for  \\\"nut,\\\" or \\\"little nut,\\\" as \\\"pundukh,\\\" but \\\"fundukh\\\" is actually correct. The  pronunciations are different. Anyone who says \\\"pundukh,\\\" even if they're not  Armenian, they immediately take out and start to slash. Another one says,  \\\"There was a car there, with five people inside it,\\\" he says. \\\"They started  hitting the side of it with an axe and lit it on fire. And they didn't let the people out,\\\" he says, \\\"they wouldn't let them get out of the car.\\\" I only saw  the car, but the driver says that he saw everything. Well he often drives from Baku to Sumgait and back . . .  When they stop us we all get out of the car. I look and there's a short guy, his eyes are gleaming, he has an armature shaft in one hand and a stone in the other and asks the guys what nationality they are one by one. \\\"We're Azerbaijani,' they tell him, 'no Armenians here.\\\" He did come up to me when  we were pulling our things out and says, \\\"Maybe you're an Armenian, old man?\\\"  But in Azerbaijani I say, \\\"You should be ashamed of yourself!\\\" And . . . he  left. Turned and left. That was all that happened. What was I to do? I had  to . . . the city was on fire, but I had to steal my children out of my own  home.  They stopped us at the entrance to Mir Street, that's where the Kavkaz store  and three large, 12-story buildings are. That's the beginning of down-town. I  saw that burned automobile there, completely burned, only metal remained. I  couldn't figure out if it was a Zhiguli or a Zaporozhets. Later I was told it  was a Zhiguli. And the people in there were completely incinerated. Nothing  remained of them, not even any traces. That driver had told me about it, and I saw the car myself. The car was there. The skeleton, a metallic carcass. About 30 to 40 yards from the Kavkaz store.  I see a military transport, an armored personnel carrier. The hatches are closed. And people are throwing armature shafts and pieces of iron at it, the crowd is. And I hear shots, not automatic fire, it's true, but pistol shots. Several shots. There were Azerbaijanis crowded around that personnel carrier.  Someone in the crowd was shooting. Apparently they either wanted to kill the  soldiers or get a machine gun or something. At that point there was only one  armored personnel carrier. And all the tanks were outside the city, cordoning  off Sumgait.  I walked on. I see two Azerbaijanis going home from the plant. I can tell by  their gait that they're not bandits, they're just people, walking home. I joined them so in case something happened, in case someone came up to us and asked questions, either of us would be in a position to answer, you see. But I avoided the large groups because I'm a local and might be quickly  recognized. I tried to keep at a distance, and walked where there were fewer people. Well so I walked into Microdistrict 2, which is across from our block. I can't get into our block, but I walked where there were fewer people, so as  to get around. Well there I see a tall guy and 25 to 30 people are walking  behind him. And he's shouting into a megaphone: \\\"Comrades, the Armenian- Azerbaijani war has begun!\\\"  The police have megaphones like that. So they're talking and walking around  the second microdistrict. I see that they're coming my way, and turn off  behind a building. I noticed that they walked around the outside buildings,  and inside the microdistricts there were about 5 or 6 people standing on every corner, and at the middles of the buildings, and at the edges. What they were  doing I can't say, because I couldn't get up close to them, I was afraid. But  the most important thing was to get away from there, to get home, and at least find out if my children were alive or not . . .     April 20, 1988    Yerevan         - - - reference - - -  [1] _The Sumgait Tragedy; Pogroms against Armenians in Soviet Azerbaijan,     Volume I, Eyewitness Accounts_, edited by Samuel Shahmuradian, forward by     Yelena Bonner, 1990, published by Aristide D. Caratzas, NY, pages 158-160  \",\" [JLE] Q: How many occupying israeli soldiers (terrorists) does it [JLE] take to kill a 5 year old native child? [JLE] A: Four [JLE] Two fasten his arms, one shoots in the face, [JLE] and one writes up a false report.  A couple of months ago JLE wrote a terrible C program (it would never have  passed compilation). This is one describes JLE the Great.  ---- 8< Cut Here and save to jle.c ----------- >8 ----------  #include <stdio.h> #include <signal.h>  #define LOSER  0x01 #define CHILDISH 0x01 #define UNHUMORISTIC 0x01 #define VULGAR  0x01 #define MOSSAD_AGENT 0x01  #define J_L_E  LOSER | CHILDISH | UNHUMORISTIC | VULGAR | MOSSAD_AGENT  static void abort() {  printf(\\\"Even if she wanted, JLE's mother couldn't abort this program\\\");  printf(\\\"\\\\n\\\\n\\\\n\\\\n\\\"); }  void main() {  signal(SIGINT,abort);  printf(\\\"This program does not help Jewish-Arab relations  :-( \\\\n\\\");   printf(\\\"Hit ^C to abort \\\\n\\\");  /* Infinite loop, JLE never comes out of his world  */   while(J_L_E); }  ---- 8< Cut Here ----------- >8 ----------   To compile this \\\"wonderfool\\\" program on a unix machine try. cc -o jle jle.c or  make jle  then type jle at your prompt.  I tried it, it works great ...   Tsiel\",\" The investment was there in the form of huge tax breaks, and employer benfits.  You are overlooking the difference that these could have made to any company.  Part of the problem was that few industries were interested in political settling, as much as profit.   True, which leads to the obvious question, should any investment have been made there at the taxpayer's expense.  Obviously, the answer was and still is a resounding no. \",\"Be devoted to one another in brotherly love. Honor one another above yourselves.\",\"  The description of the chip's operation evidently leaves out some of the key management aspects.  Either the K_P is the secret key corresponding to a public key which is broadcast at message initiation, or it is the result of a Diffie-Hellman key exchange or something similar.  Either way there must be some protocols beyond those described here.  It isn't clear whether they are implemented in the Clipper wiretap chip or must be provided by other system components.\",\"Could someone PLEASE give a guess as to why this simple little program causes a BadPixmap error on the FOURTH (bizarre???) call to XtRelaizeWidget()?  Here is the code:   int stoploop = 0;  static void Callback(Widget, XtPointer, XtPointer);  main() {         XtToolkitInitialize();         XtAppContext app = XtCreateApplicationContext();         while (1)         {                 int junk = 0;                 Display *dis = XtOpenDisplay(app, NULL, NULL, NULL, NULL, 0,                                                 &junk, NULL);                  Widget top = XtAppCreateShell(NULL, NULL,                                 applicationShellWidgetClass, dis, NULL, 0);                  Widget box = XtVaCreateManagedWidget(\\\"x\\\",                                                         xmPushButtonWidgetClass,                                                         top,                                                         XmNheight, 25,                                                         XmNwidth, 25, NULL);                  XtAddCallback(box, XmNactivateCallback, Callback, NULL);                  XtRealizeWidget(top);                 while (!stoploop)                 {                         XEvent event;                         XtAppNextEvent(app, &event);                         XtDispatchEvent(&event);                 }                 stoploop = 0;                 XtReleaseGC(top, XDefaultGCOfScreen(XtScreen(top))); // needed?                 XtDestroyWidget(top);                 XtCloseDisplay(dis);         } }  static void Callback(Widget, XtPointer, XtPointer) {         stoploop = 1; }   The error I get (yes, the 4TH time I try to show the box) is:  X Error of failed request:  BadPixmap (invalid Pixmap parameter)   Major opcode of failed request:  55 (X_CreateGC)   Resource id in failed request:  0xd0000d   Serial number of failed request:  71   Current serial number in output stream:  85   Please respond via email.  Thanks very, very much!  (NOTE: I realize this program does nothing useful, its an ultra-trivialized version fo a real library routine) --  ------------------------------------------------------------------------------- David Rex Wood -- davewood@cs.colorado.edu -- University of Colorado at Boulder\"]],[\"SUBSET\",[\"raw\",\"raw\",\"raw\",\"raw\",\"raw\",\"raw\",\"raw\",\"raw\",\"raw\",\"raw\"]],[\"label\",[\"ABSTAIN\",\"ABSTAIN\",\"ABSTAIN\",\"ABSTAIN\",\"ABSTAIN\",\"ABSTAIN\",\"ABSTAIN\",\"ABSTAIN\",\"ABSTAIN\",\"ABSTAIN\"]]]}}},\"view\":{\"type\":\"object\",\"name\":\"CDSView\",\"id\":\"p1053\",\"attributes\":{\"filter\":{\"type\":\"object\",\"name\":\"AllIndices\",\"id\":\"p1054\"}}},\"columns\":[{\"type\":\"object\",\"name\":\"TableColumn\",\"id\":\"p1043\",\"attributes\":{\"field\":\"text\",\"title\":\"text\",\"formatter\":{\"type\":\"object\",\"name\":\"HTMLTemplateFormatter\",\"id\":\"p1042\",\"attributes\":{\"template\":\"<span href=\\\"#\\\" data-toggle=\\\"tooltip\\\" title=\\\"<%= value %>\\\"><%= value %></span>\"}},\"editor\":{\"type\":\"object\",\"name\":\"CellEditor\",\"id\":\"p1041\"}}},{\"type\":\"object\",\"name\":\"TableColumn\",\"id\":\"p1046\",\"attributes\":{\"field\":\"label\",\"title\":\"label\",\"formatter\":{\"type\":\"object\",\"name\":\"StringFormatter\",\"id\":\"p1047\"},\"editor\":{\"type\":\"object\",\"name\":\"StringEditor\",\"id\":\"p1048\"}}}],\"editable\":true,\"selectable\":\"checkbox\"}}]}};\n",
       "  const render_items = [{\"docid\":\"e3b82da0-e558-48bc-b7a0-b09c7d83c0f2\",\"roots\":{\"p1049\":\"f36993a3-e3ba-4eaf-83ba-8ae69a2d69e7\"},\"root_ids\":[\"p1049\"]}];\n",
       "  root.Bokeh.embed.embed_items_notebook(docs_json, render_items);\n",
       "  }\n",
       "  if (root.Bokeh !== undefined) {\n",
       "    embed_document(root);\n",
       "  } else {\n",
       "    let attempts = 0;\n",
       "    const timer = setInterval(function(root) {\n",
       "      if (root.Bokeh !== undefined) {\n",
       "        clearInterval(timer);\n",
       "        embed_document(root);\n",
       "      } else {\n",
       "        attempts++;\n",
       "        if (attempts > 100) {\n",
       "          clearInterval(timer);\n",
       "          console.log(\"Bokeh: ERROR: Unable to run BokehJS code because BokehJS library is missing\");\n",
       "        }\n",
       "      }\n",
       "    }, 10, root)\n",
       "  }\n",
       "})(window);"
      ],
      "application/vnd.bokehjs_exec.v0+json": ""
     },
     "metadata": {
      "application/vnd.bokehjs_exec.v0+json": {
       "id": "p1049"
      }
     },
     "output_type": "display_data"
    }
   ],
   "source": [
    "dataset._callback_update_selection(dataset.dfs[\"raw\"][:10])\n",
    "\n",
    "show(dataset.sel_table, notebook_url=notebook_url)"
   ]
  },
  {
   "cell_type": "markdown",
   "id": "975dd29c",
   "metadata": {},
   "source": [
    "<br>\n",
    "\n",
    "### **Edit Data Within a Selection**\n",
    "\n",
    "Often the points selected are not perfectly homogeneous, i.e. some outliers belong to a different label from the selected group overall. It would be helpful to `EVICT` them, and `SupervisableDataset` has a button for it.\n",
    "\n",
    "Sometimes you may also wish to edit data values on the fly.  In hover this is called `PATCH`, and there also is a button for it.\n",
    "\n",
    "-   by default, labels can be edited but feature values cannot.\n",
    "\n",
    "Let's plot the forementioned buttons along with the selection table. Toggle any number of rows in the table, then click the button to `EVICT` or `PATCH` those rows:"
   ]
  },
  {
   "cell_type": "code",
   "execution_count": 5,
   "id": "90d67804",
   "metadata": {
    "execution": {
     "iopub.execute_input": "2023-07-11T01:55:45.882064Z",
     "iopub.status.busy": "2023-07-11T01:55:45.881494Z",
     "iopub.status.idle": "2023-07-11T01:55:45.900599Z",
     "shell.execute_reply": "2023-07-11T01:55:45.899897Z"
    }
   },
   "outputs": [
    {
     "name": "stderr",
     "output_type": "stream",
     "text": [
      "WARNING:bokeh.embed.util:\n",
      "You are generating standalone HTML/JS output, but trying to use real Python\n",
      "callbacks (i.e. with on_change or on_event). This combination cannot work.\n",
      "\n",
      "Only JavaScript callbacks may be used with standalone output. For more\n",
      "information on JavaScript callbacks with Bokeh, see:\n",
      "\n",
      "    https://docs.bokeh.org/en/latest/docs/user_guide/interaction/callbacks.html\n",
      "\n",
      "Alternatively, to use real Python callbacks, a Bokeh server application may\n",
      "be used. For more information on building and running Bokeh applications, see:\n",
      "\n",
      "    https://docs.bokeh.org/en/latest/docs/user_guide/server.html\n",
      "\n"
     ]
    },
    {
     "data": {
      "text/html": [
       "\n",
       "  <div id=\"f6dafefc-8380-4085-a02c-0cc0086579e3\" data-root-id=\"p1058\" style=\"display: contents;\"></div>\n"
      ]
     },
     "metadata": {},
     "output_type": "display_data"
    },
    {
     "data": {
      "application/javascript": [
       "(function(root) {\n",
       "  function embed_document(root) {\n",
       "  const docs_json = {\"204825ce-94a8-43f7-80a0-05e92ddb9919\":{\"version\":\"3.2.0\",\"title\":\"Bokeh Application\",\"roots\":[{\"type\":\"object\",\"name\":\"Column\",\"id\":\"p1058\",\"attributes\":{\"children\":[{\"type\":\"object\",\"name\":\"Row\",\"id\":\"p1057\",\"attributes\":{\"children\":[{\"type\":\"object\",\"name\":\"Button\",\"id\":\"p1006\",\"attributes\":{\"button_type\":\"primary\",\"label\":\"Evict Rows from Selection\"}},{\"type\":\"object\",\"name\":\"Button\",\"id\":\"p1005\",\"attributes\":{\"button_type\":\"warning\",\"subscribed_events\":{\"type\":\"set\",\"entries\":[\"button_click\"]},\"label\":\"Update Row Values\"}}]}},{\"type\":\"object\",\"name\":\"DataTable\",\"id\":\"p1049\",\"attributes\":{\"source\":{\"type\":\"object\",\"name\":\"ColumnDataSource\",\"id\":\"p1038\",\"attributes\":{\"selected\":{\"type\":\"object\",\"name\":\"Selection\",\"id\":\"p1039\",\"attributes\":{\"indices\":[],\"line_indices\":[]}},\"selection_policy\":{\"type\":\"object\",\"name\":\"UnionRenderers\",\"id\":\"p1040\"},\"data\":{\"type\":\"map\",\"entries\":[[\"text\",[\"I hope this is the correct newsgroup for this.  What is the scoop on Methanol and its future as an alternative fuel for vehicles ?  How does it compare to ethanol ?  There was some news about health risks involved.  Anybody know about that.  How does the US Clean Air act impact the use of Methanol by the year 1995 ?  I think its Methyl Tertiary butyl ether which the future industries will use as a substitute for conventional fuels.  There is company Methanex which produces 12% of the world's supply of Methanol. Does anybody know about it ?  Please reply by e-mail as I do not read these newsgroups.  Thanks in advance.\",\"  In that case why do they chase ST1100s & Goldwings?  Tony \",\"If the heading is true, Mr. Frank should be ashamed of himself.  Nothing makes me gag more than people who don't respect the rights of others to voice their opinions.  My idol Lenny Bruce once commented about \\\"that asshole Time Magazine\\\" when they advocated censorship of his material.  Time actually sided with the cops' and their arresting of Bruce at his shows, whereby he routinely would say \\\"cocksucker\\\", then the cops would rush the stage to arrest him.  My, how the times haven't changed...  I can't help but think of how Lenny would be received in today's politically correct arena.  Heck, I even support the right of neo nazis to speak their opinions and march down the streets.  And before Mr. Frank or anyone else makes any wisecracks about anti-Semitism...I'm Jewish, a longtime member of AIPAC and the JNF, and have contributed over $1000 apiece to these fine groups.  I'm a regular contributor to every pro-Israel group I can find, but I still support the right of people like Arf to speak up and vomit his propaganda.  I want to know just WHO these people are !!!  I'm basing all this on the assumption that Mr. Frank did indeed write to some sysadmin requesting Mr. Teel to be admonished.  If this is not the case, I hereby retract these nasties directed toward him.  If not, I stand against Mr. Frank and his trashing of the First Amendment.\",\"I understand how israel captured the teritory and feels that it is its right to annex it. I can't fully understand why it has to deal with palestinians much the same way jews were treated before the holocaust (the Final Solution) by Hitler. What I totally don't get is why the U.S. has to subsidize the existance of such a thorough abuser of human rights.     Just wondering \",\"Accounts of Anti-Armenian Human Right Violations in Azerbaijan #010                  Prelude to Current Events in Nagorno-Karabakh          +-------------------------------------------------------+         |                                                       |         | On the way the driver says, \\\"In fact there aren't any |         | Armenians left. 'They burned them all, beat them all, |         | and stabbed them.\\\"                                    |         |       |         +-------------------------------------------------------+  DEPOSITION OF VANYA BAGRATOVICH BAZIAN     Born 1940    Foreman    Baku Spetsmontazh Administration (UMSMR-1)     Resident at Building 36/7, Apartment 9    Block 14    Sumgait [Azerbaijan]   During the first days of the events, the 27th and the 28th [of February], I was away on a business trip. On the 10th I had got my crew, done the paper- work, and left for the Zhdanov District. That's in Azerbaijan, near the Nagorno Karabagh region.  After the 14th, rumors started to the effect that in Karabagh, specifically in Stepanakert, an uprising had taken place. They said \\\"uprising\\\" in Azerbaijani, but I don't think it was really an uprising, just a  demonstration. After that the unrest started. Several Armenians living in the  Zhdanov District were injured. How were they injured? They were beaten, even  women; it was said that they were at the demonstrations, but they live here,  and went from here to Karabagh to demonstrate. After that I felt uneasy. There were some conversations about Armenians among the local population: the Armenians had done this, the Armenians had done that. Right there at the site. I was attacked a couple of times by kids. Well true, the guys from my crew  wouldn't let them come at me with cables and knives. After that I felt really  bad. I didn't know where to go. I up and called home. And my children tell me, \\\"There's unrest everywhere, be careful.\\\" Well I had a project going on. I told the Second Secretary of the District Party Committee what had been going on  and said I wanted to take my crew off the site. They wouldn't allow it, they  said, \\\"Nothing's going to happen to you, we've entrusted the matter to the  police, we've warned everyone in the district, nothing will happen to you.\\\"  Well, in fact they did especially detail us a policeman to look after me, he  knows all the local people and would protect me if something happened. This man didn't leave me alone for five minutes: he was at work the whole time and  afterward he spent the night with us, too.  I sense some disquiet and call home; my wife also tells me, \\\"The situation is very tense, be careful.\\\"  We finished the job at the site, and I left for Sumgait first thing on the morning of the 29th. When we left the guys warned me, they told me that I shouldn't tell anyone on the way that I was an Armenian. I took someone else's business travel documents, in the name of Zardali, and hid my own. I hid it  and my passport in my socks. We set out for Baku. Our guys were on the bus,  they sat behind, and I sat up front. In Baku they had come to me and said that they had to collect all of our travel documents just in case. As it turns out  they knew what was happening in Sumgait.  I arrive at the bus station and there they tell me that the city of Sumgait is closed, there is no way to get there. That the city is closed off and the  buses aren't running. Buses normally leave Baku for Sumgait almost every two minutes. And suddenly--no buses. Well, we tried to get there via private drivers. One man, an Azerbaijani, said, \\\"Let's go find some other way to get there.\\\" They found a light transport vehicle and arranged for the driver to take us to Sumgait.  He took us there. But the others had said, \\\"I wouldn't go if you gave me a thousand rubles.\\\" \\\"Why?\\\" \\\"Because they're burning the city and killing the Armenians. There isn't an Armenian left.\\\" Well I got hold of myself so I could still stand up. So we squared it away, the four of us got in the car, and we  set off for Sumgait. On the way the driver says, \\\"In fact there aren't any Armenians left. 'They burned them all, beat them all, and stabbed them.\\\" Well  I was silent. The whole way--20-odd miles--I was silent. The driver asks me,  \\\"How old are you, old man?\\\" He wants to know: if I'm being that quiet, not  saying anything, maybe it means I'm an Armenian. \\\"How old are you?\\\" he asks  me. I say, \\\"I'm 47.\\\" \\\"I'm 47 too, but I call you 'old man'.\\\" I say, \\\"It  depends on God, each person's life in this world is different.\\\" I look much older than my years, that's why he called me old man. Well after that he was silent, too.  We're approaching the city, I look and see tanks all around, and a cordon. Before we get to the Kavkaz store the driver starts to wave his hand. Well, he was waving his hand, we all start waving our hands. I'm sitting there with them, I start waving my hand, too. I realized that this was a sign that meant there were no Armenians with us.  I look at the city--there is a crowd of people walking down the middle of the  street, you know, and there's no traffic. Well probably I was scared. They stopped our car. People were standing on the sidewalks. They have armature  shafts, and stones . . . And they stopped us . . .  Along the way the driver tells us how they know who's an Armenian and who's  not. The Armenians usually . . . For example, I'm an Armenian, but I speak  their language very well. Well Armenians usually pronounce the Azeri word for  \\\"nut,\\\" or \\\"little nut,\\\" as \\\"pundukh,\\\" but \\\"fundukh\\\" is actually correct. The  pronunciations are different. Anyone who says \\\"pundukh,\\\" even if they're not  Armenian, they immediately take out and start to slash. Another one says,  \\\"There was a car there, with five people inside it,\\\" he says. \\\"They started  hitting the side of it with an axe and lit it on fire. And they didn't let the people out,\\\" he says, \\\"they wouldn't let them get out of the car.\\\" I only saw  the car, but the driver says that he saw everything. Well he often drives from Baku to Sumgait and back . . .  When they stop us we all get out of the car. I look and there's a short guy, his eyes are gleaming, he has an armature shaft in one hand and a stone in the other and asks the guys what nationality they are one by one. \\\"We're Azerbaijani,' they tell him, 'no Armenians here.\\\" He did come up to me when  we were pulling our things out and says, \\\"Maybe you're an Armenian, old man?\\\"  But in Azerbaijani I say, \\\"You should be ashamed of yourself!\\\" And . . . he  left. Turned and left. That was all that happened. What was I to do? I had  to . . . the city was on fire, but I had to steal my children out of my own  home.  They stopped us at the entrance to Mir Street, that's where the Kavkaz store  and three large, 12-story buildings are. That's the beginning of down-town. I  saw that burned automobile there, completely burned, only metal remained. I  couldn't figure out if it was a Zhiguli or a Zaporozhets. Later I was told it  was a Zhiguli. And the people in there were completely incinerated. Nothing  remained of them, not even any traces. That driver had told me about it, and I saw the car myself. The car was there. The skeleton, a metallic carcass. About 30 to 40 yards from the Kavkaz store.  I see a military transport, an armored personnel carrier. The hatches are closed. And people are throwing armature shafts and pieces of iron at it, the crowd is. And I hear shots, not automatic fire, it's true, but pistol shots. Several shots. There were Azerbaijanis crowded around that personnel carrier.  Someone in the crowd was shooting. Apparently they either wanted to kill the  soldiers or get a machine gun or something. At that point there was only one  armored personnel carrier. And all the tanks were outside the city, cordoning  off Sumgait.  I walked on. I see two Azerbaijanis going home from the plant. I can tell by  their gait that they're not bandits, they're just people, walking home. I joined them so in case something happened, in case someone came up to us and asked questions, either of us would be in a position to answer, you see. But I avoided the large groups because I'm a local and might be quickly  recognized. I tried to keep at a distance, and walked where there were fewer people. Well so I walked into Microdistrict 2, which is across from our block. I can't get into our block, but I walked where there were fewer people, so as  to get around. Well there I see a tall guy and 25 to 30 people are walking  behind him. And he's shouting into a megaphone: \\\"Comrades, the Armenian- Azerbaijani war has begun!\\\"  The police have megaphones like that. So they're talking and walking around  the second microdistrict. I see that they're coming my way, and turn off  behind a building. I noticed that they walked around the outside buildings,  and inside the microdistricts there were about 5 or 6 people standing on every corner, and at the middles of the buildings, and at the edges. What they were  doing I can't say, because I couldn't get up close to them, I was afraid. But  the most important thing was to get away from there, to get home, and at least find out if my children were alive or not . . .     April 20, 1988    Yerevan         - - - reference - - -  [1] _The Sumgait Tragedy; Pogroms against Armenians in Soviet Azerbaijan,     Volume I, Eyewitness Accounts_, edited by Samuel Shahmuradian, forward by     Yelena Bonner, 1990, published by Aristide D. Caratzas, NY, pages 158-160  \",\" [JLE] Q: How many occupying israeli soldiers (terrorists) does it [JLE] take to kill a 5 year old native child? [JLE] A: Four [JLE] Two fasten his arms, one shoots in the face, [JLE] and one writes up a false report.  A couple of months ago JLE wrote a terrible C program (it would never have  passed compilation). This is one describes JLE the Great.  ---- 8< Cut Here and save to jle.c ----------- >8 ----------  #include <stdio.h> #include <signal.h>  #define LOSER  0x01 #define CHILDISH 0x01 #define UNHUMORISTIC 0x01 #define VULGAR  0x01 #define MOSSAD_AGENT 0x01  #define J_L_E  LOSER | CHILDISH | UNHUMORISTIC | VULGAR | MOSSAD_AGENT  static void abort() {  printf(\\\"Even if she wanted, JLE's mother couldn't abort this program\\\");  printf(\\\"\\\\n\\\\n\\\\n\\\\n\\\"); }  void main() {  signal(SIGINT,abort);  printf(\\\"This program does not help Jewish-Arab relations  :-( \\\\n\\\");   printf(\\\"Hit ^C to abort \\\\n\\\");  /* Infinite loop, JLE never comes out of his world  */   while(J_L_E); }  ---- 8< Cut Here ----------- >8 ----------   To compile this \\\"wonderfool\\\" program on a unix machine try. cc -o jle jle.c or  make jle  then type jle at your prompt.  I tried it, it works great ...   Tsiel\",\" The investment was there in the form of huge tax breaks, and employer benfits.  You are overlooking the difference that these could have made to any company.  Part of the problem was that few industries were interested in political settling, as much as profit.   True, which leads to the obvious question, should any investment have been made there at the taxpayer's expense.  Obviously, the answer was and still is a resounding no. \",\"Be devoted to one another in brotherly love. Honor one another above yourselves.\",\"  The description of the chip's operation evidently leaves out some of the key management aspects.  Either the K_P is the secret key corresponding to a public key which is broadcast at message initiation, or it is the result of a Diffie-Hellman key exchange or something similar.  Either way there must be some protocols beyond those described here.  It isn't clear whether they are implemented in the Clipper wiretap chip or must be provided by other system components.\",\"Could someone PLEASE give a guess as to why this simple little program causes a BadPixmap error on the FOURTH (bizarre???) call to XtRelaizeWidget()?  Here is the code:   int stoploop = 0;  static void Callback(Widget, XtPointer, XtPointer);  main() {         XtToolkitInitialize();         XtAppContext app = XtCreateApplicationContext();         while (1)         {                 int junk = 0;                 Display *dis = XtOpenDisplay(app, NULL, NULL, NULL, NULL, 0,                                                 &junk, NULL);                  Widget top = XtAppCreateShell(NULL, NULL,                                 applicationShellWidgetClass, dis, NULL, 0);                  Widget box = XtVaCreateManagedWidget(\\\"x\\\",                                                         xmPushButtonWidgetClass,                                                         top,                                                         XmNheight, 25,                                                         XmNwidth, 25, NULL);                  XtAddCallback(box, XmNactivateCallback, Callback, NULL);                  XtRealizeWidget(top);                 while (!stoploop)                 {                         XEvent event;                         XtAppNextEvent(app, &event);                         XtDispatchEvent(&event);                 }                 stoploop = 0;                 XtReleaseGC(top, XDefaultGCOfScreen(XtScreen(top))); // needed?                 XtDestroyWidget(top);                 XtCloseDisplay(dis);         } }  static void Callback(Widget, XtPointer, XtPointer) {         stoploop = 1; }   The error I get (yes, the 4TH time I try to show the box) is:  X Error of failed request:  BadPixmap (invalid Pixmap parameter)   Major opcode of failed request:  55 (X_CreateGC)   Resource id in failed request:  0xd0000d   Serial number of failed request:  71   Current serial number in output stream:  85   Please respond via email.  Thanks very, very much!  (NOTE: I realize this program does nothing useful, its an ultra-trivialized version fo a real library routine) --  ------------------------------------------------------------------------------- David Rex Wood -- davewood@cs.colorado.edu -- University of Colorado at Boulder\"]],[\"SUBSET\",[\"raw\",\"raw\",\"raw\",\"raw\",\"raw\",\"raw\",\"raw\",\"raw\",\"raw\",\"raw\"]],[\"label\",[\"ABSTAIN\",\"ABSTAIN\",\"ABSTAIN\",\"ABSTAIN\",\"ABSTAIN\",\"ABSTAIN\",\"ABSTAIN\",\"ABSTAIN\",\"ABSTAIN\",\"ABSTAIN\"]]]}}},\"view\":{\"type\":\"object\",\"name\":\"CDSView\",\"id\":\"p1053\",\"attributes\":{\"filter\":{\"type\":\"object\",\"name\":\"AllIndices\",\"id\":\"p1054\"}}},\"columns\":[{\"type\":\"object\",\"name\":\"TableColumn\",\"id\":\"p1043\",\"attributes\":{\"field\":\"text\",\"title\":\"text\",\"formatter\":{\"type\":\"object\",\"name\":\"HTMLTemplateFormatter\",\"id\":\"p1042\",\"attributes\":{\"template\":\"<span href=\\\"#\\\" data-toggle=\\\"tooltip\\\" title=\\\"<%= value %>\\\"><%= value %></span>\"}},\"editor\":{\"type\":\"object\",\"name\":\"CellEditor\",\"id\":\"p1041\"}}},{\"type\":\"object\",\"name\":\"TableColumn\",\"id\":\"p1046\",\"attributes\":{\"field\":\"label\",\"title\":\"label\",\"formatter\":{\"type\":\"object\",\"name\":\"StringFormatter\",\"id\":\"p1047\"},\"editor\":{\"type\":\"object\",\"name\":\"StringEditor\",\"id\":\"p1048\"}}}],\"editable\":true,\"selectable\":\"checkbox\"}}]}}]}};\n",
       "  const render_items = [{\"docid\":\"204825ce-94a8-43f7-80a0-05e92ddb9919\",\"roots\":{\"p1058\":\"f6dafefc-8380-4085-a02c-0cc0086579e3\"},\"root_ids\":[\"p1058\"]}];\n",
       "  root.Bokeh.embed.embed_items_notebook(docs_json, render_items);\n",
       "  }\n",
       "  if (root.Bokeh !== undefined) {\n",
       "    embed_document(root);\n",
       "  } else {\n",
       "    let attempts = 0;\n",
       "    const timer = setInterval(function(root) {\n",
       "      if (root.Bokeh !== undefined) {\n",
       "        clearInterval(timer);\n",
       "        embed_document(root);\n",
       "      } else {\n",
       "        attempts++;\n",
       "        if (attempts > 100) {\n",
       "          clearInterval(timer);\n",
       "          console.log(\"Bokeh: ERROR: Unable to run BokehJS code because BokehJS library is missing\");\n",
       "        }\n",
       "      }\n",
       "    }, 10, root)\n",
       "  }\n",
       "})(window);"
      ],
      "application/vnd.bokehjs_exec.v0+json": ""
     },
     "metadata": {
      "application/vnd.bokehjs_exec.v0+json": {
       "id": "p1058"
      }
     },
     "output_type": "display_data"
    }
   ],
   "source": [
    "show(column(\n",
    "    row(\n",
    "        dataset.selection_evictor,\n",
    "        dataset.selection_patcher,\n",
    "    ),\n",
    "    dataset.sel_table,\n",
    "), notebook_url=notebook_url)"
   ]
  },
  {
   "cell_type": "markdown",
   "id": "269e1789",
   "metadata": {},
   "source": [
    "<br>"
   ]
  }
 ],
 "metadata": {
  "language_info": {
   "codemirror_mode": {
    "name": "ipython",
    "version": 3
   },
   "file_extension": ".py",
   "mimetype": "text/x-python",
   "name": "python",
   "nbconvert_exporter": "python",
   "pygments_lexer": "ipython3",
   "version": "3.9.17"
  }
 },
 "nbformat": 4,
 "nbformat_minor": 5
}
