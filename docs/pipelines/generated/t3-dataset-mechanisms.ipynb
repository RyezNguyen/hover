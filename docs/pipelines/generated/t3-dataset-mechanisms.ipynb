{
 "cells": [
  {
   "cell_type": "markdown",
   "id": "cc469ab4",
   "metadata": {},
   "source": [
    "> `SupervisableDataset` holds your data throughout the labeling process.\n",
    ">\n",
    "> :speedboat: Let's take a look at its core mechanisms.\n",
    "\n",
    "-   <details open><summary>This page addresses **single components** of `hover`</summary>\n",
    "    We are using code snippets to pick out parts of the annotation interface, so that the documentation can explain what they do.\n",
    "\n",
    "    -   Please be aware that this is NOT how one would typically use `hover`.\n",
    "    -   Typical usage deals with [recipes](../../tutorial/t1-active-learning) where the individual parts have been tied together.\n",
    "\n",
    "</details>\n",
    "\n",
    "-   <details open><summary>Dependencies for {== local environments ==}</summary>\n",
    "    When you run the code locally, you may need to install additional packages.\n",
    "\n",
    "    To render `bokeh` plots in Jupyter, you need:\n",
    "```shell\n",
    "    pip install jupyter_bokeh\n",
    "```\n",
    "\n",
    "    If you are using JupyterLab older than 3.0, use this instead ([reference](https://pypi.org/project/jupyter-bokeh/)):\n",
    "```shell\n",
    "    jupyter labextension install @jupyter-widgets/jupyterlab-manager\n",
    "    jupyter labextension install @bokeh/jupyter_bokeh\n",
    "```\n",
    "\n",
    "</details>\n",
    "\n",
    "## **Data Subsets**\n",
    "\n",
    "We place unlabeled data and labeled data in different subsets: \"raw\", \"train\", \"dev\", and \"test\". Unlabeled data start from the \"raw\" subset, and can be transferred to other subsets after it gets labeled.\n",
    "\n",
    "`SupervisableDataset` uses a \"population table\", `dataset.pop_table`, to show the size of each subset:"
   ]
  },
  {
   "cell_type": "code",
   "execution_count": 1,
   "id": "a48dbfdd",
   "metadata": {
    "execution": {
     "iopub.execute_input": "2022-08-09T02:29:46.687566Z",
     "iopub.status.busy": "2022-08-09T02:29:46.687239Z",
     "iopub.status.idle": "2022-08-09T02:29:48.221718Z",
     "shell.execute_reply": "2022-08-09T02:29:48.220792Z"
    }
   },
   "outputs": [
    {
     "data": {
      "text/html": [
       "<pre style=\"white-space:pre;overflow-x:auto;line-height:normal;font-family:Menlo,'DejaVu Sans Mono',consolas,'Courier New',monospace\"><span style=\"color: #000080; text-decoration-color: #000080\">🔵 SupervisableTextDataset: Initializing</span><span style=\"color: #808000; text-decoration-color: #808000\">...</span>\n",
       "</pre>\n"
      ],
      "text/plain": [
       "\u001b[34m🔵 SupervisableTextDataset: Initializing\u001b[0m\u001b[33m...\u001b[0m\n"
      ]
     },
     "metadata": {},
     "output_type": "display_data"
    },
    {
     "data": {
      "text/html": [
       "<pre style=\"white-space:pre;overflow-x:auto;line-height:normal;font-family:Menlo,'DejaVu Sans Mono',consolas,'Courier New',monospace\"><span style=\"color: #000080; text-decoration-color: #000080\">🔵 SupervisableTextDataset: Deduplicating</span><span style=\"color: #808000; text-decoration-color: #808000\">...</span>\n",
       "</pre>\n"
      ],
      "text/plain": [
       "\u001b[34m🔵 SupervisableTextDataset: Deduplicating\u001b[0m\u001b[33m...\u001b[0m\n"
      ]
     },
     "metadata": {},
     "output_type": "display_data"
    },
    {
     "data": {
      "text/html": [
       "<pre style=\"white-space:pre;overflow-x:auto;line-height:normal;font-family:Menlo,'DejaVu Sans Mono',consolas,'Courier New',monospace\"><span style=\"color: #000080; text-decoration-color: #000080\">🔵 SupervisableTextDataset: --subset raw rows: </span><span style=\"color: #008080; text-decoration-color: #008080; font-weight: bold\">400</span><span style=\"color: #000080; text-decoration-color: #000080\"> -&gt; </span><span style=\"color: #008080; text-decoration-color: #008080; font-weight: bold\">366</span><span style=\"color: #000080; text-decoration-color: #000080\">.</span>\n",
       "</pre>\n"
      ],
      "text/plain": [
       "\u001b[34m🔵 SupervisableTextDataset: --subset raw rows: \u001b[0m\u001b[1;36m400\u001b[0m\u001b[34m -> \u001b[0m\u001b[1;36m366\u001b[0m\u001b[34m.\u001b[0m\n"
      ]
     },
     "metadata": {},
     "output_type": "display_data"
    },
    {
     "data": {
      "text/html": [
       "<pre style=\"white-space:pre;overflow-x:auto;line-height:normal;font-family:Menlo,'DejaVu Sans Mono',consolas,'Courier New',monospace\"><span style=\"color: #000080; text-decoration-color: #000080\">🔵 SupervisableTextDataset: --subset train rows: </span><span style=\"color: #008080; text-decoration-color: #008080; font-weight: bold\">400</span><span style=\"color: #000080; text-decoration-color: #000080\"> -&gt; </span><span style=\"color: #008080; text-decoration-color: #008080; font-weight: bold\">383</span><span style=\"color: #000080; text-decoration-color: #000080\">.</span>\n",
       "</pre>\n"
      ],
      "text/plain": [
       "\u001b[34m🔵 SupervisableTextDataset: --subset train rows: \u001b[0m\u001b[1;36m400\u001b[0m\u001b[34m -> \u001b[0m\u001b[1;36m383\u001b[0m\u001b[34m.\u001b[0m\n"
      ]
     },
     "metadata": {},
     "output_type": "display_data"
    },
    {
     "data": {
      "text/html": [
       "<pre style=\"white-space:pre;overflow-x:auto;line-height:normal;font-family:Menlo,'DejaVu Sans Mono',consolas,'Courier New',monospace\"><span style=\"color: #000080; text-decoration-color: #000080\">🔵 SupervisableTextDataset: --subset dev rows: </span><span style=\"color: #008080; text-decoration-color: #008080; font-weight: bold\">100</span><span style=\"color: #000080; text-decoration-color: #000080\"> -&gt; </span><span style=\"color: #008080; text-decoration-color: #008080; font-weight: bold\">96</span><span style=\"color: #000080; text-decoration-color: #000080\">.</span>\n",
       "</pre>\n"
      ],
      "text/plain": [
       "\u001b[34m🔵 SupervisableTextDataset: --subset dev rows: \u001b[0m\u001b[1;36m100\u001b[0m\u001b[34m -> \u001b[0m\u001b[1;36m96\u001b[0m\u001b[34m.\u001b[0m\n"
      ]
     },
     "metadata": {},
     "output_type": "display_data"
    },
    {
     "data": {
      "text/html": [
       "<pre style=\"white-space:pre;overflow-x:auto;line-height:normal;font-family:Menlo,'DejaVu Sans Mono',consolas,'Courier New',monospace\"><span style=\"color: #000080; text-decoration-color: #000080\">🔵 SupervisableTextDataset: --subset test rows: </span><span style=\"color: #008080; text-decoration-color: #008080; font-weight: bold\">100</span><span style=\"color: #000080; text-decoration-color: #000080\"> -&gt; </span><span style=\"color: #008080; text-decoration-color: #008080; font-weight: bold\">97</span><span style=\"color: #000080; text-decoration-color: #000080\">.</span>\n",
       "</pre>\n"
      ],
      "text/plain": [
       "\u001b[34m🔵 SupervisableTextDataset: --subset test rows: \u001b[0m\u001b[1;36m100\u001b[0m\u001b[34m -> \u001b[0m\u001b[1;36m97\u001b[0m\u001b[34m.\u001b[0m\n"
      ]
     },
     "metadata": {},
     "output_type": "display_data"
    },
    {
     "data": {
      "text/html": [
       "<pre style=\"white-space:pre;overflow-x:auto;line-height:normal;font-family:Menlo,'DejaVu Sans Mono',consolas,'Courier New',monospace\"><span style=\"color: #008000; text-decoration-color: #008000\">🟢 SupervisableTextDataset: Set up label encoder/decoder with </span><span style=\"color: #008080; text-decoration-color: #008080; font-weight: bold\">20</span><span style=\"color: #008000; text-decoration-color: #008000\"> classes.</span>\n",
       "</pre>\n"
      ],
      "text/plain": [
       "\u001b[32m🟢 SupervisableTextDataset: Set up label encoder/decoder with \u001b[0m\u001b[1;36m20\u001b[0m\u001b[32m classes.\u001b[0m\n"
      ]
     },
     "metadata": {},
     "output_type": "display_data"
    },
    {
     "data": {
      "text/html": [
       "<pre style=\"white-space:pre;overflow-x:auto;line-height:normal;font-family:Menlo,'DejaVu Sans Mono',consolas,'Courier New',monospace\"><span style=\"color: #008000; text-decoration-color: #008000\">🟢 SupervisableTextDataset: Population updater: latest population with </span><span style=\"color: #008080; text-decoration-color: #008080; font-weight: bold\">20</span><span style=\"color: #008000; text-decoration-color: #008000\"> classes.</span>\n",
       "</pre>\n"
      ],
      "text/plain": [
       "\u001b[32m🟢 SupervisableTextDataset: Population updater: latest population with \u001b[0m\u001b[1;36m20\u001b[0m\u001b[32m classes.\u001b[0m\n"
      ]
     },
     "metadata": {},
     "output_type": "display_data"
    },
    {
     "data": {
      "text/html": [
       "<pre style=\"white-space:pre;overflow-x:auto;line-height:normal;font-family:Menlo,'DejaVu Sans Mono',consolas,'Courier New',monospace\"><span style=\"color: #008000; text-decoration-color: #008000\">🟢 SupervisableTextDataset: SupervisableTextDataset: finished initialization.</span>\n",
       "</pre>\n"
      ],
      "text/plain": [
       "\u001b[32m🟢 SupervisableTextDataset: SupervisableTextDataset: finished initialization.\u001b[0m\n"
      ]
     },
     "metadata": {},
     "output_type": "display_data"
    }
   ],
   "source": [
    "from hover.core.dataset import SupervisableTextDataset\n",
    "import pandas as pd\n",
    "\n",
    "raw_csv_path = \"https://raw.githubusercontent.com/phurwicz/hover-gallery/main/0.5.0/20_newsgroups_raw.csv\"\n",
    "train_csv_path = \"https://raw.githubusercontent.com/phurwicz/hover-gallery/main/0.5.0/20_newsgroups_train.csv\"\n",
    "\n",
    "# for fast, low-memory demonstration purpose, sample the data\n",
    "df_raw = pd.read_csv(raw_csv_path).sample(400)\n",
    "df_raw[\"SUBSET\"] = \"raw\"\n",
    "df_train = pd.read_csv(train_csv_path).sample(400)\n",
    "df_train[\"SUBSET\"] = \"train\"\n",
    "df_dev = pd.read_csv(train_csv_path).sample(100)\n",
    "df_dev[\"SUBSET\"] = \"dev\"\n",
    "df_test = pd.read_csv(train_csv_path).sample(100)\n",
    "df_test[\"SUBSET\"] = \"test\"\n",
    "\n",
    "# build overall dataframe and ensure feature type\n",
    "df = pd.concat([df_raw, df_train, df_dev, df_test])\n",
    "df[\"text\"] = df[\"text\"].astype(str)\n",
    "\n",
    "# this class stores the dataset throught the labeling process\n",
    "dataset = SupervisableTextDataset.from_pandas(df, feature_key=\"text\", label_key=\"label\")"
   ]
  },
  {
   "cell_type": "markdown",
   "id": "e7c040f8",
   "metadata": {},
   "source": [
    "<br>"
   ]
  },
  {
   "cell_type": "code",
   "execution_count": 2,
   "id": "f3760460",
   "metadata": {
    "execution": {
     "iopub.execute_input": "2022-08-09T02:29:48.225944Z",
     "iopub.status.busy": "2022-08-09T02:29:48.225580Z",
     "iopub.status.idle": "2022-08-09T02:29:48.273156Z",
     "shell.execute_reply": "2022-08-09T02:29:48.272231Z"
    }
   },
   "outputs": [
    {
     "data": {
      "text/html": [
       "<div class=\"bk-root\">\n",
       "        <a href=\"https://bokeh.org\" target=\"_blank\" class=\"bk-logo bk-logo-small bk-logo-notebook\"></a>\n",
       "        <span id=\"1029\">Loading BokehJS ...</span>\n",
       "    </div>\n"
      ]
     },
     "metadata": {},
     "output_type": "display_data"
    },
    {
     "data": {
      "application/javascript": [
       "(function(root) {\n",
       "  function now() {\n",
       "    return new Date();\n",
       "  }\n",
       "\n",
       "  const force = true;\n",
       "\n",
       "  if (typeof root._bokeh_onload_callbacks === \"undefined\" || force === true) {\n",
       "    root._bokeh_onload_callbacks = [];\n",
       "    root._bokeh_is_loading = undefined;\n",
       "  }\n",
       "\n",
       "const JS_MIME_TYPE = 'application/javascript';\n",
       "  const HTML_MIME_TYPE = 'text/html';\n",
       "  const EXEC_MIME_TYPE = 'application/vnd.bokehjs_exec.v0+json';\n",
       "  const CLASS_NAME = 'output_bokeh rendered_html';\n",
       "\n",
       "  /**\n",
       "   * Render data to the DOM node\n",
       "   */\n",
       "  function render(props, node) {\n",
       "    const script = document.createElement(\"script\");\n",
       "    node.appendChild(script);\n",
       "  }\n",
       "\n",
       "  /**\n",
       "   * Handle when an output is cleared or removed\n",
       "   */\n",
       "  function handleClearOutput(event, handle) {\n",
       "    const cell = handle.cell;\n",
       "\n",
       "    const id = cell.output_area._bokeh_element_id;\n",
       "    const server_id = cell.output_area._bokeh_server_id;\n",
       "    // Clean up Bokeh references\n",
       "    if (id != null && id in Bokeh.index) {\n",
       "      Bokeh.index[id].model.document.clear();\n",
       "      delete Bokeh.index[id];\n",
       "    }\n",
       "\n",
       "    if (server_id !== undefined) {\n",
       "      // Clean up Bokeh references\n",
       "      const cmd_clean = \"from bokeh.io.state import curstate; print(curstate().uuid_to_server['\" + server_id + \"'].get_sessions()[0].document.roots[0]._id)\";\n",
       "      cell.notebook.kernel.execute(cmd_clean, {\n",
       "        iopub: {\n",
       "          output: function(msg) {\n",
       "            const id = msg.content.text.trim();\n",
       "            if (id in Bokeh.index) {\n",
       "              Bokeh.index[id].model.document.clear();\n",
       "              delete Bokeh.index[id];\n",
       "            }\n",
       "          }\n",
       "        }\n",
       "      });\n",
       "      // Destroy server and session\n",
       "      const cmd_destroy = \"import bokeh.io.notebook as ion; ion.destroy_server('\" + server_id + \"')\";\n",
       "      cell.notebook.kernel.execute(cmd_destroy);\n",
       "    }\n",
       "  }\n",
       "\n",
       "  /**\n",
       "   * Handle when a new output is added\n",
       "   */\n",
       "  function handleAddOutput(event, handle) {\n",
       "    const output_area = handle.output_area;\n",
       "    const output = handle.output;\n",
       "\n",
       "    // limit handleAddOutput to display_data with EXEC_MIME_TYPE content only\n",
       "    if ((output.output_type != \"display_data\") || (!Object.prototype.hasOwnProperty.call(output.data, EXEC_MIME_TYPE))) {\n",
       "      return\n",
       "    }\n",
       "\n",
       "    const toinsert = output_area.element.find(\".\" + CLASS_NAME.split(' ')[0]);\n",
       "\n",
       "    if (output.metadata[EXEC_MIME_TYPE][\"id\"] !== undefined) {\n",
       "      toinsert[toinsert.length - 1].firstChild.textContent = output.data[JS_MIME_TYPE];\n",
       "      // store reference to embed id on output_area\n",
       "      output_area._bokeh_element_id = output.metadata[EXEC_MIME_TYPE][\"id\"];\n",
       "    }\n",
       "    if (output.metadata[EXEC_MIME_TYPE][\"server_id\"] !== undefined) {\n",
       "      const bk_div = document.createElement(\"div\");\n",
       "      bk_div.innerHTML = output.data[HTML_MIME_TYPE];\n",
       "      const script_attrs = bk_div.children[0].attributes;\n",
       "      for (let i = 0; i < script_attrs.length; i++) {\n",
       "        toinsert[toinsert.length - 1].firstChild.setAttribute(script_attrs[i].name, script_attrs[i].value);\n",
       "        toinsert[toinsert.length - 1].firstChild.textContent = bk_div.children[0].textContent\n",
       "      }\n",
       "      // store reference to server id on output_area\n",
       "      output_area._bokeh_server_id = output.metadata[EXEC_MIME_TYPE][\"server_id\"];\n",
       "    }\n",
       "  }\n",
       "\n",
       "  function register_renderer(events, OutputArea) {\n",
       "\n",
       "    function append_mime(data, metadata, element) {\n",
       "      // create a DOM node to render to\n",
       "      const toinsert = this.create_output_subarea(\n",
       "        metadata,\n",
       "        CLASS_NAME,\n",
       "        EXEC_MIME_TYPE\n",
       "      );\n",
       "      this.keyboard_manager.register_events(toinsert);\n",
       "      // Render to node\n",
       "      const props = {data: data, metadata: metadata[EXEC_MIME_TYPE]};\n",
       "      render(props, toinsert[toinsert.length - 1]);\n",
       "      element.append(toinsert);\n",
       "      return toinsert\n",
       "    }\n",
       "\n",
       "    /* Handle when an output is cleared or removed */\n",
       "    events.on('clear_output.CodeCell', handleClearOutput);\n",
       "    events.on('delete.Cell', handleClearOutput);\n",
       "\n",
       "    /* Handle when a new output is added */\n",
       "    events.on('output_added.OutputArea', handleAddOutput);\n",
       "\n",
       "    /**\n",
       "     * Register the mime type and append_mime function with output_area\n",
       "     */\n",
       "    OutputArea.prototype.register_mime_type(EXEC_MIME_TYPE, append_mime, {\n",
       "      /* Is output safe? */\n",
       "      safe: true,\n",
       "      /* Index of renderer in `output_area.display_order` */\n",
       "      index: 0\n",
       "    });\n",
       "  }\n",
       "\n",
       "  // register the mime type if in Jupyter Notebook environment and previously unregistered\n",
       "  if (root.Jupyter !== undefined) {\n",
       "    const events = require('base/js/events');\n",
       "    const OutputArea = require('notebook/js/outputarea').OutputArea;\n",
       "\n",
       "    if (OutputArea.prototype.mime_types().indexOf(EXEC_MIME_TYPE) == -1) {\n",
       "      register_renderer(events, OutputArea);\n",
       "    }\n",
       "  }\n",
       "  if (typeof (root._bokeh_timeout) === \"undefined\" || force === true) {\n",
       "    root._bokeh_timeout = Date.now() + 5000;\n",
       "    root._bokeh_failed_load = false;\n",
       "  }\n",
       "\n",
       "  const NB_LOAD_WARNING = {'data': {'text/html':\n",
       "     \"<div style='background-color: #fdd'>\\n\"+\n",
       "     \"<p>\\n\"+\n",
       "     \"BokehJS does not appear to have successfully loaded. If loading BokehJS from CDN, this \\n\"+\n",
       "     \"may be due to a slow or bad network connection. Possible fixes:\\n\"+\n",
       "     \"</p>\\n\"+\n",
       "     \"<ul>\\n\"+\n",
       "     \"<li>re-rerun `output_notebook()` to attempt to load from CDN again, or</li>\\n\"+\n",
       "     \"<li>use INLINE resources instead, as so:</li>\\n\"+\n",
       "     \"</ul>\\n\"+\n",
       "     \"<code>\\n\"+\n",
       "     \"from bokeh.resources import INLINE\\n\"+\n",
       "     \"output_notebook(resources=INLINE)\\n\"+\n",
       "     \"</code>\\n\"+\n",
       "     \"</div>\"}};\n",
       "\n",
       "  function display_loaded() {\n",
       "    const el = document.getElementById(\"1029\");\n",
       "    if (el != null) {\n",
       "      el.textContent = \"BokehJS is loading...\";\n",
       "    }\n",
       "    if (root.Bokeh !== undefined) {\n",
       "      if (el != null) {\n",
       "        el.textContent = \"BokehJS \" + root.Bokeh.version + \" successfully loaded.\";\n",
       "      }\n",
       "    } else if (Date.now() < root._bokeh_timeout) {\n",
       "      setTimeout(display_loaded, 100)\n",
       "    }\n",
       "  }\n",
       "\n",
       "  function run_callbacks() {\n",
       "    try {\n",
       "      root._bokeh_onload_callbacks.forEach(function(callback) {\n",
       "        if (callback != null)\n",
       "          callback();\n",
       "      });\n",
       "    } finally {\n",
       "      delete root._bokeh_onload_callbacks\n",
       "    }\n",
       "    console.debug(\"Bokeh: all callbacks have finished\");\n",
       "  }\n",
       "\n",
       "  function load_libs(css_urls, js_urls, callback) {\n",
       "    if (css_urls == null) css_urls = [];\n",
       "    if (js_urls == null) js_urls = [];\n",
       "\n",
       "    root._bokeh_onload_callbacks.push(callback);\n",
       "    if (root._bokeh_is_loading > 0) {\n",
       "      console.debug(\"Bokeh: BokehJS is being loaded, scheduling callback at\", now());\n",
       "      return null;\n",
       "    }\n",
       "    if (js_urls == null || js_urls.length === 0) {\n",
       "      run_callbacks();\n",
       "      return null;\n",
       "    }\n",
       "    console.debug(\"Bokeh: BokehJS not loaded, scheduling load and callback at\", now());\n",
       "    root._bokeh_is_loading = css_urls.length + js_urls.length;\n",
       "\n",
       "    function on_load() {\n",
       "      root._bokeh_is_loading--;\n",
       "      if (root._bokeh_is_loading === 0) {\n",
       "        console.debug(\"Bokeh: all BokehJS libraries/stylesheets loaded\");\n",
       "        run_callbacks()\n",
       "      }\n",
       "    }\n",
       "\n",
       "    function on_error(url) {\n",
       "      console.error(\"failed to load \" + url);\n",
       "    }\n",
       "\n",
       "    for (let i = 0; i < css_urls.length; i++) {\n",
       "      const url = css_urls[i];\n",
       "      const element = document.createElement(\"link\");\n",
       "      element.onload = on_load;\n",
       "      element.onerror = on_error.bind(null, url);\n",
       "      element.rel = \"stylesheet\";\n",
       "      element.type = \"text/css\";\n",
       "      element.href = url;\n",
       "      console.debug(\"Bokeh: injecting link tag for BokehJS stylesheet: \", url);\n",
       "      document.body.appendChild(element);\n",
       "    }\n",
       "\n",
       "    for (let i = 0; i < js_urls.length; i++) {\n",
       "      const url = js_urls[i];\n",
       "      const element = document.createElement('script');\n",
       "      element.onload = on_load;\n",
       "      element.onerror = on_error.bind(null, url);\n",
       "      element.async = false;\n",
       "      element.src = url;\n",
       "      console.debug(\"Bokeh: injecting script tag for BokehJS library: \", url);\n",
       "      document.head.appendChild(element);\n",
       "    }\n",
       "  };\n",
       "\n",
       "  function inject_raw_css(css) {\n",
       "    const element = document.createElement(\"style\");\n",
       "    element.appendChild(document.createTextNode(css));\n",
       "    document.body.appendChild(element);\n",
       "  }\n",
       "\n",
       "  const js_urls = [\"https://cdn.bokeh.org/bokeh/release/bokeh-2.4.3.min.js\", \"https://cdn.bokeh.org/bokeh/release/bokeh-gl-2.4.3.min.js\", \"https://cdn.bokeh.org/bokeh/release/bokeh-widgets-2.4.3.min.js\", \"https://cdn.bokeh.org/bokeh/release/bokeh-tables-2.4.3.min.js\", \"https://cdn.bokeh.org/bokeh/release/bokeh-mathjax-2.4.3.min.js\"];\n",
       "  const css_urls = [];\n",
       "\n",
       "  const inline_js = [    function(Bokeh) {\n",
       "      Bokeh.set_log_level(\"info\");\n",
       "    },\n",
       "function(Bokeh) {\n",
       "    }\n",
       "  ];\n",
       "\n",
       "  function run_inline_js() {\n",
       "    if (root.Bokeh !== undefined || force === true) {\n",
       "          for (let i = 0; i < inline_js.length; i++) {\n",
       "      inline_js[i].call(root, root.Bokeh);\n",
       "    }\n",
       "if (force === true) {\n",
       "        display_loaded();\n",
       "      }} else if (Date.now() < root._bokeh_timeout) {\n",
       "      setTimeout(run_inline_js, 100);\n",
       "    } else if (!root._bokeh_failed_load) {\n",
       "      console.log(\"Bokeh: BokehJS failed to load within specified timeout.\");\n",
       "      root._bokeh_failed_load = true;\n",
       "    } else if (force !== true) {\n",
       "      const cell = $(document.getElementById(\"1029\")).parents('.cell').data().cell;\n",
       "      cell.output_area.append_execute_result(NB_LOAD_WARNING)\n",
       "    }\n",
       "  }\n",
       "\n",
       "  if (root._bokeh_is_loading === 0) {\n",
       "    console.debug(\"Bokeh: BokehJS loaded, going straight to plotting\");\n",
       "    run_inline_js();\n",
       "  } else {\n",
       "    load_libs(css_urls, js_urls, function() {\n",
       "      console.debug(\"Bokeh: BokehJS plotting callback run at\", now());\n",
       "      run_inline_js();\n",
       "    });\n",
       "  }\n",
       "}(window));"
      ],
      "application/vnd.bokehjs_load.v0+json": "(function(root) {\n  function now() {\n    return new Date();\n  }\n\n  const force = true;\n\n  if (typeof root._bokeh_onload_callbacks === \"undefined\" || force === true) {\n    root._bokeh_onload_callbacks = [];\n    root._bokeh_is_loading = undefined;\n  }\n\n\n  if (typeof (root._bokeh_timeout) === \"undefined\" || force === true) {\n    root._bokeh_timeout = Date.now() + 5000;\n    root._bokeh_failed_load = false;\n  }\n\n  const NB_LOAD_WARNING = {'data': {'text/html':\n     \"<div style='background-color: #fdd'>\\n\"+\n     \"<p>\\n\"+\n     \"BokehJS does not appear to have successfully loaded. If loading BokehJS from CDN, this \\n\"+\n     \"may be due to a slow or bad network connection. Possible fixes:\\n\"+\n     \"</p>\\n\"+\n     \"<ul>\\n\"+\n     \"<li>re-rerun `output_notebook()` to attempt to load from CDN again, or</li>\\n\"+\n     \"<li>use INLINE resources instead, as so:</li>\\n\"+\n     \"</ul>\\n\"+\n     \"<code>\\n\"+\n     \"from bokeh.resources import INLINE\\n\"+\n     \"output_notebook(resources=INLINE)\\n\"+\n     \"</code>\\n\"+\n     \"</div>\"}};\n\n  function display_loaded() {\n    const el = document.getElementById(\"1029\");\n    if (el != null) {\n      el.textContent = \"BokehJS is loading...\";\n    }\n    if (root.Bokeh !== undefined) {\n      if (el != null) {\n        el.textContent = \"BokehJS \" + root.Bokeh.version + \" successfully loaded.\";\n      }\n    } else if (Date.now() < root._bokeh_timeout) {\n      setTimeout(display_loaded, 100)\n    }\n  }\n\n  function run_callbacks() {\n    try {\n      root._bokeh_onload_callbacks.forEach(function(callback) {\n        if (callback != null)\n          callback();\n      });\n    } finally {\n      delete root._bokeh_onload_callbacks\n    }\n    console.debug(\"Bokeh: all callbacks have finished\");\n  }\n\n  function load_libs(css_urls, js_urls, callback) {\n    if (css_urls == null) css_urls = [];\n    if (js_urls == null) js_urls = [];\n\n    root._bokeh_onload_callbacks.push(callback);\n    if (root._bokeh_is_loading > 0) {\n      console.debug(\"Bokeh: BokehJS is being loaded, scheduling callback at\", now());\n      return null;\n    }\n    if (js_urls == null || js_urls.length === 0) {\n      run_callbacks();\n      return null;\n    }\n    console.debug(\"Bokeh: BokehJS not loaded, scheduling load and callback at\", now());\n    root._bokeh_is_loading = css_urls.length + js_urls.length;\n\n    function on_load() {\n      root._bokeh_is_loading--;\n      if (root._bokeh_is_loading === 0) {\n        console.debug(\"Bokeh: all BokehJS libraries/stylesheets loaded\");\n        run_callbacks()\n      }\n    }\n\n    function on_error(url) {\n      console.error(\"failed to load \" + url);\n    }\n\n    for (let i = 0; i < css_urls.length; i++) {\n      const url = css_urls[i];\n      const element = document.createElement(\"link\");\n      element.onload = on_load;\n      element.onerror = on_error.bind(null, url);\n      element.rel = \"stylesheet\";\n      element.type = \"text/css\";\n      element.href = url;\n      console.debug(\"Bokeh: injecting link tag for BokehJS stylesheet: \", url);\n      document.body.appendChild(element);\n    }\n\n    for (let i = 0; i < js_urls.length; i++) {\n      const url = js_urls[i];\n      const element = document.createElement('script');\n      element.onload = on_load;\n      element.onerror = on_error.bind(null, url);\n      element.async = false;\n      element.src = url;\n      console.debug(\"Bokeh: injecting script tag for BokehJS library: \", url);\n      document.head.appendChild(element);\n    }\n  };\n\n  function inject_raw_css(css) {\n    const element = document.createElement(\"style\");\n    element.appendChild(document.createTextNode(css));\n    document.body.appendChild(element);\n  }\n\n  const js_urls = [\"https://cdn.bokeh.org/bokeh/release/bokeh-2.4.3.min.js\", \"https://cdn.bokeh.org/bokeh/release/bokeh-gl-2.4.3.min.js\", \"https://cdn.bokeh.org/bokeh/release/bokeh-widgets-2.4.3.min.js\", \"https://cdn.bokeh.org/bokeh/release/bokeh-tables-2.4.3.min.js\", \"https://cdn.bokeh.org/bokeh/release/bokeh-mathjax-2.4.3.min.js\"];\n  const css_urls = [];\n\n  const inline_js = [    function(Bokeh) {\n      Bokeh.set_log_level(\"info\");\n    },\nfunction(Bokeh) {\n    }\n  ];\n\n  function run_inline_js() {\n    if (root.Bokeh !== undefined || force === true) {\n          for (let i = 0; i < inline_js.length; i++) {\n      inline_js[i].call(root, root.Bokeh);\n    }\nif (force === true) {\n        display_loaded();\n      }} else if (Date.now() < root._bokeh_timeout) {\n      setTimeout(run_inline_js, 100);\n    } else if (!root._bokeh_failed_load) {\n      console.log(\"Bokeh: BokehJS failed to load within specified timeout.\");\n      root._bokeh_failed_load = true;\n    } else if (force !== true) {\n      const cell = $(document.getElementById(\"1029\")).parents('.cell').data().cell;\n      cell.output_area.append_execute_result(NB_LOAD_WARNING)\n    }\n  }\n\n  if (root._bokeh_is_loading === 0) {\n    console.debug(\"Bokeh: BokehJS loaded, going straight to plotting\");\n    run_inline_js();\n  } else {\n    load_libs(css_urls, js_urls, function() {\n      console.debug(\"Bokeh: BokehJS plotting callback run at\", now());\n      run_inline_js();\n    });\n  }\n}(window));"
     },
     "metadata": {},
     "output_type": "display_data"
    },
    {
     "data": {
      "text/html": [
       "\n",
       "  <div class=\"bk-root\" id=\"73044848-c23b-44e9-a0a9-812c7c0728d3\" data-root-id=\"1018\"></div>\n"
      ]
     },
     "metadata": {},
     "output_type": "display_data"
    },
    {
     "data": {
      "application/javascript": [
       "(function(root) {\n",
       "  function embed_document(root) {\n",
       "  const docs_json = {\"f805f6a5-c42a-4535-b271-93b5417cc9d0\":{\"defs\":[],\"roots\":{\"references\":[{\"attributes\":{\"columns\":[{\"id\":\"1010\"},{\"id\":\"1011\"},{\"id\":\"1012\"},{\"id\":\"1013\"},{\"id\":\"1014\"},{\"id\":\"1016\"}],\"height_policy\":\"fit\",\"source\":{\"id\":\"1009\"},\"view\":{\"id\":\"1020\"},\"width_policy\":\"fit\"},\"id\":\"1018\",\"type\":\"DataTable\"},{\"attributes\":{\"editor\":{\"id\":\"1033\"},\"field\":\"count_raw\",\"formatter\":{\"id\":\"1032\"},\"title\":\"raw\"},\"id\":\"1011\",\"type\":\"TableColumn\"},{\"attributes\":{\"editor\":{\"id\":\"1035\"},\"field\":\"count_train\",\"formatter\":{\"id\":\"1034\"},\"title\":\"train\"},\"id\":\"1012\",\"type\":\"TableColumn\"},{\"attributes\":{},\"id\":\"1031\",\"type\":\"StringEditor\"},{\"attributes\":{},\"id\":\"1032\",\"type\":\"StringFormatter\"},{\"attributes\":{},\"id\":\"1036\",\"type\":\"StringFormatter\"},{\"attributes\":{},\"id\":\"1030\",\"type\":\"StringFormatter\"},{\"attributes\":{},\"id\":\"1037\",\"type\":\"StringEditor\"},{\"attributes\":{},\"id\":\"1038\",\"type\":\"StringFormatter\"},{\"attributes\":{},\"id\":\"1039\",\"type\":\"StringEditor\"},{\"attributes\":{},\"id\":\"1033\",\"type\":\"StringEditor\"},{\"attributes\":{\"editor\":{\"id\":\"1037\"},\"field\":\"count_dev\",\"formatter\":{\"id\":\"1036\"},\"title\":\"dev\"},\"id\":\"1013\",\"type\":\"TableColumn\"},{\"attributes\":{},\"id\":\"1040\",\"type\":\"StringEditor\"},{\"attributes\":{\"editor\":{\"id\":\"1040\"},\"field\":\"color\",\"formatter\":{\"id\":\"1015\"},\"title\":\"color\"},\"id\":\"1016\",\"type\":\"TableColumn\"},{\"attributes\":{\"editor\":{\"id\":\"1039\"},\"field\":\"count_test\",\"formatter\":{\"id\":\"1038\"},\"title\":\"test\"},\"id\":\"1014\",\"type\":\"TableColumn\"},{\"attributes\":{},\"id\":\"1034\",\"type\":\"StringFormatter\"},{\"attributes\":{},\"id\":\"1041\",\"type\":\"UnionRenderers\"},{\"attributes\":{\"source\":{\"id\":\"1009\"}},\"id\":\"1020\",\"type\":\"CDSView\"},{\"attributes\":{},\"id\":\"1035\",\"type\":\"StringEditor\"},{\"attributes\":{\"data\":{\"color\":[\"#dcdcdc\",\"#1f77b4\",\"#aec7e8\",\"#ff7f0e\",\"#ffbb78\",\"#2ca02c\",\"#98df8a\",\"#d62728\",\"#ff9896\",\"#9467bd\",\"#c5b0d5\",\"#8c564b\",\"#c49c94\",\"#e377c2\",\"#f7b6d2\",\"#7f7f7f\",\"#c7c7c7\",\"#bcbd22\",\"#dbdb8d\",\"#17becf\",\"#9edae5\"],\"count_dev\":[0,7,3,7,5,7,5,1,6,7,5,5,2,6,10,2,4,6,2,4,2],\"count_raw\":[366,0,0,0,0,0,0,0,0,0,0,0,0,0,0,0,0,0,0,0,0],\"count_test\":[0,4,3,6,8,3,2,6,6,6,4,5,6,2,8,3,9,6,3,6,1],\"count_train\":[0,15,20,20,20,25,24,22,15,21,20,19,19,21,21,18,14,18,20,14,17],\"label\":[\"ABSTAIN\",\"alt.atheism\",\"comp.graphics\",\"comp.os.ms-windows.misc\",\"comp.sys.ibm.pc.hardware\",\"comp.sys.mac.hardware\",\"comp.windows.x\",\"misc.forsale\",\"rec.autos\",\"rec.motorcycles\",\"rec.sport.baseball\",\"rec.sport.hockey\",\"sci.crypt\",\"sci.electronics\",\"sci.med\",\"sci.space\",\"soc.religion.christian\",\"talk.politics.guns\",\"talk.politics.mideast\",\"talk.politics.misc\",\"talk.religion.misc\"]},\"selected\":{\"id\":\"1042\"},\"selection_policy\":{\"id\":\"1041\"}},\"id\":\"1009\",\"type\":\"ColumnDataSource\"},{\"attributes\":{},\"id\":\"1042\",\"type\":\"Selection\"},{\"attributes\":{\"editor\":{\"id\":\"1031\"},\"field\":\"label\",\"formatter\":{\"id\":\"1030\"},\"title\":\"label\"},\"id\":\"1010\",\"type\":\"TableColumn\"},{\"attributes\":{\"template\":\"\\n<p style=\\\"color:<%= value %>;\\\">\\n    <%= \\\"&#9608;&#9608;&#9608;\\\" %>\\n</p>\\n\"},\"id\":\"1015\",\"type\":\"HTMLTemplateFormatter\"}],\"root_ids\":[\"1018\"]},\"title\":\"Bokeh Application\",\"version\":\"2.4.3\"}};\n",
       "  const render_items = [{\"docid\":\"f805f6a5-c42a-4535-b271-93b5417cc9d0\",\"root_ids\":[\"1018\"],\"roots\":{\"1018\":\"73044848-c23b-44e9-a0a9-812c7c0728d3\"}}];\n",
       "  root.Bokeh.embed.embed_items_notebook(docs_json, render_items);\n",
       "  }\n",
       "  if (root.Bokeh !== undefined) {\n",
       "    embed_document(root);\n",
       "  } else {\n",
       "    let attempts = 0;\n",
       "    const timer = setInterval(function(root) {\n",
       "      if (root.Bokeh !== undefined) {\n",
       "        clearInterval(timer);\n",
       "        embed_document(root);\n",
       "      } else {\n",
       "        attempts++;\n",
       "        if (attempts > 100) {\n",
       "          clearInterval(timer);\n",
       "          console.log(\"Bokeh: ERROR: Unable to run BokehJS code because BokehJS library is missing\");\n",
       "        }\n",
       "      }\n",
       "    }, 10, root)\n",
       "  }\n",
       "})(window);"
      ],
      "application/vnd.bokehjs_exec.v0+json": ""
     },
     "metadata": {
      "application/vnd.bokehjs_exec.v0+json": {
       "id": "1018"
      }
     },
     "output_type": "display_data"
    }
   ],
   "source": [
    "from bokeh.io import show, output_notebook\n",
    "\n",
    "output_notebook()\n",
    "\n",
    "# normally your would skip notebook_url or use Jupyter address\n",
    "notebook_url = 'localhost:8888'\n",
    "\n",
    "show(dataset.pop_table, notebook_url=notebook_url)"
   ]
  },
  {
   "cell_type": "markdown",
   "id": "599a7d19",
   "metadata": {},
   "source": [
    "<br>\n",
    "\n",
    "### **Transfer Data Between Subsets**\n",
    "\n",
    "`COMMIT` and `DEDUP` are the mechanisms that `hover` uses to transfer data between subsets.\n",
    "\n",
    "-   `COMMIT` copies selected points (to be discussed later) to a destination subset\n",
    "    -   labeled-raw-only: `COMMIT` automatically detects which points are in the raw set with a valid label. Other points will not get copied.\n",
    "    -   keep-last: you can commit the same point to the same subset multiple times and the last copy will be kept. This can be useful for revising labels before `DEDUP`.\n",
    "-   `DEDUP` removes duplicates (identified by feature value) across subsets\n",
    "    -   priority rule: test > dev > train > raw, i.e. test set data always gets kept during deduplication\n",
    "\n",
    "-   <details open><summary>FAQ</summary>\n",
    "    <details open><summary>Why does COMMIT only work on the raw subset?</summary>\n",
    "        Most selections will happen through plots, where different subsets are on top of each other. This means selections can contain both unlabeled and labeled points.\n",
    "\n",
    "        Way too often we find ourselves trying to view both the labeled and the unlabeled, but only moving the unlabeled \"raw\" points. So it's handy that COMMIT picks those points only.\n",
    "    </details>\n",
    "\n",
    "</details>\n",
    "\n",
    "These mechanisms correspond to buttons in `hover`'s annotation interface, which you have encountered in the quickstart:"
   ]
  },
  {
   "cell_type": "code",
   "execution_count": 3,
   "id": "b9bd3660",
   "metadata": {
    "execution": {
     "iopub.execute_input": "2022-08-09T02:29:48.277924Z",
     "iopub.status.busy": "2022-08-09T02:29:48.277632Z",
     "iopub.status.idle": "2022-08-09T02:29:48.320144Z",
     "shell.execute_reply": "2022-08-09T02:29:48.319153Z"
    }
   },
   "outputs": [
    {
     "name": "stderr",
     "output_type": "stream",
     "text": [
      "WARNING:bokeh.embed.util:\n",
      "You are generating standalone HTML/JS output, but trying to use real Python\n",
      "callbacks (i.e. with on_change or on_event). This combination cannot work.\n",
      "\n",
      "Only JavaScript callbacks may be used with standalone output. For more\n",
      "information on JavaScript callbacks with Bokeh, see:\n",
      "\n",
      "    https://docs.bokeh.org/en/latest/docs/user_guide/interaction/callbacks.html\n",
      "\n",
      "Alternatively, to use real Python callbacks, a Bokeh server application may\n",
      "be used. For more information on building and running Bokeh applications, see:\n",
      "\n",
      "    https://docs.bokeh.org/en/latest/docs/user_guide/server.html\n",
      "\n"
     ]
    },
    {
     "data": {
      "text/html": [
       "\n",
       "  <div class=\"bk-root\" id=\"acc5732d-f212-4c2e-937c-5ab796d53f21\" data-root-id=\"1109\"></div>\n"
      ]
     },
     "metadata": {},
     "output_type": "display_data"
    },
    {
     "data": {
      "application/javascript": [
       "(function(root) {\n",
       "  function embed_document(root) {\n",
       "  const docs_json = {\"82175951-3493-474c-b0f7-891e5e942a1e\":{\"defs\":[],\"roots\":{\"references\":[{\"attributes\":{\"children\":[{\"id\":\"1108\"},{\"id\":\"1018\"}]},\"id\":\"1109\",\"type\":\"Column\"},{\"attributes\":{\"editor\":{\"id\":\"1033\"},\"field\":\"count_raw\",\"formatter\":{\"id\":\"1032\"},\"title\":\"raw\"},\"id\":\"1011\",\"type\":\"TableColumn\"},{\"attributes\":{\"editor\":{\"id\":\"1035\"},\"field\":\"count_train\",\"formatter\":{\"id\":\"1034\"},\"title\":\"train\"},\"id\":\"1012\",\"type\":\"TableColumn\"},{\"attributes\":{},\"id\":\"1031\",\"type\":\"StringEditor\"},{\"attributes\":{},\"id\":\"1032\",\"type\":\"StringFormatter\"},{\"attributes\":{},\"id\":\"1036\",\"type\":\"StringFormatter\"},{\"attributes\":{},\"id\":\"1030\",\"type\":\"StringFormatter\"},{\"attributes\":{},\"id\":\"1037\",\"type\":\"StringEditor\"},{\"attributes\":{},\"id\":\"1038\",\"type\":\"StringFormatter\"},{\"attributes\":{},\"id\":\"1039\",\"type\":\"StringEditor\"},{\"attributes\":{},\"id\":\"1033\",\"type\":\"StringEditor\"},{\"attributes\":{\"columns\":[{\"id\":\"1010\"},{\"id\":\"1011\"},{\"id\":\"1012\"},{\"id\":\"1013\"},{\"id\":\"1014\"},{\"id\":\"1016\"}],\"height_policy\":\"fit\",\"source\":{\"id\":\"1009\"},\"view\":{\"id\":\"1020\"},\"width_policy\":\"fit\"},\"id\":\"1018\",\"type\":\"DataTable\"},{\"attributes\":{\"editor\":{\"id\":\"1037\"},\"field\":\"count_dev\",\"formatter\":{\"id\":\"1036\"},\"title\":\"dev\"},\"id\":\"1013\",\"type\":\"TableColumn\"},{\"attributes\":{},\"id\":\"1040\",\"type\":\"StringEditor\"},{\"attributes\":{\"editor\":{\"id\":\"1040\"},\"field\":\"color\",\"formatter\":{\"id\":\"1015\"},\"title\":\"color\"},\"id\":\"1016\",\"type\":\"TableColumn\"},{\"attributes\":{\"editor\":{\"id\":\"1039\"},\"field\":\"count_test\",\"formatter\":{\"id\":\"1038\"},\"title\":\"test\"},\"id\":\"1014\",\"type\":\"TableColumn\"},{\"attributes\":{},\"id\":\"1034\",\"type\":\"StringFormatter\"},{\"attributes\":{},\"id\":\"1041\",\"type\":\"UnionRenderers\"},{\"attributes\":{\"source\":{\"id\":\"1009\"}},\"id\":\"1020\",\"type\":\"CDSView\"},{\"attributes\":{\"button_type\":\"warning\",\"height_policy\":\"fit\",\"icon\":null,\"label\":\"Commit\",\"menu\":[\"train\",\"dev\",\"test\"],\"subscribed_events\":[\"button_click\",\"menu_item_click\"],\"width_policy\":\"min\"},\"id\":\"1002\",\"type\":\"Dropdown\"},{\"attributes\":{},\"id\":\"1035\",\"type\":\"StringEditor\"},{\"attributes\":{\"button_type\":\"warning\",\"height_policy\":\"fit\",\"icon\":null,\"label\":\"Dedup\",\"subscribed_events\":[\"button_click\"],\"width_policy\":\"min\"},\"id\":\"1003\",\"type\":\"Button\"},{\"attributes\":{\"data\":{\"color\":[\"#dcdcdc\",\"#1f77b4\",\"#aec7e8\",\"#ff7f0e\",\"#ffbb78\",\"#2ca02c\",\"#98df8a\",\"#d62728\",\"#ff9896\",\"#9467bd\",\"#c5b0d5\",\"#8c564b\",\"#c49c94\",\"#e377c2\",\"#f7b6d2\",\"#7f7f7f\",\"#c7c7c7\",\"#bcbd22\",\"#dbdb8d\",\"#17becf\",\"#9edae5\"],\"count_dev\":[0,7,3,7,5,7,5,1,6,7,5,5,2,6,10,2,4,6,2,4,2],\"count_raw\":[366,0,0,0,0,0,0,0,0,0,0,0,0,0,0,0,0,0,0,0,0],\"count_test\":[0,4,3,6,8,3,2,6,6,6,4,5,6,2,8,3,9,6,3,6,1],\"count_train\":[0,15,20,20,20,25,24,22,15,21,20,19,19,21,21,18,14,18,20,14,17],\"label\":[\"ABSTAIN\",\"alt.atheism\",\"comp.graphics\",\"comp.os.ms-windows.misc\",\"comp.sys.ibm.pc.hardware\",\"comp.sys.mac.hardware\",\"comp.windows.x\",\"misc.forsale\",\"rec.autos\",\"rec.motorcycles\",\"rec.sport.baseball\",\"rec.sport.hockey\",\"sci.crypt\",\"sci.electronics\",\"sci.med\",\"sci.space\",\"soc.religion.christian\",\"talk.politics.guns\",\"talk.politics.mideast\",\"talk.politics.misc\",\"talk.religion.misc\"]},\"selected\":{\"id\":\"1042\"},\"selection_policy\":{\"id\":\"1041\"}},\"id\":\"1009\",\"type\":\"ColumnDataSource\"},{\"attributes\":{},\"id\":\"1042\",\"type\":\"Selection\"},{\"attributes\":{\"children\":[{\"id\":\"1002\"},{\"id\":\"1003\"}]},\"id\":\"1108\",\"type\":\"Row\"},{\"attributes\":{\"editor\":{\"id\":\"1031\"},\"field\":\"label\",\"formatter\":{\"id\":\"1030\"},\"title\":\"label\"},\"id\":\"1010\",\"type\":\"TableColumn\"},{\"attributes\":{\"template\":\"\\n<p style=\\\"color:<%= value %>;\\\">\\n    <%= \\\"&#9608;&#9608;&#9608;\\\" %>\\n</p>\\n\"},\"id\":\"1015\",\"type\":\"HTMLTemplateFormatter\"}],\"root_ids\":[\"1109\"]},\"title\":\"Bokeh Application\",\"version\":\"2.4.3\"}};\n",
       "  const render_items = [{\"docid\":\"82175951-3493-474c-b0f7-891e5e942a1e\",\"root_ids\":[\"1109\"],\"roots\":{\"1109\":\"acc5732d-f212-4c2e-937c-5ab796d53f21\"}}];\n",
       "  root.Bokeh.embed.embed_items_notebook(docs_json, render_items);\n",
       "  }\n",
       "  if (root.Bokeh !== undefined) {\n",
       "    embed_document(root);\n",
       "  } else {\n",
       "    let attempts = 0;\n",
       "    const timer = setInterval(function(root) {\n",
       "      if (root.Bokeh !== undefined) {\n",
       "        clearInterval(timer);\n",
       "        embed_document(root);\n",
       "      } else {\n",
       "        attempts++;\n",
       "        if (attempts > 100) {\n",
       "          clearInterval(timer);\n",
       "          console.log(\"Bokeh: ERROR: Unable to run BokehJS code because BokehJS library is missing\");\n",
       "        }\n",
       "      }\n",
       "    }, 10, root)\n",
       "  }\n",
       "})(window);"
      ],
      "application/vnd.bokehjs_exec.v0+json": ""
     },
     "metadata": {
      "application/vnd.bokehjs_exec.v0+json": {
       "id": "1109"
      }
     },
     "output_type": "display_data"
    }
   ],
   "source": [
    "from bokeh.layouts import row, column\n",
    "\n",
    "show(column(\n",
    "    row(\n",
    "        dataset.data_committer,\n",
    "        dataset.dedup_trigger,\n",
    "    ),\n",
    "    dataset.pop_table,\n",
    "), notebook_url=notebook_url)"
   ]
  },
  {
   "cell_type": "markdown",
   "id": "b880d51a",
   "metadata": {},
   "source": [
    "<br>\n",
    "\n",
    "Of course, so far we have nothing to move, because there's no data selected. We shall now discuss selections.\n",
    "\n",
    "## **Selection**\n",
    "\n",
    "`hover` labels data points in bulk, which requires selecting groups of homogeneous data, i.e. semantically similar or going to have the same label. Being able to skim through what you selected gives you confidence about homogeneity.\n",
    "\n",
    "Normally, selection happens through a plot (`explorer`), as we have seen in the quickstart. For the purpose here, we will \"cheat\" and assign the selection programmatically:"
   ]
  },
  {
   "cell_type": "code",
   "execution_count": 4,
   "id": "71138294",
   "metadata": {
    "execution": {
     "iopub.execute_input": "2022-08-09T02:29:48.324760Z",
     "iopub.status.busy": "2022-08-09T02:29:48.324473Z",
     "iopub.status.idle": "2022-08-09T02:29:48.350497Z",
     "shell.execute_reply": "2022-08-09T02:29:48.349563Z"
    }
   },
   "outputs": [
    {
     "data": {
      "text/html": [
       "<pre style=\"white-space:pre;overflow-x:auto;line-height:normal;font-family:Menlo,'DejaVu Sans Mono',consolas,'Courier New',monospace\"><span style=\"color: #008000; text-decoration-color: #008000\">🟢 SupervisableTextDataset: Selection table: latest selection with </span><span style=\"color: #008080; text-decoration-color: #008080; font-weight: bold\">11</span><span style=\"color: #008000; text-decoration-color: #008000\"> entries.</span>\n",
       "</pre>\n"
      ],
      "text/plain": [
       "\u001b[32m🟢 SupervisableTextDataset: Selection table: latest selection with \u001b[0m\u001b[1;36m11\u001b[0m\u001b[32m entries.\u001b[0m\n"
      ]
     },
     "metadata": {},
     "output_type": "display_data"
    },
    {
     "data": {
      "text/html": [
       "\n",
       "  <div class=\"bk-root\" id=\"c39b8c5f-e591-403f-931f-e702fe952291\" data-root-id=\"1026\"></div>\n"
      ]
     },
     "metadata": {},
     "output_type": "display_data"
    },
    {
     "data": {
      "application/javascript": [
       "(function(root) {\n",
       "  function embed_document(root) {\n",
       "  const docs_json = {\"2a6a5876-f340-4ab1-afea-ecaae4c3a378\":{\"defs\":[],\"roots\":{\"references\":[{\"attributes\":{\"columns\":[{\"id\":\"1023\"},{\"id\":\"1025\"}],\"editable\":true,\"height_policy\":\"fit\",\"selectable\":\"checkbox\",\"source\":{\"id\":\"1021\"},\"view\":{\"id\":\"1028\"},\"width_policy\":\"fit\"},\"id\":\"1026\",\"type\":\"DataTable\"},{\"attributes\":{},\"id\":\"1230\",\"type\":\"StringEditor\"},{\"attributes\":{\"indices\":[]},\"id\":\"1201\",\"type\":\"Selection\"},{\"attributes\":{},\"id\":\"1229\",\"type\":\"StringFormatter\"},{\"attributes\":{\"data\":{\"SUBSET\":[\"raw\",\"raw\",\"raw\",\"raw\",\"raw\",\"raw\",\"raw\",\"raw\",\"raw\",\"raw\",\"raw\"],\"label\":[\"ABSTAIN\",\"ABSTAIN\",\"ABSTAIN\",\"ABSTAIN\",\"ABSTAIN\",\"ABSTAIN\",\"ABSTAIN\",\"ABSTAIN\",\"ABSTAIN\",\"ABSTAIN\",\"ABSTAIN\"],\"text\":[\"I have the following GameBoy Games available for TRADE!  Pitfighter Metroid II Bases Loaded Blades Of Steel Malibu Beach Volleyball World Cup Soccer Tennis.. Spiderman Robocop Motocross Maniacs Double Dribble 5 on 5 Basketball   Looking for: Genesis Games Missile Command (Gameboy)  Game Gear games  Please leave e-mail if interested!     Thanx    Dave Webb P.S. I'm still waiting to hear from Allen Thoren Jr. about trading MB Volleyball for Missile Command... Please get in touch.\",\"  The latest news I saw was that two of the eight known survivors (not NO SURVIVORS!!! as you so rudely put in all caps) said they started the fire.  I won't go on with the things the wacko of Waco did. \",\" Many people responded with more anecdotal stories; I think its safe to say the original poster is already familiar with such stories. Presumably, he wants hard info to substantiate or refute claims about MSG making people ill.   Similarly, debunking such claims without doing research (whether literature and lab), is equally beside the point. The original poster no doubt already knows that some people think 'Chinese Restaurant Syndrome' is bogus.  Placebos are all very interesting, but irrelevant to the question of what effects MSG has. You could have real effects *and* placebo effects; people may have allergies in addition.    Have you read Olney's work? I fail to see how citing results from peer-reviewed studies qualifies as \\\"bizarrely cracked\\\".   Tests have been done on Rhesus monkeys, as well. I have never seen a study where the mode of administration was intra-ventricular.  The Glu and Asp were administered orally. Some studies used IV and SC. Intra-ventricular is not a normal admin. method for food tox. studies, for obvious reasons. You must not have read the peer-reviewed works that I referred to or you would never have come up with this brain injection bunk.   Pardon me, but where are you getting this from? Have you read the journals? Have you done a thorough literature search?  But, you're right, mice aren't the best to study this on. They're four times less sensitive than humans to MSG.   The point is exceeding the window. Of course, they're amino acids. Note that people with PKU cannot tolerate any phenylalanine.  Olney's research compared infant human diets. Specifically, the amount of freely available Glu in mother's milk versus commercial baby foods, vs. typical lunch items from the Standard American Diet such as packaged soup mixes. He found that one could exceed the projected safety margin for infant humans by at least four-fold in a single meal of processed foods. Mother's milk was well below the effective dose.    Between who? Over what? I would be most interested in seeing you provide peer-reviewed non-food-industry-funded citations to articles disputing that MSG has no effects whatsoever.    Hmm. \\\".com\\\". Why am I not surprised?\",\"Could some one please send me (or tell me where to ftp from) the patches required  for xrolo so that  I can compile-in the SPARCStation phone-dialing feature?  I am using SunOS  4.1.1, and therefore don't have \\\"multimedia/libaudio.h\\\" or  \\\"multimedia/audio_device.h\\\" and associated functions.  Just in case, our mail gateway only accepts msgs < 45Kb.  Thanks in advance, Shash. \",\"  I am in hte market for a new bike (been without for a few years). The two main bikes I'm looking at seriously are The Yamaha Virago 535 and the Honda Shadow VLX 583.  I am leaning towards the Yamaha for its shaft drive, the Honda is Chain. Insurance in Fla. is more costly than I thought, so I am staying in this power range. Thanks in advance for any opinions and or experiences \",\"Can someone tell me the maximum horizontal and vertical refresh rates of the NEC 5fgx.(not the 5fge)\",\"Hello world, does anyone know of a Postscript PPD for a Versatec  A0-size plotter, which is generally accessed via a ZEH Postscript interpreter?  Replies by e-mail very gratefully received - this is proving to be quite a tricky one.  _________________________________________________________________________ Andrew D. Nielsen                        Internet : anielsen@DIALix.oz.au Advanced Systems Consultant              AppleLink: AUST0278 AppleCentre Perth                   69 Adelaide Tce                                        Tel: +61-9-2214511 PERTH WA 6004   AUSTRALIA                              FAX: +61-9-2212527\",\" Detectors are legal in Alberta, the old law was overturned a long time ago.  --\",\"      IF it were'nt for the sin of men, none of this killing would have been  necesarry, He is KIND and LOVING, but also RIGHTEOUS,  SIN MUST BE PUNISHED.  Before Jesus, man had to take the sins on himself. But Jesus died and took it all upon Him, so now we also have a FORGIVING GOD.\",\"Thanks to all who responded to my original post.  I got the number for Western Digital tech support and determined that I need to upgrade the BIOS to the Super BIOS.  It will handle hard drives with up to 16 read/ write heads and up to 1024 cylinders.  The upgrade is $15, payable by check or money order.  Send to:   Western Digital Corporation  Technical Support Group  P.O. Box 19665  Irvine, CA  92713-9665  The Super BIOS is for any WD XT hard drive controller card in the WD1002 series.  The BIOS on my system would only handle up to 20mb drives.  The responses to my request for help follow my .sig.  Warning: It's long.  Keith  -- _____________________________ __-----____--___--__-----____ D. Keith Rice __--__--___--__--___--__--___ University of North Texas __--___--__--_--____--___--__ Department of Computer Science __--___--__----_____--__--___ Denton, Texas, USA __--___--__--_--____--_--____ __--__--___--__--___--__--___ drice@ponder.csci.unt.edu __-----____--___--__--___--__ drice@cs.unt.edu _____________________________  <========================== responses below ==========================>  From ravalent@mailbox.syr.edu Sat Apr  3 16:45:03 1993 Received: from mailbox.syr.EDU by ponder (5.61/1.36)  id AA15218; Sat, 3 Apr 93 16:45:00 -0600 From: ravalent@mailbox.syr.edu (Bob Valentine) Received: from mothra.syr.EDU by mailbox.syr.edu (4.1/CNS)  id AA16647; Sat, 3 Apr 93 17:44:49 EST Received: by mothra.syr.EDU (4.1/Spike-2.0)  id AA03607; Sat, 3 Apr 93 17:43:27 EST Date: Sat, 3 Apr 93 17:43:27 EST Message-Id: <9304032243.AA03607@mothra.syr.EDU> To: drice@ponder Status: OR  To: drice@ponder.csci.unt.edu Subject: Re: Drive/Controller Compatibility Newsgroups: comp.sys.ibm.pc.hardware In-Reply-To: <drice.733866833@ponder> Organization: Syracuse University, Syracuse, NY Cc:         Ah, finally a question I can answer.   I mess with this older stuff alot.   Kinda fun.  8)       First problem I can forsee is that the ST-251 will not be compadible with that WD card unless it has the right bios rom.        Check the numbers on it.  It should be the only non-smt chip on the board.  Slightly below center, and left.    The bios should read  either :     62-000042-015 or              62-000094-0x2       If the last 3 digits are 013, you got problems.       Looks right.   W5 and W7 are factory jumped (with a trace) between pins 1 and 2 to select the primary controller address.       Looks right.    [art deleted]         I notice you left out the S1 jumper table settings.   Those are what control what drive the controller thinks it has.   If you have the 62-000042-015 rom, set it like this:                5 + +    open               6 + +    open                            7 + +    open                       8 + +    open               4 + +    closed               3 + +    closed               2 + +    open               1 + +    open      Note:   those are how WD runs the numbers on the jumper block. Top to bottom.   +'s represent the jumper pins.    Pins 3,4, and 8 select the first drive setting (drive 0) and pins 1,2 and 7 select the second drive (drive 1).           If you have the 62-000094 rom, it's a auto-config, and I'll have to look up how to do it... I don't have the big book right here.         See above.  You might have problems if the S1 jumpers are not right.   Also,  at the risk of being insulting, make sure the cables are on right and good. 8).    On the jumper on the 251, try moving it to the opposite side of the drive.    It's one or the other.         The narrow data cable goes to J2.   I've thrown it on J3 a few times and banged my head for a day.....        Dunno.    IBM roms had to be later than 10/27/82.   A quick way to check is to boot dos and run debug.   Enter:                 -d f000:fff5 fffc    (the - is the debug prompt)         This will return the rom date, if it's of any use.         If I oversimplified any of the above, I appologize.     It's just hard to know what caliber of person I'm talking to. 8).                       -->   Bob Valentine  <--                     --> ravalent@mailbox.syr.edu <--      From chpp@unitrix.utr.ac.za Mon Apr  5 06:33:46 1993 Received: from unitrix.utr.ac.za by ponder (5.61/1.36)  id AA16194; Mon, 5 Apr 93 06:32:59 -0500 Received: by unitrix.utr.ac.za (Smail3.1.28.1 #1)  id m0nfpMA-0001X7C; Mon, 5 Apr 93 13:28 GMT Message-Id: <m0nfpMA-0001X7C@unitrix.utr.ac.za> From: chpp@unitrix.utr.ac.za (Prof P. Piacenza) Subject: ST251 To: drice@ponder Date: Mon, 5 Apr 1993 13:28:49 +0200 (GMT) X-Mailer: ELM [version 2.4 PL11] Mime-Version: 1.0 Content-Type: text/plain; charset=US-ASCII Content-Transfer-Encoding: 7bit Content-Length: 24559      Status: OR   If you are using a TWISTED 34-way cable then move the jumper  on your drive to the neighbouring pins   :8::::::.  Make sure that the twisted cable is for a hard disk (and not a floppy disk) - the coloured stripe (pin 1) should be furthest from the twist.  This may also help.                                PRODUCTS FOR XT SYSTEMS                  HARD DISK CONTROLLERS FOR MFM HARD DISK DRIVES                                   Reference NOTE 1.                            WD1002A-WX1, feature F300R - Half-slot size hard disk controller            card with an ST506/ST412 interface.  It supports 2 MFM drives            with up to 16 heads and 1024 cylinders and is jumper            configurable for secondary addressing and default drive tables.             Built in ROM BIOS supports non-standard drive types, virtual            drive formatting, dual drive operation, bad track formatting and            dynamic formatting.  This board features a power connector for            filecard applications and it will also operate in AT systems.            Please note that this controller card will be unavailable from            the manufacturer (Western Digital) after March, 1989.  Reference            NOTE 2.                      WDXT-GEN, feature F300R - Half-slot size hard disk controller            card with an ST506/ST412 interface.  It  supports 2 MFM hard            disk drives with up to 8 heads and 1024 cylinders.  Built-in ROM            BIOS supports non-standard drive types, virtual drive            formatting, dual drive operation, bad track formatting and            dynamic formatting.  Please note that this controller card will            be unavailable from the manufacturer (Western Digital) after            March, 1989.                      WD1004A-WX1, feature F300R - Half-slot size disk controller            card  with an ST506/ST412 interface.  It supports 2 MFM drives            with up to 16 heads and 1024 cylinders and is jumper            configurable for secondary addressing and default drive tables.             Built in ROM BIOS supports non-standard drive types, virtual            drive formatting, dual drive operation, bad track formatting and            dynamic formatting.  This board features a power connector for            filecard applications and it will also operate in AT systems.             Reference NOTE 2.                      WDXT-GEN2, feature F300R - Half-slot size hard disk controller              card with an ST506/ST412 interface.  It supports 2 MFM hard disk            drives with up to 8 heads and 1024 cylinders.  Built-in ROM BIOS            supports non-standard drive types, virtual drive formatting,            dual drive operation, bad track formatting and dynamic            formatting.  Reference NOTE 2.                                  HARD DISK CONTROLLERS FOR RLL HARD DISK DRIVES                                   Reference NOTE 2.                            WD1002-27X, feature F301R - Half-slot size hard disk controller            card with an ST506/ST412 interface.  It supports 2 RLL hard disk            drives with up to 16 heads and 1024 cylinders and is jumper            configurable for secondary addressing and default drive tables.             Built in ROM BIOS supports non-standard drive types, virtual            drive formatting, dual drive operation, bad track formatting and            dynamic formatting.  This board features a power connector for            filecard applications and it will also operate in AT systems.              Please note that this controller card will be unavailable from            the manufacturer (Western Digital) after March, 1989.  Reference            NOTE 2.                      WD1002A-27X, feature 300R - Half-slot size hard disk controller            with an ST506/ST412 interface.  It supports 2 RLL drives with up            to 16 heads and 1024 cylinders. Built-in ROM BIOS supports non-           standard drive types, virtual drive formatting, bad track            formatting and dynamic formatting.  Please note that this            controller card will be unavailable from the manufacturer                (Western Digital) after March, 1989.                      WD1004-27X, feature F301R - Half-slot size hard disk controller             card with an ST506/ST412 interface.  It supports 2 RLL hard               disk drives with up to 16 heads and 1024 cylinders and is jumper            configurable for secondary addressing and default drive tables.             Built in ROM BIOS supports non-standard drive types, virtual               drive formatting, dual drive operation, bad track formatting                and dynamic formatting.  This board features a power connection            for filecard applications and it will also operate in AT            systems.  Reference NOTE 2.                      WD1004A-27X, feature F300R - Half-slot size hard disk            controller  with an ST506/ST412 interface.  It supports 2 RLL            drives with up to 16 heads and 1024 cylinders.  Built-in ROM            BIOS supports non-standard drive types, virtual drive            formatting, bad track formatting and dynamic formatting.                      NOTE 1:  AT&T 6300 - The AT&T 6300 and the AT&T 6300 PLUS            contain system BIOS chips that support the hard disk drive.             When using a Western Digital XT controller card the system will            not \\\"boot.\\\"  To solve this problem, one of the ROM BIOS chips            must be disabled.  To disable the BIOS on your Western Digital             XT controller card, you must remove the jumper at position W-3            or add a jumper at position R-23 (depending on which model of XT            controller you are using).                                                   -2-                        NOTE 2:  TANDY 1000 SYSTEMS - The WD1002A-WX1, WD1004A-WX1,            WDXT-GEN2 and the WD1004-27X can be modified to operate in            Tandy 1000 series computers, models SX, TX and the original or            \\\"A\\\" version.  These computers utilize an interrupt of 2 (IRQ2)            instead of IRQ5, the IBM standard.  To modify the WD1002A-WX1 or            the WD1002-27X to operate in these systems, you must cut the            etch between pin 1 and pin 2 at jumper position W-7.  Then            solder pin 2 and pin 3 at the position (W-7).  To complete the            modification, a jumper must be added to position 7 of switch S-1            (2 rows of 8 pins).  PLEASE NOTE THAT ANY PHYSICAL MODIFICATION            TO YOUR WESTERN DIGITAL HARD DISK CONTROLLER VOIDS THE WARRANTY            ON YOUR BOARD.  To modify the WD1004A-WX1, WDXT-GEN2 or the            WD1004-27X for your Tandy 1000 system, a zero ohm resister must            be soldered to jumper position W-27.  This will change the            interrupt from IRQ5 to IRQ2.                  XT CONTROLLERS FOR FLOPPY DISK DRIVES                            WD1002A-FOX - Half-slot floppy disk controller for XT or AT             systems.  Four versions of the board are available:                 Feature F001 supports two floppy disk drives.                 Feature F002 supports four floppy disk drives and includes                  an optional 37-pin control, data and power connector and                  an optional 4-pin power connector.                 Feature F003 supports two floppy disk drives and includes                 a ROM BIOS that will enable your system to recognize                  floppy disk drive that may not be supported by your AT                 system ROM BIOS.  The optional ROM BIOS will also allow                 this controller card to operate high density floppy disk                 drives in an XT system.                 Feature F004 supports four floppy disk drives and includes                 an optional 37-pin control, data and power connector, an                 optional 4-pin power connector and a ROM BIOS that will                  enable your system to recognize floppy disk drives that                  may not be supported by your AT system ROM BIOS.  The                  optional ROM BIOS will also allow this controller card to                  operate high density floppy disk drives in an XT system.                                                                          -3-                                 PRODUCTS FOR AT SYSTEMS                   HARD DISK CONTROLLERS FOR MFM HARD DISK DRIVES - NO FLOPPY SUPPORT                            WD1003-WAH, feature F003R - Hard disk controller card with an              ST506/ST412 interface.  It supports 2 MFM drives with up to 16            heads and 2048 cylinders, 3:1 interleave.                      WD1003V-MM1, feature F300R - Hard disk controller card with an             ST506/ST412 interface. It supports 2 MFM drives with up to 16             heads and 2048 cylinders, 2:1 interleave.  The \\\"V\\\" boards can              run in high speed AT systems (10 to 16 megahertz system speed).                      WD1006-WAH , feature F001R - Hard disk controller card with                an ST506/ST412 interface.  It supports 2 MFM drives with up to            16 heads and 2048 cylinders, 1:1 interleave.                          WD1006V-MM1, feature F300R - Hard disk controller card with an             ST506/ST412 interface.  It supports 2 MFM drives with up to 16             heads and 2048 cylinders, 1:1 interleave and faster data                transfer due to \\\"look ahead caching.\\\"  The \\\"V\\\" boards can run in            high speed AT systems (10 to 16 megahertz system speed).                            HARD DISK CONTROLLERS FOR MFM HARD DISK DRIVES AND FLOPPY DISK DRIVES                       WD1003-WA2, feature F003R - Hard disk controller card with an             ST506/ST412 interface, full AT form factor.  It supports 2 MFM            drives with up to 16  heads and 2048 cylinders, at 3:1            interleave and 2 floppy disk drives (360K and 1.2 MB).                      WD1003A-WA2, feature F003R - Hard disk controller card with an            ST506/ST412 interface, full XT form factor.  It supports 2 MFM            drives with up to 16 heads and 2048 cylinders, at 3:1 interleave            and 2 floppy disk drives (360K and 1.2 MB).                      WD1003V-MM2, feature F300R - Hard disk controller card with an             ST506/ST412 interface.  It supports a maximum of 2 MFM drives            with up to 16  heads and 2048 cylinders at 2:1 interleave, and 2            floppy disk drives (5-1/4\\\" 360K, 1.2Mb; 3-1/2\\\" 720K, 1.44Mb).              The \\\"V\\\" boards can run in high speed AT systems, (10 to 16            megahertz system speed).                      WD1006V-MM2, feature F300R - Hard disk controller card with an              ST506/ST412 interface.  It supports a maximum of 2 MFM drives            with up to 16 heads and 2048 cylinders at 1:1 interleave and            faster data transfer due to \\\"look ahead caching\\\" and 2 floppy            disk drives (5-1/4\\\" 360K, 1.2 Mb; 3-1/2\\\" 720K, 1.44 Mb).  The            \\\"V\\\" boards can run in high speed AT systems, (10 to 16 megahertz            system speed).                                                         -4-        HARD DISK CONTROLLERS FOR RLL HARD DISK DRIVES - NO FLOPPY SUPPORT                             WD1003-RAH - Hard disk controller card with an ST506/ST412            interface.  It supports 2 RLL hard disk drives with up to 16             heads and 2048 cylinders at 3:1 interleave.                       WD1003V-SR1 - Hard disk controller card with an ST506/ST412            interface.  It supports a maximum of 2 RLL hard disk drives with            up to 16 heads and 2048 cylinders at 2:1 interleave. The \\\"V\\\"            boards can run in high speed AT systems (10 to 16 megahertz            system speed).                 Feature F301R includes an optional ROM BIOS that allows                  the user to define the drive's parameters.                  Feature F300R does not include the ROM BIOS and you must                   use the drive tables on your system's ROM BIOS that must                  contain the appropriate drive parameters.                                       WD1006-RAH - Hard disk controller card with an ST506/ST412            interface.  It supports a maximum of 2 RLL hard disk drives with            up to 16 heads and 2048 cylinders, 1:1 interleave.                 Feature F001R includes an optional ROM BIOS that provides                   additional drive parameter tables.                 Feature F300R does not include the ROM BIOS and you must                    use the drive tables on your system's ROM BIOS that must                  contain the appropriate drive parameters.                                       WD1006V-SR1 - Hard disk controller card with an ST506/ST412                interface.  It supports 2 RLL hard disk drives with up to 16            heads and 2048 cylinders, 1:1 interleave and faster data            transfer due to \\\"look ahead caching.\\\"  The \\\"V\\\" boards can run in            high speed AT  systems (10 to 16 megahertz system speed).                 Feature F301R includes an optional ROM BIOS that allows                   the user to define the drive's parameters.                            Feature F300R does not include the ROM BIOS and you must                   use the drive tables on your system's ROM BIOS that must                  contain the appropriate drive parameters.                                               HARD DISK CONTROLLERS FOR RLL HARD DISK DRIVES AND FLOPPY DISK DRIVES                       WD1003-RA2, feature F001R -  Hard disk controller card with an             ST506/ST412 interface.  It supports a maximum of 2 RLL hard disk            drives with up to 16  heads and 2048 cylinders, at 3:1            interleave, and 2 floppy disk drives (5-1/4\\\" 360K, 1.2 Mb).                                                                    -5-                       WD1003V-SR2 -  Hard disk controller card with an ST506/ST412               interface.  It supports a maximum of 2 RLL hard disk drives with            up to 16 heads and 2048 cylinders, at 2:1 interleave, and 2            floppy disk drives, (5-1/4\\\" 360K, 1.2 Mb; 3-1/2\\\" 720K, 1.44            Mb).  The \\\"V\\\" boards run in high speed AT systems (10 to 16            megahertz system speed).                 Feature F301R includes an optional ROM BIOS that allows                    the user to define the drive's parameters.                 Feature 300R does not include the ROM BIOS and you must                 use the drive tables on your system's ROM BIOS that must                  contain the appropriate drive parameters.                                       WD1006V-SR2 -  Hard disk controller card with an ST506/ST412              interface.  It supports a maximum of 2 RLL hard disk drives with            up to 16 heads, 2048 cylinders and 2 floppy disk drives (5-1/4\\\"            360K, 1.2 Mb; 3-1/2\\\" 720K, 1.44 Mb).   It also features 1:1            interleave and faster data transfer due to  \\\"look ahead            caching\\\".  The \\\"V\\\" boards can run in high speed AT  systems (10            to 16 megahertz system speed).                               Feature F301R includes an optional ROM BIOS that allows                  the user to define the drive's parameters.                 Feature 300R does not include the ROM BIOS and you must                    use the drive tables on your system's ROM BIOS that must                  contain the appropriate drive parameters.                                               HARD DISK CONTROLLERS FOR ESDI HARD DISK DRIVES - NO FLOPPY SUPPORT -                            WD1007A-WAH - This controller card will support up to 2 ESDI            hard disk drives, 10 megabit per second data transfer rate and            1:1 interleave.                         Feature F301R  includes an optional ROM BIOS with \\\"shadow                  RAM\\\" that will enable the controller card to interface                  with all types of ESDI drives without modifying the system                  ROM BIOS.                 Feature F300R does not include the ROM BIOS and you must                  use the drive tables on your system's ROM BIOS that must                  contain the appropriate drive parameters.                            WD1007V-SE1/ME1 - This controller card will support up to 2 ESDI            hard disk drives, 15 megabit per second data transfer rate and            1:1 interleave.  The \\\"V\\\" boards can run in high speed AT            systems, (10 to 16 megahertz system speed).                 Feature F301R includes an optional ROM BIOS with \\\"shadow                  RAM\\\" that will enable the controller card to interface                  with all types of ESDI drives without modifying the system                  ROM BIOS.                 Feature F300R does not include the ROM BIOS and you must                  use the drive tables on your system's ROM BIOS that must                  contain the appropriate drive parameters.                                                         -6-             HARD DISK CONTROLLERS FOR ESDI HARD DISK DRIVES AND FLOPPY DISK       DRIVES                            WD1007A-WA2 - This controller card will support up to 2 ESDI            hard disk drives, 10 megabit per second data transfer rate, 1:1            interleave and 2 floppy disk drives (5-1/4\\\" 360K, 1.2 Mb; 3-1/2\\\"            720K, 1.44 Mb).                 Feature F301R includes an optional ROM BIOS with \\\"shadow                  RAM\\\" that will enable the controller card to interface                  with all types of ESDI drives without modifying the system                  ROM BIOS.                 Feature F300R does not include the ROM BIOS and you must                  use the drive tables on your system's ROM BIOS that must                  contain the appropriate drive parameters.                                       WD1007V-SE2/ME2 - This controller card will support up to 2 ESDI            hard disk drives, 15 megabit per second data transfer rate, 1:1            interleave and 2 floppy drives (5-1/4\\\" 360K, 1.2 Mb; 3-1/2\\\"            720K, 1.44 Mb).  The \\\"V\\\" boards can run in high speed AT systems            (10 to 12 megahertz bus speed).                 Feature F301R includes an optional ROM BIOS with \\\"shadow                  RAM\\\" that will enable the controller card to interface                  with all types of ESDI drives without modifying the system                  ROM BIOS.                 Feature F300R does not include the ROM BIOS and you must                  use the drive tables on your system's ROM BIOS that must                  contain the appropriate drive parameters.                                             WD1007A-WA4 - This controller card will support up to 2 ESDI            hard disk drives, 10 megabit per second data transfer rate, 1:1            interleave and 2 floppy disk drives (5-1/4\\\" 360K, 1.2 Mb; 3-1/2\\\"            720K, 1.44 Mb).  This board also has a serial port and parallel            port.                 Feature F301R includes an optional ROM BIOS with \\\"shadow                  RAM\\\" that will enable the controller card to interface                  with all types of ESDI drives without modifying the system                  ROM BIOS.                 Feature F300R does not include the ROM BIOS and you must                  use the drive tables on your system's ROM BIOS that must                  contain the appropriate drive parameter.                                                                           -7-               HARD DISK CONTROLLERS FOR SCSI HARD DISK DRIVES                            7000-ASC - A SCSI host adapter that serves as an interface            between the AT bus and the SCSI bus.  All necessary drivers and            receivers are included, permitting direct cable connections to            the SCSI bus through a 50 pin connector and to the AT bus            through two edge connectors.  The 7000-ASC utilizes jumper             configurable options that enable the address space, DMA channels            and interrupt requests to be selected to suit the end user's            application.  The board also features word data transfer at 4            megabytes per second (synchronous), an on-board floppy disk            controller and a ROM BIOS.  Please note that the 7000-ASC            operates using standard DOS 3.2 or DOS 3.3 only.                      7000-FASST2 - This SCSI host adapter card provides the same            features as the 7000-ASC plus additional support capabilities            using software developed by Columbia Data Products.  The 7000-           FASST2 will support MS-DOS 3.2-3.3, Compaq DOS 3.31, PC-DOS 4.0,            PC-MOS/386 version 2.1, XENIX, Microsoft Windows, Novell and            Sytos tape backup.                      WDATXT-FASST KIT - An \\\"unintelligent\\\" SCSI host adapter that is            compatible with the IBM XT, AT and compatible systems.  It uses            a 50 pin external SCSI bus \\\"D\\\" connector with a standard 50 pin            internal SCSI cable.  The WDATXT-FASST can be used as  both a            target and an initiator and it serves as an excellent tool for            SCSI designers.  It also provides a low cost alternative for end-           users desiring to install a SCSI peripheral device such as a            hard disk drive or a tape backup unit. The kit includes an 8-bit            SCSI HBA board, manual, FASST software diskettes and an internal            SCSI cable.                      SYTOS TAPE BACKUP - (Utility for 7000-FASST) - FASST-SYTOS -            FASST version of Sytos tape backup utilities.  MS-DOS            compatible, it runs with FASST software products Revision 3.3+.                            HARD DISK CONTROLLERS FOR PS/2 MODEL 50, 60, 80 SYSTEMS        (MICROCHANNEL ARCHITECTURE)                            WD1006V-MC1, feature F300R - Hard disk controller with an            ST506/ST412 interface for microchannel systems.  It supports 2            MFM drives with up to 16 heads and 2048 cylinders, 1:1            interleave and faster data transfer due to \\\"look ahead            caching.\\\"  The\\\"V\\\" boards can run in high speed AT systems (10 to            16 megahertz system speed).                                                         -8-                        WD1007V-MC1, feature F300R - This controller card will support            up to 2 ESDI hard disk drives, 15 megabit per second transfer            rate and it contains a ROM BIOS with \\\"shadow RAM\\\" that will            enable the controller card to interface with all types of ESDI            hard disk drives without modifying the system BIOS.  It uses 1:1            interleave.  The \\\"V\\\" boards can run in high speed AT systems,            (10 to 12 megahertz bus speed).                                  CONTROLLERS FOR FLOPPY DISK DRIVES ONLY                            WD1002A-FOX - Half-slot floppy disk controller for XT or AT            systems.  Four versions of the board are available:                 Feature F001 supports two floppy disk drives.                 Feature F002 supports four floppy disk drives and includes                  an optional 37-pin control, data and power connector and                  an optional 4-pin power connector.                 Feature F003 supports two floppy disk drives and includes                  a ROM BIOS that will enable your system to recognize                      floppy disk drives that may not be supported by your AT                  system ROM BIOS.  The optional ROM BIOS will also allow                  this controller card to operate high density floppy disk                 drives in an XT system.                 Feature F004 supports four floppy disk drives and includes                  an optional 37-pin control, data and power connector, an                  optional 4-pin power connector and a ROM BIOS that will                  enable your system to recognize floppy disk drives that                  may not be supported by your AT system ROM BIOS.  The                  optional ROM BIOS will also allow this controller card to                  operate high density floppy disk drives in an XT system.                    --      Prof. L. Piacenza - Chemistry Department - University of Transkei     Internet: chpp@unitrix.utr.ac.za  (preferred).  Tel. 27-471-3022384     Internet: sppp@hippo.ru.ac.za   From necis!mydual.uucp!olson@transfer.stratus.com Mon Apr  5 12:14:06 1993 Received: from transfer.stratus.com by ponder (5.61/1.36)  id AA29202; Mon, 5 Apr 93 12:14:03 -0500 Received: from necis.UUCP by transfer.stratus.com (4.1/3.12-jjm)  id AA22183; Mon, 5 Apr 93 13:12:04 EDT Received: from mydual by necis.necis.ma.nec.com id aa21760; 5 Apr 93 12:50 EDT Received: by mydual.UUCP (5.58/smail2.5/09-28-87)  id AA18009; Mon, 5 Apr 93 13:24:23 EST Date: Mon, 5 Apr 93 13:24:23 EST From: \\\"Kirtland H. Olson\\\" <mydual!olson@transfer.stratus.com> Message-Id: <9304051824.AA18009@mydual.UUCP> To: drice@ponder Subject: Re: Drive/Controller Compatibility Newsgroups: comp.sys.ibm.pc.hardware In-Reply-To: <drice.733866833@ponder> Organization: The Harvard Group, 01451-0667 Reply-To: necis!olson%mydual.uucp@transfer.stratus.com Cc:  Status: OR  Suggest you move jumper on drive rightward one position.  Regards,        --Kirt \",\"OHIO HOUSE OF REPRESENTATIVE  TUEDAY, APRIL 6, 1993   H.B. NO. 278- REPRESENTATIVE BEATTY           TO AMMEND  SECTION 2923.11, 2923.17, AND 2923.20 AND TO ENACT  N 2923.181 OF THE REVISED CODE TO EXPAND THE DEFINTION OF DANGEROUS  ORDINANCE TO INCLUDE MILITARY WEAPONS THAT DO NOT USE BOLT ACTION, TO  INCREASE THE PENALTY FOR A VIOLATION OF THE PROHIBTION AGAINST POSSESION  OF DANGEROUS ORDINANCE, TO PROHIBIT ANY PERSON FROM ACQUIRING A MILITARY  WEAPON ON OR AFTER THE ACT'SEFFECTIVE DATE, TO REQUIRE THE LICENSURE OF  MILITARY WEAPONS ACQUIRED FOR A PROPER PURPOSE PRIOR TO THE ACT'S  EFFECTIVE DATE, TO PROHIBIT A PERSON FROM IMPORTING, MANUFACTURING, OR  SELLING A MILITARY WEAPON, AND TO DECLARE AN EMERGENCY.   As of Monday, April 12, 1993  H.B. 278 had not been assigned to a  committee.  Introduced as an emergency measure if this passes there is no  chance for a reforendum, and would go into effect immediately as opposed  to the state requirement of 90 days before a law goes into effect.  \"]},\"selected\":{\"id\":\"1201\"},\"selection_policy\":{\"id\":\"1231\"}},\"id\":\"1021\",\"type\":\"ColumnDataSource\"},{\"attributes\":{},\"id\":\"1228\",\"type\":\"StringFormatter\"},{\"attributes\":{},\"id\":\"1231\",\"type\":\"UnionRenderers\"},{\"attributes\":{\"editor\":{\"id\":\"1230\"},\"field\":\"label\",\"formatter\":{\"id\":\"1229\"},\"title\":\"label\"},\"id\":\"1025\",\"type\":\"TableColumn\"},{\"attributes\":{\"editor\":{\"id\":\"1022\"},\"field\":\"text\",\"formatter\":{\"id\":\"1228\"},\"title\":\"text\"},\"id\":\"1023\",\"type\":\"TableColumn\"},{\"attributes\":{\"source\":{\"id\":\"1021\"}},\"id\":\"1028\",\"type\":\"CDSView\"},{\"attributes\":{},\"id\":\"1022\",\"type\":\"CellEditor\"}],\"root_ids\":[\"1026\"]},\"title\":\"Bokeh Application\",\"version\":\"2.4.3\"}};\n",
       "  const render_items = [{\"docid\":\"2a6a5876-f340-4ab1-afea-ecaae4c3a378\",\"root_ids\":[\"1026\"],\"roots\":{\"1026\":\"c39b8c5f-e591-403f-931f-e702fe952291\"}}];\n",
       "  root.Bokeh.embed.embed_items_notebook(docs_json, render_items);\n",
       "  }\n",
       "  if (root.Bokeh !== undefined) {\n",
       "    embed_document(root);\n",
       "  } else {\n",
       "    let attempts = 0;\n",
       "    const timer = setInterval(function(root) {\n",
       "      if (root.Bokeh !== undefined) {\n",
       "        clearInterval(timer);\n",
       "        embed_document(root);\n",
       "      } else {\n",
       "        attempts++;\n",
       "        if (attempts > 100) {\n",
       "          clearInterval(timer);\n",
       "          console.log(\"Bokeh: ERROR: Unable to run BokehJS code because BokehJS library is missing\");\n",
       "        }\n",
       "      }\n",
       "    }, 10, root)\n",
       "  }\n",
       "})(window);"
      ],
      "application/vnd.bokehjs_exec.v0+json": ""
     },
     "metadata": {
      "application/vnd.bokehjs_exec.v0+json": {
       "id": "1026"
      }
     },
     "output_type": "display_data"
    }
   ],
   "source": [
    "dataset._callback_update_selection(dataset.dfs[\"raw\"].loc[:10])\n",
    "\n",
    "show(dataset.sel_table, notebook_url=notebook_url)"
   ]
  },
  {
   "cell_type": "markdown",
   "id": "bcf9eec7",
   "metadata": {},
   "source": [
    "<br>\n",
    "\n",
    "### **Edit Data Within a Selection**\n",
    "\n",
    "Often the points selected are not perfectly homogeneous, i.e. some outliers belong to a different label from the selected group overall. It would be helpful to `EVICT` them, and `SupervisableDataset` has a button for it.\n",
    "\n",
    "Sometimes you may also wish to edit data values on the fly.  In hover this is called `PATCH`, and there also is a button for it.\n",
    "\n",
    "-   by default, labels can be edited but feature values cannot.\n",
    "\n",
    "Let's plot the forementioned buttons along with the selection table. Toggle any number of rows in the table, then click the button to `EVICT` or `PATCH` those rows:"
   ]
  },
  {
   "cell_type": "code",
   "execution_count": 5,
   "id": "7c916b1f",
   "metadata": {
    "execution": {
     "iopub.execute_input": "2022-08-09T02:29:48.356616Z",
     "iopub.status.busy": "2022-08-09T02:29:48.356320Z",
     "iopub.status.idle": "2022-08-09T02:29:48.384542Z",
     "shell.execute_reply": "2022-08-09T02:29:48.383590Z"
    }
   },
   "outputs": [
    {
     "name": "stderr",
     "output_type": "stream",
     "text": [
      "WARNING:bokeh.embed.util:\n",
      "You are generating standalone HTML/JS output, but trying to use real Python\n",
      "callbacks (i.e. with on_change or on_event). This combination cannot work.\n",
      "\n",
      "Only JavaScript callbacks may be used with standalone output. For more\n",
      "information on JavaScript callbacks with Bokeh, see:\n",
      "\n",
      "    https://docs.bokeh.org/en/latest/docs/user_guide/interaction/callbacks.html\n",
      "\n",
      "Alternatively, to use real Python callbacks, a Bokeh server application may\n",
      "be used. For more information on building and running Bokeh applications, see:\n",
      "\n",
      "    https://docs.bokeh.org/en/latest/docs/user_guide/server.html\n",
      "\n"
     ]
    },
    {
     "data": {
      "text/html": [
       "\n",
       "  <div class=\"bk-root\" id=\"e5749163-8074-4af7-9884-366017893179\" data-root-id=\"1259\"></div>\n"
      ]
     },
     "metadata": {},
     "output_type": "display_data"
    },
    {
     "data": {
      "application/javascript": [
       "(function(root) {\n",
       "  function embed_document(root) {\n",
       "  const docs_json = {\"367ab537-0b79-4ce0-bbe2-6412000df3b5\":{\"defs\":[],\"roots\":{\"references\":[{\"attributes\":{\"children\":[{\"id\":\"1258\"},{\"id\":\"1026\"}]},\"id\":\"1259\",\"type\":\"Column\"},{\"attributes\":{\"columns\":[{\"id\":\"1023\"},{\"id\":\"1025\"}],\"editable\":true,\"height_policy\":\"fit\",\"selectable\":\"checkbox\",\"source\":{\"id\":\"1021\"},\"view\":{\"id\":\"1028\"},\"width_policy\":\"fit\"},\"id\":\"1026\",\"type\":\"DataTable\"},{\"attributes\":{},\"id\":\"1230\",\"type\":\"StringEditor\"},{\"attributes\":{\"indices\":[]},\"id\":\"1201\",\"type\":\"Selection\"},{\"attributes\":{\"button_type\":\"warning\",\"height_policy\":\"fit\",\"icon\":null,\"label\":\"Update Row Values\",\"subscribed_events\":[\"button_click\"],\"width_policy\":\"min\"},\"id\":\"1005\",\"type\":\"Button\"},{\"attributes\":{},\"id\":\"1229\",\"type\":\"StringFormatter\"},{\"attributes\":{\"data\":{\"SUBSET\":[\"raw\",\"raw\",\"raw\",\"raw\",\"raw\",\"raw\",\"raw\",\"raw\",\"raw\",\"raw\",\"raw\"],\"label\":[\"ABSTAIN\",\"ABSTAIN\",\"ABSTAIN\",\"ABSTAIN\",\"ABSTAIN\",\"ABSTAIN\",\"ABSTAIN\",\"ABSTAIN\",\"ABSTAIN\",\"ABSTAIN\",\"ABSTAIN\"],\"text\":[\"I have the following GameBoy Games available for TRADE!  Pitfighter Metroid II Bases Loaded Blades Of Steel Malibu Beach Volleyball World Cup Soccer Tennis.. Spiderman Robocop Motocross Maniacs Double Dribble 5 on 5 Basketball   Looking for: Genesis Games Missile Command (Gameboy)  Game Gear games  Please leave e-mail if interested!     Thanx    Dave Webb P.S. I'm still waiting to hear from Allen Thoren Jr. about trading MB Volleyball for Missile Command... Please get in touch.\",\"  The latest news I saw was that two of the eight known survivors (not NO SURVIVORS!!! as you so rudely put in all caps) said they started the fire.  I won't go on with the things the wacko of Waco did. \",\" Many people responded with more anecdotal stories; I think its safe to say the original poster is already familiar with such stories. Presumably, he wants hard info to substantiate or refute claims about MSG making people ill.   Similarly, debunking such claims without doing research (whether literature and lab), is equally beside the point. The original poster no doubt already knows that some people think 'Chinese Restaurant Syndrome' is bogus.  Placebos are all very interesting, but irrelevant to the question of what effects MSG has. You could have real effects *and* placebo effects; people may have allergies in addition.    Have you read Olney's work? I fail to see how citing results from peer-reviewed studies qualifies as \\\"bizarrely cracked\\\".   Tests have been done on Rhesus monkeys, as well. I have never seen a study where the mode of administration was intra-ventricular.  The Glu and Asp were administered orally. Some studies used IV and SC. Intra-ventricular is not a normal admin. method for food tox. studies, for obvious reasons. You must not have read the peer-reviewed works that I referred to or you would never have come up with this brain injection bunk.   Pardon me, but where are you getting this from? Have you read the journals? Have you done a thorough literature search?  But, you're right, mice aren't the best to study this on. They're four times less sensitive than humans to MSG.   The point is exceeding the window. Of course, they're amino acids. Note that people with PKU cannot tolerate any phenylalanine.  Olney's research compared infant human diets. Specifically, the amount of freely available Glu in mother's milk versus commercial baby foods, vs. typical lunch items from the Standard American Diet such as packaged soup mixes. He found that one could exceed the projected safety margin for infant humans by at least four-fold in a single meal of processed foods. Mother's milk was well below the effective dose.    Between who? Over what? I would be most interested in seeing you provide peer-reviewed non-food-industry-funded citations to articles disputing that MSG has no effects whatsoever.    Hmm. \\\".com\\\". Why am I not surprised?\",\"Could some one please send me (or tell me where to ftp from) the patches required  for xrolo so that  I can compile-in the SPARCStation phone-dialing feature?  I am using SunOS  4.1.1, and therefore don't have \\\"multimedia/libaudio.h\\\" or  \\\"multimedia/audio_device.h\\\" and associated functions.  Just in case, our mail gateway only accepts msgs < 45Kb.  Thanks in advance, Shash. \",\"  I am in hte market for a new bike (been without for a few years). The two main bikes I'm looking at seriously are The Yamaha Virago 535 and the Honda Shadow VLX 583.  I am leaning towards the Yamaha for its shaft drive, the Honda is Chain. Insurance in Fla. is more costly than I thought, so I am staying in this power range. Thanks in advance for any opinions and or experiences \",\"Can someone tell me the maximum horizontal and vertical refresh rates of the NEC 5fgx.(not the 5fge)\",\"Hello world, does anyone know of a Postscript PPD for a Versatec  A0-size plotter, which is generally accessed via a ZEH Postscript interpreter?  Replies by e-mail very gratefully received - this is proving to be quite a tricky one.  _________________________________________________________________________ Andrew D. Nielsen                        Internet : anielsen@DIALix.oz.au Advanced Systems Consultant              AppleLink: AUST0278 AppleCentre Perth                   69 Adelaide Tce                                        Tel: +61-9-2214511 PERTH WA 6004   AUSTRALIA                              FAX: +61-9-2212527\",\" Detectors are legal in Alberta, the old law was overturned a long time ago.  --\",\"      IF it were'nt for the sin of men, none of this killing would have been  necesarry, He is KIND and LOVING, but also RIGHTEOUS,  SIN MUST BE PUNISHED.  Before Jesus, man had to take the sins on himself. But Jesus died and took it all upon Him, so now we also have a FORGIVING GOD.\",\"Thanks to all who responded to my original post.  I got the number for Western Digital tech support and determined that I need to upgrade the BIOS to the Super BIOS.  It will handle hard drives with up to 16 read/ write heads and up to 1024 cylinders.  The upgrade is $15, payable by check or money order.  Send to:   Western Digital Corporation  Technical Support Group  P.O. Box 19665  Irvine, CA  92713-9665  The Super BIOS is for any WD XT hard drive controller card in the WD1002 series.  The BIOS on my system would only handle up to 20mb drives.  The responses to my request for help follow my .sig.  Warning: It's long.  Keith  -- _____________________________ __-----____--___--__-----____ D. Keith Rice __--__--___--__--___--__--___ University of North Texas __--___--__--_--____--___--__ Department of Computer Science __--___--__----_____--__--___ Denton, Texas, USA __--___--__--_--____--_--____ __--__--___--__--___--__--___ drice@ponder.csci.unt.edu __-----____--___--__--___--__ drice@cs.unt.edu _____________________________  <========================== responses below ==========================>  From ravalent@mailbox.syr.edu Sat Apr  3 16:45:03 1993 Received: from mailbox.syr.EDU by ponder (5.61/1.36)  id AA15218; Sat, 3 Apr 93 16:45:00 -0600 From: ravalent@mailbox.syr.edu (Bob Valentine) Received: from mothra.syr.EDU by mailbox.syr.edu (4.1/CNS)  id AA16647; Sat, 3 Apr 93 17:44:49 EST Received: by mothra.syr.EDU (4.1/Spike-2.0)  id AA03607; Sat, 3 Apr 93 17:43:27 EST Date: Sat, 3 Apr 93 17:43:27 EST Message-Id: <9304032243.AA03607@mothra.syr.EDU> To: drice@ponder Status: OR  To: drice@ponder.csci.unt.edu Subject: Re: Drive/Controller Compatibility Newsgroups: comp.sys.ibm.pc.hardware In-Reply-To: <drice.733866833@ponder> Organization: Syracuse University, Syracuse, NY Cc:         Ah, finally a question I can answer.   I mess with this older stuff alot.   Kinda fun.  8)       First problem I can forsee is that the ST-251 will not be compadible with that WD card unless it has the right bios rom.        Check the numbers on it.  It should be the only non-smt chip on the board.  Slightly below center, and left.    The bios should read  either :     62-000042-015 or              62-000094-0x2       If the last 3 digits are 013, you got problems.       Looks right.   W5 and W7 are factory jumped (with a trace) between pins 1 and 2 to select the primary controller address.       Looks right.    [art deleted]         I notice you left out the S1 jumper table settings.   Those are what control what drive the controller thinks it has.   If you have the 62-000042-015 rom, set it like this:                5 + +    open               6 + +    open                            7 + +    open                       8 + +    open               4 + +    closed               3 + +    closed               2 + +    open               1 + +    open      Note:   those are how WD runs the numbers on the jumper block. Top to bottom.   +'s represent the jumper pins.    Pins 3,4, and 8 select the first drive setting (drive 0) and pins 1,2 and 7 select the second drive (drive 1).           If you have the 62-000094 rom, it's a auto-config, and I'll have to look up how to do it... I don't have the big book right here.         See above.  You might have problems if the S1 jumpers are not right.   Also,  at the risk of being insulting, make sure the cables are on right and good. 8).    On the jumper on the 251, try moving it to the opposite side of the drive.    It's one or the other.         The narrow data cable goes to J2.   I've thrown it on J3 a few times and banged my head for a day.....        Dunno.    IBM roms had to be later than 10/27/82.   A quick way to check is to boot dos and run debug.   Enter:                 -d f000:fff5 fffc    (the - is the debug prompt)         This will return the rom date, if it's of any use.         If I oversimplified any of the above, I appologize.     It's just hard to know what caliber of person I'm talking to. 8).                       -->   Bob Valentine  <--                     --> ravalent@mailbox.syr.edu <--      From chpp@unitrix.utr.ac.za Mon Apr  5 06:33:46 1993 Received: from unitrix.utr.ac.za by ponder (5.61/1.36)  id AA16194; Mon, 5 Apr 93 06:32:59 -0500 Received: by unitrix.utr.ac.za (Smail3.1.28.1 #1)  id m0nfpMA-0001X7C; Mon, 5 Apr 93 13:28 GMT Message-Id: <m0nfpMA-0001X7C@unitrix.utr.ac.za> From: chpp@unitrix.utr.ac.za (Prof P. Piacenza) Subject: ST251 To: drice@ponder Date: Mon, 5 Apr 1993 13:28:49 +0200 (GMT) X-Mailer: ELM [version 2.4 PL11] Mime-Version: 1.0 Content-Type: text/plain; charset=US-ASCII Content-Transfer-Encoding: 7bit Content-Length: 24559      Status: OR   If you are using a TWISTED 34-way cable then move the jumper  on your drive to the neighbouring pins   :8::::::.  Make sure that the twisted cable is for a hard disk (and not a floppy disk) - the coloured stripe (pin 1) should be furthest from the twist.  This may also help.                                PRODUCTS FOR XT SYSTEMS                  HARD DISK CONTROLLERS FOR MFM HARD DISK DRIVES                                   Reference NOTE 1.                            WD1002A-WX1, feature F300R - Half-slot size hard disk controller            card with an ST506/ST412 interface.  It supports 2 MFM drives            with up to 16 heads and 1024 cylinders and is jumper            configurable for secondary addressing and default drive tables.             Built in ROM BIOS supports non-standard drive types, virtual            drive formatting, dual drive operation, bad track formatting and            dynamic formatting.  This board features a power connector for            filecard applications and it will also operate in AT systems.            Please note that this controller card will be unavailable from            the manufacturer (Western Digital) after March, 1989.  Reference            NOTE 2.                      WDXT-GEN, feature F300R - Half-slot size hard disk controller            card with an ST506/ST412 interface.  It  supports 2 MFM hard            disk drives with up to 8 heads and 1024 cylinders.  Built-in ROM            BIOS supports non-standard drive types, virtual drive            formatting, dual drive operation, bad track formatting and            dynamic formatting.  Please note that this controller card will            be unavailable from the manufacturer (Western Digital) after            March, 1989.                      WD1004A-WX1, feature F300R - Half-slot size disk controller            card  with an ST506/ST412 interface.  It supports 2 MFM drives            with up to 16 heads and 1024 cylinders and is jumper            configurable for secondary addressing and default drive tables.             Built in ROM BIOS supports non-standard drive types, virtual            drive formatting, dual drive operation, bad track formatting and            dynamic formatting.  This board features a power connector for            filecard applications and it will also operate in AT systems.             Reference NOTE 2.                      WDXT-GEN2, feature F300R - Half-slot size hard disk controller              card with an ST506/ST412 interface.  It supports 2 MFM hard disk            drives with up to 8 heads and 1024 cylinders.  Built-in ROM BIOS            supports non-standard drive types, virtual drive formatting,            dual drive operation, bad track formatting and dynamic            formatting.  Reference NOTE 2.                                  HARD DISK CONTROLLERS FOR RLL HARD DISK DRIVES                                   Reference NOTE 2.                            WD1002-27X, feature F301R - Half-slot size hard disk controller            card with an ST506/ST412 interface.  It supports 2 RLL hard disk            drives with up to 16 heads and 1024 cylinders and is jumper            configurable for secondary addressing and default drive tables.             Built in ROM BIOS supports non-standard drive types, virtual            drive formatting, dual drive operation, bad track formatting and            dynamic formatting.  This board features a power connector for            filecard applications and it will also operate in AT systems.              Please note that this controller card will be unavailable from            the manufacturer (Western Digital) after March, 1989.  Reference            NOTE 2.                      WD1002A-27X, feature 300R - Half-slot size hard disk controller            with an ST506/ST412 interface.  It supports 2 RLL drives with up            to 16 heads and 1024 cylinders. Built-in ROM BIOS supports non-           standard drive types, virtual drive formatting, bad track            formatting and dynamic formatting.  Please note that this            controller card will be unavailable from the manufacturer                (Western Digital) after March, 1989.                      WD1004-27X, feature F301R - Half-slot size hard disk controller             card with an ST506/ST412 interface.  It supports 2 RLL hard               disk drives with up to 16 heads and 1024 cylinders and is jumper            configurable for secondary addressing and default drive tables.             Built in ROM BIOS supports non-standard drive types, virtual               drive formatting, dual drive operation, bad track formatting                and dynamic formatting.  This board features a power connection            for filecard applications and it will also operate in AT            systems.  Reference NOTE 2.                      WD1004A-27X, feature F300R - Half-slot size hard disk            controller  with an ST506/ST412 interface.  It supports 2 RLL            drives with up to 16 heads and 1024 cylinders.  Built-in ROM            BIOS supports non-standard drive types, virtual drive            formatting, bad track formatting and dynamic formatting.                      NOTE 1:  AT&T 6300 - The AT&T 6300 and the AT&T 6300 PLUS            contain system BIOS chips that support the hard disk drive.             When using a Western Digital XT controller card the system will            not \\\"boot.\\\"  To solve this problem, one of the ROM BIOS chips            must be disabled.  To disable the BIOS on your Western Digital             XT controller card, you must remove the jumper at position W-3            or add a jumper at position R-23 (depending on which model of XT            controller you are using).                                                   -2-                        NOTE 2:  TANDY 1000 SYSTEMS - The WD1002A-WX1, WD1004A-WX1,            WDXT-GEN2 and the WD1004-27X can be modified to operate in            Tandy 1000 series computers, models SX, TX and the original or            \\\"A\\\" version.  These computers utilize an interrupt of 2 (IRQ2)            instead of IRQ5, the IBM standard.  To modify the WD1002A-WX1 or            the WD1002-27X to operate in these systems, you must cut the            etch between pin 1 and pin 2 at jumper position W-7.  Then            solder pin 2 and pin 3 at the position (W-7).  To complete the            modification, a jumper must be added to position 7 of switch S-1            (2 rows of 8 pins).  PLEASE NOTE THAT ANY PHYSICAL MODIFICATION            TO YOUR WESTERN DIGITAL HARD DISK CONTROLLER VOIDS THE WARRANTY            ON YOUR BOARD.  To modify the WD1004A-WX1, WDXT-GEN2 or the            WD1004-27X for your Tandy 1000 system, a zero ohm resister must            be soldered to jumper position W-27.  This will change the            interrupt from IRQ5 to IRQ2.                  XT CONTROLLERS FOR FLOPPY DISK DRIVES                            WD1002A-FOX - Half-slot floppy disk controller for XT or AT             systems.  Four versions of the board are available:                 Feature F001 supports two floppy disk drives.                 Feature F002 supports four floppy disk drives and includes                  an optional 37-pin control, data and power connector and                  an optional 4-pin power connector.                 Feature F003 supports two floppy disk drives and includes                 a ROM BIOS that will enable your system to recognize                  floppy disk drive that may not be supported by your AT                 system ROM BIOS.  The optional ROM BIOS will also allow                 this controller card to operate high density floppy disk                 drives in an XT system.                 Feature F004 supports four floppy disk drives and includes                 an optional 37-pin control, data and power connector, an                 optional 4-pin power connector and a ROM BIOS that will                  enable your system to recognize floppy disk drives that                  may not be supported by your AT system ROM BIOS.  The                  optional ROM BIOS will also allow this controller card to                  operate high density floppy disk drives in an XT system.                                                                          -3-                                 PRODUCTS FOR AT SYSTEMS                   HARD DISK CONTROLLERS FOR MFM HARD DISK DRIVES - NO FLOPPY SUPPORT                            WD1003-WAH, feature F003R - Hard disk controller card with an              ST506/ST412 interface.  It supports 2 MFM drives with up to 16            heads and 2048 cylinders, 3:1 interleave.                      WD1003V-MM1, feature F300R - Hard disk controller card with an             ST506/ST412 interface. It supports 2 MFM drives with up to 16             heads and 2048 cylinders, 2:1 interleave.  The \\\"V\\\" boards can              run in high speed AT systems (10 to 16 megahertz system speed).                      WD1006-WAH , feature F001R - Hard disk controller card with                an ST506/ST412 interface.  It supports 2 MFM drives with up to            16 heads and 2048 cylinders, 1:1 interleave.                          WD1006V-MM1, feature F300R - Hard disk controller card with an             ST506/ST412 interface.  It supports 2 MFM drives with up to 16             heads and 2048 cylinders, 1:1 interleave and faster data                transfer due to \\\"look ahead caching.\\\"  The \\\"V\\\" boards can run in            high speed AT systems (10 to 16 megahertz system speed).                            HARD DISK CONTROLLERS FOR MFM HARD DISK DRIVES AND FLOPPY DISK DRIVES                       WD1003-WA2, feature F003R - Hard disk controller card with an             ST506/ST412 interface, full AT form factor.  It supports 2 MFM            drives with up to 16  heads and 2048 cylinders, at 3:1            interleave and 2 floppy disk drives (360K and 1.2 MB).                      WD1003A-WA2, feature F003R - Hard disk controller card with an            ST506/ST412 interface, full XT form factor.  It supports 2 MFM            drives with up to 16 heads and 2048 cylinders, at 3:1 interleave            and 2 floppy disk drives (360K and 1.2 MB).                      WD1003V-MM2, feature F300R - Hard disk controller card with an             ST506/ST412 interface.  It supports a maximum of 2 MFM drives            with up to 16  heads and 2048 cylinders at 2:1 interleave, and 2            floppy disk drives (5-1/4\\\" 360K, 1.2Mb; 3-1/2\\\" 720K, 1.44Mb).              The \\\"V\\\" boards can run in high speed AT systems, (10 to 16            megahertz system speed).                      WD1006V-MM2, feature F300R - Hard disk controller card with an              ST506/ST412 interface.  It supports a maximum of 2 MFM drives            with up to 16 heads and 2048 cylinders at 1:1 interleave and            faster data transfer due to \\\"look ahead caching\\\" and 2 floppy            disk drives (5-1/4\\\" 360K, 1.2 Mb; 3-1/2\\\" 720K, 1.44 Mb).  The            \\\"V\\\" boards can run in high speed AT systems, (10 to 16 megahertz            system speed).                                                         -4-        HARD DISK CONTROLLERS FOR RLL HARD DISK DRIVES - NO FLOPPY SUPPORT                             WD1003-RAH - Hard disk controller card with an ST506/ST412            interface.  It supports 2 RLL hard disk drives with up to 16             heads and 2048 cylinders at 3:1 interleave.                       WD1003V-SR1 - Hard disk controller card with an ST506/ST412            interface.  It supports a maximum of 2 RLL hard disk drives with            up to 16 heads and 2048 cylinders at 2:1 interleave. The \\\"V\\\"            boards can run in high speed AT systems (10 to 16 megahertz            system speed).                 Feature F301R includes an optional ROM BIOS that allows                  the user to define the drive's parameters.                  Feature F300R does not include the ROM BIOS and you must                   use the drive tables on your system's ROM BIOS that must                  contain the appropriate drive parameters.                                       WD1006-RAH - Hard disk controller card with an ST506/ST412            interface.  It supports a maximum of 2 RLL hard disk drives with            up to 16 heads and 2048 cylinders, 1:1 interleave.                 Feature F001R includes an optional ROM BIOS that provides                   additional drive parameter tables.                 Feature F300R does not include the ROM BIOS and you must                    use the drive tables on your system's ROM BIOS that must                  contain the appropriate drive parameters.                                       WD1006V-SR1 - Hard disk controller card with an ST506/ST412                interface.  It supports 2 RLL hard disk drives with up to 16            heads and 2048 cylinders, 1:1 interleave and faster data            transfer due to \\\"look ahead caching.\\\"  The \\\"V\\\" boards can run in            high speed AT  systems (10 to 16 megahertz system speed).                 Feature F301R includes an optional ROM BIOS that allows                   the user to define the drive's parameters.                            Feature F300R does not include the ROM BIOS and you must                   use the drive tables on your system's ROM BIOS that must                  contain the appropriate drive parameters.                                               HARD DISK CONTROLLERS FOR RLL HARD DISK DRIVES AND FLOPPY DISK DRIVES                       WD1003-RA2, feature F001R -  Hard disk controller card with an             ST506/ST412 interface.  It supports a maximum of 2 RLL hard disk            drives with up to 16  heads and 2048 cylinders, at 3:1            interleave, and 2 floppy disk drives (5-1/4\\\" 360K, 1.2 Mb).                                                                    -5-                       WD1003V-SR2 -  Hard disk controller card with an ST506/ST412               interface.  It supports a maximum of 2 RLL hard disk drives with            up to 16 heads and 2048 cylinders, at 2:1 interleave, and 2            floppy disk drives, (5-1/4\\\" 360K, 1.2 Mb; 3-1/2\\\" 720K, 1.44            Mb).  The \\\"V\\\" boards run in high speed AT systems (10 to 16            megahertz system speed).                 Feature F301R includes an optional ROM BIOS that allows                    the user to define the drive's parameters.                 Feature 300R does not include the ROM BIOS and you must                 use the drive tables on your system's ROM BIOS that must                  contain the appropriate drive parameters.                                       WD1006V-SR2 -  Hard disk controller card with an ST506/ST412              interface.  It supports a maximum of 2 RLL hard disk drives with            up to 16 heads, 2048 cylinders and 2 floppy disk drives (5-1/4\\\"            360K, 1.2 Mb; 3-1/2\\\" 720K, 1.44 Mb).   It also features 1:1            interleave and faster data transfer due to  \\\"look ahead            caching\\\".  The \\\"V\\\" boards can run in high speed AT  systems (10            to 16 megahertz system speed).                               Feature F301R includes an optional ROM BIOS that allows                  the user to define the drive's parameters.                 Feature 300R does not include the ROM BIOS and you must                    use the drive tables on your system's ROM BIOS that must                  contain the appropriate drive parameters.                                               HARD DISK CONTROLLERS FOR ESDI HARD DISK DRIVES - NO FLOPPY SUPPORT -                            WD1007A-WAH - This controller card will support up to 2 ESDI            hard disk drives, 10 megabit per second data transfer rate and            1:1 interleave.                         Feature F301R  includes an optional ROM BIOS with \\\"shadow                  RAM\\\" that will enable the controller card to interface                  with all types of ESDI drives without modifying the system                  ROM BIOS.                 Feature F300R does not include the ROM BIOS and you must                  use the drive tables on your system's ROM BIOS that must                  contain the appropriate drive parameters.                            WD1007V-SE1/ME1 - This controller card will support up to 2 ESDI            hard disk drives, 15 megabit per second data transfer rate and            1:1 interleave.  The \\\"V\\\" boards can run in high speed AT            systems, (10 to 16 megahertz system speed).                 Feature F301R includes an optional ROM BIOS with \\\"shadow                  RAM\\\" that will enable the controller card to interface                  with all types of ESDI drives without modifying the system                  ROM BIOS.                 Feature F300R does not include the ROM BIOS and you must                  use the drive tables on your system's ROM BIOS that must                  contain the appropriate drive parameters.                                                         -6-             HARD DISK CONTROLLERS FOR ESDI HARD DISK DRIVES AND FLOPPY DISK       DRIVES                            WD1007A-WA2 - This controller card will support up to 2 ESDI            hard disk drives, 10 megabit per second data transfer rate, 1:1            interleave and 2 floppy disk drives (5-1/4\\\" 360K, 1.2 Mb; 3-1/2\\\"            720K, 1.44 Mb).                 Feature F301R includes an optional ROM BIOS with \\\"shadow                  RAM\\\" that will enable the controller card to interface                  with all types of ESDI drives without modifying the system                  ROM BIOS.                 Feature F300R does not include the ROM BIOS and you must                  use the drive tables on your system's ROM BIOS that must                  contain the appropriate drive parameters.                                       WD1007V-SE2/ME2 - This controller card will support up to 2 ESDI            hard disk drives, 15 megabit per second data transfer rate, 1:1            interleave and 2 floppy drives (5-1/4\\\" 360K, 1.2 Mb; 3-1/2\\\"            720K, 1.44 Mb).  The \\\"V\\\" boards can run in high speed AT systems            (10 to 12 megahertz bus speed).                 Feature F301R includes an optional ROM BIOS with \\\"shadow                  RAM\\\" that will enable the controller card to interface                  with all types of ESDI drives without modifying the system                  ROM BIOS.                 Feature F300R does not include the ROM BIOS and you must                  use the drive tables on your system's ROM BIOS that must                  contain the appropriate drive parameters.                                             WD1007A-WA4 - This controller card will support up to 2 ESDI            hard disk drives, 10 megabit per second data transfer rate, 1:1            interleave and 2 floppy disk drives (5-1/4\\\" 360K, 1.2 Mb; 3-1/2\\\"            720K, 1.44 Mb).  This board also has a serial port and parallel            port.                 Feature F301R includes an optional ROM BIOS with \\\"shadow                  RAM\\\" that will enable the controller card to interface                  with all types of ESDI drives without modifying the system                  ROM BIOS.                 Feature F300R does not include the ROM BIOS and you must                  use the drive tables on your system's ROM BIOS that must                  contain the appropriate drive parameter.                                                                           -7-               HARD DISK CONTROLLERS FOR SCSI HARD DISK DRIVES                            7000-ASC - A SCSI host adapter that serves as an interface            between the AT bus and the SCSI bus.  All necessary drivers and            receivers are included, permitting direct cable connections to            the SCSI bus through a 50 pin connector and to the AT bus            through two edge connectors.  The 7000-ASC utilizes jumper             configurable options that enable the address space, DMA channels            and interrupt requests to be selected to suit the end user's            application.  The board also features word data transfer at 4            megabytes per second (synchronous), an on-board floppy disk            controller and a ROM BIOS.  Please note that the 7000-ASC            operates using standard DOS 3.2 or DOS 3.3 only.                      7000-FASST2 - This SCSI host adapter card provides the same            features as the 7000-ASC plus additional support capabilities            using software developed by Columbia Data Products.  The 7000-           FASST2 will support MS-DOS 3.2-3.3, Compaq DOS 3.31, PC-DOS 4.0,            PC-MOS/386 version 2.1, XENIX, Microsoft Windows, Novell and            Sytos tape backup.                      WDATXT-FASST KIT - An \\\"unintelligent\\\" SCSI host adapter that is            compatible with the IBM XT, AT and compatible systems.  It uses            a 50 pin external SCSI bus \\\"D\\\" connector with a standard 50 pin            internal SCSI cable.  The WDATXT-FASST can be used as  both a            target and an initiator and it serves as an excellent tool for            SCSI designers.  It also provides a low cost alternative for end-           users desiring to install a SCSI peripheral device such as a            hard disk drive or a tape backup unit. The kit includes an 8-bit            SCSI HBA board, manual, FASST software diskettes and an internal            SCSI cable.                      SYTOS TAPE BACKUP - (Utility for 7000-FASST) - FASST-SYTOS -            FASST version of Sytos tape backup utilities.  MS-DOS            compatible, it runs with FASST software products Revision 3.3+.                            HARD DISK CONTROLLERS FOR PS/2 MODEL 50, 60, 80 SYSTEMS        (MICROCHANNEL ARCHITECTURE)                            WD1006V-MC1, feature F300R - Hard disk controller with an            ST506/ST412 interface for microchannel systems.  It supports 2            MFM drives with up to 16 heads and 2048 cylinders, 1:1            interleave and faster data transfer due to \\\"look ahead            caching.\\\"  The\\\"V\\\" boards can run in high speed AT systems (10 to            16 megahertz system speed).                                                         -8-                        WD1007V-MC1, feature F300R - This controller card will support            up to 2 ESDI hard disk drives, 15 megabit per second transfer            rate and it contains a ROM BIOS with \\\"shadow RAM\\\" that will            enable the controller card to interface with all types of ESDI            hard disk drives without modifying the system BIOS.  It uses 1:1            interleave.  The \\\"V\\\" boards can run in high speed AT systems,            (10 to 12 megahertz bus speed).                                  CONTROLLERS FOR FLOPPY DISK DRIVES ONLY                            WD1002A-FOX - Half-slot floppy disk controller for XT or AT            systems.  Four versions of the board are available:                 Feature F001 supports two floppy disk drives.                 Feature F002 supports four floppy disk drives and includes                  an optional 37-pin control, data and power connector and                  an optional 4-pin power connector.                 Feature F003 supports two floppy disk drives and includes                  a ROM BIOS that will enable your system to recognize                      floppy disk drives that may not be supported by your AT                  system ROM BIOS.  The optional ROM BIOS will also allow                  this controller card to operate high density floppy disk                 drives in an XT system.                 Feature F004 supports four floppy disk drives and includes                  an optional 37-pin control, data and power connector, an                  optional 4-pin power connector and a ROM BIOS that will                  enable your system to recognize floppy disk drives that                  may not be supported by your AT system ROM BIOS.  The                  optional ROM BIOS will also allow this controller card to                  operate high density floppy disk drives in an XT system.                    --      Prof. L. Piacenza - Chemistry Department - University of Transkei     Internet: chpp@unitrix.utr.ac.za  (preferred).  Tel. 27-471-3022384     Internet: sppp@hippo.ru.ac.za   From necis!mydual.uucp!olson@transfer.stratus.com Mon Apr  5 12:14:06 1993 Received: from transfer.stratus.com by ponder (5.61/1.36)  id AA29202; Mon, 5 Apr 93 12:14:03 -0500 Received: from necis.UUCP by transfer.stratus.com (4.1/3.12-jjm)  id AA22183; Mon, 5 Apr 93 13:12:04 EDT Received: from mydual by necis.necis.ma.nec.com id aa21760; 5 Apr 93 12:50 EDT Received: by mydual.UUCP (5.58/smail2.5/09-28-87)  id AA18009; Mon, 5 Apr 93 13:24:23 EST Date: Mon, 5 Apr 93 13:24:23 EST From: \\\"Kirtland H. Olson\\\" <mydual!olson@transfer.stratus.com> Message-Id: <9304051824.AA18009@mydual.UUCP> To: drice@ponder Subject: Re: Drive/Controller Compatibility Newsgroups: comp.sys.ibm.pc.hardware In-Reply-To: <drice.733866833@ponder> Organization: The Harvard Group, 01451-0667 Reply-To: necis!olson%mydual.uucp@transfer.stratus.com Cc:  Status: OR  Suggest you move jumper on drive rightward one position.  Regards,        --Kirt \",\"OHIO HOUSE OF REPRESENTATIVE  TUEDAY, APRIL 6, 1993   H.B. NO. 278- REPRESENTATIVE BEATTY           TO AMMEND  SECTION 2923.11, 2923.17, AND 2923.20 AND TO ENACT  N 2923.181 OF THE REVISED CODE TO EXPAND THE DEFINTION OF DANGEROUS  ORDINANCE TO INCLUDE MILITARY WEAPONS THAT DO NOT USE BOLT ACTION, TO  INCREASE THE PENALTY FOR A VIOLATION OF THE PROHIBTION AGAINST POSSESION  OF DANGEROUS ORDINANCE, TO PROHIBIT ANY PERSON FROM ACQUIRING A MILITARY  WEAPON ON OR AFTER THE ACT'SEFFECTIVE DATE, TO REQUIRE THE LICENSURE OF  MILITARY WEAPONS ACQUIRED FOR A PROPER PURPOSE PRIOR TO THE ACT'S  EFFECTIVE DATE, TO PROHIBIT A PERSON FROM IMPORTING, MANUFACTURING, OR  SELLING A MILITARY WEAPON, AND TO DECLARE AN EMERGENCY.   As of Monday, April 12, 1993  H.B. 278 had not been assigned to a  committee.  Introduced as an emergency measure if this passes there is no  chance for a reforendum, and would go into effect immediately as opposed  to the state requirement of 90 days before a law goes into effect.  \"]},\"selected\":{\"id\":\"1201\"},\"selection_policy\":{\"id\":\"1231\"}},\"id\":\"1021\",\"type\":\"ColumnDataSource\"},{\"attributes\":{},\"id\":\"1228\",\"type\":\"StringFormatter\"},{\"attributes\":{},\"id\":\"1231\",\"type\":\"UnionRenderers\"},{\"attributes\":{\"editor\":{\"id\":\"1230\"},\"field\":\"label\",\"formatter\":{\"id\":\"1229\"},\"title\":\"label\"},\"id\":\"1025\",\"type\":\"TableColumn\"},{\"attributes\":{\"editor\":{\"id\":\"1022\"},\"field\":\"text\",\"formatter\":{\"id\":\"1228\"},\"title\":\"text\"},\"id\":\"1023\",\"type\":\"TableColumn\"},{\"attributes\":{\"source\":{\"id\":\"1021\"}},\"id\":\"1028\",\"type\":\"CDSView\"},{\"attributes\":{},\"id\":\"1022\",\"type\":\"CellEditor\"},{\"attributes\":{\"button_type\":\"primary\",\"height_policy\":\"fit\",\"icon\":null,\"label\":\"Evict Rows from Selection\",\"width_policy\":\"min\"},\"id\":\"1006\",\"type\":\"Button\"},{\"attributes\":{\"children\":[{\"id\":\"1006\"},{\"id\":\"1005\"}]},\"id\":\"1258\",\"type\":\"Row\"}],\"root_ids\":[\"1259\"]},\"title\":\"Bokeh Application\",\"version\":\"2.4.3\"}};\n",
       "  const render_items = [{\"docid\":\"367ab537-0b79-4ce0-bbe2-6412000df3b5\",\"root_ids\":[\"1259\"],\"roots\":{\"1259\":\"e5749163-8074-4af7-9884-366017893179\"}}];\n",
       "  root.Bokeh.embed.embed_items_notebook(docs_json, render_items);\n",
       "  }\n",
       "  if (root.Bokeh !== undefined) {\n",
       "    embed_document(root);\n",
       "  } else {\n",
       "    let attempts = 0;\n",
       "    const timer = setInterval(function(root) {\n",
       "      if (root.Bokeh !== undefined) {\n",
       "        clearInterval(timer);\n",
       "        embed_document(root);\n",
       "      } else {\n",
       "        attempts++;\n",
       "        if (attempts > 100) {\n",
       "          clearInterval(timer);\n",
       "          console.log(\"Bokeh: ERROR: Unable to run BokehJS code because BokehJS library is missing\");\n",
       "        }\n",
       "      }\n",
       "    }, 10, root)\n",
       "  }\n",
       "})(window);"
      ],
      "application/vnd.bokehjs_exec.v0+json": ""
     },
     "metadata": {
      "application/vnd.bokehjs_exec.v0+json": {
       "id": "1259"
      }
     },
     "output_type": "display_data"
    }
   ],
   "source": [
    "show(column(\n",
    "    row(\n",
    "        dataset.selection_evictor,\n",
    "        dataset.selection_patcher,\n",
    "    ),\n",
    "    dataset.sel_table,\n",
    "), notebook_url=notebook_url)"
   ]
  },
  {
   "cell_type": "markdown",
   "id": "bb8c2e45",
   "metadata": {},
   "source": [
    "<br>"
   ]
  }
 ],
 "metadata": {
  "language_info": {
   "codemirror_mode": {
    "name": "ipython",
    "version": 3
   },
   "file_extension": ".py",
   "mimetype": "text/x-python",
   "name": "python",
   "nbconvert_exporter": "python",
   "pygments_lexer": "ipython3",
   "version": "3.8.13"
  }
 },
 "nbformat": 4,
 "nbformat_minor": 5
}
