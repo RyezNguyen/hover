{
 "cells": [
  {
   "cell_type": "markdown",
   "id": "633a7ae1",
   "metadata": {},
   "source": [
    "> `SupervisableDataset` holds your data throughout the labeling process.\n",
    ">\n",
    "> :speedboat: Let's take a look at its core mechanisms.\n",
    "\n",
    "-   <details open><summary>This page addresses **single components** of `hover`</summary>\n",
    "    For illustration, we are using code snippets to pick out specific widgets so that the documentation can explain what they do.\n",
    "\n",
    "    -   Please be aware that you won't need to get the widgets by code in an actual use case.\n",
    "    -   Typical usage deals with [recipes](../../tutorial/t1-active-learning) where the individual parts have been tied together.\n",
    "\n",
    "</details>\n",
    "\n",
    "-   <details open><summary>Dependencies for {== local environments ==}</summary>\n",
    "    When you run the code locally, you may need to install additional packages.\n",
    "\n",
    "    To render `bokeh` plots in Jupyter, you need:\n",
    "```shell\n",
    "    pip install jupyter_bokeh\n",
    "```\n",
    "\n",
    "    If you are using JupyterLab older than 3.0, use this instead ([reference](https://pypi.org/project/jupyter-bokeh/)):\n",
    "```shell\n",
    "    jupyter labextension install @jupyter-widgets/jupyterlab-manager\n",
    "    jupyter labextension install @bokeh/jupyter_bokeh\n",
    "```\n",
    "\n",
    "</details>\n",
    "\n",
    "## **Data Subsets**\n",
    "\n",
    "We place unlabeled data and labeled data in different subsets: \"raw\", \"train\", \"dev\", and \"test\". Unlabeled data start from the \"raw\" subset, and can be transferred to other subsets after it gets labeled.\n",
    "\n",
    "`SupervisableDataset` uses a \"population table\", `dataset.pop_table`, to show the size of each subset:"
   ]
  },
  {
   "cell_type": "code",
   "execution_count": 1,
   "id": "f2e4c26a",
   "metadata": {
    "execution": {
     "iopub.execute_input": "2023-06-20T01:47:35.783798Z",
     "iopub.status.busy": "2023-06-20T01:47:35.783425Z",
     "iopub.status.idle": "2023-06-20T01:47:37.786109Z",
     "shell.execute_reply": "2023-06-20T01:47:37.785063Z"
    }
   },
   "outputs": [
    {
     "data": {
      "text/html": [
       "<pre style=\"white-space:pre;overflow-x:auto;line-height:normal;font-family:Menlo,'DejaVu Sans Mono',consolas,'Courier New',monospace\"><span style=\"color: #000080; text-decoration-color: #000080\">🔵 SupervisableTextDataset: Initializing</span><span style=\"color: #808000; text-decoration-color: #808000\">...</span>\n",
       "</pre>\n"
      ],
      "text/plain": [
       "\u001b[34m🔵 SupervisableTextDataset: Initializing\u001b[0m\u001b[33m...\u001b[0m\n"
      ]
     },
     "metadata": {},
     "output_type": "display_data"
    },
    {
     "data": {
      "text/html": [
       "<pre style=\"white-space:pre;overflow-x:auto;line-height:normal;font-family:Menlo,'DejaVu Sans Mono',consolas,'Courier New',monospace\"><span style=\"color: #000080; text-decoration-color: #000080\">🔵 SupervisableTextDataset: Deduplicating</span><span style=\"color: #808000; text-decoration-color: #808000\">...</span>\n",
       "</pre>\n"
      ],
      "text/plain": [
       "\u001b[34m🔵 SupervisableTextDataset: Deduplicating\u001b[0m\u001b[33m...\u001b[0m\n"
      ]
     },
     "metadata": {},
     "output_type": "display_data"
    },
    {
     "data": {
      "text/html": [
       "<pre style=\"white-space:pre;overflow-x:auto;line-height:normal;font-family:Menlo,'DejaVu Sans Mono',consolas,'Courier New',monospace\"><span style=\"color: #000080; text-decoration-color: #000080\">🔵 SupervisableTextDataset: --subset raw rows: </span><span style=\"color: #008080; text-decoration-color: #008080; font-weight: bold\">400</span><span style=\"color: #000080; text-decoration-color: #000080\"> -&gt; </span><span style=\"color: #008080; text-decoration-color: #008080; font-weight: bold\">376</span><span style=\"color: #000080; text-decoration-color: #000080\">.</span>\n",
       "</pre>\n"
      ],
      "text/plain": [
       "\u001b[34m🔵 SupervisableTextDataset: --subset raw rows: \u001b[0m\u001b[1;36m400\u001b[0m\u001b[34m -> \u001b[0m\u001b[1;36m376\u001b[0m\u001b[34m.\u001b[0m\n"
      ]
     },
     "metadata": {},
     "output_type": "display_data"
    },
    {
     "data": {
      "text/html": [
       "<pre style=\"white-space:pre;overflow-x:auto;line-height:normal;font-family:Menlo,'DejaVu Sans Mono',consolas,'Courier New',monospace\"><span style=\"color: #000080; text-decoration-color: #000080\">🔵 SupervisableTextDataset: --subset train rows: </span><span style=\"color: #008080; text-decoration-color: #008080; font-weight: bold\">400</span><span style=\"color: #000080; text-decoration-color: #000080\"> -&gt; </span><span style=\"color: #008080; text-decoration-color: #008080; font-weight: bold\">380</span><span style=\"color: #000080; text-decoration-color: #000080\">.</span>\n",
       "</pre>\n"
      ],
      "text/plain": [
       "\u001b[34m🔵 SupervisableTextDataset: --subset train rows: \u001b[0m\u001b[1;36m400\u001b[0m\u001b[34m -> \u001b[0m\u001b[1;36m380\u001b[0m\u001b[34m.\u001b[0m\n"
      ]
     },
     "metadata": {},
     "output_type": "display_data"
    },
    {
     "data": {
      "text/html": [
       "<pre style=\"white-space:pre;overflow-x:auto;line-height:normal;font-family:Menlo,'DejaVu Sans Mono',consolas,'Courier New',monospace\"><span style=\"color: #000080; text-decoration-color: #000080\">🔵 SupervisableTextDataset: --subset dev rows: </span><span style=\"color: #008080; text-decoration-color: #008080; font-weight: bold\">100</span><span style=\"color: #000080; text-decoration-color: #000080\"> -&gt; </span><span style=\"color: #008080; text-decoration-color: #008080; font-weight: bold\">98</span><span style=\"color: #000080; text-decoration-color: #000080\">.</span>\n",
       "</pre>\n"
      ],
      "text/plain": [
       "\u001b[34m🔵 SupervisableTextDataset: --subset dev rows: \u001b[0m\u001b[1;36m100\u001b[0m\u001b[34m -> \u001b[0m\u001b[1;36m98\u001b[0m\u001b[34m.\u001b[0m\n"
      ]
     },
     "metadata": {},
     "output_type": "display_data"
    },
    {
     "data": {
      "text/html": [
       "<pre style=\"white-space:pre;overflow-x:auto;line-height:normal;font-family:Menlo,'DejaVu Sans Mono',consolas,'Courier New',monospace\"><span style=\"color: #000080; text-decoration-color: #000080\">🔵 SupervisableTextDataset: --subset test rows: </span><span style=\"color: #008080; text-decoration-color: #008080; font-weight: bold\">100</span><span style=\"color: #000080; text-decoration-color: #000080\"> -&gt; </span><span style=\"color: #008080; text-decoration-color: #008080; font-weight: bold\">100</span><span style=\"color: #000080; text-decoration-color: #000080\">.</span>\n",
       "</pre>\n"
      ],
      "text/plain": [
       "\u001b[34m🔵 SupervisableTextDataset: --subset test rows: \u001b[0m\u001b[1;36m100\u001b[0m\u001b[34m -> \u001b[0m\u001b[1;36m100\u001b[0m\u001b[34m.\u001b[0m\n"
      ]
     },
     "metadata": {},
     "output_type": "display_data"
    },
    {
     "data": {
      "text/html": [
       "<pre style=\"white-space:pre;overflow-x:auto;line-height:normal;font-family:Menlo,'DejaVu Sans Mono',consolas,'Courier New',monospace\"><span style=\"color: #008000; text-decoration-color: #008000\">🟢 SupervisableTextDataset: Set up label encoder/decoder with </span><span style=\"color: #008080; text-decoration-color: #008080; font-weight: bold\">20</span><span style=\"color: #008000; text-decoration-color: #008000\"> classes.</span>\n",
       "</pre>\n"
      ],
      "text/plain": [
       "\u001b[32m🟢 SupervisableTextDataset: Set up label encoder/decoder with \u001b[0m\u001b[1;36m20\u001b[0m\u001b[32m classes.\u001b[0m\n"
      ]
     },
     "metadata": {},
     "output_type": "display_data"
    },
    {
     "data": {
      "text/html": [
       "<pre style=\"white-space:pre;overflow-x:auto;line-height:normal;font-family:Menlo,'DejaVu Sans Mono',consolas,'Courier New',monospace\"><span style=\"color: #008000; text-decoration-color: #008000\">🟢 SupervisableTextDataset: Population updater: latest population with </span><span style=\"color: #008080; text-decoration-color: #008080; font-weight: bold\">20</span><span style=\"color: #008000; text-decoration-color: #008000\"> classes.</span>\n",
       "</pre>\n"
      ],
      "text/plain": [
       "\u001b[32m🟢 SupervisableTextDataset: Population updater: latest population with \u001b[0m\u001b[1;36m20\u001b[0m\u001b[32m classes.\u001b[0m\n"
      ]
     },
     "metadata": {},
     "output_type": "display_data"
    },
    {
     "data": {
      "text/html": [
       "<pre style=\"white-space:pre;overflow-x:auto;line-height:normal;font-family:Menlo,'DejaVu Sans Mono',consolas,'Courier New',monospace\"><span style=\"color: #000080; text-decoration-color: #000080\">🔵 SupervisableTextDataset: finished setting up bokeh elements.</span>\n",
       "</pre>\n"
      ],
      "text/plain": [
       "\u001b[34m🔵 SupervisableTextDataset: finished setting up bokeh elements.\u001b[0m\n"
      ]
     },
     "metadata": {},
     "output_type": "display_data"
    },
    {
     "data": {
      "text/html": [
       "<pre style=\"white-space:pre;overflow-x:auto;line-height:normal;font-family:Menlo,'DejaVu Sans Mono',consolas,'Courier New',monospace\"><span style=\"color: #008000; text-decoration-color: #008000\">🟢 SupervisableTextDataset: finished initialization.</span>\n",
       "</pre>\n"
      ],
      "text/plain": [
       "\u001b[32m🟢 SupervisableTextDataset: finished initialization.\u001b[0m\n"
      ]
     },
     "metadata": {},
     "output_type": "display_data"
    }
   ],
   "source": [
    "from hover.core.dataset import SupervisableTextDataset\n",
    "import pandas as pd\n",
    "\n",
    "raw_csv_path = \"https://raw.githubusercontent.com/phurwicz/hover-gallery/main/0.5.0/20_newsgroups_raw.csv\"\n",
    "train_csv_path = \"https://raw.githubusercontent.com/phurwicz/hover-gallery/main/0.5.0/20_newsgroups_train.csv\"\n",
    "\n",
    "# for fast, low-memory demonstration purpose, sample the data\n",
    "df_raw = pd.read_csv(raw_csv_path).sample(400)\n",
    "df_raw[\"SUBSET\"] = \"raw\"\n",
    "df_train = pd.read_csv(train_csv_path).sample(400)\n",
    "df_train[\"SUBSET\"] = \"train\"\n",
    "df_dev = pd.read_csv(train_csv_path).sample(100)\n",
    "df_dev[\"SUBSET\"] = \"dev\"\n",
    "df_test = pd.read_csv(train_csv_path).sample(100)\n",
    "df_test[\"SUBSET\"] = \"test\"\n",
    "\n",
    "# build overall dataframe and ensure feature type\n",
    "df = pd.concat([df_raw, df_train, df_dev, df_test])\n",
    "df[\"text\"] = df[\"text\"].astype(str)\n",
    "\n",
    "# this class stores the dataset throught the labeling process\n",
    "dataset = SupervisableTextDataset.from_pandas(df, feature_key=\"text\", label_key=\"label\")"
   ]
  },
  {
   "cell_type": "markdown",
   "id": "5448d05a",
   "metadata": {},
   "source": [
    "<br>"
   ]
  },
  {
   "cell_type": "code",
   "execution_count": 2,
   "id": "4973db71",
   "metadata": {
    "execution": {
     "iopub.execute_input": "2023-06-20T01:47:37.791025Z",
     "iopub.status.busy": "2023-06-20T01:47:37.790647Z",
     "iopub.status.idle": "2023-06-20T01:47:37.905486Z",
     "shell.execute_reply": "2023-06-20T01:47:37.904502Z"
    }
   },
   "outputs": [
    {
     "data": {
      "text/html": [
       "<style>\n",
       "        .bk-notebook-logo {\n",
       "            display: block;\n",
       "            width: 20px;\n",
       "            height: 20px;\n",
       "            background-image: url(data:image/png;base64,iVBORw0KGgoAAAANSUhEUgAAABQAAAAUCAYAAACNiR0NAAAABHNCSVQICAgIfAhkiAAAAAlwSFlzAAALEgAACxIB0t1+/AAAABx0RVh0U29mdHdhcmUAQWRvYmUgRmlyZXdvcmtzIENTNui8sowAAAOkSURBVDiNjZRtaJVlGMd/1/08zzln5zjP1LWcU9N0NkN8m2CYjpgQYQXqSs0I84OLIC0hkEKoPtiH3gmKoiJDU7QpLgoLjLIQCpEsNJ1vqUOdO7ppbuec5+V+rj4ctwzd8IIbbi6u+8f1539dt3A78eXC7QizUF7gyV1fD1Yqg4JWz84yffhm0qkFqBogB9rM8tZdtwVsPUhWhGcFJngGeWrPzHm5oaMmkfEg1usvLFyc8jLRqDOMru7AyC8saQr7GG7f5fvDeH7Ej8CM66nIF+8yngt6HWaKh7k49Soy9nXurCi1o3qUbS3zWfrYeQDTB/Qj6kX6Ybhw4B+bOYoLKCC9H3Nu/leUTZ1JdRWkkn2ldcCamzrcf47KKXdAJllSlxAOkRgyHsGC/zRday5Qld9DyoM4/q/rUoy/CXh3jzOu3bHUVZeU+DEn8FInkPBFlu3+nW3Nw0mk6vCDiWg8CeJaxEwuHS3+z5RgY+YBR6V1Z1nxSOfoaPa4LASWxxdNp+VWTk7+4vzaou8v8PN+xo+KY2xsw6une2frhw05CTYOmQvsEhjhWjn0bmXPjpE1+kplmmkP3suftwTubK9Vq22qKmrBhpY4jvd5afdRA3wGjFAgcnTK2s4hY0/GPNIb0nErGMCRxWOOX64Z8RAC4oCXdklmEvcL8o0BfkNK4lUg9HTl+oPlQxdNo3Mg4Nv175e/1LDGzZen30MEjRUtmXSfiTVu1kK8W4txyV6BMKlbgk3lMwYCiusNy9fVfvvwMxv8Ynl6vxoByANLTWplvuj/nF9m2+PDtt1eiHPBr1oIfhCChQMBw6Aw0UulqTKZdfVvfG7VcfIqLG9bcldL/+pdWTLxLUy8Qq38heUIjh4XlzZxzQm19lLFlr8vdQ97rjZVOLf8nclzckbcD4wxXMidpX30sFd37Fv/GtwwhzhxGVAprjbg0gCAEeIgwCZyTV2Z1REEW8O4py0wsjeloKoMr6iCY6dP92H6Vw/oTyICIthibxjm/DfN9lVz8IqtqKYLUXfoKVMVQVVJOElGjrnnUt9T9wbgp8AyYKaGlqingHZU/uG2NTZSVqwHQTWkx9hxjkpWDaCg6Ckj5qebgBVbT3V3NNXMSiWSDdGV3hrtzla7J+duwPOToIg42ChPQOQjspnSlp1V+Gjdged7+8UN5CRAV7a5EdFNwCjEaBR27b3W890TE7g24NAP/mMDXRWrGoFPQI9ls/MWO2dWFAar/xcOIImbbpA3zgAAAABJRU5ErkJggg==);\n",
       "        }\n",
       "    </style>\n",
       "    <div>\n",
       "        <a href=\"https://bokeh.org\" target=\"_blank\" class=\"bk-notebook-logo\"></a>\n",
       "        <span id=\"a87d9e0c-9929-4aca-90aa-ba7bbd577eef\">Loading BokehJS ...</span>\n",
       "    </div>\n"
      ]
     },
     "metadata": {},
     "output_type": "display_data"
    },
    {
     "data": {
      "application/javascript": [
       "(function(root) {\n",
       "  function now() {\n",
       "    return new Date();\n",
       "  }\n",
       "\n",
       "  const force = true;\n",
       "\n",
       "  if (typeof root._bokeh_onload_callbacks === \"undefined\" || force === true) {\n",
       "    root._bokeh_onload_callbacks = [];\n",
       "    root._bokeh_is_loading = undefined;\n",
       "  }\n",
       "\n",
       "const JS_MIME_TYPE = 'application/javascript';\n",
       "  const HTML_MIME_TYPE = 'text/html';\n",
       "  const EXEC_MIME_TYPE = 'application/vnd.bokehjs_exec.v0+json';\n",
       "  const CLASS_NAME = 'output_bokeh rendered_html';\n",
       "\n",
       "  /**\n",
       "   * Render data to the DOM node\n",
       "   */\n",
       "  function render(props, node) {\n",
       "    const script = document.createElement(\"script\");\n",
       "    node.appendChild(script);\n",
       "  }\n",
       "\n",
       "  /**\n",
       "   * Handle when an output is cleared or removed\n",
       "   */\n",
       "  function handleClearOutput(event, handle) {\n",
       "    const cell = handle.cell;\n",
       "\n",
       "    const id = cell.output_area._bokeh_element_id;\n",
       "    const server_id = cell.output_area._bokeh_server_id;\n",
       "    // Clean up Bokeh references\n",
       "    if (id != null && id in Bokeh.index) {\n",
       "      Bokeh.index[id].model.document.clear();\n",
       "      delete Bokeh.index[id];\n",
       "    }\n",
       "\n",
       "    if (server_id !== undefined) {\n",
       "      // Clean up Bokeh references\n",
       "      const cmd_clean = \"from bokeh.io.state import curstate; print(curstate().uuid_to_server['\" + server_id + \"'].get_sessions()[0].document.roots[0]._id)\";\n",
       "      cell.notebook.kernel.execute(cmd_clean, {\n",
       "        iopub: {\n",
       "          output: function(msg) {\n",
       "            const id = msg.content.text.trim();\n",
       "            if (id in Bokeh.index) {\n",
       "              Bokeh.index[id].model.document.clear();\n",
       "              delete Bokeh.index[id];\n",
       "            }\n",
       "          }\n",
       "        }\n",
       "      });\n",
       "      // Destroy server and session\n",
       "      const cmd_destroy = \"import bokeh.io.notebook as ion; ion.destroy_server('\" + server_id + \"')\";\n",
       "      cell.notebook.kernel.execute(cmd_destroy);\n",
       "    }\n",
       "  }\n",
       "\n",
       "  /**\n",
       "   * Handle when a new output is added\n",
       "   */\n",
       "  function handleAddOutput(event, handle) {\n",
       "    const output_area = handle.output_area;\n",
       "    const output = handle.output;\n",
       "\n",
       "    // limit handleAddOutput to display_data with EXEC_MIME_TYPE content only\n",
       "    if ((output.output_type != \"display_data\") || (!Object.prototype.hasOwnProperty.call(output.data, EXEC_MIME_TYPE))) {\n",
       "      return\n",
       "    }\n",
       "\n",
       "    const toinsert = output_area.element.find(\".\" + CLASS_NAME.split(' ')[0]);\n",
       "\n",
       "    if (output.metadata[EXEC_MIME_TYPE][\"id\"] !== undefined) {\n",
       "      toinsert[toinsert.length - 1].firstChild.textContent = output.data[JS_MIME_TYPE];\n",
       "      // store reference to embed id on output_area\n",
       "      output_area._bokeh_element_id = output.metadata[EXEC_MIME_TYPE][\"id\"];\n",
       "    }\n",
       "    if (output.metadata[EXEC_MIME_TYPE][\"server_id\"] !== undefined) {\n",
       "      const bk_div = document.createElement(\"div\");\n",
       "      bk_div.innerHTML = output.data[HTML_MIME_TYPE];\n",
       "      const script_attrs = bk_div.children[0].attributes;\n",
       "      for (let i = 0; i < script_attrs.length; i++) {\n",
       "        toinsert[toinsert.length - 1].firstChild.setAttribute(script_attrs[i].name, script_attrs[i].value);\n",
       "        toinsert[toinsert.length - 1].firstChild.textContent = bk_div.children[0].textContent\n",
       "      }\n",
       "      // store reference to server id on output_area\n",
       "      output_area._bokeh_server_id = output.metadata[EXEC_MIME_TYPE][\"server_id\"];\n",
       "    }\n",
       "  }\n",
       "\n",
       "  function register_renderer(events, OutputArea) {\n",
       "\n",
       "    function append_mime(data, metadata, element) {\n",
       "      // create a DOM node to render to\n",
       "      const toinsert = this.create_output_subarea(\n",
       "        metadata,\n",
       "        CLASS_NAME,\n",
       "        EXEC_MIME_TYPE\n",
       "      );\n",
       "      this.keyboard_manager.register_events(toinsert);\n",
       "      // Render to node\n",
       "      const props = {data: data, metadata: metadata[EXEC_MIME_TYPE]};\n",
       "      render(props, toinsert[toinsert.length - 1]);\n",
       "      element.append(toinsert);\n",
       "      return toinsert\n",
       "    }\n",
       "\n",
       "    /* Handle when an output is cleared or removed */\n",
       "    events.on('clear_output.CodeCell', handleClearOutput);\n",
       "    events.on('delete.Cell', handleClearOutput);\n",
       "\n",
       "    /* Handle when a new output is added */\n",
       "    events.on('output_added.OutputArea', handleAddOutput);\n",
       "\n",
       "    /**\n",
       "     * Register the mime type and append_mime function with output_area\n",
       "     */\n",
       "    OutputArea.prototype.register_mime_type(EXEC_MIME_TYPE, append_mime, {\n",
       "      /* Is output safe? */\n",
       "      safe: true,\n",
       "      /* Index of renderer in `output_area.display_order` */\n",
       "      index: 0\n",
       "    });\n",
       "  }\n",
       "\n",
       "  // register the mime type if in Jupyter Notebook environment and previously unregistered\n",
       "  if (root.Jupyter !== undefined) {\n",
       "    const events = require('base/js/events');\n",
       "    const OutputArea = require('notebook/js/outputarea').OutputArea;\n",
       "\n",
       "    if (OutputArea.prototype.mime_types().indexOf(EXEC_MIME_TYPE) == -1) {\n",
       "      register_renderer(events, OutputArea);\n",
       "    }\n",
       "  }\n",
       "  if (typeof (root._bokeh_timeout) === \"undefined\" || force === true) {\n",
       "    root._bokeh_timeout = Date.now() + 5000;\n",
       "    root._bokeh_failed_load = false;\n",
       "  }\n",
       "\n",
       "  const NB_LOAD_WARNING = {'data': {'text/html':\n",
       "     \"<div style='background-color: #fdd'>\\n\"+\n",
       "     \"<p>\\n\"+\n",
       "     \"BokehJS does not appear to have successfully loaded. If loading BokehJS from CDN, this \\n\"+\n",
       "     \"may be due to a slow or bad network connection. Possible fixes:\\n\"+\n",
       "     \"</p>\\n\"+\n",
       "     \"<ul>\\n\"+\n",
       "     \"<li>re-rerun `output_notebook()` to attempt to load from CDN again, or</li>\\n\"+\n",
       "     \"<li>use INLINE resources instead, as so:</li>\\n\"+\n",
       "     \"</ul>\\n\"+\n",
       "     \"<code>\\n\"+\n",
       "     \"from bokeh.resources import INLINE\\n\"+\n",
       "     \"output_notebook(resources=INLINE)\\n\"+\n",
       "     \"</code>\\n\"+\n",
       "     \"</div>\"}};\n",
       "\n",
       "  function display_loaded() {\n",
       "    const el = document.getElementById(\"a87d9e0c-9929-4aca-90aa-ba7bbd577eef\");\n",
       "    if (el != null) {\n",
       "      el.textContent = \"BokehJS is loading...\";\n",
       "    }\n",
       "    if (root.Bokeh !== undefined) {\n",
       "      if (el != null) {\n",
       "        el.textContent = \"BokehJS \" + root.Bokeh.version + \" successfully loaded.\";\n",
       "      }\n",
       "    } else if (Date.now() < root._bokeh_timeout) {\n",
       "      setTimeout(display_loaded, 100)\n",
       "    }\n",
       "  }\n",
       "\n",
       "  function run_callbacks() {\n",
       "    try {\n",
       "      root._bokeh_onload_callbacks.forEach(function(callback) {\n",
       "        if (callback != null)\n",
       "          callback();\n",
       "      });\n",
       "    } finally {\n",
       "      delete root._bokeh_onload_callbacks\n",
       "    }\n",
       "    console.debug(\"Bokeh: all callbacks have finished\");\n",
       "  }\n",
       "\n",
       "  function load_libs(css_urls, js_urls, callback) {\n",
       "    if (css_urls == null) css_urls = [];\n",
       "    if (js_urls == null) js_urls = [];\n",
       "\n",
       "    root._bokeh_onload_callbacks.push(callback);\n",
       "    if (root._bokeh_is_loading > 0) {\n",
       "      console.debug(\"Bokeh: BokehJS is being loaded, scheduling callback at\", now());\n",
       "      return null;\n",
       "    }\n",
       "    if (js_urls == null || js_urls.length === 0) {\n",
       "      run_callbacks();\n",
       "      return null;\n",
       "    }\n",
       "    console.debug(\"Bokeh: BokehJS not loaded, scheduling load and callback at\", now());\n",
       "    root._bokeh_is_loading = css_urls.length + js_urls.length;\n",
       "\n",
       "    function on_load() {\n",
       "      root._bokeh_is_loading--;\n",
       "      if (root._bokeh_is_loading === 0) {\n",
       "        console.debug(\"Bokeh: all BokehJS libraries/stylesheets loaded\");\n",
       "        run_callbacks()\n",
       "      }\n",
       "    }\n",
       "\n",
       "    function on_error(url) {\n",
       "      console.error(\"failed to load \" + url);\n",
       "    }\n",
       "\n",
       "    for (let i = 0; i < css_urls.length; i++) {\n",
       "      const url = css_urls[i];\n",
       "      const element = document.createElement(\"link\");\n",
       "      element.onload = on_load;\n",
       "      element.onerror = on_error.bind(null, url);\n",
       "      element.rel = \"stylesheet\";\n",
       "      element.type = \"text/css\";\n",
       "      element.href = url;\n",
       "      console.debug(\"Bokeh: injecting link tag for BokehJS stylesheet: \", url);\n",
       "      document.body.appendChild(element);\n",
       "    }\n",
       "\n",
       "    for (let i = 0; i < js_urls.length; i++) {\n",
       "      const url = js_urls[i];\n",
       "      const element = document.createElement('script');\n",
       "      element.onload = on_load;\n",
       "      element.onerror = on_error.bind(null, url);\n",
       "      element.async = false;\n",
       "      element.src = url;\n",
       "      console.debug(\"Bokeh: injecting script tag for BokehJS library: \", url);\n",
       "      document.head.appendChild(element);\n",
       "    }\n",
       "  };\n",
       "\n",
       "  function inject_raw_css(css) {\n",
       "    const element = document.createElement(\"style\");\n",
       "    element.appendChild(document.createTextNode(css));\n",
       "    document.body.appendChild(element);\n",
       "  }\n",
       "\n",
       "  const js_urls = [\"https://cdn.bokeh.org/bokeh/release/bokeh-3.1.1.min.js\", \"https://cdn.bokeh.org/bokeh/release/bokeh-gl-3.1.1.min.js\", \"https://cdn.bokeh.org/bokeh/release/bokeh-widgets-3.1.1.min.js\", \"https://cdn.bokeh.org/bokeh/release/bokeh-tables-3.1.1.min.js\", \"https://cdn.bokeh.org/bokeh/release/bokeh-mathjax-3.1.1.min.js\"];\n",
       "  const css_urls = [];\n",
       "\n",
       "  const inline_js = [    function(Bokeh) {\n",
       "      Bokeh.set_log_level(\"info\");\n",
       "    },\n",
       "function(Bokeh) {\n",
       "    }\n",
       "  ];\n",
       "\n",
       "  function run_inline_js() {\n",
       "    if (root.Bokeh !== undefined || force === true) {\n",
       "          for (let i = 0; i < inline_js.length; i++) {\n",
       "      inline_js[i].call(root, root.Bokeh);\n",
       "    }\n",
       "if (force === true) {\n",
       "        display_loaded();\n",
       "      }} else if (Date.now() < root._bokeh_timeout) {\n",
       "      setTimeout(run_inline_js, 100);\n",
       "    } else if (!root._bokeh_failed_load) {\n",
       "      console.log(\"Bokeh: BokehJS failed to load within specified timeout.\");\n",
       "      root._bokeh_failed_load = true;\n",
       "    } else if (force !== true) {\n",
       "      const cell = $(document.getElementById(\"a87d9e0c-9929-4aca-90aa-ba7bbd577eef\")).parents('.cell').data().cell;\n",
       "      cell.output_area.append_execute_result(NB_LOAD_WARNING)\n",
       "    }\n",
       "  }\n",
       "\n",
       "  if (root._bokeh_is_loading === 0) {\n",
       "    console.debug(\"Bokeh: BokehJS loaded, going straight to plotting\");\n",
       "    run_inline_js();\n",
       "  } else {\n",
       "    load_libs(css_urls, js_urls, function() {\n",
       "      console.debug(\"Bokeh: BokehJS plotting callback run at\", now());\n",
       "      run_inline_js();\n",
       "    });\n",
       "  }\n",
       "}(window));"
      ],
      "application/vnd.bokehjs_load.v0+json": "(function(root) {\n  function now() {\n    return new Date();\n  }\n\n  const force = true;\n\n  if (typeof root._bokeh_onload_callbacks === \"undefined\" || force === true) {\n    root._bokeh_onload_callbacks = [];\n    root._bokeh_is_loading = undefined;\n  }\n\n\n  if (typeof (root._bokeh_timeout) === \"undefined\" || force === true) {\n    root._bokeh_timeout = Date.now() + 5000;\n    root._bokeh_failed_load = false;\n  }\n\n  const NB_LOAD_WARNING = {'data': {'text/html':\n     \"<div style='background-color: #fdd'>\\n\"+\n     \"<p>\\n\"+\n     \"BokehJS does not appear to have successfully loaded. If loading BokehJS from CDN, this \\n\"+\n     \"may be due to a slow or bad network connection. Possible fixes:\\n\"+\n     \"</p>\\n\"+\n     \"<ul>\\n\"+\n     \"<li>re-rerun `output_notebook()` to attempt to load from CDN again, or</li>\\n\"+\n     \"<li>use INLINE resources instead, as so:</li>\\n\"+\n     \"</ul>\\n\"+\n     \"<code>\\n\"+\n     \"from bokeh.resources import INLINE\\n\"+\n     \"output_notebook(resources=INLINE)\\n\"+\n     \"</code>\\n\"+\n     \"</div>\"}};\n\n  function display_loaded() {\n    const el = document.getElementById(\"a87d9e0c-9929-4aca-90aa-ba7bbd577eef\");\n    if (el != null) {\n      el.textContent = \"BokehJS is loading...\";\n    }\n    if (root.Bokeh !== undefined) {\n      if (el != null) {\n        el.textContent = \"BokehJS \" + root.Bokeh.version + \" successfully loaded.\";\n      }\n    } else if (Date.now() < root._bokeh_timeout) {\n      setTimeout(display_loaded, 100)\n    }\n  }\n\n  function run_callbacks() {\n    try {\n      root._bokeh_onload_callbacks.forEach(function(callback) {\n        if (callback != null)\n          callback();\n      });\n    } finally {\n      delete root._bokeh_onload_callbacks\n    }\n    console.debug(\"Bokeh: all callbacks have finished\");\n  }\n\n  function load_libs(css_urls, js_urls, callback) {\n    if (css_urls == null) css_urls = [];\n    if (js_urls == null) js_urls = [];\n\n    root._bokeh_onload_callbacks.push(callback);\n    if (root._bokeh_is_loading > 0) {\n      console.debug(\"Bokeh: BokehJS is being loaded, scheduling callback at\", now());\n      return null;\n    }\n    if (js_urls == null || js_urls.length === 0) {\n      run_callbacks();\n      return null;\n    }\n    console.debug(\"Bokeh: BokehJS not loaded, scheduling load and callback at\", now());\n    root._bokeh_is_loading = css_urls.length + js_urls.length;\n\n    function on_load() {\n      root._bokeh_is_loading--;\n      if (root._bokeh_is_loading === 0) {\n        console.debug(\"Bokeh: all BokehJS libraries/stylesheets loaded\");\n        run_callbacks()\n      }\n    }\n\n    function on_error(url) {\n      console.error(\"failed to load \" + url);\n    }\n\n    for (let i = 0; i < css_urls.length; i++) {\n      const url = css_urls[i];\n      const element = document.createElement(\"link\");\n      element.onload = on_load;\n      element.onerror = on_error.bind(null, url);\n      element.rel = \"stylesheet\";\n      element.type = \"text/css\";\n      element.href = url;\n      console.debug(\"Bokeh: injecting link tag for BokehJS stylesheet: \", url);\n      document.body.appendChild(element);\n    }\n\n    for (let i = 0; i < js_urls.length; i++) {\n      const url = js_urls[i];\n      const element = document.createElement('script');\n      element.onload = on_load;\n      element.onerror = on_error.bind(null, url);\n      element.async = false;\n      element.src = url;\n      console.debug(\"Bokeh: injecting script tag for BokehJS library: \", url);\n      document.head.appendChild(element);\n    }\n  };\n\n  function inject_raw_css(css) {\n    const element = document.createElement(\"style\");\n    element.appendChild(document.createTextNode(css));\n    document.body.appendChild(element);\n  }\n\n  const js_urls = [\"https://cdn.bokeh.org/bokeh/release/bokeh-3.1.1.min.js\", \"https://cdn.bokeh.org/bokeh/release/bokeh-gl-3.1.1.min.js\", \"https://cdn.bokeh.org/bokeh/release/bokeh-widgets-3.1.1.min.js\", \"https://cdn.bokeh.org/bokeh/release/bokeh-tables-3.1.1.min.js\", \"https://cdn.bokeh.org/bokeh/release/bokeh-mathjax-3.1.1.min.js\"];\n  const css_urls = [];\n\n  const inline_js = [    function(Bokeh) {\n      Bokeh.set_log_level(\"info\");\n    },\nfunction(Bokeh) {\n    }\n  ];\n\n  function run_inline_js() {\n    if (root.Bokeh !== undefined || force === true) {\n          for (let i = 0; i < inline_js.length; i++) {\n      inline_js[i].call(root, root.Bokeh);\n    }\nif (force === true) {\n        display_loaded();\n      }} else if (Date.now() < root._bokeh_timeout) {\n      setTimeout(run_inline_js, 100);\n    } else if (!root._bokeh_failed_load) {\n      console.log(\"Bokeh: BokehJS failed to load within specified timeout.\");\n      root._bokeh_failed_load = true;\n    } else if (force !== true) {\n      const cell = $(document.getElementById(\"a87d9e0c-9929-4aca-90aa-ba7bbd577eef\")).parents('.cell').data().cell;\n      cell.output_area.append_execute_result(NB_LOAD_WARNING)\n    }\n  }\n\n  if (root._bokeh_is_loading === 0) {\n    console.debug(\"Bokeh: BokehJS loaded, going straight to plotting\");\n    run_inline_js();\n  } else {\n    load_libs(css_urls, js_urls, function() {\n      console.debug(\"Bokeh: BokehJS plotting callback run at\", now());\n      run_inline_js();\n    });\n  }\n}(window));"
     },
     "metadata": {},
     "output_type": "display_data"
    },
    {
     "data": {
      "text/html": [
       "\n",
       "  <div id=\"db18dea1-3f6b-45fa-b3fb-59ef08495688\" data-root-id=\"p1032\" style=\"display: contents;\"></div>\n"
      ]
     },
     "metadata": {},
     "output_type": "display_data"
    },
    {
     "data": {
      "application/javascript": [
       "(function(root) {\n",
       "  function embed_document(root) {\n",
       "  const docs_json = {\"165eb63e-b095-4fee-91cd-43078a5908e3\":{\"version\":\"3.1.1\",\"title\":\"Bokeh Application\",\"defs\":[],\"roots\":[{\"type\":\"object\",\"name\":\"DataTable\",\"id\":\"p1032\",\"attributes\":{\"source\":{\"type\":\"object\",\"name\":\"ColumnDataSource\",\"id\":\"p1010\",\"attributes\":{\"selected\":{\"type\":\"object\",\"name\":\"Selection\",\"id\":\"p1011\",\"attributes\":{\"indices\":[],\"line_indices\":[]}},\"selection_policy\":{\"type\":\"object\",\"name\":\"UnionRenderers\",\"id\":\"p1012\"},\"data\":{\"type\":\"map\",\"entries\":[[\"color\",[\"#dcdcdc\",\"#3c3285\",\"#4353c2\",\"#4673eb\",\"#4291fe\",\"#2fb1f3\",\"#1ccdd7\",\"#19e3b8\",\"#32f197\",\"#61fc6c\",\"#8efe48\",\"#b1f836\",\"#cfea34\",\"#ead339\",\"#f9ba38\",\"#fe9b2d\",\"#f9771e\",\"#ec520e\",\"#d93806\",\"#c02302\",\"#a01101\"]],[\"label\",[\"ABSTAIN\",\"alt.atheism\",\"comp.graphics\",\"comp.os.ms-windows.misc\",\"comp.sys.ibm.pc.hardware\",\"comp.sys.mac.hardware\",\"comp.windows.x\",\"misc.forsale\",\"rec.autos\",\"rec.motorcycles\",\"rec.sport.baseball\",\"rec.sport.hockey\",\"sci.crypt\",\"sci.electronics\",\"sci.med\",\"sci.space\",\"soc.religion.christian\",\"talk.politics.guns\",\"talk.politics.mideast\",\"talk.politics.misc\",\"talk.religion.misc\"]],[\"count_raw\",[376,0,0,0,0,0,0,0,0,0,0,0,0,0,0,0,0,0,0,0,0]],[\"count_train\",[0,15,15,21,16,25,17,21,21,15,15,26,26,16,14,27,25,20,19,16,10]],[\"count_dev\",[0,4,5,5,2,4,7,5,5,10,5,7,1,6,5,4,4,2,7,4,6]],[\"count_test\",[0,3,4,9,6,4,4,6,8,3,6,3,8,4,4,6,5,7,2,5,3]]]}}},\"view\":{\"type\":\"object\",\"name\":\"CDSView\",\"id\":\"p1036\",\"attributes\":{\"filter\":{\"type\":\"object\",\"name\":\"AllIndices\",\"id\":\"p1037\"}}},\"columns\":[{\"type\":\"object\",\"name\":\"TableColumn\",\"id\":\"p1013\",\"attributes\":{\"field\":\"label\",\"title\":\"label\",\"formatter\":{\"type\":\"object\",\"name\":\"StringFormatter\",\"id\":\"p1014\"},\"editor\":{\"type\":\"object\",\"name\":\"StringEditor\",\"id\":\"p1015\"}}},{\"type\":\"object\",\"name\":\"TableColumn\",\"id\":\"p1016\",\"attributes\":{\"field\":\"count_raw\",\"title\":\"raw\",\"formatter\":{\"type\":\"object\",\"name\":\"StringFormatter\",\"id\":\"p1017\"},\"editor\":{\"type\":\"object\",\"name\":\"StringEditor\",\"id\":\"p1018\"}}},{\"type\":\"object\",\"name\":\"TableColumn\",\"id\":\"p1019\",\"attributes\":{\"field\":\"count_train\",\"title\":\"train\",\"formatter\":{\"type\":\"object\",\"name\":\"StringFormatter\",\"id\":\"p1020\"},\"editor\":{\"type\":\"object\",\"name\":\"StringEditor\",\"id\":\"p1021\"}}},{\"type\":\"object\",\"name\":\"TableColumn\",\"id\":\"p1022\",\"attributes\":{\"field\":\"count_dev\",\"title\":\"dev\",\"formatter\":{\"type\":\"object\",\"name\":\"StringFormatter\",\"id\":\"p1023\"},\"editor\":{\"type\":\"object\",\"name\":\"StringEditor\",\"id\":\"p1024\"}}},{\"type\":\"object\",\"name\":\"TableColumn\",\"id\":\"p1025\",\"attributes\":{\"field\":\"count_test\",\"title\":\"test\",\"formatter\":{\"type\":\"object\",\"name\":\"StringFormatter\",\"id\":\"p1026\"},\"editor\":{\"type\":\"object\",\"name\":\"StringEditor\",\"id\":\"p1027\"}}},{\"type\":\"object\",\"name\":\"TableColumn\",\"id\":\"p1029\",\"attributes\":{\"field\":\"color\",\"title\":\"color\",\"formatter\":{\"type\":\"object\",\"name\":\"HTMLTemplateFormatter\",\"id\":\"p1028\",\"attributes\":{\"template\":\"\\n<p style=\\\"color:<%= value %>;\\\">\\n    <%= \\\"&#9608;&#9608;&#9608;\\\" %>\\n</p>\\n\"}},\"editor\":{\"type\":\"object\",\"name\":\"StringEditor\",\"id\":\"p1031\"}}}]}}],\"callbacks\":{\"type\":\"map\"}}};\n",
       "  const render_items = [{\"docid\":\"165eb63e-b095-4fee-91cd-43078a5908e3\",\"roots\":{\"p1032\":\"db18dea1-3f6b-45fa-b3fb-59ef08495688\"},\"root_ids\":[\"p1032\"]}];\n",
       "  root.Bokeh.embed.embed_items_notebook(docs_json, render_items);\n",
       "  }\n",
       "  if (root.Bokeh !== undefined) {\n",
       "    embed_document(root);\n",
       "  } else {\n",
       "    let attempts = 0;\n",
       "    const timer = setInterval(function(root) {\n",
       "      if (root.Bokeh !== undefined) {\n",
       "        clearInterval(timer);\n",
       "        embed_document(root);\n",
       "      } else {\n",
       "        attempts++;\n",
       "        if (attempts > 100) {\n",
       "          clearInterval(timer);\n",
       "          console.log(\"Bokeh: ERROR: Unable to run BokehJS code because BokehJS library is missing\");\n",
       "        }\n",
       "      }\n",
       "    }, 10, root)\n",
       "  }\n",
       "})(window);"
      ],
      "application/vnd.bokehjs_exec.v0+json": ""
     },
     "metadata": {
      "application/vnd.bokehjs_exec.v0+json": {
       "id": "p1032"
      }
     },
     "output_type": "display_data"
    }
   ],
   "source": [
    "from bokeh.io import show, output_notebook\n",
    "\n",
    "output_notebook()\n",
    "\n",
    "# normally your would skip notebook_url or use Jupyter address\n",
    "notebook_url = 'localhost:8888'\n",
    "\n",
    "show(dataset.pop_table, notebook_url=notebook_url)"
   ]
  },
  {
   "cell_type": "markdown",
   "id": "a6cac438",
   "metadata": {},
   "source": [
    "<br>\n",
    "\n",
    "### **Transfer Data Between Subsets**\n",
    "\n",
    "`COMMIT` and `DEDUP` are the mechanisms that `hover` uses to transfer data between subsets.\n",
    "\n",
    "-   `COMMIT` copies selected points (to be discussed later) to a destination subset\n",
    "    -   labeled-raw-only: `COMMIT` automatically detects which points are in the raw set with a valid label. Other points will not get copied.\n",
    "    -   keep-last: you can commit the same point to the same subset multiple times and the last copy will be kept. This can be useful for revising labels before `DEDUP`.\n",
    "-   `DEDUP` removes duplicates (identified by feature value) across subsets\n",
    "    -   priority rule: test > dev > train > raw, i.e. test set data always gets kept during deduplication\n",
    "\n",
    "-   <details open><summary>FAQ</summary>\n",
    "    <details open><summary>Why does COMMIT only work on the raw subset?</summary>\n",
    "        Most selections will happen through plots, where different subsets are on top of each other. This means selections can contain both unlabeled and labeled points.\n",
    "\n",
    "        Way too often we find ourselves trying to view both the labeled and the unlabeled, but only moving the unlabeled \"raw\" points. So it's handy that COMMIT picks those points only.\n",
    "    </details>\n",
    "\n",
    "</details>\n",
    "\n",
    "These mechanisms correspond to buttons in `hover`'s annotation interface, which you have encountered in the quickstart:"
   ]
  },
  {
   "cell_type": "code",
   "execution_count": 3,
   "id": "b765eaf6",
   "metadata": {
    "execution": {
     "iopub.execute_input": "2023-06-20T01:47:37.910232Z",
     "iopub.status.busy": "2023-06-20T01:47:37.909697Z",
     "iopub.status.idle": "2023-06-20T01:47:37.978855Z",
     "shell.execute_reply": "2023-06-20T01:47:37.977579Z"
    }
   },
   "outputs": [
    {
     "name": "stderr",
     "output_type": "stream",
     "text": [
      "WARNING:bokeh.embed.util:\n",
      "You are generating standalone HTML/JS output, but trying to use real Python\n",
      "callbacks (i.e. with on_change or on_event). This combination cannot work.\n",
      "\n",
      "Only JavaScript callbacks may be used with standalone output. For more\n",
      "information on JavaScript callbacks with Bokeh, see:\n",
      "\n",
      "    https://docs.bokeh.org/en/latest/docs/user_guide/interaction/callbacks.html\n",
      "\n",
      "Alternatively, to use real Python callbacks, a Bokeh server application may\n",
      "be used. For more information on building and running Bokeh applications, see:\n",
      "\n",
      "    https://docs.bokeh.org/en/latest/docs/user_guide/server.html\n",
      "\n"
     ]
    },
    {
     "data": {
      "text/html": [
       "\n",
       "  <div id=\"e92a72e0-846c-457e-9d10-ab5b4dc958a4\" data-root-id=\"p1152\" style=\"display: contents;\"></div>\n"
      ]
     },
     "metadata": {},
     "output_type": "display_data"
    },
    {
     "data": {
      "application/javascript": [
       "(function(root) {\n",
       "  function embed_document(root) {\n",
       "  const docs_json = {\"c86c611d-298f-406d-b8fe-1465f5cc352e\":{\"version\":\"3.1.1\",\"title\":\"Bokeh Application\",\"defs\":[],\"roots\":[{\"type\":\"object\",\"name\":\"Column\",\"id\":\"p1152\",\"attributes\":{\"children\":[{\"type\":\"object\",\"name\":\"Row\",\"id\":\"p1151\",\"attributes\":{\"children\":[{\"type\":\"object\",\"name\":\"Dropdown\",\"id\":\"p1002\",\"attributes\":{\"button_type\":\"warning\",\"subscribed_events\":{\"type\":\"set\",\"entries\":[\"menu_item_click\",\"button_click\"]},\"label\":\"Commit\",\"menu\":[\"train\",\"dev\",\"test\"]}},{\"type\":\"object\",\"name\":\"Button\",\"id\":\"p1003\",\"attributes\":{\"button_type\":\"warning\",\"subscribed_events\":{\"type\":\"set\",\"entries\":[\"button_click\"]},\"label\":\"Dedup\"}}]}},{\"type\":\"object\",\"name\":\"DataTable\",\"id\":\"p1032\",\"attributes\":{\"source\":{\"type\":\"object\",\"name\":\"ColumnDataSource\",\"id\":\"p1010\",\"attributes\":{\"selected\":{\"type\":\"object\",\"name\":\"Selection\",\"id\":\"p1011\",\"attributes\":{\"indices\":[],\"line_indices\":[]}},\"selection_policy\":{\"type\":\"object\",\"name\":\"UnionRenderers\",\"id\":\"p1012\"},\"data\":{\"type\":\"map\",\"entries\":[[\"color\",[\"#dcdcdc\",\"#3c3285\",\"#4353c2\",\"#4673eb\",\"#4291fe\",\"#2fb1f3\",\"#1ccdd7\",\"#19e3b8\",\"#32f197\",\"#61fc6c\",\"#8efe48\",\"#b1f836\",\"#cfea34\",\"#ead339\",\"#f9ba38\",\"#fe9b2d\",\"#f9771e\",\"#ec520e\",\"#d93806\",\"#c02302\",\"#a01101\"]],[\"label\",[\"ABSTAIN\",\"alt.atheism\",\"comp.graphics\",\"comp.os.ms-windows.misc\",\"comp.sys.ibm.pc.hardware\",\"comp.sys.mac.hardware\",\"comp.windows.x\",\"misc.forsale\",\"rec.autos\",\"rec.motorcycles\",\"rec.sport.baseball\",\"rec.sport.hockey\",\"sci.crypt\",\"sci.electronics\",\"sci.med\",\"sci.space\",\"soc.religion.christian\",\"talk.politics.guns\",\"talk.politics.mideast\",\"talk.politics.misc\",\"talk.religion.misc\"]],[\"count_raw\",[376,0,0,0,0,0,0,0,0,0,0,0,0,0,0,0,0,0,0,0,0]],[\"count_train\",[0,15,15,21,16,25,17,21,21,15,15,26,26,16,14,27,25,20,19,16,10]],[\"count_dev\",[0,4,5,5,2,4,7,5,5,10,5,7,1,6,5,4,4,2,7,4,6]],[\"count_test\",[0,3,4,9,6,4,4,6,8,3,6,3,8,4,4,6,5,7,2,5,3]]]}}},\"view\":{\"type\":\"object\",\"name\":\"CDSView\",\"id\":\"p1036\",\"attributes\":{\"filter\":{\"type\":\"object\",\"name\":\"AllIndices\",\"id\":\"p1037\"}}},\"columns\":[{\"type\":\"object\",\"name\":\"TableColumn\",\"id\":\"p1013\",\"attributes\":{\"field\":\"label\",\"title\":\"label\",\"formatter\":{\"type\":\"object\",\"name\":\"StringFormatter\",\"id\":\"p1014\"},\"editor\":{\"type\":\"object\",\"name\":\"StringEditor\",\"id\":\"p1015\"}}},{\"type\":\"object\",\"name\":\"TableColumn\",\"id\":\"p1016\",\"attributes\":{\"field\":\"count_raw\",\"title\":\"raw\",\"formatter\":{\"type\":\"object\",\"name\":\"StringFormatter\",\"id\":\"p1017\"},\"editor\":{\"type\":\"object\",\"name\":\"StringEditor\",\"id\":\"p1018\"}}},{\"type\":\"object\",\"name\":\"TableColumn\",\"id\":\"p1019\",\"attributes\":{\"field\":\"count_train\",\"title\":\"train\",\"formatter\":{\"type\":\"object\",\"name\":\"StringFormatter\",\"id\":\"p1020\"},\"editor\":{\"type\":\"object\",\"name\":\"StringEditor\",\"id\":\"p1021\"}}},{\"type\":\"object\",\"name\":\"TableColumn\",\"id\":\"p1022\",\"attributes\":{\"field\":\"count_dev\",\"title\":\"dev\",\"formatter\":{\"type\":\"object\",\"name\":\"StringFormatter\",\"id\":\"p1023\"},\"editor\":{\"type\":\"object\",\"name\":\"StringEditor\",\"id\":\"p1024\"}}},{\"type\":\"object\",\"name\":\"TableColumn\",\"id\":\"p1025\",\"attributes\":{\"field\":\"count_test\",\"title\":\"test\",\"formatter\":{\"type\":\"object\",\"name\":\"StringFormatter\",\"id\":\"p1026\"},\"editor\":{\"type\":\"object\",\"name\":\"StringEditor\",\"id\":\"p1027\"}}},{\"type\":\"object\",\"name\":\"TableColumn\",\"id\":\"p1029\",\"attributes\":{\"field\":\"color\",\"title\":\"color\",\"formatter\":{\"type\":\"object\",\"name\":\"HTMLTemplateFormatter\",\"id\":\"p1028\",\"attributes\":{\"template\":\"\\n<p style=\\\"color:<%= value %>;\\\">\\n    <%= \\\"&#9608;&#9608;&#9608;\\\" %>\\n</p>\\n\"}},\"editor\":{\"type\":\"object\",\"name\":\"StringEditor\",\"id\":\"p1031\"}}}]}}]}}],\"callbacks\":{\"type\":\"map\"}}};\n",
       "  const render_items = [{\"docid\":\"c86c611d-298f-406d-b8fe-1465f5cc352e\",\"roots\":{\"p1152\":\"e92a72e0-846c-457e-9d10-ab5b4dc958a4\"},\"root_ids\":[\"p1152\"]}];\n",
       "  root.Bokeh.embed.embed_items_notebook(docs_json, render_items);\n",
       "  }\n",
       "  if (root.Bokeh !== undefined) {\n",
       "    embed_document(root);\n",
       "  } else {\n",
       "    let attempts = 0;\n",
       "    const timer = setInterval(function(root) {\n",
       "      if (root.Bokeh !== undefined) {\n",
       "        clearInterval(timer);\n",
       "        embed_document(root);\n",
       "      } else {\n",
       "        attempts++;\n",
       "        if (attempts > 100) {\n",
       "          clearInterval(timer);\n",
       "          console.log(\"Bokeh: ERROR: Unable to run BokehJS code because BokehJS library is missing\");\n",
       "        }\n",
       "      }\n",
       "    }, 10, root)\n",
       "  }\n",
       "})(window);"
      ],
      "application/vnd.bokehjs_exec.v0+json": ""
     },
     "metadata": {
      "application/vnd.bokehjs_exec.v0+json": {
       "id": "p1152"
      }
     },
     "output_type": "display_data"
    }
   ],
   "source": [
    "from bokeh.layouts import row, column\n",
    "\n",
    "show(column(\n",
    "    row(\n",
    "        dataset.data_committer,\n",
    "        dataset.dedup_trigger,\n",
    "    ),\n",
    "    dataset.pop_table,\n",
    "), notebook_url=notebook_url)"
   ]
  },
  {
   "cell_type": "markdown",
   "id": "fdd6e32c",
   "metadata": {},
   "source": [
    "<br>\n",
    "\n",
    "Of course, so far we have nothing to move, because there's no data selected. We shall now discuss selections.\n",
    "\n",
    "## **Selection**\n",
    "\n",
    "`hover` labels data points in bulk, which requires selecting groups of homogeneous data, i.e. semantically similar or going to have the same label. Being able to skim through what you selected gives you confidence about homogeneity.\n",
    "\n",
    "Normally, selection happens through a plot (`explorer`), as we have seen in the quickstart. For the purpose here, we will \"cheat\" and assign the selection programmatically:"
   ]
  },
  {
   "cell_type": "code",
   "execution_count": 4,
   "id": "f9df8f05",
   "metadata": {
    "execution": {
     "iopub.execute_input": "2023-06-20T01:47:37.984277Z",
     "iopub.status.busy": "2023-06-20T01:47:37.983753Z",
     "iopub.status.idle": "2023-06-20T01:47:38.030378Z",
     "shell.execute_reply": "2023-06-20T01:47:38.029352Z"
    }
   },
   "outputs": [
    {
     "data": {
      "text/html": [
       "<pre style=\"white-space:pre;overflow-x:auto;line-height:normal;font-family:Menlo,'DejaVu Sans Mono',consolas,'Courier New',monospace\"><span style=\"color: #008000; text-decoration-color: #008000\">🟢 SupervisableTextDataset: Selection table: latest selection with </span><span style=\"color: #008080; text-decoration-color: #008080; font-weight: bold\">10</span><span style=\"color: #008000; text-decoration-color: #008000\"> entries.</span>\n",
       "</pre>\n"
      ],
      "text/plain": [
       "\u001b[32m🟢 SupervisableTextDataset: Selection table: latest selection with \u001b[0m\u001b[1;36m10\u001b[0m\u001b[32m entries.\u001b[0m\n"
      ]
     },
     "metadata": {},
     "output_type": "display_data"
    },
    {
     "data": {
      "text/html": [
       "\n",
       "  <div id=\"a4d73b0a-4b9a-4363-a998-ef0b15024193\" data-root-id=\"p1049\" style=\"display: contents;\"></div>\n"
      ]
     },
     "metadata": {},
     "output_type": "display_data"
    },
    {
     "data": {
      "application/javascript": [
       "(function(root) {\n",
       "  function embed_document(root) {\n",
       "  const docs_json = {\"f6b812a3-6e93-4e5f-a796-027575697c16\":{\"version\":\"3.1.1\",\"title\":\"Bokeh Application\",\"defs\":[],\"roots\":[{\"type\":\"object\",\"name\":\"DataTable\",\"id\":\"p1049\",\"attributes\":{\"source\":{\"type\":\"object\",\"name\":\"ColumnDataSource\",\"id\":\"p1038\",\"attributes\":{\"selected\":{\"type\":\"object\",\"name\":\"Selection\",\"id\":\"p1039\",\"attributes\":{\"indices\":[],\"line_indices\":[]}},\"selection_policy\":{\"type\":\"object\",\"name\":\"UnionRenderers\",\"id\":\"p1040\"},\"data\":{\"type\":\"map\",\"entries\":[[\"text\",[\"I responded to Jim's other articles today, but I see that I neglected to respond to this one.  I wouldn't want him to think me a hypocrite for not responding to *every* stupid article on t.r.m.  [dictionary definitions of \\\"not\\\" \\\"disagree\\\" and \\\"agree\\\" deleted]  Oh, but I'm weary of trying to wade through Jim's repertoire of  red herrings and smoke screens.  Let's see what we get when we run all four articles posted by Jim today through the 'discord' filter (a Markov chain program that Steve Lamont was kind enough to send me):   Taking action? A white geese be held  as an accomplice to be held as  a decision upon the door  A black and white goose waddles past  the eyes of the door.   Hits it with the confidence interval for   that individual is held responsible   for that, that individual   may be held as a   getaway car may be held   as an uncountably large number   of the driver of something   and agree.   A black goose   waddles past the person imprisoned?   White goose waddles past the   confidence interval for the population   of geese be axed,   fine.  And white goose   waddles past the door.  Does running Jim's articles through 'discord' make them more coherent?  Less coherent?  Or has 'discord' turned Jim's articles into an angst-ridden poem about making choices in a world filled with uncertainty, yet being held responsible for the choices we make?  Do the geese symbolize an inner frustration with ambiguity, a desire that everything be black and white, with no shades of gray?  Does the \\\"getaway car\\\" tell us that to try to renounce the existential nature of our being is not to \\\"get away\\\" from responsibility for our actions, but rather to take the role of the passive accomplice, the \\\"driver\\\" of the getaway car, as it were?  Does the juxtaposition of man and machine, car and driver, reveal a subtext: an internal conflict between determinism and moral responsibility?  Or am I reading too much into a collaboration between Jim and a random number generator?\",\"Forwarded from the Mars Observer Project                         MARS OBSERVER STATUS REPORT                              April 23, 1993                               10:00 AM PDT  Flight Sequence C8 is active, the Spacecraft subsystems and instrument payload performing well in Array Normal Spin and outer cruise configuration, with uplink and downlink via the High Gain Antenna; uplink at 125 bps, downlink at the 2 K Engineering data rate.  As a result of the spacecraft entering Contingency Mode on April 9, all payload instruments were automatically powered off by on-board fault protection software.  Gamma Ray Spectrometer Random Access Memory was successfully reloaded on Monday, April 19.  To prepare for Magnetometer Calibrations which were rescheduled for execution in Flight Sequence C9 on Tuesday and Wednesday of next week, a reload of Payload Data System Random Access Memory will take place this morning beginning at 10:30 AM.  Over this weekend, the Flight Team will send real-time commands to perform Differential One-Way Ranging to obtain additional data for analysis by the Navigation Team.  Radio Science Ultra Stable Oscillator testing will take place on Monday .  The Flight Sequence C9 uplink will occur on Sunday, April 25, with activation at Midnight, Monday evening April 26.  C9 has been modified to include Magnetometer Calibrations which could not be performed in C8 due to Contingency Mode entry on April 9.  These Magnetometer instrument calibrations will allow the instrument team to better characterize the spacecraft-generated magnetic field and its effect on their instrument. This information is critical to Martian magnetic field measurements which occur during approach and mapping phases. MAG Cals will require the sequence to command the spacecraft out of Array Normal Spin state and perform slew and roll maneuvers to provide the MAG team data points in varying spacecraft attitudes and orientations.\",\"I keep finding these programmers in local junk shops. This may mean that they are indeed junk - but i'd like to hear from anyone  else that may have met up with them. The basic device is a \\\"Data I/O 29A universal programmer\\\", and the usual pod is a  \\\"LogicPak 303A-Vo4\\\" with a \\\"303A-001\\\" programming tester/ adapter. I'd really like to hear from anyone who knows whether these monsters are worth bothering with. All i want to do is blast PALCE22V10s. - Ideas, folks Mike. \",\"    Israel - Happy 45th Birthday!\",\"That plastic bodywork is useless. That torque, and an upright riding position is better than a slightly or radically forward riding position combined with a high-rpm low torque motor.  To a cruiser-motorcyclist, chrome has some importance. To sport-bike motorcyclists chrome has very little impact on buying choice.  Unless motivated solely by price, these are the criteria each rider uses to select the vehicle of choice.   To ignore these, as well as other criteria, would be insensitive. In other words, no one motorcycle can fufill the requirements that a sport-bike rider and a cruiser rider may have.(sometimes it's hard for *any* motorcycle to fufill a person's requirements)    You're fishing for flames, Dave.  This difference of opinion is analogous to the difference between Sports-car owners, and luxury-car owners.   This is a moot conversation.   --  => Dan DeClerck                        | EMAIL: declrckd@rtsg.mot.com     <= => Motorola Cellular APD               |                                  <= =>\\\"Friends don't let friends wear neon\\\"| Phone: (708) 632-4596            <=\",\"  Oh, I see, flame someone, tell them that they are immature, tell them they are wrong, and then don't offer any proof for your assertions.  You really *are* a putz.  Put up or shut up.  cpk\",\" Morphine or demerol is about the only effective way of stopping pain that severe.  Obviously, she'll need a prescription to get such drugs. Can't she go to the county hospital or something?   --  ---------------------------------------------------------------------------- Gordon Banks  N3JXP      | \\\"Skepticism is the chastity of the intellect, and geb@cadre.dsl.pitt.edu   |  it is shameful to surrender it too soon.\\\" \",\"Hello,  This is my first net letter, so forgive mistakes!  I have been plagued by problems (or lack of info) with authorization in Open Windows 3.0 for a long while and would like some help please!  I generally use strait MIT X, and so don't use OW much, but when I share  X software with others - bad news.  PROBLEM:  My friend who logs into his SSII trys to run my  program that runs fine on my machine, however,  my friend gets \\\"client not authorized to connect  to server\\\" (or something close).  If OW is started with the -noauth option all is well, but surely this is not required in general!  Also, xhost + does not work, becoming root does not  work, etc...   Any help will be greatly appreciated!  Thanx\",\"    This should be in the FAQ, it only get asked about twenty times a month  There is *NO*, that's right, *NO* telnet access to Compuserve, no ftp access, no gopher access....no Internet services except e-mail.  You can telnet to hermes.merit.edu, but that routes you through Sprintnet, which is horrendously expensive. \",\" That's absurd! That statement must therefore say that any argument in favor of seatbelts or airbags is an argument against automobiles.  Any argument for lifeguards is an argument against swimming.  It says that any agrgument in favor of safety precautions is an argument for banning the activity to  which the precautions apply.  Extrapolating to that degree is ridiculous, there wouldn't be any normal human activity left to do; therefore it is a non-seqitur.  Also, even though most people do not ride motorcycles, they do boat, sail, jetski, climb, ski, fly parachute, hang-glide, glide, bungee-jump, bike, skate, rollerblade, skateboard, play rugby (ouch), mow the lawn, rewire the basement, operate heavy machinery,  and do a host of other 'dangerous' things that would all be as valid as motorcycling as activities to ban. Your little homily applies to all those things, and the general public buying into banning motorcycles without realizing that their activity would be next is unlikely. \"]],[\"SUBSET\",[\"raw\",\"raw\",\"raw\",\"raw\",\"raw\",\"raw\",\"raw\",\"raw\",\"raw\",\"raw\"]],[\"label\",[\"ABSTAIN\",\"ABSTAIN\",\"ABSTAIN\",\"ABSTAIN\",\"ABSTAIN\",\"ABSTAIN\",\"ABSTAIN\",\"ABSTAIN\",\"ABSTAIN\",\"ABSTAIN\"]]]}}},\"view\":{\"type\":\"object\",\"name\":\"CDSView\",\"id\":\"p1053\",\"attributes\":{\"filter\":{\"type\":\"object\",\"name\":\"AllIndices\",\"id\":\"p1054\"}}},\"columns\":[{\"type\":\"object\",\"name\":\"TableColumn\",\"id\":\"p1043\",\"attributes\":{\"field\":\"text\",\"title\":\"text\",\"formatter\":{\"type\":\"object\",\"name\":\"HTMLTemplateFormatter\",\"id\":\"p1042\",\"attributes\":{\"template\":\"<span href=\\\"#\\\" data-toggle=\\\"tooltip\\\" title=\\\"<%= value %>\\\"><%= value %></span>\"}},\"editor\":{\"type\":\"object\",\"name\":\"CellEditor\",\"id\":\"p1041\"}}},{\"type\":\"object\",\"name\":\"TableColumn\",\"id\":\"p1046\",\"attributes\":{\"field\":\"label\",\"title\":\"label\",\"formatter\":{\"type\":\"object\",\"name\":\"StringFormatter\",\"id\":\"p1047\"},\"editor\":{\"type\":\"object\",\"name\":\"StringEditor\",\"id\":\"p1048\"}}}],\"editable\":true,\"selectable\":\"checkbox\"}}],\"callbacks\":{\"type\":\"map\"}}};\n",
       "  const render_items = [{\"docid\":\"f6b812a3-6e93-4e5f-a796-027575697c16\",\"roots\":{\"p1049\":\"a4d73b0a-4b9a-4363-a998-ef0b15024193\"},\"root_ids\":[\"p1049\"]}];\n",
       "  root.Bokeh.embed.embed_items_notebook(docs_json, render_items);\n",
       "  }\n",
       "  if (root.Bokeh !== undefined) {\n",
       "    embed_document(root);\n",
       "  } else {\n",
       "    let attempts = 0;\n",
       "    const timer = setInterval(function(root) {\n",
       "      if (root.Bokeh !== undefined) {\n",
       "        clearInterval(timer);\n",
       "        embed_document(root);\n",
       "      } else {\n",
       "        attempts++;\n",
       "        if (attempts > 100) {\n",
       "          clearInterval(timer);\n",
       "          console.log(\"Bokeh: ERROR: Unable to run BokehJS code because BokehJS library is missing\");\n",
       "        }\n",
       "      }\n",
       "    }, 10, root)\n",
       "  }\n",
       "})(window);"
      ],
      "application/vnd.bokehjs_exec.v0+json": ""
     },
     "metadata": {
      "application/vnd.bokehjs_exec.v0+json": {
       "id": "p1049"
      }
     },
     "output_type": "display_data"
    }
   ],
   "source": [
    "dataset._callback_update_selection(dataset.dfs[\"raw\"][:10])\n",
    "\n",
    "show(dataset.sel_table, notebook_url=notebook_url)"
   ]
  },
  {
   "cell_type": "markdown",
   "id": "3733bf11",
   "metadata": {},
   "source": [
    "<br>\n",
    "\n",
    "### **Edit Data Within a Selection**\n",
    "\n",
    "Often the points selected are not perfectly homogeneous, i.e. some outliers belong to a different label from the selected group overall. It would be helpful to `EVICT` them, and `SupervisableDataset` has a button for it.\n",
    "\n",
    "Sometimes you may also wish to edit data values on the fly.  In hover this is called `PATCH`, and there also is a button for it.\n",
    "\n",
    "-   by default, labels can be edited but feature values cannot.\n",
    "\n",
    "Let's plot the forementioned buttons along with the selection table. Toggle any number of rows in the table, then click the button to `EVICT` or `PATCH` those rows:"
   ]
  },
  {
   "cell_type": "code",
   "execution_count": 5,
   "id": "f26ad6ae",
   "metadata": {
    "execution": {
     "iopub.execute_input": "2023-06-20T01:47:38.035049Z",
     "iopub.status.busy": "2023-06-20T01:47:38.034718Z",
     "iopub.status.idle": "2023-06-20T01:47:38.093206Z",
     "shell.execute_reply": "2023-06-20T01:47:38.092093Z"
    }
   },
   "outputs": [
    {
     "name": "stderr",
     "output_type": "stream",
     "text": [
      "WARNING:bokeh.embed.util:\n",
      "You are generating standalone HTML/JS output, but trying to use real Python\n",
      "callbacks (i.e. with on_change or on_event). This combination cannot work.\n",
      "\n",
      "Only JavaScript callbacks may be used with standalone output. For more\n",
      "information on JavaScript callbacks with Bokeh, see:\n",
      "\n",
      "    https://docs.bokeh.org/en/latest/docs/user_guide/interaction/callbacks.html\n",
      "\n",
      "Alternatively, to use real Python callbacks, a Bokeh server application may\n",
      "be used. For more information on building and running Bokeh applications, see:\n",
      "\n",
      "    https://docs.bokeh.org/en/latest/docs/user_guide/server.html\n",
      "\n"
     ]
    },
    {
     "data": {
      "text/html": [
       "\n",
       "  <div id=\"fc083fd4-5a3b-460e-b649-5a6c4c0d9332\" data-root-id=\"p1341\" style=\"display: contents;\"></div>\n"
      ]
     },
     "metadata": {},
     "output_type": "display_data"
    },
    {
     "data": {
      "application/javascript": [
       "(function(root) {\n",
       "  function embed_document(root) {\n",
       "  const docs_json = {\"fb5cd4f7-1fe1-48e5-aa10-c9bcd81d5248\":{\"version\":\"3.1.1\",\"title\":\"Bokeh Application\",\"defs\":[],\"roots\":[{\"type\":\"object\",\"name\":\"Column\",\"id\":\"p1341\",\"attributes\":{\"children\":[{\"type\":\"object\",\"name\":\"Row\",\"id\":\"p1340\",\"attributes\":{\"children\":[{\"type\":\"object\",\"name\":\"Button\",\"id\":\"p1006\",\"attributes\":{\"button_type\":\"primary\",\"label\":\"Evict Rows from Selection\"}},{\"type\":\"object\",\"name\":\"Button\",\"id\":\"p1005\",\"attributes\":{\"button_type\":\"warning\",\"subscribed_events\":{\"type\":\"set\",\"entries\":[\"button_click\"]},\"label\":\"Update Row Values\"}}]}},{\"type\":\"object\",\"name\":\"DataTable\",\"id\":\"p1049\",\"attributes\":{\"source\":{\"type\":\"object\",\"name\":\"ColumnDataSource\",\"id\":\"p1038\",\"attributes\":{\"selected\":{\"type\":\"object\",\"name\":\"Selection\",\"id\":\"p1039\",\"attributes\":{\"indices\":[],\"line_indices\":[]}},\"selection_policy\":{\"type\":\"object\",\"name\":\"UnionRenderers\",\"id\":\"p1040\"},\"data\":{\"type\":\"map\",\"entries\":[[\"text\",[\"I responded to Jim's other articles today, but I see that I neglected to respond to this one.  I wouldn't want him to think me a hypocrite for not responding to *every* stupid article on t.r.m.  [dictionary definitions of \\\"not\\\" \\\"disagree\\\" and \\\"agree\\\" deleted]  Oh, but I'm weary of trying to wade through Jim's repertoire of  red herrings and smoke screens.  Let's see what we get when we run all four articles posted by Jim today through the 'discord' filter (a Markov chain program that Steve Lamont was kind enough to send me):   Taking action? A white geese be held  as an accomplice to be held as  a decision upon the door  A black and white goose waddles past  the eyes of the door.   Hits it with the confidence interval for   that individual is held responsible   for that, that individual   may be held as a   getaway car may be held   as an uncountably large number   of the driver of something   and agree.   A black goose   waddles past the person imprisoned?   White goose waddles past the   confidence interval for the population   of geese be axed,   fine.  And white goose   waddles past the door.  Does running Jim's articles through 'discord' make them more coherent?  Less coherent?  Or has 'discord' turned Jim's articles into an angst-ridden poem about making choices in a world filled with uncertainty, yet being held responsible for the choices we make?  Do the geese symbolize an inner frustration with ambiguity, a desire that everything be black and white, with no shades of gray?  Does the \\\"getaway car\\\" tell us that to try to renounce the existential nature of our being is not to \\\"get away\\\" from responsibility for our actions, but rather to take the role of the passive accomplice, the \\\"driver\\\" of the getaway car, as it were?  Does the juxtaposition of man and machine, car and driver, reveal a subtext: an internal conflict between determinism and moral responsibility?  Or am I reading too much into a collaboration between Jim and a random number generator?\",\"Forwarded from the Mars Observer Project                         MARS OBSERVER STATUS REPORT                              April 23, 1993                               10:00 AM PDT  Flight Sequence C8 is active, the Spacecraft subsystems and instrument payload performing well in Array Normal Spin and outer cruise configuration, with uplink and downlink via the High Gain Antenna; uplink at 125 bps, downlink at the 2 K Engineering data rate.  As a result of the spacecraft entering Contingency Mode on April 9, all payload instruments were automatically powered off by on-board fault protection software.  Gamma Ray Spectrometer Random Access Memory was successfully reloaded on Monday, April 19.  To prepare for Magnetometer Calibrations which were rescheduled for execution in Flight Sequence C9 on Tuesday and Wednesday of next week, a reload of Payload Data System Random Access Memory will take place this morning beginning at 10:30 AM.  Over this weekend, the Flight Team will send real-time commands to perform Differential One-Way Ranging to obtain additional data for analysis by the Navigation Team.  Radio Science Ultra Stable Oscillator testing will take place on Monday .  The Flight Sequence C9 uplink will occur on Sunday, April 25, with activation at Midnight, Monday evening April 26.  C9 has been modified to include Magnetometer Calibrations which could not be performed in C8 due to Contingency Mode entry on April 9.  These Magnetometer instrument calibrations will allow the instrument team to better characterize the spacecraft-generated magnetic field and its effect on their instrument. This information is critical to Martian magnetic field measurements which occur during approach and mapping phases. MAG Cals will require the sequence to command the spacecraft out of Array Normal Spin state and perform slew and roll maneuvers to provide the MAG team data points in varying spacecraft attitudes and orientations.\",\"I keep finding these programmers in local junk shops. This may mean that they are indeed junk - but i'd like to hear from anyone  else that may have met up with them. The basic device is a \\\"Data I/O 29A universal programmer\\\", and the usual pod is a  \\\"LogicPak 303A-Vo4\\\" with a \\\"303A-001\\\" programming tester/ adapter. I'd really like to hear from anyone who knows whether these monsters are worth bothering with. All i want to do is blast PALCE22V10s. - Ideas, folks Mike. \",\"    Israel - Happy 45th Birthday!\",\"That plastic bodywork is useless. That torque, and an upright riding position is better than a slightly or radically forward riding position combined with a high-rpm low torque motor.  To a cruiser-motorcyclist, chrome has some importance. To sport-bike motorcyclists chrome has very little impact on buying choice.  Unless motivated solely by price, these are the criteria each rider uses to select the vehicle of choice.   To ignore these, as well as other criteria, would be insensitive. In other words, no one motorcycle can fufill the requirements that a sport-bike rider and a cruiser rider may have.(sometimes it's hard for *any* motorcycle to fufill a person's requirements)    You're fishing for flames, Dave.  This difference of opinion is analogous to the difference between Sports-car owners, and luxury-car owners.   This is a moot conversation.   --  => Dan DeClerck                        | EMAIL: declrckd@rtsg.mot.com     <= => Motorola Cellular APD               |                                  <= =>\\\"Friends don't let friends wear neon\\\"| Phone: (708) 632-4596            <=\",\"  Oh, I see, flame someone, tell them that they are immature, tell them they are wrong, and then don't offer any proof for your assertions.  You really *are* a putz.  Put up or shut up.  cpk\",\" Morphine or demerol is about the only effective way of stopping pain that severe.  Obviously, she'll need a prescription to get such drugs. Can't she go to the county hospital or something?   --  ---------------------------------------------------------------------------- Gordon Banks  N3JXP      | \\\"Skepticism is the chastity of the intellect, and geb@cadre.dsl.pitt.edu   |  it is shameful to surrender it too soon.\\\" \",\"Hello,  This is my first net letter, so forgive mistakes!  I have been plagued by problems (or lack of info) with authorization in Open Windows 3.0 for a long while and would like some help please!  I generally use strait MIT X, and so don't use OW much, but when I share  X software with others - bad news.  PROBLEM:  My friend who logs into his SSII trys to run my  program that runs fine on my machine, however,  my friend gets \\\"client not authorized to connect  to server\\\" (or something close).  If OW is started with the -noauth option all is well, but surely this is not required in general!  Also, xhost + does not work, becoming root does not  work, etc...   Any help will be greatly appreciated!  Thanx\",\"    This should be in the FAQ, it only get asked about twenty times a month  There is *NO*, that's right, *NO* telnet access to Compuserve, no ftp access, no gopher access....no Internet services except e-mail.  You can telnet to hermes.merit.edu, but that routes you through Sprintnet, which is horrendously expensive. \",\" That's absurd! That statement must therefore say that any argument in favor of seatbelts or airbags is an argument against automobiles.  Any argument for lifeguards is an argument against swimming.  It says that any agrgument in favor of safety precautions is an argument for banning the activity to  which the precautions apply.  Extrapolating to that degree is ridiculous, there wouldn't be any normal human activity left to do; therefore it is a non-seqitur.  Also, even though most people do not ride motorcycles, they do boat, sail, jetski, climb, ski, fly parachute, hang-glide, glide, bungee-jump, bike, skate, rollerblade, skateboard, play rugby (ouch), mow the lawn, rewire the basement, operate heavy machinery,  and do a host of other 'dangerous' things that would all be as valid as motorcycling as activities to ban. Your little homily applies to all those things, and the general public buying into banning motorcycles without realizing that their activity would be next is unlikely. \"]],[\"SUBSET\",[\"raw\",\"raw\",\"raw\",\"raw\",\"raw\",\"raw\",\"raw\",\"raw\",\"raw\",\"raw\"]],[\"label\",[\"ABSTAIN\",\"ABSTAIN\",\"ABSTAIN\",\"ABSTAIN\",\"ABSTAIN\",\"ABSTAIN\",\"ABSTAIN\",\"ABSTAIN\",\"ABSTAIN\",\"ABSTAIN\"]]]}}},\"view\":{\"type\":\"object\",\"name\":\"CDSView\",\"id\":\"p1053\",\"attributes\":{\"filter\":{\"type\":\"object\",\"name\":\"AllIndices\",\"id\":\"p1054\"}}},\"columns\":[{\"type\":\"object\",\"name\":\"TableColumn\",\"id\":\"p1043\",\"attributes\":{\"field\":\"text\",\"title\":\"text\",\"formatter\":{\"type\":\"object\",\"name\":\"HTMLTemplateFormatter\",\"id\":\"p1042\",\"attributes\":{\"template\":\"<span href=\\\"#\\\" data-toggle=\\\"tooltip\\\" title=\\\"<%= value %>\\\"><%= value %></span>\"}},\"editor\":{\"type\":\"object\",\"name\":\"CellEditor\",\"id\":\"p1041\"}}},{\"type\":\"object\",\"name\":\"TableColumn\",\"id\":\"p1046\",\"attributes\":{\"field\":\"label\",\"title\":\"label\",\"formatter\":{\"type\":\"object\",\"name\":\"StringFormatter\",\"id\":\"p1047\"},\"editor\":{\"type\":\"object\",\"name\":\"StringEditor\",\"id\":\"p1048\"}}}],\"editable\":true,\"selectable\":\"checkbox\"}}]}}],\"callbacks\":{\"type\":\"map\"}}};\n",
       "  const render_items = [{\"docid\":\"fb5cd4f7-1fe1-48e5-aa10-c9bcd81d5248\",\"roots\":{\"p1341\":\"fc083fd4-5a3b-460e-b649-5a6c4c0d9332\"},\"root_ids\":[\"p1341\"]}];\n",
       "  root.Bokeh.embed.embed_items_notebook(docs_json, render_items);\n",
       "  }\n",
       "  if (root.Bokeh !== undefined) {\n",
       "    embed_document(root);\n",
       "  } else {\n",
       "    let attempts = 0;\n",
       "    const timer = setInterval(function(root) {\n",
       "      if (root.Bokeh !== undefined) {\n",
       "        clearInterval(timer);\n",
       "        embed_document(root);\n",
       "      } else {\n",
       "        attempts++;\n",
       "        if (attempts > 100) {\n",
       "          clearInterval(timer);\n",
       "          console.log(\"Bokeh: ERROR: Unable to run BokehJS code because BokehJS library is missing\");\n",
       "        }\n",
       "      }\n",
       "    }, 10, root)\n",
       "  }\n",
       "})(window);"
      ],
      "application/vnd.bokehjs_exec.v0+json": ""
     },
     "metadata": {
      "application/vnd.bokehjs_exec.v0+json": {
       "id": "p1341"
      }
     },
     "output_type": "display_data"
    }
   ],
   "source": [
    "show(column(\n",
    "    row(\n",
    "        dataset.selection_evictor,\n",
    "        dataset.selection_patcher,\n",
    "    ),\n",
    "    dataset.sel_table,\n",
    "), notebook_url=notebook_url)"
   ]
  },
  {
   "cell_type": "markdown",
   "id": "ebd0235e",
   "metadata": {},
   "source": [
    "<br>"
   ]
  }
 ],
 "metadata": {
  "language_info": {
   "codemirror_mode": {
    "name": "ipython",
    "version": 3
   },
   "file_extension": ".py",
   "mimetype": "text/x-python",
   "name": "python",
   "nbconvert_exporter": "python",
   "pygments_lexer": "ipython3",
   "version": "3.9.17"
  }
 },
 "nbformat": 4,
 "nbformat_minor": 5
}
