{
 "cells": [
  {
   "cell_type": "markdown",
   "id": "3bb411dc",
   "metadata": {},
   "source": [
    "> `SupervisableDataset` holds your data throughout the labeling process.\n",
    ">\n",
    "> :speedboat: Let's take a look at its core mechanisms.\n",
    "\n",
    "-   <details open><summary>This page addresses **single components** of `hover`</summary>\n",
    "    For illustration, we are using code snippets to pick out specific widgets so that the documentation can explain what they do.\n",
    "\n",
    "    -   Please be aware that you won't need to get the widgets by code in an actual use case.\n",
    "    -   Typical usage deals with [recipes](../../tutorial/t1-active-learning) where the individual parts have been tied together.\n",
    "\n",
    "</details>\n",
    "\n",
    "-   <details open><summary>Dependencies for {== local environments ==}</summary>\n",
    "    When you run the code locally, you may need to install additional packages.\n",
    "\n",
    "    To render `bokeh` plots in Jupyter, you need:\n",
    "```shell\n",
    "    pip install jupyter_bokeh\n",
    "```\n",
    "\n",
    "    If you are using JupyterLab older than 3.0, use this instead ([reference](https://pypi.org/project/jupyter-bokeh/)):\n",
    "```shell\n",
    "    jupyter labextension install @jupyter-widgets/jupyterlab-manager\n",
    "    jupyter labextension install @bokeh/jupyter_bokeh\n",
    "```\n",
    "\n",
    "</details>\n",
    "\n",
    "## **Data Subsets**\n",
    "\n",
    "We place unlabeled data and labeled data in different subsets: \"raw\", \"train\", \"dev\", and \"test\". Unlabeled data start from the \"raw\" subset, and can be transferred to other subsets after it gets labeled.\n",
    "\n",
    "`SupervisableDataset` uses a \"population table\", `dataset.pop_table`, to show the size of each subset:"
   ]
  },
  {
   "cell_type": "code",
   "execution_count": 1,
   "id": "d2da46ce",
   "metadata": {
    "execution": {
     "iopub.execute_input": "2024-03-26T01:20:39.475639Z",
     "iopub.status.busy": "2024-03-26T01:20:39.475451Z",
     "iopub.status.idle": "2024-03-26T01:20:40.898670Z",
     "shell.execute_reply": "2024-03-26T01:20:40.898022Z"
    }
   },
   "outputs": [
    {
     "data": {
      "text/html": [
       "<pre style=\"white-space:pre;overflow-x:auto;line-height:normal;font-family:Menlo,'DejaVu Sans Mono',consolas,'Courier New',monospace\"><span style=\"color: #000080; text-decoration-color: #000080\">🔵 SupervisableTextDataset: Initializing</span><span style=\"color: #808000; text-decoration-color: #808000\">...</span>\n",
       "</pre>\n"
      ],
      "text/plain": [
       "\u001b[34m🔵 SupervisableTextDataset: Initializing\u001b[0m\u001b[33m...\u001b[0m\n"
      ]
     },
     "metadata": {},
     "output_type": "display_data"
    },
    {
     "data": {
      "text/html": [
       "<pre style=\"white-space:pre;overflow-x:auto;line-height:normal;font-family:Menlo,'DejaVu Sans Mono',consolas,'Courier New',monospace\"><span style=\"color: #000080; text-decoration-color: #000080\">🔵 SupervisableTextDataset: Deduplicating</span><span style=\"color: #808000; text-decoration-color: #808000\">...</span>\n",
       "</pre>\n"
      ],
      "text/plain": [
       "\u001b[34m🔵 SupervisableTextDataset: Deduplicating\u001b[0m\u001b[33m...\u001b[0m\n"
      ]
     },
     "metadata": {},
     "output_type": "display_data"
    },
    {
     "data": {
      "text/html": [
       "<pre style=\"white-space:pre;overflow-x:auto;line-height:normal;font-family:Menlo,'DejaVu Sans Mono',consolas,'Courier New',monospace\"><span style=\"color: #000080; text-decoration-color: #000080\">🔵 SupervisableTextDataset: --subset raw rows: </span><span style=\"color: #008080; text-decoration-color: #008080; font-weight: bold\">400</span><span style=\"color: #000080; text-decoration-color: #000080\"> -&gt; </span><span style=\"color: #008080; text-decoration-color: #008080; font-weight: bold\">366</span><span style=\"color: #000080; text-decoration-color: #000080\">.</span>\n",
       "</pre>\n"
      ],
      "text/plain": [
       "\u001b[34m🔵 SupervisableTextDataset: --subset raw rows: \u001b[0m\u001b[1;36m400\u001b[0m\u001b[34m -> \u001b[0m\u001b[1;36m366\u001b[0m\u001b[34m.\u001b[0m\n"
      ]
     },
     "metadata": {},
     "output_type": "display_data"
    },
    {
     "data": {
      "text/html": [
       "<pre style=\"white-space:pre;overflow-x:auto;line-height:normal;font-family:Menlo,'DejaVu Sans Mono',consolas,'Courier New',monospace\"><span style=\"color: #000080; text-decoration-color: #000080\">🔵 SupervisableTextDataset: --subset train rows: </span><span style=\"color: #008080; text-decoration-color: #008080; font-weight: bold\">400</span><span style=\"color: #000080; text-decoration-color: #000080\"> -&gt; </span><span style=\"color: #008080; text-decoration-color: #008080; font-weight: bold\">383</span><span style=\"color: #000080; text-decoration-color: #000080\">.</span>\n",
       "</pre>\n"
      ],
      "text/plain": [
       "\u001b[34m🔵 SupervisableTextDataset: --subset train rows: \u001b[0m\u001b[1;36m400\u001b[0m\u001b[34m -> \u001b[0m\u001b[1;36m383\u001b[0m\u001b[34m.\u001b[0m\n"
      ]
     },
     "metadata": {},
     "output_type": "display_data"
    },
    {
     "data": {
      "text/html": [
       "<pre style=\"white-space:pre;overflow-x:auto;line-height:normal;font-family:Menlo,'DejaVu Sans Mono',consolas,'Courier New',monospace\"><span style=\"color: #000080; text-decoration-color: #000080\">🔵 SupervisableTextDataset: --subset dev rows: </span><span style=\"color: #008080; text-decoration-color: #008080; font-weight: bold\">100</span><span style=\"color: #000080; text-decoration-color: #000080\"> -&gt; </span><span style=\"color: #008080; text-decoration-color: #008080; font-weight: bold\">99</span><span style=\"color: #000080; text-decoration-color: #000080\">.</span>\n",
       "</pre>\n"
      ],
      "text/plain": [
       "\u001b[34m🔵 SupervisableTextDataset: --subset dev rows: \u001b[0m\u001b[1;36m100\u001b[0m\u001b[34m -> \u001b[0m\u001b[1;36m99\u001b[0m\u001b[34m.\u001b[0m\n"
      ]
     },
     "metadata": {},
     "output_type": "display_data"
    },
    {
     "data": {
      "text/html": [
       "<pre style=\"white-space:pre;overflow-x:auto;line-height:normal;font-family:Menlo,'DejaVu Sans Mono',consolas,'Courier New',monospace\"><span style=\"color: #000080; text-decoration-color: #000080\">🔵 SupervisableTextDataset: --subset test rows: </span><span style=\"color: #008080; text-decoration-color: #008080; font-weight: bold\">100</span><span style=\"color: #000080; text-decoration-color: #000080\"> -&gt; </span><span style=\"color: #008080; text-decoration-color: #008080; font-weight: bold\">98</span><span style=\"color: #000080; text-decoration-color: #000080\">.</span>\n",
       "</pre>\n"
      ],
      "text/plain": [
       "\u001b[34m🔵 SupervisableTextDataset: --subset test rows: \u001b[0m\u001b[1;36m100\u001b[0m\u001b[34m -> \u001b[0m\u001b[1;36m98\u001b[0m\u001b[34m.\u001b[0m\n"
      ]
     },
     "metadata": {},
     "output_type": "display_data"
    },
    {
     "data": {
      "text/html": [
       "<pre style=\"white-space:pre;overflow-x:auto;line-height:normal;font-family:Menlo,'DejaVu Sans Mono',consolas,'Courier New',monospace\"><span style=\"color: #008000; text-decoration-color: #008000\">🟢 SupervisableTextDataset: Set up label encoder/decoder with </span><span style=\"color: #008080; text-decoration-color: #008080; font-weight: bold\">20</span><span style=\"color: #008000; text-decoration-color: #008000\"> classes.</span>\n",
       "</pre>\n"
      ],
      "text/plain": [
       "\u001b[32m🟢 SupervisableTextDataset: Set up label encoder/decoder with \u001b[0m\u001b[1;36m20\u001b[0m\u001b[32m classes.\u001b[0m\n"
      ]
     },
     "metadata": {},
     "output_type": "display_data"
    },
    {
     "data": {
      "text/html": [
       "<pre style=\"white-space:pre;overflow-x:auto;line-height:normal;font-family:Menlo,'DejaVu Sans Mono',consolas,'Courier New',monospace\"><span style=\"color: #008000; text-decoration-color: #008000\">🟢 SupervisableTextDataset: Population updater: latest population with </span><span style=\"color: #008080; text-decoration-color: #008080; font-weight: bold\">20</span><span style=\"color: #008000; text-decoration-color: #008000\"> classes.</span>\n",
       "</pre>\n"
      ],
      "text/plain": [
       "\u001b[32m🟢 SupervisableTextDataset: Population updater: latest population with \u001b[0m\u001b[1;36m20\u001b[0m\u001b[32m classes.\u001b[0m\n"
      ]
     },
     "metadata": {},
     "output_type": "display_data"
    },
    {
     "data": {
      "text/html": [
       "<pre style=\"white-space:pre;overflow-x:auto;line-height:normal;font-family:Menlo,'DejaVu Sans Mono',consolas,'Courier New',monospace\"><span style=\"color: #000080; text-decoration-color: #000080\">🔵 SupervisableTextDataset: finished setting up bokeh elements.</span>\n",
       "</pre>\n"
      ],
      "text/plain": [
       "\u001b[34m🔵 SupervisableTextDataset: finished setting up bokeh elements.\u001b[0m\n"
      ]
     },
     "metadata": {},
     "output_type": "display_data"
    },
    {
     "data": {
      "text/html": [
       "<pre style=\"white-space:pre;overflow-x:auto;line-height:normal;font-family:Menlo,'DejaVu Sans Mono',consolas,'Courier New',monospace\"><span style=\"color: #008000; text-decoration-color: #008000\">🟢 SupervisableTextDataset: finished initialization.</span>\n",
       "</pre>\n"
      ],
      "text/plain": [
       "\u001b[32m🟢 SupervisableTextDataset: finished initialization.\u001b[0m\n"
      ]
     },
     "metadata": {},
     "output_type": "display_data"
    }
   ],
   "source": [
    "from hover.core.dataset import SupervisableTextDataset\n",
    "import pandas as pd\n",
    "\n",
    "raw_csv_path = \"https://raw.githubusercontent.com/phurwicz/hover-gallery/main/0.5.0/20_newsgroups_raw.csv\"\n",
    "train_csv_path = \"https://raw.githubusercontent.com/phurwicz/hover-gallery/main/0.5.0/20_newsgroups_train.csv\"\n",
    "\n",
    "# for fast, low-memory demonstration purpose, sample the data\n",
    "df_raw = pd.read_csv(raw_csv_path).sample(400)\n",
    "df_raw[\"SUBSET\"] = \"raw\"\n",
    "df_train = pd.read_csv(train_csv_path).sample(400)\n",
    "df_train[\"SUBSET\"] = \"train\"\n",
    "df_dev = pd.read_csv(train_csv_path).sample(100)\n",
    "df_dev[\"SUBSET\"] = \"dev\"\n",
    "df_test = pd.read_csv(train_csv_path).sample(100)\n",
    "df_test[\"SUBSET\"] = \"test\"\n",
    "\n",
    "# build overall dataframe and ensure feature type\n",
    "df = pd.concat([df_raw, df_train, df_dev, df_test])\n",
    "df[\"text\"] = df[\"text\"].astype(str)\n",
    "\n",
    "# this class stores the dataset throught the labeling process\n",
    "dataset = SupervisableTextDataset.from_pandas(df, feature_key=\"text\", label_key=\"label\")"
   ]
  },
  {
   "cell_type": "markdown",
   "id": "6c99b19d",
   "metadata": {},
   "source": [
    "<br>"
   ]
  },
  {
   "cell_type": "code",
   "execution_count": 2,
   "id": "d62aa110",
   "metadata": {
    "execution": {
     "iopub.execute_input": "2024-03-26T01:20:40.901197Z",
     "iopub.status.busy": "2024-03-26T01:20:40.900967Z",
     "iopub.status.idle": "2024-03-26T01:20:40.956269Z",
     "shell.execute_reply": "2024-03-26T01:20:40.955692Z"
    }
   },
   "outputs": [
    {
     "data": {
      "text/html": [
       "    <style>\n",
       "        .bk-notebook-logo {\n",
       "            display: block;\n",
       "            width: 20px;\n",
       "            height: 20px;\n",
       "            background-image: url(data:image/png;base64,iVBORw0KGgoAAAANSUhEUgAAABQAAAAUCAYAAACNiR0NAAAABHNCSVQICAgIfAhkiAAAAAlwSFlzAAALEgAACxIB0t1+/AAAABx0RVh0U29mdHdhcmUAQWRvYmUgRmlyZXdvcmtzIENTNui8sowAAAOkSURBVDiNjZRtaJVlGMd/1/08zzln5zjP1LWcU9N0NkN8m2CYjpgQYQXqSs0I84OLIC0hkEKoPtiH3gmKoiJDU7QpLgoLjLIQCpEsNJ1vqUOdO7ppbuec5+V+rj4ctwzd8IIbbi6u+8f1539dt3A78eXC7QizUF7gyV1fD1Yqg4JWz84yffhm0qkFqBogB9rM8tZdtwVsPUhWhGcFJngGeWrPzHm5oaMmkfEg1usvLFyc8jLRqDOMru7AyC8saQr7GG7f5fvDeH7Ej8CM66nIF+8yngt6HWaKh7k49Soy9nXurCi1o3qUbS3zWfrYeQDTB/Qj6kX6Ybhw4B+bOYoLKCC9H3Nu/leUTZ1JdRWkkn2ldcCamzrcf47KKXdAJllSlxAOkRgyHsGC/zRday5Qld9DyoM4/q/rUoy/CXh3jzOu3bHUVZeU+DEn8FInkPBFlu3+nW3Nw0mk6vCDiWg8CeJaxEwuHS3+z5RgY+YBR6V1Z1nxSOfoaPa4LASWxxdNp+VWTk7+4vzaou8v8PN+xo+KY2xsw6une2frhw05CTYOmQvsEhjhWjn0bmXPjpE1+kplmmkP3suftwTubK9Vq22qKmrBhpY4jvd5afdRA3wGjFAgcnTK2s4hY0/GPNIb0nErGMCRxWOOX64Z8RAC4oCXdklmEvcL8o0BfkNK4lUg9HTl+oPlQxdNo3Mg4Nv175e/1LDGzZen30MEjRUtmXSfiTVu1kK8W4txyV6BMKlbgk3lMwYCiusNy9fVfvvwMxv8Ynl6vxoByANLTWplvuj/nF9m2+PDtt1eiHPBr1oIfhCChQMBw6Aw0UulqTKZdfVvfG7VcfIqLG9bcldL/+pdWTLxLUy8Qq38heUIjh4XlzZxzQm19lLFlr8vdQ97rjZVOLf8nclzckbcD4wxXMidpX30sFd37Fv/GtwwhzhxGVAprjbg0gCAEeIgwCZyTV2Z1REEW8O4py0wsjeloKoMr6iCY6dP92H6Vw/oTyICIthibxjm/DfN9lVz8IqtqKYLUXfoKVMVQVVJOElGjrnnUt9T9wbgp8AyYKaGlqingHZU/uG2NTZSVqwHQTWkx9hxjkpWDaCg6Ckj5qebgBVbT3V3NNXMSiWSDdGV3hrtzla7J+duwPOToIg42ChPQOQjspnSlp1V+Gjdged7+8UN5CRAV7a5EdFNwCjEaBR27b3W890TE7g24NAP/mMDXRWrGoFPQI9ls/MWO2dWFAar/xcOIImbbpA3zgAAAABJRU5ErkJggg==);\n",
       "        }\n",
       "    </style>\n",
       "    <div>\n",
       "        <a href=\"https://bokeh.org\" target=\"_blank\" class=\"bk-notebook-logo\"></a>\n",
       "        <span id=\"fc746882-8aca-49c3-b837-2405b7f5763d\">Loading BokehJS ...</span>\n",
       "    </div>\n"
      ]
     },
     "metadata": {},
     "output_type": "display_data"
    },
    {
     "data": {
      "application/javascript": [
       "'use strict';\n",
       "(function(root) {\n",
       "  function now() {\n",
       "    return new Date();\n",
       "  }\n",
       "\n",
       "  const force = true;\n",
       "\n",
       "  if (typeof root._bokeh_onload_callbacks === \"undefined\" || force === true) {\n",
       "    root._bokeh_onload_callbacks = [];\n",
       "    root._bokeh_is_loading = undefined;\n",
       "  }\n",
       "\n",
       "const JS_MIME_TYPE = 'application/javascript';\n",
       "  const HTML_MIME_TYPE = 'text/html';\n",
       "  const EXEC_MIME_TYPE = 'application/vnd.bokehjs_exec.v0+json';\n",
       "  const CLASS_NAME = 'output_bokeh rendered_html';\n",
       "\n",
       "  /**\n",
       "   * Render data to the DOM node\n",
       "   */\n",
       "  function render(props, node) {\n",
       "    const script = document.createElement(\"script\");\n",
       "    node.appendChild(script);\n",
       "  }\n",
       "\n",
       "  /**\n",
       "   * Handle when an output is cleared or removed\n",
       "   */\n",
       "  function handleClearOutput(event, handle) {\n",
       "    function drop(id) {\n",
       "      const view = Bokeh.index.get_by_id(id)\n",
       "      if (view != null) {\n",
       "        view.model.document.clear()\n",
       "        Bokeh.index.delete(view)\n",
       "      }\n",
       "    }\n",
       "\n",
       "    const cell = handle.cell;\n",
       "\n",
       "    const id = cell.output_area._bokeh_element_id;\n",
       "    const server_id = cell.output_area._bokeh_server_id;\n",
       "\n",
       "    // Clean up Bokeh references\n",
       "    if (id != null) {\n",
       "      drop(id)\n",
       "    }\n",
       "\n",
       "    if (server_id !== undefined) {\n",
       "      // Clean up Bokeh references\n",
       "      const cmd_clean = \"from bokeh.io.state import curstate; print(curstate().uuid_to_server['\" + server_id + \"'].get_sessions()[0].document.roots[0]._id)\";\n",
       "      cell.notebook.kernel.execute(cmd_clean, {\n",
       "        iopub: {\n",
       "          output: function(msg) {\n",
       "            const id = msg.content.text.trim()\n",
       "            drop(id)\n",
       "          }\n",
       "        }\n",
       "      });\n",
       "      // Destroy server and session\n",
       "      const cmd_destroy = \"import bokeh.io.notebook as ion; ion.destroy_server('\" + server_id + \"')\";\n",
       "      cell.notebook.kernel.execute(cmd_destroy);\n",
       "    }\n",
       "  }\n",
       "\n",
       "  /**\n",
       "   * Handle when a new output is added\n",
       "   */\n",
       "  function handleAddOutput(event, handle) {\n",
       "    const output_area = handle.output_area;\n",
       "    const output = handle.output;\n",
       "\n",
       "    // limit handleAddOutput to display_data with EXEC_MIME_TYPE content only\n",
       "    if ((output.output_type != \"display_data\") || (!Object.prototype.hasOwnProperty.call(output.data, EXEC_MIME_TYPE))) {\n",
       "      return\n",
       "    }\n",
       "\n",
       "    const toinsert = output_area.element.find(\".\" + CLASS_NAME.split(' ')[0]);\n",
       "\n",
       "    if (output.metadata[EXEC_MIME_TYPE][\"id\"] !== undefined) {\n",
       "      toinsert[toinsert.length - 1].firstChild.textContent = output.data[JS_MIME_TYPE];\n",
       "      // store reference to embed id on output_area\n",
       "      output_area._bokeh_element_id = output.metadata[EXEC_MIME_TYPE][\"id\"];\n",
       "    }\n",
       "    if (output.metadata[EXEC_MIME_TYPE][\"server_id\"] !== undefined) {\n",
       "      const bk_div = document.createElement(\"div\");\n",
       "      bk_div.innerHTML = output.data[HTML_MIME_TYPE];\n",
       "      const script_attrs = bk_div.children[0].attributes;\n",
       "      for (let i = 0; i < script_attrs.length; i++) {\n",
       "        toinsert[toinsert.length - 1].firstChild.setAttribute(script_attrs[i].name, script_attrs[i].value);\n",
       "        toinsert[toinsert.length - 1].firstChild.textContent = bk_div.children[0].textContent\n",
       "      }\n",
       "      // store reference to server id on output_area\n",
       "      output_area._bokeh_server_id = output.metadata[EXEC_MIME_TYPE][\"server_id\"];\n",
       "    }\n",
       "  }\n",
       "\n",
       "  function register_renderer(events, OutputArea) {\n",
       "\n",
       "    function append_mime(data, metadata, element) {\n",
       "      // create a DOM node to render to\n",
       "      const toinsert = this.create_output_subarea(\n",
       "        metadata,\n",
       "        CLASS_NAME,\n",
       "        EXEC_MIME_TYPE\n",
       "      );\n",
       "      this.keyboard_manager.register_events(toinsert);\n",
       "      // Render to node\n",
       "      const props = {data: data, metadata: metadata[EXEC_MIME_TYPE]};\n",
       "      render(props, toinsert[toinsert.length - 1]);\n",
       "      element.append(toinsert);\n",
       "      return toinsert\n",
       "    }\n",
       "\n",
       "    /* Handle when an output is cleared or removed */\n",
       "    events.on('clear_output.CodeCell', handleClearOutput);\n",
       "    events.on('delete.Cell', handleClearOutput);\n",
       "\n",
       "    /* Handle when a new output is added */\n",
       "    events.on('output_added.OutputArea', handleAddOutput);\n",
       "\n",
       "    /**\n",
       "     * Register the mime type and append_mime function with output_area\n",
       "     */\n",
       "    OutputArea.prototype.register_mime_type(EXEC_MIME_TYPE, append_mime, {\n",
       "      /* Is output safe? */\n",
       "      safe: true,\n",
       "      /* Index of renderer in `output_area.display_order` */\n",
       "      index: 0\n",
       "    });\n",
       "  }\n",
       "\n",
       "  // register the mime type if in Jupyter Notebook environment and previously unregistered\n",
       "  if (root.Jupyter !== undefined) {\n",
       "    const events = require('base/js/events');\n",
       "    const OutputArea = require('notebook/js/outputarea').OutputArea;\n",
       "\n",
       "    if (OutputArea.prototype.mime_types().indexOf(EXEC_MIME_TYPE) == -1) {\n",
       "      register_renderer(events, OutputArea);\n",
       "    }\n",
       "  }\n",
       "  if (typeof (root._bokeh_timeout) === \"undefined\" || force === true) {\n",
       "    root._bokeh_timeout = Date.now() + 5000;\n",
       "    root._bokeh_failed_load = false;\n",
       "  }\n",
       "\n",
       "  const NB_LOAD_WARNING = {'data': {'text/html':\n",
       "     \"<div style='background-color: #fdd'>\\n\"+\n",
       "     \"<p>\\n\"+\n",
       "     \"BokehJS does not appear to have successfully loaded. If loading BokehJS from CDN, this \\n\"+\n",
       "     \"may be due to a slow or bad network connection. Possible fixes:\\n\"+\n",
       "     \"</p>\\n\"+\n",
       "     \"<ul>\\n\"+\n",
       "     \"<li>re-rerun `output_notebook()` to attempt to load from CDN again, or</li>\\n\"+\n",
       "     \"<li>use INLINE resources instead, as so:</li>\\n\"+\n",
       "     \"</ul>\\n\"+\n",
       "     \"<code>\\n\"+\n",
       "     \"from bokeh.resources import INLINE\\n\"+\n",
       "     \"output_notebook(resources=INLINE)\\n\"+\n",
       "     \"</code>\\n\"+\n",
       "     \"</div>\"}};\n",
       "\n",
       "  function display_loaded(error = null) {\n",
       "    const el = document.getElementById(\"fc746882-8aca-49c3-b837-2405b7f5763d\");\n",
       "    if (el != null) {\n",
       "      const html = (() => {\n",
       "        if (typeof root.Bokeh === \"undefined\") {\n",
       "          if (error == null) {\n",
       "            return \"BokehJS is loading ...\";\n",
       "          } else {\n",
       "            return \"BokehJS failed to load.\";\n",
       "          }\n",
       "        } else {\n",
       "          const prefix = `BokehJS ${root.Bokeh.version}`;\n",
       "          if (error == null) {\n",
       "            return `${prefix} successfully loaded.`;\n",
       "          } else {\n",
       "            return `${prefix} <b>encountered errors</b> while loading and may not function as expected.`;\n",
       "          }\n",
       "        }\n",
       "      })();\n",
       "      el.innerHTML = html;\n",
       "\n",
       "      if (error != null) {\n",
       "        const wrapper = document.createElement(\"div\");\n",
       "        wrapper.style.overflow = \"auto\";\n",
       "        wrapper.style.height = \"5em\";\n",
       "        wrapper.style.resize = \"vertical\";\n",
       "        const content = document.createElement(\"div\");\n",
       "        content.style.fontFamily = \"monospace\";\n",
       "        content.style.whiteSpace = \"pre-wrap\";\n",
       "        content.style.backgroundColor = \"rgb(255, 221, 221)\";\n",
       "        content.textContent = error.stack ?? error.toString();\n",
       "        wrapper.append(content);\n",
       "        el.append(wrapper);\n",
       "      }\n",
       "    } else if (Date.now() < root._bokeh_timeout) {\n",
       "      setTimeout(() => display_loaded(error), 100);\n",
       "    }\n",
       "  }\n",
       "\n",
       "  function run_callbacks() {\n",
       "    try {\n",
       "      root._bokeh_onload_callbacks.forEach(function(callback) {\n",
       "        if (callback != null)\n",
       "          callback();\n",
       "      });\n",
       "    } finally {\n",
       "      delete root._bokeh_onload_callbacks\n",
       "    }\n",
       "    console.debug(\"Bokeh: all callbacks have finished\");\n",
       "  }\n",
       "\n",
       "  function load_libs(css_urls, js_urls, callback) {\n",
       "    if (css_urls == null) css_urls = [];\n",
       "    if (js_urls == null) js_urls = [];\n",
       "\n",
       "    root._bokeh_onload_callbacks.push(callback);\n",
       "    if (root._bokeh_is_loading > 0) {\n",
       "      console.debug(\"Bokeh: BokehJS is being loaded, scheduling callback at\", now());\n",
       "      return null;\n",
       "    }\n",
       "    if (js_urls == null || js_urls.length === 0) {\n",
       "      run_callbacks();\n",
       "      return null;\n",
       "    }\n",
       "    console.debug(\"Bokeh: BokehJS not loaded, scheduling load and callback at\", now());\n",
       "    root._bokeh_is_loading = css_urls.length + js_urls.length;\n",
       "\n",
       "    function on_load() {\n",
       "      root._bokeh_is_loading--;\n",
       "      if (root._bokeh_is_loading === 0) {\n",
       "        console.debug(\"Bokeh: all BokehJS libraries/stylesheets loaded\");\n",
       "        run_callbacks()\n",
       "      }\n",
       "    }\n",
       "\n",
       "    function on_error(url) {\n",
       "      console.error(\"failed to load \" + url);\n",
       "    }\n",
       "\n",
       "    for (let i = 0; i < css_urls.length; i++) {\n",
       "      const url = css_urls[i];\n",
       "      const element = document.createElement(\"link\");\n",
       "      element.onload = on_load;\n",
       "      element.onerror = on_error.bind(null, url);\n",
       "      element.rel = \"stylesheet\";\n",
       "      element.type = \"text/css\";\n",
       "      element.href = url;\n",
       "      console.debug(\"Bokeh: injecting link tag for BokehJS stylesheet: \", url);\n",
       "      document.body.appendChild(element);\n",
       "    }\n",
       "\n",
       "    for (let i = 0; i < js_urls.length; i++) {\n",
       "      const url = js_urls[i];\n",
       "      const element = document.createElement('script');\n",
       "      element.onload = on_load;\n",
       "      element.onerror = on_error.bind(null, url);\n",
       "      element.async = false;\n",
       "      element.src = url;\n",
       "      console.debug(\"Bokeh: injecting script tag for BokehJS library: \", url);\n",
       "      document.head.appendChild(element);\n",
       "    }\n",
       "  };\n",
       "\n",
       "  function inject_raw_css(css) {\n",
       "    const element = document.createElement(\"style\");\n",
       "    element.appendChild(document.createTextNode(css));\n",
       "    document.body.appendChild(element);\n",
       "  }\n",
       "\n",
       "  const js_urls = [\"https://cdn.bokeh.org/bokeh/release/bokeh-3.4.0.min.js\", \"https://cdn.bokeh.org/bokeh/release/bokeh-gl-3.4.0.min.js\", \"https://cdn.bokeh.org/bokeh/release/bokeh-widgets-3.4.0.min.js\", \"https://cdn.bokeh.org/bokeh/release/bokeh-tables-3.4.0.min.js\", \"https://cdn.bokeh.org/bokeh/release/bokeh-mathjax-3.4.0.min.js\"];\n",
       "  const css_urls = [];\n",
       "\n",
       "  const inline_js = [    function(Bokeh) {\n",
       "      Bokeh.set_log_level(\"info\");\n",
       "    },\n",
       "function(Bokeh) {\n",
       "    }\n",
       "  ];\n",
       "\n",
       "  function run_inline_js() {\n",
       "    if (root.Bokeh !== undefined || force === true) {\n",
       "      try {\n",
       "            for (let i = 0; i < inline_js.length; i++) {\n",
       "      inline_js[i].call(root, root.Bokeh);\n",
       "    }\n",
       "\n",
       "      } catch (error) {display_loaded(error);throw error;\n",
       "      }if (force === true) {\n",
       "        display_loaded();\n",
       "      }} else if (Date.now() < root._bokeh_timeout) {\n",
       "      setTimeout(run_inline_js, 100);\n",
       "    } else if (!root._bokeh_failed_load) {\n",
       "      console.log(\"Bokeh: BokehJS failed to load within specified timeout.\");\n",
       "      root._bokeh_failed_load = true;\n",
       "    } else if (force !== true) {\n",
       "      const cell = $(document.getElementById(\"fc746882-8aca-49c3-b837-2405b7f5763d\")).parents('.cell').data().cell;\n",
       "      cell.output_area.append_execute_result(NB_LOAD_WARNING)\n",
       "    }\n",
       "  }\n",
       "\n",
       "  if (root._bokeh_is_loading === 0) {\n",
       "    console.debug(\"Bokeh: BokehJS loaded, going straight to plotting\");\n",
       "    run_inline_js();\n",
       "  } else {\n",
       "    load_libs(css_urls, js_urls, function() {\n",
       "      console.debug(\"Bokeh: BokehJS plotting callback run at\", now());\n",
       "      run_inline_js();\n",
       "    });\n",
       "  }\n",
       "}(window));"
      ],
      "application/vnd.bokehjs_load.v0+json": "'use strict';\n(function(root) {\n  function now() {\n    return new Date();\n  }\n\n  const force = true;\n\n  if (typeof root._bokeh_onload_callbacks === \"undefined\" || force === true) {\n    root._bokeh_onload_callbacks = [];\n    root._bokeh_is_loading = undefined;\n  }\n\n\n  if (typeof (root._bokeh_timeout) === \"undefined\" || force === true) {\n    root._bokeh_timeout = Date.now() + 5000;\n    root._bokeh_failed_load = false;\n  }\n\n  const NB_LOAD_WARNING = {'data': {'text/html':\n     \"<div style='background-color: #fdd'>\\n\"+\n     \"<p>\\n\"+\n     \"BokehJS does not appear to have successfully loaded. If loading BokehJS from CDN, this \\n\"+\n     \"may be due to a slow or bad network connection. Possible fixes:\\n\"+\n     \"</p>\\n\"+\n     \"<ul>\\n\"+\n     \"<li>re-rerun `output_notebook()` to attempt to load from CDN again, or</li>\\n\"+\n     \"<li>use INLINE resources instead, as so:</li>\\n\"+\n     \"</ul>\\n\"+\n     \"<code>\\n\"+\n     \"from bokeh.resources import INLINE\\n\"+\n     \"output_notebook(resources=INLINE)\\n\"+\n     \"</code>\\n\"+\n     \"</div>\"}};\n\n  function display_loaded(error = null) {\n    const el = document.getElementById(\"fc746882-8aca-49c3-b837-2405b7f5763d\");\n    if (el != null) {\n      const html = (() => {\n        if (typeof root.Bokeh === \"undefined\") {\n          if (error == null) {\n            return \"BokehJS is loading ...\";\n          } else {\n            return \"BokehJS failed to load.\";\n          }\n        } else {\n          const prefix = `BokehJS ${root.Bokeh.version}`;\n          if (error == null) {\n            return `${prefix} successfully loaded.`;\n          } else {\n            return `${prefix} <b>encountered errors</b> while loading and may not function as expected.`;\n          }\n        }\n      })();\n      el.innerHTML = html;\n\n      if (error != null) {\n        const wrapper = document.createElement(\"div\");\n        wrapper.style.overflow = \"auto\";\n        wrapper.style.height = \"5em\";\n        wrapper.style.resize = \"vertical\";\n        const content = document.createElement(\"div\");\n        content.style.fontFamily = \"monospace\";\n        content.style.whiteSpace = \"pre-wrap\";\n        content.style.backgroundColor = \"rgb(255, 221, 221)\";\n        content.textContent = error.stack ?? error.toString();\n        wrapper.append(content);\n        el.append(wrapper);\n      }\n    } else if (Date.now() < root._bokeh_timeout) {\n      setTimeout(() => display_loaded(error), 100);\n    }\n  }\n\n  function run_callbacks() {\n    try {\n      root._bokeh_onload_callbacks.forEach(function(callback) {\n        if (callback != null)\n          callback();\n      });\n    } finally {\n      delete root._bokeh_onload_callbacks\n    }\n    console.debug(\"Bokeh: all callbacks have finished\");\n  }\n\n  function load_libs(css_urls, js_urls, callback) {\n    if (css_urls == null) css_urls = [];\n    if (js_urls == null) js_urls = [];\n\n    root._bokeh_onload_callbacks.push(callback);\n    if (root._bokeh_is_loading > 0) {\n      console.debug(\"Bokeh: BokehJS is being loaded, scheduling callback at\", now());\n      return null;\n    }\n    if (js_urls == null || js_urls.length === 0) {\n      run_callbacks();\n      return null;\n    }\n    console.debug(\"Bokeh: BokehJS not loaded, scheduling load and callback at\", now());\n    root._bokeh_is_loading = css_urls.length + js_urls.length;\n\n    function on_load() {\n      root._bokeh_is_loading--;\n      if (root._bokeh_is_loading === 0) {\n        console.debug(\"Bokeh: all BokehJS libraries/stylesheets loaded\");\n        run_callbacks()\n      }\n    }\n\n    function on_error(url) {\n      console.error(\"failed to load \" + url);\n    }\n\n    for (let i = 0; i < css_urls.length; i++) {\n      const url = css_urls[i];\n      const element = document.createElement(\"link\");\n      element.onload = on_load;\n      element.onerror = on_error.bind(null, url);\n      element.rel = \"stylesheet\";\n      element.type = \"text/css\";\n      element.href = url;\n      console.debug(\"Bokeh: injecting link tag for BokehJS stylesheet: \", url);\n      document.body.appendChild(element);\n    }\n\n    for (let i = 0; i < js_urls.length; i++) {\n      const url = js_urls[i];\n      const element = document.createElement('script');\n      element.onload = on_load;\n      element.onerror = on_error.bind(null, url);\n      element.async = false;\n      element.src = url;\n      console.debug(\"Bokeh: injecting script tag for BokehJS library: \", url);\n      document.head.appendChild(element);\n    }\n  };\n\n  function inject_raw_css(css) {\n    const element = document.createElement(\"style\");\n    element.appendChild(document.createTextNode(css));\n    document.body.appendChild(element);\n  }\n\n  const js_urls = [\"https://cdn.bokeh.org/bokeh/release/bokeh-3.4.0.min.js\", \"https://cdn.bokeh.org/bokeh/release/bokeh-gl-3.4.0.min.js\", \"https://cdn.bokeh.org/bokeh/release/bokeh-widgets-3.4.0.min.js\", \"https://cdn.bokeh.org/bokeh/release/bokeh-tables-3.4.0.min.js\", \"https://cdn.bokeh.org/bokeh/release/bokeh-mathjax-3.4.0.min.js\"];\n  const css_urls = [];\n\n  const inline_js = [    function(Bokeh) {\n      Bokeh.set_log_level(\"info\");\n    },\nfunction(Bokeh) {\n    }\n  ];\n\n  function run_inline_js() {\n    if (root.Bokeh !== undefined || force === true) {\n      try {\n            for (let i = 0; i < inline_js.length; i++) {\n      inline_js[i].call(root, root.Bokeh);\n    }\n\n      } catch (error) {display_loaded(error);throw error;\n      }if (force === true) {\n        display_loaded();\n      }} else if (Date.now() < root._bokeh_timeout) {\n      setTimeout(run_inline_js, 100);\n    } else if (!root._bokeh_failed_load) {\n      console.log(\"Bokeh: BokehJS failed to load within specified timeout.\");\n      root._bokeh_failed_load = true;\n    } else if (force !== true) {\n      const cell = $(document.getElementById(\"fc746882-8aca-49c3-b837-2405b7f5763d\")).parents('.cell').data().cell;\n      cell.output_area.append_execute_result(NB_LOAD_WARNING)\n    }\n  }\n\n  if (root._bokeh_is_loading === 0) {\n    console.debug(\"Bokeh: BokehJS loaded, going straight to plotting\");\n    run_inline_js();\n  } else {\n    load_libs(css_urls, js_urls, function() {\n      console.debug(\"Bokeh: BokehJS plotting callback run at\", now());\n      run_inline_js();\n    });\n  }\n}(window));"
     },
     "metadata": {},
     "output_type": "display_data"
    },
    {
     "data": {
      "text/html": [
       "\n",
       "  <div id=\"e8273d7a-c9da-4823-bc7f-df116aea16c9\" data-root-id=\"p1032\" style=\"display: contents;\"></div>\n"
      ]
     },
     "metadata": {},
     "output_type": "display_data"
    },
    {
     "data": {
      "application/javascript": [
       "(function(root) {\n",
       "  function embed_document(root) {\n",
       "  const docs_json = {\"8369e9a4-43d3-4826-8eea-53d1b9be3c2a\":{\"version\":\"3.4.0\",\"title\":\"Bokeh Application\",\"roots\":[{\"type\":\"object\",\"name\":\"DataTable\",\"id\":\"p1032\",\"attributes\":{\"source\":{\"type\":\"object\",\"name\":\"ColumnDataSource\",\"id\":\"p1010\",\"attributes\":{\"selected\":{\"type\":\"object\",\"name\":\"Selection\",\"id\":\"p1011\",\"attributes\":{\"indices\":[],\"line_indices\":[]}},\"selection_policy\":{\"type\":\"object\",\"name\":\"UnionRenderers\",\"id\":\"p1012\"},\"data\":{\"type\":\"map\",\"entries\":[[\"color\",[\"#dcdcdc\",\"#3c3285\",\"#4353c2\",\"#4673eb\",\"#4291fe\",\"#2fb1f3\",\"#1ccdd7\",\"#19e3b8\",\"#32f197\",\"#61fc6c\",\"#8efe48\",\"#b1f836\",\"#cfea34\",\"#ead339\",\"#f9ba38\",\"#fe9b2d\",\"#f9771e\",\"#ec520e\",\"#d93806\",\"#c02302\",\"#a01101\"]],[\"label\",[\"ABSTAIN\",\"alt.atheism\",\"comp.graphics\",\"comp.os.ms-windows.misc\",\"comp.sys.ibm.pc.hardware\",\"comp.sys.mac.hardware\",\"comp.windows.x\",\"misc.forsale\",\"rec.autos\",\"rec.motorcycles\",\"rec.sport.baseball\",\"rec.sport.hockey\",\"sci.crypt\",\"sci.electronics\",\"sci.med\",\"sci.space\",\"soc.religion.christian\",\"talk.politics.guns\",\"talk.politics.mideast\",\"talk.politics.misc\",\"talk.religion.misc\"]],[\"count_raw\",[366,0,0,0,0,0,0,0,0,0,0,0,0,0,0,0,0,0,0,0,0]],[\"count_train\",[0,8,13,21,20,20,34,25,19,23,17,20,24,13,20,25,18,14,19,16,14]],[\"count_dev\",[0,4,7,3,10,2,7,3,6,5,4,2,8,10,4,3,5,3,3,5,5]],[\"count_test\",[0,3,2,4,3,5,9,6,10,6,5,6,7,7,5,3,5,5,2,2,3]]]}}},\"view\":{\"type\":\"object\",\"name\":\"CDSView\",\"id\":\"p1036\",\"attributes\":{\"filter\":{\"type\":\"object\",\"name\":\"AllIndices\",\"id\":\"p1037\"}}},\"columns\":[{\"type\":\"object\",\"name\":\"TableColumn\",\"id\":\"p1013\",\"attributes\":{\"field\":\"label\",\"title\":\"label\",\"formatter\":{\"type\":\"object\",\"name\":\"StringFormatter\",\"id\":\"p1014\"},\"editor\":{\"type\":\"object\",\"name\":\"StringEditor\",\"id\":\"p1015\"}}},{\"type\":\"object\",\"name\":\"TableColumn\",\"id\":\"p1016\",\"attributes\":{\"field\":\"count_raw\",\"title\":\"raw\",\"formatter\":{\"type\":\"object\",\"name\":\"StringFormatter\",\"id\":\"p1017\"},\"editor\":{\"type\":\"object\",\"name\":\"StringEditor\",\"id\":\"p1018\"}}},{\"type\":\"object\",\"name\":\"TableColumn\",\"id\":\"p1019\",\"attributes\":{\"field\":\"count_train\",\"title\":\"train\",\"formatter\":{\"type\":\"object\",\"name\":\"StringFormatter\",\"id\":\"p1020\"},\"editor\":{\"type\":\"object\",\"name\":\"StringEditor\",\"id\":\"p1021\"}}},{\"type\":\"object\",\"name\":\"TableColumn\",\"id\":\"p1022\",\"attributes\":{\"field\":\"count_dev\",\"title\":\"dev\",\"formatter\":{\"type\":\"object\",\"name\":\"StringFormatter\",\"id\":\"p1023\"},\"editor\":{\"type\":\"object\",\"name\":\"StringEditor\",\"id\":\"p1024\"}}},{\"type\":\"object\",\"name\":\"TableColumn\",\"id\":\"p1025\",\"attributes\":{\"field\":\"count_test\",\"title\":\"test\",\"formatter\":{\"type\":\"object\",\"name\":\"StringFormatter\",\"id\":\"p1026\"},\"editor\":{\"type\":\"object\",\"name\":\"StringEditor\",\"id\":\"p1027\"}}},{\"type\":\"object\",\"name\":\"TableColumn\",\"id\":\"p1029\",\"attributes\":{\"field\":\"color\",\"title\":\"color\",\"formatter\":{\"type\":\"object\",\"name\":\"HTMLTemplateFormatter\",\"id\":\"p1028\",\"attributes\":{\"template\":\"\\n<p style=\\\"color:<%= value %>;\\\">\\n    <%= \\\"&#9608;&#9608;&#9608;\\\" %>\\n</p>\\n\"}},\"editor\":{\"type\":\"object\",\"name\":\"StringEditor\",\"id\":\"p1031\"}}}]}}]}};\n",
       "  const render_items = [{\"docid\":\"8369e9a4-43d3-4826-8eea-53d1b9be3c2a\",\"roots\":{\"p1032\":\"e8273d7a-c9da-4823-bc7f-df116aea16c9\"},\"root_ids\":[\"p1032\"]}];\n",
       "  void root.Bokeh.embed.embed_items_notebook(docs_json, render_items);\n",
       "  }\n",
       "  if (root.Bokeh !== undefined) {\n",
       "    embed_document(root);\n",
       "  } else {\n",
       "    let attempts = 0;\n",
       "    const timer = setInterval(function(root) {\n",
       "      if (root.Bokeh !== undefined) {\n",
       "        clearInterval(timer);\n",
       "        embed_document(root);\n",
       "      } else {\n",
       "        attempts++;\n",
       "        if (attempts > 100) {\n",
       "          clearInterval(timer);\n",
       "          console.log(\"Bokeh: ERROR: Unable to run BokehJS code because BokehJS library is missing\");\n",
       "        }\n",
       "      }\n",
       "    }, 10, root)\n",
       "  }\n",
       "})(window);"
      ],
      "application/vnd.bokehjs_exec.v0+json": ""
     },
     "metadata": {
      "application/vnd.bokehjs_exec.v0+json": {
       "id": "p1032"
      }
     },
     "output_type": "display_data"
    }
   ],
   "source": [
    "from bokeh.io import show, output_notebook\n",
    "\n",
    "output_notebook()\n",
    "\n",
    "# normally your would skip notebook_url or use Jupyter address\n",
    "notebook_url = 'localhost:8888'\n",
    "\n",
    "show(dataset.pop_table, notebook_url=notebook_url)"
   ]
  },
  {
   "cell_type": "markdown",
   "id": "1c72e1b6",
   "metadata": {},
   "source": [
    "<br>\n",
    "\n",
    "### **Transfer Data Between Subsets**\n",
    "\n",
    "`COMMIT` and `DEDUP` are the mechanisms that `hover` uses to transfer data between subsets.\n",
    "\n",
    "-   `COMMIT` copies selected points (to be discussed later) to a destination subset\n",
    "    -   labeled-raw-only: `COMMIT` automatically detects which points are in the raw set with a valid label. Other points will not get copied.\n",
    "    -   keep-last: you can commit the same point to the same subset multiple times and the last copy will be kept. This can be useful for revising labels before `DEDUP`.\n",
    "-   `DEDUP` removes duplicates (identified by feature value) across subsets\n",
    "    -   priority rule: test > dev > train > raw, i.e. test set data always gets kept during deduplication\n",
    "\n",
    "-   <details open><summary>FAQ</summary>\n",
    "    <details open><summary>Why does COMMIT only work on the raw subset?</summary>\n",
    "        Most selections will happen through plots, where different subsets are on top of each other. This means selections can contain both unlabeled and labeled points.\n",
    "\n",
    "        Way too often we find ourselves trying to view both the labeled and the unlabeled, but only moving the unlabeled \"raw\" points. So it's handy that COMMIT picks those points only.\n",
    "    </details>\n",
    "\n",
    "</details>\n",
    "\n",
    "These mechanisms correspond to buttons in `hover`'s annotation interface, which you have encountered in the quickstart:"
   ]
  },
  {
   "cell_type": "code",
   "execution_count": 3,
   "id": "a50b16a9",
   "metadata": {
    "execution": {
     "iopub.execute_input": "2024-03-26T01:20:40.958608Z",
     "iopub.status.busy": "2024-03-26T01:20:40.958410Z",
     "iopub.status.idle": "2024-03-26T01:20:40.981689Z",
     "shell.execute_reply": "2024-03-26T01:20:40.981148Z"
    }
   },
   "outputs": [
    {
     "name": "stderr",
     "output_type": "stream",
     "text": [
      "WARNING:bokeh.embed.util:\n",
      "You are generating standalone HTML/JS output, but trying to use real Python\n",
      "callbacks (i.e. with on_change or on_event). This combination cannot work.\n",
      "\n",
      "Only JavaScript callbacks may be used with standalone output. For more\n",
      "information on JavaScript callbacks with Bokeh, see:\n",
      "\n",
      "    https://docs.bokeh.org/en/latest/docs/user_guide/interaction/js_callbacks.html\n",
      "\n",
      "Alternatively, to use real Python callbacks, a Bokeh server application may\n",
      "be used. For more information on building and running Bokeh applications, see:\n",
      "\n",
      "    https://docs.bokeh.org/en/latest/docs/user_guide/server.html\n",
      "\n"
     ]
    },
    {
     "data": {
      "text/html": [
       "\n",
       "  <div id=\"f0babc8f-da6a-48fe-bd71-1b6de328107b\" data-root-id=\"p1056\" style=\"display: contents;\"></div>\n"
      ]
     },
     "metadata": {},
     "output_type": "display_data"
    },
    {
     "data": {
      "application/javascript": [
       "(function(root) {\n",
       "  function embed_document(root) {\n",
       "  const docs_json = {\"854f7846-8f01-4cd3-b085-c48245d5acde\":{\"version\":\"3.4.0\",\"title\":\"Bokeh Application\",\"roots\":[{\"type\":\"object\",\"name\":\"Column\",\"id\":\"p1056\",\"attributes\":{\"children\":[{\"type\":\"object\",\"name\":\"Row\",\"id\":\"p1055\",\"attributes\":{\"children\":[{\"type\":\"object\",\"name\":\"Dropdown\",\"id\":\"p1002\",\"attributes\":{\"button_type\":\"warning\",\"subscribed_events\":{\"type\":\"set\",\"entries\":[\"button_click\",\"menu_item_click\"]},\"label\":\"Commit\",\"menu\":[\"train\",\"dev\",\"test\"]}},{\"type\":\"object\",\"name\":\"Button\",\"id\":\"p1003\",\"attributes\":{\"button_type\":\"warning\",\"subscribed_events\":{\"type\":\"set\",\"entries\":[\"button_click\"]},\"label\":\"Dedup\"}}]}},{\"type\":\"object\",\"name\":\"DataTable\",\"id\":\"p1032\",\"attributes\":{\"source\":{\"type\":\"object\",\"name\":\"ColumnDataSource\",\"id\":\"p1010\",\"attributes\":{\"selected\":{\"type\":\"object\",\"name\":\"Selection\",\"id\":\"p1011\",\"attributes\":{\"indices\":[],\"line_indices\":[]}},\"selection_policy\":{\"type\":\"object\",\"name\":\"UnionRenderers\",\"id\":\"p1012\"},\"data\":{\"type\":\"map\",\"entries\":[[\"color\",[\"#dcdcdc\",\"#3c3285\",\"#4353c2\",\"#4673eb\",\"#4291fe\",\"#2fb1f3\",\"#1ccdd7\",\"#19e3b8\",\"#32f197\",\"#61fc6c\",\"#8efe48\",\"#b1f836\",\"#cfea34\",\"#ead339\",\"#f9ba38\",\"#fe9b2d\",\"#f9771e\",\"#ec520e\",\"#d93806\",\"#c02302\",\"#a01101\"]],[\"label\",[\"ABSTAIN\",\"alt.atheism\",\"comp.graphics\",\"comp.os.ms-windows.misc\",\"comp.sys.ibm.pc.hardware\",\"comp.sys.mac.hardware\",\"comp.windows.x\",\"misc.forsale\",\"rec.autos\",\"rec.motorcycles\",\"rec.sport.baseball\",\"rec.sport.hockey\",\"sci.crypt\",\"sci.electronics\",\"sci.med\",\"sci.space\",\"soc.religion.christian\",\"talk.politics.guns\",\"talk.politics.mideast\",\"talk.politics.misc\",\"talk.religion.misc\"]],[\"count_raw\",[366,0,0,0,0,0,0,0,0,0,0,0,0,0,0,0,0,0,0,0,0]],[\"count_train\",[0,8,13,21,20,20,34,25,19,23,17,20,24,13,20,25,18,14,19,16,14]],[\"count_dev\",[0,4,7,3,10,2,7,3,6,5,4,2,8,10,4,3,5,3,3,5,5]],[\"count_test\",[0,3,2,4,3,5,9,6,10,6,5,6,7,7,5,3,5,5,2,2,3]]]}}},\"view\":{\"type\":\"object\",\"name\":\"CDSView\",\"id\":\"p1036\",\"attributes\":{\"filter\":{\"type\":\"object\",\"name\":\"AllIndices\",\"id\":\"p1037\"}}},\"columns\":[{\"type\":\"object\",\"name\":\"TableColumn\",\"id\":\"p1013\",\"attributes\":{\"field\":\"label\",\"title\":\"label\",\"formatter\":{\"type\":\"object\",\"name\":\"StringFormatter\",\"id\":\"p1014\"},\"editor\":{\"type\":\"object\",\"name\":\"StringEditor\",\"id\":\"p1015\"}}},{\"type\":\"object\",\"name\":\"TableColumn\",\"id\":\"p1016\",\"attributes\":{\"field\":\"count_raw\",\"title\":\"raw\",\"formatter\":{\"type\":\"object\",\"name\":\"StringFormatter\",\"id\":\"p1017\"},\"editor\":{\"type\":\"object\",\"name\":\"StringEditor\",\"id\":\"p1018\"}}},{\"type\":\"object\",\"name\":\"TableColumn\",\"id\":\"p1019\",\"attributes\":{\"field\":\"count_train\",\"title\":\"train\",\"formatter\":{\"type\":\"object\",\"name\":\"StringFormatter\",\"id\":\"p1020\"},\"editor\":{\"type\":\"object\",\"name\":\"StringEditor\",\"id\":\"p1021\"}}},{\"type\":\"object\",\"name\":\"TableColumn\",\"id\":\"p1022\",\"attributes\":{\"field\":\"count_dev\",\"title\":\"dev\",\"formatter\":{\"type\":\"object\",\"name\":\"StringFormatter\",\"id\":\"p1023\"},\"editor\":{\"type\":\"object\",\"name\":\"StringEditor\",\"id\":\"p1024\"}}},{\"type\":\"object\",\"name\":\"TableColumn\",\"id\":\"p1025\",\"attributes\":{\"field\":\"count_test\",\"title\":\"test\",\"formatter\":{\"type\":\"object\",\"name\":\"StringFormatter\",\"id\":\"p1026\"},\"editor\":{\"type\":\"object\",\"name\":\"StringEditor\",\"id\":\"p1027\"}}},{\"type\":\"object\",\"name\":\"TableColumn\",\"id\":\"p1029\",\"attributes\":{\"field\":\"color\",\"title\":\"color\",\"formatter\":{\"type\":\"object\",\"name\":\"HTMLTemplateFormatter\",\"id\":\"p1028\",\"attributes\":{\"template\":\"\\n<p style=\\\"color:<%= value %>;\\\">\\n    <%= \\\"&#9608;&#9608;&#9608;\\\" %>\\n</p>\\n\"}},\"editor\":{\"type\":\"object\",\"name\":\"StringEditor\",\"id\":\"p1031\"}}}]}}]}}]}};\n",
       "  const render_items = [{\"docid\":\"854f7846-8f01-4cd3-b085-c48245d5acde\",\"roots\":{\"p1056\":\"f0babc8f-da6a-48fe-bd71-1b6de328107b\"},\"root_ids\":[\"p1056\"]}];\n",
       "  void root.Bokeh.embed.embed_items_notebook(docs_json, render_items);\n",
       "  }\n",
       "  if (root.Bokeh !== undefined) {\n",
       "    embed_document(root);\n",
       "  } else {\n",
       "    let attempts = 0;\n",
       "    const timer = setInterval(function(root) {\n",
       "      if (root.Bokeh !== undefined) {\n",
       "        clearInterval(timer);\n",
       "        embed_document(root);\n",
       "      } else {\n",
       "        attempts++;\n",
       "        if (attempts > 100) {\n",
       "          clearInterval(timer);\n",
       "          console.log(\"Bokeh: ERROR: Unable to run BokehJS code because BokehJS library is missing\");\n",
       "        }\n",
       "      }\n",
       "    }, 10, root)\n",
       "  }\n",
       "})(window);"
      ],
      "application/vnd.bokehjs_exec.v0+json": ""
     },
     "metadata": {
      "application/vnd.bokehjs_exec.v0+json": {
       "id": "p1056"
      }
     },
     "output_type": "display_data"
    }
   ],
   "source": [
    "from bokeh.layouts import row, column\n",
    "\n",
    "show(column(\n",
    "    row(\n",
    "        dataset.data_committer,\n",
    "        dataset.dedup_trigger,\n",
    "    ),\n",
    "    dataset.pop_table,\n",
    "), notebook_url=notebook_url)"
   ]
  },
  {
   "cell_type": "markdown",
   "id": "3b01ef28",
   "metadata": {},
   "source": [
    "<br>\n",
    "\n",
    "Of course, so far we have nothing to move, because there's no data selected. We shall now discuss selections.\n",
    "\n",
    "## **Selection**\n",
    "\n",
    "`hover` labels data points in bulk, which requires selecting groups of homogeneous data, i.e. semantically similar or going to have the same label. Being able to skim through what you selected gives you confidence about homogeneity.\n",
    "\n",
    "Normally, selection happens through a plot (`explorer`), as we have seen in the quickstart. For the purpose here, we will \"cheat\" and assign the selection programmatically:"
   ]
  },
  {
   "cell_type": "code",
   "execution_count": 4,
   "id": "1475ca73",
   "metadata": {
    "execution": {
     "iopub.execute_input": "2024-03-26T01:20:40.984069Z",
     "iopub.status.busy": "2024-03-26T01:20:40.983874Z",
     "iopub.status.idle": "2024-03-26T01:20:41.000022Z",
     "shell.execute_reply": "2024-03-26T01:20:40.999492Z"
    }
   },
   "outputs": [
    {
     "data": {
      "text/html": [
       "<pre style=\"white-space:pre;overflow-x:auto;line-height:normal;font-family:Menlo,'DejaVu Sans Mono',consolas,'Courier New',monospace\"><span style=\"color: #008000; text-decoration-color: #008000\">🟢 SupervisableTextDataset: Selection table: latest selection with </span><span style=\"color: #008080; text-decoration-color: #008080; font-weight: bold\">10</span><span style=\"color: #008000; text-decoration-color: #008000\"> entries.</span>\n",
       "</pre>\n"
      ],
      "text/plain": [
       "\u001b[32m🟢 SupervisableTextDataset: Selection table: latest selection with \u001b[0m\u001b[1;36m10\u001b[0m\u001b[32m entries.\u001b[0m\n"
      ]
     },
     "metadata": {},
     "output_type": "display_data"
    },
    {
     "data": {
      "text/html": [
       "\n",
       "  <div id=\"fe3412cf-b6cc-4206-9c10-2943af66b9e7\" data-root-id=\"p1049\" style=\"display: contents;\"></div>\n"
      ]
     },
     "metadata": {},
     "output_type": "display_data"
    },
    {
     "data": {
      "application/javascript": [
       "(function(root) {\n",
       "  function embed_document(root) {\n",
       "  const docs_json = {\"6ec8a1af-5d22-4920-be6d-47d7cccc3c13\":{\"version\":\"3.4.0\",\"title\":\"Bokeh Application\",\"roots\":[{\"type\":\"object\",\"name\":\"DataTable\",\"id\":\"p1049\",\"attributes\":{\"source\":{\"type\":\"object\",\"name\":\"ColumnDataSource\",\"id\":\"p1038\",\"attributes\":{\"selected\":{\"type\":\"object\",\"name\":\"Selection\",\"id\":\"p1039\",\"attributes\":{\"indices\":[],\"line_indices\":[]}},\"selection_policy\":{\"type\":\"object\",\"name\":\"UnionRenderers\",\"id\":\"p1040\"},\"data\":{\"type\":\"map\",\"entries\":[[\"text\",[\" No, do I have to?    I'm just commenting that it makes very little sense to consider everything we inherit to be the default.  Seen any steam trains recently?\",\"  Yeah I suppose you could do that.  But then you don't get the broken knuckles, the rust in your eyes, the oil bath, and the burns from the exhaust.  I mean come on!...\",\"      ah c'mon, give the guy three days and see what comes up.       LEO\",\"My wife and I looked at, and drove one last fall. This was a 1992 model. It was WAYYYYYYYYY underpowered. I could not imagine driving it in the mountains here in Colorado at anything approaching highway speeds. I have read that the new 1993 models have a newer, improved hp engine.   I'm quite serious that I laughed in the salesman face when he said \\\"once it's broken in it will feel more powerful\\\". I had been used to driving a Jeep 4.0L 190hp engine. I believe the 92's Land Cruisers (Land Yachts) were 3.0L, the sames as the 4Runner, which is also underpowered (in my own personal opinion).   They are big cars, very roomy, but nothing spectacular. \",\" [...deleted...]  Unfortunately, I think you've got it figured pretty well.  I also ask myself the question \\\"Why did they plan for so many months.  Why was this so important to them?  What was the government really up to? Why did they seal the warrant?  Were they after Koresh or were they after       the first and second amendments, among others? \",\"Here is the price list for the week April 6 to April 12.   - Andrew  Buy Sell Pts Team Player 157.5 141.8 150 PIT Mario_Lemieux 152.1 136.9 143 BUF Pat_LaFontaine 139.3 125.4 131 BOS Adam_Oates 133.8 120.4 129 DET Steve_Yzerman 132.9 119.6 125 WPG Teemu_Selanne 132.9 119.6 125 TOR Doug_Gilmour 130.9 117.8 120 NYI Pierre_Turgeon 129.7 116.7 122 BUF Alexander_Mogilny 126.0 113.4 117 PHI Mark_Recchi 120.2 108.2 113 LA Luc_Robitaille 115.9 104.3 109 QUE Mats_Sundin 111.3 100.2 106 PIT Kevin_Stevens 108.5 97.7 102 STL Craig_Janney 108.5 97.7 102 VAN Pavel_Bure 106.3 95.7 100 CHI Jeremy_Roenick 105.3 94.8 99 QUE Joe_Sakic 104.0 93.6 99 PIT Rick_Tocchet 103.1 92.8 97 STL Brett_Hull 102.1 91.9 96 BOS Joe_Juneau 102.1 91.9 96 TOR Dave_Andreychuk 101.9 91.7 97 PIT Ron_Francis 99.8 89.8 95 MTL Vincent_Damphousse 98.9 89.0 93 MIN Mike_Modano 98.9 89.0 93 WPG Phil_Housley 98.9 89.0 93 CGY Theoren_Fleury 97.8 88.0 92 BUF Dale_Hawerchuk 97.7 87.9 93 MTL Kirk_Muller 96.0 86.4 88 NYR Mark_Messier 94.6 85.1 89 STL Brendan_Shanahan 94.4 85.0 91 DET Dino_Ciccarelli 91.4 82.3 86 LA Jari_Kurri 91.4 82.3 87 PIT Jaromir_Jagr 90.3 81.3 86 MTL Brian_Bellows 88.3 79.5 82 WSH Peter_Bondra 87.3 78.6 80 HFD Geoff_Sanderson 87.2 78.5 82 CGY Robert_Reichel 87.2 78.5 82 QUE Steve_Duchesne 87.1 78.4 84 DET Paul_Coffey 86.1 77.5 83 DET Sergei_Fedorov 85.1 76.6 79 TB Brian_Bradley 85.1 76.6 79 PHI Rod_Brind'Amour 85.1 76.6 81 PIT Larry_Murphy 84.0 75.6 77 HFD Andrew_Cassels 84.0 75.6 77 HFD Pat_Verbeek 84.0 75.6 79 LA Tony_Granato 84.0 75.6 78 WSH Mike_Ridley 84.0 75.6 77 NYI Steve_Thomas 83.0 74.7 79 MTL Stephan_Lebeau 81.8 73.6 76 WSH Dale_Hunter 80.8 72.7 76 QUE Mike_Ricci 80.8 72.7 76 BOS Ray_Bourque 78.6 70.7 73 WSH Kevin_Hatcher 77.7 69.9 74 SJ Kelly_Kisio 77.6 69.8 73 VAN Cliff_Ronning 77.6 69.8 73 STL Jeff_Brown 77.6 69.8 73 TOR Nikolai_Borschevsky 76.6 68.9 72 NJ Claude_Lemieux 76.6 68.9 72 MIN Dave_Gagner 76.6 68.9 72 MIN Russ_Courtnall 76.4 68.8 70 NYR Tony_Amonte 75.5 68.0 71 VAN Murray_Craven 75.5 68.0 71 LA Jimmy_Carson 75.5 68.0 71 CGY Gary_Suter 75.5 68.0 71 MIN Ulf_Dahlen 74.4 67.0 70 VAN Geoff_Courtnall 74.4 67.0 70 BOS Dmitri_Kvartalnov 74.3 66.9 69 WSH Michal_Pivonka 74.2 66.8 68 NYI Derek_King 74.2 66.8 68 NYI Benoit_Hogue 73.4 66.1 69 QUE Owen_Nolan 73.4 66.1 69 CHI Steve_Larmer 73.4 66.1 69 NJ Alexander_Semak 73.1 65.8 67 NYR Mike_Gartner 72.3 65.1 68 STL Nelson_Emerson 72.3 65.1 68 CHI Chris_Chelios 72.2 65.0 67 PHI Eric_Lindros 71.1 64.0 66 WSH Al_Iafrate 70.2 63.2 66 VAN Trevor_Linden 70.2 63.2 66 LA Mike_Donnelly 70.0 63.0 65 WSH Dmitri_Khristich 69.3 62.4 66 PIT Joe_Mullen 69.1 62.2 65 CGY Joe_Nieuwendyk 69.1 62.2 65 NJ Stephane_Richer 68.1 61.3 64 WPG Alexei_Zhamnov 68.1 61.3 64 WPG Thomas_Steen 68.1 61.3 64 QUE Andrei_Kovalenko 68.1 61.3 64 VAN Petr_Nedved 66.5 59.9 61 NYR Adam_Graves 66.5 59.9 61 HFD Zarley_Zalapski 66.4 59.8 64 DET Ray_Sheppard 64.9 58.4 61 TOR Glenn_Anderson 64.1 57.7 61 SJ Johan_Garpenlov 63.8 57.4 60 OTT Norm_Maciver 63.0 56.7 60 MTL Mike_Keane 63.0 56.7 60 PIT Shawn_McEachern 62.7 56.4 59 LA Rob_Blake 62.7 56.4 59 LA Wayne_Gretzky 62.5 56.3 58 PHI Garry_Galley 62.5 56.3 58 PHI Brent_Fedyk 61.1 55.0 56 NYI Pat_Flatley 60.6 54.5 57 CGY Sergei_Makarov 60.6 54.5 57 NJ Bernie_Nicholls 60.1 54.1 58 DET Steve_Chiasson 59.5 53.6 56 CHI Steve_Smith 59.5 53.6 56 QUE Scott_Young 59.1 53.2 57 DET Paul_Ysebaert 58.9 53.0 54 NYR Sergei_Nemchinov 58.5 52.7 55 NJ Valeri_Zelepukin 58.2 52.4 54 WSH Pat_Elynuik 58.2 52.4 54 TB John_Tucker 58.2 52.4 54 PHI Kevin_Dineen 57.4 51.7 54 VAN Greg_Adams 56.4 50.8 53 WPG Darrin_Shannon 55.6 50.0 51 NYR Darren_Turcotte 55.3 49.8 52 NJ Scott_Stevens 55.0 48.8 51 CHI Christian_Ruuttu 55.0 48.8 51 VAN Dixon_Ward 55.0 48.8 51 WPG Fredrik_Olausson 55.0 48.2 49 NYR Ed_Olczyk 55.0 47.9 50 WPG Keith_Tkachuk 55.0 47.2 48 NYI Jeff_Norton 55.0 46.9 49 TOR John_Cullen 55.0 46.9 49 VAN Anatoli_Semenov 55.0 46.9 49 CGY Al_MacInnis 55.0 46.9 49 BOS Stephen_Leach 55.0 45.9 48 CHI Brent_Sutter 55.0 45.4 48 MTL Denis_Savard 55.0 45.2 46 HFD Terry_Yake 55.0 45.0 47 NJ John_MacLean 55.0 44.6 46 WSH Sylvain_Cote 55.0 44.0 46 EDM Petr_Klima 55.0 44.0 46 EDM Shayne_Corson 55.0 44.0 46 LA Tomas_Sandstrom 55.0 44.0 46 EDM Craig_Simpson 55.0 43.5 46 MTL Gilbert_Dionne 55.0 43.2 44 NYI Vladimir_Malakhov 55.0 43.0 45 BOS Dave_Poulin 55.0 43.0 45 STL Kevin_Miller 55.0 43.0 45 LA Alexei_Zhitnik 55.0 43.0 45 QUE Martin_Rucinsky 55.0 43.0 45 WPG Evgeny_Davydov 55.0 42.7 44 WSH Kelly_Miller 55.0 42.1 44 EDM Doug_Weight 55.0 42.1 44 EDM Dave_Manson 55.0 41.2 42 HFD Patrick_Poulin 55.0 41.1 43 CHI Michel_Goulet 55.0 40.7 42 PHI Pelle_Eklund 55.0 40.2 42 MIN Mark_Tinordi 55.0 39.7 42 MTL Mathieu_Schneider 55.0 39.2 41 CGY Paul_Ranheim 55.0 39.2 41 EDM Todd_Elik 55.0 39.2 41 BOS Vladimir_Ruzicka 55.0 39.2 41 OTT Sylvain_Turgeon 55.0 37.4 39 TOR Dave_Ellett 55.0 37.4 40 DET Niklas_Lidstrom 55.0 37.4 40 DET Bob_Probert 55.0 36.4 38 NJ Peter_Stastny 55.0 36.4 37 NYR Esa_Tikkanen 55.0 36.4 38 OTT Brad_Shaw 55.0 36.4 38 TOR Wendel_Clark 55.0 36.4 38 BUF Yuri_Khmylev 55.0 35.4 37 VAN Sergio_Momesso 55.0 35.4 37 OTT Bob_Kudelski 55.0 35.4 36 NYR Brian_Leetch 55.0 35.4 37 NJ Bobby_Holik 55.0 34.5 36 TOR Rob_Pearson 55.0 34.5 36 MIN Mike_McPhee 55.0 34.4 35 NYR Alexei_Kovalev 55.0 33.9 35 TB Adam_Creighton 55.0 33.5 35 EDM Zdeno_Ciger 55.0 32.6 34 LA Corey_Millen 55.0 32.6 34 CHI Dirk_Graham 55.0 31.6 33 TOR Peter_Zezel 55.0 30.6 32 BOS Ted_Donato 55.0 30.6 32 QUE Valery_Kamensky 55.0 30.2 32 MTL Gary_Leeman 55.0 29.9 32 DET Keith_Primeau 55.0 29.7 31 BUF Wayne_Presley 55.0 29.7 31 MIN Neal_Broten 55.0 29.7 31 BOS Steve_Heinze 55.0 29.1 30 PHI Josef_Beranek 55.0 28.7 30 CHI Stephane_Matteau 55.0 28.7 30 BUF Richard_Smehlik 55.0 28.7 30 TOR Dmitri_Mironov 55.0 28.4 29 NYI Brian_Mullen 55.0 27.2 28 PHI Dmitri_Yushkevich 55.0 26.8 28 CHI Brian_Noonan 55.0 26.8 28 EDM Scott_Mellanby 55.0 26.5 28 SJ Pat_Falloon 55.0 25.8 27 STL Igor_Korolev 55.0 25.6 26 NYR James_Patrick 55.0 24.8 26 BUF Petr_Svoboda 55.0 23.9 25 OTT Mark_Lamb 55.0 23.2 24 TB Mikael_Andersson 55.0 22.6 23 NYI Scott_LaChance 55.0 22.1 23 EDM Kevin_Todd 55.0 21.3 22 WSH Bob_Carpenter 55.0 21.1 22 TOR Bill_Berg 55.0 21.1 22 WPG Sergei_Bautin 55.0 20.8 22 MTL Benoit_Brunet 55.0 20.6 21 NYI David_Volek 55.0 20.6 21 HFD Mikael_Nylander 55.0 20.1 21 MIN Brent_Gilchrist 55.0 19.6 20 NYR Phil_Bourque 55.0 19.6 20 NYI Ray_Ferraro 55.0 18.6 19 HFD Yvon_Corriveau 55.0 18.2 19 EDM Martin_Gelinas 55.0 17.7 19 DET Jim_Hiller 55.0 17.6 18 NYI Darius_Kasparaitis 55.0 17.5 18 PHI Andrei_Lomakin 55.0 17.2 18 BUF Donald_Audette 55.0 15.5 16 TB Roman_Hamrlik 55.0 15.1 16 SJ Mark_Pederson 55.0 14.2 15 PIT Martin_Straka 55.0 12.4 13 NJ Janne_Ojanen 55.0 12.4 13 OTT Tomas_Jelinek 55.0 11.5 12 CHI Joe_Murphy 55.0 10.8 11 NYR Peter_Andersson 55.0 10.6 11 TB Steve_Kasper 55.0 10.5 11 BOS Cam_Neely 55.0 9.5 10 MIN Bobby_Smith 55.0 9.5 10 SJ Ray_Whitney 55.0 8.8 9 HFD Robert_Petrovicky 55.0 8.6 9 BUF Viktor_Gordijuk 55.0 7.7 8 QUE Mikhail_Tatarinov 55.0 7.7 8 TOR Joe_Sacco 55.0 7.6 8 SJ Peter_Ahola 55.0 6.7 7 CHI Rob_Brown 55.0 6.7 7 BOS Glen_Murray 55.0 5.9 6 HFD Tim_Kerr 55.0 4.9 5 WSH Reggie_Savage 55.0 4.8 5 STL Vitali_Prokhorov 55.0 4.8 5 LA Robert_Lang 55.0 4.8 5 EDM Shaun_Van_Allen 55.0 3.9 4 BOS Jozef_Stumpel 55.0 3.9 4 MIN Dan_Quinn 55.0 3.8 4 PIT Bryan_Fogarty 55.0 3.7 4 DET Viacheslav_Kozlov 55.0 2.9 3 TB Stan_Drulia 55.0 2.9 3 MIN Brian_Propp 55.0 2.9 3 MTL Olav_Petrov 55.0 2.0 2 WSH Jason_Woolley 55.0 1.9 2 NJ Claude_Vilgrain 55.0 0.0 0 VAN Igor_Larionov 55.0 0.0 0 TB Brent_Gretzky 55.0 0.0 0 OTT Alexei_Yashin 55.0 0.0 0 QUE Peter_Forsberg 55.0 0.0 0 EDM Dean_McAmmond 55.0 0.0 0 WSH Brian_Sakic 55.0 0.0 0 WSH Randy_Burridge 55.0 0.0 0 MTL Patrick_Kjellberg 55.0 0.0 0 CGY Cory_Stillman 55.0 0.0 0 CHI Sergei_Krivokrasov 55.0 0.0 0 BUF Jason_Dawe --  Andrew Scott                    | andrew@idacom.hp.com HP IDACOM Telecom Operation     | (403) 462-0666 ext. 253\",\" If you specify the rootwindow when you are creating your GC. You may  use Xlib to draw over multiple windows.  I have an application that does something similar for rubber banding.   curs_move = XCreateFontCursor (disp_data, XC_crosshair);   geom_vals.foreground     = blck_pixl ^ grey_dark;  geom_vals.plane_mask     = AllPlanes;  geom_vals.line_width     = 0;  geom_vals.function       = GXxor;  geom_vals.subwindow_mode = IncludeInferiors;  evnt_mask= GCForeground | GCPlaneMask | GCLineWidth | GCFunction                                                      | GCSubwindowMode;  geom_gcon= XCreateGC (disp_data, root_iden, evnt_mask, &geom_vals);    later I can move the rubber band or bands using the following logic  /**********************************************************************/  void Tselect::move_bands (int delt_xloc, int delt_yloc)          /****/ stuff deleted ...             XDrawRectangle (disp_data,   root_iden,  geom_gcon,                             sele_pntr->rootx, sele_pntr->rooty,                             sele_pntr->xlnth, sele_pntr->ylnth); undraw old one             sele_pntr->papax+= delt_xloc;             sele_pntr->papay+= delt_yloc;             sele_pntr->rootx+= delt_xloc;             sele_pntr->rooty+= delt_yloc;             XDrawRectangle (disp_data,   root_iden,  geom_gcon,                              sele_pntr->rootx, sele_pntr->rooty,                             sele_pntr->xlnth, sele_pntr->ylnth); draw new one more stuff deleted   hope this helps   --  Brian Dealy                |301-572-8267| It not knowing where it's at   dealy@kong.gsfc.nasa.gov   |            | that's important,it's knowing !uunet!dftsrv!kong!dealy   |            | where it's not at...  B.Dylan\",\"Re: Rubbing Compound....   You mean Meguire's* didn't work?    * THE DOD magic elixir of choice for plastic stuff \",\" Look at the 4053.  This is a triple 2-to-1 transmission-gate analog multiplexer, with positive and negative power supplies (can be run from a single-ended supply as well).  With dual supplies, the logic inputs still range from ground (0 Volts) to VDD.  This is a neat (well, I think so) design for a switchable-polarity amplifier:                   +-----/\\\\/\\\\/\\\\-------+                  |                  |                  |    /--------\\\\    | INPUT -+-/\\\\/\\\\/\\\\--+----| -      |    |        |              |  opamp |----+------- OUTPUT        +-/\\\\/\\\\/\\\\--+----| +      |                  |    \\\\--------/                  | CONTROL ---------X (analog switch)                  |                  |                 ---                 GND  All resistors are equal-value.  When the analog switch is closed, the amp is inverting-gain-of-one.  With the switch open, it is non-inverting-gain-of-one.  You can clean up the circuit to trim out input offset current if this hurts the balance (this would show up as carrier feed-through).  For high frequencies, the slew-rate of the opamp might cause problems, especially if it isn't symmetrical (and it usually isn't). \",\" > >(specifically the terrorists and drug dealers who proponents of key escrow  > >cite as threats) will be highly motivated to steal the cipher phone of  > >a legitimate user, and to kill this person or hold them hostage so  > >discovery of compromise of the device will be delayed.   >Why doing it in such a rough manner? It is much more professional to  >steal the chip from the phone and even to replace it with a  >pin-compatible do-nothing chip that does not encrypt at all. Chances  >are that the victim will not notice anything, especially if it is done  >professionally.    Assuming that the bad guys can easily obtain substitute chips which don't cause any noticeable effect to either the user or the person at the other end of the line (if there is any significant difficulty to obtaining such chips, some of the criminals will decide to fall back on the murder/kidnap method).   > > Once a suitable collection of devices is stolen, criminals can communicate  > >with impunity (assuming the cipher system carries no trapdoors apart from  > >key escrow) until and unless the compromise is discovered by some other  > >means.   > No, because the Feds will still be able to decrypt the conversations.  >True, they'll blame the wrong guys, but nevertheless one cannot say  >something like \\\"The drugs arrive tommorrow on the ship 'Terminus'\\\"  >when the Feds are listening, even if they cannot identify who the  >speaker is.   This assumes that the Feds are tapping Clipper phones belonging to ordinary citizens (getting such a phone is the whole point of the crime under discussion).  To be sure, I wouldn't put it past them -- but raising the possibility of such crime has the benefit of forcing the Feds to either 'fess up about such intentions in advance or state that using Clipper exposes the user to an additional criminal threat. <g>   > No, the criminals will just use some secure encryption. The new  >proposal does not stop criminals; it ensures that the government will  >be able to wiretap the average citizen and stops the casual snooper.  >To me, it also clearly looks as a step towards outlawing any other  >strong encryption devices.\"]],[\"SUBSET\",[\"raw\",\"raw\",\"raw\",\"raw\",\"raw\",\"raw\",\"raw\",\"raw\",\"raw\",\"raw\"]],[\"label\",[\"ABSTAIN\",\"ABSTAIN\",\"ABSTAIN\",\"ABSTAIN\",\"ABSTAIN\",\"ABSTAIN\",\"ABSTAIN\",\"ABSTAIN\",\"ABSTAIN\",\"ABSTAIN\"]]]}}},\"view\":{\"type\":\"object\",\"name\":\"CDSView\",\"id\":\"p1053\",\"attributes\":{\"filter\":{\"type\":\"object\",\"name\":\"AllIndices\",\"id\":\"p1054\"}}},\"columns\":[{\"type\":\"object\",\"name\":\"TableColumn\",\"id\":\"p1043\",\"attributes\":{\"field\":\"text\",\"title\":\"text\",\"formatter\":{\"type\":\"object\",\"name\":\"HTMLTemplateFormatter\",\"id\":\"p1042\",\"attributes\":{\"template\":\"<span href=\\\"#\\\" data-toggle=\\\"tooltip\\\" title=\\\"<%= value %>\\\"><%= value %></span>\"}},\"editor\":{\"type\":\"object\",\"name\":\"CellEditor\",\"id\":\"p1041\"}}},{\"type\":\"object\",\"name\":\"TableColumn\",\"id\":\"p1046\",\"attributes\":{\"field\":\"label\",\"title\":\"label\",\"formatter\":{\"type\":\"object\",\"name\":\"StringFormatter\",\"id\":\"p1047\"},\"editor\":{\"type\":\"object\",\"name\":\"StringEditor\",\"id\":\"p1048\"}}}],\"editable\":true,\"selectable\":\"checkbox\"}}]}};\n",
       "  const render_items = [{\"docid\":\"6ec8a1af-5d22-4920-be6d-47d7cccc3c13\",\"roots\":{\"p1049\":\"fe3412cf-b6cc-4206-9c10-2943af66b9e7\"},\"root_ids\":[\"p1049\"]}];\n",
       "  void root.Bokeh.embed.embed_items_notebook(docs_json, render_items);\n",
       "  }\n",
       "  if (root.Bokeh !== undefined) {\n",
       "    embed_document(root);\n",
       "  } else {\n",
       "    let attempts = 0;\n",
       "    const timer = setInterval(function(root) {\n",
       "      if (root.Bokeh !== undefined) {\n",
       "        clearInterval(timer);\n",
       "        embed_document(root);\n",
       "      } else {\n",
       "        attempts++;\n",
       "        if (attempts > 100) {\n",
       "          clearInterval(timer);\n",
       "          console.log(\"Bokeh: ERROR: Unable to run BokehJS code because BokehJS library is missing\");\n",
       "        }\n",
       "      }\n",
       "    }, 10, root)\n",
       "  }\n",
       "})(window);"
      ],
      "application/vnd.bokehjs_exec.v0+json": ""
     },
     "metadata": {
      "application/vnd.bokehjs_exec.v0+json": {
       "id": "p1049"
      }
     },
     "output_type": "display_data"
    }
   ],
   "source": [
    "dataset._callback_update_selection(dataset.dfs[\"raw\"][:10])\n",
    "\n",
    "show(dataset.sel_table, notebook_url=notebook_url)"
   ]
  },
  {
   "cell_type": "markdown",
   "id": "9f1c8437",
   "metadata": {},
   "source": [
    "<br>\n",
    "\n",
    "### **Edit Data Within a Selection**\n",
    "\n",
    "Often the points selected are not perfectly homogeneous, i.e. some outliers belong to a different label from the selected group overall. It would be helpful to `EVICT` them, and `SupervisableDataset` has a button for it.\n",
    "\n",
    "Sometimes you may also wish to edit data values on the fly.  In hover this is called `PATCH`, and there also is a button for it.\n",
    "\n",
    "-   by default, labels can be edited but feature values cannot.\n",
    "\n",
    "Let's plot the forementioned buttons along with the selection table. Toggle any number of rows in the table, then click the button to `EVICT` or `PATCH` those rows:"
   ]
  },
  {
   "cell_type": "code",
   "execution_count": 5,
   "id": "aca8d61d",
   "metadata": {
    "execution": {
     "iopub.execute_input": "2024-03-26T01:20:41.002545Z",
     "iopub.status.busy": "2024-03-26T01:20:41.002183Z",
     "iopub.status.idle": "2024-03-26T01:20:41.020733Z",
     "shell.execute_reply": "2024-03-26T01:20:41.020206Z"
    }
   },
   "outputs": [
    {
     "name": "stderr",
     "output_type": "stream",
     "text": [
      "WARNING:bokeh.embed.util:\n",
      "You are generating standalone HTML/JS output, but trying to use real Python\n",
      "callbacks (i.e. with on_change or on_event). This combination cannot work.\n",
      "\n",
      "Only JavaScript callbacks may be used with standalone output. For more\n",
      "information on JavaScript callbacks with Bokeh, see:\n",
      "\n",
      "    https://docs.bokeh.org/en/latest/docs/user_guide/interaction/js_callbacks.html\n",
      "\n",
      "Alternatively, to use real Python callbacks, a Bokeh server application may\n",
      "be used. For more information on building and running Bokeh applications, see:\n",
      "\n",
      "    https://docs.bokeh.org/en/latest/docs/user_guide/server.html\n",
      "\n"
     ]
    },
    {
     "data": {
      "text/html": [
       "\n",
       "  <div id=\"d77c870a-7738-46ec-8b20-cadcc08f28c8\" data-root-id=\"p1058\" style=\"display: contents;\"></div>\n"
      ]
     },
     "metadata": {},
     "output_type": "display_data"
    },
    {
     "data": {
      "application/javascript": [
       "(function(root) {\n",
       "  function embed_document(root) {\n",
       "  const docs_json = {\"e007dd31-fbd8-4ece-83f7-7a9e730edc4c\":{\"version\":\"3.4.0\",\"title\":\"Bokeh Application\",\"roots\":[{\"type\":\"object\",\"name\":\"Column\",\"id\":\"p1058\",\"attributes\":{\"children\":[{\"type\":\"object\",\"name\":\"Row\",\"id\":\"p1057\",\"attributes\":{\"children\":[{\"type\":\"object\",\"name\":\"Button\",\"id\":\"p1006\",\"attributes\":{\"button_type\":\"primary\",\"label\":\"Evict Rows from Selection\"}},{\"type\":\"object\",\"name\":\"Button\",\"id\":\"p1005\",\"attributes\":{\"button_type\":\"warning\",\"subscribed_events\":{\"type\":\"set\",\"entries\":[\"button_click\"]},\"label\":\"Update Row Values\"}}]}},{\"type\":\"object\",\"name\":\"DataTable\",\"id\":\"p1049\",\"attributes\":{\"source\":{\"type\":\"object\",\"name\":\"ColumnDataSource\",\"id\":\"p1038\",\"attributes\":{\"selected\":{\"type\":\"object\",\"name\":\"Selection\",\"id\":\"p1039\",\"attributes\":{\"indices\":[],\"line_indices\":[]}},\"selection_policy\":{\"type\":\"object\",\"name\":\"UnionRenderers\",\"id\":\"p1040\"},\"data\":{\"type\":\"map\",\"entries\":[[\"text\",[\" No, do I have to?    I'm just commenting that it makes very little sense to consider everything we inherit to be the default.  Seen any steam trains recently?\",\"  Yeah I suppose you could do that.  But then you don't get the broken knuckles, the rust in your eyes, the oil bath, and the burns from the exhaust.  I mean come on!...\",\"      ah c'mon, give the guy three days and see what comes up.       LEO\",\"My wife and I looked at, and drove one last fall. This was a 1992 model. It was WAYYYYYYYYY underpowered. I could not imagine driving it in the mountains here in Colorado at anything approaching highway speeds. I have read that the new 1993 models have a newer, improved hp engine.   I'm quite serious that I laughed in the salesman face when he said \\\"once it's broken in it will feel more powerful\\\". I had been used to driving a Jeep 4.0L 190hp engine. I believe the 92's Land Cruisers (Land Yachts) were 3.0L, the sames as the 4Runner, which is also underpowered (in my own personal opinion).   They are big cars, very roomy, but nothing spectacular. \",\" [...deleted...]  Unfortunately, I think you've got it figured pretty well.  I also ask myself the question \\\"Why did they plan for so many months.  Why was this so important to them?  What was the government really up to? Why did they seal the warrant?  Were they after Koresh or were they after       the first and second amendments, among others? \",\"Here is the price list for the week April 6 to April 12.   - Andrew  Buy Sell Pts Team Player 157.5 141.8 150 PIT Mario_Lemieux 152.1 136.9 143 BUF Pat_LaFontaine 139.3 125.4 131 BOS Adam_Oates 133.8 120.4 129 DET Steve_Yzerman 132.9 119.6 125 WPG Teemu_Selanne 132.9 119.6 125 TOR Doug_Gilmour 130.9 117.8 120 NYI Pierre_Turgeon 129.7 116.7 122 BUF Alexander_Mogilny 126.0 113.4 117 PHI Mark_Recchi 120.2 108.2 113 LA Luc_Robitaille 115.9 104.3 109 QUE Mats_Sundin 111.3 100.2 106 PIT Kevin_Stevens 108.5 97.7 102 STL Craig_Janney 108.5 97.7 102 VAN Pavel_Bure 106.3 95.7 100 CHI Jeremy_Roenick 105.3 94.8 99 QUE Joe_Sakic 104.0 93.6 99 PIT Rick_Tocchet 103.1 92.8 97 STL Brett_Hull 102.1 91.9 96 BOS Joe_Juneau 102.1 91.9 96 TOR Dave_Andreychuk 101.9 91.7 97 PIT Ron_Francis 99.8 89.8 95 MTL Vincent_Damphousse 98.9 89.0 93 MIN Mike_Modano 98.9 89.0 93 WPG Phil_Housley 98.9 89.0 93 CGY Theoren_Fleury 97.8 88.0 92 BUF Dale_Hawerchuk 97.7 87.9 93 MTL Kirk_Muller 96.0 86.4 88 NYR Mark_Messier 94.6 85.1 89 STL Brendan_Shanahan 94.4 85.0 91 DET Dino_Ciccarelli 91.4 82.3 86 LA Jari_Kurri 91.4 82.3 87 PIT Jaromir_Jagr 90.3 81.3 86 MTL Brian_Bellows 88.3 79.5 82 WSH Peter_Bondra 87.3 78.6 80 HFD Geoff_Sanderson 87.2 78.5 82 CGY Robert_Reichel 87.2 78.5 82 QUE Steve_Duchesne 87.1 78.4 84 DET Paul_Coffey 86.1 77.5 83 DET Sergei_Fedorov 85.1 76.6 79 TB Brian_Bradley 85.1 76.6 79 PHI Rod_Brind'Amour 85.1 76.6 81 PIT Larry_Murphy 84.0 75.6 77 HFD Andrew_Cassels 84.0 75.6 77 HFD Pat_Verbeek 84.0 75.6 79 LA Tony_Granato 84.0 75.6 78 WSH Mike_Ridley 84.0 75.6 77 NYI Steve_Thomas 83.0 74.7 79 MTL Stephan_Lebeau 81.8 73.6 76 WSH Dale_Hunter 80.8 72.7 76 QUE Mike_Ricci 80.8 72.7 76 BOS Ray_Bourque 78.6 70.7 73 WSH Kevin_Hatcher 77.7 69.9 74 SJ Kelly_Kisio 77.6 69.8 73 VAN Cliff_Ronning 77.6 69.8 73 STL Jeff_Brown 77.6 69.8 73 TOR Nikolai_Borschevsky 76.6 68.9 72 NJ Claude_Lemieux 76.6 68.9 72 MIN Dave_Gagner 76.6 68.9 72 MIN Russ_Courtnall 76.4 68.8 70 NYR Tony_Amonte 75.5 68.0 71 VAN Murray_Craven 75.5 68.0 71 LA Jimmy_Carson 75.5 68.0 71 CGY Gary_Suter 75.5 68.0 71 MIN Ulf_Dahlen 74.4 67.0 70 VAN Geoff_Courtnall 74.4 67.0 70 BOS Dmitri_Kvartalnov 74.3 66.9 69 WSH Michal_Pivonka 74.2 66.8 68 NYI Derek_King 74.2 66.8 68 NYI Benoit_Hogue 73.4 66.1 69 QUE Owen_Nolan 73.4 66.1 69 CHI Steve_Larmer 73.4 66.1 69 NJ Alexander_Semak 73.1 65.8 67 NYR Mike_Gartner 72.3 65.1 68 STL Nelson_Emerson 72.3 65.1 68 CHI Chris_Chelios 72.2 65.0 67 PHI Eric_Lindros 71.1 64.0 66 WSH Al_Iafrate 70.2 63.2 66 VAN Trevor_Linden 70.2 63.2 66 LA Mike_Donnelly 70.0 63.0 65 WSH Dmitri_Khristich 69.3 62.4 66 PIT Joe_Mullen 69.1 62.2 65 CGY Joe_Nieuwendyk 69.1 62.2 65 NJ Stephane_Richer 68.1 61.3 64 WPG Alexei_Zhamnov 68.1 61.3 64 WPG Thomas_Steen 68.1 61.3 64 QUE Andrei_Kovalenko 68.1 61.3 64 VAN Petr_Nedved 66.5 59.9 61 NYR Adam_Graves 66.5 59.9 61 HFD Zarley_Zalapski 66.4 59.8 64 DET Ray_Sheppard 64.9 58.4 61 TOR Glenn_Anderson 64.1 57.7 61 SJ Johan_Garpenlov 63.8 57.4 60 OTT Norm_Maciver 63.0 56.7 60 MTL Mike_Keane 63.0 56.7 60 PIT Shawn_McEachern 62.7 56.4 59 LA Rob_Blake 62.7 56.4 59 LA Wayne_Gretzky 62.5 56.3 58 PHI Garry_Galley 62.5 56.3 58 PHI Brent_Fedyk 61.1 55.0 56 NYI Pat_Flatley 60.6 54.5 57 CGY Sergei_Makarov 60.6 54.5 57 NJ Bernie_Nicholls 60.1 54.1 58 DET Steve_Chiasson 59.5 53.6 56 CHI Steve_Smith 59.5 53.6 56 QUE Scott_Young 59.1 53.2 57 DET Paul_Ysebaert 58.9 53.0 54 NYR Sergei_Nemchinov 58.5 52.7 55 NJ Valeri_Zelepukin 58.2 52.4 54 WSH Pat_Elynuik 58.2 52.4 54 TB John_Tucker 58.2 52.4 54 PHI Kevin_Dineen 57.4 51.7 54 VAN Greg_Adams 56.4 50.8 53 WPG Darrin_Shannon 55.6 50.0 51 NYR Darren_Turcotte 55.3 49.8 52 NJ Scott_Stevens 55.0 48.8 51 CHI Christian_Ruuttu 55.0 48.8 51 VAN Dixon_Ward 55.0 48.8 51 WPG Fredrik_Olausson 55.0 48.2 49 NYR Ed_Olczyk 55.0 47.9 50 WPG Keith_Tkachuk 55.0 47.2 48 NYI Jeff_Norton 55.0 46.9 49 TOR John_Cullen 55.0 46.9 49 VAN Anatoli_Semenov 55.0 46.9 49 CGY Al_MacInnis 55.0 46.9 49 BOS Stephen_Leach 55.0 45.9 48 CHI Brent_Sutter 55.0 45.4 48 MTL Denis_Savard 55.0 45.2 46 HFD Terry_Yake 55.0 45.0 47 NJ John_MacLean 55.0 44.6 46 WSH Sylvain_Cote 55.0 44.0 46 EDM Petr_Klima 55.0 44.0 46 EDM Shayne_Corson 55.0 44.0 46 LA Tomas_Sandstrom 55.0 44.0 46 EDM Craig_Simpson 55.0 43.5 46 MTL Gilbert_Dionne 55.0 43.2 44 NYI Vladimir_Malakhov 55.0 43.0 45 BOS Dave_Poulin 55.0 43.0 45 STL Kevin_Miller 55.0 43.0 45 LA Alexei_Zhitnik 55.0 43.0 45 QUE Martin_Rucinsky 55.0 43.0 45 WPG Evgeny_Davydov 55.0 42.7 44 WSH Kelly_Miller 55.0 42.1 44 EDM Doug_Weight 55.0 42.1 44 EDM Dave_Manson 55.0 41.2 42 HFD Patrick_Poulin 55.0 41.1 43 CHI Michel_Goulet 55.0 40.7 42 PHI Pelle_Eklund 55.0 40.2 42 MIN Mark_Tinordi 55.0 39.7 42 MTL Mathieu_Schneider 55.0 39.2 41 CGY Paul_Ranheim 55.0 39.2 41 EDM Todd_Elik 55.0 39.2 41 BOS Vladimir_Ruzicka 55.0 39.2 41 OTT Sylvain_Turgeon 55.0 37.4 39 TOR Dave_Ellett 55.0 37.4 40 DET Niklas_Lidstrom 55.0 37.4 40 DET Bob_Probert 55.0 36.4 38 NJ Peter_Stastny 55.0 36.4 37 NYR Esa_Tikkanen 55.0 36.4 38 OTT Brad_Shaw 55.0 36.4 38 TOR Wendel_Clark 55.0 36.4 38 BUF Yuri_Khmylev 55.0 35.4 37 VAN Sergio_Momesso 55.0 35.4 37 OTT Bob_Kudelski 55.0 35.4 36 NYR Brian_Leetch 55.0 35.4 37 NJ Bobby_Holik 55.0 34.5 36 TOR Rob_Pearson 55.0 34.5 36 MIN Mike_McPhee 55.0 34.4 35 NYR Alexei_Kovalev 55.0 33.9 35 TB Adam_Creighton 55.0 33.5 35 EDM Zdeno_Ciger 55.0 32.6 34 LA Corey_Millen 55.0 32.6 34 CHI Dirk_Graham 55.0 31.6 33 TOR Peter_Zezel 55.0 30.6 32 BOS Ted_Donato 55.0 30.6 32 QUE Valery_Kamensky 55.0 30.2 32 MTL Gary_Leeman 55.0 29.9 32 DET Keith_Primeau 55.0 29.7 31 BUF Wayne_Presley 55.0 29.7 31 MIN Neal_Broten 55.0 29.7 31 BOS Steve_Heinze 55.0 29.1 30 PHI Josef_Beranek 55.0 28.7 30 CHI Stephane_Matteau 55.0 28.7 30 BUF Richard_Smehlik 55.0 28.7 30 TOR Dmitri_Mironov 55.0 28.4 29 NYI Brian_Mullen 55.0 27.2 28 PHI Dmitri_Yushkevich 55.0 26.8 28 CHI Brian_Noonan 55.0 26.8 28 EDM Scott_Mellanby 55.0 26.5 28 SJ Pat_Falloon 55.0 25.8 27 STL Igor_Korolev 55.0 25.6 26 NYR James_Patrick 55.0 24.8 26 BUF Petr_Svoboda 55.0 23.9 25 OTT Mark_Lamb 55.0 23.2 24 TB Mikael_Andersson 55.0 22.6 23 NYI Scott_LaChance 55.0 22.1 23 EDM Kevin_Todd 55.0 21.3 22 WSH Bob_Carpenter 55.0 21.1 22 TOR Bill_Berg 55.0 21.1 22 WPG Sergei_Bautin 55.0 20.8 22 MTL Benoit_Brunet 55.0 20.6 21 NYI David_Volek 55.0 20.6 21 HFD Mikael_Nylander 55.0 20.1 21 MIN Brent_Gilchrist 55.0 19.6 20 NYR Phil_Bourque 55.0 19.6 20 NYI Ray_Ferraro 55.0 18.6 19 HFD Yvon_Corriveau 55.0 18.2 19 EDM Martin_Gelinas 55.0 17.7 19 DET Jim_Hiller 55.0 17.6 18 NYI Darius_Kasparaitis 55.0 17.5 18 PHI Andrei_Lomakin 55.0 17.2 18 BUF Donald_Audette 55.0 15.5 16 TB Roman_Hamrlik 55.0 15.1 16 SJ Mark_Pederson 55.0 14.2 15 PIT Martin_Straka 55.0 12.4 13 NJ Janne_Ojanen 55.0 12.4 13 OTT Tomas_Jelinek 55.0 11.5 12 CHI Joe_Murphy 55.0 10.8 11 NYR Peter_Andersson 55.0 10.6 11 TB Steve_Kasper 55.0 10.5 11 BOS Cam_Neely 55.0 9.5 10 MIN Bobby_Smith 55.0 9.5 10 SJ Ray_Whitney 55.0 8.8 9 HFD Robert_Petrovicky 55.0 8.6 9 BUF Viktor_Gordijuk 55.0 7.7 8 QUE Mikhail_Tatarinov 55.0 7.7 8 TOR Joe_Sacco 55.0 7.6 8 SJ Peter_Ahola 55.0 6.7 7 CHI Rob_Brown 55.0 6.7 7 BOS Glen_Murray 55.0 5.9 6 HFD Tim_Kerr 55.0 4.9 5 WSH Reggie_Savage 55.0 4.8 5 STL Vitali_Prokhorov 55.0 4.8 5 LA Robert_Lang 55.0 4.8 5 EDM Shaun_Van_Allen 55.0 3.9 4 BOS Jozef_Stumpel 55.0 3.9 4 MIN Dan_Quinn 55.0 3.8 4 PIT Bryan_Fogarty 55.0 3.7 4 DET Viacheslav_Kozlov 55.0 2.9 3 TB Stan_Drulia 55.0 2.9 3 MIN Brian_Propp 55.0 2.9 3 MTL Olav_Petrov 55.0 2.0 2 WSH Jason_Woolley 55.0 1.9 2 NJ Claude_Vilgrain 55.0 0.0 0 VAN Igor_Larionov 55.0 0.0 0 TB Brent_Gretzky 55.0 0.0 0 OTT Alexei_Yashin 55.0 0.0 0 QUE Peter_Forsberg 55.0 0.0 0 EDM Dean_McAmmond 55.0 0.0 0 WSH Brian_Sakic 55.0 0.0 0 WSH Randy_Burridge 55.0 0.0 0 MTL Patrick_Kjellberg 55.0 0.0 0 CGY Cory_Stillman 55.0 0.0 0 CHI Sergei_Krivokrasov 55.0 0.0 0 BUF Jason_Dawe --  Andrew Scott                    | andrew@idacom.hp.com HP IDACOM Telecom Operation     | (403) 462-0666 ext. 253\",\" If you specify the rootwindow when you are creating your GC. You may  use Xlib to draw over multiple windows.  I have an application that does something similar for rubber banding.   curs_move = XCreateFontCursor (disp_data, XC_crosshair);   geom_vals.foreground     = blck_pixl ^ grey_dark;  geom_vals.plane_mask     = AllPlanes;  geom_vals.line_width     = 0;  geom_vals.function       = GXxor;  geom_vals.subwindow_mode = IncludeInferiors;  evnt_mask= GCForeground | GCPlaneMask | GCLineWidth | GCFunction                                                      | GCSubwindowMode;  geom_gcon= XCreateGC (disp_data, root_iden, evnt_mask, &geom_vals);    later I can move the rubber band or bands using the following logic  /**********************************************************************/  void Tselect::move_bands (int delt_xloc, int delt_yloc)          /****/ stuff deleted ...             XDrawRectangle (disp_data,   root_iden,  geom_gcon,                             sele_pntr->rootx, sele_pntr->rooty,                             sele_pntr->xlnth, sele_pntr->ylnth); undraw old one             sele_pntr->papax+= delt_xloc;             sele_pntr->papay+= delt_yloc;             sele_pntr->rootx+= delt_xloc;             sele_pntr->rooty+= delt_yloc;             XDrawRectangle (disp_data,   root_iden,  geom_gcon,                              sele_pntr->rootx, sele_pntr->rooty,                             sele_pntr->xlnth, sele_pntr->ylnth); draw new one more stuff deleted   hope this helps   --  Brian Dealy                |301-572-8267| It not knowing where it's at   dealy@kong.gsfc.nasa.gov   |            | that's important,it's knowing !uunet!dftsrv!kong!dealy   |            | where it's not at...  B.Dylan\",\"Re: Rubbing Compound....   You mean Meguire's* didn't work?    * THE DOD magic elixir of choice for plastic stuff \",\" Look at the 4053.  This is a triple 2-to-1 transmission-gate analog multiplexer, with positive and negative power supplies (can be run from a single-ended supply as well).  With dual supplies, the logic inputs still range from ground (0 Volts) to VDD.  This is a neat (well, I think so) design for a switchable-polarity amplifier:                   +-----/\\\\/\\\\/\\\\-------+                  |                  |                  |    /--------\\\\    | INPUT -+-/\\\\/\\\\/\\\\--+----| -      |    |        |              |  opamp |----+------- OUTPUT        +-/\\\\/\\\\/\\\\--+----| +      |                  |    \\\\--------/                  | CONTROL ---------X (analog switch)                  |                  |                 ---                 GND  All resistors are equal-value.  When the analog switch is closed, the amp is inverting-gain-of-one.  With the switch open, it is non-inverting-gain-of-one.  You can clean up the circuit to trim out input offset current if this hurts the balance (this would show up as carrier feed-through).  For high frequencies, the slew-rate of the opamp might cause problems, especially if it isn't symmetrical (and it usually isn't). \",\" > >(specifically the terrorists and drug dealers who proponents of key escrow  > >cite as threats) will be highly motivated to steal the cipher phone of  > >a legitimate user, and to kill this person or hold them hostage so  > >discovery of compromise of the device will be delayed.   >Why doing it in such a rough manner? It is much more professional to  >steal the chip from the phone and even to replace it with a  >pin-compatible do-nothing chip that does not encrypt at all. Chances  >are that the victim will not notice anything, especially if it is done  >professionally.    Assuming that the bad guys can easily obtain substitute chips which don't cause any noticeable effect to either the user or the person at the other end of the line (if there is any significant difficulty to obtaining such chips, some of the criminals will decide to fall back on the murder/kidnap method).   > > Once a suitable collection of devices is stolen, criminals can communicate  > >with impunity (assuming the cipher system carries no trapdoors apart from  > >key escrow) until and unless the compromise is discovered by some other  > >means.   > No, because the Feds will still be able to decrypt the conversations.  >True, they'll blame the wrong guys, but nevertheless one cannot say  >something like \\\"The drugs arrive tommorrow on the ship 'Terminus'\\\"  >when the Feds are listening, even if they cannot identify who the  >speaker is.   This assumes that the Feds are tapping Clipper phones belonging to ordinary citizens (getting such a phone is the whole point of the crime under discussion).  To be sure, I wouldn't put it past them -- but raising the possibility of such crime has the benefit of forcing the Feds to either 'fess up about such intentions in advance or state that using Clipper exposes the user to an additional criminal threat. <g>   > No, the criminals will just use some secure encryption. The new  >proposal does not stop criminals; it ensures that the government will  >be able to wiretap the average citizen and stops the casual snooper.  >To me, it also clearly looks as a step towards outlawing any other  >strong encryption devices.\"]],[\"SUBSET\",[\"raw\",\"raw\",\"raw\",\"raw\",\"raw\",\"raw\",\"raw\",\"raw\",\"raw\",\"raw\"]],[\"label\",[\"ABSTAIN\",\"ABSTAIN\",\"ABSTAIN\",\"ABSTAIN\",\"ABSTAIN\",\"ABSTAIN\",\"ABSTAIN\",\"ABSTAIN\",\"ABSTAIN\",\"ABSTAIN\"]]]}}},\"view\":{\"type\":\"object\",\"name\":\"CDSView\",\"id\":\"p1053\",\"attributes\":{\"filter\":{\"type\":\"object\",\"name\":\"AllIndices\",\"id\":\"p1054\"}}},\"columns\":[{\"type\":\"object\",\"name\":\"TableColumn\",\"id\":\"p1043\",\"attributes\":{\"field\":\"text\",\"title\":\"text\",\"formatter\":{\"type\":\"object\",\"name\":\"HTMLTemplateFormatter\",\"id\":\"p1042\",\"attributes\":{\"template\":\"<span href=\\\"#\\\" data-toggle=\\\"tooltip\\\" title=\\\"<%= value %>\\\"><%= value %></span>\"}},\"editor\":{\"type\":\"object\",\"name\":\"CellEditor\",\"id\":\"p1041\"}}},{\"type\":\"object\",\"name\":\"TableColumn\",\"id\":\"p1046\",\"attributes\":{\"field\":\"label\",\"title\":\"label\",\"formatter\":{\"type\":\"object\",\"name\":\"StringFormatter\",\"id\":\"p1047\"},\"editor\":{\"type\":\"object\",\"name\":\"StringEditor\",\"id\":\"p1048\"}}}],\"editable\":true,\"selectable\":\"checkbox\"}}]}}]}};\n",
       "  const render_items = [{\"docid\":\"e007dd31-fbd8-4ece-83f7-7a9e730edc4c\",\"roots\":{\"p1058\":\"d77c870a-7738-46ec-8b20-cadcc08f28c8\"},\"root_ids\":[\"p1058\"]}];\n",
       "  void root.Bokeh.embed.embed_items_notebook(docs_json, render_items);\n",
       "  }\n",
       "  if (root.Bokeh !== undefined) {\n",
       "    embed_document(root);\n",
       "  } else {\n",
       "    let attempts = 0;\n",
       "    const timer = setInterval(function(root) {\n",
       "      if (root.Bokeh !== undefined) {\n",
       "        clearInterval(timer);\n",
       "        embed_document(root);\n",
       "      } else {\n",
       "        attempts++;\n",
       "        if (attempts > 100) {\n",
       "          clearInterval(timer);\n",
       "          console.log(\"Bokeh: ERROR: Unable to run BokehJS code because BokehJS library is missing\");\n",
       "        }\n",
       "      }\n",
       "    }, 10, root)\n",
       "  }\n",
       "})(window);"
      ],
      "application/vnd.bokehjs_exec.v0+json": ""
     },
     "metadata": {
      "application/vnd.bokehjs_exec.v0+json": {
       "id": "p1058"
      }
     },
     "output_type": "display_data"
    }
   ],
   "source": [
    "show(column(\n",
    "    row(\n",
    "        dataset.selection_evictor,\n",
    "        dataset.selection_patcher,\n",
    "    ),\n",
    "    dataset.sel_table,\n",
    "), notebook_url=notebook_url)"
   ]
  },
  {
   "cell_type": "markdown",
   "id": "b325386e",
   "metadata": {},
   "source": [
    "<br>"
   ]
  }
 ],
 "metadata": {
  "language_info": {
   "codemirror_mode": {
    "name": "ipython",
    "version": 3
   },
   "file_extension": ".py",
   "mimetype": "text/x-python",
   "name": "python",
   "nbconvert_exporter": "python",
   "pygments_lexer": "ipython3",
   "version": "3.9.18"
  }
 },
 "nbformat": 4,
 "nbformat_minor": 5
}
