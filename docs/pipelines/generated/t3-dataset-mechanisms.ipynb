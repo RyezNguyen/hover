{
 "cells": [
  {
   "cell_type": "markdown",
   "id": "c6226b95",
   "metadata": {},
   "source": [
    "> `SupervisableDataset` holds your data throughout the labeling process.\n",
    ">\n",
    "> :speedboat: Let's take a look at its core mechanisms.\n",
    "\n",
    "-   <details open><summary>This page addresses **single components** of `hover`</summary>\n",
    "    For illustration, we are using code snippets to pick out specific widgets so that the documentation can explain what they do.\n",
    "\n",
    "    -   Please be aware that you won't need to get the widgets by code in an actual use case.\n",
    "    -   Typical usage deals with [recipes](../../tutorial/t1-active-learning) where the individual parts have been tied together.\n",
    "\n",
    "</details>\n",
    "\n",
    "-   <details open><summary>Dependencies for {== local environments ==}</summary>\n",
    "    When you run the code locally, you may need to install additional packages.\n",
    "\n",
    "    To render `bokeh` plots in Jupyter, you need:\n",
    "```shell\n",
    "    pip install jupyter_bokeh\n",
    "```\n",
    "\n",
    "    If you are using JupyterLab older than 3.0, use this instead ([reference](https://pypi.org/project/jupyter-bokeh/)):\n",
    "```shell\n",
    "    jupyter labextension install @jupyter-widgets/jupyterlab-manager\n",
    "    jupyter labextension install @bokeh/jupyter_bokeh\n",
    "```\n",
    "\n",
    "</details>\n",
    "\n",
    "## **Data Subsets**\n",
    "\n",
    "We place unlabeled data and labeled data in different subsets: \"raw\", \"train\", \"dev\", and \"test\". Unlabeled data start from the \"raw\" subset, and can be transferred to other subsets after it gets labeled.\n",
    "\n",
    "`SupervisableDataset` uses a \"population table\", `dataset.pop_table`, to show the size of each subset:"
   ]
  },
  {
   "cell_type": "code",
   "execution_count": 1,
   "id": "69e4d7b7",
   "metadata": {
    "execution": {
     "iopub.execute_input": "2024-03-05T01:19:53.124479Z",
     "iopub.status.busy": "2024-03-05T01:19:53.124192Z",
     "iopub.status.idle": "2024-03-05T01:19:54.671190Z",
     "shell.execute_reply": "2024-03-05T01:19:54.670628Z"
    }
   },
   "outputs": [
    {
     "data": {
      "text/html": [
       "<pre style=\"white-space:pre;overflow-x:auto;line-height:normal;font-family:Menlo,'DejaVu Sans Mono',consolas,'Courier New',monospace\"><span style=\"color: #000080; text-decoration-color: #000080\">🔵 SupervisableTextDataset: Initializing</span><span style=\"color: #808000; text-decoration-color: #808000\">...</span>\n",
       "</pre>\n"
      ],
      "text/plain": [
       "\u001b[34m🔵 SupervisableTextDataset: Initializing\u001b[0m\u001b[33m...\u001b[0m\n"
      ]
     },
     "metadata": {},
     "output_type": "display_data"
    },
    {
     "data": {
      "text/html": [
       "<pre style=\"white-space:pre;overflow-x:auto;line-height:normal;font-family:Menlo,'DejaVu Sans Mono',consolas,'Courier New',monospace\"><span style=\"color: #000080; text-decoration-color: #000080\">🔵 SupervisableTextDataset: Deduplicating</span><span style=\"color: #808000; text-decoration-color: #808000\">...</span>\n",
       "</pre>\n"
      ],
      "text/plain": [
       "\u001b[34m🔵 SupervisableTextDataset: Deduplicating\u001b[0m\u001b[33m...\u001b[0m\n"
      ]
     },
     "metadata": {},
     "output_type": "display_data"
    },
    {
     "data": {
      "text/html": [
       "<pre style=\"white-space:pre;overflow-x:auto;line-height:normal;font-family:Menlo,'DejaVu Sans Mono',consolas,'Courier New',monospace\"><span style=\"color: #000080; text-decoration-color: #000080\">🔵 SupervisableTextDataset: --subset raw rows: </span><span style=\"color: #008080; text-decoration-color: #008080; font-weight: bold\">400</span><span style=\"color: #000080; text-decoration-color: #000080\"> -&gt; </span><span style=\"color: #008080; text-decoration-color: #008080; font-weight: bold\">368</span><span style=\"color: #000080; text-decoration-color: #000080\">.</span>\n",
       "</pre>\n"
      ],
      "text/plain": [
       "\u001b[34m🔵 SupervisableTextDataset: --subset raw rows: \u001b[0m\u001b[1;36m400\u001b[0m\u001b[34m -> \u001b[0m\u001b[1;36m368\u001b[0m\u001b[34m.\u001b[0m\n"
      ]
     },
     "metadata": {},
     "output_type": "display_data"
    },
    {
     "data": {
      "text/html": [
       "<pre style=\"white-space:pre;overflow-x:auto;line-height:normal;font-family:Menlo,'DejaVu Sans Mono',consolas,'Courier New',monospace\"><span style=\"color: #000080; text-decoration-color: #000080\">🔵 SupervisableTextDataset: --subset train rows: </span><span style=\"color: #008080; text-decoration-color: #008080; font-weight: bold\">400</span><span style=\"color: #000080; text-decoration-color: #000080\"> -&gt; </span><span style=\"color: #008080; text-decoration-color: #008080; font-weight: bold\">382</span><span style=\"color: #000080; text-decoration-color: #000080\">.</span>\n",
       "</pre>\n"
      ],
      "text/plain": [
       "\u001b[34m🔵 SupervisableTextDataset: --subset train rows: \u001b[0m\u001b[1;36m400\u001b[0m\u001b[34m -> \u001b[0m\u001b[1;36m382\u001b[0m\u001b[34m.\u001b[0m\n"
      ]
     },
     "metadata": {},
     "output_type": "display_data"
    },
    {
     "data": {
      "text/html": [
       "<pre style=\"white-space:pre;overflow-x:auto;line-height:normal;font-family:Menlo,'DejaVu Sans Mono',consolas,'Courier New',monospace\"><span style=\"color: #000080; text-decoration-color: #000080\">🔵 SupervisableTextDataset: --subset dev rows: </span><span style=\"color: #008080; text-decoration-color: #008080; font-weight: bold\">100</span><span style=\"color: #000080; text-decoration-color: #000080\"> -&gt; </span><span style=\"color: #008080; text-decoration-color: #008080; font-weight: bold\">92</span><span style=\"color: #000080; text-decoration-color: #000080\">.</span>\n",
       "</pre>\n"
      ],
      "text/plain": [
       "\u001b[34m🔵 SupervisableTextDataset: --subset dev rows: \u001b[0m\u001b[1;36m100\u001b[0m\u001b[34m -> \u001b[0m\u001b[1;36m92\u001b[0m\u001b[34m.\u001b[0m\n"
      ]
     },
     "metadata": {},
     "output_type": "display_data"
    },
    {
     "data": {
      "text/html": [
       "<pre style=\"white-space:pre;overflow-x:auto;line-height:normal;font-family:Menlo,'DejaVu Sans Mono',consolas,'Courier New',monospace\"><span style=\"color: #000080; text-decoration-color: #000080\">🔵 SupervisableTextDataset: --subset test rows: </span><span style=\"color: #008080; text-decoration-color: #008080; font-weight: bold\">100</span><span style=\"color: #000080; text-decoration-color: #000080\"> -&gt; </span><span style=\"color: #008080; text-decoration-color: #008080; font-weight: bold\">98</span><span style=\"color: #000080; text-decoration-color: #000080\">.</span>\n",
       "</pre>\n"
      ],
      "text/plain": [
       "\u001b[34m🔵 SupervisableTextDataset: --subset test rows: \u001b[0m\u001b[1;36m100\u001b[0m\u001b[34m -> \u001b[0m\u001b[1;36m98\u001b[0m\u001b[34m.\u001b[0m\n"
      ]
     },
     "metadata": {},
     "output_type": "display_data"
    },
    {
     "data": {
      "text/html": [
       "<pre style=\"white-space:pre;overflow-x:auto;line-height:normal;font-family:Menlo,'DejaVu Sans Mono',consolas,'Courier New',monospace\"><span style=\"color: #008000; text-decoration-color: #008000\">🟢 SupervisableTextDataset: Set up label encoder/decoder with </span><span style=\"color: #008080; text-decoration-color: #008080; font-weight: bold\">20</span><span style=\"color: #008000; text-decoration-color: #008000\"> classes.</span>\n",
       "</pre>\n"
      ],
      "text/plain": [
       "\u001b[32m🟢 SupervisableTextDataset: Set up label encoder/decoder with \u001b[0m\u001b[1;36m20\u001b[0m\u001b[32m classes.\u001b[0m\n"
      ]
     },
     "metadata": {},
     "output_type": "display_data"
    },
    {
     "data": {
      "text/html": [
       "<pre style=\"white-space:pre;overflow-x:auto;line-height:normal;font-family:Menlo,'DejaVu Sans Mono',consolas,'Courier New',monospace\"><span style=\"color: #008000; text-decoration-color: #008000\">🟢 SupervisableTextDataset: Population updater: latest population with </span><span style=\"color: #008080; text-decoration-color: #008080; font-weight: bold\">20</span><span style=\"color: #008000; text-decoration-color: #008000\"> classes.</span>\n",
       "</pre>\n"
      ],
      "text/plain": [
       "\u001b[32m🟢 SupervisableTextDataset: Population updater: latest population with \u001b[0m\u001b[1;36m20\u001b[0m\u001b[32m classes.\u001b[0m\n"
      ]
     },
     "metadata": {},
     "output_type": "display_data"
    },
    {
     "data": {
      "text/html": [
       "<pre style=\"white-space:pre;overflow-x:auto;line-height:normal;font-family:Menlo,'DejaVu Sans Mono',consolas,'Courier New',monospace\"><span style=\"color: #000080; text-decoration-color: #000080\">🔵 SupervisableTextDataset: finished setting up bokeh elements.</span>\n",
       "</pre>\n"
      ],
      "text/plain": [
       "\u001b[34m🔵 SupervisableTextDataset: finished setting up bokeh elements.\u001b[0m\n"
      ]
     },
     "metadata": {},
     "output_type": "display_data"
    },
    {
     "data": {
      "text/html": [
       "<pre style=\"white-space:pre;overflow-x:auto;line-height:normal;font-family:Menlo,'DejaVu Sans Mono',consolas,'Courier New',monospace\"><span style=\"color: #008000; text-decoration-color: #008000\">🟢 SupervisableTextDataset: finished initialization.</span>\n",
       "</pre>\n"
      ],
      "text/plain": [
       "\u001b[32m🟢 SupervisableTextDataset: finished initialization.\u001b[0m\n"
      ]
     },
     "metadata": {},
     "output_type": "display_data"
    }
   ],
   "source": [
    "from hover.core.dataset import SupervisableTextDataset\n",
    "import pandas as pd\n",
    "\n",
    "raw_csv_path = \"https://raw.githubusercontent.com/phurwicz/hover-gallery/main/0.5.0/20_newsgroups_raw.csv\"\n",
    "train_csv_path = \"https://raw.githubusercontent.com/phurwicz/hover-gallery/main/0.5.0/20_newsgroups_train.csv\"\n",
    "\n",
    "# for fast, low-memory demonstration purpose, sample the data\n",
    "df_raw = pd.read_csv(raw_csv_path).sample(400)\n",
    "df_raw[\"SUBSET\"] = \"raw\"\n",
    "df_train = pd.read_csv(train_csv_path).sample(400)\n",
    "df_train[\"SUBSET\"] = \"train\"\n",
    "df_dev = pd.read_csv(train_csv_path).sample(100)\n",
    "df_dev[\"SUBSET\"] = \"dev\"\n",
    "df_test = pd.read_csv(train_csv_path).sample(100)\n",
    "df_test[\"SUBSET\"] = \"test\"\n",
    "\n",
    "# build overall dataframe and ensure feature type\n",
    "df = pd.concat([df_raw, df_train, df_dev, df_test])\n",
    "df[\"text\"] = df[\"text\"].astype(str)\n",
    "\n",
    "# this class stores the dataset throught the labeling process\n",
    "dataset = SupervisableTextDataset.from_pandas(df, feature_key=\"text\", label_key=\"label\")"
   ]
  },
  {
   "cell_type": "markdown",
   "id": "7dc9b704",
   "metadata": {},
   "source": [
    "<br>"
   ]
  },
  {
   "cell_type": "code",
   "execution_count": 2,
   "id": "711eeb2a",
   "metadata": {
    "execution": {
     "iopub.execute_input": "2024-03-05T01:19:54.673919Z",
     "iopub.status.busy": "2024-03-05T01:19:54.673656Z",
     "iopub.status.idle": "2024-03-05T01:19:54.726614Z",
     "shell.execute_reply": "2024-03-05T01:19:54.725878Z"
    }
   },
   "outputs": [
    {
     "data": {
      "text/html": [
       "    <style>\n",
       "        .bk-notebook-logo {\n",
       "            display: block;\n",
       "            width: 20px;\n",
       "            height: 20px;\n",
       "            background-image: url(data:image/png;base64,iVBORw0KGgoAAAANSUhEUgAAABQAAAAUCAYAAACNiR0NAAAABHNCSVQICAgIfAhkiAAAAAlwSFlzAAALEgAACxIB0t1+/AAAABx0RVh0U29mdHdhcmUAQWRvYmUgRmlyZXdvcmtzIENTNui8sowAAAOkSURBVDiNjZRtaJVlGMd/1/08zzln5zjP1LWcU9N0NkN8m2CYjpgQYQXqSs0I84OLIC0hkEKoPtiH3gmKoiJDU7QpLgoLjLIQCpEsNJ1vqUOdO7ppbuec5+V+rj4ctwzd8IIbbi6u+8f1539dt3A78eXC7QizUF7gyV1fD1Yqg4JWz84yffhm0qkFqBogB9rM8tZdtwVsPUhWhGcFJngGeWrPzHm5oaMmkfEg1usvLFyc8jLRqDOMru7AyC8saQr7GG7f5fvDeH7Ej8CM66nIF+8yngt6HWaKh7k49Soy9nXurCi1o3qUbS3zWfrYeQDTB/Qj6kX6Ybhw4B+bOYoLKCC9H3Nu/leUTZ1JdRWkkn2ldcCamzrcf47KKXdAJllSlxAOkRgyHsGC/zRday5Qld9DyoM4/q/rUoy/CXh3jzOu3bHUVZeU+DEn8FInkPBFlu3+nW3Nw0mk6vCDiWg8CeJaxEwuHS3+z5RgY+YBR6V1Z1nxSOfoaPa4LASWxxdNp+VWTk7+4vzaou8v8PN+xo+KY2xsw6une2frhw05CTYOmQvsEhjhWjn0bmXPjpE1+kplmmkP3suftwTubK9Vq22qKmrBhpY4jvd5afdRA3wGjFAgcnTK2s4hY0/GPNIb0nErGMCRxWOOX64Z8RAC4oCXdklmEvcL8o0BfkNK4lUg9HTl+oPlQxdNo3Mg4Nv175e/1LDGzZen30MEjRUtmXSfiTVu1kK8W4txyV6BMKlbgk3lMwYCiusNy9fVfvvwMxv8Ynl6vxoByANLTWplvuj/nF9m2+PDtt1eiHPBr1oIfhCChQMBw6Aw0UulqTKZdfVvfG7VcfIqLG9bcldL/+pdWTLxLUy8Qq38heUIjh4XlzZxzQm19lLFlr8vdQ97rjZVOLf8nclzckbcD4wxXMidpX30sFd37Fv/GtwwhzhxGVAprjbg0gCAEeIgwCZyTV2Z1REEW8O4py0wsjeloKoMr6iCY6dP92H6Vw/oTyICIthibxjm/DfN9lVz8IqtqKYLUXfoKVMVQVVJOElGjrnnUt9T9wbgp8AyYKaGlqingHZU/uG2NTZSVqwHQTWkx9hxjkpWDaCg6Ckj5qebgBVbT3V3NNXMSiWSDdGV3hrtzla7J+duwPOToIg42ChPQOQjspnSlp1V+Gjdged7+8UN5CRAV7a5EdFNwCjEaBR27b3W890TE7g24NAP/mMDXRWrGoFPQI9ls/MWO2dWFAar/xcOIImbbpA3zgAAAABJRU5ErkJggg==);\n",
       "        }\n",
       "    </style>\n",
       "    <div>\n",
       "        <a href=\"https://bokeh.org\" target=\"_blank\" class=\"bk-notebook-logo\"></a>\n",
       "        <span id=\"b1ea5b70-785a-4cc4-83c5-7bbdc82434d4\">Loading BokehJS ...</span>\n",
       "    </div>\n"
      ]
     },
     "metadata": {},
     "output_type": "display_data"
    },
    {
     "data": {
      "application/javascript": [
       "(function(root) {\n",
       "  function now() {\n",
       "    return new Date();\n",
       "  }\n",
       "\n",
       "  const force = true;\n",
       "\n",
       "  if (typeof root._bokeh_onload_callbacks === \"undefined\" || force === true) {\n",
       "    root._bokeh_onload_callbacks = [];\n",
       "    root._bokeh_is_loading = undefined;\n",
       "  }\n",
       "\n",
       "const JS_MIME_TYPE = 'application/javascript';\n",
       "  const HTML_MIME_TYPE = 'text/html';\n",
       "  const EXEC_MIME_TYPE = 'application/vnd.bokehjs_exec.v0+json';\n",
       "  const CLASS_NAME = 'output_bokeh rendered_html';\n",
       "\n",
       "  /**\n",
       "   * Render data to the DOM node\n",
       "   */\n",
       "  function render(props, node) {\n",
       "    const script = document.createElement(\"script\");\n",
       "    node.appendChild(script);\n",
       "  }\n",
       "\n",
       "  /**\n",
       "   * Handle when an output is cleared or removed\n",
       "   */\n",
       "  function handleClearOutput(event, handle) {\n",
       "    function drop(id) {\n",
       "      const view = Bokeh.index.get_by_id(id)\n",
       "      if (view != null) {\n",
       "        view.model.document.clear()\n",
       "        Bokeh.index.delete(view)\n",
       "      }\n",
       "    }\n",
       "\n",
       "    const cell = handle.cell;\n",
       "\n",
       "    const id = cell.output_area._bokeh_element_id;\n",
       "    const server_id = cell.output_area._bokeh_server_id;\n",
       "\n",
       "    // Clean up Bokeh references\n",
       "    if (id != null) {\n",
       "      drop(id)\n",
       "    }\n",
       "\n",
       "    if (server_id !== undefined) {\n",
       "      // Clean up Bokeh references\n",
       "      const cmd_clean = \"from bokeh.io.state import curstate; print(curstate().uuid_to_server['\" + server_id + \"'].get_sessions()[0].document.roots[0]._id)\";\n",
       "      cell.notebook.kernel.execute(cmd_clean, {\n",
       "        iopub: {\n",
       "          output: function(msg) {\n",
       "            const id = msg.content.text.trim()\n",
       "            drop(id)\n",
       "          }\n",
       "        }\n",
       "      });\n",
       "      // Destroy server and session\n",
       "      const cmd_destroy = \"import bokeh.io.notebook as ion; ion.destroy_server('\" + server_id + \"')\";\n",
       "      cell.notebook.kernel.execute(cmd_destroy);\n",
       "    }\n",
       "  }\n",
       "\n",
       "  /**\n",
       "   * Handle when a new output is added\n",
       "   */\n",
       "  function handleAddOutput(event, handle) {\n",
       "    const output_area = handle.output_area;\n",
       "    const output = handle.output;\n",
       "\n",
       "    // limit handleAddOutput to display_data with EXEC_MIME_TYPE content only\n",
       "    if ((output.output_type != \"display_data\") || (!Object.prototype.hasOwnProperty.call(output.data, EXEC_MIME_TYPE))) {\n",
       "      return\n",
       "    }\n",
       "\n",
       "    const toinsert = output_area.element.find(\".\" + CLASS_NAME.split(' ')[0]);\n",
       "\n",
       "    if (output.metadata[EXEC_MIME_TYPE][\"id\"] !== undefined) {\n",
       "      toinsert[toinsert.length - 1].firstChild.textContent = output.data[JS_MIME_TYPE];\n",
       "      // store reference to embed id on output_area\n",
       "      output_area._bokeh_element_id = output.metadata[EXEC_MIME_TYPE][\"id\"];\n",
       "    }\n",
       "    if (output.metadata[EXEC_MIME_TYPE][\"server_id\"] !== undefined) {\n",
       "      const bk_div = document.createElement(\"div\");\n",
       "      bk_div.innerHTML = output.data[HTML_MIME_TYPE];\n",
       "      const script_attrs = bk_div.children[0].attributes;\n",
       "      for (let i = 0; i < script_attrs.length; i++) {\n",
       "        toinsert[toinsert.length - 1].firstChild.setAttribute(script_attrs[i].name, script_attrs[i].value);\n",
       "        toinsert[toinsert.length - 1].firstChild.textContent = bk_div.children[0].textContent\n",
       "      }\n",
       "      // store reference to server id on output_area\n",
       "      output_area._bokeh_server_id = output.metadata[EXEC_MIME_TYPE][\"server_id\"];\n",
       "    }\n",
       "  }\n",
       "\n",
       "  function register_renderer(events, OutputArea) {\n",
       "\n",
       "    function append_mime(data, metadata, element) {\n",
       "      // create a DOM node to render to\n",
       "      const toinsert = this.create_output_subarea(\n",
       "        metadata,\n",
       "        CLASS_NAME,\n",
       "        EXEC_MIME_TYPE\n",
       "      );\n",
       "      this.keyboard_manager.register_events(toinsert);\n",
       "      // Render to node\n",
       "      const props = {data: data, metadata: metadata[EXEC_MIME_TYPE]};\n",
       "      render(props, toinsert[toinsert.length - 1]);\n",
       "      element.append(toinsert);\n",
       "      return toinsert\n",
       "    }\n",
       "\n",
       "    /* Handle when an output is cleared or removed */\n",
       "    events.on('clear_output.CodeCell', handleClearOutput);\n",
       "    events.on('delete.Cell', handleClearOutput);\n",
       "\n",
       "    /* Handle when a new output is added */\n",
       "    events.on('output_added.OutputArea', handleAddOutput);\n",
       "\n",
       "    /**\n",
       "     * Register the mime type and append_mime function with output_area\n",
       "     */\n",
       "    OutputArea.prototype.register_mime_type(EXEC_MIME_TYPE, append_mime, {\n",
       "      /* Is output safe? */\n",
       "      safe: true,\n",
       "      /* Index of renderer in `output_area.display_order` */\n",
       "      index: 0\n",
       "    });\n",
       "  }\n",
       "\n",
       "  // register the mime type if in Jupyter Notebook environment and previously unregistered\n",
       "  if (root.Jupyter !== undefined) {\n",
       "    const events = require('base/js/events');\n",
       "    const OutputArea = require('notebook/js/outputarea').OutputArea;\n",
       "\n",
       "    if (OutputArea.prototype.mime_types().indexOf(EXEC_MIME_TYPE) == -1) {\n",
       "      register_renderer(events, OutputArea);\n",
       "    }\n",
       "  }\n",
       "  if (typeof (root._bokeh_timeout) === \"undefined\" || force === true) {\n",
       "    root._bokeh_timeout = Date.now() + 5000;\n",
       "    root._bokeh_failed_load = false;\n",
       "  }\n",
       "\n",
       "  const NB_LOAD_WARNING = {'data': {'text/html':\n",
       "     \"<div style='background-color: #fdd'>\\n\"+\n",
       "     \"<p>\\n\"+\n",
       "     \"BokehJS does not appear to have successfully loaded. If loading BokehJS from CDN, this \\n\"+\n",
       "     \"may be due to a slow or bad network connection. Possible fixes:\\n\"+\n",
       "     \"</p>\\n\"+\n",
       "     \"<ul>\\n\"+\n",
       "     \"<li>re-rerun `output_notebook()` to attempt to load from CDN again, or</li>\\n\"+\n",
       "     \"<li>use INLINE resources instead, as so:</li>\\n\"+\n",
       "     \"</ul>\\n\"+\n",
       "     \"<code>\\n\"+\n",
       "     \"from bokeh.resources import INLINE\\n\"+\n",
       "     \"output_notebook(resources=INLINE)\\n\"+\n",
       "     \"</code>\\n\"+\n",
       "     \"</div>\"}};\n",
       "\n",
       "  function display_loaded() {\n",
       "    const el = document.getElementById(\"b1ea5b70-785a-4cc4-83c5-7bbdc82434d4\");\n",
       "    if (el != null) {\n",
       "      el.textContent = \"BokehJS is loading...\";\n",
       "    }\n",
       "    if (root.Bokeh !== undefined) {\n",
       "      if (el != null) {\n",
       "        el.textContent = \"BokehJS \" + root.Bokeh.version + \" successfully loaded.\";\n",
       "      }\n",
       "    } else if (Date.now() < root._bokeh_timeout) {\n",
       "      setTimeout(display_loaded, 100)\n",
       "    }\n",
       "  }\n",
       "\n",
       "  function run_callbacks() {\n",
       "    try {\n",
       "      root._bokeh_onload_callbacks.forEach(function(callback) {\n",
       "        if (callback != null)\n",
       "          callback();\n",
       "      });\n",
       "    } finally {\n",
       "      delete root._bokeh_onload_callbacks\n",
       "    }\n",
       "    console.debug(\"Bokeh: all callbacks have finished\");\n",
       "  }\n",
       "\n",
       "  function load_libs(css_urls, js_urls, callback) {\n",
       "    if (css_urls == null) css_urls = [];\n",
       "    if (js_urls == null) js_urls = [];\n",
       "\n",
       "    root._bokeh_onload_callbacks.push(callback);\n",
       "    if (root._bokeh_is_loading > 0) {\n",
       "      console.debug(\"Bokeh: BokehJS is being loaded, scheduling callback at\", now());\n",
       "      return null;\n",
       "    }\n",
       "    if (js_urls == null || js_urls.length === 0) {\n",
       "      run_callbacks();\n",
       "      return null;\n",
       "    }\n",
       "    console.debug(\"Bokeh: BokehJS not loaded, scheduling load and callback at\", now());\n",
       "    root._bokeh_is_loading = css_urls.length + js_urls.length;\n",
       "\n",
       "    function on_load() {\n",
       "      root._bokeh_is_loading--;\n",
       "      if (root._bokeh_is_loading === 0) {\n",
       "        console.debug(\"Bokeh: all BokehJS libraries/stylesheets loaded\");\n",
       "        run_callbacks()\n",
       "      }\n",
       "    }\n",
       "\n",
       "    function on_error(url) {\n",
       "      console.error(\"failed to load \" + url);\n",
       "    }\n",
       "\n",
       "    for (let i = 0; i < css_urls.length; i++) {\n",
       "      const url = css_urls[i];\n",
       "      const element = document.createElement(\"link\");\n",
       "      element.onload = on_load;\n",
       "      element.onerror = on_error.bind(null, url);\n",
       "      element.rel = \"stylesheet\";\n",
       "      element.type = \"text/css\";\n",
       "      element.href = url;\n",
       "      console.debug(\"Bokeh: injecting link tag for BokehJS stylesheet: \", url);\n",
       "      document.body.appendChild(element);\n",
       "    }\n",
       "\n",
       "    for (let i = 0; i < js_urls.length; i++) {\n",
       "      const url = js_urls[i];\n",
       "      const element = document.createElement('script');\n",
       "      element.onload = on_load;\n",
       "      element.onerror = on_error.bind(null, url);\n",
       "      element.async = false;\n",
       "      element.src = url;\n",
       "      console.debug(\"Bokeh: injecting script tag for BokehJS library: \", url);\n",
       "      document.head.appendChild(element);\n",
       "    }\n",
       "  };\n",
       "\n",
       "  function inject_raw_css(css) {\n",
       "    const element = document.createElement(\"style\");\n",
       "    element.appendChild(document.createTextNode(css));\n",
       "    document.body.appendChild(element);\n",
       "  }\n",
       "\n",
       "  const js_urls = [\"https://cdn.bokeh.org/bokeh/release/bokeh-3.3.4.min.js\", \"https://cdn.bokeh.org/bokeh/release/bokeh-gl-3.3.4.min.js\", \"https://cdn.bokeh.org/bokeh/release/bokeh-widgets-3.3.4.min.js\", \"https://cdn.bokeh.org/bokeh/release/bokeh-tables-3.3.4.min.js\", \"https://cdn.bokeh.org/bokeh/release/bokeh-mathjax-3.3.4.min.js\"];\n",
       "  const css_urls = [];\n",
       "\n",
       "  const inline_js = [    function(Bokeh) {\n",
       "      Bokeh.set_log_level(\"info\");\n",
       "    },\n",
       "function(Bokeh) {\n",
       "    }\n",
       "  ];\n",
       "\n",
       "  function run_inline_js() {\n",
       "    if (root.Bokeh !== undefined || force === true) {\n",
       "          for (let i = 0; i < inline_js.length; i++) {\n",
       "      inline_js[i].call(root, root.Bokeh);\n",
       "    }\n",
       "if (force === true) {\n",
       "        display_loaded();\n",
       "      }} else if (Date.now() < root._bokeh_timeout) {\n",
       "      setTimeout(run_inline_js, 100);\n",
       "    } else if (!root._bokeh_failed_load) {\n",
       "      console.log(\"Bokeh: BokehJS failed to load within specified timeout.\");\n",
       "      root._bokeh_failed_load = true;\n",
       "    } else if (force !== true) {\n",
       "      const cell = $(document.getElementById(\"b1ea5b70-785a-4cc4-83c5-7bbdc82434d4\")).parents('.cell').data().cell;\n",
       "      cell.output_area.append_execute_result(NB_LOAD_WARNING)\n",
       "    }\n",
       "  }\n",
       "\n",
       "  if (root._bokeh_is_loading === 0) {\n",
       "    console.debug(\"Bokeh: BokehJS loaded, going straight to plotting\");\n",
       "    run_inline_js();\n",
       "  } else {\n",
       "    load_libs(css_urls, js_urls, function() {\n",
       "      console.debug(\"Bokeh: BokehJS plotting callback run at\", now());\n",
       "      run_inline_js();\n",
       "    });\n",
       "  }\n",
       "}(window));"
      ],
      "application/vnd.bokehjs_load.v0+json": "(function(root) {\n  function now() {\n    return new Date();\n  }\n\n  const force = true;\n\n  if (typeof root._bokeh_onload_callbacks === \"undefined\" || force === true) {\n    root._bokeh_onload_callbacks = [];\n    root._bokeh_is_loading = undefined;\n  }\n\n\n  if (typeof (root._bokeh_timeout) === \"undefined\" || force === true) {\n    root._bokeh_timeout = Date.now() + 5000;\n    root._bokeh_failed_load = false;\n  }\n\n  const NB_LOAD_WARNING = {'data': {'text/html':\n     \"<div style='background-color: #fdd'>\\n\"+\n     \"<p>\\n\"+\n     \"BokehJS does not appear to have successfully loaded. If loading BokehJS from CDN, this \\n\"+\n     \"may be due to a slow or bad network connection. Possible fixes:\\n\"+\n     \"</p>\\n\"+\n     \"<ul>\\n\"+\n     \"<li>re-rerun `output_notebook()` to attempt to load from CDN again, or</li>\\n\"+\n     \"<li>use INLINE resources instead, as so:</li>\\n\"+\n     \"</ul>\\n\"+\n     \"<code>\\n\"+\n     \"from bokeh.resources import INLINE\\n\"+\n     \"output_notebook(resources=INLINE)\\n\"+\n     \"</code>\\n\"+\n     \"</div>\"}};\n\n  function display_loaded() {\n    const el = document.getElementById(\"b1ea5b70-785a-4cc4-83c5-7bbdc82434d4\");\n    if (el != null) {\n      el.textContent = \"BokehJS is loading...\";\n    }\n    if (root.Bokeh !== undefined) {\n      if (el != null) {\n        el.textContent = \"BokehJS \" + root.Bokeh.version + \" successfully loaded.\";\n      }\n    } else if (Date.now() < root._bokeh_timeout) {\n      setTimeout(display_loaded, 100)\n    }\n  }\n\n  function run_callbacks() {\n    try {\n      root._bokeh_onload_callbacks.forEach(function(callback) {\n        if (callback != null)\n          callback();\n      });\n    } finally {\n      delete root._bokeh_onload_callbacks\n    }\n    console.debug(\"Bokeh: all callbacks have finished\");\n  }\n\n  function load_libs(css_urls, js_urls, callback) {\n    if (css_urls == null) css_urls = [];\n    if (js_urls == null) js_urls = [];\n\n    root._bokeh_onload_callbacks.push(callback);\n    if (root._bokeh_is_loading > 0) {\n      console.debug(\"Bokeh: BokehJS is being loaded, scheduling callback at\", now());\n      return null;\n    }\n    if (js_urls == null || js_urls.length === 0) {\n      run_callbacks();\n      return null;\n    }\n    console.debug(\"Bokeh: BokehJS not loaded, scheduling load and callback at\", now());\n    root._bokeh_is_loading = css_urls.length + js_urls.length;\n\n    function on_load() {\n      root._bokeh_is_loading--;\n      if (root._bokeh_is_loading === 0) {\n        console.debug(\"Bokeh: all BokehJS libraries/stylesheets loaded\");\n        run_callbacks()\n      }\n    }\n\n    function on_error(url) {\n      console.error(\"failed to load \" + url);\n    }\n\n    for (let i = 0; i < css_urls.length; i++) {\n      const url = css_urls[i];\n      const element = document.createElement(\"link\");\n      element.onload = on_load;\n      element.onerror = on_error.bind(null, url);\n      element.rel = \"stylesheet\";\n      element.type = \"text/css\";\n      element.href = url;\n      console.debug(\"Bokeh: injecting link tag for BokehJS stylesheet: \", url);\n      document.body.appendChild(element);\n    }\n\n    for (let i = 0; i < js_urls.length; i++) {\n      const url = js_urls[i];\n      const element = document.createElement('script');\n      element.onload = on_load;\n      element.onerror = on_error.bind(null, url);\n      element.async = false;\n      element.src = url;\n      console.debug(\"Bokeh: injecting script tag for BokehJS library: \", url);\n      document.head.appendChild(element);\n    }\n  };\n\n  function inject_raw_css(css) {\n    const element = document.createElement(\"style\");\n    element.appendChild(document.createTextNode(css));\n    document.body.appendChild(element);\n  }\n\n  const js_urls = [\"https://cdn.bokeh.org/bokeh/release/bokeh-3.3.4.min.js\", \"https://cdn.bokeh.org/bokeh/release/bokeh-gl-3.3.4.min.js\", \"https://cdn.bokeh.org/bokeh/release/bokeh-widgets-3.3.4.min.js\", \"https://cdn.bokeh.org/bokeh/release/bokeh-tables-3.3.4.min.js\", \"https://cdn.bokeh.org/bokeh/release/bokeh-mathjax-3.3.4.min.js\"];\n  const css_urls = [];\n\n  const inline_js = [    function(Bokeh) {\n      Bokeh.set_log_level(\"info\");\n    },\nfunction(Bokeh) {\n    }\n  ];\n\n  function run_inline_js() {\n    if (root.Bokeh !== undefined || force === true) {\n          for (let i = 0; i < inline_js.length; i++) {\n      inline_js[i].call(root, root.Bokeh);\n    }\nif (force === true) {\n        display_loaded();\n      }} else if (Date.now() < root._bokeh_timeout) {\n      setTimeout(run_inline_js, 100);\n    } else if (!root._bokeh_failed_load) {\n      console.log(\"Bokeh: BokehJS failed to load within specified timeout.\");\n      root._bokeh_failed_load = true;\n    } else if (force !== true) {\n      const cell = $(document.getElementById(\"b1ea5b70-785a-4cc4-83c5-7bbdc82434d4\")).parents('.cell').data().cell;\n      cell.output_area.append_execute_result(NB_LOAD_WARNING)\n    }\n  }\n\n  if (root._bokeh_is_loading === 0) {\n    console.debug(\"Bokeh: BokehJS loaded, going straight to plotting\");\n    run_inline_js();\n  } else {\n    load_libs(css_urls, js_urls, function() {\n      console.debug(\"Bokeh: BokehJS plotting callback run at\", now());\n      run_inline_js();\n    });\n  }\n}(window));"
     },
     "metadata": {},
     "output_type": "display_data"
    },
    {
     "data": {
      "text/html": [
       "\n",
       "  <div id=\"a66d43dc-b7c6-43d3-8831-182c1986ad19\" data-root-id=\"p1032\" style=\"display: contents;\"></div>\n"
      ]
     },
     "metadata": {},
     "output_type": "display_data"
    },
    {
     "data": {
      "application/javascript": [
       "(function(root) {\n",
       "  function embed_document(root) {\n",
       "  const docs_json = {\"74a0a239-f951-4dc2-9c83-888df0fbb0fd\":{\"version\":\"3.3.4\",\"title\":\"Bokeh Application\",\"roots\":[{\"type\":\"object\",\"name\":\"DataTable\",\"id\":\"p1032\",\"attributes\":{\"source\":{\"type\":\"object\",\"name\":\"ColumnDataSource\",\"id\":\"p1010\",\"attributes\":{\"selected\":{\"type\":\"object\",\"name\":\"Selection\",\"id\":\"p1011\",\"attributes\":{\"indices\":[],\"line_indices\":[]}},\"selection_policy\":{\"type\":\"object\",\"name\":\"UnionRenderers\",\"id\":\"p1012\"},\"data\":{\"type\":\"map\",\"entries\":[[\"color\",[\"#dcdcdc\",\"#3c3285\",\"#4353c2\",\"#4673eb\",\"#4291fe\",\"#2fb1f3\",\"#1ccdd7\",\"#19e3b8\",\"#32f197\",\"#61fc6c\",\"#8efe48\",\"#b1f836\",\"#cfea34\",\"#ead339\",\"#f9ba38\",\"#fe9b2d\",\"#f9771e\",\"#ec520e\",\"#d93806\",\"#c02302\",\"#a01101\"]],[\"label\",[\"ABSTAIN\",\"alt.atheism\",\"comp.graphics\",\"comp.os.ms-windows.misc\",\"comp.sys.ibm.pc.hardware\",\"comp.sys.mac.hardware\",\"comp.windows.x\",\"misc.forsale\",\"rec.autos\",\"rec.motorcycles\",\"rec.sport.baseball\",\"rec.sport.hockey\",\"sci.crypt\",\"sci.electronics\",\"sci.med\",\"sci.space\",\"soc.religion.christian\",\"talk.politics.guns\",\"talk.politics.mideast\",\"talk.politics.misc\",\"talk.religion.misc\"]],[\"count_raw\",[368,0,0,0,0,0,0,0,0,0,0,0,0,0,0,0,0,0,0,0,0]],[\"count_train\",[0,23,25,18,24,18,28,17,21,17,18,13,20,19,20,18,20,22,14,14,13]],[\"count_dev\",[0,2,1,5,4,3,5,7,4,5,4,8,5,8,2,4,10,3,4,4,4]],[\"count_test\",[0,3,4,8,3,3,1,8,6,5,7,5,6,4,6,3,8,3,5,3,7]]]}}},\"view\":{\"type\":\"object\",\"name\":\"CDSView\",\"id\":\"p1036\",\"attributes\":{\"filter\":{\"type\":\"object\",\"name\":\"AllIndices\",\"id\":\"p1037\"}}},\"columns\":[{\"type\":\"object\",\"name\":\"TableColumn\",\"id\":\"p1013\",\"attributes\":{\"field\":\"label\",\"title\":\"label\",\"formatter\":{\"type\":\"object\",\"name\":\"StringFormatter\",\"id\":\"p1014\"},\"editor\":{\"type\":\"object\",\"name\":\"StringEditor\",\"id\":\"p1015\"}}},{\"type\":\"object\",\"name\":\"TableColumn\",\"id\":\"p1016\",\"attributes\":{\"field\":\"count_raw\",\"title\":\"raw\",\"formatter\":{\"type\":\"object\",\"name\":\"StringFormatter\",\"id\":\"p1017\"},\"editor\":{\"type\":\"object\",\"name\":\"StringEditor\",\"id\":\"p1018\"}}},{\"type\":\"object\",\"name\":\"TableColumn\",\"id\":\"p1019\",\"attributes\":{\"field\":\"count_train\",\"title\":\"train\",\"formatter\":{\"type\":\"object\",\"name\":\"StringFormatter\",\"id\":\"p1020\"},\"editor\":{\"type\":\"object\",\"name\":\"StringEditor\",\"id\":\"p1021\"}}},{\"type\":\"object\",\"name\":\"TableColumn\",\"id\":\"p1022\",\"attributes\":{\"field\":\"count_dev\",\"title\":\"dev\",\"formatter\":{\"type\":\"object\",\"name\":\"StringFormatter\",\"id\":\"p1023\"},\"editor\":{\"type\":\"object\",\"name\":\"StringEditor\",\"id\":\"p1024\"}}},{\"type\":\"object\",\"name\":\"TableColumn\",\"id\":\"p1025\",\"attributes\":{\"field\":\"count_test\",\"title\":\"test\",\"formatter\":{\"type\":\"object\",\"name\":\"StringFormatter\",\"id\":\"p1026\"},\"editor\":{\"type\":\"object\",\"name\":\"StringEditor\",\"id\":\"p1027\"}}},{\"type\":\"object\",\"name\":\"TableColumn\",\"id\":\"p1029\",\"attributes\":{\"field\":\"color\",\"title\":\"color\",\"formatter\":{\"type\":\"object\",\"name\":\"HTMLTemplateFormatter\",\"id\":\"p1028\",\"attributes\":{\"template\":\"\\n<p style=\\\"color:<%= value %>;\\\">\\n    <%= \\\"&#9608;&#9608;&#9608;\\\" %>\\n</p>\\n\"}},\"editor\":{\"type\":\"object\",\"name\":\"StringEditor\",\"id\":\"p1031\"}}}]}}]}};\n",
       "  const render_items = [{\"docid\":\"74a0a239-f951-4dc2-9c83-888df0fbb0fd\",\"roots\":{\"p1032\":\"a66d43dc-b7c6-43d3-8831-182c1986ad19\"},\"root_ids\":[\"p1032\"]}];\n",
       "  root.Bokeh.embed.embed_items_notebook(docs_json, render_items);\n",
       "  }\n",
       "  if (root.Bokeh !== undefined) {\n",
       "    embed_document(root);\n",
       "  } else {\n",
       "    let attempts = 0;\n",
       "    const timer = setInterval(function(root) {\n",
       "      if (root.Bokeh !== undefined) {\n",
       "        clearInterval(timer);\n",
       "        embed_document(root);\n",
       "      } else {\n",
       "        attempts++;\n",
       "        if (attempts > 100) {\n",
       "          clearInterval(timer);\n",
       "          console.log(\"Bokeh: ERROR: Unable to run BokehJS code because BokehJS library is missing\");\n",
       "        }\n",
       "      }\n",
       "    }, 10, root)\n",
       "  }\n",
       "})(window);"
      ],
      "application/vnd.bokehjs_exec.v0+json": ""
     },
     "metadata": {
      "application/vnd.bokehjs_exec.v0+json": {
       "id": "p1032"
      }
     },
     "output_type": "display_data"
    }
   ],
   "source": [
    "from bokeh.io import show, output_notebook\n",
    "\n",
    "output_notebook()\n",
    "\n",
    "# normally your would skip notebook_url or use Jupyter address\n",
    "notebook_url = 'localhost:8888'\n",
    "\n",
    "show(dataset.pop_table, notebook_url=notebook_url)"
   ]
  },
  {
   "cell_type": "markdown",
   "id": "b93b3b3b",
   "metadata": {},
   "source": [
    "<br>\n",
    "\n",
    "### **Transfer Data Between Subsets**\n",
    "\n",
    "`COMMIT` and `DEDUP` are the mechanisms that `hover` uses to transfer data between subsets.\n",
    "\n",
    "-   `COMMIT` copies selected points (to be discussed later) to a destination subset\n",
    "    -   labeled-raw-only: `COMMIT` automatically detects which points are in the raw set with a valid label. Other points will not get copied.\n",
    "    -   keep-last: you can commit the same point to the same subset multiple times and the last copy will be kept. This can be useful for revising labels before `DEDUP`.\n",
    "-   `DEDUP` removes duplicates (identified by feature value) across subsets\n",
    "    -   priority rule: test > dev > train > raw, i.e. test set data always gets kept during deduplication\n",
    "\n",
    "-   <details open><summary>FAQ</summary>\n",
    "    <details open><summary>Why does COMMIT only work on the raw subset?</summary>\n",
    "        Most selections will happen through plots, where different subsets are on top of each other. This means selections can contain both unlabeled and labeled points.\n",
    "\n",
    "        Way too often we find ourselves trying to view both the labeled and the unlabeled, but only moving the unlabeled \"raw\" points. So it's handy that COMMIT picks those points only.\n",
    "    </details>\n",
    "\n",
    "</details>\n",
    "\n",
    "These mechanisms correspond to buttons in `hover`'s annotation interface, which you have encountered in the quickstart:"
   ]
  },
  {
   "cell_type": "code",
   "execution_count": 3,
   "id": "ac20e421",
   "metadata": {
    "execution": {
     "iopub.execute_input": "2024-03-05T01:19:54.729170Z",
     "iopub.status.busy": "2024-03-05T01:19:54.728961Z",
     "iopub.status.idle": "2024-03-05T01:19:54.747368Z",
     "shell.execute_reply": "2024-03-05T01:19:54.746690Z"
    }
   },
   "outputs": [
    {
     "name": "stderr",
     "output_type": "stream",
     "text": [
      "WARNING:bokeh.embed.util:\n",
      "You are generating standalone HTML/JS output, but trying to use real Python\n",
      "callbacks (i.e. with on_change or on_event). This combination cannot work.\n",
      "\n",
      "Only JavaScript callbacks may be used with standalone output. For more\n",
      "information on JavaScript callbacks with Bokeh, see:\n",
      "\n",
      "    https://docs.bokeh.org/en/latest/docs/user_guide/interaction/callbacks.html\n",
      "\n",
      "Alternatively, to use real Python callbacks, a Bokeh server application may\n",
      "be used. For more information on building and running Bokeh applications, see:\n",
      "\n",
      "    https://docs.bokeh.org/en/latest/docs/user_guide/server.html\n",
      "\n"
     ]
    },
    {
     "data": {
      "text/html": [
       "\n",
       "  <div id=\"dbe33ea6-7cb6-4804-8ba6-809ce2afc602\" data-root-id=\"p1056\" style=\"display: contents;\"></div>\n"
      ]
     },
     "metadata": {},
     "output_type": "display_data"
    },
    {
     "data": {
      "application/javascript": [
       "(function(root) {\n",
       "  function embed_document(root) {\n",
       "  const docs_json = {\"832a313c-9f57-456c-a85e-f5b9da613a96\":{\"version\":\"3.3.4\",\"title\":\"Bokeh Application\",\"roots\":[{\"type\":\"object\",\"name\":\"Column\",\"id\":\"p1056\",\"attributes\":{\"children\":[{\"type\":\"object\",\"name\":\"Row\",\"id\":\"p1055\",\"attributes\":{\"children\":[{\"type\":\"object\",\"name\":\"Dropdown\",\"id\":\"p1002\",\"attributes\":{\"button_type\":\"warning\",\"subscribed_events\":{\"type\":\"set\",\"entries\":[\"menu_item_click\",\"button_click\"]},\"label\":\"Commit\",\"menu\":[\"train\",\"dev\",\"test\"]}},{\"type\":\"object\",\"name\":\"Button\",\"id\":\"p1003\",\"attributes\":{\"button_type\":\"warning\",\"subscribed_events\":{\"type\":\"set\",\"entries\":[\"button_click\"]},\"label\":\"Dedup\"}}]}},{\"type\":\"object\",\"name\":\"DataTable\",\"id\":\"p1032\",\"attributes\":{\"source\":{\"type\":\"object\",\"name\":\"ColumnDataSource\",\"id\":\"p1010\",\"attributes\":{\"selected\":{\"type\":\"object\",\"name\":\"Selection\",\"id\":\"p1011\",\"attributes\":{\"indices\":[],\"line_indices\":[]}},\"selection_policy\":{\"type\":\"object\",\"name\":\"UnionRenderers\",\"id\":\"p1012\"},\"data\":{\"type\":\"map\",\"entries\":[[\"color\",[\"#dcdcdc\",\"#3c3285\",\"#4353c2\",\"#4673eb\",\"#4291fe\",\"#2fb1f3\",\"#1ccdd7\",\"#19e3b8\",\"#32f197\",\"#61fc6c\",\"#8efe48\",\"#b1f836\",\"#cfea34\",\"#ead339\",\"#f9ba38\",\"#fe9b2d\",\"#f9771e\",\"#ec520e\",\"#d93806\",\"#c02302\",\"#a01101\"]],[\"label\",[\"ABSTAIN\",\"alt.atheism\",\"comp.graphics\",\"comp.os.ms-windows.misc\",\"comp.sys.ibm.pc.hardware\",\"comp.sys.mac.hardware\",\"comp.windows.x\",\"misc.forsale\",\"rec.autos\",\"rec.motorcycles\",\"rec.sport.baseball\",\"rec.sport.hockey\",\"sci.crypt\",\"sci.electronics\",\"sci.med\",\"sci.space\",\"soc.religion.christian\",\"talk.politics.guns\",\"talk.politics.mideast\",\"talk.politics.misc\",\"talk.religion.misc\"]],[\"count_raw\",[368,0,0,0,0,0,0,0,0,0,0,0,0,0,0,0,0,0,0,0,0]],[\"count_train\",[0,23,25,18,24,18,28,17,21,17,18,13,20,19,20,18,20,22,14,14,13]],[\"count_dev\",[0,2,1,5,4,3,5,7,4,5,4,8,5,8,2,4,10,3,4,4,4]],[\"count_test\",[0,3,4,8,3,3,1,8,6,5,7,5,6,4,6,3,8,3,5,3,7]]]}}},\"view\":{\"type\":\"object\",\"name\":\"CDSView\",\"id\":\"p1036\",\"attributes\":{\"filter\":{\"type\":\"object\",\"name\":\"AllIndices\",\"id\":\"p1037\"}}},\"columns\":[{\"type\":\"object\",\"name\":\"TableColumn\",\"id\":\"p1013\",\"attributes\":{\"field\":\"label\",\"title\":\"label\",\"formatter\":{\"type\":\"object\",\"name\":\"StringFormatter\",\"id\":\"p1014\"},\"editor\":{\"type\":\"object\",\"name\":\"StringEditor\",\"id\":\"p1015\"}}},{\"type\":\"object\",\"name\":\"TableColumn\",\"id\":\"p1016\",\"attributes\":{\"field\":\"count_raw\",\"title\":\"raw\",\"formatter\":{\"type\":\"object\",\"name\":\"StringFormatter\",\"id\":\"p1017\"},\"editor\":{\"type\":\"object\",\"name\":\"StringEditor\",\"id\":\"p1018\"}}},{\"type\":\"object\",\"name\":\"TableColumn\",\"id\":\"p1019\",\"attributes\":{\"field\":\"count_train\",\"title\":\"train\",\"formatter\":{\"type\":\"object\",\"name\":\"StringFormatter\",\"id\":\"p1020\"},\"editor\":{\"type\":\"object\",\"name\":\"StringEditor\",\"id\":\"p1021\"}}},{\"type\":\"object\",\"name\":\"TableColumn\",\"id\":\"p1022\",\"attributes\":{\"field\":\"count_dev\",\"title\":\"dev\",\"formatter\":{\"type\":\"object\",\"name\":\"StringFormatter\",\"id\":\"p1023\"},\"editor\":{\"type\":\"object\",\"name\":\"StringEditor\",\"id\":\"p1024\"}}},{\"type\":\"object\",\"name\":\"TableColumn\",\"id\":\"p1025\",\"attributes\":{\"field\":\"count_test\",\"title\":\"test\",\"formatter\":{\"type\":\"object\",\"name\":\"StringFormatter\",\"id\":\"p1026\"},\"editor\":{\"type\":\"object\",\"name\":\"StringEditor\",\"id\":\"p1027\"}}},{\"type\":\"object\",\"name\":\"TableColumn\",\"id\":\"p1029\",\"attributes\":{\"field\":\"color\",\"title\":\"color\",\"formatter\":{\"type\":\"object\",\"name\":\"HTMLTemplateFormatter\",\"id\":\"p1028\",\"attributes\":{\"template\":\"\\n<p style=\\\"color:<%= value %>;\\\">\\n    <%= \\\"&#9608;&#9608;&#9608;\\\" %>\\n</p>\\n\"}},\"editor\":{\"type\":\"object\",\"name\":\"StringEditor\",\"id\":\"p1031\"}}}]}}]}}]}};\n",
       "  const render_items = [{\"docid\":\"832a313c-9f57-456c-a85e-f5b9da613a96\",\"roots\":{\"p1056\":\"dbe33ea6-7cb6-4804-8ba6-809ce2afc602\"},\"root_ids\":[\"p1056\"]}];\n",
       "  root.Bokeh.embed.embed_items_notebook(docs_json, render_items);\n",
       "  }\n",
       "  if (root.Bokeh !== undefined) {\n",
       "    embed_document(root);\n",
       "  } else {\n",
       "    let attempts = 0;\n",
       "    const timer = setInterval(function(root) {\n",
       "      if (root.Bokeh !== undefined) {\n",
       "        clearInterval(timer);\n",
       "        embed_document(root);\n",
       "      } else {\n",
       "        attempts++;\n",
       "        if (attempts > 100) {\n",
       "          clearInterval(timer);\n",
       "          console.log(\"Bokeh: ERROR: Unable to run BokehJS code because BokehJS library is missing\");\n",
       "        }\n",
       "      }\n",
       "    }, 10, root)\n",
       "  }\n",
       "})(window);"
      ],
      "application/vnd.bokehjs_exec.v0+json": ""
     },
     "metadata": {
      "application/vnd.bokehjs_exec.v0+json": {
       "id": "p1056"
      }
     },
     "output_type": "display_data"
    }
   ],
   "source": [
    "from bokeh.layouts import row, column\n",
    "\n",
    "show(column(\n",
    "    row(\n",
    "        dataset.data_committer,\n",
    "        dataset.dedup_trigger,\n",
    "    ),\n",
    "    dataset.pop_table,\n",
    "), notebook_url=notebook_url)"
   ]
  },
  {
   "cell_type": "markdown",
   "id": "09a2d23a",
   "metadata": {},
   "source": [
    "<br>\n",
    "\n",
    "Of course, so far we have nothing to move, because there's no data selected. We shall now discuss selections.\n",
    "\n",
    "## **Selection**\n",
    "\n",
    "`hover` labels data points in bulk, which requires selecting groups of homogeneous data, i.e. semantically similar or going to have the same label. Being able to skim through what you selected gives you confidence about homogeneity.\n",
    "\n",
    "Normally, selection happens through a plot (`explorer`), as we have seen in the quickstart. For the purpose here, we will \"cheat\" and assign the selection programmatically:"
   ]
  },
  {
   "cell_type": "code",
   "execution_count": 4,
   "id": "ed9d8e01",
   "metadata": {
    "execution": {
     "iopub.execute_input": "2024-03-05T01:19:54.750057Z",
     "iopub.status.busy": "2024-03-05T01:19:54.749695Z",
     "iopub.status.idle": "2024-03-05T01:19:54.764147Z",
     "shell.execute_reply": "2024-03-05T01:19:54.763561Z"
    }
   },
   "outputs": [
    {
     "data": {
      "text/html": [
       "<pre style=\"white-space:pre;overflow-x:auto;line-height:normal;font-family:Menlo,'DejaVu Sans Mono',consolas,'Courier New',monospace\"><span style=\"color: #008000; text-decoration-color: #008000\">🟢 SupervisableTextDataset: Selection table: latest selection with </span><span style=\"color: #008080; text-decoration-color: #008080; font-weight: bold\">10</span><span style=\"color: #008000; text-decoration-color: #008000\"> entries.</span>\n",
       "</pre>\n"
      ],
      "text/plain": [
       "\u001b[32m🟢 SupervisableTextDataset: Selection table: latest selection with \u001b[0m\u001b[1;36m10\u001b[0m\u001b[32m entries.\u001b[0m\n"
      ]
     },
     "metadata": {},
     "output_type": "display_data"
    },
    {
     "data": {
      "text/html": [
       "\n",
       "  <div id=\"d199996c-7f8e-42d9-86ec-4cf2047397f8\" data-root-id=\"p1049\" style=\"display: contents;\"></div>\n"
      ]
     },
     "metadata": {},
     "output_type": "display_data"
    },
    {
     "data": {
      "application/javascript": [
       "(function(root) {\n",
       "  function embed_document(root) {\n",
       "  const docs_json = {\"8a080d79-60a2-4638-8bae-109a7293ddb4\":{\"version\":\"3.3.4\",\"title\":\"Bokeh Application\",\"roots\":[{\"type\":\"object\",\"name\":\"DataTable\",\"id\":\"p1049\",\"attributes\":{\"source\":{\"type\":\"object\",\"name\":\"ColumnDataSource\",\"id\":\"p1038\",\"attributes\":{\"selected\":{\"type\":\"object\",\"name\":\"Selection\",\"id\":\"p1039\",\"attributes\":{\"indices\":[],\"line_indices\":[]}},\"selection_policy\":{\"type\":\"object\",\"name\":\"UnionRenderers\",\"id\":\"p1040\"},\"data\":{\"type\":\"map\",\"entries\":[[\"text\",[\"record hand\",\"mjs>No No No No!! All I am saying is that you don't even need to tell people mjs>the technique of countersteering, cos they will do it intuitively the first mjs>time they try to go round a corner.  karr>Are you sure?  Remember that you *can* get around corners without karr>countersteering.  In fact, my Experienced Rider Course instructors karr>claimed that they could get on behind a new rider and make the bike karr>turn to whichever side they wanted just by shifting their weight karr>around, even when the operator was trying to turn in the opposite karr>direction.  (I admit I've never actually seen this.)  I've experienced this, back when I was young(er) and (more) foolish...  My first bike used to track extremely true.  Going down the highway, I would set the throttle tension screw up enough to hold the gas steady, slide back on the seat and lean against the backrest, riding without any hands.  If I needed to turn, I'd shift my weight into the turn, and lo and behold, the bike would turn, sans touching the bars! Granted, it wouldn't turn very fast, but it proves that you can turn a bike without countersteering, at least not in terms of the input to the bar normally associated with countersteering.  As I've said, I know many people who think all you do is lean, and any input they're giving to the bar is totally unconscious.  Whereas that may be sufficient to get you down the road under normal circumstances, possibly for years at a stretch, I can't think of anybody who'd argue that this is preferable to properly knowing how to manipulate the bar in a turn, regardless of what you want to call it.  Except maybe for Mr. Sixsmith...  ;^)  Mr. Bill\",\"Forsale: Nintendo control Deck with two controllers and gun, one controller has grips attached.  the NES will only connect to a composite monitor or TV with audio and video RCA Input jacks and needs some repairs.  25$ or best offer  games for sale  15$  Tecmo Baseball 15$  Techmo Bowl 15$  Double Dribble 15$  Wayne Gretzky Hockey 15$  Golf 10$  Super Mario/Duck Hunt 15$  Super Mario II 20$  Super Mario III 15$  Teenage Mutant Ninja Turtles the Arcade game 15$  MegaMan 3 10$  Toobin' 10$  Spelunker 25$  Tecmo Super Bowl ============ 175$ total, I'll give all of them to you for the best offer and throw in the control deck...  I'll also accept the best offer for each of the games individually.  the oldest of these is two years old, most of them are less than a year old.  Email at tligman@andy.bgsu.edu Phone at 1 (419) 372-5954 \",\"THE WHITE HOUSE                      Office of the Press Secretary ______________________________________________________________ For Immediate Release                             April 13, 1993                                    REMARKS BY THE PRESIDENT,                SECRETARY OF EDUCATION RICHARD RILEY AND                    SECRETARY OF LABOR ROBERT REICH  IN                  GOALS 2000 SATELLITE TOWN HALL MEETING                             Chamber of Commerce Building                            Washington, D.C.       8:30 P.M. EDT                     SECRETARY RILEY:  Good evening and welcome to all of you  in the thousands of communities around the country that are taking  part in this satellite town meeting for the month of April.              You know, today is April 13th.  In 1743, Thomas  Jefferson was born, 250 years ago.  I think that's appropriate to  mention at the beginning of this meeting because since that time he  has been, of course, a person who has been one that we've all  followed in terms of our democracy and the importance of education  here in this great country.  The success of our democracy according  to Jefferson really depends upon the success of our educational  system.              His philosophy of government, his belief in the  importance of education is also very meaningful to our special guest  here this evening.  Tonight we're so pleased to have with us  President Clinton.  He's come over from the White House to join us in  the Chamber of Commerce studios.                Mr. President, it's good to have you.  We thank you for  taking the time to visit with these communities here on the satellite  network and we welcome you here this evening.              Also we have with us Secretary of Labor Robert Reich.   And, Bob, it's certainly pleasant to have you with us this evening  also.              I have some questions for our two guests, and I'm sure  many of you do, too.  So please call us if there's something that  you'd like to ask.  The number is 1/800/368-5781 or 5782.  In  Washington, D.C. the number is 202/463-3170 or 3171.              I believe the President has a few words that he might  want to share with us.  And, Mr. President, I'll ask you to do that  at this time.  It's great to have you.              THE PRESIDENT:  Thank you very much, Mr. Secretary.              I'm glad to be here with my friends, Dick Riley and Bob  Reich -- also members of my Cabinet -- at the headquarters of the  Chamber of Commerce to support the effort that the Chamber is making,  along with its Center for Work Force Preparation, to help to examine  tonight the whole critical question of how to move our young people  from school to the work place.              I want to compliment the Chamber on all their efforts,  recognizing that without an educated work force we can't grow this  economy or remain competitive, and recognizing that we all have to  work together -- business and government, labor and educators -- to  make things happen.              This satellite town meeting is a good example of that  kind of working together.  And if you'll forgive me a little home  state pride, I want to say a special word of thanks to the Wal-Mart  Corporation, headquartered in Bentonville, Arkansas, for providing  several hundred of the sites for this town meeting tonight.  I  appreciate that a lot, as well as the sites that are provided for all  the rest of you.              I have tried as hard as I could to move toward  constructive change for this country.  Secretary Riley talked about  this being Thomas Jefferson's 250th birthday.  If Thomas Jefferson  believed in anything, he believed in these three things:  first, in  education; second, in real personal liberty, freedom of religion,  freedom of speech, freedom of association, freedom of the press; and  third, in the absolute imperative of changing as times change.                If you go to the Jefferson Memorial here in this  beautiful city, which is now bedecked with all of its wonderful  cherry blossoms, you will see Jefferson saying that we have to change  with changing times.              For us here in America, that means reducing our deficit  and increasing our investment and putting our people first so that we  can compete in the world.  We're here to talk about that tonight -- about what we can do to educate and train our people better.  Unless  we do that, none of the efforts that all the rest of us make in  government, even to bring the budget into balance, even to increase  our investment in other things which will grow jobs, will last in the  long run.              We also have to have people who can carry their load.   And in a world where the average young person will change jobs seven  or eight times in a lifetime, that begins with the education system  and continues into the work force where education must go on for a  lifetime.  It's not just important what you know, but what you can  learn.              And if I might, I'd like to close just by emphasizing  we're doing our best to try to have the most innovative partnership  between the Labor Department and the Education Department and the  private sector to build a good school-to-work transition.  And we're  trying to get off to a good start this summer with a program that  would create more than 700,000 new summer jobs, including many  thousands that have a strong education component so our young people  can be learning and working at the same time.              Dick, I think I ought to stop there.  That's a good  place we can begin, I think, the discussion.              SECRETARY RILEY:  Thank you so much, Mr. President.              Each month we get together and talk about ways that all  citizens can work towards reaching the national education goals.  And  tonight, we'll focus on goal five, and how communities such as yours  can prepare students for this world of work.              This week, the Education Department and the Labor  Department are hosting a conference here in Washington, D.C. called  Summer Challenge, a program of work and learning, to America's youth.   The aim is to use some special funds from President Clinton's  proposed economic stimulus package to provide educationally-enriched  jobs and summer school programs for young people in disadvantaged  areas of the country.                Mr. President, let's talk a minute -- you alluded to it  somewhat -- about the  Summer Youth Challenge.  Your program calls  for more educational enrichment in the summer jobs.  And why in your  words is that so important?              THE PRESIDENT:  I think it's important for two reasons.   First of all, a lot of the young people we're trying to reach may  have had trouble adjusting to school and learning.  And while we want  them to have a good experience with a real job, we also want them to  continue to learn during the summer because we know from a lot of  research that a lot of kids that have trouble learning in school may  forget as much as 30 percent of what they learned the previous year  over the summertime.  And that is a very unproductive thing for  schools to have to take up a lot of time teaching what they already  taught before.              Secondly, we want to help these young people progress,  not only in terms of work, but in terms of learning.  We want to  abolish the artificial dividing line between what is work and what is  learning because we think that the best and most productive workers  will have to be lifetime learners.  And we think that this experience  could maybe drive that point home and prepare these young people to  succeed in school, or at work, or in college as they go on.              SECRETARY RILEY:  Well, I think the fact that these are  disadvantaged kids -- that gap, that lag you mentioned as they go  into the next year, is really even greater.                Secretary Reich, of course, you have training programs  throughout the year.  And I wonder is you have any comment about this  educational component of training.              SECRETARY REICH:  Well, what we've learned, Mr.  Secretary, is that for many young people, whether it's for the summer  or for the year, actually on-the-job work experience combined with  education is one of the best ways of learning.  Many young people,  for example, have a lot -- they have a difficult time learning  geometry.  But when they actually are there building something or  working on something, and they can see the exact and direct  application of geometry, they understand what it's used for.  And a  lot of young people -- just that sense of connection between  education and the world of work is terribly, terribly important.   It's important during the summer, but it's important for a lot of  young people even beyond the summer.              SECRETARY RILEY:  Thank you.                Mr. President, you've called for a youth apprenticeship  program, school-to-work transition.  And I wonder if you would tell  us a little bit about your concept of that and how you see it  developing.              THE PRESIDENT:  Well, first of all, let's talk about why  it's important.  Most new jobs that will be created in this decade  will not require a four-year college degree, but most of them will  require some learning and skills that go well beyond what most people  get in a high school diploma.                If you look at the last 10 years, the average salaries  of young people that had at least two years of good post-high school  education was a good salary that went up over the decade.  The young  people who had less than that tended to have lower wages that did not  go up, and in many cases in real terms fell over the decade, because  they weren't productive, they weren't more valuable to their  employers.              So we think America has a big economic interest in  trying to ensure that all the young people who get out of high school  but don't go on to college make a transition to work, which includes  two years of further training either in a community college, a  vocational setting, or perhaps on the job.  And what I have done in  this budget, as you know, is to give you and Secretary Reich some  funds and some incentives to try to work in partnership with states  and with the private sector to build these programs state-by-state in  a way that would be customized essentially by the business community,  based on the needs of the economy in any given area.  It could  revolutionize long-term the quality of the American work force and  the earnings of American workers.              SECRETARY REICH:  I should add, Mr. President -- I think  you know this from your experience in Arkansas -- and many of the  people watching this program -- that the business community and  educators, labor groups are already in many of our communities, many  of our states, building a school-to-work transition program.  In  fact, there's an awful lot of ferment, a lot of excitement.  The  people watching this program probably are the ones who are most  directly involved in that.  And more power to them.  Secretary Riley  and I are going to do everything we can to build on the successes  already out there.              SECRETARY RILEY:  Bob, we're going to be talking tonight  about youth apprenticeship and tech prep, the co-op learning   career academies.  And what features all those programs that deal  with this subject -- what are some of the features that every one of  these school-to-work programs might have that   are important?              SECRETARY REICH:  Well, one thing that we've seen -- and  you and I have been working at this for a long time, and you much  longer than I -- we've seen that active involvement of the business  community is absolutely essential.  And I'm so delighted that we're  doing this in the headquarters of the Chamber of Commerce.  The  Chamber of Commerce of the United States is committed to doing these  kinds of programs -- training, education, retraining -- and we've  aimed to work very closely with the Chamber.              The business community is going to be actively engaged  in developing almost an audit of the kind of jobs that are needed and  helping the educators, community colleges, technical institutions  develop curricula that are relevant for the jobs of the future.              Communities have got to come together.  I mean, this is  one of the most important things.  You've got to have all of these  players in a community come together and work together and cooperate  together.  You know, too often we have the educators over here and  the business leaders over here, labor groups over here and everybody  is talking, but they're not really working together in a common  strategy.              And the third and final ingredient I would say, Dick,  would be a commitment to excellence -- a commitment both to academic  excellence and also to skills development excellence.  This is not a  tracking program we're talking about for kids who are not going to  make it.  This is a program that every young person ought to be  eligible for.  If they want to go on beyond that to four-year  college, that's fine.  That ought to be permissible.  But we're  talking about the foundation of learning about jobs, the foundation  skills for on-the-job learning.              And again, those are the critical components.  It's  already being done.              THE PRESIDENT:  I think -- if I might just interject one  point based on my personal experience at home -- the business  community has a critical role to play, not simply in saying here are  the job skills that are needed and here's what ought to be taught,  but also in monitoring that excellence.  If you have the right sort  of partnership there, the people who are paying the taxes and who are  going to then be hiring the workers are not going to permit the  second-rate programs to survive if they have any way to shape and  influence them.  So I think that's very important.              And when we try to, if you will, fill in the blanks at  the federal level, trying to set some standards and provide some  funds, one of the things that we want to be sure and do is to make  sure that the employer has a heavy amount of influence over the  quality of these programs, because that's really what's going to  determine whether the whole thing is worthwhile.              SECRETARY RILEY:  That's great.  We've been talking, of  course, about school-to-work and also the jobs and economic recovery  program for this summer and fall.  But let's talk just a moment about  long-term school reform.  It's something especially close to me.  Mr.  President, I wonder if you would give us some of your ideas for the  communities out here on Goals 2000 legislation that I think will be  coming forth before too long.              THE PRESIDENT:  Well, as you know, back when you and I  were both governors, we spent a lot of time working on our public  schools and we tried to be very candid with our people in saying that  a lot of these things were going to take some time to materialize.                I had a hand in writing the National Education Goals  that the governors drafted, along with representatives of President  Bush's administration back in 1989.  And what we're going to try to  do this year with your leadership is to introduce legislation in  Congress that will actually define the things that the national  government ought to do to try to help the local schools and the  children of this country and the adult learners, too, meet those  goals -- making sure that when -- by 2000, people show up for school  ready to learn; that we get a 90 percent on-time high school  graduation rate; that children at the 4th, 8th, and 12th grades are  confident in the subjects they're supposed to know; that they are  second to none in math and science; that are schools are safe,  disciplined, and drug-free.  And, of course, the fifth goal --I took  them out of line to say this the last -- is that we have a system of  life-long learning in this country.              And each one of those goals there's a national role, a  state role, a school role, school district role, and a private sector  role.  And what you've attempted to do in this bill you're going to  introduce with me in the next few weeks is to define what our job is;  and then to give the rest of America a way of defining what their job  is and seeing whether we're actually meeting the standards of quality  that we need to meet.              It's very exciting.  So far as I know, nothing quite  like it has ever been done in the form of federal legislation before.   Not mandating and telling people what they have to do with their  money, but actually setting up a framework for excellence and  partnerships so that we can do our job.  I'm really excited about it.              SECRETARY RILEY:  Well, I am, too.  And I think really  it will be an entirely new role for the federal government in terms  of its relationship with states, serving as a partner really to  support and facilitate and to help out in these education reform  efforts, all driven by high standards.  That's the point.              Bob, let me ask you one question, and then we'll get to  the telephone calls.  It's about the same subject.  We have, of  course, skills standards that are going to be part of Goals 2000, and  I wonder if you would comment on that.              SECRETARY REICH:  Well, you know, we have 75 percent of  our young people who don't graduate from college.  Very often they  don't have very many alternatives.  They do have a wonderful system  of community colleges and technical institutions, but if we had  national skill standards to which they could aspire and which  employers would understand as a national credential, many of these  young people would actually find that they were much more eligible  for jobs.              Everybody doesn't have to go to college.  Other  countries you have smaller proportions of their population going to  college, but you have a whole level of people who have certain  technical, preprofessional skills.  We can do it in this country.  If  you don't go to four-year college you're not a loser.  And we want to  develop those national skill standards.  We're going to be working  with the states, with the Education Department, with a lot of private  industry in developing those standards.  And I think they will be the  kinds of things that enable our vocational and technical and other  institutions to rally around, as well as our business community.              SECRETARY RILEY:  Well, that's great.  Why don't we go  ahead and go to the telephone.  We have a call, I see -- Mayor Bruce  Todd of Austin, Texas.              Q   Yes, Mr. President and Mr. Secretary Reich and  Riley, we certainly appreciate the opportunity to join you today.  We  have some dedicated professionals and volunteers here in Austin who  have heard what you have said and are very appreciative.  Let me  simply say, amen to some of the comments made already.  We agree with  much of the tone that the Clinton administration has taken, and are  very supportive.                We have been successful here in Austin of tripling our  summer employment program over the last four years.  We expect to  have over 2,000 employed this year in the summertime; perhaps as much  as 3,500 with the federal assistance.                Much of the question that we had designed you have  answered in your opening comments, so we must be thinking alike.  But  the question essentially involved what initiatives after Labor Day  would be appropriate.  We know summertime is important.  Year-round  is even more important.  And what kind of initiatives at the federal  level might be proposed to meet the needs of the youth on a year- round basis?  And perhaps more importantly, how can families and the  local community be more involved using the federal initiative? That's  something that we believe is very important to success in this  effort.              SECRETARY RILEY:  Mr. President.              THE PRESIDENT:  I think I'll give everybody a chance to  answer the question, Bruce, but let me first thank you for calling,  and thank you for all the great work that you're doing in Austin.   I've seen some of it and I've always been very impressed.                First, with regard to the summer program, we hope we can  structure it in a way that will enable us to continue the summer  program and that will move a lot of these young people back into  schools under circumstances that might allow them to do some work in  the private sector, too.  We hope that -- Secretary Reich is going to  try to set up a system where we create a lot of private sector jobs  to be matched with the public sector jobs this summer.  And we're  working on that.              Secondly, in the program that I have presented to the  Congress over the next five years, what we are attempting to do is to  build in an amount of investment that's quite substantial for job  training programs, for school-to-work programs, all of which give  heavy, heavy weight to local community input -- just the question you  asked -- but do provide some federal investment dollars, which we  hope you can put with local dollars to keep people working and being  trained on a year-round basis.              And I will say again, to echo what Secretary Reich said  a moment ago, to try to break down the barrier between what is seen  as work and what is seen as learning.  An awful lot of young people  actually have quite high IQs, but actually learn so much better when  they're doing than when they're reading or just listening.  So we  hope that the community involvement part of it will be permanent, and  we hope that if the whole budget passes -- and we do have 200 budget  cuts and more than 200, actually, in the budget -- and some revenue  raisers, and some new money for education and training, that we'll be  able to do just what you seem to want based on your question.              Bob, do you want to say anything?              SECRETARY REICH:  Well, you took most of the words out  of my mouth, Mr. President, as usual.  But let me just add one thing,  and that is that one of the most important aspects of post-high  school for a lot of young people who are not going on to college, in  addition to the school-to-work program, simply is the availability of  jobs.  And we've got to get this economy moving again, obviously.   It's terribly important to get this recovery program, to get the  economy back on track.  That's sort of the prerequisite to everything  else.  If we don't get the economy back on track -- we have -- I  think this is the 16th -- correct me if I'm wrong, Mr. President -- I  think is the 16th month we have had seven percent unemployment or  greater.  This is a jobless recovery.  A lot of those kids are going  to be getting out of school in June.  And even if we did everything  right, they would have a very, very hard time getting jobs.              SECRETARY RILEY:  Thank you both.  Of course, Goals 2000  will be a permanent, long-term thing that will certainly reach into  next year.  It will involve, if passed -- and we certainly hope it  will be -- action plans with every state where we can be working  together to reach for the goals in a number of different ways.  And  then the state, with all the various school districts, a very  important part of that will be citizen and parent involvement.  And I  think everybody will see a great energy out there, once we get that  moving.              The next call is Dr. Harry Heinemann, New York.                Doctor?              Q   Good evening, Mr. Secretary.  It is a pleasure to  be on with you this evening.  As you may know, bridging the school  and work has been central to La Guardia's educational program since  its inception in the 1970s, and that includes the college, the two  alternative high schools that operate on our campus, and the linkages  we have forged with the local schools.  We have found this to be an  extremely effective learning strategy.              And over the years, we've come to believe that there are  several principles that are very important in bridging the school and  work.  And these include integrating theory in the classroom with  practice in the workplace, with providing all students early exposure  to careers, as well as providing opportunities for them to reflect  upon these experiences while they strengthen their skills; and  lastly, the critical role of the liberal arts, particularly in the  development of high performance competencies.                My question, then is:  How can the general education  faculty and the academic curriculum be more closely integrated with  transition to work experience?  And what mechanisms and strategies  can you suggest to achieve this integration?              SECRETARY RILEY:  Well, thank you very much.  I think --  and we'll get a response from you all on that, and very interesting  work going on there.  We're going to have three people, our next  guests on the program this evening, that will be some specialists    in that area that you're speaking, and I'll certainly pass that on to  them and we can discuss it later.              You all care to comment -- any comments you might have?              THE PRESIDENT:  I'd just like to say, if I might, one  thing.  I want to reemphasize this and I don't think I'm being as  clear about it as I'd like, although I think at least one of the  people who will be on the second panel will be able to say it more  explicitly than I.  I think this whole concept of applied academics  is very important.  And I think that we have to basically abolish  what I consider to be a very artificial distinction between what is  vocational learning and what is academic learning.              I think we should keep the liberal arts going.  I think  we should have a strong component for people who are in the  vocational program.              SECRETARY REICH:  It seems to me that we also need to  rethink our entire tracking system, because a lot of these school and  work combinations are important for mainstream students.  They're  important for all students.  It's not just a special group of  students that needs them.              Some of the experiments that I've seen around the United  States -- Dick, I'm sure you've seen them as well -- are mainstream  experiments.  They're mainstreaming all the students.  At 11th and  12th grades they're giving them a combined work and school experience  and then a transition program.  And again, the kids can either go on  to college if they want; they can go on to technical community; they  can go on to an entirely -- a large variety of possibilities and  career directions.              But we have to get away from the stigmatizing that often  goes on with young people who simply are doing job-related or work- related work within the classroom, within our schools.              SECRETARY RILEY:  Thank you, very much.  I think that's  going to be the last call that we have time for.  Mr. President, I  think you've got to move on to another matter, and I want to thank  you and Secretary Reich for being here.  We appreciate your time and  your ideas, and it's been a tremendous help to us.  \",\"Yesterday, I watched an outstanding documentary on PBS prepared for Frontline by the documentary consortia.  It is called \\\"Memory of the camps\\\" and shows some \\\"un-censored\\\" pictures taken immediately after the liberation of Bergen-Belsen and other death camps.    I recommend it to everybody.  Check with your PBS station for re-broadcast. IT IS A MUST SEE documentary.       In the Seatle, Vancouver area KSTS-9 will re-broadcast the documentary on Monday 01:30 am. You can also order a copy from PBS Video 1-800-3287271.  The cost is $59.95.\",\"hi folks i have 2 hd first is an seagate 130mb the second a cdc 340mb (with a future domain no ram) i'd like to change my 2 controller ide & scsi and buy a new one with ram (at least 1mb) that could controll  all of them any companies? how many $? and is it possible via hw or via sw select how divide the ram cache for 2 hd? (for example using dos that is  about all on one hd i'd like to reserve ram cache just to it)\",\" As one of the \\\"Clintonites\\\" cited above, I'll try to clarify since this is not a case of Clinton's \\\"dishonesty.\\\" (I won't necessarily defend him on other issues.)    There were NEVER any specific projects included in the Community Development Block Grant portion of the President's proposal.  Congressional Republicans, in an effort to discredit the stimulus package, selected what they felt were silly sounding projects from a wish-list of POTENTIAL  projects prepared by the US Mayors' Conference before the stimulus package was ever proposed.  (The document in question was designed to pressure the White House to increase the size of the block grant proposal submitted to Congress.  It didn't work.)  The $2.56(?) billion proposed in the stimulus package came nowhere close to covering the total estimated cost of the original wish-list.  If it were passed, communities would have to select which projects to fund and at what level.  In the case of Spokane, Wa., Tom Foley's home district, no one ever expected to be able to refurbish a local swimming pool (one of the  Republicans' examples) FROM THE FUNDS AVAILABLE IN THE STIMULUS PACKAGE since the estimated cost of doing so exceeded the total  amount of block grant funds the city would receive from the stimulus  package for ALL projects.    The plan, instead, was to use the money on public housing construction and remodeling to cope with a severe housing shortage.  (Yup, there are places where that is true.)  The swimming pool improvements were near the bottom of a long list of priorities prepared by the city.  The $3 million or so to be received would cover only a few of the most pressing priorities.  If the block grants are cut from the stimulus package, it is these projects that will be affected by the lack of funds.  And that is why the Clinton administration has been publicizing the issue.  A final point.  One may or may not like community block grants.  It is worth noting, however, that Congressional Republicans' opposition to them is new.  Since the Nixon administration, Republicans have generally  supported such grants as an alternative to targeted federal spending, arguing that local governments are far better able to determine spending priorities than \\\"Washington bureaucrats.\\\"    Is it clear now?  Or is this all too complicated to understand?  jsh\",\"If gamma ray bursters are extragalactic, would absorption from the galaxy be expected?  How transparent is the galactic core to gamma rays?  How much energy does a burster put out?  I know energy depends on distance, which is unknown.  An answer of the form _X_ ergs per megaparsec^2 is OK.  \",\"Undoubtedly people adopt atheism for many reasons, but I suspect that a biggie is that the God they've believed in is (in J.B. Phillips's words) \\\"too small\\\".  If a person's understanding of God is not allowed to grow and develop, it will eventually become inadequate.  The grey-haired gentleman on a throne who was a comforting image in childhood becomes a joke.  A therapist friend of mine sometimes suggests to her clients that they \\\"fire God\\\".  What she means by that is letting go of an inadequate understanding of God to make room for a fuller one.  But she follows up by encouraging them to \\\"hire a new one\\\".  My guess is that a lot of folks go through the firing process, but are not adequately supported in the subsequent re-hire.\",\" Do you get a dial tone when you plug a phone into the jack??  If not, then the line is possibly disconnected from the nearest telco junction box. If you do get a dial tone, then surely the telco is sending a bill for the line to *someplace* or *somebody*. Are you sure that what you are doing is on the level. Sounds to me like you are just trying to get  at somebody's unlisted number.  Fess up.  Keith  \"]],[\"SUBSET\",[\"raw\",\"raw\",\"raw\",\"raw\",\"raw\",\"raw\",\"raw\",\"raw\",\"raw\",\"raw\"]],[\"label\",[\"ABSTAIN\",\"ABSTAIN\",\"ABSTAIN\",\"ABSTAIN\",\"ABSTAIN\",\"ABSTAIN\",\"ABSTAIN\",\"ABSTAIN\",\"ABSTAIN\",\"ABSTAIN\"]]]}}},\"view\":{\"type\":\"object\",\"name\":\"CDSView\",\"id\":\"p1053\",\"attributes\":{\"filter\":{\"type\":\"object\",\"name\":\"AllIndices\",\"id\":\"p1054\"}}},\"columns\":[{\"type\":\"object\",\"name\":\"TableColumn\",\"id\":\"p1043\",\"attributes\":{\"field\":\"text\",\"title\":\"text\",\"formatter\":{\"type\":\"object\",\"name\":\"HTMLTemplateFormatter\",\"id\":\"p1042\",\"attributes\":{\"template\":\"<span href=\\\"#\\\" data-toggle=\\\"tooltip\\\" title=\\\"<%= value %>\\\"><%= value %></span>\"}},\"editor\":{\"type\":\"object\",\"name\":\"CellEditor\",\"id\":\"p1041\"}}},{\"type\":\"object\",\"name\":\"TableColumn\",\"id\":\"p1046\",\"attributes\":{\"field\":\"label\",\"title\":\"label\",\"formatter\":{\"type\":\"object\",\"name\":\"StringFormatter\",\"id\":\"p1047\"},\"editor\":{\"type\":\"object\",\"name\":\"StringEditor\",\"id\":\"p1048\"}}}],\"editable\":true,\"selectable\":\"checkbox\"}}]}};\n",
       "  const render_items = [{\"docid\":\"8a080d79-60a2-4638-8bae-109a7293ddb4\",\"roots\":{\"p1049\":\"d199996c-7f8e-42d9-86ec-4cf2047397f8\"},\"root_ids\":[\"p1049\"]}];\n",
       "  root.Bokeh.embed.embed_items_notebook(docs_json, render_items);\n",
       "  }\n",
       "  if (root.Bokeh !== undefined) {\n",
       "    embed_document(root);\n",
       "  } else {\n",
       "    let attempts = 0;\n",
       "    const timer = setInterval(function(root) {\n",
       "      if (root.Bokeh !== undefined) {\n",
       "        clearInterval(timer);\n",
       "        embed_document(root);\n",
       "      } else {\n",
       "        attempts++;\n",
       "        if (attempts > 100) {\n",
       "          clearInterval(timer);\n",
       "          console.log(\"Bokeh: ERROR: Unable to run BokehJS code because BokehJS library is missing\");\n",
       "        }\n",
       "      }\n",
       "    }, 10, root)\n",
       "  }\n",
       "})(window);"
      ],
      "application/vnd.bokehjs_exec.v0+json": ""
     },
     "metadata": {
      "application/vnd.bokehjs_exec.v0+json": {
       "id": "p1049"
      }
     },
     "output_type": "display_data"
    }
   ],
   "source": [
    "dataset._callback_update_selection(dataset.dfs[\"raw\"][:10])\n",
    "\n",
    "show(dataset.sel_table, notebook_url=notebook_url)"
   ]
  },
  {
   "cell_type": "markdown",
   "id": "48d2c12e",
   "metadata": {},
   "source": [
    "<br>\n",
    "\n",
    "### **Edit Data Within a Selection**\n",
    "\n",
    "Often the points selected are not perfectly homogeneous, i.e. some outliers belong to a different label from the selected group overall. It would be helpful to `EVICT` them, and `SupervisableDataset` has a button for it.\n",
    "\n",
    "Sometimes you may also wish to edit data values on the fly.  In hover this is called `PATCH`, and there also is a button for it.\n",
    "\n",
    "-   by default, labels can be edited but feature values cannot.\n",
    "\n",
    "Let's plot the forementioned buttons along with the selection table. Toggle any number of rows in the table, then click the button to `EVICT` or `PATCH` those rows:"
   ]
  },
  {
   "cell_type": "code",
   "execution_count": 5,
   "id": "1e7fa245",
   "metadata": {
    "execution": {
     "iopub.execute_input": "2024-03-05T01:19:54.766814Z",
     "iopub.status.busy": "2024-03-05T01:19:54.766425Z",
     "iopub.status.idle": "2024-03-05T01:19:54.782385Z",
     "shell.execute_reply": "2024-03-05T01:19:54.781722Z"
    }
   },
   "outputs": [
    {
     "name": "stderr",
     "output_type": "stream",
     "text": [
      "WARNING:bokeh.embed.util:\n",
      "You are generating standalone HTML/JS output, but trying to use real Python\n",
      "callbacks (i.e. with on_change or on_event). This combination cannot work.\n",
      "\n",
      "Only JavaScript callbacks may be used with standalone output. For more\n",
      "information on JavaScript callbacks with Bokeh, see:\n",
      "\n",
      "    https://docs.bokeh.org/en/latest/docs/user_guide/interaction/callbacks.html\n",
      "\n",
      "Alternatively, to use real Python callbacks, a Bokeh server application may\n",
      "be used. For more information on building and running Bokeh applications, see:\n",
      "\n",
      "    https://docs.bokeh.org/en/latest/docs/user_guide/server.html\n",
      "\n"
     ]
    },
    {
     "data": {
      "text/html": [
       "\n",
       "  <div id=\"c784642f-1520-4259-a56f-25448f964bd6\" data-root-id=\"p1058\" style=\"display: contents;\"></div>\n"
      ]
     },
     "metadata": {},
     "output_type": "display_data"
    },
    {
     "data": {
      "application/javascript": [
       "(function(root) {\n",
       "  function embed_document(root) {\n",
       "  const docs_json = {\"1b2194c4-9372-43cf-ad11-66be2e4e3f5a\":{\"version\":\"3.3.4\",\"title\":\"Bokeh Application\",\"roots\":[{\"type\":\"object\",\"name\":\"Column\",\"id\":\"p1058\",\"attributes\":{\"children\":[{\"type\":\"object\",\"name\":\"Row\",\"id\":\"p1057\",\"attributes\":{\"children\":[{\"type\":\"object\",\"name\":\"Button\",\"id\":\"p1006\",\"attributes\":{\"button_type\":\"primary\",\"label\":\"Evict Rows from Selection\"}},{\"type\":\"object\",\"name\":\"Button\",\"id\":\"p1005\",\"attributes\":{\"button_type\":\"warning\",\"subscribed_events\":{\"type\":\"set\",\"entries\":[\"button_click\"]},\"label\":\"Update Row Values\"}}]}},{\"type\":\"object\",\"name\":\"DataTable\",\"id\":\"p1049\",\"attributes\":{\"source\":{\"type\":\"object\",\"name\":\"ColumnDataSource\",\"id\":\"p1038\",\"attributes\":{\"selected\":{\"type\":\"object\",\"name\":\"Selection\",\"id\":\"p1039\",\"attributes\":{\"indices\":[],\"line_indices\":[]}},\"selection_policy\":{\"type\":\"object\",\"name\":\"UnionRenderers\",\"id\":\"p1040\"},\"data\":{\"type\":\"map\",\"entries\":[[\"text\",[\"record hand\",\"mjs>No No No No!! All I am saying is that you don't even need to tell people mjs>the technique of countersteering, cos they will do it intuitively the first mjs>time they try to go round a corner.  karr>Are you sure?  Remember that you *can* get around corners without karr>countersteering.  In fact, my Experienced Rider Course instructors karr>claimed that they could get on behind a new rider and make the bike karr>turn to whichever side they wanted just by shifting their weight karr>around, even when the operator was trying to turn in the opposite karr>direction.  (I admit I've never actually seen this.)  I've experienced this, back when I was young(er) and (more) foolish...  My first bike used to track extremely true.  Going down the highway, I would set the throttle tension screw up enough to hold the gas steady, slide back on the seat and lean against the backrest, riding without any hands.  If I needed to turn, I'd shift my weight into the turn, and lo and behold, the bike would turn, sans touching the bars! Granted, it wouldn't turn very fast, but it proves that you can turn a bike without countersteering, at least not in terms of the input to the bar normally associated with countersteering.  As I've said, I know many people who think all you do is lean, and any input they're giving to the bar is totally unconscious.  Whereas that may be sufficient to get you down the road under normal circumstances, possibly for years at a stretch, I can't think of anybody who'd argue that this is preferable to properly knowing how to manipulate the bar in a turn, regardless of what you want to call it.  Except maybe for Mr. Sixsmith...  ;^)  Mr. Bill\",\"Forsale: Nintendo control Deck with two controllers and gun, one controller has grips attached.  the NES will only connect to a composite monitor or TV with audio and video RCA Input jacks and needs some repairs.  25$ or best offer  games for sale  15$  Tecmo Baseball 15$  Techmo Bowl 15$  Double Dribble 15$  Wayne Gretzky Hockey 15$  Golf 10$  Super Mario/Duck Hunt 15$  Super Mario II 20$  Super Mario III 15$  Teenage Mutant Ninja Turtles the Arcade game 15$  MegaMan 3 10$  Toobin' 10$  Spelunker 25$  Tecmo Super Bowl ============ 175$ total, I'll give all of them to you for the best offer and throw in the control deck...  I'll also accept the best offer for each of the games individually.  the oldest of these is two years old, most of them are less than a year old.  Email at tligman@andy.bgsu.edu Phone at 1 (419) 372-5954 \",\"THE WHITE HOUSE                      Office of the Press Secretary ______________________________________________________________ For Immediate Release                             April 13, 1993                                    REMARKS BY THE PRESIDENT,                SECRETARY OF EDUCATION RICHARD RILEY AND                    SECRETARY OF LABOR ROBERT REICH  IN                  GOALS 2000 SATELLITE TOWN HALL MEETING                             Chamber of Commerce Building                            Washington, D.C.       8:30 P.M. EDT                     SECRETARY RILEY:  Good evening and welcome to all of you  in the thousands of communities around the country that are taking  part in this satellite town meeting for the month of April.              You know, today is April 13th.  In 1743, Thomas  Jefferson was born, 250 years ago.  I think that's appropriate to  mention at the beginning of this meeting because since that time he  has been, of course, a person who has been one that we've all  followed in terms of our democracy and the importance of education  here in this great country.  The success of our democracy according  to Jefferson really depends upon the success of our educational  system.              His philosophy of government, his belief in the  importance of education is also very meaningful to our special guest  here this evening.  Tonight we're so pleased to have with us  President Clinton.  He's come over from the White House to join us in  the Chamber of Commerce studios.                Mr. President, it's good to have you.  We thank you for  taking the time to visit with these communities here on the satellite  network and we welcome you here this evening.              Also we have with us Secretary of Labor Robert Reich.   And, Bob, it's certainly pleasant to have you with us this evening  also.              I have some questions for our two guests, and I'm sure  many of you do, too.  So please call us if there's something that  you'd like to ask.  The number is 1/800/368-5781 or 5782.  In  Washington, D.C. the number is 202/463-3170 or 3171.              I believe the President has a few words that he might  want to share with us.  And, Mr. President, I'll ask you to do that  at this time.  It's great to have you.              THE PRESIDENT:  Thank you very much, Mr. Secretary.              I'm glad to be here with my friends, Dick Riley and Bob  Reich -- also members of my Cabinet -- at the headquarters of the  Chamber of Commerce to support the effort that the Chamber is making,  along with its Center for Work Force Preparation, to help to examine  tonight the whole critical question of how to move our young people  from school to the work place.              I want to compliment the Chamber on all their efforts,  recognizing that without an educated work force we can't grow this  economy or remain competitive, and recognizing that we all have to  work together -- business and government, labor and educators -- to  make things happen.              This satellite town meeting is a good example of that  kind of working together.  And if you'll forgive me a little home  state pride, I want to say a special word of thanks to the Wal-Mart  Corporation, headquartered in Bentonville, Arkansas, for providing  several hundred of the sites for this town meeting tonight.  I  appreciate that a lot, as well as the sites that are provided for all  the rest of you.              I have tried as hard as I could to move toward  constructive change for this country.  Secretary Riley talked about  this being Thomas Jefferson's 250th birthday.  If Thomas Jefferson  believed in anything, he believed in these three things:  first, in  education; second, in real personal liberty, freedom of religion,  freedom of speech, freedom of association, freedom of the press; and  third, in the absolute imperative of changing as times change.                If you go to the Jefferson Memorial here in this  beautiful city, which is now bedecked with all of its wonderful  cherry blossoms, you will see Jefferson saying that we have to change  with changing times.              For us here in America, that means reducing our deficit  and increasing our investment and putting our people first so that we  can compete in the world.  We're here to talk about that tonight -- about what we can do to educate and train our people better.  Unless  we do that, none of the efforts that all the rest of us make in  government, even to bring the budget into balance, even to increase  our investment in other things which will grow jobs, will last in the  long run.              We also have to have people who can carry their load.   And in a world where the average young person will change jobs seven  or eight times in a lifetime, that begins with the education system  and continues into the work force where education must go on for a  lifetime.  It's not just important what you know, but what you can  learn.              And if I might, I'd like to close just by emphasizing  we're doing our best to try to have the most innovative partnership  between the Labor Department and the Education Department and the  private sector to build a good school-to-work transition.  And we're  trying to get off to a good start this summer with a program that  would create more than 700,000 new summer jobs, including many  thousands that have a strong education component so our young people  can be learning and working at the same time.              Dick, I think I ought to stop there.  That's a good  place we can begin, I think, the discussion.              SECRETARY RILEY:  Thank you so much, Mr. President.              Each month we get together and talk about ways that all  citizens can work towards reaching the national education goals.  And  tonight, we'll focus on goal five, and how communities such as yours  can prepare students for this world of work.              This week, the Education Department and the Labor  Department are hosting a conference here in Washington, D.C. called  Summer Challenge, a program of work and learning, to America's youth.   The aim is to use some special funds from President Clinton's  proposed economic stimulus package to provide educationally-enriched  jobs and summer school programs for young people in disadvantaged  areas of the country.                Mr. President, let's talk a minute -- you alluded to it  somewhat -- about the  Summer Youth Challenge.  Your program calls  for more educational enrichment in the summer jobs.  And why in your  words is that so important?              THE PRESIDENT:  I think it's important for two reasons.   First of all, a lot of the young people we're trying to reach may  have had trouble adjusting to school and learning.  And while we want  them to have a good experience with a real job, we also want them to  continue to learn during the summer because we know from a lot of  research that a lot of kids that have trouble learning in school may  forget as much as 30 percent of what they learned the previous year  over the summertime.  And that is a very unproductive thing for  schools to have to take up a lot of time teaching what they already  taught before.              Secondly, we want to help these young people progress,  not only in terms of work, but in terms of learning.  We want to  abolish the artificial dividing line between what is work and what is  learning because we think that the best and most productive workers  will have to be lifetime learners.  And we think that this experience  could maybe drive that point home and prepare these young people to  succeed in school, or at work, or in college as they go on.              SECRETARY RILEY:  Well, I think the fact that these are  disadvantaged kids -- that gap, that lag you mentioned as they go  into the next year, is really even greater.                Secretary Reich, of course, you have training programs  throughout the year.  And I wonder is you have any comment about this  educational component of training.              SECRETARY REICH:  Well, what we've learned, Mr.  Secretary, is that for many young people, whether it's for the summer  or for the year, actually on-the-job work experience combined with  education is one of the best ways of learning.  Many young people,  for example, have a lot -- they have a difficult time learning  geometry.  But when they actually are there building something or  working on something, and they can see the exact and direct  application of geometry, they understand what it's used for.  And a  lot of young people -- just that sense of connection between  education and the world of work is terribly, terribly important.   It's important during the summer, but it's important for a lot of  young people even beyond the summer.              SECRETARY RILEY:  Thank you.                Mr. President, you've called for a youth apprenticeship  program, school-to-work transition.  And I wonder if you would tell  us a little bit about your concept of that and how you see it  developing.              THE PRESIDENT:  Well, first of all, let's talk about why  it's important.  Most new jobs that will be created in this decade  will not require a four-year college degree, but most of them will  require some learning and skills that go well beyond what most people  get in a high school diploma.                If you look at the last 10 years, the average salaries  of young people that had at least two years of good post-high school  education was a good salary that went up over the decade.  The young  people who had less than that tended to have lower wages that did not  go up, and in many cases in real terms fell over the decade, because  they weren't productive, they weren't more valuable to their  employers.              So we think America has a big economic interest in  trying to ensure that all the young people who get out of high school  but don't go on to college make a transition to work, which includes  two years of further training either in a community college, a  vocational setting, or perhaps on the job.  And what I have done in  this budget, as you know, is to give you and Secretary Reich some  funds and some incentives to try to work in partnership with states  and with the private sector to build these programs state-by-state in  a way that would be customized essentially by the business community,  based on the needs of the economy in any given area.  It could  revolutionize long-term the quality of the American work force and  the earnings of American workers.              SECRETARY REICH:  I should add, Mr. President -- I think  you know this from your experience in Arkansas -- and many of the  people watching this program -- that the business community and  educators, labor groups are already in many of our communities, many  of our states, building a school-to-work transition program.  In  fact, there's an awful lot of ferment, a lot of excitement.  The  people watching this program probably are the ones who are most  directly involved in that.  And more power to them.  Secretary Riley  and I are going to do everything we can to build on the successes  already out there.              SECRETARY RILEY:  Bob, we're going to be talking tonight  about youth apprenticeship and tech prep, the co-op learning   career academies.  And what features all those programs that deal  with this subject -- what are some of the features that every one of  these school-to-work programs might have that   are important?              SECRETARY REICH:  Well, one thing that we've seen -- and  you and I have been working at this for a long time, and you much  longer than I -- we've seen that active involvement of the business  community is absolutely essential.  And I'm so delighted that we're  doing this in the headquarters of the Chamber of Commerce.  The  Chamber of Commerce of the United States is committed to doing these  kinds of programs -- training, education, retraining -- and we've  aimed to work very closely with the Chamber.              The business community is going to be actively engaged  in developing almost an audit of the kind of jobs that are needed and  helping the educators, community colleges, technical institutions  develop curricula that are relevant for the jobs of the future.              Communities have got to come together.  I mean, this is  one of the most important things.  You've got to have all of these  players in a community come together and work together and cooperate  together.  You know, too often we have the educators over here and  the business leaders over here, labor groups over here and everybody  is talking, but they're not really working together in a common  strategy.              And the third and final ingredient I would say, Dick,  would be a commitment to excellence -- a commitment both to academic  excellence and also to skills development excellence.  This is not a  tracking program we're talking about for kids who are not going to  make it.  This is a program that every young person ought to be  eligible for.  If they want to go on beyond that to four-year  college, that's fine.  That ought to be permissible.  But we're  talking about the foundation of learning about jobs, the foundation  skills for on-the-job learning.              And again, those are the critical components.  It's  already being done.              THE PRESIDENT:  I think -- if I might just interject one  point based on my personal experience at home -- the business  community has a critical role to play, not simply in saying here are  the job skills that are needed and here's what ought to be taught,  but also in monitoring that excellence.  If you have the right sort  of partnership there, the people who are paying the taxes and who are  going to then be hiring the workers are not going to permit the  second-rate programs to survive if they have any way to shape and  influence them.  So I think that's very important.              And when we try to, if you will, fill in the blanks at  the federal level, trying to set some standards and provide some  funds, one of the things that we want to be sure and do is to make  sure that the employer has a heavy amount of influence over the  quality of these programs, because that's really what's going to  determine whether the whole thing is worthwhile.              SECRETARY RILEY:  That's great.  We've been talking, of  course, about school-to-work and also the jobs and economic recovery  program for this summer and fall.  But let's talk just a moment about  long-term school reform.  It's something especially close to me.  Mr.  President, I wonder if you would give us some of your ideas for the  communities out here on Goals 2000 legislation that I think will be  coming forth before too long.              THE PRESIDENT:  Well, as you know, back when you and I  were both governors, we spent a lot of time working on our public  schools and we tried to be very candid with our people in saying that  a lot of these things were going to take some time to materialize.                I had a hand in writing the National Education Goals  that the governors drafted, along with representatives of President  Bush's administration back in 1989.  And what we're going to try to  do this year with your leadership is to introduce legislation in  Congress that will actually define the things that the national  government ought to do to try to help the local schools and the  children of this country and the adult learners, too, meet those  goals -- making sure that when -- by 2000, people show up for school  ready to learn; that we get a 90 percent on-time high school  graduation rate; that children at the 4th, 8th, and 12th grades are  confident in the subjects they're supposed to know; that they are  second to none in math and science; that are schools are safe,  disciplined, and drug-free.  And, of course, the fifth goal --I took  them out of line to say this the last -- is that we have a system of  life-long learning in this country.              And each one of those goals there's a national role, a  state role, a school role, school district role, and a private sector  role.  And what you've attempted to do in this bill you're going to  introduce with me in the next few weeks is to define what our job is;  and then to give the rest of America a way of defining what their job  is and seeing whether we're actually meeting the standards of quality  that we need to meet.              It's very exciting.  So far as I know, nothing quite  like it has ever been done in the form of federal legislation before.   Not mandating and telling people what they have to do with their  money, but actually setting up a framework for excellence and  partnerships so that we can do our job.  I'm really excited about it.              SECRETARY RILEY:  Well, I am, too.  And I think really  it will be an entirely new role for the federal government in terms  of its relationship with states, serving as a partner really to  support and facilitate and to help out in these education reform  efforts, all driven by high standards.  That's the point.              Bob, let me ask you one question, and then we'll get to  the telephone calls.  It's about the same subject.  We have, of  course, skills standards that are going to be part of Goals 2000, and  I wonder if you would comment on that.              SECRETARY REICH:  Well, you know, we have 75 percent of  our young people who don't graduate from college.  Very often they  don't have very many alternatives.  They do have a wonderful system  of community colleges and technical institutions, but if we had  national skill standards to which they could aspire and which  employers would understand as a national credential, many of these  young people would actually find that they were much more eligible  for jobs.              Everybody doesn't have to go to college.  Other  countries you have smaller proportions of their population going to  college, but you have a whole level of people who have certain  technical, preprofessional skills.  We can do it in this country.  If  you don't go to four-year college you're not a loser.  And we want to  develop those national skill standards.  We're going to be working  with the states, with the Education Department, with a lot of private  industry in developing those standards.  And I think they will be the  kinds of things that enable our vocational and technical and other  institutions to rally around, as well as our business community.              SECRETARY RILEY:  Well, that's great.  Why don't we go  ahead and go to the telephone.  We have a call, I see -- Mayor Bruce  Todd of Austin, Texas.              Q   Yes, Mr. President and Mr. Secretary Reich and  Riley, we certainly appreciate the opportunity to join you today.  We  have some dedicated professionals and volunteers here in Austin who  have heard what you have said and are very appreciative.  Let me  simply say, amen to some of the comments made already.  We agree with  much of the tone that the Clinton administration has taken, and are  very supportive.                We have been successful here in Austin of tripling our  summer employment program over the last four years.  We expect to  have over 2,000 employed this year in the summertime; perhaps as much  as 3,500 with the federal assistance.                Much of the question that we had designed you have  answered in your opening comments, so we must be thinking alike.  But  the question essentially involved what initiatives after Labor Day  would be appropriate.  We know summertime is important.  Year-round  is even more important.  And what kind of initiatives at the federal  level might be proposed to meet the needs of the youth on a year- round basis?  And perhaps more importantly, how can families and the  local community be more involved using the federal initiative? That's  something that we believe is very important to success in this  effort.              SECRETARY RILEY:  Mr. President.              THE PRESIDENT:  I think I'll give everybody a chance to  answer the question, Bruce, but let me first thank you for calling,  and thank you for all the great work that you're doing in Austin.   I've seen some of it and I've always been very impressed.                First, with regard to the summer program, we hope we can  structure it in a way that will enable us to continue the summer  program and that will move a lot of these young people back into  schools under circumstances that might allow them to do some work in  the private sector, too.  We hope that -- Secretary Reich is going to  try to set up a system where we create a lot of private sector jobs  to be matched with the public sector jobs this summer.  And we're  working on that.              Secondly, in the program that I have presented to the  Congress over the next five years, what we are attempting to do is to  build in an amount of investment that's quite substantial for job  training programs, for school-to-work programs, all of which give  heavy, heavy weight to local community input -- just the question you  asked -- but do provide some federal investment dollars, which we  hope you can put with local dollars to keep people working and being  trained on a year-round basis.              And I will say again, to echo what Secretary Reich said  a moment ago, to try to break down the barrier between what is seen  as work and what is seen as learning.  An awful lot of young people  actually have quite high IQs, but actually learn so much better when  they're doing than when they're reading or just listening.  So we  hope that the community involvement part of it will be permanent, and  we hope that if the whole budget passes -- and we do have 200 budget  cuts and more than 200, actually, in the budget -- and some revenue  raisers, and some new money for education and training, that we'll be  able to do just what you seem to want based on your question.              Bob, do you want to say anything?              SECRETARY REICH:  Well, you took most of the words out  of my mouth, Mr. President, as usual.  But let me just add one thing,  and that is that one of the most important aspects of post-high  school for a lot of young people who are not going on to college, in  addition to the school-to-work program, simply is the availability of  jobs.  And we've got to get this economy moving again, obviously.   It's terribly important to get this recovery program, to get the  economy back on track.  That's sort of the prerequisite to everything  else.  If we don't get the economy back on track -- we have -- I  think this is the 16th -- correct me if I'm wrong, Mr. President -- I  think is the 16th month we have had seven percent unemployment or  greater.  This is a jobless recovery.  A lot of those kids are going  to be getting out of school in June.  And even if we did everything  right, they would have a very, very hard time getting jobs.              SECRETARY RILEY:  Thank you both.  Of course, Goals 2000  will be a permanent, long-term thing that will certainly reach into  next year.  It will involve, if passed -- and we certainly hope it  will be -- action plans with every state where we can be working  together to reach for the goals in a number of different ways.  And  then the state, with all the various school districts, a very  important part of that will be citizen and parent involvement.  And I  think everybody will see a great energy out there, once we get that  moving.              The next call is Dr. Harry Heinemann, New York.                Doctor?              Q   Good evening, Mr. Secretary.  It is a pleasure to  be on with you this evening.  As you may know, bridging the school  and work has been central to La Guardia's educational program since  its inception in the 1970s, and that includes the college, the two  alternative high schools that operate on our campus, and the linkages  we have forged with the local schools.  We have found this to be an  extremely effective learning strategy.              And over the years, we've come to believe that there are  several principles that are very important in bridging the school and  work.  And these include integrating theory in the classroom with  practice in the workplace, with providing all students early exposure  to careers, as well as providing opportunities for them to reflect  upon these experiences while they strengthen their skills; and  lastly, the critical role of the liberal arts, particularly in the  development of high performance competencies.                My question, then is:  How can the general education  faculty and the academic curriculum be more closely integrated with  transition to work experience?  And what mechanisms and strategies  can you suggest to achieve this integration?              SECRETARY RILEY:  Well, thank you very much.  I think --  and we'll get a response from you all on that, and very interesting  work going on there.  We're going to have three people, our next  guests on the program this evening, that will be some specialists    in that area that you're speaking, and I'll certainly pass that on to  them and we can discuss it later.              You all care to comment -- any comments you might have?              THE PRESIDENT:  I'd just like to say, if I might, one  thing.  I want to reemphasize this and I don't think I'm being as  clear about it as I'd like, although I think at least one of the  people who will be on the second panel will be able to say it more  explicitly than I.  I think this whole concept of applied academics  is very important.  And I think that we have to basically abolish  what I consider to be a very artificial distinction between what is  vocational learning and what is academic learning.              I think we should keep the liberal arts going.  I think  we should have a strong component for people who are in the  vocational program.              SECRETARY REICH:  It seems to me that we also need to  rethink our entire tracking system, because a lot of these school and  work combinations are important for mainstream students.  They're  important for all students.  It's not just a special group of  students that needs them.              Some of the experiments that I've seen around the United  States -- Dick, I'm sure you've seen them as well -- are mainstream  experiments.  They're mainstreaming all the students.  At 11th and  12th grades they're giving them a combined work and school experience  and then a transition program.  And again, the kids can either go on  to college if they want; they can go on to technical community; they  can go on to an entirely -- a large variety of possibilities and  career directions.              But we have to get away from the stigmatizing that often  goes on with young people who simply are doing job-related or work- related work within the classroom, within our schools.              SECRETARY RILEY:  Thank you, very much.  I think that's  going to be the last call that we have time for.  Mr. President, I  think you've got to move on to another matter, and I want to thank  you and Secretary Reich for being here.  We appreciate your time and  your ideas, and it's been a tremendous help to us.  \",\"Yesterday, I watched an outstanding documentary on PBS prepared for Frontline by the documentary consortia.  It is called \\\"Memory of the camps\\\" and shows some \\\"un-censored\\\" pictures taken immediately after the liberation of Bergen-Belsen and other death camps.    I recommend it to everybody.  Check with your PBS station for re-broadcast. IT IS A MUST SEE documentary.       In the Seatle, Vancouver area KSTS-9 will re-broadcast the documentary on Monday 01:30 am. You can also order a copy from PBS Video 1-800-3287271.  The cost is $59.95.\",\"hi folks i have 2 hd first is an seagate 130mb the second a cdc 340mb (with a future domain no ram) i'd like to change my 2 controller ide & scsi and buy a new one with ram (at least 1mb) that could controll  all of them any companies? how many $? and is it possible via hw or via sw select how divide the ram cache for 2 hd? (for example using dos that is  about all on one hd i'd like to reserve ram cache just to it)\",\" As one of the \\\"Clintonites\\\" cited above, I'll try to clarify since this is not a case of Clinton's \\\"dishonesty.\\\" (I won't necessarily defend him on other issues.)    There were NEVER any specific projects included in the Community Development Block Grant portion of the President's proposal.  Congressional Republicans, in an effort to discredit the stimulus package, selected what they felt were silly sounding projects from a wish-list of POTENTIAL  projects prepared by the US Mayors' Conference before the stimulus package was ever proposed.  (The document in question was designed to pressure the White House to increase the size of the block grant proposal submitted to Congress.  It didn't work.)  The $2.56(?) billion proposed in the stimulus package came nowhere close to covering the total estimated cost of the original wish-list.  If it were passed, communities would have to select which projects to fund and at what level.  In the case of Spokane, Wa., Tom Foley's home district, no one ever expected to be able to refurbish a local swimming pool (one of the  Republicans' examples) FROM THE FUNDS AVAILABLE IN THE STIMULUS PACKAGE since the estimated cost of doing so exceeded the total  amount of block grant funds the city would receive from the stimulus  package for ALL projects.    The plan, instead, was to use the money on public housing construction and remodeling to cope with a severe housing shortage.  (Yup, there are places where that is true.)  The swimming pool improvements were near the bottom of a long list of priorities prepared by the city.  The $3 million or so to be received would cover only a few of the most pressing priorities.  If the block grants are cut from the stimulus package, it is these projects that will be affected by the lack of funds.  And that is why the Clinton administration has been publicizing the issue.  A final point.  One may or may not like community block grants.  It is worth noting, however, that Congressional Republicans' opposition to them is new.  Since the Nixon administration, Republicans have generally  supported such grants as an alternative to targeted federal spending, arguing that local governments are far better able to determine spending priorities than \\\"Washington bureaucrats.\\\"    Is it clear now?  Or is this all too complicated to understand?  jsh\",\"If gamma ray bursters are extragalactic, would absorption from the galaxy be expected?  How transparent is the galactic core to gamma rays?  How much energy does a burster put out?  I know energy depends on distance, which is unknown.  An answer of the form _X_ ergs per megaparsec^2 is OK.  \",\"Undoubtedly people adopt atheism for many reasons, but I suspect that a biggie is that the God they've believed in is (in J.B. Phillips's words) \\\"too small\\\".  If a person's understanding of God is not allowed to grow and develop, it will eventually become inadequate.  The grey-haired gentleman on a throne who was a comforting image in childhood becomes a joke.  A therapist friend of mine sometimes suggests to her clients that they \\\"fire God\\\".  What she means by that is letting go of an inadequate understanding of God to make room for a fuller one.  But she follows up by encouraging them to \\\"hire a new one\\\".  My guess is that a lot of folks go through the firing process, but are not adequately supported in the subsequent re-hire.\",\" Do you get a dial tone when you plug a phone into the jack??  If not, then the line is possibly disconnected from the nearest telco junction box. If you do get a dial tone, then surely the telco is sending a bill for the line to *someplace* or *somebody*. Are you sure that what you are doing is on the level. Sounds to me like you are just trying to get  at somebody's unlisted number.  Fess up.  Keith  \"]],[\"SUBSET\",[\"raw\",\"raw\",\"raw\",\"raw\",\"raw\",\"raw\",\"raw\",\"raw\",\"raw\",\"raw\"]],[\"label\",[\"ABSTAIN\",\"ABSTAIN\",\"ABSTAIN\",\"ABSTAIN\",\"ABSTAIN\",\"ABSTAIN\",\"ABSTAIN\",\"ABSTAIN\",\"ABSTAIN\",\"ABSTAIN\"]]]}}},\"view\":{\"type\":\"object\",\"name\":\"CDSView\",\"id\":\"p1053\",\"attributes\":{\"filter\":{\"type\":\"object\",\"name\":\"AllIndices\",\"id\":\"p1054\"}}},\"columns\":[{\"type\":\"object\",\"name\":\"TableColumn\",\"id\":\"p1043\",\"attributes\":{\"field\":\"text\",\"title\":\"text\",\"formatter\":{\"type\":\"object\",\"name\":\"HTMLTemplateFormatter\",\"id\":\"p1042\",\"attributes\":{\"template\":\"<span href=\\\"#\\\" data-toggle=\\\"tooltip\\\" title=\\\"<%= value %>\\\"><%= value %></span>\"}},\"editor\":{\"type\":\"object\",\"name\":\"CellEditor\",\"id\":\"p1041\"}}},{\"type\":\"object\",\"name\":\"TableColumn\",\"id\":\"p1046\",\"attributes\":{\"field\":\"label\",\"title\":\"label\",\"formatter\":{\"type\":\"object\",\"name\":\"StringFormatter\",\"id\":\"p1047\"},\"editor\":{\"type\":\"object\",\"name\":\"StringEditor\",\"id\":\"p1048\"}}}],\"editable\":true,\"selectable\":\"checkbox\"}}]}}]}};\n",
       "  const render_items = [{\"docid\":\"1b2194c4-9372-43cf-ad11-66be2e4e3f5a\",\"roots\":{\"p1058\":\"c784642f-1520-4259-a56f-25448f964bd6\"},\"root_ids\":[\"p1058\"]}];\n",
       "  root.Bokeh.embed.embed_items_notebook(docs_json, render_items);\n",
       "  }\n",
       "  if (root.Bokeh !== undefined) {\n",
       "    embed_document(root);\n",
       "  } else {\n",
       "    let attempts = 0;\n",
       "    const timer = setInterval(function(root) {\n",
       "      if (root.Bokeh !== undefined) {\n",
       "        clearInterval(timer);\n",
       "        embed_document(root);\n",
       "      } else {\n",
       "        attempts++;\n",
       "        if (attempts > 100) {\n",
       "          clearInterval(timer);\n",
       "          console.log(\"Bokeh: ERROR: Unable to run BokehJS code because BokehJS library is missing\");\n",
       "        }\n",
       "      }\n",
       "    }, 10, root)\n",
       "  }\n",
       "})(window);"
      ],
      "application/vnd.bokehjs_exec.v0+json": ""
     },
     "metadata": {
      "application/vnd.bokehjs_exec.v0+json": {
       "id": "p1058"
      }
     },
     "output_type": "display_data"
    }
   ],
   "source": [
    "show(column(\n",
    "    row(\n",
    "        dataset.selection_evictor,\n",
    "        dataset.selection_patcher,\n",
    "    ),\n",
    "    dataset.sel_table,\n",
    "), notebook_url=notebook_url)"
   ]
  },
  {
   "cell_type": "markdown",
   "id": "4a9ea431",
   "metadata": {},
   "source": [
    "<br>"
   ]
  }
 ],
 "metadata": {
  "language_info": {
   "codemirror_mode": {
    "name": "ipython",
    "version": 3
   },
   "file_extension": ".py",
   "mimetype": "text/x-python",
   "name": "python",
   "nbconvert_exporter": "python",
   "pygments_lexer": "ipython3",
   "version": "3.9.18"
  }
 },
 "nbformat": 4,
 "nbformat_minor": 5
}
