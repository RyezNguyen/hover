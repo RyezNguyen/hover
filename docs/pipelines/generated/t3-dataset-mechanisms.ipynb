{
 "cells": [
  {
   "cell_type": "markdown",
   "id": "29df0cdd",
   "metadata": {},
   "source": [
    "> `SupervisableDataset` holds your data throughout the labeling process.\n",
    ">\n",
    "> :speedboat: Let's take a look at its core mechanisms.\n",
    "\n",
    "-   <details open><summary>This page addresses **single components** of `hover`</summary>\n",
    "    We are using code snippets to pick out parts of the annotation interface, so that the documentation can explain what they do.\n",
    "\n",
    "    -   Please be aware that this is NOT how one would typically use `hover`.\n",
    "    -   Typical usage deals with [recipes](../../tutorial/t1-active-learning) where the individual parts have been tied together.\n",
    "\n",
    "</details>\n",
    "\n",
    "-   <details open><summary>Dependencies for {== local environments ==}</summary>\n",
    "    When you run the code locally, you may need to install additional packages.\n",
    "\n",
    "    To render `bokeh` plots in Jupyter, you need:\n",
    "```shell\n",
    "    pip install jupyter_bokeh\n",
    "```\n",
    "\n",
    "    If you are using JupyterLab older than 3.0, use this instead ([reference](https://pypi.org/project/jupyter-bokeh/)):\n",
    "```shell\n",
    "    jupyter labextension install @jupyter-widgets/jupyterlab-manager\n",
    "    jupyter labextension install @bokeh/jupyter_bokeh\n",
    "```\n",
    "\n",
    "</details>\n",
    "\n",
    "## **Data Subsets**\n",
    "\n",
    "We place unlabeled data and labeled data in different subsets: \"raw\", \"train\", \"dev\", and \"test\". Unlabeled data start from the \"raw\" subset, and can be transferred to other subsets after it gets labeled.\n",
    "\n",
    "`SupervisableDataset` uses a \"population table\", `dataset.pop_table`, to show the size of each subset:"
   ]
  },
  {
   "cell_type": "code",
   "execution_count": 1,
   "id": "e8f3deb5",
   "metadata": {
    "execution": {
     "iopub.execute_input": "2022-09-20T02:44:21.126065Z",
     "iopub.status.busy": "2022-09-20T02:44:21.125814Z",
     "iopub.status.idle": "2022-09-20T02:44:22.876267Z",
     "shell.execute_reply": "2022-09-20T02:44:22.875585Z"
    }
   },
   "outputs": [
    {
     "data": {
      "text/html": [
       "<pre style=\"white-space:pre;overflow-x:auto;line-height:normal;font-family:Menlo,'DejaVu Sans Mono',consolas,'Courier New',monospace\"><span style=\"color: #000080; text-decoration-color: #000080\">🔵 SupervisableTextDataset: Initializing</span><span style=\"color: #808000; text-decoration-color: #808000\">...</span>\n",
       "</pre>\n"
      ],
      "text/plain": [
       "\u001b[34m🔵 SupervisableTextDataset: Initializing\u001b[0m\u001b[33m...\u001b[0m\n"
      ]
     },
     "metadata": {},
     "output_type": "display_data"
    },
    {
     "data": {
      "text/html": [
       "<pre style=\"white-space:pre;overflow-x:auto;line-height:normal;font-family:Menlo,'DejaVu Sans Mono',consolas,'Courier New',monospace\"><span style=\"color: #000080; text-decoration-color: #000080\">🔵 SupervisableTextDataset: Deduplicating</span><span style=\"color: #808000; text-decoration-color: #808000\">...</span>\n",
       "</pre>\n"
      ],
      "text/plain": [
       "\u001b[34m🔵 SupervisableTextDataset: Deduplicating\u001b[0m\u001b[33m...\u001b[0m\n"
      ]
     },
     "metadata": {},
     "output_type": "display_data"
    },
    {
     "data": {
      "text/html": [
       "<pre style=\"white-space:pre;overflow-x:auto;line-height:normal;font-family:Menlo,'DejaVu Sans Mono',consolas,'Courier New',monospace\"><span style=\"color: #000080; text-decoration-color: #000080\">🔵 SupervisableTextDataset: --subset raw rows: </span><span style=\"color: #008080; text-decoration-color: #008080; font-weight: bold\">400</span><span style=\"color: #000080; text-decoration-color: #000080\"> -&gt; </span><span style=\"color: #008080; text-decoration-color: #008080; font-weight: bold\">370</span><span style=\"color: #000080; text-decoration-color: #000080\">.</span>\n",
       "</pre>\n"
      ],
      "text/plain": [
       "\u001b[34m🔵 SupervisableTextDataset: --subset raw rows: \u001b[0m\u001b[1;36m400\u001b[0m\u001b[34m -> \u001b[0m\u001b[1;36m370\u001b[0m\u001b[34m.\u001b[0m\n"
      ]
     },
     "metadata": {},
     "output_type": "display_data"
    },
    {
     "data": {
      "text/html": [
       "<pre style=\"white-space:pre;overflow-x:auto;line-height:normal;font-family:Menlo,'DejaVu Sans Mono',consolas,'Courier New',monospace\"><span style=\"color: #000080; text-decoration-color: #000080\">🔵 SupervisableTextDataset: --subset train rows: </span><span style=\"color: #008080; text-decoration-color: #008080; font-weight: bold\">400</span><span style=\"color: #000080; text-decoration-color: #000080\"> -&gt; </span><span style=\"color: #008080; text-decoration-color: #008080; font-weight: bold\">391</span><span style=\"color: #000080; text-decoration-color: #000080\">.</span>\n",
       "</pre>\n"
      ],
      "text/plain": [
       "\u001b[34m🔵 SupervisableTextDataset: --subset train rows: \u001b[0m\u001b[1;36m400\u001b[0m\u001b[34m -> \u001b[0m\u001b[1;36m391\u001b[0m\u001b[34m.\u001b[0m\n"
      ]
     },
     "metadata": {},
     "output_type": "display_data"
    },
    {
     "data": {
      "text/html": [
       "<pre style=\"white-space:pre;overflow-x:auto;line-height:normal;font-family:Menlo,'DejaVu Sans Mono',consolas,'Courier New',monospace\"><span style=\"color: #000080; text-decoration-color: #000080\">🔵 SupervisableTextDataset: --subset dev rows: </span><span style=\"color: #008080; text-decoration-color: #008080; font-weight: bold\">100</span><span style=\"color: #000080; text-decoration-color: #000080\"> -&gt; </span><span style=\"color: #008080; text-decoration-color: #008080; font-weight: bold\">96</span><span style=\"color: #000080; text-decoration-color: #000080\">.</span>\n",
       "</pre>\n"
      ],
      "text/plain": [
       "\u001b[34m🔵 SupervisableTextDataset: --subset dev rows: \u001b[0m\u001b[1;36m100\u001b[0m\u001b[34m -> \u001b[0m\u001b[1;36m96\u001b[0m\u001b[34m.\u001b[0m\n"
      ]
     },
     "metadata": {},
     "output_type": "display_data"
    },
    {
     "data": {
      "text/html": [
       "<pre style=\"white-space:pre;overflow-x:auto;line-height:normal;font-family:Menlo,'DejaVu Sans Mono',consolas,'Courier New',monospace\"><span style=\"color: #000080; text-decoration-color: #000080\">🔵 SupervisableTextDataset: --subset test rows: </span><span style=\"color: #008080; text-decoration-color: #008080; font-weight: bold\">100</span><span style=\"color: #000080; text-decoration-color: #000080\"> -&gt; </span><span style=\"color: #008080; text-decoration-color: #008080; font-weight: bold\">100</span><span style=\"color: #000080; text-decoration-color: #000080\">.</span>\n",
       "</pre>\n"
      ],
      "text/plain": [
       "\u001b[34m🔵 SupervisableTextDataset: --subset test rows: \u001b[0m\u001b[1;36m100\u001b[0m\u001b[34m -> \u001b[0m\u001b[1;36m100\u001b[0m\u001b[34m.\u001b[0m\n"
      ]
     },
     "metadata": {},
     "output_type": "display_data"
    },
    {
     "data": {
      "text/html": [
       "<pre style=\"white-space:pre;overflow-x:auto;line-height:normal;font-family:Menlo,'DejaVu Sans Mono',consolas,'Courier New',monospace\"><span style=\"color: #008000; text-decoration-color: #008000\">🟢 SupervisableTextDataset: Set up label encoder/decoder with </span><span style=\"color: #008080; text-decoration-color: #008080; font-weight: bold\">20</span><span style=\"color: #008000; text-decoration-color: #008000\"> classes.</span>\n",
       "</pre>\n"
      ],
      "text/plain": [
       "\u001b[32m🟢 SupervisableTextDataset: Set up label encoder/decoder with \u001b[0m\u001b[1;36m20\u001b[0m\u001b[32m classes.\u001b[0m\n"
      ]
     },
     "metadata": {},
     "output_type": "display_data"
    },
    {
     "data": {
      "text/html": [
       "<pre style=\"white-space:pre;overflow-x:auto;line-height:normal;font-family:Menlo,'DejaVu Sans Mono',consolas,'Courier New',monospace\"><span style=\"color: #008000; text-decoration-color: #008000\">🟢 SupervisableTextDataset: Population updater: latest population with </span><span style=\"color: #008080; text-decoration-color: #008080; font-weight: bold\">20</span><span style=\"color: #008000; text-decoration-color: #008000\"> classes.</span>\n",
       "</pre>\n"
      ],
      "text/plain": [
       "\u001b[32m🟢 SupervisableTextDataset: Population updater: latest population with \u001b[0m\u001b[1;36m20\u001b[0m\u001b[32m classes.\u001b[0m\n"
      ]
     },
     "metadata": {},
     "output_type": "display_data"
    },
    {
     "data": {
      "text/html": [
       "<pre style=\"white-space:pre;overflow-x:auto;line-height:normal;font-family:Menlo,'DejaVu Sans Mono',consolas,'Courier New',monospace\"><span style=\"color: #008000; text-decoration-color: #008000\">🟢 SupervisableTextDataset: SupervisableTextDataset: finished initialization.</span>\n",
       "</pre>\n"
      ],
      "text/plain": [
       "\u001b[32m🟢 SupervisableTextDataset: SupervisableTextDataset: finished initialization.\u001b[0m\n"
      ]
     },
     "metadata": {},
     "output_type": "display_data"
    }
   ],
   "source": [
    "from hover.core.dataset import SupervisableTextDataset\n",
    "import pandas as pd\n",
    "\n",
    "raw_csv_path = \"https://raw.githubusercontent.com/phurwicz/hover-gallery/main/0.5.0/20_newsgroups_raw.csv\"\n",
    "train_csv_path = \"https://raw.githubusercontent.com/phurwicz/hover-gallery/main/0.5.0/20_newsgroups_train.csv\"\n",
    "\n",
    "# for fast, low-memory demonstration purpose, sample the data\n",
    "df_raw = pd.read_csv(raw_csv_path).sample(400)\n",
    "df_raw[\"SUBSET\"] = \"raw\"\n",
    "df_train = pd.read_csv(train_csv_path).sample(400)\n",
    "df_train[\"SUBSET\"] = \"train\"\n",
    "df_dev = pd.read_csv(train_csv_path).sample(100)\n",
    "df_dev[\"SUBSET\"] = \"dev\"\n",
    "df_test = pd.read_csv(train_csv_path).sample(100)\n",
    "df_test[\"SUBSET\"] = \"test\"\n",
    "\n",
    "# build overall dataframe and ensure feature type\n",
    "df = pd.concat([df_raw, df_train, df_dev, df_test])\n",
    "df[\"text\"] = df[\"text\"].astype(str)\n",
    "\n",
    "# this class stores the dataset throught the labeling process\n",
    "dataset = SupervisableTextDataset.from_pandas(df, feature_key=\"text\", label_key=\"label\")"
   ]
  },
  {
   "cell_type": "markdown",
   "id": "56a031b8",
   "metadata": {},
   "source": [
    "<br>"
   ]
  },
  {
   "cell_type": "code",
   "execution_count": 2,
   "id": "21671b34",
   "metadata": {
    "execution": {
     "iopub.execute_input": "2022-09-20T02:44:22.880308Z",
     "iopub.status.busy": "2022-09-20T02:44:22.879882Z",
     "iopub.status.idle": "2022-09-20T02:44:22.921324Z",
     "shell.execute_reply": "2022-09-20T02:44:22.920723Z"
    }
   },
   "outputs": [
    {
     "data": {
      "text/html": [
       "<div class=\"bk-root\">\n",
       "        <a href=\"https://bokeh.org\" target=\"_blank\" class=\"bk-logo bk-logo-small bk-logo-notebook\"></a>\n",
       "        <span id=\"1029\">Loading BokehJS ...</span>\n",
       "    </div>\n"
      ]
     },
     "metadata": {},
     "output_type": "display_data"
    },
    {
     "data": {
      "application/javascript": [
       "(function(root) {\n",
       "  function now() {\n",
       "    return new Date();\n",
       "  }\n",
       "\n",
       "  const force = true;\n",
       "\n",
       "  if (typeof root._bokeh_onload_callbacks === \"undefined\" || force === true) {\n",
       "    root._bokeh_onload_callbacks = [];\n",
       "    root._bokeh_is_loading = undefined;\n",
       "  }\n",
       "\n",
       "const JS_MIME_TYPE = 'application/javascript';\n",
       "  const HTML_MIME_TYPE = 'text/html';\n",
       "  const EXEC_MIME_TYPE = 'application/vnd.bokehjs_exec.v0+json';\n",
       "  const CLASS_NAME = 'output_bokeh rendered_html';\n",
       "\n",
       "  /**\n",
       "   * Render data to the DOM node\n",
       "   */\n",
       "  function render(props, node) {\n",
       "    const script = document.createElement(\"script\");\n",
       "    node.appendChild(script);\n",
       "  }\n",
       "\n",
       "  /**\n",
       "   * Handle when an output is cleared or removed\n",
       "   */\n",
       "  function handleClearOutput(event, handle) {\n",
       "    const cell = handle.cell;\n",
       "\n",
       "    const id = cell.output_area._bokeh_element_id;\n",
       "    const server_id = cell.output_area._bokeh_server_id;\n",
       "    // Clean up Bokeh references\n",
       "    if (id != null && id in Bokeh.index) {\n",
       "      Bokeh.index[id].model.document.clear();\n",
       "      delete Bokeh.index[id];\n",
       "    }\n",
       "\n",
       "    if (server_id !== undefined) {\n",
       "      // Clean up Bokeh references\n",
       "      const cmd_clean = \"from bokeh.io.state import curstate; print(curstate().uuid_to_server['\" + server_id + \"'].get_sessions()[0].document.roots[0]._id)\";\n",
       "      cell.notebook.kernel.execute(cmd_clean, {\n",
       "        iopub: {\n",
       "          output: function(msg) {\n",
       "            const id = msg.content.text.trim();\n",
       "            if (id in Bokeh.index) {\n",
       "              Bokeh.index[id].model.document.clear();\n",
       "              delete Bokeh.index[id];\n",
       "            }\n",
       "          }\n",
       "        }\n",
       "      });\n",
       "      // Destroy server and session\n",
       "      const cmd_destroy = \"import bokeh.io.notebook as ion; ion.destroy_server('\" + server_id + \"')\";\n",
       "      cell.notebook.kernel.execute(cmd_destroy);\n",
       "    }\n",
       "  }\n",
       "\n",
       "  /**\n",
       "   * Handle when a new output is added\n",
       "   */\n",
       "  function handleAddOutput(event, handle) {\n",
       "    const output_area = handle.output_area;\n",
       "    const output = handle.output;\n",
       "\n",
       "    // limit handleAddOutput to display_data with EXEC_MIME_TYPE content only\n",
       "    if ((output.output_type != \"display_data\") || (!Object.prototype.hasOwnProperty.call(output.data, EXEC_MIME_TYPE))) {\n",
       "      return\n",
       "    }\n",
       "\n",
       "    const toinsert = output_area.element.find(\".\" + CLASS_NAME.split(' ')[0]);\n",
       "\n",
       "    if (output.metadata[EXEC_MIME_TYPE][\"id\"] !== undefined) {\n",
       "      toinsert[toinsert.length - 1].firstChild.textContent = output.data[JS_MIME_TYPE];\n",
       "      // store reference to embed id on output_area\n",
       "      output_area._bokeh_element_id = output.metadata[EXEC_MIME_TYPE][\"id\"];\n",
       "    }\n",
       "    if (output.metadata[EXEC_MIME_TYPE][\"server_id\"] !== undefined) {\n",
       "      const bk_div = document.createElement(\"div\");\n",
       "      bk_div.innerHTML = output.data[HTML_MIME_TYPE];\n",
       "      const script_attrs = bk_div.children[0].attributes;\n",
       "      for (let i = 0; i < script_attrs.length; i++) {\n",
       "        toinsert[toinsert.length - 1].firstChild.setAttribute(script_attrs[i].name, script_attrs[i].value);\n",
       "        toinsert[toinsert.length - 1].firstChild.textContent = bk_div.children[0].textContent\n",
       "      }\n",
       "      // store reference to server id on output_area\n",
       "      output_area._bokeh_server_id = output.metadata[EXEC_MIME_TYPE][\"server_id\"];\n",
       "    }\n",
       "  }\n",
       "\n",
       "  function register_renderer(events, OutputArea) {\n",
       "\n",
       "    function append_mime(data, metadata, element) {\n",
       "      // create a DOM node to render to\n",
       "      const toinsert = this.create_output_subarea(\n",
       "        metadata,\n",
       "        CLASS_NAME,\n",
       "        EXEC_MIME_TYPE\n",
       "      );\n",
       "      this.keyboard_manager.register_events(toinsert);\n",
       "      // Render to node\n",
       "      const props = {data: data, metadata: metadata[EXEC_MIME_TYPE]};\n",
       "      render(props, toinsert[toinsert.length - 1]);\n",
       "      element.append(toinsert);\n",
       "      return toinsert\n",
       "    }\n",
       "\n",
       "    /* Handle when an output is cleared or removed */\n",
       "    events.on('clear_output.CodeCell', handleClearOutput);\n",
       "    events.on('delete.Cell', handleClearOutput);\n",
       "\n",
       "    /* Handle when a new output is added */\n",
       "    events.on('output_added.OutputArea', handleAddOutput);\n",
       "\n",
       "    /**\n",
       "     * Register the mime type and append_mime function with output_area\n",
       "     */\n",
       "    OutputArea.prototype.register_mime_type(EXEC_MIME_TYPE, append_mime, {\n",
       "      /* Is output safe? */\n",
       "      safe: true,\n",
       "      /* Index of renderer in `output_area.display_order` */\n",
       "      index: 0\n",
       "    });\n",
       "  }\n",
       "\n",
       "  // register the mime type if in Jupyter Notebook environment and previously unregistered\n",
       "  if (root.Jupyter !== undefined) {\n",
       "    const events = require('base/js/events');\n",
       "    const OutputArea = require('notebook/js/outputarea').OutputArea;\n",
       "\n",
       "    if (OutputArea.prototype.mime_types().indexOf(EXEC_MIME_TYPE) == -1) {\n",
       "      register_renderer(events, OutputArea);\n",
       "    }\n",
       "  }\n",
       "  if (typeof (root._bokeh_timeout) === \"undefined\" || force === true) {\n",
       "    root._bokeh_timeout = Date.now() + 5000;\n",
       "    root._bokeh_failed_load = false;\n",
       "  }\n",
       "\n",
       "  const NB_LOAD_WARNING = {'data': {'text/html':\n",
       "     \"<div style='background-color: #fdd'>\\n\"+\n",
       "     \"<p>\\n\"+\n",
       "     \"BokehJS does not appear to have successfully loaded. If loading BokehJS from CDN, this \\n\"+\n",
       "     \"may be due to a slow or bad network connection. Possible fixes:\\n\"+\n",
       "     \"</p>\\n\"+\n",
       "     \"<ul>\\n\"+\n",
       "     \"<li>re-rerun `output_notebook()` to attempt to load from CDN again, or</li>\\n\"+\n",
       "     \"<li>use INLINE resources instead, as so:</li>\\n\"+\n",
       "     \"</ul>\\n\"+\n",
       "     \"<code>\\n\"+\n",
       "     \"from bokeh.resources import INLINE\\n\"+\n",
       "     \"output_notebook(resources=INLINE)\\n\"+\n",
       "     \"</code>\\n\"+\n",
       "     \"</div>\"}};\n",
       "\n",
       "  function display_loaded() {\n",
       "    const el = document.getElementById(\"1029\");\n",
       "    if (el != null) {\n",
       "      el.textContent = \"BokehJS is loading...\";\n",
       "    }\n",
       "    if (root.Bokeh !== undefined) {\n",
       "      if (el != null) {\n",
       "        el.textContent = \"BokehJS \" + root.Bokeh.version + \" successfully loaded.\";\n",
       "      }\n",
       "    } else if (Date.now() < root._bokeh_timeout) {\n",
       "      setTimeout(display_loaded, 100)\n",
       "    }\n",
       "  }\n",
       "\n",
       "  function run_callbacks() {\n",
       "    try {\n",
       "      root._bokeh_onload_callbacks.forEach(function(callback) {\n",
       "        if (callback != null)\n",
       "          callback();\n",
       "      });\n",
       "    } finally {\n",
       "      delete root._bokeh_onload_callbacks\n",
       "    }\n",
       "    console.debug(\"Bokeh: all callbacks have finished\");\n",
       "  }\n",
       "\n",
       "  function load_libs(css_urls, js_urls, callback) {\n",
       "    if (css_urls == null) css_urls = [];\n",
       "    if (js_urls == null) js_urls = [];\n",
       "\n",
       "    root._bokeh_onload_callbacks.push(callback);\n",
       "    if (root._bokeh_is_loading > 0) {\n",
       "      console.debug(\"Bokeh: BokehJS is being loaded, scheduling callback at\", now());\n",
       "      return null;\n",
       "    }\n",
       "    if (js_urls == null || js_urls.length === 0) {\n",
       "      run_callbacks();\n",
       "      return null;\n",
       "    }\n",
       "    console.debug(\"Bokeh: BokehJS not loaded, scheduling load and callback at\", now());\n",
       "    root._bokeh_is_loading = css_urls.length + js_urls.length;\n",
       "\n",
       "    function on_load() {\n",
       "      root._bokeh_is_loading--;\n",
       "      if (root._bokeh_is_loading === 0) {\n",
       "        console.debug(\"Bokeh: all BokehJS libraries/stylesheets loaded\");\n",
       "        run_callbacks()\n",
       "      }\n",
       "    }\n",
       "\n",
       "    function on_error(url) {\n",
       "      console.error(\"failed to load \" + url);\n",
       "    }\n",
       "\n",
       "    for (let i = 0; i < css_urls.length; i++) {\n",
       "      const url = css_urls[i];\n",
       "      const element = document.createElement(\"link\");\n",
       "      element.onload = on_load;\n",
       "      element.onerror = on_error.bind(null, url);\n",
       "      element.rel = \"stylesheet\";\n",
       "      element.type = \"text/css\";\n",
       "      element.href = url;\n",
       "      console.debug(\"Bokeh: injecting link tag for BokehJS stylesheet: \", url);\n",
       "      document.body.appendChild(element);\n",
       "    }\n",
       "\n",
       "    for (let i = 0; i < js_urls.length; i++) {\n",
       "      const url = js_urls[i];\n",
       "      const element = document.createElement('script');\n",
       "      element.onload = on_load;\n",
       "      element.onerror = on_error.bind(null, url);\n",
       "      element.async = false;\n",
       "      element.src = url;\n",
       "      console.debug(\"Bokeh: injecting script tag for BokehJS library: \", url);\n",
       "      document.head.appendChild(element);\n",
       "    }\n",
       "  };\n",
       "\n",
       "  function inject_raw_css(css) {\n",
       "    const element = document.createElement(\"style\");\n",
       "    element.appendChild(document.createTextNode(css));\n",
       "    document.body.appendChild(element);\n",
       "  }\n",
       "\n",
       "  const js_urls = [\"https://cdn.bokeh.org/bokeh/release/bokeh-2.4.3.min.js\", \"https://cdn.bokeh.org/bokeh/release/bokeh-gl-2.4.3.min.js\", \"https://cdn.bokeh.org/bokeh/release/bokeh-widgets-2.4.3.min.js\", \"https://cdn.bokeh.org/bokeh/release/bokeh-tables-2.4.3.min.js\", \"https://cdn.bokeh.org/bokeh/release/bokeh-mathjax-2.4.3.min.js\"];\n",
       "  const css_urls = [];\n",
       "\n",
       "  const inline_js = [    function(Bokeh) {\n",
       "      Bokeh.set_log_level(\"info\");\n",
       "    },\n",
       "function(Bokeh) {\n",
       "    }\n",
       "  ];\n",
       "\n",
       "  function run_inline_js() {\n",
       "    if (root.Bokeh !== undefined || force === true) {\n",
       "          for (let i = 0; i < inline_js.length; i++) {\n",
       "      inline_js[i].call(root, root.Bokeh);\n",
       "    }\n",
       "if (force === true) {\n",
       "        display_loaded();\n",
       "      }} else if (Date.now() < root._bokeh_timeout) {\n",
       "      setTimeout(run_inline_js, 100);\n",
       "    } else if (!root._bokeh_failed_load) {\n",
       "      console.log(\"Bokeh: BokehJS failed to load within specified timeout.\");\n",
       "      root._bokeh_failed_load = true;\n",
       "    } else if (force !== true) {\n",
       "      const cell = $(document.getElementById(\"1029\")).parents('.cell').data().cell;\n",
       "      cell.output_area.append_execute_result(NB_LOAD_WARNING)\n",
       "    }\n",
       "  }\n",
       "\n",
       "  if (root._bokeh_is_loading === 0) {\n",
       "    console.debug(\"Bokeh: BokehJS loaded, going straight to plotting\");\n",
       "    run_inline_js();\n",
       "  } else {\n",
       "    load_libs(css_urls, js_urls, function() {\n",
       "      console.debug(\"Bokeh: BokehJS plotting callback run at\", now());\n",
       "      run_inline_js();\n",
       "    });\n",
       "  }\n",
       "}(window));"
      ],
      "application/vnd.bokehjs_load.v0+json": "(function(root) {\n  function now() {\n    return new Date();\n  }\n\n  const force = true;\n\n  if (typeof root._bokeh_onload_callbacks === \"undefined\" || force === true) {\n    root._bokeh_onload_callbacks = [];\n    root._bokeh_is_loading = undefined;\n  }\n\n\n  if (typeof (root._bokeh_timeout) === \"undefined\" || force === true) {\n    root._bokeh_timeout = Date.now() + 5000;\n    root._bokeh_failed_load = false;\n  }\n\n  const NB_LOAD_WARNING = {'data': {'text/html':\n     \"<div style='background-color: #fdd'>\\n\"+\n     \"<p>\\n\"+\n     \"BokehJS does not appear to have successfully loaded. If loading BokehJS from CDN, this \\n\"+\n     \"may be due to a slow or bad network connection. Possible fixes:\\n\"+\n     \"</p>\\n\"+\n     \"<ul>\\n\"+\n     \"<li>re-rerun `output_notebook()` to attempt to load from CDN again, or</li>\\n\"+\n     \"<li>use INLINE resources instead, as so:</li>\\n\"+\n     \"</ul>\\n\"+\n     \"<code>\\n\"+\n     \"from bokeh.resources import INLINE\\n\"+\n     \"output_notebook(resources=INLINE)\\n\"+\n     \"</code>\\n\"+\n     \"</div>\"}};\n\n  function display_loaded() {\n    const el = document.getElementById(\"1029\");\n    if (el != null) {\n      el.textContent = \"BokehJS is loading...\";\n    }\n    if (root.Bokeh !== undefined) {\n      if (el != null) {\n        el.textContent = \"BokehJS \" + root.Bokeh.version + \" successfully loaded.\";\n      }\n    } else if (Date.now() < root._bokeh_timeout) {\n      setTimeout(display_loaded, 100)\n    }\n  }\n\n  function run_callbacks() {\n    try {\n      root._bokeh_onload_callbacks.forEach(function(callback) {\n        if (callback != null)\n          callback();\n      });\n    } finally {\n      delete root._bokeh_onload_callbacks\n    }\n    console.debug(\"Bokeh: all callbacks have finished\");\n  }\n\n  function load_libs(css_urls, js_urls, callback) {\n    if (css_urls == null) css_urls = [];\n    if (js_urls == null) js_urls = [];\n\n    root._bokeh_onload_callbacks.push(callback);\n    if (root._bokeh_is_loading > 0) {\n      console.debug(\"Bokeh: BokehJS is being loaded, scheduling callback at\", now());\n      return null;\n    }\n    if (js_urls == null || js_urls.length === 0) {\n      run_callbacks();\n      return null;\n    }\n    console.debug(\"Bokeh: BokehJS not loaded, scheduling load and callback at\", now());\n    root._bokeh_is_loading = css_urls.length + js_urls.length;\n\n    function on_load() {\n      root._bokeh_is_loading--;\n      if (root._bokeh_is_loading === 0) {\n        console.debug(\"Bokeh: all BokehJS libraries/stylesheets loaded\");\n        run_callbacks()\n      }\n    }\n\n    function on_error(url) {\n      console.error(\"failed to load \" + url);\n    }\n\n    for (let i = 0; i < css_urls.length; i++) {\n      const url = css_urls[i];\n      const element = document.createElement(\"link\");\n      element.onload = on_load;\n      element.onerror = on_error.bind(null, url);\n      element.rel = \"stylesheet\";\n      element.type = \"text/css\";\n      element.href = url;\n      console.debug(\"Bokeh: injecting link tag for BokehJS stylesheet: \", url);\n      document.body.appendChild(element);\n    }\n\n    for (let i = 0; i < js_urls.length; i++) {\n      const url = js_urls[i];\n      const element = document.createElement('script');\n      element.onload = on_load;\n      element.onerror = on_error.bind(null, url);\n      element.async = false;\n      element.src = url;\n      console.debug(\"Bokeh: injecting script tag for BokehJS library: \", url);\n      document.head.appendChild(element);\n    }\n  };\n\n  function inject_raw_css(css) {\n    const element = document.createElement(\"style\");\n    element.appendChild(document.createTextNode(css));\n    document.body.appendChild(element);\n  }\n\n  const js_urls = [\"https://cdn.bokeh.org/bokeh/release/bokeh-2.4.3.min.js\", \"https://cdn.bokeh.org/bokeh/release/bokeh-gl-2.4.3.min.js\", \"https://cdn.bokeh.org/bokeh/release/bokeh-widgets-2.4.3.min.js\", \"https://cdn.bokeh.org/bokeh/release/bokeh-tables-2.4.3.min.js\", \"https://cdn.bokeh.org/bokeh/release/bokeh-mathjax-2.4.3.min.js\"];\n  const css_urls = [];\n\n  const inline_js = [    function(Bokeh) {\n      Bokeh.set_log_level(\"info\");\n    },\nfunction(Bokeh) {\n    }\n  ];\n\n  function run_inline_js() {\n    if (root.Bokeh !== undefined || force === true) {\n          for (let i = 0; i < inline_js.length; i++) {\n      inline_js[i].call(root, root.Bokeh);\n    }\nif (force === true) {\n        display_loaded();\n      }} else if (Date.now() < root._bokeh_timeout) {\n      setTimeout(run_inline_js, 100);\n    } else if (!root._bokeh_failed_load) {\n      console.log(\"Bokeh: BokehJS failed to load within specified timeout.\");\n      root._bokeh_failed_load = true;\n    } else if (force !== true) {\n      const cell = $(document.getElementById(\"1029\")).parents('.cell').data().cell;\n      cell.output_area.append_execute_result(NB_LOAD_WARNING)\n    }\n  }\n\n  if (root._bokeh_is_loading === 0) {\n    console.debug(\"Bokeh: BokehJS loaded, going straight to plotting\");\n    run_inline_js();\n  } else {\n    load_libs(css_urls, js_urls, function() {\n      console.debug(\"Bokeh: BokehJS plotting callback run at\", now());\n      run_inline_js();\n    });\n  }\n}(window));"
     },
     "metadata": {},
     "output_type": "display_data"
    },
    {
     "data": {
      "text/html": [
       "\n",
       "  <div class=\"bk-root\" id=\"d49ce6e1-3866-41ae-bc0c-9789cd0b6d80\" data-root-id=\"1018\"></div>\n"
      ]
     },
     "metadata": {},
     "output_type": "display_data"
    },
    {
     "data": {
      "application/javascript": [
       "(function(root) {\n",
       "  function embed_document(root) {\n",
       "  const docs_json = {\"dcbc98b8-ba70-4774-a219-2d0a21f9bbbf\":{\"defs\":[],\"roots\":{\"references\":[{\"attributes\":{\"columns\":[{\"id\":\"1010\"},{\"id\":\"1011\"},{\"id\":\"1012\"},{\"id\":\"1013\"},{\"id\":\"1014\"},{\"id\":\"1016\"}],\"height_policy\":\"fit\",\"source\":{\"id\":\"1009\"},\"view\":{\"id\":\"1020\"},\"width_policy\":\"fit\"},\"id\":\"1018\",\"type\":\"DataTable\"},{\"attributes\":{},\"id\":\"1038\",\"type\":\"StringFormatter\"},{\"attributes\":{},\"id\":\"1033\",\"type\":\"StringEditor\"},{\"attributes\":{},\"id\":\"1039\",\"type\":\"StringEditor\"},{\"attributes\":{\"editor\":{\"id\":\"1031\"},\"field\":\"label\",\"formatter\":{\"id\":\"1030\"},\"title\":\"label\"},\"id\":\"1010\",\"type\":\"TableColumn\"},{\"attributes\":{},\"id\":\"1040\",\"type\":\"StringEditor\"},{\"attributes\":{},\"id\":\"1034\",\"type\":\"StringFormatter\"},{\"attributes\":{\"editor\":{\"id\":\"1033\"},\"field\":\"count_raw\",\"formatter\":{\"id\":\"1032\"},\"title\":\"raw\"},\"id\":\"1011\",\"type\":\"TableColumn\"},{\"attributes\":{},\"id\":\"1041\",\"type\":\"UnionRenderers\"},{\"attributes\":{},\"id\":\"1035\",\"type\":\"StringEditor\"},{\"attributes\":{\"source\":{\"id\":\"1009\"}},\"id\":\"1020\",\"type\":\"CDSView\"},{\"attributes\":{},\"id\":\"1042\",\"type\":\"Selection\"},{\"attributes\":{\"editor\":{\"id\":\"1037\"},\"field\":\"count_dev\",\"formatter\":{\"id\":\"1036\"},\"title\":\"dev\"},\"id\":\"1013\",\"type\":\"TableColumn\"},{\"attributes\":{\"template\":\"\\n<p style=\\\"color:<%= value %>;\\\">\\n    <%= \\\"&#9608;&#9608;&#9608;\\\" %>\\n</p>\\n\"},\"id\":\"1015\",\"type\":\"HTMLTemplateFormatter\"},{\"attributes\":{\"data\":{\"color\":[\"#dcdcdc\",\"#1f77b4\",\"#aec7e8\",\"#ff7f0e\",\"#ffbb78\",\"#2ca02c\",\"#98df8a\",\"#d62728\",\"#ff9896\",\"#9467bd\",\"#c5b0d5\",\"#8c564b\",\"#c49c94\",\"#e377c2\",\"#f7b6d2\",\"#7f7f7f\",\"#c7c7c7\",\"#bcbd22\",\"#dbdb8d\",\"#17becf\",\"#9edae5\"],\"count_dev\":[0,4,5,3,5,3,8,9,4,5,3,4,5,8,3,4,8,5,3,2,5],\"count_raw\":[370,0,0,0,0,0,0,0,0,0,0,0,0,0,0,0,0,0,0,0,0],\"count_test\":[0,5,4,9,7,7,4,7,6,6,6,3,2,1,4,6,6,5,4,5,3],\"count_train\":[0,20,24,28,22,25,22,24,21,18,15,21,17,19,22,20,21,13,12,13,14],\"label\":[\"ABSTAIN\",\"alt.atheism\",\"comp.graphics\",\"comp.os.ms-windows.misc\",\"comp.sys.ibm.pc.hardware\",\"comp.sys.mac.hardware\",\"comp.windows.x\",\"misc.forsale\",\"rec.autos\",\"rec.motorcycles\",\"rec.sport.baseball\",\"rec.sport.hockey\",\"sci.crypt\",\"sci.electronics\",\"sci.med\",\"sci.space\",\"soc.religion.christian\",\"talk.politics.guns\",\"talk.politics.mideast\",\"talk.politics.misc\",\"talk.religion.misc\"]},\"selected\":{\"id\":\"1042\"},\"selection_policy\":{\"id\":\"1041\"}},\"id\":\"1009\",\"type\":\"ColumnDataSource\"},{\"attributes\":{\"editor\":{\"id\":\"1035\"},\"field\":\"count_train\",\"formatter\":{\"id\":\"1034\"},\"title\":\"train\"},\"id\":\"1012\",\"type\":\"TableColumn\"},{\"attributes\":{},\"id\":\"1031\",\"type\":\"StringEditor\"},{\"attributes\":{},\"id\":\"1032\",\"type\":\"StringFormatter\"},{\"attributes\":{\"editor\":{\"id\":\"1040\"},\"field\":\"color\",\"formatter\":{\"id\":\"1015\"},\"title\":\"color\"},\"id\":\"1016\",\"type\":\"TableColumn\"},{\"attributes\":{},\"id\":\"1036\",\"type\":\"StringFormatter\"},{\"attributes\":{\"editor\":{\"id\":\"1039\"},\"field\":\"count_test\",\"formatter\":{\"id\":\"1038\"},\"title\":\"test\"},\"id\":\"1014\",\"type\":\"TableColumn\"},{\"attributes\":{},\"id\":\"1030\",\"type\":\"StringFormatter\"},{\"attributes\":{},\"id\":\"1037\",\"type\":\"StringEditor\"}],\"root_ids\":[\"1018\"]},\"title\":\"Bokeh Application\",\"version\":\"2.4.3\"}};\n",
       "  const render_items = [{\"docid\":\"dcbc98b8-ba70-4774-a219-2d0a21f9bbbf\",\"root_ids\":[\"1018\"],\"roots\":{\"1018\":\"d49ce6e1-3866-41ae-bc0c-9789cd0b6d80\"}}];\n",
       "  root.Bokeh.embed.embed_items_notebook(docs_json, render_items);\n",
       "  }\n",
       "  if (root.Bokeh !== undefined) {\n",
       "    embed_document(root);\n",
       "  } else {\n",
       "    let attempts = 0;\n",
       "    const timer = setInterval(function(root) {\n",
       "      if (root.Bokeh !== undefined) {\n",
       "        clearInterval(timer);\n",
       "        embed_document(root);\n",
       "      } else {\n",
       "        attempts++;\n",
       "        if (attempts > 100) {\n",
       "          clearInterval(timer);\n",
       "          console.log(\"Bokeh: ERROR: Unable to run BokehJS code because BokehJS library is missing\");\n",
       "        }\n",
       "      }\n",
       "    }, 10, root)\n",
       "  }\n",
       "})(window);"
      ],
      "application/vnd.bokehjs_exec.v0+json": ""
     },
     "metadata": {
      "application/vnd.bokehjs_exec.v0+json": {
       "id": "1018"
      }
     },
     "output_type": "display_data"
    }
   ],
   "source": [
    "from bokeh.io import show, output_notebook\n",
    "\n",
    "output_notebook()\n",
    "\n",
    "# normally your would skip notebook_url or use Jupyter address\n",
    "notebook_url = 'localhost:8888'\n",
    "\n",
    "show(dataset.pop_table, notebook_url=notebook_url)"
   ]
  },
  {
   "cell_type": "markdown",
   "id": "faa9451c",
   "metadata": {},
   "source": [
    "<br>\n",
    "\n",
    "### **Transfer Data Between Subsets**\n",
    "\n",
    "`COMMIT` and `DEDUP` are the mechanisms that `hover` uses to transfer data between subsets.\n",
    "\n",
    "-   `COMMIT` copies selected points (to be discussed later) to a destination subset\n",
    "    -   labeled-raw-only: `COMMIT` automatically detects which points are in the raw set with a valid label. Other points will not get copied.\n",
    "    -   keep-last: you can commit the same point to the same subset multiple times and the last copy will be kept. This can be useful for revising labels before `DEDUP`.\n",
    "-   `DEDUP` removes duplicates (identified by feature value) across subsets\n",
    "    -   priority rule: test > dev > train > raw, i.e. test set data always gets kept during deduplication\n",
    "\n",
    "-   <details open><summary>FAQ</summary>\n",
    "    <details open><summary>Why does COMMIT only work on the raw subset?</summary>\n",
    "        Most selections will happen through plots, where different subsets are on top of each other. This means selections can contain both unlabeled and labeled points.\n",
    "\n",
    "        Way too often we find ourselves trying to view both the labeled and the unlabeled, but only moving the unlabeled \"raw\" points. So it's handy that COMMIT picks those points only.\n",
    "    </details>\n",
    "\n",
    "</details>\n",
    "\n",
    "These mechanisms correspond to buttons in `hover`'s annotation interface, which you have encountered in the quickstart:"
   ]
  },
  {
   "cell_type": "code",
   "execution_count": 3,
   "id": "d32a221a",
   "metadata": {
    "execution": {
     "iopub.execute_input": "2022-09-20T02:44:22.924869Z",
     "iopub.status.busy": "2022-09-20T02:44:22.924526Z",
     "iopub.status.idle": "2022-09-20T02:44:22.951653Z",
     "shell.execute_reply": "2022-09-20T02:44:22.951069Z"
    }
   },
   "outputs": [
    {
     "name": "stderr",
     "output_type": "stream",
     "text": [
      "WARNING:bokeh.embed.util:\n",
      "You are generating standalone HTML/JS output, but trying to use real Python\n",
      "callbacks (i.e. with on_change or on_event). This combination cannot work.\n",
      "\n",
      "Only JavaScript callbacks may be used with standalone output. For more\n",
      "information on JavaScript callbacks with Bokeh, see:\n",
      "\n",
      "    https://docs.bokeh.org/en/latest/docs/user_guide/interaction/callbacks.html\n",
      "\n",
      "Alternatively, to use real Python callbacks, a Bokeh server application may\n",
      "be used. For more information on building and running Bokeh applications, see:\n",
      "\n",
      "    https://docs.bokeh.org/en/latest/docs/user_guide/server.html\n",
      "\n"
     ]
    },
    {
     "data": {
      "text/html": [
       "\n",
       "  <div class=\"bk-root\" id=\"bda8d117-159b-4fc9-bd4a-16b469e03f2f\" data-root-id=\"1109\"></div>\n"
      ]
     },
     "metadata": {},
     "output_type": "display_data"
    },
    {
     "data": {
      "application/javascript": [
       "(function(root) {\n",
       "  function embed_document(root) {\n",
       "  const docs_json = {\"8cc079ad-ea4c-436c-851f-0c78b4d09308\":{\"defs\":[],\"roots\":{\"references\":[{\"attributes\":{\"children\":[{\"id\":\"1108\"},{\"id\":\"1018\"}]},\"id\":\"1109\",\"type\":\"Column\"},{\"attributes\":{},\"id\":\"1038\",\"type\":\"StringFormatter\"},{\"attributes\":{\"button_type\":\"warning\",\"height_policy\":\"fit\",\"icon\":null,\"label\":\"Commit\",\"menu\":[\"train\",\"dev\",\"test\"],\"subscribed_events\":[\"button_click\",\"menu_item_click\"],\"width_policy\":\"min\"},\"id\":\"1002\",\"type\":\"Dropdown\"},{\"attributes\":{},\"id\":\"1033\",\"type\":\"StringEditor\"},{\"attributes\":{},\"id\":\"1039\",\"type\":\"StringEditor\"},{\"attributes\":{\"editor\":{\"id\":\"1031\"},\"field\":\"label\",\"formatter\":{\"id\":\"1030\"},\"title\":\"label\"},\"id\":\"1010\",\"type\":\"TableColumn\"},{\"attributes\":{},\"id\":\"1040\",\"type\":\"StringEditor\"},{\"attributes\":{},\"id\":\"1034\",\"type\":\"StringFormatter\"},{\"attributes\":{\"editor\":{\"id\":\"1033\"},\"field\":\"count_raw\",\"formatter\":{\"id\":\"1032\"},\"title\":\"raw\"},\"id\":\"1011\",\"type\":\"TableColumn\"},{\"attributes\":{},\"id\":\"1041\",\"type\":\"UnionRenderers\"},{\"attributes\":{\"children\":[{\"id\":\"1002\"},{\"id\":\"1003\"}]},\"id\":\"1108\",\"type\":\"Row\"},{\"attributes\":{},\"id\":\"1035\",\"type\":\"StringEditor\"},{\"attributes\":{\"source\":{\"id\":\"1009\"}},\"id\":\"1020\",\"type\":\"CDSView\"},{\"attributes\":{},\"id\":\"1042\",\"type\":\"Selection\"},{\"attributes\":{\"button_type\":\"warning\",\"height_policy\":\"fit\",\"icon\":null,\"label\":\"Dedup\",\"subscribed_events\":[\"button_click\"],\"width_policy\":\"min\"},\"id\":\"1003\",\"type\":\"Button\"},{\"attributes\":{\"editor\":{\"id\":\"1037\"},\"field\":\"count_dev\",\"formatter\":{\"id\":\"1036\"},\"title\":\"dev\"},\"id\":\"1013\",\"type\":\"TableColumn\"},{\"attributes\":{\"template\":\"\\n<p style=\\\"color:<%= value %>;\\\">\\n    <%= \\\"&#9608;&#9608;&#9608;\\\" %>\\n</p>\\n\"},\"id\":\"1015\",\"type\":\"HTMLTemplateFormatter\"},{\"attributes\":{\"data\":{\"color\":[\"#dcdcdc\",\"#1f77b4\",\"#aec7e8\",\"#ff7f0e\",\"#ffbb78\",\"#2ca02c\",\"#98df8a\",\"#d62728\",\"#ff9896\",\"#9467bd\",\"#c5b0d5\",\"#8c564b\",\"#c49c94\",\"#e377c2\",\"#f7b6d2\",\"#7f7f7f\",\"#c7c7c7\",\"#bcbd22\",\"#dbdb8d\",\"#17becf\",\"#9edae5\"],\"count_dev\":[0,4,5,3,5,3,8,9,4,5,3,4,5,8,3,4,8,5,3,2,5],\"count_raw\":[370,0,0,0,0,0,0,0,0,0,0,0,0,0,0,0,0,0,0,0,0],\"count_test\":[0,5,4,9,7,7,4,7,6,6,6,3,2,1,4,6,6,5,4,5,3],\"count_train\":[0,20,24,28,22,25,22,24,21,18,15,21,17,19,22,20,21,13,12,13,14],\"label\":[\"ABSTAIN\",\"alt.atheism\",\"comp.graphics\",\"comp.os.ms-windows.misc\",\"comp.sys.ibm.pc.hardware\",\"comp.sys.mac.hardware\",\"comp.windows.x\",\"misc.forsale\",\"rec.autos\",\"rec.motorcycles\",\"rec.sport.baseball\",\"rec.sport.hockey\",\"sci.crypt\",\"sci.electronics\",\"sci.med\",\"sci.space\",\"soc.religion.christian\",\"talk.politics.guns\",\"talk.politics.mideast\",\"talk.politics.misc\",\"talk.religion.misc\"]},\"selected\":{\"id\":\"1042\"},\"selection_policy\":{\"id\":\"1041\"}},\"id\":\"1009\",\"type\":\"ColumnDataSource\"},{\"attributes\":{\"columns\":[{\"id\":\"1010\"},{\"id\":\"1011\"},{\"id\":\"1012\"},{\"id\":\"1013\"},{\"id\":\"1014\"},{\"id\":\"1016\"}],\"height_policy\":\"fit\",\"source\":{\"id\":\"1009\"},\"view\":{\"id\":\"1020\"},\"width_policy\":\"fit\"},\"id\":\"1018\",\"type\":\"DataTable\"},{\"attributes\":{\"editor\":{\"id\":\"1035\"},\"field\":\"count_train\",\"formatter\":{\"id\":\"1034\"},\"title\":\"train\"},\"id\":\"1012\",\"type\":\"TableColumn\"},{\"attributes\":{},\"id\":\"1031\",\"type\":\"StringEditor\"},{\"attributes\":{},\"id\":\"1032\",\"type\":\"StringFormatter\"},{\"attributes\":{\"editor\":{\"id\":\"1040\"},\"field\":\"color\",\"formatter\":{\"id\":\"1015\"},\"title\":\"color\"},\"id\":\"1016\",\"type\":\"TableColumn\"},{\"attributes\":{},\"id\":\"1036\",\"type\":\"StringFormatter\"},{\"attributes\":{\"editor\":{\"id\":\"1039\"},\"field\":\"count_test\",\"formatter\":{\"id\":\"1038\"},\"title\":\"test\"},\"id\":\"1014\",\"type\":\"TableColumn\"},{\"attributes\":{},\"id\":\"1030\",\"type\":\"StringFormatter\"},{\"attributes\":{},\"id\":\"1037\",\"type\":\"StringEditor\"}],\"root_ids\":[\"1109\"]},\"title\":\"Bokeh Application\",\"version\":\"2.4.3\"}};\n",
       "  const render_items = [{\"docid\":\"8cc079ad-ea4c-436c-851f-0c78b4d09308\",\"root_ids\":[\"1109\"],\"roots\":{\"1109\":\"bda8d117-159b-4fc9-bd4a-16b469e03f2f\"}}];\n",
       "  root.Bokeh.embed.embed_items_notebook(docs_json, render_items);\n",
       "  }\n",
       "  if (root.Bokeh !== undefined) {\n",
       "    embed_document(root);\n",
       "  } else {\n",
       "    let attempts = 0;\n",
       "    const timer = setInterval(function(root) {\n",
       "      if (root.Bokeh !== undefined) {\n",
       "        clearInterval(timer);\n",
       "        embed_document(root);\n",
       "      } else {\n",
       "        attempts++;\n",
       "        if (attempts > 100) {\n",
       "          clearInterval(timer);\n",
       "          console.log(\"Bokeh: ERROR: Unable to run BokehJS code because BokehJS library is missing\");\n",
       "        }\n",
       "      }\n",
       "    }, 10, root)\n",
       "  }\n",
       "})(window);"
      ],
      "application/vnd.bokehjs_exec.v0+json": ""
     },
     "metadata": {
      "application/vnd.bokehjs_exec.v0+json": {
       "id": "1109"
      }
     },
     "output_type": "display_data"
    }
   ],
   "source": [
    "from bokeh.layouts import row, column\n",
    "\n",
    "show(column(\n",
    "    row(\n",
    "        dataset.data_committer,\n",
    "        dataset.dedup_trigger,\n",
    "    ),\n",
    "    dataset.pop_table,\n",
    "), notebook_url=notebook_url)"
   ]
  },
  {
   "cell_type": "markdown",
   "id": "afa9d812",
   "metadata": {},
   "source": [
    "<br>\n",
    "\n",
    "Of course, so far we have nothing to move, because there's no data selected. We shall now discuss selections.\n",
    "\n",
    "## **Selection**\n",
    "\n",
    "`hover` labels data points in bulk, which requires selecting groups of homogeneous data, i.e. semantically similar or going to have the same label. Being able to skim through what you selected gives you confidence about homogeneity.\n",
    "\n",
    "Normally, selection happens through a plot (`explorer`), as we have seen in the quickstart. For the purpose here, we will \"cheat\" and assign the selection programmatically:"
   ]
  },
  {
   "cell_type": "code",
   "execution_count": 4,
   "id": "80137844",
   "metadata": {
    "execution": {
     "iopub.execute_input": "2022-09-20T02:44:22.954943Z",
     "iopub.status.busy": "2022-09-20T02:44:22.954321Z",
     "iopub.status.idle": "2022-09-20T02:44:22.973663Z",
     "shell.execute_reply": "2022-09-20T02:44:22.973049Z"
    }
   },
   "outputs": [
    {
     "data": {
      "text/html": [
       "<pre style=\"white-space:pre;overflow-x:auto;line-height:normal;font-family:Menlo,'DejaVu Sans Mono',consolas,'Courier New',monospace\"><span style=\"color: #008000; text-decoration-color: #008000\">🟢 SupervisableTextDataset: Selection table: latest selection with </span><span style=\"color: #008080; text-decoration-color: #008080; font-weight: bold\">11</span><span style=\"color: #008000; text-decoration-color: #008000\"> entries.</span>\n",
       "</pre>\n"
      ],
      "text/plain": [
       "\u001b[32m🟢 SupervisableTextDataset: Selection table: latest selection with \u001b[0m\u001b[1;36m11\u001b[0m\u001b[32m entries.\u001b[0m\n"
      ]
     },
     "metadata": {},
     "output_type": "display_data"
    },
    {
     "data": {
      "text/html": [
       "\n",
       "  <div class=\"bk-root\" id=\"355d825b-25dc-43ff-9a56-6ebddf0768d1\" data-root-id=\"1026\"></div>\n"
      ]
     },
     "metadata": {},
     "output_type": "display_data"
    },
    {
     "data": {
      "application/javascript": [
       "(function(root) {\n",
       "  function embed_document(root) {\n",
       "  const docs_json = {\"bfd7b5ce-f8b5-4070-9d51-3dec5b249600\":{\"defs\":[],\"roots\":{\"references\":[{\"attributes\":{\"columns\":[{\"id\":\"1023\"},{\"id\":\"1025\"}],\"editable\":true,\"height_policy\":\"fit\",\"selectable\":\"checkbox\",\"source\":{\"id\":\"1021\"},\"view\":{\"id\":\"1028\"},\"width_policy\":\"fit\"},\"id\":\"1026\",\"type\":\"DataTable\"},{\"attributes\":{\"data\":{\"SUBSET\":[\"raw\",\"raw\",\"raw\",\"raw\",\"raw\",\"raw\",\"raw\",\"raw\",\"raw\",\"raw\",\"raw\"],\"label\":[\"ABSTAIN\",\"ABSTAIN\",\"ABSTAIN\",\"ABSTAIN\",\"ABSTAIN\",\"ABSTAIN\",\"ABSTAIN\",\"ABSTAIN\",\"ABSTAIN\",\"ABSTAIN\",\"ABSTAIN\"],\"text\":[\" Whatabout, Schools, Universities, Rich Individuals (around 250 people  in the UK have more than 10 million dollars each). I reecieved mail from people who claimed they might get a person into space for $500 per pound. Send a skinny person into space and split the rest of the money among the ground crew! Agreed. I volunteer for any UK attempts. But one clause: No launch methods which are clearly dangerous to the environment (ours or someone else's). No usage of materials from areas of planetary importance.   Yes: We should *do* this rather than talk about it. Lobby people! The major problem with the space programmes is all talk/paperwork and no action!   \",\" Well, I'm not a lawyer, but from what I can tell this is completely and utterly untrue.  You see, this country has this thing called a \\\"constitution\\\".  If you legitimately aquire the device, and you yourself are not a government employee or otherwise encumbered, I don't think they can stop you from revealing anything about the device you can determine. Remember the Pentagon Papers precedent? The First Amendment applies here.  The U.S. does NOT have an official secrets act. We do have laws that will punish you for revealing what classified information you learned in your capacity as a government official, contractor, etc, and we have laws that prohibit stealing such information. However, if they sell you the chip, I can't see that they can make reverse engineering it and revealing the details illegal.  -- Perry Metzger  pmetzger@shearson.com\",\" Apparently not. Many people complain about the confusion that results from the filemanager/progman split. It's just a basic flaw.\",\" i'm telling you, sam, three l's.  call up mom and ask.\",\"Hi,  Since the original buyer found out he couldn't use this modem for his Mac (I beleive I mentioned that it's an internal in my former post), the modem is re-available now.  This modem is SupraFaxModem V.32bis.  If interested, please e-mail.  Thanks!\",\"However, this has nothing to do with motorcycling, unless you consider the Amazona a bike.\",\"1992-93 Los Angeles Kings notes. -------------------------------- Playoffs: --------- *Stauber disturbed by third-man theme by Rick Sadowski, Daily News  Barry Melrose's decision to stick Robb Stauber in the stands rather than in the crease or even on the bench for the Stanley Cup playoffs does not sit well with the rookie goaltender.  \\\"I want to be a part of the team at the most crucial time of the year, the most fun time of the year, and I'm not,\\\"  Stauber said with some emotion Monday.  \\\"I think I have worked hard enough for that.\\\"  Stauber said he accepts Melrose's choice of Kelly Hrudey as the teams top goalie in their playoff series with the Calgary Flames. Hrudey made 21 saves in Sundays 6-3 opening victory.  But Stauber clearly is upset with his sudden status as the No. 3 man behind Rick Knickle.  Stauber had a 4-1-2 record and 2.98 goals-against average down the stretch in the regular season and nearly wrestled the No. 1 job from Hrudey.  Knickle?  He won 2 of 3 decisions but had a bloated 5.26 average, twice was  yanked from games (once for stomach cramps) and hasn't played since March 29.  Yet, when the series resumes Wednesday, Knickle will serve as Hrudey's backup again and Stauber will have to satisfy his playoff hunger by munching on Olympic Saddledome popcorn.  \\\"If I'm supposedly close to being the starter or could have been the starter...I dropped too. 3.  What happened to No. 2?\\\"  Stauber wondered.  \\\"Not that I'd be happy with No. 2, but I feel I should at least be a part of this team in the playoffs.\\\"  Perhaps Stauber eventually will get his chance, but Melrose apparently is not convinced the 25-year old is capable of handling playoff pressure.  While insisting he is the Kings' \\\"goalie of the future,\\\" Melrose said Stauber flubbed all four of the big games he was asked to win this season.  They were, according to Melrose: a 7-2 loss to San Jose on Dec. 26; An 8-3 loss to the New York Rangers on Jan. 23; a 6-6 tie with Detroit on Feb. 11; an 8-6 loss to  Vancouver on Thursday.  \\\"Four times this season Robb could have emerged as the elite goalie, he could have taken it away from Kelly Hrudey, and he didn't do it,\\\" Melrose said.  \\\"An elite goaltender has to carry the ball when you give it to him.  The mark of a great goalie is that he isn't satisfied to be a backup.\\\"  \\\"I'm not blaming Robb for the losses, but if you're going to be No. 1, you've got to be able to walk your talk.  You've got to be able to play when everything is on the line.  Robb Stauber has a great deal of ability, but maybe I expect more from him than he does.\\\"  Ouch.  That remark stung Stauber.  He began the season 9-0-1, struggled when the team hit a mid-season slump, didn't play for a month after Knickle was signed off the San Diego Gulls roster, then came on at the end.  \\\"I expect more from myself than anybody, including Barry Melrose,\\\" said Stauber, a three-year star at the University of Minnesota who left school in 1989, only  to have his development hampered by a string of serious injuries.  \\\"What I've been through the last four years - two knee operations, a herniated disk in my back, shoulder surgery - what more can I go through?  I obviously do expect a lot from myself, otherwise I wouldn't be here.\\\"  \\\"Anybody who would disagree with that doesn't know me.  I'm not saying Barry  doesn't know me, but don't say I've been without expectations.  If anything, I'm a perfectionist.\\\"  Stauber acknowledged he played poorly in the four games Melrose mentioned. \\\"But  even though I didn't play well, I get knocked down from maybe on to three? It's  a bit of a jump,\\\" he said.  \\\"You're almost No. 1, or if you play a good game  you're No. 1 and if you don't you're No. 3?  Why does Jack Nicklaus shoot a 67  and then a 75?  Can you explain that?  That's what barry wanted me to explain  to him, why I didn't come through when he counted on me.  I don't know. What I  do know is, it's a sport.  I'll be there.\\\"  Melrose's \\\"goalie of the future\\\" statement doesn't mean much to Stauber. \\\"Before you know it, I'll be 30 and there will be no future,\\\" he said.  ------  *Game 1 of the Kings @ Flames playoff series drew a 4.2 Nielsen rating on ABC  Channel 7 here in LA.  The Kings averaged a 2.1 Nielsen rating in the 10 regular season games aired on Channel 5.  Around the NHL: --------------- *San Jose fired Coach George Kingston, who lead the team to a 11-71-2 mark in  their 2nd NHL season.  Kingston was 28-129-7 over the past 2 years with the Sharks.  ------  *Former Islander executive Bill Torrey was named as President of the expansion Florida Panthers.  Bobby Clarke was named as the clubs General Manager.  *Last nights games: ------------------- WIN  2 @ VAN  4 (VAN leads 1-0) TOR  3 @ DET  6 (DET leads 1-0)  =============================================================================== Stan Willis (willis@empire.dnet.hac.com) net contact: L.A. Kings\",\"   As applied to servers, the first three are fuzzy terms.  \\\"multi-headed\\\" tends to be used for any system with multiple monitors, sometimes even multiple screens even if they're multiplexed onto the same monitor (eg, a Sun with a cg4 display).  \\\"multi-screen\\\" and \\\"multi-display\\\" would, if taken strictly, mean different things, but since the strict meaning of \\\"multi-display\\\" would refer to a system with multiple keyboards and pointers, when it's used it probably refers to the same thing \\\"multi-screen\\\" would: a system that provides multiple Screens.  \\\"zaphod\\\" is a term applied to the way the MIT server switches the pointer from one screen to another by sliding it off the side of the screen.   There is a protocol limitation that restricts a given Display to at most 255 Screens.  I know of no server that handles multiple Displays on a single invocation, unless possibly my kludges to the R4 server can be looked upon as such; on a TCP-based system there is necessarily a limit of 65535 Displays per machine, but this is not a limitation inherent to X.  What you read was most likely talking about a limit in some particular implementation (probably the MIT one).  If it claimed there was a limit of 12 inherent to X, the author of the article had no business writing about X.       der Mouse\",\"Kermit Tensmeyer quoted from a few sources and then wrote something. I will attempt to construct a facsimile of what was previously said, and  then address Kermit's offering.  John Redelfs originally wrote...    jr> I learned that a man cannot frustrate justice by repenting on his   jr> death bed because repentance is more than a feeling of remorse.  It   jr> requires faith in Christ proven by following him, by keeping his   jr> commandments.  Such cannot be accomplished on ones deathbed.  Tom Albrecht responded...    ta> So Jesus must have lied to the thief on the cross.  John Redelfs wrote back that...    jr> Paradise and salvation are not the same thing.  Salvation is better.   jr> Refer to John 14:2.  I responded to John that...    rw>    I don't see the effort to equate salvation with paradise.   rw>   rw>    Rather, I see implied the fact that only those who are saved   rw> may enter paradise.  To which Kermit wrote...  kt> Incomplete reference: kt> kt> See also the discussion: Did Jesus go into Hell in the BibleStudy group kt> for the arguments that Paradise and Hell(sheol) are places after death kt> The discussion (no LDS were involved as far as I could see) argued using kt> standard Christian argument from the Bible that pretty much support the kt> LDS position. kt> kt>    Christ went to paridise after his death and burial. kt> kt>    He taught the prisoners and freed them from Darkness. kt> kt>    When he was resurrected, he had not yet ascended to his father. kt> kt> The arguement centered around what was or wasn't the proper biblical kt> terms for those places.       I respond.       The question that was raised was not if Jesus went to infernal Paradise      before entering into heaven. No one has made a point for or against       that issue, nor have they compared the LDS position against orthodox      belief. The infernal paradise is held to be Abraham's bosom (Luke 16),       the place of the righteous dead in sheol (equivalent to hades).       The point that was raised by John was that someone could not repent      on their death bed. Tom Albrecht pointed to a Biblical example that was      contradictory to what John's position put forward. The thief on the       cross was promised by Christ to be with Him in Paradise, the abode of       the righteous dead. John's position possibly needs to be reworked.      Kermit needs to address the topic at hand.\",\"  <discussion deleted>       MY HOCKEY EDUCATION?  What the f--- are you talking about?  I'm not even going to try to refute this absolutely insane statement.        \\\"I hate the Habs\\\" ?...you sound like a 10-year old.  This statement is just further exemplifies your total inability to argue objectively about hockey.  Don't give me this crap about \\\"cogent arguments\\\"...I've yet to read something of yours that is cogent.  You consistently argue with: (1) emotion; (2) huge, sweeping statements   Frankly, you have a very unconvincing style.   I'm not defending Bob Gainey...frankly, I don't care for him all that much.  But your dismissal of him as something less than an effective hockey player is tiresome...it has no basis in anything.  How many Calders did he win? I think it was four (go ahead and refresh my memory).  What about the Conn Smythe?  Was that a fluke?  Yeah, not the makings of a hockey superstar, I know, but try to have a reason, any reason, to shoot him down.         Hey cowboy!  You're the \\\"expert\\\" who introduced the idiotic comparison of Gainey with Gretzky and Lemieux...you figure it out.       How many individual awards between them? Eight...I don't remember (once again, please feel free to refresh my memory...and try to be as sarcastic as possible about my \\\"hockey education\\\").       OH MY GOD!!!  Did I say that?  Roger...what's your point?  Fuhr is a goaltender, goaltender's don't \\\"plug\\\"...in his prime, he was one of the best.  Sanderson was a scrapper...if you stick him on you may as well include half the Flyers team of the same era.       Oh Roger, you shouldn't...really.  I don't deserve this...you are far too accomodating already.       You seem to have allowed all of these other players fall into your sweeping, vacuous statement...that's why.  If you want to debate Gainey, go ahead...but why bring up everybody else?  How does it support your argument?  Do you have an argument, or do you just like to throw around a few names hoping to impress us?       Great.  I couldn't agree more.  The Flyers won two cups for the same reasons...deservedly so.  So what?  I don't get it.  Are you angry that the Leafs didn't get more recognition?     You seem to think these pluggers are \\\"hyped\\\"...I don't agree...plain and simple.  If you're last statement is some sort of compromise, fair enough.       Not a pleasant bone in your body, eh Rog?  Why are you so unhappy?  Not getting invited to enough parties?  What?     Roger, why are you under the impression that responding to your posts is some great honour?  You really should stop...it sounds a little bit pathetic.  Frankly, it's about as honourable as a good fart.   congenially, as always,    jd   --  James David  j3david@student.business.uwo.ca/s\",\"  If this doesn't beat all I ever heard!  The above certainly says a mouthful about the mindset of Ted Frank, and also of statists everywhere.\"]},\"selected\":{\"id\":\"1201\"},\"selection_policy\":{\"id\":\"1231\"}},\"id\":\"1021\",\"type\":\"ColumnDataSource\"},{\"attributes\":{},\"id\":\"1230\",\"type\":\"StringEditor\"},{\"attributes\":{\"editor\":{\"id\":\"1022\"},\"field\":\"text\",\"formatter\":{\"id\":\"1228\"},\"title\":\"text\"},\"id\":\"1023\",\"type\":\"TableColumn\"},{\"attributes\":{\"indices\":[]},\"id\":\"1201\",\"type\":\"Selection\"},{\"attributes\":{},\"id\":\"1229\",\"type\":\"StringFormatter\"},{\"attributes\":{},\"id\":\"1022\",\"type\":\"CellEditor\"},{\"attributes\":{\"editor\":{\"id\":\"1230\"},\"field\":\"label\",\"formatter\":{\"id\":\"1229\"},\"title\":\"label\"},\"id\":\"1025\",\"type\":\"TableColumn\"},{\"attributes\":{\"source\":{\"id\":\"1021\"}},\"id\":\"1028\",\"type\":\"CDSView\"},{\"attributes\":{},\"id\":\"1228\",\"type\":\"StringFormatter\"},{\"attributes\":{},\"id\":\"1231\",\"type\":\"UnionRenderers\"}],\"root_ids\":[\"1026\"]},\"title\":\"Bokeh Application\",\"version\":\"2.4.3\"}};\n",
       "  const render_items = [{\"docid\":\"bfd7b5ce-f8b5-4070-9d51-3dec5b249600\",\"root_ids\":[\"1026\"],\"roots\":{\"1026\":\"355d825b-25dc-43ff-9a56-6ebddf0768d1\"}}];\n",
       "  root.Bokeh.embed.embed_items_notebook(docs_json, render_items);\n",
       "  }\n",
       "  if (root.Bokeh !== undefined) {\n",
       "    embed_document(root);\n",
       "  } else {\n",
       "    let attempts = 0;\n",
       "    const timer = setInterval(function(root) {\n",
       "      if (root.Bokeh !== undefined) {\n",
       "        clearInterval(timer);\n",
       "        embed_document(root);\n",
       "      } else {\n",
       "        attempts++;\n",
       "        if (attempts > 100) {\n",
       "          clearInterval(timer);\n",
       "          console.log(\"Bokeh: ERROR: Unable to run BokehJS code because BokehJS library is missing\");\n",
       "        }\n",
       "      }\n",
       "    }, 10, root)\n",
       "  }\n",
       "})(window);"
      ],
      "application/vnd.bokehjs_exec.v0+json": ""
     },
     "metadata": {
      "application/vnd.bokehjs_exec.v0+json": {
       "id": "1026"
      }
     },
     "output_type": "display_data"
    }
   ],
   "source": [
    "dataset._callback_update_selection(dataset.dfs[\"raw\"].loc[:10])\n",
    "\n",
    "show(dataset.sel_table, notebook_url=notebook_url)"
   ]
  },
  {
   "cell_type": "markdown",
   "id": "a41d271d",
   "metadata": {},
   "source": [
    "<br>\n",
    "\n",
    "### **Edit Data Within a Selection**\n",
    "\n",
    "Often the points selected are not perfectly homogeneous, i.e. some outliers belong to a different label from the selected group overall. It would be helpful to `EVICT` them, and `SupervisableDataset` has a button for it.\n",
    "\n",
    "Sometimes you may also wish to edit data values on the fly.  In hover this is called `PATCH`, and there also is a button for it.\n",
    "\n",
    "-   by default, labels can be edited but feature values cannot.\n",
    "\n",
    "Let's plot the forementioned buttons along with the selection table. Toggle any number of rows in the table, then click the button to `EVICT` or `PATCH` those rows:"
   ]
  },
  {
   "cell_type": "code",
   "execution_count": 5,
   "id": "821b5c02",
   "metadata": {
    "execution": {
     "iopub.execute_input": "2022-09-20T02:44:22.977316Z",
     "iopub.status.busy": "2022-09-20T02:44:22.976979Z",
     "iopub.status.idle": "2022-09-20T02:44:22.997955Z",
     "shell.execute_reply": "2022-09-20T02:44:22.997303Z"
    }
   },
   "outputs": [
    {
     "name": "stderr",
     "output_type": "stream",
     "text": [
      "WARNING:bokeh.embed.util:\n",
      "You are generating standalone HTML/JS output, but trying to use real Python\n",
      "callbacks (i.e. with on_change or on_event). This combination cannot work.\n",
      "\n",
      "Only JavaScript callbacks may be used with standalone output. For more\n",
      "information on JavaScript callbacks with Bokeh, see:\n",
      "\n",
      "    https://docs.bokeh.org/en/latest/docs/user_guide/interaction/callbacks.html\n",
      "\n",
      "Alternatively, to use real Python callbacks, a Bokeh server application may\n",
      "be used. For more information on building and running Bokeh applications, see:\n",
      "\n",
      "    https://docs.bokeh.org/en/latest/docs/user_guide/server.html\n",
      "\n"
     ]
    },
    {
     "data": {
      "text/html": [
       "\n",
       "  <div class=\"bk-root\" id=\"3bb40b87-6c12-4e92-962b-53f2cc1edc9d\" data-root-id=\"1259\"></div>\n"
      ]
     },
     "metadata": {},
     "output_type": "display_data"
    },
    {
     "data": {
      "application/javascript": [
       "(function(root) {\n",
       "  function embed_document(root) {\n",
       "  const docs_json = {\"5165cdb7-099b-48e8-8d01-30a53760e3d3\":{\"defs\":[],\"roots\":{\"references\":[{\"attributes\":{\"children\":[{\"id\":\"1258\"},{\"id\":\"1026\"}]},\"id\":\"1259\",\"type\":\"Column\"},{\"attributes\":{\"data\":{\"SUBSET\":[\"raw\",\"raw\",\"raw\",\"raw\",\"raw\",\"raw\",\"raw\",\"raw\",\"raw\",\"raw\",\"raw\"],\"label\":[\"ABSTAIN\",\"ABSTAIN\",\"ABSTAIN\",\"ABSTAIN\",\"ABSTAIN\",\"ABSTAIN\",\"ABSTAIN\",\"ABSTAIN\",\"ABSTAIN\",\"ABSTAIN\",\"ABSTAIN\"],\"text\":[\" Whatabout, Schools, Universities, Rich Individuals (around 250 people  in the UK have more than 10 million dollars each). I reecieved mail from people who claimed they might get a person into space for $500 per pound. Send a skinny person into space and split the rest of the money among the ground crew! Agreed. I volunteer for any UK attempts. But one clause: No launch methods which are clearly dangerous to the environment (ours or someone else's). No usage of materials from areas of planetary importance.   Yes: We should *do* this rather than talk about it. Lobby people! The major problem with the space programmes is all talk/paperwork and no action!   \",\" Well, I'm not a lawyer, but from what I can tell this is completely and utterly untrue.  You see, this country has this thing called a \\\"constitution\\\".  If you legitimately aquire the device, and you yourself are not a government employee or otherwise encumbered, I don't think they can stop you from revealing anything about the device you can determine. Remember the Pentagon Papers precedent? The First Amendment applies here.  The U.S. does NOT have an official secrets act. We do have laws that will punish you for revealing what classified information you learned in your capacity as a government official, contractor, etc, and we have laws that prohibit stealing such information. However, if they sell you the chip, I can't see that they can make reverse engineering it and revealing the details illegal.  -- Perry Metzger  pmetzger@shearson.com\",\" Apparently not. Many people complain about the confusion that results from the filemanager/progman split. It's just a basic flaw.\",\" i'm telling you, sam, three l's.  call up mom and ask.\",\"Hi,  Since the original buyer found out he couldn't use this modem for his Mac (I beleive I mentioned that it's an internal in my former post), the modem is re-available now.  This modem is SupraFaxModem V.32bis.  If interested, please e-mail.  Thanks!\",\"However, this has nothing to do with motorcycling, unless you consider the Amazona a bike.\",\"1992-93 Los Angeles Kings notes. -------------------------------- Playoffs: --------- *Stauber disturbed by third-man theme by Rick Sadowski, Daily News  Barry Melrose's decision to stick Robb Stauber in the stands rather than in the crease or even on the bench for the Stanley Cup playoffs does not sit well with the rookie goaltender.  \\\"I want to be a part of the team at the most crucial time of the year, the most fun time of the year, and I'm not,\\\"  Stauber said with some emotion Monday.  \\\"I think I have worked hard enough for that.\\\"  Stauber said he accepts Melrose's choice of Kelly Hrudey as the teams top goalie in their playoff series with the Calgary Flames. Hrudey made 21 saves in Sundays 6-3 opening victory.  But Stauber clearly is upset with his sudden status as the No. 3 man behind Rick Knickle.  Stauber had a 4-1-2 record and 2.98 goals-against average down the stretch in the regular season and nearly wrestled the No. 1 job from Hrudey.  Knickle?  He won 2 of 3 decisions but had a bloated 5.26 average, twice was  yanked from games (once for stomach cramps) and hasn't played since March 29.  Yet, when the series resumes Wednesday, Knickle will serve as Hrudey's backup again and Stauber will have to satisfy his playoff hunger by munching on Olympic Saddledome popcorn.  \\\"If I'm supposedly close to being the starter or could have been the starter...I dropped too. 3.  What happened to No. 2?\\\"  Stauber wondered.  \\\"Not that I'd be happy with No. 2, but I feel I should at least be a part of this team in the playoffs.\\\"  Perhaps Stauber eventually will get his chance, but Melrose apparently is not convinced the 25-year old is capable of handling playoff pressure.  While insisting he is the Kings' \\\"goalie of the future,\\\" Melrose said Stauber flubbed all four of the big games he was asked to win this season.  They were, according to Melrose: a 7-2 loss to San Jose on Dec. 26; An 8-3 loss to the New York Rangers on Jan. 23; a 6-6 tie with Detroit on Feb. 11; an 8-6 loss to  Vancouver on Thursday.  \\\"Four times this season Robb could have emerged as the elite goalie, he could have taken it away from Kelly Hrudey, and he didn't do it,\\\" Melrose said.  \\\"An elite goaltender has to carry the ball when you give it to him.  The mark of a great goalie is that he isn't satisfied to be a backup.\\\"  \\\"I'm not blaming Robb for the losses, but if you're going to be No. 1, you've got to be able to walk your talk.  You've got to be able to play when everything is on the line.  Robb Stauber has a great deal of ability, but maybe I expect more from him than he does.\\\"  Ouch.  That remark stung Stauber.  He began the season 9-0-1, struggled when the team hit a mid-season slump, didn't play for a month after Knickle was signed off the San Diego Gulls roster, then came on at the end.  \\\"I expect more from myself than anybody, including Barry Melrose,\\\" said Stauber, a three-year star at the University of Minnesota who left school in 1989, only  to have his development hampered by a string of serious injuries.  \\\"What I've been through the last four years - two knee operations, a herniated disk in my back, shoulder surgery - what more can I go through?  I obviously do expect a lot from myself, otherwise I wouldn't be here.\\\"  \\\"Anybody who would disagree with that doesn't know me.  I'm not saying Barry  doesn't know me, but don't say I've been without expectations.  If anything, I'm a perfectionist.\\\"  Stauber acknowledged he played poorly in the four games Melrose mentioned. \\\"But  even though I didn't play well, I get knocked down from maybe on to three? It's  a bit of a jump,\\\" he said.  \\\"You're almost No. 1, or if you play a good game  you're No. 1 and if you don't you're No. 3?  Why does Jack Nicklaus shoot a 67  and then a 75?  Can you explain that?  That's what barry wanted me to explain  to him, why I didn't come through when he counted on me.  I don't know. What I  do know is, it's a sport.  I'll be there.\\\"  Melrose's \\\"goalie of the future\\\" statement doesn't mean much to Stauber. \\\"Before you know it, I'll be 30 and there will be no future,\\\" he said.  ------  *Game 1 of the Kings @ Flames playoff series drew a 4.2 Nielsen rating on ABC  Channel 7 here in LA.  The Kings averaged a 2.1 Nielsen rating in the 10 regular season games aired on Channel 5.  Around the NHL: --------------- *San Jose fired Coach George Kingston, who lead the team to a 11-71-2 mark in  their 2nd NHL season.  Kingston was 28-129-7 over the past 2 years with the Sharks.  ------  *Former Islander executive Bill Torrey was named as President of the expansion Florida Panthers.  Bobby Clarke was named as the clubs General Manager.  *Last nights games: ------------------- WIN  2 @ VAN  4 (VAN leads 1-0) TOR  3 @ DET  6 (DET leads 1-0)  =============================================================================== Stan Willis (willis@empire.dnet.hac.com) net contact: L.A. Kings\",\"   As applied to servers, the first three are fuzzy terms.  \\\"multi-headed\\\" tends to be used for any system with multiple monitors, sometimes even multiple screens even if they're multiplexed onto the same monitor (eg, a Sun with a cg4 display).  \\\"multi-screen\\\" and \\\"multi-display\\\" would, if taken strictly, mean different things, but since the strict meaning of \\\"multi-display\\\" would refer to a system with multiple keyboards and pointers, when it's used it probably refers to the same thing \\\"multi-screen\\\" would: a system that provides multiple Screens.  \\\"zaphod\\\" is a term applied to the way the MIT server switches the pointer from one screen to another by sliding it off the side of the screen.   There is a protocol limitation that restricts a given Display to at most 255 Screens.  I know of no server that handles multiple Displays on a single invocation, unless possibly my kludges to the R4 server can be looked upon as such; on a TCP-based system there is necessarily a limit of 65535 Displays per machine, but this is not a limitation inherent to X.  What you read was most likely talking about a limit in some particular implementation (probably the MIT one).  If it claimed there was a limit of 12 inherent to X, the author of the article had no business writing about X.       der Mouse\",\"Kermit Tensmeyer quoted from a few sources and then wrote something. I will attempt to construct a facsimile of what was previously said, and  then address Kermit's offering.  John Redelfs originally wrote...    jr> I learned that a man cannot frustrate justice by repenting on his   jr> death bed because repentance is more than a feeling of remorse.  It   jr> requires faith in Christ proven by following him, by keeping his   jr> commandments.  Such cannot be accomplished on ones deathbed.  Tom Albrecht responded...    ta> So Jesus must have lied to the thief on the cross.  John Redelfs wrote back that...    jr> Paradise and salvation are not the same thing.  Salvation is better.   jr> Refer to John 14:2.  I responded to John that...    rw>    I don't see the effort to equate salvation with paradise.   rw>   rw>    Rather, I see implied the fact that only those who are saved   rw> may enter paradise.  To which Kermit wrote...  kt> Incomplete reference: kt> kt> See also the discussion: Did Jesus go into Hell in the BibleStudy group kt> for the arguments that Paradise and Hell(sheol) are places after death kt> The discussion (no LDS were involved as far as I could see) argued using kt> standard Christian argument from the Bible that pretty much support the kt> LDS position. kt> kt>    Christ went to paridise after his death and burial. kt> kt>    He taught the prisoners and freed them from Darkness. kt> kt>    When he was resurrected, he had not yet ascended to his father. kt> kt> The arguement centered around what was or wasn't the proper biblical kt> terms for those places.       I respond.       The question that was raised was not if Jesus went to infernal Paradise      before entering into heaven. No one has made a point for or against       that issue, nor have they compared the LDS position against orthodox      belief. The infernal paradise is held to be Abraham's bosom (Luke 16),       the place of the righteous dead in sheol (equivalent to hades).       The point that was raised by John was that someone could not repent      on their death bed. Tom Albrecht pointed to a Biblical example that was      contradictory to what John's position put forward. The thief on the       cross was promised by Christ to be with Him in Paradise, the abode of       the righteous dead. John's position possibly needs to be reworked.      Kermit needs to address the topic at hand.\",\"  <discussion deleted>       MY HOCKEY EDUCATION?  What the f--- are you talking about?  I'm not even going to try to refute this absolutely insane statement.        \\\"I hate the Habs\\\" ?...you sound like a 10-year old.  This statement is just further exemplifies your total inability to argue objectively about hockey.  Don't give me this crap about \\\"cogent arguments\\\"...I've yet to read something of yours that is cogent.  You consistently argue with: (1) emotion; (2) huge, sweeping statements   Frankly, you have a very unconvincing style.   I'm not defending Bob Gainey...frankly, I don't care for him all that much.  But your dismissal of him as something less than an effective hockey player is tiresome...it has no basis in anything.  How many Calders did he win? I think it was four (go ahead and refresh my memory).  What about the Conn Smythe?  Was that a fluke?  Yeah, not the makings of a hockey superstar, I know, but try to have a reason, any reason, to shoot him down.         Hey cowboy!  You're the \\\"expert\\\" who introduced the idiotic comparison of Gainey with Gretzky and Lemieux...you figure it out.       How many individual awards between them? Eight...I don't remember (once again, please feel free to refresh my memory...and try to be as sarcastic as possible about my \\\"hockey education\\\").       OH MY GOD!!!  Did I say that?  Roger...what's your point?  Fuhr is a goaltender, goaltender's don't \\\"plug\\\"...in his prime, he was one of the best.  Sanderson was a scrapper...if you stick him on you may as well include half the Flyers team of the same era.       Oh Roger, you shouldn't...really.  I don't deserve this...you are far too accomodating already.       You seem to have allowed all of these other players fall into your sweeping, vacuous statement...that's why.  If you want to debate Gainey, go ahead...but why bring up everybody else?  How does it support your argument?  Do you have an argument, or do you just like to throw around a few names hoping to impress us?       Great.  I couldn't agree more.  The Flyers won two cups for the same reasons...deservedly so.  So what?  I don't get it.  Are you angry that the Leafs didn't get more recognition?     You seem to think these pluggers are \\\"hyped\\\"...I don't agree...plain and simple.  If you're last statement is some sort of compromise, fair enough.       Not a pleasant bone in your body, eh Rog?  Why are you so unhappy?  Not getting invited to enough parties?  What?     Roger, why are you under the impression that responding to your posts is some great honour?  You really should stop...it sounds a little bit pathetic.  Frankly, it's about as honourable as a good fart.   congenially, as always,    jd   --  James David  j3david@student.business.uwo.ca/s\",\"  If this doesn't beat all I ever heard!  The above certainly says a mouthful about the mindset of Ted Frank, and also of statists everywhere.\"]},\"selected\":{\"id\":\"1201\"},\"selection_policy\":{\"id\":\"1231\"}},\"id\":\"1021\",\"type\":\"ColumnDataSource\"},{\"attributes\":{},\"id\":\"1230\",\"type\":\"StringEditor\"},{\"attributes\":{\"editor\":{\"id\":\"1022\"},\"field\":\"text\",\"formatter\":{\"id\":\"1228\"},\"title\":\"text\"},\"id\":\"1023\",\"type\":\"TableColumn\"},{\"attributes\":{\"indices\":[]},\"id\":\"1201\",\"type\":\"Selection\"},{\"attributes\":{},\"id\":\"1229\",\"type\":\"StringFormatter\"},{\"attributes\":{},\"id\":\"1022\",\"type\":\"CellEditor\"},{\"attributes\":{\"button_type\":\"warning\",\"height_policy\":\"fit\",\"icon\":null,\"label\":\"Update Row Values\",\"subscribed_events\":[\"button_click\"],\"width_policy\":\"min\"},\"id\":\"1005\",\"type\":\"Button\"},{\"attributes\":{\"editor\":{\"id\":\"1230\"},\"field\":\"label\",\"formatter\":{\"id\":\"1229\"},\"title\":\"label\"},\"id\":\"1025\",\"type\":\"TableColumn\"},{\"attributes\":{\"source\":{\"id\":\"1021\"}},\"id\":\"1028\",\"type\":\"CDSView\"},{\"attributes\":{\"columns\":[{\"id\":\"1023\"},{\"id\":\"1025\"}],\"editable\":true,\"height_policy\":\"fit\",\"selectable\":\"checkbox\",\"source\":{\"id\":\"1021\"},\"view\":{\"id\":\"1028\"},\"width_policy\":\"fit\"},\"id\":\"1026\",\"type\":\"DataTable\"},{\"attributes\":{},\"id\":\"1228\",\"type\":\"StringFormatter\"},{\"attributes\":{\"button_type\":\"primary\",\"height_policy\":\"fit\",\"icon\":null,\"label\":\"Evict Rows from Selection\",\"width_policy\":\"min\"},\"id\":\"1006\",\"type\":\"Button\"},{\"attributes\":{},\"id\":\"1231\",\"type\":\"UnionRenderers\"},{\"attributes\":{\"children\":[{\"id\":\"1006\"},{\"id\":\"1005\"}]},\"id\":\"1258\",\"type\":\"Row\"}],\"root_ids\":[\"1259\"]},\"title\":\"Bokeh Application\",\"version\":\"2.4.3\"}};\n",
       "  const render_items = [{\"docid\":\"5165cdb7-099b-48e8-8d01-30a53760e3d3\",\"root_ids\":[\"1259\"],\"roots\":{\"1259\":\"3bb40b87-6c12-4e92-962b-53f2cc1edc9d\"}}];\n",
       "  root.Bokeh.embed.embed_items_notebook(docs_json, render_items);\n",
       "  }\n",
       "  if (root.Bokeh !== undefined) {\n",
       "    embed_document(root);\n",
       "  } else {\n",
       "    let attempts = 0;\n",
       "    const timer = setInterval(function(root) {\n",
       "      if (root.Bokeh !== undefined) {\n",
       "        clearInterval(timer);\n",
       "        embed_document(root);\n",
       "      } else {\n",
       "        attempts++;\n",
       "        if (attempts > 100) {\n",
       "          clearInterval(timer);\n",
       "          console.log(\"Bokeh: ERROR: Unable to run BokehJS code because BokehJS library is missing\");\n",
       "        }\n",
       "      }\n",
       "    }, 10, root)\n",
       "  }\n",
       "})(window);"
      ],
      "application/vnd.bokehjs_exec.v0+json": ""
     },
     "metadata": {
      "application/vnd.bokehjs_exec.v0+json": {
       "id": "1259"
      }
     },
     "output_type": "display_data"
    }
   ],
   "source": [
    "show(column(\n",
    "    row(\n",
    "        dataset.selection_evictor,\n",
    "        dataset.selection_patcher,\n",
    "    ),\n",
    "    dataset.sel_table,\n",
    "), notebook_url=notebook_url)"
   ]
  },
  {
   "cell_type": "markdown",
   "id": "b8d1e885",
   "metadata": {},
   "source": [
    "<br>"
   ]
  }
 ],
 "metadata": {
  "language_info": {
   "codemirror_mode": {
    "name": "ipython",
    "version": 3
   },
   "file_extension": ".py",
   "mimetype": "text/x-python",
   "name": "python",
   "nbconvert_exporter": "python",
   "pygments_lexer": "ipython3",
   "version": "3.8.13"
  }
 },
 "nbformat": 4,
 "nbformat_minor": 5
}
