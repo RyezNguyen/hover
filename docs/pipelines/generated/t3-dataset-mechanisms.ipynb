{
 "cells": [
  {
   "cell_type": "markdown",
   "id": "67281121",
   "metadata": {},
   "source": [
    "> `SupervisableDataset` holds your data throughout the labeling process.\n",
    ">\n",
    "> :speedboat: Let's take a look at its core mechanisms.\n",
    "\n",
    "-   <details open><summary>This page addresses **single components** of `hover`</summary>\n",
    "    We are using code snippets to pick out parts of the annotation interface, so that the documentation can explain what they do.\n",
    "\n",
    "    -   Please be aware that this is NOT how one would typically use `hover`.\n",
    "    -   Typical usage deals with [recipes](../../tutorial/t1-active-learning) where the individual parts have been tied together.\n",
    "\n",
    "</details>\n",
    "\n",
    "-   <details open><summary>Dependencies for {== local environments ==}</summary>\n",
    "    When you run the code locally, you may need to install additional packages.\n",
    "\n",
    "    To render `bokeh` plots in Jupyter, you need:\n",
    "```shell\n",
    "    pip install jupyter_bokeh\n",
    "```\n",
    "\n",
    "    If you are using JupyterLab older than 3.0, use this instead ([reference](https://pypi.org/project/jupyter-bokeh/)):\n",
    "```shell\n",
    "    jupyter labextension install @jupyter-widgets/jupyterlab-manager\n",
    "    jupyter labextension install @bokeh/jupyter_bokeh\n",
    "```\n",
    "\n",
    "</details>\n",
    "\n",
    "## **Data Subsets**\n",
    "\n",
    "We place unlabeled data and labeled data in different subsets: \"raw\", \"train\", \"dev\", and \"test\". Unlabeled data start from the \"raw\" subset, and can be transferred to other subsets after it gets labeled.\n",
    "\n",
    "`SupervisableDataset` uses a \"population table\", `dataset.pop_table`, to show the size of each subset:"
   ]
  },
  {
   "cell_type": "code",
   "execution_count": 1,
   "id": "50c8b802",
   "metadata": {
    "execution": {
     "iopub.execute_input": "2023-03-21T01:40:13.416916Z",
     "iopub.status.busy": "2023-03-21T01:40:13.416608Z",
     "iopub.status.idle": "2023-03-21T01:40:15.156580Z",
     "shell.execute_reply": "2023-03-21T01:40:15.155823Z"
    }
   },
   "outputs": [
    {
     "data": {
      "text/html": [
       "<pre style=\"white-space:pre;overflow-x:auto;line-height:normal;font-family:Menlo,'DejaVu Sans Mono',consolas,'Courier New',monospace\"><span style=\"color: #000080; text-decoration-color: #000080\">🔵 SupervisableTextDataset: Initializing</span><span style=\"color: #808000; text-decoration-color: #808000\">...</span>\n",
       "</pre>\n"
      ],
      "text/plain": [
       "\u001b[34m🔵 SupervisableTextDataset: Initializing\u001b[0m\u001b[33m...\u001b[0m\n"
      ]
     },
     "metadata": {},
     "output_type": "display_data"
    },
    {
     "data": {
      "text/html": [
       "<pre style=\"white-space:pre;overflow-x:auto;line-height:normal;font-family:Menlo,'DejaVu Sans Mono',consolas,'Courier New',monospace\"><span style=\"color: #000080; text-decoration-color: #000080\">🔵 SupervisableTextDataset: Deduplicating</span><span style=\"color: #808000; text-decoration-color: #808000\">...</span>\n",
       "</pre>\n"
      ],
      "text/plain": [
       "\u001b[34m🔵 SupervisableTextDataset: Deduplicating\u001b[0m\u001b[33m...\u001b[0m\n"
      ]
     },
     "metadata": {},
     "output_type": "display_data"
    },
    {
     "data": {
      "text/html": [
       "<pre style=\"white-space:pre;overflow-x:auto;line-height:normal;font-family:Menlo,'DejaVu Sans Mono',consolas,'Courier New',monospace\"><span style=\"color: #000080; text-decoration-color: #000080\">🔵 SupervisableTextDataset: --subset raw rows: </span><span style=\"color: #008080; text-decoration-color: #008080; font-weight: bold\">400</span><span style=\"color: #000080; text-decoration-color: #000080\"> -&gt; </span><span style=\"color: #008080; text-decoration-color: #008080; font-weight: bold\">360</span><span style=\"color: #000080; text-decoration-color: #000080\">.</span>\n",
       "</pre>\n"
      ],
      "text/plain": [
       "\u001b[34m🔵 SupervisableTextDataset: --subset raw rows: \u001b[0m\u001b[1;36m400\u001b[0m\u001b[34m -> \u001b[0m\u001b[1;36m360\u001b[0m\u001b[34m.\u001b[0m\n"
      ]
     },
     "metadata": {},
     "output_type": "display_data"
    },
    {
     "data": {
      "text/html": [
       "<pre style=\"white-space:pre;overflow-x:auto;line-height:normal;font-family:Menlo,'DejaVu Sans Mono',consolas,'Courier New',monospace\"><span style=\"color: #000080; text-decoration-color: #000080\">🔵 SupervisableTextDataset: --subset train rows: </span><span style=\"color: #008080; text-decoration-color: #008080; font-weight: bold\">400</span><span style=\"color: #000080; text-decoration-color: #000080\"> -&gt; </span><span style=\"color: #008080; text-decoration-color: #008080; font-weight: bold\">379</span><span style=\"color: #000080; text-decoration-color: #000080\">.</span>\n",
       "</pre>\n"
      ],
      "text/plain": [
       "\u001b[34m🔵 SupervisableTextDataset: --subset train rows: \u001b[0m\u001b[1;36m400\u001b[0m\u001b[34m -> \u001b[0m\u001b[1;36m379\u001b[0m\u001b[34m.\u001b[0m\n"
      ]
     },
     "metadata": {},
     "output_type": "display_data"
    },
    {
     "data": {
      "text/html": [
       "<pre style=\"white-space:pre;overflow-x:auto;line-height:normal;font-family:Menlo,'DejaVu Sans Mono',consolas,'Courier New',monospace\"><span style=\"color: #000080; text-decoration-color: #000080\">🔵 SupervisableTextDataset: --subset dev rows: </span><span style=\"color: #008080; text-decoration-color: #008080; font-weight: bold\">100</span><span style=\"color: #000080; text-decoration-color: #000080\"> -&gt; </span><span style=\"color: #008080; text-decoration-color: #008080; font-weight: bold\">98</span><span style=\"color: #000080; text-decoration-color: #000080\">.</span>\n",
       "</pre>\n"
      ],
      "text/plain": [
       "\u001b[34m🔵 SupervisableTextDataset: --subset dev rows: \u001b[0m\u001b[1;36m100\u001b[0m\u001b[34m -> \u001b[0m\u001b[1;36m98\u001b[0m\u001b[34m.\u001b[0m\n"
      ]
     },
     "metadata": {},
     "output_type": "display_data"
    },
    {
     "data": {
      "text/html": [
       "<pre style=\"white-space:pre;overflow-x:auto;line-height:normal;font-family:Menlo,'DejaVu Sans Mono',consolas,'Courier New',monospace\"><span style=\"color: #000080; text-decoration-color: #000080\">🔵 SupervisableTextDataset: --subset test rows: </span><span style=\"color: #008080; text-decoration-color: #008080; font-weight: bold\">100</span><span style=\"color: #000080; text-decoration-color: #000080\"> -&gt; </span><span style=\"color: #008080; text-decoration-color: #008080; font-weight: bold\">100</span><span style=\"color: #000080; text-decoration-color: #000080\">.</span>\n",
       "</pre>\n"
      ],
      "text/plain": [
       "\u001b[34m🔵 SupervisableTextDataset: --subset test rows: \u001b[0m\u001b[1;36m100\u001b[0m\u001b[34m -> \u001b[0m\u001b[1;36m100\u001b[0m\u001b[34m.\u001b[0m\n"
      ]
     },
     "metadata": {},
     "output_type": "display_data"
    },
    {
     "data": {
      "text/html": [
       "<pre style=\"white-space:pre;overflow-x:auto;line-height:normal;font-family:Menlo,'DejaVu Sans Mono',consolas,'Courier New',monospace\"><span style=\"color: #008000; text-decoration-color: #008000\">🟢 SupervisableTextDataset: Set up label encoder/decoder with </span><span style=\"color: #008080; text-decoration-color: #008080; font-weight: bold\">20</span><span style=\"color: #008000; text-decoration-color: #008000\"> classes.</span>\n",
       "</pre>\n"
      ],
      "text/plain": [
       "\u001b[32m🟢 SupervisableTextDataset: Set up label encoder/decoder with \u001b[0m\u001b[1;36m20\u001b[0m\u001b[32m classes.\u001b[0m\n"
      ]
     },
     "metadata": {},
     "output_type": "display_data"
    },
    {
     "data": {
      "text/html": [
       "<pre style=\"white-space:pre;overflow-x:auto;line-height:normal;font-family:Menlo,'DejaVu Sans Mono',consolas,'Courier New',monospace\"><span style=\"color: #008000; text-decoration-color: #008000\">🟢 SupervisableTextDataset: Population updater: latest population with </span><span style=\"color: #008080; text-decoration-color: #008080; font-weight: bold\">20</span><span style=\"color: #008000; text-decoration-color: #008000\"> classes.</span>\n",
       "</pre>\n"
      ],
      "text/plain": [
       "\u001b[32m🟢 SupervisableTextDataset: Population updater: latest population with \u001b[0m\u001b[1;36m20\u001b[0m\u001b[32m classes.\u001b[0m\n"
      ]
     },
     "metadata": {},
     "output_type": "display_data"
    },
    {
     "data": {
      "text/html": [
       "<pre style=\"white-space:pre;overflow-x:auto;line-height:normal;font-family:Menlo,'DejaVu Sans Mono',consolas,'Courier New',monospace\"><span style=\"color: #008000; text-decoration-color: #008000\">🟢 SupervisableTextDataset: SupervisableTextDataset: finished initialization.</span>\n",
       "</pre>\n"
      ],
      "text/plain": [
       "\u001b[32m🟢 SupervisableTextDataset: SupervisableTextDataset: finished initialization.\u001b[0m\n"
      ]
     },
     "metadata": {},
     "output_type": "display_data"
    }
   ],
   "source": [
    "from hover.core.dataset import SupervisableTextDataset\n",
    "import pandas as pd\n",
    "\n",
    "raw_csv_path = \"https://raw.githubusercontent.com/phurwicz/hover-gallery/main/0.5.0/20_newsgroups_raw.csv\"\n",
    "train_csv_path = \"https://raw.githubusercontent.com/phurwicz/hover-gallery/main/0.5.0/20_newsgroups_train.csv\"\n",
    "\n",
    "# for fast, low-memory demonstration purpose, sample the data\n",
    "df_raw = pd.read_csv(raw_csv_path).sample(400)\n",
    "df_raw[\"SUBSET\"] = \"raw\"\n",
    "df_train = pd.read_csv(train_csv_path).sample(400)\n",
    "df_train[\"SUBSET\"] = \"train\"\n",
    "df_dev = pd.read_csv(train_csv_path).sample(100)\n",
    "df_dev[\"SUBSET\"] = \"dev\"\n",
    "df_test = pd.read_csv(train_csv_path).sample(100)\n",
    "df_test[\"SUBSET\"] = \"test\"\n",
    "\n",
    "# build overall dataframe and ensure feature type\n",
    "df = pd.concat([df_raw, df_train, df_dev, df_test])\n",
    "df[\"text\"] = df[\"text\"].astype(str)\n",
    "\n",
    "# this class stores the dataset throught the labeling process\n",
    "dataset = SupervisableTextDataset.from_pandas(df, feature_key=\"text\", label_key=\"label\")"
   ]
  },
  {
   "cell_type": "markdown",
   "id": "6cd921f1",
   "metadata": {},
   "source": [
    "<br>"
   ]
  },
  {
   "cell_type": "code",
   "execution_count": 2,
   "id": "1244e295",
   "metadata": {
    "execution": {
     "iopub.execute_input": "2023-03-21T01:40:15.160874Z",
     "iopub.status.busy": "2023-03-21T01:40:15.160124Z",
     "iopub.status.idle": "2023-03-21T01:40:15.258662Z",
     "shell.execute_reply": "2023-03-21T01:40:15.257780Z"
    }
   },
   "outputs": [
    {
     "data": {
      "text/html": [
       "<style>\n",
       "        .bk-notebook-logo {\n",
       "            display: block;\n",
       "            width: 20px;\n",
       "            height: 20px;\n",
       "            background-image: url(data:image/png;base64,iVBORw0KGgoAAAANSUhEUgAAABQAAAAUCAYAAACNiR0NAAAABHNCSVQICAgIfAhkiAAAAAlwSFlzAAALEgAACxIB0t1+/AAAABx0RVh0U29mdHdhcmUAQWRvYmUgRmlyZXdvcmtzIENTNui8sowAAAOkSURBVDiNjZRtaJVlGMd/1/08zzln5zjP1LWcU9N0NkN8m2CYjpgQYQXqSs0I84OLIC0hkEKoPtiH3gmKoiJDU7QpLgoLjLIQCpEsNJ1vqUOdO7ppbuec5+V+rj4ctwzd8IIbbi6u+8f1539dt3A78eXC7QizUF7gyV1fD1Yqg4JWz84yffhm0qkFqBogB9rM8tZdtwVsPUhWhGcFJngGeWrPzHm5oaMmkfEg1usvLFyc8jLRqDOMru7AyC8saQr7GG7f5fvDeH7Ej8CM66nIF+8yngt6HWaKh7k49Soy9nXurCi1o3qUbS3zWfrYeQDTB/Qj6kX6Ybhw4B+bOYoLKCC9H3Nu/leUTZ1JdRWkkn2ldcCamzrcf47KKXdAJllSlxAOkRgyHsGC/zRday5Qld9DyoM4/q/rUoy/CXh3jzOu3bHUVZeU+DEn8FInkPBFlu3+nW3Nw0mk6vCDiWg8CeJaxEwuHS3+z5RgY+YBR6V1Z1nxSOfoaPa4LASWxxdNp+VWTk7+4vzaou8v8PN+xo+KY2xsw6une2frhw05CTYOmQvsEhjhWjn0bmXPjpE1+kplmmkP3suftwTubK9Vq22qKmrBhpY4jvd5afdRA3wGjFAgcnTK2s4hY0/GPNIb0nErGMCRxWOOX64Z8RAC4oCXdklmEvcL8o0BfkNK4lUg9HTl+oPlQxdNo3Mg4Nv175e/1LDGzZen30MEjRUtmXSfiTVu1kK8W4txyV6BMKlbgk3lMwYCiusNy9fVfvvwMxv8Ynl6vxoByANLTWplvuj/nF9m2+PDtt1eiHPBr1oIfhCChQMBw6Aw0UulqTKZdfVvfG7VcfIqLG9bcldL/+pdWTLxLUy8Qq38heUIjh4XlzZxzQm19lLFlr8vdQ97rjZVOLf8nclzckbcD4wxXMidpX30sFd37Fv/GtwwhzhxGVAprjbg0gCAEeIgwCZyTV2Z1REEW8O4py0wsjeloKoMr6iCY6dP92H6Vw/oTyICIthibxjm/DfN9lVz8IqtqKYLUXfoKVMVQVVJOElGjrnnUt9T9wbgp8AyYKaGlqingHZU/uG2NTZSVqwHQTWkx9hxjkpWDaCg6Ckj5qebgBVbT3V3NNXMSiWSDdGV3hrtzla7J+duwPOToIg42ChPQOQjspnSlp1V+Gjdged7+8UN5CRAV7a5EdFNwCjEaBR27b3W890TE7g24NAP/mMDXRWrGoFPQI9ls/MWO2dWFAar/xcOIImbbpA3zgAAAABJRU5ErkJggg==);\n",
       "        }\n",
       "    </style>\n",
       "    <div>\n",
       "        <a href=\"https://bokeh.org\" target=\"_blank\" class=\"bk-notebook-logo\"></a>\n",
       "        <span id=\"p1055\">Loading BokehJS ...</span>\n",
       "    </div>\n"
      ]
     },
     "metadata": {},
     "output_type": "display_data"
    },
    {
     "data": {
      "application/javascript": [
       "(function(root) {\n",
       "  function now() {\n",
       "    return new Date();\n",
       "  }\n",
       "\n",
       "  const force = true;\n",
       "\n",
       "  if (typeof root._bokeh_onload_callbacks === \"undefined\" || force === true) {\n",
       "    root._bokeh_onload_callbacks = [];\n",
       "    root._bokeh_is_loading = undefined;\n",
       "  }\n",
       "\n",
       "const JS_MIME_TYPE = 'application/javascript';\n",
       "  const HTML_MIME_TYPE = 'text/html';\n",
       "  const EXEC_MIME_TYPE = 'application/vnd.bokehjs_exec.v0+json';\n",
       "  const CLASS_NAME = 'output_bokeh rendered_html';\n",
       "\n",
       "  /**\n",
       "   * Render data to the DOM node\n",
       "   */\n",
       "  function render(props, node) {\n",
       "    const script = document.createElement(\"script\");\n",
       "    node.appendChild(script);\n",
       "  }\n",
       "\n",
       "  /**\n",
       "   * Handle when an output is cleared or removed\n",
       "   */\n",
       "  function handleClearOutput(event, handle) {\n",
       "    const cell = handle.cell;\n",
       "\n",
       "    const id = cell.output_area._bokeh_element_id;\n",
       "    const server_id = cell.output_area._bokeh_server_id;\n",
       "    // Clean up Bokeh references\n",
       "    if (id != null && id in Bokeh.index) {\n",
       "      Bokeh.index[id].model.document.clear();\n",
       "      delete Bokeh.index[id];\n",
       "    }\n",
       "\n",
       "    if (server_id !== undefined) {\n",
       "      // Clean up Bokeh references\n",
       "      const cmd_clean = \"from bokeh.io.state import curstate; print(curstate().uuid_to_server['\" + server_id + \"'].get_sessions()[0].document.roots[0]._id)\";\n",
       "      cell.notebook.kernel.execute(cmd_clean, {\n",
       "        iopub: {\n",
       "          output: function(msg) {\n",
       "            const id = msg.content.text.trim();\n",
       "            if (id in Bokeh.index) {\n",
       "              Bokeh.index[id].model.document.clear();\n",
       "              delete Bokeh.index[id];\n",
       "            }\n",
       "          }\n",
       "        }\n",
       "      });\n",
       "      // Destroy server and session\n",
       "      const cmd_destroy = \"import bokeh.io.notebook as ion; ion.destroy_server('\" + server_id + \"')\";\n",
       "      cell.notebook.kernel.execute(cmd_destroy);\n",
       "    }\n",
       "  }\n",
       "\n",
       "  /**\n",
       "   * Handle when a new output is added\n",
       "   */\n",
       "  function handleAddOutput(event, handle) {\n",
       "    const output_area = handle.output_area;\n",
       "    const output = handle.output;\n",
       "\n",
       "    // limit handleAddOutput to display_data with EXEC_MIME_TYPE content only\n",
       "    if ((output.output_type != \"display_data\") || (!Object.prototype.hasOwnProperty.call(output.data, EXEC_MIME_TYPE))) {\n",
       "      return\n",
       "    }\n",
       "\n",
       "    const toinsert = output_area.element.find(\".\" + CLASS_NAME.split(' ')[0]);\n",
       "\n",
       "    if (output.metadata[EXEC_MIME_TYPE][\"id\"] !== undefined) {\n",
       "      toinsert[toinsert.length - 1].firstChild.textContent = output.data[JS_MIME_TYPE];\n",
       "      // store reference to embed id on output_area\n",
       "      output_area._bokeh_element_id = output.metadata[EXEC_MIME_TYPE][\"id\"];\n",
       "    }\n",
       "    if (output.metadata[EXEC_MIME_TYPE][\"server_id\"] !== undefined) {\n",
       "      const bk_div = document.createElement(\"div\");\n",
       "      bk_div.innerHTML = output.data[HTML_MIME_TYPE];\n",
       "      const script_attrs = bk_div.children[0].attributes;\n",
       "      for (let i = 0; i < script_attrs.length; i++) {\n",
       "        toinsert[toinsert.length - 1].firstChild.setAttribute(script_attrs[i].name, script_attrs[i].value);\n",
       "        toinsert[toinsert.length - 1].firstChild.textContent = bk_div.children[0].textContent\n",
       "      }\n",
       "      // store reference to server id on output_area\n",
       "      output_area._bokeh_server_id = output.metadata[EXEC_MIME_TYPE][\"server_id\"];\n",
       "    }\n",
       "  }\n",
       "\n",
       "  function register_renderer(events, OutputArea) {\n",
       "\n",
       "    function append_mime(data, metadata, element) {\n",
       "      // create a DOM node to render to\n",
       "      const toinsert = this.create_output_subarea(\n",
       "        metadata,\n",
       "        CLASS_NAME,\n",
       "        EXEC_MIME_TYPE\n",
       "      );\n",
       "      this.keyboard_manager.register_events(toinsert);\n",
       "      // Render to node\n",
       "      const props = {data: data, metadata: metadata[EXEC_MIME_TYPE]};\n",
       "      render(props, toinsert[toinsert.length - 1]);\n",
       "      element.append(toinsert);\n",
       "      return toinsert\n",
       "    }\n",
       "\n",
       "    /* Handle when an output is cleared or removed */\n",
       "    events.on('clear_output.CodeCell', handleClearOutput);\n",
       "    events.on('delete.Cell', handleClearOutput);\n",
       "\n",
       "    /* Handle when a new output is added */\n",
       "    events.on('output_added.OutputArea', handleAddOutput);\n",
       "\n",
       "    /**\n",
       "     * Register the mime type and append_mime function with output_area\n",
       "     */\n",
       "    OutputArea.prototype.register_mime_type(EXEC_MIME_TYPE, append_mime, {\n",
       "      /* Is output safe? */\n",
       "      safe: true,\n",
       "      /* Index of renderer in `output_area.display_order` */\n",
       "      index: 0\n",
       "    });\n",
       "  }\n",
       "\n",
       "  // register the mime type if in Jupyter Notebook environment and previously unregistered\n",
       "  if (root.Jupyter !== undefined) {\n",
       "    const events = require('base/js/events');\n",
       "    const OutputArea = require('notebook/js/outputarea').OutputArea;\n",
       "\n",
       "    if (OutputArea.prototype.mime_types().indexOf(EXEC_MIME_TYPE) == -1) {\n",
       "      register_renderer(events, OutputArea);\n",
       "    }\n",
       "  }\n",
       "  if (typeof (root._bokeh_timeout) === \"undefined\" || force === true) {\n",
       "    root._bokeh_timeout = Date.now() + 5000;\n",
       "    root._bokeh_failed_load = false;\n",
       "  }\n",
       "\n",
       "  const NB_LOAD_WARNING = {'data': {'text/html':\n",
       "     \"<div style='background-color: #fdd'>\\n\"+\n",
       "     \"<p>\\n\"+\n",
       "     \"BokehJS does not appear to have successfully loaded. If loading BokehJS from CDN, this \\n\"+\n",
       "     \"may be due to a slow or bad network connection. Possible fixes:\\n\"+\n",
       "     \"</p>\\n\"+\n",
       "     \"<ul>\\n\"+\n",
       "     \"<li>re-rerun `output_notebook()` to attempt to load from CDN again, or</li>\\n\"+\n",
       "     \"<li>use INLINE resources instead, as so:</li>\\n\"+\n",
       "     \"</ul>\\n\"+\n",
       "     \"<code>\\n\"+\n",
       "     \"from bokeh.resources import INLINE\\n\"+\n",
       "     \"output_notebook(resources=INLINE)\\n\"+\n",
       "     \"</code>\\n\"+\n",
       "     \"</div>\"}};\n",
       "\n",
       "  function display_loaded() {\n",
       "    const el = document.getElementById(\"p1055\");\n",
       "    if (el != null) {\n",
       "      el.textContent = \"BokehJS is loading...\";\n",
       "    }\n",
       "    if (root.Bokeh !== undefined) {\n",
       "      if (el != null) {\n",
       "        el.textContent = \"BokehJS \" + root.Bokeh.version + \" successfully loaded.\";\n",
       "      }\n",
       "    } else if (Date.now() < root._bokeh_timeout) {\n",
       "      setTimeout(display_loaded, 100)\n",
       "    }\n",
       "  }\n",
       "\n",
       "  function run_callbacks() {\n",
       "    try {\n",
       "      root._bokeh_onload_callbacks.forEach(function(callback) {\n",
       "        if (callback != null)\n",
       "          callback();\n",
       "      });\n",
       "    } finally {\n",
       "      delete root._bokeh_onload_callbacks\n",
       "    }\n",
       "    console.debug(\"Bokeh: all callbacks have finished\");\n",
       "  }\n",
       "\n",
       "  function load_libs(css_urls, js_urls, callback) {\n",
       "    if (css_urls == null) css_urls = [];\n",
       "    if (js_urls == null) js_urls = [];\n",
       "\n",
       "    root._bokeh_onload_callbacks.push(callback);\n",
       "    if (root._bokeh_is_loading > 0) {\n",
       "      console.debug(\"Bokeh: BokehJS is being loaded, scheduling callback at\", now());\n",
       "      return null;\n",
       "    }\n",
       "    if (js_urls == null || js_urls.length === 0) {\n",
       "      run_callbacks();\n",
       "      return null;\n",
       "    }\n",
       "    console.debug(\"Bokeh: BokehJS not loaded, scheduling load and callback at\", now());\n",
       "    root._bokeh_is_loading = css_urls.length + js_urls.length;\n",
       "\n",
       "    function on_load() {\n",
       "      root._bokeh_is_loading--;\n",
       "      if (root._bokeh_is_loading === 0) {\n",
       "        console.debug(\"Bokeh: all BokehJS libraries/stylesheets loaded\");\n",
       "        run_callbacks()\n",
       "      }\n",
       "    }\n",
       "\n",
       "    function on_error(url) {\n",
       "      console.error(\"failed to load \" + url);\n",
       "    }\n",
       "\n",
       "    for (let i = 0; i < css_urls.length; i++) {\n",
       "      const url = css_urls[i];\n",
       "      const element = document.createElement(\"link\");\n",
       "      element.onload = on_load;\n",
       "      element.onerror = on_error.bind(null, url);\n",
       "      element.rel = \"stylesheet\";\n",
       "      element.type = \"text/css\";\n",
       "      element.href = url;\n",
       "      console.debug(\"Bokeh: injecting link tag for BokehJS stylesheet: \", url);\n",
       "      document.body.appendChild(element);\n",
       "    }\n",
       "\n",
       "    for (let i = 0; i < js_urls.length; i++) {\n",
       "      const url = js_urls[i];\n",
       "      const element = document.createElement('script');\n",
       "      element.onload = on_load;\n",
       "      element.onerror = on_error.bind(null, url);\n",
       "      element.async = false;\n",
       "      element.src = url;\n",
       "      console.debug(\"Bokeh: injecting script tag for BokehJS library: \", url);\n",
       "      document.head.appendChild(element);\n",
       "    }\n",
       "  };\n",
       "\n",
       "  function inject_raw_css(css) {\n",
       "    const element = document.createElement(\"style\");\n",
       "    element.appendChild(document.createTextNode(css));\n",
       "    document.body.appendChild(element);\n",
       "  }\n",
       "\n",
       "  const js_urls = [\"https://cdn.bokeh.org/bokeh/release/bokeh-3.1.0.min.js\", \"https://cdn.bokeh.org/bokeh/release/bokeh-gl-3.1.0.min.js\", \"https://cdn.bokeh.org/bokeh/release/bokeh-widgets-3.1.0.min.js\", \"https://cdn.bokeh.org/bokeh/release/bokeh-tables-3.1.0.min.js\", \"https://cdn.bokeh.org/bokeh/release/bokeh-mathjax-3.1.0.min.js\"];\n",
       "  const css_urls = [];\n",
       "\n",
       "  const inline_js = [    function(Bokeh) {\n",
       "      Bokeh.set_log_level(\"info\");\n",
       "    },\n",
       "function(Bokeh) {\n",
       "    }\n",
       "  ];\n",
       "\n",
       "  function run_inline_js() {\n",
       "    if (root.Bokeh !== undefined || force === true) {\n",
       "          for (let i = 0; i < inline_js.length; i++) {\n",
       "      inline_js[i].call(root, root.Bokeh);\n",
       "    }\n",
       "if (force === true) {\n",
       "        display_loaded();\n",
       "      }} else if (Date.now() < root._bokeh_timeout) {\n",
       "      setTimeout(run_inline_js, 100);\n",
       "    } else if (!root._bokeh_failed_load) {\n",
       "      console.log(\"Bokeh: BokehJS failed to load within specified timeout.\");\n",
       "      root._bokeh_failed_load = true;\n",
       "    } else if (force !== true) {\n",
       "      const cell = $(document.getElementById(\"p1055\")).parents('.cell').data().cell;\n",
       "      cell.output_area.append_execute_result(NB_LOAD_WARNING)\n",
       "    }\n",
       "  }\n",
       "\n",
       "  if (root._bokeh_is_loading === 0) {\n",
       "    console.debug(\"Bokeh: BokehJS loaded, going straight to plotting\");\n",
       "    run_inline_js();\n",
       "  } else {\n",
       "    load_libs(css_urls, js_urls, function() {\n",
       "      console.debug(\"Bokeh: BokehJS plotting callback run at\", now());\n",
       "      run_inline_js();\n",
       "    });\n",
       "  }\n",
       "}(window));"
      ],
      "application/vnd.bokehjs_load.v0+json": "(function(root) {\n  function now() {\n    return new Date();\n  }\n\n  const force = true;\n\n  if (typeof root._bokeh_onload_callbacks === \"undefined\" || force === true) {\n    root._bokeh_onload_callbacks = [];\n    root._bokeh_is_loading = undefined;\n  }\n\n\n  if (typeof (root._bokeh_timeout) === \"undefined\" || force === true) {\n    root._bokeh_timeout = Date.now() + 5000;\n    root._bokeh_failed_load = false;\n  }\n\n  const NB_LOAD_WARNING = {'data': {'text/html':\n     \"<div style='background-color: #fdd'>\\n\"+\n     \"<p>\\n\"+\n     \"BokehJS does not appear to have successfully loaded. If loading BokehJS from CDN, this \\n\"+\n     \"may be due to a slow or bad network connection. Possible fixes:\\n\"+\n     \"</p>\\n\"+\n     \"<ul>\\n\"+\n     \"<li>re-rerun `output_notebook()` to attempt to load from CDN again, or</li>\\n\"+\n     \"<li>use INLINE resources instead, as so:</li>\\n\"+\n     \"</ul>\\n\"+\n     \"<code>\\n\"+\n     \"from bokeh.resources import INLINE\\n\"+\n     \"output_notebook(resources=INLINE)\\n\"+\n     \"</code>\\n\"+\n     \"</div>\"}};\n\n  function display_loaded() {\n    const el = document.getElementById(\"p1055\");\n    if (el != null) {\n      el.textContent = \"BokehJS is loading...\";\n    }\n    if (root.Bokeh !== undefined) {\n      if (el != null) {\n        el.textContent = \"BokehJS \" + root.Bokeh.version + \" successfully loaded.\";\n      }\n    } else if (Date.now() < root._bokeh_timeout) {\n      setTimeout(display_loaded, 100)\n    }\n  }\n\n  function run_callbacks() {\n    try {\n      root._bokeh_onload_callbacks.forEach(function(callback) {\n        if (callback != null)\n          callback();\n      });\n    } finally {\n      delete root._bokeh_onload_callbacks\n    }\n    console.debug(\"Bokeh: all callbacks have finished\");\n  }\n\n  function load_libs(css_urls, js_urls, callback) {\n    if (css_urls == null) css_urls = [];\n    if (js_urls == null) js_urls = [];\n\n    root._bokeh_onload_callbacks.push(callback);\n    if (root._bokeh_is_loading > 0) {\n      console.debug(\"Bokeh: BokehJS is being loaded, scheduling callback at\", now());\n      return null;\n    }\n    if (js_urls == null || js_urls.length === 0) {\n      run_callbacks();\n      return null;\n    }\n    console.debug(\"Bokeh: BokehJS not loaded, scheduling load and callback at\", now());\n    root._bokeh_is_loading = css_urls.length + js_urls.length;\n\n    function on_load() {\n      root._bokeh_is_loading--;\n      if (root._bokeh_is_loading === 0) {\n        console.debug(\"Bokeh: all BokehJS libraries/stylesheets loaded\");\n        run_callbacks()\n      }\n    }\n\n    function on_error(url) {\n      console.error(\"failed to load \" + url);\n    }\n\n    for (let i = 0; i < css_urls.length; i++) {\n      const url = css_urls[i];\n      const element = document.createElement(\"link\");\n      element.onload = on_load;\n      element.onerror = on_error.bind(null, url);\n      element.rel = \"stylesheet\";\n      element.type = \"text/css\";\n      element.href = url;\n      console.debug(\"Bokeh: injecting link tag for BokehJS stylesheet: \", url);\n      document.body.appendChild(element);\n    }\n\n    for (let i = 0; i < js_urls.length; i++) {\n      const url = js_urls[i];\n      const element = document.createElement('script');\n      element.onload = on_load;\n      element.onerror = on_error.bind(null, url);\n      element.async = false;\n      element.src = url;\n      console.debug(\"Bokeh: injecting script tag for BokehJS library: \", url);\n      document.head.appendChild(element);\n    }\n  };\n\n  function inject_raw_css(css) {\n    const element = document.createElement(\"style\");\n    element.appendChild(document.createTextNode(css));\n    document.body.appendChild(element);\n  }\n\n  const js_urls = [\"https://cdn.bokeh.org/bokeh/release/bokeh-3.1.0.min.js\", \"https://cdn.bokeh.org/bokeh/release/bokeh-gl-3.1.0.min.js\", \"https://cdn.bokeh.org/bokeh/release/bokeh-widgets-3.1.0.min.js\", \"https://cdn.bokeh.org/bokeh/release/bokeh-tables-3.1.0.min.js\", \"https://cdn.bokeh.org/bokeh/release/bokeh-mathjax-3.1.0.min.js\"];\n  const css_urls = [];\n\n  const inline_js = [    function(Bokeh) {\n      Bokeh.set_log_level(\"info\");\n    },\nfunction(Bokeh) {\n    }\n  ];\n\n  function run_inline_js() {\n    if (root.Bokeh !== undefined || force === true) {\n          for (let i = 0; i < inline_js.length; i++) {\n      inline_js[i].call(root, root.Bokeh);\n    }\nif (force === true) {\n        display_loaded();\n      }} else if (Date.now() < root._bokeh_timeout) {\n      setTimeout(run_inline_js, 100);\n    } else if (!root._bokeh_failed_load) {\n      console.log(\"Bokeh: BokehJS failed to load within specified timeout.\");\n      root._bokeh_failed_load = true;\n    } else if (force !== true) {\n      const cell = $(document.getElementById(\"p1055\")).parents('.cell').data().cell;\n      cell.output_area.append_execute_result(NB_LOAD_WARNING)\n    }\n  }\n\n  if (root._bokeh_is_loading === 0) {\n    console.debug(\"Bokeh: BokehJS loaded, going straight to plotting\");\n    run_inline_js();\n  } else {\n    load_libs(css_urls, js_urls, function() {\n      console.debug(\"Bokeh: BokehJS plotting callback run at\", now());\n      run_inline_js();\n    });\n  }\n}(window));"
     },
     "metadata": {},
     "output_type": "display_data"
    },
    {
     "data": {
      "text/html": [
       "\n",
       "  <div id=\"9d25df1b-8972-4e30-81d9-ee3bf8d507aa\" data-root-id=\"p1032\" style=\"display: contents;\"></div>\n"
      ]
     },
     "metadata": {},
     "output_type": "display_data"
    },
    {
     "data": {
      "application/javascript": [
       "(function(root) {\n",
       "  function embed_document(root) {\n",
       "  const docs_json = {\"3e56e875-2bc7-4809-84ec-d56afbef70c0\":{\"version\":\"3.1.0\",\"title\":\"Bokeh Application\",\"defs\":[],\"roots\":[{\"type\":\"object\",\"name\":\"DataTable\",\"id\":\"p1032\",\"attributes\":{\"source\":{\"type\":\"object\",\"name\":\"ColumnDataSource\",\"id\":\"p1010\",\"attributes\":{\"selected\":{\"type\":\"object\",\"name\":\"Selection\",\"id\":\"p1012\",\"attributes\":{\"indices\":[],\"line_indices\":[]}},\"selection_policy\":{\"type\":\"object\",\"name\":\"UnionRenderers\",\"id\":\"p1011\"},\"data\":{\"type\":\"map\",\"entries\":[[\"color\",[\"#dcdcdc\",\"#3c358b\",\"#4456c7\",\"#4675ed\",\"#4193fe\",\"#2fb1f3\",\"#1bcfd4\",\"#1ae4b6\",\"#35f394\",\"#61fc6c\",\"#8efe48\",\"#b3f835\",\"#d1e834\",\"#ead339\",\"#f9ba38\",\"#fe9b2d\",\"#f8741c\",\"#ec520e\",\"#d93806\",\"#c02302\",\"#a01101\"]],[\"label\",[\"ABSTAIN\",\"alt.atheism\",\"comp.graphics\",\"comp.os.ms-windows.misc\",\"comp.sys.ibm.pc.hardware\",\"comp.sys.mac.hardware\",\"comp.windows.x\",\"misc.forsale\",\"rec.autos\",\"rec.motorcycles\",\"rec.sport.baseball\",\"rec.sport.hockey\",\"sci.crypt\",\"sci.electronics\",\"sci.med\",\"sci.space\",\"soc.religion.christian\",\"talk.politics.guns\",\"talk.politics.mideast\",\"talk.politics.misc\",\"talk.religion.misc\"]],[\"count_raw\",[360,0,0,0,0,0,0,0,0,0,0,0,0,0,0,0,0,0,0,0,0]],[\"count_train\",[0,20,19,16,19,17,13,19,16,17,17,22,16,24,20,25,29,24,18,17,11]],[\"count_dev\",[0,4,5,5,7,3,3,6,3,2,3,6,6,5,8,3,7,7,4,5,6]],[\"count_test\",[0,3,6,4,6,3,3,6,8,6,5,5,11,4,8,0,5,4,6,2,5]]]}}},\"view\":{\"type\":\"object\",\"name\":\"CDSView\",\"id\":\"p1036\",\"attributes\":{\"filter\":{\"type\":\"object\",\"name\":\"AllIndices\",\"id\":\"p1037\"}}},\"columns\":[{\"type\":\"object\",\"name\":\"TableColumn\",\"id\":\"p1013\",\"attributes\":{\"field\":\"label\",\"title\":\"label\",\"formatter\":{\"type\":\"object\",\"name\":\"StringFormatter\",\"id\":\"p1014\"},\"editor\":{\"type\":\"object\",\"name\":\"StringEditor\",\"id\":\"p1015\"}}},{\"type\":\"object\",\"name\":\"TableColumn\",\"id\":\"p1016\",\"attributes\":{\"field\":\"count_raw\",\"title\":\"raw\",\"formatter\":{\"type\":\"object\",\"name\":\"StringFormatter\",\"id\":\"p1017\"},\"editor\":{\"type\":\"object\",\"name\":\"StringEditor\",\"id\":\"p1018\"}}},{\"type\":\"object\",\"name\":\"TableColumn\",\"id\":\"p1019\",\"attributes\":{\"field\":\"count_train\",\"title\":\"train\",\"formatter\":{\"type\":\"object\",\"name\":\"StringFormatter\",\"id\":\"p1020\"},\"editor\":{\"type\":\"object\",\"name\":\"StringEditor\",\"id\":\"p1021\"}}},{\"type\":\"object\",\"name\":\"TableColumn\",\"id\":\"p1022\",\"attributes\":{\"field\":\"count_dev\",\"title\":\"dev\",\"formatter\":{\"type\":\"object\",\"name\":\"StringFormatter\",\"id\":\"p1023\"},\"editor\":{\"type\":\"object\",\"name\":\"StringEditor\",\"id\":\"p1024\"}}},{\"type\":\"object\",\"name\":\"TableColumn\",\"id\":\"p1025\",\"attributes\":{\"field\":\"count_test\",\"title\":\"test\",\"formatter\":{\"type\":\"object\",\"name\":\"StringFormatter\",\"id\":\"p1026\"},\"editor\":{\"type\":\"object\",\"name\":\"StringEditor\",\"id\":\"p1027\"}}},{\"type\":\"object\",\"name\":\"TableColumn\",\"id\":\"p1029\",\"attributes\":{\"field\":\"color\",\"title\":\"color\",\"formatter\":{\"type\":\"object\",\"name\":\"HTMLTemplateFormatter\",\"id\":\"p1028\",\"attributes\":{\"template\":\"\\n<p style=\\\"color:<%= value %>;\\\">\\n    <%= \\\"&#9608;&#9608;&#9608;\\\" %>\\n</p>\\n\"}},\"editor\":{\"type\":\"object\",\"name\":\"StringEditor\",\"id\":\"p1031\"}}}]}}],\"callbacks\":{\"type\":\"map\"}}};\n",
       "  const render_items = [{\"docid\":\"3e56e875-2bc7-4809-84ec-d56afbef70c0\",\"roots\":{\"p1032\":\"9d25df1b-8972-4e30-81d9-ee3bf8d507aa\"},\"root_ids\":[\"p1032\"]}];\n",
       "  root.Bokeh.embed.embed_items_notebook(docs_json, render_items);\n",
       "  }\n",
       "  if (root.Bokeh !== undefined) {\n",
       "    embed_document(root);\n",
       "  } else {\n",
       "    let attempts = 0;\n",
       "    const timer = setInterval(function(root) {\n",
       "      if (root.Bokeh !== undefined) {\n",
       "        clearInterval(timer);\n",
       "        embed_document(root);\n",
       "      } else {\n",
       "        attempts++;\n",
       "        if (attempts > 100) {\n",
       "          clearInterval(timer);\n",
       "          console.log(\"Bokeh: ERROR: Unable to run BokehJS code because BokehJS library is missing\");\n",
       "        }\n",
       "      }\n",
       "    }, 10, root)\n",
       "  }\n",
       "})(window);"
      ],
      "application/vnd.bokehjs_exec.v0+json": ""
     },
     "metadata": {
      "application/vnd.bokehjs_exec.v0+json": {
       "id": "p1032"
      }
     },
     "output_type": "display_data"
    }
   ],
   "source": [
    "from bokeh.io import show, output_notebook\n",
    "\n",
    "output_notebook()\n",
    "\n",
    "# normally your would skip notebook_url or use Jupyter address\n",
    "notebook_url = 'localhost:8888'\n",
    "\n",
    "show(dataset.pop_table, notebook_url=notebook_url)"
   ]
  },
  {
   "cell_type": "markdown",
   "id": "a8e25123",
   "metadata": {},
   "source": [
    "<br>\n",
    "\n",
    "### **Transfer Data Between Subsets**\n",
    "\n",
    "`COMMIT` and `DEDUP` are the mechanisms that `hover` uses to transfer data between subsets.\n",
    "\n",
    "-   `COMMIT` copies selected points (to be discussed later) to a destination subset\n",
    "    -   labeled-raw-only: `COMMIT` automatically detects which points are in the raw set with a valid label. Other points will not get copied.\n",
    "    -   keep-last: you can commit the same point to the same subset multiple times and the last copy will be kept. This can be useful for revising labels before `DEDUP`.\n",
    "-   `DEDUP` removes duplicates (identified by feature value) across subsets\n",
    "    -   priority rule: test > dev > train > raw, i.e. test set data always gets kept during deduplication\n",
    "\n",
    "-   <details open><summary>FAQ</summary>\n",
    "    <details open><summary>Why does COMMIT only work on the raw subset?</summary>\n",
    "        Most selections will happen through plots, where different subsets are on top of each other. This means selections can contain both unlabeled and labeled points.\n",
    "\n",
    "        Way too often we find ourselves trying to view both the labeled and the unlabeled, but only moving the unlabeled \"raw\" points. So it's handy that COMMIT picks those points only.\n",
    "    </details>\n",
    "\n",
    "</details>\n",
    "\n",
    "These mechanisms correspond to buttons in `hover`'s annotation interface, which you have encountered in the quickstart:"
   ]
  },
  {
   "cell_type": "code",
   "execution_count": 3,
   "id": "957da4cd",
   "metadata": {
    "execution": {
     "iopub.execute_input": "2023-03-21T01:40:15.262493Z",
     "iopub.status.busy": "2023-03-21T01:40:15.261786Z",
     "iopub.status.idle": "2023-03-21T01:40:15.319206Z",
     "shell.execute_reply": "2023-03-21T01:40:15.318440Z"
    }
   },
   "outputs": [
    {
     "name": "stderr",
     "output_type": "stream",
     "text": [
      "WARNING:bokeh.embed.util:\n",
      "You are generating standalone HTML/JS output, but trying to use real Python\n",
      "callbacks (i.e. with on_change or on_event). This combination cannot work.\n",
      "\n",
      "Only JavaScript callbacks may be used with standalone output. For more\n",
      "information on JavaScript callbacks with Bokeh, see:\n",
      "\n",
      "    https://docs.bokeh.org/en/latest/docs/user_guide/interaction/callbacks.html\n",
      "\n",
      "Alternatively, to use real Python callbacks, a Bokeh server application may\n",
      "be used. For more information on building and running Bokeh applications, see:\n",
      "\n",
      "    https://docs.bokeh.org/en/latest/docs/user_guide/server.html\n",
      "\n"
     ]
    },
    {
     "data": {
      "text/html": [
       "\n",
       "  <div id=\"ea04b21d-8504-4a59-bb4a-71854374db81\" data-root-id=\"p1153\" style=\"display: contents;\"></div>\n"
      ]
     },
     "metadata": {},
     "output_type": "display_data"
    },
    {
     "data": {
      "application/javascript": [
       "(function(root) {\n",
       "  function embed_document(root) {\n",
       "  const docs_json = {\"c80c9b5b-2de6-4054-b6d9-12cda90a5713\":{\"version\":\"3.1.0\",\"title\":\"Bokeh Application\",\"defs\":[],\"roots\":[{\"type\":\"object\",\"name\":\"Column\",\"id\":\"p1153\",\"attributes\":{\"children\":[{\"type\":\"object\",\"name\":\"Row\",\"id\":\"p1152\",\"attributes\":{\"children\":[{\"type\":\"object\",\"name\":\"Dropdown\",\"id\":\"p1002\",\"attributes\":{\"button_type\":\"warning\",\"subscribed_events\":{\"type\":\"set\",\"entries\":[\"menu_item_click\",\"button_click\"]},\"label\":\"Commit\",\"menu\":[\"train\",\"dev\",\"test\"]}},{\"type\":\"object\",\"name\":\"Button\",\"id\":\"p1003\",\"attributes\":{\"button_type\":\"warning\",\"subscribed_events\":{\"type\":\"set\",\"entries\":[\"button_click\"]},\"label\":\"Dedup\"}}]}},{\"type\":\"object\",\"name\":\"DataTable\",\"id\":\"p1032\",\"attributes\":{\"source\":{\"type\":\"object\",\"name\":\"ColumnDataSource\",\"id\":\"p1010\",\"attributes\":{\"selected\":{\"type\":\"object\",\"name\":\"Selection\",\"id\":\"p1012\",\"attributes\":{\"indices\":[],\"line_indices\":[]}},\"selection_policy\":{\"type\":\"object\",\"name\":\"UnionRenderers\",\"id\":\"p1011\"},\"data\":{\"type\":\"map\",\"entries\":[[\"color\",[\"#dcdcdc\",\"#3c358b\",\"#4456c7\",\"#4675ed\",\"#4193fe\",\"#2fb1f3\",\"#1bcfd4\",\"#1ae4b6\",\"#35f394\",\"#61fc6c\",\"#8efe48\",\"#b3f835\",\"#d1e834\",\"#ead339\",\"#f9ba38\",\"#fe9b2d\",\"#f8741c\",\"#ec520e\",\"#d93806\",\"#c02302\",\"#a01101\"]],[\"label\",[\"ABSTAIN\",\"alt.atheism\",\"comp.graphics\",\"comp.os.ms-windows.misc\",\"comp.sys.ibm.pc.hardware\",\"comp.sys.mac.hardware\",\"comp.windows.x\",\"misc.forsale\",\"rec.autos\",\"rec.motorcycles\",\"rec.sport.baseball\",\"rec.sport.hockey\",\"sci.crypt\",\"sci.electronics\",\"sci.med\",\"sci.space\",\"soc.religion.christian\",\"talk.politics.guns\",\"talk.politics.mideast\",\"talk.politics.misc\",\"talk.religion.misc\"]],[\"count_raw\",[360,0,0,0,0,0,0,0,0,0,0,0,0,0,0,0,0,0,0,0,0]],[\"count_train\",[0,20,19,16,19,17,13,19,16,17,17,22,16,24,20,25,29,24,18,17,11]],[\"count_dev\",[0,4,5,5,7,3,3,6,3,2,3,6,6,5,8,3,7,7,4,5,6]],[\"count_test\",[0,3,6,4,6,3,3,6,8,6,5,5,11,4,8,0,5,4,6,2,5]]]}}},\"view\":{\"type\":\"object\",\"name\":\"CDSView\",\"id\":\"p1036\",\"attributes\":{\"filter\":{\"type\":\"object\",\"name\":\"AllIndices\",\"id\":\"p1037\"}}},\"columns\":[{\"type\":\"object\",\"name\":\"TableColumn\",\"id\":\"p1013\",\"attributes\":{\"field\":\"label\",\"title\":\"label\",\"formatter\":{\"type\":\"object\",\"name\":\"StringFormatter\",\"id\":\"p1014\"},\"editor\":{\"type\":\"object\",\"name\":\"StringEditor\",\"id\":\"p1015\"}}},{\"type\":\"object\",\"name\":\"TableColumn\",\"id\":\"p1016\",\"attributes\":{\"field\":\"count_raw\",\"title\":\"raw\",\"formatter\":{\"type\":\"object\",\"name\":\"StringFormatter\",\"id\":\"p1017\"},\"editor\":{\"type\":\"object\",\"name\":\"StringEditor\",\"id\":\"p1018\"}}},{\"type\":\"object\",\"name\":\"TableColumn\",\"id\":\"p1019\",\"attributes\":{\"field\":\"count_train\",\"title\":\"train\",\"formatter\":{\"type\":\"object\",\"name\":\"StringFormatter\",\"id\":\"p1020\"},\"editor\":{\"type\":\"object\",\"name\":\"StringEditor\",\"id\":\"p1021\"}}},{\"type\":\"object\",\"name\":\"TableColumn\",\"id\":\"p1022\",\"attributes\":{\"field\":\"count_dev\",\"title\":\"dev\",\"formatter\":{\"type\":\"object\",\"name\":\"StringFormatter\",\"id\":\"p1023\"},\"editor\":{\"type\":\"object\",\"name\":\"StringEditor\",\"id\":\"p1024\"}}},{\"type\":\"object\",\"name\":\"TableColumn\",\"id\":\"p1025\",\"attributes\":{\"field\":\"count_test\",\"title\":\"test\",\"formatter\":{\"type\":\"object\",\"name\":\"StringFormatter\",\"id\":\"p1026\"},\"editor\":{\"type\":\"object\",\"name\":\"StringEditor\",\"id\":\"p1027\"}}},{\"type\":\"object\",\"name\":\"TableColumn\",\"id\":\"p1029\",\"attributes\":{\"field\":\"color\",\"title\":\"color\",\"formatter\":{\"type\":\"object\",\"name\":\"HTMLTemplateFormatter\",\"id\":\"p1028\",\"attributes\":{\"template\":\"\\n<p style=\\\"color:<%= value %>;\\\">\\n    <%= \\\"&#9608;&#9608;&#9608;\\\" %>\\n</p>\\n\"}},\"editor\":{\"type\":\"object\",\"name\":\"StringEditor\",\"id\":\"p1031\"}}}]}}]}}],\"callbacks\":{\"type\":\"map\"}}};\n",
       "  const render_items = [{\"docid\":\"c80c9b5b-2de6-4054-b6d9-12cda90a5713\",\"roots\":{\"p1153\":\"ea04b21d-8504-4a59-bb4a-71854374db81\"},\"root_ids\":[\"p1153\"]}];\n",
       "  root.Bokeh.embed.embed_items_notebook(docs_json, render_items);\n",
       "  }\n",
       "  if (root.Bokeh !== undefined) {\n",
       "    embed_document(root);\n",
       "  } else {\n",
       "    let attempts = 0;\n",
       "    const timer = setInterval(function(root) {\n",
       "      if (root.Bokeh !== undefined) {\n",
       "        clearInterval(timer);\n",
       "        embed_document(root);\n",
       "      } else {\n",
       "        attempts++;\n",
       "        if (attempts > 100) {\n",
       "          clearInterval(timer);\n",
       "          console.log(\"Bokeh: ERROR: Unable to run BokehJS code because BokehJS library is missing\");\n",
       "        }\n",
       "      }\n",
       "    }, 10, root)\n",
       "  }\n",
       "})(window);"
      ],
      "application/vnd.bokehjs_exec.v0+json": ""
     },
     "metadata": {
      "application/vnd.bokehjs_exec.v0+json": {
       "id": "p1153"
      }
     },
     "output_type": "display_data"
    }
   ],
   "source": [
    "from bokeh.layouts import row, column\n",
    "\n",
    "show(column(\n",
    "    row(\n",
    "        dataset.data_committer,\n",
    "        dataset.dedup_trigger,\n",
    "    ),\n",
    "    dataset.pop_table,\n",
    "), notebook_url=notebook_url)"
   ]
  },
  {
   "cell_type": "markdown",
   "id": "c9cba523",
   "metadata": {},
   "source": [
    "<br>\n",
    "\n",
    "Of course, so far we have nothing to move, because there's no data selected. We shall now discuss selections.\n",
    "\n",
    "## **Selection**\n",
    "\n",
    "`hover` labels data points in bulk, which requires selecting groups of homogeneous data, i.e. semantically similar or going to have the same label. Being able to skim through what you selected gives you confidence about homogeneity.\n",
    "\n",
    "Normally, selection happens through a plot (`explorer`), as we have seen in the quickstart. For the purpose here, we will \"cheat\" and assign the selection programmatically:"
   ]
  },
  {
   "cell_type": "code",
   "execution_count": 4,
   "id": "d6ed1e07",
   "metadata": {
    "execution": {
     "iopub.execute_input": "2023-03-21T01:40:15.322857Z",
     "iopub.status.busy": "2023-03-21T01:40:15.322193Z",
     "iopub.status.idle": "2023-03-21T01:40:15.363796Z",
     "shell.execute_reply": "2023-03-21T01:40:15.363047Z"
    }
   },
   "outputs": [
    {
     "data": {
      "text/html": [
       "<pre style=\"white-space:pre;overflow-x:auto;line-height:normal;font-family:Menlo,'DejaVu Sans Mono',consolas,'Courier New',monospace\"><span style=\"color: #008000; text-decoration-color: #008000\">🟢 SupervisableTextDataset: Selection table: latest selection with </span><span style=\"color: #008080; text-decoration-color: #008080; font-weight: bold\">11</span><span style=\"color: #008000; text-decoration-color: #008000\"> entries.</span>\n",
       "</pre>\n"
      ],
      "text/plain": [
       "\u001b[32m🟢 SupervisableTextDataset: Selection table: latest selection with \u001b[0m\u001b[1;36m11\u001b[0m\u001b[32m entries.\u001b[0m\n"
      ]
     },
     "metadata": {},
     "output_type": "display_data"
    },
    {
     "data": {
      "text/html": [
       "\n",
       "  <div id=\"c3a97428-9bb6-4ec7-bb8c-330a47f6cea0\" data-root-id=\"p1049\" style=\"display: contents;\"></div>\n"
      ]
     },
     "metadata": {},
     "output_type": "display_data"
    },
    {
     "data": {
      "application/javascript": [
       "(function(root) {\n",
       "  function embed_document(root) {\n",
       "  const docs_json = {\"78d9f50b-078a-4314-9144-c4341930248e\":{\"version\":\"3.1.0\",\"title\":\"Bokeh Application\",\"defs\":[],\"roots\":[{\"type\":\"object\",\"name\":\"DataTable\",\"id\":\"p1049\",\"attributes\":{\"source\":{\"type\":\"object\",\"name\":\"ColumnDataSource\",\"id\":\"p1038\",\"attributes\":{\"selected\":{\"type\":\"object\",\"name\":\"Selection\",\"id\":\"p1040\",\"attributes\":{\"indices\":[],\"line_indices\":[]}},\"selection_policy\":{\"type\":\"object\",\"name\":\"UnionRenderers\",\"id\":\"p1039\"},\"data\":{\"type\":\"map\",\"entries\":[[\"text\",[\"  It must be... ...I type it with my left hand.  Personally, I would have a real problem with my keyboard opened up like that, because I tend to share some keys with both hands, particularly if I'm doing something else with one hand (like using the cursor keys, mouse, or glass of Jolt).\",\": In article <11838@vice.ICO.TEK.COM>, bobbe@vice.ICO.TEK.COM (Robert : >   Someone spank me if I'm wrong, but didn't Lord, Liar, or Lunatic : >   originate with C.S. Lewis?  Who's this Campollo fellow anyway?  : I do think so, and isn't there a clear connection with the \\\"I do : believe, because it is absurd\\\" notion by one of the original : Christians (Origen?).  There is a similar statement attributed to Anselm, \\\"I believe so that I may understand\\\". In both cases reason is somewhat less exalted than anyone posting here could accept, which means that neither statement can be properly analysed in this venue.\",\"There are also a couple or three places on West 45th between Fifth and Sixth.    Harvey   -- \",\"We are trying to write a program which can read files created by quattro pro 3.0 and above.  Would anyone know where to find information regarding the format in which Quattro Pro stores its files.  Thanks in Advance Mahesh\",\"***************************************************************** *                                                               * *                        MONSTER RALLY!!                        * *          ==  For the Right to Own and Carry Weapons ==        * *                                                               * *    TOMORROW, Sunday, April 18, 1993, from 1:00 to 3:30 p.m.,  * *       the Denver LIBERTARIAN PARTY will sponsor a rally       * *              AT THE STATE CAPITOL in support of               * *         the individual right to own and carry weapons.        * *                                                               * * Speakers will include former Colorado deputy attorney general * *  DAVID KOPEL, radio host KEN HAMBLIN, DLP Chair DAVID SEGAL,  * * pistol instructor LENDA JACKSON, and novelist L. NEIL SMITH.  * *                                                               * * Your presence and participation are highly welcome.  For more * *       information call David Segal at (303) 296-4059.         * *                                                               * *****************************************************************  Cathy Smith\",\"I'm writing an X server for some video-generation equipment.  The hardware is \\\"truecolor\\\" in YUV space; in X terms it has a 24-bit static color visual.  I would really like to have the server just present this static visual, but I'm not sure if this will be  acceptable to \\\"most\\\" X clients.  The three problems I see are:    1) The colormap, though huge, is static.   2) All pixels would be 3 bytes wide.   3) Because the hardware actually lives in YUV space, the      translation RGB->YUV will introduce some rounding error.  Being more of a server guy than a client guy, I ask: will these limitations thwart many X clients?  Or will most of the X stuff floating around blithely accept what they're given?  I could write the server to also present a pseudocolor visual of, e.g., 8 bits,  but I'd rather avoid this if not necessary.  I know there are no absolutes, but I'd appreciate hearing people's opinions and suggestions.  Thanks! \",\" Some thoughts:  Has any work been done on encapsulating encrypted data inside \\\"non-encrypted\\\" data files?  Many file formats can be written with \\\"gaps\\\" in them to hide other data.  New file formats could be designed to have alternate data hidden by dispersing it amongst the \\\"legitimate\\\" data.  The hidden data would only show up with the right key(s), and a file with hidden data would be indistinguishable from one without.  So, only the correct key(s) would reveal the presence of an \\\"illegal\\\" document.  If I devise a custom file compression algorithm and only I and a friend have the uncompressor, and otherwise the file appears to be total gigerish, do I have the right to transmit the file?  Will we have to \\\"escrow\\\" all our data file formats?  Are gangs required to escrow their hand signals, colors and catch phrases?\",\"Archive-name: space/acronyms Edition: 8  Acronym List for sci.astro, sci.space, and sci.space.shuttle: Edition 8, 1992 Dec 7 Last posted: 1992 Aug 27  This list is offered as a reference for translating commonly appearing acronyms in the space-related newsgroups.  If I forgot or botched your favorite acronym, please let me know!  Also, if there's an acronym *not* on this list that confuses you, drop me a line, and if I can figure it out, I'll add it to the list.  Note that this is intended to be a reference for *frequently seen* acronyms, and is most emphatically *not* encyclopedic.  If I incorporated every acronym I ever saw, I'd soon run out of disk space!  :-)  The list will be posted at regular intervals, every 30 days.  All comments regarding it are welcome; I'm reachable as bradfrd2@ncar.ucar.edu.  Note that this just tells what the acronyms stand for -- you're on your own for figuring out what they *mean*!  Note also that the total number of acronyms in use far exceeds what I can list; special-purpose acronyms that are essentially always explained as they're introduced are omitted. Further, some acronyms stand for more than one thing; as of Edition 3 of the list, these acronyms appear on multiple lines, unless they're simply different ways of referring to the same thing.  Thanks to everybody who's sent suggestions since the first version of the list, and especially to Garrett A. Wollman (wollman@griffin.uvm.edu), who is maintaining an independent list, somewhat more verbose in character than mine, and to Daniel Fischer (dfi@specklec.mpifr-bonn.mpg.de), who is maintaining a truly HUGE list (535 at last count) of acronyms and terms, mostly in German (which I read, fortunately).  Special thanks this time to Ken Hollis at NASA, who sent me a copy of NASA Reference Publication 1059 Revised: _Space Transportation System and Associated Payloads: Glossary, Acronyms, and Abbreviations_, a truly mammoth tome -- almost 300 pages of TLAs.  Special Bonus!  At the end of this posting, you will find a perl program written by none other than Larry Wall, whose purpose is to scramble the acronym list in an entertaining fashion.  Thanks, Larry!  A&A: Astronomy and Astrophysics AAO: Anglo-Australian Observatory AAS: American Astronomical Society AAS: American Astronautical Society AAVSO: American Association of Variable Star Observers ACE: Advanced Composition Explorer ACRV: Assured Crew Return Vehicle (or) Astronaut Crew Rescue Vehicle ADFRF: Ames-Dryden Flight Research Facility (was DFRF) (NASA) AGN: Active Galactic Nucleus AGU: American Geophysical Union AIAA: American Institute of Aeronautics and Astronautics AIPS: Astronomical Image Processing System AJ: Astronomical Journal ALEXIS: Array of Low Energy X-ray Imaging Sensors ALPO: Association of Lunar and Planetary Observers ALS: Advanced Launch System ANSI: American National Standards Institute AOA: Abort Once Around (Shuttle abort plan) AOCS: Attitude and Orbit Control System Ap.J: Astrophysical Journal APM: Attached Pressurized Module (a.k.a. Columbus) APU: Auxiliary Power Unit ARC: Ames Research Center (NASA) ARTEMIS: Advanced Relay TEchnology MISsion ASA: Astronomical Society of the Atlantic ASI: Agenzia Spaziale Italiano ASRM: Advanced Solid Rocket Motor ATDRS: Advanced Tracking and Data Relay Satellite ATLAS: Atmospheric Laboratory for Applications and Science ATM: Amateur Telescope Maker ATO: Abort To Orbit (Shuttle abort plan) AU: Astronomical Unit AURA: Association of Universities for Research in Astronomy AW&ST: Aviation Week and Space Technology (a.k.a. AvLeak) AXAF: Advanced X-ray Astrophysics Facility BATSE: Burst And Transient Source Experiment (on CGRO) BBXRT: Broad-Band X-Ray Telescope (ASTRO package) BEM: Bug-Eyed Monster BH: Black Hole BIMA: Berkeley Illinois Maryland Array BNSC: British National Space Centre BTW: By The Way C&T: Communications & Tracking CCAFS: Cape Canaveral Air Force Station CCD: Charge-Coupled Device CCDS: Centers for the Commercial Development of Space CD-ROM: Compact Disk Read-Only Memory CFA: Center For Astrophysics CFC: ChloroFluoroCarbon CFF: Columbus Free Flyer CFHT: Canada-France-Hawaii Telescope CGRO: (Arthur Holley) Compton Gamma Ray Observatory (was GRO) CHARA: Center for High Angular Resolution Astronomy CIRRIS: Cryogenic InfraRed Radiance Instrument for Shuttle CIT: Circumstellar Imaging Telescope CM: Command Module (Apollo spacecraft) CMCC: Central Mission Control Centre (ESA) CNES: Centre National d'Etude Spatiales CNO: Carbon-Nitrogen-Oxygen CNSR: Comet Nucleus Sample Return COBE: COsmic Background Explorer COMPTEL: COMPton TELescope (on CGRO) COSTAR: Corrective Optics Space Telescope Axial Replacement CRAF: Comet Rendezvous / Asteroid Flyby CRRES: Combined Release / Radiation Effects Satellite CSM: Command and Service Module (Apollo spacecraft) CSTC: Consolidated Satellite Test Center (USAF) CTIO: Cerro Tololo Interamerican Observatory DCX: Delta Clipper eXperimental DDCU: DC-to-DC Converter Unit DFRF: Dryden Flight Research Facility (now ADFRF) DMSP: Defense Meteorological Satellite Program DOD: Department Of Defense (sometimes DoD) DOE: Department Of Energy DOT: Department Of Transportation DSCS: Defense Satellite Communications System DSN: Deep Space Network DSP: Defense Support Program (USAF/NRO) EAFB: Edwards Air Force Base ECS: Environmental Control System EDO: Extended Duration Orbiter EGRET: Energetic Gamma Ray Experiment Telescope (on CGRO) EJASA: Electronic Journal of the Astronomical Society of the Atlantic ELV: Expendable Launch Vehicle EMU: Extravehicular Mobility Unit EOS: Earth Observing System ERS: Earth Resources Satellite (as in ERS-1) ESA: European Space Agency ESO: European Southern Observatory ET: (Shuttle) External Tank ETLA: Extended Three Letter Acronym ETR: Eastern Test Range EUV: Extreme UltraViolet EUVE: Extreme UltraViolet Explorer EVA: ExtraVehicular Activity FAQ: Frequently Asked Questions FAST: Fast Auroral SnapshoT explorer FFT: Fast Fourier Transform FGS: Fine Guidance Sensors (on HST) FHST: Fixed Head Star Trackers (on HST) FIR: Far InfraRed FITS: Flexible Image Transport System FOC: Faint Object Camera (on HST) FOS: Faint Object Spectrograph (on HST) FRR: Flight-Readiness Review FTP: File Transfer Protocol FTS: Flight Telerobotic Servicer FUSE: Far Ultraviolet Spectroscopic Explorer FWHM: Full Width at Half Maximum FYI: For Your Information GAS: Get-Away Special GBT: Green Bank Telescope GCVS: General Catalog of Variable Stars GEM: Giotto Extended Mission GEO: Geosynchronous Earth Orbit GDS: Great Dark Spot GHRS: Goddard High Resolution Spectrograph (on HST) GIF: Graphics Interchange Format GLOMR: Global Low-Orbiting Message Relay GMC: Giant Molecular Cloud GMRT: Giant Meter-wave Radio Telescope GMT: Greenwich Mean Time (also called UT) GOES: Geostationary Orbiting Environmental Satellite GOX: Gaseous OXygen GPC: General Purpose Computer GPS: Global Positioning System GRO: Gamma Ray Observatory (now CGRO) GRS: Gamma Ray Spectrometer (on Mars Observer) GRS: Great Red Spot GSC: Guide Star Catalog (for HST) GSFC: Goddard Space Flight Center (NASA) GTO: Geostationary Transfer Orbit HAO: High Altitude Observatory HD: Henry Draper catalog entry HEAO: High Energy Astronomical Observatory HeRA: Hermes Robotic Arm HF: High Frequency HGA: High Gain Antenna HLC: Heavy Lift Capability HLV: Heavy Lift Vehicle HMC: Halley Multicolor Camera (on Giotto) HR: Hertzsprung-Russell (diagram) HRI: High Resolution Imager (on ROSAT) HSP: High Speed Photometer (on HST) HST: Hubble Space Telescope HUT: Hopkins Ultraviolet Telescope (ASTRO package) HV: High Voltage IAPPP: International Amateur/Professional Photoelectric Photometry IAU: International Astronomical Union IAUC: IAU Circular ICE: International Cometary Explorer IDA: International Dark-sky Association IDL: Interactive Data Language IGM: InterGalactic Medium IGY: International Geophysical Year IMHO: In My Humble Opinion IOTA: Infrared-Optical Telescope Array IOTA: International Occultation Timing Association IPS: Inertial Pointing System IR: InfraRed IRAF: Image Reduction and Analysis Facility IRAS: InfraRed Astronomical Satellite ISAS: Institute of Space and Astronautical Science (Japan) ISM: InterStellar Medium ISO: Infrared Space Observatory ISO: International Standards Organization ISPM: International Solar Polar Mission (now Ulysses) ISY: International Space Year IUE: International Ultraviolet Explorer IUS: Inertial Upper Stage JEM: Japanese Experiment Module (for SSF) JGR: Journal of Geophysical Research JILA: Joint Institute for Laboratory Astrophysics JPL: Jet Propulsion Laboratory JSC: Johnson Space Center (NASA) KAO: Kuiper Airborne Observatory KPNO: Kitt Peak National Observatory KSC: Kennedy Space Center (NASA) KTB: Cretaceous-Tertiary Boundary (from German) LANL: Los Alamos National Laboratory LaRC: Langley Research Center (NASA) LDEF: Long Duration Exposure Facility LEM: Lunar Excursion Module (a.k.a. LM) (Apollo spacecraft) LEO: Low Earth Orbit LeRC: Lewis Research Center (NASA) LEST: Large Earth-based Solar Telescope LFSA: List of Frequently Seen Acronyms (!) LGA: Low Gain Antenna LGM: Little Green Men LH: Liquid Hydrogen (also LH2 or LHX) LLNL: Lawrence-Livermore National Laboratory LM: Lunar Module (a.k.a. LEM) (Apollo spacecraft) LMC: Large Magellanic Cloud LN2: Liquid N2 (Nitrogen) LOX: Liquid OXygen LRB: Liquid Rocket Booster LSR: Local Standard of Rest LTP: Lunar Transient Phenomenon MB: Manned Base MCC: Mission Control Center MECO: Main Engine CutOff MMH: MonoMethyl Hydrazine MMT: Multiple Mirror Telescope MMU: Manned Maneuvering Unit MNRAS: Monthly Notices of the Royal Astronomical Society MOC: Mars Observer Camera (on Mars Observer) MOL: Manned Orbiting Laboratory MOLA: Mars Observer Laser Altimeter (on Mars Observer) MOMV: Manned Orbital Maneuvering Vehicle MOTV: Manned Orbital Transfer Vehicle MPC: Minor Planets Circular MRSR: Mars Rover and Sample Return MRSRM: Mars Rover and Sample Return Mission MSFC: (George C.) Marshall Space Flight Center (NASA) MTC: Man Tended Capability NACA: National Advisory Committee on Aeronautics (became NASA) NASA: National Aeronautics and Space Administration NASDA: NAtional Space Development Agency (Japan) NASM: National Air and Space Museum NASP: National AeroSpace Plane NBS: National Bureau of Standards (now NIST) NDV: NASP Derived Vehicle NERVA: Nuclear Engine for Rocket Vehicle Application NGC: New General Catalog NICMOS: Near Infrared Camera / Multi Object Spectrometer (HST upgrade) NIMS: Near-Infrared Mapping Spectrometer (on Galileo) NIR: Near InfraRed NIST: National Institute for Standards and Technology (was NBS) NLDP: National Launch Development Program NOAA: National Oceanic and Atmospheric Administration NOAO: National Optical Astronomy Observatories NRAO: National Radio Astronomy Observatory NRO: National Reconnaissance Office NS: Neutron Star NSA: National Security Agency NSF: National Science Foundation NSO: National Solar Observatory NSSDC: National Space Science Data Center NTR: Nuclear Thermal Rocket(ry) NTT: New Technology Telescope OAO: Orbiting Astronomical Observatory OCST: Office of Commercial Space Transportation OMB: Office of Management and Budget OMS: Orbital Maneuvering System OPF: Orbiter Processing Facility ORFEUS: Orbiting and Retrievable Far and Extreme Ultraviolet Spectrometer OSC: Orbital Sciences Corporation OSCAR: Orbiting Satellite Carrying Amateur Radio OSSA: Office of Space Science and Applications OSSE: Oriented Scintillation Spectrometer Experiment (on CGRO) OTA: Optical Telescope Assembly (on HST) OTHB: Over The Horizon Backscatter OTV: Orbital Transfer Vehicle OV: Orbital Vehicle PAM: Payload Assist Module PAM-D: Payload Assist Module, Delta-class PI: Principal Investigator PLSS: Portable Life Support System PM: Pressurized Module PMC: Permanently Manned Capability PMIRR: Pressure Modulated InfraRed Radiometer (on Mars Observer) PMT: PhotoMultiplier Tube PSF: Point Spread Function PSR: PulSaR PV: Photovoltaic PVO: Pioneer Venus Orbiter QSO: Quasi-Stellar Object RCI: Rodent Cage Interface (for SLS mission) RCS: Reaction Control System REM: Rat Enclosure Module (for SLS mission) RF: Radio Frequency RFI: Radio Frequency Interference RIACS: Research Institute for Advanced Computer Science RMS: Remote Manipulator System RNGC: Revised New General Catalog ROSAT: ROentgen SATellite ROUS: Rodents Of Unusual Size (I don't believe they exist) RSN: Real Soon Now RTG: Radioisotope Thermoelectric Generator RTLS: Return To Launch Site (Shuttle abort plan) SAA: South Atlantic Anomaly SAGA: Solar Array Gain Augmentation (for HST) SAMPEX: Solar Anomalous and Magnetospheric Particle EXplorer SAO: Smithsonian Astrophysical Observatory SAR: Search And Rescue SAR: Synthetic Aperture Radar SARA: Satellite pour Astronomie Radio Amateur SAREX: Search and Rescue Exercise SAREX: Shuttle Amateur Radio Experiment SAS: Space Activity Suit SAS: Space Adaptation Syndrome SAT: Synthetic Aperture Telescope S/C: SpaceCraft SCA: Shuttle Carrier Aircraft SCT: Schmidt-Cassegrain Telescope SDI: Strategic Defense Initiative SDIO: Strategic Defense Initiative Organization SEI: Space Exploration Initiative SEST: Swedish ESO Submillimeter Telescope SETI: Search for ExtraTerrestrial Intelligence SID: Sudden Ionospheric Disturbance SIR: Shuttle Imaging Radar SIRTF: Space (formerly Shuttle) InfraRed Telescope Facility SL: SpaceLab SLAR: Side-Looking Airborne Radar SLC: Space Launch Complex SLS: Space(lab) Life Sciences SMC: Small Magellanic Cloud SME: Solar Mesosphere Explorer SMEX: SMall EXplorers SMM: Solar Maximum Mission SN: SuperNova (e.g., SN1987A) SNR: Signal to Noise Ratio SNR: SuperNova Remnant SNU: Solar Neutrino Units SOFIA: Stratospheric Observatory For Infrared Astronomy SOHO: SOlar Heliospheric Observatory SPAN: Space Physics and Analysis Network SPDM: Special Purpose Dextrous Manipulator SPOT: Systeme Probatoire pour l'Observation de la Terre SPS: Solar Power Satellite SRB: Solid Rocket Booster SRM: Solid Rocket Motor SSF: Space Station Fred (er, Freedom) SSI: Solid-State Imager (on Galileo) SSI: Space Studies Institut SSME: Space Shuttle Main Engine SSPF: Space Station Processing Facility SSRMS: Space Station Remote Manipulator System SST: Spectroscopic Survey Telescope SST: SuperSonic Transport SSTO: Single Stage To Orbit STIS: Space Telescope Imaging Spectrometer (to replace FOC and GHRS) STS: Shuttle Transport System (or) Space Transportation System STScI: Space Telescope Science Institute SWAS: Submillimeter Wave Astronomy Satellite SWF: ShortWave Fading TAL: Transatlantic Abort Landing (Shuttle abort plan) TAU: Thousand Astronomical Unit (mission) TCS: Thermal Control System TDRS: Tracking and Data Relay Satellite TDRSS: Tracking and Data Relay Satellite System TES: Thermal Emission Spectrometer (on Mars Observer) TIROS: Television InfraRed Observation Satellite TLA: Three Letter Acronym TOMS: Total Ozone Mapping Spectrometer TPS: Thermal Protection System TSS: Tethered Satellite System UARS: Upper Atmosphere Research Satellite UBM: Unpressurized Berthing Mechanism UDMH: Unsymmetrical DiMethyl Hydrazine UFO: Unidentified Flying Object UGC: Uppsala General Catalog UHF: Ultra High Frequency UIT: Ultraviolet Imaging Telescope (Astro package) UKST: United Kingdom Schmidt Telescope USAF: United States Air Force USMP: United States Microgravity Payload UT: Universal Time (a.k.a. GMT, UTC, or Zulu Time) UTC: Coordinated Universal Time (a.k.a. UT) UV: UltraViolet UVS: UltraViolet Spectrometer VAB: Vehicle Assembly Building (formerly Vertical Assembly Building) VAFB: Vandenberg Air Force Base VEEGA: Venus-Earth-Earth Gravity Assist (Galileo flight path) VHF: Very High Frequency VLA: Very Large Array VLBA: Very Long Baseline Array VLBI: Very Long Baseline Interferometry VLF: Very Low Frequency VLT: Very Large Telescope VMS: Vertical Motion Simulator VOIR: Venus Orbiting Imaging Radar (superseded by VRM) VPF: Vertical Processing Facility VRM: Venus Radar Mapper (now called Magellan) WD: White Dwarf WFPC: Wide Field / Planetary Camera (on HST) WFPCII: Replacement for WFPC WIYN: Wisconsin / Indiana / Yale / NOAO telescope WSMR: White Sands Missile Range WTR: Western Test Range WUPPE: Wisconsin Ultraviolet PhotoPolarimter Experiment (Astro package) XMM: X-ray Multi Mirror XUV: eXtreme UltraViolet YSO: Young Stellar Object   #!/usr/bin/perl # 'alt', An Acronym Scrambling Program, by Larry Wall  $THRESHOLD = 2;  srand; while (<>) {     next unless /^([A-Z]\\\\S+): */;     $key = $1;     $acro{$key} = $';     @words = split(/\\\\W+/,$');     unshift(@words,$key);     $off = 0;     foreach $word (@words) {         next unless $word =~ /^[A-Z]/;         *w = $&;         vec($w{$word}, $off++ % 6, 1) = 1;     } }  foreach $letter (A .. Z) {     *w = $letter;     @w = keys %w;     if (@w < $THRESHOLD) {         @d = `egrep '^$letter' /usr/dict/words`;         chop @d;         push(@w, @d);     } }  foreach $key (sort keys %acro) {     $off = 0;     $acro = $acro{$key};     $acro =~ s/((([A-Z])[A-Z]*)[a-z]*)/ &pick($3, $2, $1, ++$off) || $& /eg;     print \\\"$key: $acro\\\"; }  sub pick {     local($letter, $prefix, $oldword, $off) = @_;     $i = 0;     if (length($prefix) > 1 && index($key,$prefix) < 0) {         if ($prefix eq $oldword) {             $prefix = '';         }         else {             $prefix = $letter;         }     }     if (length($prefix) > 1) {         local(*w) = substr($prefix,0,1);         do {             $word = $w[rand @w];         } until $word ne $oldword && $word =~ /^$prefix/i || ++$i > 30;         $word =~ s/^$prefix/$prefix/i;         $word;     }     elsif (length($prefix) == 1) {         local(*w) = $prefix;         do {             $word = $w[rand @w];         } until $word ne $oldword && vec($w{$word}, $off, 1) || ++$i > 10;         $word = \\\"\\\\u\\\\L$word\\\" if $word =~ tr/a-z/A-Z/;         $word;     }     else {         local(*w) = substr($oldword,0,1);         do {             $word = $w[rand @w];         } until $word ne $oldword && $word =~ tr/a-z/A-Z/ == 0 || ++$i > 30;         $word;     } } \",\"  nice theory.  too bad the MR2's never came with a four cylinder over 2.0 liters.  More like 1.6.  Or did they? were the nonturbo MR2II's  2.2 or some such?  I also understand that anyone using balancing shafts on four cylinders, must pay SAAB a royalty for using their patented design..like Porsche's 3.0 I4...\",\"A couple of weeks ago I posted a question concerning communicating between VB and MSACCESS using DDE. The answers I received at that time allowed me to get a prototype of my project working. However, during this process I have come up with new problems.  1) There seems to be a limit of 255 characters for a DDE Topic string. Is this inherent in all DDE systems or just peculiar to MSACCESS or VB?  2) It is easy to query an Access database from VB using the DDE SQL command, (provided the above limitation is overcome by using short field and table names) but how is one meant to update a database?    a) A DDE SQL UPDATE command does not seem to work.    b) Initiating an Access macro using a DDE Execute command from VB cannot       be used because when the macro requests information from VB using a       second DDE channel the programs dead lock until time- outs occur.       (The VB to Access channel has to close before the Access to VB channel       is initiated, I guess.)    c) Access does not allow VB to DDE POKE the information.      The way I eventually managed to update a database was by sending key-    strokes from VB to Access using the SendKeys command. This technique has    the problem that Access cannot be minimised and it must always be in a    state ready to respond to the sequence of key-strokes VB sends.  Are all the above statements correct or have I made incorrect assumptions? Are there any better work arounds to the above? Are there any signs of an ODBC driver for Access?\",\" The situation in this regard has changed considerably in recent years. See the discussion of \\\"high-power rocketry\\\" in the rec.models.rockets frequently-asked-questions list.  This is not hardware you can walk in off the street and buy; you need proper certification.  That can be had, mostly through Tripoli (the high- power analog of the NAR), although the NAR is cautiously moving to extend the upper boundaries of what it considers proper too.  You need special FAA authorization, but provided you aren't doing it under one of the LAX runway approaches or something stupid like that, it's not especially hard to arrange.  As with model rocketry, this sort of hardware is reasonably safe if handled properly.  Proper handling takes more care, and you need a lot more empty air to fly in, but it's basically just model rocketry scaled up.  As with model rocketry, the high-power people use factory-built engines, which eliminates the major safety hazard of do-it-yourself rocketry.\"]],[\"SUBSET\",[\"raw\",\"raw\",\"raw\",\"raw\",\"raw\",\"raw\",\"raw\",\"raw\",\"raw\",\"raw\",\"raw\"]],[\"label\",[\"ABSTAIN\",\"ABSTAIN\",\"ABSTAIN\",\"ABSTAIN\",\"ABSTAIN\",\"ABSTAIN\",\"ABSTAIN\",\"ABSTAIN\",\"ABSTAIN\",\"ABSTAIN\",\"ABSTAIN\"]]]}}},\"view\":{\"type\":\"object\",\"name\":\"CDSView\",\"id\":\"p1053\",\"attributes\":{\"filter\":{\"type\":\"object\",\"name\":\"AllIndices\",\"id\":\"p1054\"}}},\"columns\":[{\"type\":\"object\",\"name\":\"TableColumn\",\"id\":\"p1043\",\"attributes\":{\"field\":\"text\",\"title\":\"text\",\"formatter\":{\"type\":\"object\",\"name\":\"HTMLTemplateFormatter\",\"id\":\"p1042\",\"attributes\":{\"template\":\"<span href=\\\"#\\\" data-toggle=\\\"tooltip\\\" title=\\\"<%= value %>\\\"><%= value %></span>\"}},\"editor\":{\"type\":\"object\",\"name\":\"CellEditor\",\"id\":\"p1041\"}}},{\"type\":\"object\",\"name\":\"TableColumn\",\"id\":\"p1046\",\"attributes\":{\"field\":\"label\",\"title\":\"label\",\"formatter\":{\"type\":\"object\",\"name\":\"StringFormatter\",\"id\":\"p1047\"},\"editor\":{\"type\":\"object\",\"name\":\"StringEditor\",\"id\":\"p1048\"}}}],\"editable\":true,\"selectable\":\"checkbox\"}}],\"callbacks\":{\"type\":\"map\"}}};\n",
       "  const render_items = [{\"docid\":\"78d9f50b-078a-4314-9144-c4341930248e\",\"roots\":{\"p1049\":\"c3a97428-9bb6-4ec7-bb8c-330a47f6cea0\"},\"root_ids\":[\"p1049\"]}];\n",
       "  root.Bokeh.embed.embed_items_notebook(docs_json, render_items);\n",
       "  }\n",
       "  if (root.Bokeh !== undefined) {\n",
       "    embed_document(root);\n",
       "  } else {\n",
       "    let attempts = 0;\n",
       "    const timer = setInterval(function(root) {\n",
       "      if (root.Bokeh !== undefined) {\n",
       "        clearInterval(timer);\n",
       "        embed_document(root);\n",
       "      } else {\n",
       "        attempts++;\n",
       "        if (attempts > 100) {\n",
       "          clearInterval(timer);\n",
       "          console.log(\"Bokeh: ERROR: Unable to run BokehJS code because BokehJS library is missing\");\n",
       "        }\n",
       "      }\n",
       "    }, 10, root)\n",
       "  }\n",
       "})(window);"
      ],
      "application/vnd.bokehjs_exec.v0+json": ""
     },
     "metadata": {
      "application/vnd.bokehjs_exec.v0+json": {
       "id": "p1049"
      }
     },
     "output_type": "display_data"
    }
   ],
   "source": [
    "dataset._callback_update_selection(dataset.dfs[\"raw\"].loc[:10])\n",
    "\n",
    "show(dataset.sel_table, notebook_url=notebook_url)"
   ]
  },
  {
   "cell_type": "markdown",
   "id": "3efd1f15",
   "metadata": {},
   "source": [
    "<br>\n",
    "\n",
    "### **Edit Data Within a Selection**\n",
    "\n",
    "Often the points selected are not perfectly homogeneous, i.e. some outliers belong to a different label from the selected group overall. It would be helpful to `EVICT` them, and `SupervisableDataset` has a button for it.\n",
    "\n",
    "Sometimes you may also wish to edit data values on the fly.  In hover this is called `PATCH`, and there also is a button for it.\n",
    "\n",
    "-   by default, labels can be edited but feature values cannot.\n",
    "\n",
    "Let's plot the forementioned buttons along with the selection table. Toggle any number of rows in the table, then click the button to `EVICT` or `PATCH` those rows:"
   ]
  },
  {
   "cell_type": "code",
   "execution_count": 5,
   "id": "49bf456a",
   "metadata": {
    "execution": {
     "iopub.execute_input": "2023-03-21T01:40:15.367766Z",
     "iopub.status.busy": "2023-03-21T01:40:15.367131Z",
     "iopub.status.idle": "2023-03-21T01:40:15.414123Z",
     "shell.execute_reply": "2023-03-21T01:40:15.413278Z"
    }
   },
   "outputs": [
    {
     "name": "stderr",
     "output_type": "stream",
     "text": [
      "WARNING:bokeh.embed.util:\n",
      "You are generating standalone HTML/JS output, but trying to use real Python\n",
      "callbacks (i.e. with on_change or on_event). This combination cannot work.\n",
      "\n",
      "Only JavaScript callbacks may be used with standalone output. For more\n",
      "information on JavaScript callbacks with Bokeh, see:\n",
      "\n",
      "    https://docs.bokeh.org/en/latest/docs/user_guide/interaction/callbacks.html\n",
      "\n",
      "Alternatively, to use real Python callbacks, a Bokeh server application may\n",
      "be used. For more information on building and running Bokeh applications, see:\n",
      "\n",
      "    https://docs.bokeh.org/en/latest/docs/user_guide/server.html\n",
      "\n"
     ]
    },
    {
     "data": {
      "text/html": [
       "\n",
       "  <div id=\"c2cbfa62-6c81-488f-ae98-cd8caa72772b\" data-root-id=\"p1342\" style=\"display: contents;\"></div>\n"
      ]
     },
     "metadata": {},
     "output_type": "display_data"
    },
    {
     "data": {
      "application/javascript": [
       "(function(root) {\n",
       "  function embed_document(root) {\n",
       "  const docs_json = {\"dc92db63-5829-4d4e-ba38-1968f6a0e3c3\":{\"version\":\"3.1.0\",\"title\":\"Bokeh Application\",\"defs\":[],\"roots\":[{\"type\":\"object\",\"name\":\"Column\",\"id\":\"p1342\",\"attributes\":{\"children\":[{\"type\":\"object\",\"name\":\"Row\",\"id\":\"p1341\",\"attributes\":{\"children\":[{\"type\":\"object\",\"name\":\"Button\",\"id\":\"p1006\",\"attributes\":{\"button_type\":\"primary\",\"label\":\"Evict Rows from Selection\"}},{\"type\":\"object\",\"name\":\"Button\",\"id\":\"p1005\",\"attributes\":{\"button_type\":\"warning\",\"subscribed_events\":{\"type\":\"set\",\"entries\":[\"button_click\"]},\"label\":\"Update Row Values\"}}]}},{\"type\":\"object\",\"name\":\"DataTable\",\"id\":\"p1049\",\"attributes\":{\"source\":{\"type\":\"object\",\"name\":\"ColumnDataSource\",\"id\":\"p1038\",\"attributes\":{\"selected\":{\"type\":\"object\",\"name\":\"Selection\",\"id\":\"p1040\",\"attributes\":{\"indices\":[],\"line_indices\":[]}},\"selection_policy\":{\"type\":\"object\",\"name\":\"UnionRenderers\",\"id\":\"p1039\"},\"data\":{\"type\":\"map\",\"entries\":[[\"text\",[\"  It must be... ...I type it with my left hand.  Personally, I would have a real problem with my keyboard opened up like that, because I tend to share some keys with both hands, particularly if I'm doing something else with one hand (like using the cursor keys, mouse, or glass of Jolt).\",\": In article <11838@vice.ICO.TEK.COM>, bobbe@vice.ICO.TEK.COM (Robert : >   Someone spank me if I'm wrong, but didn't Lord, Liar, or Lunatic : >   originate with C.S. Lewis?  Who's this Campollo fellow anyway?  : I do think so, and isn't there a clear connection with the \\\"I do : believe, because it is absurd\\\" notion by one of the original : Christians (Origen?).  There is a similar statement attributed to Anselm, \\\"I believe so that I may understand\\\". In both cases reason is somewhat less exalted than anyone posting here could accept, which means that neither statement can be properly analysed in this venue.\",\"There are also a couple or three places on West 45th between Fifth and Sixth.    Harvey   -- \",\"We are trying to write a program which can read files created by quattro pro 3.0 and above.  Would anyone know where to find information regarding the format in which Quattro Pro stores its files.  Thanks in Advance Mahesh\",\"***************************************************************** *                                                               * *                        MONSTER RALLY!!                        * *          ==  For the Right to Own and Carry Weapons ==        * *                                                               * *    TOMORROW, Sunday, April 18, 1993, from 1:00 to 3:30 p.m.,  * *       the Denver LIBERTARIAN PARTY will sponsor a rally       * *              AT THE STATE CAPITOL in support of               * *         the individual right to own and carry weapons.        * *                                                               * * Speakers will include former Colorado deputy attorney general * *  DAVID KOPEL, radio host KEN HAMBLIN, DLP Chair DAVID SEGAL,  * * pistol instructor LENDA JACKSON, and novelist L. NEIL SMITH.  * *                                                               * * Your presence and participation are highly welcome.  For more * *       information call David Segal at (303) 296-4059.         * *                                                               * *****************************************************************  Cathy Smith\",\"I'm writing an X server for some video-generation equipment.  The hardware is \\\"truecolor\\\" in YUV space; in X terms it has a 24-bit static color visual.  I would really like to have the server just present this static visual, but I'm not sure if this will be  acceptable to \\\"most\\\" X clients.  The three problems I see are:    1) The colormap, though huge, is static.   2) All pixels would be 3 bytes wide.   3) Because the hardware actually lives in YUV space, the      translation RGB->YUV will introduce some rounding error.  Being more of a server guy than a client guy, I ask: will these limitations thwart many X clients?  Or will most of the X stuff floating around blithely accept what they're given?  I could write the server to also present a pseudocolor visual of, e.g., 8 bits,  but I'd rather avoid this if not necessary.  I know there are no absolutes, but I'd appreciate hearing people's opinions and suggestions.  Thanks! \",\" Some thoughts:  Has any work been done on encapsulating encrypted data inside \\\"non-encrypted\\\" data files?  Many file formats can be written with \\\"gaps\\\" in them to hide other data.  New file formats could be designed to have alternate data hidden by dispersing it amongst the \\\"legitimate\\\" data.  The hidden data would only show up with the right key(s), and a file with hidden data would be indistinguishable from one without.  So, only the correct key(s) would reveal the presence of an \\\"illegal\\\" document.  If I devise a custom file compression algorithm and only I and a friend have the uncompressor, and otherwise the file appears to be total gigerish, do I have the right to transmit the file?  Will we have to \\\"escrow\\\" all our data file formats?  Are gangs required to escrow their hand signals, colors and catch phrases?\",\"Archive-name: space/acronyms Edition: 8  Acronym List for sci.astro, sci.space, and sci.space.shuttle: Edition 8, 1992 Dec 7 Last posted: 1992 Aug 27  This list is offered as a reference for translating commonly appearing acronyms in the space-related newsgroups.  If I forgot or botched your favorite acronym, please let me know!  Also, if there's an acronym *not* on this list that confuses you, drop me a line, and if I can figure it out, I'll add it to the list.  Note that this is intended to be a reference for *frequently seen* acronyms, and is most emphatically *not* encyclopedic.  If I incorporated every acronym I ever saw, I'd soon run out of disk space!  :-)  The list will be posted at regular intervals, every 30 days.  All comments regarding it are welcome; I'm reachable as bradfrd2@ncar.ucar.edu.  Note that this just tells what the acronyms stand for -- you're on your own for figuring out what they *mean*!  Note also that the total number of acronyms in use far exceeds what I can list; special-purpose acronyms that are essentially always explained as they're introduced are omitted. Further, some acronyms stand for more than one thing; as of Edition 3 of the list, these acronyms appear on multiple lines, unless they're simply different ways of referring to the same thing.  Thanks to everybody who's sent suggestions since the first version of the list, and especially to Garrett A. Wollman (wollman@griffin.uvm.edu), who is maintaining an independent list, somewhat more verbose in character than mine, and to Daniel Fischer (dfi@specklec.mpifr-bonn.mpg.de), who is maintaining a truly HUGE list (535 at last count) of acronyms and terms, mostly in German (which I read, fortunately).  Special thanks this time to Ken Hollis at NASA, who sent me a copy of NASA Reference Publication 1059 Revised: _Space Transportation System and Associated Payloads: Glossary, Acronyms, and Abbreviations_, a truly mammoth tome -- almost 300 pages of TLAs.  Special Bonus!  At the end of this posting, you will find a perl program written by none other than Larry Wall, whose purpose is to scramble the acronym list in an entertaining fashion.  Thanks, Larry!  A&A: Astronomy and Astrophysics AAO: Anglo-Australian Observatory AAS: American Astronomical Society AAS: American Astronautical Society AAVSO: American Association of Variable Star Observers ACE: Advanced Composition Explorer ACRV: Assured Crew Return Vehicle (or) Astronaut Crew Rescue Vehicle ADFRF: Ames-Dryden Flight Research Facility (was DFRF) (NASA) AGN: Active Galactic Nucleus AGU: American Geophysical Union AIAA: American Institute of Aeronautics and Astronautics AIPS: Astronomical Image Processing System AJ: Astronomical Journal ALEXIS: Array of Low Energy X-ray Imaging Sensors ALPO: Association of Lunar and Planetary Observers ALS: Advanced Launch System ANSI: American National Standards Institute AOA: Abort Once Around (Shuttle abort plan) AOCS: Attitude and Orbit Control System Ap.J: Astrophysical Journal APM: Attached Pressurized Module (a.k.a. Columbus) APU: Auxiliary Power Unit ARC: Ames Research Center (NASA) ARTEMIS: Advanced Relay TEchnology MISsion ASA: Astronomical Society of the Atlantic ASI: Agenzia Spaziale Italiano ASRM: Advanced Solid Rocket Motor ATDRS: Advanced Tracking and Data Relay Satellite ATLAS: Atmospheric Laboratory for Applications and Science ATM: Amateur Telescope Maker ATO: Abort To Orbit (Shuttle abort plan) AU: Astronomical Unit AURA: Association of Universities for Research in Astronomy AW&ST: Aviation Week and Space Technology (a.k.a. AvLeak) AXAF: Advanced X-ray Astrophysics Facility BATSE: Burst And Transient Source Experiment (on CGRO) BBXRT: Broad-Band X-Ray Telescope (ASTRO package) BEM: Bug-Eyed Monster BH: Black Hole BIMA: Berkeley Illinois Maryland Array BNSC: British National Space Centre BTW: By The Way C&T: Communications & Tracking CCAFS: Cape Canaveral Air Force Station CCD: Charge-Coupled Device CCDS: Centers for the Commercial Development of Space CD-ROM: Compact Disk Read-Only Memory CFA: Center For Astrophysics CFC: ChloroFluoroCarbon CFF: Columbus Free Flyer CFHT: Canada-France-Hawaii Telescope CGRO: (Arthur Holley) Compton Gamma Ray Observatory (was GRO) CHARA: Center for High Angular Resolution Astronomy CIRRIS: Cryogenic InfraRed Radiance Instrument for Shuttle CIT: Circumstellar Imaging Telescope CM: Command Module (Apollo spacecraft) CMCC: Central Mission Control Centre (ESA) CNES: Centre National d'Etude Spatiales CNO: Carbon-Nitrogen-Oxygen CNSR: Comet Nucleus Sample Return COBE: COsmic Background Explorer COMPTEL: COMPton TELescope (on CGRO) COSTAR: Corrective Optics Space Telescope Axial Replacement CRAF: Comet Rendezvous / Asteroid Flyby CRRES: Combined Release / Radiation Effects Satellite CSM: Command and Service Module (Apollo spacecraft) CSTC: Consolidated Satellite Test Center (USAF) CTIO: Cerro Tololo Interamerican Observatory DCX: Delta Clipper eXperimental DDCU: DC-to-DC Converter Unit DFRF: Dryden Flight Research Facility (now ADFRF) DMSP: Defense Meteorological Satellite Program DOD: Department Of Defense (sometimes DoD) DOE: Department Of Energy DOT: Department Of Transportation DSCS: Defense Satellite Communications System DSN: Deep Space Network DSP: Defense Support Program (USAF/NRO) EAFB: Edwards Air Force Base ECS: Environmental Control System EDO: Extended Duration Orbiter EGRET: Energetic Gamma Ray Experiment Telescope (on CGRO) EJASA: Electronic Journal of the Astronomical Society of the Atlantic ELV: Expendable Launch Vehicle EMU: Extravehicular Mobility Unit EOS: Earth Observing System ERS: Earth Resources Satellite (as in ERS-1) ESA: European Space Agency ESO: European Southern Observatory ET: (Shuttle) External Tank ETLA: Extended Three Letter Acronym ETR: Eastern Test Range EUV: Extreme UltraViolet EUVE: Extreme UltraViolet Explorer EVA: ExtraVehicular Activity FAQ: Frequently Asked Questions FAST: Fast Auroral SnapshoT explorer FFT: Fast Fourier Transform FGS: Fine Guidance Sensors (on HST) FHST: Fixed Head Star Trackers (on HST) FIR: Far InfraRed FITS: Flexible Image Transport System FOC: Faint Object Camera (on HST) FOS: Faint Object Spectrograph (on HST) FRR: Flight-Readiness Review FTP: File Transfer Protocol FTS: Flight Telerobotic Servicer FUSE: Far Ultraviolet Spectroscopic Explorer FWHM: Full Width at Half Maximum FYI: For Your Information GAS: Get-Away Special GBT: Green Bank Telescope GCVS: General Catalog of Variable Stars GEM: Giotto Extended Mission GEO: Geosynchronous Earth Orbit GDS: Great Dark Spot GHRS: Goddard High Resolution Spectrograph (on HST) GIF: Graphics Interchange Format GLOMR: Global Low-Orbiting Message Relay GMC: Giant Molecular Cloud GMRT: Giant Meter-wave Radio Telescope GMT: Greenwich Mean Time (also called UT) GOES: Geostationary Orbiting Environmental Satellite GOX: Gaseous OXygen GPC: General Purpose Computer GPS: Global Positioning System GRO: Gamma Ray Observatory (now CGRO) GRS: Gamma Ray Spectrometer (on Mars Observer) GRS: Great Red Spot GSC: Guide Star Catalog (for HST) GSFC: Goddard Space Flight Center (NASA) GTO: Geostationary Transfer Orbit HAO: High Altitude Observatory HD: Henry Draper catalog entry HEAO: High Energy Astronomical Observatory HeRA: Hermes Robotic Arm HF: High Frequency HGA: High Gain Antenna HLC: Heavy Lift Capability HLV: Heavy Lift Vehicle HMC: Halley Multicolor Camera (on Giotto) HR: Hertzsprung-Russell (diagram) HRI: High Resolution Imager (on ROSAT) HSP: High Speed Photometer (on HST) HST: Hubble Space Telescope HUT: Hopkins Ultraviolet Telescope (ASTRO package) HV: High Voltage IAPPP: International Amateur/Professional Photoelectric Photometry IAU: International Astronomical Union IAUC: IAU Circular ICE: International Cometary Explorer IDA: International Dark-sky Association IDL: Interactive Data Language IGM: InterGalactic Medium IGY: International Geophysical Year IMHO: In My Humble Opinion IOTA: Infrared-Optical Telescope Array IOTA: International Occultation Timing Association IPS: Inertial Pointing System IR: InfraRed IRAF: Image Reduction and Analysis Facility IRAS: InfraRed Astronomical Satellite ISAS: Institute of Space and Astronautical Science (Japan) ISM: InterStellar Medium ISO: Infrared Space Observatory ISO: International Standards Organization ISPM: International Solar Polar Mission (now Ulysses) ISY: International Space Year IUE: International Ultraviolet Explorer IUS: Inertial Upper Stage JEM: Japanese Experiment Module (for SSF) JGR: Journal of Geophysical Research JILA: Joint Institute for Laboratory Astrophysics JPL: Jet Propulsion Laboratory JSC: Johnson Space Center (NASA) KAO: Kuiper Airborne Observatory KPNO: Kitt Peak National Observatory KSC: Kennedy Space Center (NASA) KTB: Cretaceous-Tertiary Boundary (from German) LANL: Los Alamos National Laboratory LaRC: Langley Research Center (NASA) LDEF: Long Duration Exposure Facility LEM: Lunar Excursion Module (a.k.a. LM) (Apollo spacecraft) LEO: Low Earth Orbit LeRC: Lewis Research Center (NASA) LEST: Large Earth-based Solar Telescope LFSA: List of Frequently Seen Acronyms (!) LGA: Low Gain Antenna LGM: Little Green Men LH: Liquid Hydrogen (also LH2 or LHX) LLNL: Lawrence-Livermore National Laboratory LM: Lunar Module (a.k.a. LEM) (Apollo spacecraft) LMC: Large Magellanic Cloud LN2: Liquid N2 (Nitrogen) LOX: Liquid OXygen LRB: Liquid Rocket Booster LSR: Local Standard of Rest LTP: Lunar Transient Phenomenon MB: Manned Base MCC: Mission Control Center MECO: Main Engine CutOff MMH: MonoMethyl Hydrazine MMT: Multiple Mirror Telescope MMU: Manned Maneuvering Unit MNRAS: Monthly Notices of the Royal Astronomical Society MOC: Mars Observer Camera (on Mars Observer) MOL: Manned Orbiting Laboratory MOLA: Mars Observer Laser Altimeter (on Mars Observer) MOMV: Manned Orbital Maneuvering Vehicle MOTV: Manned Orbital Transfer Vehicle MPC: Minor Planets Circular MRSR: Mars Rover and Sample Return MRSRM: Mars Rover and Sample Return Mission MSFC: (George C.) Marshall Space Flight Center (NASA) MTC: Man Tended Capability NACA: National Advisory Committee on Aeronautics (became NASA) NASA: National Aeronautics and Space Administration NASDA: NAtional Space Development Agency (Japan) NASM: National Air and Space Museum NASP: National AeroSpace Plane NBS: National Bureau of Standards (now NIST) NDV: NASP Derived Vehicle NERVA: Nuclear Engine for Rocket Vehicle Application NGC: New General Catalog NICMOS: Near Infrared Camera / Multi Object Spectrometer (HST upgrade) NIMS: Near-Infrared Mapping Spectrometer (on Galileo) NIR: Near InfraRed NIST: National Institute for Standards and Technology (was NBS) NLDP: National Launch Development Program NOAA: National Oceanic and Atmospheric Administration NOAO: National Optical Astronomy Observatories NRAO: National Radio Astronomy Observatory NRO: National Reconnaissance Office NS: Neutron Star NSA: National Security Agency NSF: National Science Foundation NSO: National Solar Observatory NSSDC: National Space Science Data Center NTR: Nuclear Thermal Rocket(ry) NTT: New Technology Telescope OAO: Orbiting Astronomical Observatory OCST: Office of Commercial Space Transportation OMB: Office of Management and Budget OMS: Orbital Maneuvering System OPF: Orbiter Processing Facility ORFEUS: Orbiting and Retrievable Far and Extreme Ultraviolet Spectrometer OSC: Orbital Sciences Corporation OSCAR: Orbiting Satellite Carrying Amateur Radio OSSA: Office of Space Science and Applications OSSE: Oriented Scintillation Spectrometer Experiment (on CGRO) OTA: Optical Telescope Assembly (on HST) OTHB: Over The Horizon Backscatter OTV: Orbital Transfer Vehicle OV: Orbital Vehicle PAM: Payload Assist Module PAM-D: Payload Assist Module, Delta-class PI: Principal Investigator PLSS: Portable Life Support System PM: Pressurized Module PMC: Permanently Manned Capability PMIRR: Pressure Modulated InfraRed Radiometer (on Mars Observer) PMT: PhotoMultiplier Tube PSF: Point Spread Function PSR: PulSaR PV: Photovoltaic PVO: Pioneer Venus Orbiter QSO: Quasi-Stellar Object RCI: Rodent Cage Interface (for SLS mission) RCS: Reaction Control System REM: Rat Enclosure Module (for SLS mission) RF: Radio Frequency RFI: Radio Frequency Interference RIACS: Research Institute for Advanced Computer Science RMS: Remote Manipulator System RNGC: Revised New General Catalog ROSAT: ROentgen SATellite ROUS: Rodents Of Unusual Size (I don't believe they exist) RSN: Real Soon Now RTG: Radioisotope Thermoelectric Generator RTLS: Return To Launch Site (Shuttle abort plan) SAA: South Atlantic Anomaly SAGA: Solar Array Gain Augmentation (for HST) SAMPEX: Solar Anomalous and Magnetospheric Particle EXplorer SAO: Smithsonian Astrophysical Observatory SAR: Search And Rescue SAR: Synthetic Aperture Radar SARA: Satellite pour Astronomie Radio Amateur SAREX: Search and Rescue Exercise SAREX: Shuttle Amateur Radio Experiment SAS: Space Activity Suit SAS: Space Adaptation Syndrome SAT: Synthetic Aperture Telescope S/C: SpaceCraft SCA: Shuttle Carrier Aircraft SCT: Schmidt-Cassegrain Telescope SDI: Strategic Defense Initiative SDIO: Strategic Defense Initiative Organization SEI: Space Exploration Initiative SEST: Swedish ESO Submillimeter Telescope SETI: Search for ExtraTerrestrial Intelligence SID: Sudden Ionospheric Disturbance SIR: Shuttle Imaging Radar SIRTF: Space (formerly Shuttle) InfraRed Telescope Facility SL: SpaceLab SLAR: Side-Looking Airborne Radar SLC: Space Launch Complex SLS: Space(lab) Life Sciences SMC: Small Magellanic Cloud SME: Solar Mesosphere Explorer SMEX: SMall EXplorers SMM: Solar Maximum Mission SN: SuperNova (e.g., SN1987A) SNR: Signal to Noise Ratio SNR: SuperNova Remnant SNU: Solar Neutrino Units SOFIA: Stratospheric Observatory For Infrared Astronomy SOHO: SOlar Heliospheric Observatory SPAN: Space Physics and Analysis Network SPDM: Special Purpose Dextrous Manipulator SPOT: Systeme Probatoire pour l'Observation de la Terre SPS: Solar Power Satellite SRB: Solid Rocket Booster SRM: Solid Rocket Motor SSF: Space Station Fred (er, Freedom) SSI: Solid-State Imager (on Galileo) SSI: Space Studies Institut SSME: Space Shuttle Main Engine SSPF: Space Station Processing Facility SSRMS: Space Station Remote Manipulator System SST: Spectroscopic Survey Telescope SST: SuperSonic Transport SSTO: Single Stage To Orbit STIS: Space Telescope Imaging Spectrometer (to replace FOC and GHRS) STS: Shuttle Transport System (or) Space Transportation System STScI: Space Telescope Science Institute SWAS: Submillimeter Wave Astronomy Satellite SWF: ShortWave Fading TAL: Transatlantic Abort Landing (Shuttle abort plan) TAU: Thousand Astronomical Unit (mission) TCS: Thermal Control System TDRS: Tracking and Data Relay Satellite TDRSS: Tracking and Data Relay Satellite System TES: Thermal Emission Spectrometer (on Mars Observer) TIROS: Television InfraRed Observation Satellite TLA: Three Letter Acronym TOMS: Total Ozone Mapping Spectrometer TPS: Thermal Protection System TSS: Tethered Satellite System UARS: Upper Atmosphere Research Satellite UBM: Unpressurized Berthing Mechanism UDMH: Unsymmetrical DiMethyl Hydrazine UFO: Unidentified Flying Object UGC: Uppsala General Catalog UHF: Ultra High Frequency UIT: Ultraviolet Imaging Telescope (Astro package) UKST: United Kingdom Schmidt Telescope USAF: United States Air Force USMP: United States Microgravity Payload UT: Universal Time (a.k.a. GMT, UTC, or Zulu Time) UTC: Coordinated Universal Time (a.k.a. UT) UV: UltraViolet UVS: UltraViolet Spectrometer VAB: Vehicle Assembly Building (formerly Vertical Assembly Building) VAFB: Vandenberg Air Force Base VEEGA: Venus-Earth-Earth Gravity Assist (Galileo flight path) VHF: Very High Frequency VLA: Very Large Array VLBA: Very Long Baseline Array VLBI: Very Long Baseline Interferometry VLF: Very Low Frequency VLT: Very Large Telescope VMS: Vertical Motion Simulator VOIR: Venus Orbiting Imaging Radar (superseded by VRM) VPF: Vertical Processing Facility VRM: Venus Radar Mapper (now called Magellan) WD: White Dwarf WFPC: Wide Field / Planetary Camera (on HST) WFPCII: Replacement for WFPC WIYN: Wisconsin / Indiana / Yale / NOAO telescope WSMR: White Sands Missile Range WTR: Western Test Range WUPPE: Wisconsin Ultraviolet PhotoPolarimter Experiment (Astro package) XMM: X-ray Multi Mirror XUV: eXtreme UltraViolet YSO: Young Stellar Object   #!/usr/bin/perl # 'alt', An Acronym Scrambling Program, by Larry Wall  $THRESHOLD = 2;  srand; while (<>) {     next unless /^([A-Z]\\\\S+): */;     $key = $1;     $acro{$key} = $';     @words = split(/\\\\W+/,$');     unshift(@words,$key);     $off = 0;     foreach $word (@words) {         next unless $word =~ /^[A-Z]/;         *w = $&;         vec($w{$word}, $off++ % 6, 1) = 1;     } }  foreach $letter (A .. Z) {     *w = $letter;     @w = keys %w;     if (@w < $THRESHOLD) {         @d = `egrep '^$letter' /usr/dict/words`;         chop @d;         push(@w, @d);     } }  foreach $key (sort keys %acro) {     $off = 0;     $acro = $acro{$key};     $acro =~ s/((([A-Z])[A-Z]*)[a-z]*)/ &pick($3, $2, $1, ++$off) || $& /eg;     print \\\"$key: $acro\\\"; }  sub pick {     local($letter, $prefix, $oldword, $off) = @_;     $i = 0;     if (length($prefix) > 1 && index($key,$prefix) < 0) {         if ($prefix eq $oldword) {             $prefix = '';         }         else {             $prefix = $letter;         }     }     if (length($prefix) > 1) {         local(*w) = substr($prefix,0,1);         do {             $word = $w[rand @w];         } until $word ne $oldword && $word =~ /^$prefix/i || ++$i > 30;         $word =~ s/^$prefix/$prefix/i;         $word;     }     elsif (length($prefix) == 1) {         local(*w) = $prefix;         do {             $word = $w[rand @w];         } until $word ne $oldword && vec($w{$word}, $off, 1) || ++$i > 10;         $word = \\\"\\\\u\\\\L$word\\\" if $word =~ tr/a-z/A-Z/;         $word;     }     else {         local(*w) = substr($oldword,0,1);         do {             $word = $w[rand @w];         } until $word ne $oldword && $word =~ tr/a-z/A-Z/ == 0 || ++$i > 30;         $word;     } } \",\"  nice theory.  too bad the MR2's never came with a four cylinder over 2.0 liters.  More like 1.6.  Or did they? were the nonturbo MR2II's  2.2 or some such?  I also understand that anyone using balancing shafts on four cylinders, must pay SAAB a royalty for using their patented design..like Porsche's 3.0 I4...\",\"A couple of weeks ago I posted a question concerning communicating between VB and MSACCESS using DDE. The answers I received at that time allowed me to get a prototype of my project working. However, during this process I have come up with new problems.  1) There seems to be a limit of 255 characters for a DDE Topic string. Is this inherent in all DDE systems or just peculiar to MSACCESS or VB?  2) It is easy to query an Access database from VB using the DDE SQL command, (provided the above limitation is overcome by using short field and table names) but how is one meant to update a database?    a) A DDE SQL UPDATE command does not seem to work.    b) Initiating an Access macro using a DDE Execute command from VB cannot       be used because when the macro requests information from VB using a       second DDE channel the programs dead lock until time- outs occur.       (The VB to Access channel has to close before the Access to VB channel       is initiated, I guess.)    c) Access does not allow VB to DDE POKE the information.      The way I eventually managed to update a database was by sending key-    strokes from VB to Access using the SendKeys command. This technique has    the problem that Access cannot be minimised and it must always be in a    state ready to respond to the sequence of key-strokes VB sends.  Are all the above statements correct or have I made incorrect assumptions? Are there any better work arounds to the above? Are there any signs of an ODBC driver for Access?\",\" The situation in this regard has changed considerably in recent years. See the discussion of \\\"high-power rocketry\\\" in the rec.models.rockets frequently-asked-questions list.  This is not hardware you can walk in off the street and buy; you need proper certification.  That can be had, mostly through Tripoli (the high- power analog of the NAR), although the NAR is cautiously moving to extend the upper boundaries of what it considers proper too.  You need special FAA authorization, but provided you aren't doing it under one of the LAX runway approaches or something stupid like that, it's not especially hard to arrange.  As with model rocketry, this sort of hardware is reasonably safe if handled properly.  Proper handling takes more care, and you need a lot more empty air to fly in, but it's basically just model rocketry scaled up.  As with model rocketry, the high-power people use factory-built engines, which eliminates the major safety hazard of do-it-yourself rocketry.\"]],[\"SUBSET\",[\"raw\",\"raw\",\"raw\",\"raw\",\"raw\",\"raw\",\"raw\",\"raw\",\"raw\",\"raw\",\"raw\"]],[\"label\",[\"ABSTAIN\",\"ABSTAIN\",\"ABSTAIN\",\"ABSTAIN\",\"ABSTAIN\",\"ABSTAIN\",\"ABSTAIN\",\"ABSTAIN\",\"ABSTAIN\",\"ABSTAIN\",\"ABSTAIN\"]]]}}},\"view\":{\"type\":\"object\",\"name\":\"CDSView\",\"id\":\"p1053\",\"attributes\":{\"filter\":{\"type\":\"object\",\"name\":\"AllIndices\",\"id\":\"p1054\"}}},\"columns\":[{\"type\":\"object\",\"name\":\"TableColumn\",\"id\":\"p1043\",\"attributes\":{\"field\":\"text\",\"title\":\"text\",\"formatter\":{\"type\":\"object\",\"name\":\"HTMLTemplateFormatter\",\"id\":\"p1042\",\"attributes\":{\"template\":\"<span href=\\\"#\\\" data-toggle=\\\"tooltip\\\" title=\\\"<%= value %>\\\"><%= value %></span>\"}},\"editor\":{\"type\":\"object\",\"name\":\"CellEditor\",\"id\":\"p1041\"}}},{\"type\":\"object\",\"name\":\"TableColumn\",\"id\":\"p1046\",\"attributes\":{\"field\":\"label\",\"title\":\"label\",\"formatter\":{\"type\":\"object\",\"name\":\"StringFormatter\",\"id\":\"p1047\"},\"editor\":{\"type\":\"object\",\"name\":\"StringEditor\",\"id\":\"p1048\"}}}],\"editable\":true,\"selectable\":\"checkbox\"}}]}}],\"callbacks\":{\"type\":\"map\"}}};\n",
       "  const render_items = [{\"docid\":\"dc92db63-5829-4d4e-ba38-1968f6a0e3c3\",\"roots\":{\"p1342\":\"c2cbfa62-6c81-488f-ae98-cd8caa72772b\"},\"root_ids\":[\"p1342\"]}];\n",
       "  root.Bokeh.embed.embed_items_notebook(docs_json, render_items);\n",
       "  }\n",
       "  if (root.Bokeh !== undefined) {\n",
       "    embed_document(root);\n",
       "  } else {\n",
       "    let attempts = 0;\n",
       "    const timer = setInterval(function(root) {\n",
       "      if (root.Bokeh !== undefined) {\n",
       "        clearInterval(timer);\n",
       "        embed_document(root);\n",
       "      } else {\n",
       "        attempts++;\n",
       "        if (attempts > 100) {\n",
       "          clearInterval(timer);\n",
       "          console.log(\"Bokeh: ERROR: Unable to run BokehJS code because BokehJS library is missing\");\n",
       "        }\n",
       "      }\n",
       "    }, 10, root)\n",
       "  }\n",
       "})(window);"
      ],
      "application/vnd.bokehjs_exec.v0+json": ""
     },
     "metadata": {
      "application/vnd.bokehjs_exec.v0+json": {
       "id": "p1342"
      }
     },
     "output_type": "display_data"
    }
   ],
   "source": [
    "show(column(\n",
    "    row(\n",
    "        dataset.selection_evictor,\n",
    "        dataset.selection_patcher,\n",
    "    ),\n",
    "    dataset.sel_table,\n",
    "), notebook_url=notebook_url)"
   ]
  },
  {
   "cell_type": "markdown",
   "id": "cfc3425a",
   "metadata": {},
   "source": [
    "<br>"
   ]
  }
 ],
 "metadata": {
  "language_info": {
   "codemirror_mode": {
    "name": "ipython",
    "version": 3
   },
   "file_extension": ".py",
   "mimetype": "text/x-python",
   "name": "python",
   "nbconvert_exporter": "python",
   "pygments_lexer": "ipython3",
   "version": "3.8.16"
  }
 },
 "nbformat": 4,
 "nbformat_minor": 5
}
