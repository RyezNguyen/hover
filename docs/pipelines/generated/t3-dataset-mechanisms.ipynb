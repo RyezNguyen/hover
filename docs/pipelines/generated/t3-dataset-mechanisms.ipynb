{
 "cells": [
  {
   "cell_type": "markdown",
   "id": "aa2869fc",
   "metadata": {},
   "source": [
    "> `SupervisableDataset` holds your data throughout the labeling process.\n",
    ">\n",
    "> :speedboat: Let's take a look at its core mechanisms.\n",
    "\n",
    "-   <details open><summary>This page addresses **single components** of `hover`</summary>\n",
    "    We are using code snippets to pick out parts of the annotation interface, so that the documentation can explain what they do.\n",
    "\n",
    "    -   Please be aware that this is NOT how one would typically use `hover`.\n",
    "    -   Typical usage deals with [recipes](../../tutorial/t1-active-learning) where the individual parts have been tied together.\n",
    "\n",
    "</details>\n",
    "\n",
    "-   <details open><summary>Dependencies for {== local environments ==}</summary>\n",
    "    When you run the code locally, you may need to install additional packages.\n",
    "\n",
    "    To render `bokeh` plots in Jupyter, you need:\n",
    "```shell\n",
    "    pip install jupyter_bokeh\n",
    "```\n",
    "\n",
    "    If you are using JupyterLab older than 3.0, use this instead ([reference](https://pypi.org/project/jupyter-bokeh/)):\n",
    "```shell\n",
    "    jupyter labextension install @jupyter-widgets/jupyterlab-manager\n",
    "    jupyter labextension install @bokeh/jupyter_bokeh\n",
    "```\n",
    "\n",
    "</details>\n",
    "\n",
    "## **Data Subsets**\n",
    "\n",
    "We place unlabeled data and labeled data in different subsets: \"raw\", \"train\", \"dev\", and \"test\". Unlabeled data start from the \"raw\" subset, and can be transferred to other subsets after it gets labeled.\n",
    "\n",
    "`SupervisableDataset` uses a \"population table\", `dataset.pop_table`, to show the size of each subset:"
   ]
  },
  {
   "cell_type": "code",
   "execution_count": 1,
   "id": "96a3bfe1",
   "metadata": {
    "execution": {
     "iopub.execute_input": "2023-03-07T02:00:54.689077Z",
     "iopub.status.busy": "2023-03-07T02:00:54.688833Z",
     "iopub.status.idle": "2023-03-07T02:00:56.305346Z",
     "shell.execute_reply": "2023-03-07T02:00:56.304677Z"
    }
   },
   "outputs": [
    {
     "data": {
      "text/html": [
       "<pre style=\"white-space:pre;overflow-x:auto;line-height:normal;font-family:Menlo,'DejaVu Sans Mono',consolas,'Courier New',monospace\"><span style=\"color: #000080; text-decoration-color: #000080\">🔵 SupervisableTextDataset: Initializing</span><span style=\"color: #808000; text-decoration-color: #808000\">...</span>\n",
       "</pre>\n"
      ],
      "text/plain": [
       "\u001b[34m🔵 SupervisableTextDataset: Initializing\u001b[0m\u001b[33m...\u001b[0m\n"
      ]
     },
     "metadata": {},
     "output_type": "display_data"
    },
    {
     "data": {
      "text/html": [
       "<pre style=\"white-space:pre;overflow-x:auto;line-height:normal;font-family:Menlo,'DejaVu Sans Mono',consolas,'Courier New',monospace\"><span style=\"color: #000080; text-decoration-color: #000080\">🔵 SupervisableTextDataset: Deduplicating</span><span style=\"color: #808000; text-decoration-color: #808000\">...</span>\n",
       "</pre>\n"
      ],
      "text/plain": [
       "\u001b[34m🔵 SupervisableTextDataset: Deduplicating\u001b[0m\u001b[33m...\u001b[0m\n"
      ]
     },
     "metadata": {},
     "output_type": "display_data"
    },
    {
     "data": {
      "text/html": [
       "<pre style=\"white-space:pre;overflow-x:auto;line-height:normal;font-family:Menlo,'DejaVu Sans Mono',consolas,'Courier New',monospace\"><span style=\"color: #000080; text-decoration-color: #000080\">🔵 SupervisableTextDataset: --subset raw rows: </span><span style=\"color: #008080; text-decoration-color: #008080; font-weight: bold\">400</span><span style=\"color: #000080; text-decoration-color: #000080\"> -&gt; </span><span style=\"color: #008080; text-decoration-color: #008080; font-weight: bold\">372</span><span style=\"color: #000080; text-decoration-color: #000080\">.</span>\n",
       "</pre>\n"
      ],
      "text/plain": [
       "\u001b[34m🔵 SupervisableTextDataset: --subset raw rows: \u001b[0m\u001b[1;36m400\u001b[0m\u001b[34m -> \u001b[0m\u001b[1;36m372\u001b[0m\u001b[34m.\u001b[0m\n"
      ]
     },
     "metadata": {},
     "output_type": "display_data"
    },
    {
     "data": {
      "text/html": [
       "<pre style=\"white-space:pre;overflow-x:auto;line-height:normal;font-family:Menlo,'DejaVu Sans Mono',consolas,'Courier New',monospace\"><span style=\"color: #000080; text-decoration-color: #000080\">🔵 SupervisableTextDataset: --subset train rows: </span><span style=\"color: #008080; text-decoration-color: #008080; font-weight: bold\">400</span><span style=\"color: #000080; text-decoration-color: #000080\"> -&gt; </span><span style=\"color: #008080; text-decoration-color: #008080; font-weight: bold\">375</span><span style=\"color: #000080; text-decoration-color: #000080\">.</span>\n",
       "</pre>\n"
      ],
      "text/plain": [
       "\u001b[34m🔵 SupervisableTextDataset: --subset train rows: \u001b[0m\u001b[1;36m400\u001b[0m\u001b[34m -> \u001b[0m\u001b[1;36m375\u001b[0m\u001b[34m.\u001b[0m\n"
      ]
     },
     "metadata": {},
     "output_type": "display_data"
    },
    {
     "data": {
      "text/html": [
       "<pre style=\"white-space:pre;overflow-x:auto;line-height:normal;font-family:Menlo,'DejaVu Sans Mono',consolas,'Courier New',monospace\"><span style=\"color: #000080; text-decoration-color: #000080\">🔵 SupervisableTextDataset: --subset dev rows: </span><span style=\"color: #008080; text-decoration-color: #008080; font-weight: bold\">100</span><span style=\"color: #000080; text-decoration-color: #000080\"> -&gt; </span><span style=\"color: #008080; text-decoration-color: #008080; font-weight: bold\">98</span><span style=\"color: #000080; text-decoration-color: #000080\">.</span>\n",
       "</pre>\n"
      ],
      "text/plain": [
       "\u001b[34m🔵 SupervisableTextDataset: --subset dev rows: \u001b[0m\u001b[1;36m100\u001b[0m\u001b[34m -> \u001b[0m\u001b[1;36m98\u001b[0m\u001b[34m.\u001b[0m\n"
      ]
     },
     "metadata": {},
     "output_type": "display_data"
    },
    {
     "data": {
      "text/html": [
       "<pre style=\"white-space:pre;overflow-x:auto;line-height:normal;font-family:Menlo,'DejaVu Sans Mono',consolas,'Courier New',monospace\"><span style=\"color: #000080; text-decoration-color: #000080\">🔵 SupervisableTextDataset: --subset test rows: </span><span style=\"color: #008080; text-decoration-color: #008080; font-weight: bold\">100</span><span style=\"color: #000080; text-decoration-color: #000080\"> -&gt; </span><span style=\"color: #008080; text-decoration-color: #008080; font-weight: bold\">100</span><span style=\"color: #000080; text-decoration-color: #000080\">.</span>\n",
       "</pre>\n"
      ],
      "text/plain": [
       "\u001b[34m🔵 SupervisableTextDataset: --subset test rows: \u001b[0m\u001b[1;36m100\u001b[0m\u001b[34m -> \u001b[0m\u001b[1;36m100\u001b[0m\u001b[34m.\u001b[0m\n"
      ]
     },
     "metadata": {},
     "output_type": "display_data"
    },
    {
     "data": {
      "text/html": [
       "<pre style=\"white-space:pre;overflow-x:auto;line-height:normal;font-family:Menlo,'DejaVu Sans Mono',consolas,'Courier New',monospace\"><span style=\"color: #008000; text-decoration-color: #008000\">🟢 SupervisableTextDataset: Set up label encoder/decoder with </span><span style=\"color: #008080; text-decoration-color: #008080; font-weight: bold\">20</span><span style=\"color: #008000; text-decoration-color: #008000\"> classes.</span>\n",
       "</pre>\n"
      ],
      "text/plain": [
       "\u001b[32m🟢 SupervisableTextDataset: Set up label encoder/decoder with \u001b[0m\u001b[1;36m20\u001b[0m\u001b[32m classes.\u001b[0m\n"
      ]
     },
     "metadata": {},
     "output_type": "display_data"
    },
    {
     "data": {
      "text/html": [
       "<pre style=\"white-space:pre;overflow-x:auto;line-height:normal;font-family:Menlo,'DejaVu Sans Mono',consolas,'Courier New',monospace\"><span style=\"color: #008000; text-decoration-color: #008000\">🟢 SupervisableTextDataset: Population updater: latest population with </span><span style=\"color: #008080; text-decoration-color: #008080; font-weight: bold\">20</span><span style=\"color: #008000; text-decoration-color: #008000\"> classes.</span>\n",
       "</pre>\n"
      ],
      "text/plain": [
       "\u001b[32m🟢 SupervisableTextDataset: Population updater: latest population with \u001b[0m\u001b[1;36m20\u001b[0m\u001b[32m classes.\u001b[0m\n"
      ]
     },
     "metadata": {},
     "output_type": "display_data"
    },
    {
     "data": {
      "text/html": [
       "<pre style=\"white-space:pre;overflow-x:auto;line-height:normal;font-family:Menlo,'DejaVu Sans Mono',consolas,'Courier New',monospace\"><span style=\"color: #008000; text-decoration-color: #008000\">🟢 SupervisableTextDataset: SupervisableTextDataset: finished initialization.</span>\n",
       "</pre>\n"
      ],
      "text/plain": [
       "\u001b[32m🟢 SupervisableTextDataset: SupervisableTextDataset: finished initialization.\u001b[0m\n"
      ]
     },
     "metadata": {},
     "output_type": "display_data"
    }
   ],
   "source": [
    "from hover.core.dataset import SupervisableTextDataset\n",
    "import pandas as pd\n",
    "\n",
    "raw_csv_path = \"https://raw.githubusercontent.com/phurwicz/hover-gallery/main/0.5.0/20_newsgroups_raw.csv\"\n",
    "train_csv_path = \"https://raw.githubusercontent.com/phurwicz/hover-gallery/main/0.5.0/20_newsgroups_train.csv\"\n",
    "\n",
    "# for fast, low-memory demonstration purpose, sample the data\n",
    "df_raw = pd.read_csv(raw_csv_path).sample(400)\n",
    "df_raw[\"SUBSET\"] = \"raw\"\n",
    "df_train = pd.read_csv(train_csv_path).sample(400)\n",
    "df_train[\"SUBSET\"] = \"train\"\n",
    "df_dev = pd.read_csv(train_csv_path).sample(100)\n",
    "df_dev[\"SUBSET\"] = \"dev\"\n",
    "df_test = pd.read_csv(train_csv_path).sample(100)\n",
    "df_test[\"SUBSET\"] = \"test\"\n",
    "\n",
    "# build overall dataframe and ensure feature type\n",
    "df = pd.concat([df_raw, df_train, df_dev, df_test])\n",
    "df[\"text\"] = df[\"text\"].astype(str)\n",
    "\n",
    "# this class stores the dataset throught the labeling process\n",
    "dataset = SupervisableTextDataset.from_pandas(df, feature_key=\"text\", label_key=\"label\")"
   ]
  },
  {
   "cell_type": "markdown",
   "id": "1970702b",
   "metadata": {},
   "source": [
    "<br>"
   ]
  },
  {
   "cell_type": "code",
   "execution_count": 2,
   "id": "1d8126fd",
   "metadata": {
    "execution": {
     "iopub.execute_input": "2023-03-07T02:00:56.308463Z",
     "iopub.status.busy": "2023-03-07T02:00:56.307973Z",
     "iopub.status.idle": "2023-03-07T02:00:56.391421Z",
     "shell.execute_reply": "2023-03-07T02:00:56.390651Z"
    }
   },
   "outputs": [
    {
     "data": {
      "text/html": [
       "<style>\n",
       "        .bk-notebook-logo {\n",
       "            display: block;\n",
       "            width: 20px;\n",
       "            height: 20px;\n",
       "            background-image: url(data:image/png;base64,iVBORw0KGgoAAAANSUhEUgAAABQAAAAUCAYAAACNiR0NAAAABHNCSVQICAgIfAhkiAAAAAlwSFlzAAALEgAACxIB0t1+/AAAABx0RVh0U29mdHdhcmUAQWRvYmUgRmlyZXdvcmtzIENTNui8sowAAAOkSURBVDiNjZRtaJVlGMd/1/08zzln5zjP1LWcU9N0NkN8m2CYjpgQYQXqSs0I84OLIC0hkEKoPtiH3gmKoiJDU7QpLgoLjLIQCpEsNJ1vqUOdO7ppbuec5+V+rj4ctwzd8IIbbi6u+8f1539dt3A78eXC7QizUF7gyV1fD1Yqg4JWz84yffhm0qkFqBogB9rM8tZdtwVsPUhWhGcFJngGeWrPzHm5oaMmkfEg1usvLFyc8jLRqDOMru7AyC8saQr7GG7f5fvDeH7Ej8CM66nIF+8yngt6HWaKh7k49Soy9nXurCi1o3qUbS3zWfrYeQDTB/Qj6kX6Ybhw4B+bOYoLKCC9H3Nu/leUTZ1JdRWkkn2ldcCamzrcf47KKXdAJllSlxAOkRgyHsGC/zRday5Qld9DyoM4/q/rUoy/CXh3jzOu3bHUVZeU+DEn8FInkPBFlu3+nW3Nw0mk6vCDiWg8CeJaxEwuHS3+z5RgY+YBR6V1Z1nxSOfoaPa4LASWxxdNp+VWTk7+4vzaou8v8PN+xo+KY2xsw6une2frhw05CTYOmQvsEhjhWjn0bmXPjpE1+kplmmkP3suftwTubK9Vq22qKmrBhpY4jvd5afdRA3wGjFAgcnTK2s4hY0/GPNIb0nErGMCRxWOOX64Z8RAC4oCXdklmEvcL8o0BfkNK4lUg9HTl+oPlQxdNo3Mg4Nv175e/1LDGzZen30MEjRUtmXSfiTVu1kK8W4txyV6BMKlbgk3lMwYCiusNy9fVfvvwMxv8Ynl6vxoByANLTWplvuj/nF9m2+PDtt1eiHPBr1oIfhCChQMBw6Aw0UulqTKZdfVvfG7VcfIqLG9bcldL/+pdWTLxLUy8Qq38heUIjh4XlzZxzQm19lLFlr8vdQ97rjZVOLf8nclzckbcD4wxXMidpX30sFd37Fv/GtwwhzhxGVAprjbg0gCAEeIgwCZyTV2Z1REEW8O4py0wsjeloKoMr6iCY6dP92H6Vw/oTyICIthibxjm/DfN9lVz8IqtqKYLUXfoKVMVQVVJOElGjrnnUt9T9wbgp8AyYKaGlqingHZU/uG2NTZSVqwHQTWkx9hxjkpWDaCg6Ckj5qebgBVbT3V3NNXMSiWSDdGV3hrtzla7J+duwPOToIg42ChPQOQjspnSlp1V+Gjdged7+8UN5CRAV7a5EdFNwCjEaBR27b3W890TE7g24NAP/mMDXRWrGoFPQI9ls/MWO2dWFAar/xcOIImbbpA3zgAAAABJRU5ErkJggg==);\n",
       "        }\n",
       "    </style>\n",
       "    <div>\n",
       "        <a href=\"https://bokeh.org\" target=\"_blank\" class=\"bk-notebook-logo\"></a>\n",
       "        <span id=\"p1055\">Loading BokehJS ...</span>\n",
       "    </div>\n"
      ]
     },
     "metadata": {},
     "output_type": "display_data"
    },
    {
     "data": {
      "application/javascript": [
       "(function(root) {\n",
       "  function now() {\n",
       "    return new Date();\n",
       "  }\n",
       "\n",
       "  const force = true;\n",
       "\n",
       "  if (typeof root._bokeh_onload_callbacks === \"undefined\" || force === true) {\n",
       "    root._bokeh_onload_callbacks = [];\n",
       "    root._bokeh_is_loading = undefined;\n",
       "  }\n",
       "\n",
       "const JS_MIME_TYPE = 'application/javascript';\n",
       "  const HTML_MIME_TYPE = 'text/html';\n",
       "  const EXEC_MIME_TYPE = 'application/vnd.bokehjs_exec.v0+json';\n",
       "  const CLASS_NAME = 'output_bokeh rendered_html';\n",
       "\n",
       "  /**\n",
       "   * Render data to the DOM node\n",
       "   */\n",
       "  function render(props, node) {\n",
       "    const script = document.createElement(\"script\");\n",
       "    node.appendChild(script);\n",
       "  }\n",
       "\n",
       "  /**\n",
       "   * Handle when an output is cleared or removed\n",
       "   */\n",
       "  function handleClearOutput(event, handle) {\n",
       "    const cell = handle.cell;\n",
       "\n",
       "    const id = cell.output_area._bokeh_element_id;\n",
       "    const server_id = cell.output_area._bokeh_server_id;\n",
       "    // Clean up Bokeh references\n",
       "    if (id != null && id in Bokeh.index) {\n",
       "      Bokeh.index[id].model.document.clear();\n",
       "      delete Bokeh.index[id];\n",
       "    }\n",
       "\n",
       "    if (server_id !== undefined) {\n",
       "      // Clean up Bokeh references\n",
       "      const cmd_clean = \"from bokeh.io.state import curstate; print(curstate().uuid_to_server['\" + server_id + \"'].get_sessions()[0].document.roots[0]._id)\";\n",
       "      cell.notebook.kernel.execute(cmd_clean, {\n",
       "        iopub: {\n",
       "          output: function(msg) {\n",
       "            const id = msg.content.text.trim();\n",
       "            if (id in Bokeh.index) {\n",
       "              Bokeh.index[id].model.document.clear();\n",
       "              delete Bokeh.index[id];\n",
       "            }\n",
       "          }\n",
       "        }\n",
       "      });\n",
       "      // Destroy server and session\n",
       "      const cmd_destroy = \"import bokeh.io.notebook as ion; ion.destroy_server('\" + server_id + \"')\";\n",
       "      cell.notebook.kernel.execute(cmd_destroy);\n",
       "    }\n",
       "  }\n",
       "\n",
       "  /**\n",
       "   * Handle when a new output is added\n",
       "   */\n",
       "  function handleAddOutput(event, handle) {\n",
       "    const output_area = handle.output_area;\n",
       "    const output = handle.output;\n",
       "\n",
       "    // limit handleAddOutput to display_data with EXEC_MIME_TYPE content only\n",
       "    if ((output.output_type != \"display_data\") || (!Object.prototype.hasOwnProperty.call(output.data, EXEC_MIME_TYPE))) {\n",
       "      return\n",
       "    }\n",
       "\n",
       "    const toinsert = output_area.element.find(\".\" + CLASS_NAME.split(' ')[0]);\n",
       "\n",
       "    if (output.metadata[EXEC_MIME_TYPE][\"id\"] !== undefined) {\n",
       "      toinsert[toinsert.length - 1].firstChild.textContent = output.data[JS_MIME_TYPE];\n",
       "      // store reference to embed id on output_area\n",
       "      output_area._bokeh_element_id = output.metadata[EXEC_MIME_TYPE][\"id\"];\n",
       "    }\n",
       "    if (output.metadata[EXEC_MIME_TYPE][\"server_id\"] !== undefined) {\n",
       "      const bk_div = document.createElement(\"div\");\n",
       "      bk_div.innerHTML = output.data[HTML_MIME_TYPE];\n",
       "      const script_attrs = bk_div.children[0].attributes;\n",
       "      for (let i = 0; i < script_attrs.length; i++) {\n",
       "        toinsert[toinsert.length - 1].firstChild.setAttribute(script_attrs[i].name, script_attrs[i].value);\n",
       "        toinsert[toinsert.length - 1].firstChild.textContent = bk_div.children[0].textContent\n",
       "      }\n",
       "      // store reference to server id on output_area\n",
       "      output_area._bokeh_server_id = output.metadata[EXEC_MIME_TYPE][\"server_id\"];\n",
       "    }\n",
       "  }\n",
       "\n",
       "  function register_renderer(events, OutputArea) {\n",
       "\n",
       "    function append_mime(data, metadata, element) {\n",
       "      // create a DOM node to render to\n",
       "      const toinsert = this.create_output_subarea(\n",
       "        metadata,\n",
       "        CLASS_NAME,\n",
       "        EXEC_MIME_TYPE\n",
       "      );\n",
       "      this.keyboard_manager.register_events(toinsert);\n",
       "      // Render to node\n",
       "      const props = {data: data, metadata: metadata[EXEC_MIME_TYPE]};\n",
       "      render(props, toinsert[toinsert.length - 1]);\n",
       "      element.append(toinsert);\n",
       "      return toinsert\n",
       "    }\n",
       "\n",
       "    /* Handle when an output is cleared or removed */\n",
       "    events.on('clear_output.CodeCell', handleClearOutput);\n",
       "    events.on('delete.Cell', handleClearOutput);\n",
       "\n",
       "    /* Handle when a new output is added */\n",
       "    events.on('output_added.OutputArea', handleAddOutput);\n",
       "\n",
       "    /**\n",
       "     * Register the mime type and append_mime function with output_area\n",
       "     */\n",
       "    OutputArea.prototype.register_mime_type(EXEC_MIME_TYPE, append_mime, {\n",
       "      /* Is output safe? */\n",
       "      safe: true,\n",
       "      /* Index of renderer in `output_area.display_order` */\n",
       "      index: 0\n",
       "    });\n",
       "  }\n",
       "\n",
       "  // register the mime type if in Jupyter Notebook environment and previously unregistered\n",
       "  if (root.Jupyter !== undefined) {\n",
       "    const events = require('base/js/events');\n",
       "    const OutputArea = require('notebook/js/outputarea').OutputArea;\n",
       "\n",
       "    if (OutputArea.prototype.mime_types().indexOf(EXEC_MIME_TYPE) == -1) {\n",
       "      register_renderer(events, OutputArea);\n",
       "    }\n",
       "  }\n",
       "  if (typeof (root._bokeh_timeout) === \"undefined\" || force === true) {\n",
       "    root._bokeh_timeout = Date.now() + 5000;\n",
       "    root._bokeh_failed_load = false;\n",
       "  }\n",
       "\n",
       "  const NB_LOAD_WARNING = {'data': {'text/html':\n",
       "     \"<div style='background-color: #fdd'>\\n\"+\n",
       "     \"<p>\\n\"+\n",
       "     \"BokehJS does not appear to have successfully loaded. If loading BokehJS from CDN, this \\n\"+\n",
       "     \"may be due to a slow or bad network connection. Possible fixes:\\n\"+\n",
       "     \"</p>\\n\"+\n",
       "     \"<ul>\\n\"+\n",
       "     \"<li>re-rerun `output_notebook()` to attempt to load from CDN again, or</li>\\n\"+\n",
       "     \"<li>use INLINE resources instead, as so:</li>\\n\"+\n",
       "     \"</ul>\\n\"+\n",
       "     \"<code>\\n\"+\n",
       "     \"from bokeh.resources import INLINE\\n\"+\n",
       "     \"output_notebook(resources=INLINE)\\n\"+\n",
       "     \"</code>\\n\"+\n",
       "     \"</div>\"}};\n",
       "\n",
       "  function display_loaded() {\n",
       "    const el = document.getElementById(\"p1055\");\n",
       "    if (el != null) {\n",
       "      el.textContent = \"BokehJS is loading...\";\n",
       "    }\n",
       "    if (root.Bokeh !== undefined) {\n",
       "      if (el != null) {\n",
       "        el.textContent = \"BokehJS \" + root.Bokeh.version + \" successfully loaded.\";\n",
       "      }\n",
       "    } else if (Date.now() < root._bokeh_timeout) {\n",
       "      setTimeout(display_loaded, 100)\n",
       "    }\n",
       "  }\n",
       "\n",
       "  function run_callbacks() {\n",
       "    try {\n",
       "      root._bokeh_onload_callbacks.forEach(function(callback) {\n",
       "        if (callback != null)\n",
       "          callback();\n",
       "      });\n",
       "    } finally {\n",
       "      delete root._bokeh_onload_callbacks\n",
       "    }\n",
       "    console.debug(\"Bokeh: all callbacks have finished\");\n",
       "  }\n",
       "\n",
       "  function load_libs(css_urls, js_urls, callback) {\n",
       "    if (css_urls == null) css_urls = [];\n",
       "    if (js_urls == null) js_urls = [];\n",
       "\n",
       "    root._bokeh_onload_callbacks.push(callback);\n",
       "    if (root._bokeh_is_loading > 0) {\n",
       "      console.debug(\"Bokeh: BokehJS is being loaded, scheduling callback at\", now());\n",
       "      return null;\n",
       "    }\n",
       "    if (js_urls == null || js_urls.length === 0) {\n",
       "      run_callbacks();\n",
       "      return null;\n",
       "    }\n",
       "    console.debug(\"Bokeh: BokehJS not loaded, scheduling load and callback at\", now());\n",
       "    root._bokeh_is_loading = css_urls.length + js_urls.length;\n",
       "\n",
       "    function on_load() {\n",
       "      root._bokeh_is_loading--;\n",
       "      if (root._bokeh_is_loading === 0) {\n",
       "        console.debug(\"Bokeh: all BokehJS libraries/stylesheets loaded\");\n",
       "        run_callbacks()\n",
       "      }\n",
       "    }\n",
       "\n",
       "    function on_error(url) {\n",
       "      console.error(\"failed to load \" + url);\n",
       "    }\n",
       "\n",
       "    for (let i = 0; i < css_urls.length; i++) {\n",
       "      const url = css_urls[i];\n",
       "      const element = document.createElement(\"link\");\n",
       "      element.onload = on_load;\n",
       "      element.onerror = on_error.bind(null, url);\n",
       "      element.rel = \"stylesheet\";\n",
       "      element.type = \"text/css\";\n",
       "      element.href = url;\n",
       "      console.debug(\"Bokeh: injecting link tag for BokehJS stylesheet: \", url);\n",
       "      document.body.appendChild(element);\n",
       "    }\n",
       "\n",
       "    for (let i = 0; i < js_urls.length; i++) {\n",
       "      const url = js_urls[i];\n",
       "      const element = document.createElement('script');\n",
       "      element.onload = on_load;\n",
       "      element.onerror = on_error.bind(null, url);\n",
       "      element.async = false;\n",
       "      element.src = url;\n",
       "      console.debug(\"Bokeh: injecting script tag for BokehJS library: \", url);\n",
       "      document.head.appendChild(element);\n",
       "    }\n",
       "  };\n",
       "\n",
       "  function inject_raw_css(css) {\n",
       "    const element = document.createElement(\"style\");\n",
       "    element.appendChild(document.createTextNode(css));\n",
       "    document.body.appendChild(element);\n",
       "  }\n",
       "\n",
       "  const js_urls = [\"https://cdn.bokeh.org/bokeh/release/bokeh-3.0.3.min.js\", \"https://cdn.bokeh.org/bokeh/release/bokeh-gl-3.0.3.min.js\", \"https://cdn.bokeh.org/bokeh/release/bokeh-widgets-3.0.3.min.js\", \"https://cdn.bokeh.org/bokeh/release/bokeh-tables-3.0.3.min.js\", \"https://cdn.bokeh.org/bokeh/release/bokeh-mathjax-3.0.3.min.js\"];\n",
       "  const css_urls = [];\n",
       "\n",
       "  const inline_js = [    function(Bokeh) {\n",
       "      Bokeh.set_log_level(\"info\");\n",
       "    },\n",
       "function(Bokeh) {\n",
       "    }\n",
       "  ];\n",
       "\n",
       "  function run_inline_js() {\n",
       "    if (root.Bokeh !== undefined || force === true) {\n",
       "          for (let i = 0; i < inline_js.length; i++) {\n",
       "      inline_js[i].call(root, root.Bokeh);\n",
       "    }\n",
       "if (force === true) {\n",
       "        display_loaded();\n",
       "      }} else if (Date.now() < root._bokeh_timeout) {\n",
       "      setTimeout(run_inline_js, 100);\n",
       "    } else if (!root._bokeh_failed_load) {\n",
       "      console.log(\"Bokeh: BokehJS failed to load within specified timeout.\");\n",
       "      root._bokeh_failed_load = true;\n",
       "    } else if (force !== true) {\n",
       "      const cell = $(document.getElementById(\"p1055\")).parents('.cell').data().cell;\n",
       "      cell.output_area.append_execute_result(NB_LOAD_WARNING)\n",
       "    }\n",
       "  }\n",
       "\n",
       "  if (root._bokeh_is_loading === 0) {\n",
       "    console.debug(\"Bokeh: BokehJS loaded, going straight to plotting\");\n",
       "    run_inline_js();\n",
       "  } else {\n",
       "    load_libs(css_urls, js_urls, function() {\n",
       "      console.debug(\"Bokeh: BokehJS plotting callback run at\", now());\n",
       "      run_inline_js();\n",
       "    });\n",
       "  }\n",
       "}(window));"
      ],
      "application/vnd.bokehjs_load.v0+json": "(function(root) {\n  function now() {\n    return new Date();\n  }\n\n  const force = true;\n\n  if (typeof root._bokeh_onload_callbacks === \"undefined\" || force === true) {\n    root._bokeh_onload_callbacks = [];\n    root._bokeh_is_loading = undefined;\n  }\n\n\n  if (typeof (root._bokeh_timeout) === \"undefined\" || force === true) {\n    root._bokeh_timeout = Date.now() + 5000;\n    root._bokeh_failed_load = false;\n  }\n\n  const NB_LOAD_WARNING = {'data': {'text/html':\n     \"<div style='background-color: #fdd'>\\n\"+\n     \"<p>\\n\"+\n     \"BokehJS does not appear to have successfully loaded. If loading BokehJS from CDN, this \\n\"+\n     \"may be due to a slow or bad network connection. Possible fixes:\\n\"+\n     \"</p>\\n\"+\n     \"<ul>\\n\"+\n     \"<li>re-rerun `output_notebook()` to attempt to load from CDN again, or</li>\\n\"+\n     \"<li>use INLINE resources instead, as so:</li>\\n\"+\n     \"</ul>\\n\"+\n     \"<code>\\n\"+\n     \"from bokeh.resources import INLINE\\n\"+\n     \"output_notebook(resources=INLINE)\\n\"+\n     \"</code>\\n\"+\n     \"</div>\"}};\n\n  function display_loaded() {\n    const el = document.getElementById(\"p1055\");\n    if (el != null) {\n      el.textContent = \"BokehJS is loading...\";\n    }\n    if (root.Bokeh !== undefined) {\n      if (el != null) {\n        el.textContent = \"BokehJS \" + root.Bokeh.version + \" successfully loaded.\";\n      }\n    } else if (Date.now() < root._bokeh_timeout) {\n      setTimeout(display_loaded, 100)\n    }\n  }\n\n  function run_callbacks() {\n    try {\n      root._bokeh_onload_callbacks.forEach(function(callback) {\n        if (callback != null)\n          callback();\n      });\n    } finally {\n      delete root._bokeh_onload_callbacks\n    }\n    console.debug(\"Bokeh: all callbacks have finished\");\n  }\n\n  function load_libs(css_urls, js_urls, callback) {\n    if (css_urls == null) css_urls = [];\n    if (js_urls == null) js_urls = [];\n\n    root._bokeh_onload_callbacks.push(callback);\n    if (root._bokeh_is_loading > 0) {\n      console.debug(\"Bokeh: BokehJS is being loaded, scheduling callback at\", now());\n      return null;\n    }\n    if (js_urls == null || js_urls.length === 0) {\n      run_callbacks();\n      return null;\n    }\n    console.debug(\"Bokeh: BokehJS not loaded, scheduling load and callback at\", now());\n    root._bokeh_is_loading = css_urls.length + js_urls.length;\n\n    function on_load() {\n      root._bokeh_is_loading--;\n      if (root._bokeh_is_loading === 0) {\n        console.debug(\"Bokeh: all BokehJS libraries/stylesheets loaded\");\n        run_callbacks()\n      }\n    }\n\n    function on_error(url) {\n      console.error(\"failed to load \" + url);\n    }\n\n    for (let i = 0; i < css_urls.length; i++) {\n      const url = css_urls[i];\n      const element = document.createElement(\"link\");\n      element.onload = on_load;\n      element.onerror = on_error.bind(null, url);\n      element.rel = \"stylesheet\";\n      element.type = \"text/css\";\n      element.href = url;\n      console.debug(\"Bokeh: injecting link tag for BokehJS stylesheet: \", url);\n      document.body.appendChild(element);\n    }\n\n    for (let i = 0; i < js_urls.length; i++) {\n      const url = js_urls[i];\n      const element = document.createElement('script');\n      element.onload = on_load;\n      element.onerror = on_error.bind(null, url);\n      element.async = false;\n      element.src = url;\n      console.debug(\"Bokeh: injecting script tag for BokehJS library: \", url);\n      document.head.appendChild(element);\n    }\n  };\n\n  function inject_raw_css(css) {\n    const element = document.createElement(\"style\");\n    element.appendChild(document.createTextNode(css));\n    document.body.appendChild(element);\n  }\n\n  const js_urls = [\"https://cdn.bokeh.org/bokeh/release/bokeh-3.0.3.min.js\", \"https://cdn.bokeh.org/bokeh/release/bokeh-gl-3.0.3.min.js\", \"https://cdn.bokeh.org/bokeh/release/bokeh-widgets-3.0.3.min.js\", \"https://cdn.bokeh.org/bokeh/release/bokeh-tables-3.0.3.min.js\", \"https://cdn.bokeh.org/bokeh/release/bokeh-mathjax-3.0.3.min.js\"];\n  const css_urls = [];\n\n  const inline_js = [    function(Bokeh) {\n      Bokeh.set_log_level(\"info\");\n    },\nfunction(Bokeh) {\n    }\n  ];\n\n  function run_inline_js() {\n    if (root.Bokeh !== undefined || force === true) {\n          for (let i = 0; i < inline_js.length; i++) {\n      inline_js[i].call(root, root.Bokeh);\n    }\nif (force === true) {\n        display_loaded();\n      }} else if (Date.now() < root._bokeh_timeout) {\n      setTimeout(run_inline_js, 100);\n    } else if (!root._bokeh_failed_load) {\n      console.log(\"Bokeh: BokehJS failed to load within specified timeout.\");\n      root._bokeh_failed_load = true;\n    } else if (force !== true) {\n      const cell = $(document.getElementById(\"p1055\")).parents('.cell').data().cell;\n      cell.output_area.append_execute_result(NB_LOAD_WARNING)\n    }\n  }\n\n  if (root._bokeh_is_loading === 0) {\n    console.debug(\"Bokeh: BokehJS loaded, going straight to plotting\");\n    run_inline_js();\n  } else {\n    load_libs(css_urls, js_urls, function() {\n      console.debug(\"Bokeh: BokehJS plotting callback run at\", now());\n      run_inline_js();\n    });\n  }\n}(window));"
     },
     "metadata": {},
     "output_type": "display_data"
    },
    {
     "data": {
      "text/html": [
       "\n",
       "  <div id=\"a5b5df32-cca8-4aef-a330-67a6b38d5c6e\" data-root-id=\"p1032\" style=\"display: contents;\"></div>\n"
      ]
     },
     "metadata": {},
     "output_type": "display_data"
    },
    {
     "data": {
      "application/javascript": [
       "(function(root) {\n",
       "  function embed_document(root) {\n",
       "  const docs_json = {\"9be6a1ad-3904-43ec-9b9c-af5ee3a8e8a5\":{\"version\":\"3.0.3\",\"title\":\"Bokeh Application\",\"defs\":[],\"roots\":[{\"type\":\"object\",\"name\":\"DataTable\",\"id\":\"p1032\",\"attributes\":{\"source\":{\"type\":\"object\",\"name\":\"ColumnDataSource\",\"id\":\"p1010\",\"attributes\":{\"selected\":{\"type\":\"object\",\"name\":\"Selection\",\"id\":\"p1012\",\"attributes\":{\"indices\":[],\"line_indices\":[]}},\"selection_policy\":{\"type\":\"object\",\"name\":\"UnionRenderers\",\"id\":\"p1011\"},\"data\":{\"type\":\"map\",\"entries\":[[\"color\",[\"#dcdcdc\",\"#3c358b\",\"#4456c7\",\"#4675ed\",\"#4193fe\",\"#2fb1f3\",\"#1bcfd4\",\"#1ae4b6\",\"#35f394\",\"#61fc6c\",\"#8efe48\",\"#b3f835\",\"#d1e834\",\"#ead339\",\"#f9ba38\",\"#fe9b2d\",\"#f8741c\",\"#ec520e\",\"#d93806\",\"#c02302\",\"#a01101\"]],[\"label\",[\"ABSTAIN\",\"alt.atheism\",\"comp.graphics\",\"comp.os.ms-windows.misc\",\"comp.sys.ibm.pc.hardware\",\"comp.sys.mac.hardware\",\"comp.windows.x\",\"misc.forsale\",\"rec.autos\",\"rec.motorcycles\",\"rec.sport.baseball\",\"rec.sport.hockey\",\"sci.crypt\",\"sci.electronics\",\"sci.med\",\"sci.space\",\"soc.religion.christian\",\"talk.politics.guns\",\"talk.politics.mideast\",\"talk.politics.misc\",\"talk.religion.misc\"]],[\"count_raw\",[372,0,0,0,0,0,0,0,0,0,0,0,0,0,0,0,0,0,0,0,0]],[\"count_train\",[0,21,15,28,19,26,24,14,26,22,15,19,19,20,20,19,11,19,16,12,10]],[\"count_dev\",[0,4,11,4,4,0,5,7,4,7,7,6,6,2,6,4,7,2,4,7,1]],[\"count_test\",[0,6,6,4,9,6,6,1,3,4,8,2,6,4,5,2,4,9,9,4,2]]]}}},\"view\":{\"type\":\"object\",\"name\":\"CDSView\",\"id\":\"p1036\",\"attributes\":{\"filter\":{\"type\":\"object\",\"name\":\"AllIndices\",\"id\":\"p1037\"}}},\"columns\":[{\"type\":\"object\",\"name\":\"TableColumn\",\"id\":\"p1013\",\"attributes\":{\"field\":\"label\",\"title\":\"label\",\"formatter\":{\"type\":\"object\",\"name\":\"StringFormatter\",\"id\":\"p1015\"},\"editor\":{\"type\":\"object\",\"name\":\"StringEditor\",\"id\":\"p1014\"}}},{\"type\":\"object\",\"name\":\"TableColumn\",\"id\":\"p1016\",\"attributes\":{\"field\":\"count_raw\",\"title\":\"raw\",\"formatter\":{\"type\":\"object\",\"name\":\"StringFormatter\",\"id\":\"p1018\"},\"editor\":{\"type\":\"object\",\"name\":\"StringEditor\",\"id\":\"p1017\"}}},{\"type\":\"object\",\"name\":\"TableColumn\",\"id\":\"p1019\",\"attributes\":{\"field\":\"count_train\",\"title\":\"train\",\"formatter\":{\"type\":\"object\",\"name\":\"StringFormatter\",\"id\":\"p1021\"},\"editor\":{\"type\":\"object\",\"name\":\"StringEditor\",\"id\":\"p1020\"}}},{\"type\":\"object\",\"name\":\"TableColumn\",\"id\":\"p1022\",\"attributes\":{\"field\":\"count_dev\",\"title\":\"dev\",\"formatter\":{\"type\":\"object\",\"name\":\"StringFormatter\",\"id\":\"p1024\"},\"editor\":{\"type\":\"object\",\"name\":\"StringEditor\",\"id\":\"p1023\"}}},{\"type\":\"object\",\"name\":\"TableColumn\",\"id\":\"p1025\",\"attributes\":{\"field\":\"count_test\",\"title\":\"test\",\"formatter\":{\"type\":\"object\",\"name\":\"StringFormatter\",\"id\":\"p1027\"},\"editor\":{\"type\":\"object\",\"name\":\"StringEditor\",\"id\":\"p1026\"}}},{\"type\":\"object\",\"name\":\"TableColumn\",\"id\":\"p1029\",\"attributes\":{\"field\":\"color\",\"title\":\"color\",\"formatter\":{\"type\":\"object\",\"name\":\"HTMLTemplateFormatter\",\"id\":\"p1028\",\"attributes\":{\"template\":\"\\n<p style=\\\"color:<%= value %>;\\\">\\n    <%= \\\"&#9608;&#9608;&#9608;\\\" %>\\n</p>\\n\"}},\"editor\":{\"type\":\"object\",\"name\":\"StringEditor\",\"id\":\"p1031\"}}}]}}]}};\n",
       "  const render_items = [{\"docid\":\"9be6a1ad-3904-43ec-9b9c-af5ee3a8e8a5\",\"roots\":{\"p1032\":\"a5b5df32-cca8-4aef-a330-67a6b38d5c6e\"},\"root_ids\":[\"p1032\"]}];\n",
       "  root.Bokeh.embed.embed_items_notebook(docs_json, render_items);\n",
       "  }\n",
       "  if (root.Bokeh !== undefined) {\n",
       "    embed_document(root);\n",
       "  } else {\n",
       "    let attempts = 0;\n",
       "    const timer = setInterval(function(root) {\n",
       "      if (root.Bokeh !== undefined) {\n",
       "        clearInterval(timer);\n",
       "        embed_document(root);\n",
       "      } else {\n",
       "        attempts++;\n",
       "        if (attempts > 100) {\n",
       "          clearInterval(timer);\n",
       "          console.log(\"Bokeh: ERROR: Unable to run BokehJS code because BokehJS library is missing\");\n",
       "        }\n",
       "      }\n",
       "    }, 10, root)\n",
       "  }\n",
       "})(window);"
      ],
      "application/vnd.bokehjs_exec.v0+json": ""
     },
     "metadata": {
      "application/vnd.bokehjs_exec.v0+json": {
       "id": "p1032"
      }
     },
     "output_type": "display_data"
    }
   ],
   "source": [
    "from bokeh.io import show, output_notebook\n",
    "\n",
    "output_notebook()\n",
    "\n",
    "# normally your would skip notebook_url or use Jupyter address\n",
    "notebook_url = 'localhost:8888'\n",
    "\n",
    "show(dataset.pop_table, notebook_url=notebook_url)"
   ]
  },
  {
   "cell_type": "markdown",
   "id": "0ce38f15",
   "metadata": {},
   "source": [
    "<br>\n",
    "\n",
    "### **Transfer Data Between Subsets**\n",
    "\n",
    "`COMMIT` and `DEDUP` are the mechanisms that `hover` uses to transfer data between subsets.\n",
    "\n",
    "-   `COMMIT` copies selected points (to be discussed later) to a destination subset\n",
    "    -   labeled-raw-only: `COMMIT` automatically detects which points are in the raw set with a valid label. Other points will not get copied.\n",
    "    -   keep-last: you can commit the same point to the same subset multiple times and the last copy will be kept. This can be useful for revising labels before `DEDUP`.\n",
    "-   `DEDUP` removes duplicates (identified by feature value) across subsets\n",
    "    -   priority rule: test > dev > train > raw, i.e. test set data always gets kept during deduplication\n",
    "\n",
    "-   <details open><summary>FAQ</summary>\n",
    "    <details open><summary>Why does COMMIT only work on the raw subset?</summary>\n",
    "        Most selections will happen through plots, where different subsets are on top of each other. This means selections can contain both unlabeled and labeled points.\n",
    "\n",
    "        Way too often we find ourselves trying to view both the labeled and the unlabeled, but only moving the unlabeled \"raw\" points. So it's handy that COMMIT picks those points only.\n",
    "    </details>\n",
    "\n",
    "</details>\n",
    "\n",
    "These mechanisms correspond to buttons in `hover`'s annotation interface, which you have encountered in the quickstart:"
   ]
  },
  {
   "cell_type": "code",
   "execution_count": 3,
   "id": "81f2bb7e",
   "metadata": {
    "execution": {
     "iopub.execute_input": "2023-03-07T02:00:56.394521Z",
     "iopub.status.busy": "2023-03-07T02:00:56.394272Z",
     "iopub.status.idle": "2023-03-07T02:00:56.441095Z",
     "shell.execute_reply": "2023-03-07T02:00:56.439833Z"
    }
   },
   "outputs": [
    {
     "name": "stderr",
     "output_type": "stream",
     "text": [
      "WARNING:bokeh.embed.util:\n",
      "You are generating standalone HTML/JS output, but trying to use real Python\n",
      "callbacks (i.e. with on_change or on_event). This combination cannot work.\n",
      "\n",
      "Only JavaScript callbacks may be used with standalone output. For more\n",
      "information on JavaScript callbacks with Bokeh, see:\n",
      "\n",
      "    https://docs.bokeh.org/en/latest/docs/user_guide/interaction/callbacks.html\n",
      "\n",
      "Alternatively, to use real Python callbacks, a Bokeh server application may\n",
      "be used. For more information on building and running Bokeh applications, see:\n",
      "\n",
      "    https://docs.bokeh.org/en/latest/docs/user_guide/server.html\n",
      "\n"
     ]
    },
    {
     "data": {
      "text/html": [
       "\n",
       "  <div id=\"4c82b033-8496-43c4-a323-718296890c80\" data-root-id=\"p1153\" style=\"display: contents;\"></div>\n"
      ]
     },
     "metadata": {},
     "output_type": "display_data"
    },
    {
     "data": {
      "application/javascript": [
       "(function(root) {\n",
       "  function embed_document(root) {\n",
       "  const docs_json = {\"72288972-4188-44e9-81a3-28fd2a1373fe\":{\"version\":\"3.0.3\",\"title\":\"Bokeh Application\",\"defs\":[],\"roots\":[{\"type\":\"object\",\"name\":\"Column\",\"id\":\"p1153\",\"attributes\":{\"children\":[{\"type\":\"object\",\"name\":\"Row\",\"id\":\"p1152\",\"attributes\":{\"children\":[{\"type\":\"object\",\"name\":\"Dropdown\",\"id\":\"p1002\",\"attributes\":{\"button_type\":\"warning\",\"subscribed_events\":{\"type\":\"set\",\"entries\":[\"button_click\",\"menu_item_click\"]},\"label\":\"Commit\",\"menu\":[\"train\",\"dev\",\"test\"]}},{\"type\":\"object\",\"name\":\"Button\",\"id\":\"p1003\",\"attributes\":{\"button_type\":\"warning\",\"subscribed_events\":{\"type\":\"set\",\"entries\":[\"button_click\"]},\"label\":\"Dedup\"}}]}},{\"type\":\"object\",\"name\":\"DataTable\",\"id\":\"p1032\",\"attributes\":{\"source\":{\"type\":\"object\",\"name\":\"ColumnDataSource\",\"id\":\"p1010\",\"attributes\":{\"selected\":{\"type\":\"object\",\"name\":\"Selection\",\"id\":\"p1012\",\"attributes\":{\"indices\":[],\"line_indices\":[]}},\"selection_policy\":{\"type\":\"object\",\"name\":\"UnionRenderers\",\"id\":\"p1011\"},\"data\":{\"type\":\"map\",\"entries\":[[\"color\",[\"#dcdcdc\",\"#3c358b\",\"#4456c7\",\"#4675ed\",\"#4193fe\",\"#2fb1f3\",\"#1bcfd4\",\"#1ae4b6\",\"#35f394\",\"#61fc6c\",\"#8efe48\",\"#b3f835\",\"#d1e834\",\"#ead339\",\"#f9ba38\",\"#fe9b2d\",\"#f8741c\",\"#ec520e\",\"#d93806\",\"#c02302\",\"#a01101\"]],[\"label\",[\"ABSTAIN\",\"alt.atheism\",\"comp.graphics\",\"comp.os.ms-windows.misc\",\"comp.sys.ibm.pc.hardware\",\"comp.sys.mac.hardware\",\"comp.windows.x\",\"misc.forsale\",\"rec.autos\",\"rec.motorcycles\",\"rec.sport.baseball\",\"rec.sport.hockey\",\"sci.crypt\",\"sci.electronics\",\"sci.med\",\"sci.space\",\"soc.religion.christian\",\"talk.politics.guns\",\"talk.politics.mideast\",\"talk.politics.misc\",\"talk.religion.misc\"]],[\"count_raw\",[372,0,0,0,0,0,0,0,0,0,0,0,0,0,0,0,0,0,0,0,0]],[\"count_train\",[0,21,15,28,19,26,24,14,26,22,15,19,19,20,20,19,11,19,16,12,10]],[\"count_dev\",[0,4,11,4,4,0,5,7,4,7,7,6,6,2,6,4,7,2,4,7,1]],[\"count_test\",[0,6,6,4,9,6,6,1,3,4,8,2,6,4,5,2,4,9,9,4,2]]]}}},\"view\":{\"type\":\"object\",\"name\":\"CDSView\",\"id\":\"p1036\",\"attributes\":{\"filter\":{\"type\":\"object\",\"name\":\"AllIndices\",\"id\":\"p1037\"}}},\"columns\":[{\"type\":\"object\",\"name\":\"TableColumn\",\"id\":\"p1013\",\"attributes\":{\"field\":\"label\",\"title\":\"label\",\"formatter\":{\"type\":\"object\",\"name\":\"StringFormatter\",\"id\":\"p1015\"},\"editor\":{\"type\":\"object\",\"name\":\"StringEditor\",\"id\":\"p1014\"}}},{\"type\":\"object\",\"name\":\"TableColumn\",\"id\":\"p1016\",\"attributes\":{\"field\":\"count_raw\",\"title\":\"raw\",\"formatter\":{\"type\":\"object\",\"name\":\"StringFormatter\",\"id\":\"p1018\"},\"editor\":{\"type\":\"object\",\"name\":\"StringEditor\",\"id\":\"p1017\"}}},{\"type\":\"object\",\"name\":\"TableColumn\",\"id\":\"p1019\",\"attributes\":{\"field\":\"count_train\",\"title\":\"train\",\"formatter\":{\"type\":\"object\",\"name\":\"StringFormatter\",\"id\":\"p1021\"},\"editor\":{\"type\":\"object\",\"name\":\"StringEditor\",\"id\":\"p1020\"}}},{\"type\":\"object\",\"name\":\"TableColumn\",\"id\":\"p1022\",\"attributes\":{\"field\":\"count_dev\",\"title\":\"dev\",\"formatter\":{\"type\":\"object\",\"name\":\"StringFormatter\",\"id\":\"p1024\"},\"editor\":{\"type\":\"object\",\"name\":\"StringEditor\",\"id\":\"p1023\"}}},{\"type\":\"object\",\"name\":\"TableColumn\",\"id\":\"p1025\",\"attributes\":{\"field\":\"count_test\",\"title\":\"test\",\"formatter\":{\"type\":\"object\",\"name\":\"StringFormatter\",\"id\":\"p1027\"},\"editor\":{\"type\":\"object\",\"name\":\"StringEditor\",\"id\":\"p1026\"}}},{\"type\":\"object\",\"name\":\"TableColumn\",\"id\":\"p1029\",\"attributes\":{\"field\":\"color\",\"title\":\"color\",\"formatter\":{\"type\":\"object\",\"name\":\"HTMLTemplateFormatter\",\"id\":\"p1028\",\"attributes\":{\"template\":\"\\n<p style=\\\"color:<%= value %>;\\\">\\n    <%= \\\"&#9608;&#9608;&#9608;\\\" %>\\n</p>\\n\"}},\"editor\":{\"type\":\"object\",\"name\":\"StringEditor\",\"id\":\"p1031\"}}}]}}]}}]}};\n",
       "  const render_items = [{\"docid\":\"72288972-4188-44e9-81a3-28fd2a1373fe\",\"roots\":{\"p1153\":\"4c82b033-8496-43c4-a323-718296890c80\"},\"root_ids\":[\"p1153\"]}];\n",
       "  root.Bokeh.embed.embed_items_notebook(docs_json, render_items);\n",
       "  }\n",
       "  if (root.Bokeh !== undefined) {\n",
       "    embed_document(root);\n",
       "  } else {\n",
       "    let attempts = 0;\n",
       "    const timer = setInterval(function(root) {\n",
       "      if (root.Bokeh !== undefined) {\n",
       "        clearInterval(timer);\n",
       "        embed_document(root);\n",
       "      } else {\n",
       "        attempts++;\n",
       "        if (attempts > 100) {\n",
       "          clearInterval(timer);\n",
       "          console.log(\"Bokeh: ERROR: Unable to run BokehJS code because BokehJS library is missing\");\n",
       "        }\n",
       "      }\n",
       "    }, 10, root)\n",
       "  }\n",
       "})(window);"
      ],
      "application/vnd.bokehjs_exec.v0+json": ""
     },
     "metadata": {
      "application/vnd.bokehjs_exec.v0+json": {
       "id": "p1153"
      }
     },
     "output_type": "display_data"
    }
   ],
   "source": [
    "from bokeh.layouts import row, column\n",
    "\n",
    "show(column(\n",
    "    row(\n",
    "        dataset.data_committer,\n",
    "        dataset.dedup_trigger,\n",
    "    ),\n",
    "    dataset.pop_table,\n",
    "), notebook_url=notebook_url)"
   ]
  },
  {
   "cell_type": "markdown",
   "id": "9b9d15c8",
   "metadata": {},
   "source": [
    "<br>\n",
    "\n",
    "Of course, so far we have nothing to move, because there's no data selected. We shall now discuss selections.\n",
    "\n",
    "## **Selection**\n",
    "\n",
    "`hover` labels data points in bulk, which requires selecting groups of homogeneous data, i.e. semantically similar or going to have the same label. Being able to skim through what you selected gives you confidence about homogeneity.\n",
    "\n",
    "Normally, selection happens through a plot (`explorer`), as we have seen in the quickstart. For the purpose here, we will \"cheat\" and assign the selection programmatically:"
   ]
  },
  {
   "cell_type": "code",
   "execution_count": 4,
   "id": "50a8d49d",
   "metadata": {
    "execution": {
     "iopub.execute_input": "2023-03-07T02:00:56.444821Z",
     "iopub.status.busy": "2023-03-07T02:00:56.444358Z",
     "iopub.status.idle": "2023-03-07T02:00:56.478467Z",
     "shell.execute_reply": "2023-03-07T02:00:56.477821Z"
    }
   },
   "outputs": [
    {
     "data": {
      "text/html": [
       "<pre style=\"white-space:pre;overflow-x:auto;line-height:normal;font-family:Menlo,'DejaVu Sans Mono',consolas,'Courier New',monospace\"><span style=\"color: #008000; text-decoration-color: #008000\">🟢 SupervisableTextDataset: Selection table: latest selection with </span><span style=\"color: #008080; text-decoration-color: #008080; font-weight: bold\">11</span><span style=\"color: #008000; text-decoration-color: #008000\"> entries.</span>\n",
       "</pre>\n"
      ],
      "text/plain": [
       "\u001b[32m🟢 SupervisableTextDataset: Selection table: latest selection with \u001b[0m\u001b[1;36m11\u001b[0m\u001b[32m entries.\u001b[0m\n"
      ]
     },
     "metadata": {},
     "output_type": "display_data"
    },
    {
     "data": {
      "text/html": [
       "\n",
       "  <div id=\"55cee523-57ae-494e-b460-8ba2fe48a6ce\" data-root-id=\"p1049\" style=\"display: contents;\"></div>\n"
      ]
     },
     "metadata": {},
     "output_type": "display_data"
    },
    {
     "data": {
      "application/javascript": [
       "(function(root) {\n",
       "  function embed_document(root) {\n",
       "  const docs_json = {\"db728e09-5908-4a25-9f2e-3c78d098e70b\":{\"version\":\"3.0.3\",\"title\":\"Bokeh Application\",\"defs\":[],\"roots\":[{\"type\":\"object\",\"name\":\"DataTable\",\"id\":\"p1049\",\"attributes\":{\"source\":{\"type\":\"object\",\"name\":\"ColumnDataSource\",\"id\":\"p1038\",\"attributes\":{\"selected\":{\"type\":\"object\",\"name\":\"Selection\",\"id\":\"p1040\",\"attributes\":{\"indices\":[],\"line_indices\":[]}},\"selection_policy\":{\"type\":\"object\",\"name\":\"UnionRenderers\",\"id\":\"p1039\"},\"data\":{\"type\":\"map\",\"entries\":[[\"text\",[\" Not particularly *in* the World Series. During the season, he was probably more valuable than, say, putting Olerud out there to pitch, but yeah, he *was* valuable in getting them there. In the postseason, he sucked dirty canal water through a straw. The Jays won *in spite* of Morris much more than *because of* him.   Umm, Roger? Return with us to those halcyon days of a few postings ago, where the poster Valentine was replying to used # of WS rings as a measure of better. The concept is called \\\"context\\\", and you should really become familiar with it someday.   Unless this transaltes to \\\"Clemens hasn't gone into Lou Gorman's office with a large caliber handgun and refused to come out until he'd been traded to the Jays,\\\" I'm at a complete loss as to any possible meaning for it.   What on earth does this mean? Over their careers, Clemens has \\\"won\\\" 68% of the games he's started, Morris 58%. Per year, Clemens has averaged nearly 17 wins, Morris just under 15. Would you grant the proposition that preventing the other team from scoring increases your chances of winning  a game? If so, then consider that Clemens allows 2.8 runs/9 innings pitched. Morris allows nearly a run more per nine innings. In fact, Jack Morris has never in his career had an ERA for a single year as good as Clemens' career ERA. But I forget, in the Maynardverse there was obviously some mystical significance to Buckner missing that grounder in 1986; had Morris been on the Sox, it would have been a routine groundout, right?   Speaking of stupid, it has been patiently (and not-so-patiently) explained to you many times that attributing greatness to players based on the accomplishments of their teams makes about as much sense as claiming that a racecar has the most attractive paint job because it won the race. Your continued failure to not only understand but even to intelligently reply to any of the arguments presented leads me to the conclusion that you must have spent a few too many games in goal without a mask.   No one is crying; the Jays won, and as a team they certainly deserved to win at least the AL East. They performed well in two short series and won the World Series, and I congratulate them for it. As a Red Sox fan, I hope they keep Morris. I was happy when they picked up Stewart, and elated when they traded for Darrin Jackson. You see, unless you believe in some mystical link between Morris and the offense, you can hardly help but believe that the man was credited with so many wins last year because he got lucky. Luck runs out, just like it did in 1982 when he pitched 50-odd more innings than 1992, gave up exactly *one* earned run more than in 1992, and went 17-16.  Seriously, Roger, I'd really like to hear your explanation of the difference between the 1982 Morris and the 1992 Morris. Which one was a better pitcher, and why? Did Morris somehow \\\"learn how to win\\\" in the intervening ten years? If so, then why did he go 18-12 in 1991 with Minnesota with an ERA over half a run lower than 1992?   Mike Jones | AIX High-End Development | mjones@donald.aix.kingston.ibm.com\",\"For that matter, how many Gentleman of The Press Box have been Jewish? The only Jewish sportscaster that comes to mind is Steve Williams (?), who had a Phillies show on KYW in Philadelphia in the 80s.\",\" Oh? Hellman said ``each user will get to choose his or her own key.'' That's the key which I called K_P, the session key. According to Hellman, if Alice and Bob are communicating with the Clipper Chip, then Alice chooses ``her own key'' and Bob chooses ``his own key.'' This is incompatible with the suggestion that when Alice and Bob are talking, they use a _common_ K_P, chosen by classical or public-key approaches.  The protocol/key-management description published so far is either incomplete or incorrect. It leaves me with no idea of how the system would actually _work_. I hope the CPSR FOIA request succeeds so that we get full details.\",\":tarnold@vnet.IBM.COM (Todd W. Arnold) said in article <19930322.101356.617@almaden.ibm.com>: :>It's OK as long as you trust the end-user to stay out of your application :>program - or as long as it runs in a system where the user can't get to it. :>Otherwise, you can't stop him from finding the \\\"load a module\\\" code in your :>program, and simply bypassing the check for a valid module.  The devious user :>can either modify the object code before running the program, or he can run :>the program under a debugger and change the instructions in memory. :There is a way to foil debuggers, by clearing the single step  :interrupt, on which a debugger depends, every few instructions in  :the sensitive areas of the code.  This assumes the person is using the hardware debug instruction of an X86 type processor.  It can be negated by NOP'ing the clear debug instruction, or by running the code on a machine simulator, like one I wrote as a senior project in college.  It can bypass and trace practically anything one could write in software.  Kind of like being on a Star Trek Holideck :-). \",\"I produced an error last week about CHORION:   I abhor publishing trash (I abhor it of myself even more than I do from others, but since I do not present myself as an authority on the subject, I do not feel dishonest, though I do openly admit ignorance and incompetence in this example).  Thus I felt honor bound to do a better set of research specifically on the word.  First it should be noted that Greek grammar is not as tough as I first assumed (it is not nontrivial by any means, and I still am not competent with it, but it is not as opaque as I had thought).  It turns out that while the Index for the Bauer-Arndt-Gingrich \\\"Greek Lexicon\\\" renders each verse in order, each word within a verse is put in greek alphabetical order.  Thus while the the meaning of the verse is decipherable, the syntax is far from clear.  On the other hand, a Greek-English Intralinear Bible makes things a lot more comprehendable.  And yes, the word for field in Acts 1:18 is indeed \\\"chorion.\\\"   Now I've checked several Greek-English lexicons:   \\\"Greek English Lexicon of the New Testament,\\\" Louw and Nida  \\\"Robinson's Greek and English Lexicon of the New Testament\\\"  \\\"Greek English Lexicon of the New Testament,\\\" Grimm  \\\"Word study Concordance,\\\" Tynsdale  \\\"A Greek English Lexicon of the New Testament and other    early Christian Writings,\\\" Bauer-Arndt-Gingrich  \\\"The New Analytical Greek Lexicon,\\\" Perschbacher  In each case the meaning of the word Chorion was given variously as:   A space, place, region, district, field, area, \\\"country place,\\\"   land, farm, estate, \\\"a bit of tillage\\\", and similar meanings.  Nowhere do any of these books mention anything about \\\"grave.\\\" As some of these  books go into great detail, I would be very surprised to find that these books  are all inadequate and Mr Archer is the only competent scholar in Greek.  I  think it more likely that Mr Archer's investigations into \\\"contradictions\\\" to  be once again, as your friend said it, \\\"lacking in substance,\\\" and thus Archer  is again shown worthless as an expert witness (By the way Mr DeCenso, I would  have honorably presented my results on this matter, even if I had found them to support Mr Archer's contentions).   By the way, among these lexicons, (eg: Robinson's) is the definition of \\\"agros,\\\" the word used in Matthew 27 to describe the field bought.  The word \\\"agros\\\" is defined as \\\"a field in the country.\\\" Chorion is specifically noted as a synonym to agros.  This is significant, as it is evidence of how silly Bullinger's exegisis was, which stated that the word for \\\"field\\\" in Matthew (ie: agros) is different from the word for \\\"field\\\" in Acts (ie: chorion), and thus we must be talking about two different fields (Of course you already admit how stupid Bullinger's exegisis is, but this was a small serendipity which drives the point home).   So as of now, unless Mr DeCenso show compelling reasons to believe otherwise (eg: a reputable scholar with reputable references), I consider this  particular issue closed.  See Mr DeCenso, now you can go on to answer questions about the denials of Peter, the day of the Crucifixion, Tyre, and  the fact that the author of Matthew quoted from the wrong prophet in discussing the \\\"Potter's Field.\\\"       Later,      Dave Butler\",\"  Sure nails can be cruel.  I'd imagine nails in your eyes would be *very* painful.  But, this does not imply that a painless death is cruel, which is what you are supposed to be trying to show.\",\" Are you sure you aren't being watched?  Let me remind you that  Watergate was only the tip of the iceberg.  Nixon extensively used the NSA to watch people because he didn't like them.  According to _Decrypting the Puzzle Palace_:   Presumably, the NSA is restricted from conducting American surveillance  by both the Foreign Intelligence Surveillance Act of 1978(FISA) and a  series of presidential directives, beginning with one issued by  President Ford following Richard Nixon's bold misuse of the NSA, in  which he explicitly directed the NSA to conduct widespread domestic  surveillance of political dissidents and drug users.\",\"     You might try asking on one of the comp.sys.ibm.* echos (the best one may be comp.sys.ibm.pc.hardware).  I say this because the conversion seems more geared toward a PC user wanting to use that monitor, than an Atari user who already can use the monitor (unless maybe they want to really go wild - converting the monitor to VGA, then using it as a VGA monitor with a Falcon :-)     As for graphics cards, assuming that the Atari monitor can be modified/adapted to handle VGA signals, you should probably be able to use any VGA card (at least with a res around 640x400).  I haven't tried this, but that would be my guess...      Robert Anisko     anisko@usdtsg.daytonoh.ncr.com \",\" I'm afraid that I've lost the thread here.  I didn't suggest that all  government regulations be subject to referenda.  So I don't follow the  comments above.   I mean that an ideology that treats all government regulation as equally undesirable and seeks to abolish all regulations is unlikely to draw support among more than a miniscule portion of the electorate.  Furthermore, I am suggesting that such a plan is not feasible in an industrial society because the weight of litigation and/or misery it would produce would effectively crush productive effort.  No, I'm not surprised.  I just think it's interesting that on one hand libertarians assume a limited government can be decreed, yet on the other posit an entire government made up of people who carry guns.  (I realize that many libertarians assume that such a government will be  counterbalanced by a fully armed citizenry, but it is worth noting that widespread civilian ownership of guns does not necessarily prevent the establishment of totalitarian government, e.g. Iraq.)  Yup, sure do.  But since I also support the constitutional requirement that the government provide for the general welfare (Article I section 8), I'm willing to justify such programs on that basis.  Well, in the first place, I don't support a \\\"socialized economic system.\\\" I think within limits that capitalism is a fine idea.  But it is not the case that \\\"any third party...is...as likely to be ignorant or corrupt as the buyer or seller.\\\"  There are multitudes of examples where such a statement is demonstrably false.  Regulation of stock market transactions that provide a reasonable basis for buyers to avoid fraud is only one example.  jsh \",\"Selling X-men for the C64/128 for only $10 plus shipping.   first email gets it...\",\"I don't remember the figures EXACTLY, but there were about 3500 deaths in Texas in 1991 that was caused by guns..... This is more than those beeing killed in car-ACCIDENTS! (Yes, there could be that low sentences or high poverty could influence the figures but they're still *pretty* high right??) I also believe Texas has some of the most liberal 'gun-laws' in USA......   *I* should not suffer because of others.... We all agree on this one, BUT we also live in a sociaty and therefor we'll have to give up *SOME* of our 'freedom' (Note the '').  Do you have an insurance?? Then you'll have to pay because of what others do...  Do you buy anything?? YOU are paying for those who return goods, steal or even those who gets a bonus...  Do you live with other people?? Then you 'can't' do ererything you'd want (burping/farting playing music LOUD)  -What the hell is he trying to say ?? When you live in a society (USA are stilll counted as one...) you have to saccrifice. The question is HOW MUCH.   One state (don't remember which, Texas??) tried to impose a rule that you could only buy ONE gun each MONTH. Think you all know what happened.....  I respect the right to defend yourself, but that right should not inflict on other people.  It seems like you all realize that you have a problem in America, the only problem is that you won't take the car away from the drunk driver, you hope to cure him first.  Hope life comfirms to the standard of Winnie the Poh.     This is not a .signature.  It's merely a computergenerated text to waste bandwith  and to bring down the evil Internet. \"]],[\"SUBSET\",[\"raw\",\"raw\",\"raw\",\"raw\",\"raw\",\"raw\",\"raw\",\"raw\",\"raw\",\"raw\",\"raw\"]],[\"label\",[\"ABSTAIN\",\"ABSTAIN\",\"ABSTAIN\",\"ABSTAIN\",\"ABSTAIN\",\"ABSTAIN\",\"ABSTAIN\",\"ABSTAIN\",\"ABSTAIN\",\"ABSTAIN\",\"ABSTAIN\"]]]}}},\"view\":{\"type\":\"object\",\"name\":\"CDSView\",\"id\":\"p1053\",\"attributes\":{\"filter\":{\"type\":\"object\",\"name\":\"AllIndices\",\"id\":\"p1054\"}}},\"columns\":[{\"type\":\"object\",\"name\":\"TableColumn\",\"id\":\"p1043\",\"attributes\":{\"field\":\"text\",\"title\":\"text\",\"formatter\":{\"type\":\"object\",\"name\":\"HTMLTemplateFormatter\",\"id\":\"p1042\",\"attributes\":{\"template\":\"<span href=\\\"#\\\" data-toggle=\\\"tooltip\\\" title=\\\"<%= value %>\\\"><%= value %></span>\"}},\"editor\":{\"type\":\"object\",\"name\":\"CellEditor\",\"id\":\"p1041\"}}},{\"type\":\"object\",\"name\":\"TableColumn\",\"id\":\"p1046\",\"attributes\":{\"field\":\"label\",\"title\":\"label\",\"formatter\":{\"type\":\"object\",\"name\":\"StringFormatter\",\"id\":\"p1048\"},\"editor\":{\"type\":\"object\",\"name\":\"StringEditor\",\"id\":\"p1047\"}}}],\"editable\":true,\"selectable\":\"checkbox\"}}]}};\n",
       "  const render_items = [{\"docid\":\"db728e09-5908-4a25-9f2e-3c78d098e70b\",\"roots\":{\"p1049\":\"55cee523-57ae-494e-b460-8ba2fe48a6ce\"},\"root_ids\":[\"p1049\"]}];\n",
       "  root.Bokeh.embed.embed_items_notebook(docs_json, render_items);\n",
       "  }\n",
       "  if (root.Bokeh !== undefined) {\n",
       "    embed_document(root);\n",
       "  } else {\n",
       "    let attempts = 0;\n",
       "    const timer = setInterval(function(root) {\n",
       "      if (root.Bokeh !== undefined) {\n",
       "        clearInterval(timer);\n",
       "        embed_document(root);\n",
       "      } else {\n",
       "        attempts++;\n",
       "        if (attempts > 100) {\n",
       "          clearInterval(timer);\n",
       "          console.log(\"Bokeh: ERROR: Unable to run BokehJS code because BokehJS library is missing\");\n",
       "        }\n",
       "      }\n",
       "    }, 10, root)\n",
       "  }\n",
       "})(window);"
      ],
      "application/vnd.bokehjs_exec.v0+json": ""
     },
     "metadata": {
      "application/vnd.bokehjs_exec.v0+json": {
       "id": "p1049"
      }
     },
     "output_type": "display_data"
    }
   ],
   "source": [
    "dataset._callback_update_selection(dataset.dfs[\"raw\"].loc[:10])\n",
    "\n",
    "show(dataset.sel_table, notebook_url=notebook_url)"
   ]
  },
  {
   "cell_type": "markdown",
   "id": "fde0f759",
   "metadata": {},
   "source": [
    "<br>\n",
    "\n",
    "### **Edit Data Within a Selection**\n",
    "\n",
    "Often the points selected are not perfectly homogeneous, i.e. some outliers belong to a different label from the selected group overall. It would be helpful to `EVICT` them, and `SupervisableDataset` has a button for it.\n",
    "\n",
    "Sometimes you may also wish to edit data values on the fly.  In hover this is called `PATCH`, and there also is a button for it.\n",
    "\n",
    "-   by default, labels can be edited but feature values cannot.\n",
    "\n",
    "Let's plot the forementioned buttons along with the selection table. Toggle any number of rows in the table, then click the button to `EVICT` or `PATCH` those rows:"
   ]
  },
  {
   "cell_type": "code",
   "execution_count": 5,
   "id": "3b08890e",
   "metadata": {
    "execution": {
     "iopub.execute_input": "2023-03-07T02:00:56.481572Z",
     "iopub.status.busy": "2023-03-07T02:00:56.481138Z",
     "iopub.status.idle": "2023-03-07T02:00:56.519376Z",
     "shell.execute_reply": "2023-03-07T02:00:56.518751Z"
    }
   },
   "outputs": [
    {
     "name": "stderr",
     "output_type": "stream",
     "text": [
      "WARNING:bokeh.embed.util:\n",
      "You are generating standalone HTML/JS output, but trying to use real Python\n",
      "callbacks (i.e. with on_change or on_event). This combination cannot work.\n",
      "\n",
      "Only JavaScript callbacks may be used with standalone output. For more\n",
      "information on JavaScript callbacks with Bokeh, see:\n",
      "\n",
      "    https://docs.bokeh.org/en/latest/docs/user_guide/interaction/callbacks.html\n",
      "\n",
      "Alternatively, to use real Python callbacks, a Bokeh server application may\n",
      "be used. For more information on building and running Bokeh applications, see:\n",
      "\n",
      "    https://docs.bokeh.org/en/latest/docs/user_guide/server.html\n",
      "\n"
     ]
    },
    {
     "data": {
      "text/html": [
       "\n",
       "  <div id=\"79706b3f-26e2-4883-ba1c-8347f6431220\" data-root-id=\"p1342\" style=\"display: contents;\"></div>\n"
      ]
     },
     "metadata": {},
     "output_type": "display_data"
    },
    {
     "data": {
      "application/javascript": [
       "(function(root) {\n",
       "  function embed_document(root) {\n",
       "  const docs_json = {\"dc77db08-a62b-4b32-9bca-41e596c952cd\":{\"version\":\"3.0.3\",\"title\":\"Bokeh Application\",\"defs\":[],\"roots\":[{\"type\":\"object\",\"name\":\"Column\",\"id\":\"p1342\",\"attributes\":{\"children\":[{\"type\":\"object\",\"name\":\"Row\",\"id\":\"p1341\",\"attributes\":{\"children\":[{\"type\":\"object\",\"name\":\"Button\",\"id\":\"p1006\",\"attributes\":{\"button_type\":\"primary\",\"label\":\"Evict Rows from Selection\"}},{\"type\":\"object\",\"name\":\"Button\",\"id\":\"p1005\",\"attributes\":{\"button_type\":\"warning\",\"subscribed_events\":{\"type\":\"set\",\"entries\":[\"button_click\"]},\"label\":\"Update Row Values\"}}]}},{\"type\":\"object\",\"name\":\"DataTable\",\"id\":\"p1049\",\"attributes\":{\"source\":{\"type\":\"object\",\"name\":\"ColumnDataSource\",\"id\":\"p1038\",\"attributes\":{\"selected\":{\"type\":\"object\",\"name\":\"Selection\",\"id\":\"p1040\",\"attributes\":{\"indices\":[],\"line_indices\":[]}},\"selection_policy\":{\"type\":\"object\",\"name\":\"UnionRenderers\",\"id\":\"p1039\"},\"data\":{\"type\":\"map\",\"entries\":[[\"text\",[\" Not particularly *in* the World Series. During the season, he was probably more valuable than, say, putting Olerud out there to pitch, but yeah, he *was* valuable in getting them there. In the postseason, he sucked dirty canal water through a straw. The Jays won *in spite* of Morris much more than *because of* him.   Umm, Roger? Return with us to those halcyon days of a few postings ago, where the poster Valentine was replying to used # of WS rings as a measure of better. The concept is called \\\"context\\\", and you should really become familiar with it someday.   Unless this transaltes to \\\"Clemens hasn't gone into Lou Gorman's office with a large caliber handgun and refused to come out until he'd been traded to the Jays,\\\" I'm at a complete loss as to any possible meaning for it.   What on earth does this mean? Over their careers, Clemens has \\\"won\\\" 68% of the games he's started, Morris 58%. Per year, Clemens has averaged nearly 17 wins, Morris just under 15. Would you grant the proposition that preventing the other team from scoring increases your chances of winning  a game? If so, then consider that Clemens allows 2.8 runs/9 innings pitched. Morris allows nearly a run more per nine innings. In fact, Jack Morris has never in his career had an ERA for a single year as good as Clemens' career ERA. But I forget, in the Maynardverse there was obviously some mystical significance to Buckner missing that grounder in 1986; had Morris been on the Sox, it would have been a routine groundout, right?   Speaking of stupid, it has been patiently (and not-so-patiently) explained to you many times that attributing greatness to players based on the accomplishments of their teams makes about as much sense as claiming that a racecar has the most attractive paint job because it won the race. Your continued failure to not only understand but even to intelligently reply to any of the arguments presented leads me to the conclusion that you must have spent a few too many games in goal without a mask.   No one is crying; the Jays won, and as a team they certainly deserved to win at least the AL East. They performed well in two short series and won the World Series, and I congratulate them for it. As a Red Sox fan, I hope they keep Morris. I was happy when they picked up Stewart, and elated when they traded for Darrin Jackson. You see, unless you believe in some mystical link between Morris and the offense, you can hardly help but believe that the man was credited with so many wins last year because he got lucky. Luck runs out, just like it did in 1982 when he pitched 50-odd more innings than 1992, gave up exactly *one* earned run more than in 1992, and went 17-16.  Seriously, Roger, I'd really like to hear your explanation of the difference between the 1982 Morris and the 1992 Morris. Which one was a better pitcher, and why? Did Morris somehow \\\"learn how to win\\\" in the intervening ten years? If so, then why did he go 18-12 in 1991 with Minnesota with an ERA over half a run lower than 1992?   Mike Jones | AIX High-End Development | mjones@donald.aix.kingston.ibm.com\",\"For that matter, how many Gentleman of The Press Box have been Jewish? The only Jewish sportscaster that comes to mind is Steve Williams (?), who had a Phillies show on KYW in Philadelphia in the 80s.\",\" Oh? Hellman said ``each user will get to choose his or her own key.'' That's the key which I called K_P, the session key. According to Hellman, if Alice and Bob are communicating with the Clipper Chip, then Alice chooses ``her own key'' and Bob chooses ``his own key.'' This is incompatible with the suggestion that when Alice and Bob are talking, they use a _common_ K_P, chosen by classical or public-key approaches.  The protocol/key-management description published so far is either incomplete or incorrect. It leaves me with no idea of how the system would actually _work_. I hope the CPSR FOIA request succeeds so that we get full details.\",\":tarnold@vnet.IBM.COM (Todd W. Arnold) said in article <19930322.101356.617@almaden.ibm.com>: :>It's OK as long as you trust the end-user to stay out of your application :>program - or as long as it runs in a system where the user can't get to it. :>Otherwise, you can't stop him from finding the \\\"load a module\\\" code in your :>program, and simply bypassing the check for a valid module.  The devious user :>can either modify the object code before running the program, or he can run :>the program under a debugger and change the instructions in memory. :There is a way to foil debuggers, by clearing the single step  :interrupt, on which a debugger depends, every few instructions in  :the sensitive areas of the code.  This assumes the person is using the hardware debug instruction of an X86 type processor.  It can be negated by NOP'ing the clear debug instruction, or by running the code on a machine simulator, like one I wrote as a senior project in college.  It can bypass and trace practically anything one could write in software.  Kind of like being on a Star Trek Holideck :-). \",\"I produced an error last week about CHORION:   I abhor publishing trash (I abhor it of myself even more than I do from others, but since I do not present myself as an authority on the subject, I do not feel dishonest, though I do openly admit ignorance and incompetence in this example).  Thus I felt honor bound to do a better set of research specifically on the word.  First it should be noted that Greek grammar is not as tough as I first assumed (it is not nontrivial by any means, and I still am not competent with it, but it is not as opaque as I had thought).  It turns out that while the Index for the Bauer-Arndt-Gingrich \\\"Greek Lexicon\\\" renders each verse in order, each word within a verse is put in greek alphabetical order.  Thus while the the meaning of the verse is decipherable, the syntax is far from clear.  On the other hand, a Greek-English Intralinear Bible makes things a lot more comprehendable.  And yes, the word for field in Acts 1:18 is indeed \\\"chorion.\\\"   Now I've checked several Greek-English lexicons:   \\\"Greek English Lexicon of the New Testament,\\\" Louw and Nida  \\\"Robinson's Greek and English Lexicon of the New Testament\\\"  \\\"Greek English Lexicon of the New Testament,\\\" Grimm  \\\"Word study Concordance,\\\" Tynsdale  \\\"A Greek English Lexicon of the New Testament and other    early Christian Writings,\\\" Bauer-Arndt-Gingrich  \\\"The New Analytical Greek Lexicon,\\\" Perschbacher  In each case the meaning of the word Chorion was given variously as:   A space, place, region, district, field, area, \\\"country place,\\\"   land, farm, estate, \\\"a bit of tillage\\\", and similar meanings.  Nowhere do any of these books mention anything about \\\"grave.\\\" As some of these  books go into great detail, I would be very surprised to find that these books  are all inadequate and Mr Archer is the only competent scholar in Greek.  I  think it more likely that Mr Archer's investigations into \\\"contradictions\\\" to  be once again, as your friend said it, \\\"lacking in substance,\\\" and thus Archer  is again shown worthless as an expert witness (By the way Mr DeCenso, I would  have honorably presented my results on this matter, even if I had found them to support Mr Archer's contentions).   By the way, among these lexicons, (eg: Robinson's) is the definition of \\\"agros,\\\" the word used in Matthew 27 to describe the field bought.  The word \\\"agros\\\" is defined as \\\"a field in the country.\\\" Chorion is specifically noted as a synonym to agros.  This is significant, as it is evidence of how silly Bullinger's exegisis was, which stated that the word for \\\"field\\\" in Matthew (ie: agros) is different from the word for \\\"field\\\" in Acts (ie: chorion), and thus we must be talking about two different fields (Of course you already admit how stupid Bullinger's exegisis is, but this was a small serendipity which drives the point home).   So as of now, unless Mr DeCenso show compelling reasons to believe otherwise (eg: a reputable scholar with reputable references), I consider this  particular issue closed.  See Mr DeCenso, now you can go on to answer questions about the denials of Peter, the day of the Crucifixion, Tyre, and  the fact that the author of Matthew quoted from the wrong prophet in discussing the \\\"Potter's Field.\\\"       Later,      Dave Butler\",\"  Sure nails can be cruel.  I'd imagine nails in your eyes would be *very* painful.  But, this does not imply that a painless death is cruel, which is what you are supposed to be trying to show.\",\" Are you sure you aren't being watched?  Let me remind you that  Watergate was only the tip of the iceberg.  Nixon extensively used the NSA to watch people because he didn't like them.  According to _Decrypting the Puzzle Palace_:   Presumably, the NSA is restricted from conducting American surveillance  by both the Foreign Intelligence Surveillance Act of 1978(FISA) and a  series of presidential directives, beginning with one issued by  President Ford following Richard Nixon's bold misuse of the NSA, in  which he explicitly directed the NSA to conduct widespread domestic  surveillance of political dissidents and drug users.\",\"     You might try asking on one of the comp.sys.ibm.* echos (the best one may be comp.sys.ibm.pc.hardware).  I say this because the conversion seems more geared toward a PC user wanting to use that monitor, than an Atari user who already can use the monitor (unless maybe they want to really go wild - converting the monitor to VGA, then using it as a VGA monitor with a Falcon :-)     As for graphics cards, assuming that the Atari monitor can be modified/adapted to handle VGA signals, you should probably be able to use any VGA card (at least with a res around 640x400).  I haven't tried this, but that would be my guess...      Robert Anisko     anisko@usdtsg.daytonoh.ncr.com \",\" I'm afraid that I've lost the thread here.  I didn't suggest that all  government regulations be subject to referenda.  So I don't follow the  comments above.   I mean that an ideology that treats all government regulation as equally undesirable and seeks to abolish all regulations is unlikely to draw support among more than a miniscule portion of the electorate.  Furthermore, I am suggesting that such a plan is not feasible in an industrial society because the weight of litigation and/or misery it would produce would effectively crush productive effort.  No, I'm not surprised.  I just think it's interesting that on one hand libertarians assume a limited government can be decreed, yet on the other posit an entire government made up of people who carry guns.  (I realize that many libertarians assume that such a government will be  counterbalanced by a fully armed citizenry, but it is worth noting that widespread civilian ownership of guns does not necessarily prevent the establishment of totalitarian government, e.g. Iraq.)  Yup, sure do.  But since I also support the constitutional requirement that the government provide for the general welfare (Article I section 8), I'm willing to justify such programs on that basis.  Well, in the first place, I don't support a \\\"socialized economic system.\\\" I think within limits that capitalism is a fine idea.  But it is not the case that \\\"any third party...is...as likely to be ignorant or corrupt as the buyer or seller.\\\"  There are multitudes of examples where such a statement is demonstrably false.  Regulation of stock market transactions that provide a reasonable basis for buyers to avoid fraud is only one example.  jsh \",\"Selling X-men for the C64/128 for only $10 plus shipping.   first email gets it...\",\"I don't remember the figures EXACTLY, but there were about 3500 deaths in Texas in 1991 that was caused by guns..... This is more than those beeing killed in car-ACCIDENTS! (Yes, there could be that low sentences or high poverty could influence the figures but they're still *pretty* high right??) I also believe Texas has some of the most liberal 'gun-laws' in USA......   *I* should not suffer because of others.... We all agree on this one, BUT we also live in a sociaty and therefor we'll have to give up *SOME* of our 'freedom' (Note the '').  Do you have an insurance?? Then you'll have to pay because of what others do...  Do you buy anything?? YOU are paying for those who return goods, steal or even those who gets a bonus...  Do you live with other people?? Then you 'can't' do ererything you'd want (burping/farting playing music LOUD)  -What the hell is he trying to say ?? When you live in a society (USA are stilll counted as one...) you have to saccrifice. The question is HOW MUCH.   One state (don't remember which, Texas??) tried to impose a rule that you could only buy ONE gun each MONTH. Think you all know what happened.....  I respect the right to defend yourself, but that right should not inflict on other people.  It seems like you all realize that you have a problem in America, the only problem is that you won't take the car away from the drunk driver, you hope to cure him first.  Hope life comfirms to the standard of Winnie the Poh.     This is not a .signature.  It's merely a computergenerated text to waste bandwith  and to bring down the evil Internet. \"]],[\"SUBSET\",[\"raw\",\"raw\",\"raw\",\"raw\",\"raw\",\"raw\",\"raw\",\"raw\",\"raw\",\"raw\",\"raw\"]],[\"label\",[\"ABSTAIN\",\"ABSTAIN\",\"ABSTAIN\",\"ABSTAIN\",\"ABSTAIN\",\"ABSTAIN\",\"ABSTAIN\",\"ABSTAIN\",\"ABSTAIN\",\"ABSTAIN\",\"ABSTAIN\"]]]}}},\"view\":{\"type\":\"object\",\"name\":\"CDSView\",\"id\":\"p1053\",\"attributes\":{\"filter\":{\"type\":\"object\",\"name\":\"AllIndices\",\"id\":\"p1054\"}}},\"columns\":[{\"type\":\"object\",\"name\":\"TableColumn\",\"id\":\"p1043\",\"attributes\":{\"field\":\"text\",\"title\":\"text\",\"formatter\":{\"type\":\"object\",\"name\":\"HTMLTemplateFormatter\",\"id\":\"p1042\",\"attributes\":{\"template\":\"<span href=\\\"#\\\" data-toggle=\\\"tooltip\\\" title=\\\"<%= value %>\\\"><%= value %></span>\"}},\"editor\":{\"type\":\"object\",\"name\":\"CellEditor\",\"id\":\"p1041\"}}},{\"type\":\"object\",\"name\":\"TableColumn\",\"id\":\"p1046\",\"attributes\":{\"field\":\"label\",\"title\":\"label\",\"formatter\":{\"type\":\"object\",\"name\":\"StringFormatter\",\"id\":\"p1048\"},\"editor\":{\"type\":\"object\",\"name\":\"StringEditor\",\"id\":\"p1047\"}}}],\"editable\":true,\"selectable\":\"checkbox\"}}]}}]}};\n",
       "  const render_items = [{\"docid\":\"dc77db08-a62b-4b32-9bca-41e596c952cd\",\"roots\":{\"p1342\":\"79706b3f-26e2-4883-ba1c-8347f6431220\"},\"root_ids\":[\"p1342\"]}];\n",
       "  root.Bokeh.embed.embed_items_notebook(docs_json, render_items);\n",
       "  }\n",
       "  if (root.Bokeh !== undefined) {\n",
       "    embed_document(root);\n",
       "  } else {\n",
       "    let attempts = 0;\n",
       "    const timer = setInterval(function(root) {\n",
       "      if (root.Bokeh !== undefined) {\n",
       "        clearInterval(timer);\n",
       "        embed_document(root);\n",
       "      } else {\n",
       "        attempts++;\n",
       "        if (attempts > 100) {\n",
       "          clearInterval(timer);\n",
       "          console.log(\"Bokeh: ERROR: Unable to run BokehJS code because BokehJS library is missing\");\n",
       "        }\n",
       "      }\n",
       "    }, 10, root)\n",
       "  }\n",
       "})(window);"
      ],
      "application/vnd.bokehjs_exec.v0+json": ""
     },
     "metadata": {
      "application/vnd.bokehjs_exec.v0+json": {
       "id": "p1342"
      }
     },
     "output_type": "display_data"
    }
   ],
   "source": [
    "show(column(\n",
    "    row(\n",
    "        dataset.selection_evictor,\n",
    "        dataset.selection_patcher,\n",
    "    ),\n",
    "    dataset.sel_table,\n",
    "), notebook_url=notebook_url)"
   ]
  },
  {
   "cell_type": "markdown",
   "id": "be024aea",
   "metadata": {},
   "source": [
    "<br>"
   ]
  }
 ],
 "metadata": {
  "language_info": {
   "codemirror_mode": {
    "name": "ipython",
    "version": 3
   },
   "file_extension": ".py",
   "mimetype": "text/x-python",
   "name": "python",
   "nbconvert_exporter": "python",
   "pygments_lexer": "ipython3",
   "version": "3.8.16"
  }
 },
 "nbformat": 4,
 "nbformat_minor": 5
}
