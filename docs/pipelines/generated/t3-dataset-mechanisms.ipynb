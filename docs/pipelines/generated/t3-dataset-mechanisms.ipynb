{
 "cells": [
  {
   "cell_type": "markdown",
   "id": "67424e61",
   "metadata": {},
   "source": [
    "> `SupervisableDataset` holds your data throughout the labeling process.\n",
    ">\n",
    "> :speedboat: Let's take a look at its core mechanisms.\n",
    "\n",
    "-   <details open><summary>This page addresses **single components** of `hover`</summary>\n",
    "    For illustration, we are using code snippets to pick out specific widgets so that the documentation can explain what they do.\n",
    "\n",
    "    -   Please be aware that you won't need to get the widgets by code in an actual use case.\n",
    "    -   Typical usage deals with [recipes](../../tutorial/t1-active-learning) where the individual parts have been tied together.\n",
    "\n",
    "</details>\n",
    "\n",
    "-   <details open><summary>Dependencies for {== local environments ==}</summary>\n",
    "    When you run the code locally, you may need to install additional packages.\n",
    "\n",
    "    To render `bokeh` plots in Jupyter, you need:\n",
    "```shell\n",
    "    pip install jupyter_bokeh\n",
    "```\n",
    "\n",
    "    If you are using JupyterLab older than 3.0, use this instead ([reference](https://pypi.org/project/jupyter-bokeh/)):\n",
    "```shell\n",
    "    jupyter labextension install @jupyter-widgets/jupyterlab-manager\n",
    "    jupyter labextension install @bokeh/jupyter_bokeh\n",
    "```\n",
    "\n",
    "</details>\n",
    "\n",
    "## **Data Subsets**\n",
    "\n",
    "We place unlabeled data and labeled data in different subsets: \"raw\", \"train\", \"dev\", and \"test\". Unlabeled data start from the \"raw\" subset, and can be transferred to other subsets after it gets labeled.\n",
    "\n",
    "`SupervisableDataset` uses a \"population table\", `dataset.pop_table`, to show the size of each subset:"
   ]
  },
  {
   "cell_type": "code",
   "execution_count": 1,
   "id": "a9cc1cd1",
   "metadata": {
    "execution": {
     "iopub.execute_input": "2023-11-28T01:26:03.381635Z",
     "iopub.status.busy": "2023-11-28T01:26:03.381443Z",
     "iopub.status.idle": "2023-11-28T01:26:04.787222Z",
     "shell.execute_reply": "2023-11-28T01:26:04.786655Z"
    }
   },
   "outputs": [
    {
     "data": {
      "text/html": [
       "<pre style=\"white-space:pre;overflow-x:auto;line-height:normal;font-family:Menlo,'DejaVu Sans Mono',consolas,'Courier New',monospace\"><span style=\"color: #000080; text-decoration-color: #000080\">🔵 SupervisableTextDataset: Initializing</span><span style=\"color: #808000; text-decoration-color: #808000\">...</span>\n",
       "</pre>\n"
      ],
      "text/plain": [
       "\u001b[34m🔵 SupervisableTextDataset: Initializing\u001b[0m\u001b[33m...\u001b[0m\n"
      ]
     },
     "metadata": {},
     "output_type": "display_data"
    },
    {
     "data": {
      "text/html": [
       "<pre style=\"white-space:pre;overflow-x:auto;line-height:normal;font-family:Menlo,'DejaVu Sans Mono',consolas,'Courier New',monospace\"><span style=\"color: #000080; text-decoration-color: #000080\">🔵 SupervisableTextDataset: Deduplicating</span><span style=\"color: #808000; text-decoration-color: #808000\">...</span>\n",
       "</pre>\n"
      ],
      "text/plain": [
       "\u001b[34m🔵 SupervisableTextDataset: Deduplicating\u001b[0m\u001b[33m...\u001b[0m\n"
      ]
     },
     "metadata": {},
     "output_type": "display_data"
    },
    {
     "data": {
      "text/html": [
       "<pre style=\"white-space:pre;overflow-x:auto;line-height:normal;font-family:Menlo,'DejaVu Sans Mono',consolas,'Courier New',monospace\"><span style=\"color: #000080; text-decoration-color: #000080\">🔵 SupervisableTextDataset: --subset raw rows: </span><span style=\"color: #008080; text-decoration-color: #008080; font-weight: bold\">400</span><span style=\"color: #000080; text-decoration-color: #000080\"> -&gt; </span><span style=\"color: #008080; text-decoration-color: #008080; font-weight: bold\">380</span><span style=\"color: #000080; text-decoration-color: #000080\">.</span>\n",
       "</pre>\n"
      ],
      "text/plain": [
       "\u001b[34m🔵 SupervisableTextDataset: --subset raw rows: \u001b[0m\u001b[1;36m400\u001b[0m\u001b[34m -> \u001b[0m\u001b[1;36m380\u001b[0m\u001b[34m.\u001b[0m\n"
      ]
     },
     "metadata": {},
     "output_type": "display_data"
    },
    {
     "data": {
      "text/html": [
       "<pre style=\"white-space:pre;overflow-x:auto;line-height:normal;font-family:Menlo,'DejaVu Sans Mono',consolas,'Courier New',monospace\"><span style=\"color: #000080; text-decoration-color: #000080\">🔵 SupervisableTextDataset: --subset train rows: </span><span style=\"color: #008080; text-decoration-color: #008080; font-weight: bold\">400</span><span style=\"color: #000080; text-decoration-color: #000080\"> -&gt; </span><span style=\"color: #008080; text-decoration-color: #008080; font-weight: bold\">383</span><span style=\"color: #000080; text-decoration-color: #000080\">.</span>\n",
       "</pre>\n"
      ],
      "text/plain": [
       "\u001b[34m🔵 SupervisableTextDataset: --subset train rows: \u001b[0m\u001b[1;36m400\u001b[0m\u001b[34m -> \u001b[0m\u001b[1;36m383\u001b[0m\u001b[34m.\u001b[0m\n"
      ]
     },
     "metadata": {},
     "output_type": "display_data"
    },
    {
     "data": {
      "text/html": [
       "<pre style=\"white-space:pre;overflow-x:auto;line-height:normal;font-family:Menlo,'DejaVu Sans Mono',consolas,'Courier New',monospace\"><span style=\"color: #000080; text-decoration-color: #000080\">🔵 SupervisableTextDataset: --subset dev rows: </span><span style=\"color: #008080; text-decoration-color: #008080; font-weight: bold\">100</span><span style=\"color: #000080; text-decoration-color: #000080\"> -&gt; </span><span style=\"color: #008080; text-decoration-color: #008080; font-weight: bold\">99</span><span style=\"color: #000080; text-decoration-color: #000080\">.</span>\n",
       "</pre>\n"
      ],
      "text/plain": [
       "\u001b[34m🔵 SupervisableTextDataset: --subset dev rows: \u001b[0m\u001b[1;36m100\u001b[0m\u001b[34m -> \u001b[0m\u001b[1;36m99\u001b[0m\u001b[34m.\u001b[0m\n"
      ]
     },
     "metadata": {},
     "output_type": "display_data"
    },
    {
     "data": {
      "text/html": [
       "<pre style=\"white-space:pre;overflow-x:auto;line-height:normal;font-family:Menlo,'DejaVu Sans Mono',consolas,'Courier New',monospace\"><span style=\"color: #000080; text-decoration-color: #000080\">🔵 SupervisableTextDataset: --subset test rows: </span><span style=\"color: #008080; text-decoration-color: #008080; font-weight: bold\">100</span><span style=\"color: #000080; text-decoration-color: #000080\"> -&gt; </span><span style=\"color: #008080; text-decoration-color: #008080; font-weight: bold\">100</span><span style=\"color: #000080; text-decoration-color: #000080\">.</span>\n",
       "</pre>\n"
      ],
      "text/plain": [
       "\u001b[34m🔵 SupervisableTextDataset: --subset test rows: \u001b[0m\u001b[1;36m100\u001b[0m\u001b[34m -> \u001b[0m\u001b[1;36m100\u001b[0m\u001b[34m.\u001b[0m\n"
      ]
     },
     "metadata": {},
     "output_type": "display_data"
    },
    {
     "data": {
      "text/html": [
       "<pre style=\"white-space:pre;overflow-x:auto;line-height:normal;font-family:Menlo,'DejaVu Sans Mono',consolas,'Courier New',monospace\"><span style=\"color: #008000; text-decoration-color: #008000\">🟢 SupervisableTextDataset: Set up label encoder/decoder with </span><span style=\"color: #008080; text-decoration-color: #008080; font-weight: bold\">20</span><span style=\"color: #008000; text-decoration-color: #008000\"> classes.</span>\n",
       "</pre>\n"
      ],
      "text/plain": [
       "\u001b[32m🟢 SupervisableTextDataset: Set up label encoder/decoder with \u001b[0m\u001b[1;36m20\u001b[0m\u001b[32m classes.\u001b[0m\n"
      ]
     },
     "metadata": {},
     "output_type": "display_data"
    },
    {
     "data": {
      "text/html": [
       "<pre style=\"white-space:pre;overflow-x:auto;line-height:normal;font-family:Menlo,'DejaVu Sans Mono',consolas,'Courier New',monospace\"><span style=\"color: #008000; text-decoration-color: #008000\">🟢 SupervisableTextDataset: Population updater: latest population with </span><span style=\"color: #008080; text-decoration-color: #008080; font-weight: bold\">20</span><span style=\"color: #008000; text-decoration-color: #008000\"> classes.</span>\n",
       "</pre>\n"
      ],
      "text/plain": [
       "\u001b[32m🟢 SupervisableTextDataset: Population updater: latest population with \u001b[0m\u001b[1;36m20\u001b[0m\u001b[32m classes.\u001b[0m\n"
      ]
     },
     "metadata": {},
     "output_type": "display_data"
    },
    {
     "data": {
      "text/html": [
       "<pre style=\"white-space:pre;overflow-x:auto;line-height:normal;font-family:Menlo,'DejaVu Sans Mono',consolas,'Courier New',monospace\"><span style=\"color: #000080; text-decoration-color: #000080\">🔵 SupervisableTextDataset: finished setting up bokeh elements.</span>\n",
       "</pre>\n"
      ],
      "text/plain": [
       "\u001b[34m🔵 SupervisableTextDataset: finished setting up bokeh elements.\u001b[0m\n"
      ]
     },
     "metadata": {},
     "output_type": "display_data"
    },
    {
     "data": {
      "text/html": [
       "<pre style=\"white-space:pre;overflow-x:auto;line-height:normal;font-family:Menlo,'DejaVu Sans Mono',consolas,'Courier New',monospace\"><span style=\"color: #008000; text-decoration-color: #008000\">🟢 SupervisableTextDataset: finished initialization.</span>\n",
       "</pre>\n"
      ],
      "text/plain": [
       "\u001b[32m🟢 SupervisableTextDataset: finished initialization.\u001b[0m\n"
      ]
     },
     "metadata": {},
     "output_type": "display_data"
    }
   ],
   "source": [
    "from hover.core.dataset import SupervisableTextDataset\n",
    "import pandas as pd\n",
    "\n",
    "raw_csv_path = \"https://raw.githubusercontent.com/phurwicz/hover-gallery/main/0.5.0/20_newsgroups_raw.csv\"\n",
    "train_csv_path = \"https://raw.githubusercontent.com/phurwicz/hover-gallery/main/0.5.0/20_newsgroups_train.csv\"\n",
    "\n",
    "# for fast, low-memory demonstration purpose, sample the data\n",
    "df_raw = pd.read_csv(raw_csv_path).sample(400)\n",
    "df_raw[\"SUBSET\"] = \"raw\"\n",
    "df_train = pd.read_csv(train_csv_path).sample(400)\n",
    "df_train[\"SUBSET\"] = \"train\"\n",
    "df_dev = pd.read_csv(train_csv_path).sample(100)\n",
    "df_dev[\"SUBSET\"] = \"dev\"\n",
    "df_test = pd.read_csv(train_csv_path).sample(100)\n",
    "df_test[\"SUBSET\"] = \"test\"\n",
    "\n",
    "# build overall dataframe and ensure feature type\n",
    "df = pd.concat([df_raw, df_train, df_dev, df_test])\n",
    "df[\"text\"] = df[\"text\"].astype(str)\n",
    "\n",
    "# this class stores the dataset throught the labeling process\n",
    "dataset = SupervisableTextDataset.from_pandas(df, feature_key=\"text\", label_key=\"label\")"
   ]
  },
  {
   "cell_type": "markdown",
   "id": "20b4ef3b",
   "metadata": {},
   "source": [
    "<br>"
   ]
  },
  {
   "cell_type": "code",
   "execution_count": 2,
   "id": "7b6a6fa0",
   "metadata": {
    "execution": {
     "iopub.execute_input": "2023-11-28T01:26:04.789915Z",
     "iopub.status.busy": "2023-11-28T01:26:04.789693Z",
     "iopub.status.idle": "2023-11-28T01:26:04.839688Z",
     "shell.execute_reply": "2023-11-28T01:26:04.839146Z"
    }
   },
   "outputs": [
    {
     "data": {
      "text/html": [
       "    <style>\n",
       "        .bk-notebook-logo {\n",
       "            display: block;\n",
       "            width: 20px;\n",
       "            height: 20px;\n",
       "            background-image: url(data:image/png;base64,iVBORw0KGgoAAAANSUhEUgAAABQAAAAUCAYAAACNiR0NAAAABHNCSVQICAgIfAhkiAAAAAlwSFlzAAALEgAACxIB0t1+/AAAABx0RVh0U29mdHdhcmUAQWRvYmUgRmlyZXdvcmtzIENTNui8sowAAAOkSURBVDiNjZRtaJVlGMd/1/08zzln5zjP1LWcU9N0NkN8m2CYjpgQYQXqSs0I84OLIC0hkEKoPtiH3gmKoiJDU7QpLgoLjLIQCpEsNJ1vqUOdO7ppbuec5+V+rj4ctwzd8IIbbi6u+8f1539dt3A78eXC7QizUF7gyV1fD1Yqg4JWz84yffhm0qkFqBogB9rM8tZdtwVsPUhWhGcFJngGeWrPzHm5oaMmkfEg1usvLFyc8jLRqDOMru7AyC8saQr7GG7f5fvDeH7Ej8CM66nIF+8yngt6HWaKh7k49Soy9nXurCi1o3qUbS3zWfrYeQDTB/Qj6kX6Ybhw4B+bOYoLKCC9H3Nu/leUTZ1JdRWkkn2ldcCamzrcf47KKXdAJllSlxAOkRgyHsGC/zRday5Qld9DyoM4/q/rUoy/CXh3jzOu3bHUVZeU+DEn8FInkPBFlu3+nW3Nw0mk6vCDiWg8CeJaxEwuHS3+z5RgY+YBR6V1Z1nxSOfoaPa4LASWxxdNp+VWTk7+4vzaou8v8PN+xo+KY2xsw6une2frhw05CTYOmQvsEhjhWjn0bmXPjpE1+kplmmkP3suftwTubK9Vq22qKmrBhpY4jvd5afdRA3wGjFAgcnTK2s4hY0/GPNIb0nErGMCRxWOOX64Z8RAC4oCXdklmEvcL8o0BfkNK4lUg9HTl+oPlQxdNo3Mg4Nv175e/1LDGzZen30MEjRUtmXSfiTVu1kK8W4txyV6BMKlbgk3lMwYCiusNy9fVfvvwMxv8Ynl6vxoByANLTWplvuj/nF9m2+PDtt1eiHPBr1oIfhCChQMBw6Aw0UulqTKZdfVvfG7VcfIqLG9bcldL/+pdWTLxLUy8Qq38heUIjh4XlzZxzQm19lLFlr8vdQ97rjZVOLf8nclzckbcD4wxXMidpX30sFd37Fv/GtwwhzhxGVAprjbg0gCAEeIgwCZyTV2Z1REEW8O4py0wsjeloKoMr6iCY6dP92H6Vw/oTyICIthibxjm/DfN9lVz8IqtqKYLUXfoKVMVQVVJOElGjrnnUt9T9wbgp8AyYKaGlqingHZU/uG2NTZSVqwHQTWkx9hxjkpWDaCg6Ckj5qebgBVbT3V3NNXMSiWSDdGV3hrtzla7J+duwPOToIg42ChPQOQjspnSlp1V+Gjdged7+8UN5CRAV7a5EdFNwCjEaBR27b3W890TE7g24NAP/mMDXRWrGoFPQI9ls/MWO2dWFAar/xcOIImbbpA3zgAAAABJRU5ErkJggg==);\n",
       "        }\n",
       "    </style>\n",
       "    <div>\n",
       "        <a href=\"https://bokeh.org\" target=\"_blank\" class=\"bk-notebook-logo\"></a>\n",
       "        <span id=\"d534314c-7756-43be-bdb5-8c1d67973f41\">Loading BokehJS ...</span>\n",
       "    </div>\n"
      ]
     },
     "metadata": {},
     "output_type": "display_data"
    },
    {
     "data": {
      "application/javascript": [
       "(function(root) {\n",
       "  function now() {\n",
       "    return new Date();\n",
       "  }\n",
       "\n",
       "  const force = true;\n",
       "\n",
       "  if (typeof root._bokeh_onload_callbacks === \"undefined\" || force === true) {\n",
       "    root._bokeh_onload_callbacks = [];\n",
       "    root._bokeh_is_loading = undefined;\n",
       "  }\n",
       "\n",
       "const JS_MIME_TYPE = 'application/javascript';\n",
       "  const HTML_MIME_TYPE = 'text/html';\n",
       "  const EXEC_MIME_TYPE = 'application/vnd.bokehjs_exec.v0+json';\n",
       "  const CLASS_NAME = 'output_bokeh rendered_html';\n",
       "\n",
       "  /**\n",
       "   * Render data to the DOM node\n",
       "   */\n",
       "  function render(props, node) {\n",
       "    const script = document.createElement(\"script\");\n",
       "    node.appendChild(script);\n",
       "  }\n",
       "\n",
       "  /**\n",
       "   * Handle when an output is cleared or removed\n",
       "   */\n",
       "  function handleClearOutput(event, handle) {\n",
       "    function drop(id) {\n",
       "      const view = Bokeh.index.get_by_id(id)\n",
       "      if (view != null) {\n",
       "        view.model.document.clear()\n",
       "        Bokeh.index.delete(view)\n",
       "      }\n",
       "    }\n",
       "\n",
       "    const cell = handle.cell;\n",
       "\n",
       "    const id = cell.output_area._bokeh_element_id;\n",
       "    const server_id = cell.output_area._bokeh_server_id;\n",
       "\n",
       "    // Clean up Bokeh references\n",
       "    if (id != null) {\n",
       "      drop(id)\n",
       "    }\n",
       "\n",
       "    if (server_id !== undefined) {\n",
       "      // Clean up Bokeh references\n",
       "      const cmd_clean = \"from bokeh.io.state import curstate; print(curstate().uuid_to_server['\" + server_id + \"'].get_sessions()[0].document.roots[0]._id)\";\n",
       "      cell.notebook.kernel.execute(cmd_clean, {\n",
       "        iopub: {\n",
       "          output: function(msg) {\n",
       "            const id = msg.content.text.trim()\n",
       "            drop(id)\n",
       "          }\n",
       "        }\n",
       "      });\n",
       "      // Destroy server and session\n",
       "      const cmd_destroy = \"import bokeh.io.notebook as ion; ion.destroy_server('\" + server_id + \"')\";\n",
       "      cell.notebook.kernel.execute(cmd_destroy);\n",
       "    }\n",
       "  }\n",
       "\n",
       "  /**\n",
       "   * Handle when a new output is added\n",
       "   */\n",
       "  function handleAddOutput(event, handle) {\n",
       "    const output_area = handle.output_area;\n",
       "    const output = handle.output;\n",
       "\n",
       "    // limit handleAddOutput to display_data with EXEC_MIME_TYPE content only\n",
       "    if ((output.output_type != \"display_data\") || (!Object.prototype.hasOwnProperty.call(output.data, EXEC_MIME_TYPE))) {\n",
       "      return\n",
       "    }\n",
       "\n",
       "    const toinsert = output_area.element.find(\".\" + CLASS_NAME.split(' ')[0]);\n",
       "\n",
       "    if (output.metadata[EXEC_MIME_TYPE][\"id\"] !== undefined) {\n",
       "      toinsert[toinsert.length - 1].firstChild.textContent = output.data[JS_MIME_TYPE];\n",
       "      // store reference to embed id on output_area\n",
       "      output_area._bokeh_element_id = output.metadata[EXEC_MIME_TYPE][\"id\"];\n",
       "    }\n",
       "    if (output.metadata[EXEC_MIME_TYPE][\"server_id\"] !== undefined) {\n",
       "      const bk_div = document.createElement(\"div\");\n",
       "      bk_div.innerHTML = output.data[HTML_MIME_TYPE];\n",
       "      const script_attrs = bk_div.children[0].attributes;\n",
       "      for (let i = 0; i < script_attrs.length; i++) {\n",
       "        toinsert[toinsert.length - 1].firstChild.setAttribute(script_attrs[i].name, script_attrs[i].value);\n",
       "        toinsert[toinsert.length - 1].firstChild.textContent = bk_div.children[0].textContent\n",
       "      }\n",
       "      // store reference to server id on output_area\n",
       "      output_area._bokeh_server_id = output.metadata[EXEC_MIME_TYPE][\"server_id\"];\n",
       "    }\n",
       "  }\n",
       "\n",
       "  function register_renderer(events, OutputArea) {\n",
       "\n",
       "    function append_mime(data, metadata, element) {\n",
       "      // create a DOM node to render to\n",
       "      const toinsert = this.create_output_subarea(\n",
       "        metadata,\n",
       "        CLASS_NAME,\n",
       "        EXEC_MIME_TYPE\n",
       "      );\n",
       "      this.keyboard_manager.register_events(toinsert);\n",
       "      // Render to node\n",
       "      const props = {data: data, metadata: metadata[EXEC_MIME_TYPE]};\n",
       "      render(props, toinsert[toinsert.length - 1]);\n",
       "      element.append(toinsert);\n",
       "      return toinsert\n",
       "    }\n",
       "\n",
       "    /* Handle when an output is cleared or removed */\n",
       "    events.on('clear_output.CodeCell', handleClearOutput);\n",
       "    events.on('delete.Cell', handleClearOutput);\n",
       "\n",
       "    /* Handle when a new output is added */\n",
       "    events.on('output_added.OutputArea', handleAddOutput);\n",
       "\n",
       "    /**\n",
       "     * Register the mime type and append_mime function with output_area\n",
       "     */\n",
       "    OutputArea.prototype.register_mime_type(EXEC_MIME_TYPE, append_mime, {\n",
       "      /* Is output safe? */\n",
       "      safe: true,\n",
       "      /* Index of renderer in `output_area.display_order` */\n",
       "      index: 0\n",
       "    });\n",
       "  }\n",
       "\n",
       "  // register the mime type if in Jupyter Notebook environment and previously unregistered\n",
       "  if (root.Jupyter !== undefined) {\n",
       "    const events = require('base/js/events');\n",
       "    const OutputArea = require('notebook/js/outputarea').OutputArea;\n",
       "\n",
       "    if (OutputArea.prototype.mime_types().indexOf(EXEC_MIME_TYPE) == -1) {\n",
       "      register_renderer(events, OutputArea);\n",
       "    }\n",
       "  }\n",
       "  if (typeof (root._bokeh_timeout) === \"undefined\" || force === true) {\n",
       "    root._bokeh_timeout = Date.now() + 5000;\n",
       "    root._bokeh_failed_load = false;\n",
       "  }\n",
       "\n",
       "  const NB_LOAD_WARNING = {'data': {'text/html':\n",
       "     \"<div style='background-color: #fdd'>\\n\"+\n",
       "     \"<p>\\n\"+\n",
       "     \"BokehJS does not appear to have successfully loaded. If loading BokehJS from CDN, this \\n\"+\n",
       "     \"may be due to a slow or bad network connection. Possible fixes:\\n\"+\n",
       "     \"</p>\\n\"+\n",
       "     \"<ul>\\n\"+\n",
       "     \"<li>re-rerun `output_notebook()` to attempt to load from CDN again, or</li>\\n\"+\n",
       "     \"<li>use INLINE resources instead, as so:</li>\\n\"+\n",
       "     \"</ul>\\n\"+\n",
       "     \"<code>\\n\"+\n",
       "     \"from bokeh.resources import INLINE\\n\"+\n",
       "     \"output_notebook(resources=INLINE)\\n\"+\n",
       "     \"</code>\\n\"+\n",
       "     \"</div>\"}};\n",
       "\n",
       "  function display_loaded() {\n",
       "    const el = document.getElementById(\"d534314c-7756-43be-bdb5-8c1d67973f41\");\n",
       "    if (el != null) {\n",
       "      el.textContent = \"BokehJS is loading...\";\n",
       "    }\n",
       "    if (root.Bokeh !== undefined) {\n",
       "      if (el != null) {\n",
       "        el.textContent = \"BokehJS \" + root.Bokeh.version + \" successfully loaded.\";\n",
       "      }\n",
       "    } else if (Date.now() < root._bokeh_timeout) {\n",
       "      setTimeout(display_loaded, 100)\n",
       "    }\n",
       "  }\n",
       "\n",
       "  function run_callbacks() {\n",
       "    try {\n",
       "      root._bokeh_onload_callbacks.forEach(function(callback) {\n",
       "        if (callback != null)\n",
       "          callback();\n",
       "      });\n",
       "    } finally {\n",
       "      delete root._bokeh_onload_callbacks\n",
       "    }\n",
       "    console.debug(\"Bokeh: all callbacks have finished\");\n",
       "  }\n",
       "\n",
       "  function load_libs(css_urls, js_urls, callback) {\n",
       "    if (css_urls == null) css_urls = [];\n",
       "    if (js_urls == null) js_urls = [];\n",
       "\n",
       "    root._bokeh_onload_callbacks.push(callback);\n",
       "    if (root._bokeh_is_loading > 0) {\n",
       "      console.debug(\"Bokeh: BokehJS is being loaded, scheduling callback at\", now());\n",
       "      return null;\n",
       "    }\n",
       "    if (js_urls == null || js_urls.length === 0) {\n",
       "      run_callbacks();\n",
       "      return null;\n",
       "    }\n",
       "    console.debug(\"Bokeh: BokehJS not loaded, scheduling load and callback at\", now());\n",
       "    root._bokeh_is_loading = css_urls.length + js_urls.length;\n",
       "\n",
       "    function on_load() {\n",
       "      root._bokeh_is_loading--;\n",
       "      if (root._bokeh_is_loading === 0) {\n",
       "        console.debug(\"Bokeh: all BokehJS libraries/stylesheets loaded\");\n",
       "        run_callbacks()\n",
       "      }\n",
       "    }\n",
       "\n",
       "    function on_error(url) {\n",
       "      console.error(\"failed to load \" + url);\n",
       "    }\n",
       "\n",
       "    for (let i = 0; i < css_urls.length; i++) {\n",
       "      const url = css_urls[i];\n",
       "      const element = document.createElement(\"link\");\n",
       "      element.onload = on_load;\n",
       "      element.onerror = on_error.bind(null, url);\n",
       "      element.rel = \"stylesheet\";\n",
       "      element.type = \"text/css\";\n",
       "      element.href = url;\n",
       "      console.debug(\"Bokeh: injecting link tag for BokehJS stylesheet: \", url);\n",
       "      document.body.appendChild(element);\n",
       "    }\n",
       "\n",
       "    for (let i = 0; i < js_urls.length; i++) {\n",
       "      const url = js_urls[i];\n",
       "      const element = document.createElement('script');\n",
       "      element.onload = on_load;\n",
       "      element.onerror = on_error.bind(null, url);\n",
       "      element.async = false;\n",
       "      element.src = url;\n",
       "      console.debug(\"Bokeh: injecting script tag for BokehJS library: \", url);\n",
       "      document.head.appendChild(element);\n",
       "    }\n",
       "  };\n",
       "\n",
       "  function inject_raw_css(css) {\n",
       "    const element = document.createElement(\"style\");\n",
       "    element.appendChild(document.createTextNode(css));\n",
       "    document.body.appendChild(element);\n",
       "  }\n",
       "\n",
       "  const js_urls = [\"https://cdn.bokeh.org/bokeh/release/bokeh-3.3.1.min.js\", \"https://cdn.bokeh.org/bokeh/release/bokeh-gl-3.3.1.min.js\", \"https://cdn.bokeh.org/bokeh/release/bokeh-widgets-3.3.1.min.js\", \"https://cdn.bokeh.org/bokeh/release/bokeh-tables-3.3.1.min.js\", \"https://cdn.bokeh.org/bokeh/release/bokeh-mathjax-3.3.1.min.js\"];\n",
       "  const css_urls = [];\n",
       "\n",
       "  const inline_js = [    function(Bokeh) {\n",
       "      Bokeh.set_log_level(\"info\");\n",
       "    },\n",
       "function(Bokeh) {\n",
       "    }\n",
       "  ];\n",
       "\n",
       "  function run_inline_js() {\n",
       "    if (root.Bokeh !== undefined || force === true) {\n",
       "          for (let i = 0; i < inline_js.length; i++) {\n",
       "      inline_js[i].call(root, root.Bokeh);\n",
       "    }\n",
       "if (force === true) {\n",
       "        display_loaded();\n",
       "      }} else if (Date.now() < root._bokeh_timeout) {\n",
       "      setTimeout(run_inline_js, 100);\n",
       "    } else if (!root._bokeh_failed_load) {\n",
       "      console.log(\"Bokeh: BokehJS failed to load within specified timeout.\");\n",
       "      root._bokeh_failed_load = true;\n",
       "    } else if (force !== true) {\n",
       "      const cell = $(document.getElementById(\"d534314c-7756-43be-bdb5-8c1d67973f41\")).parents('.cell').data().cell;\n",
       "      cell.output_area.append_execute_result(NB_LOAD_WARNING)\n",
       "    }\n",
       "  }\n",
       "\n",
       "  if (root._bokeh_is_loading === 0) {\n",
       "    console.debug(\"Bokeh: BokehJS loaded, going straight to plotting\");\n",
       "    run_inline_js();\n",
       "  } else {\n",
       "    load_libs(css_urls, js_urls, function() {\n",
       "      console.debug(\"Bokeh: BokehJS plotting callback run at\", now());\n",
       "      run_inline_js();\n",
       "    });\n",
       "  }\n",
       "}(window));"
      ],
      "application/vnd.bokehjs_load.v0+json": "(function(root) {\n  function now() {\n    return new Date();\n  }\n\n  const force = true;\n\n  if (typeof root._bokeh_onload_callbacks === \"undefined\" || force === true) {\n    root._bokeh_onload_callbacks = [];\n    root._bokeh_is_loading = undefined;\n  }\n\n\n  if (typeof (root._bokeh_timeout) === \"undefined\" || force === true) {\n    root._bokeh_timeout = Date.now() + 5000;\n    root._bokeh_failed_load = false;\n  }\n\n  const NB_LOAD_WARNING = {'data': {'text/html':\n     \"<div style='background-color: #fdd'>\\n\"+\n     \"<p>\\n\"+\n     \"BokehJS does not appear to have successfully loaded. If loading BokehJS from CDN, this \\n\"+\n     \"may be due to a slow or bad network connection. Possible fixes:\\n\"+\n     \"</p>\\n\"+\n     \"<ul>\\n\"+\n     \"<li>re-rerun `output_notebook()` to attempt to load from CDN again, or</li>\\n\"+\n     \"<li>use INLINE resources instead, as so:</li>\\n\"+\n     \"</ul>\\n\"+\n     \"<code>\\n\"+\n     \"from bokeh.resources import INLINE\\n\"+\n     \"output_notebook(resources=INLINE)\\n\"+\n     \"</code>\\n\"+\n     \"</div>\"}};\n\n  function display_loaded() {\n    const el = document.getElementById(\"d534314c-7756-43be-bdb5-8c1d67973f41\");\n    if (el != null) {\n      el.textContent = \"BokehJS is loading...\";\n    }\n    if (root.Bokeh !== undefined) {\n      if (el != null) {\n        el.textContent = \"BokehJS \" + root.Bokeh.version + \" successfully loaded.\";\n      }\n    } else if (Date.now() < root._bokeh_timeout) {\n      setTimeout(display_loaded, 100)\n    }\n  }\n\n  function run_callbacks() {\n    try {\n      root._bokeh_onload_callbacks.forEach(function(callback) {\n        if (callback != null)\n          callback();\n      });\n    } finally {\n      delete root._bokeh_onload_callbacks\n    }\n    console.debug(\"Bokeh: all callbacks have finished\");\n  }\n\n  function load_libs(css_urls, js_urls, callback) {\n    if (css_urls == null) css_urls = [];\n    if (js_urls == null) js_urls = [];\n\n    root._bokeh_onload_callbacks.push(callback);\n    if (root._bokeh_is_loading > 0) {\n      console.debug(\"Bokeh: BokehJS is being loaded, scheduling callback at\", now());\n      return null;\n    }\n    if (js_urls == null || js_urls.length === 0) {\n      run_callbacks();\n      return null;\n    }\n    console.debug(\"Bokeh: BokehJS not loaded, scheduling load and callback at\", now());\n    root._bokeh_is_loading = css_urls.length + js_urls.length;\n\n    function on_load() {\n      root._bokeh_is_loading--;\n      if (root._bokeh_is_loading === 0) {\n        console.debug(\"Bokeh: all BokehJS libraries/stylesheets loaded\");\n        run_callbacks()\n      }\n    }\n\n    function on_error(url) {\n      console.error(\"failed to load \" + url);\n    }\n\n    for (let i = 0; i < css_urls.length; i++) {\n      const url = css_urls[i];\n      const element = document.createElement(\"link\");\n      element.onload = on_load;\n      element.onerror = on_error.bind(null, url);\n      element.rel = \"stylesheet\";\n      element.type = \"text/css\";\n      element.href = url;\n      console.debug(\"Bokeh: injecting link tag for BokehJS stylesheet: \", url);\n      document.body.appendChild(element);\n    }\n\n    for (let i = 0; i < js_urls.length; i++) {\n      const url = js_urls[i];\n      const element = document.createElement('script');\n      element.onload = on_load;\n      element.onerror = on_error.bind(null, url);\n      element.async = false;\n      element.src = url;\n      console.debug(\"Bokeh: injecting script tag for BokehJS library: \", url);\n      document.head.appendChild(element);\n    }\n  };\n\n  function inject_raw_css(css) {\n    const element = document.createElement(\"style\");\n    element.appendChild(document.createTextNode(css));\n    document.body.appendChild(element);\n  }\n\n  const js_urls = [\"https://cdn.bokeh.org/bokeh/release/bokeh-3.3.1.min.js\", \"https://cdn.bokeh.org/bokeh/release/bokeh-gl-3.3.1.min.js\", \"https://cdn.bokeh.org/bokeh/release/bokeh-widgets-3.3.1.min.js\", \"https://cdn.bokeh.org/bokeh/release/bokeh-tables-3.3.1.min.js\", \"https://cdn.bokeh.org/bokeh/release/bokeh-mathjax-3.3.1.min.js\"];\n  const css_urls = [];\n\n  const inline_js = [    function(Bokeh) {\n      Bokeh.set_log_level(\"info\");\n    },\nfunction(Bokeh) {\n    }\n  ];\n\n  function run_inline_js() {\n    if (root.Bokeh !== undefined || force === true) {\n          for (let i = 0; i < inline_js.length; i++) {\n      inline_js[i].call(root, root.Bokeh);\n    }\nif (force === true) {\n        display_loaded();\n      }} else if (Date.now() < root._bokeh_timeout) {\n      setTimeout(run_inline_js, 100);\n    } else if (!root._bokeh_failed_load) {\n      console.log(\"Bokeh: BokehJS failed to load within specified timeout.\");\n      root._bokeh_failed_load = true;\n    } else if (force !== true) {\n      const cell = $(document.getElementById(\"d534314c-7756-43be-bdb5-8c1d67973f41\")).parents('.cell').data().cell;\n      cell.output_area.append_execute_result(NB_LOAD_WARNING)\n    }\n  }\n\n  if (root._bokeh_is_loading === 0) {\n    console.debug(\"Bokeh: BokehJS loaded, going straight to plotting\");\n    run_inline_js();\n  } else {\n    load_libs(css_urls, js_urls, function() {\n      console.debug(\"Bokeh: BokehJS plotting callback run at\", now());\n      run_inline_js();\n    });\n  }\n}(window));"
     },
     "metadata": {},
     "output_type": "display_data"
    },
    {
     "data": {
      "text/html": [
       "\n",
       "  <div id=\"add61e1a-5211-4f95-9aad-b405baafdd6f\" data-root-id=\"p1032\" style=\"display: contents;\"></div>\n"
      ]
     },
     "metadata": {},
     "output_type": "display_data"
    },
    {
     "data": {
      "application/javascript": [
       "(function(root) {\n",
       "  function embed_document(root) {\n",
       "  const docs_json = {\"9ca0ef6a-b1b0-4b7c-a256-733c75d30cc8\":{\"version\":\"3.3.1\",\"title\":\"Bokeh Application\",\"roots\":[{\"type\":\"object\",\"name\":\"DataTable\",\"id\":\"p1032\",\"attributes\":{\"source\":{\"type\":\"object\",\"name\":\"ColumnDataSource\",\"id\":\"p1010\",\"attributes\":{\"selected\":{\"type\":\"object\",\"name\":\"Selection\",\"id\":\"p1011\",\"attributes\":{\"indices\":[],\"line_indices\":[]}},\"selection_policy\":{\"type\":\"object\",\"name\":\"UnionRenderers\",\"id\":\"p1012\"},\"data\":{\"type\":\"map\",\"entries\":[[\"color\",[\"#dcdcdc\",\"#3c3285\",\"#4353c2\",\"#4673eb\",\"#4291fe\",\"#2fb1f3\",\"#1ccdd7\",\"#19e3b8\",\"#32f197\",\"#61fc6c\",\"#8efe48\",\"#b1f836\",\"#cfea34\",\"#ead339\",\"#f9ba38\",\"#fe9b2d\",\"#f9771e\",\"#ec520e\",\"#d93806\",\"#c02302\",\"#a01101\"]],[\"label\",[\"ABSTAIN\",\"alt.atheism\",\"comp.graphics\",\"comp.os.ms-windows.misc\",\"comp.sys.ibm.pc.hardware\",\"comp.sys.mac.hardware\",\"comp.windows.x\",\"misc.forsale\",\"rec.autos\",\"rec.motorcycles\",\"rec.sport.baseball\",\"rec.sport.hockey\",\"sci.crypt\",\"sci.electronics\",\"sci.med\",\"sci.space\",\"soc.religion.christian\",\"talk.politics.guns\",\"talk.politics.mideast\",\"talk.politics.misc\",\"talk.religion.misc\"]],[\"count_raw\",[380,0,0,0,0,0,0,0,0,0,0,0,0,0,0,0,0,0,0,0,0]],[\"count_train\",[0,18,22,24,24,19,26,19,17,19,23,17,19,11,25,25,14,17,21,9,14]],[\"count_dev\",[0,2,5,5,5,4,5,7,5,8,4,7,5,8,3,8,3,6,3,4,2]],[\"count_test\",[0,3,3,3,7,7,6,12,7,4,5,2,5,6,5,5,4,5,1,6,4]]]}}},\"view\":{\"type\":\"object\",\"name\":\"CDSView\",\"id\":\"p1036\",\"attributes\":{\"filter\":{\"type\":\"object\",\"name\":\"AllIndices\",\"id\":\"p1037\"}}},\"columns\":[{\"type\":\"object\",\"name\":\"TableColumn\",\"id\":\"p1013\",\"attributes\":{\"field\":\"label\",\"title\":\"label\",\"formatter\":{\"type\":\"object\",\"name\":\"StringFormatter\",\"id\":\"p1014\"},\"editor\":{\"type\":\"object\",\"name\":\"StringEditor\",\"id\":\"p1015\"}}},{\"type\":\"object\",\"name\":\"TableColumn\",\"id\":\"p1016\",\"attributes\":{\"field\":\"count_raw\",\"title\":\"raw\",\"formatter\":{\"type\":\"object\",\"name\":\"StringFormatter\",\"id\":\"p1017\"},\"editor\":{\"type\":\"object\",\"name\":\"StringEditor\",\"id\":\"p1018\"}}},{\"type\":\"object\",\"name\":\"TableColumn\",\"id\":\"p1019\",\"attributes\":{\"field\":\"count_train\",\"title\":\"train\",\"formatter\":{\"type\":\"object\",\"name\":\"StringFormatter\",\"id\":\"p1020\"},\"editor\":{\"type\":\"object\",\"name\":\"StringEditor\",\"id\":\"p1021\"}}},{\"type\":\"object\",\"name\":\"TableColumn\",\"id\":\"p1022\",\"attributes\":{\"field\":\"count_dev\",\"title\":\"dev\",\"formatter\":{\"type\":\"object\",\"name\":\"StringFormatter\",\"id\":\"p1023\"},\"editor\":{\"type\":\"object\",\"name\":\"StringEditor\",\"id\":\"p1024\"}}},{\"type\":\"object\",\"name\":\"TableColumn\",\"id\":\"p1025\",\"attributes\":{\"field\":\"count_test\",\"title\":\"test\",\"formatter\":{\"type\":\"object\",\"name\":\"StringFormatter\",\"id\":\"p1026\"},\"editor\":{\"type\":\"object\",\"name\":\"StringEditor\",\"id\":\"p1027\"}}},{\"type\":\"object\",\"name\":\"TableColumn\",\"id\":\"p1029\",\"attributes\":{\"field\":\"color\",\"title\":\"color\",\"formatter\":{\"type\":\"object\",\"name\":\"HTMLTemplateFormatter\",\"id\":\"p1028\",\"attributes\":{\"template\":\"\\n<p style=\\\"color:<%= value %>;\\\">\\n    <%= \\\"&#9608;&#9608;&#9608;\\\" %>\\n</p>\\n\"}},\"editor\":{\"type\":\"object\",\"name\":\"StringEditor\",\"id\":\"p1031\"}}}]}}]}};\n",
       "  const render_items = [{\"docid\":\"9ca0ef6a-b1b0-4b7c-a256-733c75d30cc8\",\"roots\":{\"p1032\":\"add61e1a-5211-4f95-9aad-b405baafdd6f\"},\"root_ids\":[\"p1032\"]}];\n",
       "  root.Bokeh.embed.embed_items_notebook(docs_json, render_items);\n",
       "  }\n",
       "  if (root.Bokeh !== undefined) {\n",
       "    embed_document(root);\n",
       "  } else {\n",
       "    let attempts = 0;\n",
       "    const timer = setInterval(function(root) {\n",
       "      if (root.Bokeh !== undefined) {\n",
       "        clearInterval(timer);\n",
       "        embed_document(root);\n",
       "      } else {\n",
       "        attempts++;\n",
       "        if (attempts > 100) {\n",
       "          clearInterval(timer);\n",
       "          console.log(\"Bokeh: ERROR: Unable to run BokehJS code because BokehJS library is missing\");\n",
       "        }\n",
       "      }\n",
       "    }, 10, root)\n",
       "  }\n",
       "})(window);"
      ],
      "application/vnd.bokehjs_exec.v0+json": ""
     },
     "metadata": {
      "application/vnd.bokehjs_exec.v0+json": {
       "id": "p1032"
      }
     },
     "output_type": "display_data"
    }
   ],
   "source": [
    "from bokeh.io import show, output_notebook\n",
    "\n",
    "output_notebook()\n",
    "\n",
    "# normally your would skip notebook_url or use Jupyter address\n",
    "notebook_url = 'localhost:8888'\n",
    "\n",
    "show(dataset.pop_table, notebook_url=notebook_url)"
   ]
  },
  {
   "cell_type": "markdown",
   "id": "486378a5",
   "metadata": {},
   "source": [
    "<br>\n",
    "\n",
    "### **Transfer Data Between Subsets**\n",
    "\n",
    "`COMMIT` and `DEDUP` are the mechanisms that `hover` uses to transfer data between subsets.\n",
    "\n",
    "-   `COMMIT` copies selected points (to be discussed later) to a destination subset\n",
    "    -   labeled-raw-only: `COMMIT` automatically detects which points are in the raw set with a valid label. Other points will not get copied.\n",
    "    -   keep-last: you can commit the same point to the same subset multiple times and the last copy will be kept. This can be useful for revising labels before `DEDUP`.\n",
    "-   `DEDUP` removes duplicates (identified by feature value) across subsets\n",
    "    -   priority rule: test > dev > train > raw, i.e. test set data always gets kept during deduplication\n",
    "\n",
    "-   <details open><summary>FAQ</summary>\n",
    "    <details open><summary>Why does COMMIT only work on the raw subset?</summary>\n",
    "        Most selections will happen through plots, where different subsets are on top of each other. This means selections can contain both unlabeled and labeled points.\n",
    "\n",
    "        Way too often we find ourselves trying to view both the labeled and the unlabeled, but only moving the unlabeled \"raw\" points. So it's handy that COMMIT picks those points only.\n",
    "    </details>\n",
    "\n",
    "</details>\n",
    "\n",
    "These mechanisms correspond to buttons in `hover`'s annotation interface, which you have encountered in the quickstart:"
   ]
  },
  {
   "cell_type": "code",
   "execution_count": 3,
   "id": "3eb8f024",
   "metadata": {
    "execution": {
     "iopub.execute_input": "2023-11-28T01:26:04.842234Z",
     "iopub.status.busy": "2023-11-28T01:26:04.842034Z",
     "iopub.status.idle": "2023-11-28T01:26:04.860482Z",
     "shell.execute_reply": "2023-11-28T01:26:04.859896Z"
    }
   },
   "outputs": [
    {
     "name": "stderr",
     "output_type": "stream",
     "text": [
      "WARNING:bokeh.embed.util:\n",
      "You are generating standalone HTML/JS output, but trying to use real Python\n",
      "callbacks (i.e. with on_change or on_event). This combination cannot work.\n",
      "\n",
      "Only JavaScript callbacks may be used with standalone output. For more\n",
      "information on JavaScript callbacks with Bokeh, see:\n",
      "\n",
      "    https://docs.bokeh.org/en/latest/docs/user_guide/interaction/callbacks.html\n",
      "\n",
      "Alternatively, to use real Python callbacks, a Bokeh server application may\n",
      "be used. For more information on building and running Bokeh applications, see:\n",
      "\n",
      "    https://docs.bokeh.org/en/latest/docs/user_guide/server.html\n",
      "\n"
     ]
    },
    {
     "data": {
      "text/html": [
       "\n",
       "  <div id=\"f331cb41-f888-461b-bebd-1ccd118dc8c6\" data-root-id=\"p1056\" style=\"display: contents;\"></div>\n"
      ]
     },
     "metadata": {},
     "output_type": "display_data"
    },
    {
     "data": {
      "application/javascript": [
       "(function(root) {\n",
       "  function embed_document(root) {\n",
       "  const docs_json = {\"8fd8b7de-3ba8-4971-96c7-2994488a9db5\":{\"version\":\"3.3.1\",\"title\":\"Bokeh Application\",\"roots\":[{\"type\":\"object\",\"name\":\"Column\",\"id\":\"p1056\",\"attributes\":{\"children\":[{\"type\":\"object\",\"name\":\"Row\",\"id\":\"p1055\",\"attributes\":{\"children\":[{\"type\":\"object\",\"name\":\"Dropdown\",\"id\":\"p1002\",\"attributes\":{\"button_type\":\"warning\",\"subscribed_events\":{\"type\":\"set\",\"entries\":[\"button_click\",\"menu_item_click\"]},\"label\":\"Commit\",\"menu\":[\"train\",\"dev\",\"test\"]}},{\"type\":\"object\",\"name\":\"Button\",\"id\":\"p1003\",\"attributes\":{\"button_type\":\"warning\",\"subscribed_events\":{\"type\":\"set\",\"entries\":[\"button_click\"]},\"label\":\"Dedup\"}}]}},{\"type\":\"object\",\"name\":\"DataTable\",\"id\":\"p1032\",\"attributes\":{\"source\":{\"type\":\"object\",\"name\":\"ColumnDataSource\",\"id\":\"p1010\",\"attributes\":{\"selected\":{\"type\":\"object\",\"name\":\"Selection\",\"id\":\"p1011\",\"attributes\":{\"indices\":[],\"line_indices\":[]}},\"selection_policy\":{\"type\":\"object\",\"name\":\"UnionRenderers\",\"id\":\"p1012\"},\"data\":{\"type\":\"map\",\"entries\":[[\"color\",[\"#dcdcdc\",\"#3c3285\",\"#4353c2\",\"#4673eb\",\"#4291fe\",\"#2fb1f3\",\"#1ccdd7\",\"#19e3b8\",\"#32f197\",\"#61fc6c\",\"#8efe48\",\"#b1f836\",\"#cfea34\",\"#ead339\",\"#f9ba38\",\"#fe9b2d\",\"#f9771e\",\"#ec520e\",\"#d93806\",\"#c02302\",\"#a01101\"]],[\"label\",[\"ABSTAIN\",\"alt.atheism\",\"comp.graphics\",\"comp.os.ms-windows.misc\",\"comp.sys.ibm.pc.hardware\",\"comp.sys.mac.hardware\",\"comp.windows.x\",\"misc.forsale\",\"rec.autos\",\"rec.motorcycles\",\"rec.sport.baseball\",\"rec.sport.hockey\",\"sci.crypt\",\"sci.electronics\",\"sci.med\",\"sci.space\",\"soc.religion.christian\",\"talk.politics.guns\",\"talk.politics.mideast\",\"talk.politics.misc\",\"talk.religion.misc\"]],[\"count_raw\",[380,0,0,0,0,0,0,0,0,0,0,0,0,0,0,0,0,0,0,0,0]],[\"count_train\",[0,18,22,24,24,19,26,19,17,19,23,17,19,11,25,25,14,17,21,9,14]],[\"count_dev\",[0,2,5,5,5,4,5,7,5,8,4,7,5,8,3,8,3,6,3,4,2]],[\"count_test\",[0,3,3,3,7,7,6,12,7,4,5,2,5,6,5,5,4,5,1,6,4]]]}}},\"view\":{\"type\":\"object\",\"name\":\"CDSView\",\"id\":\"p1036\",\"attributes\":{\"filter\":{\"type\":\"object\",\"name\":\"AllIndices\",\"id\":\"p1037\"}}},\"columns\":[{\"type\":\"object\",\"name\":\"TableColumn\",\"id\":\"p1013\",\"attributes\":{\"field\":\"label\",\"title\":\"label\",\"formatter\":{\"type\":\"object\",\"name\":\"StringFormatter\",\"id\":\"p1014\"},\"editor\":{\"type\":\"object\",\"name\":\"StringEditor\",\"id\":\"p1015\"}}},{\"type\":\"object\",\"name\":\"TableColumn\",\"id\":\"p1016\",\"attributes\":{\"field\":\"count_raw\",\"title\":\"raw\",\"formatter\":{\"type\":\"object\",\"name\":\"StringFormatter\",\"id\":\"p1017\"},\"editor\":{\"type\":\"object\",\"name\":\"StringEditor\",\"id\":\"p1018\"}}},{\"type\":\"object\",\"name\":\"TableColumn\",\"id\":\"p1019\",\"attributes\":{\"field\":\"count_train\",\"title\":\"train\",\"formatter\":{\"type\":\"object\",\"name\":\"StringFormatter\",\"id\":\"p1020\"},\"editor\":{\"type\":\"object\",\"name\":\"StringEditor\",\"id\":\"p1021\"}}},{\"type\":\"object\",\"name\":\"TableColumn\",\"id\":\"p1022\",\"attributes\":{\"field\":\"count_dev\",\"title\":\"dev\",\"formatter\":{\"type\":\"object\",\"name\":\"StringFormatter\",\"id\":\"p1023\"},\"editor\":{\"type\":\"object\",\"name\":\"StringEditor\",\"id\":\"p1024\"}}},{\"type\":\"object\",\"name\":\"TableColumn\",\"id\":\"p1025\",\"attributes\":{\"field\":\"count_test\",\"title\":\"test\",\"formatter\":{\"type\":\"object\",\"name\":\"StringFormatter\",\"id\":\"p1026\"},\"editor\":{\"type\":\"object\",\"name\":\"StringEditor\",\"id\":\"p1027\"}}},{\"type\":\"object\",\"name\":\"TableColumn\",\"id\":\"p1029\",\"attributes\":{\"field\":\"color\",\"title\":\"color\",\"formatter\":{\"type\":\"object\",\"name\":\"HTMLTemplateFormatter\",\"id\":\"p1028\",\"attributes\":{\"template\":\"\\n<p style=\\\"color:<%= value %>;\\\">\\n    <%= \\\"&#9608;&#9608;&#9608;\\\" %>\\n</p>\\n\"}},\"editor\":{\"type\":\"object\",\"name\":\"StringEditor\",\"id\":\"p1031\"}}}]}}]}}]}};\n",
       "  const render_items = [{\"docid\":\"8fd8b7de-3ba8-4971-96c7-2994488a9db5\",\"roots\":{\"p1056\":\"f331cb41-f888-461b-bebd-1ccd118dc8c6\"},\"root_ids\":[\"p1056\"]}];\n",
       "  root.Bokeh.embed.embed_items_notebook(docs_json, render_items);\n",
       "  }\n",
       "  if (root.Bokeh !== undefined) {\n",
       "    embed_document(root);\n",
       "  } else {\n",
       "    let attempts = 0;\n",
       "    const timer = setInterval(function(root) {\n",
       "      if (root.Bokeh !== undefined) {\n",
       "        clearInterval(timer);\n",
       "        embed_document(root);\n",
       "      } else {\n",
       "        attempts++;\n",
       "        if (attempts > 100) {\n",
       "          clearInterval(timer);\n",
       "          console.log(\"Bokeh: ERROR: Unable to run BokehJS code because BokehJS library is missing\");\n",
       "        }\n",
       "      }\n",
       "    }, 10, root)\n",
       "  }\n",
       "})(window);"
      ],
      "application/vnd.bokehjs_exec.v0+json": ""
     },
     "metadata": {
      "application/vnd.bokehjs_exec.v0+json": {
       "id": "p1056"
      }
     },
     "output_type": "display_data"
    }
   ],
   "source": [
    "from bokeh.layouts import row, column\n",
    "\n",
    "show(column(\n",
    "    row(\n",
    "        dataset.data_committer,\n",
    "        dataset.dedup_trigger,\n",
    "    ),\n",
    "    dataset.pop_table,\n",
    "), notebook_url=notebook_url)"
   ]
  },
  {
   "cell_type": "markdown",
   "id": "0d75a8f2",
   "metadata": {},
   "source": [
    "<br>\n",
    "\n",
    "Of course, so far we have nothing to move, because there's no data selected. We shall now discuss selections.\n",
    "\n",
    "## **Selection**\n",
    "\n",
    "`hover` labels data points in bulk, which requires selecting groups of homogeneous data, i.e. semantically similar or going to have the same label. Being able to skim through what you selected gives you confidence about homogeneity.\n",
    "\n",
    "Normally, selection happens through a plot (`explorer`), as we have seen in the quickstart. For the purpose here, we will \"cheat\" and assign the selection programmatically:"
   ]
  },
  {
   "cell_type": "code",
   "execution_count": 4,
   "id": "3ee98465",
   "metadata": {
    "execution": {
     "iopub.execute_input": "2023-11-28T01:26:04.863024Z",
     "iopub.status.busy": "2023-11-28T01:26:04.862838Z",
     "iopub.status.idle": "2023-11-28T01:26:04.876803Z",
     "shell.execute_reply": "2023-11-28T01:26:04.876179Z"
    }
   },
   "outputs": [
    {
     "data": {
      "text/html": [
       "<pre style=\"white-space:pre;overflow-x:auto;line-height:normal;font-family:Menlo,'DejaVu Sans Mono',consolas,'Courier New',monospace\"><span style=\"color: #008000; text-decoration-color: #008000\">🟢 SupervisableTextDataset: Selection table: latest selection with </span><span style=\"color: #008080; text-decoration-color: #008080; font-weight: bold\">10</span><span style=\"color: #008000; text-decoration-color: #008000\"> entries.</span>\n",
       "</pre>\n"
      ],
      "text/plain": [
       "\u001b[32m🟢 SupervisableTextDataset: Selection table: latest selection with \u001b[0m\u001b[1;36m10\u001b[0m\u001b[32m entries.\u001b[0m\n"
      ]
     },
     "metadata": {},
     "output_type": "display_data"
    },
    {
     "data": {
      "text/html": [
       "\n",
       "  <div id=\"f10bc6ce-fc9d-4d49-b72e-9bedd2d1652c\" data-root-id=\"p1049\" style=\"display: contents;\"></div>\n"
      ]
     },
     "metadata": {},
     "output_type": "display_data"
    },
    {
     "data": {
      "application/javascript": [
       "(function(root) {\n",
       "  function embed_document(root) {\n",
       "  const docs_json = {\"3f2e35c0-9f2e-4360-ae3d-ed1e7895ba36\":{\"version\":\"3.3.1\",\"title\":\"Bokeh Application\",\"roots\":[{\"type\":\"object\",\"name\":\"DataTable\",\"id\":\"p1049\",\"attributes\":{\"source\":{\"type\":\"object\",\"name\":\"ColumnDataSource\",\"id\":\"p1038\",\"attributes\":{\"selected\":{\"type\":\"object\",\"name\":\"Selection\",\"id\":\"p1039\",\"attributes\":{\"indices\":[],\"line_indices\":[]}},\"selection_policy\":{\"type\":\"object\",\"name\":\"UnionRenderers\",\"id\":\"p1040\"},\"data\":{\"type\":\"map\",\"entries\":[[\"text\",[\"SECRET PURPOSE OF FALKLANDS WAR;  [with IN-VISIBILITY Technology]  Dr. Beter AUDIO LETTER #74 of 80  Digitized by Jon Volkoff, mail address eidetics@cerf.net  \\\"AUDIO LETTER(R)\\\" is a registered trademark of Audio Books, Inc., a Texas corporation, which originally produced this tape recording.  Reproduced under open license granted by Audio Books, Inc.  -----------------------------------------------------------------  This is the Dr. Beter AUDIO LETTER(R), 1629 K St. NW, Washington, DC  20006.     Hello, my friends, this is Dr. Beter.  Today is April 30, 1982, and this is my AUDIO LETTER(R) No. 74.    It's now been almost one month since war broke out in the South Atlantic.  On the surface it seems that it's only a dispute between Argentina and Great Britain over the barren, wind-swept Falkland Islands and South Georgia Island.  In reality, it's far more than that.     The so-called Falklands crisis is just the visible tip of a giant military operation.  During this month of April 1982, fierce naval battles have taken place--not only in the South Atlantic but also in the South Pacific.  Up to now most of the hostilities have been kept under wraps by wartime censorship on all sides.  But as I say these words, the naval war in the Southern Hemisphere is about to come to the surface.     Beginning today, April 30, a total naval and air blockade of the Falklands by the Royal Navy has begun.  At the same time a counterblockade has been declared by Argentina in the same area.     To be effective, a blockade must be imposed over a period of time, but the Royal Navy does not have that much time.  Winter is coming on in the South Atlantic, and the British supply lines are overextended.  Having come this far, Her Majesty's navy cannot simply drop the blockade and sail away in a few weeks time without drawing blood from Argentina.  As a result the British will be forced to undertake military operations very soon no matter how risky they may be.     There is also another reason why the Royal Navy now has no choice but to engage the Argentine forces in combat.  That reason, my friends, is that the Royal Navy has already suffered losses in secret combat this month.  Up to this moment there will be no way to explain away the damage which has been sustained by the British fleet.  Only when publicly admitted fighting erupts will the British dare to admit that they have suffered battle losses.  To obtain that cover story, the British have no choice but to sail into combat; but in doing so, they will be risking even heavier losses on top of those already sustained.  In short, my friends, Her Majesty's navy has sailed into a trap.     The events now unfolding in the South Atlantic carry strange, ironic echoes of the past.  For weeks now we've been hearing countless commentators referring to the British task force as an \\\"armada\\\" (quote).  The British of all people ought to be very uneasy with that description.  The original Spanish Armada 400 years ago was renowned as a seemingly invincible fighting force, but it came to grief in a naval disaster so complete that it changed the course of history--and it was none other than the English navy that destroyed the Spanish Armada.     The original Spanish Armada put to sea in 1588 during the reign of England's Queen Elizabeth I.  The Armada was an invasion fleet carrying thousands of crack fighting men to invade England.  They were met by the daring sea dogs of Sir Francis Drake.  Drake and his small, fast ships turned the tables on the Spanish Armada by changing the rules of battle.  The English fleet was equipped with new longer-range guns, and it stayed upwind and out of reach.  From there the English pounded, smashed, and shattered the big ships of the mighty Armada.  When it was all over, barely half the Spanish fleet was left to limp back to port.  Drake's defeat of the Spanish Armada was a shock to the world.  It opened the door for England under Queen Elizabeth I to start its expansion into a truly global empire.     Today, 400 years later, history seems to have come full circle.  Queen Elizabeth II is witnessing the dismantling of the world empire whose heyday began under Queen Elizabeth I, and now the cultures of England and of Spain are once again in confrontation.  Once again a so-called armada is preparing for invasion, but this time the armada is British, not Spanish.  Four hundred years ago Sir Francis Drake was the hero of the day; today, the ghost of Francis Drake is once again on the scene.     The South Atlantic war zone is at the eastern end of the Drake Passage around the southern tip of South America.  The defeat of the Spanish Armada four centuries ago broke the back of Spain's naval supremacy, and now the defeat of the new British armada may well break the back of what remains of the once glorious Royal Navy.     My three special topics for this AUDIO LETTER are:  Topic #1--THE MILITARY SECRET OF SOUTH GEORGIA ISLAND Topic #2--THE SECRET NAVAL WAR OF THE SOUTHERN HEMISPHERE Topic #3--THE ROCKEFELLER FEAR CAMPAIGN AGAINST NUCLEAR WAR.  Topic #1--When the Falkland Islands crisis began early this month it looked at first like a tempest in a teapot.  For a century and a half since 1833, the Islands have been controlled by Great Britain.  During that entire time, British sovereignty over the Falklands has been disputed by Argentina.  There have been countless threats by Argentina to seize the Islands, which it calls the Malvinas, but the threats have always come to nothing in the past and Britain has never even gotten very worried about them.     The Islands are four times as distant from Argentina as Cuba is from the United States, and they are not much of a prize.  After 150 years of occupancy, the Falklands are home to fewer than 2,000 British settlers and a lot of sheep.  In short, the remote Falkland Islands hardly look like something to fight over, and yet here we are watching another crisis take place.  We are watching as war erupts between Great Britain and Argentina.     The Thatcher government is acting as if it has forgotten all about its usual preoccupation with the Soviet threat at NATO's doorstep.  Instead, Britain is throwing almost everything it's got at Argentina---aircraft carriers, cruisers, destroyers, submarines, assault ships--you name it.  Luxury cruise ships have even been commissioned and turned into troop carriers overnight.  Wave after wave of additional assault troops have been activated and sent to join the fleet even after it sailed.  Ships and submarines have been pulled off station from normal NATO duty and sent to reinforce the task force.  The initial 40-ship force has grown steadily over the past several weeks into an armada numbering over 70.  Over two-thirds of the entire Royal Navy has already been deployed to the South Atlantic off Argentina.     Watching all this, a lot of people are asking: What's this fight really all about?  The most popular answer suggested in the major media is \\\"oil.\\\"  Vast deposits of oil are known to exist under the continental shelf between Argentina and the Falklands, but that has been known for nearly 10 years.  In no way does it explain the timing of the sudden military offensive by Argentina this month, and oil explains even less about the Argentine seizure of South Georgia Island.     South Georgia Island is 800 miles east of the Falklands with no known oil deposits anywhere near it; and compared to South Georgia, the Falklands are an island paradise.  South Georgia Island is covered with rugged mountains, treacherous valleys, glaciers, and semi-permanent snow.  Most of it is uninhabitable.  On top of all that, Argentina has absolutely no legal or historical claim to South Georgia Island.  In that respect it stands in sharp contrast to the Falklands.     In the early 1830s the Falklands were occupied for a while by Argentine colonists.  In 1833 the British expelled them and took over the Island.  For that and other historical reasons, Argentina argues that the Falklands really belong to Argentina, not Britain.     But no such argument is possible for South Georgia Island.  It has always been controlled by Britain, never by Argentina or Spain.  The Argentine seizure of South Georgia Island looks even more unreasonable from a military point of view.  Argentina's leaders are military men and they think in military terms.  They were well aware ahead of time that far-off South Georgia Island could not possibly be held for long.  By seizing it they were setting themselves up to absorb a military defeat, as the Island was retaken by Britain.  So the question is: Why did Argentina's military junta bother with the seemingly worthless South Georgia Island at all?     My friends, the answers to all these questions are military, not political or economic.  South Georgia Island possesses an enormous military secret.  It's a giant underground installation buried under the mountains at the northwest end of the Island.  The real reason for the so-called Falkland crisis is this secret installation, together with two other similar installations which I will describe shortly.     The secret military complexes have been in existence for many years; they are not new.  What is new is the accelerated nuclear war timetable of the American Bolshevik war planners here in Washington.  For the past two months I've been reporting the details of this new war plan to you as quickly as I can obtain and verify them.     The plan calls for NUCLEAR WAR ONE to erupt by September of this year 1982!!  It is this fast-approaching nuclear war threat that caused the so-called Falklands crisis to erupt now.     What is going on now is a coordinated effort to spoil part of the Bolshevik grand strategy for the coming nuclear war.  The mutual enemies of the American Bolsheviks here--namely, the Rockefeller cartel--and Russia's new rulers in the Kremlin are behind the present crisis.  They are trying to ruin Phase #3 of the \\\"PROJECT Z\\\" war plan which I revealed last month.  That phase is to be world domination by the American Bolsheviks after both Russia and the United States have been destroyed in NUCLEAR WAR ONE.  As I mentioned last month, the key to this plan is the existence of secret weapons stockpiles in various places around the world.     The American Bolshevik military planners here in America are working with other Bolshevik agents in key military positions of other countries to set off war.  Having done that, they intend to ride out the nuclear holocaust they have caused, safe and cozy in Government war bunkers!  When the warring nations finally lie smoldering and exhausted, the Bolsheviks will leave the shattered remains of their host countries.  They will rendezvous at the secret weapons installations and bring their weapons into the open.  They will confront the world with the only remaining fresh, up-to-date, powerful military force on earth; and using that military power, they will become the undisputed rulers of the world--that is, they plan to do all this, and they plan to pave the way for world domination very soon by setting off NUCLEAR WAR ONE in a matter of months.  The Rockefeller cartel and Russia's new anti-Bolshevik rulers are working together in a race against time to try to head off the Bolshevik war plan.     Last month I mentioned that the Bolsheviks here are benefitting from war preparations which were started by the Rockefellers long ago.  It has only been about three years since the Rockefellers were dislodged as the prime movers of the United States Government by the Bolsheviks.  Since that time the United States Government has been a house divided, torn by internal power struggles between rival Bolshevik and Rockefeller factions.  But before that, the United States had been dominated for decades both economically and politically by the Four Rockefeller Brothers.     In 1961 the Brothers launched a new long-range plan for world domination.  It was a two-prong strategy, half visible and half secret, which I first described long ago in AUDIO LETTER No. 28.  It was a plan for the United States to arm to the teeth in secret while appearing to disarm gradually.  Without repeating all the details, the basic idea was grandiose yet simple.  By deliberately appearing weak, the Rockefeller-controlled United States would maneuver itself into a nuclear war with Russia.  Then the secret weapons, including superweapons, would be unleashed to smash Russia and take over the world.     When they set the grand plan in motion in 1961, the Rockefeller Brothers were looking ahead to a nuclear war by the late 1970s.  Their military analysts concluded very early that the war being planned would have very different effects on the Northern and Southern Hemispheres.  Both superpowers, the United States and the Soviet Union, are located well up in the Northern Hemisphere; so are the other full-fledged nuclear powers--Great Britain, France, Red China, and India.  By contrast, the strategic targets for nuclear war in the Southern Hemisphere are relatively few and far between.  In other words, it was expected that the coming nuclear war would be essentially a Northern Hemisphere war.     In an all-out nuclear holocaust it is known that serious radioactive fallout will gradually spread to affect even areas not initially hit by war.  But there are limits to how far the war clouds can spread.  It was discovered long ago that there is very little mixing between the air of the Northern and Southern Hemispheres.  In the northern half of our planet, cold air from the North Pole works its way southward towards the equator, then it works its way back to the north as warm air.  A mirror image of this process takes up the southern half of the planet.  Northern and Southern Hemisphere air meet in the equatorial zone, but very little of the air changes places.     The military conclusion, my friends, is this: the coming nuclear war could ruin large areas of the Northern Hemisphere for generations to come; but if the calculations are right, the Southern Hemisphere could escape virtually unaffected by the war.  This was music to the ears of the Four Rockefeller Brothers.  A quick look at the globe of the world shows why.  The Rockefeller cartel has dominated Latin America ever since World War II.  As I discussed in my very first monthly AUDIO LETTER, Nelson Rockefeller solidified the cartel grip on Latin America during the war.  He accomplished this as so-called \\\"Coordinator of Hemispheric Defense\\\" for then-President Franklin D. Roosevelt.  So that takes care of the South American continent and its natural resources.     Then there is the African continent.  There, too, Rockefeller control was already in effect over wide areas of Black Africa, especially south of the equator.  All this was thanks to the efforts of John D. Rockefeller III, as I detailed in AUDIO LETTER No. 36.     Looking around the globe, the most important remaining land masses from the standpoint of world domination are Australia and New Zealand.  Thanks to World War II, both were wide open to the Rockefellers.     The Rockefeller Brothers decided to establish secret military installations in the Southern Hemisphere for use after the coming war.  By this means they expected to become the masters of the surviving southern half of planet Earth after the Northern Hemisphere war.  Then, as the Northern Hemisphere gradually recovered from the nuclear holocaust, the Rockefeller empire would be able to pick up the pieces.  In this way the third generation Rockefeller Brothers expected their family dynasty to inherit the Earth.     In order to control the Southern Hemisphere militarily after the war, some means would have to be available to project military power onto any land mass.  For example, revolts against Rockefeller domination would require troops--not a blast from the beam weapons on the Moon.  The most critical factor for postwar military domination of the world was found to be a navy.  A minimum of two secret naval fleets would be required--one based in the South Atlantic, the other in the South Pacific.  Since the reserve naval fleets were to be kept secret until after the Northern Hemisphere nuclear war, they could not be built in existing shipyards.  New construction facilities had to be built and they had to be hidden.  To hide an entire shipyard is no small task; they take up a lot of space.  On top of that, it was essential that the ships remain hidden after they were built.  The best way to achieve that was to combine the shipyard and naval base into one over-all secret installation.  Finally, the secret naval installation had to be invulnerable to nuclear attack; otherwise if its existence were ever discovered prematurely, the secret navy might be wiped out.     The combined requirements for secrecy, space, and protection against attack were formidable; but one day in 1959, while all these plans were still in the early stages of development, the answer presented itself.  During a so-called banking trip to Sweden, David Rockefeller was given a tour of a unique hidden naval port.  The port is hollowed out from solid granite cliffs which come right down to the water.  The entrance to the port is a gigantic hole in the side of the cliff which can be sealed off with enormous steel doors.  Inside this big doorway on the water a huge cavity has been hollowed out to accommodate ships.     The Rockefeller Brothers and their military adviser decided that a bigger, more secret, better protected version of the Swedish hidden port was just what they wanted.  A survey of candidate sites was then initiated.  The site survey covered coastal areas throughout the Southern Hemisphere.  Many areas were rejected very quickly because the topography was wrong.  Other areas were rejected because they were too close to the equator.  Still others had to be ruled out because there were too many people living nearby, making the desired level of secrecy impossible.  Finally, it was essential that the sites chosen for the secret naval installations be totally secure politically.     At last the sites for the secret naval installations were selected.  In the South Pacific, extreme southern New Zealand was selected.  This is what I was alluding to in AUDIO LETTER No. 71 three months ago when I called attention to New Zealand's extreme importance in the coming war.     In order to obtain the necessary space, the secret New Zealand naval installation had to be divided up into two sites located close together.  One is at the extreme southwest tip of South Island where the mountain range known as the Southern Alps comes down virtually to the water's edge.  The other part of the installation is built into the northwest tip of Stewart Island, which is off the tip of South Island.  The Stewart Island facility is hollowed out within a rise known as Mt. Anglem.     The New Zealand location met all the requirements.  Ever since World War II the government of New Zealand has been tied even closer to the United States than to Great Britain.  The location is far from the equator, and the installations are buried deep under mountains, protected from nuclear attack.  They are also too deep to be reached by particle-beam attacks, and the New Zealand site is well situated to command the entire South Pacific.     In the South Atlantic an even more perfect site was found.  That site, my friends, is South Georgia Island.  It is located perfectly for naval domination of the entire South Atlantic.  The tall, rugged mountains provided a perfect location for the secret installation at the northwest tip of the 100-mile long island.  It is controlled by Great Britain whose government, like that of New Zealand, was willing to cooperate; and South Georgia Island was virtually uninhabited except for a whaling station on the northeast coast.  The whaling station was some 50 miles away from the secret new installation which was being built, but Britain took no chances.  In 1965 the whaling station was closed down.  Since that time there have been no inhabitants on South Georgia Island except for a few dozen alleged Antarctic scientists.     Construction of the secret naval facilities--two in New Zealand, one on South Georgia Island--began in the early 1960's.  The techniques were adapted from those used previously to build other large underground facilities, such as the NORAD installation inside Cheyenne Mountain, Colorado; however these techniques were adapted in radically new ways to achieve construction access directly from the sea instead of overland.  In this way, the sheltering mountain was left undisturbed in appearance both during and after construction.     The cuts in the mountain side which were necessary to let ships in and out were kept as small as possible and were well camouflaged.  Like the Swedish hidden naval port arrangement, the entrances to the secret installations can be sealed up.  When sealed, the entrance is virtually impossible to detect unless you know exactly where it is; and unlike most large construction projects, there are no tailings or piles of leftover rock lying around to attract attention.  The man-made caverns which house the secret naval installations are enormous, but all the rock and debris was disposed of at sea.     Once the secret naval facilities were built, they had to be outfitted for ship construction and docksite storage.  The fake disarmament of the United States during the 1960s contributed greatly to this task.  From 1961 to 1968 one man played a pivotal role in this elaborate Rockefeller scheme.  He was then-Secretary of Defense Robert McNamara.  All through the 60's McNamara presided over the public paring back of America's visible military power.  This included the closing down and dismantling of entire shipyards.  What we were not told was where all that shipyard equipment went afterwards.  Where it went, my friends, was to the new secret installations which were being outfitted in New Zealand and South Georgia Island!     The secret naval installations have been used as duplication facilities to reproduce certain ships and submarines designed and built here in the United States.  As Defense Secretary Caspar Weinberger told Congress recently, it is cheaper to build two ships at a time.  That is especially true if the second ship is an exact duplicate of the first.  This has become even more true in recent years through the use of computerized manufacturing techniques.     The secret naval fleets which have been built at the secret installations are made up of duplicates--exact duplicates of certain other ships and submarines.  They are all nuclear powered--nuclear \\\"subs\\\"; nuclear cruisers; nuclear destroyers; and yes, nuclear aircraft carriers, three of them.  A secret twin was built for the U.S.S. Nimitz, for the U.S.S. Eisenhower, and for the newly-launched U.S.S. Carl Vincent.  All have been financed through the gigantic cost overruns, so called, that we constantly hear about in the Defense Department; and all three carriers have been provided with a full complement of aircraft whose manufacture was financed the same way!     The ships of the secret American Bolshevik naval fleets are all duplicates of other nuclear-powered vessels.  Even so, the secret naval ships possess one key difference.     Last month I revealed that the so-called \\\"Stealth Program\\\" has succeeded in developing a kind of electromagnetic invisibility shield.  This technique makes an object invisible from a distance by distorting light waves in its vicinity.     A whole new fleet of Phantom war-planes are now going into crash production that use this principle; and, my friends, all of the secret American Bolshevik navy ships have already been outfitted with similar Stealth-field equipment!  The Stealth principle is actually easier to apply to ships than to airplanes because there is more room for the powerful equipment that generates the field.     After NUCLEAR WAR ONE, the secret Stealth navy of the American Bolsheviks would be light years ahead of any other navy left on earth.  It would be perfect for the intended role of world domination.  The Rockefellers set it all in motion long ago, my friends, but three years ago they lost control of the United States Military.  Now it's the American Bolsheviks who are in control, and they are bent on war.     These secret naval installations have precipitated what is being called the \\\"Falklands crisis.\\\"  Topic #2--In AUDIO LETTER(R) No. 73 last month I described \\\"PROJECT Z\\\", the new Bolshevik three-phase strategy for NUCLEAR WAR ONE.     An elite group of American Bolshevik military planners here are flushing out the plan right now at a secret war-room here in Washington.  It's a plan by which the United States will strike the first nuclear blow, followed by all-out thermonuclear war with Russia.     Having set off the holocaust, the Bolsheviks here and in certain other countries plan to rise it out safe in comfortable war bunkers.  Finally after NUCLEAR WAR ONE fizzles out in stalemate, they plan to leave behind the ashes of the United States and her allies.  Activating Phase #3 of their grand strategy, they plan to unveil their secret weapons, especially their secret naval fleets.  With these they plan to conquer and rule what is left of the world.  The United States as we know it will be dead and gone; but in the eyes of the Bolsheviks themselves, this outcome will constitute victory.     Up to now the nuclear war timetable which I first revealed two months ago is still on track.  They are still shooting for nuclear war to begin by September of this year 1982!  Time is fast running out.     The Bolsheviks here are sprinting as fast as they can toward war; but, my friends, the Bolsheviks are not the only runners in this race.  They have two deadly enemies, both of whom are equally determined to trip up the Bolsheviks.  One enemy of the Bolsheviks here is the Rockefeller cartel; the other enemy is the new anti-Bolshevik ruling clique in Russia; and now these two mutual enemies of the Bolsheviks are pooling their efforts in certain ways.     In AUDIO LETTER No. 71 three months ago I reported that a limited, new anti-Bolshevik coalition was in the works between the Rockefeller cartel and the Russians.  The January 26 meeting between Haig and Gromyko in Geneva, Switzerland, was a turning point in the formation of this coalition.  It is now a reality, and is responsible for the so-called \\\"Falkland crisis\\\" now dominating the headlines.  It should be emphasized that this new relationship between the Rockefeller cartel and Russia falls far short of a true alliance.  They have very major disputes to be settled between them, but for the time being they have called a truce between themselves to deal with their mutual deadly enemy--the Bolsheviks here in America.     The first priority of the Russians and the Rockefellers is to slow down the Bolshevik preparations for imminent nuclear war.  If they can do that, time is on the side of the Rockefeller cartel in certain political movements which I discussed last summer in AUDIO LETTER No. 67.  A slow-down in the nuclear war timetable will also give more breathing space for additional anti-Bolshevik actions to be implemented.     The joint Rockefeller-Russian planners decided by mid-February that military action against the Bolsheviks was essential very quickly.  No other type of action had any hope of taking effect fast enough to prevent nuclear war by the end of this summer.     The exact details of the \\\"PROJECT Z\\\" war plan are not known to either the Rockefellers or the Russians, but the general outlines are known to be as I described last month.     It was decided that military action should be devised that would undermine Phase #3 of the Bolshevik war plan--that is, the Bolshevik-controlled secret naval installations and fleets in the Southern Hemisphere should be attacked and crippled.  By working together, the Rockefeller cartel and the Russians were able to devise an attack plan which neither could have carried out alone.  The Rockefeller group, who built and originally controlled these bases, provided detailed Intelligence about the best way to attack them.  The Russians with their enormous military machine provided the muscle to actually carry out the attack.     It was essential to devise a scheme that would enable both secret fleets in the South Atlantic and South Pacific to be attacked.  Survival intact of either fleet would leave the Bolshevik war plan still workable.     Military analysts concluded very quickly that a direct assault on the New Zealand facilities was out of the question.  There was no combination of commandos, frogmen, or other military force which could possibly keep an attack secret from the outside world.  Any attack on the New Zealand bases would set off the very war which the Rockefellers and Russians want to prevent.     But the situation in the South Atlantic was a different matter.  In a way, the greatest asset of South Georgia Island was also its Achilles' heel.  The extreme isolation which protected the secrecy of the South Georgia base also made a covert military assault feasible.  The key lay with Argentina and her long-standing claims to the Falkland Islands.     As I mentioned in Topic #1, the Rockefeller cartel has dominated all of Latin America for decades.  Cartel operatives were sent to Argentina to work out a deal with the government military junta there.  The historic dispute over the Falkland Islands was to be used to provide a ruse, a military cover, to enable the South Georgia base to be attacked.  The Argentine generals were not told everything about the situation by any means, but they were told enough to make clear what they were to do.     As an inducement to cooperate, the Argentine leaders were promised handsome rewards.  They were guaranteed that after the shooting was over, the Falkland Islands would remain in Argentine hands.  This guarantee included the promise of covert military assistance as needed against the Royal Navy.  And to bolster the troubled Argentine economy, it was promised that the Rockefeller cartel will help develop the immense offshore oil reserves.  With these combined promises of military glory and financial rewards, the Argentine military junta agreed to the plan.     On March 19 Argentina carried out Act #1 in the joint attack plan.  A group of Argentine scrap-metal merchants, of all things, landed at the abandoned old whaling station on South Georgia Island.  Supposedly they were there to dismantle the old buildings and cart them off to sell.  While they were at it they also raised the Argentine flag over the work-site.  The British, always nervous about South Georgia Island, promptly reacted as expected.  The British Antarctic survey ship \\\"Endurance\\\" put 22 Marines ashore.  They drove off the scrap merchants and tore down the Argentine flag.     The incident provided the desired excuse for the Argentine Junta to bring the simmering 150-year-old Falklands dispute to a boil.  From time to time in the past, Argentina has claimed that South Georgia is part of the Falklands because it is administered that way by Britain.  That argument is very flimsy but it now came in very handy.  It was nothing new to hear this from Argentine leaders, so there was no hint of what was really afoot.     During late March, Argentine military forces started assembling for an assault on the Falklands.  \\\"Nothing new\\\", thought the British high command.  Argentina has carried out threatening maneuvers in the past many times.  It was believed that they were about to do it again; but on April 2 Argentine forces did the unexpected.  After many past false alarms, this time they actually invaded and seized the Islands.  All Argentine public statements emphasized the long-standing historical claims to the Falklands themselves; but just for good measure, the next day a small Argentine force also seized far-off South Georgia Island.  The force was so small that it gave the appearance initially that it was just a side show from Argentina's point of view; however, the small contingent of 22 Royal Marines were overpowered and bundled off the Island along with a group of 13 alleged scientists.  That was the moment of payoff in the joint Rockefeller-Russian attack plan.     Thanks to the elaborate distraction staged by the Argentine forces, a special commando team got onto the Island undetected.  Based on the detailed Rockefeller information about the base, the team moved to a location on the mountain directly above the cavernous secret base.  Special high-speed drilling equipment was set up by the Rockefeller members of the team while the Russian members concentrated on military defense.  By late that evening, April 3, the military high command in London finally learned what was really taking place.  The secret South Georgia base was under attack by virtually the only means possible.  The joint Rockefeller-Russian team were drilling a shaft down through the mountain toward the hollowed out cavern inside.  It was only a matter of time until their drill would break through the ceiling of the giant hidden naval base.  Once the hole was made, the next step was obvious.  The Rockefeller-Russian team would put a weapon of some kind through the hole.  The best guess was that it would be a nerve gas.     The shock waves that went through the highest levels of the British government on the evening of April 3 can hardly be described, my friends.  The Thatcher government, like the so-called Reagan Administration here in America, is Bolshevik controlled.  That's why Margaret Thatcher always says, \\\"Me, too\\\" any time the Reagan Administration says or does anything against Russia.  Both governments are party to the secret nuclear war plan in complete betrayal of the people of their respective countries, and on the evening of April 3 they suddenly discovered that their precious war plan was in deep, deep trouble.     Immediately the Thatcher government started assembling a naval armada to sail for the South Atlantic.  Haste was the order of the day.  The drilling on South Georgia Island was proceeding around the clock.  The best estimates were that the drilling would break through into the roof of the naval base in about three weeks, on or about April 24.  If help did not reach South Georgia by then, the secret installation might be doomed.  The forces stationed at the installation itself were unable to defend themselves under the circumstances.  Their mighty naval ships were ships in a bottle.  They did not dare open the bottle to sail out to fight because the Russian commandos were armed with tactical and nuclear weapons.  To open the blast-proof entrance doors would be suicide.     On April 5, just two days after South Georgia Island was seized, some 40 naval ships began moving out of British ports.  The same day Lord Carrington was sacked as Foreign Minister.  He was forced to resign, my friends, because he had assisted the Rockefeller attack plan by downplaying the Argentine attack preparations.     That same day, April 5, New Zealand, the home of the other secret naval fleet, broke diplomatic relations with Argentina.  The two hidden New Zealand facilities had been placed on \\\"Red Alert.\\\"  As a precautionary measure, all submarines at the twin base were ordered to sea.  Several surface ships were already at sea undergoing \\\"sea trials\\\", but that still left seven (7) major ships inside the hidden twin naval base including one of the nuclear aircraft carriers I mentioned earlier.     On that busy day of April 5, Argentina's Foreign Minister, Costa Mendez, was at the United Nations in New York.  He was alarmed by the deployment of such a large part of the Royal Navy.  Costa Mendez hurried here to Washington to seek reassurances from certain officials.  He got them!     For the next two weeks or so the news was filled with stories about the allegedly slow movement of the British fleet while negotiations went on.  That, my friends, was only a cover story.  The Royal Navy was actually joining up and moving as rapidly as possible toward South Georgia Island.  If the task force arrived in time to save the secret base, a major battle was likely.  The official stories about \\\"slow movement\\\" of the British armada were intended to give a cushion of time for that battle.  If need be, the fleet would have several days to retake South Georgia Island, then it could move on to arrive near the Falklands on the announced schedule.  In this way the crucial importance of South Georgia Island would be hidden and the big secret preserved.     It was initially expected that advance elements of the British fleet would reach the vicinity of South Georgia Island within two weeks.  That would have been soon enough to attack the joint Rockefeller-Russian commando team and stop the drilling before it was completed.  But Russian Cosmospheres and submarines made a shambles of the plan.     Key advance elements of the South Georgia attack contingent left Ascension Island early April 14, two days before it was announced officially.  Shortly after they did so, they ran into trouble.  Russian Cosmospheres and attack submarines closed in on a single ship which was critical to the planned counterassault on South Georgia Island.  The Cosmospheres bombarded the bridge and combat information center of the ship with neutron radiation.  In moments the ship was without any command, its communications and radar silenced.  Then a Russian \\\"sub\\\" closed in and quickly finished off this key British ship with torpedoes.  It broke apart with secondary explosions and sank rapidly.  So far as is known, there were no survivors.     This unexpected shock in the mid-Atlantic produced two results, both important:  First, it caused a slowdown in the race toward the South Atlantic by the British armada.  The task force had to be regrouped into a configuration better suited for an enroute defense, but that cost valuable time.  Public announcements from London about the progress of the fleet reflected this slowdown.  The timetable for arrival on battle stations near the Falklands started stretching out longer and longer.  All this bought extra time for the joint commando team on South Georgia Island.  The drilling continued.  The other result of the sinking was equally important.  Word was flashed to the South Pacific Stealth navy to prepare for possible action.  It was obvious that the Russian Navy was getting involved in the Atlantic, which meant that the Royal Navy could be in big trouble.  During the dead of night, early April 15, the seven Stealth ships put to sea from their twin secret bases in southern New Zealand.  They deployed to a secret operational headquarters area in the Antipodes Islands, 450 miles southeast of New Zealand.  Their electromagnetic shields were operating to provide protection from attack.  These shields make it impossible to communicate with the outside world or even to see it, as I explained last month; but once they arrived at the Antipodes, the Stealth ships hooked up to buoys equipped with shielded communication cables to the Island headquarters.  The Antipodes headquarters, in turn, was in constant touch with the South Georgia base by way of a transoceanic cable around the tip of South America.  The deployment of the available ships of the South Pacific Stealth fleet was exactly what the joint Rockefeller-Russian planners had hoped for.  The ships had been flushed out from their essentially invulnerable hiding place in New Zealand!     The British ship's sinking of April 14 was also followed by other events.  On April 15 the Argentine Navy started moving out of port.  The same day, Alexander Haig arrived again in Buenos Aires.  Supposedly he was there as a diplomat, but in reality he was there as a General, dealing with Generals.  Haig is the top Governmental operative of the Rockefeller cartel, as I have revealed in the past.  He was making sure that the Argentines did not get cold feet and back down at that critical moment.  Four days later, April 19, Haig left for Washington.  As he boarded his plane, Haig somberly told reporters, \\\"Time is running out.\\\"  And so it was, my friends, for the secret South Georgia base.     The very next day, April 20, the drill broke through into the hollowed-out cavern of the naval base.  Bolshevik military analysts in London had not expected that it could be completed until at least the following weekend.  The British fleet was still out of range.     The weapon which the commando team inserted down through the long hole was a small, compact Russian neutron bomb.  When it was detonated inside the confines of the huge artificial cave, the effects were devastating.  The intense radiation instantly killed everyone inside the base.  Also the heat and blast effects of the bomb are believed to have damaged all the ships inside sufficiently to badly disable them.     Meanwhile, Russian Cosmospheres and submarines were converging on the Stealth ships which were near the Antipodes Islands awaiting orders.  From a distance, the ships were invisible to the eye due to their protective shields, which also protect against beam-weapon attack; but they were sitting ducks for the tactics which the Russians employed.     Floating overhead, the Cosmospheres located the seven ships using their Psychoenergetic Range-Finding equipment known as PRF.  As I have reported in the past, there is no method known by which PRF can be jammed.  The Cosmospheres radioed the exact locations of the ships to the attack submarines.  The \\\"subs\\\" were armed with special non-homing, non-nuclear torpedoes designed to explode on impact.  More sophisticated torpedoes would have been thrown off course or detonated prematurely by the protective shield of each ship; but these simple torpedoes just cruise right through each invisibility field to strike the ship and explode.  Within 15 minutes after the attack began, all seven Bolshevik Stealth ships were on their way to the bottom, and with them went their Bolshevik Commanders and mercenary crews collected from around the world.     The South Pacific action took place just after sunset local time.  The time here in Washington was around 2:00 P.M. April 23.  That evening Secretary of State Haig was seen briefly in public with the new British Foreign Minister, Francis Pym.  Pym was wearing the artificial pseudo-smile which diplomats are taught always to display in public.  But not Haig.  Haig was grinning from ear to ear, and no wonder.  The joint Rockefeller-Russian military operation had been a brilliant success.  The secret Bolshevik South Atlantic fleet had been virtually wiped out, bottled up inside South Georgia Island; and the South Pacific fleet, while not totally wiped out, had been badly crippled.  By working together, the Rockefeller cartel and the Russians had won the secret naval war of the Southern Hemisphere.  Topic #3--As I say these words, news reports give the impression that war is about to erupt in the South Atlantic, but the real war in the Southern Hemisphere is already over.  What we are watching now is the beginning of its bloody aftermath.  That aftermath is the battle for the Falkland Islands.  They have been promised to Argentina as a reward for her role in the secret war.     At this moment the Bolsheviks here in Washington are pressing for a public announcement that the United States will side with Britain.  As soon as that takes place, military action will heat up fast around the Falklands.  Britain has no choice but to fight.  She has already suffered casualties which cannot be explained without a public battle; but by fighting, the Bolsheviks in Britain are running the risk of a humiliating and tragic defeat for the Royal Navy.     Meanwhile, the Rockefeller strategists here are now concentrating on a fast-building, anti-nuclear-war campaign.  On all sides now we are hearing about the so-called \\\"nuclear freeze movement.\\\"  There are documentaries, articles, publicity of all kinds to sensitize us to the terrors of nuclear war.  In recent months, there have even been referenda popping up on election ballots dealing with the nuclear war issue.  Medical doctors are banding together to warn the public about what would happen if there were a nuclear war.     We are being told that all this is just popping up spontaneously.  We are now 37 years into the nuclear age and nothing like this has ever gained so much momentum before, yet now we are supposed to believe that millions of Americans have spontaneously gotten the same ideas at the same time.  If you believe that, my friends, I give up.  Movements like this never, and I mean never, develop without leadership, organization, and money--and plenty of it.     What we are watching is the Rockefeller public relations machine at work.  As I've explained in the past, the Rockefeller cartel cannot afford to let a nuclear war take place.  If it does, they will lose everything because they are not in a position to control it.  Instead, the deadly enemies of the Rockefeller cartel, the Bolsheviks here, will win out if there is a war; and so the Rockefeller faction is now doing everything in its power to prevent a nuclear war.     The present anti-nuclear-war orientation of the Rockefeller cartel creates certain temporary common interests between them and Russia; but as Russia's new rulers know very well, this does not spring from any great moral perspective on the part of the Rockefeller group.  It's purely a matter of practical necessity right now for the Rockefellers.     The Russians regard the United States as a house divided, and they are exploiting that division by working in careful ways with the Rockefellers.  Their first priority is to rid the world of the deadly Bolshevik menace of all-out, even suicidal, nuclear war; but once that is done, they know that there will be a day of reckoning with the Rockefeller cartel some day.     The Rockefeller group is working toward a definite objective with their new anti-nuclear-war propaganda.  That objective is renewed power--and power that moves them closer to their old dream of WORLD GOVERNMENT.  The Bolsheviks here have unwittingly provided fertile ground for the powerful new Rockefeller antiwar campaign.  Under Bolshevik control, the so-called Reagan Administration has become so hawkish that it's scaring people.  The Rockefeller antiwar campaign is designed to capitalize on that latent fear as a tool of power.     These days the smell of war is in the air.  The Falklands crisis is helping to make that more intense.  The Rockefeller propaganda machine is now paving the way for the argument that surrender of sovereignty is the only way to avoid war.  A new super-United Nations of sorts is now in the works to fill the bill.  It will have teeth!  As presently envisioned, the new organization will be based in Geneva, Switzerland.  The working name, though this may be changed, is the \\\"World Nonproliferation Council.\\\"  The plan is to bring it into being as the outgrowth of nuclear nonproliferation treaties, but its true purpose will be to use fear--the fear of war--to control us all.                         LAST MINUTE SUMMARY     Now it's time for my Last Minute Summary.  In this AUDIO LETTER I have reported on the reasons behind the so-called Falkland Islands crisis.  The crisis erupted because of secret Bolshevik-controlled naval installations in the Southern Hemisphere.  These have been attacked by joint action of the Rockefeller cartel and the Russians in an attempt to slow down the nuclear-war timetable.  The attacks were successful, but the results remain to be seen.  One result, though, is that the Royal Navy has now been drawn into a trap.  Britain's Waterloo at sea may well be at hand.     My friends, two factions are struggling for control over our United States--the Rockefeller cartel and the Bolsheviks.  They differ in style but both seek to control us through fear.  If we are ever to rise above their trickery, it must be through the power of our Lord Jesus Christ, our only hope.  As the Scripture tells us, our Lord \\\"...has not given us the spirit of fear; but of power, of love, and of a sound mind.\\\"  We must learn to wage peace.  As our Lord declared long ago, \\\"Blessed are the peacemakers: for they shall be called sons of God.\\\"\",\"I have one word for you LOSER!!!!\",\" The FDA, I believe.  Rules say no blood or blood products donations from anyone who has been in a malarial area for 3 years.  I was a platelet donor until my Thailand trip and my blood bank was very disappointed to find out they couldn't use me for 3 years.  Not necessarily.  The same rules may not apply to organ donation as to blood donation.  In fact, I'm sure they don't.    --  ---------------------------------------------------------------------------- Gordon Banks  N3JXP      | \\\"Skepticism is the chastity of the intellect, and geb@cadre.dsl.pitt.edu   |  it is shameful to surrender it too soon.\\\" \",\" Theoretically supposed to be reduced.... not any longer.  That's why everyone is arguing about RISC v.s. CISC.  Personally, I think CISC will win out. Just take a look at the Pentium!  (Not that I like Intel architectures either, but that's another story...)  bye!   ------------------------------------------------------------------------------- Brian \\\"Hojo\\\" Lee       | \\\"Hey, excuse me miss, could I have a .GIF of you?\\\" leebr@ecf.toronto.edu  | leebr@eecg.toronto.edu | (try Linux... the best and free UN*X clone!)\",\"Hi,\",\"                        ^^^^^^^^^^^^^^^^^^^^^^^^^^^^^^^^^^^^^^^^^^^^^^^^^^   ^^^^^^^^^^^^^ Joe, just 'cause you say they aren't subject to interpretation doesn't necesarily make it so.  That's *your* *interpretation* of these texts.   2 Peter 1:20-21 But know this first of all, that no prophecy of Scripture is a matter  of one's own interpretation, for no prophecy was ever made by an act of human will, but men moved by the Holy Spirit spoke from God.  The study notes in my Bible offer three possible meanings for verse 20. Apparantly it's not as clear to Charles Ryrie as it is to you.  2 Timothy 3:16-17 All Scripture is inspired by God and profitable for teaching, for reproof, for correction, for training in righteousness; that the man of God may be adequate, equipped for every good work.  Galations 1:11-12 For I would have you know, brethren, that the gospel which was preached by me is not according to man.  For I neither received it from man,  nor was I taught it, but I receieved it through a revelation of Jesus Christ.  When I read these passages, it was not immediately clear to me what every phrase meant.  I had stop and think about the possible connotations of words, what the intent of the author may have been, wonder if the translator used the correct English word to convey the  same meaning: I had to interpret.  If you want to believe that your  are not interpreting Scripture as you read, there's probably nothing  I can say to change your mind.  But I think it's naive to think that  our culture, experiences, education, do not affect everything we read.   In college, I took an entire course in Biblical interpretation.  Go to any Christian bookstore, there are scores of books on interpreting and understanding Scripture.  If interpretation is unnecessary, there are  an awful lot of misguided Christians out there wasting a lot of time  and energy on it.\",\"Jesus:     Black and white.  A spade is a spade.  There is no hidden agenda behind this, so stop trying to look for one.   It is an easy and as straight forward as it reads.  Kent, I am not accusing you of evil things.  Jesus is accusing you. And it is not only you that He is accusing.  He is accusing everyone. Me, you and everyone in the world is guilty.  Whether one sees the light or does not seen the light has nothing to do with  whether we do evil things.  We do them regardless.    Jesus uses the word \\\"men\\\".  I am included.  Jesus is not soloing you out. Jesus is making a general statement about out the sad state of man. Christians are not immuned from doing evil things.  A Christian  is just a person in whom the Holy Spirit indwells.  A Christian  can see the evil he is doing--because his evil has been brought out into the light.  Jesus is not saying that just because evil has been exposed, that the Christian will stop doing evil.  If you haven't seen Jesus's light, your evil deeds simply haven't been exposed to the His light.  You may shed some light on your own.  Your human spirit shines at perhaps 1 candela.  But the Holy Spirit shines at a Megacandela.  The Holy Spirit can shine light into places inside us where we didn't even know existed.   So do you see Jesus's point?  Christians are not perfect.  Nonchristians are not perfect.  Nonchristians do not want to come into the Light of Jesus because they will see all the problems in their lives, and they will not like the sight.  It is an ugly thing to see how far we have fallen from Jesus's perspective.  Do you think you want to know how really ignorant you are?  Do you think Brian Kendig wants to know?  Do you think I want to know?  Ego verses the truth, which do you choose?   And I watched Koresh too, an imposter who thought he saw the light,  who made sure that the 19 children burned to death, sadly, as part of his delusion.  It is even sadder that the people who died with him chose to die with them, and that ignorance was their downfall to death.   And Kent, don't you bury yourself underneath a rock with an excuse like bringing up Koresh--as if Koresh actually had truth in him. David Koresh was no light and no excuse for you to stay away from the real Jesus Christ.  David Koresh, who claimed to be Jesus, was a fraud.  It was obvious.  David Koresh was born in America. Jesus was born in Bethlehem.  Koresh wasn't even a good imposter having missed an obvious point as that.  Jesus warned of such imposters in the end-times.  David Koresh wasn't anything new to Jesus.  Jesus told us to be aware of imposters 2000 years ago.    So the next time an imposter makes a scene and claims to be Jesus.  Ask the obvious.  Where were you born?  Was your mother's name Mary?  If the Branch Davidians asked that simple question, they would have labeled Koresh a liar right from the start.  The wouldn't have followed Koresh. They wouldn't have died.  But look what happened.  Their ignorance cost them their lives.  Their choice to be ignorant cost them a lot.  Kent, since you studied the Bible under Lutheranism, do you not remember what tactic Satan used to try to tempt Jesus?   Did not Satan quote the Bible out of context?  Do you remember what tactic the serpent of Genesis used to tempt Eve?  Did he not misquote God?  What Satan used on Eve and succeeded,  was the same ploy he tried on Jesus.  But in Jesus's case, Jesus rebuked Satan back with the Bible _in_ context.  It didn't work with Jesus.    Does what Satan did to Eve in the Garden and what Satan tried to do with Jesus in the desert remind you of what Koresh did to his followers?  Who did Koresh emulate? Who was Koresh's teacher?  Koresh did to his followers what Satan did to Eve.  Did not Koresh kill his followersr?  Did not Satan cause Adam and Eve to die as well?  Did not the cult followers believe Koresh even though they knew the real Christ was born in Bethlehem?   Did not Eve choose to eat from the tree of the knowledge of good and evil despite knowing that it would cause her death?  God held them all responsible--deceiver and the rebeller.  None  of them had an excuse.  \",\"is it possible to fit an FPU in a mac SE?  (not a SE/30, but the plain old SE);  if possible,  would I get any speed increase?  what would be the reference of the chip?  thanks in advance,  \",\" Of course not.  The USA's only hope is for Yelsen (how ever you spell it) to   fail the referendum, and have the hard-liners take over again.   -- jmd@handheld.com\",\" Actually, Messier was invited, but declined due to nagging injuries... Keenan and Messier have always gotten along...Keenan dumped Steve Yzerman from the last Canada Cup team, even though Yzerman had endured the training camp, when Messier who had missed essentially the entire camp recovering from injuries became available at the last moment.\"]],[\"SUBSET\",[\"raw\",\"raw\",\"raw\",\"raw\",\"raw\",\"raw\",\"raw\",\"raw\",\"raw\",\"raw\"]],[\"label\",[\"ABSTAIN\",\"ABSTAIN\",\"ABSTAIN\",\"ABSTAIN\",\"ABSTAIN\",\"ABSTAIN\",\"ABSTAIN\",\"ABSTAIN\",\"ABSTAIN\",\"ABSTAIN\"]]]}}},\"view\":{\"type\":\"object\",\"name\":\"CDSView\",\"id\":\"p1053\",\"attributes\":{\"filter\":{\"type\":\"object\",\"name\":\"AllIndices\",\"id\":\"p1054\"}}},\"columns\":[{\"type\":\"object\",\"name\":\"TableColumn\",\"id\":\"p1043\",\"attributes\":{\"field\":\"text\",\"title\":\"text\",\"formatter\":{\"type\":\"object\",\"name\":\"HTMLTemplateFormatter\",\"id\":\"p1042\",\"attributes\":{\"template\":\"<span href=\\\"#\\\" data-toggle=\\\"tooltip\\\" title=\\\"<%= value %>\\\"><%= value %></span>\"}},\"editor\":{\"type\":\"object\",\"name\":\"CellEditor\",\"id\":\"p1041\"}}},{\"type\":\"object\",\"name\":\"TableColumn\",\"id\":\"p1046\",\"attributes\":{\"field\":\"label\",\"title\":\"label\",\"formatter\":{\"type\":\"object\",\"name\":\"StringFormatter\",\"id\":\"p1047\"},\"editor\":{\"type\":\"object\",\"name\":\"StringEditor\",\"id\":\"p1048\"}}}],\"editable\":true,\"selectable\":\"checkbox\"}}]}};\n",
       "  const render_items = [{\"docid\":\"3f2e35c0-9f2e-4360-ae3d-ed1e7895ba36\",\"roots\":{\"p1049\":\"f10bc6ce-fc9d-4d49-b72e-9bedd2d1652c\"},\"root_ids\":[\"p1049\"]}];\n",
       "  root.Bokeh.embed.embed_items_notebook(docs_json, render_items);\n",
       "  }\n",
       "  if (root.Bokeh !== undefined) {\n",
       "    embed_document(root);\n",
       "  } else {\n",
       "    let attempts = 0;\n",
       "    const timer = setInterval(function(root) {\n",
       "      if (root.Bokeh !== undefined) {\n",
       "        clearInterval(timer);\n",
       "        embed_document(root);\n",
       "      } else {\n",
       "        attempts++;\n",
       "        if (attempts > 100) {\n",
       "          clearInterval(timer);\n",
       "          console.log(\"Bokeh: ERROR: Unable to run BokehJS code because BokehJS library is missing\");\n",
       "        }\n",
       "      }\n",
       "    }, 10, root)\n",
       "  }\n",
       "})(window);"
      ],
      "application/vnd.bokehjs_exec.v0+json": ""
     },
     "metadata": {
      "application/vnd.bokehjs_exec.v0+json": {
       "id": "p1049"
      }
     },
     "output_type": "display_data"
    }
   ],
   "source": [
    "dataset._callback_update_selection(dataset.dfs[\"raw\"][:10])\n",
    "\n",
    "show(dataset.sel_table, notebook_url=notebook_url)"
   ]
  },
  {
   "cell_type": "markdown",
   "id": "ec652ade",
   "metadata": {},
   "source": [
    "<br>\n",
    "\n",
    "### **Edit Data Within a Selection**\n",
    "\n",
    "Often the points selected are not perfectly homogeneous, i.e. some outliers belong to a different label from the selected group overall. It would be helpful to `EVICT` them, and `SupervisableDataset` has a button for it.\n",
    "\n",
    "Sometimes you may also wish to edit data values on the fly.  In hover this is called `PATCH`, and there also is a button for it.\n",
    "\n",
    "-   by default, labels can be edited but feature values cannot.\n",
    "\n",
    "Let's plot the forementioned buttons along with the selection table. Toggle any number of rows in the table, then click the button to `EVICT` or `PATCH` those rows:"
   ]
  },
  {
   "cell_type": "code",
   "execution_count": 5,
   "id": "2de976f3",
   "metadata": {
    "execution": {
     "iopub.execute_input": "2023-11-28T01:26:04.879477Z",
     "iopub.status.busy": "2023-11-28T01:26:04.879129Z",
     "iopub.status.idle": "2023-11-28T01:26:04.894908Z",
     "shell.execute_reply": "2023-11-28T01:26:04.894239Z"
    }
   },
   "outputs": [
    {
     "name": "stderr",
     "output_type": "stream",
     "text": [
      "WARNING:bokeh.embed.util:\n",
      "You are generating standalone HTML/JS output, but trying to use real Python\n",
      "callbacks (i.e. with on_change or on_event). This combination cannot work.\n",
      "\n",
      "Only JavaScript callbacks may be used with standalone output. For more\n",
      "information on JavaScript callbacks with Bokeh, see:\n",
      "\n",
      "    https://docs.bokeh.org/en/latest/docs/user_guide/interaction/callbacks.html\n",
      "\n",
      "Alternatively, to use real Python callbacks, a Bokeh server application may\n",
      "be used. For more information on building and running Bokeh applications, see:\n",
      "\n",
      "    https://docs.bokeh.org/en/latest/docs/user_guide/server.html\n",
      "\n"
     ]
    },
    {
     "data": {
      "text/html": [
       "\n",
       "  <div id=\"bea1a6be-313b-4e8e-839e-a2eff276b8de\" data-root-id=\"p1058\" style=\"display: contents;\"></div>\n"
      ]
     },
     "metadata": {},
     "output_type": "display_data"
    },
    {
     "data": {
      "application/javascript": [
       "(function(root) {\n",
       "  function embed_document(root) {\n",
       "  const docs_json = {\"ce3778fe-9a33-4a2b-add9-bef595195989\":{\"version\":\"3.3.1\",\"title\":\"Bokeh Application\",\"roots\":[{\"type\":\"object\",\"name\":\"Column\",\"id\":\"p1058\",\"attributes\":{\"children\":[{\"type\":\"object\",\"name\":\"Row\",\"id\":\"p1057\",\"attributes\":{\"children\":[{\"type\":\"object\",\"name\":\"Button\",\"id\":\"p1006\",\"attributes\":{\"button_type\":\"primary\",\"label\":\"Evict Rows from Selection\"}},{\"type\":\"object\",\"name\":\"Button\",\"id\":\"p1005\",\"attributes\":{\"button_type\":\"warning\",\"subscribed_events\":{\"type\":\"set\",\"entries\":[\"button_click\"]},\"label\":\"Update Row Values\"}}]}},{\"type\":\"object\",\"name\":\"DataTable\",\"id\":\"p1049\",\"attributes\":{\"source\":{\"type\":\"object\",\"name\":\"ColumnDataSource\",\"id\":\"p1038\",\"attributes\":{\"selected\":{\"type\":\"object\",\"name\":\"Selection\",\"id\":\"p1039\",\"attributes\":{\"indices\":[],\"line_indices\":[]}},\"selection_policy\":{\"type\":\"object\",\"name\":\"UnionRenderers\",\"id\":\"p1040\"},\"data\":{\"type\":\"map\",\"entries\":[[\"text\",[\"SECRET PURPOSE OF FALKLANDS WAR;  [with IN-VISIBILITY Technology]  Dr. Beter AUDIO LETTER #74 of 80  Digitized by Jon Volkoff, mail address eidetics@cerf.net  \\\"AUDIO LETTER(R)\\\" is a registered trademark of Audio Books, Inc., a Texas corporation, which originally produced this tape recording.  Reproduced under open license granted by Audio Books, Inc.  -----------------------------------------------------------------  This is the Dr. Beter AUDIO LETTER(R), 1629 K St. NW, Washington, DC  20006.     Hello, my friends, this is Dr. Beter.  Today is April 30, 1982, and this is my AUDIO LETTER(R) No. 74.    It's now been almost one month since war broke out in the South Atlantic.  On the surface it seems that it's only a dispute between Argentina and Great Britain over the barren, wind-swept Falkland Islands and South Georgia Island.  In reality, it's far more than that.     The so-called Falklands crisis is just the visible tip of a giant military operation.  During this month of April 1982, fierce naval battles have taken place--not only in the South Atlantic but also in the South Pacific.  Up to now most of the hostilities have been kept under wraps by wartime censorship on all sides.  But as I say these words, the naval war in the Southern Hemisphere is about to come to the surface.     Beginning today, April 30, a total naval and air blockade of the Falklands by the Royal Navy has begun.  At the same time a counterblockade has been declared by Argentina in the same area.     To be effective, a blockade must be imposed over a period of time, but the Royal Navy does not have that much time.  Winter is coming on in the South Atlantic, and the British supply lines are overextended.  Having come this far, Her Majesty's navy cannot simply drop the blockade and sail away in a few weeks time without drawing blood from Argentina.  As a result the British will be forced to undertake military operations very soon no matter how risky they may be.     There is also another reason why the Royal Navy now has no choice but to engage the Argentine forces in combat.  That reason, my friends, is that the Royal Navy has already suffered losses in secret combat this month.  Up to this moment there will be no way to explain away the damage which has been sustained by the British fleet.  Only when publicly admitted fighting erupts will the British dare to admit that they have suffered battle losses.  To obtain that cover story, the British have no choice but to sail into combat; but in doing so, they will be risking even heavier losses on top of those already sustained.  In short, my friends, Her Majesty's navy has sailed into a trap.     The events now unfolding in the South Atlantic carry strange, ironic echoes of the past.  For weeks now we've been hearing countless commentators referring to the British task force as an \\\"armada\\\" (quote).  The British of all people ought to be very uneasy with that description.  The original Spanish Armada 400 years ago was renowned as a seemingly invincible fighting force, but it came to grief in a naval disaster so complete that it changed the course of history--and it was none other than the English navy that destroyed the Spanish Armada.     The original Spanish Armada put to sea in 1588 during the reign of England's Queen Elizabeth I.  The Armada was an invasion fleet carrying thousands of crack fighting men to invade England.  They were met by the daring sea dogs of Sir Francis Drake.  Drake and his small, fast ships turned the tables on the Spanish Armada by changing the rules of battle.  The English fleet was equipped with new longer-range guns, and it stayed upwind and out of reach.  From there the English pounded, smashed, and shattered the big ships of the mighty Armada.  When it was all over, barely half the Spanish fleet was left to limp back to port.  Drake's defeat of the Spanish Armada was a shock to the world.  It opened the door for England under Queen Elizabeth I to start its expansion into a truly global empire.     Today, 400 years later, history seems to have come full circle.  Queen Elizabeth II is witnessing the dismantling of the world empire whose heyday began under Queen Elizabeth I, and now the cultures of England and of Spain are once again in confrontation.  Once again a so-called armada is preparing for invasion, but this time the armada is British, not Spanish.  Four hundred years ago Sir Francis Drake was the hero of the day; today, the ghost of Francis Drake is once again on the scene.     The South Atlantic war zone is at the eastern end of the Drake Passage around the southern tip of South America.  The defeat of the Spanish Armada four centuries ago broke the back of Spain's naval supremacy, and now the defeat of the new British armada may well break the back of what remains of the once glorious Royal Navy.     My three special topics for this AUDIO LETTER are:  Topic #1--THE MILITARY SECRET OF SOUTH GEORGIA ISLAND Topic #2--THE SECRET NAVAL WAR OF THE SOUTHERN HEMISPHERE Topic #3--THE ROCKEFELLER FEAR CAMPAIGN AGAINST NUCLEAR WAR.  Topic #1--When the Falkland Islands crisis began early this month it looked at first like a tempest in a teapot.  For a century and a half since 1833, the Islands have been controlled by Great Britain.  During that entire time, British sovereignty over the Falklands has been disputed by Argentina.  There have been countless threats by Argentina to seize the Islands, which it calls the Malvinas, but the threats have always come to nothing in the past and Britain has never even gotten very worried about them.     The Islands are four times as distant from Argentina as Cuba is from the United States, and they are not much of a prize.  After 150 years of occupancy, the Falklands are home to fewer than 2,000 British settlers and a lot of sheep.  In short, the remote Falkland Islands hardly look like something to fight over, and yet here we are watching another crisis take place.  We are watching as war erupts between Great Britain and Argentina.     The Thatcher government is acting as if it has forgotten all about its usual preoccupation with the Soviet threat at NATO's doorstep.  Instead, Britain is throwing almost everything it's got at Argentina---aircraft carriers, cruisers, destroyers, submarines, assault ships--you name it.  Luxury cruise ships have even been commissioned and turned into troop carriers overnight.  Wave after wave of additional assault troops have been activated and sent to join the fleet even after it sailed.  Ships and submarines have been pulled off station from normal NATO duty and sent to reinforce the task force.  The initial 40-ship force has grown steadily over the past several weeks into an armada numbering over 70.  Over two-thirds of the entire Royal Navy has already been deployed to the South Atlantic off Argentina.     Watching all this, a lot of people are asking: What's this fight really all about?  The most popular answer suggested in the major media is \\\"oil.\\\"  Vast deposits of oil are known to exist under the continental shelf between Argentina and the Falklands, but that has been known for nearly 10 years.  In no way does it explain the timing of the sudden military offensive by Argentina this month, and oil explains even less about the Argentine seizure of South Georgia Island.     South Georgia Island is 800 miles east of the Falklands with no known oil deposits anywhere near it; and compared to South Georgia, the Falklands are an island paradise.  South Georgia Island is covered with rugged mountains, treacherous valleys, glaciers, and semi-permanent snow.  Most of it is uninhabitable.  On top of all that, Argentina has absolutely no legal or historical claim to South Georgia Island.  In that respect it stands in sharp contrast to the Falklands.     In the early 1830s the Falklands were occupied for a while by Argentine colonists.  In 1833 the British expelled them and took over the Island.  For that and other historical reasons, Argentina argues that the Falklands really belong to Argentina, not Britain.     But no such argument is possible for South Georgia Island.  It has always been controlled by Britain, never by Argentina or Spain.  The Argentine seizure of South Georgia Island looks even more unreasonable from a military point of view.  Argentina's leaders are military men and they think in military terms.  They were well aware ahead of time that far-off South Georgia Island could not possibly be held for long.  By seizing it they were setting themselves up to absorb a military defeat, as the Island was retaken by Britain.  So the question is: Why did Argentina's military junta bother with the seemingly worthless South Georgia Island at all?     My friends, the answers to all these questions are military, not political or economic.  South Georgia Island possesses an enormous military secret.  It's a giant underground installation buried under the mountains at the northwest end of the Island.  The real reason for the so-called Falkland crisis is this secret installation, together with two other similar installations which I will describe shortly.     The secret military complexes have been in existence for many years; they are not new.  What is new is the accelerated nuclear war timetable of the American Bolshevik war planners here in Washington.  For the past two months I've been reporting the details of this new war plan to you as quickly as I can obtain and verify them.     The plan calls for NUCLEAR WAR ONE to erupt by September of this year 1982!!  It is this fast-approaching nuclear war threat that caused the so-called Falklands crisis to erupt now.     What is going on now is a coordinated effort to spoil part of the Bolshevik grand strategy for the coming nuclear war.  The mutual enemies of the American Bolsheviks here--namely, the Rockefeller cartel--and Russia's new rulers in the Kremlin are behind the present crisis.  They are trying to ruin Phase #3 of the \\\"PROJECT Z\\\" war plan which I revealed last month.  That phase is to be world domination by the American Bolsheviks after both Russia and the United States have been destroyed in NUCLEAR WAR ONE.  As I mentioned last month, the key to this plan is the existence of secret weapons stockpiles in various places around the world.     The American Bolshevik military planners here in America are working with other Bolshevik agents in key military positions of other countries to set off war.  Having done that, they intend to ride out the nuclear holocaust they have caused, safe and cozy in Government war bunkers!  When the warring nations finally lie smoldering and exhausted, the Bolsheviks will leave the shattered remains of their host countries.  They will rendezvous at the secret weapons installations and bring their weapons into the open.  They will confront the world with the only remaining fresh, up-to-date, powerful military force on earth; and using that military power, they will become the undisputed rulers of the world--that is, they plan to do all this, and they plan to pave the way for world domination very soon by setting off NUCLEAR WAR ONE in a matter of months.  The Rockefeller cartel and Russia's new anti-Bolshevik rulers are working together in a race against time to try to head off the Bolshevik war plan.     Last month I mentioned that the Bolsheviks here are benefitting from war preparations which were started by the Rockefellers long ago.  It has only been about three years since the Rockefellers were dislodged as the prime movers of the United States Government by the Bolsheviks.  Since that time the United States Government has been a house divided, torn by internal power struggles between rival Bolshevik and Rockefeller factions.  But before that, the United States had been dominated for decades both economically and politically by the Four Rockefeller Brothers.     In 1961 the Brothers launched a new long-range plan for world domination.  It was a two-prong strategy, half visible and half secret, which I first described long ago in AUDIO LETTER No. 28.  It was a plan for the United States to arm to the teeth in secret while appearing to disarm gradually.  Without repeating all the details, the basic idea was grandiose yet simple.  By deliberately appearing weak, the Rockefeller-controlled United States would maneuver itself into a nuclear war with Russia.  Then the secret weapons, including superweapons, would be unleashed to smash Russia and take over the world.     When they set the grand plan in motion in 1961, the Rockefeller Brothers were looking ahead to a nuclear war by the late 1970s.  Their military analysts concluded very early that the war being planned would have very different effects on the Northern and Southern Hemispheres.  Both superpowers, the United States and the Soviet Union, are located well up in the Northern Hemisphere; so are the other full-fledged nuclear powers--Great Britain, France, Red China, and India.  By contrast, the strategic targets for nuclear war in the Southern Hemisphere are relatively few and far between.  In other words, it was expected that the coming nuclear war would be essentially a Northern Hemisphere war.     In an all-out nuclear holocaust it is known that serious radioactive fallout will gradually spread to affect even areas not initially hit by war.  But there are limits to how far the war clouds can spread.  It was discovered long ago that there is very little mixing between the air of the Northern and Southern Hemispheres.  In the northern half of our planet, cold air from the North Pole works its way southward towards the equator, then it works its way back to the north as warm air.  A mirror image of this process takes up the southern half of the planet.  Northern and Southern Hemisphere air meet in the equatorial zone, but very little of the air changes places.     The military conclusion, my friends, is this: the coming nuclear war could ruin large areas of the Northern Hemisphere for generations to come; but if the calculations are right, the Southern Hemisphere could escape virtually unaffected by the war.  This was music to the ears of the Four Rockefeller Brothers.  A quick look at the globe of the world shows why.  The Rockefeller cartel has dominated Latin America ever since World War II.  As I discussed in my very first monthly AUDIO LETTER, Nelson Rockefeller solidified the cartel grip on Latin America during the war.  He accomplished this as so-called \\\"Coordinator of Hemispheric Defense\\\" for then-President Franklin D. Roosevelt.  So that takes care of the South American continent and its natural resources.     Then there is the African continent.  There, too, Rockefeller control was already in effect over wide areas of Black Africa, especially south of the equator.  All this was thanks to the efforts of John D. Rockefeller III, as I detailed in AUDIO LETTER No. 36.     Looking around the globe, the most important remaining land masses from the standpoint of world domination are Australia and New Zealand.  Thanks to World War II, both were wide open to the Rockefellers.     The Rockefeller Brothers decided to establish secret military installations in the Southern Hemisphere for use after the coming war.  By this means they expected to become the masters of the surviving southern half of planet Earth after the Northern Hemisphere war.  Then, as the Northern Hemisphere gradually recovered from the nuclear holocaust, the Rockefeller empire would be able to pick up the pieces.  In this way the third generation Rockefeller Brothers expected their family dynasty to inherit the Earth.     In order to control the Southern Hemisphere militarily after the war, some means would have to be available to project military power onto any land mass.  For example, revolts against Rockefeller domination would require troops--not a blast from the beam weapons on the Moon.  The most critical factor for postwar military domination of the world was found to be a navy.  A minimum of two secret naval fleets would be required--one based in the South Atlantic, the other in the South Pacific.  Since the reserve naval fleets were to be kept secret until after the Northern Hemisphere nuclear war, they could not be built in existing shipyards.  New construction facilities had to be built and they had to be hidden.  To hide an entire shipyard is no small task; they take up a lot of space.  On top of that, it was essential that the ships remain hidden after they were built.  The best way to achieve that was to combine the shipyard and naval base into one over-all secret installation.  Finally, the secret naval installation had to be invulnerable to nuclear attack; otherwise if its existence were ever discovered prematurely, the secret navy might be wiped out.     The combined requirements for secrecy, space, and protection against attack were formidable; but one day in 1959, while all these plans were still in the early stages of development, the answer presented itself.  During a so-called banking trip to Sweden, David Rockefeller was given a tour of a unique hidden naval port.  The port is hollowed out from solid granite cliffs which come right down to the water.  The entrance to the port is a gigantic hole in the side of the cliff which can be sealed off with enormous steel doors.  Inside this big doorway on the water a huge cavity has been hollowed out to accommodate ships.     The Rockefeller Brothers and their military adviser decided that a bigger, more secret, better protected version of the Swedish hidden port was just what they wanted.  A survey of candidate sites was then initiated.  The site survey covered coastal areas throughout the Southern Hemisphere.  Many areas were rejected very quickly because the topography was wrong.  Other areas were rejected because they were too close to the equator.  Still others had to be ruled out because there were too many people living nearby, making the desired level of secrecy impossible.  Finally, it was essential that the sites chosen for the secret naval installations be totally secure politically.     At last the sites for the secret naval installations were selected.  In the South Pacific, extreme southern New Zealand was selected.  This is what I was alluding to in AUDIO LETTER No. 71 three months ago when I called attention to New Zealand's extreme importance in the coming war.     In order to obtain the necessary space, the secret New Zealand naval installation had to be divided up into two sites located close together.  One is at the extreme southwest tip of South Island where the mountain range known as the Southern Alps comes down virtually to the water's edge.  The other part of the installation is built into the northwest tip of Stewart Island, which is off the tip of South Island.  The Stewart Island facility is hollowed out within a rise known as Mt. Anglem.     The New Zealand location met all the requirements.  Ever since World War II the government of New Zealand has been tied even closer to the United States than to Great Britain.  The location is far from the equator, and the installations are buried deep under mountains, protected from nuclear attack.  They are also too deep to be reached by particle-beam attacks, and the New Zealand site is well situated to command the entire South Pacific.     In the South Atlantic an even more perfect site was found.  That site, my friends, is South Georgia Island.  It is located perfectly for naval domination of the entire South Atlantic.  The tall, rugged mountains provided a perfect location for the secret installation at the northwest tip of the 100-mile long island.  It is controlled by Great Britain whose government, like that of New Zealand, was willing to cooperate; and South Georgia Island was virtually uninhabited except for a whaling station on the northeast coast.  The whaling station was some 50 miles away from the secret new installation which was being built, but Britain took no chances.  In 1965 the whaling station was closed down.  Since that time there have been no inhabitants on South Georgia Island except for a few dozen alleged Antarctic scientists.     Construction of the secret naval facilities--two in New Zealand, one on South Georgia Island--began in the early 1960's.  The techniques were adapted from those used previously to build other large underground facilities, such as the NORAD installation inside Cheyenne Mountain, Colorado; however these techniques were adapted in radically new ways to achieve construction access directly from the sea instead of overland.  In this way, the sheltering mountain was left undisturbed in appearance both during and after construction.     The cuts in the mountain side which were necessary to let ships in and out were kept as small as possible and were well camouflaged.  Like the Swedish hidden naval port arrangement, the entrances to the secret installations can be sealed up.  When sealed, the entrance is virtually impossible to detect unless you know exactly where it is; and unlike most large construction projects, there are no tailings or piles of leftover rock lying around to attract attention.  The man-made caverns which house the secret naval installations are enormous, but all the rock and debris was disposed of at sea.     Once the secret naval facilities were built, they had to be outfitted for ship construction and docksite storage.  The fake disarmament of the United States during the 1960s contributed greatly to this task.  From 1961 to 1968 one man played a pivotal role in this elaborate Rockefeller scheme.  He was then-Secretary of Defense Robert McNamara.  All through the 60's McNamara presided over the public paring back of America's visible military power.  This included the closing down and dismantling of entire shipyards.  What we were not told was where all that shipyard equipment went afterwards.  Where it went, my friends, was to the new secret installations which were being outfitted in New Zealand and South Georgia Island!     The secret naval installations have been used as duplication facilities to reproduce certain ships and submarines designed and built here in the United States.  As Defense Secretary Caspar Weinberger told Congress recently, it is cheaper to build two ships at a time.  That is especially true if the second ship is an exact duplicate of the first.  This has become even more true in recent years through the use of computerized manufacturing techniques.     The secret naval fleets which have been built at the secret installations are made up of duplicates--exact duplicates of certain other ships and submarines.  They are all nuclear powered--nuclear \\\"subs\\\"; nuclear cruisers; nuclear destroyers; and yes, nuclear aircraft carriers, three of them.  A secret twin was built for the U.S.S. Nimitz, for the U.S.S. Eisenhower, and for the newly-launched U.S.S. Carl Vincent.  All have been financed through the gigantic cost overruns, so called, that we constantly hear about in the Defense Department; and all three carriers have been provided with a full complement of aircraft whose manufacture was financed the same way!     The ships of the secret American Bolshevik naval fleets are all duplicates of other nuclear-powered vessels.  Even so, the secret naval ships possess one key difference.     Last month I revealed that the so-called \\\"Stealth Program\\\" has succeeded in developing a kind of electromagnetic invisibility shield.  This technique makes an object invisible from a distance by distorting light waves in its vicinity.     A whole new fleet of Phantom war-planes are now going into crash production that use this principle; and, my friends, all of the secret American Bolshevik navy ships have already been outfitted with similar Stealth-field equipment!  The Stealth principle is actually easier to apply to ships than to airplanes because there is more room for the powerful equipment that generates the field.     After NUCLEAR WAR ONE, the secret Stealth navy of the American Bolsheviks would be light years ahead of any other navy left on earth.  It would be perfect for the intended role of world domination.  The Rockefellers set it all in motion long ago, my friends, but three years ago they lost control of the United States Military.  Now it's the American Bolsheviks who are in control, and they are bent on war.     These secret naval installations have precipitated what is being called the \\\"Falklands crisis.\\\"  Topic #2--In AUDIO LETTER(R) No. 73 last month I described \\\"PROJECT Z\\\", the new Bolshevik three-phase strategy for NUCLEAR WAR ONE.     An elite group of American Bolshevik military planners here are flushing out the plan right now at a secret war-room here in Washington.  It's a plan by which the United States will strike the first nuclear blow, followed by all-out thermonuclear war with Russia.     Having set off the holocaust, the Bolsheviks here and in certain other countries plan to rise it out safe in comfortable war bunkers.  Finally after NUCLEAR WAR ONE fizzles out in stalemate, they plan to leave behind the ashes of the United States and her allies.  Activating Phase #3 of their grand strategy, they plan to unveil their secret weapons, especially their secret naval fleets.  With these they plan to conquer and rule what is left of the world.  The United States as we know it will be dead and gone; but in the eyes of the Bolsheviks themselves, this outcome will constitute victory.     Up to now the nuclear war timetable which I first revealed two months ago is still on track.  They are still shooting for nuclear war to begin by September of this year 1982!  Time is fast running out.     The Bolsheviks here are sprinting as fast as they can toward war; but, my friends, the Bolsheviks are not the only runners in this race.  They have two deadly enemies, both of whom are equally determined to trip up the Bolsheviks.  One enemy of the Bolsheviks here is the Rockefeller cartel; the other enemy is the new anti-Bolshevik ruling clique in Russia; and now these two mutual enemies of the Bolsheviks are pooling their efforts in certain ways.     In AUDIO LETTER No. 71 three months ago I reported that a limited, new anti-Bolshevik coalition was in the works between the Rockefeller cartel and the Russians.  The January 26 meeting between Haig and Gromyko in Geneva, Switzerland, was a turning point in the formation of this coalition.  It is now a reality, and is responsible for the so-called \\\"Falkland crisis\\\" now dominating the headlines.  It should be emphasized that this new relationship between the Rockefeller cartel and Russia falls far short of a true alliance.  They have very major disputes to be settled between them, but for the time being they have called a truce between themselves to deal with their mutual deadly enemy--the Bolsheviks here in America.     The first priority of the Russians and the Rockefellers is to slow down the Bolshevik preparations for imminent nuclear war.  If they can do that, time is on the side of the Rockefeller cartel in certain political movements which I discussed last summer in AUDIO LETTER No. 67.  A slow-down in the nuclear war timetable will also give more breathing space for additional anti-Bolshevik actions to be implemented.     The joint Rockefeller-Russian planners decided by mid-February that military action against the Bolsheviks was essential very quickly.  No other type of action had any hope of taking effect fast enough to prevent nuclear war by the end of this summer.     The exact details of the \\\"PROJECT Z\\\" war plan are not known to either the Rockefellers or the Russians, but the general outlines are known to be as I described last month.     It was decided that military action should be devised that would undermine Phase #3 of the Bolshevik war plan--that is, the Bolshevik-controlled secret naval installations and fleets in the Southern Hemisphere should be attacked and crippled.  By working together, the Rockefeller cartel and the Russians were able to devise an attack plan which neither could have carried out alone.  The Rockefeller group, who built and originally controlled these bases, provided detailed Intelligence about the best way to attack them.  The Russians with their enormous military machine provided the muscle to actually carry out the attack.     It was essential to devise a scheme that would enable both secret fleets in the South Atlantic and South Pacific to be attacked.  Survival intact of either fleet would leave the Bolshevik war plan still workable.     Military analysts concluded very quickly that a direct assault on the New Zealand facilities was out of the question.  There was no combination of commandos, frogmen, or other military force which could possibly keep an attack secret from the outside world.  Any attack on the New Zealand bases would set off the very war which the Rockefellers and Russians want to prevent.     But the situation in the South Atlantic was a different matter.  In a way, the greatest asset of South Georgia Island was also its Achilles' heel.  The extreme isolation which protected the secrecy of the South Georgia base also made a covert military assault feasible.  The key lay with Argentina and her long-standing claims to the Falkland Islands.     As I mentioned in Topic #1, the Rockefeller cartel has dominated all of Latin America for decades.  Cartel operatives were sent to Argentina to work out a deal with the government military junta there.  The historic dispute over the Falkland Islands was to be used to provide a ruse, a military cover, to enable the South Georgia base to be attacked.  The Argentine generals were not told everything about the situation by any means, but they were told enough to make clear what they were to do.     As an inducement to cooperate, the Argentine leaders were promised handsome rewards.  They were guaranteed that after the shooting was over, the Falkland Islands would remain in Argentine hands.  This guarantee included the promise of covert military assistance as needed against the Royal Navy.  And to bolster the troubled Argentine economy, it was promised that the Rockefeller cartel will help develop the immense offshore oil reserves.  With these combined promises of military glory and financial rewards, the Argentine military junta agreed to the plan.     On March 19 Argentina carried out Act #1 in the joint attack plan.  A group of Argentine scrap-metal merchants, of all things, landed at the abandoned old whaling station on South Georgia Island.  Supposedly they were there to dismantle the old buildings and cart them off to sell.  While they were at it they also raised the Argentine flag over the work-site.  The British, always nervous about South Georgia Island, promptly reacted as expected.  The British Antarctic survey ship \\\"Endurance\\\" put 22 Marines ashore.  They drove off the scrap merchants and tore down the Argentine flag.     The incident provided the desired excuse for the Argentine Junta to bring the simmering 150-year-old Falklands dispute to a boil.  From time to time in the past, Argentina has claimed that South Georgia is part of the Falklands because it is administered that way by Britain.  That argument is very flimsy but it now came in very handy.  It was nothing new to hear this from Argentine leaders, so there was no hint of what was really afoot.     During late March, Argentine military forces started assembling for an assault on the Falklands.  \\\"Nothing new\\\", thought the British high command.  Argentina has carried out threatening maneuvers in the past many times.  It was believed that they were about to do it again; but on April 2 Argentine forces did the unexpected.  After many past false alarms, this time they actually invaded and seized the Islands.  All Argentine public statements emphasized the long-standing historical claims to the Falklands themselves; but just for good measure, the next day a small Argentine force also seized far-off South Georgia Island.  The force was so small that it gave the appearance initially that it was just a side show from Argentina's point of view; however, the small contingent of 22 Royal Marines were overpowered and bundled off the Island along with a group of 13 alleged scientists.  That was the moment of payoff in the joint Rockefeller-Russian attack plan.     Thanks to the elaborate distraction staged by the Argentine forces, a special commando team got onto the Island undetected.  Based on the detailed Rockefeller information about the base, the team moved to a location on the mountain directly above the cavernous secret base.  Special high-speed drilling equipment was set up by the Rockefeller members of the team while the Russian members concentrated on military defense.  By late that evening, April 3, the military high command in London finally learned what was really taking place.  The secret South Georgia base was under attack by virtually the only means possible.  The joint Rockefeller-Russian team were drilling a shaft down through the mountain toward the hollowed out cavern inside.  It was only a matter of time until their drill would break through the ceiling of the giant hidden naval base.  Once the hole was made, the next step was obvious.  The Rockefeller-Russian team would put a weapon of some kind through the hole.  The best guess was that it would be a nerve gas.     The shock waves that went through the highest levels of the British government on the evening of April 3 can hardly be described, my friends.  The Thatcher government, like the so-called Reagan Administration here in America, is Bolshevik controlled.  That's why Margaret Thatcher always says, \\\"Me, too\\\" any time the Reagan Administration says or does anything against Russia.  Both governments are party to the secret nuclear war plan in complete betrayal of the people of their respective countries, and on the evening of April 3 they suddenly discovered that their precious war plan was in deep, deep trouble.     Immediately the Thatcher government started assembling a naval armada to sail for the South Atlantic.  Haste was the order of the day.  The drilling on South Georgia Island was proceeding around the clock.  The best estimates were that the drilling would break through into the roof of the naval base in about three weeks, on or about April 24.  If help did not reach South Georgia by then, the secret installation might be doomed.  The forces stationed at the installation itself were unable to defend themselves under the circumstances.  Their mighty naval ships were ships in a bottle.  They did not dare open the bottle to sail out to fight because the Russian commandos were armed with tactical and nuclear weapons.  To open the blast-proof entrance doors would be suicide.     On April 5, just two days after South Georgia Island was seized, some 40 naval ships began moving out of British ports.  The same day Lord Carrington was sacked as Foreign Minister.  He was forced to resign, my friends, because he had assisted the Rockefeller attack plan by downplaying the Argentine attack preparations.     That same day, April 5, New Zealand, the home of the other secret naval fleet, broke diplomatic relations with Argentina.  The two hidden New Zealand facilities had been placed on \\\"Red Alert.\\\"  As a precautionary measure, all submarines at the twin base were ordered to sea.  Several surface ships were already at sea undergoing \\\"sea trials\\\", but that still left seven (7) major ships inside the hidden twin naval base including one of the nuclear aircraft carriers I mentioned earlier.     On that busy day of April 5, Argentina's Foreign Minister, Costa Mendez, was at the United Nations in New York.  He was alarmed by the deployment of such a large part of the Royal Navy.  Costa Mendez hurried here to Washington to seek reassurances from certain officials.  He got them!     For the next two weeks or so the news was filled with stories about the allegedly slow movement of the British fleet while negotiations went on.  That, my friends, was only a cover story.  The Royal Navy was actually joining up and moving as rapidly as possible toward South Georgia Island.  If the task force arrived in time to save the secret base, a major battle was likely.  The official stories about \\\"slow movement\\\" of the British armada were intended to give a cushion of time for that battle.  If need be, the fleet would have several days to retake South Georgia Island, then it could move on to arrive near the Falklands on the announced schedule.  In this way the crucial importance of South Georgia Island would be hidden and the big secret preserved.     It was initially expected that advance elements of the British fleet would reach the vicinity of South Georgia Island within two weeks.  That would have been soon enough to attack the joint Rockefeller-Russian commando team and stop the drilling before it was completed.  But Russian Cosmospheres and submarines made a shambles of the plan.     Key advance elements of the South Georgia attack contingent left Ascension Island early April 14, two days before it was announced officially.  Shortly after they did so, they ran into trouble.  Russian Cosmospheres and attack submarines closed in on a single ship which was critical to the planned counterassault on South Georgia Island.  The Cosmospheres bombarded the bridge and combat information center of the ship with neutron radiation.  In moments the ship was without any command, its communications and radar silenced.  Then a Russian \\\"sub\\\" closed in and quickly finished off this key British ship with torpedoes.  It broke apart with secondary explosions and sank rapidly.  So far as is known, there were no survivors.     This unexpected shock in the mid-Atlantic produced two results, both important:  First, it caused a slowdown in the race toward the South Atlantic by the British armada.  The task force had to be regrouped into a configuration better suited for an enroute defense, but that cost valuable time.  Public announcements from London about the progress of the fleet reflected this slowdown.  The timetable for arrival on battle stations near the Falklands started stretching out longer and longer.  All this bought extra time for the joint commando team on South Georgia Island.  The drilling continued.  The other result of the sinking was equally important.  Word was flashed to the South Pacific Stealth navy to prepare for possible action.  It was obvious that the Russian Navy was getting involved in the Atlantic, which meant that the Royal Navy could be in big trouble.  During the dead of night, early April 15, the seven Stealth ships put to sea from their twin secret bases in southern New Zealand.  They deployed to a secret operational headquarters area in the Antipodes Islands, 450 miles southeast of New Zealand.  Their electromagnetic shields were operating to provide protection from attack.  These shields make it impossible to communicate with the outside world or even to see it, as I explained last month; but once they arrived at the Antipodes, the Stealth ships hooked up to buoys equipped with shielded communication cables to the Island headquarters.  The Antipodes headquarters, in turn, was in constant touch with the South Georgia base by way of a transoceanic cable around the tip of South America.  The deployment of the available ships of the South Pacific Stealth fleet was exactly what the joint Rockefeller-Russian planners had hoped for.  The ships had been flushed out from their essentially invulnerable hiding place in New Zealand!     The British ship's sinking of April 14 was also followed by other events.  On April 15 the Argentine Navy started moving out of port.  The same day, Alexander Haig arrived again in Buenos Aires.  Supposedly he was there as a diplomat, but in reality he was there as a General, dealing with Generals.  Haig is the top Governmental operative of the Rockefeller cartel, as I have revealed in the past.  He was making sure that the Argentines did not get cold feet and back down at that critical moment.  Four days later, April 19, Haig left for Washington.  As he boarded his plane, Haig somberly told reporters, \\\"Time is running out.\\\"  And so it was, my friends, for the secret South Georgia base.     The very next day, April 20, the drill broke through into the hollowed-out cavern of the naval base.  Bolshevik military analysts in London had not expected that it could be completed until at least the following weekend.  The British fleet was still out of range.     The weapon which the commando team inserted down through the long hole was a small, compact Russian neutron bomb.  When it was detonated inside the confines of the huge artificial cave, the effects were devastating.  The intense radiation instantly killed everyone inside the base.  Also the heat and blast effects of the bomb are believed to have damaged all the ships inside sufficiently to badly disable them.     Meanwhile, Russian Cosmospheres and submarines were converging on the Stealth ships which were near the Antipodes Islands awaiting orders.  From a distance, the ships were invisible to the eye due to their protective shields, which also protect against beam-weapon attack; but they were sitting ducks for the tactics which the Russians employed.     Floating overhead, the Cosmospheres located the seven ships using their Psychoenergetic Range-Finding equipment known as PRF.  As I have reported in the past, there is no method known by which PRF can be jammed.  The Cosmospheres radioed the exact locations of the ships to the attack submarines.  The \\\"subs\\\" were armed with special non-homing, non-nuclear torpedoes designed to explode on impact.  More sophisticated torpedoes would have been thrown off course or detonated prematurely by the protective shield of each ship; but these simple torpedoes just cruise right through each invisibility field to strike the ship and explode.  Within 15 minutes after the attack began, all seven Bolshevik Stealth ships were on their way to the bottom, and with them went their Bolshevik Commanders and mercenary crews collected from around the world.     The South Pacific action took place just after sunset local time.  The time here in Washington was around 2:00 P.M. April 23.  That evening Secretary of State Haig was seen briefly in public with the new British Foreign Minister, Francis Pym.  Pym was wearing the artificial pseudo-smile which diplomats are taught always to display in public.  But not Haig.  Haig was grinning from ear to ear, and no wonder.  The joint Rockefeller-Russian military operation had been a brilliant success.  The secret Bolshevik South Atlantic fleet had been virtually wiped out, bottled up inside South Georgia Island; and the South Pacific fleet, while not totally wiped out, had been badly crippled.  By working together, the Rockefeller cartel and the Russians had won the secret naval war of the Southern Hemisphere.  Topic #3--As I say these words, news reports give the impression that war is about to erupt in the South Atlantic, but the real war in the Southern Hemisphere is already over.  What we are watching now is the beginning of its bloody aftermath.  That aftermath is the battle for the Falkland Islands.  They have been promised to Argentina as a reward for her role in the secret war.     At this moment the Bolsheviks here in Washington are pressing for a public announcement that the United States will side with Britain.  As soon as that takes place, military action will heat up fast around the Falklands.  Britain has no choice but to fight.  She has already suffered casualties which cannot be explained without a public battle; but by fighting, the Bolsheviks in Britain are running the risk of a humiliating and tragic defeat for the Royal Navy.     Meanwhile, the Rockefeller strategists here are now concentrating on a fast-building, anti-nuclear-war campaign.  On all sides now we are hearing about the so-called \\\"nuclear freeze movement.\\\"  There are documentaries, articles, publicity of all kinds to sensitize us to the terrors of nuclear war.  In recent months, there have even been referenda popping up on election ballots dealing with the nuclear war issue.  Medical doctors are banding together to warn the public about what would happen if there were a nuclear war.     We are being told that all this is just popping up spontaneously.  We are now 37 years into the nuclear age and nothing like this has ever gained so much momentum before, yet now we are supposed to believe that millions of Americans have spontaneously gotten the same ideas at the same time.  If you believe that, my friends, I give up.  Movements like this never, and I mean never, develop without leadership, organization, and money--and plenty of it.     What we are watching is the Rockefeller public relations machine at work.  As I've explained in the past, the Rockefeller cartel cannot afford to let a nuclear war take place.  If it does, they will lose everything because they are not in a position to control it.  Instead, the deadly enemies of the Rockefeller cartel, the Bolsheviks here, will win out if there is a war; and so the Rockefeller faction is now doing everything in its power to prevent a nuclear war.     The present anti-nuclear-war orientation of the Rockefeller cartel creates certain temporary common interests between them and Russia; but as Russia's new rulers know very well, this does not spring from any great moral perspective on the part of the Rockefeller group.  It's purely a matter of practical necessity right now for the Rockefellers.     The Russians regard the United States as a house divided, and they are exploiting that division by working in careful ways with the Rockefellers.  Their first priority is to rid the world of the deadly Bolshevik menace of all-out, even suicidal, nuclear war; but once that is done, they know that there will be a day of reckoning with the Rockefeller cartel some day.     The Rockefeller group is working toward a definite objective with their new anti-nuclear-war propaganda.  That objective is renewed power--and power that moves them closer to their old dream of WORLD GOVERNMENT.  The Bolsheviks here have unwittingly provided fertile ground for the powerful new Rockefeller antiwar campaign.  Under Bolshevik control, the so-called Reagan Administration has become so hawkish that it's scaring people.  The Rockefeller antiwar campaign is designed to capitalize on that latent fear as a tool of power.     These days the smell of war is in the air.  The Falklands crisis is helping to make that more intense.  The Rockefeller propaganda machine is now paving the way for the argument that surrender of sovereignty is the only way to avoid war.  A new super-United Nations of sorts is now in the works to fill the bill.  It will have teeth!  As presently envisioned, the new organization will be based in Geneva, Switzerland.  The working name, though this may be changed, is the \\\"World Nonproliferation Council.\\\"  The plan is to bring it into being as the outgrowth of nuclear nonproliferation treaties, but its true purpose will be to use fear--the fear of war--to control us all.                         LAST MINUTE SUMMARY     Now it's time for my Last Minute Summary.  In this AUDIO LETTER I have reported on the reasons behind the so-called Falkland Islands crisis.  The crisis erupted because of secret Bolshevik-controlled naval installations in the Southern Hemisphere.  These have been attacked by joint action of the Rockefeller cartel and the Russians in an attempt to slow down the nuclear-war timetable.  The attacks were successful, but the results remain to be seen.  One result, though, is that the Royal Navy has now been drawn into a trap.  Britain's Waterloo at sea may well be at hand.     My friends, two factions are struggling for control over our United States--the Rockefeller cartel and the Bolsheviks.  They differ in style but both seek to control us through fear.  If we are ever to rise above their trickery, it must be through the power of our Lord Jesus Christ, our only hope.  As the Scripture tells us, our Lord \\\"...has not given us the spirit of fear; but of power, of love, and of a sound mind.\\\"  We must learn to wage peace.  As our Lord declared long ago, \\\"Blessed are the peacemakers: for they shall be called sons of God.\\\"\",\"I have one word for you LOSER!!!!\",\" The FDA, I believe.  Rules say no blood or blood products donations from anyone who has been in a malarial area for 3 years.  I was a platelet donor until my Thailand trip and my blood bank was very disappointed to find out they couldn't use me for 3 years.  Not necessarily.  The same rules may not apply to organ donation as to blood donation.  In fact, I'm sure they don't.    --  ---------------------------------------------------------------------------- Gordon Banks  N3JXP      | \\\"Skepticism is the chastity of the intellect, and geb@cadre.dsl.pitt.edu   |  it is shameful to surrender it too soon.\\\" \",\" Theoretically supposed to be reduced.... not any longer.  That's why everyone is arguing about RISC v.s. CISC.  Personally, I think CISC will win out. Just take a look at the Pentium!  (Not that I like Intel architectures either, but that's another story...)  bye!   ------------------------------------------------------------------------------- Brian \\\"Hojo\\\" Lee       | \\\"Hey, excuse me miss, could I have a .GIF of you?\\\" leebr@ecf.toronto.edu  | leebr@eecg.toronto.edu | (try Linux... the best and free UN*X clone!)\",\"Hi,\",\"                        ^^^^^^^^^^^^^^^^^^^^^^^^^^^^^^^^^^^^^^^^^^^^^^^^^^   ^^^^^^^^^^^^^ Joe, just 'cause you say they aren't subject to interpretation doesn't necesarily make it so.  That's *your* *interpretation* of these texts.   2 Peter 1:20-21 But know this first of all, that no prophecy of Scripture is a matter  of one's own interpretation, for no prophecy was ever made by an act of human will, but men moved by the Holy Spirit spoke from God.  The study notes in my Bible offer three possible meanings for verse 20. Apparantly it's not as clear to Charles Ryrie as it is to you.  2 Timothy 3:16-17 All Scripture is inspired by God and profitable for teaching, for reproof, for correction, for training in righteousness; that the man of God may be adequate, equipped for every good work.  Galations 1:11-12 For I would have you know, brethren, that the gospel which was preached by me is not according to man.  For I neither received it from man,  nor was I taught it, but I receieved it through a revelation of Jesus Christ.  When I read these passages, it was not immediately clear to me what every phrase meant.  I had stop and think about the possible connotations of words, what the intent of the author may have been, wonder if the translator used the correct English word to convey the  same meaning: I had to interpret.  If you want to believe that your  are not interpreting Scripture as you read, there's probably nothing  I can say to change your mind.  But I think it's naive to think that  our culture, experiences, education, do not affect everything we read.   In college, I took an entire course in Biblical interpretation.  Go to any Christian bookstore, there are scores of books on interpreting and understanding Scripture.  If interpretation is unnecessary, there are  an awful lot of misguided Christians out there wasting a lot of time  and energy on it.\",\"Jesus:     Black and white.  A spade is a spade.  There is no hidden agenda behind this, so stop trying to look for one.   It is an easy and as straight forward as it reads.  Kent, I am not accusing you of evil things.  Jesus is accusing you. And it is not only you that He is accusing.  He is accusing everyone. Me, you and everyone in the world is guilty.  Whether one sees the light or does not seen the light has nothing to do with  whether we do evil things.  We do them regardless.    Jesus uses the word \\\"men\\\".  I am included.  Jesus is not soloing you out. Jesus is making a general statement about out the sad state of man. Christians are not immuned from doing evil things.  A Christian  is just a person in whom the Holy Spirit indwells.  A Christian  can see the evil he is doing--because his evil has been brought out into the light.  Jesus is not saying that just because evil has been exposed, that the Christian will stop doing evil.  If you haven't seen Jesus's light, your evil deeds simply haven't been exposed to the His light.  You may shed some light on your own.  Your human spirit shines at perhaps 1 candela.  But the Holy Spirit shines at a Megacandela.  The Holy Spirit can shine light into places inside us where we didn't even know existed.   So do you see Jesus's point?  Christians are not perfect.  Nonchristians are not perfect.  Nonchristians do not want to come into the Light of Jesus because they will see all the problems in their lives, and they will not like the sight.  It is an ugly thing to see how far we have fallen from Jesus's perspective.  Do you think you want to know how really ignorant you are?  Do you think Brian Kendig wants to know?  Do you think I want to know?  Ego verses the truth, which do you choose?   And I watched Koresh too, an imposter who thought he saw the light,  who made sure that the 19 children burned to death, sadly, as part of his delusion.  It is even sadder that the people who died with him chose to die with them, and that ignorance was their downfall to death.   And Kent, don't you bury yourself underneath a rock with an excuse like bringing up Koresh--as if Koresh actually had truth in him. David Koresh was no light and no excuse for you to stay away from the real Jesus Christ.  David Koresh, who claimed to be Jesus, was a fraud.  It was obvious.  David Koresh was born in America. Jesus was born in Bethlehem.  Koresh wasn't even a good imposter having missed an obvious point as that.  Jesus warned of such imposters in the end-times.  David Koresh wasn't anything new to Jesus.  Jesus told us to be aware of imposters 2000 years ago.    So the next time an imposter makes a scene and claims to be Jesus.  Ask the obvious.  Where were you born?  Was your mother's name Mary?  If the Branch Davidians asked that simple question, they would have labeled Koresh a liar right from the start.  The wouldn't have followed Koresh. They wouldn't have died.  But look what happened.  Their ignorance cost them their lives.  Their choice to be ignorant cost them a lot.  Kent, since you studied the Bible under Lutheranism, do you not remember what tactic Satan used to try to tempt Jesus?   Did not Satan quote the Bible out of context?  Do you remember what tactic the serpent of Genesis used to tempt Eve?  Did he not misquote God?  What Satan used on Eve and succeeded,  was the same ploy he tried on Jesus.  But in Jesus's case, Jesus rebuked Satan back with the Bible _in_ context.  It didn't work with Jesus.    Does what Satan did to Eve in the Garden and what Satan tried to do with Jesus in the desert remind you of what Koresh did to his followers?  Who did Koresh emulate? Who was Koresh's teacher?  Koresh did to his followers what Satan did to Eve.  Did not Koresh kill his followersr?  Did not Satan cause Adam and Eve to die as well?  Did not the cult followers believe Koresh even though they knew the real Christ was born in Bethlehem?   Did not Eve choose to eat from the tree of the knowledge of good and evil despite knowing that it would cause her death?  God held them all responsible--deceiver and the rebeller.  None  of them had an excuse.  \",\"is it possible to fit an FPU in a mac SE?  (not a SE/30, but the plain old SE);  if possible,  would I get any speed increase?  what would be the reference of the chip?  thanks in advance,  \",\" Of course not.  The USA's only hope is for Yelsen (how ever you spell it) to   fail the referendum, and have the hard-liners take over again.   -- jmd@handheld.com\",\" Actually, Messier was invited, but declined due to nagging injuries... Keenan and Messier have always gotten along...Keenan dumped Steve Yzerman from the last Canada Cup team, even though Yzerman had endured the training camp, when Messier who had missed essentially the entire camp recovering from injuries became available at the last moment.\"]],[\"SUBSET\",[\"raw\",\"raw\",\"raw\",\"raw\",\"raw\",\"raw\",\"raw\",\"raw\",\"raw\",\"raw\"]],[\"label\",[\"ABSTAIN\",\"ABSTAIN\",\"ABSTAIN\",\"ABSTAIN\",\"ABSTAIN\",\"ABSTAIN\",\"ABSTAIN\",\"ABSTAIN\",\"ABSTAIN\",\"ABSTAIN\"]]]}}},\"view\":{\"type\":\"object\",\"name\":\"CDSView\",\"id\":\"p1053\",\"attributes\":{\"filter\":{\"type\":\"object\",\"name\":\"AllIndices\",\"id\":\"p1054\"}}},\"columns\":[{\"type\":\"object\",\"name\":\"TableColumn\",\"id\":\"p1043\",\"attributes\":{\"field\":\"text\",\"title\":\"text\",\"formatter\":{\"type\":\"object\",\"name\":\"HTMLTemplateFormatter\",\"id\":\"p1042\",\"attributes\":{\"template\":\"<span href=\\\"#\\\" data-toggle=\\\"tooltip\\\" title=\\\"<%= value %>\\\"><%= value %></span>\"}},\"editor\":{\"type\":\"object\",\"name\":\"CellEditor\",\"id\":\"p1041\"}}},{\"type\":\"object\",\"name\":\"TableColumn\",\"id\":\"p1046\",\"attributes\":{\"field\":\"label\",\"title\":\"label\",\"formatter\":{\"type\":\"object\",\"name\":\"StringFormatter\",\"id\":\"p1047\"},\"editor\":{\"type\":\"object\",\"name\":\"StringEditor\",\"id\":\"p1048\"}}}],\"editable\":true,\"selectable\":\"checkbox\"}}]}}]}};\n",
       "  const render_items = [{\"docid\":\"ce3778fe-9a33-4a2b-add9-bef595195989\",\"roots\":{\"p1058\":\"bea1a6be-313b-4e8e-839e-a2eff276b8de\"},\"root_ids\":[\"p1058\"]}];\n",
       "  root.Bokeh.embed.embed_items_notebook(docs_json, render_items);\n",
       "  }\n",
       "  if (root.Bokeh !== undefined) {\n",
       "    embed_document(root);\n",
       "  } else {\n",
       "    let attempts = 0;\n",
       "    const timer = setInterval(function(root) {\n",
       "      if (root.Bokeh !== undefined) {\n",
       "        clearInterval(timer);\n",
       "        embed_document(root);\n",
       "      } else {\n",
       "        attempts++;\n",
       "        if (attempts > 100) {\n",
       "          clearInterval(timer);\n",
       "          console.log(\"Bokeh: ERROR: Unable to run BokehJS code because BokehJS library is missing\");\n",
       "        }\n",
       "      }\n",
       "    }, 10, root)\n",
       "  }\n",
       "})(window);"
      ],
      "application/vnd.bokehjs_exec.v0+json": ""
     },
     "metadata": {
      "application/vnd.bokehjs_exec.v0+json": {
       "id": "p1058"
      }
     },
     "output_type": "display_data"
    }
   ],
   "source": [
    "show(column(\n",
    "    row(\n",
    "        dataset.selection_evictor,\n",
    "        dataset.selection_patcher,\n",
    "    ),\n",
    "    dataset.sel_table,\n",
    "), notebook_url=notebook_url)"
   ]
  },
  {
   "cell_type": "markdown",
   "id": "1de45837",
   "metadata": {},
   "source": [
    "<br>"
   ]
  }
 ],
 "metadata": {
  "language_info": {
   "codemirror_mode": {
    "name": "ipython",
    "version": 3
   },
   "file_extension": ".py",
   "mimetype": "text/x-python",
   "name": "python",
   "nbconvert_exporter": "python",
   "pygments_lexer": "ipython3",
   "version": "3.9.18"
  }
 },
 "nbformat": 4,
 "nbformat_minor": 5
}
