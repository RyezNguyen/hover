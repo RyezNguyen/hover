{
 "cells": [
  {
   "cell_type": "markdown",
   "id": "e97ec7b1",
   "metadata": {},
   "source": [
    "> `SupervisableDataset` holds your data throughout the labeling process.\n",
    ">\n",
    "> :speedboat: Let's take a look at its core mechanisms.\n",
    "\n",
    "-   <details open><summary>This page addresses **single components** of `hover`</summary>\n",
    "    We are using code snippets to pick out parts of the annotation interface, so that the documentation can explain what they do.\n",
    "\n",
    "    -   Please be aware that this is NOT how one would typically use `hover`.\n",
    "    -   Typical usage deals with [recipes](../../tutorial/t1-active-learning) where the individual parts have been tied together.\n",
    "\n",
    "</details>\n",
    "\n",
    "-   <details open><summary>Dependencies for {== local environments ==}</summary>\n",
    "    When you run the code locally, you may need to install additional packages.\n",
    "\n",
    "    To render `bokeh` plots in Jupyter, you need:\n",
    "```shell\n",
    "    pip install jupyter_bokeh\n",
    "```\n",
    "\n",
    "    If you are using JupyterLab older than 3.0, use this instead ([reference](https://pypi.org/project/jupyter-bokeh/)):\n",
    "```shell\n",
    "    jupyter labextension install @jupyter-widgets/jupyterlab-manager\n",
    "    jupyter labextension install @bokeh/jupyter_bokeh\n",
    "```\n",
    "\n",
    "</details>\n",
    "\n",
    "## **Data Subsets**\n",
    "\n",
    "We place unlabeled data and labeled data in different subsets: \"raw\", \"train\", \"dev\", and \"test\". Unlabeled data start from the \"raw\" subset, and can be transferred to other subsets after it gets labeled.\n",
    "\n",
    "`SupervisableDataset` uses a \"population table\", `dataset.pop_table`, to show the size of each subset:"
   ]
  },
  {
   "cell_type": "code",
   "execution_count": 1,
   "id": "0aa72ead",
   "metadata": {
    "execution": {
     "iopub.execute_input": "2023-02-07T01:46:34.548538Z",
     "iopub.status.busy": "2023-02-07T01:46:34.548056Z",
     "iopub.status.idle": "2023-02-07T01:46:36.159135Z",
     "shell.execute_reply": "2023-02-07T01:46:36.158513Z"
    }
   },
   "outputs": [
    {
     "data": {
      "text/html": [
       "<pre style=\"white-space:pre;overflow-x:auto;line-height:normal;font-family:Menlo,'DejaVu Sans Mono',consolas,'Courier New',monospace\"><span style=\"color: #000080; text-decoration-color: #000080\">🔵 SupervisableTextDataset: Initializing</span><span style=\"color: #808000; text-decoration-color: #808000\">...</span>\n",
       "</pre>\n"
      ],
      "text/plain": [
       "\u001b[34m🔵 SupervisableTextDataset: Initializing\u001b[0m\u001b[33m...\u001b[0m\n"
      ]
     },
     "metadata": {},
     "output_type": "display_data"
    },
    {
     "data": {
      "text/html": [
       "<pre style=\"white-space:pre;overflow-x:auto;line-height:normal;font-family:Menlo,'DejaVu Sans Mono',consolas,'Courier New',monospace\"><span style=\"color: #000080; text-decoration-color: #000080\">🔵 SupervisableTextDataset: Deduplicating</span><span style=\"color: #808000; text-decoration-color: #808000\">...</span>\n",
       "</pre>\n"
      ],
      "text/plain": [
       "\u001b[34m🔵 SupervisableTextDataset: Deduplicating\u001b[0m\u001b[33m...\u001b[0m\n"
      ]
     },
     "metadata": {},
     "output_type": "display_data"
    },
    {
     "data": {
      "text/html": [
       "<pre style=\"white-space:pre;overflow-x:auto;line-height:normal;font-family:Menlo,'DejaVu Sans Mono',consolas,'Courier New',monospace\"><span style=\"color: #000080; text-decoration-color: #000080\">🔵 SupervisableTextDataset: --subset raw rows: </span><span style=\"color: #008080; text-decoration-color: #008080; font-weight: bold\">400</span><span style=\"color: #000080; text-decoration-color: #000080\"> -&gt; </span><span style=\"color: #008080; text-decoration-color: #008080; font-weight: bold\">383</span><span style=\"color: #000080; text-decoration-color: #000080\">.</span>\n",
       "</pre>\n"
      ],
      "text/plain": [
       "\u001b[34m🔵 SupervisableTextDataset: --subset raw rows: \u001b[0m\u001b[1;36m400\u001b[0m\u001b[34m -> \u001b[0m\u001b[1;36m383\u001b[0m\u001b[34m.\u001b[0m\n"
      ]
     },
     "metadata": {},
     "output_type": "display_data"
    },
    {
     "data": {
      "text/html": [
       "<pre style=\"white-space:pre;overflow-x:auto;line-height:normal;font-family:Menlo,'DejaVu Sans Mono',consolas,'Courier New',monospace\"><span style=\"color: #000080; text-decoration-color: #000080\">🔵 SupervisableTextDataset: --subset train rows: </span><span style=\"color: #008080; text-decoration-color: #008080; font-weight: bold\">400</span><span style=\"color: #000080; text-decoration-color: #000080\"> -&gt; </span><span style=\"color: #008080; text-decoration-color: #008080; font-weight: bold\">385</span><span style=\"color: #000080; text-decoration-color: #000080\">.</span>\n",
       "</pre>\n"
      ],
      "text/plain": [
       "\u001b[34m🔵 SupervisableTextDataset: --subset train rows: \u001b[0m\u001b[1;36m400\u001b[0m\u001b[34m -> \u001b[0m\u001b[1;36m385\u001b[0m\u001b[34m.\u001b[0m\n"
      ]
     },
     "metadata": {},
     "output_type": "display_data"
    },
    {
     "data": {
      "text/html": [
       "<pre style=\"white-space:pre;overflow-x:auto;line-height:normal;font-family:Menlo,'DejaVu Sans Mono',consolas,'Courier New',monospace\"><span style=\"color: #000080; text-decoration-color: #000080\">🔵 SupervisableTextDataset: --subset dev rows: </span><span style=\"color: #008080; text-decoration-color: #008080; font-weight: bold\">100</span><span style=\"color: #000080; text-decoration-color: #000080\"> -&gt; </span><span style=\"color: #008080; text-decoration-color: #008080; font-weight: bold\">97</span><span style=\"color: #000080; text-decoration-color: #000080\">.</span>\n",
       "</pre>\n"
      ],
      "text/plain": [
       "\u001b[34m🔵 SupervisableTextDataset: --subset dev rows: \u001b[0m\u001b[1;36m100\u001b[0m\u001b[34m -> \u001b[0m\u001b[1;36m97\u001b[0m\u001b[34m.\u001b[0m\n"
      ]
     },
     "metadata": {},
     "output_type": "display_data"
    },
    {
     "data": {
      "text/html": [
       "<pre style=\"white-space:pre;overflow-x:auto;line-height:normal;font-family:Menlo,'DejaVu Sans Mono',consolas,'Courier New',monospace\"><span style=\"color: #000080; text-decoration-color: #000080\">🔵 SupervisableTextDataset: --subset test rows: </span><span style=\"color: #008080; text-decoration-color: #008080; font-weight: bold\">100</span><span style=\"color: #000080; text-decoration-color: #000080\"> -&gt; </span><span style=\"color: #008080; text-decoration-color: #008080; font-weight: bold\">98</span><span style=\"color: #000080; text-decoration-color: #000080\">.</span>\n",
       "</pre>\n"
      ],
      "text/plain": [
       "\u001b[34m🔵 SupervisableTextDataset: --subset test rows: \u001b[0m\u001b[1;36m100\u001b[0m\u001b[34m -> \u001b[0m\u001b[1;36m98\u001b[0m\u001b[34m.\u001b[0m\n"
      ]
     },
     "metadata": {},
     "output_type": "display_data"
    },
    {
     "data": {
      "text/html": [
       "<pre style=\"white-space:pre;overflow-x:auto;line-height:normal;font-family:Menlo,'DejaVu Sans Mono',consolas,'Courier New',monospace\"><span style=\"color: #008000; text-decoration-color: #008000\">🟢 SupervisableTextDataset: Set up label encoder/decoder with </span><span style=\"color: #008080; text-decoration-color: #008080; font-weight: bold\">20</span><span style=\"color: #008000; text-decoration-color: #008000\"> classes.</span>\n",
       "</pre>\n"
      ],
      "text/plain": [
       "\u001b[32m🟢 SupervisableTextDataset: Set up label encoder/decoder with \u001b[0m\u001b[1;36m20\u001b[0m\u001b[32m classes.\u001b[0m\n"
      ]
     },
     "metadata": {},
     "output_type": "display_data"
    },
    {
     "data": {
      "text/html": [
       "<pre style=\"white-space:pre;overflow-x:auto;line-height:normal;font-family:Menlo,'DejaVu Sans Mono',consolas,'Courier New',monospace\"><span style=\"color: #008000; text-decoration-color: #008000\">🟢 SupervisableTextDataset: Population updater: latest population with </span><span style=\"color: #008080; text-decoration-color: #008080; font-weight: bold\">20</span><span style=\"color: #008000; text-decoration-color: #008000\"> classes.</span>\n",
       "</pre>\n"
      ],
      "text/plain": [
       "\u001b[32m🟢 SupervisableTextDataset: Population updater: latest population with \u001b[0m\u001b[1;36m20\u001b[0m\u001b[32m classes.\u001b[0m\n"
      ]
     },
     "metadata": {},
     "output_type": "display_data"
    },
    {
     "data": {
      "text/html": [
       "<pre style=\"white-space:pre;overflow-x:auto;line-height:normal;font-family:Menlo,'DejaVu Sans Mono',consolas,'Courier New',monospace\"><span style=\"color: #008000; text-decoration-color: #008000\">🟢 SupervisableTextDataset: SupervisableTextDataset: finished initialization.</span>\n",
       "</pre>\n"
      ],
      "text/plain": [
       "\u001b[32m🟢 SupervisableTextDataset: SupervisableTextDataset: finished initialization.\u001b[0m\n"
      ]
     },
     "metadata": {},
     "output_type": "display_data"
    }
   ],
   "source": [
    "from hover.core.dataset import SupervisableTextDataset\n",
    "import pandas as pd\n",
    "\n",
    "raw_csv_path = \"https://raw.githubusercontent.com/phurwicz/hover-gallery/main/0.5.0/20_newsgroups_raw.csv\"\n",
    "train_csv_path = \"https://raw.githubusercontent.com/phurwicz/hover-gallery/main/0.5.0/20_newsgroups_train.csv\"\n",
    "\n",
    "# for fast, low-memory demonstration purpose, sample the data\n",
    "df_raw = pd.read_csv(raw_csv_path).sample(400)\n",
    "df_raw[\"SUBSET\"] = \"raw\"\n",
    "df_train = pd.read_csv(train_csv_path).sample(400)\n",
    "df_train[\"SUBSET\"] = \"train\"\n",
    "df_dev = pd.read_csv(train_csv_path).sample(100)\n",
    "df_dev[\"SUBSET\"] = \"dev\"\n",
    "df_test = pd.read_csv(train_csv_path).sample(100)\n",
    "df_test[\"SUBSET\"] = \"test\"\n",
    "\n",
    "# build overall dataframe and ensure feature type\n",
    "df = pd.concat([df_raw, df_train, df_dev, df_test])\n",
    "df[\"text\"] = df[\"text\"].astype(str)\n",
    "\n",
    "# this class stores the dataset throught the labeling process\n",
    "dataset = SupervisableTextDataset.from_pandas(df, feature_key=\"text\", label_key=\"label\")"
   ]
  },
  {
   "cell_type": "markdown",
   "id": "584b6b68",
   "metadata": {},
   "source": [
    "<br>"
   ]
  },
  {
   "cell_type": "code",
   "execution_count": 2,
   "id": "b5cebb23",
   "metadata": {
    "execution": {
     "iopub.execute_input": "2023-02-07T01:46:36.162472Z",
     "iopub.status.busy": "2023-02-07T01:46:36.161850Z",
     "iopub.status.idle": "2023-02-07T01:46:36.243422Z",
     "shell.execute_reply": "2023-02-07T01:46:36.242557Z"
    }
   },
   "outputs": [
    {
     "data": {
      "text/html": [
       "<style>\n",
       "        .bk-notebook-logo {\n",
       "            display: block;\n",
       "            width: 20px;\n",
       "            height: 20px;\n",
       "            background-image: url(data:image/png;base64,iVBORw0KGgoAAAANSUhEUgAAABQAAAAUCAYAAACNiR0NAAAABHNCSVQICAgIfAhkiAAAAAlwSFlzAAALEgAACxIB0t1+/AAAABx0RVh0U29mdHdhcmUAQWRvYmUgRmlyZXdvcmtzIENTNui8sowAAAOkSURBVDiNjZRtaJVlGMd/1/08zzln5zjP1LWcU9N0NkN8m2CYjpgQYQXqSs0I84OLIC0hkEKoPtiH3gmKoiJDU7QpLgoLjLIQCpEsNJ1vqUOdO7ppbuec5+V+rj4ctwzd8IIbbi6u+8f1539dt3A78eXC7QizUF7gyV1fD1Yqg4JWz84yffhm0qkFqBogB9rM8tZdtwVsPUhWhGcFJngGeWrPzHm5oaMmkfEg1usvLFyc8jLRqDOMru7AyC8saQr7GG7f5fvDeH7Ej8CM66nIF+8yngt6HWaKh7k49Soy9nXurCi1o3qUbS3zWfrYeQDTB/Qj6kX6Ybhw4B+bOYoLKCC9H3Nu/leUTZ1JdRWkkn2ldcCamzrcf47KKXdAJllSlxAOkRgyHsGC/zRday5Qld9DyoM4/q/rUoy/CXh3jzOu3bHUVZeU+DEn8FInkPBFlu3+nW3Nw0mk6vCDiWg8CeJaxEwuHS3+z5RgY+YBR6V1Z1nxSOfoaPa4LASWxxdNp+VWTk7+4vzaou8v8PN+xo+KY2xsw6une2frhw05CTYOmQvsEhjhWjn0bmXPjpE1+kplmmkP3suftwTubK9Vq22qKmrBhpY4jvd5afdRA3wGjFAgcnTK2s4hY0/GPNIb0nErGMCRxWOOX64Z8RAC4oCXdklmEvcL8o0BfkNK4lUg9HTl+oPlQxdNo3Mg4Nv175e/1LDGzZen30MEjRUtmXSfiTVu1kK8W4txyV6BMKlbgk3lMwYCiusNy9fVfvvwMxv8Ynl6vxoByANLTWplvuj/nF9m2+PDtt1eiHPBr1oIfhCChQMBw6Aw0UulqTKZdfVvfG7VcfIqLG9bcldL/+pdWTLxLUy8Qq38heUIjh4XlzZxzQm19lLFlr8vdQ97rjZVOLf8nclzckbcD4wxXMidpX30sFd37Fv/GtwwhzhxGVAprjbg0gCAEeIgwCZyTV2Z1REEW8O4py0wsjeloKoMr6iCY6dP92H6Vw/oTyICIthibxjm/DfN9lVz8IqtqKYLUXfoKVMVQVVJOElGjrnnUt9T9wbgp8AyYKaGlqingHZU/uG2NTZSVqwHQTWkx9hxjkpWDaCg6Ckj5qebgBVbT3V3NNXMSiWSDdGV3hrtzla7J+duwPOToIg42ChPQOQjspnSlp1V+Gjdged7+8UN5CRAV7a5EdFNwCjEaBR27b3W890TE7g24NAP/mMDXRWrGoFPQI9ls/MWO2dWFAar/xcOIImbbpA3zgAAAABJRU5ErkJggg==);\n",
       "        }\n",
       "    </style>\n",
       "    <div>\n",
       "        <a href=\"https://bokeh.org\" target=\"_blank\" class=\"bk-notebook-logo\"></a>\n",
       "        <span id=\"p1055\">Loading BokehJS ...</span>\n",
       "    </div>\n"
      ]
     },
     "metadata": {},
     "output_type": "display_data"
    },
    {
     "data": {
      "application/javascript": [
       "(function(root) {\n",
       "  function now() {\n",
       "    return new Date();\n",
       "  }\n",
       "\n",
       "  const force = true;\n",
       "\n",
       "  if (typeof root._bokeh_onload_callbacks === \"undefined\" || force === true) {\n",
       "    root._bokeh_onload_callbacks = [];\n",
       "    root._bokeh_is_loading = undefined;\n",
       "  }\n",
       "\n",
       "const JS_MIME_TYPE = 'application/javascript';\n",
       "  const HTML_MIME_TYPE = 'text/html';\n",
       "  const EXEC_MIME_TYPE = 'application/vnd.bokehjs_exec.v0+json';\n",
       "  const CLASS_NAME = 'output_bokeh rendered_html';\n",
       "\n",
       "  /**\n",
       "   * Render data to the DOM node\n",
       "   */\n",
       "  function render(props, node) {\n",
       "    const script = document.createElement(\"script\");\n",
       "    node.appendChild(script);\n",
       "  }\n",
       "\n",
       "  /**\n",
       "   * Handle when an output is cleared or removed\n",
       "   */\n",
       "  function handleClearOutput(event, handle) {\n",
       "    const cell = handle.cell;\n",
       "\n",
       "    const id = cell.output_area._bokeh_element_id;\n",
       "    const server_id = cell.output_area._bokeh_server_id;\n",
       "    // Clean up Bokeh references\n",
       "    if (id != null && id in Bokeh.index) {\n",
       "      Bokeh.index[id].model.document.clear();\n",
       "      delete Bokeh.index[id];\n",
       "    }\n",
       "\n",
       "    if (server_id !== undefined) {\n",
       "      // Clean up Bokeh references\n",
       "      const cmd_clean = \"from bokeh.io.state import curstate; print(curstate().uuid_to_server['\" + server_id + \"'].get_sessions()[0].document.roots[0]._id)\";\n",
       "      cell.notebook.kernel.execute(cmd_clean, {\n",
       "        iopub: {\n",
       "          output: function(msg) {\n",
       "            const id = msg.content.text.trim();\n",
       "            if (id in Bokeh.index) {\n",
       "              Bokeh.index[id].model.document.clear();\n",
       "              delete Bokeh.index[id];\n",
       "            }\n",
       "          }\n",
       "        }\n",
       "      });\n",
       "      // Destroy server and session\n",
       "      const cmd_destroy = \"import bokeh.io.notebook as ion; ion.destroy_server('\" + server_id + \"')\";\n",
       "      cell.notebook.kernel.execute(cmd_destroy);\n",
       "    }\n",
       "  }\n",
       "\n",
       "  /**\n",
       "   * Handle when a new output is added\n",
       "   */\n",
       "  function handleAddOutput(event, handle) {\n",
       "    const output_area = handle.output_area;\n",
       "    const output = handle.output;\n",
       "\n",
       "    // limit handleAddOutput to display_data with EXEC_MIME_TYPE content only\n",
       "    if ((output.output_type != \"display_data\") || (!Object.prototype.hasOwnProperty.call(output.data, EXEC_MIME_TYPE))) {\n",
       "      return\n",
       "    }\n",
       "\n",
       "    const toinsert = output_area.element.find(\".\" + CLASS_NAME.split(' ')[0]);\n",
       "\n",
       "    if (output.metadata[EXEC_MIME_TYPE][\"id\"] !== undefined) {\n",
       "      toinsert[toinsert.length - 1].firstChild.textContent = output.data[JS_MIME_TYPE];\n",
       "      // store reference to embed id on output_area\n",
       "      output_area._bokeh_element_id = output.metadata[EXEC_MIME_TYPE][\"id\"];\n",
       "    }\n",
       "    if (output.metadata[EXEC_MIME_TYPE][\"server_id\"] !== undefined) {\n",
       "      const bk_div = document.createElement(\"div\");\n",
       "      bk_div.innerHTML = output.data[HTML_MIME_TYPE];\n",
       "      const script_attrs = bk_div.children[0].attributes;\n",
       "      for (let i = 0; i < script_attrs.length; i++) {\n",
       "        toinsert[toinsert.length - 1].firstChild.setAttribute(script_attrs[i].name, script_attrs[i].value);\n",
       "        toinsert[toinsert.length - 1].firstChild.textContent = bk_div.children[0].textContent\n",
       "      }\n",
       "      // store reference to server id on output_area\n",
       "      output_area._bokeh_server_id = output.metadata[EXEC_MIME_TYPE][\"server_id\"];\n",
       "    }\n",
       "  }\n",
       "\n",
       "  function register_renderer(events, OutputArea) {\n",
       "\n",
       "    function append_mime(data, metadata, element) {\n",
       "      // create a DOM node to render to\n",
       "      const toinsert = this.create_output_subarea(\n",
       "        metadata,\n",
       "        CLASS_NAME,\n",
       "        EXEC_MIME_TYPE\n",
       "      );\n",
       "      this.keyboard_manager.register_events(toinsert);\n",
       "      // Render to node\n",
       "      const props = {data: data, metadata: metadata[EXEC_MIME_TYPE]};\n",
       "      render(props, toinsert[toinsert.length - 1]);\n",
       "      element.append(toinsert);\n",
       "      return toinsert\n",
       "    }\n",
       "\n",
       "    /* Handle when an output is cleared or removed */\n",
       "    events.on('clear_output.CodeCell', handleClearOutput);\n",
       "    events.on('delete.Cell', handleClearOutput);\n",
       "\n",
       "    /* Handle when a new output is added */\n",
       "    events.on('output_added.OutputArea', handleAddOutput);\n",
       "\n",
       "    /**\n",
       "     * Register the mime type and append_mime function with output_area\n",
       "     */\n",
       "    OutputArea.prototype.register_mime_type(EXEC_MIME_TYPE, append_mime, {\n",
       "      /* Is output safe? */\n",
       "      safe: true,\n",
       "      /* Index of renderer in `output_area.display_order` */\n",
       "      index: 0\n",
       "    });\n",
       "  }\n",
       "\n",
       "  // register the mime type if in Jupyter Notebook environment and previously unregistered\n",
       "  if (root.Jupyter !== undefined) {\n",
       "    const events = require('base/js/events');\n",
       "    const OutputArea = require('notebook/js/outputarea').OutputArea;\n",
       "\n",
       "    if (OutputArea.prototype.mime_types().indexOf(EXEC_MIME_TYPE) == -1) {\n",
       "      register_renderer(events, OutputArea);\n",
       "    }\n",
       "  }\n",
       "  if (typeof (root._bokeh_timeout) === \"undefined\" || force === true) {\n",
       "    root._bokeh_timeout = Date.now() + 5000;\n",
       "    root._bokeh_failed_load = false;\n",
       "  }\n",
       "\n",
       "  const NB_LOAD_WARNING = {'data': {'text/html':\n",
       "     \"<div style='background-color: #fdd'>\\n\"+\n",
       "     \"<p>\\n\"+\n",
       "     \"BokehJS does not appear to have successfully loaded. If loading BokehJS from CDN, this \\n\"+\n",
       "     \"may be due to a slow or bad network connection. Possible fixes:\\n\"+\n",
       "     \"</p>\\n\"+\n",
       "     \"<ul>\\n\"+\n",
       "     \"<li>re-rerun `output_notebook()` to attempt to load from CDN again, or</li>\\n\"+\n",
       "     \"<li>use INLINE resources instead, as so:</li>\\n\"+\n",
       "     \"</ul>\\n\"+\n",
       "     \"<code>\\n\"+\n",
       "     \"from bokeh.resources import INLINE\\n\"+\n",
       "     \"output_notebook(resources=INLINE)\\n\"+\n",
       "     \"</code>\\n\"+\n",
       "     \"</div>\"}};\n",
       "\n",
       "  function display_loaded() {\n",
       "    const el = document.getElementById(\"p1055\");\n",
       "    if (el != null) {\n",
       "      el.textContent = \"BokehJS is loading...\";\n",
       "    }\n",
       "    if (root.Bokeh !== undefined) {\n",
       "      if (el != null) {\n",
       "        el.textContent = \"BokehJS \" + root.Bokeh.version + \" successfully loaded.\";\n",
       "      }\n",
       "    } else if (Date.now() < root._bokeh_timeout) {\n",
       "      setTimeout(display_loaded, 100)\n",
       "    }\n",
       "  }\n",
       "\n",
       "  function run_callbacks() {\n",
       "    try {\n",
       "      root._bokeh_onload_callbacks.forEach(function(callback) {\n",
       "        if (callback != null)\n",
       "          callback();\n",
       "      });\n",
       "    } finally {\n",
       "      delete root._bokeh_onload_callbacks\n",
       "    }\n",
       "    console.debug(\"Bokeh: all callbacks have finished\");\n",
       "  }\n",
       "\n",
       "  function load_libs(css_urls, js_urls, callback) {\n",
       "    if (css_urls == null) css_urls = [];\n",
       "    if (js_urls == null) js_urls = [];\n",
       "\n",
       "    root._bokeh_onload_callbacks.push(callback);\n",
       "    if (root._bokeh_is_loading > 0) {\n",
       "      console.debug(\"Bokeh: BokehJS is being loaded, scheduling callback at\", now());\n",
       "      return null;\n",
       "    }\n",
       "    if (js_urls == null || js_urls.length === 0) {\n",
       "      run_callbacks();\n",
       "      return null;\n",
       "    }\n",
       "    console.debug(\"Bokeh: BokehJS not loaded, scheduling load and callback at\", now());\n",
       "    root._bokeh_is_loading = css_urls.length + js_urls.length;\n",
       "\n",
       "    function on_load() {\n",
       "      root._bokeh_is_loading--;\n",
       "      if (root._bokeh_is_loading === 0) {\n",
       "        console.debug(\"Bokeh: all BokehJS libraries/stylesheets loaded\");\n",
       "        run_callbacks()\n",
       "      }\n",
       "    }\n",
       "\n",
       "    function on_error(url) {\n",
       "      console.error(\"failed to load \" + url);\n",
       "    }\n",
       "\n",
       "    for (let i = 0; i < css_urls.length; i++) {\n",
       "      const url = css_urls[i];\n",
       "      const element = document.createElement(\"link\");\n",
       "      element.onload = on_load;\n",
       "      element.onerror = on_error.bind(null, url);\n",
       "      element.rel = \"stylesheet\";\n",
       "      element.type = \"text/css\";\n",
       "      element.href = url;\n",
       "      console.debug(\"Bokeh: injecting link tag for BokehJS stylesheet: \", url);\n",
       "      document.body.appendChild(element);\n",
       "    }\n",
       "\n",
       "    for (let i = 0; i < js_urls.length; i++) {\n",
       "      const url = js_urls[i];\n",
       "      const element = document.createElement('script');\n",
       "      element.onload = on_load;\n",
       "      element.onerror = on_error.bind(null, url);\n",
       "      element.async = false;\n",
       "      element.src = url;\n",
       "      console.debug(\"Bokeh: injecting script tag for BokehJS library: \", url);\n",
       "      document.head.appendChild(element);\n",
       "    }\n",
       "  };\n",
       "\n",
       "  function inject_raw_css(css) {\n",
       "    const element = document.createElement(\"style\");\n",
       "    element.appendChild(document.createTextNode(css));\n",
       "    document.body.appendChild(element);\n",
       "  }\n",
       "\n",
       "  const js_urls = [\"https://cdn.bokeh.org/bokeh/release/bokeh-3.0.3.min.js\", \"https://cdn.bokeh.org/bokeh/release/bokeh-gl-3.0.3.min.js\", \"https://cdn.bokeh.org/bokeh/release/bokeh-widgets-3.0.3.min.js\", \"https://cdn.bokeh.org/bokeh/release/bokeh-tables-3.0.3.min.js\", \"https://cdn.bokeh.org/bokeh/release/bokeh-mathjax-3.0.3.min.js\"];\n",
       "  const css_urls = [];\n",
       "\n",
       "  const inline_js = [    function(Bokeh) {\n",
       "      Bokeh.set_log_level(\"info\");\n",
       "    },\n",
       "function(Bokeh) {\n",
       "    }\n",
       "  ];\n",
       "\n",
       "  function run_inline_js() {\n",
       "    if (root.Bokeh !== undefined || force === true) {\n",
       "          for (let i = 0; i < inline_js.length; i++) {\n",
       "      inline_js[i].call(root, root.Bokeh);\n",
       "    }\n",
       "if (force === true) {\n",
       "        display_loaded();\n",
       "      }} else if (Date.now() < root._bokeh_timeout) {\n",
       "      setTimeout(run_inline_js, 100);\n",
       "    } else if (!root._bokeh_failed_load) {\n",
       "      console.log(\"Bokeh: BokehJS failed to load within specified timeout.\");\n",
       "      root._bokeh_failed_load = true;\n",
       "    } else if (force !== true) {\n",
       "      const cell = $(document.getElementById(\"p1055\")).parents('.cell').data().cell;\n",
       "      cell.output_area.append_execute_result(NB_LOAD_WARNING)\n",
       "    }\n",
       "  }\n",
       "\n",
       "  if (root._bokeh_is_loading === 0) {\n",
       "    console.debug(\"Bokeh: BokehJS loaded, going straight to plotting\");\n",
       "    run_inline_js();\n",
       "  } else {\n",
       "    load_libs(css_urls, js_urls, function() {\n",
       "      console.debug(\"Bokeh: BokehJS plotting callback run at\", now());\n",
       "      run_inline_js();\n",
       "    });\n",
       "  }\n",
       "}(window));"
      ],
      "application/vnd.bokehjs_load.v0+json": "(function(root) {\n  function now() {\n    return new Date();\n  }\n\n  const force = true;\n\n  if (typeof root._bokeh_onload_callbacks === \"undefined\" || force === true) {\n    root._bokeh_onload_callbacks = [];\n    root._bokeh_is_loading = undefined;\n  }\n\n\n  if (typeof (root._bokeh_timeout) === \"undefined\" || force === true) {\n    root._bokeh_timeout = Date.now() + 5000;\n    root._bokeh_failed_load = false;\n  }\n\n  const NB_LOAD_WARNING = {'data': {'text/html':\n     \"<div style='background-color: #fdd'>\\n\"+\n     \"<p>\\n\"+\n     \"BokehJS does not appear to have successfully loaded. If loading BokehJS from CDN, this \\n\"+\n     \"may be due to a slow or bad network connection. Possible fixes:\\n\"+\n     \"</p>\\n\"+\n     \"<ul>\\n\"+\n     \"<li>re-rerun `output_notebook()` to attempt to load from CDN again, or</li>\\n\"+\n     \"<li>use INLINE resources instead, as so:</li>\\n\"+\n     \"</ul>\\n\"+\n     \"<code>\\n\"+\n     \"from bokeh.resources import INLINE\\n\"+\n     \"output_notebook(resources=INLINE)\\n\"+\n     \"</code>\\n\"+\n     \"</div>\"}};\n\n  function display_loaded() {\n    const el = document.getElementById(\"p1055\");\n    if (el != null) {\n      el.textContent = \"BokehJS is loading...\";\n    }\n    if (root.Bokeh !== undefined) {\n      if (el != null) {\n        el.textContent = \"BokehJS \" + root.Bokeh.version + \" successfully loaded.\";\n      }\n    } else if (Date.now() < root._bokeh_timeout) {\n      setTimeout(display_loaded, 100)\n    }\n  }\n\n  function run_callbacks() {\n    try {\n      root._bokeh_onload_callbacks.forEach(function(callback) {\n        if (callback != null)\n          callback();\n      });\n    } finally {\n      delete root._bokeh_onload_callbacks\n    }\n    console.debug(\"Bokeh: all callbacks have finished\");\n  }\n\n  function load_libs(css_urls, js_urls, callback) {\n    if (css_urls == null) css_urls = [];\n    if (js_urls == null) js_urls = [];\n\n    root._bokeh_onload_callbacks.push(callback);\n    if (root._bokeh_is_loading > 0) {\n      console.debug(\"Bokeh: BokehJS is being loaded, scheduling callback at\", now());\n      return null;\n    }\n    if (js_urls == null || js_urls.length === 0) {\n      run_callbacks();\n      return null;\n    }\n    console.debug(\"Bokeh: BokehJS not loaded, scheduling load and callback at\", now());\n    root._bokeh_is_loading = css_urls.length + js_urls.length;\n\n    function on_load() {\n      root._bokeh_is_loading--;\n      if (root._bokeh_is_loading === 0) {\n        console.debug(\"Bokeh: all BokehJS libraries/stylesheets loaded\");\n        run_callbacks()\n      }\n    }\n\n    function on_error(url) {\n      console.error(\"failed to load \" + url);\n    }\n\n    for (let i = 0; i < css_urls.length; i++) {\n      const url = css_urls[i];\n      const element = document.createElement(\"link\");\n      element.onload = on_load;\n      element.onerror = on_error.bind(null, url);\n      element.rel = \"stylesheet\";\n      element.type = \"text/css\";\n      element.href = url;\n      console.debug(\"Bokeh: injecting link tag for BokehJS stylesheet: \", url);\n      document.body.appendChild(element);\n    }\n\n    for (let i = 0; i < js_urls.length; i++) {\n      const url = js_urls[i];\n      const element = document.createElement('script');\n      element.onload = on_load;\n      element.onerror = on_error.bind(null, url);\n      element.async = false;\n      element.src = url;\n      console.debug(\"Bokeh: injecting script tag for BokehJS library: \", url);\n      document.head.appendChild(element);\n    }\n  };\n\n  function inject_raw_css(css) {\n    const element = document.createElement(\"style\");\n    element.appendChild(document.createTextNode(css));\n    document.body.appendChild(element);\n  }\n\n  const js_urls = [\"https://cdn.bokeh.org/bokeh/release/bokeh-3.0.3.min.js\", \"https://cdn.bokeh.org/bokeh/release/bokeh-gl-3.0.3.min.js\", \"https://cdn.bokeh.org/bokeh/release/bokeh-widgets-3.0.3.min.js\", \"https://cdn.bokeh.org/bokeh/release/bokeh-tables-3.0.3.min.js\", \"https://cdn.bokeh.org/bokeh/release/bokeh-mathjax-3.0.3.min.js\"];\n  const css_urls = [];\n\n  const inline_js = [    function(Bokeh) {\n      Bokeh.set_log_level(\"info\");\n    },\nfunction(Bokeh) {\n    }\n  ];\n\n  function run_inline_js() {\n    if (root.Bokeh !== undefined || force === true) {\n          for (let i = 0; i < inline_js.length; i++) {\n      inline_js[i].call(root, root.Bokeh);\n    }\nif (force === true) {\n        display_loaded();\n      }} else if (Date.now() < root._bokeh_timeout) {\n      setTimeout(run_inline_js, 100);\n    } else if (!root._bokeh_failed_load) {\n      console.log(\"Bokeh: BokehJS failed to load within specified timeout.\");\n      root._bokeh_failed_load = true;\n    } else if (force !== true) {\n      const cell = $(document.getElementById(\"p1055\")).parents('.cell').data().cell;\n      cell.output_area.append_execute_result(NB_LOAD_WARNING)\n    }\n  }\n\n  if (root._bokeh_is_loading === 0) {\n    console.debug(\"Bokeh: BokehJS loaded, going straight to plotting\");\n    run_inline_js();\n  } else {\n    load_libs(css_urls, js_urls, function() {\n      console.debug(\"Bokeh: BokehJS plotting callback run at\", now());\n      run_inline_js();\n    });\n  }\n}(window));"
     },
     "metadata": {},
     "output_type": "display_data"
    },
    {
     "data": {
      "text/html": [
       "\n",
       "  <div id=\"ac828c02-e275-4495-bf41-dacdf85e2374\" data-root-id=\"p1032\" style=\"display: contents;\"></div>\n"
      ]
     },
     "metadata": {},
     "output_type": "display_data"
    },
    {
     "data": {
      "application/javascript": [
       "(function(root) {\n",
       "  function embed_document(root) {\n",
       "  const docs_json = {\"aee00215-1707-4c3f-bf06-666a7b578870\":{\"version\":\"3.0.3\",\"title\":\"Bokeh Application\",\"defs\":[],\"roots\":[{\"type\":\"object\",\"name\":\"DataTable\",\"id\":\"p1032\",\"attributes\":{\"source\":{\"type\":\"object\",\"name\":\"ColumnDataSource\",\"id\":\"p1010\",\"attributes\":{\"selected\":{\"type\":\"object\",\"name\":\"Selection\",\"id\":\"p1012\",\"attributes\":{\"indices\":[],\"line_indices\":[]}},\"selection_policy\":{\"type\":\"object\",\"name\":\"UnionRenderers\",\"id\":\"p1011\"},\"data\":{\"type\":\"map\",\"entries\":[[\"color\",[\"#dcdcdc\",\"#3c358b\",\"#4456c7\",\"#4675ed\",\"#4193fe\",\"#2fb1f3\",\"#1bcfd4\",\"#1ae4b6\",\"#35f394\",\"#61fc6c\",\"#8efe48\",\"#b3f835\",\"#d1e834\",\"#ead339\",\"#f9ba38\",\"#fe9b2d\",\"#f8741c\",\"#ec520e\",\"#d93806\",\"#c02302\",\"#a01101\"]],[\"label\",[\"ABSTAIN\",\"alt.atheism\",\"comp.graphics\",\"comp.os.ms-windows.misc\",\"comp.sys.ibm.pc.hardware\",\"comp.sys.mac.hardware\",\"comp.windows.x\",\"misc.forsale\",\"rec.autos\",\"rec.motorcycles\",\"rec.sport.baseball\",\"rec.sport.hockey\",\"sci.crypt\",\"sci.electronics\",\"sci.med\",\"sci.space\",\"soc.religion.christian\",\"talk.politics.guns\",\"talk.politics.mideast\",\"talk.politics.misc\",\"talk.religion.misc\"]],[\"count_raw\",[383,0,0,0,0,0,0,0,0,0,0,0,0,0,0,0,0,0,0,0,0]],[\"count_train\",[0,20,22,10,22,20,17,14,25,16,17,18,29,19,23,17,18,25,17,21,15]],[\"count_dev\",[0,0,4,6,9,7,2,3,2,6,6,3,9,3,9,4,5,5,8,4,2]],[\"count_test\",[0,1,6,6,7,3,3,10,4,1,5,6,7,5,3,8,2,9,4,3,5]]]}}},\"view\":{\"type\":\"object\",\"name\":\"CDSView\",\"id\":\"p1036\",\"attributes\":{\"filter\":{\"type\":\"object\",\"name\":\"AllIndices\",\"id\":\"p1037\"}}},\"columns\":[{\"type\":\"object\",\"name\":\"TableColumn\",\"id\":\"p1013\",\"attributes\":{\"field\":\"label\",\"title\":\"label\",\"formatter\":{\"type\":\"object\",\"name\":\"StringFormatter\",\"id\":\"p1015\"},\"editor\":{\"type\":\"object\",\"name\":\"StringEditor\",\"id\":\"p1014\"}}},{\"type\":\"object\",\"name\":\"TableColumn\",\"id\":\"p1016\",\"attributes\":{\"field\":\"count_raw\",\"title\":\"raw\",\"formatter\":{\"type\":\"object\",\"name\":\"StringFormatter\",\"id\":\"p1018\"},\"editor\":{\"type\":\"object\",\"name\":\"StringEditor\",\"id\":\"p1017\"}}},{\"type\":\"object\",\"name\":\"TableColumn\",\"id\":\"p1019\",\"attributes\":{\"field\":\"count_train\",\"title\":\"train\",\"formatter\":{\"type\":\"object\",\"name\":\"StringFormatter\",\"id\":\"p1021\"},\"editor\":{\"type\":\"object\",\"name\":\"StringEditor\",\"id\":\"p1020\"}}},{\"type\":\"object\",\"name\":\"TableColumn\",\"id\":\"p1022\",\"attributes\":{\"field\":\"count_dev\",\"title\":\"dev\",\"formatter\":{\"type\":\"object\",\"name\":\"StringFormatter\",\"id\":\"p1024\"},\"editor\":{\"type\":\"object\",\"name\":\"StringEditor\",\"id\":\"p1023\"}}},{\"type\":\"object\",\"name\":\"TableColumn\",\"id\":\"p1025\",\"attributes\":{\"field\":\"count_test\",\"title\":\"test\",\"formatter\":{\"type\":\"object\",\"name\":\"StringFormatter\",\"id\":\"p1027\"},\"editor\":{\"type\":\"object\",\"name\":\"StringEditor\",\"id\":\"p1026\"}}},{\"type\":\"object\",\"name\":\"TableColumn\",\"id\":\"p1029\",\"attributes\":{\"field\":\"color\",\"title\":\"color\",\"formatter\":{\"type\":\"object\",\"name\":\"HTMLTemplateFormatter\",\"id\":\"p1028\",\"attributes\":{\"template\":\"\\n<p style=\\\"color:<%= value %>;\\\">\\n    <%= \\\"&#9608;&#9608;&#9608;\\\" %>\\n</p>\\n\"}},\"editor\":{\"type\":\"object\",\"name\":\"StringEditor\",\"id\":\"p1031\"}}}]}}]}};\n",
       "  const render_items = [{\"docid\":\"aee00215-1707-4c3f-bf06-666a7b578870\",\"roots\":{\"p1032\":\"ac828c02-e275-4495-bf41-dacdf85e2374\"},\"root_ids\":[\"p1032\"]}];\n",
       "  root.Bokeh.embed.embed_items_notebook(docs_json, render_items);\n",
       "  }\n",
       "  if (root.Bokeh !== undefined) {\n",
       "    embed_document(root);\n",
       "  } else {\n",
       "    let attempts = 0;\n",
       "    const timer = setInterval(function(root) {\n",
       "      if (root.Bokeh !== undefined) {\n",
       "        clearInterval(timer);\n",
       "        embed_document(root);\n",
       "      } else {\n",
       "        attempts++;\n",
       "        if (attempts > 100) {\n",
       "          clearInterval(timer);\n",
       "          console.log(\"Bokeh: ERROR: Unable to run BokehJS code because BokehJS library is missing\");\n",
       "        }\n",
       "      }\n",
       "    }, 10, root)\n",
       "  }\n",
       "})(window);"
      ],
      "application/vnd.bokehjs_exec.v0+json": ""
     },
     "metadata": {
      "application/vnd.bokehjs_exec.v0+json": {
       "id": "p1032"
      }
     },
     "output_type": "display_data"
    }
   ],
   "source": [
    "from bokeh.io import show, output_notebook\n",
    "\n",
    "output_notebook()\n",
    "\n",
    "# normally your would skip notebook_url or use Jupyter address\n",
    "notebook_url = 'localhost:8888'\n",
    "\n",
    "show(dataset.pop_table, notebook_url=notebook_url)"
   ]
  },
  {
   "cell_type": "markdown",
   "id": "265d1553",
   "metadata": {},
   "source": [
    "<br>\n",
    "\n",
    "### **Transfer Data Between Subsets**\n",
    "\n",
    "`COMMIT` and `DEDUP` are the mechanisms that `hover` uses to transfer data between subsets.\n",
    "\n",
    "-   `COMMIT` copies selected points (to be discussed later) to a destination subset\n",
    "    -   labeled-raw-only: `COMMIT` automatically detects which points are in the raw set with a valid label. Other points will not get copied.\n",
    "    -   keep-last: you can commit the same point to the same subset multiple times and the last copy will be kept. This can be useful for revising labels before `DEDUP`.\n",
    "-   `DEDUP` removes duplicates (identified by feature value) across subsets\n",
    "    -   priority rule: test > dev > train > raw, i.e. test set data always gets kept during deduplication\n",
    "\n",
    "-   <details open><summary>FAQ</summary>\n",
    "    <details open><summary>Why does COMMIT only work on the raw subset?</summary>\n",
    "        Most selections will happen through plots, where different subsets are on top of each other. This means selections can contain both unlabeled and labeled points.\n",
    "\n",
    "        Way too often we find ourselves trying to view both the labeled and the unlabeled, but only moving the unlabeled \"raw\" points. So it's handy that COMMIT picks those points only.\n",
    "    </details>\n",
    "\n",
    "</details>\n",
    "\n",
    "These mechanisms correspond to buttons in `hover`'s annotation interface, which you have encountered in the quickstart:"
   ]
  },
  {
   "cell_type": "code",
   "execution_count": 3,
   "id": "c0c9d7ce",
   "metadata": {
    "execution": {
     "iopub.execute_input": "2023-02-07T01:46:36.246786Z",
     "iopub.status.busy": "2023-02-07T01:46:36.246412Z",
     "iopub.status.idle": "2023-02-07T01:46:36.288566Z",
     "shell.execute_reply": "2023-02-07T01:46:36.287934Z"
    }
   },
   "outputs": [
    {
     "name": "stderr",
     "output_type": "stream",
     "text": [
      "WARNING:bokeh.embed.util:\n",
      "You are generating standalone HTML/JS output, but trying to use real Python\n",
      "callbacks (i.e. with on_change or on_event). This combination cannot work.\n",
      "\n",
      "Only JavaScript callbacks may be used with standalone output. For more\n",
      "information on JavaScript callbacks with Bokeh, see:\n",
      "\n",
      "    https://docs.bokeh.org/en/latest/docs/user_guide/interaction/callbacks.html\n",
      "\n",
      "Alternatively, to use real Python callbacks, a Bokeh server application may\n",
      "be used. For more information on building and running Bokeh applications, see:\n",
      "\n",
      "    https://docs.bokeh.org/en/latest/docs/user_guide/server.html\n",
      "\n"
     ]
    },
    {
     "data": {
      "text/html": [
       "\n",
       "  <div id=\"9ef56d87-9a15-4fed-ae7c-3ba872308e31\" data-root-id=\"p1153\" style=\"display: contents;\"></div>\n"
      ]
     },
     "metadata": {},
     "output_type": "display_data"
    },
    {
     "data": {
      "application/javascript": [
       "(function(root) {\n",
       "  function embed_document(root) {\n",
       "  const docs_json = {\"880c797b-9fda-4653-b280-a356f00a12b9\":{\"version\":\"3.0.3\",\"title\":\"Bokeh Application\",\"defs\":[],\"roots\":[{\"type\":\"object\",\"name\":\"Column\",\"id\":\"p1153\",\"attributes\":{\"children\":[{\"type\":\"object\",\"name\":\"Row\",\"id\":\"p1152\",\"attributes\":{\"children\":[{\"type\":\"object\",\"name\":\"Dropdown\",\"id\":\"p1002\",\"attributes\":{\"button_type\":\"warning\",\"subscribed_events\":{\"type\":\"set\",\"entries\":[\"button_click\",\"menu_item_click\"]},\"label\":\"Commit\",\"menu\":[\"train\",\"dev\",\"test\"]}},{\"type\":\"object\",\"name\":\"Button\",\"id\":\"p1003\",\"attributes\":{\"button_type\":\"warning\",\"subscribed_events\":{\"type\":\"set\",\"entries\":[\"button_click\"]},\"label\":\"Dedup\"}}]}},{\"type\":\"object\",\"name\":\"DataTable\",\"id\":\"p1032\",\"attributes\":{\"source\":{\"type\":\"object\",\"name\":\"ColumnDataSource\",\"id\":\"p1010\",\"attributes\":{\"selected\":{\"type\":\"object\",\"name\":\"Selection\",\"id\":\"p1012\",\"attributes\":{\"indices\":[],\"line_indices\":[]}},\"selection_policy\":{\"type\":\"object\",\"name\":\"UnionRenderers\",\"id\":\"p1011\"},\"data\":{\"type\":\"map\",\"entries\":[[\"color\",[\"#dcdcdc\",\"#3c358b\",\"#4456c7\",\"#4675ed\",\"#4193fe\",\"#2fb1f3\",\"#1bcfd4\",\"#1ae4b6\",\"#35f394\",\"#61fc6c\",\"#8efe48\",\"#b3f835\",\"#d1e834\",\"#ead339\",\"#f9ba38\",\"#fe9b2d\",\"#f8741c\",\"#ec520e\",\"#d93806\",\"#c02302\",\"#a01101\"]],[\"label\",[\"ABSTAIN\",\"alt.atheism\",\"comp.graphics\",\"comp.os.ms-windows.misc\",\"comp.sys.ibm.pc.hardware\",\"comp.sys.mac.hardware\",\"comp.windows.x\",\"misc.forsale\",\"rec.autos\",\"rec.motorcycles\",\"rec.sport.baseball\",\"rec.sport.hockey\",\"sci.crypt\",\"sci.electronics\",\"sci.med\",\"sci.space\",\"soc.religion.christian\",\"talk.politics.guns\",\"talk.politics.mideast\",\"talk.politics.misc\",\"talk.religion.misc\"]],[\"count_raw\",[383,0,0,0,0,0,0,0,0,0,0,0,0,0,0,0,0,0,0,0,0]],[\"count_train\",[0,20,22,10,22,20,17,14,25,16,17,18,29,19,23,17,18,25,17,21,15]],[\"count_dev\",[0,0,4,6,9,7,2,3,2,6,6,3,9,3,9,4,5,5,8,4,2]],[\"count_test\",[0,1,6,6,7,3,3,10,4,1,5,6,7,5,3,8,2,9,4,3,5]]]}}},\"view\":{\"type\":\"object\",\"name\":\"CDSView\",\"id\":\"p1036\",\"attributes\":{\"filter\":{\"type\":\"object\",\"name\":\"AllIndices\",\"id\":\"p1037\"}}},\"columns\":[{\"type\":\"object\",\"name\":\"TableColumn\",\"id\":\"p1013\",\"attributes\":{\"field\":\"label\",\"title\":\"label\",\"formatter\":{\"type\":\"object\",\"name\":\"StringFormatter\",\"id\":\"p1015\"},\"editor\":{\"type\":\"object\",\"name\":\"StringEditor\",\"id\":\"p1014\"}}},{\"type\":\"object\",\"name\":\"TableColumn\",\"id\":\"p1016\",\"attributes\":{\"field\":\"count_raw\",\"title\":\"raw\",\"formatter\":{\"type\":\"object\",\"name\":\"StringFormatter\",\"id\":\"p1018\"},\"editor\":{\"type\":\"object\",\"name\":\"StringEditor\",\"id\":\"p1017\"}}},{\"type\":\"object\",\"name\":\"TableColumn\",\"id\":\"p1019\",\"attributes\":{\"field\":\"count_train\",\"title\":\"train\",\"formatter\":{\"type\":\"object\",\"name\":\"StringFormatter\",\"id\":\"p1021\"},\"editor\":{\"type\":\"object\",\"name\":\"StringEditor\",\"id\":\"p1020\"}}},{\"type\":\"object\",\"name\":\"TableColumn\",\"id\":\"p1022\",\"attributes\":{\"field\":\"count_dev\",\"title\":\"dev\",\"formatter\":{\"type\":\"object\",\"name\":\"StringFormatter\",\"id\":\"p1024\"},\"editor\":{\"type\":\"object\",\"name\":\"StringEditor\",\"id\":\"p1023\"}}},{\"type\":\"object\",\"name\":\"TableColumn\",\"id\":\"p1025\",\"attributes\":{\"field\":\"count_test\",\"title\":\"test\",\"formatter\":{\"type\":\"object\",\"name\":\"StringFormatter\",\"id\":\"p1027\"},\"editor\":{\"type\":\"object\",\"name\":\"StringEditor\",\"id\":\"p1026\"}}},{\"type\":\"object\",\"name\":\"TableColumn\",\"id\":\"p1029\",\"attributes\":{\"field\":\"color\",\"title\":\"color\",\"formatter\":{\"type\":\"object\",\"name\":\"HTMLTemplateFormatter\",\"id\":\"p1028\",\"attributes\":{\"template\":\"\\n<p style=\\\"color:<%= value %>;\\\">\\n    <%= \\\"&#9608;&#9608;&#9608;\\\" %>\\n</p>\\n\"}},\"editor\":{\"type\":\"object\",\"name\":\"StringEditor\",\"id\":\"p1031\"}}}]}}]}}]}};\n",
       "  const render_items = [{\"docid\":\"880c797b-9fda-4653-b280-a356f00a12b9\",\"roots\":{\"p1153\":\"9ef56d87-9a15-4fed-ae7c-3ba872308e31\"},\"root_ids\":[\"p1153\"]}];\n",
       "  root.Bokeh.embed.embed_items_notebook(docs_json, render_items);\n",
       "  }\n",
       "  if (root.Bokeh !== undefined) {\n",
       "    embed_document(root);\n",
       "  } else {\n",
       "    let attempts = 0;\n",
       "    const timer = setInterval(function(root) {\n",
       "      if (root.Bokeh !== undefined) {\n",
       "        clearInterval(timer);\n",
       "        embed_document(root);\n",
       "      } else {\n",
       "        attempts++;\n",
       "        if (attempts > 100) {\n",
       "          clearInterval(timer);\n",
       "          console.log(\"Bokeh: ERROR: Unable to run BokehJS code because BokehJS library is missing\");\n",
       "        }\n",
       "      }\n",
       "    }, 10, root)\n",
       "  }\n",
       "})(window);"
      ],
      "application/vnd.bokehjs_exec.v0+json": ""
     },
     "metadata": {
      "application/vnd.bokehjs_exec.v0+json": {
       "id": "p1153"
      }
     },
     "output_type": "display_data"
    }
   ],
   "source": [
    "from bokeh.layouts import row, column\n",
    "\n",
    "show(column(\n",
    "    row(\n",
    "        dataset.data_committer,\n",
    "        dataset.dedup_trigger,\n",
    "    ),\n",
    "    dataset.pop_table,\n",
    "), notebook_url=notebook_url)"
   ]
  },
  {
   "cell_type": "markdown",
   "id": "1d3b2042",
   "metadata": {},
   "source": [
    "<br>\n",
    "\n",
    "Of course, so far we have nothing to move, because there's no data selected. We shall now discuss selections.\n",
    "\n",
    "## **Selection**\n",
    "\n",
    "`hover` labels data points in bulk, which requires selecting groups of homogeneous data, i.e. semantically similar or going to have the same label. Being able to skim through what you selected gives you confidence about homogeneity.\n",
    "\n",
    "Normally, selection happens through a plot (`explorer`), as we have seen in the quickstart. For the purpose here, we will \"cheat\" and assign the selection programmatically:"
   ]
  },
  {
   "cell_type": "code",
   "execution_count": 4,
   "id": "869710be",
   "metadata": {
    "execution": {
     "iopub.execute_input": "2023-02-07T01:46:36.291212Z",
     "iopub.status.busy": "2023-02-07T01:46:36.290849Z",
     "iopub.status.idle": "2023-02-07T01:46:36.320635Z",
     "shell.execute_reply": "2023-02-07T01:46:36.320129Z"
    }
   },
   "outputs": [
    {
     "data": {
      "text/html": [
       "<pre style=\"white-space:pre;overflow-x:auto;line-height:normal;font-family:Menlo,'DejaVu Sans Mono',consolas,'Courier New',monospace\"><span style=\"color: #008000; text-decoration-color: #008000\">🟢 SupervisableTextDataset: Selection table: latest selection with </span><span style=\"color: #008080; text-decoration-color: #008080; font-weight: bold\">11</span><span style=\"color: #008000; text-decoration-color: #008000\"> entries.</span>\n",
       "</pre>\n"
      ],
      "text/plain": [
       "\u001b[32m🟢 SupervisableTextDataset: Selection table: latest selection with \u001b[0m\u001b[1;36m11\u001b[0m\u001b[32m entries.\u001b[0m\n"
      ]
     },
     "metadata": {},
     "output_type": "display_data"
    },
    {
     "data": {
      "text/html": [
       "\n",
       "  <div id=\"b2da81da-58b0-4abe-9b63-5c4d9e609328\" data-root-id=\"p1049\" style=\"display: contents;\"></div>\n"
      ]
     },
     "metadata": {},
     "output_type": "display_data"
    },
    {
     "data": {
      "application/javascript": [
       "(function(root) {\n",
       "  function embed_document(root) {\n",
       "  const docs_json = {\"9039315e-f860-4b4a-bd29-44b79fcf3649\":{\"version\":\"3.0.3\",\"title\":\"Bokeh Application\",\"defs\":[],\"roots\":[{\"type\":\"object\",\"name\":\"DataTable\",\"id\":\"p1049\",\"attributes\":{\"source\":{\"type\":\"object\",\"name\":\"ColumnDataSource\",\"id\":\"p1038\",\"attributes\":{\"selected\":{\"type\":\"object\",\"name\":\"Selection\",\"id\":\"p1040\",\"attributes\":{\"indices\":[],\"line_indices\":[]}},\"selection_policy\":{\"type\":\"object\",\"name\":\"UnionRenderers\",\"id\":\"p1039\"},\"data\":{\"type\":\"map\",\"entries\":[[\"text\",[\" : Pardon me? Here is to an amherst-clown: :  : \\\"Your three chiefs, Dro, Hamazasp and Kulkhandanian are the ringleaders :  of the bands which have destroyed Tartar villages and have staged  :  massacres in Zangezour, Surmali, Etchmiadzin, and Zangibasar. This is :  intolerable.   Were you expecting a different response? Here is another one:  Source: K. S. Papazian, \\\"Patriotism Perverted,\\\" Baikar Press, Boston, 1934,          (73 pages with Appendix).  p. 25 (third paragraph)  \\\"Some real fighters sprang up from among the people, who struck terror  into the hearts of the Turks.\\\"   \\\"Within a few months after the war began, these Armenian guerrilla  forces, operating in close coordination with the Russians, were  savagely attacking Turkish cities, towns and villages in the east,  massacring their inhabitants without mercy, while at the same time  working to sabotage the Ottoman army's war effort by destroying roads  and bridges, raiding caravans, and doing whatever else they could to  ease Russian occupation. The atrocities committed by the Armenian   volunteer forces accompanying the Russian army were so severe that the   Russian commanders themselves were compelled to withdraw them from the   fighting fronts and sent them to rear guard duties. The memoirs of many  Russian officers who served in the east at this time are filled with   accounts of the revolting atrocities committed by these Armenian   guerrillas, which were savage even by relatively primitive standards of  war then observed in such areas.[1]\\\"  [1] \\\"Journal de Guerre du Deuxieme d'Artillerie de Forteresse Russe       d'Erzeroum,\\\" 1919, p. 28.  : >honored me by reproducing my text.  Unfortunately, he has still not produced : >the \\\"documents\\\" on \\\"Jews in LATVIA.\\\"  Instead, he asks for my views on the : >\\\"Turkish Genocide.\\\"  Well, that debate seems to be going on in a few hundred : >other threads.  I'll let other people bring the usual charges, try to debunk : >Mutlu/Argic/Cosar (a net-wide Terrorism Triangle?) and their spurious evidence. :  : When that does ever happen, look out the window to see if there is a : non-fascist x-Soviet Armenian Government in the East. Now, where is : your non-existent list of scholars? What a moronian. During the First  : World War and the ensuing years - 1914-1920, the Armenian Dictatorship  : through a premeditated and systematic genocide, tried to complete its  : centuries-old policy of annihilation against the Turks and Kurds by  : savagely murdering 2.5 million Muslims and deporting the rest from  : their 1,000 year homeland.   How could you? Because there is none.   Like conversing with a brick wall. And you are not responding to what I  am writing. By the way, that \\\"bullshit\\\" is justly regarded as the first  instance of Genocide in the 20th Century acted upon an entire people. For nearly one thousand years, the Turkish and Kurdish people lived  on their homeland - the last one hundred under the oppressive Soviet  and Armenian occupation. The persecutions culminated in 1914: The  Armenian Government planned and carried out a Genocide against its  Muslim subjects. 2.5 million Turks and Kurds were murdered and the  remainder driven out of their homeland. After one thousand years,  Turkish and Kurdish lands were empty of Turks and Kurds.   The survivors found a safe heaven in Turkiye.  Today, x-Soviet Armenian government rejects the right of Turks and  Kurds to return to their Muslim lands occupied by x-Soviet Armenia.  Today, x-Soviet Armenia covers up the genocide perpetrated by its  predecessors and is therefore an accessory to this crime against  humanity.  x-Soviet Armenia must pay for its crime of genocide against the Muslims  by admitting to the crime and making reparations to the Turks and Kurds.   You may assert whatever you wish.   Ditto.  : The attempt at genocide is justly regarded as the first instance : of Genocide in the 20th Century acted upon an entire people. : This event is incontrovertibly proven by historians, government : and international political leaders, such as U.S. Ambassador Mark  : Bristol, ...   And still anxiously awaiting...  : .......so the list goes on and on and on..... :  : >I'm still trying to find out about those Jews in LATVIA.  Can you post those  : >documents PLEEEEEEEASE, Mr. Argic?  Puh-leeze could you?  C'mon, it's my : >birthday in three weeks... post them for me as a birthday present. :  : Remember, the issue at hand is the cold-blooded genocide of 2.5 million  : Muslim people by the Armenians between 1914-1920, and the Armenian-Nazi  : collaboration during World War II. Anything to add?   Remember, the issue at hand is the Armenian-Nazi collaboration during  World War II and the Turkish Genocide. And I still fail to see how you can challenge the following western sources.  Source: John Dewey: \\\"The New Republic,\\\" Vol. 40, Nov. 12, 1928, pp. 268-9.  \\\"Happy the minority [Jews] which has had no Christian nation to protect it.  And one recalls that the Jews took up their abode in 'fanatic' Turkey  when they were expelled from Europe, especially Spain, by Saintly Christians,  and they have lived here for centuries in at least as much tranquility and  liberty as their fellow Turkish subjects, all being exposed alike to the  rapacity of their common rulers. To one brought up, as most Americans have   been, in the Gladstonian and foreign-missionary tradition, the condition of   the Jews in Turkey is almost a mathematical demonstration that religious  differences have had an influence in the tragedy of Turkey only as they  were combined with aspirations for a political separation which every   nation in the world would have treated as treasonable. One readily   reaches the conclusion that the Jews in Turkey were fortunate...\\\"   He also stated that:  \\\"they [Armenians] traitorously turned Turkish cities over to the Russian   invader; that they boasted of having raised an army of one hundred and  fifty thousand men to fight a civil war, and that they burned at least  a hundred Turkish villages and exterminated their population.\\\"  : >I want the documents of Jews in Latvia.  I think several other : >people on soc.culture.greek are already disputing with you about the Turkish : >Genocide. :  : Is this the joke of the month? Who, when, how, where? What a clown...   How about Prof Shaw, a Jewish scholar?  Source: Stanford J. Shaw, on Armenian collaboration with invading Russian armies in 1914, \\\"History of the Ottoman Empire and Modern Turkey (Volume II: Reform, Revolution & Republic: The Rise of Modern Turkey, 1808-1975).\\\" (London, Cambridge University Press 1977). pp. 315-316.  \\\"In April 1915 Dashnaks from Russian Armenia organized a revolt in the city   of Van, whose 33,789 Armenians comprised 42.3 percent of the population,   closest to an Armenian majority of any city in the Empire...Leaving Erivan   on April 28, 1915, Armenian volunteers reached Van on May 14 and organized   and carried out a general slaughter of the local Muslim population during   the next two days while the small Ottoman garrison had to retreat to the  southern side of the lake.\\\"  \\\"Knowing their numbers would never justify their territorial ambitions,  Armenians looked to Russia and Europe for the fulfillment of their aims.  Armenian treachery in this regard culminated at the beginning of the First  World War with the decision of the revolutionary organizations to refuse  to serve their state, the Ottoman Empire, and to assist instead other  invading Russian armies. Their hope was their participation in the Russian  success would be rewarded with an independent Armenian state carved out of  Ottoman territories. Armenian political leaders, army officers, and common  soldiers began deserting in droves.\\\"  \\\"With the Russian invasion of eastern Anatolia in 1914 at the beginning of  World War I, the degree of Armenian collaboration with the Ottoman's enemy  increased drastically. Ottoman supply lines were cut by guerilla attacks,  Armenian revolutionaries armed Armenian civil populations, who in turn  massacred the Muslim population of the province of Van in anticipation of  expected arrival of the invading Russian armies.\\\"  Source: Stanford J. Shaw, \\\"History of the Ottoman Empire and Modern Turkey,\\\"         Vol II. Cambridge University Press, London, 1979, pp. 314-317.  \\\"...Meanwhile, Czar Nicholas II himself came to the Caucasus to make final  plans for cooperation with the Armenians against the Ottomans, with the   president of the Armenian National Bureau in Tiflis declaring in response:   'From all countries Armenians are hurrying to enter the ranks of the    glorious Russian Army, with their blood to serve the victory of Russian   arms...Let the Russian flag wave freely over the Dardanelles and the   Bosporus. Let, with Your will, great Majesty, the peoples remaining   under the Turkish yoke receive freedom. Let the Armenian people of Turkey   who have suffered for the faith of Christ receive resurrection for a new   free life under the protection of Russia.'[155]  Armenians again flooded into the czarist armies. Preparations were made to strike the Ottomans from the rear, and the czar returned to St. Petersburg confident that the day finally had come for him to reach Istanbul.\\\"  [155] Horizon, Tiflis, November 30, 1914, quoted by Hovannisian, \\\"Road to Independence,\\\" p. 45; FO 2485, 2484/46942, 22083.  \\\"Ottoman morale and military position in the east were seriously hurt, and  the way was prepared for a new Russian push into eastern Anatolia, to be  accompanied by an open Armenian revolt against the sultan.[156]\\\"  [156] Hovannisian, \\\"Road to Independence,\\\" pp. 45-47; Bayur, III/1,  pp. 349-380; W.E.D. Allen and P. Muratoff, \\\"Caucasian Battlefields,\\\" Cambridge, 1953, pp. 251-277; Ali Ihsan Sabis, \\\"Harb Hahralaram,\\\" 2 vols., Ankara, 1951, II, 41-160; FO 2146 no. 70404; FO 2485; FO 2484, nos. 46942 and 22083.  \\\"An Armenian state was organized at Van under Russian protection, and it   appeared that with the Muslim natives dead or driven away, it might be  able to maintain itself at one of the oldest centers of ancient Armenian  civilization. An Armenian legion was organized 'to expel the Turks from  the entire southern shore of the lake in preparation for a concerted  Russian drive into the Bitlis vilayet.'[162] Thousands of Armenians from  Mus and other major centers in the east began to flood into the new   Armenian state...By mid-July there were as many as 250,000 Armenians  crowded into the Van area, which before the crisis had housed and fed  no more than 50,000 people, Muslim and non-Muslim alike.[163]\\\"  [162] Hovannisian, \\\"Road to Independence,\\\" p. 56; FOP 2488, nos. 127223 and 58350.  [163] BVA, Meclis-i Vukela Mazbatalari, debates of August 15-17, 1915;  Babi-i Ali Evrak Odasi, no. 175, 321, \\\"Van Ihtilali ve Katl-i Ami,\\\" Zilkade 1333/10 September 1915.  :     Muslim population exterminated by the Armenians:   Why?  : Who gives a thunder about your pseudo-scholar jokes? I'am arguing about  : the Armenian-Nazi colaboration during World War II. Any comment?   It could be, perhaps, your head wasn't screwed on just right. In 1941,  while the Jews were being assembled for their doom in the Nazi concentration  camps, the Armenian volunteers in Germany formed the first Armenian  battalion to fight alongside the Nazis. In 1943, this battalion had  grown into eight battalions of 20,000-strong under the command of the former guerilla leader Dro (the butcher), who was the former dictator of the short-lived Armenian Dictatorship (1918-1920) and the architect of the  cold-blooded genocide of 2.5 million Turks and Kurds between 1914-1920. An Armenian National Council was formed by the notorious Dashnak Party  leaders in Berlin, which was recognized by the Nazis. Encouraged by  this, the Armenians summarily formed a provisional government that endorsed  and espoused fully the principles of the Nazis and declared themselves as the  members of the Aryan super race and full participants to Hitler's policy of  extermination of the Jews.  This Armenian-Nazi conspiracy against the Jews during WWII was an \\\"encore\\\" performance staged by the Armenians during WWI, when they back-stabbed and exterminated 2.5 million Turks by colluding with the invading Russian army.  Furthermore, as McCarthy put it, the Armenian dictatorship was granted a respite when the Ottomans admitted defeat and signed the Mudros Armistice with the Allies (October 30, 1918). The Allies had decided to create a Greater Armenia, including the old Russian province of Yerevan and adjoining areas, as well as most parts of Anatolia claimed by the Armenian fanatics. Only the area called Cilicia (around the Ottoman province of Adana) was to be excluded, as it had already been claimed by the French. The Allies quickly set about attempting to disarm Ottoman soldiers and other Turks, who could be expected to oppose their plans.   On April 19, 1919 the British Army occupied Kars, gave civilian and military power over to the Armenians, then withdrew. The British planned for Kars to be included in the Armenian Dictatorship, even  though the Russian pre-war census had shown Kars Province to be over 60% Muslim. The Turks of Kars were effectively disarmed, but the  British could not disarm the Kurds of the mountains. The fate of the Turks was almost an exact replica of what had occurred earlier in Eastern Anatolia. Murder, pillage, genocide and the destruction of Turkish homes and entire Turkish villages drove the Turks of Kars to the mountains or south and west to the safety afforded by remaining units of the Ottoman Army. The British had left  the scene to the Armenian genocide squads. Therefore, few  Europeans were present to observe the genocide. One British soldier, Colonel Rawlinson, who was assigned to supervise the disarmament of Otoman soldiers, saw what was occurring.   Rawlinson wired to his superiors,   \\\"in the interest of humanity the Armenians should not be left in  independent command of the Moslim population, as, their troops   being without discipline and not being under effective control,  atrocities were constantly being committed.\\\"    Come again?  : \\\"These European Dashnags, with headquarters in Berlin, appealed to...  Why?  : No wonder you are in such a mess. Here are the Armenian sources on the : Turkish Holocaust.  Why?   Obrother. Spell it out, \\\"list of dead Muslims\\\":  Source: Documents: Volume I (1919).         \\\"Document No: 64,\\\" Archive No: 1/2, Cabin No: 109, Drawer          No: 4, File No: 359, Section No: 103(1435), Contents No: 3-20.         (To Acting Supreme Command - Socialist Salah Cimcoz, Socialist          Nesim Mazelyah)  \\\"Armenian gangs have been murdering and inflicting cruelties on  innocent people of the region. This verified information, supported  by clear statements of reliable eyewitnesses, was also confirmed by  General Odishelidje, Commander of the Russian Caucasian Army.   Armenians are entering every place evacuated by Russians carrying out  murders, cruelties, rape and all kind of atrocities which cannot be  expressed in writing, murdering all the women, children, aged people  who happen to be in the street. These barbarous murders repeated   every day with new methods continue and the Russian Army has been urged  to intervene to terminate these atrocities. Public opinion is appalled  and horrified. Newspapers are describing the happenings as shocking.  We have decided to inform all our friends urgently about the situation.\\\"          \\\"Document No: 65,\\\" Archive No: 4/3671, Cabin No: 163, Drawer          No: 5, File No: 2947, Section No: 628, Contents No: 3-1, 3-3.         (To Acting Supreme Command - Commander, 3rd Army General)  \\\"The situation in the cities of Erzincan and Erzurum which we have   recently taken over is given below:   These two beautiful cities of our country which are alike in the  calamities and destruction which they suffered, have been destroyed,  as the specially designed and built public and private buildings of  these cities were deliberately burnt by Armenians apart from the   destruction suffered during the two-year Russian occupation.   All barracks buildings of Erzincan, the cavalry barracks in Erzurum,  the Government building and Army Corps Headquarters are among those  burnt. In short, both cities are burnt, destroyed and trees cut down.   As to the people of these cities:   All people old enough to use weapons rounded up, taken to the Sarikamis  direction for road building and were slaughtered. The remaining people,  were subject to cruelties and murder by Armenians following the   withdrawal of Russians and were partly annihilated the corpses thrown   into wells, burnt in houses, mutilated by bayonets, their abdomens  ripped open in slaughterhouses, their lungs and livers torn out, girls  and women hung up by their hair, after all kinds of devilish acts.  The few people who were able to survive these cruelties, worse than  those of the 'Spanish Inquisition,' are in poverty more dead than alive,  horrified, some driven insane, about 1500 in Erzincan and 30,000 in  Erzurum. The people are hungry and in poverty, for whatever they had  has been taken away from them, their lands left uncultivated.   The people have just been able to exist with some provisions found in  stores left over from the Russians. The villages round Erzincan and   Erzurum are in the worst condition. Some villages on the road, have   been leveled to the ground, leaving no stone, the people completely  massacred.   Let me submit to your information with deep grief and regret that  history has never before witnessed cruelties at such dimensions.\\\"  :  (a long list) :  (a long list)\\\"  And still anxiously awaiting...  Serdar Argic\",\" It seems likely to me that that a large subset of encrypted communications would be archived to tape so they could be read if sometime in the future probable cause arises and a warrant is obtained.  I can even imagine this being found legal and constitutional, since nothing is actually listened to until a valid warrant is issued and the keys are obtained.  Imagine archiving all pay-phone conversations, so if someone turns out to be a drug dealer, you can listen to all their past drug deals.  And archive calls to/from suspected Mafia members, potential terrorists, radicals, etc.  Imagine the convenience for the police of being able to get a warrant now and listening to all the calls the World Trade Center bombers made in the past year.  Since archiving would be such a powerful tool and so easy to do, why wouldn't it happen?\",\"Archive-name: cryptography-faq/part01 Last-modified: 1993/4/15   FAQ for sci.crypt, part 1: Overview  This is the first of ten parts of the sci.crypt FAQ. The parts are mostly independent, but you should read this part before the rest. We don't have the time to send out missing parts by mail, so don't ask. Notes such as ``[KAH67]'' refer to the reference list in the last part.  Disclaimer: This document is the product of the Crypt Cabal, a secret society which serves the National Secu---uh, no. Seriously, we're the good guys, and we've done what we can to ensure the completeness and accuracy of this document, but in a field of military and commercial importance like cryptography you have to expect that some people and organizations consider their interests more important than open scientific discussion. Trust only what you can verify firsthand. And don't sue us.  Many people have contributed to this FAQ. In alphabetical order: Eric Bach, Steve Bellovin, Dan Bernstein, Nelson Bolyard, Carl Ellison, Jim Gillogly, Mike Gleason, Doug Gwyn, Luke O'Connor, Tony Patti, William Setzer. We apologize for any omissions.  If you have suggestions, comments, or criticism, please let the current editors know by sending e-mail to crypt-comments@math.ncsu.edu.  We don't assume that this FAQ is at all complete at this point.  Archives: sci.crypt has been archived since October 1991 on cl-next2.cl.msu.edu, though these archives are available only to U.S. and Canadian users. Please contact crypt-comments@math.ncsu.edu if you know of other archives.  The sections of this FAQ are available via anonymous FTP to rtfm.mit.edu  as /pub/usenet/news.answers/cryptography-faq/part[xx].  The Cryptography  FAQ is posted to the newsgroups sci.crypt, sci.answers, and news.answers  every 21 days.   Table of contents:  1 Overview  2 Net Etiquette * What groups are around? What's a FAQ? Who am I? Why am I here? * Do political discussions belong in sci.crypt? * How do I present a new encryption scheme in sci.crypt?  3 Basic Cryptology * What is cryptology? Cryptography? Plaintext? Ciphertext? Encryption? Key? * What references can I start with to learn cryptology? * How does one go about cryptanalysis? * What is a brute-force search and what is its cryptographic relevance? * What are some properties satisfied by every strong cryptosystem? * If a cryptosystem is theoretically unbreakable, then is it   guaranteed analysis-proof in practice? * Why are many people still using cryptosystems that are   relatively easy to break?  4 Mathematical Cryptology * In mathematical terms, what is a private-key cryptosystem? * What is an attack? * What's the advantage of formulating all this mathematically? * Why is the one-time pad secure? * What's a ciphertext-only attack? * What's a known-plaintext attack? * What's a chosen-plaintext attack? * In mathematical terms, what can you say about brute-force attacks? * What's a key-guessing attack? What's entropy?  5 Product ciphers * What is a product cipher? * What makes a product cipher secure? * What are some group-theoretic properties of product ciphers? * What can be proven about the security of a product cipher? * How are block ciphers used to encrypt data longer than the block size? * Can symmetric block ciphers be used for message authentication? * What exactly is DES? * What is triple DES? * What is differential cryptanalysis? * How was NSA involved in the design of DES? * Is DES available in software? * Is DES available in hardware? * Can DES be used to protect classified information? * What are \\\"ECB\\\", \\\"CBC\\\", \\\"CFB\\\", and \\\"OFB\\\" encryption?  6 Public-Key Cryptography * What is public-key cryptography? * What's RSA? * Is RSA secure? * How fast can people factor numbers? * What about other public-key cryptosystems?  7 Digital Signatures and Hash Functions * What is a one-way hash function? * What is the difference between public, private, secret, shared, etc.? * What are MD4 and MD5? * What is Snefru?  8 Technical Miscellany * How do I recover from lost passwords in WordPerfect? * How do I break a Vigenere (repeated-key) cipher? * How do I send encrypted mail under UNIX? [PGP, RIPEM, PEM, ...] * Is the UNIX crypt command secure? * How do I use compression with encryption? * Is there an unbreakable cipher? * What does ``random'' mean in cryptography? * What is the unicity point (a.k.a. unicity distance)? * What is key management and why is it important? * Can I use pseudo-random or chaotic numbers as a key stream? * What is the correct frequency list for English letters? * What is the Enigma? * How do I shuffle cards? * Can I foil S/W pirates by encrypting my CD-ROM? * Can you do automatic cryptanalysis of simple ciphers? * What is the coding system used by VCR+?  9 Other Miscellany * What is the National Security Agency (NSA)? * What are the US export regulations? * What is TEMPEST? * What are the Beale Ciphers, and are they a hoax? * What is the American Cryptogram Association, and how do I get in touch? * Is RSA patented? * What about the Voynich manuscript?\",\"  The Leafs have always been kind of comical.  During the second  Imlach era, when Darryl Sittler was called a \\\"cancer on the team\\\", he tore the C off his sweater and for a while the Leafs didn't have a Captain.  Sittler eventually ended up in Philly and he was promised  the  Philly captaincy  by  new  GM  (and Sittler's friend) Bobby Clarke.  Instead, Sittler got traded to Detroit.  Rick Vaive was the Leaf Captain for awhile but he slept in one day and they took the captaincy away from him.  Then he was traded to Chicago.  During Doug Carpenter's tenure as Leaf coach, in an  attempt  to  kiss the  ass of a sulking Gary Leeman, the Leafs took the A away from Brad Marsh to give to Leeman.  Leeman wouldn't take it and when they  tried to give it back to Marsh, he wouldn't take it neither.  The best story I remember about a captain concerned Mel Bridgman, late of the Senators.  While he was in Philadelphia, Bobby Clarke, arguably one of the great captains of all time, was bumped up to the status  of playing coach and so he had to relinquish the captaincy.  Bridgman be- came the new captain.  A reporter asked a Flyer what Bridgman did as a captain  since  Clarke  was  still  the  undisputed leader amongst the players.  The reporter was told that Bridgman was in charge of  making sure that the soap dispensers in the showers were always full.   -- \",\"      Have you checked: 1/ The setting of drive A: to 1.44 M floppy.       2/ The setting of drive B: to 1.2 M foppy.       3/ The cable connecting the two drives to       the controller card (I can't remember which       two wires are swapped, but they determine       which is drive A: & b:).  I hope this is of some help :-)   Steve\",\" I could never find the Microsoft mouse driver on my Windows 3.1 installation disks, but DOS 6.0 also has version 8.20 of MOUSE.COM.   ---\",\"How about transferring control to a non-profit organisation that is able to accept donations to keep craft operational.\",\" We're probably stuck, as Mike Burger pointed out that the baseball deal was made far in advance of the NHL contract.  WABC did the same thing; they were thankful that the Devils were wiped out by 9:30, because they had to switch over to Yankees baseball.  The proof of  the reasons for this is left to the reader ...  It's too bad, but I wonder if ESPN is stuck with other US local team coverage for their alternate games?  We got NESN's coverage of the Bruins-Sabres with the Boston homers ... they were awful!!!  I've read that Derek Sanderson is the colour analyst ... I wonder if he spent his early years after hockey as an intern at PRAVDA before landing this job?  *Everything* had to be twisted into something good to say about the Bruin(s) involved ... not even Bill Wirtz's shills on SC Chicago (Pat Foley, Dale Tallon) were this bad.  And just to be fair, SC used to take their feed from ESN (Empire Sports Network), the Sabre homers and they were horrible too ... but they were spacy.  From the CNN highlights, I hear Chris Cuthbert's voice from the CBC coverage of the Habs-Nords series.  Too bad that we couldn't get it on ESPN, with all due respect to the Sabres and the Bruins.  Mike Emrick is substituting on the Devils SCNY team for Gary Thorne. Mike was the original Devils TV play-by-play announcer, by the way.  gld\",\"     When I was at the Texas Star Party a few years ago, the sky was so dark that Venus did, indeed, cause light pollution until it set.  Even if the billboard were dark it could cause a problem.  Imagine observing an object and halfway through your run, your object was occulted!  I would guess that most of the people stating positive opinions are not  fanatically serious observers.  It is so typical that the rights of the minority are extinguished by the wants of the majority, no matter how ridiculous those wants might be.   George Krumins --  \",\"on wednesday morning, another driver decided to illegally   turn left in front of me, doing great damage to my car   (Honda Civic).   i have yet to pay off the car, and the body shop says the   insurance company wants to total the car.  i haven't   been able to get in touch with the person handling my claim,   so i checked on some things:      1) my payout is $3700.00    2) Blue Book retail is $5650.00    3) loan value is $4450.00    4) trade-in value is $4000.00    could anyone give me any advice on what i should/could do   if the insurance company does not give me a reasonable   amount for the loss of the car.      thanks,     james baker\",\"   That's true. Israeli ID cards do not identify people  as Israelies. Smart huh?     Yes. There's one warhead in my parent's backyard in  Beer Sheva (that's only some 20 miles from Dimona,  you know). Evidence? I saw it!      Yes. But unfortunately I can't give you more details.  That's _secret_, you see.      [...]     You're welcome. Now, let me ask you a few questions, if you  don't mind:   1. Is it true that the Center for Policy Research is a      one-man enterprise?   2. Is it true that your questions are not being asked     bona fide?   3. Is it true that your statement above, \\\"These are indeed      provocative questions but they are asked time and again by     people around me\\\" is not true? \"]],[\"SUBSET\",[\"raw\",\"raw\",\"raw\",\"raw\",\"raw\",\"raw\",\"raw\",\"raw\",\"raw\",\"raw\",\"raw\"]],[\"label\",[\"ABSTAIN\",\"ABSTAIN\",\"ABSTAIN\",\"ABSTAIN\",\"ABSTAIN\",\"ABSTAIN\",\"ABSTAIN\",\"ABSTAIN\",\"ABSTAIN\",\"ABSTAIN\",\"ABSTAIN\"]]]}}},\"view\":{\"type\":\"object\",\"name\":\"CDSView\",\"id\":\"p1053\",\"attributes\":{\"filter\":{\"type\":\"object\",\"name\":\"AllIndices\",\"id\":\"p1054\"}}},\"columns\":[{\"type\":\"object\",\"name\":\"TableColumn\",\"id\":\"p1043\",\"attributes\":{\"field\":\"text\",\"title\":\"text\",\"formatter\":{\"type\":\"object\",\"name\":\"HTMLTemplateFormatter\",\"id\":\"p1042\",\"attributes\":{\"template\":\"<span href=\\\"#\\\" data-toggle=\\\"tooltip\\\" title=\\\"<%= value %>\\\"><%= value %></span>\"}},\"editor\":{\"type\":\"object\",\"name\":\"CellEditor\",\"id\":\"p1041\"}}},{\"type\":\"object\",\"name\":\"TableColumn\",\"id\":\"p1046\",\"attributes\":{\"field\":\"label\",\"title\":\"label\",\"formatter\":{\"type\":\"object\",\"name\":\"StringFormatter\",\"id\":\"p1048\"},\"editor\":{\"type\":\"object\",\"name\":\"StringEditor\",\"id\":\"p1047\"}}}],\"editable\":true,\"selectable\":\"checkbox\"}}]}};\n",
       "  const render_items = [{\"docid\":\"9039315e-f860-4b4a-bd29-44b79fcf3649\",\"roots\":{\"p1049\":\"b2da81da-58b0-4abe-9b63-5c4d9e609328\"},\"root_ids\":[\"p1049\"]}];\n",
       "  root.Bokeh.embed.embed_items_notebook(docs_json, render_items);\n",
       "  }\n",
       "  if (root.Bokeh !== undefined) {\n",
       "    embed_document(root);\n",
       "  } else {\n",
       "    let attempts = 0;\n",
       "    const timer = setInterval(function(root) {\n",
       "      if (root.Bokeh !== undefined) {\n",
       "        clearInterval(timer);\n",
       "        embed_document(root);\n",
       "      } else {\n",
       "        attempts++;\n",
       "        if (attempts > 100) {\n",
       "          clearInterval(timer);\n",
       "          console.log(\"Bokeh: ERROR: Unable to run BokehJS code because BokehJS library is missing\");\n",
       "        }\n",
       "      }\n",
       "    }, 10, root)\n",
       "  }\n",
       "})(window);"
      ],
      "application/vnd.bokehjs_exec.v0+json": ""
     },
     "metadata": {
      "application/vnd.bokehjs_exec.v0+json": {
       "id": "p1049"
      }
     },
     "output_type": "display_data"
    }
   ],
   "source": [
    "dataset._callback_update_selection(dataset.dfs[\"raw\"].loc[:10])\n",
    "\n",
    "show(dataset.sel_table, notebook_url=notebook_url)"
   ]
  },
  {
   "cell_type": "markdown",
   "id": "a242d08c",
   "metadata": {},
   "source": [
    "<br>\n",
    "\n",
    "### **Edit Data Within a Selection**\n",
    "\n",
    "Often the points selected are not perfectly homogeneous, i.e. some outliers belong to a different label from the selected group overall. It would be helpful to `EVICT` them, and `SupervisableDataset` has a button for it.\n",
    "\n",
    "Sometimes you may also wish to edit data values on the fly.  In hover this is called `PATCH`, and there also is a button for it.\n",
    "\n",
    "-   by default, labels can be edited but feature values cannot.\n",
    "\n",
    "Let's plot the forementioned buttons along with the selection table. Toggle any number of rows in the table, then click the button to `EVICT` or `PATCH` those rows:"
   ]
  },
  {
   "cell_type": "code",
   "execution_count": 5,
   "id": "5e406f3b",
   "metadata": {
    "execution": {
     "iopub.execute_input": "2023-02-07T01:46:36.323178Z",
     "iopub.status.busy": "2023-02-07T01:46:36.322837Z",
     "iopub.status.idle": "2023-02-07T01:46:36.358319Z",
     "shell.execute_reply": "2023-02-07T01:46:36.357648Z"
    }
   },
   "outputs": [
    {
     "name": "stderr",
     "output_type": "stream",
     "text": [
      "WARNING:bokeh.embed.util:\n",
      "You are generating standalone HTML/JS output, but trying to use real Python\n",
      "callbacks (i.e. with on_change or on_event). This combination cannot work.\n",
      "\n",
      "Only JavaScript callbacks may be used with standalone output. For more\n",
      "information on JavaScript callbacks with Bokeh, see:\n",
      "\n",
      "    https://docs.bokeh.org/en/latest/docs/user_guide/interaction/callbacks.html\n",
      "\n",
      "Alternatively, to use real Python callbacks, a Bokeh server application may\n",
      "be used. For more information on building and running Bokeh applications, see:\n",
      "\n",
      "    https://docs.bokeh.org/en/latest/docs/user_guide/server.html\n",
      "\n"
     ]
    },
    {
     "data": {
      "text/html": [
       "\n",
       "  <div id=\"2f43ecb0-6956-4e69-9ed7-bdb463312292\" data-root-id=\"p1342\" style=\"display: contents;\"></div>\n"
      ]
     },
     "metadata": {},
     "output_type": "display_data"
    },
    {
     "data": {
      "application/javascript": [
       "(function(root) {\n",
       "  function embed_document(root) {\n",
       "  const docs_json = {\"0b7fd46b-f35e-4bd3-bfa0-3776cb5a9dba\":{\"version\":\"3.0.3\",\"title\":\"Bokeh Application\",\"defs\":[],\"roots\":[{\"type\":\"object\",\"name\":\"Column\",\"id\":\"p1342\",\"attributes\":{\"children\":[{\"type\":\"object\",\"name\":\"Row\",\"id\":\"p1341\",\"attributes\":{\"children\":[{\"type\":\"object\",\"name\":\"Button\",\"id\":\"p1006\",\"attributes\":{\"button_type\":\"primary\",\"label\":\"Evict Rows from Selection\"}},{\"type\":\"object\",\"name\":\"Button\",\"id\":\"p1005\",\"attributes\":{\"button_type\":\"warning\",\"subscribed_events\":{\"type\":\"set\",\"entries\":[\"button_click\"]},\"label\":\"Update Row Values\"}}]}},{\"type\":\"object\",\"name\":\"DataTable\",\"id\":\"p1049\",\"attributes\":{\"source\":{\"type\":\"object\",\"name\":\"ColumnDataSource\",\"id\":\"p1038\",\"attributes\":{\"selected\":{\"type\":\"object\",\"name\":\"Selection\",\"id\":\"p1040\",\"attributes\":{\"indices\":[],\"line_indices\":[]}},\"selection_policy\":{\"type\":\"object\",\"name\":\"UnionRenderers\",\"id\":\"p1039\"},\"data\":{\"type\":\"map\",\"entries\":[[\"text\",[\" : Pardon me? Here is to an amherst-clown: :  : \\\"Your three chiefs, Dro, Hamazasp and Kulkhandanian are the ringleaders :  of the bands which have destroyed Tartar villages and have staged  :  massacres in Zangezour, Surmali, Etchmiadzin, and Zangibasar. This is :  intolerable.   Were you expecting a different response? Here is another one:  Source: K. S. Papazian, \\\"Patriotism Perverted,\\\" Baikar Press, Boston, 1934,          (73 pages with Appendix).  p. 25 (third paragraph)  \\\"Some real fighters sprang up from among the people, who struck terror  into the hearts of the Turks.\\\"   \\\"Within a few months after the war began, these Armenian guerrilla  forces, operating in close coordination with the Russians, were  savagely attacking Turkish cities, towns and villages in the east,  massacring their inhabitants without mercy, while at the same time  working to sabotage the Ottoman army's war effort by destroying roads  and bridges, raiding caravans, and doing whatever else they could to  ease Russian occupation. The atrocities committed by the Armenian   volunteer forces accompanying the Russian army were so severe that the   Russian commanders themselves were compelled to withdraw them from the   fighting fronts and sent them to rear guard duties. The memoirs of many  Russian officers who served in the east at this time are filled with   accounts of the revolting atrocities committed by these Armenian   guerrillas, which were savage even by relatively primitive standards of  war then observed in such areas.[1]\\\"  [1] \\\"Journal de Guerre du Deuxieme d'Artillerie de Forteresse Russe       d'Erzeroum,\\\" 1919, p. 28.  : >honored me by reproducing my text.  Unfortunately, he has still not produced : >the \\\"documents\\\" on \\\"Jews in LATVIA.\\\"  Instead, he asks for my views on the : >\\\"Turkish Genocide.\\\"  Well, that debate seems to be going on in a few hundred : >other threads.  I'll let other people bring the usual charges, try to debunk : >Mutlu/Argic/Cosar (a net-wide Terrorism Triangle?) and their spurious evidence. :  : When that does ever happen, look out the window to see if there is a : non-fascist x-Soviet Armenian Government in the East. Now, where is : your non-existent list of scholars? What a moronian. During the First  : World War and the ensuing years - 1914-1920, the Armenian Dictatorship  : through a premeditated and systematic genocide, tried to complete its  : centuries-old policy of annihilation against the Turks and Kurds by  : savagely murdering 2.5 million Muslims and deporting the rest from  : their 1,000 year homeland.   How could you? Because there is none.   Like conversing with a brick wall. And you are not responding to what I  am writing. By the way, that \\\"bullshit\\\" is justly regarded as the first  instance of Genocide in the 20th Century acted upon an entire people. For nearly one thousand years, the Turkish and Kurdish people lived  on their homeland - the last one hundred under the oppressive Soviet  and Armenian occupation. The persecutions culminated in 1914: The  Armenian Government planned and carried out a Genocide against its  Muslim subjects. 2.5 million Turks and Kurds were murdered and the  remainder driven out of their homeland. After one thousand years,  Turkish and Kurdish lands were empty of Turks and Kurds.   The survivors found a safe heaven in Turkiye.  Today, x-Soviet Armenian government rejects the right of Turks and  Kurds to return to their Muslim lands occupied by x-Soviet Armenia.  Today, x-Soviet Armenia covers up the genocide perpetrated by its  predecessors and is therefore an accessory to this crime against  humanity.  x-Soviet Armenia must pay for its crime of genocide against the Muslims  by admitting to the crime and making reparations to the Turks and Kurds.   You may assert whatever you wish.   Ditto.  : The attempt at genocide is justly regarded as the first instance : of Genocide in the 20th Century acted upon an entire people. : This event is incontrovertibly proven by historians, government : and international political leaders, such as U.S. Ambassador Mark  : Bristol, ...   And still anxiously awaiting...  : .......so the list goes on and on and on..... :  : >I'm still trying to find out about those Jews in LATVIA.  Can you post those  : >documents PLEEEEEEEASE, Mr. Argic?  Puh-leeze could you?  C'mon, it's my : >birthday in three weeks... post them for me as a birthday present. :  : Remember, the issue at hand is the cold-blooded genocide of 2.5 million  : Muslim people by the Armenians between 1914-1920, and the Armenian-Nazi  : collaboration during World War II. Anything to add?   Remember, the issue at hand is the Armenian-Nazi collaboration during  World War II and the Turkish Genocide. And I still fail to see how you can challenge the following western sources.  Source: John Dewey: \\\"The New Republic,\\\" Vol. 40, Nov. 12, 1928, pp. 268-9.  \\\"Happy the minority [Jews] which has had no Christian nation to protect it.  And one recalls that the Jews took up their abode in 'fanatic' Turkey  when they were expelled from Europe, especially Spain, by Saintly Christians,  and they have lived here for centuries in at least as much tranquility and  liberty as their fellow Turkish subjects, all being exposed alike to the  rapacity of their common rulers. To one brought up, as most Americans have   been, in the Gladstonian and foreign-missionary tradition, the condition of   the Jews in Turkey is almost a mathematical demonstration that religious  differences have had an influence in the tragedy of Turkey only as they  were combined with aspirations for a political separation which every   nation in the world would have treated as treasonable. One readily   reaches the conclusion that the Jews in Turkey were fortunate...\\\"   He also stated that:  \\\"they [Armenians] traitorously turned Turkish cities over to the Russian   invader; that they boasted of having raised an army of one hundred and  fifty thousand men to fight a civil war, and that they burned at least  a hundred Turkish villages and exterminated their population.\\\"  : >I want the documents of Jews in Latvia.  I think several other : >people on soc.culture.greek are already disputing with you about the Turkish : >Genocide. :  : Is this the joke of the month? Who, when, how, where? What a clown...   How about Prof Shaw, a Jewish scholar?  Source: Stanford J. Shaw, on Armenian collaboration with invading Russian armies in 1914, \\\"History of the Ottoman Empire and Modern Turkey (Volume II: Reform, Revolution & Republic: The Rise of Modern Turkey, 1808-1975).\\\" (London, Cambridge University Press 1977). pp. 315-316.  \\\"In April 1915 Dashnaks from Russian Armenia organized a revolt in the city   of Van, whose 33,789 Armenians comprised 42.3 percent of the population,   closest to an Armenian majority of any city in the Empire...Leaving Erivan   on April 28, 1915, Armenian volunteers reached Van on May 14 and organized   and carried out a general slaughter of the local Muslim population during   the next two days while the small Ottoman garrison had to retreat to the  southern side of the lake.\\\"  \\\"Knowing their numbers would never justify their territorial ambitions,  Armenians looked to Russia and Europe for the fulfillment of their aims.  Armenian treachery in this regard culminated at the beginning of the First  World War with the decision of the revolutionary organizations to refuse  to serve their state, the Ottoman Empire, and to assist instead other  invading Russian armies. Their hope was their participation in the Russian  success would be rewarded with an independent Armenian state carved out of  Ottoman territories. Armenian political leaders, army officers, and common  soldiers began deserting in droves.\\\"  \\\"With the Russian invasion of eastern Anatolia in 1914 at the beginning of  World War I, the degree of Armenian collaboration with the Ottoman's enemy  increased drastically. Ottoman supply lines were cut by guerilla attacks,  Armenian revolutionaries armed Armenian civil populations, who in turn  massacred the Muslim population of the province of Van in anticipation of  expected arrival of the invading Russian armies.\\\"  Source: Stanford J. Shaw, \\\"History of the Ottoman Empire and Modern Turkey,\\\"         Vol II. Cambridge University Press, London, 1979, pp. 314-317.  \\\"...Meanwhile, Czar Nicholas II himself came to the Caucasus to make final  plans for cooperation with the Armenians against the Ottomans, with the   president of the Armenian National Bureau in Tiflis declaring in response:   'From all countries Armenians are hurrying to enter the ranks of the    glorious Russian Army, with their blood to serve the victory of Russian   arms...Let the Russian flag wave freely over the Dardanelles and the   Bosporus. Let, with Your will, great Majesty, the peoples remaining   under the Turkish yoke receive freedom. Let the Armenian people of Turkey   who have suffered for the faith of Christ receive resurrection for a new   free life under the protection of Russia.'[155]  Armenians again flooded into the czarist armies. Preparations were made to strike the Ottomans from the rear, and the czar returned to St. Petersburg confident that the day finally had come for him to reach Istanbul.\\\"  [155] Horizon, Tiflis, November 30, 1914, quoted by Hovannisian, \\\"Road to Independence,\\\" p. 45; FO 2485, 2484/46942, 22083.  \\\"Ottoman morale and military position in the east were seriously hurt, and  the way was prepared for a new Russian push into eastern Anatolia, to be  accompanied by an open Armenian revolt against the sultan.[156]\\\"  [156] Hovannisian, \\\"Road to Independence,\\\" pp. 45-47; Bayur, III/1,  pp. 349-380; W.E.D. Allen and P. Muratoff, \\\"Caucasian Battlefields,\\\" Cambridge, 1953, pp. 251-277; Ali Ihsan Sabis, \\\"Harb Hahralaram,\\\" 2 vols., Ankara, 1951, II, 41-160; FO 2146 no. 70404; FO 2485; FO 2484, nos. 46942 and 22083.  \\\"An Armenian state was organized at Van under Russian protection, and it   appeared that with the Muslim natives dead or driven away, it might be  able to maintain itself at one of the oldest centers of ancient Armenian  civilization. An Armenian legion was organized 'to expel the Turks from  the entire southern shore of the lake in preparation for a concerted  Russian drive into the Bitlis vilayet.'[162] Thousands of Armenians from  Mus and other major centers in the east began to flood into the new   Armenian state...By mid-July there were as many as 250,000 Armenians  crowded into the Van area, which before the crisis had housed and fed  no more than 50,000 people, Muslim and non-Muslim alike.[163]\\\"  [162] Hovannisian, \\\"Road to Independence,\\\" p. 56; FOP 2488, nos. 127223 and 58350.  [163] BVA, Meclis-i Vukela Mazbatalari, debates of August 15-17, 1915;  Babi-i Ali Evrak Odasi, no. 175, 321, \\\"Van Ihtilali ve Katl-i Ami,\\\" Zilkade 1333/10 September 1915.  :     Muslim population exterminated by the Armenians:   Why?  : Who gives a thunder about your pseudo-scholar jokes? I'am arguing about  : the Armenian-Nazi colaboration during World War II. Any comment?   It could be, perhaps, your head wasn't screwed on just right. In 1941,  while the Jews were being assembled for their doom in the Nazi concentration  camps, the Armenian volunteers in Germany formed the first Armenian  battalion to fight alongside the Nazis. In 1943, this battalion had  grown into eight battalions of 20,000-strong under the command of the former guerilla leader Dro (the butcher), who was the former dictator of the short-lived Armenian Dictatorship (1918-1920) and the architect of the  cold-blooded genocide of 2.5 million Turks and Kurds between 1914-1920. An Armenian National Council was formed by the notorious Dashnak Party  leaders in Berlin, which was recognized by the Nazis. Encouraged by  this, the Armenians summarily formed a provisional government that endorsed  and espoused fully the principles of the Nazis and declared themselves as the  members of the Aryan super race and full participants to Hitler's policy of  extermination of the Jews.  This Armenian-Nazi conspiracy against the Jews during WWII was an \\\"encore\\\" performance staged by the Armenians during WWI, when they back-stabbed and exterminated 2.5 million Turks by colluding with the invading Russian army.  Furthermore, as McCarthy put it, the Armenian dictatorship was granted a respite when the Ottomans admitted defeat and signed the Mudros Armistice with the Allies (October 30, 1918). The Allies had decided to create a Greater Armenia, including the old Russian province of Yerevan and adjoining areas, as well as most parts of Anatolia claimed by the Armenian fanatics. Only the area called Cilicia (around the Ottoman province of Adana) was to be excluded, as it had already been claimed by the French. The Allies quickly set about attempting to disarm Ottoman soldiers and other Turks, who could be expected to oppose their plans.   On April 19, 1919 the British Army occupied Kars, gave civilian and military power over to the Armenians, then withdrew. The British planned for Kars to be included in the Armenian Dictatorship, even  though the Russian pre-war census had shown Kars Province to be over 60% Muslim. The Turks of Kars were effectively disarmed, but the  British could not disarm the Kurds of the mountains. The fate of the Turks was almost an exact replica of what had occurred earlier in Eastern Anatolia. Murder, pillage, genocide and the destruction of Turkish homes and entire Turkish villages drove the Turks of Kars to the mountains or south and west to the safety afforded by remaining units of the Ottoman Army. The British had left  the scene to the Armenian genocide squads. Therefore, few  Europeans were present to observe the genocide. One British soldier, Colonel Rawlinson, who was assigned to supervise the disarmament of Otoman soldiers, saw what was occurring.   Rawlinson wired to his superiors,   \\\"in the interest of humanity the Armenians should not be left in  independent command of the Moslim population, as, their troops   being without discipline and not being under effective control,  atrocities were constantly being committed.\\\"    Come again?  : \\\"These European Dashnags, with headquarters in Berlin, appealed to...  Why?  : No wonder you are in such a mess. Here are the Armenian sources on the : Turkish Holocaust.  Why?   Obrother. Spell it out, \\\"list of dead Muslims\\\":  Source: Documents: Volume I (1919).         \\\"Document No: 64,\\\" Archive No: 1/2, Cabin No: 109, Drawer          No: 4, File No: 359, Section No: 103(1435), Contents No: 3-20.         (To Acting Supreme Command - Socialist Salah Cimcoz, Socialist          Nesim Mazelyah)  \\\"Armenian gangs have been murdering and inflicting cruelties on  innocent people of the region. This verified information, supported  by clear statements of reliable eyewitnesses, was also confirmed by  General Odishelidje, Commander of the Russian Caucasian Army.   Armenians are entering every place evacuated by Russians carrying out  murders, cruelties, rape and all kind of atrocities which cannot be  expressed in writing, murdering all the women, children, aged people  who happen to be in the street. These barbarous murders repeated   every day with new methods continue and the Russian Army has been urged  to intervene to terminate these atrocities. Public opinion is appalled  and horrified. Newspapers are describing the happenings as shocking.  We have decided to inform all our friends urgently about the situation.\\\"          \\\"Document No: 65,\\\" Archive No: 4/3671, Cabin No: 163, Drawer          No: 5, File No: 2947, Section No: 628, Contents No: 3-1, 3-3.         (To Acting Supreme Command - Commander, 3rd Army General)  \\\"The situation in the cities of Erzincan and Erzurum which we have   recently taken over is given below:   These two beautiful cities of our country which are alike in the  calamities and destruction which they suffered, have been destroyed,  as the specially designed and built public and private buildings of  these cities were deliberately burnt by Armenians apart from the   destruction suffered during the two-year Russian occupation.   All barracks buildings of Erzincan, the cavalry barracks in Erzurum,  the Government building and Army Corps Headquarters are among those  burnt. In short, both cities are burnt, destroyed and trees cut down.   As to the people of these cities:   All people old enough to use weapons rounded up, taken to the Sarikamis  direction for road building and were slaughtered. The remaining people,  were subject to cruelties and murder by Armenians following the   withdrawal of Russians and were partly annihilated the corpses thrown   into wells, burnt in houses, mutilated by bayonets, their abdomens  ripped open in slaughterhouses, their lungs and livers torn out, girls  and women hung up by their hair, after all kinds of devilish acts.  The few people who were able to survive these cruelties, worse than  those of the 'Spanish Inquisition,' are in poverty more dead than alive,  horrified, some driven insane, about 1500 in Erzincan and 30,000 in  Erzurum. The people are hungry and in poverty, for whatever they had  has been taken away from them, their lands left uncultivated.   The people have just been able to exist with some provisions found in  stores left over from the Russians. The villages round Erzincan and   Erzurum are in the worst condition. Some villages on the road, have   been leveled to the ground, leaving no stone, the people completely  massacred.   Let me submit to your information with deep grief and regret that  history has never before witnessed cruelties at such dimensions.\\\"  :  (a long list) :  (a long list)\\\"  And still anxiously awaiting...  Serdar Argic\",\" It seems likely to me that that a large subset of encrypted communications would be archived to tape so they could be read if sometime in the future probable cause arises and a warrant is obtained.  I can even imagine this being found legal and constitutional, since nothing is actually listened to until a valid warrant is issued and the keys are obtained.  Imagine archiving all pay-phone conversations, so if someone turns out to be a drug dealer, you can listen to all their past drug deals.  And archive calls to/from suspected Mafia members, potential terrorists, radicals, etc.  Imagine the convenience for the police of being able to get a warrant now and listening to all the calls the World Trade Center bombers made in the past year.  Since archiving would be such a powerful tool and so easy to do, why wouldn't it happen?\",\"Archive-name: cryptography-faq/part01 Last-modified: 1993/4/15   FAQ for sci.crypt, part 1: Overview  This is the first of ten parts of the sci.crypt FAQ. The parts are mostly independent, but you should read this part before the rest. We don't have the time to send out missing parts by mail, so don't ask. Notes such as ``[KAH67]'' refer to the reference list in the last part.  Disclaimer: This document is the product of the Crypt Cabal, a secret society which serves the National Secu---uh, no. Seriously, we're the good guys, and we've done what we can to ensure the completeness and accuracy of this document, but in a field of military and commercial importance like cryptography you have to expect that some people and organizations consider their interests more important than open scientific discussion. Trust only what you can verify firsthand. And don't sue us.  Many people have contributed to this FAQ. In alphabetical order: Eric Bach, Steve Bellovin, Dan Bernstein, Nelson Bolyard, Carl Ellison, Jim Gillogly, Mike Gleason, Doug Gwyn, Luke O'Connor, Tony Patti, William Setzer. We apologize for any omissions.  If you have suggestions, comments, or criticism, please let the current editors know by sending e-mail to crypt-comments@math.ncsu.edu.  We don't assume that this FAQ is at all complete at this point.  Archives: sci.crypt has been archived since October 1991 on cl-next2.cl.msu.edu, though these archives are available only to U.S. and Canadian users. Please contact crypt-comments@math.ncsu.edu if you know of other archives.  The sections of this FAQ are available via anonymous FTP to rtfm.mit.edu  as /pub/usenet/news.answers/cryptography-faq/part[xx].  The Cryptography  FAQ is posted to the newsgroups sci.crypt, sci.answers, and news.answers  every 21 days.   Table of contents:  1 Overview  2 Net Etiquette * What groups are around? What's a FAQ? Who am I? Why am I here? * Do political discussions belong in sci.crypt? * How do I present a new encryption scheme in sci.crypt?  3 Basic Cryptology * What is cryptology? Cryptography? Plaintext? Ciphertext? Encryption? Key? * What references can I start with to learn cryptology? * How does one go about cryptanalysis? * What is a brute-force search and what is its cryptographic relevance? * What are some properties satisfied by every strong cryptosystem? * If a cryptosystem is theoretically unbreakable, then is it   guaranteed analysis-proof in practice? * Why are many people still using cryptosystems that are   relatively easy to break?  4 Mathematical Cryptology * In mathematical terms, what is a private-key cryptosystem? * What is an attack? * What's the advantage of formulating all this mathematically? * Why is the one-time pad secure? * What's a ciphertext-only attack? * What's a known-plaintext attack? * What's a chosen-plaintext attack? * In mathematical terms, what can you say about brute-force attacks? * What's a key-guessing attack? What's entropy?  5 Product ciphers * What is a product cipher? * What makes a product cipher secure? * What are some group-theoretic properties of product ciphers? * What can be proven about the security of a product cipher? * How are block ciphers used to encrypt data longer than the block size? * Can symmetric block ciphers be used for message authentication? * What exactly is DES? * What is triple DES? * What is differential cryptanalysis? * How was NSA involved in the design of DES? * Is DES available in software? * Is DES available in hardware? * Can DES be used to protect classified information? * What are \\\"ECB\\\", \\\"CBC\\\", \\\"CFB\\\", and \\\"OFB\\\" encryption?  6 Public-Key Cryptography * What is public-key cryptography? * What's RSA? * Is RSA secure? * How fast can people factor numbers? * What about other public-key cryptosystems?  7 Digital Signatures and Hash Functions * What is a one-way hash function? * What is the difference between public, private, secret, shared, etc.? * What are MD4 and MD5? * What is Snefru?  8 Technical Miscellany * How do I recover from lost passwords in WordPerfect? * How do I break a Vigenere (repeated-key) cipher? * How do I send encrypted mail under UNIX? [PGP, RIPEM, PEM, ...] * Is the UNIX crypt command secure? * How do I use compression with encryption? * Is there an unbreakable cipher? * What does ``random'' mean in cryptography? * What is the unicity point (a.k.a. unicity distance)? * What is key management and why is it important? * Can I use pseudo-random or chaotic numbers as a key stream? * What is the correct frequency list for English letters? * What is the Enigma? * How do I shuffle cards? * Can I foil S/W pirates by encrypting my CD-ROM? * Can you do automatic cryptanalysis of simple ciphers? * What is the coding system used by VCR+?  9 Other Miscellany * What is the National Security Agency (NSA)? * What are the US export regulations? * What is TEMPEST? * What are the Beale Ciphers, and are they a hoax? * What is the American Cryptogram Association, and how do I get in touch? * Is RSA patented? * What about the Voynich manuscript?\",\"  The Leafs have always been kind of comical.  During the second  Imlach era, when Darryl Sittler was called a \\\"cancer on the team\\\", he tore the C off his sweater and for a while the Leafs didn't have a Captain.  Sittler eventually ended up in Philly and he was promised  the  Philly captaincy  by  new  GM  (and Sittler's friend) Bobby Clarke.  Instead, Sittler got traded to Detroit.  Rick Vaive was the Leaf Captain for awhile but he slept in one day and they took the captaincy away from him.  Then he was traded to Chicago.  During Doug Carpenter's tenure as Leaf coach, in an  attempt  to  kiss the  ass of a sulking Gary Leeman, the Leafs took the A away from Brad Marsh to give to Leeman.  Leeman wouldn't take it and when they  tried to give it back to Marsh, he wouldn't take it neither.  The best story I remember about a captain concerned Mel Bridgman, late of the Senators.  While he was in Philadelphia, Bobby Clarke, arguably one of the great captains of all time, was bumped up to the status  of playing coach and so he had to relinquish the captaincy.  Bridgman be- came the new captain.  A reporter asked a Flyer what Bridgman did as a captain  since  Clarke  was  still  the  undisputed leader amongst the players.  The reporter was told that Bridgman was in charge of  making sure that the soap dispensers in the showers were always full.   -- \",\"      Have you checked: 1/ The setting of drive A: to 1.44 M floppy.       2/ The setting of drive B: to 1.2 M foppy.       3/ The cable connecting the two drives to       the controller card (I can't remember which       two wires are swapped, but they determine       which is drive A: & b:).  I hope this is of some help :-)   Steve\",\" I could never find the Microsoft mouse driver on my Windows 3.1 installation disks, but DOS 6.0 also has version 8.20 of MOUSE.COM.   ---\",\"How about transferring control to a non-profit organisation that is able to accept donations to keep craft operational.\",\" We're probably stuck, as Mike Burger pointed out that the baseball deal was made far in advance of the NHL contract.  WABC did the same thing; they were thankful that the Devils were wiped out by 9:30, because they had to switch over to Yankees baseball.  The proof of  the reasons for this is left to the reader ...  It's too bad, but I wonder if ESPN is stuck with other US local team coverage for their alternate games?  We got NESN's coverage of the Bruins-Sabres with the Boston homers ... they were awful!!!  I've read that Derek Sanderson is the colour analyst ... I wonder if he spent his early years after hockey as an intern at PRAVDA before landing this job?  *Everything* had to be twisted into something good to say about the Bruin(s) involved ... not even Bill Wirtz's shills on SC Chicago (Pat Foley, Dale Tallon) were this bad.  And just to be fair, SC used to take their feed from ESN (Empire Sports Network), the Sabre homers and they were horrible too ... but they were spacy.  From the CNN highlights, I hear Chris Cuthbert's voice from the CBC coverage of the Habs-Nords series.  Too bad that we couldn't get it on ESPN, with all due respect to the Sabres and the Bruins.  Mike Emrick is substituting on the Devils SCNY team for Gary Thorne. Mike was the original Devils TV play-by-play announcer, by the way.  gld\",\"     When I was at the Texas Star Party a few years ago, the sky was so dark that Venus did, indeed, cause light pollution until it set.  Even if the billboard were dark it could cause a problem.  Imagine observing an object and halfway through your run, your object was occulted!  I would guess that most of the people stating positive opinions are not  fanatically serious observers.  It is so typical that the rights of the minority are extinguished by the wants of the majority, no matter how ridiculous those wants might be.   George Krumins --  \",\"on wednesday morning, another driver decided to illegally   turn left in front of me, doing great damage to my car   (Honda Civic).   i have yet to pay off the car, and the body shop says the   insurance company wants to total the car.  i haven't   been able to get in touch with the person handling my claim,   so i checked on some things:      1) my payout is $3700.00    2) Blue Book retail is $5650.00    3) loan value is $4450.00    4) trade-in value is $4000.00    could anyone give me any advice on what i should/could do   if the insurance company does not give me a reasonable   amount for the loss of the car.      thanks,     james baker\",\"   That's true. Israeli ID cards do not identify people  as Israelies. Smart huh?     Yes. There's one warhead in my parent's backyard in  Beer Sheva (that's only some 20 miles from Dimona,  you know). Evidence? I saw it!      Yes. But unfortunately I can't give you more details.  That's _secret_, you see.      [...]     You're welcome. Now, let me ask you a few questions, if you  don't mind:   1. Is it true that the Center for Policy Research is a      one-man enterprise?   2. Is it true that your questions are not being asked     bona fide?   3. Is it true that your statement above, \\\"These are indeed      provocative questions but they are asked time and again by     people around me\\\" is not true? \"]],[\"SUBSET\",[\"raw\",\"raw\",\"raw\",\"raw\",\"raw\",\"raw\",\"raw\",\"raw\",\"raw\",\"raw\",\"raw\"]],[\"label\",[\"ABSTAIN\",\"ABSTAIN\",\"ABSTAIN\",\"ABSTAIN\",\"ABSTAIN\",\"ABSTAIN\",\"ABSTAIN\",\"ABSTAIN\",\"ABSTAIN\",\"ABSTAIN\",\"ABSTAIN\"]]]}}},\"view\":{\"type\":\"object\",\"name\":\"CDSView\",\"id\":\"p1053\",\"attributes\":{\"filter\":{\"type\":\"object\",\"name\":\"AllIndices\",\"id\":\"p1054\"}}},\"columns\":[{\"type\":\"object\",\"name\":\"TableColumn\",\"id\":\"p1043\",\"attributes\":{\"field\":\"text\",\"title\":\"text\",\"formatter\":{\"type\":\"object\",\"name\":\"HTMLTemplateFormatter\",\"id\":\"p1042\",\"attributes\":{\"template\":\"<span href=\\\"#\\\" data-toggle=\\\"tooltip\\\" title=\\\"<%= value %>\\\"><%= value %></span>\"}},\"editor\":{\"type\":\"object\",\"name\":\"CellEditor\",\"id\":\"p1041\"}}},{\"type\":\"object\",\"name\":\"TableColumn\",\"id\":\"p1046\",\"attributes\":{\"field\":\"label\",\"title\":\"label\",\"formatter\":{\"type\":\"object\",\"name\":\"StringFormatter\",\"id\":\"p1048\"},\"editor\":{\"type\":\"object\",\"name\":\"StringEditor\",\"id\":\"p1047\"}}}],\"editable\":true,\"selectable\":\"checkbox\"}}]}}]}};\n",
       "  const render_items = [{\"docid\":\"0b7fd46b-f35e-4bd3-bfa0-3776cb5a9dba\",\"roots\":{\"p1342\":\"2f43ecb0-6956-4e69-9ed7-bdb463312292\"},\"root_ids\":[\"p1342\"]}];\n",
       "  root.Bokeh.embed.embed_items_notebook(docs_json, render_items);\n",
       "  }\n",
       "  if (root.Bokeh !== undefined) {\n",
       "    embed_document(root);\n",
       "  } else {\n",
       "    let attempts = 0;\n",
       "    const timer = setInterval(function(root) {\n",
       "      if (root.Bokeh !== undefined) {\n",
       "        clearInterval(timer);\n",
       "        embed_document(root);\n",
       "      } else {\n",
       "        attempts++;\n",
       "        if (attempts > 100) {\n",
       "          clearInterval(timer);\n",
       "          console.log(\"Bokeh: ERROR: Unable to run BokehJS code because BokehJS library is missing\");\n",
       "        }\n",
       "      }\n",
       "    }, 10, root)\n",
       "  }\n",
       "})(window);"
      ],
      "application/vnd.bokehjs_exec.v0+json": ""
     },
     "metadata": {
      "application/vnd.bokehjs_exec.v0+json": {
       "id": "p1342"
      }
     },
     "output_type": "display_data"
    }
   ],
   "source": [
    "show(column(\n",
    "    row(\n",
    "        dataset.selection_evictor,\n",
    "        dataset.selection_patcher,\n",
    "    ),\n",
    "    dataset.sel_table,\n",
    "), notebook_url=notebook_url)"
   ]
  },
  {
   "cell_type": "markdown",
   "id": "2a7bd1d8",
   "metadata": {},
   "source": [
    "<br>"
   ]
  }
 ],
 "metadata": {
  "language_info": {
   "codemirror_mode": {
    "name": "ipython",
    "version": 3
   },
   "file_extension": ".py",
   "mimetype": "text/x-python",
   "name": "python",
   "nbconvert_exporter": "python",
   "pygments_lexer": "ipython3",
   "version": "3.8.16"
  }
 },
 "nbformat": 4,
 "nbformat_minor": 5
}
