{
 "cells": [
  {
   "cell_type": "code",
   "execution_count": null,
   "metadata": {},
   "outputs": [],
   "source": [
    "%load_ext autoreload\n",
    "\n",
    "%autoreload 2"
   ]
  },
  {
   "cell_type": "code",
   "execution_count": null,
   "metadata": {},
   "outputs": [],
   "source": [
    "import sys\n",
    "sys.path.append('../../')"
   ]
  },
  {
   "cell_type": "markdown",
   "metadata": {},
   "source": [
    "### Use a Slider for Filtering Data Points"
   ]
  },
  {
   "cell_type": "code",
   "execution_count": null,
   "metadata": {},
   "outputs": [],
   "source": [
    "import pandas as pd\n",
    "import numpy as np\n",
    "import random"
   ]
  },
  {
   "cell_type": "code",
   "execution_count": null,
   "metadata": {},
   "outputs": [],
   "source": [
    "df = pd.DataFrame({\n",
    "    'x': np.random.uniform(-1.0, 1.0, size=(100,)).tolist(),\n",
    "    'y': np.random.uniform(-1.0, 1.0, size=(100,)).tolist(),\n",
    "    'flag': [random.choice([True, False]) for i in range(100)],\n",
    "})\n",
    "df.head()"
   ]
  },
  {
   "cell_type": "code",
   "execution_count": null,
   "metadata": {},
   "outputs": [],
   "source": [
    "from bokeh.io import output_notebook, show\n",
    "from bokeh.plotting import figure\n",
    "from bokeh.models import ColumnDataSource\n",
    "\n",
    "output_notebook()"
   ]
  },
  {
   "cell_type": "code",
   "execution_count": null,
   "metadata": {},
   "outputs": [],
   "source": [
    "from bokeh.models import RangeSlider\n",
    "from bokeh.layouts import column\n",
    "from bokeh.events import SelectionGeometry\n",
    "from hover.utils.bokeh_helper import servable\n",
    "\n",
    "@servable()\n",
    "def burner():\n",
    "    \"\"\"\n",
    "    Trying to intersect the last manually specified selection with a slider coords/attribute range.\n",
    "    \"\"\"\n",
    "    slider = RangeSlider(start=-1.0, end=1.0, value=(-0.5, 0.5), step=0.01)\n",
    "    source = ColumnDataSource(df)\n",
    "    plot = figure(tools=['poly_select', 'lasso_select', 'pan', 'wheel_zoom'])\n",
    "    plot.circle(source=source)\n",
    "    \n",
    "    last_manual_selection = set()\n",
    "    \n",
    "    def subroutine(lower, upper):\n",
    "        filter_l = set(np.where(df['y'] > lower)[0])\n",
    "        filter_u = set(np.where(df['y'] < upper)[0])\n",
    "        filtered = filter_l.intersection(filter_u)\n",
    "        return filtered\n",
    "    \n",
    "    def selection_callback(event):\n",
    "        \"\"\"\n",
    "        CAUTION: this has to overwrite the last manual selection.\n",
    "        Hence only manual selections should trigger this callback.\n",
    "        \"\"\"\n",
    "        last_manual_selection.clear()\n",
    "        last_manual_selection.update(source.selected.indices.copy())\n",
    "        filtered = subroutine(*slider.value)\n",
    "        print('A')\n",
    "        source.selected.indices = list(filtered.intersection(last_manual_selection))\n",
    "        \n",
    "    def foo(event):\n",
    "        print('B')\n",
    "        \n",
    "    def slider_callback(attr, old, new):\n",
    "        to_select = subroutine(*new)\n",
    "        if last_manual_selection:\n",
    "            to_select = to_select.intersection(last_manual_selection)\n",
    "        source.selected.indices = list(to_select)\n",
    "    \n",
    "    plot.on_event(SelectionGeometry, selection_callback)\n",
    "    plot.on_event(SelectionGeometry, foo)\n",
    "    slider.on_change('value', slider_callback)\n",
    "    \n",
    "    return column(slider, plot)"
   ]
  },
  {
   "cell_type": "code",
   "execution_count": null,
   "metadata": {},
   "outputs": [],
   "source": [
    "handle = burner()\n",
    "show(handle)"
   ]
  },
  {
   "cell_type": "code",
   "execution_count": null,
   "metadata": {},
   "outputs": [],
   "source": []
  }
 ],
 "metadata": {
  "kernelspec": {
   "display_name": "Python 3 (ipykernel)",
   "language": "python",
   "name": "python3"
  },
  "language_info": {
   "codemirror_mode": {
    "name": "ipython",
    "version": 3
   },
   "file_extension": ".py",
   "mimetype": "text/x-python",
   "name": "python",
   "nbconvert_exporter": "python",
   "pygments_lexer": "ipython3",
   "version": "3.9.7"
  }
 },
 "nbformat": 4,
 "nbformat_minor": 4
}
