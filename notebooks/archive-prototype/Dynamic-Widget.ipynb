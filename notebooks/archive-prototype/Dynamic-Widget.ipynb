{
 "cells": [
  {
   "cell_type": "code",
   "execution_count": null,
   "metadata": {},
   "outputs": [],
   "source": [
    "%load_ext autoreload\n",
    "\n",
    "%autoreload 2"
   ]
  },
  {
   "cell_type": "code",
   "execution_count": null,
   "metadata": {},
   "outputs": [],
   "source": [
    "import sys\n",
    "sys.path.append('../../')"
   ]
  },
  {
   "cell_type": "markdown",
   "metadata": {},
   "source": [
    "### Dynamically Change Widget Behavior"
   ]
  },
  {
   "cell_type": "code",
   "execution_count": null,
   "metadata": {},
   "outputs": [],
   "source": [
    "from bokeh.models import Selection, RangeSlider, Button, Dropdown\n",
    "from bokeh.layouts import row, column\n",
    "from bokeh.io import output_notebook, show\n",
    "from hover.utils.bokeh_helper import servable\n",
    "\n",
    "output_notebook()\n",
    "\n",
    "slider = RangeSlider(start=-1.0, end=1.0, value=(-0.5, 0.5), step=0.01)\n",
    "slider.on_change(\"value\", lambda attr, old, new: print(f\"Range changed to {slider.value}\"))\n",
    "\n",
    "@servable()\n",
    "def burner():\n",
    "    arr = ['1', '2', '3']\n",
    "    dropdown = Dropdown(\n",
    "        label=\"Select Element\",\n",
    "        button_type=\"primary\",\n",
    "        menu=arr,\n",
    "    )\n",
    "    \n",
    "    button = Button(label=\"Click Me\", height=100)\n",
    "    def button_callcack(event):\n",
    "        dropdown.menu.append(str(int(dropdown.menu[-1]) + 1))\n",
    "        print(f\"Button Clicked! Got menu: {dropdown.menu}\")\n",
    "    button.on_click(button_callcack)\n",
    "\n",
    "    return column(dropdown, button)\n",
    "\n",
    "handle = burner()\n",
    "show(handle)"
   ]
  },
  {
   "cell_type": "code",
   "execution_count": null,
   "metadata": {},
   "outputs": [],
   "source": []
  }
 ],
 "metadata": {
  "kernelspec": {
   "display_name": "Python 3 (ipykernel)",
   "language": "python",
   "name": "python3"
  },
  "language_info": {
   "codemirror_mode": {
    "name": "ipython",
    "version": 3
   },
   "file_extension": ".py",
   "mimetype": "text/x-python",
   "name": "python",
   "nbconvert_exporter": "python",
   "pygments_lexer": "ipython3",
   "version": "3.9.7"
  }
 },
 "nbformat": 4,
 "nbformat_minor": 4
}
