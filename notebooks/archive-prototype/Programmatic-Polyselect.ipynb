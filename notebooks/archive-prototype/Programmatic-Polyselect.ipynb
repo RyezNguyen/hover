{
 "cells": [
  {
   "cell_type": "code",
   "execution_count": null,
   "metadata": {},
   "outputs": [],
   "source": [
    "%load_ext autoreload\n",
    "\n",
    "%autoreload 2"
   ]
  },
  {
   "cell_type": "code",
   "execution_count": null,
   "metadata": {},
   "outputs": [],
   "source": [
    "import sys\n",
    "sys.path.append('../../')"
   ]
  },
  {
   "cell_type": "markdown",
   "metadata": {},
   "source": [
    "### Use a Event Trigger to Make Selections: **Seems not working**"
   ]
  },
  {
   "cell_type": "code",
   "execution_count": null,
   "metadata": {},
   "outputs": [],
   "source": [
    "import pandas as pd\n",
    "import numpy as np\n",
    "import random"
   ]
  },
  {
   "cell_type": "code",
   "execution_count": null,
   "metadata": {},
   "outputs": [],
   "source": [
    "from bokeh.io import output_notebook, show\n",
    "from bokeh.plotting import figure\n",
    "from bokeh.models import ColumnDataSource\n",
    "\n",
    "output_notebook()"
   ]
  },
  {
   "cell_type": "code",
   "execution_count": null,
   "metadata": {},
   "outputs": [],
   "source": [
    "from bokeh.models import RangeSlider\n",
    "from bokeh.layouts import column\n",
    "from bokeh.events import SelectionGeometry\n",
    "from hover.utils.bokeh_helper import servable\n",
    "\n",
    "def almost_global_select(figure):\n",
    "    select_event = SelectionGeometry(\n",
    "        figure,\n",
    "        geometry={\n",
    "            \"type\": \"poly\",\n",
    "            \"x\": [-1e4, -1e4, 1e4, 1e4],\n",
    "            \"y\": [-1e4, 1e4, 1e4, -1e4],\n",
    "            \"sx\": [None, None, None, None],\n",
    "            \"sy\": [None, None, None, None],\n",
    "        },\n",
    "    )\n",
    "    return select_event\n",
    "\n",
    "@servable()\n",
    "def burner():\n",
    "    \"\"\"\n",
    "    Trying to simulate ploygon-based selections.\n",
    "    \"\"\"\n",
    "    df = pd.DataFrame({\n",
    "        'x': np.random.uniform(-1.0, 1.0, size=(100,)).tolist(),\n",
    "        'y': np.random.uniform(-1.0, 1.0, size=(100,)).tolist(),\n",
    "        'flag': [random.choice([True, False]) for i in range(100)],\n",
    "    })\n",
    "    \n",
    "    source = ColumnDataSource(df)\n",
    "    plot = figure(tools=['poly_select', 'lasso_select'])\n",
    "    plot.circle(source=source)\n",
    "    x_slider = RangeSlider(start=-1.0, end=1.0, value=(-0.5, 0.5), step=0.01)\n",
    "    y_slider = RangeSlider(start=-1.0, end=1.0, value=(-0.5, 0.5), step=0.01)\n",
    "    \n",
    "    def slider_callback(attr, old, new):\n",
    "        x_l, x_r = x_slider.value\n",
    "        y_d, y_u = y_slider.value\n",
    "        select_event = SelectionGeometry(\n",
    "            plot,\n",
    "            geometry={\n",
    "                \"type\": \"poly\",\n",
    "                \"x\": [x_l, x_l, x_r, x_r],\n",
    "                \"y\": [y_d, y_u, y_u, y_d],\n",
    "                #\"sx\": [None, None, None, None],\n",
    "                #\"sy\": [None, None, None, None],\n",
    "            },\n",
    "        )\n",
    "        plot._trigger_event(select_event)\n",
    "        # use a patch to verify the polygon\n",
    "        plot.patch([x_l, x_l, x_r, x_r], [y_d, y_u, y_u, y_d], alpha=0.2, line_width=1)\n",
    "        # check the number of selected points\n",
    "        print(len(source.selected.indices), end=\"\\r\")\n",
    "    \n",
    "    x_slider.on_change('value', slider_callback)\n",
    "    y_slider.on_change('value', slider_callback)\n",
    "    \n",
    "    return column(x_slider, y_slider, plot)"
   ]
  },
  {
   "cell_type": "code",
   "execution_count": null,
   "metadata": {},
   "outputs": [],
   "source": [
    "handle = burner()\n",
    "show(handle)"
   ]
  },
  {
   "cell_type": "code",
   "execution_count": null,
   "metadata": {},
   "outputs": [],
   "source": []
  }
 ],
 "metadata": {
  "kernelspec": {
   "display_name": "Python 3 (ipykernel)",
   "language": "python",
   "name": "python3"
  },
  "language_info": {
   "codemirror_mode": {
    "name": "ipython",
    "version": 3
   },
   "file_extension": ".py",
   "mimetype": "text/x-python",
   "name": "python",
   "nbconvert_exporter": "python",
   "pygments_lexer": "ipython3",
   "version": "3.9.7"
  }
 },
 "nbformat": 4,
 "nbformat_minor": 4
}
