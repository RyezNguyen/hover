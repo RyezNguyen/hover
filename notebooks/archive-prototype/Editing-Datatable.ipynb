{
 "cells": [
  {
   "cell_type": "code",
   "execution_count": null,
   "id": "2bf553ea-eb52-49f8-ae88-da179ca9e793",
   "metadata": {},
   "outputs": [],
   "source": [
    "from bokeh.models import (\n",
    "    Button,\n",
    "    ColumnDataSource,\n",
    "    DataTable,\n",
    "    TableColumn\n",
    ")\n",
    "from bokeh.layouts import column\n",
    "from hover.utils.bokeh_helper import servable\n",
    "\n",
    "@servable()\n",
    "def burner():\n",
    "    df = pd.DataFrame({\n",
    "        'f0': np.random.uniform(-1.0, 1.0, size=(100,)).tolist(),\n",
    "        'f1': np.random.uniform(-1.0, 1.0, size=(100,)).tolist(),\n",
    "        'f2': np.random.uniform(-1.0, 1.0, size=(100,)).tolist(),\n",
    "        'f3': np.random.uniform(-1.0, 1.0, size=(100,)).tolist(),\n",
    "    })\n",
    "    forward_button = Button(label=\"df-to-table\")\n",
    "    backward_button = Button(label=\"table-to-df\")\n",
    "    \n",
    "    sel_source = ColumnDataSource(dict())\n",
    "    show_columns = ['f0', 'f2']\n",
    "    sel_columns = [TableColumn(field=_col, title=_col) for _col in show_columns]\n",
    "    sel_table = DataTable(source=sel_source, columns=sel_columns, selectable=\"checkbox\", editable=True)\n",
    "    \n",
    "    def df_to_table(event):\n",
    "        sel_source.data = df.to_dict(orient=\"list\")\n",
    "    \n",
    "    def table_to_df(event):\n",
    "        indices = sel_source.selected.indices\n",
    "        for _col in show_columns:\n",
    "            _values = sel_source.data[_col]\n",
    "            _patches = [_values[i] for i in indices]\n",
    "            df.loc[indices, _col] = _patches\n",
    "            print(_col, indices, len(_patches))\n",
    "    \n",
    "    forward_button.on_click(df_to_table)\n",
    "    backward_button.on_click(table_to_df)\n",
    "    return column(forward_button, backward_button, sel_table)"
   ]
  },
  {
   "cell_type": "code",
   "execution_count": null,
   "id": "1446d4c0-8da7-4101-9816-9b30297036aa",
   "metadata": {},
   "outputs": [],
   "source": [
    "handle = burner()\n",
    "show(handle)"
   ]
  }
 ],
 "metadata": {
  "kernelspec": {
   "display_name": "Python 3 (ipykernel)",
   "language": "python",
   "name": "python3"
  },
  "language_info": {
   "codemirror_mode": {
    "name": "ipython",
    "version": 3
   },
   "file_extension": ".py",
   "mimetype": "text/x-python",
   "name": "python",
   "nbconvert_exporter": "python",
   "pygments_lexer": "ipython3",
   "version": "3.9.7"
  }
 },
 "nbformat": 4,
 "nbformat_minor": 5
}
