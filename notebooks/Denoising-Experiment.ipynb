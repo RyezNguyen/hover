{
 "cells": [
  {
   "cell_type": "code",
   "execution_count": null,
   "metadata": {},
   "outputs": [],
   "source": [
    "%load_ext autoreload\n",
    "\n",
    "%autoreload 2"
   ]
  },
  {
   "cell_type": "code",
   "execution_count": null,
   "metadata": {},
   "outputs": [],
   "source": [
    "from hover.core.neural import MultiVectorNet, VectorNet\n",
    "from hover.core.dataset import SupervisableTextDataset\n",
    "from hover.utils.datasets import newsgroups_dictl"
   ]
  },
  {
   "cell_type": "code",
   "execution_count": null,
   "metadata": {},
   "outputs": [],
   "source": [
    "data_dict, label_encoder, label_decoder = newsgroups_dictl()"
   ]
  },
  {
   "cell_type": "code",
   "execution_count": null,
   "metadata": {},
   "outputs": [],
   "source": [
    "import random\n",
    "from tqdm import tqdm\n",
    "from collections import Counter\n",
    "\n",
    "all_labels = sorted([_l for _l in label_encoder.keys() if label_encoder[_l] >= 0], key=lambda x: label_encoder[x])\n",
    "\n",
    "def mutation(entry_dict, prob=0.5, field='label', pool=all_labels):\n",
    "    result_dict = entry_dict.copy()\n",
    "    if random.uniform(0.0, 1.0) < prob:\n",
    "        result_dict['label'] = random.sample(pool, 1)[0]\n",
    "    return result_dict\n",
    "\n",
    "mutated_train_dictl = [mutation(_entry) for _entry in tqdm(data_dict['train'])]\n",
    "Counter([_d['label'] for _d in data_dict['train']]), Counter([_d['label'] for _d in mutated_train_dictl])"
   ]
  },
  {
   "cell_type": "code",
   "execution_count": null,
   "metadata": {},
   "outputs": [],
   "source": [
    "dataset = SupervisableTextDataset(\n",
    "    raw_dictl=[],\n",
    "    train_dictl=mutated_train_dictl,\n",
    "    dev_dictl=data_dict['test'],\n",
    "    test_dictl=[],\n",
    "    feature_key=\"text\",\n",
    "    label_key=\"label\",\n",
    ")"
   ]
  },
  {
   "cell_type": "code",
   "execution_count": null,
   "metadata": {},
   "outputs": [],
   "source": [
    "from importlib import import_module\n",
    "\n",
    "model_modules = [\n",
    "    import_module(_m) for _m in [\n",
    "        'model1',\n",
    "        'model2',\n",
    "        'model3',\n",
    "        #'model4',\n",
    "    ]\n",
    "]"
   ]
  },
  {
   "cell_type": "code",
   "execution_count": null,
   "metadata": {},
   "outputs": [],
   "source": [
    "multinetA = MultiVectorNet([VectorNet.from_module(_m, all_labels) for _m in model_modules], verbose=1)\n",
    "#multinetB = MultiVectorNet([VectorNet.from_module(_m, all_labels) for _m in model_modules], verbose=1)"
   ]
  },
  {
   "cell_type": "code",
   "execution_count": null,
   "metadata": {},
   "outputs": [],
   "source": [
    "vectorizers = [_net.vectorizer for _net in multinetA.vector_nets]\n",
    "train_loader = dataset.loader('train', *vectorizers, smoothing_coeff=0.1, batch_size=128)\n",
    "dev_loader = dataset.loader('dev', *vectorizers, smoothing_coeff=0.0, batch_size=128)"
   ]
  },
  {
   "cell_type": "code",
   "execution_count": null,
   "metadata": {},
   "outputs": [],
   "source": [
    "from hover.utils.denoising import identity_adjacency, cyclic_except_last\n",
    "\n",
    "def get_params(warmup_epochs=5, coteach_epochs=10, forget_rate=0.3):\n",
    "    for i in range(warmup_epochs):\n",
    "        yield {\n",
    "            \"forget_rate\": 0.0,\n",
    "            \"optimizer\": [{\"lr\": 0.1, \"momentum\": 0.9}] * 4,\n",
    "            \"adjacency_function\": identity_adjacency,\n",
    "        }\n",
    "    for i in range(coteach_epochs):\n",
    "        yield {\n",
    "            \"forget_rate\": forget_rate,\n",
    "            \"optimizer\": [{\"lr\": 0.01, \"momentum\": 0.9}] * 4,\n",
    "            \"adjacency_function\": cyclic_except_last,\n",
    "        }\n",
    "\n",
    "paramsA = get_params(warmup_epochs=5, coteach_epochs=10, forget_rate=0.5)\n",
    "paramsB = get_params(warmup_epochs=15, coteach_epochs=0, forget_rate=0.0)"
   ]
  },
  {
   "cell_type": "markdown",
   "metadata": {},
   "source": [
    "#### Quick Notes\n",
    "\n",
    "2021-09-08: forget rate has been helpful. Cyclic coteaching has not."
   ]
  },
  {
   "cell_type": "code",
   "execution_count": null,
   "metadata": {},
   "outputs": [],
   "source": [
    "multinetA.train(train_loader, paramsA, dev_loader=dev_loader)\n",
    "multinetA.evaluate_ensemble(dev_loader)"
   ]
  },
  {
   "cell_type": "code",
   "execution_count": null,
   "metadata": {},
   "outputs": [],
   "source": [
    "multinetB.train(train_loader, paramsB, dev_loader=dev_loader)\n",
    "multinetB.evaluate_ensemble(dev_loader)"
   ]
  },
  {
   "cell_type": "code",
   "execution_count": null,
   "metadata": {},
   "outputs": [],
   "source": []
  }
 ],
 "metadata": {
  "kernelspec": {
   "display_name": "Python 3",
   "language": "python",
   "name": "python3"
  },
  "language_info": {
   "codemirror_mode": {
    "name": "ipython",
    "version": 3
   },
   "file_extension": ".py",
   "mimetype": "text/x-python",
   "name": "python",
   "nbconvert_exporter": "python",
   "pygments_lexer": "ipython3",
   "version": "3.6.10"
  }
 },
 "nbformat": 4,
 "nbformat_minor": 4
}
