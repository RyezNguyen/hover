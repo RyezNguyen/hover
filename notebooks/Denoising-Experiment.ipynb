{
 "cells": [
  {
   "cell_type": "code",
   "execution_count": null,
   "metadata": {},
   "outputs": [],
   "source": [
    "%load_ext autoreload\n",
    "\n",
    "%autoreload 2"
   ]
  },
  {
   "cell_type": "code",
   "execution_count": null,
   "metadata": {},
   "outputs": [],
   "source": [
    "import sys\n",
    "sys.path.append('../')"
   ]
  },
  {
   "cell_type": "code",
   "execution_count": null,
   "metadata": {},
   "outputs": [],
   "source": [
    "from hover.core.neural import MultiVectorNet, VectorNet\n",
    "from hover.core.dataset import SupervisableTextDataset\n",
    "from hover.utils.datasets import newsgroups_dictl"
   ]
  },
  {
   "cell_type": "code",
   "execution_count": null,
   "metadata": {},
   "outputs": [],
   "source": [
    "data_dict, label_encoder, label_decoder = newsgroups_dictl()"
   ]
  },
  {
   "cell_type": "code",
   "execution_count": null,
   "metadata": {},
   "outputs": [],
   "source": [
    "import random\n",
    "from tqdm import tqdm\n",
    "from collections import Counter\n",
    "\n",
    "all_labels = sorted([_l for _l in label_encoder.keys() if label_encoder[_l] >= 0], key=lambda x: label_encoder[x])\n",
    "\n",
    "def mutation(entry_dict, prob=0.5, field='label', pool=all_labels):\n",
    "    result_dict = entry_dict.copy()\n",
    "    if random.uniform(0.0, 1.0) < prob:\n",
    "        result_dict['label'] = random.sample(pool, 1)[0]\n",
    "    return result_dict\n",
    "\n",
    "mutated_train_dictl = [mutation(_entry) for _entry in tqdm(data_dict['train'])]\n",
    "Counter([_d['label'] for _d in data_dict['train']]), Counter([_d['label'] for _d in mutated_train_dictl])"
   ]
  },
  {
   "cell_type": "code",
   "execution_count": null,
   "metadata": {},
   "outputs": [],
   "source": [
    "dataset = SupervisableTextDataset(\n",
    "    raw_dictl=[],\n",
    "    train_dictl=mutated_train_dictl,\n",
    "    dev_dictl=data_dict['test'],\n",
    "    test_dictl=[],\n",
    "    feature_key=\"text\",\n",
    "    label_key=\"label\",\n",
    ")"
   ]
  },
  {
   "cell_type": "code",
   "execution_count": null,
   "metadata": {},
   "outputs": [],
   "source": [
    "!ls ../fixture_module/*/*/*model.pt*"
   ]
  },
  {
   "cell_type": "code",
   "execution_count": null,
   "metadata": {},
   "outputs": [],
   "source": [
    "!rm ../fixture_module/*/*/*model.pt*"
   ]
  },
  {
   "cell_type": "code",
   "execution_count": null,
   "metadata": {},
   "outputs": [],
   "source": [
    "from importlib import import_module\n",
    "\n",
    "model_modules = [\n",
    "    import_module(_m) for _m in [\n",
    "        #'fixture_module.multi_vector_net.model1',\n",
    "        'fixture_module.multi_vector_net.model2',\n",
    "        'fixture_module.multi_vector_net.model1',\n",
    "        'fixture_module.multi_vector_net.model3',\n",
    "        'fixture_module.multi_vector_net.model4',\n",
    "    ]\n",
    "]"
   ]
  },
  {
   "cell_type": "code",
   "execution_count": null,
   "metadata": {},
   "outputs": [],
   "source": [
    "multi_a = MultiVectorNet([VectorNet.from_module(_m, all_labels) for _m in model_modules], verbose=10)\n",
    "multi_b = MultiVectorNet([VectorNet.from_module(_m, all_labels) for _m in model_modules], verbose=10)"
   ]
  },
  {
   "cell_type": "code",
   "execution_count": null,
   "metadata": {},
   "outputs": [],
   "source": [
    "vectorizers = [_net.vectorizer for _net in multi_a.vector_nets]\n",
    "train_loader = dataset.loader('train', *vectorizers, smoothing_coeff=0.1, batch_size=256)\n",
    "dev_loader = dataset.loader('dev', *vectorizers, smoothing_coeff=0.0, batch_size=256)"
   ]
  },
  {
   "cell_type": "markdown",
   "metadata": {},
   "source": [
    "#### Quick Notes\n",
    "\n",
    "2021-09-08: forget rate has been helpful. Cyclic coteaching has not."
   ]
  },
  {
   "cell_type": "code",
   "execution_count": null,
   "metadata": {
    "tags": []
   },
   "outputs": [],
   "source": [
    "kwargs_a = dict(\n",
    "    warmup_epochs=40,\n",
    "    warmup_noise=0.0,\n",
    "    warmup_lr=0.05,\n",
    "    warmup_momentum=0.9,\n",
    "    postwm_epochs=40,\n",
    "    postwm_noise=0.5,\n",
    "    postwm_lr=0.01,\n",
    "    postwm_momentum=0.7,\n",
    ")\n",
    "kwargs_b = dict(\n",
    "    warmup_epochs=40,\n",
    "    warmup_noise=0.0,\n",
    "    warmup_lr=0.05,\n",
    "    warmup_momentum=0.9,\n",
    "    postwm_epochs=40,\n",
    "    postwm_noise=0.0,\n",
    "    postwm_lr=0.01,\n",
    "    postwm_momentum=0.7,\n",
    ")\n",
    "\n",
    "# train both MultiVectorNets\n",
    "train_info_a = multi_a.train(train_loader, dev_loader=dev_loader, **kwargs_a)"
   ]
  },
  {
   "cell_type": "code",
   "execution_count": null,
   "metadata": {},
   "outputs": [],
   "source": [
    "train_info_b = multi_b.train(train_loader, dev_loader=dev_loader, **kwargs_b)"
   ]
  },
  {
   "cell_type": "code",
   "execution_count": null,
   "metadata": {},
   "outputs": [],
   "source": [
    "multi_a.evaluate_ensemble(dev_loader)[0]"
   ]
  },
  {
   "cell_type": "code",
   "execution_count": null,
   "metadata": {},
   "outputs": [],
   "source": [
    "multi_b.evaluate_ensemble(dev_loader)[0]"
   ]
  },
  {
   "cell_type": "code",
   "execution_count": null,
   "metadata": {},
   "outputs": [],
   "source": []
  }
 ],
 "metadata": {
  "kernelspec": {
   "display_name": "Python 3 (ipykernel)",
   "language": "python",
   "name": "python3"
  },
  "language_info": {
   "codemirror_mode": {
    "name": "ipython",
    "version": 3
   },
   "file_extension": ".py",
   "mimetype": "text/x-python",
   "name": "python",
   "nbconvert_exporter": "python",
   "pygments_lexer": "ipython3",
   "version": "3.9.7"
  }
 },
 "nbformat": 4,
 "nbformat_minor": 4
}
