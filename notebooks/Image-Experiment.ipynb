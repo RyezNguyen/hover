{
 "cells": [
  {
   "cell_type": "code",
   "execution_count": null,
   "id": "4e78f829-57e4-4bb8-b696-9173057943fe",
   "metadata": {},
   "outputs": [],
   "source": [
    "import sys\n",
    "sys.path.append('../')"
   ]
  },
  {
   "cell_type": "code",
   "execution_count": null,
   "id": "dba2348a-bb21-4896-a7be-e2cf4d4daff5",
   "metadata": {},
   "outputs": [],
   "source": []
  },
  {
   "cell_type": "code",
   "execution_count": null,
   "id": "ced47d3d-e030-4136-87b8-377b302a84d6",
   "metadata": {},
   "outputs": [],
   "source": [
    "import pandas as pd\n",
    "\n",
    "df = pd.read_csv('imagenet_custom.csv').sample(frac=1.0).reset_index(drop=True)\n",
    "df.head()"
   ]
  },
  {
   "cell_type": "code",
   "execution_count": null,
   "id": "1e1b71ea-b811-4810-9915-9f542829fe13",
   "metadata": {},
   "outputs": [],
   "source": [
    "df['SUBSET'] = 'raw'\n",
    "df['image1'] = df['image']\n",
    "df.loc[500:800, 'SUBSET'] = 'train'\n",
    "df.loc[800:900, 'SUBSET'] = 'dev'\n",
    "df.loc[900:, 'SUBSET'] = 'test'"
   ]
  },
  {
   "cell_type": "code",
   "execution_count": null,
   "id": "b2f81c8a-66ba-400a-9d2d-54abb1a852ab",
   "metadata": {},
   "outputs": [],
   "source": [
    "import pandas as pd\n",
    "from hover.core.dataset import SupervisableImageDataset\n",
    "\n",
    "# skip this block if EXPORT_PATH does not have a corresponding file\n",
    "dataset = SupervisableImageDataset.from_pandas(df)"
   ]
  },
  {
   "cell_type": "code",
   "execution_count": null,
   "id": "8ee2b295-343c-4e32-a651-c2a0fe2c9a45",
   "metadata": {},
   "outputs": [],
   "source": [
    "from fixture_module import image_vector_net\n",
    "\n",
    "vectorizer = image_vector_net.get_vectorizer()"
   ]
  },
  {
   "cell_type": "code",
   "execution_count": null,
   "id": "727fab83-57b7-4267-a1ca-2f76fa863ad7",
   "metadata": {},
   "outputs": [],
   "source": [
    "dataset.compute_nd_embedding(vectorizer, \"umap\", dimension=2)\n",
    "dataset.dfs[\"raw\"].head(5)"
   ]
  },
  {
   "cell_type": "code",
   "execution_count": null,
   "id": "e2877436-e5c3-483c-85ae-84b66da59977",
   "metadata": {},
   "outputs": [],
   "source": [
    "from hover.recipes import simple_annotator\n",
    "from hover.utils.bokeh_helper import bokeh_hover_tooltip\n",
    "from bokeh.io import show, output_notebook\n",
    "\n",
    "handle = simple_annotator(\n",
    "    dataset.copy(), width=800, height=600,\n",
    "    #tooltips=bokeh_hover_tooltip(label={\"label\": \"Label\"}, image={\"image\": 60, \"image1\": 80}),\n",
    ")\n",
    "\n",
    "output_notebook()\n",
    "show(handle)"
   ]
  },
  {
   "cell_type": "code",
   "execution_count": null,
   "id": "6264287b-0e98-4785-9ee1-d5e22cd54256",
   "metadata": {},
   "outputs": [],
   "source": []
  },
  {
   "cell_type": "code",
   "execution_count": null,
   "id": "2c2535ed-de5a-49e5-ab52-6b9ac6852ab8",
   "metadata": {},
   "outputs": [],
   "source": []
  }
 ],
 "metadata": {
  "kernelspec": {
   "display_name": "Python 3 (ipykernel)",
   "language": "python",
   "name": "python3"
  },
  "language_info": {
   "codemirror_mode": {
    "name": "ipython",
    "version": 3
   },
   "file_extension": ".py",
   "mimetype": "text/x-python",
   "name": "python",
   "nbconvert_exporter": "python",
   "pygments_lexer": "ipython3",
   "version": "3.9.7"
  }
 },
 "nbformat": 4,
 "nbformat_minor": 5
}
