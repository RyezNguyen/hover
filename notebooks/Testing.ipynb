{
 "cells": [
  {
   "cell_type": "code",
   "execution_count": null,
   "metadata": {},
   "outputs": [],
   "source": [
    "%load_ext autoreload\n",
    "\n",
    "%autoreload 2"
   ]
  },
  {
   "cell_type": "code",
   "execution_count": null,
   "metadata": {},
   "outputs": [],
   "source": [
    "import sys\n",
    "sys.path.append('../')"
   ]
  },
  {
   "cell_type": "markdown",
   "metadata": {},
   "source": [
    "### DataTable"
   ]
  },
  {
   "cell_type": "code",
   "execution_count": null,
   "metadata": {},
   "outputs": [],
   "source": [
    "import pandas as pd\n",
    "import random"
   ]
  },
  {
   "cell_type": "code",
   "execution_count": null,
   "metadata": {},
   "outputs": [],
   "source": [
    "df = pd.DataFrame({\"value\": [random.randint(0,100) for i in range(100)]})"
   ]
  },
  {
   "cell_type": "code",
   "execution_count": null,
   "metadata": {},
   "outputs": [],
   "source": [
    "num_rows = df.shape[0]\n",
    "\n",
    "df['rank'] = df['value'].rank()\n",
    "df['alpha'] = df['value'].rank().apply(lambda x: 0.1 + 0.8 * (x / num_rows))"
   ]
  },
  {
   "cell_type": "code",
   "execution_count": null,
   "metadata": {},
   "outputs": [],
   "source": [
    "df.head()"
   ]
  },
  {
   "cell_type": "code",
   "execution_count": null,
   "metadata": {},
   "outputs": [],
   "source": [
    "from bokeh.models import Legend, LegendItem\n",
    "from bokeh.plotting import figure, show, output_notebook\n",
    "output_notebook()"
   ]
  },
  {
   "cell_type": "code",
   "execution_count": null,
   "metadata": {},
   "outputs": [],
   "source": [
    "from bokeh.io import output_notebook, show\n",
    "output_notebook()\n",
    "\n",
    "from random import randint\n",
    "from bokeh.io import output_file, show\n",
    "from bokeh.models import ColumnDataSource\n",
    "from bokeh.models.widgets import DataTable, DateFormatter, TableColumn, HTMLTemplateFormatter\n",
    "from bokeh.palettes import Category10\n",
    "\n",
    "data = dict(\n",
    "    cola=[randint(0, 100) for i in range(10)],\n",
    "    colb=Category10[10],\n",
    "    colc=['&#9608;' for i in range(10)]\n",
    ")\n",
    "\n",
    "source = ColumnDataSource(data)\n",
    "\n",
    "template=\"\"\"                \n",
    "            <p style=\"color:<%= colb %>;\"> \n",
    "                <%= \"&#9608;\" + value %>\n",
    "            </p>\n",
    "            \"\"\"\n",
    "formatter =  HTMLTemplateFormatter(template=template)\n",
    "\n",
    "columns = [TableColumn(field=\"cola\", title=\"CL1\", width = 100),\n",
    "           TableColumn(field='colb', title='CL2', formatter=formatter, width = 100),\n",
    "           TableColumn(field='colc', title='CL3', formatter=formatter, width = 5)\n",
    "          ]\n",
    "data_table = DataTable(source=source,\n",
    "                       columns=columns,\n",
    "                       fit_columns=True,\n",
    "                       selectable = True,\n",
    "                       sortable = True,\n",
    "                       width=400,height=400)\n",
    "\n",
    "show(data_table)"
   ]
  },
  {
   "cell_type": "markdown",
   "metadata": {},
   "source": [
    "### Experimental Recipe\n",
    "\n",
    "EXPORT_PATH is for saving/loading a pre-processed dataset. \n",
    "\n",
    "This helps skip potentially time-consuming operations like vectorization/UMAP."
   ]
  },
  {
   "cell_type": "code",
   "execution_count": null,
   "metadata": {},
   "outputs": [],
   "source": [
    "import pandas as pd\n",
    "from hover.core.dataset import SupervisableTextDataset\n",
    "\n",
    "EXPORT_PATH = 'example-dataset.csv'"
   ]
  },
  {
   "cell_type": "code",
   "execution_count": null,
   "metadata": {},
   "outputs": [],
   "source": [
    "# skip this block if EXPORT_PATH does not have a corresponding file\n",
    "dataset = SupervisableTextDataset.from_pandas(pd.read_csv(EXPORT_PATH))"
   ]
  },
  {
   "cell_type": "code",
   "execution_count": null,
   "metadata": {},
   "outputs": [],
   "source": [
    "from faker import Faker\n",
    "import random\n",
    "\n",
    "# ---- fake data for illustation ----\n",
    "fake_en = Faker(\"en\")\n",
    "\n",
    "def random_text():\n",
    "    return fake_en.paragraph(3)\n",
    "\n",
    "def random_raw_data():\n",
    "    return {\"content\": random_text()}\n",
    "\n",
    "def random_labeled_data():\n",
    "    return {\"content\": random_text(), \"mark\": random.choice([\"A\", \"B\"])}\n",
    "\n",
    "# -----------------------------------\n",
    "\n",
    "dataset = SupervisableTextDataset(\n",
    "    # raw data which do not have labels\n",
    "    raw_dictl=[random_raw_data() for i in range(3000)],\n",
    "    # train / dev / test sets are optional\n",
    "    #train_dictl=[],\n",
    "    train_dictl=[random_labeled_data() for i in range(500)],\n",
    "    dev_dictl=[random_labeled_data() for i in range(50)],\n",
    "    test_dictl=[random_labeled_data() for i in range(50)],\n",
    "    # adjust feature_key and label_key to your data\n",
    "    feature_key=\"content\",\n",
    "    label_key=\"mark\",\n",
    ")\n",
    "\n",
    "# each subset is stored in its own DataFrame\n",
    "dataset.dfs[\"raw\"].head(5)"
   ]
  },
  {
   "cell_type": "code",
   "execution_count": null,
   "metadata": {},
   "outputs": [],
   "source": [
    "import spacy\n",
    "import re\n",
    "\n",
    "nlp = spacy.load(\"en_core_web_md\")\n",
    "\n",
    "def vectorizer(text):\n",
    "    clean_text = re.sub(r\"[\\s]+\", r\" \", text)\n",
    "    return nlp(clean_text, disable=nlp.pipe_names).vector\n",
    "\n",
    "text = dataset.dfs[\"raw\"].loc[0, \"text\"]\n",
    "vec = vectorizer(text)\n",
    "print(f\"Text: {text}\")\n",
    "print(f\"Vector shape: {vec.shape}\")"
   ]
  },
  {
   "cell_type": "code",
   "execution_count": null,
   "metadata": {},
   "outputs": [],
   "source": [
    "# any kwargs will be passed onto the corresponding reduction\n",
    "# for umap: https://umap-learn.readthedocs.io/en/latest/parameters.html\n",
    "# for ivis: https://bering-ivis.readthedocs.io/en/latest/api.html\n",
    "dataset.compute_2d_embedding(vectorizer, \"umap\")\n",
    "\n",
    "# What we did adds 'x' and 'y' columns to the DataFrames in dataset.dfs\n",
    "# One could alternatively pre-compute these columns using any approach\n",
    "dataset.dfs[\"raw\"].head(5)"
   ]
  },
  {
   "cell_type": "code",
   "execution_count": null,
   "metadata": {},
   "outputs": [],
   "source": [
    "#dataset.to_pandas().to_csv(EXPORT_PATH, index=False)"
   ]
  },
  {
   "cell_type": "code",
   "execution_count": null,
   "metadata": {},
   "outputs": [],
   "source": [
    "from hover.core.neural import VectorNet, MultiVectorNet\n",
    "from hover.utils.common_nn import MLP, LogisticRegression\n",
    "\n",
    "def vecnet_callback(dataset):\n",
    "    \"\"\"\n",
    "    Create a model with vectorizer-NN architecture.\n",
    "    \"\"\"\n",
    "    vecnets = [\n",
    "        VectorNet(vectorizer, LogisticRegression, \"LR1.pt\", dataset.classes),\n",
    "        VectorNet(vectorizer, LogisticRegression, \"LR2.pt\", dataset.classes),\n",
    "    ]\n",
    "    #return MultiVectorNet(vecnets)\n",
    "    return vecnets[0]\n",
    "\n",
    "vecnet = vecnet_callback(dataset)\n",
    "\n",
    "# predict_proba accepts individual strings or list\n",
    "# text -> vector -> class probabilities\n",
    "print(vecnet.predict_proba(text))\n",
    "print(vecnet.predict_proba([text]))"
   ]
  },
  {
   "cell_type": "code",
   "execution_count": null,
   "metadata": {},
   "outputs": [],
   "source": [
    "from hover.recipes.experimental import active_learning\n",
    "from bokeh.io import show, output_notebook\n",
    "\n",
    "handle = active_learning(dataset.copy(), vecnet_callback)\n",
    "\n",
    "output_notebook()\n",
    "show(handle)"
   ]
  },
  {
   "cell_type": "code",
   "execution_count": null,
   "metadata": {},
   "outputs": [],
   "source": []
  },
  {
   "cell_type": "code",
   "execution_count": null,
   "metadata": {},
   "outputs": [],
   "source": [
    "import numpy as np\n",
    "\n",
    "arr = np.array([1, 2])"
   ]
  },
  {
   "cell_type": "code",
   "execution_count": null,
   "metadata": {},
   "outputs": [],
   "source": [
    "from bokeh.models import Slider\n",
    "from hover.utils.bokeh_helper import servable\n",
    "\n",
    "@servable()\n",
    "def burner():\n",
    "    slider = Slider(start=0, end=10, value=0, step=1)\n",
    "    \n",
    "    def callback(attr, old, new):\n",
    "        slider.end = new + 1\n",
    "    \n",
    "    slider.on_change('value', callback)\n",
    "    return slider\n",
    "\n",
    "burner_handle = burner()"
   ]
  },
  {
   "cell_type": "code",
   "execution_count": null,
   "metadata": {},
   "outputs": [],
   "source": [
    "show(burner_handle)"
   ]
  },
  {
   "cell_type": "code",
   "execution_count": null,
   "metadata": {},
   "outputs": [],
   "source": []
  }
 ],
 "metadata": {
  "kernelspec": {
   "display_name": "Python 3 (ipykernel)",
   "language": "python",
   "name": "python3"
  },
  "language_info": {
   "codemirror_mode": {
    "name": "ipython",
    "version": 3
   },
   "file_extension": ".py",
   "mimetype": "text/x-python",
   "name": "python",
   "nbconvert_exporter": "python",
   "pygments_lexer": "ipython3",
   "version": "3.9.7"
  }
 },
 "nbformat": 4,
 "nbformat_minor": 4
}
