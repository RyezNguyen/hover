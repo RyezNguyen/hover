{
 "cells": [
  {
   "cell_type": "code",
   "execution_count": null,
   "metadata": {},
   "outputs": [],
   "source": [
    "%load_ext autoreload\n",
    "\n",
    "%autoreload 2"
   ]
  },
  {
   "cell_type": "code",
   "execution_count": null,
   "metadata": {},
   "outputs": [],
   "source": [
    "import sys\n",
    "sys.path.append('../')"
   ]
  },
  {
   "cell_type": "markdown",
   "metadata": {},
   "source": [
    "### Playground"
   ]
  },
  {
   "cell_type": "code",
   "execution_count": null,
   "metadata": {},
   "outputs": [],
   "source": [
    "import pandas as pd\n",
    "import numpy as np\n",
    "import random"
   ]
  },
  {
   "cell_type": "code",
   "execution_count": null,
   "metadata": {},
   "outputs": [],
   "source": [
    "s = set()\n",
    "bool(s)"
   ]
  },
  {
   "cell_type": "code",
   "execution_count": null,
   "metadata": {},
   "outputs": [],
   "source": [
    "df = pd.DataFrame({\n",
    "    'x': np.random.uniform(-1.0, 1.0, size=(100,)).tolist(),\n",
    "    'y': np.random.uniform(-1.0, 1.0, size=(100,)).tolist(),\n",
    "    'flag': [random.choice([True, False]) for i in range(100)],\n",
    "})\n",
    "df.head()"
   ]
  },
  {
   "cell_type": "code",
   "execution_count": null,
   "metadata": {},
   "outputs": [],
   "source": [
    "from bokeh.io import output_notebook, show\n",
    "from bokeh.plotting import figure\n",
    "from bokeh.models import ColumnDataSource"
   ]
  },
  {
   "cell_type": "code",
   "execution_count": null,
   "metadata": {},
   "outputs": [],
   "source": [
    "output_notebook()"
   ]
  },
  {
   "cell_type": "code",
   "execution_count": null,
   "metadata": {},
   "outputs": [],
   "source": [
    "from bokeh.models import RangeSlider\n",
    "from bokeh.layouts import column\n",
    "from bokeh.events import SelectionGeometry\n",
    "from hover.utils.bokeh_helper import servable\n",
    "\n",
    "@servable()\n",
    "def burner():\n",
    "    \"\"\"\n",
    "    Trying to intersect the last manually specified selection with a slider coords/attribute range.\n",
    "    \"\"\"\n",
    "    slider = RangeSlider(start=-1.0, end=1.0, value=(-0.5, 0.5), step=0.01)\n",
    "    source = ColumnDataSource(df)\n",
    "    plot = figure(tools=['poly_select', 'lasso_select', 'pan', 'wheel_zoom'])\n",
    "    plot.circle(source=source)\n",
    "    \n",
    "    last_manual_selection = set()\n",
    "    \n",
    "    def subroutine(lower, upper):\n",
    "        filter_l = set(np.where(df['y'] > lower)[0])\n",
    "        filter_u = set(np.where(df['y'] < upper)[0])\n",
    "        filtered = filter_l.intersection(filter_u)\n",
    "        return filtered\n",
    "    \n",
    "    def selection_callback(event):\n",
    "        \"\"\"\n",
    "        CAUTION: this has to overwrite the last manual selection.\n",
    "        Hence only manual selections should trigger this callback.\n",
    "        \"\"\"\n",
    "        last_manual_selection.clear()\n",
    "        last_manual_selection.update(source.selected.indices.copy())\n",
    "        filtered = subroutine(*slider.value)\n",
    "        print('A')\n",
    "        source.selected.indices = list(filtered.intersection(last_manual_selection))\n",
    "        \n",
    "    def foo(event):\n",
    "        print('B')\n",
    "        \n",
    "    def slider_callback(attr, old, new):\n",
    "        to_select = subroutine(*new)\n",
    "        if last_manual_selection:\n",
    "            to_select = to_select.intersection(last_manual_selection)\n",
    "        source.selected.indices = list(to_select)\n",
    "    \n",
    "    plot.on_event(SelectionGeometry, selection_callback)\n",
    "    plot.on_event(SelectionGeometry, foo)\n",
    "    slider.on_change('value', slider_callback)\n",
    "    \n",
    "    return column(slider, plot)"
   ]
  },
  {
   "cell_type": "code",
   "execution_count": null,
   "metadata": {},
   "outputs": [],
   "source": [
    "handle = burner()"
   ]
  },
  {
   "cell_type": "code",
   "execution_count": null,
   "metadata": {},
   "outputs": [],
   "source": [
    "show(handle)"
   ]
  },
  {
   "cell_type": "code",
   "execution_count": null,
   "metadata": {},
   "outputs": [],
   "source": [
    "from bokeh.io import show\n",
    "from bokeh.models import CheckboxGroup, CustomJS\n",
    "\n",
    "LABELS = [\"Option 1\", \"Option 2\", \"Option 3\"]\n",
    "\n",
    "checkbox_group = CheckboxGroup(labels=LABELS, active=[0, 1])\n",
    "checkbox_group.js_on_click(CustomJS(code=\"\"\"\n",
    "    console.log('checkbox_group: active=' + this.active, this.toString())\n",
    "\"\"\"))\n",
    "\n",
    "show(checkbox_group)"
   ]
  },
  {
   "cell_type": "code",
   "execution_count": null,
   "metadata": {},
   "outputs": [],
   "source": [
    "from bokeh.models import Selection, RangeSlider, Button, Dropdown\n",
    "from bokeh.layouts import row, column\n",
    "from bokeh.io import output_notebook, show\n",
    "from hover.utils.bokeh_helper import servable\n",
    "\n",
    "output_notebook()\n",
    "\n",
    "slider = RangeSlider(start=-1.0, end=1.0, value=(-0.5, 0.5), step=0.01)\n",
    "slider.on_change(\"value\", lambda attr, old, new: print(f\"Range changed to {slider.value}\"))\n",
    "\n",
    "@servable()\n",
    "def burner():\n",
    "    arr = ['1', '2', '3']\n",
    "    dropdown = Dropdown(\n",
    "        label=\"Select Element\",\n",
    "        button_type=\"primary\",\n",
    "        menu=arr,\n",
    "    )\n",
    "    \n",
    "    button = Button(label=\"Click Me\", height=100)\n",
    "    def button_callcack(event):\n",
    "        dropdown.menu.append(str(int(dropdown.menu[-1]) + 1))\n",
    "        print(f\"Button Clicked! Expected menu: {arr}\")\n",
    "        print(f\"Got menu: {dropdown.menu}\")\n",
    "    button.on_click(button_callcack)\n",
    "\n",
    "    return column(dropdown, button)\n",
    "\n",
    "handle = burner()\n",
    "show(handle)"
   ]
  },
  {
   "cell_type": "code",
   "execution_count": null,
   "metadata": {},
   "outputs": [],
   "source": [
    "from bokeh.events import ButtonClick, MenuItemClick\n",
    "\n",
    "button_click = ButtonClick(button)"
   ]
  },
  {
   "cell_type": "code",
   "execution_count": null,
   "metadata": {},
   "outputs": [],
   "source": [
    "button.subscribed_events"
   ]
  },
  {
   "cell_type": "code",
   "execution_count": null,
   "metadata": {},
   "outputs": [],
   "source": [
    "button._trigger_event(button_click)"
   ]
  },
  {
   "cell_type": "code",
   "execution_count": null,
   "metadata": {},
   "outputs": [],
   "source": [
    "help(slider._trigger_event)"
   ]
  },
  {
   "cell_type": "code",
   "execution_count": null,
   "metadata": {},
   "outputs": [],
   "source": [
    "from bokeh.plotting import figure\n",
    "from bokeh.events import SelectionGeometry\n",
    "from hover.utils.bokeh_helper import servable\n",
    "\n",
    "@servable()\n",
    "def burner():\n",
    "    def callback(event):\n",
    "        if event.final:\n",
    "            print('Hi')\n",
    "            print(event.geometry)\n",
    "        return None\n",
    "\n",
    "    plot = figure(tools=[\"lasso_select\", \"poly_select\"])\n",
    "    plot.on_event(SelectionGeometry, callback)\n",
    "    return plot\n",
    "\n",
    "handle = burner()\n",
    "show(handle)"
   ]
  },
  {
   "cell_type": "code",
   "execution_count": null,
   "metadata": {},
   "outputs": [],
   "source": []
  },
  {
   "cell_type": "code",
   "execution_count": null,
   "metadata": {},
   "outputs": [],
   "source": []
  }
 ],
 "metadata": {
  "kernelspec": {
   "display_name": "Python 3 (ipykernel)",
   "language": "python",
   "name": "python3"
  },
  "language_info": {
   "codemirror_mode": {
    "name": "ipython",
    "version": 3
   },
   "file_extension": ".py",
   "mimetype": "text/x-python",
   "name": "python",
   "nbconvert_exporter": "python",
   "pygments_lexer": "ipython3",
   "version": "3.9.7"
  }
 },
 "nbformat": 4,
 "nbformat_minor": 4
}
